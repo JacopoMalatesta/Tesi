{
 "cells": [
  {
   "cell_type": "markdown",
   "id": "29eeb177",
   "metadata": {},
   "source": [
    "1. [Working directory, packages and data](#chapter1)\n",
    "2. [Preprocessing](#chapter2)\n",
    "3. [Dictionaries](#chapter3)\n",
    "4. [Wrapper function](#chapter4)\n",
    "4. [Rooduijn & Pauwels](#chapter5)\n",
    "   1. [Construct validity](#subparagraph1)\n",
    "   2. [Face validity](#subparagraph2)\n",
    "   3. [External validity](#subparagraph3)\n",
    "       1. [CHES](#subparagraph4)\n",
    "       2. [PopuList](#subparagraph5)\n",
    "5. [Decadri & Boussalis](#chapter6)\n",
    "   1. [Construct validity](#subparagraph6)\n",
    "   2. [Face validity](#subparagraph7)\n",
    "   3. [External validity](#subparagraph8)\n",
    "       1. [CHES](#subparagraph9)\n",
    "       2. [PopuList](#subparagraph10)"
   ]
  },
  {
   "cell_type": "markdown",
   "id": "27b553b4",
   "metadata": {},
   "source": [
    "# Working directory, packages and data <a class=\"anchor\" id=\"chapter1\"></a>"
   ]
  },
  {
   "cell_type": "markdown",
   "id": "73da2ecc",
   "metadata": {},
   "source": [
    "Setting the working directory"
   ]
  },
  {
   "cell_type": "code",
   "execution_count": 1,
   "id": "df6990d1",
   "metadata": {},
   "outputs": [],
   "source": [
    "setwd(\"C:/Users/jacop/Tesi/\")"
   ]
  },
  {
   "cell_type": "markdown",
   "id": "69461f87",
   "metadata": {},
   "source": [
    "Loading the libraries"
   ]
  },
  {
   "cell_type": "code",
   "execution_count": 2,
   "id": "e5e36407",
   "metadata": {},
   "outputs": [],
   "source": [
    "suppressWarnings(suppressPackageStartupMessages(library(dtplyr)))\n",
    "suppressWarnings(suppressPackageStartupMessages(library(tidyverse)))\n",
    "suppressWarnings(suppressPackageStartupMessages(library(data.table)))\n",
    "suppressWarnings(suppressPackageStartupMessages(library(quanteda)))"
   ]
  },
  {
   "cell_type": "markdown",
   "id": "5e20cb60",
   "metadata": {},
   "source": [
    "Loading the data"
   ]
  },
  {
   "cell_type": "code",
   "execution_count": 3,
   "id": "c8d55902",
   "metadata": {},
   "outputs": [],
   "source": [
    "load(\"data/parliamentary_groups2.rds\")"
   ]
  },
  {
   "cell_type": "markdown",
   "id": "03cdd226",
   "metadata": {},
   "source": [
    "Creating a lazy data.table out of our dataframe so that we can use dtplyr on it"
   ]
  },
  {
   "cell_type": "code",
   "execution_count": 4,
   "id": "afac1f04",
   "metadata": {},
   "outputs": [],
   "source": [
    "texts <- lazy_dt(Texts)"
   ]
  },
  {
   "cell_type": "markdown",
   "id": "b9113d49",
   "metadata": {},
   "source": [
    "Casting the \"legislatura\" variable as numeric"
   ]
  },
  {
   "cell_type": "code",
   "execution_count": 5,
   "id": "5f796ae9",
   "metadata": {},
   "outputs": [],
   "source": [
    "texts <- texts %>% mutate(legislatura = as.integer(legislatura)) %>% as_tibble()"
   ]
  },
  {
   "cell_type": "markdown",
   "id": "829adabd",
   "metadata": {},
   "source": [
    "Filtering the dataset by focusing on the last seven legislatures"
   ]
  },
  {
   "cell_type": "code",
   "execution_count": 6,
   "id": "8e7d8054",
   "metadata": {},
   "outputs": [],
   "source": [
    "texts <- texts %>% filter(legislatura >= 12) %>% as_tibble()"
   ]
  },
  {
   "cell_type": "markdown",
   "id": "4de77809",
   "metadata": {},
   "source": [
    "Decadri and Boussalis' additional stopwords"
   ]
  },
  {
   "cell_type": "code",
   "execution_count": 7,
   "id": "0cf897fd",
   "metadata": {},
   "outputs": [],
   "source": [
    "db_additional_stopwords  <- suppressMessages(read_csv(\"data/it_stopwords_new_list.csv\")) %>% \n",
    "                            pull(stopwords)"
   ]
  },
  {
   "cell_type": "markdown",
   "id": "4cb42bf8",
   "metadata": {},
   "source": [
    "Procedural stopwords"
   ]
  },
  {
   "cell_type": "code",
   "execution_count": 8,
   "id": "7ad8c424",
   "metadata": {},
   "outputs": [],
   "source": [
    "procedural_stopwords <- suppressMessages(read_csv(\"data/it_stopwords_procedural.csv\")) %>% \n",
    "                        pull(it_stopwords_procedural)"
   ]
  },
  {
   "cell_type": "markdown",
   "id": "c0862500",
   "metadata": {},
   "source": [
    "# Preprocessing <a class=\"anchor\" id=\"chapter2\"></a>"
   ]
  },
  {
   "cell_type": "markdown",
   "id": "793d21fe",
   "metadata": {},
   "source": [
    "Creating the corpus, tokenizing it and removing the stopwords"
   ]
  },
  {
   "cell_type": "code",
   "execution_count": 9,
   "id": "2f3e623d",
   "metadata": {},
   "outputs": [],
   "source": [
    "my_corpus <- corpus(texts, text_field = \"textclean\")\n",
    "\n",
    "toks <- my_corpus %>% \n",
    "        tokens(., remove_punct = TRUE, remove_symbols = TRUE, remove_numbers = TRUE, remove_separators = TRUE)  %>% \n",
    "        tokens_remove(., pattern = stopwords(\"it\"), padding = TRUE) %>% \n",
    "        tokens_remove(., pattern = db_additional_stopwords) %>% \n",
    "        tokens_remove(., pattern = procedural_stopwords)"
   ]
  },
  {
   "cell_type": "markdown",
   "id": "443ddc78",
   "metadata": {},
   "source": [
    "# Dictionaries <a class=\"anchor\" id=\"chapter3\"></a>"
   ]
  },
  {
   "cell_type": "markdown",
   "id": "42bcb1a4",
   "metadata": {},
   "source": [
    "Rooduijn and Pauwels' dictionary"
   ]
  },
  {
   "cell_type": "code",
   "execution_count": 10,
   "id": "07578be8",
   "metadata": {},
   "outputs": [],
   "source": [
    "anti_elitism <- c(\"elit*\", \"consens*\", \"antidemocratic*\", \"referend*\", \"corrot*\", \"propagand*\", \n",
    "                  \"politici*\",\"ingann*\", \"tradi*\", \"vergogn*\", \"scandal*\", \"verita\", \"disonest*\", \n",
    "                  \"partitocrazia\", \"menzogn*\", \"mentir*\")\n",
    "\n",
    "rp_dictionary <- dictionary(list(anti_elitism = anti_elitism))"
   ]
  },
  {
   "cell_type": "markdown",
   "id": "2d2b6b38",
   "metadata": {},
   "source": [
    "Decadri and Boussalis' dictionary"
   ]
  },
  {
   "cell_type": "code",
   "execution_count": 11,
   "id": "13f37f3c",
   "metadata": {},
   "outputs": [],
   "source": [
    "anti_elitism <- c(\"antidemocratic*\", \"casta\", \"consens*\", \"corrot*\", \"disonest*\", \"elit*\", \n",
    "                  \"establishment\", \"ingann*\", \"mentir*\", \"menzogn*\", \"partitocrazia\", \"propagand*\", \n",
    "                  \"scandal*\", \"tradim*\", \"tradir*\", \"tradit*\", \"vergogn*\", \"verita\")\n",
    "\n",
    "people_centrism  <- c(\"abitant*\", \"cittadin*\", \"consumator*\", \"contribuent*\", \"elettor*\", \"gente\", \"popol*\")\n",
    "\n",
    "db_dictionary <- dictionary(list(anti_elitism = anti_elitism, \n",
    "                                 people_centrism = people_centrism))"
   ]
  },
  {
   "cell_type": "markdown",
   "id": "df5ad07d",
   "metadata": {},
   "source": [
    "# Wrapper function <a class=\"anchor\" id=\"chapter4\"></a>"
   ]
  },
  {
   "cell_type": "code",
   "execution_count": 12,
   "id": "f5a3e3b1",
   "metadata": {},
   "outputs": [],
   "source": [
    "dict_analysis <- function(tokens, dictionary) {\n",
    "    \n",
    "  # Applying Rooduijn and Pauwels' dictionary  \n",
    "  \n",
    "  if (dictionary == \"Rooduijn_Pauwels\") {\n",
    "  \n",
    "  my_dict_lookup <- tokens_lookup(x = tokens, dictionary = rp_dictionary)\n",
    "  \n",
    "  dat <- dfm(my_dict_lookup) %>% \n",
    "         convert(., to = \"data.frame\") %>% \n",
    "         mutate(party = docvars(my_corpus)$gruppoP,\n",
    "                year = docvars(my_corpus)$year,\n",
    "                group_cluster = docvars(my_corpus)$group_cluster,\n",
    "                total_toks = ntoken(tokens),\n",
    "                perc_of_populist_toks = anti_elitism / total_toks,\n",
    "                standardized_perc_of_populist_toks = scale(perc_of_populist_toks)) %>% \n",
    "         relocate(doc_id, party, year, group_cluster, anti_elitism, total_toks, perc_of_populist_toks, \n",
    "                 perc_of_populist_toks, standardized_perc_of_populist_toks) %>% \n",
    "         as_tibble()\n",
    "\n",
    "  }\n",
    "    \n",
    "  # Applying Decadri and Boussalis' dictionary\n",
    "  \n",
    "  if (dictionary == \"Decadri_Boussalis\") {\n",
    "    \n",
    "    my_dict_lookup <- tokens_lookup(x = tokens, dictionary = db_dictionary)\n",
    "    \n",
    "    dat <- dfm(my_dict_lookup) %>% \n",
    "           convert(., to = \"data.frame\") %>% \n",
    "           mutate(party = docvars(my_corpus)$gruppoP,\n",
    "                  year = docvars(my_corpus)$year,\n",
    "                  group_cluster = docvars(my_corpus)$group_cluster,\n",
    "                  total_toks = ntoken(tokens),\n",
    "                  populist_toks = anti_elitism + people_centrism,\n",
    "                  perc_of_populist_toks = populist_toks / total_toks,\n",
    "                  standardized_perc_of_populist_toks = scale(perc_of_populist_toks)) %>% \n",
    "          relocate(doc_id, party, year, group_cluster, anti_elitism, people_centrism, \n",
    "                   populist_toks, total_toks, perc_of_populist_toks, perc_of_populist_toks,\n",
    "                   standardized_perc_of_populist_toks) %>% \n",
    "          as_tibble()\n",
    "    \n",
    "  }\n",
    "  \n",
    "  return(dat)\n",
    "  \n",
    "}\n"
   ]
  },
  {
   "cell_type": "markdown",
   "id": "87740287",
   "metadata": {},
   "source": [
    "# Rooduijn & Pauwels <a class=\"anchor\" id=\"chapter5\"></a>"
   ]
  },
  {
   "cell_type": "markdown",
   "id": "be198dd3",
   "metadata": {},
   "source": [
    "Let's run the dictionary analysis by using Roodujin and Pauwels' dictionary"
   ]
  },
  {
   "cell_type": "code",
   "execution_count": 13,
   "id": "77e1ce64",
   "metadata": {},
   "outputs": [],
   "source": [
    "df_rp <- dict_analysis(tokens = toks, dictionary = \"Rooduijn_Pauwels\")"
   ]
  },
  {
   "cell_type": "markdown",
   "id": "4916e01c",
   "metadata": {},
   "source": [
    "The first rows of the dataframe"
   ]
  },
  {
   "cell_type": "code",
   "execution_count": 14,
   "id": "24ffea77",
   "metadata": {},
   "outputs": [
    {
     "data": {
      "text/html": [
       "<table class=\"dataframe\">\n",
       "<caption>A tibble: 6 × 8</caption>\n",
       "<thead>\n",
       "\t<tr><th scope=col>doc_id</th><th scope=col>party</th><th scope=col>year</th><th scope=col>group_cluster</th><th scope=col>anti_elitism</th><th scope=col>total_toks</th><th scope=col>perc_of_populist_toks</th><th scope=col>standardized_perc_of_populist_toks</th></tr>\n",
       "\t<tr><th scope=col>&lt;chr&gt;</th><th scope=col>&lt;chr&gt;</th><th scope=col>&lt;int&gt;</th><th scope=col>&lt;chr&gt;</th><th scope=col>&lt;dbl&gt;</th><th scope=col>&lt;int&gt;</th><th scope=col>&lt;dbl&gt;</th><th scope=col>&lt;dbl[,1]&gt;</th></tr>\n",
       "</thead>\n",
       "<tbody>\n",
       "\t<tr><td>text1</td><td>F-ITA   </td><td>1994</td><td>9_evolutionGroup </td><td>0</td><td>13</td><td>0</td><td>-0.1561156</td></tr>\n",
       "\t<tr><td>text2</td><td>PROGR-F </td><td>1994</td><td>1_evolutionGroup </td><td>0</td><td> 3</td><td>0</td><td>-0.1561156</td></tr>\n",
       "\t<tr><td>text3</td><td>LEGA-N  </td><td>1994</td><td>10_evolutionGroup</td><td>0</td><td>40</td><td>0</td><td>-0.1561156</td></tr>\n",
       "\t<tr><td>text4</td><td>RC-PROGR</td><td>1994</td><td>12_evolutionGroup</td><td>0</td><td> 3</td><td>0</td><td>-0.1561156</td></tr>\n",
       "\t<tr><td>text5</td><td>PROGR-F </td><td>1994</td><td>1_evolutionGroup </td><td>0</td><td> 4</td><td>0</td><td>-0.1561156</td></tr>\n",
       "\t<tr><td>text6</td><td>PPI     </td><td>1994</td><td>2_evolutionGroup </td><td>0</td><td> 3</td><td>0</td><td>-0.1561156</td></tr>\n",
       "</tbody>\n",
       "</table>\n"
      ],
      "text/latex": [
       "A tibble: 6 × 8\n",
       "\\begin{tabular}{llllllll}\n",
       " doc\\_id & party & year & group\\_cluster & anti\\_elitism & total\\_toks & perc\\_of\\_populist\\_toks & standardized\\_perc\\_of\\_populist\\_toks\\\\\n",
       " <chr> & <chr> & <int> & <chr> & <dbl> & <int> & <dbl> & <dbl{[},1{]}>\\\\\n",
       "\\hline\n",
       "\t text1 & F-ITA    & 1994 & 9\\_evolutionGroup  & 0 & 13 & 0 & -0.1561156\\\\\n",
       "\t text2 & PROGR-F  & 1994 & 1\\_evolutionGroup  & 0 &  3 & 0 & -0.1561156\\\\\n",
       "\t text3 & LEGA-N   & 1994 & 10\\_evolutionGroup & 0 & 40 & 0 & -0.1561156\\\\\n",
       "\t text4 & RC-PROGR & 1994 & 12\\_evolutionGroup & 0 &  3 & 0 & -0.1561156\\\\\n",
       "\t text5 & PROGR-F  & 1994 & 1\\_evolutionGroup  & 0 &  4 & 0 & -0.1561156\\\\\n",
       "\t text6 & PPI      & 1994 & 2\\_evolutionGroup  & 0 &  3 & 0 & -0.1561156\\\\\n",
       "\\end{tabular}\n"
      ],
      "text/markdown": [
       "\n",
       "A tibble: 6 × 8\n",
       "\n",
       "| doc_id &lt;chr&gt; | party &lt;chr&gt; | year &lt;int&gt; | group_cluster &lt;chr&gt; | anti_elitism &lt;dbl&gt; | total_toks &lt;int&gt; | perc_of_populist_toks &lt;dbl&gt; | standardized_perc_of_populist_toks &lt;dbl[,1]&gt; |\n",
       "|---|---|---|---|---|---|---|---|\n",
       "| text1 | F-ITA    | 1994 | 9_evolutionGroup  | 0 | 13 | 0 | -0.1561156 |\n",
       "| text2 | PROGR-F  | 1994 | 1_evolutionGroup  | 0 |  3 | 0 | -0.1561156 |\n",
       "| text3 | LEGA-N   | 1994 | 10_evolutionGroup | 0 | 40 | 0 | -0.1561156 |\n",
       "| text4 | RC-PROGR | 1994 | 12_evolutionGroup | 0 |  3 | 0 | -0.1561156 |\n",
       "| text5 | PROGR-F  | 1994 | 1_evolutionGroup  | 0 |  4 | 0 | -0.1561156 |\n",
       "| text6 | PPI      | 1994 | 2_evolutionGroup  | 0 |  3 | 0 | -0.1561156 |\n",
       "\n"
      ],
      "text/plain": [
       "  doc_id party    year group_cluster     anti_elitism total_toks\n",
       "1 text1  F-ITA    1994 9_evolutionGroup  0            13        \n",
       "2 text2  PROGR-F  1994 1_evolutionGroup  0             3        \n",
       "3 text3  LEGA-N   1994 10_evolutionGroup 0            40        \n",
       "4 text4  RC-PROGR 1994 12_evolutionGroup 0             3        \n",
       "5 text5  PROGR-F  1994 1_evolutionGroup  0             4        \n",
       "6 text6  PPI      1994 2_evolutionGroup  0             3        \n",
       "  perc_of_populist_toks standardized_perc_of_populist_toks\n",
       "1 0                     -0.1561156                        \n",
       "2 0                     -0.1561156                        \n",
       "3 0                     -0.1561156                        \n",
       "4 0                     -0.1561156                        \n",
       "5 0                     -0.1561156                        \n",
       "6 0                     -0.1561156                        "
      ]
     },
     "metadata": {},
     "output_type": "display_data"
    }
   ],
   "source": [
    "head(df_rp) "
   ]
  },
  {
   "cell_type": "markdown",
   "id": "41f70a3d",
   "metadata": {},
   "source": [
    "## Construct validity <a class=\"anchor\" id=\"subparagraph1\"></a>"
   ]
  },
  {
   "cell_type": "markdown",
   "id": "bd915c9b",
   "metadata": {},
   "source": [
    "Rooduijn and Pauwels' dictionary captures the \"anti-elitism\" component of populism, but not the \"people-centrism\" one. As a result, from a construct validity standpoint, it is only partially valid. The authors motivated the decision to leave out the \"people-centrism\" dimension by pointing out that the \"people\" is often referenced to by words such as \"us\", \"we\" and \"our\" which are also used to reference entities other than the people (such as political parties). The inclusion of these words in the dictionary, they argue, would result in a large number of false positives."
   ]
  },
  {
   "cell_type": "markdown",
   "id": "846f02ad",
   "metadata": {},
   "source": [
    "## Face validity <a class=\"anchor\" id=\"subparagraph2\"></a>"
   ]
  },
  {
   "cell_type": "markdown",
   "id": "31ede05e",
   "metadata": {},
   "source": [
    "A populist dictionary has face validity if the allegedly populist parties are indeed populist. In the Italian case, we would expect populist values to be higher for parties that the literature deems populist (i.e. Five Star Movement, Lega Nord, Forza Italia and Il Popolo delle Libertà)."
   ]
  },
  {
   "cell_type": "markdown",
   "id": "2583ac2e",
   "metadata": {},
   "source": [
    "Let's first run an Analysis Of Variance (ANOVA) by using the % of populist tokens as our dependent variable and the party (i.e. gruppoP) as our predictor. \n",
    "\n",
    "The results indicate that the differences in the % of populist tokens between parties are statistically significant."
   ]
  },
  {
   "cell_type": "code",
   "execution_count": 17,
   "id": "b4f456d3",
   "metadata": {},
   "outputs": [
    {
     "data": {
      "text/plain": [
       "                Df Sum Sq   Mean Sq F value Pr(>F)    \n",
       "party           54  0.010 1.897e-04   7.475 <2e-16 ***\n",
       "Residuals   297559  7.551 2.538e-05                   \n",
       "---\n",
       "Signif. codes:  0 '***' 0.001 '**' 0.01 '*' 0.05 '.' 0.1 ' ' 1\n",
       "59 observations deleted due to missingness"
      ]
     },
     "metadata": {},
     "output_type": "display_data"
    }
   ],
   "source": [
    "anova_rp <- aov(perc_of_populist_toks ~ party, data = df_rp)\n",
    "\n",
    "summary(anova_rp)"
   ]
  },
  {
   "cell_type": "markdown",
   "id": "4914bb60",
   "metadata": {},
   "source": [
    "We can assess how Rooduijn and Pauwels' dictionary fares in terms of face validity by grouping the results of the dictionary analysis by year and party and computing the average % of populist tokens (both standardized and unstandardized). \n",
    "\n",
    "The following are the 20 party-year combinations with the highest populist score in the 1994-2021 period. Consistently with our expectations, we find populist parties such as FdI-AN (2013), FdI (2018), Forza Italia (2019) and FdI (2018). However, we also find mainstream parties such as UDC (2009), SI-SEL-POS-LU (2018), IV (2018), IV (2019) and PD (2019). These results could be interpreted as evidence of either populist contagion or lack of face validity. The absence of M5S and Lega among the most populist parties makes me lean towards the latter."
   ]
  },
  {
   "cell_type": "code",
   "execution_count": 18,
   "id": "51d30879",
   "metadata": {},
   "outputs": [
    {
     "data": {
      "text/html": [
       "<table class=\"dataframe\">\n",
       "<caption>A grouped_df: 20 × 4</caption>\n",
       "<thead>\n",
       "\t<tr><th scope=col>party</th><th scope=col>year</th><th scope=col>mean_perc_of_populist_toks</th><th scope=col>mean_standardized_perc_of_populist_toks</th></tr>\n",
       "\t<tr><th scope=col>&lt;chr&gt;</th><th scope=col>&lt;int&gt;</th><th scope=col>&lt;dbl&gt;</th><th scope=col>&lt;dbl&gt;</th></tr>\n",
       "</thead>\n",
       "<tbody>\n",
       "\t<tr><td>FLD                                                         </td><td>1996</td><td>0.004303007</td><td>0.6975892</td></tr>\n",
       "\t<tr><td>UNIONE DEI DEMOCRATICI CRISTIANI E DEI DEMOCRATICI DI CENTRO</td><td>2009</td><td>0.002923977</td><td>0.4239933</td></tr>\n",
       "\t<tr><td>PPI                                                         </td><td>1996</td><td>0.002187874</td><td>0.2779526</td></tr>\n",
       "\t<tr><td>IV                                                          </td><td>2018</td><td>0.002126375</td><td>0.2657513</td></tr>\n",
       "\t<tr><td>SI-SEL-POS-LU                                               </td><td>2018</td><td>0.002084685</td><td>0.2574802</td></tr>\n",
       "\t<tr><td>FLD                                                         </td><td>1994</td><td>0.002027889</td><td>0.2462121</td></tr>\n",
       "\t<tr><td>FDI-AN                                                      </td><td>2013</td><td>0.002020914</td><td>0.2448282</td></tr>\n",
       "\t<tr><td>SI-SEL-POS-LU                                               </td><td>2016</td><td>0.001993743</td><td>0.2394375</td></tr>\n",
       "\t<tr><td>DEMO                                                        </td><td>1996</td><td>0.001993305</td><td>0.2393506</td></tr>\n",
       "\t<tr><td>UDR                                                         </td><td>2001</td><td>0.001800080</td><td>0.2010152</td></tr>\n",
       "\t<tr><td>FI                                                          </td><td>2019</td><td>0.001749259</td><td>0.1909325</td></tr>\n",
       "\t<tr><td>RINN/IT                                                     </td><td>1996</td><td>0.001703296</td><td>0.1818137</td></tr>\n",
       "\t<tr><td>IV                                                          </td><td>2019</td><td>0.001651887</td><td>0.1716142</td></tr>\n",
       "\t<tr><td>FDI                                                         </td><td>2018</td><td>0.001649868</td><td>0.1712136</td></tr>\n",
       "\t<tr><td>COMUNISTA                                                   </td><td>1997</td><td>0.001587102</td><td>0.1587611</td></tr>\n",
       "\t<tr><td>COMUNISTA                                                   </td><td>2000</td><td>0.001571577</td><td>0.1556809</td></tr>\n",
       "\t<tr><td>PD                                                          </td><td>2019</td><td>0.001550357</td><td>0.1514709</td></tr>\n",
       "\t<tr><td>DEMO                                                        </td><td>1995</td><td>0.001515186</td><td>0.1444932</td></tr>\n",
       "\t<tr><td>MDP-LU                                                      </td><td>2015</td><td>0.001499537</td><td>0.1413883</td></tr>\n",
       "\t<tr><td>FLD                                                         </td><td>1995</td><td>0.001455870</td><td>0.1327249</td></tr>\n",
       "</tbody>\n",
       "</table>\n"
      ],
      "text/latex": [
       "A grouped\\_df: 20 × 4\n",
       "\\begin{tabular}{llll}\n",
       " party & year & mean\\_perc\\_of\\_populist\\_toks & mean\\_standardized\\_perc\\_of\\_populist\\_toks\\\\\n",
       " <chr> & <int> & <dbl> & <dbl>\\\\\n",
       "\\hline\n",
       "\t FLD                                                          & 1996 & 0.004303007 & 0.6975892\\\\\n",
       "\t UNIONE DEI DEMOCRATICI CRISTIANI E DEI DEMOCRATICI DI CENTRO & 2009 & 0.002923977 & 0.4239933\\\\\n",
       "\t PPI                                                          & 1996 & 0.002187874 & 0.2779526\\\\\n",
       "\t IV                                                           & 2018 & 0.002126375 & 0.2657513\\\\\n",
       "\t SI-SEL-POS-LU                                                & 2018 & 0.002084685 & 0.2574802\\\\\n",
       "\t FLD                                                          & 1994 & 0.002027889 & 0.2462121\\\\\n",
       "\t FDI-AN                                                       & 2013 & 0.002020914 & 0.2448282\\\\\n",
       "\t SI-SEL-POS-LU                                                & 2016 & 0.001993743 & 0.2394375\\\\\n",
       "\t DEMO                                                         & 1996 & 0.001993305 & 0.2393506\\\\\n",
       "\t UDR                                                          & 2001 & 0.001800080 & 0.2010152\\\\\n",
       "\t FI                                                           & 2019 & 0.001749259 & 0.1909325\\\\\n",
       "\t RINN/IT                                                      & 1996 & 0.001703296 & 0.1818137\\\\\n",
       "\t IV                                                           & 2019 & 0.001651887 & 0.1716142\\\\\n",
       "\t FDI                                                          & 2018 & 0.001649868 & 0.1712136\\\\\n",
       "\t COMUNISTA                                                    & 1997 & 0.001587102 & 0.1587611\\\\\n",
       "\t COMUNISTA                                                    & 2000 & 0.001571577 & 0.1556809\\\\\n",
       "\t PD                                                           & 2019 & 0.001550357 & 0.1514709\\\\\n",
       "\t DEMO                                                         & 1995 & 0.001515186 & 0.1444932\\\\\n",
       "\t MDP-LU                                                       & 2015 & 0.001499537 & 0.1413883\\\\\n",
       "\t FLD                                                          & 1995 & 0.001455870 & 0.1327249\\\\\n",
       "\\end{tabular}\n"
      ],
      "text/markdown": [
       "\n",
       "A grouped_df: 20 × 4\n",
       "\n",
       "| party &lt;chr&gt; | year &lt;int&gt; | mean_perc_of_populist_toks &lt;dbl&gt; | mean_standardized_perc_of_populist_toks &lt;dbl&gt; |\n",
       "|---|---|---|---|\n",
       "| FLD                                                          | 1996 | 0.004303007 | 0.6975892 |\n",
       "| UNIONE DEI DEMOCRATICI CRISTIANI E DEI DEMOCRATICI DI CENTRO | 2009 | 0.002923977 | 0.4239933 |\n",
       "| PPI                                                          | 1996 | 0.002187874 | 0.2779526 |\n",
       "| IV                                                           | 2018 | 0.002126375 | 0.2657513 |\n",
       "| SI-SEL-POS-LU                                                | 2018 | 0.002084685 | 0.2574802 |\n",
       "| FLD                                                          | 1994 | 0.002027889 | 0.2462121 |\n",
       "| FDI-AN                                                       | 2013 | 0.002020914 | 0.2448282 |\n",
       "| SI-SEL-POS-LU                                                | 2016 | 0.001993743 | 0.2394375 |\n",
       "| DEMO                                                         | 1996 | 0.001993305 | 0.2393506 |\n",
       "| UDR                                                          | 2001 | 0.001800080 | 0.2010152 |\n",
       "| FI                                                           | 2019 | 0.001749259 | 0.1909325 |\n",
       "| RINN/IT                                                      | 1996 | 0.001703296 | 0.1818137 |\n",
       "| IV                                                           | 2019 | 0.001651887 | 0.1716142 |\n",
       "| FDI                                                          | 2018 | 0.001649868 | 0.1712136 |\n",
       "| COMUNISTA                                                    | 1997 | 0.001587102 | 0.1587611 |\n",
       "| COMUNISTA                                                    | 2000 | 0.001571577 | 0.1556809 |\n",
       "| PD                                                           | 2019 | 0.001550357 | 0.1514709 |\n",
       "| DEMO                                                         | 1995 | 0.001515186 | 0.1444932 |\n",
       "| MDP-LU                                                       | 2015 | 0.001499537 | 0.1413883 |\n",
       "| FLD                                                          | 1995 | 0.001455870 | 0.1327249 |\n",
       "\n"
      ],
      "text/plain": [
       "   party                                                        year\n",
       "1  FLD                                                          1996\n",
       "2  UNIONE DEI DEMOCRATICI CRISTIANI E DEI DEMOCRATICI DI CENTRO 2009\n",
       "3  PPI                                                          1996\n",
       "4  IV                                                           2018\n",
       "5  SI-SEL-POS-LU                                                2018\n",
       "6  FLD                                                          1994\n",
       "7  FDI-AN                                                       2013\n",
       "8  SI-SEL-POS-LU                                                2016\n",
       "9  DEMO                                                         1996\n",
       "10 UDR                                                          2001\n",
       "11 FI                                                           2019\n",
       "12 RINN/IT                                                      1996\n",
       "13 IV                                                           2019\n",
       "14 FDI                                                          2018\n",
       "15 COMUNISTA                                                    1997\n",
       "16 COMUNISTA                                                    2000\n",
       "17 PD                                                           2019\n",
       "18 DEMO                                                         1995\n",
       "19 MDP-LU                                                       2015\n",
       "20 FLD                                                          1995\n",
       "   mean_perc_of_populist_toks mean_standardized_perc_of_populist_toks\n",
       "1  0.004303007                0.6975892                              \n",
       "2  0.002923977                0.4239933                              \n",
       "3  0.002187874                0.2779526                              \n",
       "4  0.002126375                0.2657513                              \n",
       "5  0.002084685                0.2574802                              \n",
       "6  0.002027889                0.2462121                              \n",
       "7  0.002020914                0.2448282                              \n",
       "8  0.001993743                0.2394375                              \n",
       "9  0.001993305                0.2393506                              \n",
       "10 0.001800080                0.2010152                              \n",
       "11 0.001749259                0.1909325                              \n",
       "12 0.001703296                0.1818137                              \n",
       "13 0.001651887                0.1716142                              \n",
       "14 0.001649868                0.1712136                              \n",
       "15 0.001587102                0.1587611                              \n",
       "16 0.001571577                0.1556809                              \n",
       "17 0.001550357                0.1514709                              \n",
       "18 0.001515186                0.1444932                              \n",
       "19 0.001499537                0.1413883                              \n",
       "20 0.001455870                0.1327249                              "
      ]
     },
     "metadata": {},
     "output_type": "display_data"
    }
   ],
   "source": [
    "df_rp %>% \n",
    "group_by(party, year) %>% \n",
    "summarize(mean_perc_of_populist_toks = mean(perc_of_populist_toks, na.rm = TRUE),\n",
    "          mean_standardized_perc_of_populist_toks = mean(standardized_perc_of_populist_toks, na.rm = TRUE),\n",
    "         .groups = \"keep\") %>% \n",
    "arrange(desc(mean_standardized_perc_of_populist_toks)) %>% \n",
    "head(20)"
   ]
  },
  {
   "cell_type": "markdown",
   "id": "df255f7f",
   "metadata": {},
   "source": [
    "The following are the party-year combinations with the lowest populist scores. Again we see a mixture of both mainstream and populist parties. Interestingly, LNA (2018), FdI-AN (2018) and PdL (2013) are ranked among the least populist parties. This might be further evidence of lack of face validity in Rooduijn and Pauwels' dictionary."
   ]
  },
  {
   "cell_type": "code",
   "execution_count": 19,
   "id": "80781191",
   "metadata": {},
   "outputs": [
    {
     "data": {
      "text/html": [
       "<table class=\"dataframe\">\n",
       "<caption>A grouped_df: 20 × 4</caption>\n",
       "<thead>\n",
       "\t<tr><th scope=col>party</th><th scope=col>year</th><th scope=col>mean_perc_of_populist_toks</th><th scope=col>mean_standardized_perc_of_populist_toks</th></tr>\n",
       "\t<tr><th scope=col>&lt;chr&gt;</th><th scope=col>&lt;int&gt;</th><th scope=col>&lt;dbl&gt;</th><th scope=col>&lt;dbl&gt;</th></tr>\n",
       "</thead>\n",
       "<tbody>\n",
       "\t<tr><td>RC            </td><td>2006</td><td>1.996890e-04</td><td>-0.1164979</td></tr>\n",
       "\t<tr><td>DCA-NPSI      </td><td>2006</td><td>1.354899e-04</td><td>-0.1292348</td></tr>\n",
       "\t<tr><td>DES-CD        </td><td>2014</td><td>9.646189e-05</td><td>-0.1369779</td></tr>\n",
       "\t<tr><td>VERDI         </td><td>2006</td><td>9.439643e-05</td><td>-0.1373876</td></tr>\n",
       "\t<tr><td>UDEUR         </td><td>2001</td><td>3.565062e-05</td><td>-0.1490426</td></tr>\n",
       "\t<tr><td>AP-CPE-NCD-NCI</td><td>2018</td><td>0.000000e+00</td><td>-0.1561156</td></tr>\n",
       "\t<tr><td>CI            </td><td>2018</td><td>0.000000e+00</td><td>-0.1561156</td></tr>\n",
       "\t<tr><td>COM/IT/       </td><td>2008</td><td>0.000000e+00</td><td>-0.1561156</td></tr>\n",
       "\t<tr><td>DCA-NPSI      </td><td>2008</td><td>0.000000e+00</td><td>-0.1561156</td></tr>\n",
       "\t<tr><td>DCA-NPSI      </td><td>2009</td><td>0.000000e+00</td><td>-0.1561156</td></tr>\n",
       "\t<tr><td>FDI-AN        </td><td>2018</td><td>0.000000e+00</td><td>-0.1561156</td></tr>\n",
       "\t<tr><td>FLPTP         </td><td>2013</td><td>0.000000e+00</td><td>-0.1561156</td></tr>\n",
       "\t<tr><td>LIFED         </td><td>1994</td><td>0.000000e+00</td><td>-0.1561156</td></tr>\n",
       "\t<tr><td>LIFED         </td><td>1995</td><td>0.000000e+00</td><td>-0.1561156</td></tr>\n",
       "\t<tr><td>LIFED         </td><td>1996</td><td>0.000000e+00</td><td>-0.1561156</td></tr>\n",
       "\t<tr><td>LNA           </td><td>2018</td><td>0.000000e+00</td><td>-0.1561156</td></tr>\n",
       "\t<tr><td>MDP-LU        </td><td>2018</td><td>0.000000e+00</td><td>-0.1561156</td></tr>\n",
       "\t<tr><td>PDL           </td><td>2013</td><td>0.000000e+00</td><td>-0.1561156</td></tr>\n",
       "\t<tr><td>SDPSE         </td><td>2009</td><td>0.000000e+00</td><td>-0.1561156</td></tr>\n",
       "\t<tr><td>SOCRAD-RNP    </td><td>2009</td><td>0.000000e+00</td><td>-0.1561156</td></tr>\n",
       "</tbody>\n",
       "</table>\n"
      ],
      "text/latex": [
       "A grouped\\_df: 20 × 4\n",
       "\\begin{tabular}{llll}\n",
       " party & year & mean\\_perc\\_of\\_populist\\_toks & mean\\_standardized\\_perc\\_of\\_populist\\_toks\\\\\n",
       " <chr> & <int> & <dbl> & <dbl>\\\\\n",
       "\\hline\n",
       "\t RC             & 2006 & 1.996890e-04 & -0.1164979\\\\\n",
       "\t DCA-NPSI       & 2006 & 1.354899e-04 & -0.1292348\\\\\n",
       "\t DES-CD         & 2014 & 9.646189e-05 & -0.1369779\\\\\n",
       "\t VERDI          & 2006 & 9.439643e-05 & -0.1373876\\\\\n",
       "\t UDEUR          & 2001 & 3.565062e-05 & -0.1490426\\\\\n",
       "\t AP-CPE-NCD-NCI & 2018 & 0.000000e+00 & -0.1561156\\\\\n",
       "\t CI             & 2018 & 0.000000e+00 & -0.1561156\\\\\n",
       "\t COM/IT/        & 2008 & 0.000000e+00 & -0.1561156\\\\\n",
       "\t DCA-NPSI       & 2008 & 0.000000e+00 & -0.1561156\\\\\n",
       "\t DCA-NPSI       & 2009 & 0.000000e+00 & -0.1561156\\\\\n",
       "\t FDI-AN         & 2018 & 0.000000e+00 & -0.1561156\\\\\n",
       "\t FLPTP          & 2013 & 0.000000e+00 & -0.1561156\\\\\n",
       "\t LIFED          & 1994 & 0.000000e+00 & -0.1561156\\\\\n",
       "\t LIFED          & 1995 & 0.000000e+00 & -0.1561156\\\\\n",
       "\t LIFED          & 1996 & 0.000000e+00 & -0.1561156\\\\\n",
       "\t LNA            & 2018 & 0.000000e+00 & -0.1561156\\\\\n",
       "\t MDP-LU         & 2018 & 0.000000e+00 & -0.1561156\\\\\n",
       "\t PDL            & 2013 & 0.000000e+00 & -0.1561156\\\\\n",
       "\t SDPSE          & 2009 & 0.000000e+00 & -0.1561156\\\\\n",
       "\t SOCRAD-RNP     & 2009 & 0.000000e+00 & -0.1561156\\\\\n",
       "\\end{tabular}\n"
      ],
      "text/markdown": [
       "\n",
       "A grouped_df: 20 × 4\n",
       "\n",
       "| party &lt;chr&gt; | year &lt;int&gt; | mean_perc_of_populist_toks &lt;dbl&gt; | mean_standardized_perc_of_populist_toks &lt;dbl&gt; |\n",
       "|---|---|---|---|\n",
       "| RC             | 2006 | 1.996890e-04 | -0.1164979 |\n",
       "| DCA-NPSI       | 2006 | 1.354899e-04 | -0.1292348 |\n",
       "| DES-CD         | 2014 | 9.646189e-05 | -0.1369779 |\n",
       "| VERDI          | 2006 | 9.439643e-05 | -0.1373876 |\n",
       "| UDEUR          | 2001 | 3.565062e-05 | -0.1490426 |\n",
       "| AP-CPE-NCD-NCI | 2018 | 0.000000e+00 | -0.1561156 |\n",
       "| CI             | 2018 | 0.000000e+00 | -0.1561156 |\n",
       "| COM/IT/        | 2008 | 0.000000e+00 | -0.1561156 |\n",
       "| DCA-NPSI       | 2008 | 0.000000e+00 | -0.1561156 |\n",
       "| DCA-NPSI       | 2009 | 0.000000e+00 | -0.1561156 |\n",
       "| FDI-AN         | 2018 | 0.000000e+00 | -0.1561156 |\n",
       "| FLPTP          | 2013 | 0.000000e+00 | -0.1561156 |\n",
       "| LIFED          | 1994 | 0.000000e+00 | -0.1561156 |\n",
       "| LIFED          | 1995 | 0.000000e+00 | -0.1561156 |\n",
       "| LIFED          | 1996 | 0.000000e+00 | -0.1561156 |\n",
       "| LNA            | 2018 | 0.000000e+00 | -0.1561156 |\n",
       "| MDP-LU         | 2018 | 0.000000e+00 | -0.1561156 |\n",
       "| PDL            | 2013 | 0.000000e+00 | -0.1561156 |\n",
       "| SDPSE          | 2009 | 0.000000e+00 | -0.1561156 |\n",
       "| SOCRAD-RNP     | 2009 | 0.000000e+00 | -0.1561156 |\n",
       "\n"
      ],
      "text/plain": [
       "   party          year mean_perc_of_populist_toks\n",
       "1  RC             2006 1.996890e-04              \n",
       "2  DCA-NPSI       2006 1.354899e-04              \n",
       "3  DES-CD         2014 9.646189e-05              \n",
       "4  VERDI          2006 9.439643e-05              \n",
       "5  UDEUR          2001 3.565062e-05              \n",
       "6  AP-CPE-NCD-NCI 2018 0.000000e+00              \n",
       "7  CI             2018 0.000000e+00              \n",
       "8  COM/IT/        2008 0.000000e+00              \n",
       "9  DCA-NPSI       2008 0.000000e+00              \n",
       "10 DCA-NPSI       2009 0.000000e+00              \n",
       "11 FDI-AN         2018 0.000000e+00              \n",
       "12 FLPTP          2013 0.000000e+00              \n",
       "13 LIFED          1994 0.000000e+00              \n",
       "14 LIFED          1995 0.000000e+00              \n",
       "15 LIFED          1996 0.000000e+00              \n",
       "16 LNA            2018 0.000000e+00              \n",
       "17 MDP-LU         2018 0.000000e+00              \n",
       "18 PDL            2013 0.000000e+00              \n",
       "19 SDPSE          2009 0.000000e+00              \n",
       "20 SOCRAD-RNP     2009 0.000000e+00              \n",
       "   mean_standardized_perc_of_populist_toks\n",
       "1  -0.1164979                             \n",
       "2  -0.1292348                             \n",
       "3  -0.1369779                             \n",
       "4  -0.1373876                             \n",
       "5  -0.1490426                             \n",
       "6  -0.1561156                             \n",
       "7  -0.1561156                             \n",
       "8  -0.1561156                             \n",
       "9  -0.1561156                             \n",
       "10 -0.1561156                             \n",
       "11 -0.1561156                             \n",
       "12 -0.1561156                             \n",
       "13 -0.1561156                             \n",
       "14 -0.1561156                             \n",
       "15 -0.1561156                             \n",
       "16 -0.1561156                             \n",
       "17 -0.1561156                             \n",
       "18 -0.1561156                             \n",
       "19 -0.1561156                             \n",
       "20 -0.1561156                             "
      ]
     },
     "metadata": {},
     "output_type": "display_data"
    }
   ],
   "source": [
    "df_rp %>% \n",
    "group_by(party, year) %>% \n",
    "summarize(mean_perc_of_populist_toks = mean(perc_of_populist_toks, na.rm = TRUE),\n",
    "          mean_standardized_perc_of_populist_toks = mean(standardized_perc_of_populist_toks, na.rm = TRUE),\n",
    "          .groups = \"keep\") %>% \n",
    "arrange(desc(mean_standardized_perc_of_populist_toks)) %>% \n",
    "tail(20)"
   ]
  },
  {
   "cell_type": "markdown",
   "id": "84b753ac",
   "metadata": {},
   "source": [
    "## External validity <a class=\"anchor\" id=\"subparagraph3\"></a>"
   ]
  },
  {
   "cell_type": "markdown",
   "id": "0b1ca8b0",
   "metadata": {},
   "source": [
    "### Chapel Hill Expert Survey <a class=\"anchor\" id=\"subparagraph4\"></a>"
   ]
  },
  {
   "cell_type": "markdown",
   "id": "c48fce54",
   "metadata": {},
   "source": [
    "As Rooduijn and Pauwels' dictionary only captures the anti-elite dimension of populism, the external validity will be carried out against the anti-elite salience variable from the CHES dataset, which has been introduced in 2014."
   ]
  },
  {
   "cell_type": "markdown",
   "id": "25f97f71",
   "metadata": {},
   "source": [
    "Let's load the CHES dataset"
   ]
  },
  {
   "cell_type": "code",
   "execution_count": 20,
   "id": "4a1c0b26",
   "metadata": {},
   "outputs": [],
   "source": [
    "ches <- read_csv(\"data/1999-2019_CHES_dataset_means(v2).csv\", show_col_types = FALSE)"
   ]
  },
  {
   "cell_type": "markdown",
   "id": "5b3ab7d5",
   "metadata": {},
   "source": [
    "The countrycode for Italy is 8. The following is a list of all Italian parties in the CHES dataset in the 2014-2019 time period."
   ]
  },
  {
   "cell_type": "code",
   "execution_count": 21,
   "id": "8eac18bd",
   "metadata": {},
   "outputs": [
    {
     "data": {
      "text/html": [
       "<table class=\"dataframe\">\n",
       "<caption>A tibble: 15 × 1</caption>\n",
       "<thead>\n",
       "\t<tr><th scope=col>party</th></tr>\n",
       "\t<tr><th scope=col>&lt;chr&gt;</th></tr>\n",
       "</thead>\n",
       "<tbody>\n",
       "\t<tr><td>UDC</td></tr>\n",
       "\t<tr><td>SC </td></tr>\n",
       "\t<tr><td>VdA</td></tr>\n",
       "\t<tr><td>PD </td></tr>\n",
       "\t<tr><td>FI </td></tr>\n",
       "\t<tr><td>LN </td></tr>\n",
       "\t<tr><td>FdI</td></tr>\n",
       "\t<tr><td>SEL</td></tr>\n",
       "\t<tr><td>M5S</td></tr>\n",
       "\t<tr><td>CD </td></tr>\n",
       "\t<tr><td>SVP</td></tr>\n",
       "\t<tr><td>RC </td></tr>\n",
       "\t<tr><td>NCD</td></tr>\n",
       "\t<tr><td>RI </td></tr>\n",
       "\t<tr><td>SI </td></tr>\n",
       "</tbody>\n",
       "</table>\n"
      ],
      "text/latex": [
       "A tibble: 15 × 1\n",
       "\\begin{tabular}{l}\n",
       " party\\\\\n",
       " <chr>\\\\\n",
       "\\hline\n",
       "\t UDC\\\\\n",
       "\t SC \\\\\n",
       "\t VdA\\\\\n",
       "\t PD \\\\\n",
       "\t FI \\\\\n",
       "\t LN \\\\\n",
       "\t FdI\\\\\n",
       "\t SEL\\\\\n",
       "\t M5S\\\\\n",
       "\t CD \\\\\n",
       "\t SVP\\\\\n",
       "\t RC \\\\\n",
       "\t NCD\\\\\n",
       "\t RI \\\\\n",
       "\t SI \\\\\n",
       "\\end{tabular}\n"
      ],
      "text/markdown": [
       "\n",
       "A tibble: 15 × 1\n",
       "\n",
       "| party &lt;chr&gt; |\n",
       "|---|\n",
       "| UDC |\n",
       "| SC  |\n",
       "| VdA |\n",
       "| PD  |\n",
       "| FI  |\n",
       "| LN  |\n",
       "| FdI |\n",
       "| SEL |\n",
       "| M5S |\n",
       "| CD  |\n",
       "| SVP |\n",
       "| RC  |\n",
       "| NCD |\n",
       "| RI  |\n",
       "| SI  |\n",
       "\n"
      ],
      "text/plain": [
       "   party\n",
       "1  UDC  \n",
       "2  SC   \n",
       "3  VdA  \n",
       "4  PD   \n",
       "5  FI   \n",
       "6  LN   \n",
       "7  FdI  \n",
       "8  SEL  \n",
       "9  M5S  \n",
       "10 CD   \n",
       "11 SVP  \n",
       "12 RC   \n",
       "13 NCD  \n",
       "14 RI   \n",
       "15 SI   "
      ]
     },
     "metadata": {},
     "output_type": "display_data"
    }
   ],
   "source": [
    "ches %>% filter(country == 8 & year >= 2014 & year <= 2019) %>% distinct(party)"
   ]
  },
  {
   "cell_type": "markdown",
   "id": "6000c13b",
   "metadata": {},
   "source": [
    "While these are the parties included in our dataset in the same timeframe"
   ]
  },
  {
   "cell_type": "code",
   "execution_count": 22,
   "id": "f4b9db81",
   "metadata": {},
   "outputs": [
    {
     "data": {
      "text/html": [
       "<table class=\"dataframe\">\n",
       "<caption>A tibble: 17 × 1</caption>\n",
       "<thead>\n",
       "\t<tr><th scope=col>party</th></tr>\n",
       "\t<tr><th scope=col>&lt;chr&gt;</th></tr>\n",
       "</thead>\n",
       "<tbody>\n",
       "\t<tr><td>CI            </td></tr>\n",
       "\t<tr><td>PD            </td></tr>\n",
       "\t<tr><td>FI-PDL        </td></tr>\n",
       "\t<tr><td>M5S           </td></tr>\n",
       "\t<tr><td>MDP-LU        </td></tr>\n",
       "\t<tr><td>NCI-SCPI-MAIE </td></tr>\n",
       "\t<tr><td>MISTO         </td></tr>\n",
       "\t<tr><td>SI-SEL-POS-LU </td></tr>\n",
       "\t<tr><td>AP-CPE-NCD-NCI</td></tr>\n",
       "\t<tr><td>LNA           </td></tr>\n",
       "\t<tr><td>FDI-AN        </td></tr>\n",
       "\t<tr><td>DES-CD        </td></tr>\n",
       "\t<tr><td>LEGA          </td></tr>\n",
       "\t<tr><td>IV            </td></tr>\n",
       "\t<tr><td>FI            </td></tr>\n",
       "\t<tr><td>FDI           </td></tr>\n",
       "\t<tr><td>LEU           </td></tr>\n",
       "</tbody>\n",
       "</table>\n"
      ],
      "text/latex": [
       "A tibble: 17 × 1\n",
       "\\begin{tabular}{l}\n",
       " party\\\\\n",
       " <chr>\\\\\n",
       "\\hline\n",
       "\t CI            \\\\\n",
       "\t PD            \\\\\n",
       "\t FI-PDL        \\\\\n",
       "\t M5S           \\\\\n",
       "\t MDP-LU        \\\\\n",
       "\t NCI-SCPI-MAIE \\\\\n",
       "\t MISTO         \\\\\n",
       "\t SI-SEL-POS-LU \\\\\n",
       "\t AP-CPE-NCD-NCI\\\\\n",
       "\t LNA           \\\\\n",
       "\t FDI-AN        \\\\\n",
       "\t DES-CD        \\\\\n",
       "\t LEGA          \\\\\n",
       "\t IV            \\\\\n",
       "\t FI            \\\\\n",
       "\t FDI           \\\\\n",
       "\t LEU           \\\\\n",
       "\\end{tabular}\n"
      ],
      "text/markdown": [
       "\n",
       "A tibble: 17 × 1\n",
       "\n",
       "| party &lt;chr&gt; |\n",
       "|---|\n",
       "| CI             |\n",
       "| PD             |\n",
       "| FI-PDL         |\n",
       "| M5S            |\n",
       "| MDP-LU         |\n",
       "| NCI-SCPI-MAIE  |\n",
       "| MISTO          |\n",
       "| SI-SEL-POS-LU  |\n",
       "| AP-CPE-NCD-NCI |\n",
       "| LNA            |\n",
       "| FDI-AN         |\n",
       "| DES-CD         |\n",
       "| LEGA           |\n",
       "| IV             |\n",
       "| FI             |\n",
       "| FDI            |\n",
       "| LEU            |\n",
       "\n"
      ],
      "text/plain": [
       "   party         \n",
       "1  CI            \n",
       "2  PD            \n",
       "3  FI-PDL        \n",
       "4  M5S           \n",
       "5  MDP-LU        \n",
       "6  NCI-SCPI-MAIE \n",
       "7  MISTO         \n",
       "8  SI-SEL-POS-LU \n",
       "9  AP-CPE-NCD-NCI\n",
       "10 LNA           \n",
       "11 FDI-AN        \n",
       "12 DES-CD        \n",
       "13 LEGA          \n",
       "14 IV            \n",
       "15 FI            \n",
       "16 FDI           \n",
       "17 LEU           "
      ]
     },
     "metadata": {},
     "output_type": "display_data"
    }
   ],
   "source": [
    "df_rp %>% filter(year >= 2014 & year <= 2019) %>% distinct(party)"
   ]
  },
  {
   "cell_type": "markdown",
   "id": "c5ef3a07",
   "metadata": {},
   "source": [
    "'Vallée d'Aoste', 'Südtiroler Volkspartei' and 'Radicali Italiani' are not part of our dataset, so let's drop them from the CHES dataset."
   ]
  },
  {
   "cell_type": "code",
   "execution_count": 23,
   "id": "9518935f",
   "metadata": {},
   "outputs": [],
   "source": [
    "to_drop <- c('VdA', 'SVP', 'RI')\n",
    "\n",
    "ches <- ches %>% \n",
    "        filter(country == 8 & year >= 2014 & year <= 2019 & (!party %in% to_drop)) "
   ]
  },
  {
   "cell_type": "markdown",
   "id": "2ea252bf",
   "metadata": {},
   "source": [
    "Let's now compare how R&P' dictionary and the CHES dataset ranked party-year combinations by populism in 2014 and 2019. We'll drop the \"Mixed group\" and \"Italia Viva\" as these two parliamentary groups are absent from the CHES dataset."
   ]
  },
  {
   "cell_type": "markdown",
   "id": "37faa729",
   "metadata": {},
   "source": [
    "The difference between the two rankings is stark. According to the dictionary analysis, PD (2019) ranks among the most populist party-year combinations and M5S (2019) among the least populists ones, while the opposite is true in the CHES dataset. Moreover, Lega (2019), one of the most populist party-year combinations according to CHES, is only slightly populist according to R&P' dictionary."
   ]
  },
  {
   "cell_type": "code",
   "execution_count": 25,
   "id": "10eab5e8",
   "metadata": {},
   "outputs": [
    {
     "data": {
      "text/html": [
       "<table class=\"dataframe\">\n",
       "<caption>A grouped_df: 17 × 4</caption>\n",
       "<thead>\n",
       "\t<tr><th scope=col>party</th><th scope=col>year</th><th scope=col>mean_perc_of_populist_toks</th><th scope=col>mean_standardized_perc_of_populist_toks</th></tr>\n",
       "\t<tr><th scope=col>&lt;chr&gt;</th><th scope=col>&lt;int&gt;</th><th scope=col>&lt;dbl&gt;</th><th scope=col>&lt;dbl&gt;</th></tr>\n",
       "</thead>\n",
       "<tbody>\n",
       "\t<tr><td>FI            </td><td>2019</td><td>1.749259e-03</td><td> 0.190932508</td></tr>\n",
       "\t<tr><td>PD            </td><td>2019</td><td>1.550357e-03</td><td> 0.151470894</td></tr>\n",
       "\t<tr><td>FDI           </td><td>2019</td><td>1.281956e-03</td><td> 0.098220937</td></tr>\n",
       "\t<tr><td>FDI-AN        </td><td>2014</td><td>1.201482e-03</td><td> 0.082255070</td></tr>\n",
       "\t<tr><td>MDP-LU        </td><td>2014</td><td>1.053005e-03</td><td> 0.052797699</td></tr>\n",
       "\t<tr><td>AP-CPE-NCD-NCI</td><td>2014</td><td>1.022024e-03</td><td> 0.046651198</td></tr>\n",
       "\t<tr><td>LNA           </td><td>2014</td><td>9.611932e-04</td><td> 0.034582468</td></tr>\n",
       "\t<tr><td>M5S           </td><td>2014</td><td>9.602950e-04</td><td> 0.034404271</td></tr>\n",
       "\t<tr><td>NCI-SCPI-MAIE </td><td>2014</td><td>9.518141e-04</td><td> 0.032721678</td></tr>\n",
       "\t<tr><td>LEU           </td><td>2019</td><td>8.481808e-04</td><td> 0.012161113</td></tr>\n",
       "\t<tr><td>LEGA          </td><td>2019</td><td>8.050071e-04</td><td> 0.003595576</td></tr>\n",
       "\t<tr><td>PD            </td><td>2014</td><td>7.810168e-04</td><td>-0.001164027</td></tr>\n",
       "\t<tr><td>CI            </td><td>2014</td><td>7.336928e-04</td><td>-0.010552989</td></tr>\n",
       "\t<tr><td>SI-SEL-POS-LU </td><td>2014</td><td>6.879554e-04</td><td>-0.019627156</td></tr>\n",
       "\t<tr><td>M5S           </td><td>2019</td><td>6.274669e-04</td><td>-0.031627915</td></tr>\n",
       "\t<tr><td>FI-PDL        </td><td>2014</td><td>6.058972e-04</td><td>-0.035907284</td></tr>\n",
       "\t<tr><td>DES-CD        </td><td>2014</td><td>9.646189e-05</td><td>-0.136977853</td></tr>\n",
       "</tbody>\n",
       "</table>\n"
      ],
      "text/latex": [
       "A grouped\\_df: 17 × 4\n",
       "\\begin{tabular}{llll}\n",
       " party & year & mean\\_perc\\_of\\_populist\\_toks & mean\\_standardized\\_perc\\_of\\_populist\\_toks\\\\\n",
       " <chr> & <int> & <dbl> & <dbl>\\\\\n",
       "\\hline\n",
       "\t FI             & 2019 & 1.749259e-03 &  0.190932508\\\\\n",
       "\t PD             & 2019 & 1.550357e-03 &  0.151470894\\\\\n",
       "\t FDI            & 2019 & 1.281956e-03 &  0.098220937\\\\\n",
       "\t FDI-AN         & 2014 & 1.201482e-03 &  0.082255070\\\\\n",
       "\t MDP-LU         & 2014 & 1.053005e-03 &  0.052797699\\\\\n",
       "\t AP-CPE-NCD-NCI & 2014 & 1.022024e-03 &  0.046651198\\\\\n",
       "\t LNA            & 2014 & 9.611932e-04 &  0.034582468\\\\\n",
       "\t M5S            & 2014 & 9.602950e-04 &  0.034404271\\\\\n",
       "\t NCI-SCPI-MAIE  & 2014 & 9.518141e-04 &  0.032721678\\\\\n",
       "\t LEU            & 2019 & 8.481808e-04 &  0.012161113\\\\\n",
       "\t LEGA           & 2019 & 8.050071e-04 &  0.003595576\\\\\n",
       "\t PD             & 2014 & 7.810168e-04 & -0.001164027\\\\\n",
       "\t CI             & 2014 & 7.336928e-04 & -0.010552989\\\\\n",
       "\t SI-SEL-POS-LU  & 2014 & 6.879554e-04 & -0.019627156\\\\\n",
       "\t M5S            & 2019 & 6.274669e-04 & -0.031627915\\\\\n",
       "\t FI-PDL         & 2014 & 6.058972e-04 & -0.035907284\\\\\n",
       "\t DES-CD         & 2014 & 9.646189e-05 & -0.136977853\\\\\n",
       "\\end{tabular}\n"
      ],
      "text/markdown": [
       "\n",
       "A grouped_df: 17 × 4\n",
       "\n",
       "| party &lt;chr&gt; | year &lt;int&gt; | mean_perc_of_populist_toks &lt;dbl&gt; | mean_standardized_perc_of_populist_toks &lt;dbl&gt; |\n",
       "|---|---|---|---|\n",
       "| FI             | 2019 | 1.749259e-03 |  0.190932508 |\n",
       "| PD             | 2019 | 1.550357e-03 |  0.151470894 |\n",
       "| FDI            | 2019 | 1.281956e-03 |  0.098220937 |\n",
       "| FDI-AN         | 2014 | 1.201482e-03 |  0.082255070 |\n",
       "| MDP-LU         | 2014 | 1.053005e-03 |  0.052797699 |\n",
       "| AP-CPE-NCD-NCI | 2014 | 1.022024e-03 |  0.046651198 |\n",
       "| LNA            | 2014 | 9.611932e-04 |  0.034582468 |\n",
       "| M5S            | 2014 | 9.602950e-04 |  0.034404271 |\n",
       "| NCI-SCPI-MAIE  | 2014 | 9.518141e-04 |  0.032721678 |\n",
       "| LEU            | 2019 | 8.481808e-04 |  0.012161113 |\n",
       "| LEGA           | 2019 | 8.050071e-04 |  0.003595576 |\n",
       "| PD             | 2014 | 7.810168e-04 | -0.001164027 |\n",
       "| CI             | 2014 | 7.336928e-04 | -0.010552989 |\n",
       "| SI-SEL-POS-LU  | 2014 | 6.879554e-04 | -0.019627156 |\n",
       "| M5S            | 2019 | 6.274669e-04 | -0.031627915 |\n",
       "| FI-PDL         | 2014 | 6.058972e-04 | -0.035907284 |\n",
       "| DES-CD         | 2014 | 9.646189e-05 | -0.136977853 |\n",
       "\n"
      ],
      "text/plain": [
       "   party          year mean_perc_of_populist_toks\n",
       "1  FI             2019 1.749259e-03              \n",
       "2  PD             2019 1.550357e-03              \n",
       "3  FDI            2019 1.281956e-03              \n",
       "4  FDI-AN         2014 1.201482e-03              \n",
       "5  MDP-LU         2014 1.053005e-03              \n",
       "6  AP-CPE-NCD-NCI 2014 1.022024e-03              \n",
       "7  LNA            2014 9.611932e-04              \n",
       "8  M5S            2014 9.602950e-04              \n",
       "9  NCI-SCPI-MAIE  2014 9.518141e-04              \n",
       "10 LEU            2019 8.481808e-04              \n",
       "11 LEGA           2019 8.050071e-04              \n",
       "12 PD             2014 7.810168e-04              \n",
       "13 CI             2014 7.336928e-04              \n",
       "14 SI-SEL-POS-LU  2014 6.879554e-04              \n",
       "15 M5S            2019 6.274669e-04              \n",
       "16 FI-PDL         2014 6.058972e-04              \n",
       "17 DES-CD         2014 9.646189e-05              \n",
       "   mean_standardized_perc_of_populist_toks\n",
       "1   0.190932508                           \n",
       "2   0.151470894                           \n",
       "3   0.098220937                           \n",
       "4   0.082255070                           \n",
       "5   0.052797699                           \n",
       "6   0.046651198                           \n",
       "7   0.034582468                           \n",
       "8   0.034404271                           \n",
       "9   0.032721678                           \n",
       "10  0.012161113                           \n",
       "11  0.003595576                           \n",
       "12 -0.001164027                           \n",
       "13 -0.010552989                           \n",
       "14 -0.019627156                           \n",
       "15 -0.031627915                           \n",
       "16 -0.035907284                           \n",
       "17 -0.136977853                           "
      ]
     },
     "metadata": {},
     "output_type": "display_data"
    }
   ],
   "source": [
    "df_rp %>% \n",
    "filter((year == 2014 | year == 2019) & party != \"MISTO\" & party != \"IV\") %>% \n",
    "group_by(party, year) %>% \n",
    "summarize(mean_perc_of_populist_toks = mean(perc_of_populist_toks, na.rm = TRUE),\n",
    "          mean_standardized_perc_of_populist_toks = mean(standardized_perc_of_populist_toks, na.rm = TRUE),\n",
    "          .groups = \"keep\") %>% \n",
    "arrange(desc(mean_perc_of_populist_toks))"
   ]
  },
  {
   "cell_type": "code",
   "execution_count": 26,
   "id": "a2c4bccb",
   "metadata": {},
   "outputs": [
    {
     "data": {
      "text/html": [
       "<table class=\"dataframe\">\n",
       "<caption>A grouped_df: 17 × 3</caption>\n",
       "<thead>\n",
       "\t<tr><th scope=col>party</th><th scope=col>year</th><th scope=col>mean_anti_elite_salience</th></tr>\n",
       "\t<tr><th scope=col>&lt;chr&gt;</th><th scope=col>&lt;dbl&gt;</th><th scope=col>&lt;dbl&gt;</th></tr>\n",
       "</thead>\n",
       "<tbody>\n",
       "\t<tr><td>M5S</td><td>2014</td><td>10.000000</td></tr>\n",
       "\t<tr><td>RC </td><td>2014</td><td> 9.333333</td></tr>\n",
       "\t<tr><td>M5S</td><td>2019</td><td> 8.888889</td></tr>\n",
       "\t<tr><td>LN </td><td>2014</td><td> 8.800000</td></tr>\n",
       "\t<tr><td>LN </td><td>2019</td><td> 8.333333</td></tr>\n",
       "\t<tr><td>FdI</td><td>2019</td><td> 8.000000</td></tr>\n",
       "\t<tr><td>SEL</td><td>2014</td><td> 6.800000</td></tr>\n",
       "\t<tr><td>FdI</td><td>2014</td><td> 6.250000</td></tr>\n",
       "\t<tr><td>PD </td><td>2014</td><td> 4.400000</td></tr>\n",
       "\t<tr><td>FI </td><td>2019</td><td> 4.176471</td></tr>\n",
       "\t<tr><td>FI </td><td>2014</td><td> 4.000000</td></tr>\n",
       "\t<tr><td>SI </td><td>2019</td><td> 3.785714</td></tr>\n",
       "\t<tr><td>CD </td><td>2014</td><td> 3.333333</td></tr>\n",
       "\t<tr><td>NCD</td><td>2014</td><td> 2.200000</td></tr>\n",
       "\t<tr><td>PD </td><td>2019</td><td> 1.882353</td></tr>\n",
       "\t<tr><td>UDC</td><td>2014</td><td> 1.500000</td></tr>\n",
       "\t<tr><td>SC </td><td>2014</td><td> 1.000000</td></tr>\n",
       "</tbody>\n",
       "</table>\n"
      ],
      "text/latex": [
       "A grouped\\_df: 17 × 3\n",
       "\\begin{tabular}{lll}\n",
       " party & year & mean\\_anti\\_elite\\_salience\\\\\n",
       " <chr> & <dbl> & <dbl>\\\\\n",
       "\\hline\n",
       "\t M5S & 2014 & 10.000000\\\\\n",
       "\t RC  & 2014 &  9.333333\\\\\n",
       "\t M5S & 2019 &  8.888889\\\\\n",
       "\t LN  & 2014 &  8.800000\\\\\n",
       "\t LN  & 2019 &  8.333333\\\\\n",
       "\t FdI & 2019 &  8.000000\\\\\n",
       "\t SEL & 2014 &  6.800000\\\\\n",
       "\t FdI & 2014 &  6.250000\\\\\n",
       "\t PD  & 2014 &  4.400000\\\\\n",
       "\t FI  & 2019 &  4.176471\\\\\n",
       "\t FI  & 2014 &  4.000000\\\\\n",
       "\t SI  & 2019 &  3.785714\\\\\n",
       "\t CD  & 2014 &  3.333333\\\\\n",
       "\t NCD & 2014 &  2.200000\\\\\n",
       "\t PD  & 2019 &  1.882353\\\\\n",
       "\t UDC & 2014 &  1.500000\\\\\n",
       "\t SC  & 2014 &  1.000000\\\\\n",
       "\\end{tabular}\n"
      ],
      "text/markdown": [
       "\n",
       "A grouped_df: 17 × 3\n",
       "\n",
       "| party &lt;chr&gt; | year &lt;dbl&gt; | mean_anti_elite_salience &lt;dbl&gt; |\n",
       "|---|---|---|\n",
       "| M5S | 2014 | 10.000000 |\n",
       "| RC  | 2014 |  9.333333 |\n",
       "| M5S | 2019 |  8.888889 |\n",
       "| LN  | 2014 |  8.800000 |\n",
       "| LN  | 2019 |  8.333333 |\n",
       "| FdI | 2019 |  8.000000 |\n",
       "| SEL | 2014 |  6.800000 |\n",
       "| FdI | 2014 |  6.250000 |\n",
       "| PD  | 2014 |  4.400000 |\n",
       "| FI  | 2019 |  4.176471 |\n",
       "| FI  | 2014 |  4.000000 |\n",
       "| SI  | 2019 |  3.785714 |\n",
       "| CD  | 2014 |  3.333333 |\n",
       "| NCD | 2014 |  2.200000 |\n",
       "| PD  | 2019 |  1.882353 |\n",
       "| UDC | 2014 |  1.500000 |\n",
       "| SC  | 2014 |  1.000000 |\n",
       "\n"
      ],
      "text/plain": [
       "   party year mean_anti_elite_salience\n",
       "1  M5S   2014 10.000000               \n",
       "2  RC    2014  9.333333               \n",
       "3  M5S   2019  8.888889               \n",
       "4  LN    2014  8.800000               \n",
       "5  LN    2019  8.333333               \n",
       "6  FdI   2019  8.000000               \n",
       "7  SEL   2014  6.800000               \n",
       "8  FdI   2014  6.250000               \n",
       "9  PD    2014  4.400000               \n",
       "10 FI    2019  4.176471               \n",
       "11 FI    2014  4.000000               \n",
       "12 SI    2019  3.785714               \n",
       "13 CD    2014  3.333333               \n",
       "14 NCD   2014  2.200000               \n",
       "15 PD    2019  1.882353               \n",
       "16 UDC   2014  1.500000               \n",
       "17 SC    2014  1.000000               "
      ]
     },
     "metadata": {},
     "output_type": "display_data"
    }
   ],
   "source": [
    "ches %>% \n",
    "group_by(party, year) %>% \n",
    "summarize(mean_anti_elite_salience = mean(antielite_salience), .groups = \"keep\") %>% \n",
    "arrange(desc(mean_anti_elite_salience))"
   ]
  },
  {
   "cell_type": "markdown",
   "id": "343071dc",
   "metadata": {},
   "source": [
    "### The PopuList <a class=\"anchor\" id=\"subparagraph5\"></a>"
   ]
  },
  {
   "cell_type": "markdown",
   "id": "56ef7ef7",
   "metadata": {},
   "source": [
    "Reading the PopuList dataset"
   ]
  },
  {
   "cell_type": "code",
   "execution_count": 27,
   "id": "aa545814",
   "metadata": {},
   "outputs": [],
   "source": [
    "populist <- readxl::read_xlsx(\"data/populist-version-2-20200626.xlsx\")"
   ]
  },
  {
   "cell_type": "markdown",
   "id": "de2d590d",
   "metadata": {},
   "source": [
    "All the Italian parties in the PopuList dataset"
   ]
  },
  {
   "cell_type": "code",
   "execution_count": 28,
   "id": "4be7f9f6",
   "metadata": {},
   "outputs": [
    {
     "data": {
      "text/html": [
       "<table class=\"dataframe\">\n",
       "<caption>A tibble: 13 × 1</caption>\n",
       "<thead>\n",
       "\t<tr><th scope=col>party_name</th></tr>\n",
       "\t<tr><th scope=col>&lt;chr&gt;</th></tr>\n",
       "</thead>\n",
       "<tbody>\n",
       "\t<tr><td>Fiamma Tricolore                          </td></tr>\n",
       "\t<tr><td>Forza Italia – Il Popolo della Libertà    </td></tr>\n",
       "\t<tr><td>Fratelli d'Italia – Centrodestra Nazionale</td></tr>\n",
       "\t<tr><td>Il Popolo della Libertà                   </td></tr>\n",
       "\t<tr><td>Lega (Nord)                               </td></tr>\n",
       "\t<tr><td>Lega d'Azione Meridionale                 </td></tr>\n",
       "\t<tr><td>Liga Veneta                               </td></tr>\n",
       "\t<tr><td>Movimento 5 Stelle                        </td></tr>\n",
       "\t<tr><td>Movimento Sociale Italiano                </td></tr>\n",
       "\t<tr><td>Partito dei Comunisti Italiani            </td></tr>\n",
       "\t<tr><td>Partito della Rifondazione Comunista      </td></tr>\n",
       "\t<tr><td>Rivoluzione Civile                        </td></tr>\n",
       "\t<tr><td>Sinistra                                  </td></tr>\n",
       "</tbody>\n",
       "</table>\n"
      ],
      "text/latex": [
       "A tibble: 13 × 1\n",
       "\\begin{tabular}{l}\n",
       " party\\_name\\\\\n",
       " <chr>\\\\\n",
       "\\hline\n",
       "\t Fiamma Tricolore                          \\\\\n",
       "\t Forza Italia – Il Popolo della Libertà    \\\\\n",
       "\t Fratelli d'Italia – Centrodestra Nazionale\\\\\n",
       "\t Il Popolo della Libertà                   \\\\\n",
       "\t Lega (Nord)                               \\\\\n",
       "\t Lega d'Azione Meridionale                 \\\\\n",
       "\t Liga Veneta                               \\\\\n",
       "\t Movimento 5 Stelle                        \\\\\n",
       "\t Movimento Sociale Italiano                \\\\\n",
       "\t Partito dei Comunisti Italiani            \\\\\n",
       "\t Partito della Rifondazione Comunista      \\\\\n",
       "\t Rivoluzione Civile                        \\\\\n",
       "\t Sinistra                                  \\\\\n",
       "\\end{tabular}\n"
      ],
      "text/markdown": [
       "\n",
       "A tibble: 13 × 1\n",
       "\n",
       "| party_name &lt;chr&gt; |\n",
       "|---|\n",
       "| Fiamma Tricolore                           |\n",
       "| Forza Italia – Il Popolo della Libertà     |\n",
       "| Fratelli d'Italia – Centrodestra Nazionale |\n",
       "| Il Popolo della Libertà                    |\n",
       "| Lega (Nord)                                |\n",
       "| Lega d'Azione Meridionale                  |\n",
       "| Liga Veneta                                |\n",
       "| Movimento 5 Stelle                         |\n",
       "| Movimento Sociale Italiano                 |\n",
       "| Partito dei Comunisti Italiani             |\n",
       "| Partito della Rifondazione Comunista       |\n",
       "| Rivoluzione Civile                         |\n",
       "| Sinistra                                   |\n",
       "\n"
      ],
      "text/plain": [
       "   party_name                                \n",
       "1  Fiamma Tricolore                          \n",
       "2  Forza Italia – Il Popolo della Libertà    \n",
       "3  Fratelli d'Italia – Centrodestra Nazionale\n",
       "4  Il Popolo della Libertà                   \n",
       "5  Lega (Nord)                               \n",
       "6  Lega d'Azione Meridionale                 \n",
       "7  Liga Veneta                               \n",
       "8  Movimento 5 Stelle                        \n",
       "9  Movimento Sociale Italiano                \n",
       "10 Partito dei Comunisti Italiani            \n",
       "11 Partito della Rifondazione Comunista      \n",
       "12 Rivoluzione Civile                        \n",
       "13 Sinistra                                  "
      ]
     },
     "metadata": {},
     "output_type": "display_data"
    }
   ],
   "source": [
    "populist %>% filter(country_name == \"Italy\") %>% distinct(party_name)"
   ]
  },
  {
   "cell_type": "markdown",
   "id": "05550252",
   "metadata": {},
   "source": [
    "\"Fiamma tricolore\", \"Lega d'Azione Meridionale\", \"Movimento Sociale Italiano\" are not in our dataset. So let's drop them from the PopuList dataset."
   ]
  },
  {
   "cell_type": "code",
   "execution_count": 29,
   "id": "b6c5b09d",
   "metadata": {},
   "outputs": [],
   "source": [
    "to_drop <- c(\"Fiamma Tricolore\", \"Lega d'Azione Meridionale\", \"Movimento Sociale Italiano\")\n",
    "\n",
    "populist <- populist %>% \n",
    "filter(country_name == \"Italy\" & (!party_name %in% to_drop))"
   ]
  },
  {
   "cell_type": "markdown",
   "id": "bb3e94a7",
   "metadata": {},
   "source": [
    "Let's compare the populism scores between PopuList and R&D' dictionary by focusing on those parties that are present in both datasets. There is no year variable in the PopuList dataset so we're only grouping by party.  "
   ]
  },
  {
   "cell_type": "markdown",
   "id": "08b59a35",
   "metadata": {},
   "source": [
    "According to the dictionary analysis, FI-PDL, FdI, Lega and M5S have higher populism scores compared to most parties. These parties are all coded as populist in the PopuList dataset. The two measures can thus be considered similar."
   ]
  },
  {
   "cell_type": "code",
   "execution_count": 30,
   "id": "08f0f15d",
   "metadata": {},
   "outputs": [
    {
     "data": {
      "text/html": [
       "<table class=\"dataframe\">\n",
       "<caption>A tibble: 10 × 2</caption>\n",
       "<thead>\n",
       "\t<tr><th scope=col>party_name</th><th scope=col>mean_populist</th></tr>\n",
       "\t<tr><th scope=col>&lt;chr&gt;</th><th scope=col>&lt;dbl&gt;</th></tr>\n",
       "</thead>\n",
       "<tbody>\n",
       "\t<tr><td>Forza Italia – Il Popolo della Libertà    </td><td>1</td></tr>\n",
       "\t<tr><td>Fratelli d'Italia – Centrodestra Nazionale</td><td>1</td></tr>\n",
       "\t<tr><td>Il Popolo della Libertà                   </td><td>1</td></tr>\n",
       "\t<tr><td>Lega (Nord)                               </td><td>1</td></tr>\n",
       "\t<tr><td>Liga Veneta                               </td><td>1</td></tr>\n",
       "\t<tr><td>Movimento 5 Stelle                        </td><td>1</td></tr>\n",
       "\t<tr><td>Partito dei Comunisti Italiani            </td><td>0</td></tr>\n",
       "\t<tr><td>Partito della Rifondazione Comunista      </td><td>0</td></tr>\n",
       "\t<tr><td>Rivoluzione Civile                        </td><td>0</td></tr>\n",
       "\t<tr><td>Sinistra                                  </td><td>0</td></tr>\n",
       "</tbody>\n",
       "</table>\n"
      ],
      "text/latex": [
       "A tibble: 10 × 2\n",
       "\\begin{tabular}{ll}\n",
       " party\\_name & mean\\_populist\\\\\n",
       " <chr> & <dbl>\\\\\n",
       "\\hline\n",
       "\t Forza Italia – Il Popolo della Libertà     & 1\\\\\n",
       "\t Fratelli d'Italia – Centrodestra Nazionale & 1\\\\\n",
       "\t Il Popolo della Libertà                    & 1\\\\\n",
       "\t Lega (Nord)                                & 1\\\\\n",
       "\t Liga Veneta                                & 1\\\\\n",
       "\t Movimento 5 Stelle                         & 1\\\\\n",
       "\t Partito dei Comunisti Italiani             & 0\\\\\n",
       "\t Partito della Rifondazione Comunista       & 0\\\\\n",
       "\t Rivoluzione Civile                         & 0\\\\\n",
       "\t Sinistra                                   & 0\\\\\n",
       "\\end{tabular}\n"
      ],
      "text/markdown": [
       "\n",
       "A tibble: 10 × 2\n",
       "\n",
       "| party_name &lt;chr&gt; | mean_populist &lt;dbl&gt; |\n",
       "|---|---|\n",
       "| Forza Italia – Il Popolo della Libertà     | 1 |\n",
       "| Fratelli d'Italia – Centrodestra Nazionale | 1 |\n",
       "| Il Popolo della Libertà                    | 1 |\n",
       "| Lega (Nord)                                | 1 |\n",
       "| Liga Veneta                                | 1 |\n",
       "| Movimento 5 Stelle                         | 1 |\n",
       "| Partito dei Comunisti Italiani             | 0 |\n",
       "| Partito della Rifondazione Comunista       | 0 |\n",
       "| Rivoluzione Civile                         | 0 |\n",
       "| Sinistra                                   | 0 |\n",
       "\n"
      ],
      "text/plain": [
       "   party_name                                 mean_populist\n",
       "1  Forza Italia – Il Popolo della Libertà     1            \n",
       "2  Fratelli d'Italia – Centrodestra Nazionale 1            \n",
       "3  Il Popolo della Libertà                    1            \n",
       "4  Lega (Nord)                                1            \n",
       "5  Liga Veneta                                1            \n",
       "6  Movimento 5 Stelle                         1            \n",
       "7  Partito dei Comunisti Italiani             0            \n",
       "8  Partito della Rifondazione Comunista       0            \n",
       "9  Rivoluzione Civile                         0            \n",
       "10 Sinistra                                   0            "
      ]
     },
     "metadata": {},
     "output_type": "display_data"
    }
   ],
   "source": [
    "populist %>% \n",
    "group_by(party_name) %>% \n",
    "summarize(mean_populist = mean(populist)) %>% \n",
    "arrange(desc(mean_populist))"
   ]
  },
  {
   "cell_type": "code",
   "execution_count": 32,
   "id": "b3a0f95d",
   "metadata": {},
   "outputs": [
    {
     "data": {
      "text/html": [
       "<table class=\"dataframe\">\n",
       "<caption>A tibble: 18 × 3</caption>\n",
       "<thead>\n",
       "\t<tr><th scope=col>party</th><th scope=col>mean_perc_of_populist_toks</th><th scope=col>mean_standardized_perc_of_populist_toks</th></tr>\n",
       "\t<tr><th scope=col>&lt;chr&gt;</th><th scope=col>&lt;dbl&gt;</th><th scope=col>&lt;dbl&gt;</th></tr>\n",
       "</thead>\n",
       "<tbody>\n",
       "\t<tr><td>FDI          </td><td>0.0013768350</td><td> 0.117044671</td></tr>\n",
       "\t<tr><td>FDI-AN       </td><td>0.0013291380</td><td> 0.107581718</td></tr>\n",
       "\t<tr><td>COMUNISTA    </td><td>0.0012596427</td><td> 0.093794031</td></tr>\n",
       "\t<tr><td>SI-SEL-POS-LU</td><td>0.0012010564</td><td> 0.082170678</td></tr>\n",
       "\t<tr><td>LEGA-NORD-P  </td><td>0.0011313917</td><td> 0.068349389</td></tr>\n",
       "\t<tr><td>RC           </td><td>0.0009854664</td><td> 0.039398218</td></tr>\n",
       "\t<tr><td>M5S          </td><td>0.0009845364</td><td> 0.039213693</td></tr>\n",
       "\t<tr><td>RC-PROGR     </td><td>0.0009804464</td><td> 0.038402260</td></tr>\n",
       "\t<tr><td>FI-PDL       </td><td>0.0009724746</td><td> 0.036820669</td></tr>\n",
       "\t<tr><td>LNA          </td><td>0.0009143046</td><td> 0.025279909</td></tr>\n",
       "\t<tr><td>LEGA         </td><td>0.0009079799</td><td> 0.024025104</td></tr>\n",
       "\t<tr><td>F-ITA        </td><td>0.0008389414</td><td> 0.010328046</td></tr>\n",
       "\t<tr><td>LEGA-N       </td><td>0.0008230400</td><td> 0.007173264</td></tr>\n",
       "\t<tr><td>PDL          </td><td>0.0007428191</td><td>-0.008742357</td></tr>\n",
       "\t<tr><td>LNP          </td><td>0.0007267659</td><td>-0.011927265</td></tr>\n",
       "\t<tr><td>RC-SE        </td><td>0.0006897815</td><td>-0.019264859</td></tr>\n",
       "\t<tr><td>FI           </td><td>0.0006791915</td><td>-0.021365885</td></tr>\n",
       "\t<tr><td>COM/IT/      </td><td>0.0003141169</td><td>-0.093795691</td></tr>\n",
       "</tbody>\n",
       "</table>\n"
      ],
      "text/latex": [
       "A tibble: 18 × 3\n",
       "\\begin{tabular}{lll}\n",
       " party & mean\\_perc\\_of\\_populist\\_toks & mean\\_standardized\\_perc\\_of\\_populist\\_toks\\\\\n",
       " <chr> & <dbl> & <dbl>\\\\\n",
       "\\hline\n",
       "\t FDI           & 0.0013768350 &  0.117044671\\\\\n",
       "\t FDI-AN        & 0.0013291380 &  0.107581718\\\\\n",
       "\t COMUNISTA     & 0.0012596427 &  0.093794031\\\\\n",
       "\t SI-SEL-POS-LU & 0.0012010564 &  0.082170678\\\\\n",
       "\t LEGA-NORD-P   & 0.0011313917 &  0.068349389\\\\\n",
       "\t RC            & 0.0009854664 &  0.039398218\\\\\n",
       "\t M5S           & 0.0009845364 &  0.039213693\\\\\n",
       "\t RC-PROGR      & 0.0009804464 &  0.038402260\\\\\n",
       "\t FI-PDL        & 0.0009724746 &  0.036820669\\\\\n",
       "\t LNA           & 0.0009143046 &  0.025279909\\\\\n",
       "\t LEGA          & 0.0009079799 &  0.024025104\\\\\n",
       "\t F-ITA         & 0.0008389414 &  0.010328046\\\\\n",
       "\t LEGA-N        & 0.0008230400 &  0.007173264\\\\\n",
       "\t PDL           & 0.0007428191 & -0.008742357\\\\\n",
       "\t LNP           & 0.0007267659 & -0.011927265\\\\\n",
       "\t RC-SE         & 0.0006897815 & -0.019264859\\\\\n",
       "\t FI            & 0.0006791915 & -0.021365885\\\\\n",
       "\t COM/IT/       & 0.0003141169 & -0.093795691\\\\\n",
       "\\end{tabular}\n"
      ],
      "text/markdown": [
       "\n",
       "A tibble: 18 × 3\n",
       "\n",
       "| party &lt;chr&gt; | mean_perc_of_populist_toks &lt;dbl&gt; | mean_standardized_perc_of_populist_toks &lt;dbl&gt; |\n",
       "|---|---|---|\n",
       "| FDI           | 0.0013768350 |  0.117044671 |\n",
       "| FDI-AN        | 0.0013291380 |  0.107581718 |\n",
       "| COMUNISTA     | 0.0012596427 |  0.093794031 |\n",
       "| SI-SEL-POS-LU | 0.0012010564 |  0.082170678 |\n",
       "| LEGA-NORD-P   | 0.0011313917 |  0.068349389 |\n",
       "| RC            | 0.0009854664 |  0.039398218 |\n",
       "| M5S           | 0.0009845364 |  0.039213693 |\n",
       "| RC-PROGR      | 0.0009804464 |  0.038402260 |\n",
       "| FI-PDL        | 0.0009724746 |  0.036820669 |\n",
       "| LNA           | 0.0009143046 |  0.025279909 |\n",
       "| LEGA          | 0.0009079799 |  0.024025104 |\n",
       "| F-ITA         | 0.0008389414 |  0.010328046 |\n",
       "| LEGA-N        | 0.0008230400 |  0.007173264 |\n",
       "| PDL           | 0.0007428191 | -0.008742357 |\n",
       "| LNP           | 0.0007267659 | -0.011927265 |\n",
       "| RC-SE         | 0.0006897815 | -0.019264859 |\n",
       "| FI            | 0.0006791915 | -0.021365885 |\n",
       "| COM/IT/       | 0.0003141169 | -0.093795691 |\n",
       "\n"
      ],
      "text/plain": [
       "   party         mean_perc_of_populist_toks\n",
       "1  FDI           0.0013768350              \n",
       "2  FDI-AN        0.0013291380              \n",
       "3  COMUNISTA     0.0012596427              \n",
       "4  SI-SEL-POS-LU 0.0012010564              \n",
       "5  LEGA-NORD-P   0.0011313917              \n",
       "6  RC            0.0009854664              \n",
       "7  M5S           0.0009845364              \n",
       "8  RC-PROGR      0.0009804464              \n",
       "9  FI-PDL        0.0009724746              \n",
       "10 LNA           0.0009143046              \n",
       "11 LEGA          0.0009079799              \n",
       "12 F-ITA         0.0008389414              \n",
       "13 LEGA-N        0.0008230400              \n",
       "14 PDL           0.0007428191              \n",
       "15 LNP           0.0007267659              \n",
       "16 RC-SE         0.0006897815              \n",
       "17 FI            0.0006791915              \n",
       "18 COM/IT/       0.0003141169              \n",
       "   mean_standardized_perc_of_populist_toks\n",
       "1   0.117044671                           \n",
       "2   0.107581718                           \n",
       "3   0.093794031                           \n",
       "4   0.082170678                           \n",
       "5   0.068349389                           \n",
       "6   0.039398218                           \n",
       "7   0.039213693                           \n",
       "8   0.038402260                           \n",
       "9   0.036820669                           \n",
       "10  0.025279909                           \n",
       "11  0.024025104                           \n",
       "12  0.010328046                           \n",
       "13  0.007173264                           \n",
       "14 -0.008742357                           \n",
       "15 -0.011927265                           \n",
       "16 -0.019264859                           \n",
       "17 -0.021365885                           \n",
       "18 -0.093795691                           "
      ]
     },
     "metadata": {},
     "output_type": "display_data"
    }
   ],
   "source": [
    "to_keep <- c(\"F-ITA\", \"FI\", \"PDL\", \"FI-PDL\", \"FDI-AN\", \"FDI\", \"LEGA-N\", \"LEGA-NORD-P\", \"LNA\", \"LEGA\", \"LNP\", \"M5S\", \n",
    "             \"RC-PROGR\", \"COMUNISTA\", \"RC\", \"COM/IT/\", \"RC-SE\", \"SI-SEL-POS-LU\")\n",
    "\n",
    "df_rp %>% \n",
    "filter(party %in% to_keep) %>% \n",
    "group_by(party) %>% \n",
    "summarize(mean_perc_of_populist_toks = mean(perc_of_populist_toks, na.rm = TRUE),\n",
    "          mean_standardized_perc_of_populist_toks = mean(standardized_perc_of_populist_toks, na.rm = TRUE)) %>% \n",
    "arrange(desc(mean_perc_of_populist_toks))"
   ]
  },
  {
   "cell_type": "markdown",
   "id": "e41d0eb1",
   "metadata": {},
   "source": [
    "# Decadri & Boussalis <a class=\"anchor\" id=\"chapter6\"></a>"
   ]
  },
  {
   "cell_type": "markdown",
   "id": "cf03fc47",
   "metadata": {},
   "source": [
    "Let's run the dictionary analysis with Decadri and Boussalis' dictionary"
   ]
  },
  {
   "cell_type": "code",
   "execution_count": 33,
   "id": "e26bcd7e",
   "metadata": {},
   "outputs": [],
   "source": [
    "df_db <- dict_analysis(tokens = toks, dictionary = \"Decadri_Boussalis\")"
   ]
  },
  {
   "cell_type": "markdown",
   "id": "545adf07",
   "metadata": {},
   "source": [
    "The first rows of the dataframe"
   ]
  },
  {
   "cell_type": "code",
   "execution_count": 34,
   "id": "366cac9c",
   "metadata": {},
   "outputs": [
    {
     "data": {
      "text/html": [
       "<table class=\"dataframe\">\n",
       "<caption>A tibble: 6 × 10</caption>\n",
       "<thead>\n",
       "\t<tr><th scope=col>doc_id</th><th scope=col>party</th><th scope=col>year</th><th scope=col>group_cluster</th><th scope=col>anti_elitism</th><th scope=col>people_centrism</th><th scope=col>populist_toks</th><th scope=col>total_toks</th><th scope=col>perc_of_populist_toks</th><th scope=col>standardized_perc_of_populist_toks</th></tr>\n",
       "\t<tr><th scope=col>&lt;chr&gt;</th><th scope=col>&lt;chr&gt;</th><th scope=col>&lt;int&gt;</th><th scope=col>&lt;chr&gt;</th><th scope=col>&lt;dbl&gt;</th><th scope=col>&lt;dbl&gt;</th><th scope=col>&lt;dbl&gt;</th><th scope=col>&lt;int&gt;</th><th scope=col>&lt;dbl&gt;</th><th scope=col>&lt;dbl[,1]&gt;</th></tr>\n",
       "</thead>\n",
       "<tbody>\n",
       "\t<tr><td>text1</td><td>F-ITA   </td><td>1994</td><td>9_evolutionGroup </td><td>0</td><td>0</td><td>0</td><td>13</td><td>0</td><td>-0.2931703</td></tr>\n",
       "\t<tr><td>text2</td><td>PROGR-F </td><td>1994</td><td>1_evolutionGroup </td><td>0</td><td>0</td><td>0</td><td> 3</td><td>0</td><td>-0.2931703</td></tr>\n",
       "\t<tr><td>text3</td><td>LEGA-N  </td><td>1994</td><td>10_evolutionGroup</td><td>0</td><td>0</td><td>0</td><td>40</td><td>0</td><td>-0.2931703</td></tr>\n",
       "\t<tr><td>text4</td><td>RC-PROGR</td><td>1994</td><td>12_evolutionGroup</td><td>0</td><td>0</td><td>0</td><td> 3</td><td>0</td><td>-0.2931703</td></tr>\n",
       "\t<tr><td>text5</td><td>PROGR-F </td><td>1994</td><td>1_evolutionGroup </td><td>0</td><td>0</td><td>0</td><td> 4</td><td>0</td><td>-0.2931703</td></tr>\n",
       "\t<tr><td>text6</td><td>PPI     </td><td>1994</td><td>2_evolutionGroup </td><td>0</td><td>0</td><td>0</td><td> 3</td><td>0</td><td>-0.2931703</td></tr>\n",
       "</tbody>\n",
       "</table>\n"
      ],
      "text/latex": [
       "A tibble: 6 × 10\n",
       "\\begin{tabular}{llllllllll}\n",
       " doc\\_id & party & year & group\\_cluster & anti\\_elitism & people\\_centrism & populist\\_toks & total\\_toks & perc\\_of\\_populist\\_toks & standardized\\_perc\\_of\\_populist\\_toks\\\\\n",
       " <chr> & <chr> & <int> & <chr> & <dbl> & <dbl> & <dbl> & <int> & <dbl> & <dbl{[},1{]}>\\\\\n",
       "\\hline\n",
       "\t text1 & F-ITA    & 1994 & 9\\_evolutionGroup  & 0 & 0 & 0 & 13 & 0 & -0.2931703\\\\\n",
       "\t text2 & PROGR-F  & 1994 & 1\\_evolutionGroup  & 0 & 0 & 0 &  3 & 0 & -0.2931703\\\\\n",
       "\t text3 & LEGA-N   & 1994 & 10\\_evolutionGroup & 0 & 0 & 0 & 40 & 0 & -0.2931703\\\\\n",
       "\t text4 & RC-PROGR & 1994 & 12\\_evolutionGroup & 0 & 0 & 0 &  3 & 0 & -0.2931703\\\\\n",
       "\t text5 & PROGR-F  & 1994 & 1\\_evolutionGroup  & 0 & 0 & 0 &  4 & 0 & -0.2931703\\\\\n",
       "\t text6 & PPI      & 1994 & 2\\_evolutionGroup  & 0 & 0 & 0 &  3 & 0 & -0.2931703\\\\\n",
       "\\end{tabular}\n"
      ],
      "text/markdown": [
       "\n",
       "A tibble: 6 × 10\n",
       "\n",
       "| doc_id &lt;chr&gt; | party &lt;chr&gt; | year &lt;int&gt; | group_cluster &lt;chr&gt; | anti_elitism &lt;dbl&gt; | people_centrism &lt;dbl&gt; | populist_toks &lt;dbl&gt; | total_toks &lt;int&gt; | perc_of_populist_toks &lt;dbl&gt; | standardized_perc_of_populist_toks &lt;dbl[,1]&gt; |\n",
       "|---|---|---|---|---|---|---|---|---|---|\n",
       "| text1 | F-ITA    | 1994 | 9_evolutionGroup  | 0 | 0 | 0 | 13 | 0 | -0.2931703 |\n",
       "| text2 | PROGR-F  | 1994 | 1_evolutionGroup  | 0 | 0 | 0 |  3 | 0 | -0.2931703 |\n",
       "| text3 | LEGA-N   | 1994 | 10_evolutionGroup | 0 | 0 | 0 | 40 | 0 | -0.2931703 |\n",
       "| text4 | RC-PROGR | 1994 | 12_evolutionGroup | 0 | 0 | 0 |  3 | 0 | -0.2931703 |\n",
       "| text5 | PROGR-F  | 1994 | 1_evolutionGroup  | 0 | 0 | 0 |  4 | 0 | -0.2931703 |\n",
       "| text6 | PPI      | 1994 | 2_evolutionGroup  | 0 | 0 | 0 |  3 | 0 | -0.2931703 |\n",
       "\n"
      ],
      "text/plain": [
       "  doc_id party    year group_cluster     anti_elitism people_centrism\n",
       "1 text1  F-ITA    1994 9_evolutionGroup  0            0              \n",
       "2 text2  PROGR-F  1994 1_evolutionGroup  0            0              \n",
       "3 text3  LEGA-N   1994 10_evolutionGroup 0            0              \n",
       "4 text4  RC-PROGR 1994 12_evolutionGroup 0            0              \n",
       "5 text5  PROGR-F  1994 1_evolutionGroup  0            0              \n",
       "6 text6  PPI      1994 2_evolutionGroup  0            0              \n",
       "  populist_toks total_toks perc_of_populist_toks\n",
       "1 0             13         0                    \n",
       "2 0              3         0                    \n",
       "3 0             40         0                    \n",
       "4 0              3         0                    \n",
       "5 0              4         0                    \n",
       "6 0              3         0                    \n",
       "  standardized_perc_of_populist_toks\n",
       "1 -0.2931703                        \n",
       "2 -0.2931703                        \n",
       "3 -0.2931703                        \n",
       "4 -0.2931703                        \n",
       "5 -0.2931703                        \n",
       "6 -0.2931703                        "
      ]
     },
     "metadata": {},
     "output_type": "display_data"
    }
   ],
   "source": [
    "head(df_db)"
   ]
  },
  {
   "cell_type": "markdown",
   "id": "26347114",
   "metadata": {},
   "source": [
    "## Construct validity <a class=\"anchor\" id=\"subparagraph6\"></a>"
   ]
  },
  {
   "cell_type": "markdown",
   "id": "95f8eb54",
   "metadata": {},
   "source": [
    "Decadri and Boussalis' dictionary catpures both the \"anti-elitism\" and \"people-centrism\" dimenions of populist ideology and it thus constitutes an improvement over Rooduijn and Pauwels' dictionary in terms of construct validity."
   ]
  },
  {
   "cell_type": "markdown",
   "id": "b2a4a3dc",
   "metadata": {},
   "source": [
    "## Face validity <a class=\"anchor\" id=\"subparagraph7\"></a>"
   ]
  },
  {
   "cell_type": "markdown",
   "id": "df042fb4",
   "metadata": {},
   "source": [
    "Let's run an Analysis Of Variance (ANOVA) as we did before. Again, the difference in the % of populist tokens between parties is statistically significant."
   ]
  },
  {
   "cell_type": "code",
   "execution_count": 35,
   "id": "1d351dd5",
   "metadata": {},
   "outputs": [
    {
     "data": {
      "text/plain": [
       "                Df Sum Sq   Mean Sq F value Pr(>F)    \n",
       "party           54  0.153 0.0028286   39.97 <2e-16 ***\n",
       "Residuals   297559 21.060 0.0000708                   \n",
       "---\n",
       "Signif. codes:  0 '***' 0.001 '**' 0.01 '*' 0.05 '.' 0.1 ' ' 1\n",
       "59 observations deleted due to missingness"
      ]
     },
     "metadata": {},
     "output_type": "display_data"
    }
   ],
   "source": [
    "anova_db <- aov(perc_of_populist_toks ~ party, data = df_db)\n",
    "\n",
    "summary(anova_db)"
   ]
  },
  {
   "cell_type": "markdown",
   "id": "6809a726",
   "metadata": {},
   "source": [
    "To assess the face validity of Decadri and Boussalis' dictionary we'll have a look at the mean % of populist tokens (both anti-establishment and people-centrism) grouped by party and year."
   ]
  },
  {
   "cell_type": "markdown",
   "id": "0adcb2c4",
   "metadata": {},
   "source": [
    "As it was the case for R&P' dictionary, both mainstream (UDC, UDEUR, PPI) and populist (Lega, M5S, FI-PdL) party-year combinations received high populist scores."
   ]
  },
  {
   "cell_type": "code",
   "execution_count": 36,
   "id": "f8697cef",
   "metadata": {},
   "outputs": [
    {
     "data": {
      "text/html": [
       "<table class=\"dataframe\">\n",
       "<caption>A grouped_df: 20 × 4</caption>\n",
       "<thead>\n",
       "\t<tr><th scope=col>party</th><th scope=col>year</th><th scope=col>mean_perc_of_populist_toks</th><th scope=col>mean_standardized_perc_of_populist_toks</th></tr>\n",
       "\t<tr><th scope=col>&lt;chr&gt;</th><th scope=col>&lt;int&gt;</th><th scope=col>&lt;dbl&gt;</th><th scope=col>&lt;dbl&gt;</th></tr>\n",
       "</thead>\n",
       "<tbody>\n",
       "\t<tr><td>UNIONE DEI DEMOCRATICI CRISTIANI E DEI DEMOCRATICI DI CENTRO                                                                                                </td><td>2009</td><td>0.028508772</td><td>3.0836409</td></tr>\n",
       "\t<tr><td>SOCRAD-RNP                                                                                                                                                  </td><td>2009</td><td>0.011621573</td><td>1.0833835</td></tr>\n",
       "\t<tr><td>POP-UDEUR                                                                                                                                                   </td><td>2008</td><td>0.010379357</td><td>0.9362453</td></tr>\n",
       "\t<tr><td>VERDI                                                                                                                                                       </td><td>2008</td><td>0.007892093</td><td>0.6416335</td></tr>\n",
       "\t<tr><td>UNIONE DEI DEMOCRATICI CRISTIANI E DEI DEMOCRATICI DI CENTRO                                                                                                </td><td>2008</td><td>0.007494466</td><td>0.5945354</td></tr>\n",
       "\t<tr><td>PPI                                                                                                                                                         </td><td>1996</td><td>0.007464757</td><td>0.5910164</td></tr>\n",
       "\t<tr><td>DCA-NPSI                                                                                                                                                    </td><td>2008</td><td>0.007350240</td><td>0.5774520</td></tr>\n",
       "\t<tr><td>FLPTP                                                                                                                                                       </td><td>2008</td><td>0.006388134</td><td>0.4634924</td></tr>\n",
       "\t<tr><td>FLD                                                                                                                                                         </td><td>1996</td><td>0.005873414</td><td>0.4025247</td></tr>\n",
       "\t<tr><td>AP-CPE-NCD-NCI                                                                                                                                              </td><td>2015</td><td>0.005704498</td><td>0.3825169</td></tr>\n",
       "\t<tr><td>NOI SUD-LIBERTA' ED AUTONOMIA/POPOLARI D'ITALIA DOMANI-PID/MOVIMENTO DI RESPONSABILITA' NAZIONALE-MRN/AZIONE POPOLARE/ALLEANZA DI CENTRO-ADC/INTESA POPOLARE</td><td>2010</td><td>0.005565138</td><td>0.3660100</td></tr>\n",
       "\t<tr><td>FLPTP                                                                                                                                                       </td><td>2009</td><td>0.005511468</td><td>0.3596529</td></tr>\n",
       "\t<tr><td>SDPSE                                                                                                                                                       </td><td>2008</td><td>0.005355370</td><td>0.3411634</td></tr>\n",
       "\t<tr><td>LNA                                                                                                                                                         </td><td>2015</td><td>0.005242956</td><td>0.3278481</td></tr>\n",
       "\t<tr><td>M5S                                                                                                                                                         </td><td>2015</td><td>0.005123981</td><td>0.3137557</td></tr>\n",
       "\t<tr><td>FI-PDL                                                                                                                                                      </td><td>2015</td><td>0.004974306</td><td>0.2960270</td></tr>\n",
       "\t<tr><td>LNP                                                                                                                                                         </td><td>2008</td><td>0.004920140</td><td>0.2896112</td></tr>\n",
       "\t<tr><td>LNA                                                                                                                                                         </td><td>2016</td><td>0.004888618</td><td>0.2858775</td></tr>\n",
       "\t<tr><td>NOI SUD-LIBERTA' ED AUTONOMIA/POPOLARI D'ITALIA DOMANI-PID/MOVIMENTO DI RESPONSABILITA' NAZIONALE-MRN/AZIONE POPOLARE/ALLEANZA DI CENTRO-ADC/INTESA POPOLARE</td><td>2008</td><td>0.004887010</td><td>0.2856870</td></tr>\n",
       "\t<tr><td>LNA                                                                                                                                                         </td><td>2017</td><td>0.004782689</td><td>0.2733303</td></tr>\n",
       "</tbody>\n",
       "</table>\n"
      ],
      "text/latex": [
       "A grouped\\_df: 20 × 4\n",
       "\\begin{tabular}{llll}\n",
       " party & year & mean\\_perc\\_of\\_populist\\_toks & mean\\_standardized\\_perc\\_of\\_populist\\_toks\\\\\n",
       " <chr> & <int> & <dbl> & <dbl>\\\\\n",
       "\\hline\n",
       "\t UNIONE DEI DEMOCRATICI CRISTIANI E DEI DEMOCRATICI DI CENTRO                                                                                                 & 2009 & 0.028508772 & 3.0836409\\\\\n",
       "\t SOCRAD-RNP                                                                                                                                                   & 2009 & 0.011621573 & 1.0833835\\\\\n",
       "\t POP-UDEUR                                                                                                                                                    & 2008 & 0.010379357 & 0.9362453\\\\\n",
       "\t VERDI                                                                                                                                                        & 2008 & 0.007892093 & 0.6416335\\\\\n",
       "\t UNIONE DEI DEMOCRATICI CRISTIANI E DEI DEMOCRATICI DI CENTRO                                                                                                 & 2008 & 0.007494466 & 0.5945354\\\\\n",
       "\t PPI                                                                                                                                                          & 1996 & 0.007464757 & 0.5910164\\\\\n",
       "\t DCA-NPSI                                                                                                                                                     & 2008 & 0.007350240 & 0.5774520\\\\\n",
       "\t FLPTP                                                                                                                                                        & 2008 & 0.006388134 & 0.4634924\\\\\n",
       "\t FLD                                                                                                                                                          & 1996 & 0.005873414 & 0.4025247\\\\\n",
       "\t AP-CPE-NCD-NCI                                                                                                                                               & 2015 & 0.005704498 & 0.3825169\\\\\n",
       "\t NOI SUD-LIBERTA' ED AUTONOMIA/POPOLARI D'ITALIA DOMANI-PID/MOVIMENTO DI RESPONSABILITA' NAZIONALE-MRN/AZIONE POPOLARE/ALLEANZA DI CENTRO-ADC/INTESA POPOLARE & 2010 & 0.005565138 & 0.3660100\\\\\n",
       "\t FLPTP                                                                                                                                                        & 2009 & 0.005511468 & 0.3596529\\\\\n",
       "\t SDPSE                                                                                                                                                        & 2008 & 0.005355370 & 0.3411634\\\\\n",
       "\t LNA                                                                                                                                                          & 2015 & 0.005242956 & 0.3278481\\\\\n",
       "\t M5S                                                                                                                                                          & 2015 & 0.005123981 & 0.3137557\\\\\n",
       "\t FI-PDL                                                                                                                                                       & 2015 & 0.004974306 & 0.2960270\\\\\n",
       "\t LNP                                                                                                                                                          & 2008 & 0.004920140 & 0.2896112\\\\\n",
       "\t LNA                                                                                                                                                          & 2016 & 0.004888618 & 0.2858775\\\\\n",
       "\t NOI SUD-LIBERTA' ED AUTONOMIA/POPOLARI D'ITALIA DOMANI-PID/MOVIMENTO DI RESPONSABILITA' NAZIONALE-MRN/AZIONE POPOLARE/ALLEANZA DI CENTRO-ADC/INTESA POPOLARE & 2008 & 0.004887010 & 0.2856870\\\\\n",
       "\t LNA                                                                                                                                                          & 2017 & 0.004782689 & 0.2733303\\\\\n",
       "\\end{tabular}\n"
      ],
      "text/markdown": [
       "\n",
       "A grouped_df: 20 × 4\n",
       "\n",
       "| party &lt;chr&gt; | year &lt;int&gt; | mean_perc_of_populist_toks &lt;dbl&gt; | mean_standardized_perc_of_populist_toks &lt;dbl&gt; |\n",
       "|---|---|---|---|\n",
       "| UNIONE DEI DEMOCRATICI CRISTIANI E DEI DEMOCRATICI DI CENTRO                                                                                                 | 2009 | 0.028508772 | 3.0836409 |\n",
       "| SOCRAD-RNP                                                                                                                                                   | 2009 | 0.011621573 | 1.0833835 |\n",
       "| POP-UDEUR                                                                                                                                                    | 2008 | 0.010379357 | 0.9362453 |\n",
       "| VERDI                                                                                                                                                        | 2008 | 0.007892093 | 0.6416335 |\n",
       "| UNIONE DEI DEMOCRATICI CRISTIANI E DEI DEMOCRATICI DI CENTRO                                                                                                 | 2008 | 0.007494466 | 0.5945354 |\n",
       "| PPI                                                                                                                                                          | 1996 | 0.007464757 | 0.5910164 |\n",
       "| DCA-NPSI                                                                                                                                                     | 2008 | 0.007350240 | 0.5774520 |\n",
       "| FLPTP                                                                                                                                                        | 2008 | 0.006388134 | 0.4634924 |\n",
       "| FLD                                                                                                                                                          | 1996 | 0.005873414 | 0.4025247 |\n",
       "| AP-CPE-NCD-NCI                                                                                                                                               | 2015 | 0.005704498 | 0.3825169 |\n",
       "| NOI SUD-LIBERTA' ED AUTONOMIA/POPOLARI D'ITALIA DOMANI-PID/MOVIMENTO DI RESPONSABILITA' NAZIONALE-MRN/AZIONE POPOLARE/ALLEANZA DI CENTRO-ADC/INTESA POPOLARE | 2010 | 0.005565138 | 0.3660100 |\n",
       "| FLPTP                                                                                                                                                        | 2009 | 0.005511468 | 0.3596529 |\n",
       "| SDPSE                                                                                                                                                        | 2008 | 0.005355370 | 0.3411634 |\n",
       "| LNA                                                                                                                                                          | 2015 | 0.005242956 | 0.3278481 |\n",
       "| M5S                                                                                                                                                          | 2015 | 0.005123981 | 0.3137557 |\n",
       "| FI-PDL                                                                                                                                                       | 2015 | 0.004974306 | 0.2960270 |\n",
       "| LNP                                                                                                                                                          | 2008 | 0.004920140 | 0.2896112 |\n",
       "| LNA                                                                                                                                                          | 2016 | 0.004888618 | 0.2858775 |\n",
       "| NOI SUD-LIBERTA' ED AUTONOMIA/POPOLARI D'ITALIA DOMANI-PID/MOVIMENTO DI RESPONSABILITA' NAZIONALE-MRN/AZIONE POPOLARE/ALLEANZA DI CENTRO-ADC/INTESA POPOLARE | 2008 | 0.004887010 | 0.2856870 |\n",
       "| LNA                                                                                                                                                          | 2017 | 0.004782689 | 0.2733303 |\n",
       "\n"
      ],
      "text/plain": [
       "   party                                                                                                                                                       \n",
       "1  UNIONE DEI DEMOCRATICI CRISTIANI E DEI DEMOCRATICI DI CENTRO                                                                                                \n",
       "2  SOCRAD-RNP                                                                                                                                                  \n",
       "3  POP-UDEUR                                                                                                                                                   \n",
       "4  VERDI                                                                                                                                                       \n",
       "5  UNIONE DEI DEMOCRATICI CRISTIANI E DEI DEMOCRATICI DI CENTRO                                                                                                \n",
       "6  PPI                                                                                                                                                         \n",
       "7  DCA-NPSI                                                                                                                                                    \n",
       "8  FLPTP                                                                                                                                                       \n",
       "9  FLD                                                                                                                                                         \n",
       "10 AP-CPE-NCD-NCI                                                                                                                                              \n",
       "11 NOI SUD-LIBERTA' ED AUTONOMIA/POPOLARI D'ITALIA DOMANI-PID/MOVIMENTO DI RESPONSABILITA' NAZIONALE-MRN/AZIONE POPOLARE/ALLEANZA DI CENTRO-ADC/INTESA POPOLARE\n",
       "12 FLPTP                                                                                                                                                       \n",
       "13 SDPSE                                                                                                                                                       \n",
       "14 LNA                                                                                                                                                         \n",
       "15 M5S                                                                                                                                                         \n",
       "16 FI-PDL                                                                                                                                                      \n",
       "17 LNP                                                                                                                                                         \n",
       "18 LNA                                                                                                                                                         \n",
       "19 NOI SUD-LIBERTA' ED AUTONOMIA/POPOLARI D'ITALIA DOMANI-PID/MOVIMENTO DI RESPONSABILITA' NAZIONALE-MRN/AZIONE POPOLARE/ALLEANZA DI CENTRO-ADC/INTESA POPOLARE\n",
       "20 LNA                                                                                                                                                         \n",
       "   year mean_perc_of_populist_toks mean_standardized_perc_of_populist_toks\n",
       "1  2009 0.028508772                3.0836409                              \n",
       "2  2009 0.011621573                1.0833835                              \n",
       "3  2008 0.010379357                0.9362453                              \n",
       "4  2008 0.007892093                0.6416335                              \n",
       "5  2008 0.007494466                0.5945354                              \n",
       "6  1996 0.007464757                0.5910164                              \n",
       "7  2008 0.007350240                0.5774520                              \n",
       "8  2008 0.006388134                0.4634924                              \n",
       "9  1996 0.005873414                0.4025247                              \n",
       "10 2015 0.005704498                0.3825169                              \n",
       "11 2010 0.005565138                0.3660100                              \n",
       "12 2009 0.005511468                0.3596529                              \n",
       "13 2008 0.005355370                0.3411634                              \n",
       "14 2015 0.005242956                0.3278481                              \n",
       "15 2015 0.005123981                0.3137557                              \n",
       "16 2015 0.004974306                0.2960270                              \n",
       "17 2008 0.004920140                0.2896112                              \n",
       "18 2016 0.004888618                0.2858775                              \n",
       "19 2008 0.004887010                0.2856870                              \n",
       "20 2017 0.004782689                0.2733303                              "
      ]
     },
     "metadata": {},
     "output_type": "display_data"
    }
   ],
   "source": [
    "df_db %>% \n",
    "group_by(party, year) %>% \n",
    "summarize(mean_perc_of_populist_toks = mean(perc_of_populist_toks, na.rm = TRUE),\n",
    "          mean_standardized_perc_of_populist_toks = mean(standardized_perc_of_populist_toks, na.rm = TRUE),\n",
    "          .groups = \"keep\") %>% \n",
    "arrange(desc(mean_standardized_perc_of_populist_toks)) %>% \n",
    "head(20)"
   ]
  },
  {
   "cell_type": "markdown",
   "id": "2dde4e46",
   "metadata": {},
   "source": [
    "Similarly, when we look at the party-year combinations with the lowest populist scores we find both mainstream and populist parties. This seems to suggest that D&B' dictionary lacks face validity."
   ]
  },
  {
   "cell_type": "code",
   "execution_count": 37,
   "id": "6d2b7b10",
   "metadata": {},
   "outputs": [
    {
     "data": {
      "text/html": [
       "<table class=\"dataframe\">\n",
       "<caption>A grouped_df: 20 × 4</caption>\n",
       "<thead>\n",
       "\t<tr><th scope=col>party</th><th scope=col>year</th><th scope=col>mean_perc_of_populist_toks</th><th scope=col>mean_standardized_perc_of_populist_toks</th></tr>\n",
       "\t<tr><th scope=col>&lt;chr&gt;</th><th scope=col>&lt;int&gt;</th><th scope=col>&lt;dbl&gt;</th><th scope=col>&lt;dbl&gt;</th></tr>\n",
       "</thead>\n",
       "<tbody>\n",
       "\t<tr><td>DES-CD    </td><td>2014</td><td>0.0011174415</td><td>-0.1608114</td></tr>\n",
       "\t<tr><td>FI        </td><td>2002</td><td>0.0011147634</td><td>-0.1611287</td></tr>\n",
       "\t<tr><td>AN        </td><td>2002</td><td>0.0011103368</td><td>-0.1616530</td></tr>\n",
       "\t<tr><td>RINN/IT   </td><td>1999</td><td>0.0010955878</td><td>-0.1634000</td></tr>\n",
       "\t<tr><td>CCD-CDU   </td><td>2002</td><td>0.0010161716</td><td>-0.1728067</td></tr>\n",
       "\t<tr><td>FI-PDL    </td><td>2018</td><td>0.0009904505</td><td>-0.1758533</td></tr>\n",
       "\t<tr><td>DES-CD    </td><td>2015</td><td>0.0008868901</td><td>-0.1881198</td></tr>\n",
       "\t<tr><td>DES-CD    </td><td>2016</td><td>0.0006750166</td><td>-0.2132158</td></tr>\n",
       "\t<tr><td>RC-SE     </td><td>2009</td><td>0.0006309148</td><td>-0.2184396</td></tr>\n",
       "\t<tr><td>SOCRAD-RNP</td><td>2008</td><td>0.0004388236</td><td>-0.2411925</td></tr>\n",
       "\t<tr><td>UDEUR     </td><td>1996</td><td>0.0004297151</td><td>-0.2422714</td></tr>\n",
       "\t<tr><td>LIFED     </td><td>1995</td><td>0.0002068966</td><td>-0.2686638</td></tr>\n",
       "\t<tr><td>CI        </td><td>2018</td><td>0.0000000000</td><td>-0.2931703</td></tr>\n",
       "\t<tr><td>COM/IT/   </td><td>2008</td><td>0.0000000000</td><td>-0.2931703</td></tr>\n",
       "\t<tr><td>DCA-NPSI  </td><td>2009</td><td>0.0000000000</td><td>-0.2931703</td></tr>\n",
       "\t<tr><td>FDI-AN    </td><td>2018</td><td>0.0000000000</td><td>-0.2931703</td></tr>\n",
       "\t<tr><td>FLPTP     </td><td>2013</td><td>0.0000000000</td><td>-0.2931703</td></tr>\n",
       "\t<tr><td>LIFED     </td><td>1994</td><td>0.0000000000</td><td>-0.2931703</td></tr>\n",
       "\t<tr><td>LIFED     </td><td>1996</td><td>0.0000000000</td><td>-0.2931703</td></tr>\n",
       "\t<tr><td>SDPSE     </td><td>2009</td><td>0.0000000000</td><td>-0.2931703</td></tr>\n",
       "</tbody>\n",
       "</table>\n"
      ],
      "text/latex": [
       "A grouped\\_df: 20 × 4\n",
       "\\begin{tabular}{llll}\n",
       " party & year & mean\\_perc\\_of\\_populist\\_toks & mean\\_standardized\\_perc\\_of\\_populist\\_toks\\\\\n",
       " <chr> & <int> & <dbl> & <dbl>\\\\\n",
       "\\hline\n",
       "\t DES-CD     & 2014 & 0.0011174415 & -0.1608114\\\\\n",
       "\t FI         & 2002 & 0.0011147634 & -0.1611287\\\\\n",
       "\t AN         & 2002 & 0.0011103368 & -0.1616530\\\\\n",
       "\t RINN/IT    & 1999 & 0.0010955878 & -0.1634000\\\\\n",
       "\t CCD-CDU    & 2002 & 0.0010161716 & -0.1728067\\\\\n",
       "\t FI-PDL     & 2018 & 0.0009904505 & -0.1758533\\\\\n",
       "\t DES-CD     & 2015 & 0.0008868901 & -0.1881198\\\\\n",
       "\t DES-CD     & 2016 & 0.0006750166 & -0.2132158\\\\\n",
       "\t RC-SE      & 2009 & 0.0006309148 & -0.2184396\\\\\n",
       "\t SOCRAD-RNP & 2008 & 0.0004388236 & -0.2411925\\\\\n",
       "\t UDEUR      & 1996 & 0.0004297151 & -0.2422714\\\\\n",
       "\t LIFED      & 1995 & 0.0002068966 & -0.2686638\\\\\n",
       "\t CI         & 2018 & 0.0000000000 & -0.2931703\\\\\n",
       "\t COM/IT/    & 2008 & 0.0000000000 & -0.2931703\\\\\n",
       "\t DCA-NPSI   & 2009 & 0.0000000000 & -0.2931703\\\\\n",
       "\t FDI-AN     & 2018 & 0.0000000000 & -0.2931703\\\\\n",
       "\t FLPTP      & 2013 & 0.0000000000 & -0.2931703\\\\\n",
       "\t LIFED      & 1994 & 0.0000000000 & -0.2931703\\\\\n",
       "\t LIFED      & 1996 & 0.0000000000 & -0.2931703\\\\\n",
       "\t SDPSE      & 2009 & 0.0000000000 & -0.2931703\\\\\n",
       "\\end{tabular}\n"
      ],
      "text/markdown": [
       "\n",
       "A grouped_df: 20 × 4\n",
       "\n",
       "| party &lt;chr&gt; | year &lt;int&gt; | mean_perc_of_populist_toks &lt;dbl&gt; | mean_standardized_perc_of_populist_toks &lt;dbl&gt; |\n",
       "|---|---|---|---|\n",
       "| DES-CD     | 2014 | 0.0011174415 | -0.1608114 |\n",
       "| FI         | 2002 | 0.0011147634 | -0.1611287 |\n",
       "| AN         | 2002 | 0.0011103368 | -0.1616530 |\n",
       "| RINN/IT    | 1999 | 0.0010955878 | -0.1634000 |\n",
       "| CCD-CDU    | 2002 | 0.0010161716 | -0.1728067 |\n",
       "| FI-PDL     | 2018 | 0.0009904505 | -0.1758533 |\n",
       "| DES-CD     | 2015 | 0.0008868901 | -0.1881198 |\n",
       "| DES-CD     | 2016 | 0.0006750166 | -0.2132158 |\n",
       "| RC-SE      | 2009 | 0.0006309148 | -0.2184396 |\n",
       "| SOCRAD-RNP | 2008 | 0.0004388236 | -0.2411925 |\n",
       "| UDEUR      | 1996 | 0.0004297151 | -0.2422714 |\n",
       "| LIFED      | 1995 | 0.0002068966 | -0.2686638 |\n",
       "| CI         | 2018 | 0.0000000000 | -0.2931703 |\n",
       "| COM/IT/    | 2008 | 0.0000000000 | -0.2931703 |\n",
       "| DCA-NPSI   | 2009 | 0.0000000000 | -0.2931703 |\n",
       "| FDI-AN     | 2018 | 0.0000000000 | -0.2931703 |\n",
       "| FLPTP      | 2013 | 0.0000000000 | -0.2931703 |\n",
       "| LIFED      | 1994 | 0.0000000000 | -0.2931703 |\n",
       "| LIFED      | 1996 | 0.0000000000 | -0.2931703 |\n",
       "| SDPSE      | 2009 | 0.0000000000 | -0.2931703 |\n",
       "\n"
      ],
      "text/plain": [
       "   party      year mean_perc_of_populist_toks\n",
       "1  DES-CD     2014 0.0011174415              \n",
       "2  FI         2002 0.0011147634              \n",
       "3  AN         2002 0.0011103368              \n",
       "4  RINN/IT    1999 0.0010955878              \n",
       "5  CCD-CDU    2002 0.0010161716              \n",
       "6  FI-PDL     2018 0.0009904505              \n",
       "7  DES-CD     2015 0.0008868901              \n",
       "8  DES-CD     2016 0.0006750166              \n",
       "9  RC-SE      2009 0.0006309148              \n",
       "10 SOCRAD-RNP 2008 0.0004388236              \n",
       "11 UDEUR      1996 0.0004297151              \n",
       "12 LIFED      1995 0.0002068966              \n",
       "13 CI         2018 0.0000000000              \n",
       "14 COM/IT/    2008 0.0000000000              \n",
       "15 DCA-NPSI   2009 0.0000000000              \n",
       "16 FDI-AN     2018 0.0000000000              \n",
       "17 FLPTP      2013 0.0000000000              \n",
       "18 LIFED      1994 0.0000000000              \n",
       "19 LIFED      1996 0.0000000000              \n",
       "20 SDPSE      2009 0.0000000000              \n",
       "   mean_standardized_perc_of_populist_toks\n",
       "1  -0.1608114                             \n",
       "2  -0.1611287                             \n",
       "3  -0.1616530                             \n",
       "4  -0.1634000                             \n",
       "5  -0.1728067                             \n",
       "6  -0.1758533                             \n",
       "7  -0.1881198                             \n",
       "8  -0.2132158                             \n",
       "9  -0.2184396                             \n",
       "10 -0.2411925                             \n",
       "11 -0.2422714                             \n",
       "12 -0.2686638                             \n",
       "13 -0.2931703                             \n",
       "14 -0.2931703                             \n",
       "15 -0.2931703                             \n",
       "16 -0.2931703                             \n",
       "17 -0.2931703                             \n",
       "18 -0.2931703                             \n",
       "19 -0.2931703                             \n",
       "20 -0.2931703                             "
      ]
     },
     "metadata": {},
     "output_type": "display_data"
    }
   ],
   "source": [
    "df_db %>% \n",
    "group_by(party, year) %>% \n",
    "summarize(mean_perc_of_populist_toks = mean(perc_of_populist_toks, na.rm = TRUE),\n",
    "          mean_standardized_perc_of_populist_toks = mean(standardized_perc_of_populist_toks, na.rm = TRUE),\n",
    "          .groups = \"keep\") %>% \n",
    "arrange(desc(mean_standardized_perc_of_populist_toks)) %>% \n",
    "tail(20)"
   ]
  },
  {
   "cell_type": "markdown",
   "id": "2d05b827",
   "metadata": {},
   "source": [
    "## External validity <a class=\"anchor\" id=\"subparagraph8\"></a>"
   ]
  },
  {
   "cell_type": "markdown",
   "id": "e83c7d29",
   "metadata": {},
   "source": [
    "### Chapel Hill Expert Survey <a class=\"anchor\" id=\"subparagraph9\"></a>"
   ]
  },
  {
   "cell_type": "markdown",
   "id": "554e790f",
   "metadata": {},
   "source": [
    "As Decadri and Boussalis' dictionary captures both dimensions of populism we will validate it against a combination of two different variables from the CHES dataset, i.e. \"anti-élite salience\" and \"people_vs_élite\". We'll use the former as a proxy for the anti-establishment component and the latter as a proxy for the people-centrist one. The \"people_vs_élite\" variable has been introduced in the 2019 edition of the dataset, so we'll only work with observations from this year."
   ]
  },
  {
   "cell_type": "code",
   "execution_count": 38,
   "id": "d9a84a64",
   "metadata": {},
   "outputs": [],
   "source": [
    "ches <- read_csv(\"data/1999-2019_CHES_dataset_means(v2).csv\", show_col_types = FALSE)"
   ]
  },
  {
   "cell_type": "markdown",
   "id": "0f1612f4",
   "metadata": {},
   "source": [
    "The following are the Italian parties in the CHES dataset for the year 2019"
   ]
  },
  {
   "cell_type": "code",
   "execution_count": 39,
   "id": "f7f1416f",
   "metadata": {},
   "outputs": [
    {
     "data": {
      "text/html": [
       "<table class=\"dataframe\">\n",
       "<caption>A tibble: 8 × 3</caption>\n",
       "<thead>\n",
       "\t<tr><th scope=col>party</th><th scope=col>antielite_salience</th><th scope=col>people_vs_elite</th></tr>\n",
       "\t<tr><th scope=col>&lt;chr&gt;</th><th scope=col>&lt;dbl&gt;</th><th scope=col>&lt;dbl&gt;</th></tr>\n",
       "</thead>\n",
       "<tbody>\n",
       "\t<tr><td>RI </td><td>2.200000</td><td>3.357143</td></tr>\n",
       "\t<tr><td>M5S</td><td>8.888889</td><td>9.529411</td></tr>\n",
       "\t<tr><td>SI </td><td>3.785714</td><td>2.666667</td></tr>\n",
       "\t<tr><td>FdI</td><td>8.000000</td><td>6.625000</td></tr>\n",
       "\t<tr><td>PD </td><td>1.882353</td><td>2.062500</td></tr>\n",
       "\t<tr><td>LN </td><td>8.333333</td><td>6.937500</td></tr>\n",
       "\t<tr><td>SVP</td><td>2.166667</td><td>1.400000</td></tr>\n",
       "\t<tr><td>FI </td><td>4.176471</td><td>4.066667</td></tr>\n",
       "</tbody>\n",
       "</table>\n"
      ],
      "text/latex": [
       "A tibble: 8 × 3\n",
       "\\begin{tabular}{lll}\n",
       " party & antielite\\_salience & people\\_vs\\_elite\\\\\n",
       " <chr> & <dbl> & <dbl>\\\\\n",
       "\\hline\n",
       "\t RI  & 2.200000 & 3.357143\\\\\n",
       "\t M5S & 8.888889 & 9.529411\\\\\n",
       "\t SI  & 3.785714 & 2.666667\\\\\n",
       "\t FdI & 8.000000 & 6.625000\\\\\n",
       "\t PD  & 1.882353 & 2.062500\\\\\n",
       "\t LN  & 8.333333 & 6.937500\\\\\n",
       "\t SVP & 2.166667 & 1.400000\\\\\n",
       "\t FI  & 4.176471 & 4.066667\\\\\n",
       "\\end{tabular}\n"
      ],
      "text/markdown": [
       "\n",
       "A tibble: 8 × 3\n",
       "\n",
       "| party &lt;chr&gt; | antielite_salience &lt;dbl&gt; | people_vs_elite &lt;dbl&gt; |\n",
       "|---|---|---|\n",
       "| RI  | 2.200000 | 3.357143 |\n",
       "| M5S | 8.888889 | 9.529411 |\n",
       "| SI  | 3.785714 | 2.666667 |\n",
       "| FdI | 8.000000 | 6.625000 |\n",
       "| PD  | 1.882353 | 2.062500 |\n",
       "| LN  | 8.333333 | 6.937500 |\n",
       "| SVP | 2.166667 | 1.400000 |\n",
       "| FI  | 4.176471 | 4.066667 |\n",
       "\n"
      ],
      "text/plain": [
       "  party antielite_salience people_vs_elite\n",
       "1 RI    2.200000           3.357143       \n",
       "2 M5S   8.888889           9.529411       \n",
       "3 SI    3.785714           2.666667       \n",
       "4 FdI   8.000000           6.625000       \n",
       "5 PD    1.882353           2.062500       \n",
       "6 LN    8.333333           6.937500       \n",
       "7 SVP   2.166667           1.400000       \n",
       "8 FI    4.176471           4.066667       "
      ]
     },
     "metadata": {},
     "output_type": "display_data"
    }
   ],
   "source": [
    "ches %>% filter(country == 8 & year == 2019) %>% select(party, antielite_salience, people_vs_elite)"
   ]
  },
  {
   "cell_type": "markdown",
   "id": "26641c92",
   "metadata": {},
   "source": [
    "The parties in our dataset in the same year"
   ]
  },
  {
   "cell_type": "code",
   "execution_count": 40,
   "id": "5a9f0641",
   "metadata": {},
   "outputs": [
    {
     "data": {
      "text/html": [
       "<table class=\"dataframe\">\n",
       "<caption>A tibble: 8 × 1</caption>\n",
       "<thead>\n",
       "\t<tr><th scope=col>party</th></tr>\n",
       "\t<tr><th scope=col>&lt;chr&gt;</th></tr>\n",
       "</thead>\n",
       "<tbody>\n",
       "\t<tr><td>M5S  </td></tr>\n",
       "\t<tr><td>LEGA </td></tr>\n",
       "\t<tr><td>PD   </td></tr>\n",
       "\t<tr><td>IV   </td></tr>\n",
       "\t<tr><td>FI   </td></tr>\n",
       "\t<tr><td>FDI  </td></tr>\n",
       "\t<tr><td>MISTO</td></tr>\n",
       "\t<tr><td>LEU  </td></tr>\n",
       "</tbody>\n",
       "</table>\n"
      ],
      "text/latex": [
       "A tibble: 8 × 1\n",
       "\\begin{tabular}{l}\n",
       " party\\\\\n",
       " <chr>\\\\\n",
       "\\hline\n",
       "\t M5S  \\\\\n",
       "\t LEGA \\\\\n",
       "\t PD   \\\\\n",
       "\t IV   \\\\\n",
       "\t FI   \\\\\n",
       "\t FDI  \\\\\n",
       "\t MISTO\\\\\n",
       "\t LEU  \\\\\n",
       "\\end{tabular}\n"
      ],
      "text/markdown": [
       "\n",
       "A tibble: 8 × 1\n",
       "\n",
       "| party &lt;chr&gt; |\n",
       "|---|\n",
       "| M5S   |\n",
       "| LEGA  |\n",
       "| PD    |\n",
       "| IV    |\n",
       "| FI    |\n",
       "| FDI   |\n",
       "| MISTO |\n",
       "| LEU   |\n",
       "\n"
      ],
      "text/plain": [
       "  party\n",
       "1 M5S  \n",
       "2 LEGA \n",
       "3 PD   \n",
       "4 IV   \n",
       "5 FI   \n",
       "6 FDI  \n",
       "7 MISTO\n",
       "8 LEU  "
      ]
     },
     "metadata": {},
     "output_type": "display_data"
    }
   ],
   "source": [
    "df_db %>% filter(year == 2019) %>% distinct(party)"
   ]
  },
  {
   "cell_type": "markdown",
   "id": "c0120674",
   "metadata": {},
   "source": [
    "\"Radicali Italiani\" and \"Südtiroler Volkspartei\" are not in our dataset so we'll drop them from CHES"
   ]
  },
  {
   "cell_type": "code",
   "execution_count": 41,
   "id": "9f51f572",
   "metadata": {},
   "outputs": [],
   "source": [
    "to_drop <- c(\"RI\", \"SVP\")\n",
    "\n",
    "ches <- ches %>% \n",
    "filter(country == 8 & year == 2019 & (!party %in% to_drop))"
   ]
  },
  {
   "cell_type": "markdown",
   "id": "95b782cf",
   "metadata": {},
   "source": [
    "Let's compute the average populist value for each party in the CHES dataset by summing the people vs elite and the anti-elite salience variables and then taking the mean"
   ]
  },
  {
   "cell_type": "code",
   "execution_count": 42,
   "id": "71f205d8",
   "metadata": {},
   "outputs": [
    {
     "data": {
      "text/html": [
       "<table class=\"dataframe\">\n",
       "<caption>A tibble: 6 × 2</caption>\n",
       "<thead>\n",
       "\t<tr><th scope=col>party</th><th scope=col>mean_populism</th></tr>\n",
       "\t<tr><th scope=col>&lt;chr&gt;</th><th scope=col>&lt;dbl&gt;</th></tr>\n",
       "</thead>\n",
       "<tbody>\n",
       "\t<tr><td>M5S</td><td>18.418301</td></tr>\n",
       "\t<tr><td>LN </td><td>15.270833</td></tr>\n",
       "\t<tr><td>FdI</td><td>14.625000</td></tr>\n",
       "\t<tr><td>FI </td><td> 8.243137</td></tr>\n",
       "\t<tr><td>SI </td><td> 6.452381</td></tr>\n",
       "\t<tr><td>PD </td><td> 3.944853</td></tr>\n",
       "</tbody>\n",
       "</table>\n"
      ],
      "text/latex": [
       "A tibble: 6 × 2\n",
       "\\begin{tabular}{ll}\n",
       " party & mean\\_populism\\\\\n",
       " <chr> & <dbl>\\\\\n",
       "\\hline\n",
       "\t M5S & 18.418301\\\\\n",
       "\t LN  & 15.270833\\\\\n",
       "\t FdI & 14.625000\\\\\n",
       "\t FI  &  8.243137\\\\\n",
       "\t SI  &  6.452381\\\\\n",
       "\t PD  &  3.944853\\\\\n",
       "\\end{tabular}\n"
      ],
      "text/markdown": [
       "\n",
       "A tibble: 6 × 2\n",
       "\n",
       "| party &lt;chr&gt; | mean_populism &lt;dbl&gt; |\n",
       "|---|---|\n",
       "| M5S | 18.418301 |\n",
       "| LN  | 15.270833 |\n",
       "| FdI | 14.625000 |\n",
       "| FI  |  8.243137 |\n",
       "| SI  |  6.452381 |\n",
       "| PD  |  3.944853 |\n",
       "\n"
      ],
      "text/plain": [
       "  party mean_populism\n",
       "1 M5S   18.418301    \n",
       "2 LN    15.270833    \n",
       "3 FdI   14.625000    \n",
       "4 FI     8.243137    \n",
       "5 SI     6.452381    \n",
       "6 PD     3.944853    "
      ]
     },
     "metadata": {},
     "output_type": "display_data"
    }
   ],
   "source": [
    "ches %>% \n",
    "group_by(party) %>% \n",
    "summarize(mean_populism = mean(people_vs_elite + antielite_salience)) %>% \n",
    "arrange(desc(mean_populism))"
   ]
  },
  {
   "cell_type": "markdown",
   "id": "5505e7e0",
   "metadata": {},
   "source": [
    "The two rankings are rather different. According to CHES, M5S and Lega rank as the two most populist parties, whereas in the results of the dictionary analysis they turned out to be the least populist ones."
   ]
  },
  {
   "cell_type": "code",
   "execution_count": 44,
   "id": "74863e6c",
   "metadata": {},
   "outputs": [
    {
     "data": {
      "text/html": [
       "<table class=\"dataframe\">\n",
       "<caption>A tibble: 6 × 3</caption>\n",
       "<thead>\n",
       "\t<tr><th scope=col>party</th><th scope=col>mean_perc_of_populist_toks</th><th scope=col>mean_standardized_perc_of_populist_toks</th></tr>\n",
       "\t<tr><th scope=col>&lt;chr&gt;</th><th scope=col>&lt;dbl&gt;</th><th scope=col>&lt;dbl&gt;</th></tr>\n",
       "</thead>\n",
       "<tbody>\n",
       "\t<tr><td>FI  </td><td>0.003968809</td><td> 0.17692773</td></tr>\n",
       "\t<tr><td>FDI </td><td>0.003611838</td><td> 0.13464516</td></tr>\n",
       "\t<tr><td>LEU </td><td>0.003213033</td><td> 0.08740749</td></tr>\n",
       "\t<tr><td>PD  </td><td>0.003152215</td><td> 0.08020377</td></tr>\n",
       "\t<tr><td>LEGA</td><td>0.002330550</td><td>-0.01712103</td></tr>\n",
       "\t<tr><td>M5S </td><td>0.002276121</td><td>-0.02356803</td></tr>\n",
       "</tbody>\n",
       "</table>\n"
      ],
      "text/latex": [
       "A tibble: 6 × 3\n",
       "\\begin{tabular}{lll}\n",
       " party & mean\\_perc\\_of\\_populist\\_toks & mean\\_standardized\\_perc\\_of\\_populist\\_toks\\\\\n",
       " <chr> & <dbl> & <dbl>\\\\\n",
       "\\hline\n",
       "\t FI   & 0.003968809 &  0.17692773\\\\\n",
       "\t FDI  & 0.003611838 &  0.13464516\\\\\n",
       "\t LEU  & 0.003213033 &  0.08740749\\\\\n",
       "\t PD   & 0.003152215 &  0.08020377\\\\\n",
       "\t LEGA & 0.002330550 & -0.01712103\\\\\n",
       "\t M5S  & 0.002276121 & -0.02356803\\\\\n",
       "\\end{tabular}\n"
      ],
      "text/markdown": [
       "\n",
       "A tibble: 6 × 3\n",
       "\n",
       "| party &lt;chr&gt; | mean_perc_of_populist_toks &lt;dbl&gt; | mean_standardized_perc_of_populist_toks &lt;dbl&gt; |\n",
       "|---|---|---|\n",
       "| FI   | 0.003968809 |  0.17692773 |\n",
       "| FDI  | 0.003611838 |  0.13464516 |\n",
       "| LEU  | 0.003213033 |  0.08740749 |\n",
       "| PD   | 0.003152215 |  0.08020377 |\n",
       "| LEGA | 0.002330550 | -0.01712103 |\n",
       "| M5S  | 0.002276121 | -0.02356803 |\n",
       "\n"
      ],
      "text/plain": [
       "  party mean_perc_of_populist_toks mean_standardized_perc_of_populist_toks\n",
       "1 FI    0.003968809                 0.17692773                            \n",
       "2 FDI   0.003611838                 0.13464516                            \n",
       "3 LEU   0.003213033                 0.08740749                            \n",
       "4 PD    0.003152215                 0.08020377                            \n",
       "5 LEGA  0.002330550                -0.01712103                            \n",
       "6 M5S   0.002276121                -0.02356803                            "
      ]
     },
     "metadata": {},
     "output_type": "display_data"
    }
   ],
   "source": [
    "to_drop <- c(\"IV\", \"MISTO\")\n",
    "\n",
    "df_db %>% \n",
    "filter(year == 2019 & (! party %in% to_drop)) %>% \n",
    "group_by(party) %>% \n",
    "summarize(mean_perc_of_populist_toks = mean(perc_of_populist_toks, na.rm = TRUE),\n",
    "          mean_standardized_perc_of_populist_toks = mean(standardized_perc_of_populist_toks, na.rm = TRUE)) %>% \n",
    "arrange(desc(mean_perc_of_populist_toks))"
   ]
  },
  {
   "cell_type": "markdown",
   "id": "61db5059",
   "metadata": {},
   "source": [
    "### The PopuList <a class=\"anchor\" id=\"subparagraph10\"></a>"
   ]
  },
  {
   "cell_type": "markdown",
   "id": "4946cd2d",
   "metadata": {},
   "source": [
    "Let's now compare D&B' dictionary with the PopuList dataset."
   ]
  },
  {
   "cell_type": "markdown",
   "id": "ccbacca7",
   "metadata": {},
   "source": [
    "Lega, FdI, FI/PdL and M5S rank among the most populist parties according to D&B' dictionary. These parties have all been coded as populist by PopuList. The two measures can thus be considered to be similar."
   ]
  },
  {
   "cell_type": "code",
   "execution_count": 45,
   "id": "3ced1ce3",
   "metadata": {},
   "outputs": [
    {
     "data": {
      "text/html": [
       "<table class=\"dataframe\">\n",
       "<caption>A tibble: 10 × 2</caption>\n",
       "<thead>\n",
       "\t<tr><th scope=col>party_name</th><th scope=col>mean_populist</th></tr>\n",
       "\t<tr><th scope=col>&lt;chr&gt;</th><th scope=col>&lt;dbl&gt;</th></tr>\n",
       "</thead>\n",
       "<tbody>\n",
       "\t<tr><td>Forza Italia – Il Popolo della Libertà    </td><td>1</td></tr>\n",
       "\t<tr><td>Fratelli d'Italia – Centrodestra Nazionale</td><td>1</td></tr>\n",
       "\t<tr><td>Il Popolo della Libertà                   </td><td>1</td></tr>\n",
       "\t<tr><td>Lega (Nord)                               </td><td>1</td></tr>\n",
       "\t<tr><td>Liga Veneta                               </td><td>1</td></tr>\n",
       "\t<tr><td>Movimento 5 Stelle                        </td><td>1</td></tr>\n",
       "\t<tr><td>Partito dei Comunisti Italiani            </td><td>0</td></tr>\n",
       "\t<tr><td>Partito della Rifondazione Comunista      </td><td>0</td></tr>\n",
       "\t<tr><td>Rivoluzione Civile                        </td><td>0</td></tr>\n",
       "\t<tr><td>Sinistra                                  </td><td>0</td></tr>\n",
       "</tbody>\n",
       "</table>\n"
      ],
      "text/latex": [
       "A tibble: 10 × 2\n",
       "\\begin{tabular}{ll}\n",
       " party\\_name & mean\\_populist\\\\\n",
       " <chr> & <dbl>\\\\\n",
       "\\hline\n",
       "\t Forza Italia – Il Popolo della Libertà     & 1\\\\\n",
       "\t Fratelli d'Italia – Centrodestra Nazionale & 1\\\\\n",
       "\t Il Popolo della Libertà                    & 1\\\\\n",
       "\t Lega (Nord)                                & 1\\\\\n",
       "\t Liga Veneta                                & 1\\\\\n",
       "\t Movimento 5 Stelle                         & 1\\\\\n",
       "\t Partito dei Comunisti Italiani             & 0\\\\\n",
       "\t Partito della Rifondazione Comunista       & 0\\\\\n",
       "\t Rivoluzione Civile                         & 0\\\\\n",
       "\t Sinistra                                   & 0\\\\\n",
       "\\end{tabular}\n"
      ],
      "text/markdown": [
       "\n",
       "A tibble: 10 × 2\n",
       "\n",
       "| party_name &lt;chr&gt; | mean_populist &lt;dbl&gt; |\n",
       "|---|---|\n",
       "| Forza Italia – Il Popolo della Libertà     | 1 |\n",
       "| Fratelli d'Italia – Centrodestra Nazionale | 1 |\n",
       "| Il Popolo della Libertà                    | 1 |\n",
       "| Lega (Nord)                                | 1 |\n",
       "| Liga Veneta                                | 1 |\n",
       "| Movimento 5 Stelle                         | 1 |\n",
       "| Partito dei Comunisti Italiani             | 0 |\n",
       "| Partito della Rifondazione Comunista       | 0 |\n",
       "| Rivoluzione Civile                         | 0 |\n",
       "| Sinistra                                   | 0 |\n",
       "\n"
      ],
      "text/plain": [
       "   party_name                                 mean_populist\n",
       "1  Forza Italia – Il Popolo della Libertà     1            \n",
       "2  Fratelli d'Italia – Centrodestra Nazionale 1            \n",
       "3  Il Popolo della Libertà                    1            \n",
       "4  Lega (Nord)                                1            \n",
       "5  Liga Veneta                                1            \n",
       "6  Movimento 5 Stelle                         1            \n",
       "7  Partito dei Comunisti Italiani             0            \n",
       "8  Partito della Rifondazione Comunista       0            \n",
       "9  Rivoluzione Civile                         0            \n",
       "10 Sinistra                                   0            "
      ]
     },
     "metadata": {},
     "output_type": "display_data"
    }
   ],
   "source": [
    "populist %>% \n",
    "group_by(party_name) %>% \n",
    "summarize(mean_populist = mean(populist)) %>% \n",
    "arrange(desc(mean_populist))"
   ]
  },
  {
   "cell_type": "code",
   "execution_count": 47,
   "id": "cc387e3f",
   "metadata": {},
   "outputs": [
    {
     "data": {
      "text/html": [
       "<table class=\"dataframe\">\n",
       "<caption>A tibble: 18 × 3</caption>\n",
       "<thead>\n",
       "\t<tr><th scope=col>party</th><th scope=col>mean_perc_of_populist_toks</th><th scope=col>mean_standardized_perc_of_populist_toks</th></tr>\n",
       "\t<tr><th scope=col>&lt;chr&gt;</th><th scope=col>&lt;dbl&gt;</th><th scope=col>&lt;dbl&gt;</th></tr>\n",
       "</thead>\n",
       "<tbody>\n",
       "\t<tr><td>LNA          </td><td>0.004457382</td><td> 0.234798281</td></tr>\n",
       "\t<tr><td>FDI-AN       </td><td>0.004030381</td><td> 0.184220866</td></tr>\n",
       "\t<tr><td>FI-PDL       </td><td>0.003836494</td><td> 0.161255302</td></tr>\n",
       "\t<tr><td>M5S          </td><td>0.003622699</td><td> 0.135931629</td></tr>\n",
       "\t<tr><td>PDL          </td><td>0.003558247</td><td> 0.128297458</td></tr>\n",
       "\t<tr><td>SI-SEL-POS-LU</td><td>0.003363589</td><td> 0.105240636</td></tr>\n",
       "\t<tr><td>LEGA-NORD-P  </td><td>0.003347112</td><td> 0.103288956</td></tr>\n",
       "\t<tr><td>FDI          </td><td>0.003296703</td><td> 0.097318030</td></tr>\n",
       "\t<tr><td>LNP          </td><td>0.003296006</td><td> 0.097235449</td></tr>\n",
       "\t<tr><td>COMUNISTA    </td><td>0.002970165</td><td> 0.058640207</td></tr>\n",
       "\t<tr><td>LEGA         </td><td>0.002406215</td><td>-0.008158652</td></tr>\n",
       "\t<tr><td>RC-PROGR     </td><td>0.002364932</td><td>-0.013048528</td></tr>\n",
       "\t<tr><td>COM/IT/      </td><td>0.002312490</td><td>-0.019260157</td></tr>\n",
       "\t<tr><td>RC           </td><td>0.002263155</td><td>-0.025103742</td></tr>\n",
       "\t<tr><td>FI           </td><td>0.001933395</td><td>-0.064163295</td></tr>\n",
       "\t<tr><td>RC-SE        </td><td>0.001919634</td><td>-0.065793271</td></tr>\n",
       "\t<tr><td>LEGA-N       </td><td>0.001901838</td><td>-0.067901141</td></tr>\n",
       "\t<tr><td>F-ITA        </td><td>0.001882398</td><td>-0.070203709</td></tr>\n",
       "</tbody>\n",
       "</table>\n"
      ],
      "text/latex": [
       "A tibble: 18 × 3\n",
       "\\begin{tabular}{lll}\n",
       " party & mean\\_perc\\_of\\_populist\\_toks & mean\\_standardized\\_perc\\_of\\_populist\\_toks\\\\\n",
       " <chr> & <dbl> & <dbl>\\\\\n",
       "\\hline\n",
       "\t LNA           & 0.004457382 &  0.234798281\\\\\n",
       "\t FDI-AN        & 0.004030381 &  0.184220866\\\\\n",
       "\t FI-PDL        & 0.003836494 &  0.161255302\\\\\n",
       "\t M5S           & 0.003622699 &  0.135931629\\\\\n",
       "\t PDL           & 0.003558247 &  0.128297458\\\\\n",
       "\t SI-SEL-POS-LU & 0.003363589 &  0.105240636\\\\\n",
       "\t LEGA-NORD-P   & 0.003347112 &  0.103288956\\\\\n",
       "\t FDI           & 0.003296703 &  0.097318030\\\\\n",
       "\t LNP           & 0.003296006 &  0.097235449\\\\\n",
       "\t COMUNISTA     & 0.002970165 &  0.058640207\\\\\n",
       "\t LEGA          & 0.002406215 & -0.008158652\\\\\n",
       "\t RC-PROGR      & 0.002364932 & -0.013048528\\\\\n",
       "\t COM/IT/       & 0.002312490 & -0.019260157\\\\\n",
       "\t RC            & 0.002263155 & -0.025103742\\\\\n",
       "\t FI            & 0.001933395 & -0.064163295\\\\\n",
       "\t RC-SE         & 0.001919634 & -0.065793271\\\\\n",
       "\t LEGA-N        & 0.001901838 & -0.067901141\\\\\n",
       "\t F-ITA         & 0.001882398 & -0.070203709\\\\\n",
       "\\end{tabular}\n"
      ],
      "text/markdown": [
       "\n",
       "A tibble: 18 × 3\n",
       "\n",
       "| party &lt;chr&gt; | mean_perc_of_populist_toks &lt;dbl&gt; | mean_standardized_perc_of_populist_toks &lt;dbl&gt; |\n",
       "|---|---|---|\n",
       "| LNA           | 0.004457382 |  0.234798281 |\n",
       "| FDI-AN        | 0.004030381 |  0.184220866 |\n",
       "| FI-PDL        | 0.003836494 |  0.161255302 |\n",
       "| M5S           | 0.003622699 |  0.135931629 |\n",
       "| PDL           | 0.003558247 |  0.128297458 |\n",
       "| SI-SEL-POS-LU | 0.003363589 |  0.105240636 |\n",
       "| LEGA-NORD-P   | 0.003347112 |  0.103288956 |\n",
       "| FDI           | 0.003296703 |  0.097318030 |\n",
       "| LNP           | 0.003296006 |  0.097235449 |\n",
       "| COMUNISTA     | 0.002970165 |  0.058640207 |\n",
       "| LEGA          | 0.002406215 | -0.008158652 |\n",
       "| RC-PROGR      | 0.002364932 | -0.013048528 |\n",
       "| COM/IT/       | 0.002312490 | -0.019260157 |\n",
       "| RC            | 0.002263155 | -0.025103742 |\n",
       "| FI            | 0.001933395 | -0.064163295 |\n",
       "| RC-SE         | 0.001919634 | -0.065793271 |\n",
       "| LEGA-N        | 0.001901838 | -0.067901141 |\n",
       "| F-ITA         | 0.001882398 | -0.070203709 |\n",
       "\n"
      ],
      "text/plain": [
       "   party         mean_perc_of_populist_toks\n",
       "1  LNA           0.004457382               \n",
       "2  FDI-AN        0.004030381               \n",
       "3  FI-PDL        0.003836494               \n",
       "4  M5S           0.003622699               \n",
       "5  PDL           0.003558247               \n",
       "6  SI-SEL-POS-LU 0.003363589               \n",
       "7  LEGA-NORD-P   0.003347112               \n",
       "8  FDI           0.003296703               \n",
       "9  LNP           0.003296006               \n",
       "10 COMUNISTA     0.002970165               \n",
       "11 LEGA          0.002406215               \n",
       "12 RC-PROGR      0.002364932               \n",
       "13 COM/IT/       0.002312490               \n",
       "14 RC            0.002263155               \n",
       "15 FI            0.001933395               \n",
       "16 RC-SE         0.001919634               \n",
       "17 LEGA-N        0.001901838               \n",
       "18 F-ITA         0.001882398               \n",
       "   mean_standardized_perc_of_populist_toks\n",
       "1   0.234798281                           \n",
       "2   0.184220866                           \n",
       "3   0.161255302                           \n",
       "4   0.135931629                           \n",
       "5   0.128297458                           \n",
       "6   0.105240636                           \n",
       "7   0.103288956                           \n",
       "8   0.097318030                           \n",
       "9   0.097235449                           \n",
       "10  0.058640207                           \n",
       "11 -0.008158652                           \n",
       "12 -0.013048528                           \n",
       "13 -0.019260157                           \n",
       "14 -0.025103742                           \n",
       "15 -0.064163295                           \n",
       "16 -0.065793271                           \n",
       "17 -0.067901141                           \n",
       "18 -0.070203709                           "
      ]
     },
     "metadata": {},
     "output_type": "display_data"
    }
   ],
   "source": [
    "to_keep <- c(\"F-ITA\", \"FI\", \"PDL\", \"FI-PDL\", \"FDI-AN\", \"FDI\", \"LEGA-N\", \"LEGA-NORD-P\", \"LNA\", \"LEGA\", \"LNP\", \"M5S\", \n",
    "             \"RC-PROGR\", \"COMUNISTA\", \"RC\", \"COM/IT/\", \"RC-SE\", \"SI-SEL-POS-LU\")\n",
    "\n",
    "df_db %>% \n",
    "filter(party %in% to_keep) %>% \n",
    "group_by(party) %>% \n",
    "summarize(mean_perc_of_populist_toks = mean(perc_of_populist_toks, na.rm = TRUE),\n",
    "          mean_standardized_perc_of_populist_toks = mean(standardized_perc_of_populist_toks, na.rm = TRUE)) %>% \n",
    "arrange(desc(mean_perc_of_populist_toks))"
   ]
  }
 ],
 "metadata": {
  "kernelspec": {
   "display_name": "R",
   "language": "R",
   "name": "ir"
  },
  "language_info": {
   "codemirror_mode": "r",
   "file_extension": ".r",
   "mimetype": "text/x-r-source",
   "name": "R",
   "pygments_lexer": "r",
   "version": "4.1.0"
  },
  "toc": {
   "base_numbering": 1,
   "nav_menu": {},
   "number_sections": true,
   "sideBar": true,
   "skip_h1_title": false,
   "title_cell": "Table of Contents",
   "title_sidebar": "Contents",
   "toc_cell": false,
   "toc_position": {
    "height": "calc(100% - 180px)",
    "left": "10px",
    "top": "150px",
    "width": "303.825px"
   },
   "toc_section_display": true,
   "toc_window_display": true
  }
 },
 "nbformat": 4,
 "nbformat_minor": 5
}
