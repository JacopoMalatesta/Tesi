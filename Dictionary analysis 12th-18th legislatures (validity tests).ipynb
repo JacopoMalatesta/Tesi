{
 "cells": [
  {
   "cell_type": "markdown",
   "id": "29eeb177",
   "metadata": {},
   "source": [
    "1. [Working directory, packages and data](#chapter1)\n",
    "2. [Preprocessing](#chapter2)\n",
    "3. [Dictionaries](#chapter3)\n",
    "4. [Wrapper function](#chapter4)\n",
    "4. [Rooduijn & Pauwels](#chapter5)\n",
    "   1. [Construct validity](#subparagraph1)\n",
    "   2. [Face validity](#subparagraph2)\n",
    "   3. [External validity](#subparagraph3)\n",
    "       1. [CHES](#subparagraph4)\n",
    "       2. [PopuList](#subparagraph5)\n",
    "5. [Decadri & Boussalis](#chapter6)\n",
    "   1. [Construct validity](#subparagraph6)\n",
    "   2. [Face validity](#subparagraph7)\n",
    "   3. [External validity](#subparagraph8)\n",
    "       1. [CHES](#subparagraph9)\n",
    "       2. [PopuList](#subparagraph10)"
   ]
  },
  {
   "cell_type": "markdown",
   "id": "27b553b4",
   "metadata": {},
   "source": [
    "# Working directory, packages and data <a class=\"anchor\" id=\"chapter1\"></a>"
   ]
  },
  {
   "cell_type": "markdown",
   "id": "73da2ecc",
   "metadata": {},
   "source": [
    "Setting the working directory"
   ]
  },
  {
   "cell_type": "code",
   "execution_count": 1,
   "id": "df6990d1",
   "metadata": {},
   "outputs": [],
   "source": [
    "setwd(\"C:/Users/jacop/Tesi/\")"
   ]
  },
  {
   "cell_type": "markdown",
   "id": "69461f87",
   "metadata": {},
   "source": [
    "Loading the libraries"
   ]
  },
  {
   "cell_type": "code",
   "execution_count": 2,
   "id": "e5e36407",
   "metadata": {},
   "outputs": [],
   "source": [
    "suppressWarnings(suppressPackageStartupMessages(library(dtplyr)))\n",
    "suppressWarnings(suppressPackageStartupMessages(library(tidyverse)))\n",
    "suppressWarnings(suppressPackageStartupMessages(library(data.table)))\n",
    "suppressWarnings(suppressPackageStartupMessages(library(quanteda)))"
   ]
  },
  {
   "cell_type": "markdown",
   "id": "5e20cb60",
   "metadata": {},
   "source": [
    "Loading the data"
   ]
  },
  {
   "cell_type": "code",
   "execution_count": 3,
   "id": "c8d55902",
   "metadata": {},
   "outputs": [],
   "source": [
    "load(\"data/parliamentary_groups2.rds\")"
   ]
  },
  {
   "cell_type": "markdown",
   "id": "03cdd226",
   "metadata": {},
   "source": [
    "Creating a lazy data.table out of our dataframe so that we can use dtplyr on it"
   ]
  },
  {
   "cell_type": "code",
   "execution_count": 4,
   "id": "afac1f04",
   "metadata": {},
   "outputs": [],
   "source": [
    "texts <- lazy_dt(Texts)"
   ]
  },
  {
   "cell_type": "markdown",
   "id": "b9113d49",
   "metadata": {},
   "source": [
    "Casting the \"legislatura\" variable as numeric"
   ]
  },
  {
   "cell_type": "code",
   "execution_count": 5,
   "id": "5f796ae9",
   "metadata": {},
   "outputs": [],
   "source": [
    "texts <- texts %>% mutate(legislatura = as.integer(legislatura)) %>% as_tibble()"
   ]
  },
  {
   "cell_type": "markdown",
   "id": "829adabd",
   "metadata": {},
   "source": [
    "Filtering the dataset by focusing on the last seven legislatures"
   ]
  },
  {
   "cell_type": "code",
   "execution_count": 6,
   "id": "8e7d8054",
   "metadata": {},
   "outputs": [],
   "source": [
    "texts <- texts %>% filter(legislatura >= 12) %>% as_tibble()"
   ]
  },
  {
   "cell_type": "markdown",
   "id": "4de77809",
   "metadata": {},
   "source": [
    "Decadri and Boussalis' additional stopwords"
   ]
  },
  {
   "cell_type": "code",
   "execution_count": 7,
   "id": "0cf897fd",
   "metadata": {},
   "outputs": [],
   "source": [
    "db_additional_stopwords  <- suppressMessages(read_csv(\"data/it_stopwords_new_list.csv\")) %>% \n",
    "                            pull(stopwords)"
   ]
  },
  {
   "cell_type": "markdown",
   "id": "4cb42bf8",
   "metadata": {},
   "source": [
    "Procedural stopwords"
   ]
  },
  {
   "cell_type": "code",
   "execution_count": 8,
   "id": "7ad8c424",
   "metadata": {},
   "outputs": [],
   "source": [
    "procedural_stopwords <- suppressMessages(read_csv(\"data/it_stopwords_procedural.csv\")) %>% \n",
    "                        pull(it_stopwords_procedural)"
   ]
  },
  {
   "cell_type": "markdown",
   "id": "c0862500",
   "metadata": {},
   "source": [
    "# Preprocessing <a class=\"anchor\" id=\"chapter2\"></a>"
   ]
  },
  {
   "cell_type": "markdown",
   "id": "ecc87998",
   "metadata": {},
   "source": [
    "Creating the corpus"
   ]
  },
  {
   "cell_type": "code",
   "execution_count": 9,
   "id": "a6854718",
   "metadata": {},
   "outputs": [],
   "source": [
    "my_corpus <- corpus(texts, text_field = \"textclean\")"
   ]
  },
  {
   "cell_type": "markdown",
   "id": "985b564d",
   "metadata": {},
   "source": [
    "Tokenizing the texts"
   ]
  },
  {
   "cell_type": "code",
   "execution_count": 10,
   "id": "aaf1a75b",
   "metadata": {},
   "outputs": [],
   "source": [
    "toks <- tokens(my_corpus, \n",
    "               remove_punct = TRUE, \n",
    "               remove_symbols = TRUE, \n",
    "               remove_numbers = TRUE, \n",
    "               remove_separators = TRUE,\n",
    "               padding = TRUE)"
   ]
  },
  {
   "cell_type": "markdown",
   "id": "e2a93ba0",
   "metadata": {},
   "source": [
    "Removing the default stopwords"
   ]
  },
  {
   "cell_type": "code",
   "execution_count": 11,
   "id": "c7c6c080",
   "metadata": {},
   "outputs": [],
   "source": [
    "cleaned_toks <- tokens_remove(toks, pattern = stopwords(\"it\"))"
   ]
  },
  {
   "cell_type": "markdown",
   "id": "62aeee11",
   "metadata": {},
   "source": [
    "Removing the additional stopwords"
   ]
  },
  {
   "cell_type": "code",
   "execution_count": 12,
   "id": "534f7122",
   "metadata": {},
   "outputs": [],
   "source": [
    "cleaned_toks <- tokens_remove(cleaned_toks, pattern = db_additional_stopwords)"
   ]
  },
  {
   "cell_type": "markdown",
   "id": "0b79e0da",
   "metadata": {},
   "source": [
    "Removing the procedural stopwords"
   ]
  },
  {
   "cell_type": "code",
   "execution_count": 13,
   "id": "68a675fd",
   "metadata": {},
   "outputs": [],
   "source": [
    "cleaned_toks <- tokens_remove(cleaned_toks, pattern = procedural_stopwords)"
   ]
  },
  {
   "cell_type": "markdown",
   "id": "443ddc78",
   "metadata": {},
   "source": [
    "# Dictionaries <a class=\"anchor\" id=\"chapter3\"></a>"
   ]
  },
  {
   "cell_type": "markdown",
   "id": "42bcb1a4",
   "metadata": {},
   "source": [
    "Rooduijn and Pauwels' dictionary"
   ]
  },
  {
   "cell_type": "code",
   "execution_count": 14,
   "id": "07578be8",
   "metadata": {},
   "outputs": [],
   "source": [
    "anti_elitism <- c(\"elit*\", \"consens*\", \"antidemocratic*\", \"referend*\", \"corrot*\", \"propagand*\", \n",
    "                  \"politici*\",\"ingann*\", \"tradi*\", \"vergogn*\", \"scandal*\", \"verita\", \"disonest*\", \n",
    "                  \"partitocrazia\", \"menzogn*\", \"mentir*\")\n",
    "\n",
    "rp_dictionary <- dictionary(list(anti_elitism = anti_elitism))"
   ]
  },
  {
   "cell_type": "markdown",
   "id": "2d2b6b38",
   "metadata": {},
   "source": [
    "Decadri and Boussalis' dictionary"
   ]
  },
  {
   "cell_type": "code",
   "execution_count": 15,
   "id": "13f37f3c",
   "metadata": {},
   "outputs": [],
   "source": [
    "anti_elitism <- c(\"antidemocratic*\", \"casta\", \"consens*\", \"corrot*\", \"disonest*\", \"elit*\", \n",
    "                  \"establishment\", \"ingann*\", \"mentir*\", \"menzogn*\", \"partitocrazia\", \"propagand*\", \n",
    "                  \"scandal*\", \"tradim*\", \"tradir*\", \"tradit*\", \"vergogn*\", \"verita\")\n",
    "\n",
    "people_centrism  <- c(\"abitant*\", \"cittadin*\", \"consumator*\", \"contribuent*\", \"elettor*\", \"gente\", \"popol*\")\n",
    "\n",
    "db_dictionary <- dictionary(list(anti_elitism = anti_elitism, \n",
    "                                 people_centrism = people_centrism))"
   ]
  },
  {
   "cell_type": "markdown",
   "id": "df5ad07d",
   "metadata": {},
   "source": [
    "# Wrapper function <a class=\"anchor\" id=\"chapter4\"></a>"
   ]
  },
  {
   "cell_type": "markdown",
   "id": "beb78d55",
   "metadata": {},
   "source": [
    "We'll run the dictionary analyses with a wrapper function. We'll use the \"dictionary\" argument to specify which dictionary we'll use each time. In particular:\n",
    "\n",
    "- no stemming will be applied;\n",
    "- all stopwords will be removed, including Quantedas', Decadri & Boussalis' and the procedural ones;\n",
    "- all rows from the dataset will be included."
   ]
  },
  {
   "cell_type": "code",
   "execution_count": 16,
   "id": "f5a3e3b1",
   "metadata": {},
   "outputs": [],
   "source": [
    "dict_analysis <- function(tokens, dictionary) {\n",
    "    \n",
    "  # Applying the dictionary to the tokens\n",
    "  \n",
    "  if (dictionary == \"Rooduijn_Pauwels\") {\n",
    "    \n",
    "    mydict_toks <- tokens_lookup(x = tokens, dictionary = rp_dictionary)\n",
    "    \n",
    "  } else if (dictionary == \"Decadri_Boussalis\") {\n",
    "    \n",
    "    mydict_toks <- tokens_lookup(x = tokens, dictionary = db_dictionary)\n",
    "    \n",
    "  } else {\n",
    "    \n",
    "    stop(\"Invalid dictionary\")\n",
    "      \n",
    "  }\n",
    "  \n",
    "  # Building the dfm\n",
    "    \n",
    "  my_dfm <- convert(dfm(mydict_toks), to = 'data.frame')\n",
    "    \n",
    "  # Extracting the number of clean tokens for each doc\n",
    "  \n",
    "  doc_length <- map_int(tokens, ~ length(.)) \n",
    "    \n",
    "  # Storing the number of clean tokens in a tibble along with the doc IDs, the party and year variables  \n",
    "  \n",
    "  tbl <- tibble(doc_id = names(tokens), \n",
    "                n_of_cleaned_toks = doc_length, \n",
    "                party = docvars(my_corpus) %>% pull(gruppoP),\n",
    "                year = docvars(my_corpus) %>% pull(year))\n",
    "    \n",
    "  # Joining the tibble we just created to the dfm\n",
    "  \n",
    "  if (dictionary == \"Decadri_Boussalis\") {\n",
    "\n",
    "        my_dict_lookup <- my_dfm %>% \n",
    "                          mutate(populist_toks = anti_elitism + people_centrism) %>%  \n",
    "                          left_join(tbl, by = \"doc_id\") %>% \n",
    "                          mutate(perc_of_populist_toks = populist_toks / n_of_cleaned_toks) %>% \n",
    "                          mutate(standardized_perc_of_populist_toks = as.double(scale(perc_of_populist_toks))) %>%  \n",
    "                          mutate(perc_of_populist_toks = replace_na(perc_of_populist_toks, 0)) %>% \n",
    "                          relocate(doc_id, year, party, anti_elitism, people_centrism, populist_toks, n_of_cleaned_toks, \n",
    "                                   perc_of_populist_toks, standardized_perc_of_populist_toks)\n",
    "    \n",
    "        return(my_dict_lookup)\n",
    "        \n",
    "        } else if (dictionary == \"Rooduijn_Pauwels\") {\n",
    "        \n",
    "         my_dict_lookup <- my_dfm %>% \n",
    "                           left_join(tbl, by = \"doc_id\") %>% \n",
    "                           mutate(perc_of_populist_toks = anti_elitism / n_of_cleaned_toks) %>% \n",
    "                           mutate(standardized_perc_of_populist_toks = as.double(scale(perc_of_populist_toks))) %>% \n",
    "                           mutate(perc_of_populist_toks = replace_na(perc_of_populist_toks, 0)) %>% \n",
    "                           relocate(doc_id, year, party, anti_elitism, n_of_cleaned_toks, perc_of_populist_toks, \n",
    "                                    standardized_perc_of_populist_toks)\n",
    "      \n",
    "         return(my_dict_lookup)\n",
    "  \n",
    "        }\n",
    "}"
   ]
  },
  {
   "cell_type": "markdown",
   "id": "87740287",
   "metadata": {},
   "source": [
    "# Rooduijn & Pauwels <a class=\"anchor\" id=\"chapter5\"></a>"
   ]
  },
  {
   "cell_type": "markdown",
   "id": "be198dd3",
   "metadata": {},
   "source": [
    "Let's run the dictionary analysis by using Roodujin and Pauwels' dictionary"
   ]
  },
  {
   "cell_type": "code",
   "execution_count": 22,
   "id": "77e1ce64",
   "metadata": {},
   "outputs": [],
   "source": [
    "df_rp <- dict_analysis(tokens = cleaned_toks, dictionary = \"Rooduijn_Pauwels\")"
   ]
  },
  {
   "cell_type": "markdown",
   "id": "f4f065f4",
   "metadata": {},
   "source": [
    "Let's save the results as an .Rdata file"
   ]
  },
  {
   "cell_type": "code",
   "execution_count": 25,
   "id": "cdf7eb3b",
   "metadata": {},
   "outputs": [],
   "source": [
    "save(df_rp, file = \"data/df_rp.RData\")"
   ]
  },
  {
   "cell_type": "markdown",
   "id": "4916e01c",
   "metadata": {},
   "source": [
    "The first rows of the dataframe"
   ]
  },
  {
   "cell_type": "code",
   "execution_count": 23,
   "id": "24ffea77",
   "metadata": {},
   "outputs": [
    {
     "data": {
      "text/html": [
       "<table class=\"dataframe\">\n",
       "<caption>A data.frame: 6 × 7</caption>\n",
       "<thead>\n",
       "\t<tr><th></th><th scope=col>doc_id</th><th scope=col>year</th><th scope=col>party</th><th scope=col>anti_elitism</th><th scope=col>n_of_cleaned_toks</th><th scope=col>perc_of_populist_toks</th><th scope=col>standardized_perc_of_populist_toks</th></tr>\n",
       "\t<tr><th></th><th scope=col>&lt;chr&gt;</th><th scope=col>&lt;int&gt;</th><th scope=col>&lt;chr&gt;</th><th scope=col>&lt;dbl&gt;</th><th scope=col>&lt;int&gt;</th><th scope=col>&lt;dbl&gt;</th><th scope=col>&lt;dbl&gt;</th></tr>\n",
       "</thead>\n",
       "<tbody>\n",
       "\t<tr><th scope=row>1</th><td>text1</td><td>1994</td><td>F-ITA   </td><td>0</td><td>24</td><td>0</td><td>-0.1647037</td></tr>\n",
       "\t<tr><th scope=row>2</th><td>text2</td><td>1994</td><td>PROGR-F </td><td>0</td><td>10</td><td>0</td><td>-0.1647037</td></tr>\n",
       "\t<tr><th scope=row>3</th><td>text3</td><td>1994</td><td>LEGA-N  </td><td>0</td><td>27</td><td>0</td><td>-0.1647037</td></tr>\n",
       "\t<tr><th scope=row>4</th><td>text4</td><td>1994</td><td>RC-PROGR</td><td>0</td><td> 9</td><td>0</td><td>-0.1647037</td></tr>\n",
       "\t<tr><th scope=row>5</th><td>text5</td><td>1994</td><td>PROGR-F </td><td>0</td><td> 8</td><td>0</td><td>-0.1647037</td></tr>\n",
       "\t<tr><th scope=row>6</th><td>text6</td><td>1994</td><td>PPI     </td><td>0</td><td> 8</td><td>0</td><td>-0.1647037</td></tr>\n",
       "</tbody>\n",
       "</table>\n"
      ],
      "text/latex": [
       "A data.frame: 6 × 7\n",
       "\\begin{tabular}{r|lllllll}\n",
       "  & doc\\_id & year & party & anti\\_elitism & n\\_of\\_cleaned\\_toks & perc\\_of\\_populist\\_toks & standardized\\_perc\\_of\\_populist\\_toks\\\\\n",
       "  & <chr> & <int> & <chr> & <dbl> & <int> & <dbl> & <dbl>\\\\\n",
       "\\hline\n",
       "\t1 & text1 & 1994 & F-ITA    & 0 & 24 & 0 & -0.1647037\\\\\n",
       "\t2 & text2 & 1994 & PROGR-F  & 0 & 10 & 0 & -0.1647037\\\\\n",
       "\t3 & text3 & 1994 & LEGA-N   & 0 & 27 & 0 & -0.1647037\\\\\n",
       "\t4 & text4 & 1994 & RC-PROGR & 0 &  9 & 0 & -0.1647037\\\\\n",
       "\t5 & text5 & 1994 & PROGR-F  & 0 &  8 & 0 & -0.1647037\\\\\n",
       "\t6 & text6 & 1994 & PPI      & 0 &  8 & 0 & -0.1647037\\\\\n",
       "\\end{tabular}\n"
      ],
      "text/markdown": [
       "\n",
       "A data.frame: 6 × 7\n",
       "\n",
       "| <!--/--> | doc_id &lt;chr&gt; | year &lt;int&gt; | party &lt;chr&gt; | anti_elitism &lt;dbl&gt; | n_of_cleaned_toks &lt;int&gt; | perc_of_populist_toks &lt;dbl&gt; | standardized_perc_of_populist_toks &lt;dbl&gt; |\n",
       "|---|---|---|---|---|---|---|---|\n",
       "| 1 | text1 | 1994 | F-ITA    | 0 | 24 | 0 | -0.1647037 |\n",
       "| 2 | text2 | 1994 | PROGR-F  | 0 | 10 | 0 | -0.1647037 |\n",
       "| 3 | text3 | 1994 | LEGA-N   | 0 | 27 | 0 | -0.1647037 |\n",
       "| 4 | text4 | 1994 | RC-PROGR | 0 |  9 | 0 | -0.1647037 |\n",
       "| 5 | text5 | 1994 | PROGR-F  | 0 |  8 | 0 | -0.1647037 |\n",
       "| 6 | text6 | 1994 | PPI      | 0 |  8 | 0 | -0.1647037 |\n",
       "\n"
      ],
      "text/plain": [
       "  doc_id year party    anti_elitism n_of_cleaned_toks perc_of_populist_toks\n",
       "1 text1  1994 F-ITA    0            24                0                    \n",
       "2 text2  1994 PROGR-F  0            10                0                    \n",
       "3 text3  1994 LEGA-N   0            27                0                    \n",
       "4 text4  1994 RC-PROGR 0             9                0                    \n",
       "5 text5  1994 PROGR-F  0             8                0                    \n",
       "6 text6  1994 PPI      0             8                0                    \n",
       "  standardized_perc_of_populist_toks\n",
       "1 -0.1647037                        \n",
       "2 -0.1647037                        \n",
       "3 -0.1647037                        \n",
       "4 -0.1647037                        \n",
       "5 -0.1647037                        \n",
       "6 -0.1647037                        "
      ]
     },
     "metadata": {},
     "output_type": "display_data"
    }
   ],
   "source": [
    "head(df_rp) "
   ]
  },
  {
   "cell_type": "markdown",
   "id": "41f70a3d",
   "metadata": {},
   "source": [
    "## Construct validity <a class=\"anchor\" id=\"subparagraph1\"></a>"
   ]
  },
  {
   "cell_type": "markdown",
   "id": "bd915c9b",
   "metadata": {},
   "source": [
    "Rooduijn and Pauwels' dictionary captures the \"anti-elitism\" component of populism, but not the \"people-centrism\" one. As a result, from a construct validity standpoint, it is only partially valid. The authors motivated the decision to leave out the \"people-centrism\" dimension by pointing out that the \"people\" is often referenced to by words such as \"us\", \"we\" and \"our\" which are also used to reference entities other than the people (such as political parties). The inclusion of these words in the dictionary, they argue, would result in a large number of false positives."
   ]
  },
  {
   "cell_type": "markdown",
   "id": "846f02ad",
   "metadata": {},
   "source": [
    "## Face validity <a class=\"anchor\" id=\"subparagraph2\"></a>"
   ]
  },
  {
   "cell_type": "markdown",
   "id": "31ede05e",
   "metadata": {},
   "source": [
    "A populist dictionary has face validity if the allegedly populist parties are indeed populist. In the Italian case, we would expect populist values to be higher for parties that the literature deems populist (i.e. Five Star Movement, Lega Nord, Forza Italia and Il Popolo delle Libertà)."
   ]
  },
  {
   "cell_type": "markdown",
   "id": "2583ac2e",
   "metadata": {},
   "source": [
    "Let's first run an Analysis Of Variance (ANOVA) by using the % of populist tokens as our dependent variable and the party (i.e. gruppoP) as our predictor. \n",
    "\n",
    "The results indicate that the differences in the % of populist tokens between parties are statistically significant."
   ]
  },
  {
   "cell_type": "code",
   "execution_count": 9,
   "id": "b4f456d3",
   "metadata": {},
   "outputs": [
    {
     "data": {
      "text/plain": [
       "                Df Sum Sq   Mean Sq F value Pr(>F)    \n",
       "party           54  0.027 0.0005048   8.771 <2e-16 ***\n",
       "Residuals   297618 17.127 0.0000575                   \n",
       "---\n",
       "Signif. codes:  0 '***' 0.001 '**' 0.01 '*' 0.05 '.' 0.1 ' ' 1"
      ]
     },
     "metadata": {},
     "output_type": "display_data"
    }
   ],
   "source": [
    "load(\"data/df_rp.RData\")\n",
    "\n",
    "anova_rp <- aov(perc_of_populist_toks ~ party, data = df_rp)\n",
    "\n",
    "summary(anova_rp)"
   ]
  },
  {
   "cell_type": "markdown",
   "id": "4914bb60",
   "metadata": {},
   "source": [
    "We can assess how Rooduijn and Pauwels' dictionary fares in terms of face validity by grouping the results of the dictionary analysis by year and party and computing the average % of populist tokens (both standardized and unstandardized). \n",
    "\n",
    "The following are the 20 party-year combinations with the highest populist score in the 1994-2021 period. Consistently with our expectations, we find populist parties such as FdI-AN (2013), FdI (2018), Forza Italia (2019) and FdI (2018). However, we also find mainstream parties such as UDC (2009), SI-SEL-POS-LU (2018), IV (2018), IV (2019), PD (2019) and PD (2018). These results could be interpreted as evidence of either populist contagion or lack of face validity. The absence of M5S and Lega among the most populist parties makes me lean towards the latter."
   ]
  },
  {
   "cell_type": "code",
   "execution_count": 12,
   "id": "51d30879",
   "metadata": {},
   "outputs": [
    {
     "data": {
      "text/html": [
       "<table class=\"dataframe\">\n",
       "<caption>A grouped_df: 20 × 4</caption>\n",
       "<thead>\n",
       "\t<tr><th scope=col>party</th><th scope=col>year</th><th scope=col>mean_perc_of_populist_toks</th><th scope=col>mean_standardized_perc_of_populist_toks</th></tr>\n",
       "\t<tr><th scope=col>&lt;chr&gt;</th><th scope=col>&lt;int&gt;</th><th scope=col>&lt;dbl&gt;</th><th scope=col>&lt;dbl&gt;</th></tr>\n",
       "</thead>\n",
       "<tbody>\n",
       "\t<tr><td>FLD                                                         </td><td>1996</td><td>0.005839229</td><td>0.6044212</td></tr>\n",
       "\t<tr><td>UNIONE DEI DEMOCRATICI CRISTIANI E DEI DEMOCRATICI DI CENTRO</td><td>2009</td><td>0.004694836</td><td>0.4536852</td></tr>\n",
       "\t<tr><td>SI-SEL-POS-LU                                               </td><td>2018</td><td>0.003844406</td><td>0.3416693</td></tr>\n",
       "\t<tr><td>PPI                                                         </td><td>1996</td><td>0.003627454</td><td>0.3130930</td></tr>\n",
       "\t<tr><td>DEMO                                                        </td><td>1996</td><td>0.003407491</td><td>0.2841203</td></tr>\n",
       "\t<tr><td>SI-SEL-POS-LU                                               </td><td>2016</td><td>0.003309691</td><td>0.2712384</td></tr>\n",
       "\t<tr><td>IV                                                          </td><td>2018</td><td>0.003292298</td><td>0.2689474</td></tr>\n",
       "\t<tr><td>FDI-AN                                                      </td><td>2013</td><td>0.003240200</td><td>0.2620853</td></tr>\n",
       "\t<tr><td>FLD                                                         </td><td>1994</td><td>0.002897469</td><td>0.2169418</td></tr>\n",
       "\t<tr><td>FI                                                          </td><td>2019</td><td>0.002858297</td><td>0.2117821</td></tr>\n",
       "\t<tr><td>RINN/IT                                                     </td><td>1996</td><td>0.002803024</td><td>0.2045018</td></tr>\n",
       "\t<tr><td>IV                                                          </td><td>2019</td><td>0.002738692</td><td>0.1960282</td></tr>\n",
       "\t<tr><td>FDI                                                         </td><td>2018</td><td>0.002665917</td><td>0.1864425</td></tr>\n",
       "\t<tr><td>PD                                                          </td><td>2019</td><td>0.002646833</td><td>0.1839288</td></tr>\n",
       "\t<tr><td>COMUNISTA                                                   </td><td>1997</td><td>0.002551426</td><td>0.1725666</td></tr>\n",
       "\t<tr><td>PD                                                          </td><td>2018</td><td>0.002469297</td><td>0.1605443</td></tr>\n",
       "\t<tr><td>DEMO                                                        </td><td>1995</td><td>0.002432122</td><td>0.1556478</td></tr>\n",
       "\t<tr><td>AP-CPE-NCD-NCI                                              </td><td>2015</td><td>0.002388215</td><td>0.1498645</td></tr>\n",
       "\t<tr><td>FLPTP                                                       </td><td>2008</td><td>0.002305889</td><td>0.1390207</td></tr>\n",
       "\t<tr><td>FLD                                                         </td><td>1995</td><td>0.002229799</td><td>0.1289984</td></tr>\n",
       "</tbody>\n",
       "</table>\n"
      ],
      "text/latex": [
       "A grouped\\_df: 20 × 4\n",
       "\\begin{tabular}{llll}\n",
       " party & year & mean\\_perc\\_of\\_populist\\_toks & mean\\_standardized\\_perc\\_of\\_populist\\_toks\\\\\n",
       " <chr> & <int> & <dbl> & <dbl>\\\\\n",
       "\\hline\n",
       "\t FLD                                                          & 1996 & 0.005839229 & 0.6044212\\\\\n",
       "\t UNIONE DEI DEMOCRATICI CRISTIANI E DEI DEMOCRATICI DI CENTRO & 2009 & 0.004694836 & 0.4536852\\\\\n",
       "\t SI-SEL-POS-LU                                                & 2018 & 0.003844406 & 0.3416693\\\\\n",
       "\t PPI                                                          & 1996 & 0.003627454 & 0.3130930\\\\\n",
       "\t DEMO                                                         & 1996 & 0.003407491 & 0.2841203\\\\\n",
       "\t SI-SEL-POS-LU                                                & 2016 & 0.003309691 & 0.2712384\\\\\n",
       "\t IV                                                           & 2018 & 0.003292298 & 0.2689474\\\\\n",
       "\t FDI-AN                                                       & 2013 & 0.003240200 & 0.2620853\\\\\n",
       "\t FLD                                                          & 1994 & 0.002897469 & 0.2169418\\\\\n",
       "\t FI                                                           & 2019 & 0.002858297 & 0.2117821\\\\\n",
       "\t RINN/IT                                                      & 1996 & 0.002803024 & 0.2045018\\\\\n",
       "\t IV                                                           & 2019 & 0.002738692 & 0.1960282\\\\\n",
       "\t FDI                                                          & 2018 & 0.002665917 & 0.1864425\\\\\n",
       "\t PD                                                           & 2019 & 0.002646833 & 0.1839288\\\\\n",
       "\t COMUNISTA                                                    & 1997 & 0.002551426 & 0.1725666\\\\\n",
       "\t PD                                                           & 2018 & 0.002469297 & 0.1605443\\\\\n",
       "\t DEMO                                                         & 1995 & 0.002432122 & 0.1556478\\\\\n",
       "\t AP-CPE-NCD-NCI                                               & 2015 & 0.002388215 & 0.1498645\\\\\n",
       "\t FLPTP                                                        & 2008 & 0.002305889 & 0.1390207\\\\\n",
       "\t FLD                                                          & 1995 & 0.002229799 & 0.1289984\\\\\n",
       "\\end{tabular}\n"
      ],
      "text/markdown": [
       "\n",
       "A grouped_df: 20 × 4\n",
       "\n",
       "| party &lt;chr&gt; | year &lt;int&gt; | mean_perc_of_populist_toks &lt;dbl&gt; | mean_standardized_perc_of_populist_toks &lt;dbl&gt; |\n",
       "|---|---|---|---|\n",
       "| FLD                                                          | 1996 | 0.005839229 | 0.6044212 |\n",
       "| UNIONE DEI DEMOCRATICI CRISTIANI E DEI DEMOCRATICI DI CENTRO | 2009 | 0.004694836 | 0.4536852 |\n",
       "| SI-SEL-POS-LU                                                | 2018 | 0.003844406 | 0.3416693 |\n",
       "| PPI                                                          | 1996 | 0.003627454 | 0.3130930 |\n",
       "| DEMO                                                         | 1996 | 0.003407491 | 0.2841203 |\n",
       "| SI-SEL-POS-LU                                                | 2016 | 0.003309691 | 0.2712384 |\n",
       "| IV                                                           | 2018 | 0.003292298 | 0.2689474 |\n",
       "| FDI-AN                                                       | 2013 | 0.003240200 | 0.2620853 |\n",
       "| FLD                                                          | 1994 | 0.002897469 | 0.2169418 |\n",
       "| FI                                                           | 2019 | 0.002858297 | 0.2117821 |\n",
       "| RINN/IT                                                      | 1996 | 0.002803024 | 0.2045018 |\n",
       "| IV                                                           | 2019 | 0.002738692 | 0.1960282 |\n",
       "| FDI                                                          | 2018 | 0.002665917 | 0.1864425 |\n",
       "| PD                                                           | 2019 | 0.002646833 | 0.1839288 |\n",
       "| COMUNISTA                                                    | 1997 | 0.002551426 | 0.1725666 |\n",
       "| PD                                                           | 2018 | 0.002469297 | 0.1605443 |\n",
       "| DEMO                                                         | 1995 | 0.002432122 | 0.1556478 |\n",
       "| AP-CPE-NCD-NCI                                               | 2015 | 0.002388215 | 0.1498645 |\n",
       "| FLPTP                                                        | 2008 | 0.002305889 | 0.1390207 |\n",
       "| FLD                                                          | 1995 | 0.002229799 | 0.1289984 |\n",
       "\n"
      ],
      "text/plain": [
       "   party                                                        year\n",
       "1  FLD                                                          1996\n",
       "2  UNIONE DEI DEMOCRATICI CRISTIANI E DEI DEMOCRATICI DI CENTRO 2009\n",
       "3  SI-SEL-POS-LU                                                2018\n",
       "4  PPI                                                          1996\n",
       "5  DEMO                                                         1996\n",
       "6  SI-SEL-POS-LU                                                2016\n",
       "7  IV                                                           2018\n",
       "8  FDI-AN                                                       2013\n",
       "9  FLD                                                          1994\n",
       "10 FI                                                           2019\n",
       "11 RINN/IT                                                      1996\n",
       "12 IV                                                           2019\n",
       "13 FDI                                                          2018\n",
       "14 PD                                                           2019\n",
       "15 COMUNISTA                                                    1997\n",
       "16 PD                                                           2018\n",
       "17 DEMO                                                         1995\n",
       "18 AP-CPE-NCD-NCI                                               2015\n",
       "19 FLPTP                                                        2008\n",
       "20 FLD                                                          1995\n",
       "   mean_perc_of_populist_toks mean_standardized_perc_of_populist_toks\n",
       "1  0.005839229                0.6044212                              \n",
       "2  0.004694836                0.4536852                              \n",
       "3  0.003844406                0.3416693                              \n",
       "4  0.003627454                0.3130930                              \n",
       "5  0.003407491                0.2841203                              \n",
       "6  0.003309691                0.2712384                              \n",
       "7  0.003292298                0.2689474                              \n",
       "8  0.003240200                0.2620853                              \n",
       "9  0.002897469                0.2169418                              \n",
       "10 0.002858297                0.2117821                              \n",
       "11 0.002803024                0.2045018                              \n",
       "12 0.002738692                0.1960282                              \n",
       "13 0.002665917                0.1864425                              \n",
       "14 0.002646833                0.1839288                              \n",
       "15 0.002551426                0.1725666                              \n",
       "16 0.002469297                0.1605443                              \n",
       "17 0.002432122                0.1556478                              \n",
       "18 0.002388215                0.1498645                              \n",
       "19 0.002305889                0.1390207                              \n",
       "20 0.002229799                0.1289984                              "
      ]
     },
     "metadata": {},
     "output_type": "display_data"
    }
   ],
   "source": [
    "df_rp %>% \n",
    "group_by(party, year) %>% \n",
    "summarize(mean_perc_of_populist_toks = mean(perc_of_populist_toks, na.rm = TRUE),\n",
    "          mean_standardized_perc_of_populist_toks = mean(standardized_perc_of_populist_toks, na.rm = TRUE),\n",
    "         .groups = \"keep\") %>% \n",
    "arrange(desc(mean_standardized_perc_of_populist_toks)) %>% \n",
    "head(20)"
   ]
  },
  {
   "cell_type": "markdown",
   "id": "f36c0fb1",
   "metadata": {},
   "source": [
    "The following are the party-year combinations with the lowest populist scores. Again we see a mixture of both mainstream and populist parties. Interestingly, LNA (2018), FdI-AN (2018) and PdL (2013) are ranked among the least populist parties. This might be further evidence of lack of face validity in Rooduijn and Pauwels' dictionary."
   ]
  },
  {
   "cell_type": "code",
   "execution_count": 13,
   "id": "80781191",
   "metadata": {},
   "outputs": [
    {
     "data": {
      "text/html": [
       "<table class=\"dataframe\">\n",
       "<caption>A grouped_df: 20 × 4</caption>\n",
       "<thead>\n",
       "\t<tr><th scope=col>party</th><th scope=col>year</th><th scope=col>mean_perc_of_populist_toks</th><th scope=col>mean_standardized_perc_of_populist_toks</th></tr>\n",
       "\t<tr><th scope=col>&lt;chr&gt;</th><th scope=col>&lt;int&gt;</th><th scope=col>&lt;dbl&gt;</th><th scope=col>&lt;dbl&gt;</th></tr>\n",
       "</thead>\n",
       "<tbody>\n",
       "\t<tr><td>DES-CD        </td><td>2015</td><td>3.213526e-04</td><td>-0.1223761</td></tr>\n",
       "\t<tr><td>DCA-NPSI      </td><td>2006</td><td>2.135572e-04</td><td>-0.1365746</td></tr>\n",
       "\t<tr><td>DES-CD        </td><td>2014</td><td>1.541198e-04</td><td>-0.1444035</td></tr>\n",
       "\t<tr><td>VERDI         </td><td>2006</td><td>1.411349e-04</td><td>-0.1461138</td></tr>\n",
       "\t<tr><td>UDEUR         </td><td>2001</td><td>6.002401e-05</td><td>-0.1567975</td></tr>\n",
       "\t<tr><td>AP-CPE-NCD-NCI</td><td>2018</td><td>0.000000e+00</td><td>-0.1647037</td></tr>\n",
       "\t<tr><td>CI            </td><td>2018</td><td>0.000000e+00</td><td>-0.1647037</td></tr>\n",
       "\t<tr><td>COM/IT/       </td><td>2008</td><td>0.000000e+00</td><td>-0.1647037</td></tr>\n",
       "\t<tr><td>DCA-NPSI      </td><td>2008</td><td>0.000000e+00</td><td>-0.1647037</td></tr>\n",
       "\t<tr><td>DCA-NPSI      </td><td>2009</td><td>0.000000e+00</td><td>-0.1647037</td></tr>\n",
       "\t<tr><td>FDI-AN        </td><td>2018</td><td>0.000000e+00</td><td>-0.1647037</td></tr>\n",
       "\t<tr><td>FLPTP         </td><td>2013</td><td>0.000000e+00</td><td>-0.1647037</td></tr>\n",
       "\t<tr><td>LIFED         </td><td>1994</td><td>0.000000e+00</td><td>-0.1647037</td></tr>\n",
       "\t<tr><td>LIFED         </td><td>1995</td><td>0.000000e+00</td><td>-0.1647037</td></tr>\n",
       "\t<tr><td>LIFED         </td><td>1996</td><td>0.000000e+00</td><td>-0.1647037</td></tr>\n",
       "\t<tr><td>LNA           </td><td>2018</td><td>0.000000e+00</td><td>-0.1647037</td></tr>\n",
       "\t<tr><td>MDP-LU        </td><td>2018</td><td>0.000000e+00</td><td>-0.1647037</td></tr>\n",
       "\t<tr><td>PDL           </td><td>2013</td><td>0.000000e+00</td><td>-0.1647037</td></tr>\n",
       "\t<tr><td>SDPSE         </td><td>2009</td><td>0.000000e+00</td><td>-0.1647037</td></tr>\n",
       "\t<tr><td>SOCRAD-RNP    </td><td>2009</td><td>0.000000e+00</td><td>-0.1647037</td></tr>\n",
       "</tbody>\n",
       "</table>\n"
      ],
      "text/latex": [
       "A grouped\\_df: 20 × 4\n",
       "\\begin{tabular}{llll}\n",
       " party & year & mean\\_perc\\_of\\_populist\\_toks & mean\\_standardized\\_perc\\_of\\_populist\\_toks\\\\\n",
       " <chr> & <int> & <dbl> & <dbl>\\\\\n",
       "\\hline\n",
       "\t DES-CD         & 2015 & 3.213526e-04 & -0.1223761\\\\\n",
       "\t DCA-NPSI       & 2006 & 2.135572e-04 & -0.1365746\\\\\n",
       "\t DES-CD         & 2014 & 1.541198e-04 & -0.1444035\\\\\n",
       "\t VERDI          & 2006 & 1.411349e-04 & -0.1461138\\\\\n",
       "\t UDEUR          & 2001 & 6.002401e-05 & -0.1567975\\\\\n",
       "\t AP-CPE-NCD-NCI & 2018 & 0.000000e+00 & -0.1647037\\\\\n",
       "\t CI             & 2018 & 0.000000e+00 & -0.1647037\\\\\n",
       "\t COM/IT/        & 2008 & 0.000000e+00 & -0.1647037\\\\\n",
       "\t DCA-NPSI       & 2008 & 0.000000e+00 & -0.1647037\\\\\n",
       "\t DCA-NPSI       & 2009 & 0.000000e+00 & -0.1647037\\\\\n",
       "\t FDI-AN         & 2018 & 0.000000e+00 & -0.1647037\\\\\n",
       "\t FLPTP          & 2013 & 0.000000e+00 & -0.1647037\\\\\n",
       "\t LIFED          & 1994 & 0.000000e+00 & -0.1647037\\\\\n",
       "\t LIFED          & 1995 & 0.000000e+00 & -0.1647037\\\\\n",
       "\t LIFED          & 1996 & 0.000000e+00 & -0.1647037\\\\\n",
       "\t LNA            & 2018 & 0.000000e+00 & -0.1647037\\\\\n",
       "\t MDP-LU         & 2018 & 0.000000e+00 & -0.1647037\\\\\n",
       "\t PDL            & 2013 & 0.000000e+00 & -0.1647037\\\\\n",
       "\t SDPSE          & 2009 & 0.000000e+00 & -0.1647037\\\\\n",
       "\t SOCRAD-RNP     & 2009 & 0.000000e+00 & -0.1647037\\\\\n",
       "\\end{tabular}\n"
      ],
      "text/markdown": [
       "\n",
       "A grouped_df: 20 × 4\n",
       "\n",
       "| party &lt;chr&gt; | year &lt;int&gt; | mean_perc_of_populist_toks &lt;dbl&gt; | mean_standardized_perc_of_populist_toks &lt;dbl&gt; |\n",
       "|---|---|---|---|\n",
       "| DES-CD         | 2015 | 3.213526e-04 | -0.1223761 |\n",
       "| DCA-NPSI       | 2006 | 2.135572e-04 | -0.1365746 |\n",
       "| DES-CD         | 2014 | 1.541198e-04 | -0.1444035 |\n",
       "| VERDI          | 2006 | 1.411349e-04 | -0.1461138 |\n",
       "| UDEUR          | 2001 | 6.002401e-05 | -0.1567975 |\n",
       "| AP-CPE-NCD-NCI | 2018 | 0.000000e+00 | -0.1647037 |\n",
       "| CI             | 2018 | 0.000000e+00 | -0.1647037 |\n",
       "| COM/IT/        | 2008 | 0.000000e+00 | -0.1647037 |\n",
       "| DCA-NPSI       | 2008 | 0.000000e+00 | -0.1647037 |\n",
       "| DCA-NPSI       | 2009 | 0.000000e+00 | -0.1647037 |\n",
       "| FDI-AN         | 2018 | 0.000000e+00 | -0.1647037 |\n",
       "| FLPTP          | 2013 | 0.000000e+00 | -0.1647037 |\n",
       "| LIFED          | 1994 | 0.000000e+00 | -0.1647037 |\n",
       "| LIFED          | 1995 | 0.000000e+00 | -0.1647037 |\n",
       "| LIFED          | 1996 | 0.000000e+00 | -0.1647037 |\n",
       "| LNA            | 2018 | 0.000000e+00 | -0.1647037 |\n",
       "| MDP-LU         | 2018 | 0.000000e+00 | -0.1647037 |\n",
       "| PDL            | 2013 | 0.000000e+00 | -0.1647037 |\n",
       "| SDPSE          | 2009 | 0.000000e+00 | -0.1647037 |\n",
       "| SOCRAD-RNP     | 2009 | 0.000000e+00 | -0.1647037 |\n",
       "\n"
      ],
      "text/plain": [
       "   party          year mean_perc_of_populist_toks\n",
       "1  DES-CD         2015 3.213526e-04              \n",
       "2  DCA-NPSI       2006 2.135572e-04              \n",
       "3  DES-CD         2014 1.541198e-04              \n",
       "4  VERDI          2006 1.411349e-04              \n",
       "5  UDEUR          2001 6.002401e-05              \n",
       "6  AP-CPE-NCD-NCI 2018 0.000000e+00              \n",
       "7  CI             2018 0.000000e+00              \n",
       "8  COM/IT/        2008 0.000000e+00              \n",
       "9  DCA-NPSI       2008 0.000000e+00              \n",
       "10 DCA-NPSI       2009 0.000000e+00              \n",
       "11 FDI-AN         2018 0.000000e+00              \n",
       "12 FLPTP          2013 0.000000e+00              \n",
       "13 LIFED          1994 0.000000e+00              \n",
       "14 LIFED          1995 0.000000e+00              \n",
       "15 LIFED          1996 0.000000e+00              \n",
       "16 LNA            2018 0.000000e+00              \n",
       "17 MDP-LU         2018 0.000000e+00              \n",
       "18 PDL            2013 0.000000e+00              \n",
       "19 SDPSE          2009 0.000000e+00              \n",
       "20 SOCRAD-RNP     2009 0.000000e+00              \n",
       "   mean_standardized_perc_of_populist_toks\n",
       "1  -0.1223761                             \n",
       "2  -0.1365746                             \n",
       "3  -0.1444035                             \n",
       "4  -0.1461138                             \n",
       "5  -0.1567975                             \n",
       "6  -0.1647037                             \n",
       "7  -0.1647037                             \n",
       "8  -0.1647037                             \n",
       "9  -0.1647037                             \n",
       "10 -0.1647037                             \n",
       "11 -0.1647037                             \n",
       "12 -0.1647037                             \n",
       "13 -0.1647037                             \n",
       "14 -0.1647037                             \n",
       "15 -0.1647037                             \n",
       "16 -0.1647037                             \n",
       "17 -0.1647037                             \n",
       "18 -0.1647037                             \n",
       "19 -0.1647037                             \n",
       "20 -0.1647037                             "
      ]
     },
     "metadata": {},
     "output_type": "display_data"
    }
   ],
   "source": [
    "df_rp %>% \n",
    "group_by(party, year) %>% \n",
    "summarize(mean_perc_of_populist_toks = mean(perc_of_populist_toks, na.rm = TRUE),\n",
    "          mean_standardized_perc_of_populist_toks = mean(standardized_perc_of_populist_toks, na.rm = TRUE),\n",
    "          .groups = \"keep\") %>% \n",
    "arrange(desc(mean_standardized_perc_of_populist_toks)) %>% \n",
    "tail(20)"
   ]
  },
  {
   "cell_type": "markdown",
   "id": "84b753ac",
   "metadata": {},
   "source": [
    "## External validity <a class=\"anchor\" id=\"subparagraph3\"></a>"
   ]
  },
  {
   "cell_type": "markdown",
   "id": "0b1ca8b0",
   "metadata": {},
   "source": [
    "### Chapel Hill Expert Survey <a class=\"anchor\" id=\"subparagraph4\"></a>"
   ]
  },
  {
   "cell_type": "markdown",
   "id": "c48fce54",
   "metadata": {},
   "source": [
    "As Rooduijn and Pauwels' dictionary only captures the anti-elite dimension of populism, the external validity will be carried out against the anti-elite salience variable from the CHES dataset, which has been introduced in 2014."
   ]
  },
  {
   "cell_type": "markdown",
   "id": "25f97f71",
   "metadata": {},
   "source": [
    "Let's load the CHES dataset"
   ]
  },
  {
   "cell_type": "code",
   "execution_count": 15,
   "id": "4a1c0b26",
   "metadata": {},
   "outputs": [],
   "source": [
    "ches <- read_csv(\"data/1999-2019_CHES_dataset_means(v2).csv\", show_col_types = FALSE)"
   ]
  },
  {
   "cell_type": "markdown",
   "id": "5b3ab7d5",
   "metadata": {},
   "source": [
    "The countrycode for Italy is 8. The following is a list of all Italian parties in the CHES dataset in the 2014-2019 time period."
   ]
  },
  {
   "cell_type": "code",
   "execution_count": 16,
   "id": "8eac18bd",
   "metadata": {},
   "outputs": [
    {
     "data": {
      "text/html": [
       "<table class=\"dataframe\">\n",
       "<caption>A tibble: 15 × 1</caption>\n",
       "<thead>\n",
       "\t<tr><th scope=col>party</th></tr>\n",
       "\t<tr><th scope=col>&lt;chr&gt;</th></tr>\n",
       "</thead>\n",
       "<tbody>\n",
       "\t<tr><td>UDC</td></tr>\n",
       "\t<tr><td>SC </td></tr>\n",
       "\t<tr><td>VdA</td></tr>\n",
       "\t<tr><td>PD </td></tr>\n",
       "\t<tr><td>FI </td></tr>\n",
       "\t<tr><td>LN </td></tr>\n",
       "\t<tr><td>FdI</td></tr>\n",
       "\t<tr><td>SEL</td></tr>\n",
       "\t<tr><td>M5S</td></tr>\n",
       "\t<tr><td>CD </td></tr>\n",
       "\t<tr><td>SVP</td></tr>\n",
       "\t<tr><td>RC </td></tr>\n",
       "\t<tr><td>NCD</td></tr>\n",
       "\t<tr><td>RI </td></tr>\n",
       "\t<tr><td>SI </td></tr>\n",
       "</tbody>\n",
       "</table>\n"
      ],
      "text/latex": [
       "A tibble: 15 × 1\n",
       "\\begin{tabular}{l}\n",
       " party\\\\\n",
       " <chr>\\\\\n",
       "\\hline\n",
       "\t UDC\\\\\n",
       "\t SC \\\\\n",
       "\t VdA\\\\\n",
       "\t PD \\\\\n",
       "\t FI \\\\\n",
       "\t LN \\\\\n",
       "\t FdI\\\\\n",
       "\t SEL\\\\\n",
       "\t M5S\\\\\n",
       "\t CD \\\\\n",
       "\t SVP\\\\\n",
       "\t RC \\\\\n",
       "\t NCD\\\\\n",
       "\t RI \\\\\n",
       "\t SI \\\\\n",
       "\\end{tabular}\n"
      ],
      "text/markdown": [
       "\n",
       "A tibble: 15 × 1\n",
       "\n",
       "| party &lt;chr&gt; |\n",
       "|---|\n",
       "| UDC |\n",
       "| SC  |\n",
       "| VdA |\n",
       "| PD  |\n",
       "| FI  |\n",
       "| LN  |\n",
       "| FdI |\n",
       "| SEL |\n",
       "| M5S |\n",
       "| CD  |\n",
       "| SVP |\n",
       "| RC  |\n",
       "| NCD |\n",
       "| RI  |\n",
       "| SI  |\n",
       "\n"
      ],
      "text/plain": [
       "   party\n",
       "1  UDC  \n",
       "2  SC   \n",
       "3  VdA  \n",
       "4  PD   \n",
       "5  FI   \n",
       "6  LN   \n",
       "7  FdI  \n",
       "8  SEL  \n",
       "9  M5S  \n",
       "10 CD   \n",
       "11 SVP  \n",
       "12 RC   \n",
       "13 NCD  \n",
       "14 RI   \n",
       "15 SI   "
      ]
     },
     "metadata": {},
     "output_type": "display_data"
    }
   ],
   "source": [
    "ches %>% filter(country == 8 & year >= 2014 & year <= 2019) %>% distinct(party)"
   ]
  },
  {
   "cell_type": "markdown",
   "id": "6000c13b",
   "metadata": {},
   "source": [
    "While these are the parties included in our dataset in the same timeframe"
   ]
  },
  {
   "cell_type": "code",
   "execution_count": 17,
   "id": "f4b9db81",
   "metadata": {},
   "outputs": [
    {
     "data": {
      "text/html": [
       "<table class=\"dataframe\">\n",
       "<caption>A data.frame: 17 × 1</caption>\n",
       "<thead>\n",
       "\t<tr><th scope=col>party</th></tr>\n",
       "\t<tr><th scope=col>&lt;chr&gt;</th></tr>\n",
       "</thead>\n",
       "<tbody>\n",
       "\t<tr><td>CI            </td></tr>\n",
       "\t<tr><td>PD            </td></tr>\n",
       "\t<tr><td>FI-PDL        </td></tr>\n",
       "\t<tr><td>M5S           </td></tr>\n",
       "\t<tr><td>MDP-LU        </td></tr>\n",
       "\t<tr><td>NCI-SCPI-MAIE </td></tr>\n",
       "\t<tr><td>MISTO         </td></tr>\n",
       "\t<tr><td>SI-SEL-POS-LU </td></tr>\n",
       "\t<tr><td>AP-CPE-NCD-NCI</td></tr>\n",
       "\t<tr><td>LNA           </td></tr>\n",
       "\t<tr><td>FDI-AN        </td></tr>\n",
       "\t<tr><td>DES-CD        </td></tr>\n",
       "\t<tr><td>LEGA          </td></tr>\n",
       "\t<tr><td>IV            </td></tr>\n",
       "\t<tr><td>FI            </td></tr>\n",
       "\t<tr><td>FDI           </td></tr>\n",
       "\t<tr><td>LEU           </td></tr>\n",
       "</tbody>\n",
       "</table>\n"
      ],
      "text/latex": [
       "A data.frame: 17 × 1\n",
       "\\begin{tabular}{l}\n",
       " party\\\\\n",
       " <chr>\\\\\n",
       "\\hline\n",
       "\t CI            \\\\\n",
       "\t PD            \\\\\n",
       "\t FI-PDL        \\\\\n",
       "\t M5S           \\\\\n",
       "\t MDP-LU        \\\\\n",
       "\t NCI-SCPI-MAIE \\\\\n",
       "\t MISTO         \\\\\n",
       "\t SI-SEL-POS-LU \\\\\n",
       "\t AP-CPE-NCD-NCI\\\\\n",
       "\t LNA           \\\\\n",
       "\t FDI-AN        \\\\\n",
       "\t DES-CD        \\\\\n",
       "\t LEGA          \\\\\n",
       "\t IV            \\\\\n",
       "\t FI            \\\\\n",
       "\t FDI           \\\\\n",
       "\t LEU           \\\\\n",
       "\\end{tabular}\n"
      ],
      "text/markdown": [
       "\n",
       "A data.frame: 17 × 1\n",
       "\n",
       "| party &lt;chr&gt; |\n",
       "|---|\n",
       "| CI             |\n",
       "| PD             |\n",
       "| FI-PDL         |\n",
       "| M5S            |\n",
       "| MDP-LU         |\n",
       "| NCI-SCPI-MAIE  |\n",
       "| MISTO          |\n",
       "| SI-SEL-POS-LU  |\n",
       "| AP-CPE-NCD-NCI |\n",
       "| LNA            |\n",
       "| FDI-AN         |\n",
       "| DES-CD         |\n",
       "| LEGA           |\n",
       "| IV             |\n",
       "| FI             |\n",
       "| FDI            |\n",
       "| LEU            |\n",
       "\n"
      ],
      "text/plain": [
       "   party         \n",
       "1  CI            \n",
       "2  PD            \n",
       "3  FI-PDL        \n",
       "4  M5S           \n",
       "5  MDP-LU        \n",
       "6  NCI-SCPI-MAIE \n",
       "7  MISTO         \n",
       "8  SI-SEL-POS-LU \n",
       "9  AP-CPE-NCD-NCI\n",
       "10 LNA           \n",
       "11 FDI-AN        \n",
       "12 DES-CD        \n",
       "13 LEGA          \n",
       "14 IV            \n",
       "15 FI            \n",
       "16 FDI           \n",
       "17 LEU           "
      ]
     },
     "metadata": {},
     "output_type": "display_data"
    }
   ],
   "source": [
    "df_rp %>% filter(year >= 2014 & year <= 2019) %>% distinct(party)"
   ]
  },
  {
   "cell_type": "markdown",
   "id": "c5ef3a07",
   "metadata": {},
   "source": [
    "'Vallée d'Aoste', 'Südtiroler Volkspartei' and 'Radicali Italiani' are not part of our dataset, so let's drop them from the CHES dataset."
   ]
  },
  {
   "cell_type": "code",
   "execution_count": 18,
   "id": "9518935f",
   "metadata": {},
   "outputs": [],
   "source": [
    "to_drop <- c('VdA', 'SVP', 'RI')\n",
    "\n",
    "ches <- ches %>% \n",
    "        filter(country == 8 & year >= 2014 & year <= 2019 & (!party %in% to_drop)) "
   ]
  },
  {
   "cell_type": "markdown",
   "id": "2ea252bf",
   "metadata": {},
   "source": [
    "Let's now compare how R&P' dictionary and the CHES dataset ranked party-year combinations by populism in 2014 and 2019. We'll drop the \"Mixed group\" and \"Italia Viva\" as these two parliamentary groups are absent from the CHES dataset."
   ]
  },
  {
   "cell_type": "markdown",
   "id": "37faa729",
   "metadata": {},
   "source": [
    "The difference between the two rankings is stark. According to the dictionary analysis, PD (2019) ranks among the most populist party-year combinations and M5S (2019) among the least populists ones, while the opposite is true in the CHES dataset. Moreover, Lega (2019), one of the most populist party-year combinations according to CHES, is only slightly populist according to R&P' dictionary."
   ]
  },
  {
   "cell_type": "code",
   "execution_count": 26,
   "id": "10eab5e8",
   "metadata": {},
   "outputs": [
    {
     "data": {
      "text/html": [
       "<table class=\"dataframe\">\n",
       "<caption>A grouped_df: 17 × 4</caption>\n",
       "<thead>\n",
       "\t<tr><th scope=col>party</th><th scope=col>year</th><th scope=col>mean_perc_of_populist_toks</th><th scope=col>mean_standardized_perc_of_populist_toks</th></tr>\n",
       "\t<tr><th scope=col>&lt;chr&gt;</th><th scope=col>&lt;int&gt;</th><th scope=col>&lt;dbl&gt;</th><th scope=col>&lt;dbl&gt;</th></tr>\n",
       "</thead>\n",
       "<tbody>\n",
       "\t<tr><td>FI            </td><td>2019</td><td>0.0028582965</td><td> 0.211782102</td></tr>\n",
       "\t<tr><td>PD            </td><td>2019</td><td>0.0026468333</td><td> 0.183928833</td></tr>\n",
       "\t<tr><td>FDI           </td><td>2019</td><td>0.0020877951</td><td> 0.110294089</td></tr>\n",
       "\t<tr><td>FDI-AN        </td><td>2014</td><td>0.0020435689</td><td> 0.104468756</td></tr>\n",
       "\t<tr><td>MDP-LU        </td><td>2014</td><td>0.0018144723</td><td> 0.074292881</td></tr>\n",
       "\t<tr><td>AP-CPE-NCD-NCI</td><td>2014</td><td>0.0016659382</td><td> 0.054728430</td></tr>\n",
       "\t<tr><td>LNA           </td><td>2014</td><td>0.0016545694</td><td> 0.053230976</td></tr>\n",
       "\t<tr><td>M5S           </td><td>2014</td><td>0.0015579224</td><td> 0.040500932</td></tr>\n",
       "\t<tr><td>NCI-SCPI-MAIE </td><td>2014</td><td>0.0014953564</td><td> 0.032259940</td></tr>\n",
       "\t<tr><td>LEU           </td><td>2019</td><td>0.0013378122</td><td> 0.011508711</td></tr>\n",
       "\t<tr><td>PD            </td><td>2014</td><td>0.0013012957</td><td> 0.006765910</td></tr>\n",
       "\t<tr><td>LEGA          </td><td>2019</td><td>0.0012855981</td><td> 0.004631234</td></tr>\n",
       "\t<tr><td>CI            </td><td>2014</td><td>0.0012088006</td><td>-0.005484283</td></tr>\n",
       "\t<tr><td>SI-SEL-POS-LU </td><td>2014</td><td>0.0011571360</td><td>-0.012289379</td></tr>\n",
       "\t<tr><td>M5S           </td><td>2019</td><td>0.0010282800</td><td>-0.029204662</td></tr>\n",
       "\t<tr><td>FI-PDL        </td><td>2014</td><td>0.0010000899</td><td>-0.032857388</td></tr>\n",
       "\t<tr><td>DES-CD        </td><td>2014</td><td>0.0001541198</td><td>-0.144403504</td></tr>\n",
       "</tbody>\n",
       "</table>\n"
      ],
      "text/latex": [
       "A grouped\\_df: 17 × 4\n",
       "\\begin{tabular}{llll}\n",
       " party & year & mean\\_perc\\_of\\_populist\\_toks & mean\\_standardized\\_perc\\_of\\_populist\\_toks\\\\\n",
       " <chr> & <int> & <dbl> & <dbl>\\\\\n",
       "\\hline\n",
       "\t FI             & 2019 & 0.0028582965 &  0.211782102\\\\\n",
       "\t PD             & 2019 & 0.0026468333 &  0.183928833\\\\\n",
       "\t FDI            & 2019 & 0.0020877951 &  0.110294089\\\\\n",
       "\t FDI-AN         & 2014 & 0.0020435689 &  0.104468756\\\\\n",
       "\t MDP-LU         & 2014 & 0.0018144723 &  0.074292881\\\\\n",
       "\t AP-CPE-NCD-NCI & 2014 & 0.0016659382 &  0.054728430\\\\\n",
       "\t LNA            & 2014 & 0.0016545694 &  0.053230976\\\\\n",
       "\t M5S            & 2014 & 0.0015579224 &  0.040500932\\\\\n",
       "\t NCI-SCPI-MAIE  & 2014 & 0.0014953564 &  0.032259940\\\\\n",
       "\t LEU            & 2019 & 0.0013378122 &  0.011508711\\\\\n",
       "\t PD             & 2014 & 0.0013012957 &  0.006765910\\\\\n",
       "\t LEGA           & 2019 & 0.0012855981 &  0.004631234\\\\\n",
       "\t CI             & 2014 & 0.0012088006 & -0.005484283\\\\\n",
       "\t SI-SEL-POS-LU  & 2014 & 0.0011571360 & -0.012289379\\\\\n",
       "\t M5S            & 2019 & 0.0010282800 & -0.029204662\\\\\n",
       "\t FI-PDL         & 2014 & 0.0010000899 & -0.032857388\\\\\n",
       "\t DES-CD         & 2014 & 0.0001541198 & -0.144403504\\\\\n",
       "\\end{tabular}\n"
      ],
      "text/markdown": [
       "\n",
       "A grouped_df: 17 × 4\n",
       "\n",
       "| party &lt;chr&gt; | year &lt;int&gt; | mean_perc_of_populist_toks &lt;dbl&gt; | mean_standardized_perc_of_populist_toks &lt;dbl&gt; |\n",
       "|---|---|---|---|\n",
       "| FI             | 2019 | 0.0028582965 |  0.211782102 |\n",
       "| PD             | 2019 | 0.0026468333 |  0.183928833 |\n",
       "| FDI            | 2019 | 0.0020877951 |  0.110294089 |\n",
       "| FDI-AN         | 2014 | 0.0020435689 |  0.104468756 |\n",
       "| MDP-LU         | 2014 | 0.0018144723 |  0.074292881 |\n",
       "| AP-CPE-NCD-NCI | 2014 | 0.0016659382 |  0.054728430 |\n",
       "| LNA            | 2014 | 0.0016545694 |  0.053230976 |\n",
       "| M5S            | 2014 | 0.0015579224 |  0.040500932 |\n",
       "| NCI-SCPI-MAIE  | 2014 | 0.0014953564 |  0.032259940 |\n",
       "| LEU            | 2019 | 0.0013378122 |  0.011508711 |\n",
       "| PD             | 2014 | 0.0013012957 |  0.006765910 |\n",
       "| LEGA           | 2019 | 0.0012855981 |  0.004631234 |\n",
       "| CI             | 2014 | 0.0012088006 | -0.005484283 |\n",
       "| SI-SEL-POS-LU  | 2014 | 0.0011571360 | -0.012289379 |\n",
       "| M5S            | 2019 | 0.0010282800 | -0.029204662 |\n",
       "| FI-PDL         | 2014 | 0.0010000899 | -0.032857388 |\n",
       "| DES-CD         | 2014 | 0.0001541198 | -0.144403504 |\n",
       "\n"
      ],
      "text/plain": [
       "   party          year mean_perc_of_populist_toks\n",
       "1  FI             2019 0.0028582965              \n",
       "2  PD             2019 0.0026468333              \n",
       "3  FDI            2019 0.0020877951              \n",
       "4  FDI-AN         2014 0.0020435689              \n",
       "5  MDP-LU         2014 0.0018144723              \n",
       "6  AP-CPE-NCD-NCI 2014 0.0016659382              \n",
       "7  LNA            2014 0.0016545694              \n",
       "8  M5S            2014 0.0015579224              \n",
       "9  NCI-SCPI-MAIE  2014 0.0014953564              \n",
       "10 LEU            2019 0.0013378122              \n",
       "11 PD             2014 0.0013012957              \n",
       "12 LEGA           2019 0.0012855981              \n",
       "13 CI             2014 0.0012088006              \n",
       "14 SI-SEL-POS-LU  2014 0.0011571360              \n",
       "15 M5S            2019 0.0010282800              \n",
       "16 FI-PDL         2014 0.0010000899              \n",
       "17 DES-CD         2014 0.0001541198              \n",
       "   mean_standardized_perc_of_populist_toks\n",
       "1   0.211782102                           \n",
       "2   0.183928833                           \n",
       "3   0.110294089                           \n",
       "4   0.104468756                           \n",
       "5   0.074292881                           \n",
       "6   0.054728430                           \n",
       "7   0.053230976                           \n",
       "8   0.040500932                           \n",
       "9   0.032259940                           \n",
       "10  0.011508711                           \n",
       "11  0.006765910                           \n",
       "12  0.004631234                           \n",
       "13 -0.005484283                           \n",
       "14 -0.012289379                           \n",
       "15 -0.029204662                           \n",
       "16 -0.032857388                           \n",
       "17 -0.144403504                           "
      ]
     },
     "metadata": {},
     "output_type": "display_data"
    }
   ],
   "source": [
    "df_rp %>% \n",
    "filter((year == 2014 | year == 2019) & party != \"MISTO\" & party != \"IV\") %>% \n",
    "group_by(party, year) %>% \n",
    "summarize(mean_perc_of_populist_toks = mean(perc_of_populist_toks),\n",
    "          mean_standardized_perc_of_populist_toks = mean(standardized_perc_of_populist_toks, na.rm = TRUE),\n",
    "          .groups = \"keep\") %>% \n",
    "arrange(desc(mean_perc_of_populist_toks))"
   ]
  },
  {
   "cell_type": "code",
   "execution_count": 24,
   "id": "a2c4bccb",
   "metadata": {},
   "outputs": [
    {
     "data": {
      "text/html": [
       "<table class=\"dataframe\">\n",
       "<caption>A grouped_df: 17 × 3</caption>\n",
       "<thead>\n",
       "\t<tr><th scope=col>party</th><th scope=col>year</th><th scope=col>mean_anti_elite_salience</th></tr>\n",
       "\t<tr><th scope=col>&lt;chr&gt;</th><th scope=col>&lt;dbl&gt;</th><th scope=col>&lt;dbl&gt;</th></tr>\n",
       "</thead>\n",
       "<tbody>\n",
       "\t<tr><td>M5S</td><td>2014</td><td>10.000000</td></tr>\n",
       "\t<tr><td>RC </td><td>2014</td><td> 9.333333</td></tr>\n",
       "\t<tr><td>M5S</td><td>2019</td><td> 8.888889</td></tr>\n",
       "\t<tr><td>LN </td><td>2014</td><td> 8.800000</td></tr>\n",
       "\t<tr><td>LN </td><td>2019</td><td> 8.333333</td></tr>\n",
       "\t<tr><td>FdI</td><td>2019</td><td> 8.000000</td></tr>\n",
       "\t<tr><td>SEL</td><td>2014</td><td> 6.800000</td></tr>\n",
       "\t<tr><td>FdI</td><td>2014</td><td> 6.250000</td></tr>\n",
       "\t<tr><td>PD </td><td>2014</td><td> 4.400000</td></tr>\n",
       "\t<tr><td>FI </td><td>2019</td><td> 4.176471</td></tr>\n",
       "\t<tr><td>FI </td><td>2014</td><td> 4.000000</td></tr>\n",
       "\t<tr><td>SI </td><td>2019</td><td> 3.785714</td></tr>\n",
       "\t<tr><td>CD </td><td>2014</td><td> 3.333333</td></tr>\n",
       "\t<tr><td>NCD</td><td>2014</td><td> 2.200000</td></tr>\n",
       "\t<tr><td>PD </td><td>2019</td><td> 1.882353</td></tr>\n",
       "\t<tr><td>UDC</td><td>2014</td><td> 1.500000</td></tr>\n",
       "\t<tr><td>SC </td><td>2014</td><td> 1.000000</td></tr>\n",
       "</tbody>\n",
       "</table>\n"
      ],
      "text/latex": [
       "A grouped\\_df: 17 × 3\n",
       "\\begin{tabular}{lll}\n",
       " party & year & mean\\_anti\\_elite\\_salience\\\\\n",
       " <chr> & <dbl> & <dbl>\\\\\n",
       "\\hline\n",
       "\t M5S & 2014 & 10.000000\\\\\n",
       "\t RC  & 2014 &  9.333333\\\\\n",
       "\t M5S & 2019 &  8.888889\\\\\n",
       "\t LN  & 2014 &  8.800000\\\\\n",
       "\t LN  & 2019 &  8.333333\\\\\n",
       "\t FdI & 2019 &  8.000000\\\\\n",
       "\t SEL & 2014 &  6.800000\\\\\n",
       "\t FdI & 2014 &  6.250000\\\\\n",
       "\t PD  & 2014 &  4.400000\\\\\n",
       "\t FI  & 2019 &  4.176471\\\\\n",
       "\t FI  & 2014 &  4.000000\\\\\n",
       "\t SI  & 2019 &  3.785714\\\\\n",
       "\t CD  & 2014 &  3.333333\\\\\n",
       "\t NCD & 2014 &  2.200000\\\\\n",
       "\t PD  & 2019 &  1.882353\\\\\n",
       "\t UDC & 2014 &  1.500000\\\\\n",
       "\t SC  & 2014 &  1.000000\\\\\n",
       "\\end{tabular}\n"
      ],
      "text/markdown": [
       "\n",
       "A grouped_df: 17 × 3\n",
       "\n",
       "| party &lt;chr&gt; | year &lt;dbl&gt; | mean_anti_elite_salience &lt;dbl&gt; |\n",
       "|---|---|---|\n",
       "| M5S | 2014 | 10.000000 |\n",
       "| RC  | 2014 |  9.333333 |\n",
       "| M5S | 2019 |  8.888889 |\n",
       "| LN  | 2014 |  8.800000 |\n",
       "| LN  | 2019 |  8.333333 |\n",
       "| FdI | 2019 |  8.000000 |\n",
       "| SEL | 2014 |  6.800000 |\n",
       "| FdI | 2014 |  6.250000 |\n",
       "| PD  | 2014 |  4.400000 |\n",
       "| FI  | 2019 |  4.176471 |\n",
       "| FI  | 2014 |  4.000000 |\n",
       "| SI  | 2019 |  3.785714 |\n",
       "| CD  | 2014 |  3.333333 |\n",
       "| NCD | 2014 |  2.200000 |\n",
       "| PD  | 2019 |  1.882353 |\n",
       "| UDC | 2014 |  1.500000 |\n",
       "| SC  | 2014 |  1.000000 |\n",
       "\n"
      ],
      "text/plain": [
       "   party year mean_anti_elite_salience\n",
       "1  M5S   2014 10.000000               \n",
       "2  RC    2014  9.333333               \n",
       "3  M5S   2019  8.888889               \n",
       "4  LN    2014  8.800000               \n",
       "5  LN    2019  8.333333               \n",
       "6  FdI   2019  8.000000               \n",
       "7  SEL   2014  6.800000               \n",
       "8  FdI   2014  6.250000               \n",
       "9  PD    2014  4.400000               \n",
       "10 FI    2019  4.176471               \n",
       "11 FI    2014  4.000000               \n",
       "12 SI    2019  3.785714               \n",
       "13 CD    2014  3.333333               \n",
       "14 NCD   2014  2.200000               \n",
       "15 PD    2019  1.882353               \n",
       "16 UDC   2014  1.500000               \n",
       "17 SC    2014  1.000000               "
      ]
     },
     "metadata": {},
     "output_type": "display_data"
    }
   ],
   "source": [
    "ches %>% \n",
    "group_by(party, year) %>% \n",
    "summarize(mean_anti_elite_salience = mean(antielite_salience), .groups = \"keep\") %>% \n",
    "arrange(desc(mean_anti_elite_salience))"
   ]
  },
  {
   "cell_type": "markdown",
   "id": "343071dc",
   "metadata": {},
   "source": [
    "### The PopuList <a class=\"anchor\" id=\"subparagraph5\"></a>"
   ]
  },
  {
   "cell_type": "markdown",
   "id": "56ef7ef7",
   "metadata": {},
   "source": [
    "Reading the PopuList dataset"
   ]
  },
  {
   "cell_type": "code",
   "execution_count": 27,
   "id": "aa545814",
   "metadata": {},
   "outputs": [],
   "source": [
    "populist <- readxl::read_xlsx(\"data/populist-version-2-20200626.xlsx\")"
   ]
  },
  {
   "cell_type": "markdown",
   "id": "de2d590d",
   "metadata": {},
   "source": [
    "All the Italian parties in the PopuList dataset"
   ]
  },
  {
   "cell_type": "code",
   "execution_count": 28,
   "id": "4be7f9f6",
   "metadata": {},
   "outputs": [
    {
     "data": {
      "text/html": [
       "<table class=\"dataframe\">\n",
       "<caption>A tibble: 13 × 1</caption>\n",
       "<thead>\n",
       "\t<tr><th scope=col>party_name</th></tr>\n",
       "\t<tr><th scope=col>&lt;chr&gt;</th></tr>\n",
       "</thead>\n",
       "<tbody>\n",
       "\t<tr><td>Fiamma Tricolore                          </td></tr>\n",
       "\t<tr><td>Forza Italia – Il Popolo della Libertà    </td></tr>\n",
       "\t<tr><td>Fratelli d'Italia – Centrodestra Nazionale</td></tr>\n",
       "\t<tr><td>Il Popolo della Libertà                   </td></tr>\n",
       "\t<tr><td>Lega (Nord)                               </td></tr>\n",
       "\t<tr><td>Lega d'Azione Meridionale                 </td></tr>\n",
       "\t<tr><td>Liga Veneta                               </td></tr>\n",
       "\t<tr><td>Movimento 5 Stelle                        </td></tr>\n",
       "\t<tr><td>Movimento Sociale Italiano                </td></tr>\n",
       "\t<tr><td>Partito dei Comunisti Italiani            </td></tr>\n",
       "\t<tr><td>Partito della Rifondazione Comunista      </td></tr>\n",
       "\t<tr><td>Rivoluzione Civile                        </td></tr>\n",
       "\t<tr><td>Sinistra                                  </td></tr>\n",
       "</tbody>\n",
       "</table>\n"
      ],
      "text/latex": [
       "A tibble: 13 × 1\n",
       "\\begin{tabular}{l}\n",
       " party\\_name\\\\\n",
       " <chr>\\\\\n",
       "\\hline\n",
       "\t Fiamma Tricolore                          \\\\\n",
       "\t Forza Italia – Il Popolo della Libertà    \\\\\n",
       "\t Fratelli d'Italia – Centrodestra Nazionale\\\\\n",
       "\t Il Popolo della Libertà                   \\\\\n",
       "\t Lega (Nord)                               \\\\\n",
       "\t Lega d'Azione Meridionale                 \\\\\n",
       "\t Liga Veneta                               \\\\\n",
       "\t Movimento 5 Stelle                        \\\\\n",
       "\t Movimento Sociale Italiano                \\\\\n",
       "\t Partito dei Comunisti Italiani            \\\\\n",
       "\t Partito della Rifondazione Comunista      \\\\\n",
       "\t Rivoluzione Civile                        \\\\\n",
       "\t Sinistra                                  \\\\\n",
       "\\end{tabular}\n"
      ],
      "text/markdown": [
       "\n",
       "A tibble: 13 × 1\n",
       "\n",
       "| party_name &lt;chr&gt; |\n",
       "|---|\n",
       "| Fiamma Tricolore                           |\n",
       "| Forza Italia – Il Popolo della Libertà     |\n",
       "| Fratelli d'Italia – Centrodestra Nazionale |\n",
       "| Il Popolo della Libertà                    |\n",
       "| Lega (Nord)                                |\n",
       "| Lega d'Azione Meridionale                  |\n",
       "| Liga Veneta                                |\n",
       "| Movimento 5 Stelle                         |\n",
       "| Movimento Sociale Italiano                 |\n",
       "| Partito dei Comunisti Italiani             |\n",
       "| Partito della Rifondazione Comunista       |\n",
       "| Rivoluzione Civile                         |\n",
       "| Sinistra                                   |\n",
       "\n"
      ],
      "text/plain": [
       "   party_name                                \n",
       "1  Fiamma Tricolore                          \n",
       "2  Forza Italia – Il Popolo della Libertà    \n",
       "3  Fratelli d'Italia – Centrodestra Nazionale\n",
       "4  Il Popolo della Libertà                   \n",
       "5  Lega (Nord)                               \n",
       "6  Lega d'Azione Meridionale                 \n",
       "7  Liga Veneta                               \n",
       "8  Movimento 5 Stelle                        \n",
       "9  Movimento Sociale Italiano                \n",
       "10 Partito dei Comunisti Italiani            \n",
       "11 Partito della Rifondazione Comunista      \n",
       "12 Rivoluzione Civile                        \n",
       "13 Sinistra                                  "
      ]
     },
     "metadata": {},
     "output_type": "display_data"
    }
   ],
   "source": [
    "populist %>% filter(country_name == \"Italy\") %>% distinct(party_name)"
   ]
  },
  {
   "cell_type": "markdown",
   "id": "05550252",
   "metadata": {},
   "source": [
    "\"Fiamma tricolore\", \"Lega d'Azione Meridionale\", \"Movimento Sociale Italiano\" are not in our dataset. So let's drop them from the PopuList dataset."
   ]
  },
  {
   "cell_type": "code",
   "execution_count": 32,
   "id": "b6c5b09d",
   "metadata": {},
   "outputs": [],
   "source": [
    "to_drop <- c(\"Fiamma Tricolore\", \"Lega d'Azione Meridionale\", \"Movimento Sociale Italiano\")\n",
    "\n",
    "populist <- populist %>% \n",
    "filter(country_name == \"Italy\" & (!party_name %in% to_drop))"
   ]
  },
  {
   "cell_type": "markdown",
   "id": "bb3e94a7",
   "metadata": {},
   "source": [
    "Let's compare the populism scores between PopuList and R&D' dictionary by focusing on those parties that are present in both datasets. There is no year variable in the PopuList dataset so we're only grouping by party.  "
   ]
  },
  {
   "cell_type": "markdown",
   "id": "79538648",
   "metadata": {},
   "source": [
    "In both cases, FI-PDL, FdI, Lega and M5S have high populism scores. The two rankings can thus be considered similar."
   ]
  },
  {
   "cell_type": "code",
   "execution_count": 34,
   "id": "08f0f15d",
   "metadata": {},
   "outputs": [
    {
     "data": {
      "text/html": [
       "<table class=\"dataframe\">\n",
       "<caption>A tibble: 10 × 2</caption>\n",
       "<thead>\n",
       "\t<tr><th scope=col>party_name</th><th scope=col>mean_populist</th></tr>\n",
       "\t<tr><th scope=col>&lt;chr&gt;</th><th scope=col>&lt;dbl&gt;</th></tr>\n",
       "</thead>\n",
       "<tbody>\n",
       "\t<tr><td>Forza Italia – Il Popolo della Libertà    </td><td>1</td></tr>\n",
       "\t<tr><td>Fratelli d'Italia – Centrodestra Nazionale</td><td>1</td></tr>\n",
       "\t<tr><td>Il Popolo della Libertà                   </td><td>1</td></tr>\n",
       "\t<tr><td>Lega (Nord)                               </td><td>1</td></tr>\n",
       "\t<tr><td>Liga Veneta                               </td><td>1</td></tr>\n",
       "\t<tr><td>Movimento 5 Stelle                        </td><td>1</td></tr>\n",
       "\t<tr><td>Partito dei Comunisti Italiani            </td><td>0</td></tr>\n",
       "\t<tr><td>Partito della Rifondazione Comunista      </td><td>0</td></tr>\n",
       "\t<tr><td>Rivoluzione Civile                        </td><td>0</td></tr>\n",
       "\t<tr><td>Sinistra                                  </td><td>0</td></tr>\n",
       "</tbody>\n",
       "</table>\n"
      ],
      "text/latex": [
       "A tibble: 10 × 2\n",
       "\\begin{tabular}{ll}\n",
       " party\\_name & mean\\_populist\\\\\n",
       " <chr> & <dbl>\\\\\n",
       "\\hline\n",
       "\t Forza Italia – Il Popolo della Libertà     & 1\\\\\n",
       "\t Fratelli d'Italia – Centrodestra Nazionale & 1\\\\\n",
       "\t Il Popolo della Libertà                    & 1\\\\\n",
       "\t Lega (Nord)                                & 1\\\\\n",
       "\t Liga Veneta                                & 1\\\\\n",
       "\t Movimento 5 Stelle                         & 1\\\\\n",
       "\t Partito dei Comunisti Italiani             & 0\\\\\n",
       "\t Partito della Rifondazione Comunista       & 0\\\\\n",
       "\t Rivoluzione Civile                         & 0\\\\\n",
       "\t Sinistra                                   & 0\\\\\n",
       "\\end{tabular}\n"
      ],
      "text/markdown": [
       "\n",
       "A tibble: 10 × 2\n",
       "\n",
       "| party_name &lt;chr&gt; | mean_populist &lt;dbl&gt; |\n",
       "|---|---|\n",
       "| Forza Italia – Il Popolo della Libertà     | 1 |\n",
       "| Fratelli d'Italia – Centrodestra Nazionale | 1 |\n",
       "| Il Popolo della Libertà                    | 1 |\n",
       "| Lega (Nord)                                | 1 |\n",
       "| Liga Veneta                                | 1 |\n",
       "| Movimento 5 Stelle                         | 1 |\n",
       "| Partito dei Comunisti Italiani             | 0 |\n",
       "| Partito della Rifondazione Comunista       | 0 |\n",
       "| Rivoluzione Civile                         | 0 |\n",
       "| Sinistra                                   | 0 |\n",
       "\n"
      ],
      "text/plain": [
       "   party_name                                 mean_populist\n",
       "1  Forza Italia – Il Popolo della Libertà     1            \n",
       "2  Fratelli d'Italia – Centrodestra Nazionale 1            \n",
       "3  Il Popolo della Libertà                    1            \n",
       "4  Lega (Nord)                                1            \n",
       "5  Liga Veneta                                1            \n",
       "6  Movimento 5 Stelle                         1            \n",
       "7  Partito dei Comunisti Italiani             0            \n",
       "8  Partito della Rifondazione Comunista       0            \n",
       "9  Rivoluzione Civile                         0            \n",
       "10 Sinistra                                   0            "
      ]
     },
     "metadata": {},
     "output_type": "display_data"
    }
   ],
   "source": [
    "populist %>% \n",
    "group_by(party_name) %>% \n",
    "summarize(mean_populist = mean(populist)) %>% \n",
    "arrange(desc(mean_populist))"
   ]
  },
  {
   "cell_type": "code",
   "execution_count": 39,
   "id": "b3a0f95d",
   "metadata": {},
   "outputs": [
    {
     "data": {
      "text/html": [
       "<table class=\"dataframe\">\n",
       "<caption>A tibble: 18 × 3</caption>\n",
       "<thead>\n",
       "\t<tr><th scope=col>party</th><th scope=col>mean_perc_of_populist_toks</th><th scope=col>mean_standardized_perc_of_populist_toks</th></tr>\n",
       "\t<tr><th scope=col>&lt;chr&gt;</th><th scope=col>&lt;dbl&gt;</th><th scope=col>&lt;dbl&gt;</th></tr>\n",
       "</thead>\n",
       "<tbody>\n",
       "\t<tr><td>FDI          </td><td>0.0022468673</td><td> 0.131246579</td></tr>\n",
       "\t<tr><td>FDI-AN       </td><td>0.0021582912</td><td> 0.119579612</td></tr>\n",
       "\t<tr><td>SI-SEL-POS-LU</td><td>0.0019976159</td><td> 0.098415971</td></tr>\n",
       "\t<tr><td>COMUNISTA    </td><td>0.0018580690</td><td> 0.080134819</td></tr>\n",
       "\t<tr><td>LEGA-NORD-P  </td><td>0.0017354533</td><td> 0.063906301</td></tr>\n",
       "\t<tr><td>FI-PDL       </td><td>0.0015917287</td><td> 0.045075613</td></tr>\n",
       "\t<tr><td>M5S          </td><td>0.0015764041</td><td> 0.042980997</td></tr>\n",
       "\t<tr><td>LNA          </td><td>0.0015412138</td><td> 0.038300131</td></tr>\n",
       "\t<tr><td>RC-PROGR     </td><td>0.0015254416</td><td> 0.036399855</td></tr>\n",
       "\t<tr><td>RC           </td><td>0.0014854353</td><td> 0.030953169</td></tr>\n",
       "\t<tr><td>LEGA         </td><td>0.0014218330</td><td> 0.022575669</td></tr>\n",
       "\t<tr><td>LEGA-N       </td><td>0.0013612284</td><td> 0.014804081</td></tr>\n",
       "\t<tr><td>F-ITA        </td><td>0.0013131254</td><td> 0.008267723</td></tr>\n",
       "\t<tr><td>PDL          </td><td>0.0012179311</td><td>-0.004255970</td></tr>\n",
       "\t<tr><td>LNP          </td><td>0.0011696127</td><td>-0.010645985</td></tr>\n",
       "\t<tr><td>FI           </td><td>0.0010774147</td><td>-0.022754774</td></tr>\n",
       "\t<tr><td>RC-SE        </td><td>0.0010327972</td><td>-0.028666895</td></tr>\n",
       "\t<tr><td>COM/IT/      </td><td>0.0005029408</td><td>-0.098457909</td></tr>\n",
       "</tbody>\n",
       "</table>\n"
      ],
      "text/latex": [
       "A tibble: 18 × 3\n",
       "\\begin{tabular}{lll}\n",
       " party & mean\\_perc\\_of\\_populist\\_toks & mean\\_standardized\\_perc\\_of\\_populist\\_toks\\\\\n",
       " <chr> & <dbl> & <dbl>\\\\\n",
       "\\hline\n",
       "\t FDI           & 0.0022468673 &  0.131246579\\\\\n",
       "\t FDI-AN        & 0.0021582912 &  0.119579612\\\\\n",
       "\t SI-SEL-POS-LU & 0.0019976159 &  0.098415971\\\\\n",
       "\t COMUNISTA     & 0.0018580690 &  0.080134819\\\\\n",
       "\t LEGA-NORD-P   & 0.0017354533 &  0.063906301\\\\\n",
       "\t FI-PDL        & 0.0015917287 &  0.045075613\\\\\n",
       "\t M5S           & 0.0015764041 &  0.042980997\\\\\n",
       "\t LNA           & 0.0015412138 &  0.038300131\\\\\n",
       "\t RC-PROGR      & 0.0015254416 &  0.036399855\\\\\n",
       "\t RC            & 0.0014854353 &  0.030953169\\\\\n",
       "\t LEGA          & 0.0014218330 &  0.022575669\\\\\n",
       "\t LEGA-N        & 0.0013612284 &  0.014804081\\\\\n",
       "\t F-ITA         & 0.0013131254 &  0.008267723\\\\\n",
       "\t PDL           & 0.0012179311 & -0.004255970\\\\\n",
       "\t LNP           & 0.0011696127 & -0.010645985\\\\\n",
       "\t FI            & 0.0010774147 & -0.022754774\\\\\n",
       "\t RC-SE         & 0.0010327972 & -0.028666895\\\\\n",
       "\t COM/IT/       & 0.0005029408 & -0.098457909\\\\\n",
       "\\end{tabular}\n"
      ],
      "text/markdown": [
       "\n",
       "A tibble: 18 × 3\n",
       "\n",
       "| party &lt;chr&gt; | mean_perc_of_populist_toks &lt;dbl&gt; | mean_standardized_perc_of_populist_toks &lt;dbl&gt; |\n",
       "|---|---|---|\n",
       "| FDI           | 0.0022468673 |  0.131246579 |\n",
       "| FDI-AN        | 0.0021582912 |  0.119579612 |\n",
       "| SI-SEL-POS-LU | 0.0019976159 |  0.098415971 |\n",
       "| COMUNISTA     | 0.0018580690 |  0.080134819 |\n",
       "| LEGA-NORD-P   | 0.0017354533 |  0.063906301 |\n",
       "| FI-PDL        | 0.0015917287 |  0.045075613 |\n",
       "| M5S           | 0.0015764041 |  0.042980997 |\n",
       "| LNA           | 0.0015412138 |  0.038300131 |\n",
       "| RC-PROGR      | 0.0015254416 |  0.036399855 |\n",
       "| RC            | 0.0014854353 |  0.030953169 |\n",
       "| LEGA          | 0.0014218330 |  0.022575669 |\n",
       "| LEGA-N        | 0.0013612284 |  0.014804081 |\n",
       "| F-ITA         | 0.0013131254 |  0.008267723 |\n",
       "| PDL           | 0.0012179311 | -0.004255970 |\n",
       "| LNP           | 0.0011696127 | -0.010645985 |\n",
       "| FI            | 0.0010774147 | -0.022754774 |\n",
       "| RC-SE         | 0.0010327972 | -0.028666895 |\n",
       "| COM/IT/       | 0.0005029408 | -0.098457909 |\n",
       "\n"
      ],
      "text/plain": [
       "   party         mean_perc_of_populist_toks\n",
       "1  FDI           0.0022468673              \n",
       "2  FDI-AN        0.0021582912              \n",
       "3  SI-SEL-POS-LU 0.0019976159              \n",
       "4  COMUNISTA     0.0018580690              \n",
       "5  LEGA-NORD-P   0.0017354533              \n",
       "6  FI-PDL        0.0015917287              \n",
       "7  M5S           0.0015764041              \n",
       "8  LNA           0.0015412138              \n",
       "9  RC-PROGR      0.0015254416              \n",
       "10 RC            0.0014854353              \n",
       "11 LEGA          0.0014218330              \n",
       "12 LEGA-N        0.0013612284              \n",
       "13 F-ITA         0.0013131254              \n",
       "14 PDL           0.0012179311              \n",
       "15 LNP           0.0011696127              \n",
       "16 FI            0.0010774147              \n",
       "17 RC-SE         0.0010327972              \n",
       "18 COM/IT/       0.0005029408              \n",
       "   mean_standardized_perc_of_populist_toks\n",
       "1   0.131246579                           \n",
       "2   0.119579612                           \n",
       "3   0.098415971                           \n",
       "4   0.080134819                           \n",
       "5   0.063906301                           \n",
       "6   0.045075613                           \n",
       "7   0.042980997                           \n",
       "8   0.038300131                           \n",
       "9   0.036399855                           \n",
       "10  0.030953169                           \n",
       "11  0.022575669                           \n",
       "12  0.014804081                           \n",
       "13  0.008267723                           \n",
       "14 -0.004255970                           \n",
       "15 -0.010645985                           \n",
       "16 -0.022754774                           \n",
       "17 -0.028666895                           \n",
       "18 -0.098457909                           "
      ]
     },
     "metadata": {},
     "output_type": "display_data"
    }
   ],
   "source": [
    "to_keep <- c(\"F-ITA\", \"FI\", \"PDL\", \"FI-PDL\", \"FDI-AN\", \"FDI\", \"LEGA-N\", \"LEGA-NORD-P\", \"LNA\", \"LEGA\", \"LNP\", \"M5S\", \n",
    "             \"RC-PROGR\", \"COMUNISTA\", \"RC\", \"COM/IT/\", \"RC-SE\", \"SI-SEL-POS-LU\")\n",
    "\n",
    "df_rp %>% \n",
    "filter(party %in% to_keep) %>% \n",
    "group_by(party) %>% \n",
    "summarize(mean_perc_of_populist_toks = mean(perc_of_populist_toks),\n",
    "          mean_standardized_perc_of_populist_toks = mean(standardized_perc_of_populist_toks, na.rm = TRUE)) %>% \n",
    "arrange(desc(mean_perc_of_populist_toks))"
   ]
  },
  {
   "cell_type": "markdown",
   "id": "e41d0eb1",
   "metadata": {},
   "source": [
    "# Decadri & Boussalis <a class=\"anchor\" id=\"chapter6\"></a>"
   ]
  },
  {
   "cell_type": "markdown",
   "id": "cf03fc47",
   "metadata": {},
   "source": [
    "Let's run the dictionary analysis with Decadri and Boussalis' dictionary"
   ]
  },
  {
   "cell_type": "code",
   "execution_count": 32,
   "id": "e26bcd7e",
   "metadata": {},
   "outputs": [],
   "source": [
    "df_db <- dict_analysis(tokens = cleaned_toks, dictionary = \"Decadri_Boussalis\")"
   ]
  },
  {
   "cell_type": "markdown",
   "id": "91cc4b7d",
   "metadata": {},
   "source": [
    "Let's save the output as an .Rdata file"
   ]
  },
  {
   "cell_type": "code",
   "execution_count": 35,
   "id": "6fc5c09c",
   "metadata": {},
   "outputs": [],
   "source": [
    "save(df_db, file=\"data/df_db.RData\")"
   ]
  },
  {
   "cell_type": "markdown",
   "id": "545adf07",
   "metadata": {},
   "source": [
    "The first rows of the dataframe"
   ]
  },
  {
   "cell_type": "code",
   "execution_count": 33,
   "id": "366cac9c",
   "metadata": {},
   "outputs": [
    {
     "data": {
      "text/html": [
       "<table class=\"dataframe\">\n",
       "<caption>A data.frame: 6 × 9</caption>\n",
       "<thead>\n",
       "\t<tr><th></th><th scope=col>doc_id</th><th scope=col>year</th><th scope=col>party</th><th scope=col>anti_elitism</th><th scope=col>people_centrism</th><th scope=col>populist_toks</th><th scope=col>n_of_cleaned_toks</th><th scope=col>perc_of_populist_toks</th><th scope=col>standardized_perc_of_populist_toks</th></tr>\n",
       "\t<tr><th></th><th scope=col>&lt;chr&gt;</th><th scope=col>&lt;int&gt;</th><th scope=col>&lt;chr&gt;</th><th scope=col>&lt;dbl&gt;</th><th scope=col>&lt;dbl&gt;</th><th scope=col>&lt;dbl&gt;</th><th scope=col>&lt;int&gt;</th><th scope=col>&lt;dbl&gt;</th><th scope=col>&lt;dbl&gt;</th></tr>\n",
       "</thead>\n",
       "<tbody>\n",
       "\t<tr><th scope=row>1</th><td>text1</td><td>1994</td><td>F-ITA   </td><td>0</td><td>0</td><td>0</td><td>24</td><td>0</td><td>-0.2974584</td></tr>\n",
       "\t<tr><th scope=row>2</th><td>text2</td><td>1994</td><td>PROGR-F </td><td>0</td><td>0</td><td>0</td><td>10</td><td>0</td><td>-0.2974584</td></tr>\n",
       "\t<tr><th scope=row>3</th><td>text3</td><td>1994</td><td>LEGA-N  </td><td>0</td><td>0</td><td>0</td><td>27</td><td>0</td><td>-0.2974584</td></tr>\n",
       "\t<tr><th scope=row>4</th><td>text4</td><td>1994</td><td>RC-PROGR</td><td>0</td><td>0</td><td>0</td><td> 9</td><td>0</td><td>-0.2974584</td></tr>\n",
       "\t<tr><th scope=row>5</th><td>text5</td><td>1994</td><td>PROGR-F </td><td>0</td><td>0</td><td>0</td><td> 8</td><td>0</td><td>-0.2974584</td></tr>\n",
       "\t<tr><th scope=row>6</th><td>text6</td><td>1994</td><td>PPI     </td><td>0</td><td>0</td><td>0</td><td> 8</td><td>0</td><td>-0.2974584</td></tr>\n",
       "</tbody>\n",
       "</table>\n"
      ],
      "text/latex": [
       "A data.frame: 6 × 9\n",
       "\\begin{tabular}{r|lllllllll}\n",
       "  & doc\\_id & year & party & anti\\_elitism & people\\_centrism & populist\\_toks & n\\_of\\_cleaned\\_toks & perc\\_of\\_populist\\_toks & standardized\\_perc\\_of\\_populist\\_toks\\\\\n",
       "  & <chr> & <int> & <chr> & <dbl> & <dbl> & <dbl> & <int> & <dbl> & <dbl>\\\\\n",
       "\\hline\n",
       "\t1 & text1 & 1994 & F-ITA    & 0 & 0 & 0 & 24 & 0 & -0.2974584\\\\\n",
       "\t2 & text2 & 1994 & PROGR-F  & 0 & 0 & 0 & 10 & 0 & -0.2974584\\\\\n",
       "\t3 & text3 & 1994 & LEGA-N   & 0 & 0 & 0 & 27 & 0 & -0.2974584\\\\\n",
       "\t4 & text4 & 1994 & RC-PROGR & 0 & 0 & 0 &  9 & 0 & -0.2974584\\\\\n",
       "\t5 & text5 & 1994 & PROGR-F  & 0 & 0 & 0 &  8 & 0 & -0.2974584\\\\\n",
       "\t6 & text6 & 1994 & PPI      & 0 & 0 & 0 &  8 & 0 & -0.2974584\\\\\n",
       "\\end{tabular}\n"
      ],
      "text/markdown": [
       "\n",
       "A data.frame: 6 × 9\n",
       "\n",
       "| <!--/--> | doc_id &lt;chr&gt; | year &lt;int&gt; | party &lt;chr&gt; | anti_elitism &lt;dbl&gt; | people_centrism &lt;dbl&gt; | populist_toks &lt;dbl&gt; | n_of_cleaned_toks &lt;int&gt; | perc_of_populist_toks &lt;dbl&gt; | standardized_perc_of_populist_toks &lt;dbl&gt; |\n",
       "|---|---|---|---|---|---|---|---|---|---|\n",
       "| 1 | text1 | 1994 | F-ITA    | 0 | 0 | 0 | 24 | 0 | -0.2974584 |\n",
       "| 2 | text2 | 1994 | PROGR-F  | 0 | 0 | 0 | 10 | 0 | -0.2974584 |\n",
       "| 3 | text3 | 1994 | LEGA-N   | 0 | 0 | 0 | 27 | 0 | -0.2974584 |\n",
       "| 4 | text4 | 1994 | RC-PROGR | 0 | 0 | 0 |  9 | 0 | -0.2974584 |\n",
       "| 5 | text5 | 1994 | PROGR-F  | 0 | 0 | 0 |  8 | 0 | -0.2974584 |\n",
       "| 6 | text6 | 1994 | PPI      | 0 | 0 | 0 |  8 | 0 | -0.2974584 |\n",
       "\n"
      ],
      "text/plain": [
       "  doc_id year party    anti_elitism people_centrism populist_toks\n",
       "1 text1  1994 F-ITA    0            0               0            \n",
       "2 text2  1994 PROGR-F  0            0               0            \n",
       "3 text3  1994 LEGA-N   0            0               0            \n",
       "4 text4  1994 RC-PROGR 0            0               0            \n",
       "5 text5  1994 PROGR-F  0            0               0            \n",
       "6 text6  1994 PPI      0            0               0            \n",
       "  n_of_cleaned_toks perc_of_populist_toks standardized_perc_of_populist_toks\n",
       "1 24                0                     -0.2974584                        \n",
       "2 10                0                     -0.2974584                        \n",
       "3 27                0                     -0.2974584                        \n",
       "4  9                0                     -0.2974584                        \n",
       "5  8                0                     -0.2974584                        \n",
       "6  8                0                     -0.2974584                        "
      ]
     },
     "metadata": {},
     "output_type": "display_data"
    }
   ],
   "source": [
    "head(df_db)"
   ]
  },
  {
   "cell_type": "markdown",
   "id": "26347114",
   "metadata": {},
   "source": [
    "## Construct validity <a class=\"anchor\" id=\"subparagraph6\"></a>"
   ]
  },
  {
   "cell_type": "markdown",
   "id": "95f8eb54",
   "metadata": {},
   "source": [
    "Decadri and Boussalis' dictionary catpures both the \"anti-elitism\" and \"people-centrism\" dimenions of populist ideology and it thus constitutes an improvement over Rooduijn and Pauwels' dictionary in terms of construct validity."
   ]
  },
  {
   "cell_type": "markdown",
   "id": "b2a4a3dc",
   "metadata": {},
   "source": [
    "## Face validity <a class=\"anchor\" id=\"subparagraph7\"></a>"
   ]
  },
  {
   "cell_type": "markdown",
   "id": "df042fb4",
   "metadata": {},
   "source": [
    "Let's run an Analysis Of Variance (ANOVA) as we did before. Again, the difference in the % of populist tokens between parties is statistically significant."
   ]
  },
  {
   "cell_type": "code",
   "execution_count": 42,
   "id": "1d351dd5",
   "metadata": {},
   "outputs": [
    {
     "data": {
      "text/plain": [
       "                Df Sum Sq  Mean Sq F value Pr(>F)    \n",
       "party           54   0.46 0.008459   48.34 <2e-16 ***\n",
       "Residuals   297618  52.09 0.000175                   \n",
       "---\n",
       "Signif. codes:  0 '***' 0.001 '**' 0.01 '*' 0.05 '.' 0.1 ' ' 1"
      ]
     },
     "metadata": {},
     "output_type": "display_data"
    }
   ],
   "source": [
    "load(\"data/df_db.RData\")\n",
    "\n",
    "anova_db <- aov(perc_of_populist_toks ~ party, data = df_db)\n",
    "\n",
    "summary(anova_db)"
   ]
  },
  {
   "cell_type": "markdown",
   "id": "6809a726",
   "metadata": {},
   "source": [
    "To assess the face validity of Decadri and Boussalis' dictionary we'll have a look at the mean % of populist tokens (both anti-establishment and people-centrism) grouped by party and year."
   ]
  },
  {
   "cell_type": "markdown",
   "id": "9c6d79d1",
   "metadata": {},
   "source": [
    "As it was the case for R&P' dictionary, both mainstream (UDC, UDEUR, PPI) and populist (Lega, M5S, FI-PdL) party-year combinations received high populist scores."
   ]
  },
  {
   "cell_type": "code",
   "execution_count": 44,
   "id": "f8697cef",
   "metadata": {},
   "outputs": [
    {
     "data": {
      "text/html": [
       "<table class=\"dataframe\">\n",
       "<caption>A grouped_df: 20 × 4</caption>\n",
       "<thead>\n",
       "\t<tr><th scope=col>party</th><th scope=col>year</th><th scope=col>mean_perc_of_populist_toks</th><th scope=col>mean_standardized_perc_of_populist_toks</th></tr>\n",
       "\t<tr><th scope=col>&lt;chr&gt;</th><th scope=col>&lt;int&gt;</th><th scope=col>&lt;dbl&gt;</th><th scope=col>&lt;dbl&gt;</th></tr>\n",
       "</thead>\n",
       "<tbody>\n",
       "\t<tr><td>UNIONE DEI DEMOCRATICI CRISTIANI E DEI DEMOCRATICI DI CENTRO                                                                                                </td><td>2009</td><td>0.044307512</td><td>3.0371805</td></tr>\n",
       "\t<tr><td>POP-UDEUR                                                                                                                                                   </td><td>2008</td><td>0.017489188</td><td>1.0187998</td></tr>\n",
       "\t<tr><td>SOCRAD-RNP                                                                                                                                                  </td><td>2009</td><td>0.017283407</td><td>1.0033125</td></tr>\n",
       "\t<tr><td>VERDI                                                                                                                                                       </td><td>2008</td><td>0.013245044</td><td>0.6993802</td></tr>\n",
       "\t<tr><td>UNIONE DEI DEMOCRATICI CRISTIANI E DEI DEMOCRATICI DI CENTRO                                                                                                </td><td>2008</td><td>0.011821234</td><td>0.5922225</td></tr>\n",
       "\t<tr><td>PPI                                                                                                                                                         </td><td>1996</td><td>0.011724603</td><td>0.5849499</td></tr>\n",
       "\t<tr><td>FLPTP                                                                                                                                                       </td><td>2008</td><td>0.011113047</td><td>0.5389234</td></tr>\n",
       "\t<tr><td>FLPTP                                                                                                                                                       </td><td>2009</td><td>0.009916184</td><td>0.4488460</td></tr>\n",
       "\t<tr><td>AP-CPE-NCD-NCI                                                                                                                                              </td><td>2015</td><td>0.009728644</td><td>0.4347316</td></tr>\n",
       "\t<tr><td>LNA                                                                                                                                                         </td><td>2015</td><td>0.009066720</td><td>0.3849143</td></tr>\n",
       "\t<tr><td>SDPSE                                                                                                                                                       </td><td>2008</td><td>0.008695914</td><td>0.3570069</td></tr>\n",
       "\t<tr><td>NOI SUD-LIBERTA' ED AUTONOMIA/POPOLARI D'ITALIA DOMANI-PID/MOVIMENTO DI RESPONSABILITA' NAZIONALE-MRN/AZIONE POPOLARE/ALLEANZA DI CENTRO-ADC/INTESA POPOLARE</td><td>2010</td><td>0.008659209</td><td>0.3542445</td></tr>\n",
       "\t<tr><td>LNA                                                                                                                                                         </td><td>2016</td><td>0.008654443</td><td>0.3538858</td></tr>\n",
       "\t<tr><td>M5S                                                                                                                                                         </td><td>2015</td><td>0.008405597</td><td>0.3354179</td></tr>\n",
       "\t<tr><td>FI-PDL                                                                                                                                                      </td><td>2015</td><td>0.008303257</td><td>0.3274551</td></tr>\n",
       "\t<tr><td>LNP                                                                                                                                                         </td><td>2008</td><td>0.008289453</td><td>0.3264162</td></tr>\n",
       "\t<tr><td>NOI SUD-LIBERTA' ED AUTONOMIA/POPOLARI D'ITALIA DOMANI-PID/MOVIMENTO DI RESPONSABILITA' NAZIONALE-MRN/AZIONE POPOLARE/ALLEANZA DI CENTRO-ADC/INTESA POPOLARE</td><td>2008</td><td>0.008264322</td><td>0.3245248</td></tr>\n",
       "\t<tr><td>LNA                                                                                                                                                         </td><td>2017</td><td>0.008055933</td><td>0.3088412</td></tr>\n",
       "\t<tr><td>FLD                                                                                                                                                         </td><td>1996</td><td>0.008033300</td><td>0.3071378</td></tr>\n",
       "\t<tr><td>DCA-NPSI                                                                                                                                                    </td><td>2008</td><td>0.008003757</td><td>0.3049144</td></tr>\n",
       "</tbody>\n",
       "</table>\n"
      ],
      "text/latex": [
       "A grouped\\_df: 20 × 4\n",
       "\\begin{tabular}{llll}\n",
       " party & year & mean\\_perc\\_of\\_populist\\_toks & mean\\_standardized\\_perc\\_of\\_populist\\_toks\\\\\n",
       " <chr> & <int> & <dbl> & <dbl>\\\\\n",
       "\\hline\n",
       "\t UNIONE DEI DEMOCRATICI CRISTIANI E DEI DEMOCRATICI DI CENTRO                                                                                                 & 2009 & 0.044307512 & 3.0371805\\\\\n",
       "\t POP-UDEUR                                                                                                                                                    & 2008 & 0.017489188 & 1.0187998\\\\\n",
       "\t SOCRAD-RNP                                                                                                                                                   & 2009 & 0.017283407 & 1.0033125\\\\\n",
       "\t VERDI                                                                                                                                                        & 2008 & 0.013245044 & 0.6993802\\\\\n",
       "\t UNIONE DEI DEMOCRATICI CRISTIANI E DEI DEMOCRATICI DI CENTRO                                                                                                 & 2008 & 0.011821234 & 0.5922225\\\\\n",
       "\t PPI                                                                                                                                                          & 1996 & 0.011724603 & 0.5849499\\\\\n",
       "\t FLPTP                                                                                                                                                        & 2008 & 0.011113047 & 0.5389234\\\\\n",
       "\t FLPTP                                                                                                                                                        & 2009 & 0.009916184 & 0.4488460\\\\\n",
       "\t AP-CPE-NCD-NCI                                                                                                                                               & 2015 & 0.009728644 & 0.4347316\\\\\n",
       "\t LNA                                                                                                                                                          & 2015 & 0.009066720 & 0.3849143\\\\\n",
       "\t SDPSE                                                                                                                                                        & 2008 & 0.008695914 & 0.3570069\\\\\n",
       "\t NOI SUD-LIBERTA' ED AUTONOMIA/POPOLARI D'ITALIA DOMANI-PID/MOVIMENTO DI RESPONSABILITA' NAZIONALE-MRN/AZIONE POPOLARE/ALLEANZA DI CENTRO-ADC/INTESA POPOLARE & 2010 & 0.008659209 & 0.3542445\\\\\n",
       "\t LNA                                                                                                                                                          & 2016 & 0.008654443 & 0.3538858\\\\\n",
       "\t M5S                                                                                                                                                          & 2015 & 0.008405597 & 0.3354179\\\\\n",
       "\t FI-PDL                                                                                                                                                       & 2015 & 0.008303257 & 0.3274551\\\\\n",
       "\t LNP                                                                                                                                                          & 2008 & 0.008289453 & 0.3264162\\\\\n",
       "\t NOI SUD-LIBERTA' ED AUTONOMIA/POPOLARI D'ITALIA DOMANI-PID/MOVIMENTO DI RESPONSABILITA' NAZIONALE-MRN/AZIONE POPOLARE/ALLEANZA DI CENTRO-ADC/INTESA POPOLARE & 2008 & 0.008264322 & 0.3245248\\\\\n",
       "\t LNA                                                                                                                                                          & 2017 & 0.008055933 & 0.3088412\\\\\n",
       "\t FLD                                                                                                                                                          & 1996 & 0.008033300 & 0.3071378\\\\\n",
       "\t DCA-NPSI                                                                                                                                                     & 2008 & 0.008003757 & 0.3049144\\\\\n",
       "\\end{tabular}\n"
      ],
      "text/markdown": [
       "\n",
       "A grouped_df: 20 × 4\n",
       "\n",
       "| party &lt;chr&gt; | year &lt;int&gt; | mean_perc_of_populist_toks &lt;dbl&gt; | mean_standardized_perc_of_populist_toks &lt;dbl&gt; |\n",
       "|---|---|---|---|\n",
       "| UNIONE DEI DEMOCRATICI CRISTIANI E DEI DEMOCRATICI DI CENTRO                                                                                                 | 2009 | 0.044307512 | 3.0371805 |\n",
       "| POP-UDEUR                                                                                                                                                    | 2008 | 0.017489188 | 1.0187998 |\n",
       "| SOCRAD-RNP                                                                                                                                                   | 2009 | 0.017283407 | 1.0033125 |\n",
       "| VERDI                                                                                                                                                        | 2008 | 0.013245044 | 0.6993802 |\n",
       "| UNIONE DEI DEMOCRATICI CRISTIANI E DEI DEMOCRATICI DI CENTRO                                                                                                 | 2008 | 0.011821234 | 0.5922225 |\n",
       "| PPI                                                                                                                                                          | 1996 | 0.011724603 | 0.5849499 |\n",
       "| FLPTP                                                                                                                                                        | 2008 | 0.011113047 | 0.5389234 |\n",
       "| FLPTP                                                                                                                                                        | 2009 | 0.009916184 | 0.4488460 |\n",
       "| AP-CPE-NCD-NCI                                                                                                                                               | 2015 | 0.009728644 | 0.4347316 |\n",
       "| LNA                                                                                                                                                          | 2015 | 0.009066720 | 0.3849143 |\n",
       "| SDPSE                                                                                                                                                        | 2008 | 0.008695914 | 0.3570069 |\n",
       "| NOI SUD-LIBERTA' ED AUTONOMIA/POPOLARI D'ITALIA DOMANI-PID/MOVIMENTO DI RESPONSABILITA' NAZIONALE-MRN/AZIONE POPOLARE/ALLEANZA DI CENTRO-ADC/INTESA POPOLARE | 2010 | 0.008659209 | 0.3542445 |\n",
       "| LNA                                                                                                                                                          | 2016 | 0.008654443 | 0.3538858 |\n",
       "| M5S                                                                                                                                                          | 2015 | 0.008405597 | 0.3354179 |\n",
       "| FI-PDL                                                                                                                                                       | 2015 | 0.008303257 | 0.3274551 |\n",
       "| LNP                                                                                                                                                          | 2008 | 0.008289453 | 0.3264162 |\n",
       "| NOI SUD-LIBERTA' ED AUTONOMIA/POPOLARI D'ITALIA DOMANI-PID/MOVIMENTO DI RESPONSABILITA' NAZIONALE-MRN/AZIONE POPOLARE/ALLEANZA DI CENTRO-ADC/INTESA POPOLARE | 2008 | 0.008264322 | 0.3245248 |\n",
       "| LNA                                                                                                                                                          | 2017 | 0.008055933 | 0.3088412 |\n",
       "| FLD                                                                                                                                                          | 1996 | 0.008033300 | 0.3071378 |\n",
       "| DCA-NPSI                                                                                                                                                     | 2008 | 0.008003757 | 0.3049144 |\n",
       "\n"
      ],
      "text/plain": [
       "   party                                                                                                                                                       \n",
       "1  UNIONE DEI DEMOCRATICI CRISTIANI E DEI DEMOCRATICI DI CENTRO                                                                                                \n",
       "2  POP-UDEUR                                                                                                                                                   \n",
       "3  SOCRAD-RNP                                                                                                                                                  \n",
       "4  VERDI                                                                                                                                                       \n",
       "5  UNIONE DEI DEMOCRATICI CRISTIANI E DEI DEMOCRATICI DI CENTRO                                                                                                \n",
       "6  PPI                                                                                                                                                         \n",
       "7  FLPTP                                                                                                                                                       \n",
       "8  FLPTP                                                                                                                                                       \n",
       "9  AP-CPE-NCD-NCI                                                                                                                                              \n",
       "10 LNA                                                                                                                                                         \n",
       "11 SDPSE                                                                                                                                                       \n",
       "12 NOI SUD-LIBERTA' ED AUTONOMIA/POPOLARI D'ITALIA DOMANI-PID/MOVIMENTO DI RESPONSABILITA' NAZIONALE-MRN/AZIONE POPOLARE/ALLEANZA DI CENTRO-ADC/INTESA POPOLARE\n",
       "13 LNA                                                                                                                                                         \n",
       "14 M5S                                                                                                                                                         \n",
       "15 FI-PDL                                                                                                                                                      \n",
       "16 LNP                                                                                                                                                         \n",
       "17 NOI SUD-LIBERTA' ED AUTONOMIA/POPOLARI D'ITALIA DOMANI-PID/MOVIMENTO DI RESPONSABILITA' NAZIONALE-MRN/AZIONE POPOLARE/ALLEANZA DI CENTRO-ADC/INTESA POPOLARE\n",
       "18 LNA                                                                                                                                                         \n",
       "19 FLD                                                                                                                                                         \n",
       "20 DCA-NPSI                                                                                                                                                    \n",
       "   year mean_perc_of_populist_toks mean_standardized_perc_of_populist_toks\n",
       "1  2009 0.044307512                3.0371805                              \n",
       "2  2008 0.017489188                1.0187998                              \n",
       "3  2009 0.017283407                1.0033125                              \n",
       "4  2008 0.013245044                0.6993802                              \n",
       "5  2008 0.011821234                0.5922225                              \n",
       "6  1996 0.011724603                0.5849499                              \n",
       "7  2008 0.011113047                0.5389234                              \n",
       "8  2009 0.009916184                0.4488460                              \n",
       "9  2015 0.009728644                0.4347316                              \n",
       "10 2015 0.009066720                0.3849143                              \n",
       "11 2008 0.008695914                0.3570069                              \n",
       "12 2010 0.008659209                0.3542445                              \n",
       "13 2016 0.008654443                0.3538858                              \n",
       "14 2015 0.008405597                0.3354179                              \n",
       "15 2015 0.008303257                0.3274551                              \n",
       "16 2008 0.008289453                0.3264162                              \n",
       "17 2008 0.008264322                0.3245248                              \n",
       "18 2017 0.008055933                0.3088412                              \n",
       "19 1996 0.008033300                0.3071378                              \n",
       "20 2008 0.008003757                0.3049144                              "
      ]
     },
     "metadata": {},
     "output_type": "display_data"
    }
   ],
   "source": [
    "df_db %>% \n",
    "group_by(party, year) %>% \n",
    "summarize(mean_perc_of_populist_toks = mean(perc_of_populist_toks, na.rm = TRUE),\n",
    "          mean_standardized_perc_of_populist_toks = mean(standardized_perc_of_populist_toks, na.rm = TRUE),\n",
    "          .groups = \"keep\") %>% \n",
    "arrange(desc(mean_standardized_perc_of_populist_toks)) %>% \n",
    "head(20)"
   ]
  },
  {
   "cell_type": "markdown",
   "id": "88ec3254",
   "metadata": {},
   "source": [
    "Similarly, when we look at the party-year combinations with the lowest populist scores we find both mainstream and populist parties. This seems to suggest that D&B' dictionary lacks face validity."
   ]
  },
  {
   "cell_type": "code",
   "execution_count": 45,
   "id": "941f02ec",
   "metadata": {},
   "outputs": [
    {
     "data": {
      "text/html": [
       "<table class=\"dataframe\">\n",
       "<caption>A grouped_df: 20 × 4</caption>\n",
       "<thead>\n",
       "\t<tr><th scope=col>party</th><th scope=col>year</th><th scope=col>mean_perc_of_populist_toks</th><th scope=col>mean_standardized_perc_of_populist_toks</th></tr>\n",
       "\t<tr><th scope=col>&lt;chr&gt;</th><th scope=col>&lt;int&gt;</th><th scope=col>&lt;dbl&gt;</th><th scope=col>&lt;dbl&gt;</th></tr>\n",
       "</thead>\n",
       "<tbody>\n",
       "\t<tr><td>DES-CD    </td><td>2014</td><td>0.0018296132</td><td>-0.1597594</td></tr>\n",
       "\t<tr><td>AN        </td><td>2002</td><td>0.0017296082</td><td>-0.1672859</td></tr>\n",
       "\t<tr><td>FI-PDL    </td><td>2018</td><td>0.0017217508</td><td>-0.1678773</td></tr>\n",
       "\t<tr><td>FI        </td><td>2002</td><td>0.0017204987</td><td>-0.1679331</td></tr>\n",
       "\t<tr><td>RINN/IT   </td><td>1999</td><td>0.0016217363</td><td>-0.1754045</td></tr>\n",
       "\t<tr><td>CCD-CDU   </td><td>2002</td><td>0.0015836051</td><td>-0.1782743</td></tr>\n",
       "\t<tr><td>DES-CD    </td><td>2015</td><td>0.0014287343</td><td>-0.1899301</td></tr>\n",
       "\t<tr><td>DES-CD    </td><td>2016</td><td>0.0009656902</td><td>-0.2247794</td></tr>\n",
       "\t<tr><td>RC-SE     </td><td>2009</td><td>0.0009302326</td><td>-0.2274480</td></tr>\n",
       "\t<tr><td>SOCRAD-RNP</td><td>2008</td><td>0.0007406179</td><td>-0.2417186</td></tr>\n",
       "\t<tr><td>UDEUR     </td><td>1996</td><td>0.0006630753</td><td>-0.2475545</td></tr>\n",
       "\t<tr><td>LIFED     </td><td>1995</td><td>0.0003721161</td><td>-0.2694525</td></tr>\n",
       "\t<tr><td>CI        </td><td>2018</td><td>0.0000000000</td><td>-0.2974584</td></tr>\n",
       "\t<tr><td>COM/IT/   </td><td>2008</td><td>0.0000000000</td><td>-0.2974584</td></tr>\n",
       "\t<tr><td>DCA-NPSI  </td><td>2009</td><td>0.0000000000</td><td>-0.2974584</td></tr>\n",
       "\t<tr><td>FDI-AN    </td><td>2018</td><td>0.0000000000</td><td>-0.2974584</td></tr>\n",
       "\t<tr><td>FLPTP     </td><td>2013</td><td>0.0000000000</td><td>-0.2974584</td></tr>\n",
       "\t<tr><td>LIFED     </td><td>1994</td><td>0.0000000000</td><td>-0.2974584</td></tr>\n",
       "\t<tr><td>LIFED     </td><td>1996</td><td>0.0000000000</td><td>-0.2974584</td></tr>\n",
       "\t<tr><td>SDPSE     </td><td>2009</td><td>0.0000000000</td><td>-0.2974584</td></tr>\n",
       "</tbody>\n",
       "</table>\n"
      ],
      "text/latex": [
       "A grouped\\_df: 20 × 4\n",
       "\\begin{tabular}{llll}\n",
       " party & year & mean\\_perc\\_of\\_populist\\_toks & mean\\_standardized\\_perc\\_of\\_populist\\_toks\\\\\n",
       " <chr> & <int> & <dbl> & <dbl>\\\\\n",
       "\\hline\n",
       "\t DES-CD     & 2014 & 0.0018296132 & -0.1597594\\\\\n",
       "\t AN         & 2002 & 0.0017296082 & -0.1672859\\\\\n",
       "\t FI-PDL     & 2018 & 0.0017217508 & -0.1678773\\\\\n",
       "\t FI         & 2002 & 0.0017204987 & -0.1679331\\\\\n",
       "\t RINN/IT    & 1999 & 0.0016217363 & -0.1754045\\\\\n",
       "\t CCD-CDU    & 2002 & 0.0015836051 & -0.1782743\\\\\n",
       "\t DES-CD     & 2015 & 0.0014287343 & -0.1899301\\\\\n",
       "\t DES-CD     & 2016 & 0.0009656902 & -0.2247794\\\\\n",
       "\t RC-SE      & 2009 & 0.0009302326 & -0.2274480\\\\\n",
       "\t SOCRAD-RNP & 2008 & 0.0007406179 & -0.2417186\\\\\n",
       "\t UDEUR      & 1996 & 0.0006630753 & -0.2475545\\\\\n",
       "\t LIFED      & 1995 & 0.0003721161 & -0.2694525\\\\\n",
       "\t CI         & 2018 & 0.0000000000 & -0.2974584\\\\\n",
       "\t COM/IT/    & 2008 & 0.0000000000 & -0.2974584\\\\\n",
       "\t DCA-NPSI   & 2009 & 0.0000000000 & -0.2974584\\\\\n",
       "\t FDI-AN     & 2018 & 0.0000000000 & -0.2974584\\\\\n",
       "\t FLPTP      & 2013 & 0.0000000000 & -0.2974584\\\\\n",
       "\t LIFED      & 1994 & 0.0000000000 & -0.2974584\\\\\n",
       "\t LIFED      & 1996 & 0.0000000000 & -0.2974584\\\\\n",
       "\t SDPSE      & 2009 & 0.0000000000 & -0.2974584\\\\\n",
       "\\end{tabular}\n"
      ],
      "text/markdown": [
       "\n",
       "A grouped_df: 20 × 4\n",
       "\n",
       "| party &lt;chr&gt; | year &lt;int&gt; | mean_perc_of_populist_toks &lt;dbl&gt; | mean_standardized_perc_of_populist_toks &lt;dbl&gt; |\n",
       "|---|---|---|---|\n",
       "| DES-CD     | 2014 | 0.0018296132 | -0.1597594 |\n",
       "| AN         | 2002 | 0.0017296082 | -0.1672859 |\n",
       "| FI-PDL     | 2018 | 0.0017217508 | -0.1678773 |\n",
       "| FI         | 2002 | 0.0017204987 | -0.1679331 |\n",
       "| RINN/IT    | 1999 | 0.0016217363 | -0.1754045 |\n",
       "| CCD-CDU    | 2002 | 0.0015836051 | -0.1782743 |\n",
       "| DES-CD     | 2015 | 0.0014287343 | -0.1899301 |\n",
       "| DES-CD     | 2016 | 0.0009656902 | -0.2247794 |\n",
       "| RC-SE      | 2009 | 0.0009302326 | -0.2274480 |\n",
       "| SOCRAD-RNP | 2008 | 0.0007406179 | -0.2417186 |\n",
       "| UDEUR      | 1996 | 0.0006630753 | -0.2475545 |\n",
       "| LIFED      | 1995 | 0.0003721161 | -0.2694525 |\n",
       "| CI         | 2018 | 0.0000000000 | -0.2974584 |\n",
       "| COM/IT/    | 2008 | 0.0000000000 | -0.2974584 |\n",
       "| DCA-NPSI   | 2009 | 0.0000000000 | -0.2974584 |\n",
       "| FDI-AN     | 2018 | 0.0000000000 | -0.2974584 |\n",
       "| FLPTP      | 2013 | 0.0000000000 | -0.2974584 |\n",
       "| LIFED      | 1994 | 0.0000000000 | -0.2974584 |\n",
       "| LIFED      | 1996 | 0.0000000000 | -0.2974584 |\n",
       "| SDPSE      | 2009 | 0.0000000000 | -0.2974584 |\n",
       "\n"
      ],
      "text/plain": [
       "   party      year mean_perc_of_populist_toks\n",
       "1  DES-CD     2014 0.0018296132              \n",
       "2  AN         2002 0.0017296082              \n",
       "3  FI-PDL     2018 0.0017217508              \n",
       "4  FI         2002 0.0017204987              \n",
       "5  RINN/IT    1999 0.0016217363              \n",
       "6  CCD-CDU    2002 0.0015836051              \n",
       "7  DES-CD     2015 0.0014287343              \n",
       "8  DES-CD     2016 0.0009656902              \n",
       "9  RC-SE      2009 0.0009302326              \n",
       "10 SOCRAD-RNP 2008 0.0007406179              \n",
       "11 UDEUR      1996 0.0006630753              \n",
       "12 LIFED      1995 0.0003721161              \n",
       "13 CI         2018 0.0000000000              \n",
       "14 COM/IT/    2008 0.0000000000              \n",
       "15 DCA-NPSI   2009 0.0000000000              \n",
       "16 FDI-AN     2018 0.0000000000              \n",
       "17 FLPTP      2013 0.0000000000              \n",
       "18 LIFED      1994 0.0000000000              \n",
       "19 LIFED      1996 0.0000000000              \n",
       "20 SDPSE      2009 0.0000000000              \n",
       "   mean_standardized_perc_of_populist_toks\n",
       "1  -0.1597594                             \n",
       "2  -0.1672859                             \n",
       "3  -0.1678773                             \n",
       "4  -0.1679331                             \n",
       "5  -0.1754045                             \n",
       "6  -0.1782743                             \n",
       "7  -0.1899301                             \n",
       "8  -0.2247794                             \n",
       "9  -0.2274480                             \n",
       "10 -0.2417186                             \n",
       "11 -0.2475545                             \n",
       "12 -0.2694525                             \n",
       "13 -0.2974584                             \n",
       "14 -0.2974584                             \n",
       "15 -0.2974584                             \n",
       "16 -0.2974584                             \n",
       "17 -0.2974584                             \n",
       "18 -0.2974584                             \n",
       "19 -0.2974584                             \n",
       "20 -0.2974584                             "
      ]
     },
     "metadata": {},
     "output_type": "display_data"
    }
   ],
   "source": [
    "df_db %>% \n",
    "group_by(party, year) %>% \n",
    "summarize(mean_perc_of_populist_toks = mean(perc_of_populist_toks, na.rm = TRUE),\n",
    "          mean_standardized_perc_of_populist_toks = mean(standardized_perc_of_populist_toks, na.rm = TRUE),\n",
    "          .groups = \"keep\") %>% \n",
    "arrange(desc(mean_standardized_perc_of_populist_toks)) %>% \n",
    "tail(20)"
   ]
  },
  {
   "cell_type": "markdown",
   "id": "2d05b827",
   "metadata": {},
   "source": [
    "## External validity <a class=\"anchor\" id=\"subparagraph8\"></a>"
   ]
  },
  {
   "cell_type": "markdown",
   "id": "e83c7d29",
   "metadata": {},
   "source": [
    "### Chapel Hill Expert Survey <a class=\"anchor\" id=\"subparagraph9\"></a>"
   ]
  },
  {
   "cell_type": "markdown",
   "id": "554e790f",
   "metadata": {},
   "source": [
    "As Decadri and Boussalis' dictionary captures both dimensions of populism we will validate it against a combination of two different variables from the CHES dataset, i.e. \"anti-élite salience\" and \"people_vs_élite\". We'll use the former as a proxy for the anti-establishment component and the latter as a proxy for the people-centrist one. The \"people_vs_élite\" variable has been introduced in the 2019 edition of the dataset, so we'll only work with observations from this year."
   ]
  },
  {
   "cell_type": "code",
   "execution_count": 47,
   "id": "d9a84a64",
   "metadata": {},
   "outputs": [],
   "source": [
    "ches <- read_csv(\"data/1999-2019_CHES_dataset_means(v2).csv\", show_col_types = FALSE)"
   ]
  },
  {
   "cell_type": "markdown",
   "id": "0f1612f4",
   "metadata": {},
   "source": [
    "The following are the Italian parties in the CHES dataset for the year 2019"
   ]
  },
  {
   "cell_type": "code",
   "execution_count": 48,
   "id": "f7f1416f",
   "metadata": {},
   "outputs": [
    {
     "data": {
      "text/html": [
       "<table class=\"dataframe\">\n",
       "<caption>A tibble: 8 × 3</caption>\n",
       "<thead>\n",
       "\t<tr><th scope=col>party</th><th scope=col>antielite_salience</th><th scope=col>people_vs_elite</th></tr>\n",
       "\t<tr><th scope=col>&lt;chr&gt;</th><th scope=col>&lt;dbl&gt;</th><th scope=col>&lt;dbl&gt;</th></tr>\n",
       "</thead>\n",
       "<tbody>\n",
       "\t<tr><td>RI </td><td>2.200000</td><td>3.357143</td></tr>\n",
       "\t<tr><td>M5S</td><td>8.888889</td><td>9.529411</td></tr>\n",
       "\t<tr><td>SI </td><td>3.785714</td><td>2.666667</td></tr>\n",
       "\t<tr><td>FdI</td><td>8.000000</td><td>6.625000</td></tr>\n",
       "\t<tr><td>PD </td><td>1.882353</td><td>2.062500</td></tr>\n",
       "\t<tr><td>LN </td><td>8.333333</td><td>6.937500</td></tr>\n",
       "\t<tr><td>SVP</td><td>2.166667</td><td>1.400000</td></tr>\n",
       "\t<tr><td>FI </td><td>4.176471</td><td>4.066667</td></tr>\n",
       "</tbody>\n",
       "</table>\n"
      ],
      "text/latex": [
       "A tibble: 8 × 3\n",
       "\\begin{tabular}{lll}\n",
       " party & antielite\\_salience & people\\_vs\\_elite\\\\\n",
       " <chr> & <dbl> & <dbl>\\\\\n",
       "\\hline\n",
       "\t RI  & 2.200000 & 3.357143\\\\\n",
       "\t M5S & 8.888889 & 9.529411\\\\\n",
       "\t SI  & 3.785714 & 2.666667\\\\\n",
       "\t FdI & 8.000000 & 6.625000\\\\\n",
       "\t PD  & 1.882353 & 2.062500\\\\\n",
       "\t LN  & 8.333333 & 6.937500\\\\\n",
       "\t SVP & 2.166667 & 1.400000\\\\\n",
       "\t FI  & 4.176471 & 4.066667\\\\\n",
       "\\end{tabular}\n"
      ],
      "text/markdown": [
       "\n",
       "A tibble: 8 × 3\n",
       "\n",
       "| party &lt;chr&gt; | antielite_salience &lt;dbl&gt; | people_vs_elite &lt;dbl&gt; |\n",
       "|---|---|---|\n",
       "| RI  | 2.200000 | 3.357143 |\n",
       "| M5S | 8.888889 | 9.529411 |\n",
       "| SI  | 3.785714 | 2.666667 |\n",
       "| FdI | 8.000000 | 6.625000 |\n",
       "| PD  | 1.882353 | 2.062500 |\n",
       "| LN  | 8.333333 | 6.937500 |\n",
       "| SVP | 2.166667 | 1.400000 |\n",
       "| FI  | 4.176471 | 4.066667 |\n",
       "\n"
      ],
      "text/plain": [
       "  party antielite_salience people_vs_elite\n",
       "1 RI    2.200000           3.357143       \n",
       "2 M5S   8.888889           9.529411       \n",
       "3 SI    3.785714           2.666667       \n",
       "4 FdI   8.000000           6.625000       \n",
       "5 PD    1.882353           2.062500       \n",
       "6 LN    8.333333           6.937500       \n",
       "7 SVP   2.166667           1.400000       \n",
       "8 FI    4.176471           4.066667       "
      ]
     },
     "metadata": {},
     "output_type": "display_data"
    }
   ],
   "source": [
    "ches %>% filter(country == 8 & year == 2019) %>% select(party, antielite_salience, people_vs_elite)"
   ]
  },
  {
   "cell_type": "markdown",
   "id": "26641c92",
   "metadata": {},
   "source": [
    "The parties in our dataset in the same year"
   ]
  },
  {
   "cell_type": "code",
   "execution_count": 49,
   "id": "5a9f0641",
   "metadata": {},
   "outputs": [
    {
     "data": {
      "text/html": [
       "<table class=\"dataframe\">\n",
       "<caption>A data.frame: 8 × 1</caption>\n",
       "<thead>\n",
       "\t<tr><th scope=col>party</th></tr>\n",
       "\t<tr><th scope=col>&lt;chr&gt;</th></tr>\n",
       "</thead>\n",
       "<tbody>\n",
       "\t<tr><td>M5S  </td></tr>\n",
       "\t<tr><td>LEGA </td></tr>\n",
       "\t<tr><td>PD   </td></tr>\n",
       "\t<tr><td>IV   </td></tr>\n",
       "\t<tr><td>FI   </td></tr>\n",
       "\t<tr><td>FDI  </td></tr>\n",
       "\t<tr><td>MISTO</td></tr>\n",
       "\t<tr><td>LEU  </td></tr>\n",
       "</tbody>\n",
       "</table>\n"
      ],
      "text/latex": [
       "A data.frame: 8 × 1\n",
       "\\begin{tabular}{l}\n",
       " party\\\\\n",
       " <chr>\\\\\n",
       "\\hline\n",
       "\t M5S  \\\\\n",
       "\t LEGA \\\\\n",
       "\t PD   \\\\\n",
       "\t IV   \\\\\n",
       "\t FI   \\\\\n",
       "\t FDI  \\\\\n",
       "\t MISTO\\\\\n",
       "\t LEU  \\\\\n",
       "\\end{tabular}\n"
      ],
      "text/markdown": [
       "\n",
       "A data.frame: 8 × 1\n",
       "\n",
       "| party &lt;chr&gt; |\n",
       "|---|\n",
       "| M5S   |\n",
       "| LEGA  |\n",
       "| PD    |\n",
       "| IV    |\n",
       "| FI    |\n",
       "| FDI   |\n",
       "| MISTO |\n",
       "| LEU   |\n",
       "\n"
      ],
      "text/plain": [
       "  party\n",
       "1 M5S  \n",
       "2 LEGA \n",
       "3 PD   \n",
       "4 IV   \n",
       "5 FI   \n",
       "6 FDI  \n",
       "7 MISTO\n",
       "8 LEU  "
      ]
     },
     "metadata": {},
     "output_type": "display_data"
    }
   ],
   "source": [
    "df_db %>% filter(year == 2019) %>% distinct(party)"
   ]
  },
  {
   "cell_type": "markdown",
   "id": "c0120674",
   "metadata": {},
   "source": [
    "\"Radicali Italiani\" and \"Südtiroler Volkspartei\" are not in our dataset so we'll drop them from CHES"
   ]
  },
  {
   "cell_type": "code",
   "execution_count": 50,
   "id": "9f51f572",
   "metadata": {},
   "outputs": [],
   "source": [
    "to_drop <- c(\"RI\", \"SVP\")\n",
    "\n",
    "ches <- ches %>% \n",
    "filter(country == 8 & year == 2019 & (!party %in% to_drop))"
   ]
  },
  {
   "cell_type": "markdown",
   "id": "95b782cf",
   "metadata": {},
   "source": [
    "Let's compute the average populist value for each party in the CHES dataset by summing the people vs elite and the anti-elite salience variables and then taking the mean"
   ]
  },
  {
   "cell_type": "code",
   "execution_count": 51,
   "id": "71f205d8",
   "metadata": {},
   "outputs": [
    {
     "data": {
      "text/html": [
       "<table class=\"dataframe\">\n",
       "<caption>A tibble: 6 × 2</caption>\n",
       "<thead>\n",
       "\t<tr><th scope=col>party</th><th scope=col>mean_populism</th></tr>\n",
       "\t<tr><th scope=col>&lt;chr&gt;</th><th scope=col>&lt;dbl&gt;</th></tr>\n",
       "</thead>\n",
       "<tbody>\n",
       "\t<tr><td>M5S</td><td>18.418301</td></tr>\n",
       "\t<tr><td>LN </td><td>15.270833</td></tr>\n",
       "\t<tr><td>FdI</td><td>14.625000</td></tr>\n",
       "\t<tr><td>FI </td><td> 8.243137</td></tr>\n",
       "\t<tr><td>SI </td><td> 6.452381</td></tr>\n",
       "\t<tr><td>PD </td><td> 3.944853</td></tr>\n",
       "</tbody>\n",
       "</table>\n"
      ],
      "text/latex": [
       "A tibble: 6 × 2\n",
       "\\begin{tabular}{ll}\n",
       " party & mean\\_populism\\\\\n",
       " <chr> & <dbl>\\\\\n",
       "\\hline\n",
       "\t M5S & 18.418301\\\\\n",
       "\t LN  & 15.270833\\\\\n",
       "\t FdI & 14.625000\\\\\n",
       "\t FI  &  8.243137\\\\\n",
       "\t SI  &  6.452381\\\\\n",
       "\t PD  &  3.944853\\\\\n",
       "\\end{tabular}\n"
      ],
      "text/markdown": [
       "\n",
       "A tibble: 6 × 2\n",
       "\n",
       "| party &lt;chr&gt; | mean_populism &lt;dbl&gt; |\n",
       "|---|---|\n",
       "| M5S | 18.418301 |\n",
       "| LN  | 15.270833 |\n",
       "| FdI | 14.625000 |\n",
       "| FI  |  8.243137 |\n",
       "| SI  |  6.452381 |\n",
       "| PD  |  3.944853 |\n",
       "\n"
      ],
      "text/plain": [
       "  party mean_populism\n",
       "1 M5S   18.418301    \n",
       "2 LN    15.270833    \n",
       "3 FdI   14.625000    \n",
       "4 FI     8.243137    \n",
       "5 SI     6.452381    \n",
       "6 PD     3.944853    "
      ]
     },
     "metadata": {},
     "output_type": "display_data"
    }
   ],
   "source": [
    "ches %>% \n",
    "group_by(party) %>% \n",
    "summarize(mean_populism = mean(people_vs_elite + antielite_salience)) %>% \n",
    "arrange(desc(mean_populism))"
   ]
  },
  {
   "cell_type": "markdown",
   "id": "5505e7e0",
   "metadata": {},
   "source": [
    "The two rankings are rather different. According to CHES, M5S and Lega rank as the two most populist parties, whereas in the results of the dictionary analysis they turned out to be the least populist ones."
   ]
  },
  {
   "cell_type": "code",
   "execution_count": 54,
   "id": "74863e6c",
   "metadata": {},
   "outputs": [
    {
     "data": {
      "text/html": [
       "<table class=\"dataframe\">\n",
       "<caption>A tibble: 6 × 3</caption>\n",
       "<thead>\n",
       "\t<tr><th scope=col>party</th><th scope=col>mean_perc_of_populist_toks</th><th scope=col>mean_standardized_perc_of_populist_toks</th></tr>\n",
       "\t<tr><th scope=col>&lt;chr&gt;</th><th scope=col>&lt;dbl&gt;</th><th scope=col>&lt;dbl&gt;</th></tr>\n",
       "</thead>\n",
       "<tbody>\n",
       "\t<tr><td>FI  </td><td>0.006516365</td><td> 0.19297135</td></tr>\n",
       "\t<tr><td>FDI </td><td>0.005751382</td><td> 0.13539783</td></tr>\n",
       "\t<tr><td>PD  </td><td>0.005206037</td><td> 0.09435445</td></tr>\n",
       "\t<tr><td>LEU </td><td>0.004958768</td><td> 0.07574469</td></tr>\n",
       "\t<tr><td>LEGA</td><td>0.003747825</td><td>-0.01539243</td></tr>\n",
       "\t<tr><td>M5S </td><td>0.003606619</td><td>-0.02590510</td></tr>\n",
       "</tbody>\n",
       "</table>\n"
      ],
      "text/latex": [
       "A tibble: 6 × 3\n",
       "\\begin{tabular}{lll}\n",
       " party & mean\\_perc\\_of\\_populist\\_toks & mean\\_standardized\\_perc\\_of\\_populist\\_toks\\\\\n",
       " <chr> & <dbl> & <dbl>\\\\\n",
       "\\hline\n",
       "\t FI   & 0.006516365 &  0.19297135\\\\\n",
       "\t FDI  & 0.005751382 &  0.13539783\\\\\n",
       "\t PD   & 0.005206037 &  0.09435445\\\\\n",
       "\t LEU  & 0.004958768 &  0.07574469\\\\\n",
       "\t LEGA & 0.003747825 & -0.01539243\\\\\n",
       "\t M5S  & 0.003606619 & -0.02590510\\\\\n",
       "\\end{tabular}\n"
      ],
      "text/markdown": [
       "\n",
       "A tibble: 6 × 3\n",
       "\n",
       "| party &lt;chr&gt; | mean_perc_of_populist_toks &lt;dbl&gt; | mean_standardized_perc_of_populist_toks &lt;dbl&gt; |\n",
       "|---|---|---|\n",
       "| FI   | 0.006516365 |  0.19297135 |\n",
       "| FDI  | 0.005751382 |  0.13539783 |\n",
       "| PD   | 0.005206037 |  0.09435445 |\n",
       "| LEU  | 0.004958768 |  0.07574469 |\n",
       "| LEGA | 0.003747825 | -0.01539243 |\n",
       "| M5S  | 0.003606619 | -0.02590510 |\n",
       "\n"
      ],
      "text/plain": [
       "  party mean_perc_of_populist_toks mean_standardized_perc_of_populist_toks\n",
       "1 FI    0.006516365                 0.19297135                            \n",
       "2 FDI   0.005751382                 0.13539783                            \n",
       "3 PD    0.005206037                 0.09435445                            \n",
       "4 LEU   0.004958768                 0.07574469                            \n",
       "5 LEGA  0.003747825                -0.01539243                            \n",
       "6 M5S   0.003606619                -0.02590510                            "
      ]
     },
     "metadata": {},
     "output_type": "display_data"
    }
   ],
   "source": [
    "to_drop <- c(\"IV\", \"MISTO\")\n",
    "\n",
    "df_db %>% \n",
    "filter(year == 2019 & (! party %in% to_drop)) %>% \n",
    "group_by(party) %>% \n",
    "summarize(mean_perc_of_populist_toks = mean(perc_of_populist_toks),\n",
    "          mean_standardized_perc_of_populist_toks = mean(standardized_perc_of_populist_toks, na.rm = TRUE)) %>% \n",
    "arrange(desc(mean_perc_of_populist_toks))"
   ]
  },
  {
   "cell_type": "markdown",
   "id": "61db5059",
   "metadata": {},
   "source": [
    "### The PopuList <a class=\"anchor\" id=\"subparagraph10\"></a>"
   ]
  },
  {
   "cell_type": "markdown",
   "id": "0b1092ff",
   "metadata": {},
   "source": [
    "Let's now compare D&B' dictionary with the PopuList dataset."
   ]
  },
  {
   "cell_type": "markdown",
   "id": "11347a85",
   "metadata": {},
   "source": [
    "The two rankings seem to be similar. Both rank Lega, FdI, FI/PdL and M5S as populists."
   ]
  },
  {
   "cell_type": "code",
   "execution_count": 55,
   "id": "a627570b",
   "metadata": {},
   "outputs": [
    {
     "data": {
      "text/html": [
       "<table class=\"dataframe\">\n",
       "<caption>A tibble: 10 × 2</caption>\n",
       "<thead>\n",
       "\t<tr><th scope=col>party_name</th><th scope=col>mean_populist</th></tr>\n",
       "\t<tr><th scope=col>&lt;chr&gt;</th><th scope=col>&lt;dbl&gt;</th></tr>\n",
       "</thead>\n",
       "<tbody>\n",
       "\t<tr><td>Forza Italia – Il Popolo della Libertà    </td><td>1</td></tr>\n",
       "\t<tr><td>Fratelli d'Italia – Centrodestra Nazionale</td><td>1</td></tr>\n",
       "\t<tr><td>Il Popolo della Libertà                   </td><td>1</td></tr>\n",
       "\t<tr><td>Lega (Nord)                               </td><td>1</td></tr>\n",
       "\t<tr><td>Liga Veneta                               </td><td>1</td></tr>\n",
       "\t<tr><td>Movimento 5 Stelle                        </td><td>1</td></tr>\n",
       "\t<tr><td>Partito dei Comunisti Italiani            </td><td>0</td></tr>\n",
       "\t<tr><td>Partito della Rifondazione Comunista      </td><td>0</td></tr>\n",
       "\t<tr><td>Rivoluzione Civile                        </td><td>0</td></tr>\n",
       "\t<tr><td>Sinistra                                  </td><td>0</td></tr>\n",
       "</tbody>\n",
       "</table>\n"
      ],
      "text/latex": [
       "A tibble: 10 × 2\n",
       "\\begin{tabular}{ll}\n",
       " party\\_name & mean\\_populist\\\\\n",
       " <chr> & <dbl>\\\\\n",
       "\\hline\n",
       "\t Forza Italia – Il Popolo della Libertà     & 1\\\\\n",
       "\t Fratelli d'Italia – Centrodestra Nazionale & 1\\\\\n",
       "\t Il Popolo della Libertà                    & 1\\\\\n",
       "\t Lega (Nord)                                & 1\\\\\n",
       "\t Liga Veneta                                & 1\\\\\n",
       "\t Movimento 5 Stelle                         & 1\\\\\n",
       "\t Partito dei Comunisti Italiani             & 0\\\\\n",
       "\t Partito della Rifondazione Comunista       & 0\\\\\n",
       "\t Rivoluzione Civile                         & 0\\\\\n",
       "\t Sinistra                                   & 0\\\\\n",
       "\\end{tabular}\n"
      ],
      "text/markdown": [
       "\n",
       "A tibble: 10 × 2\n",
       "\n",
       "| party_name &lt;chr&gt; | mean_populist &lt;dbl&gt; |\n",
       "|---|---|\n",
       "| Forza Italia – Il Popolo della Libertà     | 1 |\n",
       "| Fratelli d'Italia – Centrodestra Nazionale | 1 |\n",
       "| Il Popolo della Libertà                    | 1 |\n",
       "| Lega (Nord)                                | 1 |\n",
       "| Liga Veneta                                | 1 |\n",
       "| Movimento 5 Stelle                         | 1 |\n",
       "| Partito dei Comunisti Italiani             | 0 |\n",
       "| Partito della Rifondazione Comunista       | 0 |\n",
       "| Rivoluzione Civile                         | 0 |\n",
       "| Sinistra                                   | 0 |\n",
       "\n"
      ],
      "text/plain": [
       "   party_name                                 mean_populist\n",
       "1  Forza Italia – Il Popolo della Libertà     1            \n",
       "2  Fratelli d'Italia – Centrodestra Nazionale 1            \n",
       "3  Il Popolo della Libertà                    1            \n",
       "4  Lega (Nord)                                1            \n",
       "5  Liga Veneta                                1            \n",
       "6  Movimento 5 Stelle                         1            \n",
       "7  Partito dei Comunisti Italiani             0            \n",
       "8  Partito della Rifondazione Comunista       0            \n",
       "9  Rivoluzione Civile                         0            \n",
       "10 Sinistra                                   0            "
      ]
     },
     "metadata": {},
     "output_type": "display_data"
    }
   ],
   "source": [
    "populist %>% \n",
    "group_by(party_name) %>% \n",
    "summarize(mean_populist = mean(populist)) %>% \n",
    "arrange(desc(mean_populist))"
   ]
  },
  {
   "cell_type": "code",
   "execution_count": 56,
   "id": "ccc2a29e",
   "metadata": {},
   "outputs": [
    {
     "data": {
      "text/html": [
       "<table class=\"dataframe\">\n",
       "<caption>A tibble: 18 × 3</caption>\n",
       "<thead>\n",
       "\t<tr><th scope=col>party</th><th scope=col>mean_perc_of_populist_toks</th><th scope=col>mean_standardized_perc_of_populist_toks</th></tr>\n",
       "\t<tr><th scope=col>&lt;chr&gt;</th><th scope=col>&lt;dbl&gt;</th><th scope=col>&lt;dbl&gt;</th></tr>\n",
       "</thead>\n",
       "<tbody>\n",
       "\t<tr><td>LNA          </td><td>0.007604579</td><td> 0.274871750</td></tr>\n",
       "\t<tr><td>FDI-AN       </td><td>0.006533945</td><td> 0.194294460</td></tr>\n",
       "\t<tr><td>FI-PDL       </td><td>0.006307656</td><td> 0.177539486</td></tr>\n",
       "\t<tr><td>PDL          </td><td>0.006023743</td><td> 0.155968573</td></tr>\n",
       "\t<tr><td>M5S          </td><td>0.005847769</td><td> 0.142748849</td></tr>\n",
       "\t<tr><td>SI-SEL-POS-LU</td><td>0.005658601</td><td> 0.128414989</td></tr>\n",
       "\t<tr><td>LNP          </td><td>0.005401885</td><td> 0.109094202</td></tr>\n",
       "\t<tr><td>FDI          </td><td>0.005321136</td><td> 0.103016917</td></tr>\n",
       "\t<tr><td>LEGA-NORD-P  </td><td>0.005151888</td><td> 0.090315664</td></tr>\n",
       "\t<tr><td>COMUNISTA    </td><td>0.004441761</td><td> 0.036970046</td></tr>\n",
       "\t<tr><td>LEGA         </td><td>0.003844056</td><td>-0.008149925</td></tr>\n",
       "\t<tr><td>RC-PROGR     </td><td>0.003690076</td><td>-0.019493738</td></tr>\n",
       "\t<tr><td>COM/IT/      </td><td>0.003649745</td><td>-0.022774020</td></tr>\n",
       "\t<tr><td>RC           </td><td>0.003499740</td><td>-0.034063606</td></tr>\n",
       "\t<tr><td>FI           </td><td>0.003051010</td><td>-0.067778571</td></tr>\n",
       "\t<tr><td>LEGA-N       </td><td>0.003031741</td><td>-0.069017183</td></tr>\n",
       "\t<tr><td>RC-SE        </td><td>0.002964320</td><td>-0.074359954</td></tr>\n",
       "\t<tr><td>F-ITA        </td><td>0.002939053</td><td>-0.076247921</td></tr>\n",
       "</tbody>\n",
       "</table>\n"
      ],
      "text/latex": [
       "A tibble: 18 × 3\n",
       "\\begin{tabular}{lll}\n",
       " party & mean\\_perc\\_of\\_populist\\_toks & mean\\_standardized\\_perc\\_of\\_populist\\_toks\\\\\n",
       " <chr> & <dbl> & <dbl>\\\\\n",
       "\\hline\n",
       "\t LNA           & 0.007604579 &  0.274871750\\\\\n",
       "\t FDI-AN        & 0.006533945 &  0.194294460\\\\\n",
       "\t FI-PDL        & 0.006307656 &  0.177539486\\\\\n",
       "\t PDL           & 0.006023743 &  0.155968573\\\\\n",
       "\t M5S           & 0.005847769 &  0.142748849\\\\\n",
       "\t SI-SEL-POS-LU & 0.005658601 &  0.128414989\\\\\n",
       "\t LNP           & 0.005401885 &  0.109094202\\\\\n",
       "\t FDI           & 0.005321136 &  0.103016917\\\\\n",
       "\t LEGA-NORD-P   & 0.005151888 &  0.090315664\\\\\n",
       "\t COMUNISTA     & 0.004441761 &  0.036970046\\\\\n",
       "\t LEGA          & 0.003844056 & -0.008149925\\\\\n",
       "\t RC-PROGR      & 0.003690076 & -0.019493738\\\\\n",
       "\t COM/IT/       & 0.003649745 & -0.022774020\\\\\n",
       "\t RC            & 0.003499740 & -0.034063606\\\\\n",
       "\t FI            & 0.003051010 & -0.067778571\\\\\n",
       "\t LEGA-N        & 0.003031741 & -0.069017183\\\\\n",
       "\t RC-SE         & 0.002964320 & -0.074359954\\\\\n",
       "\t F-ITA         & 0.002939053 & -0.076247921\\\\\n",
       "\\end{tabular}\n"
      ],
      "text/markdown": [
       "\n",
       "A tibble: 18 × 3\n",
       "\n",
       "| party &lt;chr&gt; | mean_perc_of_populist_toks &lt;dbl&gt; | mean_standardized_perc_of_populist_toks &lt;dbl&gt; |\n",
       "|---|---|---|\n",
       "| LNA           | 0.007604579 |  0.274871750 |\n",
       "| FDI-AN        | 0.006533945 |  0.194294460 |\n",
       "| FI-PDL        | 0.006307656 |  0.177539486 |\n",
       "| PDL           | 0.006023743 |  0.155968573 |\n",
       "| M5S           | 0.005847769 |  0.142748849 |\n",
       "| SI-SEL-POS-LU | 0.005658601 |  0.128414989 |\n",
       "| LNP           | 0.005401885 |  0.109094202 |\n",
       "| FDI           | 0.005321136 |  0.103016917 |\n",
       "| LEGA-NORD-P   | 0.005151888 |  0.090315664 |\n",
       "| COMUNISTA     | 0.004441761 |  0.036970046 |\n",
       "| LEGA          | 0.003844056 | -0.008149925 |\n",
       "| RC-PROGR      | 0.003690076 | -0.019493738 |\n",
       "| COM/IT/       | 0.003649745 | -0.022774020 |\n",
       "| RC            | 0.003499740 | -0.034063606 |\n",
       "| FI            | 0.003051010 | -0.067778571 |\n",
       "| LEGA-N        | 0.003031741 | -0.069017183 |\n",
       "| RC-SE         | 0.002964320 | -0.074359954 |\n",
       "| F-ITA         | 0.002939053 | -0.076247921 |\n",
       "\n"
      ],
      "text/plain": [
       "   party         mean_perc_of_populist_toks\n",
       "1  LNA           0.007604579               \n",
       "2  FDI-AN        0.006533945               \n",
       "3  FI-PDL        0.006307656               \n",
       "4  PDL           0.006023743               \n",
       "5  M5S           0.005847769               \n",
       "6  SI-SEL-POS-LU 0.005658601               \n",
       "7  LNP           0.005401885               \n",
       "8  FDI           0.005321136               \n",
       "9  LEGA-NORD-P   0.005151888               \n",
       "10 COMUNISTA     0.004441761               \n",
       "11 LEGA          0.003844056               \n",
       "12 RC-PROGR      0.003690076               \n",
       "13 COM/IT/       0.003649745               \n",
       "14 RC            0.003499740               \n",
       "15 FI            0.003051010               \n",
       "16 LEGA-N        0.003031741               \n",
       "17 RC-SE         0.002964320               \n",
       "18 F-ITA         0.002939053               \n",
       "   mean_standardized_perc_of_populist_toks\n",
       "1   0.274871750                           \n",
       "2   0.194294460                           \n",
       "3   0.177539486                           \n",
       "4   0.155968573                           \n",
       "5   0.142748849                           \n",
       "6   0.128414989                           \n",
       "7   0.109094202                           \n",
       "8   0.103016917                           \n",
       "9   0.090315664                           \n",
       "10  0.036970046                           \n",
       "11 -0.008149925                           \n",
       "12 -0.019493738                           \n",
       "13 -0.022774020                           \n",
       "14 -0.034063606                           \n",
       "15 -0.067778571                           \n",
       "16 -0.069017183                           \n",
       "17 -0.074359954                           \n",
       "18 -0.076247921                           "
      ]
     },
     "metadata": {},
     "output_type": "display_data"
    }
   ],
   "source": [
    "to_keep <- c(\"F-ITA\", \"FI\", \"PDL\", \"FI-PDL\", \"FDI-AN\", \"FDI\", \"LEGA-N\", \"LEGA-NORD-P\", \"LNA\", \"LEGA\", \"LNP\", \"M5S\", \n",
    "             \"RC-PROGR\", \"COMUNISTA\", \"RC\", \"COM/IT/\", \"RC-SE\", \"SI-SEL-POS-LU\")\n",
    "\n",
    "df_db %>% \n",
    "filter(party %in% to_keep) %>% \n",
    "group_by(party) %>% \n",
    "summarize(mean_perc_of_populist_toks = mean(perc_of_populist_toks),\n",
    "          mean_standardized_perc_of_populist_toks = mean(standardized_perc_of_populist_toks, na.rm = TRUE)) %>% \n",
    "arrange(desc(mean_perc_of_populist_toks))"
   ]
  }
 ],
 "metadata": {
  "kernelspec": {
   "display_name": "R",
   "language": "R",
   "name": "ir"
  },
  "language_info": {
   "codemirror_mode": "r",
   "file_extension": ".r",
   "mimetype": "text/x-r-source",
   "name": "R",
   "pygments_lexer": "r",
   "version": "4.1.0"
  },
  "toc": {
   "base_numbering": 1,
   "nav_menu": {},
   "number_sections": true,
   "sideBar": true,
   "skip_h1_title": false,
   "title_cell": "Table of Contents",
   "title_sidebar": "Contents",
   "toc_cell": false,
   "toc_position": {
    "height": "calc(100% - 180px)",
    "left": "10px",
    "top": "150px",
    "width": "303.825px"
   },
   "toc_section_display": true,
   "toc_window_display": true
  }
 },
 "nbformat": 4,
 "nbformat_minor": 5
}
