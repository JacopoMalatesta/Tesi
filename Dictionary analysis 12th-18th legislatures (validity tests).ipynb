{
 "cells": [
  {
   "cell_type": "markdown",
   "id": "29eeb177",
   "metadata": {},
   "source": [
    "1. [Working directory and packages](#chapter1)\n",
    "2. [Data](#chapter2)\n",
    "3. [Preprocessing](#chapter3)\n",
    "4. [Wrapper function](#chapter4)\n",
    "5. [Rooduijn & Pauwels](#chapter5)\n",
    "   1. [Construct validity](#subparagraph1)\n",
    "   2. [Face validity](#subparagraph2)\n",
    "   3. [External validity](#subparagraph3)\n",
    "       1. [CHES](#subparagraph4)\n",
    "       2. [PopuList](#subparagraph5)\n",
    "6. [Decadri & Boussalis](#chapter6)\n",
    "   1. [Construct validity](#subparagraph6)\n",
    "   2. [Face validity](#subparagraph7)\n",
    "   3. [External validity](#subparagraph8)\n",
    "       1. [CHES](#subparagraph9)\n",
    "       2. [PopuList](#subparagraph10)"
   ]
  },
  {
   "cell_type": "markdown",
   "id": "27b553b4",
   "metadata": {},
   "source": [
    "# Working directory and packages <a class=\"anchor\" id=\"chapter1\"></a>"
   ]
  },
  {
   "cell_type": "markdown",
   "id": "73da2ecc",
   "metadata": {},
   "source": [
    "Setting the working directory"
   ]
  },
  {
   "cell_type": "code",
   "execution_count": 1,
   "id": "df6990d1",
   "metadata": {},
   "outputs": [],
   "source": [
    "setwd(\"C:/Users/jacop/Tesi/\")"
   ]
  },
  {
   "cell_type": "markdown",
   "id": "4b4fddda",
   "metadata": {},
   "source": [
    "Loading the libraries"
   ]
  },
  {
   "cell_type": "code",
   "execution_count": 2,
   "id": "1895b528",
   "metadata": {},
   "outputs": [],
   "source": [
    "suppressWarnings(suppressPackageStartupMessages(library(dtplyr)))\n",
    "suppressWarnings(suppressPackageStartupMessages(library(tidyverse)))\n",
    "suppressWarnings(suppressPackageStartupMessages(library(data.table)))\n",
    "suppressWarnings(suppressPackageStartupMessages(library(quanteda)))\n",
    "suppressWarnings(suppressPackageStartupMessages(library(manifestoR)))"
   ]
  },
  {
   "cell_type": "markdown",
   "id": "3e3a91b2",
   "metadata": {},
   "source": [
    "The 'tokens_group' function from the latest version of Quanteda often returns an error when grouping the tokens by more than one variable. We'll thus need to install a previous version of Quanteda. Let's check which of version we currently have installed."
   ]
  },
  {
   "cell_type": "code",
   "execution_count": 3,
   "id": "fdd7e9db",
   "metadata": {},
   "outputs": [
    {
     "data": {
      "text/plain": [
       "R version 4.1.0 (2021-05-18)\n",
       "Platform: x86_64-w64-mingw32/x64 (64-bit)\n",
       "Running under: Windows 10 x64 (build 19042)\n",
       "\n",
       "Matrix products: default\n",
       "\n",
       "locale:\n",
       "[1] LC_COLLATE=English_United States.1252 \n",
       "[2] LC_CTYPE=English_United States.1252   \n",
       "[3] LC_MONETARY=English_United States.1252\n",
       "[4] LC_NUMERIC=C                          \n",
       "[5] LC_TIME=English_United States.1252    \n",
       "\n",
       "attached base packages:\n",
       "[1] stats     graphics  grDevices utils     datasets  methods   base     \n",
       "\n",
       "other attached packages:\n",
       " [1] manifestoR_1.5.0  tm_0.7-8          NLP_0.2-1         quanteda_2.1.2   \n",
       " [5] data.table_1.14.2 forcats_0.5.1     stringr_1.4.0     dplyr_1.0.7      \n",
       " [9] purrr_0.3.4       readr_2.1.0       tidyr_1.1.4       tibble_3.1.6     \n",
       "[13] ggplot2_3.3.5     tidyverse_1.3.1   dtplyr_1.1.0     \n",
       "\n",
       "loaded via a namespace (and not attached):\n",
       " [1] httr_1.4.2         jsonlite_1.7.2     tmvnsim_1.0-2      modelr_0.1.8      \n",
       " [5] functional_0.6     RcppParallel_5.1.4 assertthat_0.2.1   cellranger_1.1.0  \n",
       " [9] yaml_2.2.1         slam_0.1-49        pillar_1.6.4       backports_1.4.0   \n",
       "[13] lattice_0.20-44    glue_1.5.1         uuid_1.0-3         digest_0.6.29     \n",
       "[17] rvest_1.0.2        colorspace_2.0-2   psych_2.1.9        htmltools_0.5.2   \n",
       "[21] Matrix_1.3-4       pkgconfig_2.0.3    broom_0.7.10       haven_2.4.3       \n",
       "[25] scales_1.1.1       tzdb_0.2.0         generics_0.1.1     ellipsis_0.3.2    \n",
       "[29] DT_0.20            withr_2.4.3        repr_1.1.3         mnormt_2.0.2      \n",
       "[33] cli_3.1.0          magrittr_2.0.1     crayon_1.4.2       readxl_1.3.1      \n",
       "[37] evaluate_0.14      stopwords_2.3      fs_1.5.1           fansi_0.5.0       \n",
       "[41] nlme_3.1-152       xml2_1.3.3         tools_4.1.0        hms_1.1.1         \n",
       "[45] lifecycle_1.0.1    munsell_0.5.0      reprex_2.0.1       compiler_4.1.0    \n",
       "[49] rlang_0.4.12       grid_4.1.0         pbdZMQ_0.3-5       IRkernel_1.2      \n",
       "[53] rstudioapi_0.13    htmlwidgets_1.5.3  base64enc_0.1-3    gtable_0.3.0      \n",
       "[57] DBI_1.1.1          R6_2.5.1           zoo_1.8-9          lubridate_1.8.0   \n",
       "[61] fastmap_1.1.0      utf8_1.2.2         fastmatch_1.1-3    stringi_1.7.6     \n",
       "[65] parallel_4.1.0     IRdisplay_1.0      Rcpp_1.0.7         vctrs_0.3.8       \n",
       "[69] dbplyr_2.1.1       tidyselect_1.1.1  "
      ]
     },
     "metadata": {},
     "output_type": "display_data"
    }
   ],
   "source": [
    "sessionInfo()"
   ]
  },
  {
   "cell_type": "markdown",
   "id": "c19e0518",
   "metadata": {},
   "source": [
    "If it's the latest one, we'll need to unistall it and replace it with a previous version (2.1.2 in this case but others may work as well)"
   ]
  },
  {
   "cell_type": "code",
   "execution_count": 4,
   "id": "a68f363f",
   "metadata": {},
   "outputs": [],
   "source": [
    "# remove.packages('quanteda')\n",
    "# devtools::install_version(\"quanteda\", version = \"2.1.2\", repos = \"http://cran.us.r-project.org\")"
   ]
  },
  {
   "cell_type": "markdown",
   "id": "d0e11f99",
   "metadata": {},
   "source": [
    "# Data <a class=\"anchor\" id=\"chapter2\"></a>"
   ]
  },
  {
   "cell_type": "markdown",
   "id": "559efc4d",
   "metadata": {},
   "source": [
    "## Speeches dataset"
   ]
  },
  {
   "cell_type": "markdown",
   "id": "5e20cb60",
   "metadata": {},
   "source": [
    "Loading the data"
   ]
  },
  {
   "cell_type": "code",
   "execution_count": 5,
   "id": "c8d55902",
   "metadata": {},
   "outputs": [],
   "source": [
    "load(\"data/parliamentary_groups2.rds\")"
   ]
  },
  {
   "cell_type": "markdown",
   "id": "03cdd226",
   "metadata": {},
   "source": [
    "Creating a lazy data.table out of our dataframe so that we can use dtplyr on it"
   ]
  },
  {
   "cell_type": "code",
   "execution_count": 6,
   "id": "afac1f04",
   "metadata": {},
   "outputs": [],
   "source": [
    "texts <- lazy_dt(Texts)"
   ]
  },
  {
   "cell_type": "markdown",
   "id": "b9113d49",
   "metadata": {},
   "source": [
    "Casting the \"legislatura\" variable as numeric"
   ]
  },
  {
   "cell_type": "code",
   "execution_count": 7,
   "id": "5f796ae9",
   "metadata": {},
   "outputs": [],
   "source": [
    "texts <- texts %>% mutate(legislatura = as.integer(legislatura)) %>% as_tibble()"
   ]
  },
  {
   "cell_type": "markdown",
   "id": "829adabd",
   "metadata": {},
   "source": [
    "Filtering the dataset by focusing on the last seven legislatures"
   ]
  },
  {
   "cell_type": "code",
   "execution_count": 8,
   "id": "8e7d8054",
   "metadata": {},
   "outputs": [],
   "source": [
    "texts <- texts %>% filter(legislatura >= 12) %>% as_tibble()"
   ]
  },
  {
   "cell_type": "markdown",
   "id": "134ec7ad",
   "metadata": {},
   "source": [
    "## Project Manifesto dataset"
   ]
  },
  {
   "cell_type": "markdown",
   "id": "54697229",
   "metadata": {},
   "source": [
    "Setting the API key in our work environment"
   ]
  },
  {
   "cell_type": "code",
   "execution_count": 9,
   "id": "dc3a3bdd",
   "metadata": {},
   "outputs": [],
   "source": [
    "mp_setapikey(\"data/manifesto_apikey.txt\")"
   ]
  },
  {
   "cell_type": "markdown",
   "id": "62ecbf1d",
   "metadata": {},
   "source": [
    "Filtering the dataset by focusing only on the following parties: LN, M5S, PdL, FI, SC, CD, UDC, FDI-CDN, SEL, PD"
   ]
  },
  {
   "cell_type": "code",
   "execution_count": 10,
   "id": "0cf49a5a",
   "metadata": {},
   "outputs": [
    {
     "name": "stdout",
     "output_type": "stream",
     "text": [
      "Connecting to Manifesto Project DB API... \n",
      "Connecting to Manifesto Project DB API... corpus version: 2021-1 \n",
      "Connecting to Manifesto Project DB API... \n",
      "Connecting to Manifesto Project DB API... corpus version: 2021-1 \n",
      "Connecting to Manifesto Project DB API... corpus version: 2021-1 \n",
      "Connecting to Manifesto Project DB API... corpus version: 2021-1 \n"
     ]
    }
   ],
   "source": [
    "party_codes <- c(32061, 32230, 32440, 32460, 32530, 32610, 32630, 32720, 32956, 32450)\n",
    "\n",
    "ita_manifestoes <- mp_corpus(countryname == \"Italy\" & party %in% party_codes)"
   ]
  },
  {
   "cell_type": "markdown",
   "id": "45b6118c",
   "metadata": {},
   "source": [
    "## External validity datasets"
   ]
  },
  {
   "cell_type": "markdown",
   "id": "643dd593",
   "metadata": {},
   "source": [
    "Let's load the two datasets we'll be using to test the dictionaries' external validity: the Chapel Hill Expert Survey and the PopuList dataset."
   ]
  },
  {
   "cell_type": "code",
   "execution_count": 11,
   "id": "c2e276c6",
   "metadata": {},
   "outputs": [],
   "source": [
    "ches <- read_csv(\"data/1999-2019_CHES_dataset_means(v2).csv\", show_col_types = FALSE)\n",
    "\n",
    "populist <- readxl::read_xlsx(\"data/populist-version-2-20200626.xlsx\")"
   ]
  },
  {
   "cell_type": "markdown",
   "id": "3887821b",
   "metadata": {},
   "source": [
    "## Stopwords"
   ]
  },
  {
   "cell_type": "markdown",
   "id": "4de77809",
   "metadata": {},
   "source": [
    "Decadri and Boussalis' additional stopwords"
   ]
  },
  {
   "cell_type": "code",
   "execution_count": 12,
   "id": "0cf897fd",
   "metadata": {},
   "outputs": [],
   "source": [
    "db_additional_stopwords  <- suppressMessages(read_csv(\"data/it_stopwords_new_list.csv\")) %>% \n",
    "                            pull(stopwords)"
   ]
  },
  {
   "cell_type": "markdown",
   "id": "4cb42bf8",
   "metadata": {},
   "source": [
    "Procedural stopwords"
   ]
  },
  {
   "cell_type": "code",
   "execution_count": 13,
   "id": "7ad8c424",
   "metadata": {},
   "outputs": [],
   "source": [
    "procedural_stopwords <- suppressMessages(read_csv(\"data/it_stopwords_procedural.csv\")) %>% \n",
    "                        pull(it_stopwords_procedural)"
   ]
  },
  {
   "cell_type": "markdown",
   "id": "94c72402",
   "metadata": {},
   "source": [
    "## Dictionaries"
   ]
  },
  {
   "cell_type": "markdown",
   "id": "29fd5ea2",
   "metadata": {},
   "source": [
    "Rooduijn and Pauwels' dictionary"
   ]
  },
  {
   "cell_type": "code",
   "execution_count": 14,
   "id": "b7fa590c",
   "metadata": {},
   "outputs": [],
   "source": [
    "anti_elitism <- c(\"elit*\", \"consens*\", \"antidemocratic*\", \"referend*\", \"corrot*\", \"propagand*\", \n",
    "                  \"politici*\",\"ingann*\", \"tradi*\", \"vergogn*\", \"scandal*\", \"verita\", \"disonest*\", \n",
    "                  \"partitocrazia\", \"menzogn*\", \"mentir*\")\n",
    "\n",
    "rp_dictionary <- dictionary(list(anti_elitism = anti_elitism))"
   ]
  },
  {
   "cell_type": "markdown",
   "id": "8900bf09",
   "metadata": {},
   "source": [
    "Decadri and Boussalis' dictionary"
   ]
  },
  {
   "cell_type": "code",
   "execution_count": 15,
   "id": "5a2e66e5",
   "metadata": {},
   "outputs": [],
   "source": [
    "anti_elitism <- c(\"antidemocratic*\", \"casta\", \"consens*\", \"corrot*\", \"disonest*\", \"elit*\", \n",
    "                  \"establishment\", \"ingann*\", \"mentir*\", \"menzogn*\", \"partitocrazia\", \"propagand*\", \n",
    "                  \"scandal*\", \"tradim*\", \"tradir*\", \"tradit*\", \"vergogn*\", \"verita\")\n",
    "\n",
    "people_centrism  <- c(\"abitant*\", \"cittadin*\", \"consumator*\", \"contribuent*\", \"elettor*\", \"gente\", \"popol*\")\n",
    "\n",
    "db_dictionary <- dictionary(list(anti_elitism = anti_elitism, \n",
    "                                 people_centrism = people_centrism))"
   ]
  },
  {
   "cell_type": "markdown",
   "id": "e6d4f58d",
   "metadata": {},
   "source": [
    "Grundl's dictionary"
   ]
  },
  {
   "cell_type": "code",
   "execution_count": 16,
   "id": "7a3ff081",
   "metadata": {},
   "outputs": [],
   "source": [
    "grundl <- readxl::read_xlsx(\"data/gruendl_terms_Fedra_Silvia.xlsx\", sheet = 2)  %>% \n",
    "filter(!is.na(terms) & !str_detect(string = terms, pattern = \"\\\\?+\"))  %>% \n",
    "mutate(terms = str_split(terms, ', ')) %>% \n",
    "unnest(cols = c(terms)) %>% \n",
    "distinct(terms)\n",
    "\n",
    "g_dictionary <- dictionary(list(populism = grundl))"
   ]
  },
  {
   "cell_type": "markdown",
   "id": "c0862500",
   "metadata": {},
   "source": [
    "# Preprocessing <a class=\"anchor\" id=\"chapter3\"></a>"
   ]
  },
  {
   "cell_type": "markdown",
   "id": "1be77697",
   "metadata": {},
   "source": [
    "## Speeches dataset"
   ]
  },
  {
   "cell_type": "markdown",
   "id": "793d21fe",
   "metadata": {},
   "source": [
    "Creating the corpus"
   ]
  },
  {
   "cell_type": "code",
   "execution_count": 17,
   "id": "086dab3e",
   "metadata": {},
   "outputs": [],
   "source": [
    "speeches_corpus <- corpus(texts, text_field = \"textclean\")"
   ]
  },
  {
   "cell_type": "markdown",
   "id": "fef42baf",
   "metadata": {},
   "source": [
    "Tokenizing the corpus, removing stopwords and grouping the tokens by the 'year' and 'gruppoP' variables"
   ]
  },
  {
   "cell_type": "code",
   "execution_count": 18,
   "id": "2f3e623d",
   "metadata": {},
   "outputs": [],
   "source": [
    "speeches_toks <- speeches_corpus %>% \n",
    "                 tokens(., remove_punct = TRUE, remove_symbols = TRUE, remove_numbers = TRUE, remove_separators = TRUE)  %>% \n",
    "                 tokens_remove(., pattern = stopwords(\"it\"), padding = TRUE) %>% \n",
    "                 tokens_remove(., pattern = db_additional_stopwords) %>% \n",
    "                 tokens_remove(., pattern = procedural_stopwords) %>% \n",
    "                 quanteda:::tokens_group(x = ., groups = c('year', 'gruppoP'))"
   ]
  },
  {
   "cell_type": "markdown",
   "id": "658c2eb5",
   "metadata": {},
   "source": [
    "## Manifesto project dataset"
   ]
  },
  {
   "cell_type": "markdown",
   "id": "4bdaa152",
   "metadata": {},
   "source": [
    "Creating the corpus, tokenizing it, removing stopwords and grouping the tokens by the 'party' variable"
   ]
  },
  {
   "cell_type": "code",
   "execution_count": 19,
   "id": "1e77eac7",
   "metadata": {},
   "outputs": [],
   "source": [
    "manifesto_corpus <- corpus(ita_manifestoes)"
   ]
  },
  {
   "cell_type": "code",
   "execution_count": 20,
   "id": "15e12a83",
   "metadata": {},
   "outputs": [],
   "source": [
    "manifesto_toks <- manifesto_corpus %>% \n",
    "tokens(., remove_punct = TRUE, remove_symbols = TRUE, remove_numbers = TRUE, remove_separators = TRUE)  %>% \n",
    "        tokens_remove(., pattern = stopwords(\"it\"), padding = TRUE) %>% \n",
    "        tokens_remove(., pattern = db_additional_stopwords) %>% \n",
    "        tokens_remove(., pattern = procedural_stopwords) %>% \n",
    "        quanteda:::tokens_group(x = ., groups = 'party')"
   ]
  },
  {
   "cell_type": "markdown",
   "id": "df5ad07d",
   "metadata": {},
   "source": [
    "# Wrapper function <a class=\"anchor\" id=\"chapter4\"></a>"
   ]
  },
  {
   "cell_type": "code",
   "execution_count": 21,
   "id": "f5a3e3b1",
   "metadata": {},
   "outputs": [
    {
     "ename": "ERROR",
     "evalue": "Error in parse(text = x, srcfile = src): <text>:63:24: unexpected symbol\n62:                                            party == '32440' ~ 'PD')\n63:                        total_toks\n                           ^\n",
     "output_type": "error",
     "traceback": [
      "Error in parse(text = x, srcfile = src): <text>:63:24: unexpected symbol\n62:                                            party == '32440' ~ 'PD')\n63:                        total_toks\n                           ^\nTraceback:\n"
     ]
    }
   ],
   "source": [
    "dict_analysis <- function(tokens, data, dictionary) {\n",
    "        \n",
    "  # Applying Rooduijn and Pauwels' dictionary to the speeches dataset\n",
    "  \n",
    "  if (data == \"speeches\" & dictionary == \"Rooduijn_Pauwels\") {\n",
    "    \n",
    "  my_dfm <- tokens_lookup(x = tokens, dictionary = rp_dictionary) %>% \n",
    "            dfm(.)  %>% \n",
    "            convert(., to = \"data.frame\") %>% \n",
    "            mutate(year = docvars(tokens)$year,\n",
    "                   party = docvars(tokens)$gruppoP,\n",
    "                   cluster = docvars(tokens)$group_cluster,\n",
    "                   total_toks = ntoken(tokens),\n",
    "                   perc_of_populist_toks = anti_elitism / total_toks,\n",
    "                   standardized_perc_of_populist_toks = as.double(scale(perc_of_populist_toks))) %>% \n",
    "            relocate(doc_id, year, party, cluster, anti_elitism, total_toks, perc_of_populist_toks, \n",
    "                     standardized_perc_of_populist_toks) %>% \n",
    "            as_tibble()\n",
    "\n",
    "  }\n",
    "    \n",
    "  # Applying Decadri and Boussalis' dictionary to the speeches dataset\n",
    "  \n",
    "  if (data == 'speeches' & dictionary == \"Decadri_Boussalis\") {\n",
    "    \n",
    "    my_dict_lookup <- \n",
    "    \n",
    "    my_dfm <- tokens_lookup(x = tokens, dictionary = db_dictionary) %>% \n",
    "              dfm(.) %>% \n",
    "              convert(., to = \"data.frame\") %>% \n",
    "              mutate(year = docvars(tokens)$year,\n",
    "                     party = docvars(tokens)$gruppoP,\n",
    "                     cluster = docvars(tokens)$group_cluster,\n",
    "                     populist_toks = anti_elitism + people_centrism,\n",
    "                     total_toks = ntoken(tokens),\n",
    "                     perc_of_populist_toks = populist_toks / total_toks,\n",
    "                     standardized_perc_of_populist_toks = as.double(scale(perc_of_populist_toks))) %>% \n",
    "              relocate(doc_id, year, party, cluster, anti_elitism, people_centrism, populist_toks,\n",
    "                       total_toks, perc_of_populist_toks, standardized_perc_of_populist_toks) %>% \n",
    "              as_tibble()\n",
    "    \n",
    "  }\n",
    "    \n",
    "  # Applying Grundl's dictionary\n",
    "    \n",
    "  if (data == 'manifesto' & dictionary == \"Grundl\") {\n",
    "      \n",
    "      my_dfm <- tokens_lookup(x = tokens, dictionary = g_dictionary) %>% \n",
    "                dfm(.)  %>% \n",
    "                convert(., to = \"data.frame\")  %>% \n",
    "                rename(party = doc_id) %>% \n",
    "                mutate(party = case_when(\n",
    "                                           party == '32630' ~ 'FDI-CDN', \n",
    "                                           party == '32610' ~ 'FI',\n",
    "                                           party == '32720' ~ 'LN',\n",
    "                                           party == '32956' ~ 'M5S',\n",
    "                                           party == '32061' ~ 'PdL',\n",
    "                                           party == '32460' ~ 'SC',\n",
    "                                           party == '32450' ~ 'CD',\n",
    "                                           party == '32530' ~ 'UDC',\n",
    "                                           party == '32230' ~ 'SEL',\n",
    "                                           party == '32440' ~ 'PD')\n",
    "                       total_toks = ntoken(manifesto_toks),\n",
    "                       perc_of_populist_toks = populism.terms / total_toks,\n",
    "                       standardized_perc_of_populist_toks = as.double(scale(perc_of_populist_toks))) %>% \n",
    "               arrange(desc(perc_of_populist_toks)) %>% \n",
    "               as_tibble()\n",
    "  }\n",
    "    \n",
    "  if (data == \"manifesto\" & dictionary == \"Decadri_Boussalis\") {\n",
    "      \n",
    "      my_dfm <- tokens_lookup(x = tokens, dictionary = db_dictionary) %>% \n",
    "                dfm(.) %>% \n",
    "                convert(., to = \"data.frame\") %>% \n",
    "                rename(party = doc_id) %>% \n",
    "                mutate(party = case_when(\n",
    "                                           party == '32630' ~ 'FDI-CDN', \n",
    "                                           party == '32610' ~ 'FI',\n",
    "                                           party == '32720' ~ 'LN',\n",
    "                                           party == '32956' ~ 'M5S',\n",
    "                                           party == '32061' ~ 'PdL',\n",
    "                                           party == '32460' ~ 'SC',\n",
    "                                           party == '32450' ~ 'CD',\n",
    "                                           party == '32530' ~ 'UDC',\n",
    "                                           party == '32230' ~ 'SEL',\n",
    "                                           party == '32440' ~ 'PD')\n",
    "                       total_toks = ntoken(manifesto_toks),\n",
    "                       populist_toks = anti_elitism + people_centrism,\n",
    "                       perc_of_populist_toks = populist_toks / total_toks,\n",
    "                       standardized_perc_of_populist_toks = as.double(scale(perc_of_populist_toks))) %>% \n",
    "                arrange(desc(perc_of_populist_toks)) %>% \n",
    "                as_tibble()\n",
    "  }\n",
    "  \n",
    "  return(my_dfm)\n",
    "    \n",
    "  \n",
    "}\n"
   ]
  },
  {
   "cell_type": "markdown",
   "id": "87740287",
   "metadata": {},
   "source": [
    "# Rooduijn & Pauwels (speeches dataset) <a class=\"anchor\" id=\"chapter5\"></a>"
   ]
  },
  {
   "cell_type": "markdown",
   "id": "be198dd3",
   "metadata": {},
   "source": [
    "Let's run the dictionary analysis by using Roodujin and Pauwels' dictionary"
   ]
  },
  {
   "cell_type": "code",
   "execution_count": null,
   "id": "77e1ce64",
   "metadata": {},
   "outputs": [],
   "source": [
    "df_rp <- dict_analysis(tokens = speeches_toks, data = \"speeches\", dictionary = \"Rooduijn_Pauwels\")"
   ]
  },
  {
   "cell_type": "markdown",
   "id": "4916e01c",
   "metadata": {},
   "source": [
    "The first rows of the dataframe"
   ]
  },
  {
   "cell_type": "code",
   "execution_count": null,
   "id": "cc66e075",
   "metadata": {},
   "outputs": [],
   "source": [
    "head(df_rp)"
   ]
  },
  {
   "cell_type": "markdown",
   "id": "41f70a3d",
   "metadata": {},
   "source": [
    "## Construct validity <a class=\"anchor\" id=\"subparagraph1\"></a>"
   ]
  },
  {
   "cell_type": "markdown",
   "id": "bd915c9b",
   "metadata": {},
   "source": [
    "Rooduijn and Pauwels' dictionary captures the \"anti-elitism\" component of populism, but not the \"people-centrism\" one. As a result, from a construct validity standpoint, it is only partially valid. The authors motivated the decision to leave out the \"people-centrism\" dimension by pointing out that the \"people\" is often referenced to by words such as \"us\", \"we\" and \"our\" which are also used to reference entities other than the people (such as political parties). The inclusion of these words in the dictionary, they argue, would result in a large number of false positives."
   ]
  },
  {
   "cell_type": "markdown",
   "id": "846f02ad",
   "metadata": {},
   "source": [
    "## Face validity <a class=\"anchor\" id=\"subparagraph2\"></a>"
   ]
  },
  {
   "cell_type": "markdown",
   "id": "31ede05e",
   "metadata": {},
   "source": [
    "A populist dictionary has face validity if the allegedly populist parties are indeed populist. In the Italian case, we would expect populist values to be higher for parties that the literature deems populist (i.e. Five Star Movement, Lega Nord, Forza Italia and Il Popolo delle Libertà)."
   ]
  },
  {
   "cell_type": "markdown",
   "id": "4914bb60",
   "metadata": {},
   "source": [
    "The following are the 20 party-year combinations with the highest populist score in the 1994-2021 period. Consistently with our expectations, we find populist parties such as FdI-AN (2014), Forza Italia (2019), FdI-AN (2013) and FdI-AN (2017). However, we also find mainstream parties such as UDC (2009), SI-SEL-POS-LU (2018), IV (2018), PD (2018) and PD (2019). These results could be interpreted as evidence of either populist contagion or lack of face validity. The absence of M5S and Lega among the most populist parties makes me lean towards the latter."
   ]
  },
  {
   "cell_type": "code",
   "execution_count": null,
   "id": "51d30879",
   "metadata": {},
   "outputs": [],
   "source": [
    "df_rp %>% \n",
    "arrange(desc(standardized_perc_of_populist_toks)) %>% \n",
    "head(20)"
   ]
  },
  {
   "cell_type": "markdown",
   "id": "df255f7f",
   "metadata": {},
   "source": [
    "The following are the party-year combinations with the lowest populist scores. Again we see a mixture of both mainstream and populist parties. Interestingly, LNA (2018), FdI-AN (2018) and PdL (2013) are ranked among the least populist parties. This might be further evidence of lack of face validity in Rooduijn and Pauwels' dictionary."
   ]
  },
  {
   "cell_type": "code",
   "execution_count": null,
   "id": "80781191",
   "metadata": {},
   "outputs": [],
   "source": [
    "df_rp %>% \n",
    "arrange(desc(standardized_perc_of_populist_toks)) %>% \n",
    "tail(20) %>% \n",
    "arrange(standardized_perc_of_populist_toks)"
   ]
  },
  {
   "cell_type": "markdown",
   "id": "84b753ac",
   "metadata": {},
   "source": [
    "## External validity <a class=\"anchor\" id=\"subparagraph3\"></a>"
   ]
  },
  {
   "cell_type": "markdown",
   "id": "0b1ca8b0",
   "metadata": {},
   "source": [
    "### Chapel Hill Expert Survey <a class=\"anchor\" id=\"subparagraph4\"></a>"
   ]
  },
  {
   "cell_type": "markdown",
   "id": "c48fce54",
   "metadata": {},
   "source": [
    "As Rooduijn and Pauwels' dictionary only captures the anti-elite dimension of populism, the external validity will be carried out against the anti-elite salience variable from the CHES dataset, which has been introduced in 2014."
   ]
  },
  {
   "cell_type": "markdown",
   "id": "5b3ab7d5",
   "metadata": {},
   "source": [
    "The countrycode for Italy is 8. The following is a list of all Italian parties in the CHES dataset in the 2014-2019 time period."
   ]
  },
  {
   "cell_type": "code",
   "execution_count": null,
   "id": "8eac18bd",
   "metadata": {},
   "outputs": [],
   "source": [
    "ches %>% filter(country == 8 & year >= 2014 & year <= 2019) %>% distinct(party)"
   ]
  },
  {
   "cell_type": "markdown",
   "id": "6000c13b",
   "metadata": {},
   "source": [
    "While these are the parties included in our dataset in the same timeframe"
   ]
  },
  {
   "cell_type": "code",
   "execution_count": null,
   "id": "f4b9db81",
   "metadata": {},
   "outputs": [],
   "source": [
    "df_rp %>% filter(year >= 2014 & year <= 2019) %>% distinct(party)"
   ]
  },
  {
   "cell_type": "markdown",
   "id": "2ea252bf",
   "metadata": {},
   "source": [
    "Let's now compare how R&P' dictionary and the CHES dataset ranked party-year combinations by populism in 2014 and 2019. We'll drop all parties that are not present in both datasets."
   ]
  },
  {
   "cell_type": "markdown",
   "id": "37faa729",
   "metadata": {},
   "source": [
    "The difference between the two rankings is stark. According to the dictionary analysis, PD (2019) ranks among the most populist party-year combinations and M5S (2019) among the least populists ones, while the opposite is true in the CHES dataset. Moreover, Lega (2019), one of the most populist party-year combinations according to CHES, is only slightly populist according to R&P' dictionary."
   ]
  },
  {
   "cell_type": "code",
   "execution_count": null,
   "id": "10eab5e8",
   "metadata": {},
   "outputs": [],
   "source": [
    "df_rp %>% \n",
    "filter((year == 2014 | year == 2019) & party != \"MISTO\" & party != \"IV\") %>% \n",
    "arrange(desc(standardized_perc_of_populist_toks))"
   ]
  },
  {
   "cell_type": "code",
   "execution_count": null,
   "id": "9ea13a95",
   "metadata": {},
   "outputs": [],
   "source": [
    "to_drop <- c('VdA', 'SVP', 'RI')\n",
    "\n",
    "ches %>% \n",
    "filter(country == 8 & year >= 2014 & year <= 2019 & (!party %in% to_drop))  %>% \n",
    "group_by(party, year) %>% \n",
    "summarize(mean_anti_elite_salience = mean(antielite_salience), .groups = \"keep\") %>% \n",
    "arrange(desc(mean_anti_elite_salience))"
   ]
  },
  {
   "cell_type": "markdown",
   "id": "343071dc",
   "metadata": {},
   "source": [
    "### The PopuList <a class=\"anchor\" id=\"subparagraph5\"></a>"
   ]
  },
  {
   "cell_type": "markdown",
   "id": "de2d590d",
   "metadata": {},
   "source": [
    "All the Italian parties in the PopuList dataset"
   ]
  },
  {
   "cell_type": "code",
   "execution_count": null,
   "id": "4be7f9f6",
   "metadata": {},
   "outputs": [],
   "source": [
    "populist %>% filter(country_name == \"Italy\") %>% distinct(party_name)"
   ]
  },
  {
   "cell_type": "markdown",
   "id": "bb3e94a7",
   "metadata": {},
   "source": [
    "Let's compare the populism scores between PopuList and R&D' dictionary by focusing on parties that are present in both datasets."
   ]
  },
  {
   "cell_type": "markdown",
   "id": "75679c80",
   "metadata": {},
   "source": [
    "According to the dictionary analysis, FI-PDL, FdI-AN, Lega and M5S have higher populism scores compared to most parties. These parties are all coded as populist in the PopuList dataset. The two measures can thus be considered similar."
   ]
  },
  {
   "cell_type": "code",
   "execution_count": null,
   "id": "4c665ef8",
   "metadata": {},
   "outputs": [],
   "source": [
    "to_keep <- c(\"F-ITA\", \"FI\", \"PDL\", \"FI-PDL\", \"FDI-AN\", \"FDI\", \"LEGA-N\", \"LEGA-NORD-P\", \"LNA\", \"LEGA\", \"LNP\", \"M5S\", \n",
    "             \"RC-PROGR\", \"COMUNISTA\", \"RC\", \"COM/IT/\", \"RC-SE\", \"SI-SEL-POS-LU\")\n",
    "\n",
    "df_rp %>% \n",
    "filter(party %in% to_keep) %>% \n",
    "arrange(desc(perc_of_populist_toks)) %>% \n",
    "head(20)"
   ]
  },
  {
   "cell_type": "code",
   "execution_count": null,
   "id": "c4d2be31",
   "metadata": {},
   "outputs": [],
   "source": [
    "to_drop <- c(\"Fiamma Tricolore\", \"Lega d'Azione Meridionale\", \"Movimento Sociale Italiano\")\n",
    "\n",
    "populist %>% \n",
    "filter(country_name == \"Italy\" & (!party_name %in% to_drop)) %>% \n",
    "select(party_name, populist) %>% \n",
    "arrange(desc(populist))"
   ]
  },
  {
   "cell_type": "markdown",
   "id": "e41d0eb1",
   "metadata": {},
   "source": [
    "# Decadri & Boussalis (speeches dataset) <a class=\"anchor\" id=\"chapter6\"></a>"
   ]
  },
  {
   "cell_type": "markdown",
   "id": "cf03fc47",
   "metadata": {},
   "source": [
    "Let's run the dictionary analysis with Decadri and Boussalis' dictionary"
   ]
  },
  {
   "cell_type": "code",
   "execution_count": null,
   "id": "e26bcd7e",
   "metadata": {},
   "outputs": [],
   "source": [
    "df_db <- dict_analysis(tokens = speeches_toks, data = \"speeches\", dictionary = \"Decadri_Boussalis\")"
   ]
  },
  {
   "cell_type": "markdown",
   "id": "545adf07",
   "metadata": {},
   "source": [
    "The first rows of the dataframe"
   ]
  },
  {
   "cell_type": "code",
   "execution_count": null,
   "id": "366cac9c",
   "metadata": {},
   "outputs": [],
   "source": [
    "head(df_db)"
   ]
  },
  {
   "cell_type": "markdown",
   "id": "26347114",
   "metadata": {},
   "source": [
    "## Construct validity <a class=\"anchor\" id=\"subparagraph6\"></a>"
   ]
  },
  {
   "cell_type": "markdown",
   "id": "95f8eb54",
   "metadata": {},
   "source": [
    "Decadri and Boussalis' dictionary catpures both the \"anti-elitism\" and \"people-centrism\" dimenions of populist ideology and it thus constitutes an improvement over Rooduijn and Pauwels' dictionary in terms of construct validity."
   ]
  },
  {
   "cell_type": "markdown",
   "id": "b2a4a3dc",
   "metadata": {},
   "source": [
    "## Face validity <a class=\"anchor\" id=\"subparagraph7\"></a>"
   ]
  },
  {
   "cell_type": "markdown",
   "id": "6809a726",
   "metadata": {},
   "source": [
    "To assess the face validity of Decadri and Boussalis' dictionary we'll have a look at the mean % of populist tokens (both anti-establishment and people-centrism) grouped by party and year."
   ]
  },
  {
   "cell_type": "markdown",
   "id": "0adcb2c4",
   "metadata": {},
   "source": [
    "As it was the case for R&P' dictionary, both mainstream (UDC, UDEUR, PPI) and populist (Lega, M5S, FDI-AN) party-year combinations received high populist scores."
   ]
  },
  {
   "cell_type": "code",
   "execution_count": null,
   "id": "f8697cef",
   "metadata": {},
   "outputs": [],
   "source": [
    "df_db %>% \n",
    "arrange(desc(standardized_perc_of_populist_toks)) %>% \n",
    "head(20)"
   ]
  },
  {
   "cell_type": "markdown",
   "id": "2dde4e46",
   "metadata": {},
   "source": [
    "Similarly, when we look at the party-year combinations with the lowest populist scores we find both mainstream and populist parties. This seems to suggest that D&B' dictionary lacks face validity."
   ]
  },
  {
   "cell_type": "code",
   "execution_count": null,
   "id": "6d2b7b10",
   "metadata": {},
   "outputs": [],
   "source": [
    "df_db %>% \n",
    "arrange(desc(standardized_perc_of_populist_toks)) %>% \n",
    "tail(20) %>% \n",
    "arrange(standardized_perc_of_populist_toks)"
   ]
  },
  {
   "cell_type": "markdown",
   "id": "2d05b827",
   "metadata": {},
   "source": [
    "## External validity <a class=\"anchor\" id=\"subparagraph8\"></a>"
   ]
  },
  {
   "cell_type": "markdown",
   "id": "e83c7d29",
   "metadata": {},
   "source": [
    "### Chapel Hill Expert Survey <a class=\"anchor\" id=\"subparagraph9\"></a>"
   ]
  },
  {
   "cell_type": "markdown",
   "id": "554e790f",
   "metadata": {},
   "source": [
    "As Decadri and Boussalis' dictionary captures both dimensions of populism we will validate it against a combination of two different variables from the CHES dataset, i.e. \"anti-élite salience\" and \"people_vs_élite\". We'll use the former as a proxy for the anti-establishment component and the latter as a proxy for the people-centrist one. The \"people_vs_élite\" variable has been introduced in the 2019 edition of the dataset, so we'll only work with observations from that year."
   ]
  },
  {
   "cell_type": "markdown",
   "id": "0f1612f4",
   "metadata": {},
   "source": [
    "The following are the Italian parties in the CHES dataset for the year 2019"
   ]
  },
  {
   "cell_type": "code",
   "execution_count": null,
   "id": "f7f1416f",
   "metadata": {},
   "outputs": [],
   "source": [
    "ches %>% filter(country == 8 & year == 2019) %>% select(party, antielite_salience, people_vs_elite)"
   ]
  },
  {
   "cell_type": "markdown",
   "id": "26641c92",
   "metadata": {},
   "source": [
    "The parties in our dataset in the same year"
   ]
  },
  {
   "cell_type": "code",
   "execution_count": null,
   "id": "5a9f0641",
   "metadata": {},
   "outputs": [],
   "source": [
    "df_db %>% filter(year == 2019) %>% distinct(party)"
   ]
  },
  {
   "cell_type": "markdown",
   "id": "95b782cf",
   "metadata": {},
   "source": [
    "Let's compute the average populist value for each party in the CHES dataset by summing the people vs elite and the anti-elite salience variables and then taking the mean. \"Radicali Italiani\" and \"Südtiroler Volkspartei\" are not in our dataset so we'll drop them from CHES."
   ]
  },
  {
   "cell_type": "code",
   "execution_count": null,
   "id": "71f205d8",
   "metadata": {},
   "outputs": [],
   "source": [
    "to_drop <- c(\"RI\", \"SVP\")\n",
    "\n",
    "ches %>% \n",
    "filter(country == 8 & year == 2019 & (!party %in% to_drop)) %>% \n",
    "group_by(party) %>% \n",
    "summarize(mean_populism = mean(people_vs_elite + antielite_salience)) %>% \n",
    "arrange(desc(mean_populism))"
   ]
  },
  {
   "cell_type": "markdown",
   "id": "5505e7e0",
   "metadata": {},
   "source": [
    "The two rankings are rather different. According to CHES, M5S and Lega rank as the two most populist parties, whereas in the results of the dictionary analysis they turned out to be the least populist ones."
   ]
  },
  {
   "cell_type": "code",
   "execution_count": null,
   "id": "74863e6c",
   "metadata": {},
   "outputs": [],
   "source": [
    "to_drop <- c(\"IV\", \"MISTO\")\n",
    "\n",
    "df_db %>% \n",
    "filter(year == 2019 & (! party %in% to_drop)) %>% \n",
    "arrange(desc(perc_of_populist_toks))"
   ]
  },
  {
   "cell_type": "markdown",
   "id": "61db5059",
   "metadata": {},
   "source": [
    "### The PopuList <a class=\"anchor\" id=\"subparagraph10\"></a>"
   ]
  },
  {
   "cell_type": "markdown",
   "id": "4946cd2d",
   "metadata": {},
   "source": [
    "Let's now compare D&B' dictionary with the PopuList dataset."
   ]
  },
  {
   "cell_type": "markdown",
   "id": "ccbacca7",
   "metadata": {},
   "source": [
    "Lega, FdI, FI/PdL and M5S rank among the most populist parties according to D&B' dictionary. These parties have all been coded as populist by PopuList. The two measures can thus be considered to be similar."
   ]
  },
  {
   "cell_type": "code",
   "execution_count": null,
   "id": "3ced1ce3",
   "metadata": {},
   "outputs": [],
   "source": [
    "populist %>% \n",
    "filter(country_name == \"Italy\") %>%\n",
    "select(party_name, populist) %>% \n",
    "arrange(desc(populist))"
   ]
  },
  {
   "cell_type": "code",
   "execution_count": null,
   "id": "cc387e3f",
   "metadata": {},
   "outputs": [],
   "source": [
    "to_keep <- c(\"F-ITA\", \"FI\", \"PDL\", \"FI-PDL\", \"FDI-AN\", \"FDI\", \"LEGA-N\", \"LEGA-NORD-P\", \"LNA\", \"LEGA\", \"LNP\", \"M5S\", \n",
    "             \"RC-PROGR\", \"COMUNISTA\", \"RC\", \"COM/IT/\", \"RC-SE\", \"SI-SEL-POS-LU\")\n",
    "\n",
    "df_db %>% \n",
    "filter(party %in% to_keep) %>% \n",
    "arrange(desc(perc_of_populist_toks)) %>% \n",
    "head(20)"
   ]
  },
  {
   "cell_type": "markdown",
   "id": "43d2802b",
   "metadata": {},
   "source": [
    "# Grundl (Manifesto project)"
   ]
  },
  {
   "cell_type": "markdown",
   "id": "49ff7291",
   "metadata": {},
   "source": [
    "Running the dictionary analysis on the Manifesto project dataset with Grundl's dictionary"
   ]
  },
  {
   "cell_type": "code",
   "execution_count": null,
   "id": "3dbcad22",
   "metadata": {},
   "outputs": [],
   "source": [
    "dict_analysis(tokens = manifesto_toks, data = \"manifesto\", dictionary = \"Grundl\")"
   ]
  },
  {
   "cell_type": "markdown",
   "id": "ec0c5685",
   "metadata": {},
   "source": [
    "# Decadri and Boussalis (Manifesto Project)"
   ]
  },
  {
   "cell_type": "markdown",
   "id": "830d092b",
   "metadata": {},
   "source": [
    "Running the dictionary analysis on the Manifesto Project dataset with Decadri and Boussalis' dictionary"
   ]
  },
  {
   "cell_type": "code",
   "execution_count": null,
   "id": "8fcd3cc1",
   "metadata": {},
   "outputs": [],
   "source": [
    "dict_analysis(tokens = manifesto_toks, data = \"manifesto\", dictionary = \"Decadri_Boussalis\")"
   ]
  },
  {
   "cell_type": "code",
   "execution_count": 24,
   "id": "86c2dbe7",
   "metadata": {},
   "outputs": [
    {
     "ename": "ERROR",
     "evalue": "Error: Problem with `mutate()` column `perc_of_populist_toks`.\n\u001b[34mi\u001b[39m `perc_of_populist_toks = populism.terms/total_toks`.\n\u001b[31mx\u001b[39m object 'populism.terms' not found\n",
     "output_type": "error",
     "traceback": [
      "Error: Problem with `mutate()` column `perc_of_populist_toks`.\n\u001b[34mi\u001b[39m `perc_of_populist_toks = populism.terms/total_toks`.\n\u001b[31mx\u001b[39m object 'populism.terms' not found\nTraceback:\n",
      "1. tokens_compound(x = manifesto_toks, pattern = g_dictionary) %>% \n .     dfm(.) %>% convert(., to = \"data.frame\") %>% rename(party = doc_id) %>% \n .     mutate(party = case_when(party == \"32630\" ~ \"FDI-CDN\", party == \n .         \"32610\" ~ \"FI\", party == \"32720\" ~ \"LN\", party == \"32956\" ~ \n .         \"M5S\", party == \"32061\" ~ \"PdL\", party == \"32460\" ~ \"SC\", \n .         party == \"32450\" ~ \"CD\", party == \"32530\" ~ \"UDC\", party == \n .             \"32230\" ~ \"SEL\", party == \"32440\" ~ \"PD\"), total_toks = ntoken(manifesto_toks), \n .         perc_of_populist_toks = populism.terms/total_toks, standardized_perc_of_populist_toks = as.double(scale(perc_of_populist_toks))) %>% \n .     arrange(desc(perc_of_populist_toks)) %>% as_tibble()",
      "2. as_tibble(.)",
      "3. arrange(., desc(perc_of_populist_toks))",
      "4. mutate(., party = case_when(party == \"32630\" ~ \"FDI-CDN\", party == \n .     \"32610\" ~ \"FI\", party == \"32720\" ~ \"LN\", party == \"32956\" ~ \n .     \"M5S\", party == \"32061\" ~ \"PdL\", party == \"32460\" ~ \"SC\", \n .     party == \"32450\" ~ \"CD\", party == \"32530\" ~ \"UDC\", party == \n .         \"32230\" ~ \"SEL\", party == \"32440\" ~ \"PD\"), total_toks = ntoken(manifesto_toks), \n .     perc_of_populist_toks = populism.terms/total_toks, standardized_perc_of_populist_toks = as.double(scale(perc_of_populist_toks)))",
      "5. mutate.data.frame(., party = case_when(party == \"32630\" ~ \"FDI-CDN\", \n .     party == \"32610\" ~ \"FI\", party == \"32720\" ~ \"LN\", party == \n .         \"32956\" ~ \"M5S\", party == \"32061\" ~ \"PdL\", party == \"32460\" ~ \n .         \"SC\", party == \"32450\" ~ \"CD\", party == \"32530\" ~ \"UDC\", \n .     party == \"32230\" ~ \"SEL\", party == \"32440\" ~ \"PD\"), total_toks = ntoken(manifesto_toks), \n .     perc_of_populist_toks = populism.terms/total_toks, standardized_perc_of_populist_toks = as.double(scale(perc_of_populist_toks)))",
      "6. mutate_cols(.data, ..., caller_env = caller_env())",
      "7. withCallingHandlers({\n .     for (i in seq_along(dots)) {\n .         mask$across_cache_reset()\n .         context_poke(\"column\", old_current_column)\n .         quosures <- expand_across(dots[[i]])\n .         quosures_results <- vector(mode = \"list\", length = length(quosures))\n .         for (k in seq_along(quosures)) {\n .             quo <- quosures[[k]]\n .             quo_data <- attr(quo, \"dplyr:::data\")\n .             if (!is.null(quo_data$column)) {\n .                 context_poke(\"column\", quo_data$column)\n .             }\n .             chunks <- NULL\n .             result <- NULL\n .             if (quo_is_symbol(quo)) {\n .                 name <- as_string(quo_get_expr(quo))\n .                 if (name %in% names(new_columns)) {\n .                   result <- new_columns[[name]]\n .                   chunks <- mask$resolve(name)\n .                 }\n .                 else if (name %in% names(.data)) {\n .                   result <- .data[[name]]\n .                   chunks <- mask$resolve(name)\n .                 }\n .                 if (inherits(.data, \"rowwise_df\") && vec_is_list(result)) {\n .                   sizes <- list_sizes(result)\n .                   wrong <- which(sizes != 1)\n .                   if (length(wrong)) {\n .                     group <- wrong[1L]\n .                     mask$set_current_group(group)\n .                     abort(x_size = sizes[group], class = \"dplyr:::mutate_incompatible_size\")\n .                   }\n .                 }\n .             }\n .             if (is.null(chunks)) {\n .                 chunks <- mask$eval_all_mutate(quo)\n .             }\n .             if (is.null(chunks)) {\n .                 next\n .             }\n .             if (is.null(result)) {\n .                 if (length(rows) == 1) {\n .                   result <- chunks[[1]]\n .                 }\n .                 else {\n .                   result <- withCallingHandlers(vec_unchop(chunks <- vec_cast_common(!!!chunks), \n .                     rows), vctrs_error_incompatible_type = function(cnd) {\n .                     abort(class = \"dplyr:::error_mutate_incompatible_combine\", \n .                       parent = cnd)\n .                   })\n .                 }\n .             }\n .             quosures_results[[k]] <- list(result = result, chunks = chunks)\n .         }\n .         for (k in seq_along(quosures)) {\n .             quo <- quosures[[k]]\n .             quo_data <- attr(quo, \"dplyr:::data\")\n .             quo_result <- quosures_results[[k]]\n .             if (is.null(quo_result)) {\n .                 if (quo_data$is_named) {\n .                   name <- quo_data$name_given\n .                   new_columns[[name]] <- zap()\n .                   mask$remove(name)\n .                 }\n .                 next\n .             }\n .             result <- quo_result$result\n .             chunks <- quo_result$chunks\n .             if (!quo_data$is_named && is.data.frame(result)) {\n .                 new_columns[names(result)] <- result\n .                 mask$add_many(result, chunks)\n .             }\n .             else {\n .                 name <- quo_data$name_auto\n .                 new_columns[[name]] <- result\n .                 mask$add_one(name, chunks)\n .             }\n .         }\n .     }\n . }, error = function(e) {\n .     local_call_step(dots = dots, .index = i, .fn = \"mutate\", \n .         .dot_data = inherits(e, \"rlang_error_data_pronoun_not_found\"))\n .     call_step_envir <- peek_call_step()\n .     error_name <- call_step_envir$error_name\n .     error_expression <- call_step_envir$error_expression\n .     show_group_details <- TRUE\n .     if (inherits(e, \"dplyr:::mutate_incompatible_size\")) {\n .         size <- vec_size(rows[[mask$get_current_group()]])\n .         x_size <- e$x_size\n .         bullets <- c(i = cnd_bullet_column_info(), i = glue(\"`{error_name}` must be size {or_1(size)}, not {x_size}.\"), \n .             i = cnd_bullet_rowwise_unlist())\n .     }\n .     else if (inherits(e, \"dplyr:::mutate_mixed_null\")) {\n .         show_group_details <- FALSE\n .         bullets <- c(i = cnd_bullet_column_info(), x = glue(\"`{error_name}` must return compatible vectors across groups.\"), \n .             i = \"Cannot combine NULL and non NULL results.\", \n .             i = cnd_bullet_rowwise_unlist())\n .     }\n .     else if (inherits(e, \"dplyr:::mutate_not_vector\")) {\n .         bullets <- c(i = cnd_bullet_column_info(), x = glue(\"`{error_name}` must be a vector, not {friendly_type_of(e$result)}.\"), \n .             i = cnd_bullet_rowwise_unlist())\n .     }\n .     else if (inherits(e, \"dplyr:::error_mutate_incompatible_combine\")) {\n .         show_group_details <- FALSE\n .         bullets <- c(i = cnd_bullet_column_info(), x = glue(\"`{error_name}` must return compatible vectors across groups\"), \n .             i = cnd_bullet_combine_details(e$parent$x, e$parent$x_arg), \n .             i = cnd_bullet_combine_details(e$parent$y, e$parent$y_arg))\n .     }\n .     else {\n .         bullets <- c(i = cnd_bullet_column_info(), x = conditionMessage(e))\n .     }\n .     bullets <- c(cnd_bullet_header(), bullets, i = if (show_group_details) cnd_bullet_cur_group_label())\n .     abort(bullets, class = c(\"dplyr:::mutate_error\", \"dplyr_error\"), \n .         error_name = error_name, error_expression = error_expression, \n .         parent = e, bullets = bullets)\n . }, warning = function(w) {\n .     if (check_muffled_warning(w)) {\n .         maybe_restart(\"muffleWarning\")\n .     }\n .     local_call_step(dots = dots, .index = i, .fn = \"mutate\")\n .     warn(c(cnd_bullet_header(), i = cnd_bullet_column_info(), \n .         i = conditionMessage(w), i = cnd_bullet_cur_group_label(what = \"warning\")))\n .     maybe_restart(\"muffleWarning\")\n . })",
      "8. mask$eval_all_mutate(quo)",
      "9. .handleSimpleError(function (e) \n . {\n .     local_call_step(dots = dots, .index = i, .fn = \"mutate\", \n .         .dot_data = inherits(e, \"rlang_error_data_pronoun_not_found\"))\n .     call_step_envir <- peek_call_step()\n .     error_name <- call_step_envir$error_name\n .     error_expression <- call_step_envir$error_expression\n .     show_group_details <- TRUE\n .     if (inherits(e, \"dplyr:::mutate_incompatible_size\")) {\n .         size <- vec_size(rows[[mask$get_current_group()]])\n .         x_size <- e$x_size\n .         bullets <- c(i = cnd_bullet_column_info(), i = glue(\"`{error_name}` must be size {or_1(size)}, not {x_size}.\"), \n .             i = cnd_bullet_rowwise_unlist())\n .     }\n .     else if (inherits(e, \"dplyr:::mutate_mixed_null\")) {\n .         show_group_details <- FALSE\n .         bullets <- c(i = cnd_bullet_column_info(), x = glue(\"`{error_name}` must return compatible vectors across groups.\"), \n .             i = \"Cannot combine NULL and non NULL results.\", \n .             i = cnd_bullet_rowwise_unlist())\n .     }\n .     else if (inherits(e, \"dplyr:::mutate_not_vector\")) {\n .         bullets <- c(i = cnd_bullet_column_info(), x = glue(\"`{error_name}` must be a vector, not {friendly_type_of(e$result)}.\"), \n .             i = cnd_bullet_rowwise_unlist())\n .     }\n .     else if (inherits(e, \"dplyr:::error_mutate_incompatible_combine\")) {\n .         show_group_details <- FALSE\n .         bullets <- c(i = cnd_bullet_column_info(), x = glue(\"`{error_name}` must return compatible vectors across groups\"), \n .             i = cnd_bullet_combine_details(e$parent$x, e$parent$x_arg), \n .             i = cnd_bullet_combine_details(e$parent$y, e$parent$y_arg))\n .     }\n .     else {\n .         bullets <- c(i = cnd_bullet_column_info(), x = conditionMessage(e))\n .     }\n .     bullets <- c(cnd_bullet_header(), bullets, i = if (show_group_details) cnd_bullet_cur_group_label())\n .     abort(bullets, class = c(\"dplyr:::mutate_error\", \"dplyr_error\"), \n .         error_name = error_name, error_expression = error_expression, \n .         parent = e, bullets = bullets)\n . }, \"object 'populism.terms' not found\", base::quote(mask$eval_all_mutate(quo)))",
      "10. h(simpleError(msg, call))",
      "11. abort(bullets, class = c(\"dplyr:::mutate_error\", \"dplyr_error\"), \n  .     error_name = error_name, error_expression = error_expression, \n  .     parent = e, bullets = bullets)",
      "12. signal_abort(cnd)"
     ]
    }
   ],
   "source": [
    "tokens_compound(x = manifesto_toks, pattern = g_dictionary) %>% \n",
    "dfm(.)  %>% \n",
    "                convert(., to = \"data.frame\")  %>% \n",
    "                rename(party = doc_id) %>% \n",
    "                mutate(party = case_when(\n",
    "                                           party == '32630' ~ 'FDI-CDN', \n",
    "                                           party == '32610' ~ 'FI',\n",
    "                                           party == '32720' ~ 'LN',\n",
    "                                           party == '32956' ~ 'M5S',\n",
    "                                           party == '32061' ~ 'PdL',\n",
    "                                           party == '32460' ~ 'SC',\n",
    "                                           party == '32450' ~ 'CD',\n",
    "                                           party == '32530' ~ 'UDC',\n",
    "                                           party == '32230' ~ 'SEL',\n",
    "                                           party == '32440' ~ 'PD'),\n",
    "                       total_toks = ntoken(manifesto_toks),\n",
    "                       perc_of_populist_toks = populism.terms / total_toks,\n",
    "                       standardized_perc_of_populist_toks = as.double(scale(perc_of_populist_toks))) %>% \n",
    "               arrange(desc(perc_of_populist_toks)) %>% \n",
    "               as_tibble()"
   ]
  },
  {
   "cell_type": "code",
   "execution_count": null,
   "id": "7400a93a",
   "metadata": {},
   "outputs": [],
   "source": [
    "tokens_compound(x = manifesto_toks, pattern = g_dictionary) %>% \n",
    "dfm(.)"
   ]
  }
 ],
 "metadata": {
  "kernelspec": {
   "display_name": "R",
   "language": "R",
   "name": "ir"
  },
  "language_info": {
   "codemirror_mode": "r",
   "file_extension": ".r",
   "mimetype": "text/x-r-source",
   "name": "R",
   "pygments_lexer": "r",
   "version": "4.1.0"
  },
  "toc": {
   "base_numbering": 1,
   "nav_menu": {},
   "number_sections": true,
   "sideBar": true,
   "skip_h1_title": false,
   "title_cell": "Table of Contents",
   "title_sidebar": "Contents",
   "toc_cell": false,
   "toc_position": {
    "height": "calc(100% - 180px)",
    "left": "10px",
    "top": "150px",
    "width": "303.825px"
   },
   "toc_section_display": true,
   "toc_window_display": true
  }
 },
 "nbformat": 4,
 "nbformat_minor": 5
}
