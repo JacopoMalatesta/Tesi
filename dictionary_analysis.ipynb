{
 "cells": [
  {
   "cell_type": "markdown",
   "id": "29eeb177",
   "metadata": {},
   "source": [
    "1. [Working directory and packages](#chapter1)\n",
    "2. [Data](#chapter2)\n",
    "3. [Preprocessing](#chapter3)\n",
    "4. [Wrapper function](#chapter4)\n",
    "5. [Rooduijn & Pauwels](#chapter5)\n",
    "   1. [Construct validity](#subparagraph1)\n",
    "   2. [Face validity](#subparagraph2)\n",
    "   3. [External validity](#subparagraph3)\n",
    "       1. [CHES](#subparagraph4)\n",
    "       2. [PopuList](#subparagraph5)\n",
    "6. [Decadri & Boussalis](#chapter6)\n",
    "   1. [Construct validity](#subparagraph6)\n",
    "   2. [Face validity](#subparagraph7)\n",
    "   3. [External validity](#subparagraph8)\n",
    "       1. [CHES](#subparagraph9)\n",
    "       2. [PopuList](#subparagraph10)"
   ]
  },
  {
   "cell_type": "markdown",
   "id": "27b553b4",
   "metadata": {},
   "source": [
    "# Working directory and packages <a class=\"anchor\" id=\"chapter1\"></a>"
   ]
  },
  {
   "cell_type": "markdown",
   "id": "73da2ecc",
   "metadata": {},
   "source": [
    "Setting the working directory"
   ]
  },
  {
   "cell_type": "code",
   "execution_count": 1,
   "id": "df6990d1",
   "metadata": {},
   "outputs": [],
   "source": [
    "setwd(\"C:/Users/jacop/Tesi/\")"
   ]
  },
  {
   "cell_type": "markdown",
   "id": "4b4fddda",
   "metadata": {},
   "source": [
    "Loading the libraries"
   ]
  },
  {
   "cell_type": "code",
   "execution_count": 2,
   "id": "1895b528",
   "metadata": {},
   "outputs": [],
   "source": [
    "suppressWarnings(suppressPackageStartupMessages(library(dtplyr)))\n",
    "suppressWarnings(suppressPackageStartupMessages(library(tidyverse)))\n",
    "suppressWarnings(suppressPackageStartupMessages(library(data.table)))\n",
    "suppressWarnings(suppressPackageStartupMessages(library(quanteda)))\n",
    "suppressWarnings(suppressPackageStartupMessages(library(manifestoR)))"
   ]
  },
  {
   "cell_type": "markdown",
   "id": "3e3a91b2",
   "metadata": {},
   "source": [
    "The 'tokens_group' function often returns an error when grouping the tokens by more than one variable. One way to fix this is to install a previous version of Quanteda. Let's check which of version we currently have installed."
   ]
  },
  {
   "cell_type": "code",
   "execution_count": 3,
   "id": "fdd7e9db",
   "metadata": {},
   "outputs": [
    {
     "data": {
      "text/plain": [
       "R version 4.1.0 (2021-05-18)\n",
       "Platform: x86_64-w64-mingw32/x64 (64-bit)\n",
       "Running under: Windows 10 x64 (build 22000)\n",
       "\n",
       "Matrix products: default\n",
       "\n",
       "locale:\n",
       "[1] LC_COLLATE=English_United States.1252 \n",
       "[2] LC_CTYPE=English_United States.1252   \n",
       "[3] LC_MONETARY=English_United States.1252\n",
       "[4] LC_NUMERIC=C                          \n",
       "[5] LC_TIME=English_United States.1252    \n",
       "\n",
       "attached base packages:\n",
       "[1] stats     graphics  grDevices utils     datasets  methods   base     \n",
       "\n",
       "other attached packages:\n",
       " [1] manifestoR_1.5.0  tm_0.7-8          NLP_0.2-1         quanteda_2.1.2   \n",
       " [5] data.table_1.14.2 forcats_0.5.1     stringr_1.4.0     dplyr_1.0.7      \n",
       " [9] purrr_0.3.4       readr_2.1.0       tidyr_1.1.4       tibble_3.1.6     \n",
       "[13] ggplot2_3.3.5     tidyverse_1.3.1   dtplyr_1.1.0     \n",
       "\n",
       "loaded via a namespace (and not attached):\n",
       " [1] httr_1.4.2         jsonlite_1.7.2     tmvnsim_1.0-2      modelr_0.1.8      \n",
       " [5] functional_0.6     RcppParallel_5.1.4 assertthat_0.2.1   cellranger_1.1.0  \n",
       " [9] yaml_2.2.1         slam_0.1-49        pillar_1.6.4       backports_1.4.0   \n",
       "[13] lattice_0.20-44    glue_1.5.1         uuid_1.0-3         digest_0.6.29     \n",
       "[17] rvest_1.0.2        colorspace_2.0-2   psych_2.1.9        htmltools_0.5.2   \n",
       "[21] Matrix_1.3-4       pkgconfig_2.0.3    broom_0.7.11       haven_2.4.3       \n",
       "[25] scales_1.1.1       tzdb_0.2.0         generics_0.1.1     ellipsis_0.3.2    \n",
       "[29] DT_0.20            withr_2.4.3        repr_1.1.3         mnormt_2.0.2      \n",
       "[33] cli_3.1.0          magrittr_2.0.1     crayon_1.4.2       readxl_1.3.1      \n",
       "[37] evaluate_0.14      stopwords_2.3      fs_1.5.1           fansi_0.5.0       \n",
       "[41] nlme_3.1-152       xml2_1.3.3         tools_4.1.0        hms_1.1.1         \n",
       "[45] lifecycle_1.0.1    munsell_0.5.0      reprex_2.0.1       compiler_4.1.0    \n",
       "[49] rlang_0.4.12       grid_4.1.0         pbdZMQ_0.3-5       IRkernel_1.2      \n",
       "[53] rstudioapi_0.13    htmlwidgets_1.5.3  base64enc_0.1-3    gtable_0.3.0      \n",
       "[57] DBI_1.1.1          R6_2.5.1           zoo_1.8-9          lubridate_1.8.0   \n",
       "[61] fastmap_1.1.0      utf8_1.2.2         fastmatch_1.1-3    stringi_1.7.6     \n",
       "[65] parallel_4.1.0     IRdisplay_1.0      Rcpp_1.0.7         vctrs_0.3.8       \n",
       "[69] dbplyr_2.1.1       tidyselect_1.1.1  "
      ]
     },
     "metadata": {},
     "output_type": "display_data"
    }
   ],
   "source": [
    "sessionInfo()"
   ]
  },
  {
   "cell_type": "markdown",
   "id": "c19e0518",
   "metadata": {},
   "source": [
    "If it's the latest one, we'll need to unistall it and replace it with a previous version (2.1.2 in this case but others may work as well)"
   ]
  },
  {
   "cell_type": "code",
   "execution_count": 4,
   "id": "a68f363f",
   "metadata": {},
   "outputs": [],
   "source": [
    "# remove.packages('quanteda')\n",
    "# devtools::install_version(\"quanteda\", version = \"2.1.2\", repos = \"http://cran.us.r-project.org\")"
   ]
  },
  {
   "cell_type": "markdown",
   "id": "d0e11f99",
   "metadata": {},
   "source": [
    "# Data <a class=\"anchor\" id=\"chapter2\"></a>"
   ]
  },
  {
   "cell_type": "markdown",
   "id": "559efc4d",
   "metadata": {},
   "source": [
    "## Speeches dataset"
   ]
  },
  {
   "cell_type": "markdown",
   "id": "5e20cb60",
   "metadata": {},
   "source": [
    "Loading the data"
   ]
  },
  {
   "cell_type": "code",
   "execution_count": 5,
   "id": "c8d55902",
   "metadata": {},
   "outputs": [],
   "source": [
    "load(\"data/parliamentary_groups2.rds\")"
   ]
  },
  {
   "cell_type": "markdown",
   "id": "03cdd226",
   "metadata": {},
   "source": [
    "Creating a lazy data.table out of our dataframe so that we can use dtplyr on it"
   ]
  },
  {
   "cell_type": "code",
   "execution_count": 6,
   "id": "afac1f04",
   "metadata": {},
   "outputs": [],
   "source": [
    "texts <- lazy_dt(Texts)"
   ]
  },
  {
   "cell_type": "markdown",
   "id": "b9113d49",
   "metadata": {},
   "source": [
    "Casting the \"legislatura\" variable as numeric"
   ]
  },
  {
   "cell_type": "code",
   "execution_count": 7,
   "id": "5f796ae9",
   "metadata": {},
   "outputs": [],
   "source": [
    "texts <- texts %>% mutate(legislatura = as.integer(legislatura)) %>% as_tibble()"
   ]
  },
  {
   "cell_type": "markdown",
   "id": "829adabd",
   "metadata": {},
   "source": [
    "Filtering the dataset by focusing on the last seven legislatures"
   ]
  },
  {
   "cell_type": "code",
   "execution_count": 8,
   "id": "8e7d8054",
   "metadata": {},
   "outputs": [],
   "source": [
    "texts <- texts %>% filter(legislatura >= 12) %>% as_tibble()"
   ]
  },
  {
   "cell_type": "markdown",
   "id": "134ec7ad",
   "metadata": {},
   "source": [
    "## Project Manifesto dataset"
   ]
  },
  {
   "cell_type": "markdown",
   "id": "54697229",
   "metadata": {},
   "source": [
    "Setting the API key in our work environment"
   ]
  },
  {
   "cell_type": "code",
   "execution_count": 9,
   "id": "dc3a3bdd",
   "metadata": {},
   "outputs": [],
   "source": [
    "mp_setapikey(\"data/manifesto_apikey.txt\")"
   ]
  },
  {
   "cell_type": "markdown",
   "id": "bf2a6b83",
   "metadata": {},
   "source": [
    "Filtering the dataset by focusing only on the following parties: LN, M5S, PdL, FI, SC, CD, UDC, FDI-CDN, SEL, PD"
   ]
  },
  {
   "cell_type": "code",
   "execution_count": 10,
   "id": "7544e3fc",
   "metadata": {},
   "outputs": [
    {
     "name": "stdout",
     "output_type": "stream",
     "text": [
      "Connecting to Manifesto Project DB API... \n",
      "Connecting to Manifesto Project DB API... corpus version: 2021-1 \n",
      "Connecting to Manifesto Project DB API... \n",
      "Connecting to Manifesto Project DB API... corpus version: 2021-1 \n",
      "Connecting to Manifesto Project DB API... corpus version: 2021-1 \n",
      "Connecting to Manifesto Project DB API... corpus version: 2021-1 \n"
     ]
    }
   ],
   "source": [
    "party_codes <- c(32061, 32230, 32440, 32460, 32530, 32610, 32630, 32720, 32956, 32450)\n",
    "\n",
    "ita_manifestoes <- mp_corpus(countryname == \"Italy\" & party %in% party_codes)"
   ]
  },
  {
   "cell_type": "markdown",
   "id": "e78b8260",
   "metadata": {},
   "source": [
    "## External validity datasets"
   ]
  },
  {
   "cell_type": "markdown",
   "id": "7c964b97",
   "metadata": {},
   "source": [
    "Let's load the two datasets we'll be using to test the dictionaries' external validity: the Chapel Hill Expert Survey and the PopuList dataset."
   ]
  },
  {
   "cell_type": "code",
   "execution_count": 11,
   "id": "b500975d",
   "metadata": {},
   "outputs": [],
   "source": [
    "ches <- read_csv(\"data/1999-2019_CHES_dataset_means(v2).csv\", show_col_types = FALSE)\n",
    "\n",
    "populist <- readxl::read_xlsx(\"data/populist-version-2-20200626.xlsx\")"
   ]
  },
  {
   "cell_type": "markdown",
   "id": "3887821b",
   "metadata": {},
   "source": [
    "## Stopwords"
   ]
  },
  {
   "cell_type": "markdown",
   "id": "4de77809",
   "metadata": {},
   "source": [
    "Decadri and Boussalis' additional stopwords"
   ]
  },
  {
   "cell_type": "code",
   "execution_count": 12,
   "id": "0cf897fd",
   "metadata": {},
   "outputs": [],
   "source": [
    "db_additional_stopwords  <- suppressMessages(read_csv(\"data/it_stopwords_new_list.csv\")) %>% \n",
    "                            pull(stopwords)"
   ]
  },
  {
   "cell_type": "markdown",
   "id": "4cb42bf8",
   "metadata": {},
   "source": [
    "Procedural stopwords"
   ]
  },
  {
   "cell_type": "code",
   "execution_count": 13,
   "id": "7ad8c424",
   "metadata": {},
   "outputs": [],
   "source": [
    "procedural_stopwords <- suppressMessages(read_csv(\"data/it_stopwords_procedural.csv\")) %>% \n",
    "                        pull(it_stopwords_procedural)"
   ]
  },
  {
   "cell_type": "markdown",
   "id": "94c72402",
   "metadata": {},
   "source": [
    "## Dictionaries"
   ]
  },
  {
   "cell_type": "markdown",
   "id": "29fd5ea2",
   "metadata": {},
   "source": [
    "Rooduijn and Pauwels' dictionary"
   ]
  },
  {
   "cell_type": "code",
   "execution_count": 14,
   "id": "b7fa590c",
   "metadata": {},
   "outputs": [],
   "source": [
    "anti_elitism <- c(\"elit*\", \"consens*\", \"antidemocratic*\", \"referend*\", \"corrot*\", \"propagand*\", \n",
    "                  \"politici*\",\"ingann*\", \"tradi*\", \"vergogn*\", \"scandal*\", \"verita\", \"disonest*\", \n",
    "                  \"partitocrazia\", \"menzogn*\", \"mentir*\")\n",
    "\n",
    "rp_dictionary <- dictionary(list(anti_elitism = anti_elitism))"
   ]
  },
  {
   "cell_type": "markdown",
   "id": "8900bf09",
   "metadata": {},
   "source": [
    "Decadri and Boussalis' dictionary"
   ]
  },
  {
   "cell_type": "code",
   "execution_count": 15,
   "id": "5a2e66e5",
   "metadata": {},
   "outputs": [],
   "source": [
    "anti_elitism <- c(\"antidemocratic*\", \"casta\", \"consens*\", \"corrot*\", \"disonest*\", \"elit*\", \n",
    "                  \"establishment\", \"ingann*\", \"mentir*\", \"menzogn*\", \"partitocrazia\", \"propagand*\", \n",
    "                  \"scandal*\", \"tradim*\", \"tradir*\", \"tradit*\", \"vergogn*\", \"verita\")\n",
    "\n",
    "people_centrism  <- c(\"abitant*\", \"cittadin*\", \"consumator*\", \"contribuent*\", \"elettor*\", \"gente\", \"popol*\")\n",
    "\n",
    "db_dictionary <- dictionary(list(anti_elitism = anti_elitism, \n",
    "                                 people_centrism = people_centrism))"
   ]
  },
  {
   "cell_type": "markdown",
   "id": "e6d4f58d",
   "metadata": {},
   "source": [
    "The integral translation of Grundl's dictionary"
   ]
  },
  {
   "cell_type": "code",
   "execution_count": 16,
   "id": "818d93fb",
   "metadata": {},
   "outputs": [],
   "source": [
    "grundl <- readxl::read_xlsx(\"data/gruendl_terms_Fedra_Silvia_comments3.xlsx\", sheet = 1) %>% \n",
    "filter(!is.na(Italian_integral)) %>% # Removing nulls\n",
    "mutate(Italian_integral = str_split(Italian_integral, ', ')) %>% # Some cells contain more than one value: let's split and unnest everything\n",
    "unnest(cols = c(Italian_integral)) %>% \n",
    "distinct(Italian_integral) %>% # Removing duplicate terms\n",
    "pull(Italian_integral) # Extracting the 'terms' vector\n",
    "\n",
    "g_dictionary <- dictionary(list(populism = grundl))"
   ]
  },
  {
   "cell_type": "markdown",
   "id": "0ddc7964",
   "metadata": {},
   "source": [
    "Grundl's dictionary translated and adapted to fit the Italian context"
   ]
  },
  {
   "cell_type": "code",
   "execution_count": 17,
   "id": "3adffa1e",
   "metadata": {},
   "outputs": [],
   "source": [
    "dbg <- readxl::read_xlsx(\"data/gruendl_terms_Fedra_Silvia_comments3.xlsx\", sheet = 1) %>% \n",
    "filter(!is.na(Decadri_Boussalis_Grundl)) %>% \n",
    "mutate(Decadri_Boussalis_Grundl = str_split(Decadri_Boussalis_Grundl, ', ')) %>% \n",
    "unnest(cols = c(Decadri_Boussalis_Grundl)) %>% \n",
    "distinct(Decadri_Boussalis_Grundl) %>% \n",
    "pull(Decadri_Boussalis_Grundl)\n",
    "\n",
    "dbg_dictionary <- dictionary(list(populism = dbg))"
   ]
  },
  {
   "cell_type": "markdown",
   "id": "c0862500",
   "metadata": {},
   "source": [
    "# Preprocessing <a class=\"anchor\" id=\"chapter3\"></a>"
   ]
  },
  {
   "cell_type": "markdown",
   "id": "436f5c89",
   "metadata": {},
   "source": [
    "## Speeches dataset"
   ]
  },
  {
   "cell_type": "markdown",
   "id": "793d21fe",
   "metadata": {},
   "source": [
    "Creating the corpus"
   ]
  },
  {
   "cell_type": "code",
   "execution_count": 18,
   "id": "086dab3e",
   "metadata": {},
   "outputs": [],
   "source": [
    "speeches_corpus <- corpus(texts, text_field = \"textclean\")"
   ]
  },
  {
   "cell_type": "markdown",
   "id": "fef42baf",
   "metadata": {},
   "source": [
    "Tokenizing the corpus, removing stopwords and grouping the tokens by the 'year' and 'gruppoP' variables"
   ]
  },
  {
   "cell_type": "code",
   "execution_count": 19,
   "id": "2f3e623d",
   "metadata": {},
   "outputs": [],
   "source": [
    "speeches_toks <- speeches_corpus %>% \n",
    "                 tokens(., remove_punct = TRUE, remove_symbols = TRUE, remove_numbers = TRUE, remove_separators = TRUE)  %>% \n",
    "                 tokens_remove(., pattern = stopwords(\"it\"), padding = TRUE) %>% \n",
    "                 tokens_remove(., pattern = db_additional_stopwords) %>% \n",
    "                 tokens_remove(., pattern = procedural_stopwords) %>% \n",
    "                 quanteda:::tokens_group(x = ., groups = c('year', 'gruppoP'))"
   ]
  },
  {
   "cell_type": "markdown",
   "id": "a4d9c4a5",
   "metadata": {},
   "source": [
    "## Manifesto project dataset"
   ]
  },
  {
   "cell_type": "markdown",
   "id": "1d47cc2e",
   "metadata": {},
   "source": [
    "Creating the corpus, tokenizing it, removing stopwords and grouping the tokens by the 'party' variable"
   ]
  },
  {
   "cell_type": "code",
   "execution_count": 20,
   "id": "8f4f4412",
   "metadata": {},
   "outputs": [],
   "source": [
    "manifesto_corpus <- corpus(ita_manifestoes)\n",
    "\n",
    "manifesto_toks <- manifesto_corpus %>% \n",
    "                  tokens(., remove_punct = TRUE, remove_symbols = TRUE, remove_numbers = TRUE, remove_separators = TRUE)  %>% \n",
    "                  tokens_remove(., pattern = stopwords(\"it\"), padding = TRUE) %>% \n",
    "                  tokens_remove(., pattern = db_additional_stopwords) %>% \n",
    "                  tokens_remove(., pattern = procedural_stopwords) %>% \n",
    "                  quanteda:::tokens_group(x = ., groups = 'party')"
   ]
  },
  {
   "cell_type": "markdown",
   "id": "df5ad07d",
   "metadata": {},
   "source": [
    "# Wrapper function <a class=\"anchor\" id=\"chapter4\"></a>"
   ]
  },
  {
   "cell_type": "code",
   "execution_count": 21,
   "id": "f5a3e3b1",
   "metadata": {},
   "outputs": [],
   "source": [
    "dict_analysis <- function(tokens, data, dictionary) {\n",
    "        \n",
    "  # Applying Rooduijn and Pauwels' dictionary to the speeches dataset\n",
    "  \n",
    "  if (data == \"speeches\" & dictionary == \"Rooduijn_Pauwels\") {\n",
    "    \n",
    "  my_dfm <- tokens_lookup(x = tokens, dictionary = rp_dictionary) %>% \n",
    "            dfm(.)  %>% \n",
    "            convert(., to = \"data.frame\") %>% \n",
    "            mutate(year = docvars(tokens)$year,\n",
    "                   party = docvars(tokens)$gruppoP,\n",
    "                   cluster = docvars(tokens)$group_cluster,\n",
    "                   total_toks = ntoken(tokens),\n",
    "                   perc_of_populist_toks = anti_elitism / total_toks,\n",
    "                   standardized_perc_of_populist_toks = as.double(scale(perc_of_populist_toks))) %>% \n",
    "            relocate(doc_id, year, party, cluster, anti_elitism, total_toks, perc_of_populist_toks, \n",
    "                     standardized_perc_of_populist_toks) %>% \n",
    "            as_tibble()\n",
    "\n",
    "  }\n",
    "    \n",
    "  # Applying Decadri and Boussalis' dictionary to the speeches dataset\n",
    "  \n",
    "  if (data == 'speeches' & dictionary == \"Decadri_Boussalis\") {\n",
    "    \n",
    "    my_dict_lookup <- \n",
    "    \n",
    "    my_dfm <- tokens_lookup(x = tokens, dictionary = db_dictionary) %>% \n",
    "              dfm(.) %>% \n",
    "              convert(., to = \"data.frame\") %>% \n",
    "              mutate(year = docvars(tokens)$year,\n",
    "                     party = docvars(tokens)$gruppoP,\n",
    "                     cluster = docvars(tokens)$group_cluster,\n",
    "                     populist_toks = anti_elitism + people_centrism,\n",
    "                     total_toks = ntoken(tokens),\n",
    "                     perc_of_populist_toks = populist_toks / total_toks,\n",
    "                     standardized_perc_of_populist_toks = as.double(scale(perc_of_populist_toks))) %>% \n",
    "              relocate(doc_id, year, party, cluster, anti_elitism, people_centrism, populist_toks,\n",
    "                       total_toks, perc_of_populist_toks, standardized_perc_of_populist_toks) %>% \n",
    "              as_tibble()\n",
    "    \n",
    "  }\n",
    "    \n",
    "  # Applying Grundl's dictionary\n",
    "    \n",
    "  if (data == \"manifesto\" & dictionary == \"Grundl\") {\n",
    "      \n",
    "      my_dfm <- tokens_lookup(x = tokens, dictionary = g_dictionary) %>% \n",
    "                dfm(.)  %>% \n",
    "                convert(., to = \"data.frame\")  %>% \n",
    "                rename(party = doc_id) %>% \n",
    "                mutate(party = case_when(\n",
    "                                           party == '32630' ~ 'FDI-CDN', \n",
    "                                           party == '32610' ~ 'FI',\n",
    "                                           party == '32720' ~ 'LN',\n",
    "                                           party == '32956' ~ 'M5S',\n",
    "                                           party == '32061' ~ 'PdL',\n",
    "                                           party == '32460' ~ 'SC',\n",
    "                                           party == '32450' ~ 'CD',\n",
    "                                           party == '32530' ~ 'UDC',\n",
    "                                           party == '32230' ~ 'SEL',\n",
    "                                           party == '32440' ~ 'PD'),\n",
    "                       total_toks = ntoken(tokens),\n",
    "                       perc_of_populist_toks = populism / total_toks,\n",
    "                       standardized_perc_of_populist_toks = as.double(scale(perc_of_populist_toks))) %>% \n",
    "               arrange(desc(perc_of_populist_toks)) %>% \n",
    "               as_tibble()\n",
    "  }\n",
    "    \n",
    "  if (data == \"manifesto\" & dictionary == \"Decadri_Boussalis\") {\n",
    "      \n",
    "      my_dfm <- tokens_lookup(x = tokens, dictionary = db_dictionary) %>% \n",
    "                dfm(.) %>% \n",
    "                convert(., to = \"data.frame\") %>% \n",
    "                rename(party = doc_id) %>% \n",
    "                mutate(party = case_when(\n",
    "                                           party == '32630' ~ 'FDI-CDN', \n",
    "                                           party == '32610' ~ 'FI',\n",
    "                                           party == '32720' ~ 'LN',\n",
    "                                           party == '32956' ~ 'M5S',\n",
    "                                           party == '32061' ~ 'PdL',\n",
    "                                           party == '32460' ~ 'SC',\n",
    "                                           party == '32450' ~ 'CD',\n",
    "                                           party == '32530' ~ 'UDC',\n",
    "                                           party == '32230' ~ 'SEL',\n",
    "                                           party == '32440' ~ 'PD'),\n",
    "                       total_toks = ntoken(tokens),\n",
    "                       populist_toks = anti_elitism + people_centrism,\n",
    "                       perc_of_populist_toks = populist_toks / total_toks,\n",
    "                       standardized_perc_of_populist_toks = as.double(scale(perc_of_populist_toks))) %>% \n",
    "                arrange(desc(perc_of_populist_toks)) %>% \n",
    "                as_tibble()\n",
    "  }\n",
    "    \n",
    "    \n",
    "  if (data == \"manifesto\" & dictionary == \"Decadri_Boussalis_Grundl\") {\n",
    "      \n",
    "      my_dfm <- tokens_lookup(x = tokens, dictionary = dbg_dictionary) %>% \n",
    "                dfm(.) %>% \n",
    "                convert(., to = \"data.frame\") %>% \n",
    "                rename(party = doc_id) %>% \n",
    "                mutate(party = case_when(\n",
    "                                           party == '32630' ~ 'FDI-CDN', \n",
    "                                           party == '32610' ~ 'FI',\n",
    "                                           party == '32720' ~ 'LN',\n",
    "                                           party == '32956' ~ 'M5S',\n",
    "                                           party == '32061' ~ 'PdL',\n",
    "                                           party == '32460' ~ 'SC',\n",
    "                                           party == '32450' ~ 'CD',\n",
    "                                           party == '32530' ~ 'UDC',\n",
    "                                           party == '32230' ~ 'SEL',\n",
    "                                           party == '32440' ~ 'PD'),\n",
    "                       total_toks = ntoken(tokens),\n",
    "                       perc_of_populist_toks = populism / total_toks,\n",
    "                       standardized_perc_of_populist_toks = as.double(scale(perc_of_populist_toks))) %>% \n",
    "                arrange(desc(perc_of_populist_toks)) %>% \n",
    "                as_tibble()\n",
    "  }  \n",
    "  \n",
    "  return(my_dfm)\n",
    "    \n",
    "  \n",
    "}\n"
   ]
  },
  {
   "cell_type": "markdown",
   "id": "87740287",
   "metadata": {},
   "source": [
    "# Rooduijn & Pauwels (speeches dataset) <a class=\"anchor\" id=\"chapter5\"></a>"
   ]
  },
  {
   "cell_type": "markdown",
   "id": "be198dd3",
   "metadata": {},
   "source": [
    "Let's run the dictionary analysis by using Roodujin and Pauwels' dictionary"
   ]
  },
  {
   "cell_type": "code",
   "execution_count": 22,
   "id": "77e1ce64",
   "metadata": {},
   "outputs": [],
   "source": [
    "df_rp <- dict_analysis(tokens = speeches_toks, data = \"speeches\", dictionary = \"Rooduijn_Pauwels\")"
   ]
  },
  {
   "cell_type": "markdown",
   "id": "4916e01c",
   "metadata": {},
   "source": [
    "The first rows of the dataframe"
   ]
  },
  {
   "cell_type": "code",
   "execution_count": 23,
   "id": "cc66e075",
   "metadata": {},
   "outputs": [
    {
     "data": {
      "text/html": [
       "<table class=\"dataframe\">\n",
       "<caption>A tibble: 6 × 8</caption>\n",
       "<thead>\n",
       "\t<tr><th scope=col>doc_id</th><th scope=col>year</th><th scope=col>party</th><th scope=col>cluster</th><th scope=col>anti_elitism</th><th scope=col>total_toks</th><th scope=col>perc_of_populist_toks</th><th scope=col>standardized_perc_of_populist_toks</th></tr>\n",
       "\t<tr><th scope=col>&lt;chr&gt;</th><th scope=col>&lt;int&gt;</th><th scope=col>&lt;chr&gt;</th><th scope=col>&lt;chr&gt;</th><th scope=col>&lt;dbl&gt;</th><th scope=col>&lt;int&gt;</th><th scope=col>&lt;dbl&gt;</th><th scope=col>&lt;dbl&gt;</th></tr>\n",
       "</thead>\n",
       "<tbody>\n",
       "\t<tr><td>1994.AN</td><td>1994</td><td>AN</td><td>8_evolutionGroup</td><td>245</td><td>206560</td><td>0.0011860960</td><td> 0.393522189</td></tr>\n",
       "\t<tr><td>1995.AN</td><td>1995</td><td>AN</td><td>8_evolutionGroup</td><td>508</td><td>350039</td><td>0.0014512669</td><td> 0.915699643</td></tr>\n",
       "\t<tr><td>1996.AN</td><td>1996</td><td>AN</td><td>8_evolutionGroup</td><td>229</td><td>272610</td><td>0.0008400279</td><td>-0.287959295</td></tr>\n",
       "\t<tr><td>1997.AN</td><td>1997</td><td>AN</td><td>8_evolutionGroup</td><td>414</td><td>381823</td><td>0.0010842720</td><td> 0.193009144</td></tr>\n",
       "\t<tr><td>1998.AN</td><td>1998</td><td>AN</td><td>8_evolutionGroup</td><td>370</td><td>373426</td><td>0.0009908255</td><td> 0.008993126</td></tr>\n",
       "\t<tr><td>1999.AN</td><td>1999</td><td>AN</td><td>8_evolutionGroup</td><td>472</td><td>399795</td><td>0.0011806051</td><td> 0.382709268</td></tr>\n",
       "</tbody>\n",
       "</table>\n"
      ],
      "text/latex": [
       "A tibble: 6 × 8\n",
       "\\begin{tabular}{llllllll}\n",
       " doc\\_id & year & party & cluster & anti\\_elitism & total\\_toks & perc\\_of\\_populist\\_toks & standardized\\_perc\\_of\\_populist\\_toks\\\\\n",
       " <chr> & <int> & <chr> & <chr> & <dbl> & <int> & <dbl> & <dbl>\\\\\n",
       "\\hline\n",
       "\t 1994.AN & 1994 & AN & 8\\_evolutionGroup & 245 & 206560 & 0.0011860960 &  0.393522189\\\\\n",
       "\t 1995.AN & 1995 & AN & 8\\_evolutionGroup & 508 & 350039 & 0.0014512669 &  0.915699643\\\\\n",
       "\t 1996.AN & 1996 & AN & 8\\_evolutionGroup & 229 & 272610 & 0.0008400279 & -0.287959295\\\\\n",
       "\t 1997.AN & 1997 & AN & 8\\_evolutionGroup & 414 & 381823 & 0.0010842720 &  0.193009144\\\\\n",
       "\t 1998.AN & 1998 & AN & 8\\_evolutionGroup & 370 & 373426 & 0.0009908255 &  0.008993126\\\\\n",
       "\t 1999.AN & 1999 & AN & 8\\_evolutionGroup & 472 & 399795 & 0.0011806051 &  0.382709268\\\\\n",
       "\\end{tabular}\n"
      ],
      "text/markdown": [
       "\n",
       "A tibble: 6 × 8\n",
       "\n",
       "| doc_id &lt;chr&gt; | year &lt;int&gt; | party &lt;chr&gt; | cluster &lt;chr&gt; | anti_elitism &lt;dbl&gt; | total_toks &lt;int&gt; | perc_of_populist_toks &lt;dbl&gt; | standardized_perc_of_populist_toks &lt;dbl&gt; |\n",
       "|---|---|---|---|---|---|---|---|\n",
       "| 1994.AN | 1994 | AN | 8_evolutionGroup | 245 | 206560 | 0.0011860960 |  0.393522189 |\n",
       "| 1995.AN | 1995 | AN | 8_evolutionGroup | 508 | 350039 | 0.0014512669 |  0.915699643 |\n",
       "| 1996.AN | 1996 | AN | 8_evolutionGroup | 229 | 272610 | 0.0008400279 | -0.287959295 |\n",
       "| 1997.AN | 1997 | AN | 8_evolutionGroup | 414 | 381823 | 0.0010842720 |  0.193009144 |\n",
       "| 1998.AN | 1998 | AN | 8_evolutionGroup | 370 | 373426 | 0.0009908255 |  0.008993126 |\n",
       "| 1999.AN | 1999 | AN | 8_evolutionGroup | 472 | 399795 | 0.0011806051 |  0.382709268 |\n",
       "\n"
      ],
      "text/plain": [
       "  doc_id  year party cluster          anti_elitism total_toks\n",
       "1 1994.AN 1994 AN    8_evolutionGroup 245          206560    \n",
       "2 1995.AN 1995 AN    8_evolutionGroup 508          350039    \n",
       "3 1996.AN 1996 AN    8_evolutionGroup 229          272610    \n",
       "4 1997.AN 1997 AN    8_evolutionGroup 414          381823    \n",
       "5 1998.AN 1998 AN    8_evolutionGroup 370          373426    \n",
       "6 1999.AN 1999 AN    8_evolutionGroup 472          399795    \n",
       "  perc_of_populist_toks standardized_perc_of_populist_toks\n",
       "1 0.0011860960           0.393522189                      \n",
       "2 0.0014512669           0.915699643                      \n",
       "3 0.0008400279          -0.287959295                      \n",
       "4 0.0010842720           0.193009144                      \n",
       "5 0.0009908255           0.008993126                      \n",
       "6 0.0011806051           0.382709268                      "
      ]
     },
     "metadata": {},
     "output_type": "display_data"
    }
   ],
   "source": [
    "head(df_rp)"
   ]
  },
  {
   "cell_type": "markdown",
   "id": "41f70a3d",
   "metadata": {},
   "source": [
    "## Construct validity <a class=\"anchor\" id=\"subparagraph1\"></a>"
   ]
  },
  {
   "cell_type": "markdown",
   "id": "bd915c9b",
   "metadata": {},
   "source": [
    "Rooduijn and Pauwels' dictionary captures the \"anti-elitism\" component of populism, but not the \"people-centrism\" one. As a result, from a construct validity standpoint, it is only partially valid. The authors motivated the decision to leave out the \"people-centrism\" dimension by pointing out that the \"people\" is often referenced to by words such as \"us\", \"we\" and \"our\" which are also used to reference entities other than the people (such as political parties). The inclusion of these words in the dictionary, they argue, would result in a large number of false positives."
   ]
  },
  {
   "cell_type": "markdown",
   "id": "846f02ad",
   "metadata": {},
   "source": [
    "## Face validity <a class=\"anchor\" id=\"subparagraph2\"></a>"
   ]
  },
  {
   "cell_type": "markdown",
   "id": "31ede05e",
   "metadata": {},
   "source": [
    "A populist dictionary has face validity if the allegedly populist parties are indeed populist. In the Italian case, we would expect populist values to be higher for parties that the literature deems populist (i.e. Five Star Movement, Lega Nord, Forza Italia and Il Popolo delle Libertà)."
   ]
  },
  {
   "cell_type": "markdown",
   "id": "4914bb60",
   "metadata": {},
   "source": [
    "The following are the 20 party-year combinations with the highest populist score in the 1994-2021 period. Consistently with our expectations, we find populist parties such as FdI-AN (2014), Forza Italia (2019), FdI-AN (2013) and FdI-AN (2017). However, we also find mainstream parties such as UDC (2009), SI-SEL-POS-LU (2018), IV (2018), PD (2018) and PD (2019). These results could be interpreted as evidence of either populist contagion or lack of face validity. The absence of M5S and Lega among the most populist parties makes me lean towards the latter."
   ]
  },
  {
   "cell_type": "code",
   "execution_count": 24,
   "id": "51d30879",
   "metadata": {},
   "outputs": [
    {
     "data": {
      "text/html": [
       "<table class=\"dataframe\">\n",
       "<caption>A tibble: 20 × 8</caption>\n",
       "<thead>\n",
       "\t<tr><th scope=col>doc_id</th><th scope=col>year</th><th scope=col>party</th><th scope=col>cluster</th><th scope=col>anti_elitism</th><th scope=col>total_toks</th><th scope=col>perc_of_populist_toks</th><th scope=col>standardized_perc_of_populist_toks</th></tr>\n",
       "\t<tr><th scope=col>&lt;chr&gt;</th><th scope=col>&lt;int&gt;</th><th scope=col>&lt;chr&gt;</th><th scope=col>&lt;chr&gt;</th><th scope=col>&lt;dbl&gt;</th><th scope=col>&lt;int&gt;</th><th scope=col>&lt;dbl&gt;</th><th scope=col>&lt;dbl&gt;</th></tr>\n",
       "</thead>\n",
       "<tbody>\n",
       "\t<tr><td>2009.UNIONE DEI DEMOCRATICI CRISTIANI E DEI DEMOCRATICI DI CENTRO                                                                                                </td><td>2009</td><td>UNIONE DEI DEMOCRATICI CRISTIANI E DEI DEMOCRATICI DI CENTRO                                                                                                </td><td>2_evolutionGroup </td><td>  1</td><td>   188</td><td>0.005319149</td><td>8.532378</td></tr>\n",
       "\t<tr><td>1996.FLD                                                                                                                                                         </td><td>1996</td><td>FLD                                                                                                                                                         </td><td>10_evolutionGroup</td><td> 11</td><td>  2894</td><td>0.003800968</td><td>5.542758</td></tr>\n",
       "\t<tr><td>1996.PPI                                                                                                                                                         </td><td>1996</td><td>PPI                                                                                                                                                         </td><td>2_evolutionGroup </td><td> 34</td><td>  9296</td><td>0.003657487</td><td>5.260214</td></tr>\n",
       "\t<tr><td>2018.SI-SEL-POS-LU                                                                                                                                               </td><td>2018</td><td>SI-SEL-POS-LU                                                                                                                                               </td><td>12_evolutionGroup</td><td>  7</td><td>  2189</td><td>0.003197807</td><td>4.355007</td></tr>\n",
       "\t<tr><td>2009.PD-U                                                                                                                                                        </td><td>2009</td><td>PD-U                                                                                                                                                        </td><td>1_evolutionGroup </td><td>  3</td><td>  1188</td><td>0.002525253</td><td>3.030605</td></tr>\n",
       "\t<tr><td>1995.FLD                                                                                                                                                         </td><td>1995</td><td>FLD                                                                                                                                                         </td><td>10_evolutionGroup</td><td>120</td><td> 57421</td><td>0.002089828</td><td>2.173161</td></tr>\n",
       "\t<tr><td>2000.DEM-U                                                                                                                                                       </td><td>2000</td><td>DEM-U                                                                                                                                                       </td><td>2_evolutionGroup </td><td>108</td><td> 52222</td><td>0.002068094</td><td>2.130363</td></tr>\n",
       "\t<tr><td>2016.SI-SEL-POS-LU                                                                                                                                               </td><td>2016</td><td>SI-SEL-POS-LU                                                                                                                                               </td><td>12_evolutionGroup</td><td>173</td><td> 84377</td><td>0.002050322</td><td>2.095366</td></tr>\n",
       "\t<tr><td>2014.FDI-AN                                                                                                                                                      </td><td>2014</td><td>FDI-AN                                                                                                                                                      </td><td>8_evolutionGroup </td><td> 99</td><td> 51695</td><td>0.001915079</td><td>1.829044</td></tr>\n",
       "\t<tr><td>2019.FI                                                                                                                                                          </td><td>2019</td><td>FI                                                                                                                                                          </td><td>9_evolutionGroup </td><td>949</td><td>533560</td><td>0.001778619</td><td>1.560325</td></tr>\n",
       "\t<tr><td>1995.DEMO                                                                                                                                                        </td><td>1995</td><td>DEMO                                                                                                                                                        </td><td>2_evolutionGroup </td><td> 85</td><td> 49325</td><td>0.001723264</td><td>1.451320</td></tr>\n",
       "\t<tr><td>1996.PROGR-F                                                                                                                                                     </td><td>1996</td><td>PROGR-F                                                                                                                                                     </td><td>1_evolutionGroup </td><td> 46</td><td> 26734</td><td>0.001720655</td><td>1.446183</td></tr>\n",
       "\t<tr><td>2018.PD                                                                                                                                                          </td><td>2018</td><td>PD                                                                                                                                                          </td><td>1_evolutionGroup </td><td>516</td><td>300098</td><td>0.001719438</td><td>1.443786</td></tr>\n",
       "\t<tr><td>2013.FDI-AN                                                                                                                                                      </td><td>2013</td><td>FDI-AN                                                                                                                                                      </td><td>8_evolutionGroup </td><td> 70</td><td> 41498</td><td>0.001686828</td><td>1.379570</td></tr>\n",
       "\t<tr><td>2011.NOI SUD-LIBERTA' ED AUTONOMIA/POPOLARI D'ITALIA DOMANI-PID/MOVIMENTO DI RESPONSABILITA' NAZIONALE-MRN/AZIONE POPOLARE/ALLEANZA DI CENTRO-ADC/INTESA POPOLARE</td><td>2011</td><td>NOI SUD-LIBERTA' ED AUTONOMIA/POPOLARI D'ITALIA DOMANI-PID/MOVIMENTO DI RESPONSABILITA' NAZIONALE-MRN/AZIONE POPOLARE/ALLEANZA DI CENTRO-ADC/INTESA POPOLARE</td><td>2_evolutionGroup </td><td> 90</td><td> 54866</td><td>0.001640360</td><td>1.288064</td></tr>\n",
       "\t<tr><td>2018.IV                                                                                                                                                          </td><td>2018</td><td>IV                                                                                                                                                          </td><td>2_evolutionGroup </td><td> 96</td><td> 58631</td><td>0.001637359</td><td>1.282155</td></tr>\n",
       "\t<tr><td>2019.PD                                                                                                                                                          </td><td>2019</td><td>PD                                                                                                                                                          </td><td>1_evolutionGroup </td><td>888</td><td>557509</td><td>0.001592799</td><td>1.194407</td></tr>\n",
       "\t<tr><td>2000.RINN/IT                                                                                                                                                     </td><td>2000</td><td>RINN/IT                                                                                                                                                     </td><td>3_evolutionGroup </td><td> 46</td><td> 28958</td><td>0.001588507</td><td>1.185956</td></tr>\n",
       "\t<tr><td>1996.DEMO                                                                                                                                                        </td><td>1996</td><td>DEMO                                                                                                                                                        </td><td>2_evolutionGroup </td><td>  4</td><td>  2599</td><td>0.001539053</td><td>1.088570</td></tr>\n",
       "\t<tr><td>2017.FDI-AN                                                                                                                                                      </td><td>2017</td><td>FDI-AN                                                                                                                                                      </td><td>8_evolutionGroup </td><td> 58</td><td> 38123</td><td>0.001521391</td><td>1.053789</td></tr>\n",
       "</tbody>\n",
       "</table>\n"
      ],
      "text/latex": [
       "A tibble: 20 × 8\n",
       "\\begin{tabular}{llllllll}\n",
       " doc\\_id & year & party & cluster & anti\\_elitism & total\\_toks & perc\\_of\\_populist\\_toks & standardized\\_perc\\_of\\_populist\\_toks\\\\\n",
       " <chr> & <int> & <chr> & <chr> & <dbl> & <int> & <dbl> & <dbl>\\\\\n",
       "\\hline\n",
       "\t 2009.UNIONE DEI DEMOCRATICI CRISTIANI E DEI DEMOCRATICI DI CENTRO                                                                                                 & 2009 & UNIONE DEI DEMOCRATICI CRISTIANI E DEI DEMOCRATICI DI CENTRO                                                                                                 & 2\\_evolutionGroup  &   1 &    188 & 0.005319149 & 8.532378\\\\\n",
       "\t 1996.FLD                                                                                                                                                          & 1996 & FLD                                                                                                                                                          & 10\\_evolutionGroup &  11 &   2894 & 0.003800968 & 5.542758\\\\\n",
       "\t 1996.PPI                                                                                                                                                          & 1996 & PPI                                                                                                                                                          & 2\\_evolutionGroup  &  34 &   9296 & 0.003657487 & 5.260214\\\\\n",
       "\t 2018.SI-SEL-POS-LU                                                                                                                                                & 2018 & SI-SEL-POS-LU                                                                                                                                                & 12\\_evolutionGroup &   7 &   2189 & 0.003197807 & 4.355007\\\\\n",
       "\t 2009.PD-U                                                                                                                                                         & 2009 & PD-U                                                                                                                                                         & 1\\_evolutionGroup  &   3 &   1188 & 0.002525253 & 3.030605\\\\\n",
       "\t 1995.FLD                                                                                                                                                          & 1995 & FLD                                                                                                                                                          & 10\\_evolutionGroup & 120 &  57421 & 0.002089828 & 2.173161\\\\\n",
       "\t 2000.DEM-U                                                                                                                                                        & 2000 & DEM-U                                                                                                                                                        & 2\\_evolutionGroup  & 108 &  52222 & 0.002068094 & 2.130363\\\\\n",
       "\t 2016.SI-SEL-POS-LU                                                                                                                                                & 2016 & SI-SEL-POS-LU                                                                                                                                                & 12\\_evolutionGroup & 173 &  84377 & 0.002050322 & 2.095366\\\\\n",
       "\t 2014.FDI-AN                                                                                                                                                       & 2014 & FDI-AN                                                                                                                                                       & 8\\_evolutionGroup  &  99 &  51695 & 0.001915079 & 1.829044\\\\\n",
       "\t 2019.FI                                                                                                                                                           & 2019 & FI                                                                                                                                                           & 9\\_evolutionGroup  & 949 & 533560 & 0.001778619 & 1.560325\\\\\n",
       "\t 1995.DEMO                                                                                                                                                         & 1995 & DEMO                                                                                                                                                         & 2\\_evolutionGroup  &  85 &  49325 & 0.001723264 & 1.451320\\\\\n",
       "\t 1996.PROGR-F                                                                                                                                                      & 1996 & PROGR-F                                                                                                                                                      & 1\\_evolutionGroup  &  46 &  26734 & 0.001720655 & 1.446183\\\\\n",
       "\t 2018.PD                                                                                                                                                           & 2018 & PD                                                                                                                                                           & 1\\_evolutionGroup  & 516 & 300098 & 0.001719438 & 1.443786\\\\\n",
       "\t 2013.FDI-AN                                                                                                                                                       & 2013 & FDI-AN                                                                                                                                                       & 8\\_evolutionGroup  &  70 &  41498 & 0.001686828 & 1.379570\\\\\n",
       "\t 2011.NOI SUD-LIBERTA' ED AUTONOMIA/POPOLARI D'ITALIA DOMANI-PID/MOVIMENTO DI RESPONSABILITA' NAZIONALE-MRN/AZIONE POPOLARE/ALLEANZA DI CENTRO-ADC/INTESA POPOLARE & 2011 & NOI SUD-LIBERTA' ED AUTONOMIA/POPOLARI D'ITALIA DOMANI-PID/MOVIMENTO DI RESPONSABILITA' NAZIONALE-MRN/AZIONE POPOLARE/ALLEANZA DI CENTRO-ADC/INTESA POPOLARE & 2\\_evolutionGroup  &  90 &  54866 & 0.001640360 & 1.288064\\\\\n",
       "\t 2018.IV                                                                                                                                                           & 2018 & IV                                                                                                                                                           & 2\\_evolutionGroup  &  96 &  58631 & 0.001637359 & 1.282155\\\\\n",
       "\t 2019.PD                                                                                                                                                           & 2019 & PD                                                                                                                                                           & 1\\_evolutionGroup  & 888 & 557509 & 0.001592799 & 1.194407\\\\\n",
       "\t 2000.RINN/IT                                                                                                                                                      & 2000 & RINN/IT                                                                                                                                                      & 3\\_evolutionGroup  &  46 &  28958 & 0.001588507 & 1.185956\\\\\n",
       "\t 1996.DEMO                                                                                                                                                         & 1996 & DEMO                                                                                                                                                         & 2\\_evolutionGroup  &   4 &   2599 & 0.001539053 & 1.088570\\\\\n",
       "\t 2017.FDI-AN                                                                                                                                                       & 2017 & FDI-AN                                                                                                                                                       & 8\\_evolutionGroup  &  58 &  38123 & 0.001521391 & 1.053789\\\\\n",
       "\\end{tabular}\n"
      ],
      "text/markdown": [
       "\n",
       "A tibble: 20 × 8\n",
       "\n",
       "| doc_id &lt;chr&gt; | year &lt;int&gt; | party &lt;chr&gt; | cluster &lt;chr&gt; | anti_elitism &lt;dbl&gt; | total_toks &lt;int&gt; | perc_of_populist_toks &lt;dbl&gt; | standardized_perc_of_populist_toks &lt;dbl&gt; |\n",
       "|---|---|---|---|---|---|---|---|\n",
       "| 2009.UNIONE DEI DEMOCRATICI CRISTIANI E DEI DEMOCRATICI DI CENTRO                                                                                                 | 2009 | UNIONE DEI DEMOCRATICI CRISTIANI E DEI DEMOCRATICI DI CENTRO                                                                                                 | 2_evolutionGroup  |   1 |    188 | 0.005319149 | 8.532378 |\n",
       "| 1996.FLD                                                                                                                                                          | 1996 | FLD                                                                                                                                                          | 10_evolutionGroup |  11 |   2894 | 0.003800968 | 5.542758 |\n",
       "| 1996.PPI                                                                                                                                                          | 1996 | PPI                                                                                                                                                          | 2_evolutionGroup  |  34 |   9296 | 0.003657487 | 5.260214 |\n",
       "| 2018.SI-SEL-POS-LU                                                                                                                                                | 2018 | SI-SEL-POS-LU                                                                                                                                                | 12_evolutionGroup |   7 |   2189 | 0.003197807 | 4.355007 |\n",
       "| 2009.PD-U                                                                                                                                                         | 2009 | PD-U                                                                                                                                                         | 1_evolutionGroup  |   3 |   1188 | 0.002525253 | 3.030605 |\n",
       "| 1995.FLD                                                                                                                                                          | 1995 | FLD                                                                                                                                                          | 10_evolutionGroup | 120 |  57421 | 0.002089828 | 2.173161 |\n",
       "| 2000.DEM-U                                                                                                                                                        | 2000 | DEM-U                                                                                                                                                        | 2_evolutionGroup  | 108 |  52222 | 0.002068094 | 2.130363 |\n",
       "| 2016.SI-SEL-POS-LU                                                                                                                                                | 2016 | SI-SEL-POS-LU                                                                                                                                                | 12_evolutionGroup | 173 |  84377 | 0.002050322 | 2.095366 |\n",
       "| 2014.FDI-AN                                                                                                                                                       | 2014 | FDI-AN                                                                                                                                                       | 8_evolutionGroup  |  99 |  51695 | 0.001915079 | 1.829044 |\n",
       "| 2019.FI                                                                                                                                                           | 2019 | FI                                                                                                                                                           | 9_evolutionGroup  | 949 | 533560 | 0.001778619 | 1.560325 |\n",
       "| 1995.DEMO                                                                                                                                                         | 1995 | DEMO                                                                                                                                                         | 2_evolutionGroup  |  85 |  49325 | 0.001723264 | 1.451320 |\n",
       "| 1996.PROGR-F                                                                                                                                                      | 1996 | PROGR-F                                                                                                                                                      | 1_evolutionGroup  |  46 |  26734 | 0.001720655 | 1.446183 |\n",
       "| 2018.PD                                                                                                                                                           | 2018 | PD                                                                                                                                                           | 1_evolutionGroup  | 516 | 300098 | 0.001719438 | 1.443786 |\n",
       "| 2013.FDI-AN                                                                                                                                                       | 2013 | FDI-AN                                                                                                                                                       | 8_evolutionGroup  |  70 |  41498 | 0.001686828 | 1.379570 |\n",
       "| 2011.NOI SUD-LIBERTA' ED AUTONOMIA/POPOLARI D'ITALIA DOMANI-PID/MOVIMENTO DI RESPONSABILITA' NAZIONALE-MRN/AZIONE POPOLARE/ALLEANZA DI CENTRO-ADC/INTESA POPOLARE | 2011 | NOI SUD-LIBERTA' ED AUTONOMIA/POPOLARI D'ITALIA DOMANI-PID/MOVIMENTO DI RESPONSABILITA' NAZIONALE-MRN/AZIONE POPOLARE/ALLEANZA DI CENTRO-ADC/INTESA POPOLARE | 2_evolutionGroup  |  90 |  54866 | 0.001640360 | 1.288064 |\n",
       "| 2018.IV                                                                                                                                                           | 2018 | IV                                                                                                                                                           | 2_evolutionGroup  |  96 |  58631 | 0.001637359 | 1.282155 |\n",
       "| 2019.PD                                                                                                                                                           | 2019 | PD                                                                                                                                                           | 1_evolutionGroup  | 888 | 557509 | 0.001592799 | 1.194407 |\n",
       "| 2000.RINN/IT                                                                                                                                                      | 2000 | RINN/IT                                                                                                                                                      | 3_evolutionGroup  |  46 |  28958 | 0.001588507 | 1.185956 |\n",
       "| 1996.DEMO                                                                                                                                                         | 1996 | DEMO                                                                                                                                                         | 2_evolutionGroup  |   4 |   2599 | 0.001539053 | 1.088570 |\n",
       "| 2017.FDI-AN                                                                                                                                                       | 2017 | FDI-AN                                                                                                                                                       | 8_evolutionGroup  |  58 |  38123 | 0.001521391 | 1.053789 |\n",
       "\n"
      ],
      "text/plain": [
       "   doc_id                                                                                                                                                           \n",
       "1  2009.UNIONE DEI DEMOCRATICI CRISTIANI E DEI DEMOCRATICI DI CENTRO                                                                                                \n",
       "2  1996.FLD                                                                                                                                                         \n",
       "3  1996.PPI                                                                                                                                                         \n",
       "4  2018.SI-SEL-POS-LU                                                                                                                                               \n",
       "5  2009.PD-U                                                                                                                                                        \n",
       "6  1995.FLD                                                                                                                                                         \n",
       "7  2000.DEM-U                                                                                                                                                       \n",
       "8  2016.SI-SEL-POS-LU                                                                                                                                               \n",
       "9  2014.FDI-AN                                                                                                                                                      \n",
       "10 2019.FI                                                                                                                                                          \n",
       "11 1995.DEMO                                                                                                                                                        \n",
       "12 1996.PROGR-F                                                                                                                                                     \n",
       "13 2018.PD                                                                                                                                                          \n",
       "14 2013.FDI-AN                                                                                                                                                      \n",
       "15 2011.NOI SUD-LIBERTA' ED AUTONOMIA/POPOLARI D'ITALIA DOMANI-PID/MOVIMENTO DI RESPONSABILITA' NAZIONALE-MRN/AZIONE POPOLARE/ALLEANZA DI CENTRO-ADC/INTESA POPOLARE\n",
       "16 2018.IV                                                                                                                                                          \n",
       "17 2019.PD                                                                                                                                                          \n",
       "18 2000.RINN/IT                                                                                                                                                     \n",
       "19 1996.DEMO                                                                                                                                                        \n",
       "20 2017.FDI-AN                                                                                                                                                      \n",
       "   year\n",
       "1  2009\n",
       "2  1996\n",
       "3  1996\n",
       "4  2018\n",
       "5  2009\n",
       "6  1995\n",
       "7  2000\n",
       "8  2016\n",
       "9  2014\n",
       "10 2019\n",
       "11 1995\n",
       "12 1996\n",
       "13 2018\n",
       "14 2013\n",
       "15 2011\n",
       "16 2018\n",
       "17 2019\n",
       "18 2000\n",
       "19 1996\n",
       "20 2017\n",
       "   party                                                                                                                                                       \n",
       "1  UNIONE DEI DEMOCRATICI CRISTIANI E DEI DEMOCRATICI DI CENTRO                                                                                                \n",
       "2  FLD                                                                                                                                                         \n",
       "3  PPI                                                                                                                                                         \n",
       "4  SI-SEL-POS-LU                                                                                                                                               \n",
       "5  PD-U                                                                                                                                                        \n",
       "6  FLD                                                                                                                                                         \n",
       "7  DEM-U                                                                                                                                                       \n",
       "8  SI-SEL-POS-LU                                                                                                                                               \n",
       "9  FDI-AN                                                                                                                                                      \n",
       "10 FI                                                                                                                                                          \n",
       "11 DEMO                                                                                                                                                        \n",
       "12 PROGR-F                                                                                                                                                     \n",
       "13 PD                                                                                                                                                          \n",
       "14 FDI-AN                                                                                                                                                      \n",
       "15 NOI SUD-LIBERTA' ED AUTONOMIA/POPOLARI D'ITALIA DOMANI-PID/MOVIMENTO DI RESPONSABILITA' NAZIONALE-MRN/AZIONE POPOLARE/ALLEANZA DI CENTRO-ADC/INTESA POPOLARE\n",
       "16 IV                                                                                                                                                          \n",
       "17 PD                                                                                                                                                          \n",
       "18 RINN/IT                                                                                                                                                     \n",
       "19 DEMO                                                                                                                                                        \n",
       "20 FDI-AN                                                                                                                                                      \n",
       "   cluster           anti_elitism total_toks perc_of_populist_toks\n",
       "1  2_evolutionGroup    1             188     0.005319149          \n",
       "2  10_evolutionGroup  11            2894     0.003800968          \n",
       "3  2_evolutionGroup   34            9296     0.003657487          \n",
       "4  12_evolutionGroup   7            2189     0.003197807          \n",
       "5  1_evolutionGroup    3            1188     0.002525253          \n",
       "6  10_evolutionGroup 120           57421     0.002089828          \n",
       "7  2_evolutionGroup  108           52222     0.002068094          \n",
       "8  12_evolutionGroup 173           84377     0.002050322          \n",
       "9  8_evolutionGroup   99           51695     0.001915079          \n",
       "10 9_evolutionGroup  949          533560     0.001778619          \n",
       "11 2_evolutionGroup   85           49325     0.001723264          \n",
       "12 1_evolutionGroup   46           26734     0.001720655          \n",
       "13 1_evolutionGroup  516          300098     0.001719438          \n",
       "14 8_evolutionGroup   70           41498     0.001686828          \n",
       "15 2_evolutionGroup   90           54866     0.001640360          \n",
       "16 2_evolutionGroup   96           58631     0.001637359          \n",
       "17 1_evolutionGroup  888          557509     0.001592799          \n",
       "18 3_evolutionGroup   46           28958     0.001588507          \n",
       "19 2_evolutionGroup    4            2599     0.001539053          \n",
       "20 8_evolutionGroup   58           38123     0.001521391          \n",
       "   standardized_perc_of_populist_toks\n",
       "1  8.532378                          \n",
       "2  5.542758                          \n",
       "3  5.260214                          \n",
       "4  4.355007                          \n",
       "5  3.030605                          \n",
       "6  2.173161                          \n",
       "7  2.130363                          \n",
       "8  2.095366                          \n",
       "9  1.829044                          \n",
       "10 1.560325                          \n",
       "11 1.451320                          \n",
       "12 1.446183                          \n",
       "13 1.443786                          \n",
       "14 1.379570                          \n",
       "15 1.288064                          \n",
       "16 1.282155                          \n",
       "17 1.194407                          \n",
       "18 1.185956                          \n",
       "19 1.088570                          \n",
       "20 1.053789                          "
      ]
     },
     "metadata": {},
     "output_type": "display_data"
    }
   ],
   "source": [
    "df_rp %>% \n",
    "arrange(desc(standardized_perc_of_populist_toks)) %>% \n",
    "head(20)"
   ]
  },
  {
   "cell_type": "markdown",
   "id": "df255f7f",
   "metadata": {},
   "source": [
    "The following are the party-year combinations with the lowest populist scores. Again we see a mixture of both mainstream and populist parties. Interestingly, LNA (2018), FdI-AN (2018) and PdL (2013) are ranked among the least populist parties. This might be further evidence of lack of face validity in Rooduijn and Pauwels' dictionary."
   ]
  },
  {
   "cell_type": "code",
   "execution_count": 25,
   "id": "80781191",
   "metadata": {},
   "outputs": [
    {
     "data": {
      "text/html": [
       "<table class=\"dataframe\">\n",
       "<caption>A tibble: 20 × 8</caption>\n",
       "<thead>\n",
       "\t<tr><th scope=col>doc_id</th><th scope=col>year</th><th scope=col>party</th><th scope=col>cluster</th><th scope=col>anti_elitism</th><th scope=col>total_toks</th><th scope=col>perc_of_populist_toks</th><th scope=col>standardized_perc_of_populist_toks</th></tr>\n",
       "\t<tr><th scope=col>&lt;chr&gt;</th><th scope=col>&lt;int&gt;</th><th scope=col>&lt;chr&gt;</th><th scope=col>&lt;chr&gt;</th><th scope=col>&lt;dbl&gt;</th><th scope=col>&lt;int&gt;</th><th scope=col>&lt;dbl&gt;</th><th scope=col>&lt;dbl&gt;</th></tr>\n",
       "</thead>\n",
       "<tbody>\n",
       "\t<tr><td>2018.AP-CPE-NCD-NCI</td><td>2018</td><td>AP-CPE-NCD-NCI</td><td>2_evolutionGroup </td><td> 0</td><td>  269</td><td>0.0000000000</td><td>-1.942152</td></tr>\n",
       "\t<tr><td>2018.CI            </td><td>2018</td><td>CI            </td><td>3_evolutionGroup </td><td> 0</td><td>  550</td><td>0.0000000000</td><td>-1.942152</td></tr>\n",
       "\t<tr><td>2008.COM/IT/       </td><td>2008</td><td>COM/IT/       </td><td>12_evolutionGroup</td><td> 0</td><td>  770</td><td>0.0000000000</td><td>-1.942152</td></tr>\n",
       "\t<tr><td>2008.DCA-NPSI      </td><td>2008</td><td>DCA-NPSI      </td><td>2_evolutionGroup </td><td> 0</td><td>  269</td><td>0.0000000000</td><td>-1.942152</td></tr>\n",
       "\t<tr><td>2009.DCA-NPSI      </td><td>2009</td><td>DCA-NPSI      </td><td>2_evolutionGroup </td><td> 0</td><td>   26</td><td>0.0000000000</td><td>-1.942152</td></tr>\n",
       "\t<tr><td>2018.FDI-AN        </td><td>2018</td><td>FDI-AN        </td><td>8_evolutionGroup </td><td> 0</td><td>  229</td><td>0.0000000000</td><td>-1.942152</td></tr>\n",
       "\t<tr><td>2013.FLPTP         </td><td>2013</td><td>FLPTP         </td><td>8_evolutionGroup </td><td> 0</td><td>    2</td><td>0.0000000000</td><td>-1.942152</td></tr>\n",
       "\t<tr><td>1994.LIFED         </td><td>1994</td><td>LIFED         </td><td>10_evolutionGroup</td><td> 0</td><td>  217</td><td>0.0000000000</td><td>-1.942152</td></tr>\n",
       "\t<tr><td>1995.LIFED         </td><td>1995</td><td>LIFED         </td><td>10_evolutionGroup</td><td> 0</td><td> 1870</td><td>0.0000000000</td><td>-1.942152</td></tr>\n",
       "\t<tr><td>1996.LIFED         </td><td>1996</td><td>LIFED         </td><td>10_evolutionGroup</td><td> 0</td><td>  979</td><td>0.0000000000</td><td>-1.942152</td></tr>\n",
       "\t<tr><td>2018.LNA           </td><td>2018</td><td>LNA           </td><td>10_evolutionGroup</td><td> 0</td><td>  936</td><td>0.0000000000</td><td>-1.942152</td></tr>\n",
       "\t<tr><td>2018.MDP-LU        </td><td>2018</td><td>MDP-LU        </td><td>1_evolutionGroup </td><td> 0</td><td> 1252</td><td>0.0000000000</td><td>-1.942152</td></tr>\n",
       "\t<tr><td>2013.PDL           </td><td>2013</td><td>PDL           </td><td>9_evolutionGroup </td><td> 0</td><td> 1609</td><td>0.0000000000</td><td>-1.942152</td></tr>\n",
       "\t<tr><td>2009.SDPSE         </td><td>2009</td><td>SDPSE         </td><td>1_evolutionGroup </td><td> 0</td><td>   80</td><td>0.0000000000</td><td>-1.942152</td></tr>\n",
       "\t<tr><td>2009.SOCRAD-RNP    </td><td>2009</td><td>SOCRAD-RNP    </td><td>11_evolutionGroup</td><td> 0</td><td>  582</td><td>0.0000000000</td><td>-1.942152</td></tr>\n",
       "\t<tr><td>2016.DES-CD        </td><td>2016</td><td>DES-CD        </td><td>2_evolutionGroup </td><td> 1</td><td> 5886</td><td>0.0001698947</td><td>-1.607593</td></tr>\n",
       "\t<tr><td>2014.DES-CD        </td><td>2014</td><td>DES-CD        </td><td>2_evolutionGroup </td><td> 2</td><td> 9057</td><td>0.0002208237</td><td>-1.507303</td></tr>\n",
       "\t<tr><td>2000.UDEUR         </td><td>2000</td><td>UDEUR         </td><td>2_evolutionGroup </td><td> 9</td><td>32843</td><td>0.0002740310</td><td>-1.402527</td></tr>\n",
       "\t<tr><td>1996.PD-ULIVO      </td><td>1996</td><td>PD-ULIVO      </td><td>2_evolutionGroup </td><td>26</td><td>90095</td><td>0.0002885843</td><td>-1.373868</td></tr>\n",
       "\t<tr><td>2001.UDEUR         </td><td>2001</td><td>UDEUR         </td><td>2_evolutionGroup </td><td> 1</td><td> 3157</td><td>0.0003167564</td><td>-1.318392</td></tr>\n",
       "</tbody>\n",
       "</table>\n"
      ],
      "text/latex": [
       "A tibble: 20 × 8\n",
       "\\begin{tabular}{llllllll}\n",
       " doc\\_id & year & party & cluster & anti\\_elitism & total\\_toks & perc\\_of\\_populist\\_toks & standardized\\_perc\\_of\\_populist\\_toks\\\\\n",
       " <chr> & <int> & <chr> & <chr> & <dbl> & <int> & <dbl> & <dbl>\\\\\n",
       "\\hline\n",
       "\t 2018.AP-CPE-NCD-NCI & 2018 & AP-CPE-NCD-NCI & 2\\_evolutionGroup  &  0 &   269 & 0.0000000000 & -1.942152\\\\\n",
       "\t 2018.CI             & 2018 & CI             & 3\\_evolutionGroup  &  0 &   550 & 0.0000000000 & -1.942152\\\\\n",
       "\t 2008.COM/IT/        & 2008 & COM/IT/        & 12\\_evolutionGroup &  0 &   770 & 0.0000000000 & -1.942152\\\\\n",
       "\t 2008.DCA-NPSI       & 2008 & DCA-NPSI       & 2\\_evolutionGroup  &  0 &   269 & 0.0000000000 & -1.942152\\\\\n",
       "\t 2009.DCA-NPSI       & 2009 & DCA-NPSI       & 2\\_evolutionGroup  &  0 &    26 & 0.0000000000 & -1.942152\\\\\n",
       "\t 2018.FDI-AN         & 2018 & FDI-AN         & 8\\_evolutionGroup  &  0 &   229 & 0.0000000000 & -1.942152\\\\\n",
       "\t 2013.FLPTP          & 2013 & FLPTP          & 8\\_evolutionGroup  &  0 &     2 & 0.0000000000 & -1.942152\\\\\n",
       "\t 1994.LIFED          & 1994 & LIFED          & 10\\_evolutionGroup &  0 &   217 & 0.0000000000 & -1.942152\\\\\n",
       "\t 1995.LIFED          & 1995 & LIFED          & 10\\_evolutionGroup &  0 &  1870 & 0.0000000000 & -1.942152\\\\\n",
       "\t 1996.LIFED          & 1996 & LIFED          & 10\\_evolutionGroup &  0 &   979 & 0.0000000000 & -1.942152\\\\\n",
       "\t 2018.LNA            & 2018 & LNA            & 10\\_evolutionGroup &  0 &   936 & 0.0000000000 & -1.942152\\\\\n",
       "\t 2018.MDP-LU         & 2018 & MDP-LU         & 1\\_evolutionGroup  &  0 &  1252 & 0.0000000000 & -1.942152\\\\\n",
       "\t 2013.PDL            & 2013 & PDL            & 9\\_evolutionGroup  &  0 &  1609 & 0.0000000000 & -1.942152\\\\\n",
       "\t 2009.SDPSE          & 2009 & SDPSE          & 1\\_evolutionGroup  &  0 &    80 & 0.0000000000 & -1.942152\\\\\n",
       "\t 2009.SOCRAD-RNP     & 2009 & SOCRAD-RNP     & 11\\_evolutionGroup &  0 &   582 & 0.0000000000 & -1.942152\\\\\n",
       "\t 2016.DES-CD         & 2016 & DES-CD         & 2\\_evolutionGroup  &  1 &  5886 & 0.0001698947 & -1.607593\\\\\n",
       "\t 2014.DES-CD         & 2014 & DES-CD         & 2\\_evolutionGroup  &  2 &  9057 & 0.0002208237 & -1.507303\\\\\n",
       "\t 2000.UDEUR          & 2000 & UDEUR          & 2\\_evolutionGroup  &  9 & 32843 & 0.0002740310 & -1.402527\\\\\n",
       "\t 1996.PD-ULIVO       & 1996 & PD-ULIVO       & 2\\_evolutionGroup  & 26 & 90095 & 0.0002885843 & -1.373868\\\\\n",
       "\t 2001.UDEUR          & 2001 & UDEUR          & 2\\_evolutionGroup  &  1 &  3157 & 0.0003167564 & -1.318392\\\\\n",
       "\\end{tabular}\n"
      ],
      "text/markdown": [
       "\n",
       "A tibble: 20 × 8\n",
       "\n",
       "| doc_id &lt;chr&gt; | year &lt;int&gt; | party &lt;chr&gt; | cluster &lt;chr&gt; | anti_elitism &lt;dbl&gt; | total_toks &lt;int&gt; | perc_of_populist_toks &lt;dbl&gt; | standardized_perc_of_populist_toks &lt;dbl&gt; |\n",
       "|---|---|---|---|---|---|---|---|\n",
       "| 2018.AP-CPE-NCD-NCI | 2018 | AP-CPE-NCD-NCI | 2_evolutionGroup  |  0 |   269 | 0.0000000000 | -1.942152 |\n",
       "| 2018.CI             | 2018 | CI             | 3_evolutionGroup  |  0 |   550 | 0.0000000000 | -1.942152 |\n",
       "| 2008.COM/IT/        | 2008 | COM/IT/        | 12_evolutionGroup |  0 |   770 | 0.0000000000 | -1.942152 |\n",
       "| 2008.DCA-NPSI       | 2008 | DCA-NPSI       | 2_evolutionGroup  |  0 |   269 | 0.0000000000 | -1.942152 |\n",
       "| 2009.DCA-NPSI       | 2009 | DCA-NPSI       | 2_evolutionGroup  |  0 |    26 | 0.0000000000 | -1.942152 |\n",
       "| 2018.FDI-AN         | 2018 | FDI-AN         | 8_evolutionGroup  |  0 |   229 | 0.0000000000 | -1.942152 |\n",
       "| 2013.FLPTP          | 2013 | FLPTP          | 8_evolutionGroup  |  0 |     2 | 0.0000000000 | -1.942152 |\n",
       "| 1994.LIFED          | 1994 | LIFED          | 10_evolutionGroup |  0 |   217 | 0.0000000000 | -1.942152 |\n",
       "| 1995.LIFED          | 1995 | LIFED          | 10_evolutionGroup |  0 |  1870 | 0.0000000000 | -1.942152 |\n",
       "| 1996.LIFED          | 1996 | LIFED          | 10_evolutionGroup |  0 |   979 | 0.0000000000 | -1.942152 |\n",
       "| 2018.LNA            | 2018 | LNA            | 10_evolutionGroup |  0 |   936 | 0.0000000000 | -1.942152 |\n",
       "| 2018.MDP-LU         | 2018 | MDP-LU         | 1_evolutionGroup  |  0 |  1252 | 0.0000000000 | -1.942152 |\n",
       "| 2013.PDL            | 2013 | PDL            | 9_evolutionGroup  |  0 |  1609 | 0.0000000000 | -1.942152 |\n",
       "| 2009.SDPSE          | 2009 | SDPSE          | 1_evolutionGroup  |  0 |    80 | 0.0000000000 | -1.942152 |\n",
       "| 2009.SOCRAD-RNP     | 2009 | SOCRAD-RNP     | 11_evolutionGroup |  0 |   582 | 0.0000000000 | -1.942152 |\n",
       "| 2016.DES-CD         | 2016 | DES-CD         | 2_evolutionGroup  |  1 |  5886 | 0.0001698947 | -1.607593 |\n",
       "| 2014.DES-CD         | 2014 | DES-CD         | 2_evolutionGroup  |  2 |  9057 | 0.0002208237 | -1.507303 |\n",
       "| 2000.UDEUR          | 2000 | UDEUR          | 2_evolutionGroup  |  9 | 32843 | 0.0002740310 | -1.402527 |\n",
       "| 1996.PD-ULIVO       | 1996 | PD-ULIVO       | 2_evolutionGroup  | 26 | 90095 | 0.0002885843 | -1.373868 |\n",
       "| 2001.UDEUR          | 2001 | UDEUR          | 2_evolutionGroup  |  1 |  3157 | 0.0003167564 | -1.318392 |\n",
       "\n"
      ],
      "text/plain": [
       "   doc_id              year party          cluster           anti_elitism\n",
       "1  2018.AP-CPE-NCD-NCI 2018 AP-CPE-NCD-NCI 2_evolutionGroup   0          \n",
       "2  2018.CI             2018 CI             3_evolutionGroup   0          \n",
       "3  2008.COM/IT/        2008 COM/IT/        12_evolutionGroup  0          \n",
       "4  2008.DCA-NPSI       2008 DCA-NPSI       2_evolutionGroup   0          \n",
       "5  2009.DCA-NPSI       2009 DCA-NPSI       2_evolutionGroup   0          \n",
       "6  2018.FDI-AN         2018 FDI-AN         8_evolutionGroup   0          \n",
       "7  2013.FLPTP          2013 FLPTP          8_evolutionGroup   0          \n",
       "8  1994.LIFED          1994 LIFED          10_evolutionGroup  0          \n",
       "9  1995.LIFED          1995 LIFED          10_evolutionGroup  0          \n",
       "10 1996.LIFED          1996 LIFED          10_evolutionGroup  0          \n",
       "11 2018.LNA            2018 LNA            10_evolutionGroup  0          \n",
       "12 2018.MDP-LU         2018 MDP-LU         1_evolutionGroup   0          \n",
       "13 2013.PDL            2013 PDL            9_evolutionGroup   0          \n",
       "14 2009.SDPSE          2009 SDPSE          1_evolutionGroup   0          \n",
       "15 2009.SOCRAD-RNP     2009 SOCRAD-RNP     11_evolutionGroup  0          \n",
       "16 2016.DES-CD         2016 DES-CD         2_evolutionGroup   1          \n",
       "17 2014.DES-CD         2014 DES-CD         2_evolutionGroup   2          \n",
       "18 2000.UDEUR          2000 UDEUR          2_evolutionGroup   9          \n",
       "19 1996.PD-ULIVO       1996 PD-ULIVO       2_evolutionGroup  26          \n",
       "20 2001.UDEUR          2001 UDEUR          2_evolutionGroup   1          \n",
       "   total_toks perc_of_populist_toks standardized_perc_of_populist_toks\n",
       "1    269      0.0000000000          -1.942152                         \n",
       "2    550      0.0000000000          -1.942152                         \n",
       "3    770      0.0000000000          -1.942152                         \n",
       "4    269      0.0000000000          -1.942152                         \n",
       "5     26      0.0000000000          -1.942152                         \n",
       "6    229      0.0000000000          -1.942152                         \n",
       "7      2      0.0000000000          -1.942152                         \n",
       "8    217      0.0000000000          -1.942152                         \n",
       "9   1870      0.0000000000          -1.942152                         \n",
       "10   979      0.0000000000          -1.942152                         \n",
       "11   936      0.0000000000          -1.942152                         \n",
       "12  1252      0.0000000000          -1.942152                         \n",
       "13  1609      0.0000000000          -1.942152                         \n",
       "14    80      0.0000000000          -1.942152                         \n",
       "15   582      0.0000000000          -1.942152                         \n",
       "16  5886      0.0001698947          -1.607593                         \n",
       "17  9057      0.0002208237          -1.507303                         \n",
       "18 32843      0.0002740310          -1.402527                         \n",
       "19 90095      0.0002885843          -1.373868                         \n",
       "20  3157      0.0003167564          -1.318392                         "
      ]
     },
     "metadata": {},
     "output_type": "display_data"
    }
   ],
   "source": [
    "df_rp %>% \n",
    "arrange(desc(standardized_perc_of_populist_toks)) %>% \n",
    "tail(20) %>% \n",
    "arrange(standardized_perc_of_populist_toks)"
   ]
  },
  {
   "cell_type": "markdown",
   "id": "84b753ac",
   "metadata": {},
   "source": [
    "## External validity <a class=\"anchor\" id=\"subparagraph3\"></a>"
   ]
  },
  {
   "cell_type": "markdown",
   "id": "0b1ca8b0",
   "metadata": {},
   "source": [
    "### Chapel Hill Expert Survey <a class=\"anchor\" id=\"subparagraph4\"></a>"
   ]
  },
  {
   "cell_type": "markdown",
   "id": "c48fce54",
   "metadata": {},
   "source": [
    "As Rooduijn and Pauwels' dictionary only captures the anti-elite dimension of populism, the external validity will be carried out against the anti-elite salience variable from the CHES dataset, which has been introduced in 2014."
   ]
  },
  {
   "cell_type": "markdown",
   "id": "5b3ab7d5",
   "metadata": {},
   "source": [
    "The countrycode for Italy is 8. The following is a list of all Italian parties in the CHES dataset in the 2014-2019 time period."
   ]
  },
  {
   "cell_type": "code",
   "execution_count": 26,
   "id": "8eac18bd",
   "metadata": {},
   "outputs": [
    {
     "data": {
      "text/html": [
       "<table class=\"dataframe\">\n",
       "<caption>A tibble: 15 × 1</caption>\n",
       "<thead>\n",
       "\t<tr><th scope=col>party</th></tr>\n",
       "\t<tr><th scope=col>&lt;chr&gt;</th></tr>\n",
       "</thead>\n",
       "<tbody>\n",
       "\t<tr><td>UDC</td></tr>\n",
       "\t<tr><td>SC </td></tr>\n",
       "\t<tr><td>VdA</td></tr>\n",
       "\t<tr><td>PD </td></tr>\n",
       "\t<tr><td>FI </td></tr>\n",
       "\t<tr><td>LN </td></tr>\n",
       "\t<tr><td>FdI</td></tr>\n",
       "\t<tr><td>SEL</td></tr>\n",
       "\t<tr><td>M5S</td></tr>\n",
       "\t<tr><td>CD </td></tr>\n",
       "\t<tr><td>SVP</td></tr>\n",
       "\t<tr><td>RC </td></tr>\n",
       "\t<tr><td>NCD</td></tr>\n",
       "\t<tr><td>RI </td></tr>\n",
       "\t<tr><td>SI </td></tr>\n",
       "</tbody>\n",
       "</table>\n"
      ],
      "text/latex": [
       "A tibble: 15 × 1\n",
       "\\begin{tabular}{l}\n",
       " party\\\\\n",
       " <chr>\\\\\n",
       "\\hline\n",
       "\t UDC\\\\\n",
       "\t SC \\\\\n",
       "\t VdA\\\\\n",
       "\t PD \\\\\n",
       "\t FI \\\\\n",
       "\t LN \\\\\n",
       "\t FdI\\\\\n",
       "\t SEL\\\\\n",
       "\t M5S\\\\\n",
       "\t CD \\\\\n",
       "\t SVP\\\\\n",
       "\t RC \\\\\n",
       "\t NCD\\\\\n",
       "\t RI \\\\\n",
       "\t SI \\\\\n",
       "\\end{tabular}\n"
      ],
      "text/markdown": [
       "\n",
       "A tibble: 15 × 1\n",
       "\n",
       "| party &lt;chr&gt; |\n",
       "|---|\n",
       "| UDC |\n",
       "| SC  |\n",
       "| VdA |\n",
       "| PD  |\n",
       "| FI  |\n",
       "| LN  |\n",
       "| FdI |\n",
       "| SEL |\n",
       "| M5S |\n",
       "| CD  |\n",
       "| SVP |\n",
       "| RC  |\n",
       "| NCD |\n",
       "| RI  |\n",
       "| SI  |\n",
       "\n"
      ],
      "text/plain": [
       "   party\n",
       "1  UDC  \n",
       "2  SC   \n",
       "3  VdA  \n",
       "4  PD   \n",
       "5  FI   \n",
       "6  LN   \n",
       "7  FdI  \n",
       "8  SEL  \n",
       "9  M5S  \n",
       "10 CD   \n",
       "11 SVP  \n",
       "12 RC   \n",
       "13 NCD  \n",
       "14 RI   \n",
       "15 SI   "
      ]
     },
     "metadata": {},
     "output_type": "display_data"
    }
   ],
   "source": [
    "ches %>% filter(country == 8 & year >= 2014 & year <= 2019) %>% distinct(party)"
   ]
  },
  {
   "cell_type": "markdown",
   "id": "6000c13b",
   "metadata": {},
   "source": [
    "While these are the parties included in our dataset in the same timeframe"
   ]
  },
  {
   "cell_type": "code",
   "execution_count": 27,
   "id": "f4b9db81",
   "metadata": {},
   "outputs": [
    {
     "data": {
      "text/html": [
       "<table class=\"dataframe\">\n",
       "<caption>A tibble: 17 × 1</caption>\n",
       "<thead>\n",
       "\t<tr><th scope=col>party</th></tr>\n",
       "\t<tr><th scope=col>&lt;chr&gt;</th></tr>\n",
       "</thead>\n",
       "<tbody>\n",
       "\t<tr><td>AP-CPE-NCD-NCI</td></tr>\n",
       "\t<tr><td>CI            </td></tr>\n",
       "\t<tr><td>DES-CD        </td></tr>\n",
       "\t<tr><td>FDI           </td></tr>\n",
       "\t<tr><td>FDI-AN        </td></tr>\n",
       "\t<tr><td>FI            </td></tr>\n",
       "\t<tr><td>FI-PDL        </td></tr>\n",
       "\t<tr><td>IV            </td></tr>\n",
       "\t<tr><td>LEGA          </td></tr>\n",
       "\t<tr><td>LEU           </td></tr>\n",
       "\t<tr><td>LNA           </td></tr>\n",
       "\t<tr><td>M5S           </td></tr>\n",
       "\t<tr><td>MDP-LU        </td></tr>\n",
       "\t<tr><td>MISTO         </td></tr>\n",
       "\t<tr><td>NCI-SCPI-MAIE </td></tr>\n",
       "\t<tr><td>PD            </td></tr>\n",
       "\t<tr><td>SI-SEL-POS-LU </td></tr>\n",
       "</tbody>\n",
       "</table>\n"
      ],
      "text/latex": [
       "A tibble: 17 × 1\n",
       "\\begin{tabular}{l}\n",
       " party\\\\\n",
       " <chr>\\\\\n",
       "\\hline\n",
       "\t AP-CPE-NCD-NCI\\\\\n",
       "\t CI            \\\\\n",
       "\t DES-CD        \\\\\n",
       "\t FDI           \\\\\n",
       "\t FDI-AN        \\\\\n",
       "\t FI            \\\\\n",
       "\t FI-PDL        \\\\\n",
       "\t IV            \\\\\n",
       "\t LEGA          \\\\\n",
       "\t LEU           \\\\\n",
       "\t LNA           \\\\\n",
       "\t M5S           \\\\\n",
       "\t MDP-LU        \\\\\n",
       "\t MISTO         \\\\\n",
       "\t NCI-SCPI-MAIE \\\\\n",
       "\t PD            \\\\\n",
       "\t SI-SEL-POS-LU \\\\\n",
       "\\end{tabular}\n"
      ],
      "text/markdown": [
       "\n",
       "A tibble: 17 × 1\n",
       "\n",
       "| party &lt;chr&gt; |\n",
       "|---|\n",
       "| AP-CPE-NCD-NCI |\n",
       "| CI             |\n",
       "| DES-CD         |\n",
       "| FDI            |\n",
       "| FDI-AN         |\n",
       "| FI             |\n",
       "| FI-PDL         |\n",
       "| IV             |\n",
       "| LEGA           |\n",
       "| LEU            |\n",
       "| LNA            |\n",
       "| M5S            |\n",
       "| MDP-LU         |\n",
       "| MISTO          |\n",
       "| NCI-SCPI-MAIE  |\n",
       "| PD             |\n",
       "| SI-SEL-POS-LU  |\n",
       "\n"
      ],
      "text/plain": [
       "   party         \n",
       "1  AP-CPE-NCD-NCI\n",
       "2  CI            \n",
       "3  DES-CD        \n",
       "4  FDI           \n",
       "5  FDI-AN        \n",
       "6  FI            \n",
       "7  FI-PDL        \n",
       "8  IV            \n",
       "9  LEGA          \n",
       "10 LEU           \n",
       "11 LNA           \n",
       "12 M5S           \n",
       "13 MDP-LU        \n",
       "14 MISTO         \n",
       "15 NCI-SCPI-MAIE \n",
       "16 PD            \n",
       "17 SI-SEL-POS-LU "
      ]
     },
     "metadata": {},
     "output_type": "display_data"
    }
   ],
   "source": [
    "df_rp %>% filter(year >= 2014 & year <= 2019) %>% distinct(party)"
   ]
  },
  {
   "cell_type": "markdown",
   "id": "2ea252bf",
   "metadata": {},
   "source": [
    "Let's now compare how R&P' dictionary and the CHES dataset ranked party-year combinations by populism in 2014 and 2019. We'll drop all parties that are not present in both datasets."
   ]
  },
  {
   "cell_type": "markdown",
   "id": "37faa729",
   "metadata": {},
   "source": [
    "The difference between the two rankings is stark. According to the dictionary analysis, PD (2019) ranks among the most populist party-year combinations and M5S (2019) among the least populists ones, while the opposite is true in the CHES dataset. Moreover, Lega (2019), one of the most populist party-year combinations according to CHES, is only slightly populist according to R&P' dictionary."
   ]
  },
  {
   "cell_type": "code",
   "execution_count": 28,
   "id": "10eab5e8",
   "metadata": {},
   "outputs": [
    {
     "data": {
      "text/html": [
       "<table class=\"dataframe\">\n",
       "<caption>A tibble: 17 × 8</caption>\n",
       "<thead>\n",
       "\t<tr><th scope=col>doc_id</th><th scope=col>year</th><th scope=col>party</th><th scope=col>cluster</th><th scope=col>anti_elitism</th><th scope=col>total_toks</th><th scope=col>perc_of_populist_toks</th><th scope=col>standardized_perc_of_populist_toks</th></tr>\n",
       "\t<tr><th scope=col>&lt;chr&gt;</th><th scope=col>&lt;int&gt;</th><th scope=col>&lt;chr&gt;</th><th scope=col>&lt;chr&gt;</th><th scope=col>&lt;dbl&gt;</th><th scope=col>&lt;int&gt;</th><th scope=col>&lt;dbl&gt;</th><th scope=col>&lt;dbl&gt;</th></tr>\n",
       "</thead>\n",
       "<tbody>\n",
       "\t<tr><td>2014.FDI-AN        </td><td>2014</td><td>FDI-AN        </td><td>8_evolutionGroup </td><td> 99</td><td> 51695</td><td>0.0019150788</td><td> 1.82904359</td></tr>\n",
       "\t<tr><td>2019.FI            </td><td>2019</td><td>FI            </td><td>9_evolutionGroup </td><td>949</td><td>533560</td><td>0.0017786191</td><td> 1.56032547</td></tr>\n",
       "\t<tr><td>2019.PD            </td><td>2019</td><td>PD            </td><td>1_evolutionGroup </td><td>888</td><td>557509</td><td>0.0015927994</td><td> 1.19440717</td></tr>\n",
       "\t<tr><td>2014.MDP-LU        </td><td>2014</td><td>MDP-LU        </td><td>1_evolutionGroup </td><td>148</td><td>101300</td><td>0.0014610069</td><td> 0.93487987</td></tr>\n",
       "\t<tr><td>2019.FDI           </td><td>2019</td><td>FDI           </td><td>8_evolutionGroup </td><td>368</td><td>262423</td><td>0.0014023161</td><td> 0.81930525</td></tr>\n",
       "\t<tr><td>2014.AP-CPE-NCD-NCI</td><td>2014</td><td>AP-CPE-NCD-NCI</td><td>2_evolutionGroup </td><td>136</td><td>101160</td><td>0.0013444049</td><td> 0.70526583</td></tr>\n",
       "\t<tr><td>2019.LEU           </td><td>2019</td><td>LEU           </td><td>1_evolutionGroup </td><td> 71</td><td> 53261</td><td>0.0013330580</td><td> 0.68292130</td></tr>\n",
       "\t<tr><td>2014.LNA           </td><td>2014</td><td>LNA           </td><td>10_evolutionGroup</td><td>164</td><td>148505</td><td>0.0011043399</td><td> 0.23252707</td></tr>\n",
       "\t<tr><td>2014.M5S           </td><td>2014</td><td>M5S           </td><td>15_evolutionGroup</td><td>561</td><td>552684</td><td>0.0010150466</td><td> 0.05668956</td></tr>\n",
       "\t<tr><td>2019.LEGA          </td><td>2019</td><td>LEGA          </td><td>10_evolutionGroup</td><td>216</td><td>214370</td><td>0.0010076037</td><td> 0.04203292</td></tr>\n",
       "\t<tr><td>2019.M5S           </td><td>2019</td><td>M5S           </td><td>15_evolutionGroup</td><td>503</td><td>509145</td><td>0.0009879307</td><td> 0.00329276</td></tr>\n",
       "\t<tr><td>2014.CI            </td><td>2014</td><td>CI            </td><td>3_evolutionGroup </td><td>139</td><td>154407</td><td>0.0009002183</td><td>-0.16943170</td></tr>\n",
       "\t<tr><td>2014.SI-SEL-POS-LU </td><td>2014</td><td>SI-SEL-POS-LU </td><td>12_evolutionGroup</td><td>111</td><td>131756</td><td>0.0008424664</td><td>-0.28315737</td></tr>\n",
       "\t<tr><td>2014.PD            </td><td>2014</td><td>PD            </td><td>1_evolutionGroup </td><td>491</td><td>599522</td><td>0.0008189858</td><td>-0.32939562</td></tr>\n",
       "\t<tr><td>2014.FI-PDL        </td><td>2014</td><td>FI-PDL        </td><td>9_evolutionGroup </td><td>215</td><td>289856</td><td>0.0007417476</td><td>-0.48149391</td></tr>\n",
       "\t<tr><td>2014.NCI-SCPI-MAIE </td><td>2014</td><td>NCI-SCPI-MAIE </td><td>3_evolutionGroup </td><td> 68</td><td>106038</td><td>0.0006412795</td><td>-0.67933684</td></tr>\n",
       "\t<tr><td>2014.DES-CD        </td><td>2014</td><td>DES-CD        </td><td>2_evolutionGroup </td><td>  2</td><td>  9057</td><td>0.0002208237</td><td>-1.50730345</td></tr>\n",
       "</tbody>\n",
       "</table>\n"
      ],
      "text/latex": [
       "A tibble: 17 × 8\n",
       "\\begin{tabular}{llllllll}\n",
       " doc\\_id & year & party & cluster & anti\\_elitism & total\\_toks & perc\\_of\\_populist\\_toks & standardized\\_perc\\_of\\_populist\\_toks\\\\\n",
       " <chr> & <int> & <chr> & <chr> & <dbl> & <int> & <dbl> & <dbl>\\\\\n",
       "\\hline\n",
       "\t 2014.FDI-AN         & 2014 & FDI-AN         & 8\\_evolutionGroup  &  99 &  51695 & 0.0019150788 &  1.82904359\\\\\n",
       "\t 2019.FI             & 2019 & FI             & 9\\_evolutionGroup  & 949 & 533560 & 0.0017786191 &  1.56032547\\\\\n",
       "\t 2019.PD             & 2019 & PD             & 1\\_evolutionGroup  & 888 & 557509 & 0.0015927994 &  1.19440717\\\\\n",
       "\t 2014.MDP-LU         & 2014 & MDP-LU         & 1\\_evolutionGroup  & 148 & 101300 & 0.0014610069 &  0.93487987\\\\\n",
       "\t 2019.FDI            & 2019 & FDI            & 8\\_evolutionGroup  & 368 & 262423 & 0.0014023161 &  0.81930525\\\\\n",
       "\t 2014.AP-CPE-NCD-NCI & 2014 & AP-CPE-NCD-NCI & 2\\_evolutionGroup  & 136 & 101160 & 0.0013444049 &  0.70526583\\\\\n",
       "\t 2019.LEU            & 2019 & LEU            & 1\\_evolutionGroup  &  71 &  53261 & 0.0013330580 &  0.68292130\\\\\n",
       "\t 2014.LNA            & 2014 & LNA            & 10\\_evolutionGroup & 164 & 148505 & 0.0011043399 &  0.23252707\\\\\n",
       "\t 2014.M5S            & 2014 & M5S            & 15\\_evolutionGroup & 561 & 552684 & 0.0010150466 &  0.05668956\\\\\n",
       "\t 2019.LEGA           & 2019 & LEGA           & 10\\_evolutionGroup & 216 & 214370 & 0.0010076037 &  0.04203292\\\\\n",
       "\t 2019.M5S            & 2019 & M5S            & 15\\_evolutionGroup & 503 & 509145 & 0.0009879307 &  0.00329276\\\\\n",
       "\t 2014.CI             & 2014 & CI             & 3\\_evolutionGroup  & 139 & 154407 & 0.0009002183 & -0.16943170\\\\\n",
       "\t 2014.SI-SEL-POS-LU  & 2014 & SI-SEL-POS-LU  & 12\\_evolutionGroup & 111 & 131756 & 0.0008424664 & -0.28315737\\\\\n",
       "\t 2014.PD             & 2014 & PD             & 1\\_evolutionGroup  & 491 & 599522 & 0.0008189858 & -0.32939562\\\\\n",
       "\t 2014.FI-PDL         & 2014 & FI-PDL         & 9\\_evolutionGroup  & 215 & 289856 & 0.0007417476 & -0.48149391\\\\\n",
       "\t 2014.NCI-SCPI-MAIE  & 2014 & NCI-SCPI-MAIE  & 3\\_evolutionGroup  &  68 & 106038 & 0.0006412795 & -0.67933684\\\\\n",
       "\t 2014.DES-CD         & 2014 & DES-CD         & 2\\_evolutionGroup  &   2 &   9057 & 0.0002208237 & -1.50730345\\\\\n",
       "\\end{tabular}\n"
      ],
      "text/markdown": [
       "\n",
       "A tibble: 17 × 8\n",
       "\n",
       "| doc_id &lt;chr&gt; | year &lt;int&gt; | party &lt;chr&gt; | cluster &lt;chr&gt; | anti_elitism &lt;dbl&gt; | total_toks &lt;int&gt; | perc_of_populist_toks &lt;dbl&gt; | standardized_perc_of_populist_toks &lt;dbl&gt; |\n",
       "|---|---|---|---|---|---|---|---|\n",
       "| 2014.FDI-AN         | 2014 | FDI-AN         | 8_evolutionGroup  |  99 |  51695 | 0.0019150788 |  1.82904359 |\n",
       "| 2019.FI             | 2019 | FI             | 9_evolutionGroup  | 949 | 533560 | 0.0017786191 |  1.56032547 |\n",
       "| 2019.PD             | 2019 | PD             | 1_evolutionGroup  | 888 | 557509 | 0.0015927994 |  1.19440717 |\n",
       "| 2014.MDP-LU         | 2014 | MDP-LU         | 1_evolutionGroup  | 148 | 101300 | 0.0014610069 |  0.93487987 |\n",
       "| 2019.FDI            | 2019 | FDI            | 8_evolutionGroup  | 368 | 262423 | 0.0014023161 |  0.81930525 |\n",
       "| 2014.AP-CPE-NCD-NCI | 2014 | AP-CPE-NCD-NCI | 2_evolutionGroup  | 136 | 101160 | 0.0013444049 |  0.70526583 |\n",
       "| 2019.LEU            | 2019 | LEU            | 1_evolutionGroup  |  71 |  53261 | 0.0013330580 |  0.68292130 |\n",
       "| 2014.LNA            | 2014 | LNA            | 10_evolutionGroup | 164 | 148505 | 0.0011043399 |  0.23252707 |\n",
       "| 2014.M5S            | 2014 | M5S            | 15_evolutionGroup | 561 | 552684 | 0.0010150466 |  0.05668956 |\n",
       "| 2019.LEGA           | 2019 | LEGA           | 10_evolutionGroup | 216 | 214370 | 0.0010076037 |  0.04203292 |\n",
       "| 2019.M5S            | 2019 | M5S            | 15_evolutionGroup | 503 | 509145 | 0.0009879307 |  0.00329276 |\n",
       "| 2014.CI             | 2014 | CI             | 3_evolutionGroup  | 139 | 154407 | 0.0009002183 | -0.16943170 |\n",
       "| 2014.SI-SEL-POS-LU  | 2014 | SI-SEL-POS-LU  | 12_evolutionGroup | 111 | 131756 | 0.0008424664 | -0.28315737 |\n",
       "| 2014.PD             | 2014 | PD             | 1_evolutionGroup  | 491 | 599522 | 0.0008189858 | -0.32939562 |\n",
       "| 2014.FI-PDL         | 2014 | FI-PDL         | 9_evolutionGroup  | 215 | 289856 | 0.0007417476 | -0.48149391 |\n",
       "| 2014.NCI-SCPI-MAIE  | 2014 | NCI-SCPI-MAIE  | 3_evolutionGroup  |  68 | 106038 | 0.0006412795 | -0.67933684 |\n",
       "| 2014.DES-CD         | 2014 | DES-CD         | 2_evolutionGroup  |   2 |   9057 | 0.0002208237 | -1.50730345 |\n",
       "\n"
      ],
      "text/plain": [
       "   doc_id              year party          cluster           anti_elitism\n",
       "1  2014.FDI-AN         2014 FDI-AN         8_evolutionGroup   99         \n",
       "2  2019.FI             2019 FI             9_evolutionGroup  949         \n",
       "3  2019.PD             2019 PD             1_evolutionGroup  888         \n",
       "4  2014.MDP-LU         2014 MDP-LU         1_evolutionGroup  148         \n",
       "5  2019.FDI            2019 FDI            8_evolutionGroup  368         \n",
       "6  2014.AP-CPE-NCD-NCI 2014 AP-CPE-NCD-NCI 2_evolutionGroup  136         \n",
       "7  2019.LEU            2019 LEU            1_evolutionGroup   71         \n",
       "8  2014.LNA            2014 LNA            10_evolutionGroup 164         \n",
       "9  2014.M5S            2014 M5S            15_evolutionGroup 561         \n",
       "10 2019.LEGA           2019 LEGA           10_evolutionGroup 216         \n",
       "11 2019.M5S            2019 M5S            15_evolutionGroup 503         \n",
       "12 2014.CI             2014 CI             3_evolutionGroup  139         \n",
       "13 2014.SI-SEL-POS-LU  2014 SI-SEL-POS-LU  12_evolutionGroup 111         \n",
       "14 2014.PD             2014 PD             1_evolutionGroup  491         \n",
       "15 2014.FI-PDL         2014 FI-PDL         9_evolutionGroup  215         \n",
       "16 2014.NCI-SCPI-MAIE  2014 NCI-SCPI-MAIE  3_evolutionGroup   68         \n",
       "17 2014.DES-CD         2014 DES-CD         2_evolutionGroup    2         \n",
       "   total_toks perc_of_populist_toks standardized_perc_of_populist_toks\n",
       "1   51695     0.0019150788           1.82904359                       \n",
       "2  533560     0.0017786191           1.56032547                       \n",
       "3  557509     0.0015927994           1.19440717                       \n",
       "4  101300     0.0014610069           0.93487987                       \n",
       "5  262423     0.0014023161           0.81930525                       \n",
       "6  101160     0.0013444049           0.70526583                       \n",
       "7   53261     0.0013330580           0.68292130                       \n",
       "8  148505     0.0011043399           0.23252707                       \n",
       "9  552684     0.0010150466           0.05668956                       \n",
       "10 214370     0.0010076037           0.04203292                       \n",
       "11 509145     0.0009879307           0.00329276                       \n",
       "12 154407     0.0009002183          -0.16943170                       \n",
       "13 131756     0.0008424664          -0.28315737                       \n",
       "14 599522     0.0008189858          -0.32939562                       \n",
       "15 289856     0.0007417476          -0.48149391                       \n",
       "16 106038     0.0006412795          -0.67933684                       \n",
       "17   9057     0.0002208237          -1.50730345                       "
      ]
     },
     "metadata": {},
     "output_type": "display_data"
    }
   ],
   "source": [
    "df_rp %>% \n",
    "filter((year == 2014 | year == 2019) & party != \"MISTO\" & party != \"IV\") %>% \n",
    "arrange(desc(standardized_perc_of_populist_toks))"
   ]
  },
  {
   "cell_type": "code",
   "execution_count": 29,
   "id": "9ea13a95",
   "metadata": {},
   "outputs": [
    {
     "data": {
      "text/html": [
       "<table class=\"dataframe\">\n",
       "<caption>A grouped_df: 17 × 3</caption>\n",
       "<thead>\n",
       "\t<tr><th scope=col>party</th><th scope=col>year</th><th scope=col>mean_anti_elite_salience</th></tr>\n",
       "\t<tr><th scope=col>&lt;chr&gt;</th><th scope=col>&lt;dbl&gt;</th><th scope=col>&lt;dbl&gt;</th></tr>\n",
       "</thead>\n",
       "<tbody>\n",
       "\t<tr><td>M5S</td><td>2014</td><td>10.000000</td></tr>\n",
       "\t<tr><td>RC </td><td>2014</td><td> 9.333333</td></tr>\n",
       "\t<tr><td>M5S</td><td>2019</td><td> 8.888889</td></tr>\n",
       "\t<tr><td>LN </td><td>2014</td><td> 8.800000</td></tr>\n",
       "\t<tr><td>LN </td><td>2019</td><td> 8.333333</td></tr>\n",
       "\t<tr><td>FdI</td><td>2019</td><td> 8.000000</td></tr>\n",
       "\t<tr><td>SEL</td><td>2014</td><td> 6.800000</td></tr>\n",
       "\t<tr><td>FdI</td><td>2014</td><td> 6.250000</td></tr>\n",
       "\t<tr><td>PD </td><td>2014</td><td> 4.400000</td></tr>\n",
       "\t<tr><td>FI </td><td>2019</td><td> 4.176471</td></tr>\n",
       "\t<tr><td>FI </td><td>2014</td><td> 4.000000</td></tr>\n",
       "\t<tr><td>SI </td><td>2019</td><td> 3.785714</td></tr>\n",
       "\t<tr><td>CD </td><td>2014</td><td> 3.333333</td></tr>\n",
       "\t<tr><td>NCD</td><td>2014</td><td> 2.200000</td></tr>\n",
       "\t<tr><td>PD </td><td>2019</td><td> 1.882353</td></tr>\n",
       "\t<tr><td>UDC</td><td>2014</td><td> 1.500000</td></tr>\n",
       "\t<tr><td>SC </td><td>2014</td><td> 1.000000</td></tr>\n",
       "</tbody>\n",
       "</table>\n"
      ],
      "text/latex": [
       "A grouped\\_df: 17 × 3\n",
       "\\begin{tabular}{lll}\n",
       " party & year & mean\\_anti\\_elite\\_salience\\\\\n",
       " <chr> & <dbl> & <dbl>\\\\\n",
       "\\hline\n",
       "\t M5S & 2014 & 10.000000\\\\\n",
       "\t RC  & 2014 &  9.333333\\\\\n",
       "\t M5S & 2019 &  8.888889\\\\\n",
       "\t LN  & 2014 &  8.800000\\\\\n",
       "\t LN  & 2019 &  8.333333\\\\\n",
       "\t FdI & 2019 &  8.000000\\\\\n",
       "\t SEL & 2014 &  6.800000\\\\\n",
       "\t FdI & 2014 &  6.250000\\\\\n",
       "\t PD  & 2014 &  4.400000\\\\\n",
       "\t FI  & 2019 &  4.176471\\\\\n",
       "\t FI  & 2014 &  4.000000\\\\\n",
       "\t SI  & 2019 &  3.785714\\\\\n",
       "\t CD  & 2014 &  3.333333\\\\\n",
       "\t NCD & 2014 &  2.200000\\\\\n",
       "\t PD  & 2019 &  1.882353\\\\\n",
       "\t UDC & 2014 &  1.500000\\\\\n",
       "\t SC  & 2014 &  1.000000\\\\\n",
       "\\end{tabular}\n"
      ],
      "text/markdown": [
       "\n",
       "A grouped_df: 17 × 3\n",
       "\n",
       "| party &lt;chr&gt; | year &lt;dbl&gt; | mean_anti_elite_salience &lt;dbl&gt; |\n",
       "|---|---|---|\n",
       "| M5S | 2014 | 10.000000 |\n",
       "| RC  | 2014 |  9.333333 |\n",
       "| M5S | 2019 |  8.888889 |\n",
       "| LN  | 2014 |  8.800000 |\n",
       "| LN  | 2019 |  8.333333 |\n",
       "| FdI | 2019 |  8.000000 |\n",
       "| SEL | 2014 |  6.800000 |\n",
       "| FdI | 2014 |  6.250000 |\n",
       "| PD  | 2014 |  4.400000 |\n",
       "| FI  | 2019 |  4.176471 |\n",
       "| FI  | 2014 |  4.000000 |\n",
       "| SI  | 2019 |  3.785714 |\n",
       "| CD  | 2014 |  3.333333 |\n",
       "| NCD | 2014 |  2.200000 |\n",
       "| PD  | 2019 |  1.882353 |\n",
       "| UDC | 2014 |  1.500000 |\n",
       "| SC  | 2014 |  1.000000 |\n",
       "\n"
      ],
      "text/plain": [
       "   party year mean_anti_elite_salience\n",
       "1  M5S   2014 10.000000               \n",
       "2  RC    2014  9.333333               \n",
       "3  M5S   2019  8.888889               \n",
       "4  LN    2014  8.800000               \n",
       "5  LN    2019  8.333333               \n",
       "6  FdI   2019  8.000000               \n",
       "7  SEL   2014  6.800000               \n",
       "8  FdI   2014  6.250000               \n",
       "9  PD    2014  4.400000               \n",
       "10 FI    2019  4.176471               \n",
       "11 FI    2014  4.000000               \n",
       "12 SI    2019  3.785714               \n",
       "13 CD    2014  3.333333               \n",
       "14 NCD   2014  2.200000               \n",
       "15 PD    2019  1.882353               \n",
       "16 UDC   2014  1.500000               \n",
       "17 SC    2014  1.000000               "
      ]
     },
     "metadata": {},
     "output_type": "display_data"
    }
   ],
   "source": [
    "to_drop <- c('VdA', 'SVP', 'RI')\n",
    "\n",
    "ches %>% \n",
    "filter(country == 8 & year >= 2014 & year <= 2019 & (!party %in% to_drop))  %>% \n",
    "group_by(party, year) %>% \n",
    "summarize(mean_anti_elite_salience = mean(antielite_salience), .groups = \"keep\") %>% \n",
    "arrange(desc(mean_anti_elite_salience))"
   ]
  },
  {
   "cell_type": "markdown",
   "id": "343071dc",
   "metadata": {},
   "source": [
    "### The PopuList <a class=\"anchor\" id=\"subparagraph5\"></a>"
   ]
  },
  {
   "cell_type": "markdown",
   "id": "de2d590d",
   "metadata": {},
   "source": [
    "All the Italian parties in the PopuList dataset"
   ]
  },
  {
   "cell_type": "code",
   "execution_count": 30,
   "id": "4be7f9f6",
   "metadata": {},
   "outputs": [
    {
     "data": {
      "text/html": [
       "<table class=\"dataframe\">\n",
       "<caption>A tibble: 13 × 1</caption>\n",
       "<thead>\n",
       "\t<tr><th scope=col>party_name</th></tr>\n",
       "\t<tr><th scope=col>&lt;chr&gt;</th></tr>\n",
       "</thead>\n",
       "<tbody>\n",
       "\t<tr><td>Fiamma Tricolore                          </td></tr>\n",
       "\t<tr><td>Forza Italia – Il Popolo della Libertà    </td></tr>\n",
       "\t<tr><td>Fratelli d'Italia – Centrodestra Nazionale</td></tr>\n",
       "\t<tr><td>Il Popolo della Libertà                   </td></tr>\n",
       "\t<tr><td>Lega (Nord)                               </td></tr>\n",
       "\t<tr><td>Lega d'Azione Meridionale                 </td></tr>\n",
       "\t<tr><td>Liga Veneta                               </td></tr>\n",
       "\t<tr><td>Movimento 5 Stelle                        </td></tr>\n",
       "\t<tr><td>Movimento Sociale Italiano                </td></tr>\n",
       "\t<tr><td>Partito dei Comunisti Italiani            </td></tr>\n",
       "\t<tr><td>Partito della Rifondazione Comunista      </td></tr>\n",
       "\t<tr><td>Rivoluzione Civile                        </td></tr>\n",
       "\t<tr><td>Sinistra                                  </td></tr>\n",
       "</tbody>\n",
       "</table>\n"
      ],
      "text/latex": [
       "A tibble: 13 × 1\n",
       "\\begin{tabular}{l}\n",
       " party\\_name\\\\\n",
       " <chr>\\\\\n",
       "\\hline\n",
       "\t Fiamma Tricolore                          \\\\\n",
       "\t Forza Italia – Il Popolo della Libertà    \\\\\n",
       "\t Fratelli d'Italia – Centrodestra Nazionale\\\\\n",
       "\t Il Popolo della Libertà                   \\\\\n",
       "\t Lega (Nord)                               \\\\\n",
       "\t Lega d'Azione Meridionale                 \\\\\n",
       "\t Liga Veneta                               \\\\\n",
       "\t Movimento 5 Stelle                        \\\\\n",
       "\t Movimento Sociale Italiano                \\\\\n",
       "\t Partito dei Comunisti Italiani            \\\\\n",
       "\t Partito della Rifondazione Comunista      \\\\\n",
       "\t Rivoluzione Civile                        \\\\\n",
       "\t Sinistra                                  \\\\\n",
       "\\end{tabular}\n"
      ],
      "text/markdown": [
       "\n",
       "A tibble: 13 × 1\n",
       "\n",
       "| party_name &lt;chr&gt; |\n",
       "|---|\n",
       "| Fiamma Tricolore                           |\n",
       "| Forza Italia – Il Popolo della Libertà     |\n",
       "| Fratelli d'Italia – Centrodestra Nazionale |\n",
       "| Il Popolo della Libertà                    |\n",
       "| Lega (Nord)                                |\n",
       "| Lega d'Azione Meridionale                  |\n",
       "| Liga Veneta                                |\n",
       "| Movimento 5 Stelle                         |\n",
       "| Movimento Sociale Italiano                 |\n",
       "| Partito dei Comunisti Italiani             |\n",
       "| Partito della Rifondazione Comunista       |\n",
       "| Rivoluzione Civile                         |\n",
       "| Sinistra                                   |\n",
       "\n"
      ],
      "text/plain": [
       "   party_name                                \n",
       "1  Fiamma Tricolore                          \n",
       "2  Forza Italia – Il Popolo della Libertà    \n",
       "3  Fratelli d'Italia – Centrodestra Nazionale\n",
       "4  Il Popolo della Libertà                   \n",
       "5  Lega (Nord)                               \n",
       "6  Lega d'Azione Meridionale                 \n",
       "7  Liga Veneta                               \n",
       "8  Movimento 5 Stelle                        \n",
       "9  Movimento Sociale Italiano                \n",
       "10 Partito dei Comunisti Italiani            \n",
       "11 Partito della Rifondazione Comunista      \n",
       "12 Rivoluzione Civile                        \n",
       "13 Sinistra                                  "
      ]
     },
     "metadata": {},
     "output_type": "display_data"
    }
   ],
   "source": [
    "populist %>% filter(country_name == \"Italy\") %>% distinct(party_name)"
   ]
  },
  {
   "cell_type": "markdown",
   "id": "bb3e94a7",
   "metadata": {},
   "source": [
    "Let's compare the populism scores between PopuList and R&D' dictionary by focusing on parties that are present in both datasets."
   ]
  },
  {
   "cell_type": "markdown",
   "id": "75679c80",
   "metadata": {},
   "source": [
    "According to the dictionary analysis, FI-PDL, FdI-AN, Lega and M5S have higher populism scores compared to most parties. These parties are all coded as populist in the PopuList dataset. The two measures can thus be considered similar."
   ]
  },
  {
   "cell_type": "code",
   "execution_count": 31,
   "id": "4c665ef8",
   "metadata": {},
   "outputs": [
    {
     "data": {
      "text/html": [
       "<table class=\"dataframe\">\n",
       "<caption>A tibble: 20 × 8</caption>\n",
       "<thead>\n",
       "\t<tr><th scope=col>doc_id</th><th scope=col>year</th><th scope=col>party</th><th scope=col>cluster</th><th scope=col>anti_elitism</th><th scope=col>total_toks</th><th scope=col>perc_of_populist_toks</th><th scope=col>standardized_perc_of_populist_toks</th></tr>\n",
       "\t<tr><th scope=col>&lt;chr&gt;</th><th scope=col>&lt;int&gt;</th><th scope=col>&lt;chr&gt;</th><th scope=col>&lt;chr&gt;</th><th scope=col>&lt;dbl&gt;</th><th scope=col>&lt;int&gt;</th><th scope=col>&lt;dbl&gt;</th><th scope=col>&lt;dbl&gt;</th></tr>\n",
       "</thead>\n",
       "<tbody>\n",
       "\t<tr><td>2018.SI-SEL-POS-LU</td><td>2018</td><td>SI-SEL-POS-LU</td><td>12_evolutionGroup</td><td>  7</td><td>  2189</td><td>0.003197807</td><td>4.3550073</td></tr>\n",
       "\t<tr><td>2016.SI-SEL-POS-LU</td><td>2016</td><td>SI-SEL-POS-LU</td><td>12_evolutionGroup</td><td>173</td><td> 84377</td><td>0.002050322</td><td>2.0953656</td></tr>\n",
       "\t<tr><td>2014.FDI-AN       </td><td>2014</td><td>FDI-AN       </td><td>8_evolutionGroup </td><td> 99</td><td> 51695</td><td>0.001915079</td><td>1.8290436</td></tr>\n",
       "\t<tr><td>2019.FI           </td><td>2019</td><td>FI           </td><td>9_evolutionGroup </td><td>949</td><td>533560</td><td>0.001778619</td><td>1.5603255</td></tr>\n",
       "\t<tr><td>2013.FDI-AN       </td><td>2013</td><td>FDI-AN       </td><td>8_evolutionGroup </td><td> 70</td><td> 41498</td><td>0.001686828</td><td>1.3795699</td></tr>\n",
       "\t<tr><td>2017.FDI-AN       </td><td>2017</td><td>FDI-AN       </td><td>8_evolutionGroup </td><td> 58</td><td> 38123</td><td>0.001521391</td><td>1.0537895</td></tr>\n",
       "\t<tr><td>1995.LEGA-N       </td><td>1995</td><td>LEGA-N       </td><td>10_evolutionGroup</td><td>238</td><td>156792</td><td>0.001517935</td><td>1.0469825</td></tr>\n",
       "\t<tr><td>1996.LEGA-N       </td><td>1996</td><td>LEGA-N       </td><td>10_evolutionGroup</td><td> 24</td><td> 15904</td><td>0.001509054</td><td>1.0294954</td></tr>\n",
       "\t<tr><td>1995.RC-PROGR     </td><td>1995</td><td>RC-PROGR     </td><td>12_evolutionGroup</td><td>445</td><td>303724</td><td>0.001465146</td><td>0.9430306</td></tr>\n",
       "\t<tr><td>2018.FDI          </td><td>2018</td><td>FDI          </td><td>8_evolutionGroup </td><td>194</td><td>135195</td><td>0.001434964</td><td>0.8835965</td></tr>\n",
       "\t<tr><td>2000.LEGA-NORD-P  </td><td>2000</td><td>LEGA-NORD-P  </td><td>10_evolutionGroup</td><td>420</td><td>293739</td><td>0.001429841</td><td>0.8735072</td></tr>\n",
       "\t<tr><td>2019.FDI          </td><td>2019</td><td>FDI          </td><td>8_evolutionGroup </td><td>368</td><td>262423</td><td>0.001402316</td><td>0.8193053</td></tr>\n",
       "\t<tr><td>1999.COMUNISTA    </td><td>1999</td><td>COMUNISTA    </td><td>12_evolutionGroup</td><td> 91</td><td> 65691</td><td>0.001385273</td><td>0.7857447</td></tr>\n",
       "\t<tr><td>1995.F-ITA        </td><td>1995</td><td>F-ITA        </td><td>9_evolutionGroup </td><td>434</td><td>315582</td><td>0.001375237</td><td>0.7659805</td></tr>\n",
       "\t<tr><td>2005.RC           </td><td>2005</td><td>RC           </td><td>12_evolutionGroup</td><td> 72</td><td> 53397</td><td>0.001348390</td><td>0.7131140</td></tr>\n",
       "\t<tr><td>1997.COMUNISTA    </td><td>1997</td><td>COMUNISTA    </td><td>12_evolutionGroup</td><td>106</td><td> 78986</td><td>0.001342010</td><td>0.7005497</td></tr>\n",
       "\t<tr><td>2015.FDI-AN       </td><td>2015</td><td>FDI-AN       </td><td>8_evolutionGroup </td><td> 45</td><td> 33883</td><td>0.001328100</td><td>0.6731573</td></tr>\n",
       "\t<tr><td>2015.M5S          </td><td>2015</td><td>M5S          </td><td>15_evolutionGroup</td><td>701</td><td>527990</td><td>0.001327677</td><td>0.6723244</td></tr>\n",
       "\t<tr><td>1998.F-ITA        </td><td>1998</td><td>F-ITA        </td><td>9_evolutionGroup </td><td>432</td><td>327070</td><td>0.001320818</td><td>0.6588186</td></tr>\n",
       "\t<tr><td>2000.COMUNISTA    </td><td>2000</td><td>COMUNISTA    </td><td>12_evolutionGroup</td><td> 83</td><td> 63959</td><td>0.001297706</td><td>0.6133065</td></tr>\n",
       "</tbody>\n",
       "</table>\n"
      ],
      "text/latex": [
       "A tibble: 20 × 8\n",
       "\\begin{tabular}{llllllll}\n",
       " doc\\_id & year & party & cluster & anti\\_elitism & total\\_toks & perc\\_of\\_populist\\_toks & standardized\\_perc\\_of\\_populist\\_toks\\\\\n",
       " <chr> & <int> & <chr> & <chr> & <dbl> & <int> & <dbl> & <dbl>\\\\\n",
       "\\hline\n",
       "\t 2018.SI-SEL-POS-LU & 2018 & SI-SEL-POS-LU & 12\\_evolutionGroup &   7 &   2189 & 0.003197807 & 4.3550073\\\\\n",
       "\t 2016.SI-SEL-POS-LU & 2016 & SI-SEL-POS-LU & 12\\_evolutionGroup & 173 &  84377 & 0.002050322 & 2.0953656\\\\\n",
       "\t 2014.FDI-AN        & 2014 & FDI-AN        & 8\\_evolutionGroup  &  99 &  51695 & 0.001915079 & 1.8290436\\\\\n",
       "\t 2019.FI            & 2019 & FI            & 9\\_evolutionGroup  & 949 & 533560 & 0.001778619 & 1.5603255\\\\\n",
       "\t 2013.FDI-AN        & 2013 & FDI-AN        & 8\\_evolutionGroup  &  70 &  41498 & 0.001686828 & 1.3795699\\\\\n",
       "\t 2017.FDI-AN        & 2017 & FDI-AN        & 8\\_evolutionGroup  &  58 &  38123 & 0.001521391 & 1.0537895\\\\\n",
       "\t 1995.LEGA-N        & 1995 & LEGA-N        & 10\\_evolutionGroup & 238 & 156792 & 0.001517935 & 1.0469825\\\\\n",
       "\t 1996.LEGA-N        & 1996 & LEGA-N        & 10\\_evolutionGroup &  24 &  15904 & 0.001509054 & 1.0294954\\\\\n",
       "\t 1995.RC-PROGR      & 1995 & RC-PROGR      & 12\\_evolutionGroup & 445 & 303724 & 0.001465146 & 0.9430306\\\\\n",
       "\t 2018.FDI           & 2018 & FDI           & 8\\_evolutionGroup  & 194 & 135195 & 0.001434964 & 0.8835965\\\\\n",
       "\t 2000.LEGA-NORD-P   & 2000 & LEGA-NORD-P   & 10\\_evolutionGroup & 420 & 293739 & 0.001429841 & 0.8735072\\\\\n",
       "\t 2019.FDI           & 2019 & FDI           & 8\\_evolutionGroup  & 368 & 262423 & 0.001402316 & 0.8193053\\\\\n",
       "\t 1999.COMUNISTA     & 1999 & COMUNISTA     & 12\\_evolutionGroup &  91 &  65691 & 0.001385273 & 0.7857447\\\\\n",
       "\t 1995.F-ITA         & 1995 & F-ITA         & 9\\_evolutionGroup  & 434 & 315582 & 0.001375237 & 0.7659805\\\\\n",
       "\t 2005.RC            & 2005 & RC            & 12\\_evolutionGroup &  72 &  53397 & 0.001348390 & 0.7131140\\\\\n",
       "\t 1997.COMUNISTA     & 1997 & COMUNISTA     & 12\\_evolutionGroup & 106 &  78986 & 0.001342010 & 0.7005497\\\\\n",
       "\t 2015.FDI-AN        & 2015 & FDI-AN        & 8\\_evolutionGroup  &  45 &  33883 & 0.001328100 & 0.6731573\\\\\n",
       "\t 2015.M5S           & 2015 & M5S           & 15\\_evolutionGroup & 701 & 527990 & 0.001327677 & 0.6723244\\\\\n",
       "\t 1998.F-ITA         & 1998 & F-ITA         & 9\\_evolutionGroup  & 432 & 327070 & 0.001320818 & 0.6588186\\\\\n",
       "\t 2000.COMUNISTA     & 2000 & COMUNISTA     & 12\\_evolutionGroup &  83 &  63959 & 0.001297706 & 0.6133065\\\\\n",
       "\\end{tabular}\n"
      ],
      "text/markdown": [
       "\n",
       "A tibble: 20 × 8\n",
       "\n",
       "| doc_id &lt;chr&gt; | year &lt;int&gt; | party &lt;chr&gt; | cluster &lt;chr&gt; | anti_elitism &lt;dbl&gt; | total_toks &lt;int&gt; | perc_of_populist_toks &lt;dbl&gt; | standardized_perc_of_populist_toks &lt;dbl&gt; |\n",
       "|---|---|---|---|---|---|---|---|\n",
       "| 2018.SI-SEL-POS-LU | 2018 | SI-SEL-POS-LU | 12_evolutionGroup |   7 |   2189 | 0.003197807 | 4.3550073 |\n",
       "| 2016.SI-SEL-POS-LU | 2016 | SI-SEL-POS-LU | 12_evolutionGroup | 173 |  84377 | 0.002050322 | 2.0953656 |\n",
       "| 2014.FDI-AN        | 2014 | FDI-AN        | 8_evolutionGroup  |  99 |  51695 | 0.001915079 | 1.8290436 |\n",
       "| 2019.FI            | 2019 | FI            | 9_evolutionGroup  | 949 | 533560 | 0.001778619 | 1.5603255 |\n",
       "| 2013.FDI-AN        | 2013 | FDI-AN        | 8_evolutionGroup  |  70 |  41498 | 0.001686828 | 1.3795699 |\n",
       "| 2017.FDI-AN        | 2017 | FDI-AN        | 8_evolutionGroup  |  58 |  38123 | 0.001521391 | 1.0537895 |\n",
       "| 1995.LEGA-N        | 1995 | LEGA-N        | 10_evolutionGroup | 238 | 156792 | 0.001517935 | 1.0469825 |\n",
       "| 1996.LEGA-N        | 1996 | LEGA-N        | 10_evolutionGroup |  24 |  15904 | 0.001509054 | 1.0294954 |\n",
       "| 1995.RC-PROGR      | 1995 | RC-PROGR      | 12_evolutionGroup | 445 | 303724 | 0.001465146 | 0.9430306 |\n",
       "| 2018.FDI           | 2018 | FDI           | 8_evolutionGroup  | 194 | 135195 | 0.001434964 | 0.8835965 |\n",
       "| 2000.LEGA-NORD-P   | 2000 | LEGA-NORD-P   | 10_evolutionGroup | 420 | 293739 | 0.001429841 | 0.8735072 |\n",
       "| 2019.FDI           | 2019 | FDI           | 8_evolutionGroup  | 368 | 262423 | 0.001402316 | 0.8193053 |\n",
       "| 1999.COMUNISTA     | 1999 | COMUNISTA     | 12_evolutionGroup |  91 |  65691 | 0.001385273 | 0.7857447 |\n",
       "| 1995.F-ITA         | 1995 | F-ITA         | 9_evolutionGroup  | 434 | 315582 | 0.001375237 | 0.7659805 |\n",
       "| 2005.RC            | 2005 | RC            | 12_evolutionGroup |  72 |  53397 | 0.001348390 | 0.7131140 |\n",
       "| 1997.COMUNISTA     | 1997 | COMUNISTA     | 12_evolutionGroup | 106 |  78986 | 0.001342010 | 0.7005497 |\n",
       "| 2015.FDI-AN        | 2015 | FDI-AN        | 8_evolutionGroup  |  45 |  33883 | 0.001328100 | 0.6731573 |\n",
       "| 2015.M5S           | 2015 | M5S           | 15_evolutionGroup | 701 | 527990 | 0.001327677 | 0.6723244 |\n",
       "| 1998.F-ITA         | 1998 | F-ITA         | 9_evolutionGroup  | 432 | 327070 | 0.001320818 | 0.6588186 |\n",
       "| 2000.COMUNISTA     | 2000 | COMUNISTA     | 12_evolutionGroup |  83 |  63959 | 0.001297706 | 0.6133065 |\n",
       "\n"
      ],
      "text/plain": [
       "   doc_id             year party         cluster           anti_elitism\n",
       "1  2018.SI-SEL-POS-LU 2018 SI-SEL-POS-LU 12_evolutionGroup   7         \n",
       "2  2016.SI-SEL-POS-LU 2016 SI-SEL-POS-LU 12_evolutionGroup 173         \n",
       "3  2014.FDI-AN        2014 FDI-AN        8_evolutionGroup   99         \n",
       "4  2019.FI            2019 FI            9_evolutionGroup  949         \n",
       "5  2013.FDI-AN        2013 FDI-AN        8_evolutionGroup   70         \n",
       "6  2017.FDI-AN        2017 FDI-AN        8_evolutionGroup   58         \n",
       "7  1995.LEGA-N        1995 LEGA-N        10_evolutionGroup 238         \n",
       "8  1996.LEGA-N        1996 LEGA-N        10_evolutionGroup  24         \n",
       "9  1995.RC-PROGR      1995 RC-PROGR      12_evolutionGroup 445         \n",
       "10 2018.FDI           2018 FDI           8_evolutionGroup  194         \n",
       "11 2000.LEGA-NORD-P   2000 LEGA-NORD-P   10_evolutionGroup 420         \n",
       "12 2019.FDI           2019 FDI           8_evolutionGroup  368         \n",
       "13 1999.COMUNISTA     1999 COMUNISTA     12_evolutionGroup  91         \n",
       "14 1995.F-ITA         1995 F-ITA         9_evolutionGroup  434         \n",
       "15 2005.RC            2005 RC            12_evolutionGroup  72         \n",
       "16 1997.COMUNISTA     1997 COMUNISTA     12_evolutionGroup 106         \n",
       "17 2015.FDI-AN        2015 FDI-AN        8_evolutionGroup   45         \n",
       "18 2015.M5S           2015 M5S           15_evolutionGroup 701         \n",
       "19 1998.F-ITA         1998 F-ITA         9_evolutionGroup  432         \n",
       "20 2000.COMUNISTA     2000 COMUNISTA     12_evolutionGroup  83         \n",
       "   total_toks perc_of_populist_toks standardized_perc_of_populist_toks\n",
       "1    2189     0.003197807           4.3550073                         \n",
       "2   84377     0.002050322           2.0953656                         \n",
       "3   51695     0.001915079           1.8290436                         \n",
       "4  533560     0.001778619           1.5603255                         \n",
       "5   41498     0.001686828           1.3795699                         \n",
       "6   38123     0.001521391           1.0537895                         \n",
       "7  156792     0.001517935           1.0469825                         \n",
       "8   15904     0.001509054           1.0294954                         \n",
       "9  303724     0.001465146           0.9430306                         \n",
       "10 135195     0.001434964           0.8835965                         \n",
       "11 293739     0.001429841           0.8735072                         \n",
       "12 262423     0.001402316           0.8193053                         \n",
       "13  65691     0.001385273           0.7857447                         \n",
       "14 315582     0.001375237           0.7659805                         \n",
       "15  53397     0.001348390           0.7131140                         \n",
       "16  78986     0.001342010           0.7005497                         \n",
       "17  33883     0.001328100           0.6731573                         \n",
       "18 527990     0.001327677           0.6723244                         \n",
       "19 327070     0.001320818           0.6588186                         \n",
       "20  63959     0.001297706           0.6133065                         "
      ]
     },
     "metadata": {},
     "output_type": "display_data"
    }
   ],
   "source": [
    "to_keep <- c(\"F-ITA\", \"FI\", \"PDL\", \"FI-PDL\", \"FDI-AN\", \"FDI\", \"LEGA-N\", \"LEGA-NORD-P\", \"LNA\", \"LEGA\", \"LNP\", \"M5S\", \n",
    "             \"RC-PROGR\", \"COMUNISTA\", \"RC\", \"COM/IT/\", \"RC-SE\", \"SI-SEL-POS-LU\")\n",
    "\n",
    "df_rp %>% \n",
    "filter(party %in% to_keep) %>% \n",
    "arrange(desc(perc_of_populist_toks)) %>% \n",
    "head(20)"
   ]
  },
  {
   "cell_type": "code",
   "execution_count": 32,
   "id": "c4d2be31",
   "metadata": {},
   "outputs": [
    {
     "data": {
      "text/html": [
       "<table class=\"dataframe\">\n",
       "<caption>A tibble: 10 × 2</caption>\n",
       "<thead>\n",
       "\t<tr><th scope=col>party_name</th><th scope=col>populist</th></tr>\n",
       "\t<tr><th scope=col>&lt;chr&gt;</th><th scope=col>&lt;dbl&gt;</th></tr>\n",
       "</thead>\n",
       "<tbody>\n",
       "\t<tr><td>Forza Italia – Il Popolo della Libertà    </td><td>1</td></tr>\n",
       "\t<tr><td>Fratelli d'Italia – Centrodestra Nazionale</td><td>1</td></tr>\n",
       "\t<tr><td>Il Popolo della Libertà                   </td><td>1</td></tr>\n",
       "\t<tr><td>Lega (Nord)                               </td><td>1</td></tr>\n",
       "\t<tr><td>Liga Veneta                               </td><td>1</td></tr>\n",
       "\t<tr><td>Movimento 5 Stelle                        </td><td>1</td></tr>\n",
       "\t<tr><td>Partito dei Comunisti Italiani            </td><td>0</td></tr>\n",
       "\t<tr><td>Partito della Rifondazione Comunista      </td><td>0</td></tr>\n",
       "\t<tr><td>Rivoluzione Civile                        </td><td>0</td></tr>\n",
       "\t<tr><td>Sinistra                                  </td><td>0</td></tr>\n",
       "</tbody>\n",
       "</table>\n"
      ],
      "text/latex": [
       "A tibble: 10 × 2\n",
       "\\begin{tabular}{ll}\n",
       " party\\_name & populist\\\\\n",
       " <chr> & <dbl>\\\\\n",
       "\\hline\n",
       "\t Forza Italia – Il Popolo della Libertà     & 1\\\\\n",
       "\t Fratelli d'Italia – Centrodestra Nazionale & 1\\\\\n",
       "\t Il Popolo della Libertà                    & 1\\\\\n",
       "\t Lega (Nord)                                & 1\\\\\n",
       "\t Liga Veneta                                & 1\\\\\n",
       "\t Movimento 5 Stelle                         & 1\\\\\n",
       "\t Partito dei Comunisti Italiani             & 0\\\\\n",
       "\t Partito della Rifondazione Comunista       & 0\\\\\n",
       "\t Rivoluzione Civile                         & 0\\\\\n",
       "\t Sinistra                                   & 0\\\\\n",
       "\\end{tabular}\n"
      ],
      "text/markdown": [
       "\n",
       "A tibble: 10 × 2\n",
       "\n",
       "| party_name &lt;chr&gt; | populist &lt;dbl&gt; |\n",
       "|---|---|\n",
       "| Forza Italia – Il Popolo della Libertà     | 1 |\n",
       "| Fratelli d'Italia – Centrodestra Nazionale | 1 |\n",
       "| Il Popolo della Libertà                    | 1 |\n",
       "| Lega (Nord)                                | 1 |\n",
       "| Liga Veneta                                | 1 |\n",
       "| Movimento 5 Stelle                         | 1 |\n",
       "| Partito dei Comunisti Italiani             | 0 |\n",
       "| Partito della Rifondazione Comunista       | 0 |\n",
       "| Rivoluzione Civile                         | 0 |\n",
       "| Sinistra                                   | 0 |\n",
       "\n"
      ],
      "text/plain": [
       "   party_name                                 populist\n",
       "1  Forza Italia – Il Popolo della Libertà     1       \n",
       "2  Fratelli d'Italia – Centrodestra Nazionale 1       \n",
       "3  Il Popolo della Libertà                    1       \n",
       "4  Lega (Nord)                                1       \n",
       "5  Liga Veneta                                1       \n",
       "6  Movimento 5 Stelle                         1       \n",
       "7  Partito dei Comunisti Italiani             0       \n",
       "8  Partito della Rifondazione Comunista       0       \n",
       "9  Rivoluzione Civile                         0       \n",
       "10 Sinistra                                   0       "
      ]
     },
     "metadata": {},
     "output_type": "display_data"
    }
   ],
   "source": [
    "to_drop <- c(\"Fiamma Tricolore\", \"Lega d'Azione Meridionale\", \"Movimento Sociale Italiano\")\n",
    "\n",
    "populist %>% \n",
    "filter(country_name == \"Italy\" & (!party_name %in% to_drop)) %>% \n",
    "select(party_name, populist) %>% \n",
    "arrange(desc(populist))"
   ]
  },
  {
   "cell_type": "markdown",
   "id": "e41d0eb1",
   "metadata": {},
   "source": [
    "# Decadri & Boussalis (speeches dataset) <a class=\"anchor\" id=\"chapter6\"></a>"
   ]
  },
  {
   "cell_type": "markdown",
   "id": "cf03fc47",
   "metadata": {},
   "source": [
    "Let's run the dictionary analysis with Decadri and Boussalis' dictionary"
   ]
  },
  {
   "cell_type": "code",
   "execution_count": 33,
   "id": "e26bcd7e",
   "metadata": {},
   "outputs": [],
   "source": [
    "df_db <- dict_analysis(tokens = speeches_toks, data = \"speeches\", dictionary = \"Decadri_Boussalis\")"
   ]
  },
  {
   "cell_type": "markdown",
   "id": "545adf07",
   "metadata": {},
   "source": [
    "The first rows of the dataframe"
   ]
  },
  {
   "cell_type": "code",
   "execution_count": 34,
   "id": "366cac9c",
   "metadata": {},
   "outputs": [
    {
     "data": {
      "text/html": [
       "<table class=\"dataframe\">\n",
       "<caption>A tibble: 6 × 10</caption>\n",
       "<thead>\n",
       "\t<tr><th scope=col>doc_id</th><th scope=col>year</th><th scope=col>party</th><th scope=col>cluster</th><th scope=col>anti_elitism</th><th scope=col>people_centrism</th><th scope=col>populist_toks</th><th scope=col>total_toks</th><th scope=col>perc_of_populist_toks</th><th scope=col>standardized_perc_of_populist_toks</th></tr>\n",
       "\t<tr><th scope=col>&lt;chr&gt;</th><th scope=col>&lt;int&gt;</th><th scope=col>&lt;chr&gt;</th><th scope=col>&lt;chr&gt;</th><th scope=col>&lt;dbl&gt;</th><th scope=col>&lt;dbl&gt;</th><th scope=col>&lt;dbl&gt;</th><th scope=col>&lt;int&gt;</th><th scope=col>&lt;dbl&gt;</th><th scope=col>&lt;dbl&gt;</th></tr>\n",
       "</thead>\n",
       "<tbody>\n",
       "\t<tr><td>1994.AN</td><td>1994</td><td>AN</td><td>8_evolutionGroup</td><td>168</td><td> 475</td><td> 643</td><td>206560</td><td>0.003112897</td><td>-0.1468739</td></tr>\n",
       "\t<tr><td>1995.AN</td><td>1995</td><td>AN</td><td>8_evolutionGroup</td><td>285</td><td>1024</td><td>1309</td><td>350039</td><td>0.003739583</td><td> 0.1298567</td></tr>\n",
       "\t<tr><td>1996.AN</td><td>1996</td><td>AN</td><td>8_evolutionGroup</td><td>150</td><td> 476</td><td> 626</td><td>272610</td><td>0.002296321</td><td>-0.5074556</td></tr>\n",
       "\t<tr><td>1997.AN</td><td>1997</td><td>AN</td><td>8_evolutionGroup</td><td>279</td><td> 660</td><td> 939</td><td>381823</td><td>0.002459255</td><td>-0.4355076</td></tr>\n",
       "\t<tr><td>1998.AN</td><td>1998</td><td>AN</td><td>8_evolutionGroup</td><td>223</td><td> 745</td><td> 968</td><td>373426</td><td>0.002592214</td><td>-0.3767959</td></tr>\n",
       "\t<tr><td>1999.AN</td><td>1999</td><td>AN</td><td>8_evolutionGroup</td><td>311</td><td> 824</td><td>1135</td><td>399795</td><td>0.002838955</td><td>-0.2678405</td></tr>\n",
       "</tbody>\n",
       "</table>\n"
      ],
      "text/latex": [
       "A tibble: 6 × 10\n",
       "\\begin{tabular}{llllllllll}\n",
       " doc\\_id & year & party & cluster & anti\\_elitism & people\\_centrism & populist\\_toks & total\\_toks & perc\\_of\\_populist\\_toks & standardized\\_perc\\_of\\_populist\\_toks\\\\\n",
       " <chr> & <int> & <chr> & <chr> & <dbl> & <dbl> & <dbl> & <int> & <dbl> & <dbl>\\\\\n",
       "\\hline\n",
       "\t 1994.AN & 1994 & AN & 8\\_evolutionGroup & 168 &  475 &  643 & 206560 & 0.003112897 & -0.1468739\\\\\n",
       "\t 1995.AN & 1995 & AN & 8\\_evolutionGroup & 285 & 1024 & 1309 & 350039 & 0.003739583 &  0.1298567\\\\\n",
       "\t 1996.AN & 1996 & AN & 8\\_evolutionGroup & 150 &  476 &  626 & 272610 & 0.002296321 & -0.5074556\\\\\n",
       "\t 1997.AN & 1997 & AN & 8\\_evolutionGroup & 279 &  660 &  939 & 381823 & 0.002459255 & -0.4355076\\\\\n",
       "\t 1998.AN & 1998 & AN & 8\\_evolutionGroup & 223 &  745 &  968 & 373426 & 0.002592214 & -0.3767959\\\\\n",
       "\t 1999.AN & 1999 & AN & 8\\_evolutionGroup & 311 &  824 & 1135 & 399795 & 0.002838955 & -0.2678405\\\\\n",
       "\\end{tabular}\n"
      ],
      "text/markdown": [
       "\n",
       "A tibble: 6 × 10\n",
       "\n",
       "| doc_id &lt;chr&gt; | year &lt;int&gt; | party &lt;chr&gt; | cluster &lt;chr&gt; | anti_elitism &lt;dbl&gt; | people_centrism &lt;dbl&gt; | populist_toks &lt;dbl&gt; | total_toks &lt;int&gt; | perc_of_populist_toks &lt;dbl&gt; | standardized_perc_of_populist_toks &lt;dbl&gt; |\n",
       "|---|---|---|---|---|---|---|---|---|---|\n",
       "| 1994.AN | 1994 | AN | 8_evolutionGroup | 168 |  475 |  643 | 206560 | 0.003112897 | -0.1468739 |\n",
       "| 1995.AN | 1995 | AN | 8_evolutionGroup | 285 | 1024 | 1309 | 350039 | 0.003739583 |  0.1298567 |\n",
       "| 1996.AN | 1996 | AN | 8_evolutionGroup | 150 |  476 |  626 | 272610 | 0.002296321 | -0.5074556 |\n",
       "| 1997.AN | 1997 | AN | 8_evolutionGroup | 279 |  660 |  939 | 381823 | 0.002459255 | -0.4355076 |\n",
       "| 1998.AN | 1998 | AN | 8_evolutionGroup | 223 |  745 |  968 | 373426 | 0.002592214 | -0.3767959 |\n",
       "| 1999.AN | 1999 | AN | 8_evolutionGroup | 311 |  824 | 1135 | 399795 | 0.002838955 | -0.2678405 |\n",
       "\n"
      ],
      "text/plain": [
       "  doc_id  year party cluster          anti_elitism people_centrism\n",
       "1 1994.AN 1994 AN    8_evolutionGroup 168           475           \n",
       "2 1995.AN 1995 AN    8_evolutionGroup 285          1024           \n",
       "3 1996.AN 1996 AN    8_evolutionGroup 150           476           \n",
       "4 1997.AN 1997 AN    8_evolutionGroup 279           660           \n",
       "5 1998.AN 1998 AN    8_evolutionGroup 223           745           \n",
       "6 1999.AN 1999 AN    8_evolutionGroup 311           824           \n",
       "  populist_toks total_toks perc_of_populist_toks\n",
       "1  643          206560     0.003112897          \n",
       "2 1309          350039     0.003739583          \n",
       "3  626          272610     0.002296321          \n",
       "4  939          381823     0.002459255          \n",
       "5  968          373426     0.002592214          \n",
       "6 1135          399795     0.002838955          \n",
       "  standardized_perc_of_populist_toks\n",
       "1 -0.1468739                        \n",
       "2  0.1298567                        \n",
       "3 -0.5074556                        \n",
       "4 -0.4355076                        \n",
       "5 -0.3767959                        \n",
       "6 -0.2678405                        "
      ]
     },
     "metadata": {},
     "output_type": "display_data"
    }
   ],
   "source": [
    "head(df_db)"
   ]
  },
  {
   "cell_type": "markdown",
   "id": "26347114",
   "metadata": {},
   "source": [
    "## Construct validity <a class=\"anchor\" id=\"subparagraph6\"></a>"
   ]
  },
  {
   "cell_type": "markdown",
   "id": "95f8eb54",
   "metadata": {},
   "source": [
    "Decadri and Boussalis' dictionary catpures both the \"anti-elitism\" and \"people-centrism\" dimenions of populist ideology and it thus constitutes an improvement over Rooduijn and Pauwels' dictionary in terms of construct validity."
   ]
  },
  {
   "cell_type": "markdown",
   "id": "b2a4a3dc",
   "metadata": {},
   "source": [
    "## Face validity <a class=\"anchor\" id=\"subparagraph7\"></a>"
   ]
  },
  {
   "cell_type": "markdown",
   "id": "6809a726",
   "metadata": {},
   "source": [
    "To assess the face validity of Decadri and Boussalis' dictionary we'll have a look at the mean % of populist tokens (both anti-establishment and people-centrism) grouped by party and year."
   ]
  },
  {
   "cell_type": "markdown",
   "id": "0adcb2c4",
   "metadata": {},
   "source": [
    "As it was the case for R&P' dictionary, both mainstream (UDC, UDEUR, PPI) and populist (Lega, M5S, FDI-AN) party-year combinations received high populist scores."
   ]
  },
  {
   "cell_type": "code",
   "execution_count": 35,
   "id": "f8697cef",
   "metadata": {},
   "outputs": [
    {
     "data": {
      "text/html": [
       "<table class=\"dataframe\">\n",
       "<caption>A tibble: 20 × 10</caption>\n",
       "<thead>\n",
       "\t<tr><th scope=col>doc_id</th><th scope=col>year</th><th scope=col>party</th><th scope=col>cluster</th><th scope=col>anti_elitism</th><th scope=col>people_centrism</th><th scope=col>populist_toks</th><th scope=col>total_toks</th><th scope=col>perc_of_populist_toks</th><th scope=col>standardized_perc_of_populist_toks</th></tr>\n",
       "\t<tr><th scope=col>&lt;chr&gt;</th><th scope=col>&lt;int&gt;</th><th scope=col>&lt;chr&gt;</th><th scope=col>&lt;chr&gt;</th><th scope=col>&lt;dbl&gt;</th><th scope=col>&lt;dbl&gt;</th><th scope=col>&lt;dbl&gt;</th><th scope=col>&lt;int&gt;</th><th scope=col>&lt;dbl&gt;</th><th scope=col>&lt;dbl&gt;</th></tr>\n",
       "</thead>\n",
       "<tbody>\n",
       "\t<tr><td>2009.UNIONE DEI DEMOCRATICI CRISTIANI E DEI DEMOCRATICI DI CENTRO                                                                                                </td><td>2009</td><td>UNIONE DEI DEMOCRATICI CRISTIANI E DEI DEMOCRATICI DI CENTRO                                                                                                </td><td>2_evolutionGroup </td><td>  1</td><td>   5</td><td>   6</td><td>   188</td><td>0.031914894</td><td>12.5714411</td></tr>\n",
       "\t<tr><td>2009.SOCRAD-RNP                                                                                                                                                  </td><td>2009</td><td>SOCRAD-RNP                                                                                                                                                  </td><td>11_evolutionGroup</td><td>  0</td><td>  10</td><td>  10</td><td>   582</td><td>0.017182131</td><td> 6.0657838</td></tr>\n",
       "\t<tr><td>2008.POP-UDEUR                                                                                                                                                   </td><td>2008</td><td>POP-UDEUR                                                                                                                                                   </td><td>2_evolutionGroup </td><td>  2</td><td>  33</td><td>  35</td><td>  2338</td><td>0.014970060</td><td> 5.0889830</td></tr>\n",
       "\t<tr><td>2008.DCA-NPSI                                                                                                                                                    </td><td>2008</td><td>DCA-NPSI                                                                                                                                                    </td><td>2_evolutionGroup </td><td>  0</td><td>   3</td><td>   3</td><td>   269</td><td>0.011152416</td><td> 3.4031974</td></tr>\n",
       "\t<tr><td>1996.PPI                                                                                                                                                         </td><td>1996</td><td>PPI                                                                                                                                                         </td><td>2_evolutionGroup </td><td> 22</td><td>  72</td><td>  94</td><td>  9296</td><td>0.010111876</td><td> 2.9437182</td></tr>\n",
       "\t<tr><td>2006.LNFP                                                                                                                                                        </td><td>2006</td><td>LNFP                                                                                                                                                        </td><td>10_evolutionGroup</td><td> 16</td><td> 145</td><td> 161</td><td> 18703</td><td>0.008608245</td><td> 2.2797483</td></tr>\n",
       "\t<tr><td>1996.FLD                                                                                                                                                         </td><td>1996</td><td>FLD                                                                                                                                                         </td><td>10_evolutionGroup</td><td>  8</td><td>  13</td><td>  21</td><td>  2894</td><td>0.007256393</td><td> 1.6828007</td></tr>\n",
       "\t<tr><td>2008.UNIONE DEI DEMOCRATICI CRISTIANI E DEI DEMOCRATICI DI CENTRO                                                                                                </td><td>2008</td><td>UNIONE DEI DEMOCRATICI CRISTIANI E DEI DEMOCRATICI DI CENTRO                                                                                                </td><td>2_evolutionGroup </td><td>  7</td><td>  66</td><td>  73</td><td> 11075</td><td>0.006591422</td><td> 1.3891647</td></tr>\n",
       "\t<tr><td>2008.FLPTP                                                                                                                                                       </td><td>2008</td><td>FLPTP                                                                                                                                                       </td><td>8_evolutionGroup </td><td>  9</td><td> 142</td><td> 151</td><td> 23058</td><td>0.006548703</td><td> 1.3703011</td></tr>\n",
       "\t<tr><td>2008.SDPSE                                                                                                                                                       </td><td>2008</td><td>SDPSE                                                                                                                                                       </td><td>1_evolutionGroup </td><td>  4</td><td>  34</td><td>  38</td><td>  6108</td><td>0.006221349</td><td> 1.2257488</td></tr>\n",
       "\t<tr><td>2008.LNP                                                                                                                                                         </td><td>2008</td><td>LNP                                                                                                                                                         </td><td>10_evolutionGroup</td><td> 41</td><td> 498</td><td> 539</td><td> 94856</td><td>0.005682297</td><td> 0.9877157</td></tr>\n",
       "\t<tr><td>2015.LNA                                                                                                                                                         </td><td>2015</td><td>LNA                                                                                                                                                         </td><td>10_evolutionGroup</td><td> 80</td><td> 617</td><td> 697</td><td>122917</td><td>0.005670493</td><td> 0.9825032</td></tr>\n",
       "\t<tr><td>2014.FDI-AN                                                                                                                                                      </td><td>2014</td><td>FDI-AN                                                                                                                                                      </td><td>8_evolutionGroup </td><td> 82</td><td> 209</td><td> 291</td><td> 51695</td><td>0.005629171</td><td> 0.9642563</td></tr>\n",
       "\t<tr><td>1994.DEMO                                                                                                                                                        </td><td>1994</td><td>DEMO                                                                                                                                                        </td><td>2_evolutionGroup </td><td> 26</td><td> 183</td><td> 209</td><td> 38521</td><td>0.005425612</td><td> 0.8743692</td></tr>\n",
       "\t<tr><td>2017.LNA                                                                                                                                                         </td><td>2017</td><td>LNA                                                                                                                                                         </td><td>10_evolutionGroup</td><td> 72</td><td> 483</td><td> 555</td><td>103023</td><td>0.005387147</td><td> 0.8573837</td></tr>\n",
       "\t<tr><td>2007.POP-UDEUR                                                                                                                                                   </td><td>2007</td><td>POP-UDEUR                                                                                                                                                   </td><td>2_evolutionGroup </td><td> 20</td><td> 145</td><td> 165</td><td> 30698</td><td>0.005374943</td><td> 0.8519949</td></tr>\n",
       "\t<tr><td>2009.FLPTP                                                                                                                                                       </td><td>2009</td><td>FLPTP                                                                                                                                                       </td><td>8_evolutionGroup </td><td> 10</td><td> 156</td><td> 166</td><td> 31021</td><td>0.005351214</td><td> 0.8415165</td></tr>\n",
       "\t<tr><td>2006.POP-UDEUR                                                                                                                                                   </td><td>2006</td><td>POP-UDEUR                                                                                                                                                   </td><td>2_evolutionGroup </td><td> 16</td><td>  96</td><td> 112</td><td> 21052</td><td>0.005320160</td><td> 0.8278038</td></tr>\n",
       "\t<tr><td>2015.M5S                                                                                                                                                         </td><td>2015</td><td>M5S                                                                                                                                                         </td><td>15_evolutionGroup</td><td>449</td><td>2332</td><td>2781</td><td>527990</td><td>0.005267145</td><td> 0.8043938</td></tr>\n",
       "\t<tr><td>2010.NOI SUD-LIBERTA' ED AUTONOMIA/POPOLARI D'ITALIA DOMANI-PID/MOVIMENTO DI RESPONSABILITA' NAZIONALE-MRN/AZIONE POPOLARE/ALLEANZA DI CENTRO-ADC/INTESA POPOLARE</td><td>2010</td><td>NOI SUD-LIBERTA' ED AUTONOMIA/POPOLARI D'ITALIA DOMANI-PID/MOVIMENTO DI RESPONSABILITA' NAZIONALE-MRN/AZIONE POPOLARE/ALLEANZA DI CENTRO-ADC/INTESA POPOLARE</td><td>2_evolutionGroup </td><td> 12</td><td> 177</td><td> 189</td><td> 36295</td><td>0.005207329</td><td> 0.7779802</td></tr>\n",
       "</tbody>\n",
       "</table>\n"
      ],
      "text/latex": [
       "A tibble: 20 × 10\n",
       "\\begin{tabular}{llllllllll}\n",
       " doc\\_id & year & party & cluster & anti\\_elitism & people\\_centrism & populist\\_toks & total\\_toks & perc\\_of\\_populist\\_toks & standardized\\_perc\\_of\\_populist\\_toks\\\\\n",
       " <chr> & <int> & <chr> & <chr> & <dbl> & <dbl> & <dbl> & <int> & <dbl> & <dbl>\\\\\n",
       "\\hline\n",
       "\t 2009.UNIONE DEI DEMOCRATICI CRISTIANI E DEI DEMOCRATICI DI CENTRO                                                                                                 & 2009 & UNIONE DEI DEMOCRATICI CRISTIANI E DEI DEMOCRATICI DI CENTRO                                                                                                 & 2\\_evolutionGroup  &   1 &    5 &    6 &    188 & 0.031914894 & 12.5714411\\\\\n",
       "\t 2009.SOCRAD-RNP                                                                                                                                                   & 2009 & SOCRAD-RNP                                                                                                                                                   & 11\\_evolutionGroup &   0 &   10 &   10 &    582 & 0.017182131 &  6.0657838\\\\\n",
       "\t 2008.POP-UDEUR                                                                                                                                                    & 2008 & POP-UDEUR                                                                                                                                                    & 2\\_evolutionGroup  &   2 &   33 &   35 &   2338 & 0.014970060 &  5.0889830\\\\\n",
       "\t 2008.DCA-NPSI                                                                                                                                                     & 2008 & DCA-NPSI                                                                                                                                                     & 2\\_evolutionGroup  &   0 &    3 &    3 &    269 & 0.011152416 &  3.4031974\\\\\n",
       "\t 1996.PPI                                                                                                                                                          & 1996 & PPI                                                                                                                                                          & 2\\_evolutionGroup  &  22 &   72 &   94 &   9296 & 0.010111876 &  2.9437182\\\\\n",
       "\t 2006.LNFP                                                                                                                                                         & 2006 & LNFP                                                                                                                                                         & 10\\_evolutionGroup &  16 &  145 &  161 &  18703 & 0.008608245 &  2.2797483\\\\\n",
       "\t 1996.FLD                                                                                                                                                          & 1996 & FLD                                                                                                                                                          & 10\\_evolutionGroup &   8 &   13 &   21 &   2894 & 0.007256393 &  1.6828007\\\\\n",
       "\t 2008.UNIONE DEI DEMOCRATICI CRISTIANI E DEI DEMOCRATICI DI CENTRO                                                                                                 & 2008 & UNIONE DEI DEMOCRATICI CRISTIANI E DEI DEMOCRATICI DI CENTRO                                                                                                 & 2\\_evolutionGroup  &   7 &   66 &   73 &  11075 & 0.006591422 &  1.3891647\\\\\n",
       "\t 2008.FLPTP                                                                                                                                                        & 2008 & FLPTP                                                                                                                                                        & 8\\_evolutionGroup  &   9 &  142 &  151 &  23058 & 0.006548703 &  1.3703011\\\\\n",
       "\t 2008.SDPSE                                                                                                                                                        & 2008 & SDPSE                                                                                                                                                        & 1\\_evolutionGroup  &   4 &   34 &   38 &   6108 & 0.006221349 &  1.2257488\\\\\n",
       "\t 2008.LNP                                                                                                                                                          & 2008 & LNP                                                                                                                                                          & 10\\_evolutionGroup &  41 &  498 &  539 &  94856 & 0.005682297 &  0.9877157\\\\\n",
       "\t 2015.LNA                                                                                                                                                          & 2015 & LNA                                                                                                                                                          & 10\\_evolutionGroup &  80 &  617 &  697 & 122917 & 0.005670493 &  0.9825032\\\\\n",
       "\t 2014.FDI-AN                                                                                                                                                       & 2014 & FDI-AN                                                                                                                                                       & 8\\_evolutionGroup  &  82 &  209 &  291 &  51695 & 0.005629171 &  0.9642563\\\\\n",
       "\t 1994.DEMO                                                                                                                                                         & 1994 & DEMO                                                                                                                                                         & 2\\_evolutionGroup  &  26 &  183 &  209 &  38521 & 0.005425612 &  0.8743692\\\\\n",
       "\t 2017.LNA                                                                                                                                                          & 2017 & LNA                                                                                                                                                          & 10\\_evolutionGroup &  72 &  483 &  555 & 103023 & 0.005387147 &  0.8573837\\\\\n",
       "\t 2007.POP-UDEUR                                                                                                                                                    & 2007 & POP-UDEUR                                                                                                                                                    & 2\\_evolutionGroup  &  20 &  145 &  165 &  30698 & 0.005374943 &  0.8519949\\\\\n",
       "\t 2009.FLPTP                                                                                                                                                        & 2009 & FLPTP                                                                                                                                                        & 8\\_evolutionGroup  &  10 &  156 &  166 &  31021 & 0.005351214 &  0.8415165\\\\\n",
       "\t 2006.POP-UDEUR                                                                                                                                                    & 2006 & POP-UDEUR                                                                                                                                                    & 2\\_evolutionGroup  &  16 &   96 &  112 &  21052 & 0.005320160 &  0.8278038\\\\\n",
       "\t 2015.M5S                                                                                                                                                          & 2015 & M5S                                                                                                                                                          & 15\\_evolutionGroup & 449 & 2332 & 2781 & 527990 & 0.005267145 &  0.8043938\\\\\n",
       "\t 2010.NOI SUD-LIBERTA' ED AUTONOMIA/POPOLARI D'ITALIA DOMANI-PID/MOVIMENTO DI RESPONSABILITA' NAZIONALE-MRN/AZIONE POPOLARE/ALLEANZA DI CENTRO-ADC/INTESA POPOLARE & 2010 & NOI SUD-LIBERTA' ED AUTONOMIA/POPOLARI D'ITALIA DOMANI-PID/MOVIMENTO DI RESPONSABILITA' NAZIONALE-MRN/AZIONE POPOLARE/ALLEANZA DI CENTRO-ADC/INTESA POPOLARE & 2\\_evolutionGroup  &  12 &  177 &  189 &  36295 & 0.005207329 &  0.7779802\\\\\n",
       "\\end{tabular}\n"
      ],
      "text/markdown": [
       "\n",
       "A tibble: 20 × 10\n",
       "\n",
       "| doc_id &lt;chr&gt; | year &lt;int&gt; | party &lt;chr&gt; | cluster &lt;chr&gt; | anti_elitism &lt;dbl&gt; | people_centrism &lt;dbl&gt; | populist_toks &lt;dbl&gt; | total_toks &lt;int&gt; | perc_of_populist_toks &lt;dbl&gt; | standardized_perc_of_populist_toks &lt;dbl&gt; |\n",
       "|---|---|---|---|---|---|---|---|---|---|\n",
       "| 2009.UNIONE DEI DEMOCRATICI CRISTIANI E DEI DEMOCRATICI DI CENTRO                                                                                                 | 2009 | UNIONE DEI DEMOCRATICI CRISTIANI E DEI DEMOCRATICI DI CENTRO                                                                                                 | 2_evolutionGroup  |   1 |    5 |    6 |    188 | 0.031914894 | 12.5714411 |\n",
       "| 2009.SOCRAD-RNP                                                                                                                                                   | 2009 | SOCRAD-RNP                                                                                                                                                   | 11_evolutionGroup |   0 |   10 |   10 |    582 | 0.017182131 |  6.0657838 |\n",
       "| 2008.POP-UDEUR                                                                                                                                                    | 2008 | POP-UDEUR                                                                                                                                                    | 2_evolutionGroup  |   2 |   33 |   35 |   2338 | 0.014970060 |  5.0889830 |\n",
       "| 2008.DCA-NPSI                                                                                                                                                     | 2008 | DCA-NPSI                                                                                                                                                     | 2_evolutionGroup  |   0 |    3 |    3 |    269 | 0.011152416 |  3.4031974 |\n",
       "| 1996.PPI                                                                                                                                                          | 1996 | PPI                                                                                                                                                          | 2_evolutionGroup  |  22 |   72 |   94 |   9296 | 0.010111876 |  2.9437182 |\n",
       "| 2006.LNFP                                                                                                                                                         | 2006 | LNFP                                                                                                                                                         | 10_evolutionGroup |  16 |  145 |  161 |  18703 | 0.008608245 |  2.2797483 |\n",
       "| 1996.FLD                                                                                                                                                          | 1996 | FLD                                                                                                                                                          | 10_evolutionGroup |   8 |   13 |   21 |   2894 | 0.007256393 |  1.6828007 |\n",
       "| 2008.UNIONE DEI DEMOCRATICI CRISTIANI E DEI DEMOCRATICI DI CENTRO                                                                                                 | 2008 | UNIONE DEI DEMOCRATICI CRISTIANI E DEI DEMOCRATICI DI CENTRO                                                                                                 | 2_evolutionGroup  |   7 |   66 |   73 |  11075 | 0.006591422 |  1.3891647 |\n",
       "| 2008.FLPTP                                                                                                                                                        | 2008 | FLPTP                                                                                                                                                        | 8_evolutionGroup  |   9 |  142 |  151 |  23058 | 0.006548703 |  1.3703011 |\n",
       "| 2008.SDPSE                                                                                                                                                        | 2008 | SDPSE                                                                                                                                                        | 1_evolutionGroup  |   4 |   34 |   38 |   6108 | 0.006221349 |  1.2257488 |\n",
       "| 2008.LNP                                                                                                                                                          | 2008 | LNP                                                                                                                                                          | 10_evolutionGroup |  41 |  498 |  539 |  94856 | 0.005682297 |  0.9877157 |\n",
       "| 2015.LNA                                                                                                                                                          | 2015 | LNA                                                                                                                                                          | 10_evolutionGroup |  80 |  617 |  697 | 122917 | 0.005670493 |  0.9825032 |\n",
       "| 2014.FDI-AN                                                                                                                                                       | 2014 | FDI-AN                                                                                                                                                       | 8_evolutionGroup  |  82 |  209 |  291 |  51695 | 0.005629171 |  0.9642563 |\n",
       "| 1994.DEMO                                                                                                                                                         | 1994 | DEMO                                                                                                                                                         | 2_evolutionGroup  |  26 |  183 |  209 |  38521 | 0.005425612 |  0.8743692 |\n",
       "| 2017.LNA                                                                                                                                                          | 2017 | LNA                                                                                                                                                          | 10_evolutionGroup |  72 |  483 |  555 | 103023 | 0.005387147 |  0.8573837 |\n",
       "| 2007.POP-UDEUR                                                                                                                                                    | 2007 | POP-UDEUR                                                                                                                                                    | 2_evolutionGroup  |  20 |  145 |  165 |  30698 | 0.005374943 |  0.8519949 |\n",
       "| 2009.FLPTP                                                                                                                                                        | 2009 | FLPTP                                                                                                                                                        | 8_evolutionGroup  |  10 |  156 |  166 |  31021 | 0.005351214 |  0.8415165 |\n",
       "| 2006.POP-UDEUR                                                                                                                                                    | 2006 | POP-UDEUR                                                                                                                                                    | 2_evolutionGroup  |  16 |   96 |  112 |  21052 | 0.005320160 |  0.8278038 |\n",
       "| 2015.M5S                                                                                                                                                          | 2015 | M5S                                                                                                                                                          | 15_evolutionGroup | 449 | 2332 | 2781 | 527990 | 0.005267145 |  0.8043938 |\n",
       "| 2010.NOI SUD-LIBERTA' ED AUTONOMIA/POPOLARI D'ITALIA DOMANI-PID/MOVIMENTO DI RESPONSABILITA' NAZIONALE-MRN/AZIONE POPOLARE/ALLEANZA DI CENTRO-ADC/INTESA POPOLARE | 2010 | NOI SUD-LIBERTA' ED AUTONOMIA/POPOLARI D'ITALIA DOMANI-PID/MOVIMENTO DI RESPONSABILITA' NAZIONALE-MRN/AZIONE POPOLARE/ALLEANZA DI CENTRO-ADC/INTESA POPOLARE | 2_evolutionGroup  |  12 |  177 |  189 |  36295 | 0.005207329 |  0.7779802 |\n",
       "\n"
      ],
      "text/plain": [
       "   doc_id                                                                                                                                                           \n",
       "1  2009.UNIONE DEI DEMOCRATICI CRISTIANI E DEI DEMOCRATICI DI CENTRO                                                                                                \n",
       "2  2009.SOCRAD-RNP                                                                                                                                                  \n",
       "3  2008.POP-UDEUR                                                                                                                                                   \n",
       "4  2008.DCA-NPSI                                                                                                                                                    \n",
       "5  1996.PPI                                                                                                                                                         \n",
       "6  2006.LNFP                                                                                                                                                        \n",
       "7  1996.FLD                                                                                                                                                         \n",
       "8  2008.UNIONE DEI DEMOCRATICI CRISTIANI E DEI DEMOCRATICI DI CENTRO                                                                                                \n",
       "9  2008.FLPTP                                                                                                                                                       \n",
       "10 2008.SDPSE                                                                                                                                                       \n",
       "11 2008.LNP                                                                                                                                                         \n",
       "12 2015.LNA                                                                                                                                                         \n",
       "13 2014.FDI-AN                                                                                                                                                      \n",
       "14 1994.DEMO                                                                                                                                                        \n",
       "15 2017.LNA                                                                                                                                                         \n",
       "16 2007.POP-UDEUR                                                                                                                                                   \n",
       "17 2009.FLPTP                                                                                                                                                       \n",
       "18 2006.POP-UDEUR                                                                                                                                                   \n",
       "19 2015.M5S                                                                                                                                                         \n",
       "20 2010.NOI SUD-LIBERTA' ED AUTONOMIA/POPOLARI D'ITALIA DOMANI-PID/MOVIMENTO DI RESPONSABILITA' NAZIONALE-MRN/AZIONE POPOLARE/ALLEANZA DI CENTRO-ADC/INTESA POPOLARE\n",
       "   year\n",
       "1  2009\n",
       "2  2009\n",
       "3  2008\n",
       "4  2008\n",
       "5  1996\n",
       "6  2006\n",
       "7  1996\n",
       "8  2008\n",
       "9  2008\n",
       "10 2008\n",
       "11 2008\n",
       "12 2015\n",
       "13 2014\n",
       "14 1994\n",
       "15 2017\n",
       "16 2007\n",
       "17 2009\n",
       "18 2006\n",
       "19 2015\n",
       "20 2010\n",
       "   party                                                                                                                                                       \n",
       "1  UNIONE DEI DEMOCRATICI CRISTIANI E DEI DEMOCRATICI DI CENTRO                                                                                                \n",
       "2  SOCRAD-RNP                                                                                                                                                  \n",
       "3  POP-UDEUR                                                                                                                                                   \n",
       "4  DCA-NPSI                                                                                                                                                    \n",
       "5  PPI                                                                                                                                                         \n",
       "6  LNFP                                                                                                                                                        \n",
       "7  FLD                                                                                                                                                         \n",
       "8  UNIONE DEI DEMOCRATICI CRISTIANI E DEI DEMOCRATICI DI CENTRO                                                                                                \n",
       "9  FLPTP                                                                                                                                                       \n",
       "10 SDPSE                                                                                                                                                       \n",
       "11 LNP                                                                                                                                                         \n",
       "12 LNA                                                                                                                                                         \n",
       "13 FDI-AN                                                                                                                                                      \n",
       "14 DEMO                                                                                                                                                        \n",
       "15 LNA                                                                                                                                                         \n",
       "16 POP-UDEUR                                                                                                                                                   \n",
       "17 FLPTP                                                                                                                                                       \n",
       "18 POP-UDEUR                                                                                                                                                   \n",
       "19 M5S                                                                                                                                                         \n",
       "20 NOI SUD-LIBERTA' ED AUTONOMIA/POPOLARI D'ITALIA DOMANI-PID/MOVIMENTO DI RESPONSABILITA' NAZIONALE-MRN/AZIONE POPOLARE/ALLEANZA DI CENTRO-ADC/INTESA POPOLARE\n",
       "   cluster           anti_elitism people_centrism populist_toks total_toks\n",
       "1  2_evolutionGroup    1             5               6             188    \n",
       "2  11_evolutionGroup   0            10              10             582    \n",
       "3  2_evolutionGroup    2            33              35            2338    \n",
       "4  2_evolutionGroup    0             3               3             269    \n",
       "5  2_evolutionGroup   22            72              94            9296    \n",
       "6  10_evolutionGroup  16           145             161           18703    \n",
       "7  10_evolutionGroup   8            13              21            2894    \n",
       "8  2_evolutionGroup    7            66              73           11075    \n",
       "9  8_evolutionGroup    9           142             151           23058    \n",
       "10 1_evolutionGroup    4            34              38            6108    \n",
       "11 10_evolutionGroup  41           498             539           94856    \n",
       "12 10_evolutionGroup  80           617             697          122917    \n",
       "13 8_evolutionGroup   82           209             291           51695    \n",
       "14 2_evolutionGroup   26           183             209           38521    \n",
       "15 10_evolutionGroup  72           483             555          103023    \n",
       "16 2_evolutionGroup   20           145             165           30698    \n",
       "17 8_evolutionGroup   10           156             166           31021    \n",
       "18 2_evolutionGroup   16            96             112           21052    \n",
       "19 15_evolutionGroup 449          2332            2781          527990    \n",
       "20 2_evolutionGroup   12           177             189           36295    \n",
       "   perc_of_populist_toks standardized_perc_of_populist_toks\n",
       "1  0.031914894           12.5714411                        \n",
       "2  0.017182131            6.0657838                        \n",
       "3  0.014970060            5.0889830                        \n",
       "4  0.011152416            3.4031974                        \n",
       "5  0.010111876            2.9437182                        \n",
       "6  0.008608245            2.2797483                        \n",
       "7  0.007256393            1.6828007                        \n",
       "8  0.006591422            1.3891647                        \n",
       "9  0.006548703            1.3703011                        \n",
       "10 0.006221349            1.2257488                        \n",
       "11 0.005682297            0.9877157                        \n",
       "12 0.005670493            0.9825032                        \n",
       "13 0.005629171            0.9642563                        \n",
       "14 0.005425612            0.8743692                        \n",
       "15 0.005387147            0.8573837                        \n",
       "16 0.005374943            0.8519949                        \n",
       "17 0.005351214            0.8415165                        \n",
       "18 0.005320160            0.8278038                        \n",
       "19 0.005267145            0.8043938                        \n",
       "20 0.005207329            0.7779802                        "
      ]
     },
     "metadata": {},
     "output_type": "display_data"
    }
   ],
   "source": [
    "df_db %>% \n",
    "arrange(desc(standardized_perc_of_populist_toks)) %>% \n",
    "head(20)"
   ]
  },
  {
   "cell_type": "markdown",
   "id": "2dde4e46",
   "metadata": {},
   "source": [
    "Similarly, when we look at the party-year combinations with the lowest populist scores we find both mainstream and populist parties. This seems to suggest that D&B' dictionary lacks face validity."
   ]
  },
  {
   "cell_type": "code",
   "execution_count": 36,
   "id": "6d2b7b10",
   "metadata": {},
   "outputs": [
    {
     "data": {
      "text/html": [
       "<table class=\"dataframe\">\n",
       "<caption>A tibble: 20 × 10</caption>\n",
       "<thead>\n",
       "\t<tr><th scope=col>doc_id</th><th scope=col>year</th><th scope=col>party</th><th scope=col>cluster</th><th scope=col>anti_elitism</th><th scope=col>people_centrism</th><th scope=col>populist_toks</th><th scope=col>total_toks</th><th scope=col>perc_of_populist_toks</th><th scope=col>standardized_perc_of_populist_toks</th></tr>\n",
       "\t<tr><th scope=col>&lt;chr&gt;</th><th scope=col>&lt;int&gt;</th><th scope=col>&lt;chr&gt;</th><th scope=col>&lt;chr&gt;</th><th scope=col>&lt;dbl&gt;</th><th scope=col>&lt;dbl&gt;</th><th scope=col>&lt;dbl&gt;</th><th scope=col>&lt;int&gt;</th><th scope=col>&lt;dbl&gt;</th><th scope=col>&lt;dbl&gt;</th></tr>\n",
       "</thead>\n",
       "<tbody>\n",
       "\t<tr><td>2018.CI        </td><td>2018</td><td>CI        </td><td>3_evolutionGroup </td><td> 0</td><td>  0</td><td>  0</td><td>   550</td><td>0.0000000000</td><td>-1.5214593</td></tr>\n",
       "\t<tr><td>2008.COM/IT/   </td><td>2008</td><td>COM/IT/   </td><td>12_evolutionGroup</td><td> 0</td><td>  0</td><td>  0</td><td>   770</td><td>0.0000000000</td><td>-1.5214593</td></tr>\n",
       "\t<tr><td>2009.DCA-NPSI  </td><td>2009</td><td>DCA-NPSI  </td><td>2_evolutionGroup </td><td> 0</td><td>  0</td><td>  0</td><td>    26</td><td>0.0000000000</td><td>-1.5214593</td></tr>\n",
       "\t<tr><td>2018.FDI-AN    </td><td>2018</td><td>FDI-AN    </td><td>8_evolutionGroup </td><td> 0</td><td>  0</td><td>  0</td><td>   229</td><td>0.0000000000</td><td>-1.5214593</td></tr>\n",
       "\t<tr><td>2013.FLPTP     </td><td>2013</td><td>FLPTP     </td><td>8_evolutionGroup </td><td> 0</td><td>  0</td><td>  0</td><td>     2</td><td>0.0000000000</td><td>-1.5214593</td></tr>\n",
       "\t<tr><td>1994.LIFED     </td><td>1994</td><td>LIFED     </td><td>10_evolutionGroup</td><td> 0</td><td>  0</td><td>  0</td><td>   217</td><td>0.0000000000</td><td>-1.5214593</td></tr>\n",
       "\t<tr><td>1996.LIFED     </td><td>1996</td><td>LIFED     </td><td>10_evolutionGroup</td><td> 0</td><td>  0</td><td>  0</td><td>   979</td><td>0.0000000000</td><td>-1.5214593</td></tr>\n",
       "\t<tr><td>2009.SDPSE     </td><td>2009</td><td>SDPSE     </td><td>1_evolutionGroup </td><td> 0</td><td>  0</td><td>  0</td><td>    80</td><td>0.0000000000</td><td>-1.5214593</td></tr>\n",
       "\t<tr><td>2016.DES-CD    </td><td>2016</td><td>DES-CD    </td><td>2_evolutionGroup </td><td> 1</td><td>  3</td><td>  4</td><td>  5886</td><td>0.0006795787</td><td>-1.2213726</td></tr>\n",
       "\t<tr><td>1996.UDEUR     </td><td>1996</td><td>UDEUR     </td><td>2_evolutionGroup </td><td>10</td><td> 13</td><td> 23</td><td> 29778</td><td>0.0007723823</td><td>-1.1803926</td></tr>\n",
       "\t<tr><td>2001.UDR       </td><td>2001</td><td>UDR       </td><td>2_evolutionGroup </td><td> 2</td><td>  2</td><td>  4</td><td>  4213</td><td>0.0009494422</td><td>-1.1022069</td></tr>\n",
       "\t<tr><td>2014.DES-CD    </td><td>2014</td><td>DES-CD    </td><td>2_evolutionGroup </td><td> 1</td><td> 10</td><td> 11</td><td>  9057</td><td>0.0012145302</td><td>-0.9851500</td></tr>\n",
       "\t<tr><td>1996.PD-ULIVO  </td><td>1996</td><td>PD-ULIVO  </td><td>2_evolutionGroup </td><td>16</td><td>103</td><td>119</td><td> 90095</td><td>0.0013208280</td><td>-0.9382113</td></tr>\n",
       "\t<tr><td>2018.FI-PDL    </td><td>2018</td><td>FI-PDL    </td><td>9_evolutionGroup </td><td> 0</td><td>  4</td><td>  4</td><td>  2966</td><td>0.0013486177</td><td>-0.9259400</td></tr>\n",
       "\t<tr><td>1997.UDEUR     </td><td>1997</td><td>UDEUR     </td><td>2_evolutionGroup </td><td>15</td><td> 32</td><td> 47</td><td> 33556</td><td>0.0014006437</td><td>-0.9029665</td></tr>\n",
       "\t<tr><td>2008.SOCRAD-RNP</td><td>2008</td><td>SOCRAD-RNP</td><td>11_evolutionGroup</td><td> 0</td><td>  5</td><td>  5</td><td>  3183</td><td>0.0015708451</td><td>-0.8278093</td></tr>\n",
       "\t<tr><td>1995.LIFED     </td><td>1995</td><td>LIFED     </td><td>10_evolutionGroup</td><td> 0</td><td>  3</td><td>  3</td><td>  1870</td><td>0.0016042781</td><td>-0.8130461</td></tr>\n",
       "\t<tr><td>2001.F-ITA     </td><td>2001</td><td>F-ITA     </td><td>9_evolutionGroup </td><td>63</td><td>114</td><td>177</td><td>105255</td><td>0.0016816303</td><td>-0.7788891</td></tr>\n",
       "\t<tr><td>2020.LEU       </td><td>2020</td><td>LEU       </td><td>1_evolutionGroup </td><td> 9</td><td>  9</td><td> 18</td><td> 10470</td><td>0.0017191977</td><td>-0.7623002</td></tr>\n",
       "\t<tr><td>2009.RC-SE     </td><td>2009</td><td>RC-SE     </td><td>12_evolutionGroup</td><td> 1</td><td>  1</td><td>  2</td><td>  1154</td><td>0.0017331023</td><td>-0.7561602</td></tr>\n",
       "</tbody>\n",
       "</table>\n"
      ],
      "text/latex": [
       "A tibble: 20 × 10\n",
       "\\begin{tabular}{llllllllll}\n",
       " doc\\_id & year & party & cluster & anti\\_elitism & people\\_centrism & populist\\_toks & total\\_toks & perc\\_of\\_populist\\_toks & standardized\\_perc\\_of\\_populist\\_toks\\\\\n",
       " <chr> & <int> & <chr> & <chr> & <dbl> & <dbl> & <dbl> & <int> & <dbl> & <dbl>\\\\\n",
       "\\hline\n",
       "\t 2018.CI         & 2018 & CI         & 3\\_evolutionGroup  &  0 &   0 &   0 &    550 & 0.0000000000 & -1.5214593\\\\\n",
       "\t 2008.COM/IT/    & 2008 & COM/IT/    & 12\\_evolutionGroup &  0 &   0 &   0 &    770 & 0.0000000000 & -1.5214593\\\\\n",
       "\t 2009.DCA-NPSI   & 2009 & DCA-NPSI   & 2\\_evolutionGroup  &  0 &   0 &   0 &     26 & 0.0000000000 & -1.5214593\\\\\n",
       "\t 2018.FDI-AN     & 2018 & FDI-AN     & 8\\_evolutionGroup  &  0 &   0 &   0 &    229 & 0.0000000000 & -1.5214593\\\\\n",
       "\t 2013.FLPTP      & 2013 & FLPTP      & 8\\_evolutionGroup  &  0 &   0 &   0 &      2 & 0.0000000000 & -1.5214593\\\\\n",
       "\t 1994.LIFED      & 1994 & LIFED      & 10\\_evolutionGroup &  0 &   0 &   0 &    217 & 0.0000000000 & -1.5214593\\\\\n",
       "\t 1996.LIFED      & 1996 & LIFED      & 10\\_evolutionGroup &  0 &   0 &   0 &    979 & 0.0000000000 & -1.5214593\\\\\n",
       "\t 2009.SDPSE      & 2009 & SDPSE      & 1\\_evolutionGroup  &  0 &   0 &   0 &     80 & 0.0000000000 & -1.5214593\\\\\n",
       "\t 2016.DES-CD     & 2016 & DES-CD     & 2\\_evolutionGroup  &  1 &   3 &   4 &   5886 & 0.0006795787 & -1.2213726\\\\\n",
       "\t 1996.UDEUR      & 1996 & UDEUR      & 2\\_evolutionGroup  & 10 &  13 &  23 &  29778 & 0.0007723823 & -1.1803926\\\\\n",
       "\t 2001.UDR        & 2001 & UDR        & 2\\_evolutionGroup  &  2 &   2 &   4 &   4213 & 0.0009494422 & -1.1022069\\\\\n",
       "\t 2014.DES-CD     & 2014 & DES-CD     & 2\\_evolutionGroup  &  1 &  10 &  11 &   9057 & 0.0012145302 & -0.9851500\\\\\n",
       "\t 1996.PD-ULIVO   & 1996 & PD-ULIVO   & 2\\_evolutionGroup  & 16 & 103 & 119 &  90095 & 0.0013208280 & -0.9382113\\\\\n",
       "\t 2018.FI-PDL     & 2018 & FI-PDL     & 9\\_evolutionGroup  &  0 &   4 &   4 &   2966 & 0.0013486177 & -0.9259400\\\\\n",
       "\t 1997.UDEUR      & 1997 & UDEUR      & 2\\_evolutionGroup  & 15 &  32 &  47 &  33556 & 0.0014006437 & -0.9029665\\\\\n",
       "\t 2008.SOCRAD-RNP & 2008 & SOCRAD-RNP & 11\\_evolutionGroup &  0 &   5 &   5 &   3183 & 0.0015708451 & -0.8278093\\\\\n",
       "\t 1995.LIFED      & 1995 & LIFED      & 10\\_evolutionGroup &  0 &   3 &   3 &   1870 & 0.0016042781 & -0.8130461\\\\\n",
       "\t 2001.F-ITA      & 2001 & F-ITA      & 9\\_evolutionGroup  & 63 & 114 & 177 & 105255 & 0.0016816303 & -0.7788891\\\\\n",
       "\t 2020.LEU        & 2020 & LEU        & 1\\_evolutionGroup  &  9 &   9 &  18 &  10470 & 0.0017191977 & -0.7623002\\\\\n",
       "\t 2009.RC-SE      & 2009 & RC-SE      & 12\\_evolutionGroup &  1 &   1 &   2 &   1154 & 0.0017331023 & -0.7561602\\\\\n",
       "\\end{tabular}\n"
      ],
      "text/markdown": [
       "\n",
       "A tibble: 20 × 10\n",
       "\n",
       "| doc_id &lt;chr&gt; | year &lt;int&gt; | party &lt;chr&gt; | cluster &lt;chr&gt; | anti_elitism &lt;dbl&gt; | people_centrism &lt;dbl&gt; | populist_toks &lt;dbl&gt; | total_toks &lt;int&gt; | perc_of_populist_toks &lt;dbl&gt; | standardized_perc_of_populist_toks &lt;dbl&gt; |\n",
       "|---|---|---|---|---|---|---|---|---|---|\n",
       "| 2018.CI         | 2018 | CI         | 3_evolutionGroup  |  0 |   0 |   0 |    550 | 0.0000000000 | -1.5214593 |\n",
       "| 2008.COM/IT/    | 2008 | COM/IT/    | 12_evolutionGroup |  0 |   0 |   0 |    770 | 0.0000000000 | -1.5214593 |\n",
       "| 2009.DCA-NPSI   | 2009 | DCA-NPSI   | 2_evolutionGroup  |  0 |   0 |   0 |     26 | 0.0000000000 | -1.5214593 |\n",
       "| 2018.FDI-AN     | 2018 | FDI-AN     | 8_evolutionGroup  |  0 |   0 |   0 |    229 | 0.0000000000 | -1.5214593 |\n",
       "| 2013.FLPTP      | 2013 | FLPTP      | 8_evolutionGroup  |  0 |   0 |   0 |      2 | 0.0000000000 | -1.5214593 |\n",
       "| 1994.LIFED      | 1994 | LIFED      | 10_evolutionGroup |  0 |   0 |   0 |    217 | 0.0000000000 | -1.5214593 |\n",
       "| 1996.LIFED      | 1996 | LIFED      | 10_evolutionGroup |  0 |   0 |   0 |    979 | 0.0000000000 | -1.5214593 |\n",
       "| 2009.SDPSE      | 2009 | SDPSE      | 1_evolutionGroup  |  0 |   0 |   0 |     80 | 0.0000000000 | -1.5214593 |\n",
       "| 2016.DES-CD     | 2016 | DES-CD     | 2_evolutionGroup  |  1 |   3 |   4 |   5886 | 0.0006795787 | -1.2213726 |\n",
       "| 1996.UDEUR      | 1996 | UDEUR      | 2_evolutionGroup  | 10 |  13 |  23 |  29778 | 0.0007723823 | -1.1803926 |\n",
       "| 2001.UDR        | 2001 | UDR        | 2_evolutionGroup  |  2 |   2 |   4 |   4213 | 0.0009494422 | -1.1022069 |\n",
       "| 2014.DES-CD     | 2014 | DES-CD     | 2_evolutionGroup  |  1 |  10 |  11 |   9057 | 0.0012145302 | -0.9851500 |\n",
       "| 1996.PD-ULIVO   | 1996 | PD-ULIVO   | 2_evolutionGroup  | 16 | 103 | 119 |  90095 | 0.0013208280 | -0.9382113 |\n",
       "| 2018.FI-PDL     | 2018 | FI-PDL     | 9_evolutionGroup  |  0 |   4 |   4 |   2966 | 0.0013486177 | -0.9259400 |\n",
       "| 1997.UDEUR      | 1997 | UDEUR      | 2_evolutionGroup  | 15 |  32 |  47 |  33556 | 0.0014006437 | -0.9029665 |\n",
       "| 2008.SOCRAD-RNP | 2008 | SOCRAD-RNP | 11_evolutionGroup |  0 |   5 |   5 |   3183 | 0.0015708451 | -0.8278093 |\n",
       "| 1995.LIFED      | 1995 | LIFED      | 10_evolutionGroup |  0 |   3 |   3 |   1870 | 0.0016042781 | -0.8130461 |\n",
       "| 2001.F-ITA      | 2001 | F-ITA      | 9_evolutionGroup  | 63 | 114 | 177 | 105255 | 0.0016816303 | -0.7788891 |\n",
       "| 2020.LEU        | 2020 | LEU        | 1_evolutionGroup  |  9 |   9 |  18 |  10470 | 0.0017191977 | -0.7623002 |\n",
       "| 2009.RC-SE      | 2009 | RC-SE      | 12_evolutionGroup |  1 |   1 |   2 |   1154 | 0.0017331023 | -0.7561602 |\n",
       "\n"
      ],
      "text/plain": [
       "   doc_id          year party      cluster           anti_elitism\n",
       "1  2018.CI         2018 CI         3_evolutionGroup   0          \n",
       "2  2008.COM/IT/    2008 COM/IT/    12_evolutionGroup  0          \n",
       "3  2009.DCA-NPSI   2009 DCA-NPSI   2_evolutionGroup   0          \n",
       "4  2018.FDI-AN     2018 FDI-AN     8_evolutionGroup   0          \n",
       "5  2013.FLPTP      2013 FLPTP      8_evolutionGroup   0          \n",
       "6  1994.LIFED      1994 LIFED      10_evolutionGroup  0          \n",
       "7  1996.LIFED      1996 LIFED      10_evolutionGroup  0          \n",
       "8  2009.SDPSE      2009 SDPSE      1_evolutionGroup   0          \n",
       "9  2016.DES-CD     2016 DES-CD     2_evolutionGroup   1          \n",
       "10 1996.UDEUR      1996 UDEUR      2_evolutionGroup  10          \n",
       "11 2001.UDR        2001 UDR        2_evolutionGroup   2          \n",
       "12 2014.DES-CD     2014 DES-CD     2_evolutionGroup   1          \n",
       "13 1996.PD-ULIVO   1996 PD-ULIVO   2_evolutionGroup  16          \n",
       "14 2018.FI-PDL     2018 FI-PDL     9_evolutionGroup   0          \n",
       "15 1997.UDEUR      1997 UDEUR      2_evolutionGroup  15          \n",
       "16 2008.SOCRAD-RNP 2008 SOCRAD-RNP 11_evolutionGroup  0          \n",
       "17 1995.LIFED      1995 LIFED      10_evolutionGroup  0          \n",
       "18 2001.F-ITA      2001 F-ITA      9_evolutionGroup  63          \n",
       "19 2020.LEU        2020 LEU        1_evolutionGroup   9          \n",
       "20 2009.RC-SE      2009 RC-SE      12_evolutionGroup  1          \n",
       "   people_centrism populist_toks total_toks perc_of_populist_toks\n",
       "1    0               0              550     0.0000000000         \n",
       "2    0               0              770     0.0000000000         \n",
       "3    0               0               26     0.0000000000         \n",
       "4    0               0              229     0.0000000000         \n",
       "5    0               0                2     0.0000000000         \n",
       "6    0               0              217     0.0000000000         \n",
       "7    0               0              979     0.0000000000         \n",
       "8    0               0               80     0.0000000000         \n",
       "9    3               4             5886     0.0006795787         \n",
       "10  13              23            29778     0.0007723823         \n",
       "11   2               4             4213     0.0009494422         \n",
       "12  10              11             9057     0.0012145302         \n",
       "13 103             119            90095     0.0013208280         \n",
       "14   4               4             2966     0.0013486177         \n",
       "15  32              47            33556     0.0014006437         \n",
       "16   5               5             3183     0.0015708451         \n",
       "17   3               3             1870     0.0016042781         \n",
       "18 114             177           105255     0.0016816303         \n",
       "19   9              18            10470     0.0017191977         \n",
       "20   1               2             1154     0.0017331023         \n",
       "   standardized_perc_of_populist_toks\n",
       "1  -1.5214593                        \n",
       "2  -1.5214593                        \n",
       "3  -1.5214593                        \n",
       "4  -1.5214593                        \n",
       "5  -1.5214593                        \n",
       "6  -1.5214593                        \n",
       "7  -1.5214593                        \n",
       "8  -1.5214593                        \n",
       "9  -1.2213726                        \n",
       "10 -1.1803926                        \n",
       "11 -1.1022069                        \n",
       "12 -0.9851500                        \n",
       "13 -0.9382113                        \n",
       "14 -0.9259400                        \n",
       "15 -0.9029665                        \n",
       "16 -0.8278093                        \n",
       "17 -0.8130461                        \n",
       "18 -0.7788891                        \n",
       "19 -0.7623002                        \n",
       "20 -0.7561602                        "
      ]
     },
     "metadata": {},
     "output_type": "display_data"
    }
   ],
   "source": [
    "df_db %>% \n",
    "arrange(desc(standardized_perc_of_populist_toks)) %>% \n",
    "tail(20) %>% \n",
    "arrange(standardized_perc_of_populist_toks)"
   ]
  },
  {
   "cell_type": "markdown",
   "id": "2d05b827",
   "metadata": {},
   "source": [
    "## External validity <a class=\"anchor\" id=\"subparagraph8\"></a>"
   ]
  },
  {
   "cell_type": "markdown",
   "id": "e83c7d29",
   "metadata": {},
   "source": [
    "### Chapel Hill Expert Survey <a class=\"anchor\" id=\"subparagraph9\"></a>"
   ]
  },
  {
   "cell_type": "markdown",
   "id": "554e790f",
   "metadata": {},
   "source": [
    "As Decadri and Boussalis' dictionary captures both dimensions of populism we will validate it against a combination of two different variables from the CHES dataset, i.e. \"anti-élite salience\" and \"people_vs_élite\". We'll use the former as a proxy for the anti-establishment component and the latter as a proxy for the people-centrist one. The \"people_vs_élite\" variable has been introduced in the 2019 edition of the dataset, so we'll only work with observations from that year."
   ]
  },
  {
   "cell_type": "markdown",
   "id": "0f1612f4",
   "metadata": {},
   "source": [
    "The following are the Italian parties in the CHES dataset for the year 2019"
   ]
  },
  {
   "cell_type": "code",
   "execution_count": 37,
   "id": "f7f1416f",
   "metadata": {},
   "outputs": [
    {
     "data": {
      "text/html": [
       "<table class=\"dataframe\">\n",
       "<caption>A tibble: 8 × 3</caption>\n",
       "<thead>\n",
       "\t<tr><th scope=col>party</th><th scope=col>antielite_salience</th><th scope=col>people_vs_elite</th></tr>\n",
       "\t<tr><th scope=col>&lt;chr&gt;</th><th scope=col>&lt;dbl&gt;</th><th scope=col>&lt;dbl&gt;</th></tr>\n",
       "</thead>\n",
       "<tbody>\n",
       "\t<tr><td>RI </td><td>2.200000</td><td>3.357143</td></tr>\n",
       "\t<tr><td>M5S</td><td>8.888889</td><td>9.529411</td></tr>\n",
       "\t<tr><td>SI </td><td>3.785714</td><td>2.666667</td></tr>\n",
       "\t<tr><td>FdI</td><td>8.000000</td><td>6.625000</td></tr>\n",
       "\t<tr><td>PD </td><td>1.882353</td><td>2.062500</td></tr>\n",
       "\t<tr><td>LN </td><td>8.333333</td><td>6.937500</td></tr>\n",
       "\t<tr><td>SVP</td><td>2.166667</td><td>1.400000</td></tr>\n",
       "\t<tr><td>FI </td><td>4.176471</td><td>4.066667</td></tr>\n",
       "</tbody>\n",
       "</table>\n"
      ],
      "text/latex": [
       "A tibble: 8 × 3\n",
       "\\begin{tabular}{lll}\n",
       " party & antielite\\_salience & people\\_vs\\_elite\\\\\n",
       " <chr> & <dbl> & <dbl>\\\\\n",
       "\\hline\n",
       "\t RI  & 2.200000 & 3.357143\\\\\n",
       "\t M5S & 8.888889 & 9.529411\\\\\n",
       "\t SI  & 3.785714 & 2.666667\\\\\n",
       "\t FdI & 8.000000 & 6.625000\\\\\n",
       "\t PD  & 1.882353 & 2.062500\\\\\n",
       "\t LN  & 8.333333 & 6.937500\\\\\n",
       "\t SVP & 2.166667 & 1.400000\\\\\n",
       "\t FI  & 4.176471 & 4.066667\\\\\n",
       "\\end{tabular}\n"
      ],
      "text/markdown": [
       "\n",
       "A tibble: 8 × 3\n",
       "\n",
       "| party &lt;chr&gt; | antielite_salience &lt;dbl&gt; | people_vs_elite &lt;dbl&gt; |\n",
       "|---|---|---|\n",
       "| RI  | 2.200000 | 3.357143 |\n",
       "| M5S | 8.888889 | 9.529411 |\n",
       "| SI  | 3.785714 | 2.666667 |\n",
       "| FdI | 8.000000 | 6.625000 |\n",
       "| PD  | 1.882353 | 2.062500 |\n",
       "| LN  | 8.333333 | 6.937500 |\n",
       "| SVP | 2.166667 | 1.400000 |\n",
       "| FI  | 4.176471 | 4.066667 |\n",
       "\n"
      ],
      "text/plain": [
       "  party antielite_salience people_vs_elite\n",
       "1 RI    2.200000           3.357143       \n",
       "2 M5S   8.888889           9.529411       \n",
       "3 SI    3.785714           2.666667       \n",
       "4 FdI   8.000000           6.625000       \n",
       "5 PD    1.882353           2.062500       \n",
       "6 LN    8.333333           6.937500       \n",
       "7 SVP   2.166667           1.400000       \n",
       "8 FI    4.176471           4.066667       "
      ]
     },
     "metadata": {},
     "output_type": "display_data"
    }
   ],
   "source": [
    "ches %>% filter(country == 8 & year == 2019) %>% select(party, antielite_salience, people_vs_elite)"
   ]
  },
  {
   "cell_type": "markdown",
   "id": "26641c92",
   "metadata": {},
   "source": [
    "The parties in our dataset in the same year"
   ]
  },
  {
   "cell_type": "code",
   "execution_count": 38,
   "id": "5a9f0641",
   "metadata": {},
   "outputs": [
    {
     "data": {
      "text/html": [
       "<table class=\"dataframe\">\n",
       "<caption>A tibble: 8 × 1</caption>\n",
       "<thead>\n",
       "\t<tr><th scope=col>party</th></tr>\n",
       "\t<tr><th scope=col>&lt;chr&gt;</th></tr>\n",
       "</thead>\n",
       "<tbody>\n",
       "\t<tr><td>FDI  </td></tr>\n",
       "\t<tr><td>FI   </td></tr>\n",
       "\t<tr><td>IV   </td></tr>\n",
       "\t<tr><td>LEGA </td></tr>\n",
       "\t<tr><td>LEU  </td></tr>\n",
       "\t<tr><td>M5S  </td></tr>\n",
       "\t<tr><td>MISTO</td></tr>\n",
       "\t<tr><td>PD   </td></tr>\n",
       "</tbody>\n",
       "</table>\n"
      ],
      "text/latex": [
       "A tibble: 8 × 1\n",
       "\\begin{tabular}{l}\n",
       " party\\\\\n",
       " <chr>\\\\\n",
       "\\hline\n",
       "\t FDI  \\\\\n",
       "\t FI   \\\\\n",
       "\t IV   \\\\\n",
       "\t LEGA \\\\\n",
       "\t LEU  \\\\\n",
       "\t M5S  \\\\\n",
       "\t MISTO\\\\\n",
       "\t PD   \\\\\n",
       "\\end{tabular}\n"
      ],
      "text/markdown": [
       "\n",
       "A tibble: 8 × 1\n",
       "\n",
       "| party &lt;chr&gt; |\n",
       "|---|\n",
       "| FDI   |\n",
       "| FI    |\n",
       "| IV    |\n",
       "| LEGA  |\n",
       "| LEU   |\n",
       "| M5S   |\n",
       "| MISTO |\n",
       "| PD    |\n",
       "\n"
      ],
      "text/plain": [
       "  party\n",
       "1 FDI  \n",
       "2 FI   \n",
       "3 IV   \n",
       "4 LEGA \n",
       "5 LEU  \n",
       "6 M5S  \n",
       "7 MISTO\n",
       "8 PD   "
      ]
     },
     "metadata": {},
     "output_type": "display_data"
    }
   ],
   "source": [
    "df_db %>% filter(year == 2019) %>% distinct(party)"
   ]
  },
  {
   "cell_type": "markdown",
   "id": "95b782cf",
   "metadata": {},
   "source": [
    "Let's compute the average populist value for each party in the CHES dataset by summing the people vs elite and the anti-elite salience variables and then taking the mean. \"Radicali Italiani\" and \"Südtiroler Volkspartei\" are not in our dataset so we'll drop them from CHES."
   ]
  },
  {
   "cell_type": "code",
   "execution_count": 39,
   "id": "71f205d8",
   "metadata": {},
   "outputs": [
    {
     "data": {
      "text/html": [
       "<table class=\"dataframe\">\n",
       "<caption>A tibble: 6 × 2</caption>\n",
       "<thead>\n",
       "\t<tr><th scope=col>party</th><th scope=col>mean_populism</th></tr>\n",
       "\t<tr><th scope=col>&lt;chr&gt;</th><th scope=col>&lt;dbl&gt;</th></tr>\n",
       "</thead>\n",
       "<tbody>\n",
       "\t<tr><td>M5S</td><td>18.418301</td></tr>\n",
       "\t<tr><td>LN </td><td>15.270833</td></tr>\n",
       "\t<tr><td>FdI</td><td>14.625000</td></tr>\n",
       "\t<tr><td>FI </td><td> 8.243137</td></tr>\n",
       "\t<tr><td>SI </td><td> 6.452381</td></tr>\n",
       "\t<tr><td>PD </td><td> 3.944853</td></tr>\n",
       "</tbody>\n",
       "</table>\n"
      ],
      "text/latex": [
       "A tibble: 6 × 2\n",
       "\\begin{tabular}{ll}\n",
       " party & mean\\_populism\\\\\n",
       " <chr> & <dbl>\\\\\n",
       "\\hline\n",
       "\t M5S & 18.418301\\\\\n",
       "\t LN  & 15.270833\\\\\n",
       "\t FdI & 14.625000\\\\\n",
       "\t FI  &  8.243137\\\\\n",
       "\t SI  &  6.452381\\\\\n",
       "\t PD  &  3.944853\\\\\n",
       "\\end{tabular}\n"
      ],
      "text/markdown": [
       "\n",
       "A tibble: 6 × 2\n",
       "\n",
       "| party &lt;chr&gt; | mean_populism &lt;dbl&gt; |\n",
       "|---|---|\n",
       "| M5S | 18.418301 |\n",
       "| LN  | 15.270833 |\n",
       "| FdI | 14.625000 |\n",
       "| FI  |  8.243137 |\n",
       "| SI  |  6.452381 |\n",
       "| PD  |  3.944853 |\n",
       "\n"
      ],
      "text/plain": [
       "  party mean_populism\n",
       "1 M5S   18.418301    \n",
       "2 LN    15.270833    \n",
       "3 FdI   14.625000    \n",
       "4 FI     8.243137    \n",
       "5 SI     6.452381    \n",
       "6 PD     3.944853    "
      ]
     },
     "metadata": {},
     "output_type": "display_data"
    }
   ],
   "source": [
    "to_drop <- c(\"RI\", \"SVP\")\n",
    "\n",
    "ches %>% \n",
    "filter(country == 8 & year == 2019 & (!party %in% to_drop)) %>% \n",
    "group_by(party) %>% \n",
    "summarize(mean_populism = mean(people_vs_elite + antielite_salience)) %>% \n",
    "arrange(desc(mean_populism))"
   ]
  },
  {
   "cell_type": "markdown",
   "id": "5505e7e0",
   "metadata": {},
   "source": [
    "The two rankings are rather different. According to CHES, M5S and Lega rank as the two most populist parties, whereas in the results of the dictionary analysis they turned out to be the least populist ones."
   ]
  },
  {
   "cell_type": "code",
   "execution_count": 40,
   "id": "74863e6c",
   "metadata": {},
   "outputs": [
    {
     "data": {
      "text/html": [
       "<table class=\"dataframe\">\n",
       "<caption>A tibble: 6 × 10</caption>\n",
       "<thead>\n",
       "\t<tr><th scope=col>doc_id</th><th scope=col>year</th><th scope=col>party</th><th scope=col>cluster</th><th scope=col>anti_elitism</th><th scope=col>people_centrism</th><th scope=col>populist_toks</th><th scope=col>total_toks</th><th scope=col>perc_of_populist_toks</th><th scope=col>standardized_perc_of_populist_toks</th></tr>\n",
       "\t<tr><th scope=col>&lt;chr&gt;</th><th scope=col>&lt;int&gt;</th><th scope=col>&lt;chr&gt;</th><th scope=col>&lt;chr&gt;</th><th scope=col>&lt;dbl&gt;</th><th scope=col>&lt;dbl&gt;</th><th scope=col>&lt;dbl&gt;</th><th scope=col>&lt;int&gt;</th><th scope=col>&lt;dbl&gt;</th><th scope=col>&lt;dbl&gt;</th></tr>\n",
       "</thead>\n",
       "<tbody>\n",
       "\t<tr><td>2019.FI  </td><td>2019</td><td>FI  </td><td>9_evolutionGroup </td><td>383</td><td>2108</td><td>2491</td><td>533560</td><td>0.004668641</td><td> 0.540107691</td></tr>\n",
       "\t<tr><td>2019.FDI </td><td>2019</td><td>FDI </td><td>8_evolutionGroup </td><td>226</td><td> 823</td><td>1049</td><td>262423</td><td>0.003997363</td><td> 0.243686491</td></tr>\n",
       "\t<tr><td>2019.PD  </td><td>2019</td><td>PD  </td><td>1_evolutionGroup </td><td>512</td><td>1638</td><td>2150</td><td>557509</td><td>0.003856440</td><td> 0.181458036</td></tr>\n",
       "\t<tr><td>2019.LEU </td><td>2019</td><td>LEU </td><td>1_evolutionGroup </td><td> 38</td><td> 160</td><td> 198</td><td> 53261</td><td>0.003717542</td><td> 0.120123768</td></tr>\n",
       "\t<tr><td>2019.LEGA</td><td>2019</td><td>LEGA</td><td>10_evolutionGroup</td><td>144</td><td> 603</td><td> 747</td><td>214370</td><td>0.003484629</td><td> 0.017274821</td></tr>\n",
       "\t<tr><td>2019.M5S </td><td>2019</td><td>M5S </td><td>15_evolutionGroup</td><td>204</td><td>1547</td><td>1751</td><td>509145</td><td>0.003439099</td><td>-0.002830424</td></tr>\n",
       "</tbody>\n",
       "</table>\n"
      ],
      "text/latex": [
       "A tibble: 6 × 10\n",
       "\\begin{tabular}{llllllllll}\n",
       " doc\\_id & year & party & cluster & anti\\_elitism & people\\_centrism & populist\\_toks & total\\_toks & perc\\_of\\_populist\\_toks & standardized\\_perc\\_of\\_populist\\_toks\\\\\n",
       " <chr> & <int> & <chr> & <chr> & <dbl> & <dbl> & <dbl> & <int> & <dbl> & <dbl>\\\\\n",
       "\\hline\n",
       "\t 2019.FI   & 2019 & FI   & 9\\_evolutionGroup  & 383 & 2108 & 2491 & 533560 & 0.004668641 &  0.540107691\\\\\n",
       "\t 2019.FDI  & 2019 & FDI  & 8\\_evolutionGroup  & 226 &  823 & 1049 & 262423 & 0.003997363 &  0.243686491\\\\\n",
       "\t 2019.PD   & 2019 & PD   & 1\\_evolutionGroup  & 512 & 1638 & 2150 & 557509 & 0.003856440 &  0.181458036\\\\\n",
       "\t 2019.LEU  & 2019 & LEU  & 1\\_evolutionGroup  &  38 &  160 &  198 &  53261 & 0.003717542 &  0.120123768\\\\\n",
       "\t 2019.LEGA & 2019 & LEGA & 10\\_evolutionGroup & 144 &  603 &  747 & 214370 & 0.003484629 &  0.017274821\\\\\n",
       "\t 2019.M5S  & 2019 & M5S  & 15\\_evolutionGroup & 204 & 1547 & 1751 & 509145 & 0.003439099 & -0.002830424\\\\\n",
       "\\end{tabular}\n"
      ],
      "text/markdown": [
       "\n",
       "A tibble: 6 × 10\n",
       "\n",
       "| doc_id &lt;chr&gt; | year &lt;int&gt; | party &lt;chr&gt; | cluster &lt;chr&gt; | anti_elitism &lt;dbl&gt; | people_centrism &lt;dbl&gt; | populist_toks &lt;dbl&gt; | total_toks &lt;int&gt; | perc_of_populist_toks &lt;dbl&gt; | standardized_perc_of_populist_toks &lt;dbl&gt; |\n",
       "|---|---|---|---|---|---|---|---|---|---|\n",
       "| 2019.FI   | 2019 | FI   | 9_evolutionGroup  | 383 | 2108 | 2491 | 533560 | 0.004668641 |  0.540107691 |\n",
       "| 2019.FDI  | 2019 | FDI  | 8_evolutionGroup  | 226 |  823 | 1049 | 262423 | 0.003997363 |  0.243686491 |\n",
       "| 2019.PD   | 2019 | PD   | 1_evolutionGroup  | 512 | 1638 | 2150 | 557509 | 0.003856440 |  0.181458036 |\n",
       "| 2019.LEU  | 2019 | LEU  | 1_evolutionGroup  |  38 |  160 |  198 |  53261 | 0.003717542 |  0.120123768 |\n",
       "| 2019.LEGA | 2019 | LEGA | 10_evolutionGroup | 144 |  603 |  747 | 214370 | 0.003484629 |  0.017274821 |\n",
       "| 2019.M5S  | 2019 | M5S  | 15_evolutionGroup | 204 | 1547 | 1751 | 509145 | 0.003439099 | -0.002830424 |\n",
       "\n"
      ],
      "text/plain": [
       "  doc_id    year party cluster           anti_elitism people_centrism\n",
       "1 2019.FI   2019 FI    9_evolutionGroup  383          2108           \n",
       "2 2019.FDI  2019 FDI   8_evolutionGroup  226           823           \n",
       "3 2019.PD   2019 PD    1_evolutionGroup  512          1638           \n",
       "4 2019.LEU  2019 LEU   1_evolutionGroup   38           160           \n",
       "5 2019.LEGA 2019 LEGA  10_evolutionGroup 144           603           \n",
       "6 2019.M5S  2019 M5S   15_evolutionGroup 204          1547           \n",
       "  populist_toks total_toks perc_of_populist_toks\n",
       "1 2491          533560     0.004668641          \n",
       "2 1049          262423     0.003997363          \n",
       "3 2150          557509     0.003856440          \n",
       "4  198           53261     0.003717542          \n",
       "5  747          214370     0.003484629          \n",
       "6 1751          509145     0.003439099          \n",
       "  standardized_perc_of_populist_toks\n",
       "1  0.540107691                      \n",
       "2  0.243686491                      \n",
       "3  0.181458036                      \n",
       "4  0.120123768                      \n",
       "5  0.017274821                      \n",
       "6 -0.002830424                      "
      ]
     },
     "metadata": {},
     "output_type": "display_data"
    }
   ],
   "source": [
    "to_drop <- c(\"IV\", \"MISTO\")\n",
    "\n",
    "df_db %>% \n",
    "filter(year == 2019 & (! party %in% to_drop)) %>% \n",
    "arrange(desc(perc_of_populist_toks))"
   ]
  },
  {
   "cell_type": "markdown",
   "id": "61db5059",
   "metadata": {},
   "source": [
    "### The PopuList <a class=\"anchor\" id=\"subparagraph10\"></a>"
   ]
  },
  {
   "cell_type": "markdown",
   "id": "4946cd2d",
   "metadata": {},
   "source": [
    "Let's now compare D&B' dictionary with the PopuList dataset."
   ]
  },
  {
   "cell_type": "markdown",
   "id": "ccbacca7",
   "metadata": {},
   "source": [
    "Lega, FdI, FI/PdL and M5S rank among the most populist parties according to D&B' dictionary. These parties have all been coded as populist by PopuList. The two measures can thus be considered to be similar."
   ]
  },
  {
   "cell_type": "code",
   "execution_count": 41,
   "id": "3ced1ce3",
   "metadata": {},
   "outputs": [
    {
     "data": {
      "text/html": [
       "<table class=\"dataframe\">\n",
       "<caption>A tibble: 13 × 2</caption>\n",
       "<thead>\n",
       "\t<tr><th scope=col>party_name</th><th scope=col>populist</th></tr>\n",
       "\t<tr><th scope=col>&lt;chr&gt;</th><th scope=col>&lt;dbl&gt;</th></tr>\n",
       "</thead>\n",
       "<tbody>\n",
       "\t<tr><td>Forza Italia – Il Popolo della Libertà    </td><td>1</td></tr>\n",
       "\t<tr><td>Fratelli d'Italia – Centrodestra Nazionale</td><td>1</td></tr>\n",
       "\t<tr><td>Il Popolo della Libertà                   </td><td>1</td></tr>\n",
       "\t<tr><td>Lega (Nord)                               </td><td>1</td></tr>\n",
       "\t<tr><td>Lega d'Azione Meridionale                 </td><td>1</td></tr>\n",
       "\t<tr><td>Liga Veneta                               </td><td>1</td></tr>\n",
       "\t<tr><td>Movimento 5 Stelle                        </td><td>1</td></tr>\n",
       "\t<tr><td>Fiamma Tricolore                          </td><td>0</td></tr>\n",
       "\t<tr><td>Movimento Sociale Italiano                </td><td>0</td></tr>\n",
       "\t<tr><td>Partito dei Comunisti Italiani            </td><td>0</td></tr>\n",
       "\t<tr><td>Partito della Rifondazione Comunista      </td><td>0</td></tr>\n",
       "\t<tr><td>Rivoluzione Civile                        </td><td>0</td></tr>\n",
       "\t<tr><td>Sinistra                                  </td><td>0</td></tr>\n",
       "</tbody>\n",
       "</table>\n"
      ],
      "text/latex": [
       "A tibble: 13 × 2\n",
       "\\begin{tabular}{ll}\n",
       " party\\_name & populist\\\\\n",
       " <chr> & <dbl>\\\\\n",
       "\\hline\n",
       "\t Forza Italia – Il Popolo della Libertà     & 1\\\\\n",
       "\t Fratelli d'Italia – Centrodestra Nazionale & 1\\\\\n",
       "\t Il Popolo della Libertà                    & 1\\\\\n",
       "\t Lega (Nord)                                & 1\\\\\n",
       "\t Lega d'Azione Meridionale                  & 1\\\\\n",
       "\t Liga Veneta                                & 1\\\\\n",
       "\t Movimento 5 Stelle                         & 1\\\\\n",
       "\t Fiamma Tricolore                           & 0\\\\\n",
       "\t Movimento Sociale Italiano                 & 0\\\\\n",
       "\t Partito dei Comunisti Italiani             & 0\\\\\n",
       "\t Partito della Rifondazione Comunista       & 0\\\\\n",
       "\t Rivoluzione Civile                         & 0\\\\\n",
       "\t Sinistra                                   & 0\\\\\n",
       "\\end{tabular}\n"
      ],
      "text/markdown": [
       "\n",
       "A tibble: 13 × 2\n",
       "\n",
       "| party_name &lt;chr&gt; | populist &lt;dbl&gt; |\n",
       "|---|---|\n",
       "| Forza Italia – Il Popolo della Libertà     | 1 |\n",
       "| Fratelli d'Italia – Centrodestra Nazionale | 1 |\n",
       "| Il Popolo della Libertà                    | 1 |\n",
       "| Lega (Nord)                                | 1 |\n",
       "| Lega d'Azione Meridionale                  | 1 |\n",
       "| Liga Veneta                                | 1 |\n",
       "| Movimento 5 Stelle                         | 1 |\n",
       "| Fiamma Tricolore                           | 0 |\n",
       "| Movimento Sociale Italiano                 | 0 |\n",
       "| Partito dei Comunisti Italiani             | 0 |\n",
       "| Partito della Rifondazione Comunista       | 0 |\n",
       "| Rivoluzione Civile                         | 0 |\n",
       "| Sinistra                                   | 0 |\n",
       "\n"
      ],
      "text/plain": [
       "   party_name                                 populist\n",
       "1  Forza Italia – Il Popolo della Libertà     1       \n",
       "2  Fratelli d'Italia – Centrodestra Nazionale 1       \n",
       "3  Il Popolo della Libertà                    1       \n",
       "4  Lega (Nord)                                1       \n",
       "5  Lega d'Azione Meridionale                  1       \n",
       "6  Liga Veneta                                1       \n",
       "7  Movimento 5 Stelle                         1       \n",
       "8  Fiamma Tricolore                           0       \n",
       "9  Movimento Sociale Italiano                 0       \n",
       "10 Partito dei Comunisti Italiani             0       \n",
       "11 Partito della Rifondazione Comunista       0       \n",
       "12 Rivoluzione Civile                         0       \n",
       "13 Sinistra                                   0       "
      ]
     },
     "metadata": {},
     "output_type": "display_data"
    }
   ],
   "source": [
    "populist %>% \n",
    "filter(country_name == \"Italy\") %>%\n",
    "select(party_name, populist) %>% \n",
    "arrange(desc(populist))"
   ]
  },
  {
   "cell_type": "code",
   "execution_count": 42,
   "id": "cc387e3f",
   "metadata": {},
   "outputs": [
    {
     "data": {
      "text/html": [
       "<table class=\"dataframe\">\n",
       "<caption>A tibble: 20 × 10</caption>\n",
       "<thead>\n",
       "\t<tr><th scope=col>doc_id</th><th scope=col>year</th><th scope=col>party</th><th scope=col>cluster</th><th scope=col>anti_elitism</th><th scope=col>people_centrism</th><th scope=col>populist_toks</th><th scope=col>total_toks</th><th scope=col>perc_of_populist_toks</th><th scope=col>standardized_perc_of_populist_toks</th></tr>\n",
       "\t<tr><th scope=col>&lt;chr&gt;</th><th scope=col>&lt;int&gt;</th><th scope=col>&lt;chr&gt;</th><th scope=col>&lt;chr&gt;</th><th scope=col>&lt;dbl&gt;</th><th scope=col>&lt;dbl&gt;</th><th scope=col>&lt;dbl&gt;</th><th scope=col>&lt;int&gt;</th><th scope=col>&lt;dbl&gt;</th><th scope=col>&lt;dbl&gt;</th></tr>\n",
       "</thead>\n",
       "<tbody>\n",
       "\t<tr><td>2008.LNP          </td><td>2008</td><td>LNP          </td><td>10_evolutionGroup</td><td> 41</td><td> 498</td><td> 539</td><td> 94856</td><td>0.005682297</td><td>0.9877157</td></tr>\n",
       "\t<tr><td>2015.LNA          </td><td>2015</td><td>LNA          </td><td>10_evolutionGroup</td><td> 80</td><td> 617</td><td> 697</td><td>122917</td><td>0.005670493</td><td>0.9825032</td></tr>\n",
       "\t<tr><td>2014.FDI-AN       </td><td>2014</td><td>FDI-AN       </td><td>8_evolutionGroup </td><td> 82</td><td> 209</td><td> 291</td><td> 51695</td><td>0.005629171</td><td>0.9642563</td></tr>\n",
       "\t<tr><td>2017.LNA          </td><td>2017</td><td>LNA          </td><td>10_evolutionGroup</td><td> 72</td><td> 483</td><td> 555</td><td>103023</td><td>0.005387147</td><td>0.8573837</td></tr>\n",
       "\t<tr><td>2015.M5S          </td><td>2015</td><td>M5S          </td><td>15_evolutionGroup</td><td>449</td><td>2332</td><td>2781</td><td>527990</td><td>0.005267145</td><td>0.8043938</td></tr>\n",
       "\t<tr><td>2015.FI-PDL       </td><td>2015</td><td>FI-PDL       </td><td>9_evolutionGroup </td><td>177</td><td>1181</td><td>1358</td><td>263332</td><td>0.005156988</td><td>0.7557509</td></tr>\n",
       "\t<tr><td>2013.PDL          </td><td>2013</td><td>PDL          </td><td>9_evolutionGroup </td><td>  0</td><td>   8</td><td>   8</td><td>  1609</td><td>0.004972032</td><td>0.6740786</td></tr>\n",
       "\t<tr><td>2000.LEGA-NORD-P  </td><td>2000</td><td>LEGA-NORD-P  </td><td>10_evolutionGroup</td><td>279</td><td>1158</td><td>1437</td><td>293739</td><td>0.004892098</td><td>0.6387814</td></tr>\n",
       "\t<tr><td>2014.LNA          </td><td>2014</td><td>LNA          </td><td>10_evolutionGroup</td><td>122</td><td> 603</td><td> 725</td><td>148505</td><td>0.004881991</td><td>0.6343181</td></tr>\n",
       "\t<tr><td>2006.COM/IT/      </td><td>2006</td><td>COM/IT/      </td><td>12_evolutionGroup</td><td>  5</td><td>  48</td><td>  53</td><td> 11028</td><td>0.004805948</td><td>0.6007397</td></tr>\n",
       "\t<tr><td>2017.FDI-AN       </td><td>2017</td><td>FDI-AN       </td><td>8_evolutionGroup </td><td> 46</td><td> 137</td><td> 183</td><td> 38123</td><td>0.004800252</td><td>0.5982241</td></tr>\n",
       "\t<tr><td>2009.FI           </td><td>2009</td><td>FI           </td><td>9_evolutionGroup </td><td>  3</td><td>   9</td><td>  12</td><td>  2565</td><td>0.004678363</td><td>0.5444006</td></tr>\n",
       "\t<tr><td>2019.FI           </td><td>2019</td><td>FI           </td><td>9_evolutionGroup </td><td>383</td><td>2108</td><td>2491</td><td>533560</td><td>0.004668641</td><td>0.5401077</td></tr>\n",
       "\t<tr><td>2005.RC           </td><td>2005</td><td>RC           </td><td>12_evolutionGroup</td><td> 41</td><td> 206</td><td> 247</td><td> 53397</td><td>0.004625728</td><td>0.5211584</td></tr>\n",
       "\t<tr><td>2016.LNA          </td><td>2016</td><td>LNA          </td><td>10_evolutionGroup</td><td> 34</td><td> 349</td><td> 383</td><td> 83485</td><td>0.004587650</td><td>0.5043442</td></tr>\n",
       "\t<tr><td>2013.M5S          </td><td>2013</td><td>M5S          </td><td>15_evolutionGroup</td><td>280</td><td>1434</td><td>1714</td><td>377216</td><td>0.004543816</td><td>0.4849877</td></tr>\n",
       "\t<tr><td>2009.LNP          </td><td>2009</td><td>LNP          </td><td>10_evolutionGroup</td><td> 89</td><td> 569</td><td> 658</td><td>146788</td><td>0.004482655</td><td>0.4579806</td></tr>\n",
       "\t<tr><td>2015.SI-SEL-POS-LU</td><td>2015</td><td>SI-SEL-POS-LU</td><td>12_evolutionGroup</td><td> 90</td><td> 388</td><td> 478</td><td>107081</td><td>0.004463910</td><td>0.4497034</td></tr>\n",
       "\t<tr><td>2013.FDI-AN       </td><td>2013</td><td>FDI-AN       </td><td>8_evolutionGroup </td><td> 48</td><td> 135</td><td> 183</td><td> 41498</td><td>0.004409851</td><td>0.4258319</td></tr>\n",
       "\t<tr><td>2008.FI           </td><td>2008</td><td>FI           </td><td>9_evolutionGroup </td><td> 22</td><td> 149</td><td> 171</td><td> 39364</td><td>0.004344071</td><td>0.3967848</td></tr>\n",
       "</tbody>\n",
       "</table>\n"
      ],
      "text/latex": [
       "A tibble: 20 × 10\n",
       "\\begin{tabular}{llllllllll}\n",
       " doc\\_id & year & party & cluster & anti\\_elitism & people\\_centrism & populist\\_toks & total\\_toks & perc\\_of\\_populist\\_toks & standardized\\_perc\\_of\\_populist\\_toks\\\\\n",
       " <chr> & <int> & <chr> & <chr> & <dbl> & <dbl> & <dbl> & <int> & <dbl> & <dbl>\\\\\n",
       "\\hline\n",
       "\t 2008.LNP           & 2008 & LNP           & 10\\_evolutionGroup &  41 &  498 &  539 &  94856 & 0.005682297 & 0.9877157\\\\\n",
       "\t 2015.LNA           & 2015 & LNA           & 10\\_evolutionGroup &  80 &  617 &  697 & 122917 & 0.005670493 & 0.9825032\\\\\n",
       "\t 2014.FDI-AN        & 2014 & FDI-AN        & 8\\_evolutionGroup  &  82 &  209 &  291 &  51695 & 0.005629171 & 0.9642563\\\\\n",
       "\t 2017.LNA           & 2017 & LNA           & 10\\_evolutionGroup &  72 &  483 &  555 & 103023 & 0.005387147 & 0.8573837\\\\\n",
       "\t 2015.M5S           & 2015 & M5S           & 15\\_evolutionGroup & 449 & 2332 & 2781 & 527990 & 0.005267145 & 0.8043938\\\\\n",
       "\t 2015.FI-PDL        & 2015 & FI-PDL        & 9\\_evolutionGroup  & 177 & 1181 & 1358 & 263332 & 0.005156988 & 0.7557509\\\\\n",
       "\t 2013.PDL           & 2013 & PDL           & 9\\_evolutionGroup  &   0 &    8 &    8 &   1609 & 0.004972032 & 0.6740786\\\\\n",
       "\t 2000.LEGA-NORD-P   & 2000 & LEGA-NORD-P   & 10\\_evolutionGroup & 279 & 1158 & 1437 & 293739 & 0.004892098 & 0.6387814\\\\\n",
       "\t 2014.LNA           & 2014 & LNA           & 10\\_evolutionGroup & 122 &  603 &  725 & 148505 & 0.004881991 & 0.6343181\\\\\n",
       "\t 2006.COM/IT/       & 2006 & COM/IT/       & 12\\_evolutionGroup &   5 &   48 &   53 &  11028 & 0.004805948 & 0.6007397\\\\\n",
       "\t 2017.FDI-AN        & 2017 & FDI-AN        & 8\\_evolutionGroup  &  46 &  137 &  183 &  38123 & 0.004800252 & 0.5982241\\\\\n",
       "\t 2009.FI            & 2009 & FI            & 9\\_evolutionGroup  &   3 &    9 &   12 &   2565 & 0.004678363 & 0.5444006\\\\\n",
       "\t 2019.FI            & 2019 & FI            & 9\\_evolutionGroup  & 383 & 2108 & 2491 & 533560 & 0.004668641 & 0.5401077\\\\\n",
       "\t 2005.RC            & 2005 & RC            & 12\\_evolutionGroup &  41 &  206 &  247 &  53397 & 0.004625728 & 0.5211584\\\\\n",
       "\t 2016.LNA           & 2016 & LNA           & 10\\_evolutionGroup &  34 &  349 &  383 &  83485 & 0.004587650 & 0.5043442\\\\\n",
       "\t 2013.M5S           & 2013 & M5S           & 15\\_evolutionGroup & 280 & 1434 & 1714 & 377216 & 0.004543816 & 0.4849877\\\\\n",
       "\t 2009.LNP           & 2009 & LNP           & 10\\_evolutionGroup &  89 &  569 &  658 & 146788 & 0.004482655 & 0.4579806\\\\\n",
       "\t 2015.SI-SEL-POS-LU & 2015 & SI-SEL-POS-LU & 12\\_evolutionGroup &  90 &  388 &  478 & 107081 & 0.004463910 & 0.4497034\\\\\n",
       "\t 2013.FDI-AN        & 2013 & FDI-AN        & 8\\_evolutionGroup  &  48 &  135 &  183 &  41498 & 0.004409851 & 0.4258319\\\\\n",
       "\t 2008.FI            & 2008 & FI            & 9\\_evolutionGroup  &  22 &  149 &  171 &  39364 & 0.004344071 & 0.3967848\\\\\n",
       "\\end{tabular}\n"
      ],
      "text/markdown": [
       "\n",
       "A tibble: 20 × 10\n",
       "\n",
       "| doc_id &lt;chr&gt; | year &lt;int&gt; | party &lt;chr&gt; | cluster &lt;chr&gt; | anti_elitism &lt;dbl&gt; | people_centrism &lt;dbl&gt; | populist_toks &lt;dbl&gt; | total_toks &lt;int&gt; | perc_of_populist_toks &lt;dbl&gt; | standardized_perc_of_populist_toks &lt;dbl&gt; |\n",
       "|---|---|---|---|---|---|---|---|---|---|\n",
       "| 2008.LNP           | 2008 | LNP           | 10_evolutionGroup |  41 |  498 |  539 |  94856 | 0.005682297 | 0.9877157 |\n",
       "| 2015.LNA           | 2015 | LNA           | 10_evolutionGroup |  80 |  617 |  697 | 122917 | 0.005670493 | 0.9825032 |\n",
       "| 2014.FDI-AN        | 2014 | FDI-AN        | 8_evolutionGroup  |  82 |  209 |  291 |  51695 | 0.005629171 | 0.9642563 |\n",
       "| 2017.LNA           | 2017 | LNA           | 10_evolutionGroup |  72 |  483 |  555 | 103023 | 0.005387147 | 0.8573837 |\n",
       "| 2015.M5S           | 2015 | M5S           | 15_evolutionGroup | 449 | 2332 | 2781 | 527990 | 0.005267145 | 0.8043938 |\n",
       "| 2015.FI-PDL        | 2015 | FI-PDL        | 9_evolutionGroup  | 177 | 1181 | 1358 | 263332 | 0.005156988 | 0.7557509 |\n",
       "| 2013.PDL           | 2013 | PDL           | 9_evolutionGroup  |   0 |    8 |    8 |   1609 | 0.004972032 | 0.6740786 |\n",
       "| 2000.LEGA-NORD-P   | 2000 | LEGA-NORD-P   | 10_evolutionGroup | 279 | 1158 | 1437 | 293739 | 0.004892098 | 0.6387814 |\n",
       "| 2014.LNA           | 2014 | LNA           | 10_evolutionGroup | 122 |  603 |  725 | 148505 | 0.004881991 | 0.6343181 |\n",
       "| 2006.COM/IT/       | 2006 | COM/IT/       | 12_evolutionGroup |   5 |   48 |   53 |  11028 | 0.004805948 | 0.6007397 |\n",
       "| 2017.FDI-AN        | 2017 | FDI-AN        | 8_evolutionGroup  |  46 |  137 |  183 |  38123 | 0.004800252 | 0.5982241 |\n",
       "| 2009.FI            | 2009 | FI            | 9_evolutionGroup  |   3 |    9 |   12 |   2565 | 0.004678363 | 0.5444006 |\n",
       "| 2019.FI            | 2019 | FI            | 9_evolutionGroup  | 383 | 2108 | 2491 | 533560 | 0.004668641 | 0.5401077 |\n",
       "| 2005.RC            | 2005 | RC            | 12_evolutionGroup |  41 |  206 |  247 |  53397 | 0.004625728 | 0.5211584 |\n",
       "| 2016.LNA           | 2016 | LNA           | 10_evolutionGroup |  34 |  349 |  383 |  83485 | 0.004587650 | 0.5043442 |\n",
       "| 2013.M5S           | 2013 | M5S           | 15_evolutionGroup | 280 | 1434 | 1714 | 377216 | 0.004543816 | 0.4849877 |\n",
       "| 2009.LNP           | 2009 | LNP           | 10_evolutionGroup |  89 |  569 |  658 | 146788 | 0.004482655 | 0.4579806 |\n",
       "| 2015.SI-SEL-POS-LU | 2015 | SI-SEL-POS-LU | 12_evolutionGroup |  90 |  388 |  478 | 107081 | 0.004463910 | 0.4497034 |\n",
       "| 2013.FDI-AN        | 2013 | FDI-AN        | 8_evolutionGroup  |  48 |  135 |  183 |  41498 | 0.004409851 | 0.4258319 |\n",
       "| 2008.FI            | 2008 | FI            | 9_evolutionGroup  |  22 |  149 |  171 |  39364 | 0.004344071 | 0.3967848 |\n",
       "\n"
      ],
      "text/plain": [
       "   doc_id             year party         cluster           anti_elitism\n",
       "1  2008.LNP           2008 LNP           10_evolutionGroup  41         \n",
       "2  2015.LNA           2015 LNA           10_evolutionGroup  80         \n",
       "3  2014.FDI-AN        2014 FDI-AN        8_evolutionGroup   82         \n",
       "4  2017.LNA           2017 LNA           10_evolutionGroup  72         \n",
       "5  2015.M5S           2015 M5S           15_evolutionGroup 449         \n",
       "6  2015.FI-PDL        2015 FI-PDL        9_evolutionGroup  177         \n",
       "7  2013.PDL           2013 PDL           9_evolutionGroup    0         \n",
       "8  2000.LEGA-NORD-P   2000 LEGA-NORD-P   10_evolutionGroup 279         \n",
       "9  2014.LNA           2014 LNA           10_evolutionGroup 122         \n",
       "10 2006.COM/IT/       2006 COM/IT/       12_evolutionGroup   5         \n",
       "11 2017.FDI-AN        2017 FDI-AN        8_evolutionGroup   46         \n",
       "12 2009.FI            2009 FI            9_evolutionGroup    3         \n",
       "13 2019.FI            2019 FI            9_evolutionGroup  383         \n",
       "14 2005.RC            2005 RC            12_evolutionGroup  41         \n",
       "15 2016.LNA           2016 LNA           10_evolutionGroup  34         \n",
       "16 2013.M5S           2013 M5S           15_evolutionGroup 280         \n",
       "17 2009.LNP           2009 LNP           10_evolutionGroup  89         \n",
       "18 2015.SI-SEL-POS-LU 2015 SI-SEL-POS-LU 12_evolutionGroup  90         \n",
       "19 2013.FDI-AN        2013 FDI-AN        8_evolutionGroup   48         \n",
       "20 2008.FI            2008 FI            9_evolutionGroup   22         \n",
       "   people_centrism populist_toks total_toks perc_of_populist_toks\n",
       "1   498             539           94856     0.005682297          \n",
       "2   617             697          122917     0.005670493          \n",
       "3   209             291           51695     0.005629171          \n",
       "4   483             555          103023     0.005387147          \n",
       "5  2332            2781          527990     0.005267145          \n",
       "6  1181            1358          263332     0.005156988          \n",
       "7     8               8            1609     0.004972032          \n",
       "8  1158            1437          293739     0.004892098          \n",
       "9   603             725          148505     0.004881991          \n",
       "10   48              53           11028     0.004805948          \n",
       "11  137             183           38123     0.004800252          \n",
       "12    9              12            2565     0.004678363          \n",
       "13 2108            2491          533560     0.004668641          \n",
       "14  206             247           53397     0.004625728          \n",
       "15  349             383           83485     0.004587650          \n",
       "16 1434            1714          377216     0.004543816          \n",
       "17  569             658          146788     0.004482655          \n",
       "18  388             478          107081     0.004463910          \n",
       "19  135             183           41498     0.004409851          \n",
       "20  149             171           39364     0.004344071          \n",
       "   standardized_perc_of_populist_toks\n",
       "1  0.9877157                         \n",
       "2  0.9825032                         \n",
       "3  0.9642563                         \n",
       "4  0.8573837                         \n",
       "5  0.8043938                         \n",
       "6  0.7557509                         \n",
       "7  0.6740786                         \n",
       "8  0.6387814                         \n",
       "9  0.6343181                         \n",
       "10 0.6007397                         \n",
       "11 0.5982241                         \n",
       "12 0.5444006                         \n",
       "13 0.5401077                         \n",
       "14 0.5211584                         \n",
       "15 0.5043442                         \n",
       "16 0.4849877                         \n",
       "17 0.4579806                         \n",
       "18 0.4497034                         \n",
       "19 0.4258319                         \n",
       "20 0.3967848                         "
      ]
     },
     "metadata": {},
     "output_type": "display_data"
    }
   ],
   "source": [
    "to_keep <- c(\"F-ITA\", \"FI\", \"PDL\", \"FI-PDL\", \"FDI-AN\", \"FDI\", \"LEGA-N\", \"LEGA-NORD-P\", \"LNA\", \"LEGA\", \"LNP\", \"M5S\", \n",
    "             \"RC-PROGR\", \"COMUNISTA\", \"RC\", \"COM/IT/\", \"RC-SE\", \"SI-SEL-POS-LU\")\n",
    "\n",
    "df_db %>% \n",
    "filter(party %in% to_keep) %>% \n",
    "arrange(desc(perc_of_populist_toks)) %>% \n",
    "head(20)"
   ]
  },
  {
   "cell_type": "markdown",
   "id": "10ebfcd6",
   "metadata": {},
   "source": [
    "# Grundl (Manifesto project)"
   ]
  },
  {
   "cell_type": "markdown",
   "id": "5a000f03",
   "metadata": {},
   "source": [
    "Running the dictionary analysis on the Manifesto Project dataset with Grundl's dictionary"
   ]
  },
  {
   "cell_type": "code",
   "execution_count": 43,
   "id": "1a1c4aa7",
   "metadata": {},
   "outputs": [
    {
     "data": {
      "text/html": [
       "<table class=\"dataframe\">\n",
       "<caption>A tibble: 10 × 5</caption>\n",
       "<thead>\n",
       "\t<tr><th scope=col>party</th><th scope=col>populism</th><th scope=col>total_toks</th><th scope=col>perc_of_populist_toks</th><th scope=col>standardized_perc_of_populist_toks</th></tr>\n",
       "\t<tr><th scope=col>&lt;chr&gt;</th><th scope=col>&lt;dbl&gt;</th><th scope=col>&lt;int&gt;</th><th scope=col>&lt;dbl&gt;</th><th scope=col>&lt;dbl&gt;</th></tr>\n",
       "</thead>\n",
       "<tbody>\n",
       "\t<tr><td>FDI-CDN</td><td> 46</td><td> 13480</td><td>0.003412463</td><td> 1.41739125</td></tr>\n",
       "\t<tr><td>SC     </td><td> 27</td><td>  8385</td><td>0.003220036</td><td> 0.93933809</td></tr>\n",
       "\t<tr><td>FI     </td><td> 94</td><td> 29483</td><td>0.003188278</td><td> 0.86044115</td></tr>\n",
       "\t<tr><td>LN     </td><td>305</td><td> 97142</td><td>0.003139734</td><td> 0.73984066</td></tr>\n",
       "\t<tr><td>UDC    </td><td> 25</td><td>  8738</td><td>0.002861067</td><td> 0.04753895</td></tr>\n",
       "\t<tr><td>PD     </td><td> 86</td><td> 31632</td><td>0.002718766</td><td>-0.30598370</td></tr>\n",
       "\t<tr><td>CD     </td><td> 42</td><td> 15853</td><td>0.002649341</td><td>-0.47845852</td></tr>\n",
       "\t<tr><td>M5S    </td><td>454</td><td>172008</td><td>0.002639412</td><td>-0.50312472</td></tr>\n",
       "\t<tr><td>SEL    </td><td> 41</td><td> 16357</td><td>0.002506572</td><td>-0.83314361</td></tr>\n",
       "\t<tr><td>PdL    </td><td> 14</td><td>  6719</td><td>0.002083643</td><td>-1.88383957</td></tr>\n",
       "</tbody>\n",
       "</table>\n"
      ],
      "text/latex": [
       "A tibble: 10 × 5\n",
       "\\begin{tabular}{lllll}\n",
       " party & populism & total\\_toks & perc\\_of\\_populist\\_toks & standardized\\_perc\\_of\\_populist\\_toks\\\\\n",
       " <chr> & <dbl> & <int> & <dbl> & <dbl>\\\\\n",
       "\\hline\n",
       "\t FDI-CDN &  46 &  13480 & 0.003412463 &  1.41739125\\\\\n",
       "\t SC      &  27 &   8385 & 0.003220036 &  0.93933809\\\\\n",
       "\t FI      &  94 &  29483 & 0.003188278 &  0.86044115\\\\\n",
       "\t LN      & 305 &  97142 & 0.003139734 &  0.73984066\\\\\n",
       "\t UDC     &  25 &   8738 & 0.002861067 &  0.04753895\\\\\n",
       "\t PD      &  86 &  31632 & 0.002718766 & -0.30598370\\\\\n",
       "\t CD      &  42 &  15853 & 0.002649341 & -0.47845852\\\\\n",
       "\t M5S     & 454 & 172008 & 0.002639412 & -0.50312472\\\\\n",
       "\t SEL     &  41 &  16357 & 0.002506572 & -0.83314361\\\\\n",
       "\t PdL     &  14 &   6719 & 0.002083643 & -1.88383957\\\\\n",
       "\\end{tabular}\n"
      ],
      "text/markdown": [
       "\n",
       "A tibble: 10 × 5\n",
       "\n",
       "| party &lt;chr&gt; | populism &lt;dbl&gt; | total_toks &lt;int&gt; | perc_of_populist_toks &lt;dbl&gt; | standardized_perc_of_populist_toks &lt;dbl&gt; |\n",
       "|---|---|---|---|---|\n",
       "| FDI-CDN |  46 |  13480 | 0.003412463 |  1.41739125 |\n",
       "| SC      |  27 |   8385 | 0.003220036 |  0.93933809 |\n",
       "| FI      |  94 |  29483 | 0.003188278 |  0.86044115 |\n",
       "| LN      | 305 |  97142 | 0.003139734 |  0.73984066 |\n",
       "| UDC     |  25 |   8738 | 0.002861067 |  0.04753895 |\n",
       "| PD      |  86 |  31632 | 0.002718766 | -0.30598370 |\n",
       "| CD      |  42 |  15853 | 0.002649341 | -0.47845852 |\n",
       "| M5S     | 454 | 172008 | 0.002639412 | -0.50312472 |\n",
       "| SEL     |  41 |  16357 | 0.002506572 | -0.83314361 |\n",
       "| PdL     |  14 |   6719 | 0.002083643 | -1.88383957 |\n",
       "\n"
      ],
      "text/plain": [
       "   party   populism total_toks perc_of_populist_toks\n",
       "1  FDI-CDN  46       13480     0.003412463          \n",
       "2  SC       27        8385     0.003220036          \n",
       "3  FI       94       29483     0.003188278          \n",
       "4  LN      305       97142     0.003139734          \n",
       "5  UDC      25        8738     0.002861067          \n",
       "6  PD       86       31632     0.002718766          \n",
       "7  CD       42       15853     0.002649341          \n",
       "8  M5S     454      172008     0.002639412          \n",
       "9  SEL      41       16357     0.002506572          \n",
       "10 PdL      14        6719     0.002083643          \n",
       "   standardized_perc_of_populist_toks\n",
       "1   1.41739125                       \n",
       "2   0.93933809                       \n",
       "3   0.86044115                       \n",
       "4   0.73984066                       \n",
       "5   0.04753895                       \n",
       "6  -0.30598370                       \n",
       "7  -0.47845852                       \n",
       "8  -0.50312472                       \n",
       "9  -0.83314361                       \n",
       "10 -1.88383957                       "
      ]
     },
     "metadata": {},
     "output_type": "display_data"
    }
   ],
   "source": [
    "dict_analysis(tokens = manifesto_toks, data = \"manifesto\", dictionary = \"Grundl\")"
   ]
  },
  {
   "cell_type": "markdown",
   "id": "da302724",
   "metadata": {},
   "source": [
    "# Decadri and Boussalis (Manifesto Project)"
   ]
  },
  {
   "cell_type": "markdown",
   "id": "a51991ea",
   "metadata": {},
   "source": [
    "Running the dictionary analysis on the Manifesto Project dataset with Decadri and Boussalis' dictionary"
   ]
  },
  {
   "cell_type": "code",
   "execution_count": 44,
   "id": "5d70ebc8",
   "metadata": {},
   "outputs": [
    {
     "data": {
      "text/html": [
       "<table class=\"dataframe\">\n",
       "<caption>A tibble: 10 × 7</caption>\n",
       "<thead>\n",
       "\t<tr><th scope=col>party</th><th scope=col>anti_elitism</th><th scope=col>people_centrism</th><th scope=col>total_toks</th><th scope=col>populist_toks</th><th scope=col>perc_of_populist_toks</th><th scope=col>standardized_perc_of_populist_toks</th></tr>\n",
       "\t<tr><th scope=col>&lt;chr&gt;</th><th scope=col>&lt;dbl&gt;</th><th scope=col>&lt;dbl&gt;</th><th scope=col>&lt;int&gt;</th><th scope=col>&lt;dbl&gt;</th><th scope=col>&lt;dbl&gt;</th><th scope=col>&lt;dbl&gt;</th></tr>\n",
       "</thead>\n",
       "<tbody>\n",
       "\t<tr><td>UDC    </td><td> 4</td><td> 51</td><td>  8738</td><td> 55</td><td>0.006294347</td><td> 2.0371665</td></tr>\n",
       "\t<tr><td>FI     </td><td> 5</td><td>139</td><td> 29483</td><td>144</td><td>0.004884171</td><td> 0.8311817</td></tr>\n",
       "\t<tr><td>FDI-CDN</td><td> 6</td><td> 57</td><td> 13480</td><td> 63</td><td>0.004673591</td><td> 0.6510933</td></tr>\n",
       "\t<tr><td>LN     </td><td>20</td><td>398</td><td> 97142</td><td>418</td><td>0.004302979</td><td> 0.3341459</td></tr>\n",
       "\t<tr><td>PdL    </td><td> 1</td><td> 24</td><td>  6719</td><td> 25</td><td>0.003720792</td><td>-0.1637417</td></tr>\n",
       "\t<tr><td>SC     </td><td> 2</td><td> 27</td><td>  8385</td><td> 29</td><td>0.003458557</td><td>-0.3880054</td></tr>\n",
       "\t<tr><td>M5S    </td><td>28</td><td>563</td><td>172008</td><td>591</td><td>0.003435887</td><td>-0.4073930</td></tr>\n",
       "\t<tr><td>SEL    </td><td> 7</td><td> 48</td><td> 16357</td><td> 55</td><td>0.003362475</td><td>-0.4701750</td></tr>\n",
       "\t<tr><td>PD     </td><td> 4</td><td> 84</td><td> 31632</td><td> 88</td><td>0.002781993</td><td>-0.9666040</td></tr>\n",
       "\t<tr><td>CD     </td><td> 1</td><td> 34</td><td> 15853</td><td> 35</td><td>0.002207784</td><td>-1.4576684</td></tr>\n",
       "</tbody>\n",
       "</table>\n"
      ],
      "text/latex": [
       "A tibble: 10 × 7\n",
       "\\begin{tabular}{lllllll}\n",
       " party & anti\\_elitism & people\\_centrism & total\\_toks & populist\\_toks & perc\\_of\\_populist\\_toks & standardized\\_perc\\_of\\_populist\\_toks\\\\\n",
       " <chr> & <dbl> & <dbl> & <int> & <dbl> & <dbl> & <dbl>\\\\\n",
       "\\hline\n",
       "\t UDC     &  4 &  51 &   8738 &  55 & 0.006294347 &  2.0371665\\\\\n",
       "\t FI      &  5 & 139 &  29483 & 144 & 0.004884171 &  0.8311817\\\\\n",
       "\t FDI-CDN &  6 &  57 &  13480 &  63 & 0.004673591 &  0.6510933\\\\\n",
       "\t LN      & 20 & 398 &  97142 & 418 & 0.004302979 &  0.3341459\\\\\n",
       "\t PdL     &  1 &  24 &   6719 &  25 & 0.003720792 & -0.1637417\\\\\n",
       "\t SC      &  2 &  27 &   8385 &  29 & 0.003458557 & -0.3880054\\\\\n",
       "\t M5S     & 28 & 563 & 172008 & 591 & 0.003435887 & -0.4073930\\\\\n",
       "\t SEL     &  7 &  48 &  16357 &  55 & 0.003362475 & -0.4701750\\\\\n",
       "\t PD      &  4 &  84 &  31632 &  88 & 0.002781993 & -0.9666040\\\\\n",
       "\t CD      &  1 &  34 &  15853 &  35 & 0.002207784 & -1.4576684\\\\\n",
       "\\end{tabular}\n"
      ],
      "text/markdown": [
       "\n",
       "A tibble: 10 × 7\n",
       "\n",
       "| party &lt;chr&gt; | anti_elitism &lt;dbl&gt; | people_centrism &lt;dbl&gt; | total_toks &lt;int&gt; | populist_toks &lt;dbl&gt; | perc_of_populist_toks &lt;dbl&gt; | standardized_perc_of_populist_toks &lt;dbl&gt; |\n",
       "|---|---|---|---|---|---|---|\n",
       "| UDC     |  4 |  51 |   8738 |  55 | 0.006294347 |  2.0371665 |\n",
       "| FI      |  5 | 139 |  29483 | 144 | 0.004884171 |  0.8311817 |\n",
       "| FDI-CDN |  6 |  57 |  13480 |  63 | 0.004673591 |  0.6510933 |\n",
       "| LN      | 20 | 398 |  97142 | 418 | 0.004302979 |  0.3341459 |\n",
       "| PdL     |  1 |  24 |   6719 |  25 | 0.003720792 | -0.1637417 |\n",
       "| SC      |  2 |  27 |   8385 |  29 | 0.003458557 | -0.3880054 |\n",
       "| M5S     | 28 | 563 | 172008 | 591 | 0.003435887 | -0.4073930 |\n",
       "| SEL     |  7 |  48 |  16357 |  55 | 0.003362475 | -0.4701750 |\n",
       "| PD      |  4 |  84 |  31632 |  88 | 0.002781993 | -0.9666040 |\n",
       "| CD      |  1 |  34 |  15853 |  35 | 0.002207784 | -1.4576684 |\n",
       "\n"
      ],
      "text/plain": [
       "   party   anti_elitism people_centrism total_toks populist_toks\n",
       "1  UDC      4            51               8738      55          \n",
       "2  FI       5           139              29483     144          \n",
       "3  FDI-CDN  6            57              13480      63          \n",
       "4  LN      20           398              97142     418          \n",
       "5  PdL      1            24               6719      25          \n",
       "6  SC       2            27               8385      29          \n",
       "7  M5S     28           563             172008     591          \n",
       "8  SEL      7            48              16357      55          \n",
       "9  PD       4            84              31632      88          \n",
       "10 CD       1            34              15853      35          \n",
       "   perc_of_populist_toks standardized_perc_of_populist_toks\n",
       "1  0.006294347            2.0371665                        \n",
       "2  0.004884171            0.8311817                        \n",
       "3  0.004673591            0.6510933                        \n",
       "4  0.004302979            0.3341459                        \n",
       "5  0.003720792           -0.1637417                        \n",
       "6  0.003458557           -0.3880054                        \n",
       "7  0.003435887           -0.4073930                        \n",
       "8  0.003362475           -0.4701750                        \n",
       "9  0.002781993           -0.9666040                        \n",
       "10 0.002207784           -1.4576684                        "
      ]
     },
     "metadata": {},
     "output_type": "display_data"
    }
   ],
   "source": [
    "dict_analysis(tokens = manifesto_toks, data = \"manifesto\", dictionary = \"Decadri_Boussalis\")"
   ]
  },
  {
   "cell_type": "markdown",
   "id": "7466729e",
   "metadata": {},
   "source": [
    "# Decadri and Boussalis + Grundl"
   ]
  },
  {
   "cell_type": "code",
   "execution_count": 45,
   "id": "b4b5345b",
   "metadata": {},
   "outputs": [
    {
     "data": {
      "text/html": [
       "<table class=\"dataframe\">\n",
       "<caption>A tibble: 10 × 5</caption>\n",
       "<thead>\n",
       "\t<tr><th scope=col>party</th><th scope=col>populism</th><th scope=col>total_toks</th><th scope=col>perc_of_populist_toks</th><th scope=col>standardized_perc_of_populist_toks</th></tr>\n",
       "\t<tr><th scope=col>&lt;chr&gt;</th><th scope=col>&lt;dbl&gt;</th><th scope=col>&lt;int&gt;</th><th scope=col>&lt;dbl&gt;</th><th scope=col>&lt;dbl&gt;</th></tr>\n",
       "</thead>\n",
       "<tbody>\n",
       "\t<tr><td>UDC    </td><td> 58</td><td>  8738</td><td>0.006637675</td><td> 2.0859380</td></tr>\n",
       "\t<tr><td>FI     </td><td>155</td><td> 29483</td><td>0.005257267</td><td> 0.8590070</td></tr>\n",
       "\t<tr><td>FDI-CDN</td><td> 67</td><td> 13480</td><td>0.004970326</td><td> 0.6039691</td></tr>\n",
       "\t<tr><td>LN     </td><td>456</td><td> 97142</td><td>0.004694159</td><td> 0.3585067</td></tr>\n",
       "\t<tr><td>SC     </td><td> 33</td><td>  8385</td><td>0.003935599</td><td>-0.3157148</td></tr>\n",
       "\t<tr><td>SEL    </td><td> 64</td><td> 16357</td><td>0.003912698</td><td>-0.3360700</td></tr>\n",
       "\t<tr><td>M5S    </td><td>661</td><td>172008</td><td>0.003842845</td><td>-0.3981569</td></tr>\n",
       "\t<tr><td>PdL    </td><td> 25</td><td>  6719</td><td>0.003720792</td><td>-0.5066396</td></tr>\n",
       "\t<tr><td>PD     </td><td> 98</td><td> 31632</td><td>0.003098128</td><td>-1.0600738</td></tr>\n",
       "\t<tr><td>CD     </td><td> 45</td><td> 15853</td><td>0.002838579</td><td>-1.2907657</td></tr>\n",
       "</tbody>\n",
       "</table>\n"
      ],
      "text/latex": [
       "A tibble: 10 × 5\n",
       "\\begin{tabular}{lllll}\n",
       " party & populism & total\\_toks & perc\\_of\\_populist\\_toks & standardized\\_perc\\_of\\_populist\\_toks\\\\\n",
       " <chr> & <dbl> & <int> & <dbl> & <dbl>\\\\\n",
       "\\hline\n",
       "\t UDC     &  58 &   8738 & 0.006637675 &  2.0859380\\\\\n",
       "\t FI      & 155 &  29483 & 0.005257267 &  0.8590070\\\\\n",
       "\t FDI-CDN &  67 &  13480 & 0.004970326 &  0.6039691\\\\\n",
       "\t LN      & 456 &  97142 & 0.004694159 &  0.3585067\\\\\n",
       "\t SC      &  33 &   8385 & 0.003935599 & -0.3157148\\\\\n",
       "\t SEL     &  64 &  16357 & 0.003912698 & -0.3360700\\\\\n",
       "\t M5S     & 661 & 172008 & 0.003842845 & -0.3981569\\\\\n",
       "\t PdL     &  25 &   6719 & 0.003720792 & -0.5066396\\\\\n",
       "\t PD      &  98 &  31632 & 0.003098128 & -1.0600738\\\\\n",
       "\t CD      &  45 &  15853 & 0.002838579 & -1.2907657\\\\\n",
       "\\end{tabular}\n"
      ],
      "text/markdown": [
       "\n",
       "A tibble: 10 × 5\n",
       "\n",
       "| party &lt;chr&gt; | populism &lt;dbl&gt; | total_toks &lt;int&gt; | perc_of_populist_toks &lt;dbl&gt; | standardized_perc_of_populist_toks &lt;dbl&gt; |\n",
       "|---|---|---|---|---|\n",
       "| UDC     |  58 |   8738 | 0.006637675 |  2.0859380 |\n",
       "| FI      | 155 |  29483 | 0.005257267 |  0.8590070 |\n",
       "| FDI-CDN |  67 |  13480 | 0.004970326 |  0.6039691 |\n",
       "| LN      | 456 |  97142 | 0.004694159 |  0.3585067 |\n",
       "| SC      |  33 |   8385 | 0.003935599 | -0.3157148 |\n",
       "| SEL     |  64 |  16357 | 0.003912698 | -0.3360700 |\n",
       "| M5S     | 661 | 172008 | 0.003842845 | -0.3981569 |\n",
       "| PdL     |  25 |   6719 | 0.003720792 | -0.5066396 |\n",
       "| PD      |  98 |  31632 | 0.003098128 | -1.0600738 |\n",
       "| CD      |  45 |  15853 | 0.002838579 | -1.2907657 |\n",
       "\n"
      ],
      "text/plain": [
       "   party   populism total_toks perc_of_populist_toks\n",
       "1  UDC      58        8738     0.006637675          \n",
       "2  FI      155       29483     0.005257267          \n",
       "3  FDI-CDN  67       13480     0.004970326          \n",
       "4  LN      456       97142     0.004694159          \n",
       "5  SC       33        8385     0.003935599          \n",
       "6  SEL      64       16357     0.003912698          \n",
       "7  M5S     661      172008     0.003842845          \n",
       "8  PdL      25        6719     0.003720792          \n",
       "9  PD       98       31632     0.003098128          \n",
       "10 CD       45       15853     0.002838579          \n",
       "   standardized_perc_of_populist_toks\n",
       "1   2.0859380                        \n",
       "2   0.8590070                        \n",
       "3   0.6039691                        \n",
       "4   0.3585067                        \n",
       "5  -0.3157148                        \n",
       "6  -0.3360700                        \n",
       "7  -0.3981569                        \n",
       "8  -0.5066396                        \n",
       "9  -1.0600738                        \n",
       "10 -1.2907657                        "
      ]
     },
     "metadata": {},
     "output_type": "display_data"
    }
   ],
   "source": [
    "dict_analysis(tokens = manifesto_toks, data = \"manifesto\", dictionary = \"Decadri_Boussalis_Grundl\")"
   ]
  }
 ],
 "metadata": {
  "kernelspec": {
   "display_name": "R",
   "language": "R",
   "name": "ir"
  },
  "language_info": {
   "codemirror_mode": "r",
   "file_extension": ".r",
   "mimetype": "text/x-r-source",
   "name": "R",
   "pygments_lexer": "r",
   "version": "4.1.0"
  },
  "toc": {
   "base_numbering": 1,
   "nav_menu": {},
   "number_sections": true,
   "sideBar": true,
   "skip_h1_title": false,
   "title_cell": "Table of Contents",
   "title_sidebar": "Contents",
   "toc_cell": false,
   "toc_position": {
    "height": "calc(100% - 180px)",
    "left": "10px",
    "top": "150px",
    "width": "303.825px"
   },
   "toc_section_display": true,
   "toc_window_display": true
  }
 },
 "nbformat": 4,
 "nbformat_minor": 5
}
