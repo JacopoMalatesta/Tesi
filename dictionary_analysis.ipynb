{
 "cells": [
  {
   "cell_type": "markdown",
   "id": "29eeb177",
   "metadata": {},
   "source": [
    "1. [Working directory and packages](#chapter1)\n",
    "2. [Data](#chapter2)\n",
    "3. [Preprocessing](#chapter3)\n",
    "4. [Wrapper function](#chapter4)\n",
    "5. [Rooduijn & Pauwels (speeches dataset](#chapter5)\n",
    "   1. [Construct validity](#subparagraph1)\n",
    "   2. [Face validity](#subparagraph2)\n",
    "   3. [External validity](#subparagraph3)\n",
    "       1. [CHES](#subparagraph4)\n",
    "       2. [PopuList](#subparagraph5)\n",
    "6. [Decadri & Boussalis (speeches dataset)](#chapter6)\n",
    "   1. [Construct validity](#subparagraph6)\n",
    "   2. [Face validity](#subparagraph7)\n",
    "   3. [External validity](#subparagraph8)\n",
    "       1. [CHES](#subparagraph9)\n",
    "       2. [PopuList](#subparagraph10)\n",
    "7. [Grundl (Manifesto project)](#chapter7)\n",
    "8. [Decadri and Boussalis (Manifesto Project)](#chapter8)\n",
    "9. [Decadri and Boussalis + Grundl](#chapter9)\n",
    "10.[Keywords in context](#chapter10)"
   ]
  },
  {
   "cell_type": "markdown",
   "id": "27b553b4",
   "metadata": {},
   "source": [
    "# Working directory and packages <a class=\"anchor\" id=\"chapter1\"></a>"
   ]
  },
  {
   "cell_type": "markdown",
   "id": "73da2ecc",
   "metadata": {},
   "source": [
    "Setting the working directory"
   ]
  },
  {
   "cell_type": "code",
   "execution_count": 1,
   "id": "df6990d1",
   "metadata": {},
   "outputs": [],
   "source": [
    "setwd(\"C:/Users/jacop/Tesi/\")"
   ]
  },
  {
   "cell_type": "markdown",
   "id": "4b4fddda",
   "metadata": {},
   "source": [
    "Loading the libraries"
   ]
  },
  {
   "cell_type": "code",
   "execution_count": 2,
   "id": "1895b528",
   "metadata": {},
   "outputs": [],
   "source": [
    "suppressWarnings(suppressPackageStartupMessages(library(dtplyr)))\n",
    "suppressWarnings(suppressPackageStartupMessages(library(tidyverse)))\n",
    "suppressWarnings(suppressPackageStartupMessages(library(data.table)))\n",
    "suppressWarnings(suppressPackageStartupMessages(library(quanteda)))\n",
    "suppressWarnings(suppressPackageStartupMessages(library(manifestoR)))"
   ]
  },
  {
   "cell_type": "markdown",
   "id": "3e3a91b2",
   "metadata": {},
   "source": [
    "The 'tokens_group' function often returns an error when grouping the tokens by more than one variable. One way to fix this is to install a previous version of Quanteda. Let's check which of version we currently have installed."
   ]
  },
  {
   "cell_type": "code",
   "execution_count": 3,
   "id": "fdd7e9db",
   "metadata": {},
   "outputs": [
    {
     "data": {
      "text/plain": [
       "R version 4.1.0 (2021-05-18)\n",
       "Platform: x86_64-w64-mingw32/x64 (64-bit)\n",
       "Running under: Windows 10 x64 (build 22000)\n",
       "\n",
       "Matrix products: default\n",
       "\n",
       "locale:\n",
       "[1] LC_COLLATE=English_United States.1252 \n",
       "[2] LC_CTYPE=English_United States.1252   \n",
       "[3] LC_MONETARY=English_United States.1252\n",
       "[4] LC_NUMERIC=C                          \n",
       "[5] LC_TIME=English_United States.1252    \n",
       "\n",
       "attached base packages:\n",
       "[1] stats     graphics  grDevices utils     datasets  methods   base     \n",
       "\n",
       "other attached packages:\n",
       " [1] manifestoR_1.5.0  tm_0.7-8          NLP_0.2-1         quanteda_2.1.2   \n",
       " [5] data.table_1.14.2 forcats_0.5.1     stringr_1.4.0     dplyr_1.0.7      \n",
       " [9] purrr_0.3.4       readr_2.1.0       tidyr_1.1.4       tibble_3.1.6     \n",
       "[13] ggplot2_3.3.5     tidyverse_1.3.1   dtplyr_1.1.0     \n",
       "\n",
       "loaded via a namespace (and not attached):\n",
       " [1] httr_1.4.2         jsonlite_1.7.2     tmvnsim_1.0-2      modelr_0.1.8      \n",
       " [5] functional_0.6     RcppParallel_5.1.4 assertthat_0.2.1   cellranger_1.1.0  \n",
       " [9] yaml_2.2.1         slam_0.1-49        pillar_1.6.4       backports_1.4.0   \n",
       "[13] lattice_0.20-44    glue_1.5.1         uuid_1.0-3         digest_0.6.29     \n",
       "[17] rvest_1.0.2        colorspace_2.0-2   psych_2.1.9        htmltools_0.5.2   \n",
       "[21] Matrix_1.3-4       pkgconfig_2.0.3    broom_0.7.11       haven_2.4.3       \n",
       "[25] scales_1.1.1       tzdb_0.2.0         generics_0.1.1     ellipsis_0.3.2    \n",
       "[29] DT_0.20            withr_2.4.3        repr_1.1.3         mnormt_2.0.2      \n",
       "[33] cli_3.1.0          magrittr_2.0.1     crayon_1.4.2       readxl_1.3.1      \n",
       "[37] evaluate_0.14      stopwords_2.3      fs_1.5.1           fansi_0.5.0       \n",
       "[41] nlme_3.1-152       xml2_1.3.3         tools_4.1.0        hms_1.1.1         \n",
       "[45] lifecycle_1.0.1    munsell_0.5.0      reprex_2.0.1       compiler_4.1.0    \n",
       "[49] rlang_0.4.12       grid_4.1.0         pbdZMQ_0.3-5       IRkernel_1.2      \n",
       "[53] rstudioapi_0.13    htmlwidgets_1.5.3  base64enc_0.1-3    gtable_0.3.0      \n",
       "[57] DBI_1.1.1          R6_2.5.1           zoo_1.8-9          lubridate_1.8.0   \n",
       "[61] fastmap_1.1.0      utf8_1.2.2         fastmatch_1.1-3    stringi_1.7.6     \n",
       "[65] parallel_4.1.0     IRdisplay_1.0      Rcpp_1.0.7         vctrs_0.3.8       \n",
       "[69] dbplyr_2.1.1       tidyselect_1.1.1  "
      ]
     },
     "metadata": {},
     "output_type": "display_data"
    }
   ],
   "source": [
    "sessionInfo()"
   ]
  },
  {
   "cell_type": "markdown",
   "id": "c19e0518",
   "metadata": {},
   "source": [
    "If it's the latest one, we'll need to unistall it and replace it with a previous version (2.1.2 in this case but others may work as well)"
   ]
  },
  {
   "cell_type": "code",
   "execution_count": 4,
   "id": "a68f363f",
   "metadata": {},
   "outputs": [],
   "source": [
    "# remove.packages('quanteda')\n",
    "# devtools::install_version(\"quanteda\", version = \"2.1.2\", repos = \"http://cran.us.r-project.org\")"
   ]
  },
  {
   "cell_type": "markdown",
   "id": "d0e11f99",
   "metadata": {},
   "source": [
    "# Data <a class=\"anchor\" id=\"chapter2\"></a>"
   ]
  },
  {
   "cell_type": "markdown",
   "id": "559efc4d",
   "metadata": {},
   "source": [
    "## Speeches dataset"
   ]
  },
  {
   "cell_type": "markdown",
   "id": "5e20cb60",
   "metadata": {},
   "source": [
    "Loading the data and turning it into a lazy data.table so that we can use dtplyr on it"
   ]
  },
  {
   "cell_type": "code",
   "execution_count": 5,
   "id": "c8d55902",
   "metadata": {},
   "outputs": [],
   "source": [
    "# load(\"data/parliamentary_groups2.rds\")\n",
    "texts <- readRDS(\"data/joined_texts.rds\") %>% lazy_dt() %>% as_tibble()"
   ]
  },
  {
   "cell_type": "markdown",
   "id": "b9113d49",
   "metadata": {},
   "source": [
    "Casting the \"legislatura\" variable as numeric"
   ]
  },
  {
   "cell_type": "code",
   "execution_count": 6,
   "id": "5f796ae9",
   "metadata": {},
   "outputs": [],
   "source": [
    "texts <- texts %>% mutate(legislatura = as.integer(legislatura)) %>% as_tibble()"
   ]
  },
  {
   "cell_type": "markdown",
   "id": "829adabd",
   "metadata": {},
   "source": [
    "Filtering the dataset by focusing on the last seven legislatures"
   ]
  },
  {
   "cell_type": "code",
   "execution_count": 7,
   "id": "8e7d8054",
   "metadata": {},
   "outputs": [],
   "source": [
    "texts <- texts %>% filter(legislatura >= 12) %>% as_tibble()"
   ]
  },
  {
   "cell_type": "markdown",
   "id": "134ec7ad",
   "metadata": {},
   "source": [
    "## Project Manifesto dataset"
   ]
  },
  {
   "cell_type": "markdown",
   "id": "54697229",
   "metadata": {},
   "source": [
    "Setting the API key in our work environment"
   ]
  },
  {
   "cell_type": "code",
   "execution_count": 8,
   "id": "dc3a3bdd",
   "metadata": {},
   "outputs": [],
   "source": [
    "mp_setapikey(\"data/manifesto_apikey.txt\")"
   ]
  },
  {
   "cell_type": "markdown",
   "id": "bf2a6b83",
   "metadata": {},
   "source": [
    "Filtering the dataset by focusing only on the following parties: LN, M5S, PdL, FI, SC, CD, UDC, FDI-CDN, SEL, PD"
   ]
  },
  {
   "cell_type": "code",
   "execution_count": 9,
   "id": "7544e3fc",
   "metadata": {},
   "outputs": [
    {
     "name": "stdout",
     "output_type": "stream",
     "text": [
      "Connecting to Manifesto Project DB API... \n",
      "Connecting to Manifesto Project DB API... corpus version: 2021-1 \n",
      "Connecting to Manifesto Project DB API... \n",
      "Connecting to Manifesto Project DB API... corpus version: 2021-1 \n",
      "Connecting to Manifesto Project DB API... corpus version: 2021-1 \n",
      "Connecting to Manifesto Project DB API... corpus version: 2021-1 \n"
     ]
    }
   ],
   "source": [
    "party_codes <- c(32061, 32230, 32440, 32460, 32530, 32610, 32630, 32720, 32956, 32450)\n",
    "\n",
    "ita_manifestoes <- mp_corpus(countryname == \"Italy\" & party %in% party_codes)"
   ]
  },
  {
   "cell_type": "markdown",
   "id": "e78b8260",
   "metadata": {},
   "source": [
    "## External validity datasets"
   ]
  },
  {
   "cell_type": "markdown",
   "id": "7c964b97",
   "metadata": {},
   "source": [
    "Let's load the two datasets we'll be using to test the dictionaries' external validity: the Chapel Hill Expert Survey and the PopuList dataset."
   ]
  },
  {
   "cell_type": "code",
   "execution_count": 10,
   "id": "b500975d",
   "metadata": {},
   "outputs": [],
   "source": [
    "ches <- read_csv(\"data/1999-2019_CHES_dataset_means(v2).csv\", show_col_types = FALSE)\n",
    "\n",
    "populist <- readxl::read_xlsx(\"data/populist-version-2-20200626.xlsx\")"
   ]
  },
  {
   "cell_type": "markdown",
   "id": "3887821b",
   "metadata": {},
   "source": [
    "## Stopwords"
   ]
  },
  {
   "cell_type": "markdown",
   "id": "4de77809",
   "metadata": {},
   "source": [
    "Decadri and Boussalis' additional stopwords"
   ]
  },
  {
   "cell_type": "code",
   "execution_count": 11,
   "id": "0cf897fd",
   "metadata": {},
   "outputs": [],
   "source": [
    "db_additional_stopwords  <- suppressMessages(read_csv(\"data/it_stopwords_new_list.csv\")) %>% \n",
    "                            pull(stopwords)"
   ]
  },
  {
   "cell_type": "markdown",
   "id": "4cb42bf8",
   "metadata": {},
   "source": [
    "Procedural stopwords"
   ]
  },
  {
   "cell_type": "code",
   "execution_count": 12,
   "id": "7ad8c424",
   "metadata": {},
   "outputs": [],
   "source": [
    "procedural_stopwords <- suppressMessages(read_csv(\"data/it_stopwords_procedural.csv\")) %>% \n",
    "                        pull(it_stopwords_procedural)"
   ]
  },
  {
   "cell_type": "markdown",
   "id": "94c72402",
   "metadata": {},
   "source": [
    "## Dictionaries"
   ]
  },
  {
   "cell_type": "markdown",
   "id": "29fd5ea2",
   "metadata": {},
   "source": [
    "Rooduijn and Pauwels' dictionary"
   ]
  },
  {
   "cell_type": "code",
   "execution_count": 13,
   "id": "b7fa590c",
   "metadata": {},
   "outputs": [],
   "source": [
    "anti_elitism <- c(\"elit*\", \"consens*\", \"antidemocratic*\", \"referend*\", \"corrot*\", \"propagand*\", \n",
    "                  \"politici*\",\"ingann*\", \"tradi*\", \"vergogn*\", \"scandal*\", \"verita\", \"disonest*\", \n",
    "                  \"partitocrazia\", \"menzogn*\", \"mentir*\")\n",
    "\n",
    "rp_dictionary <- dictionary(list(anti_elitism = anti_elitism))"
   ]
  },
  {
   "cell_type": "markdown",
   "id": "8900bf09",
   "metadata": {},
   "source": [
    "Decadri and Boussalis' dictionary"
   ]
  },
  {
   "cell_type": "code",
   "execution_count": 14,
   "id": "5a2e66e5",
   "metadata": {},
   "outputs": [],
   "source": [
    "anti_elitism <- c(\"antidemocratic*\", \"casta\", \"consens*\", \"corrot*\", \"disonest*\", \"elit*\", \n",
    "                  \"establishment\", \"ingann*\", \"mentir*\", \"menzogn*\", \"partitocrazia\", \"propagand*\", \n",
    "                  \"scandal*\", \"tradim*\", \"tradir*\", \"tradit*\", \"vergogn*\", \"verita\")\n",
    "\n",
    "people_centrism  <- c(\"abitant*\", \"cittadin*\", \"consumator*\", \"contribuent*\", \"elettor*\", \"gente\", \"popol*\")\n",
    "\n",
    "db_dictionary <- dictionary(list(anti_elitism = anti_elitism, \n",
    "                                 people_centrism = people_centrism))"
   ]
  },
  {
   "cell_type": "markdown",
   "id": "e6d4f58d",
   "metadata": {},
   "source": [
    "The integral translation of Grundl's dictionary"
   ]
  },
  {
   "cell_type": "code",
   "execution_count": 15,
   "id": "818d93fb",
   "metadata": {},
   "outputs": [],
   "source": [
    "grundl <- readxl::read_xlsx(\"data/gruendl_terms_Fedra_Silvia_comments3.xlsx\", sheet = 1) %>% \n",
    "filter(!is.na(Italian_integral)) %>% # Removing nulls\n",
    "mutate(Italian_integral = str_split(Italian_integral, ', ')) %>% # Some cells contain more than one value: let's split and unnest everything\n",
    "unnest(cols = c(Italian_integral)) %>% \n",
    "distinct(Italian_integral) %>% # Removing duplicate terms\n",
    "pull(Italian_integral) # Extracting the 'terms' vector\n",
    "\n",
    "g_dictionary <- dictionary(list(populism = grundl))"
   ]
  },
  {
   "cell_type": "markdown",
   "id": "0ddc7964",
   "metadata": {},
   "source": [
    "Combining Decadri and Boussalis' dictionary to a translation of Grundl's dictionary adapted to the Italian context"
   ]
  },
  {
   "cell_type": "code",
   "execution_count": 16,
   "id": "3adffa1e",
   "metadata": {},
   "outputs": [],
   "source": [
    "dbg <- readxl::read_xlsx(\"data/gruendl_terms_Fedra_Silvia_comments3.xlsx\", sheet = 1) %>% \n",
    "filter(!is.na(Decadri_Boussalis_Grundl)) %>% \n",
    "mutate(Decadri_Boussalis_Grundl = str_split(Decadri_Boussalis_Grundl, ', ')) %>% \n",
    "unnest(cols = c(Decadri_Boussalis_Grundl)) %>% \n",
    "distinct(Decadri_Boussalis_Grundl) %>% \n",
    "pull(Decadri_Boussalis_Grundl)\n",
    "\n",
    "dbg_dictionary <- dictionary(list(populism = dbg))"
   ]
  },
  {
   "cell_type": "markdown",
   "id": "c0862500",
   "metadata": {},
   "source": [
    "# Preprocessing <a class=\"anchor\" id=\"chapter3\"></a>"
   ]
  },
  {
   "cell_type": "markdown",
   "id": "436f5c89",
   "metadata": {},
   "source": [
    "## Speeches dataset"
   ]
  },
  {
   "cell_type": "markdown",
   "id": "793d21fe",
   "metadata": {},
   "source": [
    "Creating the corpus"
   ]
  },
  {
   "cell_type": "code",
   "execution_count": 17,
   "id": "086dab3e",
   "metadata": {},
   "outputs": [],
   "source": [
    "speeches_corpus <- corpus(texts, text_field = \"textclean\")"
   ]
  },
  {
   "cell_type": "markdown",
   "id": "fef42baf",
   "metadata": {},
   "source": [
    "Tokenizing the corpus, removing stopwords and grouping the tokens by the 'year' and 'gruppoP' variables"
   ]
  },
  {
   "cell_type": "code",
   "execution_count": 18,
   "id": "2f3e623d",
   "metadata": {},
   "outputs": [],
   "source": [
    "speeches_toks <- speeches_corpus %>% \n",
    "                 tokens(., remove_punct = TRUE, remove_symbols = TRUE, remove_numbers = TRUE, remove_separators = TRUE)  %>% \n",
    "                 tokens_remove(., pattern = stopwords(\"it\"), padding = TRUE) %>% \n",
    "                 tokens_remove(., pattern = db_additional_stopwords) %>% \n",
    "                 tokens_remove(., pattern = procedural_stopwords) %>% \n",
    "                 quanteda:::tokens_group(x = ., groups = c('year', 'gruppoP'))"
   ]
  },
  {
   "cell_type": "markdown",
   "id": "a4d9c4a5",
   "metadata": {},
   "source": [
    "## Manifesto project dataset"
   ]
  },
  {
   "cell_type": "markdown",
   "id": "1d47cc2e",
   "metadata": {},
   "source": [
    "Creating the corpus, tokenizing it, removing stopwords and grouping the tokens by the 'party' variable"
   ]
  },
  {
   "cell_type": "code",
   "execution_count": 19,
   "id": "8f4f4412",
   "metadata": {},
   "outputs": [],
   "source": [
    "manifesto_corpus <- corpus(ita_manifestoes)\n",
    "\n",
    "manifesto_toks <- manifesto_corpus %>% \n",
    "                  tokens(., remove_punct = TRUE, remove_symbols = TRUE, remove_numbers = TRUE, remove_separators = TRUE)  %>% \n",
    "                  tokens_remove(., pattern = stopwords(\"it\"), padding = TRUE) %>% \n",
    "                  tokens_remove(., pattern = db_additional_stopwords) %>% \n",
    "                  tokens_remove(., pattern = procedural_stopwords) %>% \n",
    "                  quanteda:::tokens_group(x = ., groups = 'party')"
   ]
  },
  {
   "cell_type": "markdown",
   "id": "df5ad07d",
   "metadata": {},
   "source": [
    "# Wrapper function <a class=\"anchor\" id=\"chapter4\"></a>"
   ]
  },
  {
   "cell_type": "code",
   "execution_count": 20,
   "id": "f5a3e3b1",
   "metadata": {},
   "outputs": [],
   "source": [
    "dict_analysis <- function(tokens, data, dictionary) {\n",
    "        \n",
    "  # Applying Rooduijn and Pauwels' dictionary to the speeches dataset\n",
    "  \n",
    "  if (data == \"speeches\" & dictionary == \"Rooduijn_Pauwels\") {\n",
    "    \n",
    "  my_dfm <- tokens_lookup(x = tokens, dictionary = rp_dictionary) %>% \n",
    "            dfm(.)  %>% \n",
    "            convert(., to = \"data.frame\") %>% \n",
    "            mutate(year = docvars(tokens)$year,\n",
    "                   party = docvars(tokens)$gruppoP,\n",
    "                   total_toks = ntoken(tokens),\n",
    "                   perc_of_populist_toks = anti_elitism / total_toks,\n",
    "                   standardized_perc_of_populist_toks = as.double(scale(perc_of_populist_toks))) %>% \n",
    "            relocate(doc_id, year, party, anti_elitism, total_toks, perc_of_populist_toks, \n",
    "                     standardized_perc_of_populist_toks) %>% \n",
    "            as_tibble()\n",
    "\n",
    "  }\n",
    "    \n",
    "  # Applying Decadri and Boussalis' dictionary to the speeches dataset\n",
    "  \n",
    "  if (data == 'speeches' & dictionary == \"Decadri_Boussalis\") {\n",
    "    \n",
    "    my_dict_lookup <- \n",
    "    \n",
    "    my_dfm <- tokens_lookup(x = tokens, dictionary = db_dictionary) %>% \n",
    "              dfm(.) %>% \n",
    "              convert(., to = \"data.frame\") %>% \n",
    "              mutate(year = docvars(tokens)$year,\n",
    "                     party = docvars(tokens)$gruppoP,\n",
    "                     populist_toks = anti_elitism + people_centrism,\n",
    "                     total_toks = ntoken(tokens),\n",
    "                     perc_of_populist_toks = populist_toks / total_toks,\n",
    "                     standardized_perc_of_populist_toks = as.double(scale(perc_of_populist_toks))) %>% \n",
    "              relocate(doc_id, year, party, anti_elitism, people_centrism, populist_toks,\n",
    "                       total_toks, perc_of_populist_toks, standardized_perc_of_populist_toks) %>% \n",
    "              as_tibble()\n",
    "    \n",
    "  }\n",
    "    \n",
    "  # Applying Grundl's dictionary\n",
    "    \n",
    "  if (data == \"manifesto\" & dictionary == \"Grundl\") {\n",
    "      \n",
    "      my_dfm <- tokens_lookup(x = tokens, dictionary = g_dictionary) %>% \n",
    "                dfm(.)  %>% \n",
    "                convert(., to = \"data.frame\")  %>% \n",
    "                rename(party = doc_id) %>% \n",
    "                mutate(party = case_when(\n",
    "                                           party == '32630' ~ 'FDI-CDN', \n",
    "                                           party == '32610' ~ 'FI',\n",
    "                                           party == '32720' ~ 'LN',\n",
    "                                           party == '32956' ~ 'M5S',\n",
    "                                           party == '32061' ~ 'PdL',\n",
    "                                           party == '32460' ~ 'SC',\n",
    "                                           party == '32450' ~ 'CD',\n",
    "                                           party == '32530' ~ 'UDC',\n",
    "                                           party == '32230' ~ 'SEL',\n",
    "                                           party == '32440' ~ 'PD'),\n",
    "                       total_toks = ntoken(tokens),\n",
    "                       perc_of_populist_toks = populism / total_toks,\n",
    "                       standardized_perc_of_populist_toks = as.double(scale(perc_of_populist_toks))) %>% \n",
    "               arrange(desc(perc_of_populist_toks)) %>% \n",
    "               as_tibble()\n",
    "  }\n",
    "    \n",
    "  if (data == \"manifesto\" & dictionary == \"Decadri_Boussalis\") {\n",
    "      \n",
    "      my_dfm <- tokens_lookup(x = tokens, dictionary = db_dictionary) %>% \n",
    "                dfm(.) %>% \n",
    "                convert(., to = \"data.frame\") %>% \n",
    "                rename(party = doc_id) %>% \n",
    "                mutate(party = case_when(\n",
    "                                           party == '32630' ~ 'FDI-CDN', \n",
    "                                           party == '32610' ~ 'FI',\n",
    "                                           party == '32720' ~ 'LN',\n",
    "                                           party == '32956' ~ 'M5S',\n",
    "                                           party == '32061' ~ 'PdL',\n",
    "                                           party == '32460' ~ 'SC',\n",
    "                                           party == '32450' ~ 'CD',\n",
    "                                           party == '32530' ~ 'UDC',\n",
    "                                           party == '32230' ~ 'SEL',\n",
    "                                           party == '32440' ~ 'PD'),\n",
    "                       total_toks = ntoken(tokens),\n",
    "                       populist_toks = anti_elitism + people_centrism,\n",
    "                       perc_of_populist_toks = populist_toks / total_toks,\n",
    "                       standardized_perc_of_populist_toks = as.double(scale(perc_of_populist_toks))) %>% \n",
    "                arrange(desc(perc_of_populist_toks)) %>% \n",
    "                as_tibble()\n",
    "  }\n",
    "    \n",
    "    \n",
    "  if (data == \"manifesto\" & dictionary == \"Decadri_Boussalis_Grundl\") {\n",
    "      \n",
    "      my_dfm <- tokens_lookup(x = tokens, dictionary = dbg_dictionary) %>% \n",
    "                dfm(.) %>% \n",
    "                convert(., to = \"data.frame\") %>% \n",
    "                rename(party = doc_id) %>% \n",
    "                mutate(party = case_when(\n",
    "                                           party == '32630' ~ 'FDI-CDN', \n",
    "                                           party == '32610' ~ 'FI',\n",
    "                                           party == '32720' ~ 'LN',\n",
    "                                           party == '32956' ~ 'M5S',\n",
    "                                           party == '32061' ~ 'PdL',\n",
    "                                           party == '32460' ~ 'SC',\n",
    "                                           party == '32450' ~ 'CD',\n",
    "                                           party == '32530' ~ 'UDC',\n",
    "                                           party == '32230' ~ 'SEL',\n",
    "                                           party == '32440' ~ 'PD'),\n",
    "                       total_toks = ntoken(tokens),\n",
    "                       perc_of_populist_toks = populism / total_toks,\n",
    "                       standardized_perc_of_populist_toks = as.double(scale(perc_of_populist_toks))) %>% \n",
    "                arrange(desc(perc_of_populist_toks)) %>% \n",
    "                as_tibble()\n",
    "  }  \n",
    "  \n",
    "  return(my_dfm)\n",
    "    \n",
    "  \n",
    "}\n"
   ]
  },
  {
   "cell_type": "markdown",
   "id": "87740287",
   "metadata": {},
   "source": [
    "# Rooduijn & Pauwels (speeches dataset) <a class=\"anchor\" id=\"chapter5\"></a>"
   ]
  },
  {
   "cell_type": "markdown",
   "id": "be198dd3",
   "metadata": {},
   "source": [
    "Let's run the dictionary analysis by using Roodujin and Pauwels' dictionary"
   ]
  },
  {
   "cell_type": "code",
   "execution_count": 21,
   "id": "77e1ce64",
   "metadata": {},
   "outputs": [],
   "source": [
    "df_rp <- dict_analysis(tokens = speeches_toks, data = \"speeches\", dictionary = \"Rooduijn_Pauwels\")"
   ]
  },
  {
   "cell_type": "markdown",
   "id": "4916e01c",
   "metadata": {},
   "source": [
    "The first rows of the dataframe"
   ]
  },
  {
   "cell_type": "code",
   "execution_count": 22,
   "id": "cc66e075",
   "metadata": {},
   "outputs": [
    {
     "data": {
      "text/html": [
       "<table class=\"dataframe\">\n",
       "<caption>A tibble: 6 × 7</caption>\n",
       "<thead>\n",
       "\t<tr><th scope=col>doc_id</th><th scope=col>year</th><th scope=col>party</th><th scope=col>anti_elitism</th><th scope=col>total_toks</th><th scope=col>perc_of_populist_toks</th><th scope=col>standardized_perc_of_populist_toks</th></tr>\n",
       "\t<tr><th scope=col>&lt;chr&gt;</th><th scope=col>&lt;int&gt;</th><th scope=col>&lt;chr&gt;</th><th scope=col>&lt;dbl&gt;</th><th scope=col>&lt;int&gt;</th><th scope=col>&lt;dbl&gt;</th><th scope=col>&lt;dbl&gt;</th></tr>\n",
       "</thead>\n",
       "<tbody>\n",
       "\t<tr><td>1994.AN</td><td>1994</td><td>AN</td><td>245</td><td>206560</td><td>0.0011860960</td><td> 0.45833531</td></tr>\n",
       "\t<tr><td>1995.AN</td><td>1995</td><td>AN</td><td>508</td><td>350039</td><td>0.0014512669</td><td> 1.06035033</td></tr>\n",
       "\t<tr><td>1996.AN</td><td>1996</td><td>AN</td><td>229</td><td>272610</td><td>0.0008400279</td><td>-0.32734030</td></tr>\n",
       "\t<tr><td>1997.AN</td><td>1997</td><td>AN</td><td>414</td><td>381823</td><td>0.0010842720</td><td> 0.22716511</td></tr>\n",
       "\t<tr><td>1998.AN</td><td>1998</td><td>AN</td><td>740</td><td>746852</td><td>0.0009908255</td><td> 0.01501423</td></tr>\n",
       "\t<tr><td>1999.AN</td><td>1999</td><td>AN</td><td>472</td><td>399795</td><td>0.0011806051</td><td> 0.44586916</td></tr>\n",
       "</tbody>\n",
       "</table>\n"
      ],
      "text/latex": [
       "A tibble: 6 × 7\n",
       "\\begin{tabular}{lllllll}\n",
       " doc\\_id & year & party & anti\\_elitism & total\\_toks & perc\\_of\\_populist\\_toks & standardized\\_perc\\_of\\_populist\\_toks\\\\\n",
       " <chr> & <int> & <chr> & <dbl> & <int> & <dbl> & <dbl>\\\\\n",
       "\\hline\n",
       "\t 1994.AN & 1994 & AN & 245 & 206560 & 0.0011860960 &  0.45833531\\\\\n",
       "\t 1995.AN & 1995 & AN & 508 & 350039 & 0.0014512669 &  1.06035033\\\\\n",
       "\t 1996.AN & 1996 & AN & 229 & 272610 & 0.0008400279 & -0.32734030\\\\\n",
       "\t 1997.AN & 1997 & AN & 414 & 381823 & 0.0010842720 &  0.22716511\\\\\n",
       "\t 1998.AN & 1998 & AN & 740 & 746852 & 0.0009908255 &  0.01501423\\\\\n",
       "\t 1999.AN & 1999 & AN & 472 & 399795 & 0.0011806051 &  0.44586916\\\\\n",
       "\\end{tabular}\n"
      ],
      "text/markdown": [
       "\n",
       "A tibble: 6 × 7\n",
       "\n",
       "| doc_id &lt;chr&gt; | year &lt;int&gt; | party &lt;chr&gt; | anti_elitism &lt;dbl&gt; | total_toks &lt;int&gt; | perc_of_populist_toks &lt;dbl&gt; | standardized_perc_of_populist_toks &lt;dbl&gt; |\n",
       "|---|---|---|---|---|---|---|\n",
       "| 1994.AN | 1994 | AN | 245 | 206560 | 0.0011860960 |  0.45833531 |\n",
       "| 1995.AN | 1995 | AN | 508 | 350039 | 0.0014512669 |  1.06035033 |\n",
       "| 1996.AN | 1996 | AN | 229 | 272610 | 0.0008400279 | -0.32734030 |\n",
       "| 1997.AN | 1997 | AN | 414 | 381823 | 0.0010842720 |  0.22716511 |\n",
       "| 1998.AN | 1998 | AN | 740 | 746852 | 0.0009908255 |  0.01501423 |\n",
       "| 1999.AN | 1999 | AN | 472 | 399795 | 0.0011806051 |  0.44586916 |\n",
       "\n"
      ],
      "text/plain": [
       "  doc_id  year party anti_elitism total_toks perc_of_populist_toks\n",
       "1 1994.AN 1994 AN    245          206560     0.0011860960         \n",
       "2 1995.AN 1995 AN    508          350039     0.0014512669         \n",
       "3 1996.AN 1996 AN    229          272610     0.0008400279         \n",
       "4 1997.AN 1997 AN    414          381823     0.0010842720         \n",
       "5 1998.AN 1998 AN    740          746852     0.0009908255         \n",
       "6 1999.AN 1999 AN    472          399795     0.0011806051         \n",
       "  standardized_perc_of_populist_toks\n",
       "1  0.45833531                       \n",
       "2  1.06035033                       \n",
       "3 -0.32734030                       \n",
       "4  0.22716511                       \n",
       "5  0.01501423                       \n",
       "6  0.44586916                       "
      ]
     },
     "metadata": {},
     "output_type": "display_data"
    }
   ],
   "source": [
    "head(df_rp)"
   ]
  },
  {
   "cell_type": "markdown",
   "id": "41f70a3d",
   "metadata": {},
   "source": [
    "## Construct validity <a class=\"anchor\" id=\"subparagraph1\"></a>"
   ]
  },
  {
   "cell_type": "markdown",
   "id": "bd915c9b",
   "metadata": {},
   "source": [
    "Rooduijn and Pauwels' dictionary captures the \"anti-elitism\" component of populism, but not the \"people-centrism\" one. As a result, from a construct validity standpoint, it is only partially valid. The authors motivated the decision to leave out the \"people-centrism\" dimension by pointing out that the \"people\" is often referenced to by words such as \"us\", \"we\" and \"our\" which are also used to reference entities other than the people (such as political parties). The inclusion of these words in the dictionary, they argue, would result in a large number of false positives."
   ]
  },
  {
   "cell_type": "markdown",
   "id": "846f02ad",
   "metadata": {},
   "source": [
    "## Face validity <a class=\"anchor\" id=\"subparagraph2\"></a>"
   ]
  },
  {
   "cell_type": "markdown",
   "id": "31ede05e",
   "metadata": {},
   "source": [
    "A populist dictionary has face validity if the allegedly populist parties are indeed populist. In the Italian case, we would expect populist values to be higher for parties that the literature deems populist (i.e. Five Star Movement, Lega Nord, Forza Italia and Il Popolo delle Libertà)."
   ]
  },
  {
   "cell_type": "markdown",
   "id": "4914bb60",
   "metadata": {},
   "source": [
    "The following are the 20 party-year combinations with the highest populist score in the 1994-2021 period. Consistently with our expectations, we find populist parties such as FDI (2013, 2014, 2017), FI-PDL (2019), and LEGA (1995). However, we also find mainstream parties such as SI-SEL-POS-LU (2016, 2018), IV (2018), PD (2018, 2019). These results could be interpreted as evidence of either populist contagion of mainstream parties or lack of face validity. The absence of M5S among the most populist parties makes me lean towards the latter."
   ]
  },
  {
   "cell_type": "code",
   "execution_count": 23,
   "id": "51d30879",
   "metadata": {},
   "outputs": [
    {
     "data": {
      "text/html": [
       "<table class=\"dataframe\">\n",
       "<caption>A tibble: 20 × 7</caption>\n",
       "<thead>\n",
       "\t<tr><th scope=col>doc_id</th><th scope=col>year</th><th scope=col>party</th><th scope=col>anti_elitism</th><th scope=col>total_toks</th><th scope=col>perc_of_populist_toks</th><th scope=col>standardized_perc_of_populist_toks</th></tr>\n",
       "\t<tr><th scope=col>&lt;chr&gt;</th><th scope=col>&lt;int&gt;</th><th scope=col>&lt;chr&gt;</th><th scope=col>&lt;dbl&gt;</th><th scope=col>&lt;int&gt;</th><th scope=col>&lt;dbl&gt;</th><th scope=col>&lt;dbl&gt;</th></tr>\n",
       "</thead>\n",
       "<tbody>\n",
       "\t<tr><td>1996.FLD                                                                                                                                                         </td><td>1996</td><td>FLD                                                                                                                                                         </td><td> 11</td><td>  2894</td><td>0.003800968</td><td>6.394856</td></tr>\n",
       "\t<tr><td>1996.PPI                                                                                                                                                         </td><td>1996</td><td>PPI                                                                                                                                                         </td><td> 34</td><td>  9296</td><td>0.003657487</td><td>6.069113</td></tr>\n",
       "\t<tr><td>2018.SI-SEL-POS-LU                                                                                                                                               </td><td>2018</td><td>SI-SEL-POS-LU                                                                                                                                               </td><td>  7</td><td>  2189</td><td>0.003197807</td><td>5.025506</td></tr>\n",
       "\t<tr><td>1995.FLD                                                                                                                                                         </td><td>1995</td><td>FLD                                                                                                                                                         </td><td>120</td><td> 57421</td><td>0.002089828</td><td>2.510070</td></tr>\n",
       "\t<tr><td>2000.DEM-U                                                                                                                                                       </td><td>2000</td><td>DEM-U                                                                                                                                                       </td><td>108</td><td> 52222</td><td>0.002068094</td><td>2.460727</td></tr>\n",
       "\t<tr><td>2016.SI-SEL-POS-LU                                                                                                                                               </td><td>2016</td><td>SI-SEL-POS-LU                                                                                                                                               </td><td>346</td><td>168754</td><td>0.002050322</td><td>2.420380</td></tr>\n",
       "\t<tr><td>2014.FDI                                                                                                                                                         </td><td>2014</td><td>FDI                                                                                                                                                         </td><td> 99</td><td> 51695</td><td>0.001915079</td><td>2.113339</td></tr>\n",
       "\t<tr><td>2019.FI-PDL                                                                                                                                                      </td><td>2019</td><td>FI-PDL                                                                                                                                                      </td><td>949</td><td>533560</td><td>0.001778619</td><td>1.803535</td></tr>\n",
       "\t<tr><td>1995.DEMO                                                                                                                                                        </td><td>1995</td><td>DEMO                                                                                                                                                        </td><td> 85</td><td> 49325</td><td>0.001723264</td><td>1.677863</td></tr>\n",
       "\t<tr><td>1996.PROGR-F                                                                                                                                                     </td><td>1996</td><td>PROGR-F                                                                                                                                                     </td><td> 46</td><td> 26734</td><td>0.001720655</td><td>1.671941</td></tr>\n",
       "\t<tr><td>2018.PD-ULIVO                                                                                                                                                    </td><td>2018</td><td>PD-ULIVO                                                                                                                                                    </td><td>516</td><td>300098</td><td>0.001719438</td><td>1.669178</td></tr>\n",
       "\t<tr><td>2013.FDI                                                                                                                                                         </td><td>2013</td><td>FDI                                                                                                                                                         </td><td>140</td><td> 82996</td><td>0.001686828</td><td>1.595143</td></tr>\n",
       "\t<tr><td>2011.NOI SUD-LIBERTA' ED AUTONOMIA/POPOLARI D'ITALIA DOMANI-PID/MOVIMENTO DI RESPONSABILITA' NAZIONALE-MRN/AZIONE POPOLARE/ALLEANZA DI CENTRO-ADC/INTESA POPOLARE</td><td>2011</td><td>NOI SUD-LIBERTA' ED AUTONOMIA/POPOLARI D'ITALIA DOMANI-PID/MOVIMENTO DI RESPONSABILITA' NAZIONALE-MRN/AZIONE POPOLARE/ALLEANZA DI CENTRO-ADC/INTESA POPOLARE</td><td> 90</td><td> 54866</td><td>0.001640360</td><td>1.489647</td></tr>\n",
       "\t<tr><td>2018.IV                                                                                                                                                          </td><td>2018</td><td>IV                                                                                                                                                          </td><td> 96</td><td> 58631</td><td>0.001637359</td><td>1.482834</td></tr>\n",
       "\t<tr><td>2019.PD-ULIVO                                                                                                                                                    </td><td>2019</td><td>PD-ULIVO                                                                                                                                                    </td><td>888</td><td>557509</td><td>0.001592799</td><td>1.381670</td></tr>\n",
       "\t<tr><td>2000.RINN/IT                                                                                                                                                     </td><td>2000</td><td>RINN/IT                                                                                                                                                     </td><td> 46</td><td> 28958</td><td>0.001588507</td><td>1.371927</td></tr>\n",
       "\t<tr><td>1996.DEMO                                                                                                                                                        </td><td>1996</td><td>DEMO                                                                                                                                                        </td><td>  4</td><td>  2599</td><td>0.001539053</td><td>1.259652</td></tr>\n",
       "\t<tr><td>2017.FDI                                                                                                                                                         </td><td>2017</td><td>FDI                                                                                                                                                         </td><td> 58</td><td> 38123</td><td>0.001521391</td><td>1.219553</td></tr>\n",
       "\t<tr><td>1995.LEGA                                                                                                                                                        </td><td>1995</td><td>LEGA                                                                                                                                                        </td><td>238</td><td>156792</td><td>0.001517935</td><td>1.211706</td></tr>\n",
       "\t<tr><td>1995.RC                                                                                                                                                          </td><td>1995</td><td>RC                                                                                                                                                          </td><td>445</td><td>303724</td><td>0.001465146</td><td>1.091860</td></tr>\n",
       "</tbody>\n",
       "</table>\n"
      ],
      "text/latex": [
       "A tibble: 20 × 7\n",
       "\\begin{tabular}{lllllll}\n",
       " doc\\_id & year & party & anti\\_elitism & total\\_toks & perc\\_of\\_populist\\_toks & standardized\\_perc\\_of\\_populist\\_toks\\\\\n",
       " <chr> & <int> & <chr> & <dbl> & <int> & <dbl> & <dbl>\\\\\n",
       "\\hline\n",
       "\t 1996.FLD                                                                                                                                                          & 1996 & FLD                                                                                                                                                          &  11 &   2894 & 0.003800968 & 6.394856\\\\\n",
       "\t 1996.PPI                                                                                                                                                          & 1996 & PPI                                                                                                                                                          &  34 &   9296 & 0.003657487 & 6.069113\\\\\n",
       "\t 2018.SI-SEL-POS-LU                                                                                                                                                & 2018 & SI-SEL-POS-LU                                                                                                                                                &   7 &   2189 & 0.003197807 & 5.025506\\\\\n",
       "\t 1995.FLD                                                                                                                                                          & 1995 & FLD                                                                                                                                                          & 120 &  57421 & 0.002089828 & 2.510070\\\\\n",
       "\t 2000.DEM-U                                                                                                                                                        & 2000 & DEM-U                                                                                                                                                        & 108 &  52222 & 0.002068094 & 2.460727\\\\\n",
       "\t 2016.SI-SEL-POS-LU                                                                                                                                                & 2016 & SI-SEL-POS-LU                                                                                                                                                & 346 & 168754 & 0.002050322 & 2.420380\\\\\n",
       "\t 2014.FDI                                                                                                                                                          & 2014 & FDI                                                                                                                                                          &  99 &  51695 & 0.001915079 & 2.113339\\\\\n",
       "\t 2019.FI-PDL                                                                                                                                                       & 2019 & FI-PDL                                                                                                                                                       & 949 & 533560 & 0.001778619 & 1.803535\\\\\n",
       "\t 1995.DEMO                                                                                                                                                         & 1995 & DEMO                                                                                                                                                         &  85 &  49325 & 0.001723264 & 1.677863\\\\\n",
       "\t 1996.PROGR-F                                                                                                                                                      & 1996 & PROGR-F                                                                                                                                                      &  46 &  26734 & 0.001720655 & 1.671941\\\\\n",
       "\t 2018.PD-ULIVO                                                                                                                                                     & 2018 & PD-ULIVO                                                                                                                                                     & 516 & 300098 & 0.001719438 & 1.669178\\\\\n",
       "\t 2013.FDI                                                                                                                                                          & 2013 & FDI                                                                                                                                                          & 140 &  82996 & 0.001686828 & 1.595143\\\\\n",
       "\t 2011.NOI SUD-LIBERTA' ED AUTONOMIA/POPOLARI D'ITALIA DOMANI-PID/MOVIMENTO DI RESPONSABILITA' NAZIONALE-MRN/AZIONE POPOLARE/ALLEANZA DI CENTRO-ADC/INTESA POPOLARE & 2011 & NOI SUD-LIBERTA' ED AUTONOMIA/POPOLARI D'ITALIA DOMANI-PID/MOVIMENTO DI RESPONSABILITA' NAZIONALE-MRN/AZIONE POPOLARE/ALLEANZA DI CENTRO-ADC/INTESA POPOLARE &  90 &  54866 & 0.001640360 & 1.489647\\\\\n",
       "\t 2018.IV                                                                                                                                                           & 2018 & IV                                                                                                                                                           &  96 &  58631 & 0.001637359 & 1.482834\\\\\n",
       "\t 2019.PD-ULIVO                                                                                                                                                     & 2019 & PD-ULIVO                                                                                                                                                     & 888 & 557509 & 0.001592799 & 1.381670\\\\\n",
       "\t 2000.RINN/IT                                                                                                                                                      & 2000 & RINN/IT                                                                                                                                                      &  46 &  28958 & 0.001588507 & 1.371927\\\\\n",
       "\t 1996.DEMO                                                                                                                                                         & 1996 & DEMO                                                                                                                                                         &   4 &   2599 & 0.001539053 & 1.259652\\\\\n",
       "\t 2017.FDI                                                                                                                                                          & 2017 & FDI                                                                                                                                                          &  58 &  38123 & 0.001521391 & 1.219553\\\\\n",
       "\t 1995.LEGA                                                                                                                                                         & 1995 & LEGA                                                                                                                                                         & 238 & 156792 & 0.001517935 & 1.211706\\\\\n",
       "\t 1995.RC                                                                                                                                                           & 1995 & RC                                                                                                                                                           & 445 & 303724 & 0.001465146 & 1.091860\\\\\n",
       "\\end{tabular}\n"
      ],
      "text/markdown": [
       "\n",
       "A tibble: 20 × 7\n",
       "\n",
       "| doc_id &lt;chr&gt; | year &lt;int&gt; | party &lt;chr&gt; | anti_elitism &lt;dbl&gt; | total_toks &lt;int&gt; | perc_of_populist_toks &lt;dbl&gt; | standardized_perc_of_populist_toks &lt;dbl&gt; |\n",
       "|---|---|---|---|---|---|---|\n",
       "| 1996.FLD                                                                                                                                                          | 1996 | FLD                                                                                                                                                          |  11 |   2894 | 0.003800968 | 6.394856 |\n",
       "| 1996.PPI                                                                                                                                                          | 1996 | PPI                                                                                                                                                          |  34 |   9296 | 0.003657487 | 6.069113 |\n",
       "| 2018.SI-SEL-POS-LU                                                                                                                                                | 2018 | SI-SEL-POS-LU                                                                                                                                                |   7 |   2189 | 0.003197807 | 5.025506 |\n",
       "| 1995.FLD                                                                                                                                                          | 1995 | FLD                                                                                                                                                          | 120 |  57421 | 0.002089828 | 2.510070 |\n",
       "| 2000.DEM-U                                                                                                                                                        | 2000 | DEM-U                                                                                                                                                        | 108 |  52222 | 0.002068094 | 2.460727 |\n",
       "| 2016.SI-SEL-POS-LU                                                                                                                                                | 2016 | SI-SEL-POS-LU                                                                                                                                                | 346 | 168754 | 0.002050322 | 2.420380 |\n",
       "| 2014.FDI                                                                                                                                                          | 2014 | FDI                                                                                                                                                          |  99 |  51695 | 0.001915079 | 2.113339 |\n",
       "| 2019.FI-PDL                                                                                                                                                       | 2019 | FI-PDL                                                                                                                                                       | 949 | 533560 | 0.001778619 | 1.803535 |\n",
       "| 1995.DEMO                                                                                                                                                         | 1995 | DEMO                                                                                                                                                         |  85 |  49325 | 0.001723264 | 1.677863 |\n",
       "| 1996.PROGR-F                                                                                                                                                      | 1996 | PROGR-F                                                                                                                                                      |  46 |  26734 | 0.001720655 | 1.671941 |\n",
       "| 2018.PD-ULIVO                                                                                                                                                     | 2018 | PD-ULIVO                                                                                                                                                     | 516 | 300098 | 0.001719438 | 1.669178 |\n",
       "| 2013.FDI                                                                                                                                                          | 2013 | FDI                                                                                                                                                          | 140 |  82996 | 0.001686828 | 1.595143 |\n",
       "| 2011.NOI SUD-LIBERTA' ED AUTONOMIA/POPOLARI D'ITALIA DOMANI-PID/MOVIMENTO DI RESPONSABILITA' NAZIONALE-MRN/AZIONE POPOLARE/ALLEANZA DI CENTRO-ADC/INTESA POPOLARE | 2011 | NOI SUD-LIBERTA' ED AUTONOMIA/POPOLARI D'ITALIA DOMANI-PID/MOVIMENTO DI RESPONSABILITA' NAZIONALE-MRN/AZIONE POPOLARE/ALLEANZA DI CENTRO-ADC/INTESA POPOLARE |  90 |  54866 | 0.001640360 | 1.489647 |\n",
       "| 2018.IV                                                                                                                                                           | 2018 | IV                                                                                                                                                           |  96 |  58631 | 0.001637359 | 1.482834 |\n",
       "| 2019.PD-ULIVO                                                                                                                                                     | 2019 | PD-ULIVO                                                                                                                                                     | 888 | 557509 | 0.001592799 | 1.381670 |\n",
       "| 2000.RINN/IT                                                                                                                                                      | 2000 | RINN/IT                                                                                                                                                      |  46 |  28958 | 0.001588507 | 1.371927 |\n",
       "| 1996.DEMO                                                                                                                                                         | 1996 | DEMO                                                                                                                                                         |   4 |   2599 | 0.001539053 | 1.259652 |\n",
       "| 2017.FDI                                                                                                                                                          | 2017 | FDI                                                                                                                                                          |  58 |  38123 | 0.001521391 | 1.219553 |\n",
       "| 1995.LEGA                                                                                                                                                         | 1995 | LEGA                                                                                                                                                         | 238 | 156792 | 0.001517935 | 1.211706 |\n",
       "| 1995.RC                                                                                                                                                           | 1995 | RC                                                                                                                                                           | 445 | 303724 | 0.001465146 | 1.091860 |\n",
       "\n"
      ],
      "text/plain": [
       "   doc_id                                                                                                                                                           \n",
       "1  1996.FLD                                                                                                                                                         \n",
       "2  1996.PPI                                                                                                                                                         \n",
       "3  2018.SI-SEL-POS-LU                                                                                                                                               \n",
       "4  1995.FLD                                                                                                                                                         \n",
       "5  2000.DEM-U                                                                                                                                                       \n",
       "6  2016.SI-SEL-POS-LU                                                                                                                                               \n",
       "7  2014.FDI                                                                                                                                                         \n",
       "8  2019.FI-PDL                                                                                                                                                      \n",
       "9  1995.DEMO                                                                                                                                                        \n",
       "10 1996.PROGR-F                                                                                                                                                     \n",
       "11 2018.PD-ULIVO                                                                                                                                                    \n",
       "12 2013.FDI                                                                                                                                                         \n",
       "13 2011.NOI SUD-LIBERTA' ED AUTONOMIA/POPOLARI D'ITALIA DOMANI-PID/MOVIMENTO DI RESPONSABILITA' NAZIONALE-MRN/AZIONE POPOLARE/ALLEANZA DI CENTRO-ADC/INTESA POPOLARE\n",
       "14 2018.IV                                                                                                                                                          \n",
       "15 2019.PD-ULIVO                                                                                                                                                    \n",
       "16 2000.RINN/IT                                                                                                                                                     \n",
       "17 1996.DEMO                                                                                                                                                        \n",
       "18 2017.FDI                                                                                                                                                         \n",
       "19 1995.LEGA                                                                                                                                                        \n",
       "20 1995.RC                                                                                                                                                          \n",
       "   year\n",
       "1  1996\n",
       "2  1996\n",
       "3  2018\n",
       "4  1995\n",
       "5  2000\n",
       "6  2016\n",
       "7  2014\n",
       "8  2019\n",
       "9  1995\n",
       "10 1996\n",
       "11 2018\n",
       "12 2013\n",
       "13 2011\n",
       "14 2018\n",
       "15 2019\n",
       "16 2000\n",
       "17 1996\n",
       "18 2017\n",
       "19 1995\n",
       "20 1995\n",
       "   party                                                                                                                                                       \n",
       "1  FLD                                                                                                                                                         \n",
       "2  PPI                                                                                                                                                         \n",
       "3  SI-SEL-POS-LU                                                                                                                                               \n",
       "4  FLD                                                                                                                                                         \n",
       "5  DEM-U                                                                                                                                                       \n",
       "6  SI-SEL-POS-LU                                                                                                                                               \n",
       "7  FDI                                                                                                                                                         \n",
       "8  FI-PDL                                                                                                                                                      \n",
       "9  DEMO                                                                                                                                                        \n",
       "10 PROGR-F                                                                                                                                                     \n",
       "11 PD-ULIVO                                                                                                                                                    \n",
       "12 FDI                                                                                                                                                         \n",
       "13 NOI SUD-LIBERTA' ED AUTONOMIA/POPOLARI D'ITALIA DOMANI-PID/MOVIMENTO DI RESPONSABILITA' NAZIONALE-MRN/AZIONE POPOLARE/ALLEANZA DI CENTRO-ADC/INTESA POPOLARE\n",
       "14 IV                                                                                                                                                          \n",
       "15 PD-ULIVO                                                                                                                                                    \n",
       "16 RINN/IT                                                                                                                                                     \n",
       "17 DEMO                                                                                                                                                        \n",
       "18 FDI                                                                                                                                                         \n",
       "19 LEGA                                                                                                                                                        \n",
       "20 RC                                                                                                                                                          \n",
       "   anti_elitism total_toks perc_of_populist_toks\n",
       "1   11            2894     0.003800968          \n",
       "2   34            9296     0.003657487          \n",
       "3    7            2189     0.003197807          \n",
       "4  120           57421     0.002089828          \n",
       "5  108           52222     0.002068094          \n",
       "6  346          168754     0.002050322          \n",
       "7   99           51695     0.001915079          \n",
       "8  949          533560     0.001778619          \n",
       "9   85           49325     0.001723264          \n",
       "10  46           26734     0.001720655          \n",
       "11 516          300098     0.001719438          \n",
       "12 140           82996     0.001686828          \n",
       "13  90           54866     0.001640360          \n",
       "14  96           58631     0.001637359          \n",
       "15 888          557509     0.001592799          \n",
       "16  46           28958     0.001588507          \n",
       "17   4            2599     0.001539053          \n",
       "18  58           38123     0.001521391          \n",
       "19 238          156792     0.001517935          \n",
       "20 445          303724     0.001465146          \n",
       "   standardized_perc_of_populist_toks\n",
       "1  6.394856                          \n",
       "2  6.069113                          \n",
       "3  5.025506                          \n",
       "4  2.510070                          \n",
       "5  2.460727                          \n",
       "6  2.420380                          \n",
       "7  2.113339                          \n",
       "8  1.803535                          \n",
       "9  1.677863                          \n",
       "10 1.671941                          \n",
       "11 1.669178                          \n",
       "12 1.595143                          \n",
       "13 1.489647                          \n",
       "14 1.482834                          \n",
       "15 1.381670                          \n",
       "16 1.371927                          \n",
       "17 1.259652                          \n",
       "18 1.219553                          \n",
       "19 1.211706                          \n",
       "20 1.091860                          "
      ]
     },
     "metadata": {},
     "output_type": "display_data"
    }
   ],
   "source": [
    "df_rp %>% \n",
    "arrange(desc(standardized_perc_of_populist_toks)) %>% \n",
    "head(20)"
   ]
  },
  {
   "cell_type": "markdown",
   "id": "df255f7f",
   "metadata": {},
   "source": [
    "The following are the party-year combinations with the lowest populist scores. Consistenly with our expectations, all parties included in this subset are mainstream. This might interpreted as evidence of face validity in Rooduijn and Pauwels' dictionary."
   ]
  },
  {
   "cell_type": "code",
   "execution_count": 71,
   "id": "80781191",
   "metadata": {},
   "outputs": [
    {
     "data": {
      "text/html": [
       "<table class=\"dataframe\">\n",
       "<caption>A tibble: 20 × 7</caption>\n",
       "<thead>\n",
       "\t<tr><th scope=col>doc_id</th><th scope=col>year</th><th scope=col>party</th><th scope=col>anti_elitism</th><th scope=col>total_toks</th><th scope=col>perc_of_populist_toks</th><th scope=col>standardized_perc_of_populist_toks</th></tr>\n",
       "\t<tr><th scope=col>&lt;chr&gt;</th><th scope=col>&lt;int&gt;</th><th scope=col>&lt;chr&gt;</th><th scope=col>&lt;dbl&gt;</th><th scope=col>&lt;int&gt;</th><th scope=col>&lt;dbl&gt;</th><th scope=col>&lt;dbl&gt;</th></tr>\n",
       "</thead>\n",
       "<tbody>\n",
       "\t<tr><td>2018.AP-CPE-NCD-NCI</td><td>2018</td><td>AP-CPE-NCD-NCI</td><td> 0</td><td>  269</td><td>0.0000000000</td><td>-2.234448</td></tr>\n",
       "\t<tr><td>2018.CI            </td><td>2018</td><td>CI            </td><td> 0</td><td>  550</td><td>0.0000000000</td><td>-2.234448</td></tr>\n",
       "\t<tr><td>2008.COM/IT/       </td><td>2008</td><td>COM/IT/       </td><td> 0</td><td>  770</td><td>0.0000000000</td><td>-2.234448</td></tr>\n",
       "\t<tr><td>2008.DCA-NPSI      </td><td>2008</td><td>DCA-NPSI      </td><td> 0</td><td>  269</td><td>0.0000000000</td><td>-2.234448</td></tr>\n",
       "\t<tr><td>2009.DCA-NPSI      </td><td>2009</td><td>DCA-NPSI      </td><td> 0</td><td>   26</td><td>0.0000000000</td><td>-2.234448</td></tr>\n",
       "\t<tr><td>2013.FLPTP         </td><td>2013</td><td>FLPTP         </td><td> 0</td><td>    2</td><td>0.0000000000</td><td>-2.234448</td></tr>\n",
       "\t<tr><td>1994.LIFED         </td><td>1994</td><td>LIFED         </td><td> 0</td><td>  217</td><td>0.0000000000</td><td>-2.234448</td></tr>\n",
       "\t<tr><td>1995.LIFED         </td><td>1995</td><td>LIFED         </td><td> 0</td><td> 1870</td><td>0.0000000000</td><td>-2.234448</td></tr>\n",
       "\t<tr><td>1996.LIFED         </td><td>1996</td><td>LIFED         </td><td> 0</td><td>  979</td><td>0.0000000000</td><td>-2.234448</td></tr>\n",
       "\t<tr><td>2018.MDP-LU        </td><td>2018</td><td>MDP-LU        </td><td> 0</td><td> 1252</td><td>0.0000000000</td><td>-2.234448</td></tr>\n",
       "\t<tr><td>2009.SDPSE         </td><td>2009</td><td>SDPSE         </td><td> 0</td><td>   80</td><td>0.0000000000</td><td>-2.234448</td></tr>\n",
       "\t<tr><td>2009.SOCRAD-RNP    </td><td>2009</td><td>SOCRAD-RNP    </td><td> 0</td><td>  582</td><td>0.0000000000</td><td>-2.234448</td></tr>\n",
       "\t<tr><td>2016.DES-CD        </td><td>2016</td><td>DES-CD        </td><td> 1</td><td> 5886</td><td>0.0001698947</td><td>-1.848738</td></tr>\n",
       "\t<tr><td>2014.DES-CD        </td><td>2014</td><td>DES-CD        </td><td> 2</td><td> 9057</td><td>0.0002208237</td><td>-1.733114</td></tr>\n",
       "\t<tr><td>2000.UDEUR         </td><td>2000</td><td>UDEUR         </td><td> 9</td><td>32843</td><td>0.0002740310</td><td>-1.612318</td></tr>\n",
       "\t<tr><td>2001.UDEUR         </td><td>2001</td><td>UDEUR         </td><td> 1</td><td> 3157</td><td>0.0003167564</td><td>-1.515319</td></tr>\n",
       "\t<tr><td>2020.IV            </td><td>2020</td><td>IV            </td><td> 6</td><td>18545</td><td>0.0003235373</td><td>-1.499924</td></tr>\n",
       "\t<tr><td>2006.VERDI         </td><td>2006</td><td>VERDI         </td><td> 8</td><td>20861</td><td>0.0003834907</td><td>-1.363813</td></tr>\n",
       "\t<tr><td>1996.UDEUR         </td><td>1996</td><td>UDEUR         </td><td>12</td><td>29778</td><td>0.0004029821</td><td>-1.319562</td></tr>\n",
       "\t<tr><td>1996.DEM-U         </td><td>1996</td><td>DEM-U         </td><td>12</td><td>29388</td><td>0.0004083299</td><td>-1.307420</td></tr>\n",
       "</tbody>\n",
       "</table>\n"
      ],
      "text/latex": [
       "A tibble: 20 × 7\n",
       "\\begin{tabular}{lllllll}\n",
       " doc\\_id & year & party & anti\\_elitism & total\\_toks & perc\\_of\\_populist\\_toks & standardized\\_perc\\_of\\_populist\\_toks\\\\\n",
       " <chr> & <int> & <chr> & <dbl> & <int> & <dbl> & <dbl>\\\\\n",
       "\\hline\n",
       "\t 2018.AP-CPE-NCD-NCI & 2018 & AP-CPE-NCD-NCI &  0 &   269 & 0.0000000000 & -2.234448\\\\\n",
       "\t 2018.CI             & 2018 & CI             &  0 &   550 & 0.0000000000 & -2.234448\\\\\n",
       "\t 2008.COM/IT/        & 2008 & COM/IT/        &  0 &   770 & 0.0000000000 & -2.234448\\\\\n",
       "\t 2008.DCA-NPSI       & 2008 & DCA-NPSI       &  0 &   269 & 0.0000000000 & -2.234448\\\\\n",
       "\t 2009.DCA-NPSI       & 2009 & DCA-NPSI       &  0 &    26 & 0.0000000000 & -2.234448\\\\\n",
       "\t 2013.FLPTP          & 2013 & FLPTP          &  0 &     2 & 0.0000000000 & -2.234448\\\\\n",
       "\t 1994.LIFED          & 1994 & LIFED          &  0 &   217 & 0.0000000000 & -2.234448\\\\\n",
       "\t 1995.LIFED          & 1995 & LIFED          &  0 &  1870 & 0.0000000000 & -2.234448\\\\\n",
       "\t 1996.LIFED          & 1996 & LIFED          &  0 &   979 & 0.0000000000 & -2.234448\\\\\n",
       "\t 2018.MDP-LU         & 2018 & MDP-LU         &  0 &  1252 & 0.0000000000 & -2.234448\\\\\n",
       "\t 2009.SDPSE          & 2009 & SDPSE          &  0 &    80 & 0.0000000000 & -2.234448\\\\\n",
       "\t 2009.SOCRAD-RNP     & 2009 & SOCRAD-RNP     &  0 &   582 & 0.0000000000 & -2.234448\\\\\n",
       "\t 2016.DES-CD         & 2016 & DES-CD         &  1 &  5886 & 0.0001698947 & -1.848738\\\\\n",
       "\t 2014.DES-CD         & 2014 & DES-CD         &  2 &  9057 & 0.0002208237 & -1.733114\\\\\n",
       "\t 2000.UDEUR          & 2000 & UDEUR          &  9 & 32843 & 0.0002740310 & -1.612318\\\\\n",
       "\t 2001.UDEUR          & 2001 & UDEUR          &  1 &  3157 & 0.0003167564 & -1.515319\\\\\n",
       "\t 2020.IV             & 2020 & IV             &  6 & 18545 & 0.0003235373 & -1.499924\\\\\n",
       "\t 2006.VERDI          & 2006 & VERDI          &  8 & 20861 & 0.0003834907 & -1.363813\\\\\n",
       "\t 1996.UDEUR          & 1996 & UDEUR          & 12 & 29778 & 0.0004029821 & -1.319562\\\\\n",
       "\t 1996.DEM-U          & 1996 & DEM-U          & 12 & 29388 & 0.0004083299 & -1.307420\\\\\n",
       "\\end{tabular}\n"
      ],
      "text/markdown": [
       "\n",
       "A tibble: 20 × 7\n",
       "\n",
       "| doc_id &lt;chr&gt; | year &lt;int&gt; | party &lt;chr&gt; | anti_elitism &lt;dbl&gt; | total_toks &lt;int&gt; | perc_of_populist_toks &lt;dbl&gt; | standardized_perc_of_populist_toks &lt;dbl&gt; |\n",
       "|---|---|---|---|---|---|---|\n",
       "| 2018.AP-CPE-NCD-NCI | 2018 | AP-CPE-NCD-NCI |  0 |   269 | 0.0000000000 | -2.234448 |\n",
       "| 2018.CI             | 2018 | CI             |  0 |   550 | 0.0000000000 | -2.234448 |\n",
       "| 2008.COM/IT/        | 2008 | COM/IT/        |  0 |   770 | 0.0000000000 | -2.234448 |\n",
       "| 2008.DCA-NPSI       | 2008 | DCA-NPSI       |  0 |   269 | 0.0000000000 | -2.234448 |\n",
       "| 2009.DCA-NPSI       | 2009 | DCA-NPSI       |  0 |    26 | 0.0000000000 | -2.234448 |\n",
       "| 2013.FLPTP          | 2013 | FLPTP          |  0 |     2 | 0.0000000000 | -2.234448 |\n",
       "| 1994.LIFED          | 1994 | LIFED          |  0 |   217 | 0.0000000000 | -2.234448 |\n",
       "| 1995.LIFED          | 1995 | LIFED          |  0 |  1870 | 0.0000000000 | -2.234448 |\n",
       "| 1996.LIFED          | 1996 | LIFED          |  0 |   979 | 0.0000000000 | -2.234448 |\n",
       "| 2018.MDP-LU         | 2018 | MDP-LU         |  0 |  1252 | 0.0000000000 | -2.234448 |\n",
       "| 2009.SDPSE          | 2009 | SDPSE          |  0 |    80 | 0.0000000000 | -2.234448 |\n",
       "| 2009.SOCRAD-RNP     | 2009 | SOCRAD-RNP     |  0 |   582 | 0.0000000000 | -2.234448 |\n",
       "| 2016.DES-CD         | 2016 | DES-CD         |  1 |  5886 | 0.0001698947 | -1.848738 |\n",
       "| 2014.DES-CD         | 2014 | DES-CD         |  2 |  9057 | 0.0002208237 | -1.733114 |\n",
       "| 2000.UDEUR          | 2000 | UDEUR          |  9 | 32843 | 0.0002740310 | -1.612318 |\n",
       "| 2001.UDEUR          | 2001 | UDEUR          |  1 |  3157 | 0.0003167564 | -1.515319 |\n",
       "| 2020.IV             | 2020 | IV             |  6 | 18545 | 0.0003235373 | -1.499924 |\n",
       "| 2006.VERDI          | 2006 | VERDI          |  8 | 20861 | 0.0003834907 | -1.363813 |\n",
       "| 1996.UDEUR          | 1996 | UDEUR          | 12 | 29778 | 0.0004029821 | -1.319562 |\n",
       "| 1996.DEM-U          | 1996 | DEM-U          | 12 | 29388 | 0.0004083299 | -1.307420 |\n",
       "\n"
      ],
      "text/plain": [
       "   doc_id              year party          anti_elitism total_toks\n",
       "1  2018.AP-CPE-NCD-NCI 2018 AP-CPE-NCD-NCI  0             269     \n",
       "2  2018.CI             2018 CI              0             550     \n",
       "3  2008.COM/IT/        2008 COM/IT/         0             770     \n",
       "4  2008.DCA-NPSI       2008 DCA-NPSI        0             269     \n",
       "5  2009.DCA-NPSI       2009 DCA-NPSI        0              26     \n",
       "6  2013.FLPTP          2013 FLPTP           0               2     \n",
       "7  1994.LIFED          1994 LIFED           0             217     \n",
       "8  1995.LIFED          1995 LIFED           0            1870     \n",
       "9  1996.LIFED          1996 LIFED           0             979     \n",
       "10 2018.MDP-LU         2018 MDP-LU          0            1252     \n",
       "11 2009.SDPSE          2009 SDPSE           0              80     \n",
       "12 2009.SOCRAD-RNP     2009 SOCRAD-RNP      0             582     \n",
       "13 2016.DES-CD         2016 DES-CD          1            5886     \n",
       "14 2014.DES-CD         2014 DES-CD          2            9057     \n",
       "15 2000.UDEUR          2000 UDEUR           9           32843     \n",
       "16 2001.UDEUR          2001 UDEUR           1            3157     \n",
       "17 2020.IV             2020 IV              6           18545     \n",
       "18 2006.VERDI          2006 VERDI           8           20861     \n",
       "19 1996.UDEUR          1996 UDEUR          12           29778     \n",
       "20 1996.DEM-U          1996 DEM-U          12           29388     \n",
       "   perc_of_populist_toks standardized_perc_of_populist_toks\n",
       "1  0.0000000000          -2.234448                         \n",
       "2  0.0000000000          -2.234448                         \n",
       "3  0.0000000000          -2.234448                         \n",
       "4  0.0000000000          -2.234448                         \n",
       "5  0.0000000000          -2.234448                         \n",
       "6  0.0000000000          -2.234448                         \n",
       "7  0.0000000000          -2.234448                         \n",
       "8  0.0000000000          -2.234448                         \n",
       "9  0.0000000000          -2.234448                         \n",
       "10 0.0000000000          -2.234448                         \n",
       "11 0.0000000000          -2.234448                         \n",
       "12 0.0000000000          -2.234448                         \n",
       "13 0.0001698947          -1.848738                         \n",
       "14 0.0002208237          -1.733114                         \n",
       "15 0.0002740310          -1.612318                         \n",
       "16 0.0003167564          -1.515319                         \n",
       "17 0.0003235373          -1.499924                         \n",
       "18 0.0003834907          -1.363813                         \n",
       "19 0.0004029821          -1.319562                         \n",
       "20 0.0004083299          -1.307420                         "
      ]
     },
     "metadata": {},
     "output_type": "display_data"
    }
   ],
   "source": [
    "df_rp %>% \n",
    "arrange(desc(standardized_perc_of_populist_toks)) %>% \n",
    "tail(20) %>% \n",
    "arrange(standardized_perc_of_populist_toks)"
   ]
  },
  {
   "cell_type": "markdown",
   "id": "84b753ac",
   "metadata": {},
   "source": [
    "## External validity <a class=\"anchor\" id=\"subparagraph3\"></a>"
   ]
  },
  {
   "cell_type": "markdown",
   "id": "0b1ca8b0",
   "metadata": {},
   "source": [
    "### Chapel Hill Expert Survey <a class=\"anchor\" id=\"subparagraph4\"></a>"
   ]
  },
  {
   "cell_type": "markdown",
   "id": "c48fce54",
   "metadata": {},
   "source": [
    "As Rooduijn and Pauwels' dictionary only captures the anti-elite dimension of populism, the external validity will be carried out against the anti-elite salience variable from the CHES dataset, which has been introduced in 2014."
   ]
  },
  {
   "cell_type": "markdown",
   "id": "5b3ab7d5",
   "metadata": {},
   "source": [
    "The countrycode for Italy is 8. The following is a list of all Italian parties in the CHES dataset in the 2014-2019 time period."
   ]
  },
  {
   "cell_type": "code",
   "execution_count": 25,
   "id": "8eac18bd",
   "metadata": {},
   "outputs": [
    {
     "data": {
      "text/html": [
       "<table class=\"dataframe\">\n",
       "<caption>A tibble: 15 × 1</caption>\n",
       "<thead>\n",
       "\t<tr><th scope=col>party</th></tr>\n",
       "\t<tr><th scope=col>&lt;chr&gt;</th></tr>\n",
       "</thead>\n",
       "<tbody>\n",
       "\t<tr><td>UDC</td></tr>\n",
       "\t<tr><td>SC </td></tr>\n",
       "\t<tr><td>VdA</td></tr>\n",
       "\t<tr><td>PD </td></tr>\n",
       "\t<tr><td>FI </td></tr>\n",
       "\t<tr><td>LN </td></tr>\n",
       "\t<tr><td>FdI</td></tr>\n",
       "\t<tr><td>SEL</td></tr>\n",
       "\t<tr><td>M5S</td></tr>\n",
       "\t<tr><td>CD </td></tr>\n",
       "\t<tr><td>SVP</td></tr>\n",
       "\t<tr><td>RC </td></tr>\n",
       "\t<tr><td>NCD</td></tr>\n",
       "\t<tr><td>RI </td></tr>\n",
       "\t<tr><td>SI </td></tr>\n",
       "</tbody>\n",
       "</table>\n"
      ],
      "text/latex": [
       "A tibble: 15 × 1\n",
       "\\begin{tabular}{l}\n",
       " party\\\\\n",
       " <chr>\\\\\n",
       "\\hline\n",
       "\t UDC\\\\\n",
       "\t SC \\\\\n",
       "\t VdA\\\\\n",
       "\t PD \\\\\n",
       "\t FI \\\\\n",
       "\t LN \\\\\n",
       "\t FdI\\\\\n",
       "\t SEL\\\\\n",
       "\t M5S\\\\\n",
       "\t CD \\\\\n",
       "\t SVP\\\\\n",
       "\t RC \\\\\n",
       "\t NCD\\\\\n",
       "\t RI \\\\\n",
       "\t SI \\\\\n",
       "\\end{tabular}\n"
      ],
      "text/markdown": [
       "\n",
       "A tibble: 15 × 1\n",
       "\n",
       "| party &lt;chr&gt; |\n",
       "|---|\n",
       "| UDC |\n",
       "| SC  |\n",
       "| VdA |\n",
       "| PD  |\n",
       "| FI  |\n",
       "| LN  |\n",
       "| FdI |\n",
       "| SEL |\n",
       "| M5S |\n",
       "| CD  |\n",
       "| SVP |\n",
       "| RC  |\n",
       "| NCD |\n",
       "| RI  |\n",
       "| SI  |\n",
       "\n"
      ],
      "text/plain": [
       "   party\n",
       "1  UDC  \n",
       "2  SC   \n",
       "3  VdA  \n",
       "4  PD   \n",
       "5  FI   \n",
       "6  LN   \n",
       "7  FdI  \n",
       "8  SEL  \n",
       "9  M5S  \n",
       "10 CD   \n",
       "11 SVP  \n",
       "12 RC   \n",
       "13 NCD  \n",
       "14 RI   \n",
       "15 SI   "
      ]
     },
     "metadata": {},
     "output_type": "display_data"
    }
   ],
   "source": [
    "ches %>% filter(country == 8 & year >= 2014 & year <= 2019) %>% distinct(party)"
   ]
  },
  {
   "cell_type": "markdown",
   "id": "6000c13b",
   "metadata": {},
   "source": [
    "While these are the parties included in our dataset in the same timeframe"
   ]
  },
  {
   "cell_type": "code",
   "execution_count": 26,
   "id": "f4b9db81",
   "metadata": {},
   "outputs": [
    {
     "data": {
      "text/html": [
       "<table class=\"dataframe\">\n",
       "<caption>A tibble: 14 × 1</caption>\n",
       "<thead>\n",
       "\t<tr><th scope=col>party</th></tr>\n",
       "\t<tr><th scope=col>&lt;chr&gt;</th></tr>\n",
       "</thead>\n",
       "<tbody>\n",
       "\t<tr><td>AP-CPE-NCD-NCI</td></tr>\n",
       "\t<tr><td>CI            </td></tr>\n",
       "\t<tr><td>DES-CD        </td></tr>\n",
       "\t<tr><td>FDI           </td></tr>\n",
       "\t<tr><td>FI-PDL        </td></tr>\n",
       "\t<tr><td>IV            </td></tr>\n",
       "\t<tr><td>LEGA          </td></tr>\n",
       "\t<tr><td>LEU           </td></tr>\n",
       "\t<tr><td>M5S           </td></tr>\n",
       "\t<tr><td>MDP-LU        </td></tr>\n",
       "\t<tr><td>MISTO         </td></tr>\n",
       "\t<tr><td>NCI-SCPI-MAIE </td></tr>\n",
       "\t<tr><td>PD-ULIVO      </td></tr>\n",
       "\t<tr><td>SI-SEL-POS-LU </td></tr>\n",
       "</tbody>\n",
       "</table>\n"
      ],
      "text/latex": [
       "A tibble: 14 × 1\n",
       "\\begin{tabular}{l}\n",
       " party\\\\\n",
       " <chr>\\\\\n",
       "\\hline\n",
       "\t AP-CPE-NCD-NCI\\\\\n",
       "\t CI            \\\\\n",
       "\t DES-CD        \\\\\n",
       "\t FDI           \\\\\n",
       "\t FI-PDL        \\\\\n",
       "\t IV            \\\\\n",
       "\t LEGA          \\\\\n",
       "\t LEU           \\\\\n",
       "\t M5S           \\\\\n",
       "\t MDP-LU        \\\\\n",
       "\t MISTO         \\\\\n",
       "\t NCI-SCPI-MAIE \\\\\n",
       "\t PD-ULIVO      \\\\\n",
       "\t SI-SEL-POS-LU \\\\\n",
       "\\end{tabular}\n"
      ],
      "text/markdown": [
       "\n",
       "A tibble: 14 × 1\n",
       "\n",
       "| party &lt;chr&gt; |\n",
       "|---|\n",
       "| AP-CPE-NCD-NCI |\n",
       "| CI             |\n",
       "| DES-CD         |\n",
       "| FDI            |\n",
       "| FI-PDL         |\n",
       "| IV             |\n",
       "| LEGA           |\n",
       "| LEU            |\n",
       "| M5S            |\n",
       "| MDP-LU         |\n",
       "| MISTO          |\n",
       "| NCI-SCPI-MAIE  |\n",
       "| PD-ULIVO       |\n",
       "| SI-SEL-POS-LU  |\n",
       "\n"
      ],
      "text/plain": [
       "   party         \n",
       "1  AP-CPE-NCD-NCI\n",
       "2  CI            \n",
       "3  DES-CD        \n",
       "4  FDI           \n",
       "5  FI-PDL        \n",
       "6  IV            \n",
       "7  LEGA          \n",
       "8  LEU           \n",
       "9  M5S           \n",
       "10 MDP-LU        \n",
       "11 MISTO         \n",
       "12 NCI-SCPI-MAIE \n",
       "13 PD-ULIVO      \n",
       "14 SI-SEL-POS-LU "
      ]
     },
     "metadata": {},
     "output_type": "display_data"
    }
   ],
   "source": [
    "df_rp %>% filter(year >= 2014 & year <= 2019) %>% distinct(party)"
   ]
  },
  {
   "cell_type": "markdown",
   "id": "2ea252bf",
   "metadata": {},
   "source": [
    "Let's now compare how R&P' dictionary and the CHES dataset ranked party-year combinations by populism in 2014 and 2019. We'll only keep parties that are present in both datasets."
   ]
  },
  {
   "cell_type": "markdown",
   "id": "37faa729",
   "metadata": {},
   "source": [
    "The difference between the two rankings is stark. PD (2019) ranks among the most populist party-year combinations according to the dictionary analysis while the opposite is true in the CHES dataset. Moreover, Lega (2019) and M5S (2019), two of the most populist party-year combinations according to CHES, are only slightly populist according to R&P' dictionary."
   ]
  },
  {
   "cell_type": "code",
   "execution_count": 27,
   "id": "10eab5e8",
   "metadata": {},
   "outputs": [
    {
     "data": {
      "text/html": [
       "<table class=\"dataframe\">\n",
       "<caption>A tibble: 17 × 7</caption>\n",
       "<thead>\n",
       "\t<tr><th scope=col>doc_id</th><th scope=col>year</th><th scope=col>party</th><th scope=col>anti_elitism</th><th scope=col>total_toks</th><th scope=col>perc_of_populist_toks</th><th scope=col>standardized_perc_of_populist_toks</th></tr>\n",
       "\t<tr><th scope=col>&lt;chr&gt;</th><th scope=col>&lt;int&gt;</th><th scope=col>&lt;chr&gt;</th><th scope=col>&lt;dbl&gt;</th><th scope=col>&lt;int&gt;</th><th scope=col>&lt;dbl&gt;</th><th scope=col>&lt;dbl&gt;</th></tr>\n",
       "</thead>\n",
       "<tbody>\n",
       "\t<tr><td>2014.FDI           </td><td>2014</td><td>FDI           </td><td> 99</td><td> 51695</td><td>0.0019150788</td><td> 2.113338668</td></tr>\n",
       "\t<tr><td>2019.FI-PDL        </td><td>2019</td><td>FI-PDL        </td><td>949</td><td>533560</td><td>0.0017786191</td><td> 1.803535286</td></tr>\n",
       "\t<tr><td>2019.PD-ULIVO      </td><td>2019</td><td>PD-ULIVO      </td><td>888</td><td>557509</td><td>0.0015927994</td><td> 1.381670440</td></tr>\n",
       "\t<tr><td>2014.MDP-LU        </td><td>2014</td><td>MDP-LU        </td><td>148</td><td>101300</td><td>0.0014610069</td><td> 1.082463081</td></tr>\n",
       "\t<tr><td>2019.FDI           </td><td>2019</td><td>FDI           </td><td>368</td><td>262423</td><td>0.0014023161</td><td> 0.949217856</td></tr>\n",
       "\t<tr><td>2014.AP-CPE-NCD-NCI</td><td>2014</td><td>AP-CPE-NCD-NCI</td><td>136</td><td>101160</td><td>0.0013444049</td><td> 0.817742543</td></tr>\n",
       "\t<tr><td>2019.LEU           </td><td>2019</td><td>LEU           </td><td> 71</td><td> 53261</td><td>0.0013330580</td><td> 0.791981675</td></tr>\n",
       "\t<tr><td>2014.LEGA          </td><td>2014</td><td>LEGA          </td><td>164</td><td>148505</td><td>0.0011043399</td><td> 0.272725070</td></tr>\n",
       "\t<tr><td>2014.M5S           </td><td>2014</td><td>M5S           </td><td>561</td><td>552684</td><td>0.0010150466</td><td> 0.070003146</td></tr>\n",
       "\t<tr><td>2019.LEGA          </td><td>2019</td><td>LEGA          </td><td>216</td><td>214370</td><td>0.0010076037</td><td> 0.053105601</td></tr>\n",
       "\t<tr><td>2019.M5S           </td><td>2019</td><td>M5S           </td><td>503</td><td>509145</td><td>0.0009879307</td><td> 0.008442318</td></tr>\n",
       "\t<tr><td>2014.CI            </td><td>2014</td><td>CI            </td><td>139</td><td>154407</td><td>0.0009002183</td><td>-0.190690602</td></tr>\n",
       "\t<tr><td>2014.SI-SEL-POS-LU </td><td>2014</td><td>SI-SEL-POS-LU </td><td>111</td><td>131756</td><td>0.0008424664</td><td>-0.321804194</td></tr>\n",
       "\t<tr><td>2014.PD-ULIVO      </td><td>2014</td><td>PD-ULIVO      </td><td>491</td><td>599522</td><td>0.0008189858</td><td>-0.375111966</td></tr>\n",
       "\t<tr><td>2014.FI-PDL        </td><td>2014</td><td>FI-PDL        </td><td>215</td><td>289856</td><td>0.0007417476</td><td>-0.550465112</td></tr>\n",
       "\t<tr><td>2014.NCI-SCPI-MAIE </td><td>2014</td><td>NCI-SCPI-MAIE </td><td> 68</td><td>106038</td><td>0.0006412795</td><td>-0.778556945</td></tr>\n",
       "\t<tr><td>2014.DES-CD        </td><td>2014</td><td>DES-CD        </td><td>  2</td><td>  9057</td><td>0.0002208237</td><td>-1.733114304</td></tr>\n",
       "</tbody>\n",
       "</table>\n"
      ],
      "text/latex": [
       "A tibble: 17 × 7\n",
       "\\begin{tabular}{lllllll}\n",
       " doc\\_id & year & party & anti\\_elitism & total\\_toks & perc\\_of\\_populist\\_toks & standardized\\_perc\\_of\\_populist\\_toks\\\\\n",
       " <chr> & <int> & <chr> & <dbl> & <int> & <dbl> & <dbl>\\\\\n",
       "\\hline\n",
       "\t 2014.FDI            & 2014 & FDI            &  99 &  51695 & 0.0019150788 &  2.113338668\\\\\n",
       "\t 2019.FI-PDL         & 2019 & FI-PDL         & 949 & 533560 & 0.0017786191 &  1.803535286\\\\\n",
       "\t 2019.PD-ULIVO       & 2019 & PD-ULIVO       & 888 & 557509 & 0.0015927994 &  1.381670440\\\\\n",
       "\t 2014.MDP-LU         & 2014 & MDP-LU         & 148 & 101300 & 0.0014610069 &  1.082463081\\\\\n",
       "\t 2019.FDI            & 2019 & FDI            & 368 & 262423 & 0.0014023161 &  0.949217856\\\\\n",
       "\t 2014.AP-CPE-NCD-NCI & 2014 & AP-CPE-NCD-NCI & 136 & 101160 & 0.0013444049 &  0.817742543\\\\\n",
       "\t 2019.LEU            & 2019 & LEU            &  71 &  53261 & 0.0013330580 &  0.791981675\\\\\n",
       "\t 2014.LEGA           & 2014 & LEGA           & 164 & 148505 & 0.0011043399 &  0.272725070\\\\\n",
       "\t 2014.M5S            & 2014 & M5S            & 561 & 552684 & 0.0010150466 &  0.070003146\\\\\n",
       "\t 2019.LEGA           & 2019 & LEGA           & 216 & 214370 & 0.0010076037 &  0.053105601\\\\\n",
       "\t 2019.M5S            & 2019 & M5S            & 503 & 509145 & 0.0009879307 &  0.008442318\\\\\n",
       "\t 2014.CI             & 2014 & CI             & 139 & 154407 & 0.0009002183 & -0.190690602\\\\\n",
       "\t 2014.SI-SEL-POS-LU  & 2014 & SI-SEL-POS-LU  & 111 & 131756 & 0.0008424664 & -0.321804194\\\\\n",
       "\t 2014.PD-ULIVO       & 2014 & PD-ULIVO       & 491 & 599522 & 0.0008189858 & -0.375111966\\\\\n",
       "\t 2014.FI-PDL         & 2014 & FI-PDL         & 215 & 289856 & 0.0007417476 & -0.550465112\\\\\n",
       "\t 2014.NCI-SCPI-MAIE  & 2014 & NCI-SCPI-MAIE  &  68 & 106038 & 0.0006412795 & -0.778556945\\\\\n",
       "\t 2014.DES-CD         & 2014 & DES-CD         &   2 &   9057 & 0.0002208237 & -1.733114304\\\\\n",
       "\\end{tabular}\n"
      ],
      "text/markdown": [
       "\n",
       "A tibble: 17 × 7\n",
       "\n",
       "| doc_id &lt;chr&gt; | year &lt;int&gt; | party &lt;chr&gt; | anti_elitism &lt;dbl&gt; | total_toks &lt;int&gt; | perc_of_populist_toks &lt;dbl&gt; | standardized_perc_of_populist_toks &lt;dbl&gt; |\n",
       "|---|---|---|---|---|---|---|\n",
       "| 2014.FDI            | 2014 | FDI            |  99 |  51695 | 0.0019150788 |  2.113338668 |\n",
       "| 2019.FI-PDL         | 2019 | FI-PDL         | 949 | 533560 | 0.0017786191 |  1.803535286 |\n",
       "| 2019.PD-ULIVO       | 2019 | PD-ULIVO       | 888 | 557509 | 0.0015927994 |  1.381670440 |\n",
       "| 2014.MDP-LU         | 2014 | MDP-LU         | 148 | 101300 | 0.0014610069 |  1.082463081 |\n",
       "| 2019.FDI            | 2019 | FDI            | 368 | 262423 | 0.0014023161 |  0.949217856 |\n",
       "| 2014.AP-CPE-NCD-NCI | 2014 | AP-CPE-NCD-NCI | 136 | 101160 | 0.0013444049 |  0.817742543 |\n",
       "| 2019.LEU            | 2019 | LEU            |  71 |  53261 | 0.0013330580 |  0.791981675 |\n",
       "| 2014.LEGA           | 2014 | LEGA           | 164 | 148505 | 0.0011043399 |  0.272725070 |\n",
       "| 2014.M5S            | 2014 | M5S            | 561 | 552684 | 0.0010150466 |  0.070003146 |\n",
       "| 2019.LEGA           | 2019 | LEGA           | 216 | 214370 | 0.0010076037 |  0.053105601 |\n",
       "| 2019.M5S            | 2019 | M5S            | 503 | 509145 | 0.0009879307 |  0.008442318 |\n",
       "| 2014.CI             | 2014 | CI             | 139 | 154407 | 0.0009002183 | -0.190690602 |\n",
       "| 2014.SI-SEL-POS-LU  | 2014 | SI-SEL-POS-LU  | 111 | 131756 | 0.0008424664 | -0.321804194 |\n",
       "| 2014.PD-ULIVO       | 2014 | PD-ULIVO       | 491 | 599522 | 0.0008189858 | -0.375111966 |\n",
       "| 2014.FI-PDL         | 2014 | FI-PDL         | 215 | 289856 | 0.0007417476 | -0.550465112 |\n",
       "| 2014.NCI-SCPI-MAIE  | 2014 | NCI-SCPI-MAIE  |  68 | 106038 | 0.0006412795 | -0.778556945 |\n",
       "| 2014.DES-CD         | 2014 | DES-CD         |   2 |   9057 | 0.0002208237 | -1.733114304 |\n",
       "\n"
      ],
      "text/plain": [
       "   doc_id              year party          anti_elitism total_toks\n",
       "1  2014.FDI            2014 FDI             99           51695    \n",
       "2  2019.FI-PDL         2019 FI-PDL         949          533560    \n",
       "3  2019.PD-ULIVO       2019 PD-ULIVO       888          557509    \n",
       "4  2014.MDP-LU         2014 MDP-LU         148          101300    \n",
       "5  2019.FDI            2019 FDI            368          262423    \n",
       "6  2014.AP-CPE-NCD-NCI 2014 AP-CPE-NCD-NCI 136          101160    \n",
       "7  2019.LEU            2019 LEU             71           53261    \n",
       "8  2014.LEGA           2014 LEGA           164          148505    \n",
       "9  2014.M5S            2014 M5S            561          552684    \n",
       "10 2019.LEGA           2019 LEGA           216          214370    \n",
       "11 2019.M5S            2019 M5S            503          509145    \n",
       "12 2014.CI             2014 CI             139          154407    \n",
       "13 2014.SI-SEL-POS-LU  2014 SI-SEL-POS-LU  111          131756    \n",
       "14 2014.PD-ULIVO       2014 PD-ULIVO       491          599522    \n",
       "15 2014.FI-PDL         2014 FI-PDL         215          289856    \n",
       "16 2014.NCI-SCPI-MAIE  2014 NCI-SCPI-MAIE   68          106038    \n",
       "17 2014.DES-CD         2014 DES-CD           2            9057    \n",
       "   perc_of_populist_toks standardized_perc_of_populist_toks\n",
       "1  0.0019150788           2.113338668                      \n",
       "2  0.0017786191           1.803535286                      \n",
       "3  0.0015927994           1.381670440                      \n",
       "4  0.0014610069           1.082463081                      \n",
       "5  0.0014023161           0.949217856                      \n",
       "6  0.0013444049           0.817742543                      \n",
       "7  0.0013330580           0.791981675                      \n",
       "8  0.0011043399           0.272725070                      \n",
       "9  0.0010150466           0.070003146                      \n",
       "10 0.0010076037           0.053105601                      \n",
       "11 0.0009879307           0.008442318                      \n",
       "12 0.0009002183          -0.190690602                      \n",
       "13 0.0008424664          -0.321804194                      \n",
       "14 0.0008189858          -0.375111966                      \n",
       "15 0.0007417476          -0.550465112                      \n",
       "16 0.0006412795          -0.778556945                      \n",
       "17 0.0002208237          -1.733114304                      "
      ]
     },
     "metadata": {},
     "output_type": "display_data"
    }
   ],
   "source": [
    "df_rp %>% \n",
    "filter((year == 2014 | year == 2019) & party != \"MISTO\" & party != \"IV\") %>% \n",
    "arrange(desc(standardized_perc_of_populist_toks))"
   ]
  },
  {
   "cell_type": "code",
   "execution_count": 28,
   "id": "9ea13a95",
   "metadata": {},
   "outputs": [
    {
     "data": {
      "text/html": [
       "<table class=\"dataframe\">\n",
       "<caption>A grouped_df: 17 × 3</caption>\n",
       "<thead>\n",
       "\t<tr><th scope=col>party</th><th scope=col>year</th><th scope=col>mean_anti_elite_salience</th></tr>\n",
       "\t<tr><th scope=col>&lt;chr&gt;</th><th scope=col>&lt;dbl&gt;</th><th scope=col>&lt;dbl&gt;</th></tr>\n",
       "</thead>\n",
       "<tbody>\n",
       "\t<tr><td>M5S</td><td>2014</td><td>10.000000</td></tr>\n",
       "\t<tr><td>RC </td><td>2014</td><td> 9.333333</td></tr>\n",
       "\t<tr><td>M5S</td><td>2019</td><td> 8.888889</td></tr>\n",
       "\t<tr><td>LN </td><td>2014</td><td> 8.800000</td></tr>\n",
       "\t<tr><td>LN </td><td>2019</td><td> 8.333333</td></tr>\n",
       "\t<tr><td>FdI</td><td>2019</td><td> 8.000000</td></tr>\n",
       "\t<tr><td>SEL</td><td>2014</td><td> 6.800000</td></tr>\n",
       "\t<tr><td>FdI</td><td>2014</td><td> 6.250000</td></tr>\n",
       "\t<tr><td>PD </td><td>2014</td><td> 4.400000</td></tr>\n",
       "\t<tr><td>FI </td><td>2019</td><td> 4.176471</td></tr>\n",
       "\t<tr><td>FI </td><td>2014</td><td> 4.000000</td></tr>\n",
       "\t<tr><td>SI </td><td>2019</td><td> 3.785714</td></tr>\n",
       "\t<tr><td>CD </td><td>2014</td><td> 3.333333</td></tr>\n",
       "\t<tr><td>NCD</td><td>2014</td><td> 2.200000</td></tr>\n",
       "\t<tr><td>PD </td><td>2019</td><td> 1.882353</td></tr>\n",
       "\t<tr><td>UDC</td><td>2014</td><td> 1.500000</td></tr>\n",
       "\t<tr><td>SC </td><td>2014</td><td> 1.000000</td></tr>\n",
       "</tbody>\n",
       "</table>\n"
      ],
      "text/latex": [
       "A grouped\\_df: 17 × 3\n",
       "\\begin{tabular}{lll}\n",
       " party & year & mean\\_anti\\_elite\\_salience\\\\\n",
       " <chr> & <dbl> & <dbl>\\\\\n",
       "\\hline\n",
       "\t M5S & 2014 & 10.000000\\\\\n",
       "\t RC  & 2014 &  9.333333\\\\\n",
       "\t M5S & 2019 &  8.888889\\\\\n",
       "\t LN  & 2014 &  8.800000\\\\\n",
       "\t LN  & 2019 &  8.333333\\\\\n",
       "\t FdI & 2019 &  8.000000\\\\\n",
       "\t SEL & 2014 &  6.800000\\\\\n",
       "\t FdI & 2014 &  6.250000\\\\\n",
       "\t PD  & 2014 &  4.400000\\\\\n",
       "\t FI  & 2019 &  4.176471\\\\\n",
       "\t FI  & 2014 &  4.000000\\\\\n",
       "\t SI  & 2019 &  3.785714\\\\\n",
       "\t CD  & 2014 &  3.333333\\\\\n",
       "\t NCD & 2014 &  2.200000\\\\\n",
       "\t PD  & 2019 &  1.882353\\\\\n",
       "\t UDC & 2014 &  1.500000\\\\\n",
       "\t SC  & 2014 &  1.000000\\\\\n",
       "\\end{tabular}\n"
      ],
      "text/markdown": [
       "\n",
       "A grouped_df: 17 × 3\n",
       "\n",
       "| party &lt;chr&gt; | year &lt;dbl&gt; | mean_anti_elite_salience &lt;dbl&gt; |\n",
       "|---|---|---|\n",
       "| M5S | 2014 | 10.000000 |\n",
       "| RC  | 2014 |  9.333333 |\n",
       "| M5S | 2019 |  8.888889 |\n",
       "| LN  | 2014 |  8.800000 |\n",
       "| LN  | 2019 |  8.333333 |\n",
       "| FdI | 2019 |  8.000000 |\n",
       "| SEL | 2014 |  6.800000 |\n",
       "| FdI | 2014 |  6.250000 |\n",
       "| PD  | 2014 |  4.400000 |\n",
       "| FI  | 2019 |  4.176471 |\n",
       "| FI  | 2014 |  4.000000 |\n",
       "| SI  | 2019 |  3.785714 |\n",
       "| CD  | 2014 |  3.333333 |\n",
       "| NCD | 2014 |  2.200000 |\n",
       "| PD  | 2019 |  1.882353 |\n",
       "| UDC | 2014 |  1.500000 |\n",
       "| SC  | 2014 |  1.000000 |\n",
       "\n"
      ],
      "text/plain": [
       "   party year mean_anti_elite_salience\n",
       "1  M5S   2014 10.000000               \n",
       "2  RC    2014  9.333333               \n",
       "3  M5S   2019  8.888889               \n",
       "4  LN    2014  8.800000               \n",
       "5  LN    2019  8.333333               \n",
       "6  FdI   2019  8.000000               \n",
       "7  SEL   2014  6.800000               \n",
       "8  FdI   2014  6.250000               \n",
       "9  PD    2014  4.400000               \n",
       "10 FI    2019  4.176471               \n",
       "11 FI    2014  4.000000               \n",
       "12 SI    2019  3.785714               \n",
       "13 CD    2014  3.333333               \n",
       "14 NCD   2014  2.200000               \n",
       "15 PD    2019  1.882353               \n",
       "16 UDC   2014  1.500000               \n",
       "17 SC    2014  1.000000               "
      ]
     },
     "metadata": {},
     "output_type": "display_data"
    }
   ],
   "source": [
    "to_drop <- c('VdA', 'SVP', 'RI')\n",
    "\n",
    "ches %>% \n",
    "filter(country == 8 & year >= 2014 & year <= 2019 & (!party %in% to_drop))  %>% \n",
    "group_by(party, year) %>% \n",
    "summarize(mean_anti_elite_salience = mean(antielite_salience), .groups = \"keep\") %>% \n",
    "arrange(desc(mean_anti_elite_salience))"
   ]
  },
  {
   "cell_type": "markdown",
   "id": "343071dc",
   "metadata": {},
   "source": [
    "### The PopuList <a class=\"anchor\" id=\"subparagraph5\"></a>"
   ]
  },
  {
   "cell_type": "markdown",
   "id": "de2d590d",
   "metadata": {},
   "source": [
    "All the Italian parties in the PopuList dataset"
   ]
  },
  {
   "cell_type": "code",
   "execution_count": 29,
   "id": "4be7f9f6",
   "metadata": {},
   "outputs": [
    {
     "data": {
      "text/html": [
       "<table class=\"dataframe\">\n",
       "<caption>A tibble: 13 × 1</caption>\n",
       "<thead>\n",
       "\t<tr><th scope=col>party_name</th></tr>\n",
       "\t<tr><th scope=col>&lt;chr&gt;</th></tr>\n",
       "</thead>\n",
       "<tbody>\n",
       "\t<tr><td>Fiamma Tricolore                          </td></tr>\n",
       "\t<tr><td>Forza Italia – Il Popolo della Libertà    </td></tr>\n",
       "\t<tr><td>Fratelli d'Italia – Centrodestra Nazionale</td></tr>\n",
       "\t<tr><td>Il Popolo della Libertà                   </td></tr>\n",
       "\t<tr><td>Lega (Nord)                               </td></tr>\n",
       "\t<tr><td>Lega d'Azione Meridionale                 </td></tr>\n",
       "\t<tr><td>Liga Veneta                               </td></tr>\n",
       "\t<tr><td>Movimento 5 Stelle                        </td></tr>\n",
       "\t<tr><td>Movimento Sociale Italiano                </td></tr>\n",
       "\t<tr><td>Partito dei Comunisti Italiani            </td></tr>\n",
       "\t<tr><td>Partito della Rifondazione Comunista      </td></tr>\n",
       "\t<tr><td>Rivoluzione Civile                        </td></tr>\n",
       "\t<tr><td>Sinistra                                  </td></tr>\n",
       "</tbody>\n",
       "</table>\n"
      ],
      "text/latex": [
       "A tibble: 13 × 1\n",
       "\\begin{tabular}{l}\n",
       " party\\_name\\\\\n",
       " <chr>\\\\\n",
       "\\hline\n",
       "\t Fiamma Tricolore                          \\\\\n",
       "\t Forza Italia – Il Popolo della Libertà    \\\\\n",
       "\t Fratelli d'Italia – Centrodestra Nazionale\\\\\n",
       "\t Il Popolo della Libertà                   \\\\\n",
       "\t Lega (Nord)                               \\\\\n",
       "\t Lega d'Azione Meridionale                 \\\\\n",
       "\t Liga Veneta                               \\\\\n",
       "\t Movimento 5 Stelle                        \\\\\n",
       "\t Movimento Sociale Italiano                \\\\\n",
       "\t Partito dei Comunisti Italiani            \\\\\n",
       "\t Partito della Rifondazione Comunista      \\\\\n",
       "\t Rivoluzione Civile                        \\\\\n",
       "\t Sinistra                                  \\\\\n",
       "\\end{tabular}\n"
      ],
      "text/markdown": [
       "\n",
       "A tibble: 13 × 1\n",
       "\n",
       "| party_name &lt;chr&gt; |\n",
       "|---|\n",
       "| Fiamma Tricolore                           |\n",
       "| Forza Italia – Il Popolo della Libertà     |\n",
       "| Fratelli d'Italia – Centrodestra Nazionale |\n",
       "| Il Popolo della Libertà                    |\n",
       "| Lega (Nord)                                |\n",
       "| Lega d'Azione Meridionale                  |\n",
       "| Liga Veneta                                |\n",
       "| Movimento 5 Stelle                         |\n",
       "| Movimento Sociale Italiano                 |\n",
       "| Partito dei Comunisti Italiani             |\n",
       "| Partito della Rifondazione Comunista       |\n",
       "| Rivoluzione Civile                         |\n",
       "| Sinistra                                   |\n",
       "\n"
      ],
      "text/plain": [
       "   party_name                                \n",
       "1  Fiamma Tricolore                          \n",
       "2  Forza Italia – Il Popolo della Libertà    \n",
       "3  Fratelli d'Italia – Centrodestra Nazionale\n",
       "4  Il Popolo della Libertà                   \n",
       "5  Lega (Nord)                               \n",
       "6  Lega d'Azione Meridionale                 \n",
       "7  Liga Veneta                               \n",
       "8  Movimento 5 Stelle                        \n",
       "9  Movimento Sociale Italiano                \n",
       "10 Partito dei Comunisti Italiani            \n",
       "11 Partito della Rifondazione Comunista      \n",
       "12 Rivoluzione Civile                        \n",
       "13 Sinistra                                  "
      ]
     },
     "metadata": {},
     "output_type": "display_data"
    }
   ],
   "source": [
    "populist %>% filter(country_name == \"Italy\") %>% distinct(party_name)"
   ]
  },
  {
   "cell_type": "markdown",
   "id": "bb3e94a7",
   "metadata": {},
   "source": [
    "Let's compare the populism scores between PopuList and R&D' dictionary by focusing on parties that are present in both datasets."
   ]
  },
  {
   "cell_type": "markdown",
   "id": "75679c80",
   "metadata": {},
   "source": [
    "According to the dictionary analysis, FI-PDL, FDI, Lega and M5S have higher populism scores compared to most parties. These parties are all coded as populist in the PopuList dataset. However, the dictionary analysis also assigned high populism scores to left-wing parties such as SI-SEL-POS-LU (2016-2018) and RC (1995, 1999) which are have been labeled as not-populist in the PopuList dataset. The two measures are thus only partially consistent."
   ]
  },
  {
   "cell_type": "code",
   "execution_count": 30,
   "id": "4c665ef8",
   "metadata": {},
   "outputs": [
    {
     "data": {
      "text/html": [
       "<table class=\"dataframe\">\n",
       "<caption>A tibble: 20 × 7</caption>\n",
       "<thead>\n",
       "\t<tr><th scope=col>doc_id</th><th scope=col>year</th><th scope=col>party</th><th scope=col>anti_elitism</th><th scope=col>total_toks</th><th scope=col>perc_of_populist_toks</th><th scope=col>standardized_perc_of_populist_toks</th></tr>\n",
       "\t<tr><th scope=col>&lt;chr&gt;</th><th scope=col>&lt;int&gt;</th><th scope=col>&lt;chr&gt;</th><th scope=col>&lt;dbl&gt;</th><th scope=col>&lt;int&gt;</th><th scope=col>&lt;dbl&gt;</th><th scope=col>&lt;dbl&gt;</th></tr>\n",
       "</thead>\n",
       "<tbody>\n",
       "\t<tr><td>2018.SI-SEL-POS-LU</td><td>2018</td><td>SI-SEL-POS-LU</td><td>  7</td><td>  2189</td><td>0.003197807</td><td>5.0255059</td></tr>\n",
       "\t<tr><td>2016.SI-SEL-POS-LU</td><td>2016</td><td>SI-SEL-POS-LU</td><td>346</td><td>168754</td><td>0.002050322</td><td>2.4203796</td></tr>\n",
       "\t<tr><td>2014.FDI          </td><td>2014</td><td>FDI          </td><td> 99</td><td> 51695</td><td>0.001915079</td><td>2.1133387</td></tr>\n",
       "\t<tr><td>2019.FI-PDL       </td><td>2019</td><td>FI-PDL       </td><td>949</td><td>533560</td><td>0.001778619</td><td>1.8035353</td></tr>\n",
       "\t<tr><td>2013.FDI          </td><td>2013</td><td>FDI          </td><td>140</td><td> 82996</td><td>0.001686828</td><td>1.5951434</td></tr>\n",
       "\t<tr><td>2017.FDI          </td><td>2017</td><td>FDI          </td><td> 58</td><td> 38123</td><td>0.001521391</td><td>1.2195532</td></tr>\n",
       "\t<tr><td>1995.LEGA         </td><td>1995</td><td>LEGA         </td><td>238</td><td>156792</td><td>0.001517935</td><td>1.2117055</td></tr>\n",
       "\t<tr><td>1995.RC           </td><td>1995</td><td>RC           </td><td>445</td><td>303724</td><td>0.001465146</td><td>1.0918600</td></tr>\n",
       "\t<tr><td>2018.FDI          </td><td>2018</td><td>FDI          </td><td>194</td><td>135424</td><td>0.001432538</td><td>1.0178299</td></tr>\n",
       "\t<tr><td>2000.LEGA         </td><td>2000</td><td>LEGA         </td><td>420</td><td>293739</td><td>0.001429841</td><td>1.0117069</td></tr>\n",
       "\t<tr><td>2019.FDI          </td><td>2019</td><td>FDI          </td><td>368</td><td>262423</td><td>0.001402316</td><td>0.9492179</td></tr>\n",
       "\t<tr><td>1999.RC           </td><td>1999</td><td>RC           </td><td> 91</td><td> 65691</td><td>0.001385273</td><td>0.9105261</td></tr>\n",
       "\t<tr><td>1995.FI-PDL       </td><td>1995</td><td>FI-PDL       </td><td>434</td><td>315582</td><td>0.001375237</td><td>0.8877401</td></tr>\n",
       "\t<tr><td>2005.RC           </td><td>2005</td><td>RC           </td><td> 72</td><td> 53397</td><td>0.001348390</td><td>0.8267907</td></tr>\n",
       "\t<tr><td>1997.RC           </td><td>1997</td><td>RC           </td><td>106</td><td> 78986</td><td>0.001342010</td><td>0.8123054</td></tr>\n",
       "\t<tr><td>2015.FDI          </td><td>2015</td><td>FDI          </td><td> 45</td><td> 33883</td><td>0.001328100</td><td>0.7807248</td></tr>\n",
       "\t<tr><td>2015.M5S          </td><td>2015</td><td>M5S          </td><td>701</td><td>527990</td><td>0.001327677</td><td>0.7797646</td></tr>\n",
       "\t<tr><td>1998.FI-PDL       </td><td>1998</td><td>FI-PDL       </td><td>864</td><td>654140</td><td>0.001320818</td><td>0.7641938</td></tr>\n",
       "\t<tr><td>2000.RC           </td><td>2000</td><td>RC           </td><td> 83</td><td> 63959</td><td>0.001297706</td><td>0.7117232</td></tr>\n",
       "\t<tr><td>2016.M5S          </td><td>2016</td><td>M5S          </td><td>484</td><td>382482</td><td>0.001265419</td><td>0.6384216</td></tr>\n",
       "</tbody>\n",
       "</table>\n"
      ],
      "text/latex": [
       "A tibble: 20 × 7\n",
       "\\begin{tabular}{lllllll}\n",
       " doc\\_id & year & party & anti\\_elitism & total\\_toks & perc\\_of\\_populist\\_toks & standardized\\_perc\\_of\\_populist\\_toks\\\\\n",
       " <chr> & <int> & <chr> & <dbl> & <int> & <dbl> & <dbl>\\\\\n",
       "\\hline\n",
       "\t 2018.SI-SEL-POS-LU & 2018 & SI-SEL-POS-LU &   7 &   2189 & 0.003197807 & 5.0255059\\\\\n",
       "\t 2016.SI-SEL-POS-LU & 2016 & SI-SEL-POS-LU & 346 & 168754 & 0.002050322 & 2.4203796\\\\\n",
       "\t 2014.FDI           & 2014 & FDI           &  99 &  51695 & 0.001915079 & 2.1133387\\\\\n",
       "\t 2019.FI-PDL        & 2019 & FI-PDL        & 949 & 533560 & 0.001778619 & 1.8035353\\\\\n",
       "\t 2013.FDI           & 2013 & FDI           & 140 &  82996 & 0.001686828 & 1.5951434\\\\\n",
       "\t 2017.FDI           & 2017 & FDI           &  58 &  38123 & 0.001521391 & 1.2195532\\\\\n",
       "\t 1995.LEGA          & 1995 & LEGA          & 238 & 156792 & 0.001517935 & 1.2117055\\\\\n",
       "\t 1995.RC            & 1995 & RC            & 445 & 303724 & 0.001465146 & 1.0918600\\\\\n",
       "\t 2018.FDI           & 2018 & FDI           & 194 & 135424 & 0.001432538 & 1.0178299\\\\\n",
       "\t 2000.LEGA          & 2000 & LEGA          & 420 & 293739 & 0.001429841 & 1.0117069\\\\\n",
       "\t 2019.FDI           & 2019 & FDI           & 368 & 262423 & 0.001402316 & 0.9492179\\\\\n",
       "\t 1999.RC            & 1999 & RC            &  91 &  65691 & 0.001385273 & 0.9105261\\\\\n",
       "\t 1995.FI-PDL        & 1995 & FI-PDL        & 434 & 315582 & 0.001375237 & 0.8877401\\\\\n",
       "\t 2005.RC            & 2005 & RC            &  72 &  53397 & 0.001348390 & 0.8267907\\\\\n",
       "\t 1997.RC            & 1997 & RC            & 106 &  78986 & 0.001342010 & 0.8123054\\\\\n",
       "\t 2015.FDI           & 2015 & FDI           &  45 &  33883 & 0.001328100 & 0.7807248\\\\\n",
       "\t 2015.M5S           & 2015 & M5S           & 701 & 527990 & 0.001327677 & 0.7797646\\\\\n",
       "\t 1998.FI-PDL        & 1998 & FI-PDL        & 864 & 654140 & 0.001320818 & 0.7641938\\\\\n",
       "\t 2000.RC            & 2000 & RC            &  83 &  63959 & 0.001297706 & 0.7117232\\\\\n",
       "\t 2016.M5S           & 2016 & M5S           & 484 & 382482 & 0.001265419 & 0.6384216\\\\\n",
       "\\end{tabular}\n"
      ],
      "text/markdown": [
       "\n",
       "A tibble: 20 × 7\n",
       "\n",
       "| doc_id &lt;chr&gt; | year &lt;int&gt; | party &lt;chr&gt; | anti_elitism &lt;dbl&gt; | total_toks &lt;int&gt; | perc_of_populist_toks &lt;dbl&gt; | standardized_perc_of_populist_toks &lt;dbl&gt; |\n",
       "|---|---|---|---|---|---|---|\n",
       "| 2018.SI-SEL-POS-LU | 2018 | SI-SEL-POS-LU |   7 |   2189 | 0.003197807 | 5.0255059 |\n",
       "| 2016.SI-SEL-POS-LU | 2016 | SI-SEL-POS-LU | 346 | 168754 | 0.002050322 | 2.4203796 |\n",
       "| 2014.FDI           | 2014 | FDI           |  99 |  51695 | 0.001915079 | 2.1133387 |\n",
       "| 2019.FI-PDL        | 2019 | FI-PDL        | 949 | 533560 | 0.001778619 | 1.8035353 |\n",
       "| 2013.FDI           | 2013 | FDI           | 140 |  82996 | 0.001686828 | 1.5951434 |\n",
       "| 2017.FDI           | 2017 | FDI           |  58 |  38123 | 0.001521391 | 1.2195532 |\n",
       "| 1995.LEGA          | 1995 | LEGA          | 238 | 156792 | 0.001517935 | 1.2117055 |\n",
       "| 1995.RC            | 1995 | RC            | 445 | 303724 | 0.001465146 | 1.0918600 |\n",
       "| 2018.FDI           | 2018 | FDI           | 194 | 135424 | 0.001432538 | 1.0178299 |\n",
       "| 2000.LEGA          | 2000 | LEGA          | 420 | 293739 | 0.001429841 | 1.0117069 |\n",
       "| 2019.FDI           | 2019 | FDI           | 368 | 262423 | 0.001402316 | 0.9492179 |\n",
       "| 1999.RC            | 1999 | RC            |  91 |  65691 | 0.001385273 | 0.9105261 |\n",
       "| 1995.FI-PDL        | 1995 | FI-PDL        | 434 | 315582 | 0.001375237 | 0.8877401 |\n",
       "| 2005.RC            | 2005 | RC            |  72 |  53397 | 0.001348390 | 0.8267907 |\n",
       "| 1997.RC            | 1997 | RC            | 106 |  78986 | 0.001342010 | 0.8123054 |\n",
       "| 2015.FDI           | 2015 | FDI           |  45 |  33883 | 0.001328100 | 0.7807248 |\n",
       "| 2015.M5S           | 2015 | M5S           | 701 | 527990 | 0.001327677 | 0.7797646 |\n",
       "| 1998.FI-PDL        | 1998 | FI-PDL        | 864 | 654140 | 0.001320818 | 0.7641938 |\n",
       "| 2000.RC            | 2000 | RC            |  83 |  63959 | 0.001297706 | 0.7117232 |\n",
       "| 2016.M5S           | 2016 | M5S           | 484 | 382482 | 0.001265419 | 0.6384216 |\n",
       "\n"
      ],
      "text/plain": [
       "   doc_id             year party         anti_elitism total_toks\n",
       "1  2018.SI-SEL-POS-LU 2018 SI-SEL-POS-LU   7            2189    \n",
       "2  2016.SI-SEL-POS-LU 2016 SI-SEL-POS-LU 346          168754    \n",
       "3  2014.FDI           2014 FDI            99           51695    \n",
       "4  2019.FI-PDL        2019 FI-PDL        949          533560    \n",
       "5  2013.FDI           2013 FDI           140           82996    \n",
       "6  2017.FDI           2017 FDI            58           38123    \n",
       "7  1995.LEGA          1995 LEGA          238          156792    \n",
       "8  1995.RC            1995 RC            445          303724    \n",
       "9  2018.FDI           2018 FDI           194          135424    \n",
       "10 2000.LEGA          2000 LEGA          420          293739    \n",
       "11 2019.FDI           2019 FDI           368          262423    \n",
       "12 1999.RC            1999 RC             91           65691    \n",
       "13 1995.FI-PDL        1995 FI-PDL        434          315582    \n",
       "14 2005.RC            2005 RC             72           53397    \n",
       "15 1997.RC            1997 RC            106           78986    \n",
       "16 2015.FDI           2015 FDI            45           33883    \n",
       "17 2015.M5S           2015 M5S           701          527990    \n",
       "18 1998.FI-PDL        1998 FI-PDL        864          654140    \n",
       "19 2000.RC            2000 RC             83           63959    \n",
       "20 2016.M5S           2016 M5S           484          382482    \n",
       "   perc_of_populist_toks standardized_perc_of_populist_toks\n",
       "1  0.003197807           5.0255059                         \n",
       "2  0.002050322           2.4203796                         \n",
       "3  0.001915079           2.1133387                         \n",
       "4  0.001778619           1.8035353                         \n",
       "5  0.001686828           1.5951434                         \n",
       "6  0.001521391           1.2195532                         \n",
       "7  0.001517935           1.2117055                         \n",
       "8  0.001465146           1.0918600                         \n",
       "9  0.001432538           1.0178299                         \n",
       "10 0.001429841           1.0117069                         \n",
       "11 0.001402316           0.9492179                         \n",
       "12 0.001385273           0.9105261                         \n",
       "13 0.001375237           0.8877401                         \n",
       "14 0.001348390           0.8267907                         \n",
       "15 0.001342010           0.8123054                         \n",
       "16 0.001328100           0.7807248                         \n",
       "17 0.001327677           0.7797646                         \n",
       "18 0.001320818           0.7641938                         \n",
       "19 0.001297706           0.7117232                         \n",
       "20 0.001265419           0.6384216                         "
      ]
     },
     "metadata": {},
     "output_type": "display_data"
    }
   ],
   "source": [
    "to_keep <- c(\"F-ITA\", \"FI\", \"PDL\", \"FI-PDL\", \"FDI-AN\", \"FDI\", \"LEGA-N\", \"LEGA-NORD-P\", \"LNA\", \"LEGA\", \"LNP\", \"M5S\", \n",
    "             \"RC-PROGR\", \"COMUNISTA\", \"RC\", \"COM/IT/\", \"RC-SE\", \"SI-SEL-POS-LU\")\n",
    "\n",
    "df_rp %>% \n",
    "filter(party %in% to_keep) %>% \n",
    "arrange(desc(perc_of_populist_toks)) %>% \n",
    "head(20)"
   ]
  },
  {
   "cell_type": "code",
   "execution_count": 31,
   "id": "c4d2be31",
   "metadata": {},
   "outputs": [
    {
     "data": {
      "text/html": [
       "<table class=\"dataframe\">\n",
       "<caption>A tibble: 10 × 2</caption>\n",
       "<thead>\n",
       "\t<tr><th scope=col>party_name</th><th scope=col>populist</th></tr>\n",
       "\t<tr><th scope=col>&lt;chr&gt;</th><th scope=col>&lt;dbl&gt;</th></tr>\n",
       "</thead>\n",
       "<tbody>\n",
       "\t<tr><td>Forza Italia – Il Popolo della Libertà    </td><td>1</td></tr>\n",
       "\t<tr><td>Fratelli d'Italia – Centrodestra Nazionale</td><td>1</td></tr>\n",
       "\t<tr><td>Il Popolo della Libertà                   </td><td>1</td></tr>\n",
       "\t<tr><td>Lega (Nord)                               </td><td>1</td></tr>\n",
       "\t<tr><td>Liga Veneta                               </td><td>1</td></tr>\n",
       "\t<tr><td>Movimento 5 Stelle                        </td><td>1</td></tr>\n",
       "\t<tr><td>Partito dei Comunisti Italiani            </td><td>0</td></tr>\n",
       "\t<tr><td>Partito della Rifondazione Comunista      </td><td>0</td></tr>\n",
       "\t<tr><td>Rivoluzione Civile                        </td><td>0</td></tr>\n",
       "\t<tr><td>Sinistra                                  </td><td>0</td></tr>\n",
       "</tbody>\n",
       "</table>\n"
      ],
      "text/latex": [
       "A tibble: 10 × 2\n",
       "\\begin{tabular}{ll}\n",
       " party\\_name & populist\\\\\n",
       " <chr> & <dbl>\\\\\n",
       "\\hline\n",
       "\t Forza Italia – Il Popolo della Libertà     & 1\\\\\n",
       "\t Fratelli d'Italia – Centrodestra Nazionale & 1\\\\\n",
       "\t Il Popolo della Libertà                    & 1\\\\\n",
       "\t Lega (Nord)                                & 1\\\\\n",
       "\t Liga Veneta                                & 1\\\\\n",
       "\t Movimento 5 Stelle                         & 1\\\\\n",
       "\t Partito dei Comunisti Italiani             & 0\\\\\n",
       "\t Partito della Rifondazione Comunista       & 0\\\\\n",
       "\t Rivoluzione Civile                         & 0\\\\\n",
       "\t Sinistra                                   & 0\\\\\n",
       "\\end{tabular}\n"
      ],
      "text/markdown": [
       "\n",
       "A tibble: 10 × 2\n",
       "\n",
       "| party_name &lt;chr&gt; | populist &lt;dbl&gt; |\n",
       "|---|---|\n",
       "| Forza Italia – Il Popolo della Libertà     | 1 |\n",
       "| Fratelli d'Italia – Centrodestra Nazionale | 1 |\n",
       "| Il Popolo della Libertà                    | 1 |\n",
       "| Lega (Nord)                                | 1 |\n",
       "| Liga Veneta                                | 1 |\n",
       "| Movimento 5 Stelle                         | 1 |\n",
       "| Partito dei Comunisti Italiani             | 0 |\n",
       "| Partito della Rifondazione Comunista       | 0 |\n",
       "| Rivoluzione Civile                         | 0 |\n",
       "| Sinistra                                   | 0 |\n",
       "\n"
      ],
      "text/plain": [
       "   party_name                                 populist\n",
       "1  Forza Italia – Il Popolo della Libertà     1       \n",
       "2  Fratelli d'Italia – Centrodestra Nazionale 1       \n",
       "3  Il Popolo della Libertà                    1       \n",
       "4  Lega (Nord)                                1       \n",
       "5  Liga Veneta                                1       \n",
       "6  Movimento 5 Stelle                         1       \n",
       "7  Partito dei Comunisti Italiani             0       \n",
       "8  Partito della Rifondazione Comunista       0       \n",
       "9  Rivoluzione Civile                         0       \n",
       "10 Sinistra                                   0       "
      ]
     },
     "metadata": {},
     "output_type": "display_data"
    }
   ],
   "source": [
    "to_drop <- c(\"Fiamma Tricolore\", \"Lega d'Azione Meridionale\", \"Movimento Sociale Italiano\")\n",
    "\n",
    "populist %>% \n",
    "filter(country_name == \"Italy\" & (!party_name %in% to_drop)) %>% \n",
    "select(party_name, populist) %>% \n",
    "arrange(desc(populist))"
   ]
  },
  {
   "cell_type": "markdown",
   "id": "e41d0eb1",
   "metadata": {},
   "source": [
    "# Decadri & Boussalis (speeches dataset) <a class=\"anchor\" id=\"chapter6\"></a>"
   ]
  },
  {
   "cell_type": "markdown",
   "id": "cf03fc47",
   "metadata": {},
   "source": [
    "Let's run the dictionary analysis with Decadri and Boussalis' dictionary"
   ]
  },
  {
   "cell_type": "code",
   "execution_count": 32,
   "id": "e26bcd7e",
   "metadata": {},
   "outputs": [],
   "source": [
    "df_db <- dict_analysis(tokens = speeches_toks, data = \"speeches\", dictionary = \"Decadri_Boussalis\")"
   ]
  },
  {
   "cell_type": "markdown",
   "id": "545adf07",
   "metadata": {},
   "source": [
    "The first rows of the dataframe"
   ]
  },
  {
   "cell_type": "code",
   "execution_count": 33,
   "id": "366cac9c",
   "metadata": {},
   "outputs": [
    {
     "data": {
      "text/html": [
       "<table class=\"dataframe\">\n",
       "<caption>A tibble: 6 × 9</caption>\n",
       "<thead>\n",
       "\t<tr><th scope=col>doc_id</th><th scope=col>year</th><th scope=col>party</th><th scope=col>anti_elitism</th><th scope=col>people_centrism</th><th scope=col>populist_toks</th><th scope=col>total_toks</th><th scope=col>perc_of_populist_toks</th><th scope=col>standardized_perc_of_populist_toks</th></tr>\n",
       "\t<tr><th scope=col>&lt;chr&gt;</th><th scope=col>&lt;int&gt;</th><th scope=col>&lt;chr&gt;</th><th scope=col>&lt;dbl&gt;</th><th scope=col>&lt;dbl&gt;</th><th scope=col>&lt;dbl&gt;</th><th scope=col>&lt;int&gt;</th><th scope=col>&lt;dbl&gt;</th><th scope=col>&lt;dbl&gt;</th></tr>\n",
       "</thead>\n",
       "<tbody>\n",
       "\t<tr><td>1994.AN</td><td>1994</td><td>AN</td><td>168</td><td> 475</td><td> 643</td><td>206560</td><td>0.003112897</td><td>-0.1599508</td></tr>\n",
       "\t<tr><td>1995.AN</td><td>1995</td><td>AN</td><td>285</td><td>1024</td><td>1309</td><td>350039</td><td>0.003739583</td><td> 0.2260893</td></tr>\n",
       "\t<tr><td>1996.AN</td><td>1996</td><td>AN</td><td>150</td><td> 476</td><td> 626</td><td>272610</td><td>0.002296321</td><td>-0.6629634</td></tr>\n",
       "\t<tr><td>1997.AN</td><td>1997</td><td>AN</td><td>279</td><td> 660</td><td> 939</td><td>381823</td><td>0.002459255</td><td>-0.5625958</td></tr>\n",
       "\t<tr><td>1998.AN</td><td>1998</td><td>AN</td><td>446</td><td>1490</td><td>1936</td><td>746852</td><td>0.002592214</td><td>-0.4806927</td></tr>\n",
       "\t<tr><td>1999.AN</td><td>1999</td><td>AN</td><td>311</td><td> 824</td><td>1135</td><td>399795</td><td>0.002838955</td><td>-0.3286996</td></tr>\n",
       "</tbody>\n",
       "</table>\n"
      ],
      "text/latex": [
       "A tibble: 6 × 9\n",
       "\\begin{tabular}{lllllllll}\n",
       " doc\\_id & year & party & anti\\_elitism & people\\_centrism & populist\\_toks & total\\_toks & perc\\_of\\_populist\\_toks & standardized\\_perc\\_of\\_populist\\_toks\\\\\n",
       " <chr> & <int> & <chr> & <dbl> & <dbl> & <dbl> & <int> & <dbl> & <dbl>\\\\\n",
       "\\hline\n",
       "\t 1994.AN & 1994 & AN & 168 &  475 &  643 & 206560 & 0.003112897 & -0.1599508\\\\\n",
       "\t 1995.AN & 1995 & AN & 285 & 1024 & 1309 & 350039 & 0.003739583 &  0.2260893\\\\\n",
       "\t 1996.AN & 1996 & AN & 150 &  476 &  626 & 272610 & 0.002296321 & -0.6629634\\\\\n",
       "\t 1997.AN & 1997 & AN & 279 &  660 &  939 & 381823 & 0.002459255 & -0.5625958\\\\\n",
       "\t 1998.AN & 1998 & AN & 446 & 1490 & 1936 & 746852 & 0.002592214 & -0.4806927\\\\\n",
       "\t 1999.AN & 1999 & AN & 311 &  824 & 1135 & 399795 & 0.002838955 & -0.3286996\\\\\n",
       "\\end{tabular}\n"
      ],
      "text/markdown": [
       "\n",
       "A tibble: 6 × 9\n",
       "\n",
       "| doc_id &lt;chr&gt; | year &lt;int&gt; | party &lt;chr&gt; | anti_elitism &lt;dbl&gt; | people_centrism &lt;dbl&gt; | populist_toks &lt;dbl&gt; | total_toks &lt;int&gt; | perc_of_populist_toks &lt;dbl&gt; | standardized_perc_of_populist_toks &lt;dbl&gt; |\n",
       "|---|---|---|---|---|---|---|---|---|\n",
       "| 1994.AN | 1994 | AN | 168 |  475 |  643 | 206560 | 0.003112897 | -0.1599508 |\n",
       "| 1995.AN | 1995 | AN | 285 | 1024 | 1309 | 350039 | 0.003739583 |  0.2260893 |\n",
       "| 1996.AN | 1996 | AN | 150 |  476 |  626 | 272610 | 0.002296321 | -0.6629634 |\n",
       "| 1997.AN | 1997 | AN | 279 |  660 |  939 | 381823 | 0.002459255 | -0.5625958 |\n",
       "| 1998.AN | 1998 | AN | 446 | 1490 | 1936 | 746852 | 0.002592214 | -0.4806927 |\n",
       "| 1999.AN | 1999 | AN | 311 |  824 | 1135 | 399795 | 0.002838955 | -0.3286996 |\n",
       "\n"
      ],
      "text/plain": [
       "  doc_id  year party anti_elitism people_centrism populist_toks total_toks\n",
       "1 1994.AN 1994 AN    168           475             643          206560    \n",
       "2 1995.AN 1995 AN    285          1024            1309          350039    \n",
       "3 1996.AN 1996 AN    150           476             626          272610    \n",
       "4 1997.AN 1997 AN    279           660             939          381823    \n",
       "5 1998.AN 1998 AN    446          1490            1936          746852    \n",
       "6 1999.AN 1999 AN    311           824            1135          399795    \n",
       "  perc_of_populist_toks standardized_perc_of_populist_toks\n",
       "1 0.003112897           -0.1599508                        \n",
       "2 0.003739583            0.2260893                        \n",
       "3 0.002296321           -0.6629634                        \n",
       "4 0.002459255           -0.5625958                        \n",
       "5 0.002592214           -0.4806927                        \n",
       "6 0.002838955           -0.3286996                        "
      ]
     },
     "metadata": {},
     "output_type": "display_data"
    }
   ],
   "source": [
    "head(df_db)"
   ]
  },
  {
   "cell_type": "markdown",
   "id": "26347114",
   "metadata": {},
   "source": [
    "## Construct validity <a class=\"anchor\" id=\"subparagraph6\"></a>"
   ]
  },
  {
   "cell_type": "markdown",
   "id": "95f8eb54",
   "metadata": {},
   "source": [
    "Decadri and Boussalis' dictionary catpures both the \"anti-elitism\" and \"people-centrism\" dimenions of populist ideology and it thus constitutes an improvement over Rooduijn and Pauwels' dictionary in terms of construct validity."
   ]
  },
  {
   "cell_type": "markdown",
   "id": "b2a4a3dc",
   "metadata": {},
   "source": [
    "## Face validity <a class=\"anchor\" id=\"subparagraph7\"></a>"
   ]
  },
  {
   "cell_type": "markdown",
   "id": "6809a726",
   "metadata": {},
   "source": [
    "To assess the face validity of Decadri and Boussalis' dictionary we'll have a look at the mean % of populist tokens (both anti-establishment and people-centrism) grouped by party and year."
   ]
  },
  {
   "cell_type": "markdown",
   "id": "0adcb2c4",
   "metadata": {},
   "source": [
    "As it was the case for R&P' dictionary, both mainstream (UDEUR, FLPTP, PPI, DEMO) and populist (Lega, M5S, FDI-AN) party-year combinations received high populist scores."
   ]
  },
  {
   "cell_type": "code",
   "execution_count": 34,
   "id": "f8697cef",
   "metadata": {},
   "outputs": [
    {
     "data": {
      "text/html": [
       "<table class=\"dataframe\">\n",
       "<caption>A tibble: 20 × 9</caption>\n",
       "<thead>\n",
       "\t<tr><th scope=col>doc_id</th><th scope=col>year</th><th scope=col>party</th><th scope=col>anti_elitism</th><th scope=col>people_centrism</th><th scope=col>populist_toks</th><th scope=col>total_toks</th><th scope=col>perc_of_populist_toks</th><th scope=col>standardized_perc_of_populist_toks</th></tr>\n",
       "\t<tr><th scope=col>&lt;chr&gt;</th><th scope=col>&lt;int&gt;</th><th scope=col>&lt;chr&gt;</th><th scope=col>&lt;dbl&gt;</th><th scope=col>&lt;dbl&gt;</th><th scope=col>&lt;dbl&gt;</th><th scope=col>&lt;int&gt;</th><th scope=col>&lt;dbl&gt;</th><th scope=col>&lt;dbl&gt;</th></tr>\n",
       "</thead>\n",
       "<tbody>\n",
       "\t<tr><td>2009.SOCRAD-RNP                                                                                                                                                  </td><td>2009</td><td>SOCRAD-RNP                                                                                                                                                  </td><td>  0</td><td>  10</td><td>  10</td><td>   582</td><td>0.017182131</td><td>8.506726</td></tr>\n",
       "\t<tr><td>2008.UDEUR                                                                                                                                                       </td><td>2008</td><td>UDEUR                                                                                                                                                       </td><td>  2</td><td>  33</td><td>  35</td><td>  2338</td><td>0.014970060</td><td>7.144086</td></tr>\n",
       "\t<tr><td>2008.DCA-NPSI                                                                                                                                                    </td><td>2008</td><td>DCA-NPSI                                                                                                                                                    </td><td>  0</td><td>   3</td><td>   3</td><td>   269</td><td>0.011152416</td><td>4.792410</td></tr>\n",
       "\t<tr><td>1996.PPI                                                                                                                                                         </td><td>1996</td><td>PPI                                                                                                                                                         </td><td> 22</td><td>  72</td><td>  94</td><td>  9296</td><td>0.010111876</td><td>4.151435</td></tr>\n",
       "\t<tr><td>1996.FLD                                                                                                                                                         </td><td>1996</td><td>FLD                                                                                                                                                         </td><td>  8</td><td>  13</td><td>  21</td><td>  2894</td><td>0.007256393</td><td>2.392451</td></tr>\n",
       "\t<tr><td>2008.FLPTP                                                                                                                                                       </td><td>2008</td><td>FLPTP                                                                                                                                                       </td><td>  9</td><td> 142</td><td> 151</td><td> 23058</td><td>0.006548703</td><td>1.956513</td></tr>\n",
       "\t<tr><td>2008.SDPSE                                                                                                                                                       </td><td>2008</td><td>SDPSE                                                                                                                                                       </td><td>  4</td><td>  34</td><td>  38</td><td>  6108</td><td>0.006221349</td><td>1.754862</td></tr>\n",
       "\t<tr><td>2008.LEGA                                                                                                                                                        </td><td>2008</td><td>LEGA                                                                                                                                                        </td><td> 41</td><td> 498</td><td> 539</td><td> 94856</td><td>0.005682297</td><td>1.422805</td></tr>\n",
       "\t<tr><td>2015.LEGA                                                                                                                                                        </td><td>2015</td><td>LEGA                                                                                                                                                        </td><td> 80</td><td> 617</td><td> 697</td><td>122917</td><td>0.005670493</td><td>1.415534</td></tr>\n",
       "\t<tr><td>2014.FDI                                                                                                                                                         </td><td>2014</td><td>FDI                                                                                                                                                         </td><td> 82</td><td> 209</td><td> 291</td><td> 51695</td><td>0.005629171</td><td>1.390079</td></tr>\n",
       "\t<tr><td>1994.DEMO                                                                                                                                                        </td><td>1994</td><td>DEMO                                                                                                                                                        </td><td> 26</td><td> 183</td><td> 209</td><td> 38521</td><td>0.005425612</td><td>1.264686</td></tr>\n",
       "\t<tr><td>2017.LEGA                                                                                                                                                        </td><td>2017</td><td>LEGA                                                                                                                                                        </td><td> 72</td><td> 483</td><td> 555</td><td>103023</td><td>0.005387147</td><td>1.240992</td></tr>\n",
       "\t<tr><td>2007.UDEUR                                                                                                                                                       </td><td>2007</td><td>UDEUR                                                                                                                                                       </td><td> 20</td><td> 145</td><td> 165</td><td> 30698</td><td>0.005374943</td><td>1.233474</td></tr>\n",
       "\t<tr><td>2009.FLPTP                                                                                                                                                       </td><td>2009</td><td>FLPTP                                                                                                                                                       </td><td> 10</td><td> 156</td><td> 166</td><td> 31021</td><td>0.005351214</td><td>1.218857</td></tr>\n",
       "\t<tr><td>2006.UDEUR                                                                                                                                                       </td><td>2006</td><td>UDEUR                                                                                                                                                       </td><td> 16</td><td>  96</td><td> 112</td><td> 21052</td><td>0.005320160</td><td>1.199728</td></tr>\n",
       "\t<tr><td>2015.M5S                                                                                                                                                         </td><td>2015</td><td>M5S                                                                                                                                                         </td><td>449</td><td>2332</td><td>2781</td><td>527990</td><td>0.005267145</td><td>1.167071</td></tr>\n",
       "\t<tr><td>2010.NOI SUD-LIBERTA' ED AUTONOMIA/POPOLARI D'ITALIA DOMANI-PID/MOVIMENTO DI RESPONSABILITA' NAZIONALE-MRN/AZIONE POPOLARE/ALLEANZA DI CENTRO-ADC/INTESA POPOLARE</td><td>2010</td><td>NOI SUD-LIBERTA' ED AUTONOMIA/POPOLARI D'ITALIA DOMANI-PID/MOVIMENTO DI RESPONSABILITA' NAZIONALE-MRN/AZIONE POPOLARE/ALLEANZA DI CENTRO-ADC/INTESA POPOLARE</td><td> 24</td><td> 354</td><td> 378</td><td> 72590</td><td>0.005207329</td><td>1.130224</td></tr>\n",
       "\t<tr><td>2015.FI-PDL                                                                                                                                                      </td><td>2015</td><td>FI-PDL                                                                                                                                                      </td><td>177</td><td>1181</td><td>1358</td><td>263332</td><td>0.005156988</td><td>1.099214</td></tr>\n",
       "\t<tr><td>1994.PPI                                                                                                                                                         </td><td>1994</td><td>PPI                                                                                                                                                         </td><td> 65</td><td> 412</td><td> 477</td><td> 93286</td><td>0.005113307</td><td>1.072306</td></tr>\n",
       "\t<tr><td>2015.AP-CPE-NCD-NCI                                                                                                                                              </td><td>2015</td><td>AP-CPE-NCD-NCI                                                                                                                                              </td><td> 85</td><td> 409</td><td> 494</td><td> 96847</td><td>0.005100829</td><td>1.064620</td></tr>\n",
       "</tbody>\n",
       "</table>\n"
      ],
      "text/latex": [
       "A tibble: 20 × 9\n",
       "\\begin{tabular}{lllllllll}\n",
       " doc\\_id & year & party & anti\\_elitism & people\\_centrism & populist\\_toks & total\\_toks & perc\\_of\\_populist\\_toks & standardized\\_perc\\_of\\_populist\\_toks\\\\\n",
       " <chr> & <int> & <chr> & <dbl> & <dbl> & <dbl> & <int> & <dbl> & <dbl>\\\\\n",
       "\\hline\n",
       "\t 2009.SOCRAD-RNP                                                                                                                                                   & 2009 & SOCRAD-RNP                                                                                                                                                   &   0 &   10 &   10 &    582 & 0.017182131 & 8.506726\\\\\n",
       "\t 2008.UDEUR                                                                                                                                                        & 2008 & UDEUR                                                                                                                                                        &   2 &   33 &   35 &   2338 & 0.014970060 & 7.144086\\\\\n",
       "\t 2008.DCA-NPSI                                                                                                                                                     & 2008 & DCA-NPSI                                                                                                                                                     &   0 &    3 &    3 &    269 & 0.011152416 & 4.792410\\\\\n",
       "\t 1996.PPI                                                                                                                                                          & 1996 & PPI                                                                                                                                                          &  22 &   72 &   94 &   9296 & 0.010111876 & 4.151435\\\\\n",
       "\t 1996.FLD                                                                                                                                                          & 1996 & FLD                                                                                                                                                          &   8 &   13 &   21 &   2894 & 0.007256393 & 2.392451\\\\\n",
       "\t 2008.FLPTP                                                                                                                                                        & 2008 & FLPTP                                                                                                                                                        &   9 &  142 &  151 &  23058 & 0.006548703 & 1.956513\\\\\n",
       "\t 2008.SDPSE                                                                                                                                                        & 2008 & SDPSE                                                                                                                                                        &   4 &   34 &   38 &   6108 & 0.006221349 & 1.754862\\\\\n",
       "\t 2008.LEGA                                                                                                                                                         & 2008 & LEGA                                                                                                                                                         &  41 &  498 &  539 &  94856 & 0.005682297 & 1.422805\\\\\n",
       "\t 2015.LEGA                                                                                                                                                         & 2015 & LEGA                                                                                                                                                         &  80 &  617 &  697 & 122917 & 0.005670493 & 1.415534\\\\\n",
       "\t 2014.FDI                                                                                                                                                          & 2014 & FDI                                                                                                                                                          &  82 &  209 &  291 &  51695 & 0.005629171 & 1.390079\\\\\n",
       "\t 1994.DEMO                                                                                                                                                         & 1994 & DEMO                                                                                                                                                         &  26 &  183 &  209 &  38521 & 0.005425612 & 1.264686\\\\\n",
       "\t 2017.LEGA                                                                                                                                                         & 2017 & LEGA                                                                                                                                                         &  72 &  483 &  555 & 103023 & 0.005387147 & 1.240992\\\\\n",
       "\t 2007.UDEUR                                                                                                                                                        & 2007 & UDEUR                                                                                                                                                        &  20 &  145 &  165 &  30698 & 0.005374943 & 1.233474\\\\\n",
       "\t 2009.FLPTP                                                                                                                                                        & 2009 & FLPTP                                                                                                                                                        &  10 &  156 &  166 &  31021 & 0.005351214 & 1.218857\\\\\n",
       "\t 2006.UDEUR                                                                                                                                                        & 2006 & UDEUR                                                                                                                                                        &  16 &   96 &  112 &  21052 & 0.005320160 & 1.199728\\\\\n",
       "\t 2015.M5S                                                                                                                                                          & 2015 & M5S                                                                                                                                                          & 449 & 2332 & 2781 & 527990 & 0.005267145 & 1.167071\\\\\n",
       "\t 2010.NOI SUD-LIBERTA' ED AUTONOMIA/POPOLARI D'ITALIA DOMANI-PID/MOVIMENTO DI RESPONSABILITA' NAZIONALE-MRN/AZIONE POPOLARE/ALLEANZA DI CENTRO-ADC/INTESA POPOLARE & 2010 & NOI SUD-LIBERTA' ED AUTONOMIA/POPOLARI D'ITALIA DOMANI-PID/MOVIMENTO DI RESPONSABILITA' NAZIONALE-MRN/AZIONE POPOLARE/ALLEANZA DI CENTRO-ADC/INTESA POPOLARE &  24 &  354 &  378 &  72590 & 0.005207329 & 1.130224\\\\\n",
       "\t 2015.FI-PDL                                                                                                                                                       & 2015 & FI-PDL                                                                                                                                                       & 177 & 1181 & 1358 & 263332 & 0.005156988 & 1.099214\\\\\n",
       "\t 1994.PPI                                                                                                                                                          & 1994 & PPI                                                                                                                                                          &  65 &  412 &  477 &  93286 & 0.005113307 & 1.072306\\\\\n",
       "\t 2015.AP-CPE-NCD-NCI                                                                                                                                               & 2015 & AP-CPE-NCD-NCI                                                                                                                                               &  85 &  409 &  494 &  96847 & 0.005100829 & 1.064620\\\\\n",
       "\\end{tabular}\n"
      ],
      "text/markdown": [
       "\n",
       "A tibble: 20 × 9\n",
       "\n",
       "| doc_id &lt;chr&gt; | year &lt;int&gt; | party &lt;chr&gt; | anti_elitism &lt;dbl&gt; | people_centrism &lt;dbl&gt; | populist_toks &lt;dbl&gt; | total_toks &lt;int&gt; | perc_of_populist_toks &lt;dbl&gt; | standardized_perc_of_populist_toks &lt;dbl&gt; |\n",
       "|---|---|---|---|---|---|---|---|---|\n",
       "| 2009.SOCRAD-RNP                                                                                                                                                   | 2009 | SOCRAD-RNP                                                                                                                                                   |   0 |   10 |   10 |    582 | 0.017182131 | 8.506726 |\n",
       "| 2008.UDEUR                                                                                                                                                        | 2008 | UDEUR                                                                                                                                                        |   2 |   33 |   35 |   2338 | 0.014970060 | 7.144086 |\n",
       "| 2008.DCA-NPSI                                                                                                                                                     | 2008 | DCA-NPSI                                                                                                                                                     |   0 |    3 |    3 |    269 | 0.011152416 | 4.792410 |\n",
       "| 1996.PPI                                                                                                                                                          | 1996 | PPI                                                                                                                                                          |  22 |   72 |   94 |   9296 | 0.010111876 | 4.151435 |\n",
       "| 1996.FLD                                                                                                                                                          | 1996 | FLD                                                                                                                                                          |   8 |   13 |   21 |   2894 | 0.007256393 | 2.392451 |\n",
       "| 2008.FLPTP                                                                                                                                                        | 2008 | FLPTP                                                                                                                                                        |   9 |  142 |  151 |  23058 | 0.006548703 | 1.956513 |\n",
       "| 2008.SDPSE                                                                                                                                                        | 2008 | SDPSE                                                                                                                                                        |   4 |   34 |   38 |   6108 | 0.006221349 | 1.754862 |\n",
       "| 2008.LEGA                                                                                                                                                         | 2008 | LEGA                                                                                                                                                         |  41 |  498 |  539 |  94856 | 0.005682297 | 1.422805 |\n",
       "| 2015.LEGA                                                                                                                                                         | 2015 | LEGA                                                                                                                                                         |  80 |  617 |  697 | 122917 | 0.005670493 | 1.415534 |\n",
       "| 2014.FDI                                                                                                                                                          | 2014 | FDI                                                                                                                                                          |  82 |  209 |  291 |  51695 | 0.005629171 | 1.390079 |\n",
       "| 1994.DEMO                                                                                                                                                         | 1994 | DEMO                                                                                                                                                         |  26 |  183 |  209 |  38521 | 0.005425612 | 1.264686 |\n",
       "| 2017.LEGA                                                                                                                                                         | 2017 | LEGA                                                                                                                                                         |  72 |  483 |  555 | 103023 | 0.005387147 | 1.240992 |\n",
       "| 2007.UDEUR                                                                                                                                                        | 2007 | UDEUR                                                                                                                                                        |  20 |  145 |  165 |  30698 | 0.005374943 | 1.233474 |\n",
       "| 2009.FLPTP                                                                                                                                                        | 2009 | FLPTP                                                                                                                                                        |  10 |  156 |  166 |  31021 | 0.005351214 | 1.218857 |\n",
       "| 2006.UDEUR                                                                                                                                                        | 2006 | UDEUR                                                                                                                                                        |  16 |   96 |  112 |  21052 | 0.005320160 | 1.199728 |\n",
       "| 2015.M5S                                                                                                                                                          | 2015 | M5S                                                                                                                                                          | 449 | 2332 | 2781 | 527990 | 0.005267145 | 1.167071 |\n",
       "| 2010.NOI SUD-LIBERTA' ED AUTONOMIA/POPOLARI D'ITALIA DOMANI-PID/MOVIMENTO DI RESPONSABILITA' NAZIONALE-MRN/AZIONE POPOLARE/ALLEANZA DI CENTRO-ADC/INTESA POPOLARE | 2010 | NOI SUD-LIBERTA' ED AUTONOMIA/POPOLARI D'ITALIA DOMANI-PID/MOVIMENTO DI RESPONSABILITA' NAZIONALE-MRN/AZIONE POPOLARE/ALLEANZA DI CENTRO-ADC/INTESA POPOLARE |  24 |  354 |  378 |  72590 | 0.005207329 | 1.130224 |\n",
       "| 2015.FI-PDL                                                                                                                                                       | 2015 | FI-PDL                                                                                                                                                       | 177 | 1181 | 1358 | 263332 | 0.005156988 | 1.099214 |\n",
       "| 1994.PPI                                                                                                                                                          | 1994 | PPI                                                                                                                                                          |  65 |  412 |  477 |  93286 | 0.005113307 | 1.072306 |\n",
       "| 2015.AP-CPE-NCD-NCI                                                                                                                                               | 2015 | AP-CPE-NCD-NCI                                                                                                                                               |  85 |  409 |  494 |  96847 | 0.005100829 | 1.064620 |\n",
       "\n"
      ],
      "text/plain": [
       "   doc_id                                                                                                                                                           \n",
       "1  2009.SOCRAD-RNP                                                                                                                                                  \n",
       "2  2008.UDEUR                                                                                                                                                       \n",
       "3  2008.DCA-NPSI                                                                                                                                                    \n",
       "4  1996.PPI                                                                                                                                                         \n",
       "5  1996.FLD                                                                                                                                                         \n",
       "6  2008.FLPTP                                                                                                                                                       \n",
       "7  2008.SDPSE                                                                                                                                                       \n",
       "8  2008.LEGA                                                                                                                                                        \n",
       "9  2015.LEGA                                                                                                                                                        \n",
       "10 2014.FDI                                                                                                                                                         \n",
       "11 1994.DEMO                                                                                                                                                        \n",
       "12 2017.LEGA                                                                                                                                                        \n",
       "13 2007.UDEUR                                                                                                                                                       \n",
       "14 2009.FLPTP                                                                                                                                                       \n",
       "15 2006.UDEUR                                                                                                                                                       \n",
       "16 2015.M5S                                                                                                                                                         \n",
       "17 2010.NOI SUD-LIBERTA' ED AUTONOMIA/POPOLARI D'ITALIA DOMANI-PID/MOVIMENTO DI RESPONSABILITA' NAZIONALE-MRN/AZIONE POPOLARE/ALLEANZA DI CENTRO-ADC/INTESA POPOLARE\n",
       "18 2015.FI-PDL                                                                                                                                                      \n",
       "19 1994.PPI                                                                                                                                                         \n",
       "20 2015.AP-CPE-NCD-NCI                                                                                                                                              \n",
       "   year\n",
       "1  2009\n",
       "2  2008\n",
       "3  2008\n",
       "4  1996\n",
       "5  1996\n",
       "6  2008\n",
       "7  2008\n",
       "8  2008\n",
       "9  2015\n",
       "10 2014\n",
       "11 1994\n",
       "12 2017\n",
       "13 2007\n",
       "14 2009\n",
       "15 2006\n",
       "16 2015\n",
       "17 2010\n",
       "18 2015\n",
       "19 1994\n",
       "20 2015\n",
       "   party                                                                                                                                                       \n",
       "1  SOCRAD-RNP                                                                                                                                                  \n",
       "2  UDEUR                                                                                                                                                       \n",
       "3  DCA-NPSI                                                                                                                                                    \n",
       "4  PPI                                                                                                                                                         \n",
       "5  FLD                                                                                                                                                         \n",
       "6  FLPTP                                                                                                                                                       \n",
       "7  SDPSE                                                                                                                                                       \n",
       "8  LEGA                                                                                                                                                        \n",
       "9  LEGA                                                                                                                                                        \n",
       "10 FDI                                                                                                                                                         \n",
       "11 DEMO                                                                                                                                                        \n",
       "12 LEGA                                                                                                                                                        \n",
       "13 UDEUR                                                                                                                                                       \n",
       "14 FLPTP                                                                                                                                                       \n",
       "15 UDEUR                                                                                                                                                       \n",
       "16 M5S                                                                                                                                                         \n",
       "17 NOI SUD-LIBERTA' ED AUTONOMIA/POPOLARI D'ITALIA DOMANI-PID/MOVIMENTO DI RESPONSABILITA' NAZIONALE-MRN/AZIONE POPOLARE/ALLEANZA DI CENTRO-ADC/INTESA POPOLARE\n",
       "18 FI-PDL                                                                                                                                                      \n",
       "19 PPI                                                                                                                                                         \n",
       "20 AP-CPE-NCD-NCI                                                                                                                                              \n",
       "   anti_elitism people_centrism populist_toks total_toks perc_of_populist_toks\n",
       "1    0            10              10             582     0.017182131          \n",
       "2    2            33              35            2338     0.014970060          \n",
       "3    0             3               3             269     0.011152416          \n",
       "4   22            72              94            9296     0.010111876          \n",
       "5    8            13              21            2894     0.007256393          \n",
       "6    9           142             151           23058     0.006548703          \n",
       "7    4            34              38            6108     0.006221349          \n",
       "8   41           498             539           94856     0.005682297          \n",
       "9   80           617             697          122917     0.005670493          \n",
       "10  82           209             291           51695     0.005629171          \n",
       "11  26           183             209           38521     0.005425612          \n",
       "12  72           483             555          103023     0.005387147          \n",
       "13  20           145             165           30698     0.005374943          \n",
       "14  10           156             166           31021     0.005351214          \n",
       "15  16            96             112           21052     0.005320160          \n",
       "16 449          2332            2781          527990     0.005267145          \n",
       "17  24           354             378           72590     0.005207329          \n",
       "18 177          1181            1358          263332     0.005156988          \n",
       "19  65           412             477           93286     0.005113307          \n",
       "20  85           409             494           96847     0.005100829          \n",
       "   standardized_perc_of_populist_toks\n",
       "1  8.506726                          \n",
       "2  7.144086                          \n",
       "3  4.792410                          \n",
       "4  4.151435                          \n",
       "5  2.392451                          \n",
       "6  1.956513                          \n",
       "7  1.754862                          \n",
       "8  1.422805                          \n",
       "9  1.415534                          \n",
       "10 1.390079                          \n",
       "11 1.264686                          \n",
       "12 1.240992                          \n",
       "13 1.233474                          \n",
       "14 1.218857                          \n",
       "15 1.199728                          \n",
       "16 1.167071                          \n",
       "17 1.130224                          \n",
       "18 1.099214                          \n",
       "19 1.072306                          \n",
       "20 1.064620                          "
      ]
     },
     "metadata": {},
     "output_type": "display_data"
    }
   ],
   "source": [
    "df_db %>% \n",
    "arrange(desc(standardized_perc_of_populist_toks)) %>% \n",
    "head(20)"
   ]
  },
  {
   "cell_type": "markdown",
   "id": "2dde4e46",
   "metadata": {},
   "source": [
    "Similarly, when we look at the party-year combinations with the lowest populist scores we find both mainstream and populist parties. This seems to suggest that D&B' dictionary lacks face validity."
   ]
  },
  {
   "cell_type": "code",
   "execution_count": 35,
   "id": "6d2b7b10",
   "metadata": {},
   "outputs": [
    {
     "data": {
      "text/html": [
       "<table class=\"dataframe\">\n",
       "<caption>A tibble: 20 × 9</caption>\n",
       "<thead>\n",
       "\t<tr><th scope=col>doc_id</th><th scope=col>year</th><th scope=col>party</th><th scope=col>anti_elitism</th><th scope=col>people_centrism</th><th scope=col>populist_toks</th><th scope=col>total_toks</th><th scope=col>perc_of_populist_toks</th><th scope=col>standardized_perc_of_populist_toks</th></tr>\n",
       "\t<tr><th scope=col>&lt;chr&gt;</th><th scope=col>&lt;int&gt;</th><th scope=col>&lt;chr&gt;</th><th scope=col>&lt;dbl&gt;</th><th scope=col>&lt;dbl&gt;</th><th scope=col>&lt;dbl&gt;</th><th scope=col>&lt;int&gt;</th><th scope=col>&lt;dbl&gt;</th><th scope=col>&lt;dbl&gt;</th></tr>\n",
       "</thead>\n",
       "<tbody>\n",
       "\t<tr><td>2018.CI        </td><td>2018</td><td>CI        </td><td>  0</td><td>  0</td><td>  0</td><td>   550</td><td>0.0000000000</td><td>-2.0775017</td></tr>\n",
       "\t<tr><td>2008.COM/IT/   </td><td>2008</td><td>COM/IT/   </td><td>  0</td><td>  0</td><td>  0</td><td>   770</td><td>0.0000000000</td><td>-2.0775017</td></tr>\n",
       "\t<tr><td>2009.DCA-NPSI  </td><td>2009</td><td>DCA-NPSI  </td><td>  0</td><td>  0</td><td>  0</td><td>    26</td><td>0.0000000000</td><td>-2.0775017</td></tr>\n",
       "\t<tr><td>2013.FLPTP     </td><td>2013</td><td>FLPTP     </td><td>  0</td><td>  0</td><td>  0</td><td>     2</td><td>0.0000000000</td><td>-2.0775017</td></tr>\n",
       "\t<tr><td>1994.LIFED     </td><td>1994</td><td>LIFED     </td><td>  0</td><td>  0</td><td>  0</td><td>   217</td><td>0.0000000000</td><td>-2.0775017</td></tr>\n",
       "\t<tr><td>1996.LIFED     </td><td>1996</td><td>LIFED     </td><td>  0</td><td>  0</td><td>  0</td><td>   979</td><td>0.0000000000</td><td>-2.0775017</td></tr>\n",
       "\t<tr><td>2009.SDPSE     </td><td>2009</td><td>SDPSE     </td><td>  0</td><td>  0</td><td>  0</td><td>    80</td><td>0.0000000000</td><td>-2.0775017</td></tr>\n",
       "\t<tr><td>2016.DES-CD    </td><td>2016</td><td>DES-CD    </td><td>  1</td><td>  3</td><td>  4</td><td>  5886</td><td>0.0006795787</td><td>-1.6588799</td></tr>\n",
       "\t<tr><td>1996.UDEUR     </td><td>1996</td><td>UDEUR     </td><td> 10</td><td> 13</td><td> 23</td><td> 29778</td><td>0.0007723823</td><td>-1.6017127</td></tr>\n",
       "\t<tr><td>2001.UDR       </td><td>2001</td><td>UDR       </td><td>  2</td><td>  2</td><td>  4</td><td>  4213</td><td>0.0009494422</td><td>-1.4926434</td></tr>\n",
       "\t<tr><td>2014.DES-CD    </td><td>2014</td><td>DES-CD    </td><td>  1</td><td> 10</td><td> 11</td><td>  9057</td><td>0.0012145302</td><td>-1.3293486</td></tr>\n",
       "\t<tr><td>1997.UDEUR     </td><td>1997</td><td>UDEUR     </td><td> 15</td><td> 32</td><td> 47</td><td> 33556</td><td>0.0014006437</td><td>-1.2147023</td></tr>\n",
       "\t<tr><td>2008.SOCRAD-RNP</td><td>2008</td><td>SOCRAD-RNP</td><td>  0</td><td>  5</td><td>  5</td><td>  3183</td><td>0.0015708451</td><td>-1.1098579</td></tr>\n",
       "\t<tr><td>1995.LIFED     </td><td>1995</td><td>LIFED     </td><td>  0</td><td>  3</td><td>  3</td><td>  1870</td><td>0.0016042781</td><td>-1.0892631</td></tr>\n",
       "\t<tr><td>2020.LEU       </td><td>2020</td><td>LEU       </td><td>  9</td><td>  9</td><td> 18</td><td> 10470</td><td>0.0017191977</td><td>-1.0184724</td></tr>\n",
       "\t<tr><td>2009.RC        </td><td>2009</td><td>RC        </td><td>  1</td><td>  1</td><td>  2</td><td>  1154</td><td>0.0017331023</td><td>-1.0099072</td></tr>\n",
       "\t<tr><td>2002.FI-PDL    </td><td>2002</td><td>FI-PDL    </td><td>117</td><td>457</td><td>574</td><td>327438</td><td>0.0017530036</td><td>-0.9976479</td></tr>\n",
       "\t<tr><td>2000.UDEUR     </td><td>2000</td><td>UDEUR     </td><td>  6</td><td> 53</td><td> 59</td><td> 32843</td><td>0.0017964254</td><td>-0.9709000</td></tr>\n",
       "\t<tr><td>1996.PD-ULIVO  </td><td>1996</td><td>PD-ULIVO  </td><td>117</td><td>551</td><td>668</td><td>369702</td><td>0.0018068607</td><td>-0.9644718</td></tr>\n",
       "\t<tr><td>2002.AN        </td><td>2002</td><td>AN        </td><td>102</td><td>267</td><td>369</td><td>199124</td><td>0.0018531167</td><td>-0.9359781</td></tr>\n",
       "</tbody>\n",
       "</table>\n"
      ],
      "text/latex": [
       "A tibble: 20 × 9\n",
       "\\begin{tabular}{lllllllll}\n",
       " doc\\_id & year & party & anti\\_elitism & people\\_centrism & populist\\_toks & total\\_toks & perc\\_of\\_populist\\_toks & standardized\\_perc\\_of\\_populist\\_toks\\\\\n",
       " <chr> & <int> & <chr> & <dbl> & <dbl> & <dbl> & <int> & <dbl> & <dbl>\\\\\n",
       "\\hline\n",
       "\t 2018.CI         & 2018 & CI         &   0 &   0 &   0 &    550 & 0.0000000000 & -2.0775017\\\\\n",
       "\t 2008.COM/IT/    & 2008 & COM/IT/    &   0 &   0 &   0 &    770 & 0.0000000000 & -2.0775017\\\\\n",
       "\t 2009.DCA-NPSI   & 2009 & DCA-NPSI   &   0 &   0 &   0 &     26 & 0.0000000000 & -2.0775017\\\\\n",
       "\t 2013.FLPTP      & 2013 & FLPTP      &   0 &   0 &   0 &      2 & 0.0000000000 & -2.0775017\\\\\n",
       "\t 1994.LIFED      & 1994 & LIFED      &   0 &   0 &   0 &    217 & 0.0000000000 & -2.0775017\\\\\n",
       "\t 1996.LIFED      & 1996 & LIFED      &   0 &   0 &   0 &    979 & 0.0000000000 & -2.0775017\\\\\n",
       "\t 2009.SDPSE      & 2009 & SDPSE      &   0 &   0 &   0 &     80 & 0.0000000000 & -2.0775017\\\\\n",
       "\t 2016.DES-CD     & 2016 & DES-CD     &   1 &   3 &   4 &   5886 & 0.0006795787 & -1.6588799\\\\\n",
       "\t 1996.UDEUR      & 1996 & UDEUR      &  10 &  13 &  23 &  29778 & 0.0007723823 & -1.6017127\\\\\n",
       "\t 2001.UDR        & 2001 & UDR        &   2 &   2 &   4 &   4213 & 0.0009494422 & -1.4926434\\\\\n",
       "\t 2014.DES-CD     & 2014 & DES-CD     &   1 &  10 &  11 &   9057 & 0.0012145302 & -1.3293486\\\\\n",
       "\t 1997.UDEUR      & 1997 & UDEUR      &  15 &  32 &  47 &  33556 & 0.0014006437 & -1.2147023\\\\\n",
       "\t 2008.SOCRAD-RNP & 2008 & SOCRAD-RNP &   0 &   5 &   5 &   3183 & 0.0015708451 & -1.1098579\\\\\n",
       "\t 1995.LIFED      & 1995 & LIFED      &   0 &   3 &   3 &   1870 & 0.0016042781 & -1.0892631\\\\\n",
       "\t 2020.LEU        & 2020 & LEU        &   9 &   9 &  18 &  10470 & 0.0017191977 & -1.0184724\\\\\n",
       "\t 2009.RC         & 2009 & RC         &   1 &   1 &   2 &   1154 & 0.0017331023 & -1.0099072\\\\\n",
       "\t 2002.FI-PDL     & 2002 & FI-PDL     & 117 & 457 & 574 & 327438 & 0.0017530036 & -0.9976479\\\\\n",
       "\t 2000.UDEUR      & 2000 & UDEUR      &   6 &  53 &  59 &  32843 & 0.0017964254 & -0.9709000\\\\\n",
       "\t 1996.PD-ULIVO   & 1996 & PD-ULIVO   & 117 & 551 & 668 & 369702 & 0.0018068607 & -0.9644718\\\\\n",
       "\t 2002.AN         & 2002 & AN         & 102 & 267 & 369 & 199124 & 0.0018531167 & -0.9359781\\\\\n",
       "\\end{tabular}\n"
      ],
      "text/markdown": [
       "\n",
       "A tibble: 20 × 9\n",
       "\n",
       "| doc_id &lt;chr&gt; | year &lt;int&gt; | party &lt;chr&gt; | anti_elitism &lt;dbl&gt; | people_centrism &lt;dbl&gt; | populist_toks &lt;dbl&gt; | total_toks &lt;int&gt; | perc_of_populist_toks &lt;dbl&gt; | standardized_perc_of_populist_toks &lt;dbl&gt; |\n",
       "|---|---|---|---|---|---|---|---|---|\n",
       "| 2018.CI         | 2018 | CI         |   0 |   0 |   0 |    550 | 0.0000000000 | -2.0775017 |\n",
       "| 2008.COM/IT/    | 2008 | COM/IT/    |   0 |   0 |   0 |    770 | 0.0000000000 | -2.0775017 |\n",
       "| 2009.DCA-NPSI   | 2009 | DCA-NPSI   |   0 |   0 |   0 |     26 | 0.0000000000 | -2.0775017 |\n",
       "| 2013.FLPTP      | 2013 | FLPTP      |   0 |   0 |   0 |      2 | 0.0000000000 | -2.0775017 |\n",
       "| 1994.LIFED      | 1994 | LIFED      |   0 |   0 |   0 |    217 | 0.0000000000 | -2.0775017 |\n",
       "| 1996.LIFED      | 1996 | LIFED      |   0 |   0 |   0 |    979 | 0.0000000000 | -2.0775017 |\n",
       "| 2009.SDPSE      | 2009 | SDPSE      |   0 |   0 |   0 |     80 | 0.0000000000 | -2.0775017 |\n",
       "| 2016.DES-CD     | 2016 | DES-CD     |   1 |   3 |   4 |   5886 | 0.0006795787 | -1.6588799 |\n",
       "| 1996.UDEUR      | 1996 | UDEUR      |  10 |  13 |  23 |  29778 | 0.0007723823 | -1.6017127 |\n",
       "| 2001.UDR        | 2001 | UDR        |   2 |   2 |   4 |   4213 | 0.0009494422 | -1.4926434 |\n",
       "| 2014.DES-CD     | 2014 | DES-CD     |   1 |  10 |  11 |   9057 | 0.0012145302 | -1.3293486 |\n",
       "| 1997.UDEUR      | 1997 | UDEUR      |  15 |  32 |  47 |  33556 | 0.0014006437 | -1.2147023 |\n",
       "| 2008.SOCRAD-RNP | 2008 | SOCRAD-RNP |   0 |   5 |   5 |   3183 | 0.0015708451 | -1.1098579 |\n",
       "| 1995.LIFED      | 1995 | LIFED      |   0 |   3 |   3 |   1870 | 0.0016042781 | -1.0892631 |\n",
       "| 2020.LEU        | 2020 | LEU        |   9 |   9 |  18 |  10470 | 0.0017191977 | -1.0184724 |\n",
       "| 2009.RC         | 2009 | RC         |   1 |   1 |   2 |   1154 | 0.0017331023 | -1.0099072 |\n",
       "| 2002.FI-PDL     | 2002 | FI-PDL     | 117 | 457 | 574 | 327438 | 0.0017530036 | -0.9976479 |\n",
       "| 2000.UDEUR      | 2000 | UDEUR      |   6 |  53 |  59 |  32843 | 0.0017964254 | -0.9709000 |\n",
       "| 1996.PD-ULIVO   | 1996 | PD-ULIVO   | 117 | 551 | 668 | 369702 | 0.0018068607 | -0.9644718 |\n",
       "| 2002.AN         | 2002 | AN         | 102 | 267 | 369 | 199124 | 0.0018531167 | -0.9359781 |\n",
       "\n"
      ],
      "text/plain": [
       "   doc_id          year party      anti_elitism people_centrism populist_toks\n",
       "1  2018.CI         2018 CI           0            0               0          \n",
       "2  2008.COM/IT/    2008 COM/IT/      0            0               0          \n",
       "3  2009.DCA-NPSI   2009 DCA-NPSI     0            0               0          \n",
       "4  2013.FLPTP      2013 FLPTP        0            0               0          \n",
       "5  1994.LIFED      1994 LIFED        0            0               0          \n",
       "6  1996.LIFED      1996 LIFED        0            0               0          \n",
       "7  2009.SDPSE      2009 SDPSE        0            0               0          \n",
       "8  2016.DES-CD     2016 DES-CD       1            3               4          \n",
       "9  1996.UDEUR      1996 UDEUR       10           13              23          \n",
       "10 2001.UDR        2001 UDR          2            2               4          \n",
       "11 2014.DES-CD     2014 DES-CD       1           10              11          \n",
       "12 1997.UDEUR      1997 UDEUR       15           32              47          \n",
       "13 2008.SOCRAD-RNP 2008 SOCRAD-RNP   0            5               5          \n",
       "14 1995.LIFED      1995 LIFED        0            3               3          \n",
       "15 2020.LEU        2020 LEU          9            9              18          \n",
       "16 2009.RC         2009 RC           1            1               2          \n",
       "17 2002.FI-PDL     2002 FI-PDL     117          457             574          \n",
       "18 2000.UDEUR      2000 UDEUR        6           53              59          \n",
       "19 1996.PD-ULIVO   1996 PD-ULIVO   117          551             668          \n",
       "20 2002.AN         2002 AN         102          267             369          \n",
       "   total_toks perc_of_populist_toks standardized_perc_of_populist_toks\n",
       "1     550     0.0000000000          -2.0775017                        \n",
       "2     770     0.0000000000          -2.0775017                        \n",
       "3      26     0.0000000000          -2.0775017                        \n",
       "4       2     0.0000000000          -2.0775017                        \n",
       "5     217     0.0000000000          -2.0775017                        \n",
       "6     979     0.0000000000          -2.0775017                        \n",
       "7      80     0.0000000000          -2.0775017                        \n",
       "8    5886     0.0006795787          -1.6588799                        \n",
       "9   29778     0.0007723823          -1.6017127                        \n",
       "10   4213     0.0009494422          -1.4926434                        \n",
       "11   9057     0.0012145302          -1.3293486                        \n",
       "12  33556     0.0014006437          -1.2147023                        \n",
       "13   3183     0.0015708451          -1.1098579                        \n",
       "14   1870     0.0016042781          -1.0892631                        \n",
       "15  10470     0.0017191977          -1.0184724                        \n",
       "16   1154     0.0017331023          -1.0099072                        \n",
       "17 327438     0.0017530036          -0.9976479                        \n",
       "18  32843     0.0017964254          -0.9709000                        \n",
       "19 369702     0.0018068607          -0.9644718                        \n",
       "20 199124     0.0018531167          -0.9359781                        "
      ]
     },
     "metadata": {},
     "output_type": "display_data"
    }
   ],
   "source": [
    "df_db %>% \n",
    "arrange(desc(standardized_perc_of_populist_toks)) %>% \n",
    "tail(20) %>% \n",
    "arrange(standardized_perc_of_populist_toks)"
   ]
  },
  {
   "cell_type": "markdown",
   "id": "2d05b827",
   "metadata": {},
   "source": [
    "## External validity <a class=\"anchor\" id=\"subparagraph8\"></a>"
   ]
  },
  {
   "cell_type": "markdown",
   "id": "e83c7d29",
   "metadata": {},
   "source": [
    "### Chapel Hill Expert Survey <a class=\"anchor\" id=\"subparagraph9\"></a>"
   ]
  },
  {
   "cell_type": "markdown",
   "id": "554e790f",
   "metadata": {},
   "source": [
    "As Decadri and Boussalis' dictionary captures both dimensions of populism we will validate it against a combination of two different variables from the CHES dataset, i.e. \"anti-élite salience\" and \"people_vs_élite\". We'll use the former as a proxy for the anti-establishment component and the latter as a proxy for the people-centrist one. The \"people_vs_élite\" variable has been introduced in the 2019 edition of the dataset, so we'll only work with observations from that year."
   ]
  },
  {
   "cell_type": "markdown",
   "id": "0f1612f4",
   "metadata": {},
   "source": [
    "The following are the Italian parties in the CHES dataset for the year 2019"
   ]
  },
  {
   "cell_type": "code",
   "execution_count": 36,
   "id": "f7f1416f",
   "metadata": {},
   "outputs": [
    {
     "data": {
      "text/html": [
       "<table class=\"dataframe\">\n",
       "<caption>A tibble: 8 × 3</caption>\n",
       "<thead>\n",
       "\t<tr><th scope=col>party</th><th scope=col>antielite_salience</th><th scope=col>people_vs_elite</th></tr>\n",
       "\t<tr><th scope=col>&lt;chr&gt;</th><th scope=col>&lt;dbl&gt;</th><th scope=col>&lt;dbl&gt;</th></tr>\n",
       "</thead>\n",
       "<tbody>\n",
       "\t<tr><td>RI </td><td>2.200000</td><td>3.357143</td></tr>\n",
       "\t<tr><td>M5S</td><td>8.888889</td><td>9.529411</td></tr>\n",
       "\t<tr><td>SI </td><td>3.785714</td><td>2.666667</td></tr>\n",
       "\t<tr><td>FdI</td><td>8.000000</td><td>6.625000</td></tr>\n",
       "\t<tr><td>PD </td><td>1.882353</td><td>2.062500</td></tr>\n",
       "\t<tr><td>LN </td><td>8.333333</td><td>6.937500</td></tr>\n",
       "\t<tr><td>SVP</td><td>2.166667</td><td>1.400000</td></tr>\n",
       "\t<tr><td>FI </td><td>4.176471</td><td>4.066667</td></tr>\n",
       "</tbody>\n",
       "</table>\n"
      ],
      "text/latex": [
       "A tibble: 8 × 3\n",
       "\\begin{tabular}{lll}\n",
       " party & antielite\\_salience & people\\_vs\\_elite\\\\\n",
       " <chr> & <dbl> & <dbl>\\\\\n",
       "\\hline\n",
       "\t RI  & 2.200000 & 3.357143\\\\\n",
       "\t M5S & 8.888889 & 9.529411\\\\\n",
       "\t SI  & 3.785714 & 2.666667\\\\\n",
       "\t FdI & 8.000000 & 6.625000\\\\\n",
       "\t PD  & 1.882353 & 2.062500\\\\\n",
       "\t LN  & 8.333333 & 6.937500\\\\\n",
       "\t SVP & 2.166667 & 1.400000\\\\\n",
       "\t FI  & 4.176471 & 4.066667\\\\\n",
       "\\end{tabular}\n"
      ],
      "text/markdown": [
       "\n",
       "A tibble: 8 × 3\n",
       "\n",
       "| party &lt;chr&gt; | antielite_salience &lt;dbl&gt; | people_vs_elite &lt;dbl&gt; |\n",
       "|---|---|---|\n",
       "| RI  | 2.200000 | 3.357143 |\n",
       "| M5S | 8.888889 | 9.529411 |\n",
       "| SI  | 3.785714 | 2.666667 |\n",
       "| FdI | 8.000000 | 6.625000 |\n",
       "| PD  | 1.882353 | 2.062500 |\n",
       "| LN  | 8.333333 | 6.937500 |\n",
       "| SVP | 2.166667 | 1.400000 |\n",
       "| FI  | 4.176471 | 4.066667 |\n",
       "\n"
      ],
      "text/plain": [
       "  party antielite_salience people_vs_elite\n",
       "1 RI    2.200000           3.357143       \n",
       "2 M5S   8.888889           9.529411       \n",
       "3 SI    3.785714           2.666667       \n",
       "4 FdI   8.000000           6.625000       \n",
       "5 PD    1.882353           2.062500       \n",
       "6 LN    8.333333           6.937500       \n",
       "7 SVP   2.166667           1.400000       \n",
       "8 FI    4.176471           4.066667       "
      ]
     },
     "metadata": {},
     "output_type": "display_data"
    }
   ],
   "source": [
    "ches %>% filter(country == 8 & year == 2019) %>% select(party, antielite_salience, people_vs_elite)"
   ]
  },
  {
   "cell_type": "markdown",
   "id": "26641c92",
   "metadata": {},
   "source": [
    "The parties in our dataset in the same year"
   ]
  },
  {
   "cell_type": "code",
   "execution_count": 37,
   "id": "5a9f0641",
   "metadata": {},
   "outputs": [
    {
     "data": {
      "text/html": [
       "<table class=\"dataframe\">\n",
       "<caption>A tibble: 8 × 1</caption>\n",
       "<thead>\n",
       "\t<tr><th scope=col>party</th></tr>\n",
       "\t<tr><th scope=col>&lt;chr&gt;</th></tr>\n",
       "</thead>\n",
       "<tbody>\n",
       "\t<tr><td>FDI     </td></tr>\n",
       "\t<tr><td>FI-PDL  </td></tr>\n",
       "\t<tr><td>IV      </td></tr>\n",
       "\t<tr><td>LEGA    </td></tr>\n",
       "\t<tr><td>LEU     </td></tr>\n",
       "\t<tr><td>M5S     </td></tr>\n",
       "\t<tr><td>MISTO   </td></tr>\n",
       "\t<tr><td>PD-ULIVO</td></tr>\n",
       "</tbody>\n",
       "</table>\n"
      ],
      "text/latex": [
       "A tibble: 8 × 1\n",
       "\\begin{tabular}{l}\n",
       " party\\\\\n",
       " <chr>\\\\\n",
       "\\hline\n",
       "\t FDI     \\\\\n",
       "\t FI-PDL  \\\\\n",
       "\t IV      \\\\\n",
       "\t LEGA    \\\\\n",
       "\t LEU     \\\\\n",
       "\t M5S     \\\\\n",
       "\t MISTO   \\\\\n",
       "\t PD-ULIVO\\\\\n",
       "\\end{tabular}\n"
      ],
      "text/markdown": [
       "\n",
       "A tibble: 8 × 1\n",
       "\n",
       "| party &lt;chr&gt; |\n",
       "|---|\n",
       "| FDI      |\n",
       "| FI-PDL   |\n",
       "| IV       |\n",
       "| LEGA     |\n",
       "| LEU      |\n",
       "| M5S      |\n",
       "| MISTO    |\n",
       "| PD-ULIVO |\n",
       "\n"
      ],
      "text/plain": [
       "  party   \n",
       "1 FDI     \n",
       "2 FI-PDL  \n",
       "3 IV      \n",
       "4 LEGA    \n",
       "5 LEU     \n",
       "6 M5S     \n",
       "7 MISTO   \n",
       "8 PD-ULIVO"
      ]
     },
     "metadata": {},
     "output_type": "display_data"
    }
   ],
   "source": [
    "df_db %>% filter(year == 2019) %>% distinct(party)"
   ]
  },
  {
   "cell_type": "markdown",
   "id": "95b782cf",
   "metadata": {},
   "source": [
    "Let's compute the average populist value for each party in the CHES dataset by summing the people vs elite and the anti-elite salience variables and then taking the mean. \"Radicali Italiani\" and \"Südtiroler Volkspartei\" are not in our dataset so we'll drop them from CHES."
   ]
  },
  {
   "cell_type": "code",
   "execution_count": 38,
   "id": "71f205d8",
   "metadata": {},
   "outputs": [
    {
     "data": {
      "text/html": [
       "<table class=\"dataframe\">\n",
       "<caption>A tibble: 6 × 2</caption>\n",
       "<thead>\n",
       "\t<tr><th scope=col>party</th><th scope=col>mean_populism</th></tr>\n",
       "\t<tr><th scope=col>&lt;chr&gt;</th><th scope=col>&lt;dbl&gt;</th></tr>\n",
       "</thead>\n",
       "<tbody>\n",
       "\t<tr><td>M5S</td><td>18.418301</td></tr>\n",
       "\t<tr><td>LN </td><td>15.270833</td></tr>\n",
       "\t<tr><td>FdI</td><td>14.625000</td></tr>\n",
       "\t<tr><td>FI </td><td> 8.243137</td></tr>\n",
       "\t<tr><td>SI </td><td> 6.452381</td></tr>\n",
       "\t<tr><td>PD </td><td> 3.944853</td></tr>\n",
       "</tbody>\n",
       "</table>\n"
      ],
      "text/latex": [
       "A tibble: 6 × 2\n",
       "\\begin{tabular}{ll}\n",
       " party & mean\\_populism\\\\\n",
       " <chr> & <dbl>\\\\\n",
       "\\hline\n",
       "\t M5S & 18.418301\\\\\n",
       "\t LN  & 15.270833\\\\\n",
       "\t FdI & 14.625000\\\\\n",
       "\t FI  &  8.243137\\\\\n",
       "\t SI  &  6.452381\\\\\n",
       "\t PD  &  3.944853\\\\\n",
       "\\end{tabular}\n"
      ],
      "text/markdown": [
       "\n",
       "A tibble: 6 × 2\n",
       "\n",
       "| party &lt;chr&gt; | mean_populism &lt;dbl&gt; |\n",
       "|---|---|\n",
       "| M5S | 18.418301 |\n",
       "| LN  | 15.270833 |\n",
       "| FdI | 14.625000 |\n",
       "| FI  |  8.243137 |\n",
       "| SI  |  6.452381 |\n",
       "| PD  |  3.944853 |\n",
       "\n"
      ],
      "text/plain": [
       "  party mean_populism\n",
       "1 M5S   18.418301    \n",
       "2 LN    15.270833    \n",
       "3 FdI   14.625000    \n",
       "4 FI     8.243137    \n",
       "5 SI     6.452381    \n",
       "6 PD     3.944853    "
      ]
     },
     "metadata": {},
     "output_type": "display_data"
    }
   ],
   "source": [
    "to_drop <- c(\"RI\", \"SVP\")\n",
    "\n",
    "ches %>% \n",
    "filter(country == 8 & year == 2019 & (!party %in% to_drop)) %>% \n",
    "group_by(party) %>% \n",
    "summarize(mean_populism = mean(people_vs_elite + antielite_salience)) %>% \n",
    "arrange(desc(mean_populism))"
   ]
  },
  {
   "cell_type": "markdown",
   "id": "5505e7e0",
   "metadata": {},
   "source": [
    "The two rankings are rather different. According to CHES, M5S and Lega rank as the two most populist parties, whereas in the results of the dictionary analysis they turned out to be the least populist ones."
   ]
  },
  {
   "cell_type": "code",
   "execution_count": 39,
   "id": "74863e6c",
   "metadata": {},
   "outputs": [
    {
     "data": {
      "text/html": [
       "<table class=\"dataframe\">\n",
       "<caption>A tibble: 6 × 9</caption>\n",
       "<thead>\n",
       "\t<tr><th scope=col>doc_id</th><th scope=col>year</th><th scope=col>party</th><th scope=col>anti_elitism</th><th scope=col>people_centrism</th><th scope=col>populist_toks</th><th scope=col>total_toks</th><th scope=col>perc_of_populist_toks</th><th scope=col>standardized_perc_of_populist_toks</th></tr>\n",
       "\t<tr><th scope=col>&lt;chr&gt;</th><th scope=col>&lt;int&gt;</th><th scope=col>&lt;chr&gt;</th><th scope=col>&lt;dbl&gt;</th><th scope=col>&lt;dbl&gt;</th><th scope=col>&lt;dbl&gt;</th><th scope=col>&lt;int&gt;</th><th scope=col>&lt;dbl&gt;</th><th scope=col>&lt;dbl&gt;</th></tr>\n",
       "</thead>\n",
       "<tbody>\n",
       "\t<tr><td>2019.FI-PDL  </td><td>2019</td><td>FI-PDL  </td><td>383</td><td>2108</td><td>2491</td><td>533560</td><td>0.004668641</td><td>0.79839064</td></tr>\n",
       "\t<tr><td>2019.FDI     </td><td>2019</td><td>FDI     </td><td>226</td><td> 823</td><td>1049</td><td>262423</td><td>0.003997363</td><td>0.38488214</td></tr>\n",
       "\t<tr><td>2019.PD-ULIVO</td><td>2019</td><td>PD-ULIVO</td><td>512</td><td>1638</td><td>2150</td><td>557509</td><td>0.003856440</td><td>0.29807325</td></tr>\n",
       "\t<tr><td>2019.LEU     </td><td>2019</td><td>LEU     </td><td> 38</td><td> 160</td><td> 198</td><td> 53261</td><td>0.003717542</td><td>0.21251175</td></tr>\n",
       "\t<tr><td>2019.LEGA    </td><td>2019</td><td>LEGA    </td><td>144</td><td> 603</td><td> 747</td><td>214370</td><td>0.003484629</td><td>0.06903715</td></tr>\n",
       "\t<tr><td>2019.M5S     </td><td>2019</td><td>M5S     </td><td>204</td><td>1547</td><td>1751</td><td>509145</td><td>0.003439099</td><td>0.04099027</td></tr>\n",
       "</tbody>\n",
       "</table>\n"
      ],
      "text/latex": [
       "A tibble: 6 × 9\n",
       "\\begin{tabular}{lllllllll}\n",
       " doc\\_id & year & party & anti\\_elitism & people\\_centrism & populist\\_toks & total\\_toks & perc\\_of\\_populist\\_toks & standardized\\_perc\\_of\\_populist\\_toks\\\\\n",
       " <chr> & <int> & <chr> & <dbl> & <dbl> & <dbl> & <int> & <dbl> & <dbl>\\\\\n",
       "\\hline\n",
       "\t 2019.FI-PDL   & 2019 & FI-PDL   & 383 & 2108 & 2491 & 533560 & 0.004668641 & 0.79839064\\\\\n",
       "\t 2019.FDI      & 2019 & FDI      & 226 &  823 & 1049 & 262423 & 0.003997363 & 0.38488214\\\\\n",
       "\t 2019.PD-ULIVO & 2019 & PD-ULIVO & 512 & 1638 & 2150 & 557509 & 0.003856440 & 0.29807325\\\\\n",
       "\t 2019.LEU      & 2019 & LEU      &  38 &  160 &  198 &  53261 & 0.003717542 & 0.21251175\\\\\n",
       "\t 2019.LEGA     & 2019 & LEGA     & 144 &  603 &  747 & 214370 & 0.003484629 & 0.06903715\\\\\n",
       "\t 2019.M5S      & 2019 & M5S      & 204 & 1547 & 1751 & 509145 & 0.003439099 & 0.04099027\\\\\n",
       "\\end{tabular}\n"
      ],
      "text/markdown": [
       "\n",
       "A tibble: 6 × 9\n",
       "\n",
       "| doc_id &lt;chr&gt; | year &lt;int&gt; | party &lt;chr&gt; | anti_elitism &lt;dbl&gt; | people_centrism &lt;dbl&gt; | populist_toks &lt;dbl&gt; | total_toks &lt;int&gt; | perc_of_populist_toks &lt;dbl&gt; | standardized_perc_of_populist_toks &lt;dbl&gt; |\n",
       "|---|---|---|---|---|---|---|---|---|\n",
       "| 2019.FI-PDL   | 2019 | FI-PDL   | 383 | 2108 | 2491 | 533560 | 0.004668641 | 0.79839064 |\n",
       "| 2019.FDI      | 2019 | FDI      | 226 |  823 | 1049 | 262423 | 0.003997363 | 0.38488214 |\n",
       "| 2019.PD-ULIVO | 2019 | PD-ULIVO | 512 | 1638 | 2150 | 557509 | 0.003856440 | 0.29807325 |\n",
       "| 2019.LEU      | 2019 | LEU      |  38 |  160 |  198 |  53261 | 0.003717542 | 0.21251175 |\n",
       "| 2019.LEGA     | 2019 | LEGA     | 144 |  603 |  747 | 214370 | 0.003484629 | 0.06903715 |\n",
       "| 2019.M5S      | 2019 | M5S      | 204 | 1547 | 1751 | 509145 | 0.003439099 | 0.04099027 |\n",
       "\n"
      ],
      "text/plain": [
       "  doc_id        year party    anti_elitism people_centrism populist_toks\n",
       "1 2019.FI-PDL   2019 FI-PDL   383          2108            2491         \n",
       "2 2019.FDI      2019 FDI      226           823            1049         \n",
       "3 2019.PD-ULIVO 2019 PD-ULIVO 512          1638            2150         \n",
       "4 2019.LEU      2019 LEU       38           160             198         \n",
       "5 2019.LEGA     2019 LEGA     144           603             747         \n",
       "6 2019.M5S      2019 M5S      204          1547            1751         \n",
       "  total_toks perc_of_populist_toks standardized_perc_of_populist_toks\n",
       "1 533560     0.004668641           0.79839064                        \n",
       "2 262423     0.003997363           0.38488214                        \n",
       "3 557509     0.003856440           0.29807325                        \n",
       "4  53261     0.003717542           0.21251175                        \n",
       "5 214370     0.003484629           0.06903715                        \n",
       "6 509145     0.003439099           0.04099027                        "
      ]
     },
     "metadata": {},
     "output_type": "display_data"
    }
   ],
   "source": [
    "to_drop <- c(\"IV\", \"MISTO\")\n",
    "\n",
    "df_db %>% \n",
    "filter(year == 2019 & (! party %in% to_drop)) %>% \n",
    "arrange(desc(perc_of_populist_toks))"
   ]
  },
  {
   "cell_type": "markdown",
   "id": "61db5059",
   "metadata": {},
   "source": [
    "### The PopuList <a class=\"anchor\" id=\"subparagraph10\"></a>"
   ]
  },
  {
   "cell_type": "markdown",
   "id": "4946cd2d",
   "metadata": {},
   "source": [
    "Let's now compare D&B' dictionary with the PopuList dataset."
   ]
  },
  {
   "cell_type": "markdown",
   "id": "ccbacca7",
   "metadata": {},
   "source": [
    "Lega, FdI, FI/PdL and M5S rank among the most populist parties according to D&B' dictionary. These parties have all been coded as populist by PopuList. The two measures can thus be considered to be similar."
   ]
  },
  {
   "cell_type": "code",
   "execution_count": 40,
   "id": "3ced1ce3",
   "metadata": {},
   "outputs": [
    {
     "data": {
      "text/html": [
       "<table class=\"dataframe\">\n",
       "<caption>A tibble: 13 × 2</caption>\n",
       "<thead>\n",
       "\t<tr><th scope=col>party_name</th><th scope=col>populist</th></tr>\n",
       "\t<tr><th scope=col>&lt;chr&gt;</th><th scope=col>&lt;dbl&gt;</th></tr>\n",
       "</thead>\n",
       "<tbody>\n",
       "\t<tr><td>Forza Italia – Il Popolo della Libertà    </td><td>1</td></tr>\n",
       "\t<tr><td>Fratelli d'Italia – Centrodestra Nazionale</td><td>1</td></tr>\n",
       "\t<tr><td>Il Popolo della Libertà                   </td><td>1</td></tr>\n",
       "\t<tr><td>Lega (Nord)                               </td><td>1</td></tr>\n",
       "\t<tr><td>Lega d'Azione Meridionale                 </td><td>1</td></tr>\n",
       "\t<tr><td>Liga Veneta                               </td><td>1</td></tr>\n",
       "\t<tr><td>Movimento 5 Stelle                        </td><td>1</td></tr>\n",
       "\t<tr><td>Fiamma Tricolore                          </td><td>0</td></tr>\n",
       "\t<tr><td>Movimento Sociale Italiano                </td><td>0</td></tr>\n",
       "\t<tr><td>Partito dei Comunisti Italiani            </td><td>0</td></tr>\n",
       "\t<tr><td>Partito della Rifondazione Comunista      </td><td>0</td></tr>\n",
       "\t<tr><td>Rivoluzione Civile                        </td><td>0</td></tr>\n",
       "\t<tr><td>Sinistra                                  </td><td>0</td></tr>\n",
       "</tbody>\n",
       "</table>\n"
      ],
      "text/latex": [
       "A tibble: 13 × 2\n",
       "\\begin{tabular}{ll}\n",
       " party\\_name & populist\\\\\n",
       " <chr> & <dbl>\\\\\n",
       "\\hline\n",
       "\t Forza Italia – Il Popolo della Libertà     & 1\\\\\n",
       "\t Fratelli d'Italia – Centrodestra Nazionale & 1\\\\\n",
       "\t Il Popolo della Libertà                    & 1\\\\\n",
       "\t Lega (Nord)                                & 1\\\\\n",
       "\t Lega d'Azione Meridionale                  & 1\\\\\n",
       "\t Liga Veneta                                & 1\\\\\n",
       "\t Movimento 5 Stelle                         & 1\\\\\n",
       "\t Fiamma Tricolore                           & 0\\\\\n",
       "\t Movimento Sociale Italiano                 & 0\\\\\n",
       "\t Partito dei Comunisti Italiani             & 0\\\\\n",
       "\t Partito della Rifondazione Comunista       & 0\\\\\n",
       "\t Rivoluzione Civile                         & 0\\\\\n",
       "\t Sinistra                                   & 0\\\\\n",
       "\\end{tabular}\n"
      ],
      "text/markdown": [
       "\n",
       "A tibble: 13 × 2\n",
       "\n",
       "| party_name &lt;chr&gt; | populist &lt;dbl&gt; |\n",
       "|---|---|\n",
       "| Forza Italia – Il Popolo della Libertà     | 1 |\n",
       "| Fratelli d'Italia – Centrodestra Nazionale | 1 |\n",
       "| Il Popolo della Libertà                    | 1 |\n",
       "| Lega (Nord)                                | 1 |\n",
       "| Lega d'Azione Meridionale                  | 1 |\n",
       "| Liga Veneta                                | 1 |\n",
       "| Movimento 5 Stelle                         | 1 |\n",
       "| Fiamma Tricolore                           | 0 |\n",
       "| Movimento Sociale Italiano                 | 0 |\n",
       "| Partito dei Comunisti Italiani             | 0 |\n",
       "| Partito della Rifondazione Comunista       | 0 |\n",
       "| Rivoluzione Civile                         | 0 |\n",
       "| Sinistra                                   | 0 |\n",
       "\n"
      ],
      "text/plain": [
       "   party_name                                 populist\n",
       "1  Forza Italia – Il Popolo della Libertà     1       \n",
       "2  Fratelli d'Italia – Centrodestra Nazionale 1       \n",
       "3  Il Popolo della Libertà                    1       \n",
       "4  Lega (Nord)                                1       \n",
       "5  Lega d'Azione Meridionale                  1       \n",
       "6  Liga Veneta                                1       \n",
       "7  Movimento 5 Stelle                         1       \n",
       "8  Fiamma Tricolore                           0       \n",
       "9  Movimento Sociale Italiano                 0       \n",
       "10 Partito dei Comunisti Italiani             0       \n",
       "11 Partito della Rifondazione Comunista       0       \n",
       "12 Rivoluzione Civile                         0       \n",
       "13 Sinistra                                   0       "
      ]
     },
     "metadata": {},
     "output_type": "display_data"
    }
   ],
   "source": [
    "populist %>% \n",
    "filter(country_name == \"Italy\") %>%\n",
    "select(party_name, populist) %>% \n",
    "arrange(desc(populist))"
   ]
  },
  {
   "cell_type": "code",
   "execution_count": 41,
   "id": "cc387e3f",
   "metadata": {},
   "outputs": [
    {
     "data": {
      "text/html": [
       "<table class=\"dataframe\">\n",
       "<caption>A tibble: 20 × 9</caption>\n",
       "<thead>\n",
       "\t<tr><th scope=col>doc_id</th><th scope=col>year</th><th scope=col>party</th><th scope=col>anti_elitism</th><th scope=col>people_centrism</th><th scope=col>populist_toks</th><th scope=col>total_toks</th><th scope=col>perc_of_populist_toks</th><th scope=col>standardized_perc_of_populist_toks</th></tr>\n",
       "\t<tr><th scope=col>&lt;chr&gt;</th><th scope=col>&lt;int&gt;</th><th scope=col>&lt;chr&gt;</th><th scope=col>&lt;dbl&gt;</th><th scope=col>&lt;dbl&gt;</th><th scope=col>&lt;dbl&gt;</th><th scope=col>&lt;int&gt;</th><th scope=col>&lt;dbl&gt;</th><th scope=col>&lt;dbl&gt;</th></tr>\n",
       "</thead>\n",
       "<tbody>\n",
       "\t<tr><td>2008.LEGA         </td><td>2008</td><td>LEGA         </td><td> 41</td><td> 498</td><td> 539</td><td>  94856</td><td>0.005682297</td><td>1.4228052</td></tr>\n",
       "\t<tr><td>2015.LEGA         </td><td>2015</td><td>LEGA         </td><td> 80</td><td> 617</td><td> 697</td><td> 122917</td><td>0.005670493</td><td>1.4155337</td></tr>\n",
       "\t<tr><td>2014.FDI          </td><td>2014</td><td>FDI          </td><td> 82</td><td> 209</td><td> 291</td><td>  51695</td><td>0.005629171</td><td>1.3900793</td></tr>\n",
       "\t<tr><td>2017.LEGA         </td><td>2017</td><td>LEGA         </td><td> 72</td><td> 483</td><td> 555</td><td> 103023</td><td>0.005387147</td><td>1.2409917</td></tr>\n",
       "\t<tr><td>2015.M5S          </td><td>2015</td><td>M5S          </td><td>449</td><td>2332</td><td>2781</td><td> 527990</td><td>0.005267145</td><td>1.1670706</td></tr>\n",
       "\t<tr><td>2015.FI-PDL       </td><td>2015</td><td>FI-PDL       </td><td>177</td><td>1181</td><td>1358</td><td> 263332</td><td>0.005156988</td><td>1.0992136</td></tr>\n",
       "\t<tr><td>2000.LEGA         </td><td>2000</td><td>LEGA         </td><td>279</td><td>1158</td><td>1437</td><td> 293739</td><td>0.004892098</td><td>0.9360408</td></tr>\n",
       "\t<tr><td>2014.LEGA         </td><td>2014</td><td>LEGA         </td><td>122</td><td> 603</td><td> 725</td><td> 148505</td><td>0.004881991</td><td>0.9298145</td></tr>\n",
       "\t<tr><td>2006.LEGA         </td><td>2006</td><td>LEGA         </td><td> 50</td><td> 322</td><td> 372</td><td>  77125</td><td>0.004823339</td><td>0.8936849</td></tr>\n",
       "\t<tr><td>2006.COM/IT/      </td><td>2006</td><td>COM/IT/      </td><td>  5</td><td>  48</td><td>  53</td><td>  11028</td><td>0.004805948</td><td>0.8829725</td></tr>\n",
       "\t<tr><td>2017.FDI          </td><td>2017</td><td>FDI          </td><td> 46</td><td> 137</td><td> 183</td><td>  38123</td><td>0.004800252</td><td>0.8794633</td></tr>\n",
       "\t<tr><td>2019.FI-PDL       </td><td>2019</td><td>FI-PDL       </td><td>383</td><td>2108</td><td>2491</td><td> 533560</td><td>0.004668641</td><td>0.7983906</td></tr>\n",
       "\t<tr><td>2005.RC           </td><td>2005</td><td>RC           </td><td> 41</td><td> 206</td><td> 247</td><td>  53397</td><td>0.004625728</td><td>0.7719563</td></tr>\n",
       "\t<tr><td>2016.LEGA         </td><td>2016</td><td>LEGA         </td><td> 34</td><td> 349</td><td> 383</td><td>  83485</td><td>0.004587650</td><td>0.7485004</td></tr>\n",
       "\t<tr><td>2013.M5S          </td><td>2013</td><td>M5S          </td><td>840</td><td>4302</td><td>5142</td><td>1131648</td><td>0.004543816</td><td>0.7214981</td></tr>\n",
       "\t<tr><td>2009.LEGA         </td><td>2009</td><td>LEGA         </td><td> 89</td><td> 569</td><td> 658</td><td> 146788</td><td>0.004482655</td><td>0.6838231</td></tr>\n",
       "\t<tr><td>2015.SI-SEL-POS-LU</td><td>2015</td><td>SI-SEL-POS-LU</td><td> 90</td><td> 388</td><td> 478</td><td> 107081</td><td>0.004463910</td><td>0.6722763</td></tr>\n",
       "\t<tr><td>2013.FDI          </td><td>2013</td><td>FDI          </td><td> 96</td><td> 270</td><td> 366</td><td>  82996</td><td>0.004409851</td><td>0.6389756</td></tr>\n",
       "\t<tr><td>2003.LEGA         </td><td>2003</td><td>LEGA         </td><td> 73</td><td> 564</td><td> 637</td><td> 144815</td><td>0.004398716</td><td>0.6321161</td></tr>\n",
       "\t<tr><td>2017.M5S          </td><td>2017</td><td>M5S          </td><td>276</td><td>1411</td><td>1687</td><td> 397446</td><td>0.004244602</td><td>0.5371817</td></tr>\n",
       "</tbody>\n",
       "</table>\n"
      ],
      "text/latex": [
       "A tibble: 20 × 9\n",
       "\\begin{tabular}{lllllllll}\n",
       " doc\\_id & year & party & anti\\_elitism & people\\_centrism & populist\\_toks & total\\_toks & perc\\_of\\_populist\\_toks & standardized\\_perc\\_of\\_populist\\_toks\\\\\n",
       " <chr> & <int> & <chr> & <dbl> & <dbl> & <dbl> & <int> & <dbl> & <dbl>\\\\\n",
       "\\hline\n",
       "\t 2008.LEGA          & 2008 & LEGA          &  41 &  498 &  539 &   94856 & 0.005682297 & 1.4228052\\\\\n",
       "\t 2015.LEGA          & 2015 & LEGA          &  80 &  617 &  697 &  122917 & 0.005670493 & 1.4155337\\\\\n",
       "\t 2014.FDI           & 2014 & FDI           &  82 &  209 &  291 &   51695 & 0.005629171 & 1.3900793\\\\\n",
       "\t 2017.LEGA          & 2017 & LEGA          &  72 &  483 &  555 &  103023 & 0.005387147 & 1.2409917\\\\\n",
       "\t 2015.M5S           & 2015 & M5S           & 449 & 2332 & 2781 &  527990 & 0.005267145 & 1.1670706\\\\\n",
       "\t 2015.FI-PDL        & 2015 & FI-PDL        & 177 & 1181 & 1358 &  263332 & 0.005156988 & 1.0992136\\\\\n",
       "\t 2000.LEGA          & 2000 & LEGA          & 279 & 1158 & 1437 &  293739 & 0.004892098 & 0.9360408\\\\\n",
       "\t 2014.LEGA          & 2014 & LEGA          & 122 &  603 &  725 &  148505 & 0.004881991 & 0.9298145\\\\\n",
       "\t 2006.LEGA          & 2006 & LEGA          &  50 &  322 &  372 &   77125 & 0.004823339 & 0.8936849\\\\\n",
       "\t 2006.COM/IT/       & 2006 & COM/IT/       &   5 &   48 &   53 &   11028 & 0.004805948 & 0.8829725\\\\\n",
       "\t 2017.FDI           & 2017 & FDI           &  46 &  137 &  183 &   38123 & 0.004800252 & 0.8794633\\\\\n",
       "\t 2019.FI-PDL        & 2019 & FI-PDL        & 383 & 2108 & 2491 &  533560 & 0.004668641 & 0.7983906\\\\\n",
       "\t 2005.RC            & 2005 & RC            &  41 &  206 &  247 &   53397 & 0.004625728 & 0.7719563\\\\\n",
       "\t 2016.LEGA          & 2016 & LEGA          &  34 &  349 &  383 &   83485 & 0.004587650 & 0.7485004\\\\\n",
       "\t 2013.M5S           & 2013 & M5S           & 840 & 4302 & 5142 & 1131648 & 0.004543816 & 0.7214981\\\\\n",
       "\t 2009.LEGA          & 2009 & LEGA          &  89 &  569 &  658 &  146788 & 0.004482655 & 0.6838231\\\\\n",
       "\t 2015.SI-SEL-POS-LU & 2015 & SI-SEL-POS-LU &  90 &  388 &  478 &  107081 & 0.004463910 & 0.6722763\\\\\n",
       "\t 2013.FDI           & 2013 & FDI           &  96 &  270 &  366 &   82996 & 0.004409851 & 0.6389756\\\\\n",
       "\t 2003.LEGA          & 2003 & LEGA          &  73 &  564 &  637 &  144815 & 0.004398716 & 0.6321161\\\\\n",
       "\t 2017.M5S           & 2017 & M5S           & 276 & 1411 & 1687 &  397446 & 0.004244602 & 0.5371817\\\\\n",
       "\\end{tabular}\n"
      ],
      "text/markdown": [
       "\n",
       "A tibble: 20 × 9\n",
       "\n",
       "| doc_id &lt;chr&gt; | year &lt;int&gt; | party &lt;chr&gt; | anti_elitism &lt;dbl&gt; | people_centrism &lt;dbl&gt; | populist_toks &lt;dbl&gt; | total_toks &lt;int&gt; | perc_of_populist_toks &lt;dbl&gt; | standardized_perc_of_populist_toks &lt;dbl&gt; |\n",
       "|---|---|---|---|---|---|---|---|---|\n",
       "| 2008.LEGA          | 2008 | LEGA          |  41 |  498 |  539 |   94856 | 0.005682297 | 1.4228052 |\n",
       "| 2015.LEGA          | 2015 | LEGA          |  80 |  617 |  697 |  122917 | 0.005670493 | 1.4155337 |\n",
       "| 2014.FDI           | 2014 | FDI           |  82 |  209 |  291 |   51695 | 0.005629171 | 1.3900793 |\n",
       "| 2017.LEGA          | 2017 | LEGA          |  72 |  483 |  555 |  103023 | 0.005387147 | 1.2409917 |\n",
       "| 2015.M5S           | 2015 | M5S           | 449 | 2332 | 2781 |  527990 | 0.005267145 | 1.1670706 |\n",
       "| 2015.FI-PDL        | 2015 | FI-PDL        | 177 | 1181 | 1358 |  263332 | 0.005156988 | 1.0992136 |\n",
       "| 2000.LEGA          | 2000 | LEGA          | 279 | 1158 | 1437 |  293739 | 0.004892098 | 0.9360408 |\n",
       "| 2014.LEGA          | 2014 | LEGA          | 122 |  603 |  725 |  148505 | 0.004881991 | 0.9298145 |\n",
       "| 2006.LEGA          | 2006 | LEGA          |  50 |  322 |  372 |   77125 | 0.004823339 | 0.8936849 |\n",
       "| 2006.COM/IT/       | 2006 | COM/IT/       |   5 |   48 |   53 |   11028 | 0.004805948 | 0.8829725 |\n",
       "| 2017.FDI           | 2017 | FDI           |  46 |  137 |  183 |   38123 | 0.004800252 | 0.8794633 |\n",
       "| 2019.FI-PDL        | 2019 | FI-PDL        | 383 | 2108 | 2491 |  533560 | 0.004668641 | 0.7983906 |\n",
       "| 2005.RC            | 2005 | RC            |  41 |  206 |  247 |   53397 | 0.004625728 | 0.7719563 |\n",
       "| 2016.LEGA          | 2016 | LEGA          |  34 |  349 |  383 |   83485 | 0.004587650 | 0.7485004 |\n",
       "| 2013.M5S           | 2013 | M5S           | 840 | 4302 | 5142 | 1131648 | 0.004543816 | 0.7214981 |\n",
       "| 2009.LEGA          | 2009 | LEGA          |  89 |  569 |  658 |  146788 | 0.004482655 | 0.6838231 |\n",
       "| 2015.SI-SEL-POS-LU | 2015 | SI-SEL-POS-LU |  90 |  388 |  478 |  107081 | 0.004463910 | 0.6722763 |\n",
       "| 2013.FDI           | 2013 | FDI           |  96 |  270 |  366 |   82996 | 0.004409851 | 0.6389756 |\n",
       "| 2003.LEGA          | 2003 | LEGA          |  73 |  564 |  637 |  144815 | 0.004398716 | 0.6321161 |\n",
       "| 2017.M5S           | 2017 | M5S           | 276 | 1411 | 1687 |  397446 | 0.004244602 | 0.5371817 |\n",
       "\n"
      ],
      "text/plain": [
       "   doc_id             year party         anti_elitism people_centrism\n",
       "1  2008.LEGA          2008 LEGA           41           498           \n",
       "2  2015.LEGA          2015 LEGA           80           617           \n",
       "3  2014.FDI           2014 FDI            82           209           \n",
       "4  2017.LEGA          2017 LEGA           72           483           \n",
       "5  2015.M5S           2015 M5S           449          2332           \n",
       "6  2015.FI-PDL        2015 FI-PDL        177          1181           \n",
       "7  2000.LEGA          2000 LEGA          279          1158           \n",
       "8  2014.LEGA          2014 LEGA          122           603           \n",
       "9  2006.LEGA          2006 LEGA           50           322           \n",
       "10 2006.COM/IT/       2006 COM/IT/         5            48           \n",
       "11 2017.FDI           2017 FDI            46           137           \n",
       "12 2019.FI-PDL        2019 FI-PDL        383          2108           \n",
       "13 2005.RC            2005 RC             41           206           \n",
       "14 2016.LEGA          2016 LEGA           34           349           \n",
       "15 2013.M5S           2013 M5S           840          4302           \n",
       "16 2009.LEGA          2009 LEGA           89           569           \n",
       "17 2015.SI-SEL-POS-LU 2015 SI-SEL-POS-LU  90           388           \n",
       "18 2013.FDI           2013 FDI            96           270           \n",
       "19 2003.LEGA          2003 LEGA           73           564           \n",
       "20 2017.M5S           2017 M5S           276          1411           \n",
       "   populist_toks total_toks perc_of_populist_toks\n",
       "1   539            94856    0.005682297          \n",
       "2   697           122917    0.005670493          \n",
       "3   291            51695    0.005629171          \n",
       "4   555           103023    0.005387147          \n",
       "5  2781           527990    0.005267145          \n",
       "6  1358           263332    0.005156988          \n",
       "7  1437           293739    0.004892098          \n",
       "8   725           148505    0.004881991          \n",
       "9   372            77125    0.004823339          \n",
       "10   53            11028    0.004805948          \n",
       "11  183            38123    0.004800252          \n",
       "12 2491           533560    0.004668641          \n",
       "13  247            53397    0.004625728          \n",
       "14  383            83485    0.004587650          \n",
       "15 5142          1131648    0.004543816          \n",
       "16  658           146788    0.004482655          \n",
       "17  478           107081    0.004463910          \n",
       "18  366            82996    0.004409851          \n",
       "19  637           144815    0.004398716          \n",
       "20 1687           397446    0.004244602          \n",
       "   standardized_perc_of_populist_toks\n",
       "1  1.4228052                         \n",
       "2  1.4155337                         \n",
       "3  1.3900793                         \n",
       "4  1.2409917                         \n",
       "5  1.1670706                         \n",
       "6  1.0992136                         \n",
       "7  0.9360408                         \n",
       "8  0.9298145                         \n",
       "9  0.8936849                         \n",
       "10 0.8829725                         \n",
       "11 0.8794633                         \n",
       "12 0.7983906                         \n",
       "13 0.7719563                         \n",
       "14 0.7485004                         \n",
       "15 0.7214981                         \n",
       "16 0.6838231                         \n",
       "17 0.6722763                         \n",
       "18 0.6389756                         \n",
       "19 0.6321161                         \n",
       "20 0.5371817                         "
      ]
     },
     "metadata": {},
     "output_type": "display_data"
    }
   ],
   "source": [
    "to_keep <- c(\"F-ITA\", \"FI\", \"PDL\", \"FI-PDL\", \"FDI-AN\", \"FDI\", \"LEGA-N\", \"LEGA-NORD-P\", \"LNA\", \"LEGA\", \"LNP\", \"M5S\", \n",
    "             \"RC-PROGR\", \"COMUNISTA\", \"RC\", \"COM/IT/\", \"RC-SE\", \"SI-SEL-POS-LU\")\n",
    "\n",
    "df_db %>% \n",
    "filter(party %in% to_keep) %>% \n",
    "arrange(desc(perc_of_populist_toks)) %>% \n",
    "head(20)"
   ]
  },
  {
   "cell_type": "markdown",
   "id": "10ebfcd6",
   "metadata": {},
   "source": [
    "# Grundl (Manifesto project) <a class=\"anchor\" id=\"chapter7\"></a>"
   ]
  },
  {
   "cell_type": "markdown",
   "id": "5a000f03",
   "metadata": {},
   "source": [
    "Running the dictionary analysis on the Manifesto Project dataset with Grundl's dictionary"
   ]
  },
  {
   "cell_type": "code",
   "execution_count": 42,
   "id": "1a1c4aa7",
   "metadata": {},
   "outputs": [
    {
     "data": {
      "text/html": [
       "<table class=\"dataframe\">\n",
       "<caption>A tibble: 10 × 5</caption>\n",
       "<thead>\n",
       "\t<tr><th scope=col>party</th><th scope=col>populism</th><th scope=col>total_toks</th><th scope=col>perc_of_populist_toks</th><th scope=col>standardized_perc_of_populist_toks</th></tr>\n",
       "\t<tr><th scope=col>&lt;chr&gt;</th><th scope=col>&lt;dbl&gt;</th><th scope=col>&lt;int&gt;</th><th scope=col>&lt;dbl&gt;</th><th scope=col>&lt;dbl&gt;</th></tr>\n",
       "</thead>\n",
       "<tbody>\n",
       "\t<tr><td>FDI-CDN</td><td> 46</td><td> 13480</td><td>0.003412463</td><td> 1.41739125</td></tr>\n",
       "\t<tr><td>SC     </td><td> 27</td><td>  8385</td><td>0.003220036</td><td> 0.93933809</td></tr>\n",
       "\t<tr><td>FI     </td><td> 94</td><td> 29483</td><td>0.003188278</td><td> 0.86044115</td></tr>\n",
       "\t<tr><td>LN     </td><td>305</td><td> 97142</td><td>0.003139734</td><td> 0.73984066</td></tr>\n",
       "\t<tr><td>UDC    </td><td> 25</td><td>  8738</td><td>0.002861067</td><td> 0.04753895</td></tr>\n",
       "\t<tr><td>PD     </td><td> 86</td><td> 31632</td><td>0.002718766</td><td>-0.30598370</td></tr>\n",
       "\t<tr><td>CD     </td><td> 42</td><td> 15853</td><td>0.002649341</td><td>-0.47845852</td></tr>\n",
       "\t<tr><td>M5S    </td><td>454</td><td>172008</td><td>0.002639412</td><td>-0.50312472</td></tr>\n",
       "\t<tr><td>SEL    </td><td> 41</td><td> 16357</td><td>0.002506572</td><td>-0.83314361</td></tr>\n",
       "\t<tr><td>PdL    </td><td> 14</td><td>  6719</td><td>0.002083643</td><td>-1.88383957</td></tr>\n",
       "</tbody>\n",
       "</table>\n"
      ],
      "text/latex": [
       "A tibble: 10 × 5\n",
       "\\begin{tabular}{lllll}\n",
       " party & populism & total\\_toks & perc\\_of\\_populist\\_toks & standardized\\_perc\\_of\\_populist\\_toks\\\\\n",
       " <chr> & <dbl> & <int> & <dbl> & <dbl>\\\\\n",
       "\\hline\n",
       "\t FDI-CDN &  46 &  13480 & 0.003412463 &  1.41739125\\\\\n",
       "\t SC      &  27 &   8385 & 0.003220036 &  0.93933809\\\\\n",
       "\t FI      &  94 &  29483 & 0.003188278 &  0.86044115\\\\\n",
       "\t LN      & 305 &  97142 & 0.003139734 &  0.73984066\\\\\n",
       "\t UDC     &  25 &   8738 & 0.002861067 &  0.04753895\\\\\n",
       "\t PD      &  86 &  31632 & 0.002718766 & -0.30598370\\\\\n",
       "\t CD      &  42 &  15853 & 0.002649341 & -0.47845852\\\\\n",
       "\t M5S     & 454 & 172008 & 0.002639412 & -0.50312472\\\\\n",
       "\t SEL     &  41 &  16357 & 0.002506572 & -0.83314361\\\\\n",
       "\t PdL     &  14 &   6719 & 0.002083643 & -1.88383957\\\\\n",
       "\\end{tabular}\n"
      ],
      "text/markdown": [
       "\n",
       "A tibble: 10 × 5\n",
       "\n",
       "| party &lt;chr&gt; | populism &lt;dbl&gt; | total_toks &lt;int&gt; | perc_of_populist_toks &lt;dbl&gt; | standardized_perc_of_populist_toks &lt;dbl&gt; |\n",
       "|---|---|---|---|---|\n",
       "| FDI-CDN |  46 |  13480 | 0.003412463 |  1.41739125 |\n",
       "| SC      |  27 |   8385 | 0.003220036 |  0.93933809 |\n",
       "| FI      |  94 |  29483 | 0.003188278 |  0.86044115 |\n",
       "| LN      | 305 |  97142 | 0.003139734 |  0.73984066 |\n",
       "| UDC     |  25 |   8738 | 0.002861067 |  0.04753895 |\n",
       "| PD      |  86 |  31632 | 0.002718766 | -0.30598370 |\n",
       "| CD      |  42 |  15853 | 0.002649341 | -0.47845852 |\n",
       "| M5S     | 454 | 172008 | 0.002639412 | -0.50312472 |\n",
       "| SEL     |  41 |  16357 | 0.002506572 | -0.83314361 |\n",
       "| PdL     |  14 |   6719 | 0.002083643 | -1.88383957 |\n",
       "\n"
      ],
      "text/plain": [
       "   party   populism total_toks perc_of_populist_toks\n",
       "1  FDI-CDN  46       13480     0.003412463          \n",
       "2  SC       27        8385     0.003220036          \n",
       "3  FI       94       29483     0.003188278          \n",
       "4  LN      305       97142     0.003139734          \n",
       "5  UDC      25        8738     0.002861067          \n",
       "6  PD       86       31632     0.002718766          \n",
       "7  CD       42       15853     0.002649341          \n",
       "8  M5S     454      172008     0.002639412          \n",
       "9  SEL      41       16357     0.002506572          \n",
       "10 PdL      14        6719     0.002083643          \n",
       "   standardized_perc_of_populist_toks\n",
       "1   1.41739125                       \n",
       "2   0.93933809                       \n",
       "3   0.86044115                       \n",
       "4   0.73984066                       \n",
       "5   0.04753895                       \n",
       "6  -0.30598370                       \n",
       "7  -0.47845852                       \n",
       "8  -0.50312472                       \n",
       "9  -0.83314361                       \n",
       "10 -1.88383957                       "
      ]
     },
     "metadata": {},
     "output_type": "display_data"
    }
   ],
   "source": [
    "dict_analysis(tokens = manifesto_toks, data = \"manifesto\", dictionary = \"Grundl\")"
   ]
  },
  {
   "cell_type": "markdown",
   "id": "da302724",
   "metadata": {},
   "source": [
    "# Decadri and Boussalis (Manifesto Project) <a class=\"anchor\" id=\"chapter8\"></a>"
   ]
  },
  {
   "cell_type": "markdown",
   "id": "a51991ea",
   "metadata": {},
   "source": [
    "Running the dictionary analysis on the Manifesto Project dataset with Decadri and Boussalis' dictionary"
   ]
  },
  {
   "cell_type": "code",
   "execution_count": 43,
   "id": "5d70ebc8",
   "metadata": {},
   "outputs": [
    {
     "data": {
      "text/html": [
       "<table class=\"dataframe\">\n",
       "<caption>A tibble: 10 × 7</caption>\n",
       "<thead>\n",
       "\t<tr><th scope=col>party</th><th scope=col>anti_elitism</th><th scope=col>people_centrism</th><th scope=col>total_toks</th><th scope=col>populist_toks</th><th scope=col>perc_of_populist_toks</th><th scope=col>standardized_perc_of_populist_toks</th></tr>\n",
       "\t<tr><th scope=col>&lt;chr&gt;</th><th scope=col>&lt;dbl&gt;</th><th scope=col>&lt;dbl&gt;</th><th scope=col>&lt;int&gt;</th><th scope=col>&lt;dbl&gt;</th><th scope=col>&lt;dbl&gt;</th><th scope=col>&lt;dbl&gt;</th></tr>\n",
       "</thead>\n",
       "<tbody>\n",
       "\t<tr><td>UDC    </td><td> 4</td><td> 51</td><td>  8738</td><td> 55</td><td>0.006294347</td><td> 2.0371665</td></tr>\n",
       "\t<tr><td>FI     </td><td> 5</td><td>139</td><td> 29483</td><td>144</td><td>0.004884171</td><td> 0.8311817</td></tr>\n",
       "\t<tr><td>FDI-CDN</td><td> 6</td><td> 57</td><td> 13480</td><td> 63</td><td>0.004673591</td><td> 0.6510933</td></tr>\n",
       "\t<tr><td>LN     </td><td>20</td><td>398</td><td> 97142</td><td>418</td><td>0.004302979</td><td> 0.3341459</td></tr>\n",
       "\t<tr><td>PdL    </td><td> 1</td><td> 24</td><td>  6719</td><td> 25</td><td>0.003720792</td><td>-0.1637417</td></tr>\n",
       "\t<tr><td>SC     </td><td> 2</td><td> 27</td><td>  8385</td><td> 29</td><td>0.003458557</td><td>-0.3880054</td></tr>\n",
       "\t<tr><td>M5S    </td><td>28</td><td>563</td><td>172008</td><td>591</td><td>0.003435887</td><td>-0.4073930</td></tr>\n",
       "\t<tr><td>SEL    </td><td> 7</td><td> 48</td><td> 16357</td><td> 55</td><td>0.003362475</td><td>-0.4701750</td></tr>\n",
       "\t<tr><td>PD     </td><td> 4</td><td> 84</td><td> 31632</td><td> 88</td><td>0.002781993</td><td>-0.9666040</td></tr>\n",
       "\t<tr><td>CD     </td><td> 1</td><td> 34</td><td> 15853</td><td> 35</td><td>0.002207784</td><td>-1.4576684</td></tr>\n",
       "</tbody>\n",
       "</table>\n"
      ],
      "text/latex": [
       "A tibble: 10 × 7\n",
       "\\begin{tabular}{lllllll}\n",
       " party & anti\\_elitism & people\\_centrism & total\\_toks & populist\\_toks & perc\\_of\\_populist\\_toks & standardized\\_perc\\_of\\_populist\\_toks\\\\\n",
       " <chr> & <dbl> & <dbl> & <int> & <dbl> & <dbl> & <dbl>\\\\\n",
       "\\hline\n",
       "\t UDC     &  4 &  51 &   8738 &  55 & 0.006294347 &  2.0371665\\\\\n",
       "\t FI      &  5 & 139 &  29483 & 144 & 0.004884171 &  0.8311817\\\\\n",
       "\t FDI-CDN &  6 &  57 &  13480 &  63 & 0.004673591 &  0.6510933\\\\\n",
       "\t LN      & 20 & 398 &  97142 & 418 & 0.004302979 &  0.3341459\\\\\n",
       "\t PdL     &  1 &  24 &   6719 &  25 & 0.003720792 & -0.1637417\\\\\n",
       "\t SC      &  2 &  27 &   8385 &  29 & 0.003458557 & -0.3880054\\\\\n",
       "\t M5S     & 28 & 563 & 172008 & 591 & 0.003435887 & -0.4073930\\\\\n",
       "\t SEL     &  7 &  48 &  16357 &  55 & 0.003362475 & -0.4701750\\\\\n",
       "\t PD      &  4 &  84 &  31632 &  88 & 0.002781993 & -0.9666040\\\\\n",
       "\t CD      &  1 &  34 &  15853 &  35 & 0.002207784 & -1.4576684\\\\\n",
       "\\end{tabular}\n"
      ],
      "text/markdown": [
       "\n",
       "A tibble: 10 × 7\n",
       "\n",
       "| party &lt;chr&gt; | anti_elitism &lt;dbl&gt; | people_centrism &lt;dbl&gt; | total_toks &lt;int&gt; | populist_toks &lt;dbl&gt; | perc_of_populist_toks &lt;dbl&gt; | standardized_perc_of_populist_toks &lt;dbl&gt; |\n",
       "|---|---|---|---|---|---|---|\n",
       "| UDC     |  4 |  51 |   8738 |  55 | 0.006294347 |  2.0371665 |\n",
       "| FI      |  5 | 139 |  29483 | 144 | 0.004884171 |  0.8311817 |\n",
       "| FDI-CDN |  6 |  57 |  13480 |  63 | 0.004673591 |  0.6510933 |\n",
       "| LN      | 20 | 398 |  97142 | 418 | 0.004302979 |  0.3341459 |\n",
       "| PdL     |  1 |  24 |   6719 |  25 | 0.003720792 | -0.1637417 |\n",
       "| SC      |  2 |  27 |   8385 |  29 | 0.003458557 | -0.3880054 |\n",
       "| M5S     | 28 | 563 | 172008 | 591 | 0.003435887 | -0.4073930 |\n",
       "| SEL     |  7 |  48 |  16357 |  55 | 0.003362475 | -0.4701750 |\n",
       "| PD      |  4 |  84 |  31632 |  88 | 0.002781993 | -0.9666040 |\n",
       "| CD      |  1 |  34 |  15853 |  35 | 0.002207784 | -1.4576684 |\n",
       "\n"
      ],
      "text/plain": [
       "   party   anti_elitism people_centrism total_toks populist_toks\n",
       "1  UDC      4            51               8738      55          \n",
       "2  FI       5           139              29483     144          \n",
       "3  FDI-CDN  6            57              13480      63          \n",
       "4  LN      20           398              97142     418          \n",
       "5  PdL      1            24               6719      25          \n",
       "6  SC       2            27               8385      29          \n",
       "7  M5S     28           563             172008     591          \n",
       "8  SEL      7            48              16357      55          \n",
       "9  PD       4            84              31632      88          \n",
       "10 CD       1            34              15853      35          \n",
       "   perc_of_populist_toks standardized_perc_of_populist_toks\n",
       "1  0.006294347            2.0371665                        \n",
       "2  0.004884171            0.8311817                        \n",
       "3  0.004673591            0.6510933                        \n",
       "4  0.004302979            0.3341459                        \n",
       "5  0.003720792           -0.1637417                        \n",
       "6  0.003458557           -0.3880054                        \n",
       "7  0.003435887           -0.4073930                        \n",
       "8  0.003362475           -0.4701750                        \n",
       "9  0.002781993           -0.9666040                        \n",
       "10 0.002207784           -1.4576684                        "
      ]
     },
     "metadata": {},
     "output_type": "display_data"
    }
   ],
   "source": [
    "dict_analysis(tokens = manifesto_toks, data = \"manifesto\", dictionary = \"Decadri_Boussalis\")"
   ]
  },
  {
   "cell_type": "markdown",
   "id": "7466729e",
   "metadata": {},
   "source": [
    "# Decadri and Boussalis + Grundl <a class=\"anchor\" id=\"chapter9\"></a>"
   ]
  },
  {
   "cell_type": "code",
   "execution_count": 44,
   "id": "b4b5345b",
   "metadata": {},
   "outputs": [
    {
     "data": {
      "text/html": [
       "<table class=\"dataframe\">\n",
       "<caption>A tibble: 10 × 5</caption>\n",
       "<thead>\n",
       "\t<tr><th scope=col>party</th><th scope=col>populism</th><th scope=col>total_toks</th><th scope=col>perc_of_populist_toks</th><th scope=col>standardized_perc_of_populist_toks</th></tr>\n",
       "\t<tr><th scope=col>&lt;chr&gt;</th><th scope=col>&lt;dbl&gt;</th><th scope=col>&lt;int&gt;</th><th scope=col>&lt;dbl&gt;</th><th scope=col>&lt;dbl&gt;</th></tr>\n",
       "</thead>\n",
       "<tbody>\n",
       "\t<tr><td>UDC    </td><td> 58</td><td>  8738</td><td>0.006637675</td><td> 2.0194866</td></tr>\n",
       "\t<tr><td>FI     </td><td>156</td><td> 29483</td><td>0.005291185</td><td> 0.8143831</td></tr>\n",
       "\t<tr><td>FDI-CDN</td><td> 67</td><td> 13480</td><td>0.004970326</td><td> 0.5272161</td></tr>\n",
       "\t<tr><td>LN     </td><td>466</td><td> 97142</td><td>0.004797101</td><td> 0.3721801</td></tr>\n",
       "\t<tr><td>SC     </td><td> 38</td><td>  8385</td><td>0.004531902</td><td> 0.1348280</td></tr>\n",
       "\t<tr><td>SEL    </td><td> 66</td><td> 16357</td><td>0.004034970</td><td>-0.3099247</td></tr>\n",
       "\t<tr><td>M5S    </td><td>664</td><td>172008</td><td>0.003860286</td><td>-0.4662664</td></tr>\n",
       "\t<tr><td>PdL    </td><td> 25</td><td>  6719</td><td>0.003720792</td><td>-0.5911129</td></tr>\n",
       "\t<tr><td>PD     </td><td> 99</td><td> 31632</td><td>0.003129742</td><td>-1.1201002</td></tr>\n",
       "\t<tr><td>CD     </td><td> 45</td><td> 15853</td><td>0.002838579</td><td>-1.3806897</td></tr>\n",
       "</tbody>\n",
       "</table>\n"
      ],
      "text/latex": [
       "A tibble: 10 × 5\n",
       "\\begin{tabular}{lllll}\n",
       " party & populism & total\\_toks & perc\\_of\\_populist\\_toks & standardized\\_perc\\_of\\_populist\\_toks\\\\\n",
       " <chr> & <dbl> & <int> & <dbl> & <dbl>\\\\\n",
       "\\hline\n",
       "\t UDC     &  58 &   8738 & 0.006637675 &  2.0194866\\\\\n",
       "\t FI      & 156 &  29483 & 0.005291185 &  0.8143831\\\\\n",
       "\t FDI-CDN &  67 &  13480 & 0.004970326 &  0.5272161\\\\\n",
       "\t LN      & 466 &  97142 & 0.004797101 &  0.3721801\\\\\n",
       "\t SC      &  38 &   8385 & 0.004531902 &  0.1348280\\\\\n",
       "\t SEL     &  66 &  16357 & 0.004034970 & -0.3099247\\\\\n",
       "\t M5S     & 664 & 172008 & 0.003860286 & -0.4662664\\\\\n",
       "\t PdL     &  25 &   6719 & 0.003720792 & -0.5911129\\\\\n",
       "\t PD      &  99 &  31632 & 0.003129742 & -1.1201002\\\\\n",
       "\t CD      &  45 &  15853 & 0.002838579 & -1.3806897\\\\\n",
       "\\end{tabular}\n"
      ],
      "text/markdown": [
       "\n",
       "A tibble: 10 × 5\n",
       "\n",
       "| party &lt;chr&gt; | populism &lt;dbl&gt; | total_toks &lt;int&gt; | perc_of_populist_toks &lt;dbl&gt; | standardized_perc_of_populist_toks &lt;dbl&gt; |\n",
       "|---|---|---|---|---|\n",
       "| UDC     |  58 |   8738 | 0.006637675 |  2.0194866 |\n",
       "| FI      | 156 |  29483 | 0.005291185 |  0.8143831 |\n",
       "| FDI-CDN |  67 |  13480 | 0.004970326 |  0.5272161 |\n",
       "| LN      | 466 |  97142 | 0.004797101 |  0.3721801 |\n",
       "| SC      |  38 |   8385 | 0.004531902 |  0.1348280 |\n",
       "| SEL     |  66 |  16357 | 0.004034970 | -0.3099247 |\n",
       "| M5S     | 664 | 172008 | 0.003860286 | -0.4662664 |\n",
       "| PdL     |  25 |   6719 | 0.003720792 | -0.5911129 |\n",
       "| PD      |  99 |  31632 | 0.003129742 | -1.1201002 |\n",
       "| CD      |  45 |  15853 | 0.002838579 | -1.3806897 |\n",
       "\n"
      ],
      "text/plain": [
       "   party   populism total_toks perc_of_populist_toks\n",
       "1  UDC      58        8738     0.006637675          \n",
       "2  FI      156       29483     0.005291185          \n",
       "3  FDI-CDN  67       13480     0.004970326          \n",
       "4  LN      466       97142     0.004797101          \n",
       "5  SC       38        8385     0.004531902          \n",
       "6  SEL      66       16357     0.004034970          \n",
       "7  M5S     664      172008     0.003860286          \n",
       "8  PdL      25        6719     0.003720792          \n",
       "9  PD       99       31632     0.003129742          \n",
       "10 CD       45       15853     0.002838579          \n",
       "   standardized_perc_of_populist_toks\n",
       "1   2.0194866                        \n",
       "2   0.8143831                        \n",
       "3   0.5272161                        \n",
       "4   0.3721801                        \n",
       "5   0.1348280                        \n",
       "6  -0.3099247                        \n",
       "7  -0.4662664                        \n",
       "8  -0.5911129                        \n",
       "9  -1.1201002                        \n",
       "10 -1.3806897                        "
      ]
     },
     "metadata": {},
     "output_type": "display_data"
    }
   ],
   "source": [
    "dict_analysis(tokens = manifesto_toks, data = \"manifesto\", dictionary = \"Decadri_Boussalis_Grundl\")"
   ]
  },
  {
   "cell_type": "markdown",
   "id": "5279abb3",
   "metadata": {},
   "source": [
    "# Keywords in context <a class=\"anchor\" id=\"chapter10\"></a>"
   ]
  },
  {
   "cell_type": "markdown",
   "id": "2f8bdbdd",
   "metadata": {},
   "source": [
    "puzza sotto il naso"
   ]
  },
  {
   "cell_type": "code",
   "execution_count": 45,
   "id": "410df3fe",
   "metadata": {},
   "outputs": [
    {
     "data": {
      "text/html": [
       "<table class=\"dataframe\">\n",
       "<caption>A kwic: 0 × 7</caption>\n",
       "<thead>\n",
       "\t<tr><th scope=col>docname</th><th scope=col>from</th><th scope=col>to</th><th scope=col>pre</th><th scope=col>keyword</th><th scope=col>post</th><th scope=col>pattern</th></tr>\n",
       "\t<tr><th scope=col>&lt;chr&gt;</th><th scope=col>&lt;int&gt;</th><th scope=col>&lt;int&gt;</th><th scope=col>&lt;chr&gt;</th><th scope=col>&lt;chr&gt;</th><th scope=col>&lt;chr&gt;</th><th scope=col>&lt;fct&gt;</th></tr>\n",
       "</thead>\n",
       "<tbody>\n",
       "</tbody>\n",
       "</table>\n"
      ],
      "text/latex": [
       "A kwic: 0 × 7\n",
       "\\begin{tabular}{lllllll}\n",
       " docname & from & to & pre & keyword & post & pattern\\\\\n",
       " <chr> & <int> & <int> & <chr> & <chr> & <chr> & <fct>\\\\\n",
       "\\hline\n",
       "\\end{tabular}\n"
      ],
      "text/markdown": [
       "\n",
       "A kwic: 0 × 7\n",
       "\n",
       "| docname &lt;chr&gt; | from &lt;int&gt; | to &lt;int&gt; | pre &lt;chr&gt; | keyword &lt;chr&gt; | post &lt;chr&gt; | pattern &lt;fct&gt; |\n",
       "|---|---|---|---|---|---|---|\n",
       "\n"
      ],
      "text/plain": [
       "     docname from to pre keyword post pattern"
      ]
     },
     "metadata": {},
     "output_type": "display_data"
    }
   ],
   "source": [
    "kwic(x = manifesto_toks, pattern = phrase(\"puzza sotto il naso\"))"
   ]
  },
  {
   "cell_type": "markdown",
   "id": "087e9214",
   "metadata": {},
   "source": [
    "senso di superiorita"
   ]
  },
  {
   "cell_type": "code",
   "execution_count": 46,
   "id": "35b659a9",
   "metadata": {},
   "outputs": [
    {
     "data": {
      "text/html": [
       "<table class=\"dataframe\">\n",
       "<caption>A kwic: 0 × 7</caption>\n",
       "<thead>\n",
       "\t<tr><th scope=col>docname</th><th scope=col>from</th><th scope=col>to</th><th scope=col>pre</th><th scope=col>keyword</th><th scope=col>post</th><th scope=col>pattern</th></tr>\n",
       "\t<tr><th scope=col>&lt;chr&gt;</th><th scope=col>&lt;int&gt;</th><th scope=col>&lt;int&gt;</th><th scope=col>&lt;chr&gt;</th><th scope=col>&lt;chr&gt;</th><th scope=col>&lt;chr&gt;</th><th scope=col>&lt;fct&gt;</th></tr>\n",
       "</thead>\n",
       "<tbody>\n",
       "</tbody>\n",
       "</table>\n"
      ],
      "text/latex": [
       "A kwic: 0 × 7\n",
       "\\begin{tabular}{lllllll}\n",
       " docname & from & to & pre & keyword & post & pattern\\\\\n",
       " <chr> & <int> & <int> & <chr> & <chr> & <chr> & <fct>\\\\\n",
       "\\hline\n",
       "\\end{tabular}\n"
      ],
      "text/markdown": [
       "\n",
       "A kwic: 0 × 7\n",
       "\n",
       "| docname &lt;chr&gt; | from &lt;int&gt; | to &lt;int&gt; | pre &lt;chr&gt; | keyword &lt;chr&gt; | post &lt;chr&gt; | pattern &lt;fct&gt; |\n",
       "|---|---|---|---|---|---|---|\n",
       "\n"
      ],
      "text/plain": [
       "     docname from to pre keyword post pattern"
      ]
     },
     "metadata": {},
     "output_type": "display_data"
    }
   ],
   "source": [
    "kwic(x = manifesto_toks, pattern = phrase(\"senso di superiorita\"))"
   ]
  },
  {
   "cell_type": "markdown",
   "id": "91ec7fb0",
   "metadata": {},
   "source": [
    "pezz? gross?"
   ]
  },
  {
   "cell_type": "code",
   "execution_count": 47,
   "id": "b935109a",
   "metadata": {},
   "outputs": [
    {
     "data": {
      "text/html": [
       "<table class=\"dataframe\">\n",
       "<caption>A kwic: 0 × 7</caption>\n",
       "<thead>\n",
       "\t<tr><th scope=col>docname</th><th scope=col>from</th><th scope=col>to</th><th scope=col>pre</th><th scope=col>keyword</th><th scope=col>post</th><th scope=col>pattern</th></tr>\n",
       "\t<tr><th scope=col>&lt;chr&gt;</th><th scope=col>&lt;int&gt;</th><th scope=col>&lt;int&gt;</th><th scope=col>&lt;chr&gt;</th><th scope=col>&lt;chr&gt;</th><th scope=col>&lt;chr&gt;</th><th scope=col>&lt;fct&gt;</th></tr>\n",
       "</thead>\n",
       "<tbody>\n",
       "</tbody>\n",
       "</table>\n"
      ],
      "text/latex": [
       "A kwic: 0 × 7\n",
       "\\begin{tabular}{lllllll}\n",
       " docname & from & to & pre & keyword & post & pattern\\\\\n",
       " <chr> & <int> & <int> & <chr> & <chr> & <chr> & <fct>\\\\\n",
       "\\hline\n",
       "\\end{tabular}\n"
      ],
      "text/markdown": [
       "\n",
       "A kwic: 0 × 7\n",
       "\n",
       "| docname &lt;chr&gt; | from &lt;int&gt; | to &lt;int&gt; | pre &lt;chr&gt; | keyword &lt;chr&gt; | post &lt;chr&gt; | pattern &lt;fct&gt; |\n",
       "|---|---|---|---|---|---|---|\n",
       "\n"
      ],
      "text/plain": [
       "     docname from to pre keyword post pattern"
      ]
     },
     "metadata": {},
     "output_type": "display_data"
    }
   ],
   "source": [
    "kwic(x = manifesto_toks, pattern = phrase(\"pezz? gross?\"))"
   ]
  },
  {
   "cell_type": "markdown",
   "id": "6171af31",
   "metadata": {},
   "source": [
    "uomo della strada"
   ]
  },
  {
   "cell_type": "code",
   "execution_count": 48,
   "id": "f4777655",
   "metadata": {},
   "outputs": [
    {
     "data": {
      "text/html": [
       "<table class=\"dataframe\">\n",
       "<caption>A kwic: 0 × 7</caption>\n",
       "<thead>\n",
       "\t<tr><th scope=col>docname</th><th scope=col>from</th><th scope=col>to</th><th scope=col>pre</th><th scope=col>keyword</th><th scope=col>post</th><th scope=col>pattern</th></tr>\n",
       "\t<tr><th scope=col>&lt;chr&gt;</th><th scope=col>&lt;int&gt;</th><th scope=col>&lt;int&gt;</th><th scope=col>&lt;chr&gt;</th><th scope=col>&lt;chr&gt;</th><th scope=col>&lt;chr&gt;</th><th scope=col>&lt;fct&gt;</th></tr>\n",
       "</thead>\n",
       "<tbody>\n",
       "</tbody>\n",
       "</table>\n"
      ],
      "text/latex": [
       "A kwic: 0 × 7\n",
       "\\begin{tabular}{lllllll}\n",
       " docname & from & to & pre & keyword & post & pattern\\\\\n",
       " <chr> & <int> & <int> & <chr> & <chr> & <chr> & <fct>\\\\\n",
       "\\hline\n",
       "\\end{tabular}\n"
      ],
      "text/markdown": [
       "\n",
       "A kwic: 0 × 7\n",
       "\n",
       "| docname &lt;chr&gt; | from &lt;int&gt; | to &lt;int&gt; | pre &lt;chr&gt; | keyword &lt;chr&gt; | post &lt;chr&gt; | pattern &lt;fct&gt; |\n",
       "|---|---|---|---|---|---|---|\n",
       "\n"
      ],
      "text/plain": [
       "     docname from to pre keyword post pattern"
      ]
     },
     "metadata": {},
     "output_type": "display_data"
    }
   ],
   "source": [
    "kwic(x = manifesto_toks, pattern = phrase(\"uomo della strada\"))"
   ]
  },
  {
   "cell_type": "markdown",
   "id": "27033a69",
   "metadata": {},
   "source": [
    "democrazia diretta"
   ]
  },
  {
   "cell_type": "code",
   "execution_count": 49,
   "id": "0a428f08",
   "metadata": {},
   "outputs": [
    {
     "data": {
      "text/html": [
       "<table class=\"dataframe\">\n",
       "<caption>A kwic: 5 × 7</caption>\n",
       "<thead>\n",
       "\t<tr><th></th><th scope=col>docname</th><th scope=col>from</th><th scope=col>to</th><th scope=col>pre</th><th scope=col>keyword</th><th scope=col>post</th><th scope=col>pattern</th></tr>\n",
       "\t<tr><th></th><th scope=col>&lt;chr&gt;</th><th scope=col>&lt;int&gt;</th><th scope=col>&lt;int&gt;</th><th scope=col>&lt;chr&gt;</th><th scope=col>&lt;chr&gt;</th><th scope=col>&lt;chr&gt;</th><th scope=col>&lt;fct&gt;</th></tr>\n",
       "</thead>\n",
       "<tbody>\n",
       "\t<tr><th scope=row>1</th><td>32720</td><td>70876</td><td>70877</td><td> rafforzamento istituti                           </td><td>democrazia diretta</td><td>concepiti correttivo possibili        </td><td>democrazia diretta</td></tr>\n",
       "\t<tr><th scope=row>2</th><td>32956</td><td> 2700</td><td> 2701</td><td>mirano stravolgerla semplificazione partecipazione</td><td>democrazia diretta</td><td>miglioramento rapporto cittadini      </td><td>democrazia diretta</td></tr>\n",
       "\t<tr><th scope=row>3</th><td>32956</td><td> 2935</td><td> 2936</td><td>referendum popolare crediamo                      </td><td>democrazia diretta</td><td> referendum popolare davvero esprimere</td><td>democrazia diretta</td></tr>\n",
       "\t<tr><th scope=row>4</th><td>32956</td><td> 3623</td><td> 3624</td><td>referendum propositivi quórum                     </td><td>democrazia diretta</td><td> rivoluzionaria concezione            </td><td>democrazia diretta</td></tr>\n",
       "\t<tr><th scope=row>5</th><td>32956</td><td> 5703</td><td> 5704</td><td>riferimento tramite ricorso                       </td><td>democrazia diretta</td><td> seguito adeguato                     </td><td>democrazia diretta</td></tr>\n",
       "</tbody>\n",
       "</table>\n"
      ],
      "text/latex": [
       "A kwic: 5 × 7\n",
       "\\begin{tabular}{r|lllllll}\n",
       "  & docname & from & to & pre & keyword & post & pattern\\\\\n",
       "  & <chr> & <int> & <int> & <chr> & <chr> & <chr> & <fct>\\\\\n",
       "\\hline\n",
       "\t1 & 32720 & 70876 & 70877 &  rafforzamento istituti                            & democrazia diretta & concepiti correttivo possibili         & democrazia diretta\\\\\n",
       "\t2 & 32956 &  2700 &  2701 & mirano stravolgerla semplificazione partecipazione & democrazia diretta & miglioramento rapporto cittadini       & democrazia diretta\\\\\n",
       "\t3 & 32956 &  2935 &  2936 & referendum popolare crediamo                       & democrazia diretta &  referendum popolare davvero esprimere & democrazia diretta\\\\\n",
       "\t4 & 32956 &  3623 &  3624 & referendum propositivi quórum                      & democrazia diretta &  rivoluzionaria concezione             & democrazia diretta\\\\\n",
       "\t5 & 32956 &  5703 &  5704 & riferimento tramite ricorso                        & democrazia diretta &  seguito adeguato                      & democrazia diretta\\\\\n",
       "\\end{tabular}\n"
      ],
      "text/markdown": [
       "\n",
       "A kwic: 5 × 7\n",
       "\n",
       "| <!--/--> | docname &lt;chr&gt; | from &lt;int&gt; | to &lt;int&gt; | pre &lt;chr&gt; | keyword &lt;chr&gt; | post &lt;chr&gt; | pattern &lt;fct&gt; |\n",
       "|---|---|---|---|---|---|---|---|\n",
       "| 1 | 32720 | 70876 | 70877 |  rafforzamento istituti                            | democrazia diretta | concepiti correttivo possibili         | democrazia diretta |\n",
       "| 2 | 32956 |  2700 |  2701 | mirano stravolgerla semplificazione partecipazione | democrazia diretta | miglioramento rapporto cittadini       | democrazia diretta |\n",
       "| 3 | 32956 |  2935 |  2936 | referendum popolare crediamo                       | democrazia diretta |  referendum popolare davvero esprimere | democrazia diretta |\n",
       "| 4 | 32956 |  3623 |  3624 | referendum propositivi quórum                      | democrazia diretta |  rivoluzionaria concezione             | democrazia diretta |\n",
       "| 5 | 32956 |  5703 |  5704 | riferimento tramite ricorso                        | democrazia diretta |  seguito adeguato                      | democrazia diretta |\n",
       "\n"
      ],
      "text/plain": [
       "  docname from  to    pre                                               \n",
       "1 32720   70876 70877  rafforzamento istituti                           \n",
       "2 32956    2700  2701 mirano stravolgerla semplificazione partecipazione\n",
       "3 32956    2935  2936 referendum popolare crediamo                      \n",
       "4 32956    3623  3624 referendum propositivi quórum                     \n",
       "5 32956    5703  5704 riferimento tramite ricorso                       \n",
       "  keyword            post                                   pattern           \n",
       "1 democrazia diretta concepiti correttivo possibili         democrazia diretta\n",
       "2 democrazia diretta miglioramento rapporto cittadini       democrazia diretta\n",
       "3 democrazia diretta  referendum popolare davvero esprimere democrazia diretta\n",
       "4 democrazia diretta  rivoluzionaria concezione             democrazia diretta\n",
       "5 democrazia diretta  seguito adeguato                      democrazia diretta"
      ]
     },
     "metadata": {},
     "output_type": "display_data"
    }
   ],
   "source": [
    "kwic(x = manifesto_toks, pattern = phrase(\"democrazia diretta\"))"
   ]
  },
  {
   "cell_type": "markdown",
   "id": "c160ee3c",
   "metadata": {},
   "source": [
    "italiano medio"
   ]
  },
  {
   "cell_type": "code",
   "execution_count": 50,
   "id": "3deee49b",
   "metadata": {},
   "outputs": [
    {
     "data": {
      "text/html": [
       "<table class=\"dataframe\">\n",
       "<caption>A kwic: 0 × 7</caption>\n",
       "<thead>\n",
       "\t<tr><th scope=col>docname</th><th scope=col>from</th><th scope=col>to</th><th scope=col>pre</th><th scope=col>keyword</th><th scope=col>post</th><th scope=col>pattern</th></tr>\n",
       "\t<tr><th scope=col>&lt;chr&gt;</th><th scope=col>&lt;int&gt;</th><th scope=col>&lt;int&gt;</th><th scope=col>&lt;chr&gt;</th><th scope=col>&lt;chr&gt;</th><th scope=col>&lt;chr&gt;</th><th scope=col>&lt;fct&gt;</th></tr>\n",
       "</thead>\n",
       "<tbody>\n",
       "</tbody>\n",
       "</table>\n"
      ],
      "text/latex": [
       "A kwic: 0 × 7\n",
       "\\begin{tabular}{lllllll}\n",
       " docname & from & to & pre & keyword & post & pattern\\\\\n",
       " <chr> & <int> & <int> & <chr> & <chr> & <chr> & <fct>\\\\\n",
       "\\hline\n",
       "\\end{tabular}\n"
      ],
      "text/markdown": [
       "\n",
       "A kwic: 0 × 7\n",
       "\n",
       "| docname &lt;chr&gt; | from &lt;int&gt; | to &lt;int&gt; | pre &lt;chr&gt; | keyword &lt;chr&gt; | post &lt;chr&gt; | pattern &lt;fct&gt; |\n",
       "|---|---|---|---|---|---|---|\n",
       "\n"
      ],
      "text/plain": [
       "     docname from to pre keyword post pattern"
      ]
     },
     "metadata": {},
     "output_type": "display_data"
    }
   ],
   "source": [
    "kwic(x = manifesto_toks, pattern = phrase(\"italiano medio\"))"
   ]
  },
  {
   "cell_type": "markdown",
   "id": "fb822414",
   "metadata": {},
   "source": [
    "uomo medio"
   ]
  },
  {
   "cell_type": "code",
   "execution_count": 51,
   "id": "8062e82b",
   "metadata": {},
   "outputs": [
    {
     "data": {
      "text/html": [
       "<table class=\"dataframe\">\n",
       "<caption>A kwic: 0 × 7</caption>\n",
       "<thead>\n",
       "\t<tr><th scope=col>docname</th><th scope=col>from</th><th scope=col>to</th><th scope=col>pre</th><th scope=col>keyword</th><th scope=col>post</th><th scope=col>pattern</th></tr>\n",
       "\t<tr><th scope=col>&lt;chr&gt;</th><th scope=col>&lt;int&gt;</th><th scope=col>&lt;int&gt;</th><th scope=col>&lt;chr&gt;</th><th scope=col>&lt;chr&gt;</th><th scope=col>&lt;chr&gt;</th><th scope=col>&lt;fct&gt;</th></tr>\n",
       "</thead>\n",
       "<tbody>\n",
       "</tbody>\n",
       "</table>\n"
      ],
      "text/latex": [
       "A kwic: 0 × 7\n",
       "\\begin{tabular}{lllllll}\n",
       " docname & from & to & pre & keyword & post & pattern\\\\\n",
       " <chr> & <int> & <int> & <chr> & <chr> & <chr> & <fct>\\\\\n",
       "\\hline\n",
       "\\end{tabular}\n"
      ],
      "text/markdown": [
       "\n",
       "A kwic: 0 × 7\n",
       "\n",
       "| docname &lt;chr&gt; | from &lt;int&gt; | to &lt;int&gt; | pre &lt;chr&gt; | keyword &lt;chr&gt; | post &lt;chr&gt; | pattern &lt;fct&gt; |\n",
       "|---|---|---|---|---|---|---|\n",
       "\n"
      ],
      "text/plain": [
       "     docname from to pre keyword post pattern"
      ]
     },
     "metadata": {},
     "output_type": "display_data"
    }
   ],
   "source": [
    "kwic(x = manifesto_toks, pattern = phrase(\"uomo medio\"))"
   ]
  },
  {
   "cell_type": "markdown",
   "id": "d9527c98",
   "metadata": {},
   "source": [
    "torre d avorio"
   ]
  },
  {
   "cell_type": "code",
   "execution_count": 52,
   "id": "82bd2391",
   "metadata": {},
   "outputs": [
    {
     "data": {
      "text/html": [
       "<table class=\"dataframe\">\n",
       "<caption>A kwic: 0 × 7</caption>\n",
       "<thead>\n",
       "\t<tr><th scope=col>docname</th><th scope=col>from</th><th scope=col>to</th><th scope=col>pre</th><th scope=col>keyword</th><th scope=col>post</th><th scope=col>pattern</th></tr>\n",
       "\t<tr><th scope=col>&lt;chr&gt;</th><th scope=col>&lt;int&gt;</th><th scope=col>&lt;int&gt;</th><th scope=col>&lt;chr&gt;</th><th scope=col>&lt;chr&gt;</th><th scope=col>&lt;chr&gt;</th><th scope=col>&lt;fct&gt;</th></tr>\n",
       "</thead>\n",
       "<tbody>\n",
       "</tbody>\n",
       "</table>\n"
      ],
      "text/latex": [
       "A kwic: 0 × 7\n",
       "\\begin{tabular}{lllllll}\n",
       " docname & from & to & pre & keyword & post & pattern\\\\\n",
       " <chr> & <int> & <int> & <chr> & <chr> & <chr> & <fct>\\\\\n",
       "\\hline\n",
       "\\end{tabular}\n"
      ],
      "text/markdown": [
       "\n",
       "A kwic: 0 × 7\n",
       "\n",
       "| docname &lt;chr&gt; | from &lt;int&gt; | to &lt;int&gt; | pre &lt;chr&gt; | keyword &lt;chr&gt; | post &lt;chr&gt; | pattern &lt;fct&gt; |\n",
       "|---|---|---|---|---|---|---|\n",
       "\n"
      ],
      "text/plain": [
       "     docname from to pre keyword post pattern"
      ]
     },
     "metadata": {},
     "output_type": "display_data"
    }
   ],
   "source": [
    "kwic(x = manifesto_toks, pattern = phrase(\"torre d avorio\"))"
   ]
  },
  {
   "cell_type": "markdown",
   "id": "f50310bf",
   "metadata": {},
   "source": [
    "solit? partit"
   ]
  },
  {
   "cell_type": "code",
   "execution_count": 53,
   "id": "1ab17a0d",
   "metadata": {},
   "outputs": [
    {
     "data": {
      "text/html": [
       "<table class=\"dataframe\">\n",
       "<caption>A kwic: 0 × 7</caption>\n",
       "<thead>\n",
       "\t<tr><th scope=col>docname</th><th scope=col>from</th><th scope=col>to</th><th scope=col>pre</th><th scope=col>keyword</th><th scope=col>post</th><th scope=col>pattern</th></tr>\n",
       "\t<tr><th scope=col>&lt;chr&gt;</th><th scope=col>&lt;int&gt;</th><th scope=col>&lt;int&gt;</th><th scope=col>&lt;chr&gt;</th><th scope=col>&lt;chr&gt;</th><th scope=col>&lt;chr&gt;</th><th scope=col>&lt;fct&gt;</th></tr>\n",
       "</thead>\n",
       "<tbody>\n",
       "</tbody>\n",
       "</table>\n"
      ],
      "text/latex": [
       "A kwic: 0 × 7\n",
       "\\begin{tabular}{lllllll}\n",
       " docname & from & to & pre & keyword & post & pattern\\\\\n",
       " <chr> & <int> & <int> & <chr> & <chr> & <chr> & <fct>\\\\\n",
       "\\hline\n",
       "\\end{tabular}\n"
      ],
      "text/markdown": [
       "\n",
       "A kwic: 0 × 7\n",
       "\n",
       "| docname &lt;chr&gt; | from &lt;int&gt; | to &lt;int&gt; | pre &lt;chr&gt; | keyword &lt;chr&gt; | post &lt;chr&gt; | pattern &lt;fct&gt; |\n",
       "|---|---|---|---|---|---|---|\n",
       "\n"
      ],
      "text/plain": [
       "     docname from to pre keyword post pattern"
      ]
     },
     "metadata": {},
     "output_type": "display_data"
    }
   ],
   "source": [
    "kwic(x = manifesto_toks, pattern = phrase(\"solit? partit\"))"
   ]
  },
  {
   "cell_type": "markdown",
   "id": "1d6f2be4",
   "metadata": {},
   "source": [
    "vecch? partit?"
   ]
  },
  {
   "cell_type": "code",
   "execution_count": 54,
   "id": "a28c3694",
   "metadata": {},
   "outputs": [
    {
     "data": {
      "text/html": [
       "<table class=\"dataframe\">\n",
       "<caption>A kwic: 5 × 7</caption>\n",
       "<thead>\n",
       "\t<tr><th></th><th scope=col>docname</th><th scope=col>from</th><th scope=col>to</th><th scope=col>pre</th><th scope=col>keyword</th><th scope=col>post</th><th scope=col>pattern</th></tr>\n",
       "\t<tr><th></th><th scope=col>&lt;chr&gt;</th><th scope=col>&lt;int&gt;</th><th scope=col>&lt;int&gt;</th><th scope=col>&lt;chr&gt;</th><th scope=col>&lt;chr&gt;</th><th scope=col>&lt;chr&gt;</th><th scope=col>&lt;fct&gt;</th></tr>\n",
       "</thead>\n",
       "<tbody>\n",
       "\t<tr><th scope=row>1</th><td>32530</td><td> 1555</td><td> 1556</td><td> giudizio           </td><td>vecchi partiti</td><td>neanche disinvolti protagonisti</td><td>vecch? partit?</td></tr>\n",
       "\t<tr><th scope=row>2</th><td>32530</td><td> 1711</td><td> 1712</td><td> pensiero politico  </td><td>vecchi partiti</td><td>tramontati partiti necessari   </td><td>vecch? partit?</td></tr>\n",
       "\t<tr><th scope=row>3</th><td>32720</td><td>36941</td><td>36942</td><td>battaglia referendum</td><td>vecchi partiti</td><td> voluti minimamente            </td><td>vecch? partit?</td></tr>\n",
       "\t<tr><th scope=row>4</th><td>32956</td><td> 3111</td><td> 3112</td><td> tentativi fermati  </td><td>vecchi partiti</td><td> rinviato l'approvazione       </td><td>vecch? partit?</td></tr>\n",
       "\t<tr><th scope=row>5</th><td>32956</td><td> 3564</td><td> 3565</td><td> rappresentanti     </td><td>vecchi partiti</td><td>parla rimuovere Fiscal         </td><td>vecch? partit?</td></tr>\n",
       "</tbody>\n",
       "</table>\n"
      ],
      "text/latex": [
       "A kwic: 5 × 7\n",
       "\\begin{tabular}{r|lllllll}\n",
       "  & docname & from & to & pre & keyword & post & pattern\\\\\n",
       "  & <chr> & <int> & <int> & <chr> & <chr> & <chr> & <fct>\\\\\n",
       "\\hline\n",
       "\t1 & 32530 &  1555 &  1556 &  giudizio            & vecchi partiti & neanche disinvolti protagonisti & vecch? partit?\\\\\n",
       "\t2 & 32530 &  1711 &  1712 &  pensiero politico   & vecchi partiti & tramontati partiti necessari    & vecch? partit?\\\\\n",
       "\t3 & 32720 & 36941 & 36942 & battaglia referendum & vecchi partiti &  voluti minimamente             & vecch? partit?\\\\\n",
       "\t4 & 32956 &  3111 &  3112 &  tentativi fermati   & vecchi partiti &  rinviato l'approvazione        & vecch? partit?\\\\\n",
       "\t5 & 32956 &  3564 &  3565 &  rappresentanti      & vecchi partiti & parla rimuovere Fiscal          & vecch? partit?\\\\\n",
       "\\end{tabular}\n"
      ],
      "text/markdown": [
       "\n",
       "A kwic: 5 × 7\n",
       "\n",
       "| <!--/--> | docname &lt;chr&gt; | from &lt;int&gt; | to &lt;int&gt; | pre &lt;chr&gt; | keyword &lt;chr&gt; | post &lt;chr&gt; | pattern &lt;fct&gt; |\n",
       "|---|---|---|---|---|---|---|---|\n",
       "| 1 | 32530 |  1555 |  1556 |  giudizio            | vecchi partiti | neanche disinvolti protagonisti | vecch? partit? |\n",
       "| 2 | 32530 |  1711 |  1712 |  pensiero politico   | vecchi partiti | tramontati partiti necessari    | vecch? partit? |\n",
       "| 3 | 32720 | 36941 | 36942 | battaglia referendum | vecchi partiti |  voluti minimamente             | vecch? partit? |\n",
       "| 4 | 32956 |  3111 |  3112 |  tentativi fermati   | vecchi partiti |  rinviato l'approvazione        | vecch? partit? |\n",
       "| 5 | 32956 |  3564 |  3565 |  rappresentanti      | vecchi partiti | parla rimuovere Fiscal          | vecch? partit? |\n",
       "\n"
      ],
      "text/plain": [
       "  docname from  to    pre                  keyword       \n",
       "1 32530    1555  1556  giudizio            vecchi partiti\n",
       "2 32530    1711  1712  pensiero politico   vecchi partiti\n",
       "3 32720   36941 36942 battaglia referendum vecchi partiti\n",
       "4 32956    3111  3112  tentativi fermati   vecchi partiti\n",
       "5 32956    3564  3565  rappresentanti      vecchi partiti\n",
       "  post                            pattern       \n",
       "1 neanche disinvolti protagonisti vecch? partit?\n",
       "2 tramontati partiti necessari    vecch? partit?\n",
       "3  voluti minimamente             vecch? partit?\n",
       "4  rinviato l'approvazione        vecch? partit?\n",
       "5 parla rimuovere Fiscal          vecch? partit?"
      ]
     },
     "metadata": {},
     "output_type": "display_data"
    }
   ],
   "source": [
    "kwic(x = manifesto_toks, pattern = phrase(\"vecch? partit?\"))"
   ]
  },
  {
   "cell_type": "markdown",
   "id": "640fe9e1",
   "metadata": {},
   "source": [
    "uomini onesti"
   ]
  },
  {
   "cell_type": "code",
   "execution_count": 55,
   "id": "f89d36e4",
   "metadata": {},
   "outputs": [
    {
     "data": {
      "text/html": [
       "<table class=\"dataframe\">\n",
       "<caption>A kwic: 0 × 7</caption>\n",
       "<thead>\n",
       "\t<tr><th scope=col>docname</th><th scope=col>from</th><th scope=col>to</th><th scope=col>pre</th><th scope=col>keyword</th><th scope=col>post</th><th scope=col>pattern</th></tr>\n",
       "\t<tr><th scope=col>&lt;chr&gt;</th><th scope=col>&lt;int&gt;</th><th scope=col>&lt;int&gt;</th><th scope=col>&lt;chr&gt;</th><th scope=col>&lt;chr&gt;</th><th scope=col>&lt;chr&gt;</th><th scope=col>&lt;fct&gt;</th></tr>\n",
       "</thead>\n",
       "<tbody>\n",
       "</tbody>\n",
       "</table>\n"
      ],
      "text/latex": [
       "A kwic: 0 × 7\n",
       "\\begin{tabular}{lllllll}\n",
       " docname & from & to & pre & keyword & post & pattern\\\\\n",
       " <chr> & <int> & <int> & <chr> & <chr> & <chr> & <fct>\\\\\n",
       "\\hline\n",
       "\\end{tabular}\n"
      ],
      "text/markdown": [
       "\n",
       "A kwic: 0 × 7\n",
       "\n",
       "| docname &lt;chr&gt; | from &lt;int&gt; | to &lt;int&gt; | pre &lt;chr&gt; | keyword &lt;chr&gt; | post &lt;chr&gt; | pattern &lt;fct&gt; |\n",
       "|---|---|---|---|---|---|---|\n",
       "\n"
      ],
      "text/plain": [
       "     docname from to pre keyword post pattern"
      ]
     },
     "metadata": {},
     "output_type": "display_data"
    }
   ],
   "source": [
    "kwic(x = manifesto_toks, pattern = phrase(\"uomini onesti\"))"
   ]
  },
  {
   "cell_type": "markdown",
   "id": "50f194e2",
   "metadata": {},
   "source": [
    "senso comune"
   ]
  },
  {
   "cell_type": "code",
   "execution_count": 56,
   "id": "b7180b70",
   "metadata": {},
   "outputs": [
    {
     "data": {
      "text/html": [
       "<table class=\"dataframe\">\n",
       "<caption>A kwic: 4 × 7</caption>\n",
       "<thead>\n",
       "\t<tr><th></th><th scope=col>docname</th><th scope=col>from</th><th scope=col>to</th><th scope=col>pre</th><th scope=col>keyword</th><th scope=col>post</th><th scope=col>pattern</th></tr>\n",
       "\t<tr><th></th><th scope=col>&lt;chr&gt;</th><th scope=col>&lt;int&gt;</th><th scope=col>&lt;int&gt;</th><th scope=col>&lt;chr&gt;</th><th scope=col>&lt;chr&gt;</th><th scope=col>&lt;chr&gt;</th><th scope=col>&lt;fct&gt;</th></tr>\n",
       "</thead>\n",
       "<tbody>\n",
       "\t<tr><th scope=row>1</th><td>32530</td><td> 7107</td><td> 7108</td><td> separano       </td><td>senso comune</td><td>idee opposte            </td><td>senso comune</td></tr>\n",
       "\t<tr><th scope=row>2</th><td>32956</td><td>35436</td><td>35437</td><td> scriveva parole</td><td>senso comune</td><td> insegna l'acqua        </td><td>senso comune</td></tr>\n",
       "\t<tr><th scope=row>3</th><td>32956</td><td>35460</td><td>35461</td><td>sete mondo      </td><td>senso comune</td><td> comune sensi           </td><td>senso comune</td></tr>\n",
       "\t<tr><th scope=row>4</th><td>32956</td><td>47727</td><td>47728</td><td>comprare entrato</td><td>senso comune</td><td>l'idea buona prestazione</td><td>senso comune</td></tr>\n",
       "</tbody>\n",
       "</table>\n"
      ],
      "text/latex": [
       "A kwic: 4 × 7\n",
       "\\begin{tabular}{r|lllllll}\n",
       "  & docname & from & to & pre & keyword & post & pattern\\\\\n",
       "  & <chr> & <int> & <int> & <chr> & <chr> & <chr> & <fct>\\\\\n",
       "\\hline\n",
       "\t1 & 32530 &  7107 &  7108 &  separano        & senso comune & idee opposte             & senso comune\\\\\n",
       "\t2 & 32956 & 35436 & 35437 &  scriveva parole & senso comune &  insegna l'acqua         & senso comune\\\\\n",
       "\t3 & 32956 & 35460 & 35461 & sete mondo       & senso comune &  comune sensi            & senso comune\\\\\n",
       "\t4 & 32956 & 47727 & 47728 & comprare entrato & senso comune & l'idea buona prestazione & senso comune\\\\\n",
       "\\end{tabular}\n"
      ],
      "text/markdown": [
       "\n",
       "A kwic: 4 × 7\n",
       "\n",
       "| <!--/--> | docname &lt;chr&gt; | from &lt;int&gt; | to &lt;int&gt; | pre &lt;chr&gt; | keyword &lt;chr&gt; | post &lt;chr&gt; | pattern &lt;fct&gt; |\n",
       "|---|---|---|---|---|---|---|---|\n",
       "| 1 | 32530 |  7107 |  7108 |  separano        | senso comune | idee opposte             | senso comune |\n",
       "| 2 | 32956 | 35436 | 35437 |  scriveva parole | senso comune |  insegna l'acqua         | senso comune |\n",
       "| 3 | 32956 | 35460 | 35461 | sete mondo       | senso comune |  comune sensi            | senso comune |\n",
       "| 4 | 32956 | 47727 | 47728 | comprare entrato | senso comune | l'idea buona prestazione | senso comune |\n",
       "\n"
      ],
      "text/plain": [
       "  docname from  to    pre              keyword      post                    \n",
       "1 32530    7107  7108  separano        senso comune idee opposte            \n",
       "2 32956   35436 35437  scriveva parole senso comune  insegna l'acqua        \n",
       "3 32956   35460 35461 sete mondo       senso comune  comune sensi           \n",
       "4 32956   47727 47728 comprare entrato senso comune l'idea buona prestazione\n",
       "  pattern     \n",
       "1 senso comune\n",
       "2 senso comune\n",
       "3 senso comune\n",
       "4 senso comune"
      ]
     },
     "metadata": {},
     "output_type": "display_data"
    }
   ],
   "source": [
    "kwic(x = manifesto_toks, pattern = phrase(\"senso comune\"))"
   ]
  },
  {
   "cell_type": "markdown",
   "id": "bcf27d76",
   "metadata": {},
   "source": [
    "attaccat? all? poltron?"
   ]
  },
  {
   "cell_type": "code",
   "execution_count": 57,
   "id": "3df50427",
   "metadata": {},
   "outputs": [
    {
     "data": {
      "text/html": [
       "<table class=\"dataframe\">\n",
       "<caption>A kwic: 0 × 7</caption>\n",
       "<thead>\n",
       "\t<tr><th scope=col>docname</th><th scope=col>from</th><th scope=col>to</th><th scope=col>pre</th><th scope=col>keyword</th><th scope=col>post</th><th scope=col>pattern</th></tr>\n",
       "\t<tr><th scope=col>&lt;chr&gt;</th><th scope=col>&lt;int&gt;</th><th scope=col>&lt;int&gt;</th><th scope=col>&lt;chr&gt;</th><th scope=col>&lt;chr&gt;</th><th scope=col>&lt;chr&gt;</th><th scope=col>&lt;fct&gt;</th></tr>\n",
       "</thead>\n",
       "<tbody>\n",
       "</tbody>\n",
       "</table>\n"
      ],
      "text/latex": [
       "A kwic: 0 × 7\n",
       "\\begin{tabular}{lllllll}\n",
       " docname & from & to & pre & keyword & post & pattern\\\\\n",
       " <chr> & <int> & <int> & <chr> & <chr> & <chr> & <fct>\\\\\n",
       "\\hline\n",
       "\\end{tabular}\n"
      ],
      "text/markdown": [
       "\n",
       "A kwic: 0 × 7\n",
       "\n",
       "| docname &lt;chr&gt; | from &lt;int&gt; | to &lt;int&gt; | pre &lt;chr&gt; | keyword &lt;chr&gt; | post &lt;chr&gt; | pattern &lt;fct&gt; |\n",
       "|---|---|---|---|---|---|---|\n",
       "\n"
      ],
      "text/plain": [
       "     docname from to pre keyword post pattern"
      ]
     },
     "metadata": {},
     "output_type": "display_data"
    }
   ],
   "source": [
    "kwic(x = manifesto_toks, pattern = phrase(\"attaccat? all? poltron?\"))"
   ]
  },
  {
   "cell_type": "markdown",
   "id": "d6614426",
   "metadata": {},
   "source": [
    "assetat? di potere"
   ]
  },
  {
   "cell_type": "code",
   "execution_count": 58,
   "id": "1948e17b",
   "metadata": {},
   "outputs": [
    {
     "data": {
      "text/html": [
       "<table class=\"dataframe\">\n",
       "<caption>A kwic: 0 × 7</caption>\n",
       "<thead>\n",
       "\t<tr><th scope=col>docname</th><th scope=col>from</th><th scope=col>to</th><th scope=col>pre</th><th scope=col>keyword</th><th scope=col>post</th><th scope=col>pattern</th></tr>\n",
       "\t<tr><th scope=col>&lt;chr&gt;</th><th scope=col>&lt;int&gt;</th><th scope=col>&lt;int&gt;</th><th scope=col>&lt;chr&gt;</th><th scope=col>&lt;chr&gt;</th><th scope=col>&lt;chr&gt;</th><th scope=col>&lt;fct&gt;</th></tr>\n",
       "</thead>\n",
       "<tbody>\n",
       "</tbody>\n",
       "</table>\n"
      ],
      "text/latex": [
       "A kwic: 0 × 7\n",
       "\\begin{tabular}{lllllll}\n",
       " docname & from & to & pre & keyword & post & pattern\\\\\n",
       " <chr> & <int> & <int> & <chr> & <chr> & <chr> & <fct>\\\\\n",
       "\\hline\n",
       "\\end{tabular}\n"
      ],
      "text/markdown": [
       "\n",
       "A kwic: 0 × 7\n",
       "\n",
       "| docname &lt;chr&gt; | from &lt;int&gt; | to &lt;int&gt; | pre &lt;chr&gt; | keyword &lt;chr&gt; | post &lt;chr&gt; | pattern &lt;fct&gt; |\n",
       "|---|---|---|---|---|---|---|\n",
       "\n"
      ],
      "text/plain": [
       "     docname from to pre keyword post pattern"
      ]
     },
     "metadata": {},
     "output_type": "display_data"
    }
   ],
   "source": [
    "kwic(x = manifesto_toks, pattern = phrase(\"assetat? di potere\"))"
   ]
  },
  {
   "cell_type": "markdown",
   "id": "43a0cc6d",
   "metadata": {},
   "source": [
    "comun? mortal?"
   ]
  },
  {
   "cell_type": "code",
   "execution_count": 59,
   "id": "e2d4389b",
   "metadata": {},
   "outputs": [
    {
     "data": {
      "text/html": [
       "<table class=\"dataframe\">\n",
       "<caption>A kwic: 0 × 7</caption>\n",
       "<thead>\n",
       "\t<tr><th scope=col>docname</th><th scope=col>from</th><th scope=col>to</th><th scope=col>pre</th><th scope=col>keyword</th><th scope=col>post</th><th scope=col>pattern</th></tr>\n",
       "\t<tr><th scope=col>&lt;chr&gt;</th><th scope=col>&lt;int&gt;</th><th scope=col>&lt;int&gt;</th><th scope=col>&lt;chr&gt;</th><th scope=col>&lt;chr&gt;</th><th scope=col>&lt;chr&gt;</th><th scope=col>&lt;fct&gt;</th></tr>\n",
       "</thead>\n",
       "<tbody>\n",
       "</tbody>\n",
       "</table>\n"
      ],
      "text/latex": [
       "A kwic: 0 × 7\n",
       "\\begin{tabular}{lllllll}\n",
       " docname & from & to & pre & keyword & post & pattern\\\\\n",
       " <chr> & <int> & <int> & <chr> & <chr> & <chr> & <fct>\\\\\n",
       "\\hline\n",
       "\\end{tabular}\n"
      ],
      "text/markdown": [
       "\n",
       "A kwic: 0 × 7\n",
       "\n",
       "| docname &lt;chr&gt; | from &lt;int&gt; | to &lt;int&gt; | pre &lt;chr&gt; | keyword &lt;chr&gt; | post &lt;chr&gt; | pattern &lt;fct&gt; |\n",
       "|---|---|---|---|---|---|---|\n",
       "\n"
      ],
      "text/plain": [
       "     docname from to pre keyword post pattern"
      ]
     },
     "metadata": {},
     "output_type": "display_data"
    }
   ],
   "source": [
    "kwic(x = manifesto_toks, pattern = phrase(\"comun? mortal?\"))"
   ]
  },
  {
   "cell_type": "markdown",
   "id": "526738f1",
   "metadata": {},
   "source": [
    "bugie dei partiti"
   ]
  },
  {
   "cell_type": "code",
   "execution_count": 60,
   "id": "573bbf20",
   "metadata": {},
   "outputs": [
    {
     "data": {
      "text/html": [
       "<table class=\"dataframe\">\n",
       "<caption>A kwic: 0 × 7</caption>\n",
       "<thead>\n",
       "\t<tr><th scope=col>docname</th><th scope=col>from</th><th scope=col>to</th><th scope=col>pre</th><th scope=col>keyword</th><th scope=col>post</th><th scope=col>pattern</th></tr>\n",
       "\t<tr><th scope=col>&lt;chr&gt;</th><th scope=col>&lt;int&gt;</th><th scope=col>&lt;int&gt;</th><th scope=col>&lt;chr&gt;</th><th scope=col>&lt;chr&gt;</th><th scope=col>&lt;chr&gt;</th><th scope=col>&lt;fct&gt;</th></tr>\n",
       "</thead>\n",
       "<tbody>\n",
       "</tbody>\n",
       "</table>\n"
      ],
      "text/latex": [
       "A kwic: 0 × 7\n",
       "\\begin{tabular}{lllllll}\n",
       " docname & from & to & pre & keyword & post & pattern\\\\\n",
       " <chr> & <int> & <int> & <chr> & <chr> & <chr> & <fct>\\\\\n",
       "\\hline\n",
       "\\end{tabular}\n"
      ],
      "text/markdown": [
       "\n",
       "A kwic: 0 × 7\n",
       "\n",
       "| docname &lt;chr&gt; | from &lt;int&gt; | to &lt;int&gt; | pre &lt;chr&gt; | keyword &lt;chr&gt; | post &lt;chr&gt; | pattern &lt;fct&gt; |\n",
       "|---|---|---|---|---|---|---|\n",
       "\n"
      ],
      "text/plain": [
       "     docname from to pre keyword post pattern"
      ]
     },
     "metadata": {},
     "output_type": "display_data"
    }
   ],
   "source": [
    "kwic(x = manifesto_toks, pattern = phrase(\"bugie dei partiti\"))"
   ]
  },
  {
   "cell_type": "markdown",
   "id": "ebd52fda",
   "metadata": {},
   "source": [
    "falsita dei partiti"
   ]
  },
  {
   "cell_type": "code",
   "execution_count": 61,
   "id": "796f2a37",
   "metadata": {},
   "outputs": [
    {
     "data": {
      "text/html": [
       "<table class=\"dataframe\">\n",
       "<caption>A kwic: 0 × 7</caption>\n",
       "<thead>\n",
       "\t<tr><th scope=col>docname</th><th scope=col>from</th><th scope=col>to</th><th scope=col>pre</th><th scope=col>keyword</th><th scope=col>post</th><th scope=col>pattern</th></tr>\n",
       "\t<tr><th scope=col>&lt;chr&gt;</th><th scope=col>&lt;int&gt;</th><th scope=col>&lt;int&gt;</th><th scope=col>&lt;chr&gt;</th><th scope=col>&lt;chr&gt;</th><th scope=col>&lt;chr&gt;</th><th scope=col>&lt;fct&gt;</th></tr>\n",
       "</thead>\n",
       "<tbody>\n",
       "</tbody>\n",
       "</table>\n"
      ],
      "text/latex": [
       "A kwic: 0 × 7\n",
       "\\begin{tabular}{lllllll}\n",
       " docname & from & to & pre & keyword & post & pattern\\\\\n",
       " <chr> & <int> & <int> & <chr> & <chr> & <chr> & <fct>\\\\\n",
       "\\hline\n",
       "\\end{tabular}\n"
      ],
      "text/markdown": [
       "\n",
       "A kwic: 0 × 7\n",
       "\n",
       "| docname &lt;chr&gt; | from &lt;int&gt; | to &lt;int&gt; | pre &lt;chr&gt; | keyword &lt;chr&gt; | post &lt;chr&gt; | pattern &lt;fct&gt; |\n",
       "|---|---|---|---|---|---|---|\n",
       "\n"
      ],
      "text/plain": [
       "     docname from to pre keyword post pattern"
      ]
     },
     "metadata": {},
     "output_type": "display_data"
    }
   ],
   "source": [
    "kwic(x = manifesto_toks, pattern = phrase(\"falsita dei partiti\"))"
   ]
  },
  {
   "cell_type": "markdown",
   "id": "7a47df17",
   "metadata": {},
   "source": [
    "senza valori"
   ]
  },
  {
   "cell_type": "code",
   "execution_count": 62,
   "id": "ae1e58fa",
   "metadata": {},
   "outputs": [
    {
     "data": {
      "text/html": [
       "<table class=\"dataframe\">\n",
       "<caption>A kwic: 0 × 7</caption>\n",
       "<thead>\n",
       "\t<tr><th scope=col>docname</th><th scope=col>from</th><th scope=col>to</th><th scope=col>pre</th><th scope=col>keyword</th><th scope=col>post</th><th scope=col>pattern</th></tr>\n",
       "\t<tr><th scope=col>&lt;chr&gt;</th><th scope=col>&lt;int&gt;</th><th scope=col>&lt;int&gt;</th><th scope=col>&lt;chr&gt;</th><th scope=col>&lt;chr&gt;</th><th scope=col>&lt;chr&gt;</th><th scope=col>&lt;fct&gt;</th></tr>\n",
       "</thead>\n",
       "<tbody>\n",
       "</tbody>\n",
       "</table>\n"
      ],
      "text/latex": [
       "A kwic: 0 × 7\n",
       "\\begin{tabular}{lllllll}\n",
       " docname & from & to & pre & keyword & post & pattern\\\\\n",
       " <chr> & <int> & <int> & <chr> & <chr> & <chr> & <fct>\\\\\n",
       "\\hline\n",
       "\\end{tabular}\n"
      ],
      "text/markdown": [
       "\n",
       "A kwic: 0 × 7\n",
       "\n",
       "| docname &lt;chr&gt; | from &lt;int&gt; | to &lt;int&gt; | pre &lt;chr&gt; | keyword &lt;chr&gt; | post &lt;chr&gt; | pattern &lt;fct&gt; |\n",
       "|---|---|---|---|---|---|---|\n",
       "\n"
      ],
      "text/plain": [
       "     docname from to pre keyword post pattern"
      ]
     },
     "metadata": {},
     "output_type": "display_data"
    }
   ],
   "source": [
    "kwic(x = manifesto_toks, pattern = phrase(\"senza valori\"))"
   ]
  },
  {
   "cell_type": "markdown",
   "id": "cdc75810",
   "metadata": {},
   "source": [
    "pseudo-partit?"
   ]
  },
  {
   "cell_type": "code",
   "execution_count": 63,
   "id": "5ba8163a",
   "metadata": {},
   "outputs": [
    {
     "data": {
      "text/html": [
       "<table class=\"dataframe\">\n",
       "<caption>A kwic: 0 × 7</caption>\n",
       "<thead>\n",
       "\t<tr><th scope=col>docname</th><th scope=col>from</th><th scope=col>to</th><th scope=col>pre</th><th scope=col>keyword</th><th scope=col>post</th><th scope=col>pattern</th></tr>\n",
       "\t<tr><th scope=col>&lt;chr&gt;</th><th scope=col>&lt;int&gt;</th><th scope=col>&lt;int&gt;</th><th scope=col>&lt;chr&gt;</th><th scope=col>&lt;chr&gt;</th><th scope=col>&lt;chr&gt;</th><th scope=col>&lt;fct&gt;</th></tr>\n",
       "</thead>\n",
       "<tbody>\n",
       "</tbody>\n",
       "</table>\n"
      ],
      "text/latex": [
       "A kwic: 0 × 7\n",
       "\\begin{tabular}{lllllll}\n",
       " docname & from & to & pre & keyword & post & pattern\\\\\n",
       " <chr> & <int> & <int> & <chr> & <chr> & <chr> & <fct>\\\\\n",
       "\\hline\n",
       "\\end{tabular}\n"
      ],
      "text/markdown": [
       "\n",
       "A kwic: 0 × 7\n",
       "\n",
       "| docname &lt;chr&gt; | from &lt;int&gt; | to &lt;int&gt; | pre &lt;chr&gt; | keyword &lt;chr&gt; | post &lt;chr&gt; | pattern &lt;fct&gt; |\n",
       "|---|---|---|---|---|---|---|\n",
       "\n"
      ],
      "text/plain": [
       "     docname from to pre keyword post pattern"
      ]
     },
     "metadata": {},
     "output_type": "display_data"
    }
   ],
   "source": [
    "kwic(x = manifesto_toks, pattern = phrase(\"pseudo-partit?\"))"
   ]
  },
  {
   "cell_type": "markdown",
   "id": "804cdf40",
   "metadata": {},
   "source": [
    "sistema-partito"
   ]
  },
  {
   "cell_type": "code",
   "execution_count": 64,
   "id": "9ba1b79b",
   "metadata": {},
   "outputs": [
    {
     "data": {
      "text/html": [
       "<table class=\"dataframe\">\n",
       "<caption>A kwic: 0 × 7</caption>\n",
       "<thead>\n",
       "\t<tr><th scope=col>docname</th><th scope=col>from</th><th scope=col>to</th><th scope=col>pre</th><th scope=col>keyword</th><th scope=col>post</th><th scope=col>pattern</th></tr>\n",
       "\t<tr><th scope=col>&lt;chr&gt;</th><th scope=col>&lt;int&gt;</th><th scope=col>&lt;int&gt;</th><th scope=col>&lt;chr&gt;</th><th scope=col>&lt;chr&gt;</th><th scope=col>&lt;chr&gt;</th><th scope=col>&lt;fct&gt;</th></tr>\n",
       "</thead>\n",
       "<tbody>\n",
       "</tbody>\n",
       "</table>\n"
      ],
      "text/latex": [
       "A kwic: 0 × 7\n",
       "\\begin{tabular}{lllllll}\n",
       " docname & from & to & pre & keyword & post & pattern\\\\\n",
       " <chr> & <int> & <int> & <chr> & <chr> & <chr> & <fct>\\\\\n",
       "\\hline\n",
       "\\end{tabular}\n"
      ],
      "text/markdown": [
       "\n",
       "A kwic: 0 × 7\n",
       "\n",
       "| docname &lt;chr&gt; | from &lt;int&gt; | to &lt;int&gt; | pre &lt;chr&gt; | keyword &lt;chr&gt; | post &lt;chr&gt; | pattern &lt;fct&gt; |\n",
       "|---|---|---|---|---|---|---|\n",
       "\n"
      ],
      "text/plain": [
       "     docname from to pre keyword post pattern"
      ]
     },
     "metadata": {},
     "output_type": "display_data"
    }
   ],
   "source": [
    "kwic(x = manifesto_toks, pattern = phrase(\"sistema-partito\"))"
   ]
  },
  {
   "cell_type": "markdown",
   "id": "85df57bb",
   "metadata": {},
   "source": [
    "non democratic*"
   ]
  },
  {
   "cell_type": "code",
   "execution_count": 65,
   "id": "c5add7c4",
   "metadata": {},
   "outputs": [
    {
     "data": {
      "text/html": [
       "<table class=\"dataframe\">\n",
       "<caption>A kwic: 0 × 7</caption>\n",
       "<thead>\n",
       "\t<tr><th scope=col>docname</th><th scope=col>from</th><th scope=col>to</th><th scope=col>pre</th><th scope=col>keyword</th><th scope=col>post</th><th scope=col>pattern</th></tr>\n",
       "\t<tr><th scope=col>&lt;chr&gt;</th><th scope=col>&lt;int&gt;</th><th scope=col>&lt;int&gt;</th><th scope=col>&lt;chr&gt;</th><th scope=col>&lt;chr&gt;</th><th scope=col>&lt;chr&gt;</th><th scope=col>&lt;fct&gt;</th></tr>\n",
       "</thead>\n",
       "<tbody>\n",
       "</tbody>\n",
       "</table>\n"
      ],
      "text/latex": [
       "A kwic: 0 × 7\n",
       "\\begin{tabular}{lllllll}\n",
       " docname & from & to & pre & keyword & post & pattern\\\\\n",
       " <chr> & <int> & <int> & <chr> & <chr> & <chr> & <fct>\\\\\n",
       "\\hline\n",
       "\\end{tabular}\n"
      ],
      "text/markdown": [
       "\n",
       "A kwic: 0 × 7\n",
       "\n",
       "| docname &lt;chr&gt; | from &lt;int&gt; | to &lt;int&gt; | pre &lt;chr&gt; | keyword &lt;chr&gt; | post &lt;chr&gt; | pattern &lt;fct&gt; |\n",
       "|---|---|---|---|---|---|---|\n",
       "\n"
      ],
      "text/plain": [
       "     docname from to pre keyword post pattern"
      ]
     },
     "metadata": {},
     "output_type": "display_data"
    }
   ],
   "source": [
    "kwic(x = manifesto_toks, pattern = phrase(\"non democratic*\"))"
   ]
  },
  {
   "cell_type": "markdown",
   "id": "c14d4818",
   "metadata": {},
   "source": [
    "prendere in giro"
   ]
  },
  {
   "cell_type": "code",
   "execution_count": 66,
   "id": "3269e2c8",
   "metadata": {},
   "outputs": [
    {
     "data": {
      "text/html": [
       "<table class=\"dataframe\">\n",
       "<caption>A kwic: 0 × 7</caption>\n",
       "<thead>\n",
       "\t<tr><th scope=col>docname</th><th scope=col>from</th><th scope=col>to</th><th scope=col>pre</th><th scope=col>keyword</th><th scope=col>post</th><th scope=col>pattern</th></tr>\n",
       "\t<tr><th scope=col>&lt;chr&gt;</th><th scope=col>&lt;int&gt;</th><th scope=col>&lt;int&gt;</th><th scope=col>&lt;chr&gt;</th><th scope=col>&lt;chr&gt;</th><th scope=col>&lt;chr&gt;</th><th scope=col>&lt;fct&gt;</th></tr>\n",
       "</thead>\n",
       "<tbody>\n",
       "</tbody>\n",
       "</table>\n"
      ],
      "text/latex": [
       "A kwic: 0 × 7\n",
       "\\begin{tabular}{lllllll}\n",
       " docname & from & to & pre & keyword & post & pattern\\\\\n",
       " <chr> & <int> & <int> & <chr> & <chr> & <chr> & <fct>\\\\\n",
       "\\hline\n",
       "\\end{tabular}\n"
      ],
      "text/markdown": [
       "\n",
       "A kwic: 0 × 7\n",
       "\n",
       "| docname &lt;chr&gt; | from &lt;int&gt; | to &lt;int&gt; | pre &lt;chr&gt; | keyword &lt;chr&gt; | post &lt;chr&gt; | pattern &lt;fct&gt; |\n",
       "|---|---|---|---|---|---|---|\n",
       "\n"
      ],
      "text/plain": [
       "     docname from to pre keyword post pattern"
      ]
     },
     "metadata": {},
     "output_type": "display_data"
    }
   ],
   "source": [
    "kwic(x = manifesto_toks, pattern = phrase(\"prendere in giro\"))"
   ]
  },
  {
   "cell_type": "markdown",
   "id": "6b0196d4",
   "metadata": {},
   "source": [
    "dittatur* di partito"
   ]
  },
  {
   "cell_type": "code",
   "execution_count": 67,
   "id": "05d8ff81",
   "metadata": {},
   "outputs": [
    {
     "data": {
      "text/html": [
       "<table class=\"dataframe\">\n",
       "<caption>A kwic: 0 × 7</caption>\n",
       "<thead>\n",
       "\t<tr><th scope=col>docname</th><th scope=col>from</th><th scope=col>to</th><th scope=col>pre</th><th scope=col>keyword</th><th scope=col>post</th><th scope=col>pattern</th></tr>\n",
       "\t<tr><th scope=col>&lt;chr&gt;</th><th scope=col>&lt;int&gt;</th><th scope=col>&lt;int&gt;</th><th scope=col>&lt;chr&gt;</th><th scope=col>&lt;chr&gt;</th><th scope=col>&lt;chr&gt;</th><th scope=col>&lt;fct&gt;</th></tr>\n",
       "</thead>\n",
       "<tbody>\n",
       "</tbody>\n",
       "</table>\n"
      ],
      "text/latex": [
       "A kwic: 0 × 7\n",
       "\\begin{tabular}{lllllll}\n",
       " docname & from & to & pre & keyword & post & pattern\\\\\n",
       " <chr> & <int> & <int> & <chr> & <chr> & <chr> & <fct>\\\\\n",
       "\\hline\n",
       "\\end{tabular}\n"
      ],
      "text/markdown": [
       "\n",
       "A kwic: 0 × 7\n",
       "\n",
       "| docname &lt;chr&gt; | from &lt;int&gt; | to &lt;int&gt; | pre &lt;chr&gt; | keyword &lt;chr&gt; | post &lt;chr&gt; | pattern &lt;fct&gt; |\n",
       "|---|---|---|---|---|---|---|\n",
       "\n"
      ],
      "text/plain": [
       "     docname from to pre keyword post pattern"
      ]
     },
     "metadata": {},
     "output_type": "display_data"
    }
   ],
   "source": [
    "kwic(x = manifesto_toks, pattern = phrase(\"dittatur* di partito\"))"
   ]
  },
  {
   "cell_type": "markdown",
   "id": "b403cd63",
   "metadata": {},
   "source": [
    "teatr* politico"
   ]
  },
  {
   "cell_type": "code",
   "execution_count": 68,
   "id": "4626dd45",
   "metadata": {},
   "outputs": [
    {
     "data": {
      "text/html": [
       "<table class=\"dataframe\">\n",
       "<caption>A kwic: 0 × 7</caption>\n",
       "<thead>\n",
       "\t<tr><th scope=col>docname</th><th scope=col>from</th><th scope=col>to</th><th scope=col>pre</th><th scope=col>keyword</th><th scope=col>post</th><th scope=col>pattern</th></tr>\n",
       "\t<tr><th scope=col>&lt;chr&gt;</th><th scope=col>&lt;int&gt;</th><th scope=col>&lt;int&gt;</th><th scope=col>&lt;chr&gt;</th><th scope=col>&lt;chr&gt;</th><th scope=col>&lt;chr&gt;</th><th scope=col>&lt;fct&gt;</th></tr>\n",
       "</thead>\n",
       "<tbody>\n",
       "</tbody>\n",
       "</table>\n"
      ],
      "text/latex": [
       "A kwic: 0 × 7\n",
       "\\begin{tabular}{lllllll}\n",
       " docname & from & to & pre & keyword & post & pattern\\\\\n",
       " <chr> & <int> & <int> & <chr> & <chr> & <chr> & <fct>\\\\\n",
       "\\hline\n",
       "\\end{tabular}\n"
      ],
      "text/markdown": [
       "\n",
       "A kwic: 0 × 7\n",
       "\n",
       "| docname &lt;chr&gt; | from &lt;int&gt; | to &lt;int&gt; | pre &lt;chr&gt; | keyword &lt;chr&gt; | post &lt;chr&gt; | pattern &lt;fct&gt; |\n",
       "|---|---|---|---|---|---|---|\n",
       "\n"
      ],
      "text/plain": [
       "     docname from to pre keyword post pattern"
      ]
     },
     "metadata": {},
     "output_type": "display_data"
    }
   ],
   "source": [
    "kwic(x = manifesto_toks, pattern = phrase(\"teatr* politico\"))"
   ]
  },
  {
   "cell_type": "markdown",
   "id": "d1df5215",
   "metadata": {},
   "source": [
    "cosiddett? giornalist?"
   ]
  },
  {
   "cell_type": "code",
   "execution_count": 69,
   "id": "f5785981",
   "metadata": {},
   "outputs": [
    {
     "data": {
      "text/html": [
       "<table class=\"dataframe\">\n",
       "<caption>A kwic: 0 × 7</caption>\n",
       "<thead>\n",
       "\t<tr><th scope=col>docname</th><th scope=col>from</th><th scope=col>to</th><th scope=col>pre</th><th scope=col>keyword</th><th scope=col>post</th><th scope=col>pattern</th></tr>\n",
       "\t<tr><th scope=col>&lt;chr&gt;</th><th scope=col>&lt;int&gt;</th><th scope=col>&lt;int&gt;</th><th scope=col>&lt;chr&gt;</th><th scope=col>&lt;chr&gt;</th><th scope=col>&lt;chr&gt;</th><th scope=col>&lt;fct&gt;</th></tr>\n",
       "</thead>\n",
       "<tbody>\n",
       "</tbody>\n",
       "</table>\n"
      ],
      "text/latex": [
       "A kwic: 0 × 7\n",
       "\\begin{tabular}{lllllll}\n",
       " docname & from & to & pre & keyword & post & pattern\\\\\n",
       " <chr> & <int> & <int> & <chr> & <chr> & <chr> & <fct>\\\\\n",
       "\\hline\n",
       "\\end{tabular}\n"
      ],
      "text/markdown": [
       "\n",
       "A kwic: 0 × 7\n",
       "\n",
       "| docname &lt;chr&gt; | from &lt;int&gt; | to &lt;int&gt; | pre &lt;chr&gt; | keyword &lt;chr&gt; | post &lt;chr&gt; | pattern &lt;fct&gt; |\n",
       "|---|---|---|---|---|---|---|\n",
       "\n"
      ],
      "text/plain": [
       "     docname from to pre keyword post pattern"
      ]
     },
     "metadata": {},
     "output_type": "display_data"
    }
   ],
   "source": [
    "kwic(x = manifesto_toks, pattern = phrase(\"cosiddett? giornalist?\"))"
   ]
  },
  {
   "cell_type": "markdown",
   "id": "13b107bf",
   "metadata": {},
   "source": [
    "cosiddetti media\n"
   ]
  },
  {
   "cell_type": "code",
   "execution_count": 70,
   "id": "0a610f95",
   "metadata": {},
   "outputs": [
    {
     "data": {
      "text/html": [
       "<table class=\"dataframe\">\n",
       "<caption>A kwic: 0 × 7</caption>\n",
       "<thead>\n",
       "\t<tr><th scope=col>docname</th><th scope=col>from</th><th scope=col>to</th><th scope=col>pre</th><th scope=col>keyword</th><th scope=col>post</th><th scope=col>pattern</th></tr>\n",
       "\t<tr><th scope=col>&lt;chr&gt;</th><th scope=col>&lt;int&gt;</th><th scope=col>&lt;int&gt;</th><th scope=col>&lt;chr&gt;</th><th scope=col>&lt;chr&gt;</th><th scope=col>&lt;chr&gt;</th><th scope=col>&lt;fct&gt;</th></tr>\n",
       "</thead>\n",
       "<tbody>\n",
       "</tbody>\n",
       "</table>\n"
      ],
      "text/latex": [
       "A kwic: 0 × 7\n",
       "\\begin{tabular}{lllllll}\n",
       " docname & from & to & pre & keyword & post & pattern\\\\\n",
       " <chr> & <int> & <int> & <chr> & <chr> & <chr> & <fct>\\\\\n",
       "\\hline\n",
       "\\end{tabular}\n"
      ],
      "text/markdown": [
       "\n",
       "A kwic: 0 × 7\n",
       "\n",
       "| docname &lt;chr&gt; | from &lt;int&gt; | to &lt;int&gt; | pre &lt;chr&gt; | keyword &lt;chr&gt; | post &lt;chr&gt; | pattern &lt;fct&gt; |\n",
       "|---|---|---|---|---|---|---|\n",
       "\n"
      ],
      "text/plain": [
       "     docname from to pre keyword post pattern"
      ]
     },
     "metadata": {},
     "output_type": "display_data"
    }
   ],
   "source": [
    "kwic(x = manifesto_toks, pattern = phrase(\"cosiddetti media\"))"
   ]
  }
 ],
 "metadata": {
  "kernelspec": {
   "display_name": "R",
   "language": "R",
   "name": "ir"
  },
  "language_info": {
   "codemirror_mode": "r",
   "file_extension": ".r",
   "mimetype": "text/x-r-source",
   "name": "R",
   "pygments_lexer": "r",
   "version": "4.1.0"
  },
  "toc": {
   "base_numbering": 1,
   "nav_menu": {},
   "number_sections": true,
   "sideBar": true,
   "skip_h1_title": false,
   "title_cell": "Table of Contents",
   "title_sidebar": "Contents",
   "toc_cell": false,
   "toc_position": {
    "height": "calc(100% - 180px)",
    "left": "10px",
    "top": "150px",
    "width": "303.812px"
   },
   "toc_section_display": true,
   "toc_window_display": true
  }
 },
 "nbformat": 4,
 "nbformat_minor": 5
}
