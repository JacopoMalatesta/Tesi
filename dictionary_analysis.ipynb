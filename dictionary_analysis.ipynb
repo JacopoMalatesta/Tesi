{
 "cells": [
  {
   "cell_type": "markdown",
   "id": "8bcc0b1e",
   "metadata": {},
   "source": [
    "1. [Working directory and packages](#chapter1)\n",
    "2. [Data](#chapter2)\n",
    "3. [Preprocessing](#chapter3)\n",
    "4. [Wrapper function](#chapter4)\n",
    "5. [Rooduijn & Pauwels (speeches dataset](#chapter5)\n",
    "   1. [Construct validity](#subparagraph1)\n",
    "   2. [Face validity](#subparagraph2)\n",
    "   3. [External validity](#subparagraph3)\n",
    "       1. [CHES](#subparagraph4)\n",
    "       2. [PopuList](#subparagraph5)\n",
    "6. [Decadri & Boussalis (speeches dataset)](#chapter6)\n",
    "   1. [Construct validity](#subparagraph6)\n",
    "   2. [Face validity](#subparagraph7)\n",
    "   3. [External validity](#subparagraph8)\n",
    "       1. [CHES](#subparagraph9)\n",
    "       2. [PopuList](#subparagraph10)\n",
    "7. [Grundl (Manifesto project)](#chapter7)\n",
    "8. [Decadri and Boussalis (Manifesto Project)](#chapter8)\n",
    "9. [Decadri and Boussalis + Grundl](#chapter9)\n",
    "10.[Keywords in context](#chapter10)"
   ]
  },
  {
   "cell_type": "markdown",
   "id": "3ce99421",
   "metadata": {},
   "source": [
    "# Working directory and packages <a class=\"anchor\" id=\"chapter1\"></a>"
   ]
  },
  {
   "cell_type": "markdown",
   "id": "83cb5c8a",
   "metadata": {},
   "source": [
    "Setting the working directory"
   ]
  },
  {
   "cell_type": "code",
   "execution_count": 1,
   "id": "f4532312",
   "metadata": {},
   "outputs": [],
   "source": [
    "setwd(\"C:/Users/jacop/Tesi/\")"
   ]
  },
  {
   "cell_type": "markdown",
   "id": "f795f035",
   "metadata": {},
   "source": [
    "Loading the libraries"
   ]
  },
  {
   "cell_type": "code",
   "execution_count": 2,
   "id": "d8be7dd8",
   "metadata": {},
   "outputs": [],
   "source": [
    "suppressWarnings(suppressPackageStartupMessages(library(dtplyr)))\n",
    "suppressWarnings(suppressPackageStartupMessages(library(tidyverse)))\n",
    "suppressWarnings(suppressPackageStartupMessages(library(lubridate)))\n",
    "suppressWarnings(suppressPackageStartupMessages(library(data.table)))\n",
    "suppressWarnings(suppressPackageStartupMessages(library(quanteda)))\n",
    "suppressWarnings(suppressPackageStartupMessages(library(manifestoR)))"
   ]
  },
  {
   "cell_type": "markdown",
   "id": "738e3199",
   "metadata": {},
   "source": [
    "The 'tokens_group' function often returns an error when grouping the tokens by more than one variable. One way to fix this is to install a previous version of Quanteda. Let's check which of version we currently have installed."
   ]
  },
  {
   "cell_type": "code",
   "execution_count": 3,
   "id": "2bb4cc91",
   "metadata": {},
   "outputs": [
    {
     "data": {
      "text/plain": [
       "R version 4.1.0 (2021-05-18)\n",
       "Platform: x86_64-w64-mingw32/x64 (64-bit)\n",
       "Running under: Windows 10 x64 (build 22000)\n",
       "\n",
       "Matrix products: default\n",
       "\n",
       "locale:\n",
       "[1] LC_COLLATE=English_United States.1252 \n",
       "[2] LC_CTYPE=English_United States.1252   \n",
       "[3] LC_MONETARY=English_United States.1252\n",
       "[4] LC_NUMERIC=C                          \n",
       "[5] LC_TIME=English_United States.1252    \n",
       "\n",
       "attached base packages:\n",
       "[1] stats     graphics  grDevices utils     datasets  methods   base     \n",
       "\n",
       "other attached packages:\n",
       " [1] manifestoR_1.5.0  tm_0.7-8          NLP_0.2-1         quanteda_2.1.2   \n",
       " [5] data.table_1.14.2 lubridate_1.8.0   forcats_0.5.1     stringr_1.4.0    \n",
       " [9] dplyr_1.0.7       purrr_0.3.4       readr_2.1.0       tidyr_1.1.4      \n",
       "[13] tibble_3.1.6      ggplot2_3.3.5     tidyverse_1.3.1   dtplyr_1.1.0     \n",
       "\n",
       "loaded via a namespace (and not attached):\n",
       " [1] httr_1.4.2         jsonlite_1.7.2     tmvnsim_1.0-2      modelr_0.1.8      \n",
       " [5] functional_0.6     RcppParallel_5.1.4 assertthat_0.2.1   cellranger_1.1.0  \n",
       " [9] yaml_2.2.1         slam_0.1-49        pillar_1.7.0       backports_1.4.0   \n",
       "[13] lattice_0.20-44    glue_1.5.1         uuid_1.0-3         digest_0.6.29     \n",
       "[17] rvest_1.0.2        colorspace_2.0-2   psych_2.1.9        htmltools_0.5.2   \n",
       "[21] Matrix_1.3-4       pkgconfig_2.0.3    broom_0.7.11       haven_2.4.3       \n",
       "[25] scales_1.1.1       tzdb_0.2.0         generics_0.1.1     ellipsis_0.3.2    \n",
       "[29] DT_0.20            withr_2.4.3        repr_1.1.3         mnormt_2.0.2      \n",
       "[33] cli_3.1.0          magrittr_2.0.1     crayon_1.4.2       readxl_1.3.1      \n",
       "[37] evaluate_0.14      stopwords_2.3      fs_1.5.1           fansi_0.5.0       \n",
       "[41] nlme_3.1-152       xml2_1.3.3         tools_4.1.0        hms_1.1.1         \n",
       "[45] lifecycle_1.0.1    munsell_0.5.0      reprex_2.0.1       compiler_4.1.0    \n",
       "[49] rlang_0.4.12       grid_4.1.0         pbdZMQ_0.3-5       IRkernel_1.2      \n",
       "[53] rstudioapi_0.13    htmlwidgets_1.5.4  base64enc_0.1-3    gtable_0.3.0      \n",
       "[57] DBI_1.1.1          R6_2.5.1           zoo_1.8-9          fastmap_1.1.0     \n",
       "[61] utf8_1.2.2         fastmatch_1.1-3    stringi_1.7.6      parallel_4.1.0    \n",
       "[65] IRdisplay_1.0      Rcpp_1.0.7         vctrs_0.3.8        dbplyr_2.1.1      \n",
       "[69] tidyselect_1.1.1  "
      ]
     },
     "metadata": {},
     "output_type": "display_data"
    }
   ],
   "source": [
    "sessionInfo()"
   ]
  },
  {
   "cell_type": "markdown",
   "id": "c47aee3d",
   "metadata": {},
   "source": [
    "If it's the latest one, we'll need to unistall it and replace it with a previous version (2.1.2 in this case but others may work as well)"
   ]
  },
  {
   "cell_type": "code",
   "execution_count": 4,
   "id": "b9f11f53",
   "metadata": {},
   "outputs": [],
   "source": [
    "#devtools::install_version(\"quanteda\", version = \"2.1.2\", repos = \"http://cran.us.r-project.org\")"
   ]
  },
  {
   "cell_type": "markdown",
   "id": "28fd3df0",
   "metadata": {},
   "source": [
    "# Data <a class=\"anchor\" id=\"chapter2\"></a>"
   ]
  },
  {
   "cell_type": "markdown",
   "id": "ae6e47a8",
   "metadata": {},
   "source": [
    "## Speeches dataset"
   ]
  },
  {
   "cell_type": "markdown",
   "id": "74d9ee54",
   "metadata": {},
   "source": [
    "Loading the data and turning it into a lazy data.table so that we can use dtplyr on it"
   ]
  },
  {
   "cell_type": "code",
   "execution_count": 5,
   "id": "26161dfc",
   "metadata": {},
   "outputs": [],
   "source": [
    "# load(\"data/parliamentary_groups2.rds\")\n",
    "texts <- readRDS(\"data/joined_texts.rds\") %>% lazy_dt() %>% as_tibble()"
   ]
  },
  {
   "cell_type": "markdown",
   "id": "270a14cc",
   "metadata": {},
   "source": [
    "Casting the \"legislatura\" variable as numeric"
   ]
  },
  {
   "cell_type": "code",
   "execution_count": 6,
   "id": "bc8f7666",
   "metadata": {},
   "outputs": [],
   "source": [
    "texts <- texts %>% mutate(legislatura = as.integer(legislatura)) %>% as_tibble()"
   ]
  },
  {
   "cell_type": "markdown",
   "id": "0bd20505",
   "metadata": {},
   "source": [
    "Typecast \"dataNascita\" as a date. In order to do this, we first need to remove \".0\" at the end of the date as well insert dashes between years, months and days."
   ]
  },
  {
   "cell_type": "code",
   "execution_count": 7,
   "id": "a941db5b",
   "metadata": {},
   "outputs": [],
   "source": [
    "texts <- texts %>% \n",
    "mutate(dataNascita = str_replace(pattern = \"\\\\.0\", replacement = \"\", string = dataNascita),\n",
    "       dataNascita = str_replace(pattern = \"(\\\\d{4})(\\\\d{2})(\\\\d{2})\", \n",
    "                                 replacement = paste0(\"\\\\1\", \"-\", \"\\\\2\", \"-\", \"\\\\3\" ),\n",
    "                                 string = dataNascita),\n",
    "       dataNascita = as_date(dataNascita))"
   ]
  },
  {
   "cell_type": "markdown",
   "id": "4a04a6f0",
   "metadata": {},
   "source": [
    "Now that \"dataNascita\" is a date, we can calculate each MP's age."
   ]
  },
  {
   "cell_type": "code",
   "execution_count": 8,
   "id": "609e18e3",
   "metadata": {},
   "outputs": [],
   "source": [
    "texts <- texts %>% \n",
    "mutate(age = trunc((dataNascita %--% date) / years(1)))"
   ]
  },
  {
   "cell_type": "markdown",
   "id": "4f480ee1",
   "metadata": {},
   "source": [
    "Filtering the dataset by focusing on the last seven legislatures"
   ]
  },
  {
   "cell_type": "code",
   "execution_count": 9,
   "id": "be3c38e6",
   "metadata": {},
   "outputs": [],
   "source": [
    "filtered_texts <- texts %>% filter(legislatura >= 12) %>% as_tibble()"
   ]
  },
  {
   "cell_type": "markdown",
   "id": "dcfb8337",
   "metadata": {},
   "source": [
    "## Project Manifesto dataset"
   ]
  },
  {
   "cell_type": "markdown",
   "id": "2edc6855",
   "metadata": {},
   "source": [
    "Setting the API key in our work environment"
   ]
  },
  {
   "cell_type": "code",
   "execution_count": 10,
   "id": "8fa4b9ca",
   "metadata": {},
   "outputs": [],
   "source": [
    "mp_setapikey(\"data/manifesto_apikey.txt\")"
   ]
  },
  {
   "cell_type": "markdown",
   "id": "50768b2e",
   "metadata": {},
   "source": [
    "Filtering the dataset by focusing only on the following parties: LN, M5S, PdL, FI, SC, CD, UDC, FDI-CDN, SEL, PD. We end up with 23 documents."
   ]
  },
  {
   "cell_type": "code",
   "execution_count": 11,
   "id": "bd16b5a9",
   "metadata": {},
   "outputs": [
    {
     "name": "stdout",
     "output_type": "stream",
     "text": [
      "Connecting to Manifesto Project DB API... \n",
      "Connecting to Manifesto Project DB API... corpus version: 2021-1 \n",
      "Connecting to Manifesto Project DB API... \n",
      "Connecting to Manifesto Project DB API... corpus version: 2021-1 \n",
      "Connecting to Manifesto Project DB API... corpus version: 2021-1 \n",
      "Connecting to Manifesto Project DB API... corpus version: 2021-1 \n"
     ]
    }
   ],
   "source": [
    "party_codes <- c(32061, 32230, 32440, 32460, 32530, 32610, 32630, 32720, 32956, 32450)\n",
    "\n",
    "ita_manifestoes <- mp_corpus(countryname == \"Italy\" & party %in% party_codes)"
   ]
  },
  {
   "cell_type": "markdown",
   "id": "891077eb",
   "metadata": {},
   "source": [
    "## External validity datasets"
   ]
  },
  {
   "cell_type": "markdown",
   "id": "8f825d3a",
   "metadata": {},
   "source": [
    "Let's load the two datasets we'll be using to test the dictionaries' external validity: the Chapel Hill Expert Survey and the PopuList dataset."
   ]
  },
  {
   "cell_type": "code",
   "execution_count": 12,
   "id": "e35dc5da",
   "metadata": {},
   "outputs": [],
   "source": [
    "ches <- read_csv(\"data/1999-2019_CHES_dataset_means(v2).csv\", show_col_types = FALSE)\n",
    "\n",
    "populist <- readxl::read_xlsx(\"data/populist-version-2-20200626.xlsx\")"
   ]
  },
  {
   "cell_type": "markdown",
   "id": "87c75f5b",
   "metadata": {},
   "source": [
    "## Stopwords"
   ]
  },
  {
   "cell_type": "markdown",
   "id": "912b750f",
   "metadata": {},
   "source": [
    "Decadri and Boussalis' additional stopwords"
   ]
  },
  {
   "cell_type": "code",
   "execution_count": 13,
   "id": "bb8961e6",
   "metadata": {},
   "outputs": [],
   "source": [
    "db_additional_stopwords  <- suppressMessages(read_csv(\"data/it_stopwords_new_list.csv\")) %>% \n",
    "                            pull(stopwords)"
   ]
  },
  {
   "cell_type": "markdown",
   "id": "8e037008",
   "metadata": {},
   "source": [
    "Procedural stopwords"
   ]
  },
  {
   "cell_type": "code",
   "execution_count": 14,
   "id": "23ef8647",
   "metadata": {},
   "outputs": [],
   "source": [
    "procedural_stopwords <- suppressMessages(read_csv(\"data/it_stopwords_procedural.csv\")) %>% \n",
    "                        pull(it_stopwords_procedural)"
   ]
  },
  {
   "cell_type": "markdown",
   "id": "5e100c2a",
   "metadata": {},
   "source": [
    "## Dictionaries"
   ]
  },
  {
   "cell_type": "markdown",
   "id": "b865d11c",
   "metadata": {},
   "source": [
    "Rooduijn and Pauwels' dictionary"
   ]
  },
  {
   "cell_type": "code",
   "execution_count": 15,
   "id": "616fe021",
   "metadata": {},
   "outputs": [],
   "source": [
    "anti_elitism <- c(\"elit*\", \"consens*\", \"antidemocratic*\", \"referend*\", \"corrot*\", \"propagand*\", \n",
    "                  \"politici*\",\"ingann*\", \"tradi*\", \"vergogn*\", \"scandal*\", \"verita\", \"disonest*\", \n",
    "                  \"partitocrazia\", \"menzogn*\", \"mentir*\")\n",
    "\n",
    "rp_dictionary <- dictionary(list(anti_elitism = anti_elitism))"
   ]
  },
  {
   "cell_type": "markdown",
   "id": "3500dcbb",
   "metadata": {},
   "source": [
    "Decadri and Boussalis' dictionary"
   ]
  },
  {
   "cell_type": "code",
   "execution_count": 16,
   "id": "26223067",
   "metadata": {},
   "outputs": [],
   "source": [
    "anti_elitism <- c(\"antidemocratic*\", \"casta\", \"consens*\", \"corrot*\", \"disonest*\", \"elit*\", \n",
    "                  \"establishment\", \"ingann*\", \"mentir*\", \"menzogn*\", \"partitocrazia\", \"propagand*\", \n",
    "                  \"scandal*\", \"tradim*\", \"tradir*\", \"tradit*\", \"vergogn*\", \"verita\")\n",
    "\n",
    "people_centrism  <- c(\"abitant*\", \"cittadin*\", \"consumator*\", \"contribuent*\", \"elettor*\", \"gente\", \"popol*\")\n",
    "\n",
    "db_dictionary <- dictionary(list(anti_elitism = anti_elitism, \n",
    "                                 people_centrism = people_centrism))"
   ]
  },
  {
   "cell_type": "markdown",
   "id": "ed17460b",
   "metadata": {},
   "source": [
    "Load the Excel files containing Grundl's and Decadri and Boussali' dictionaries"
   ]
  },
  {
   "cell_type": "code",
   "execution_count": 17,
   "id": "b56c2603",
   "metadata": {},
   "outputs": [],
   "source": [
    "dictionaries <- readxl::read_xlsx(\"data/gruendl_terms_final.xlsx\", sheet = 1)"
   ]
  },
  {
   "cell_type": "markdown",
   "id": "05c53a6a",
   "metadata": {},
   "source": [
    "The integral translation of Grundl's dictionary"
   ]
  },
  {
   "cell_type": "code",
   "execution_count": 18,
   "id": "0b1a4007",
   "metadata": {},
   "outputs": [],
   "source": [
    "grundl <- dictionaries %>% \n",
    "filter(!is.na(Italian_integral)) %>% # Removing nulls\n",
    "mutate(Italian_integral = str_split(Italian_integral, ', ')) %>% # Some cells contain more than one value: let's split and unnest everything\n",
    "unnest(cols = c(Italian_integral)) %>% \n",
    "distinct(Italian_integral) %>% # Removing duplicate terms\n",
    "pull(Italian_integral) # Extracting the 'terms' vector\n",
    "\n",
    "g_dictionary <- dictionary(list(populism = grundl))"
   ]
  },
  {
   "cell_type": "markdown",
   "id": "5d6513bc",
   "metadata": {},
   "source": [
    "Extract the \"people\" dimension of populism from the combined Grundl's and Decadri and Boussalis' dictionaries"
   ]
  },
  {
   "cell_type": "code",
   "execution_count": 19,
   "id": "89ad2cf1",
   "metadata": {},
   "outputs": [],
   "source": [
    "people <- dictionaries %>% \n",
    "filter(!is.na(Decadri_Boussalis_Grundl_People)) %>% \n",
    "mutate(Decadri_Boussalis_Grundl_People = str_split(Decadri_Boussalis_Grundl_People, ', ')) %>% \n",
    "unnest(cols = c(Decadri_Boussalis_Grundl_People)) %>% \n",
    "distinct(Decadri_Boussalis_Grundl_People) %>% \n",
    "pull(Decadri_Boussalis_Grundl_People)"
   ]
  },
  {
   "cell_type": "markdown",
   "id": "bd46c3bd",
   "metadata": {},
   "source": [
    "Extract the \"common will\" dimension"
   ]
  },
  {
   "cell_type": "code",
   "execution_count": 20,
   "id": "7e6a3e67",
   "metadata": {},
   "outputs": [],
   "source": [
    "common_will <- dictionaries %>% \n",
    "filter(!is.na(Decadri_Boussalis_Grundl_Common_Will)) %>% \n",
    "mutate(Decadri_Boussalis_Grundl_Common_Will = str_split(Decadri_Boussalis_Grundl_Common_Will, ', ')) %>% \n",
    "unnest(cols = c(Decadri_Boussalis_Grundl_Common_Will)) %>% \n",
    "distinct(Decadri_Boussalis_Grundl_Common_Will) %>% \n",
    "pull(Decadri_Boussalis_Grundl_Common_Will)"
   ]
  },
  {
   "cell_type": "markdown",
   "id": "52515037",
   "metadata": {},
   "source": [
    "Extract the \"elite\" dimension"
   ]
  },
  {
   "cell_type": "code",
   "execution_count": 21,
   "id": "9b964171",
   "metadata": {},
   "outputs": [],
   "source": [
    "elite <- dictionaries %>% \n",
    "filter(!is.na(Decadri_Boussalis_Grundl_Elite)) %>% \n",
    "mutate(Decadri_Boussalis_Grundl_Elite = str_split(Decadri_Boussalis_Grundl_Elite, ', ')) %>% \n",
    "unnest(cols = c(Decadri_Boussalis_Grundl_Elite)) %>% \n",
    "distinct(Decadri_Boussalis_Grundl_Elite) %>% \n",
    "pull(Decadri_Boussalis_Grundl_Elite)"
   ]
  },
  {
   "cell_type": "markdown",
   "id": "2a137cb6",
   "metadata": {},
   "source": [
    "Create a Quanteda dictionary by combining those three dimensions"
   ]
  },
  {
   "cell_type": "code",
   "execution_count": 22,
   "id": "22821208",
   "metadata": {},
   "outputs": [],
   "source": [
    "dbg_dictionary <- dictionary(list(people = people, common_will = common_will, elite = elite))"
   ]
  },
  {
   "cell_type": "markdown",
   "id": "2216cd3a",
   "metadata": {},
   "source": [
    "# Preprocessing <a class=\"anchor\" id=\"chapter3\"></a>"
   ]
  },
  {
   "cell_type": "markdown",
   "id": "70327e76",
   "metadata": {},
   "source": [
    "## Speeches dataset"
   ]
  },
  {
   "cell_type": "markdown",
   "id": "d6133bd8",
   "metadata": {},
   "source": [
    "Creating the corpus"
   ]
  },
  {
   "cell_type": "code",
   "execution_count": 23,
   "id": "59e10dc7",
   "metadata": {},
   "outputs": [],
   "source": [
    "speeches_corpus <- corpus(filtered_texts, text_field = \"textclean\")"
   ]
  },
  {
   "cell_type": "markdown",
   "id": "2c949d8a",
   "metadata": {},
   "source": [
    "Tokenizing the corpus, removing stopwords and grouping the tokens by the 'year' and 'gruppoP_recoded' variables"
   ]
  },
  {
   "cell_type": "code",
   "execution_count": 24,
   "id": "28851f16",
   "metadata": {},
   "outputs": [],
   "source": [
    "speeches_toks <- speeches_corpus %>% \n",
    "                 tokens(., remove_punct = TRUE, remove_symbols = TRUE, remove_numbers = TRUE, remove_separators = TRUE)  %>% \n",
    "                 tokens_remove(., pattern = stopwords(\"it\"), padding = TRUE) %>% \n",
    "                 tokens_remove(., pattern = db_additional_stopwords) %>% \n",
    "                 tokens_remove(., pattern = procedural_stopwords) %>% \n",
    "                 quanteda:::tokens_group(x = ., groups = c('year', 'gruppoP_recoded'))"
   ]
  },
  {
   "cell_type": "markdown",
   "id": "4d99bd47",
   "metadata": {},
   "source": [
    "## Manifesto project dataset"
   ]
  },
  {
   "cell_type": "markdown",
   "id": "b14d3ecc",
   "metadata": {},
   "source": [
    "Creating the corpus, tokenizing it, removing stopwords and grouping the tokens by the 'party' variable"
   ]
  },
  {
   "cell_type": "code",
   "execution_count": 25,
   "id": "490d5d57",
   "metadata": {},
   "outputs": [],
   "source": [
    "manifesto_corpus <- corpus(ita_manifestoes)\n",
    "\n",
    "manifesto_toks <- manifesto_corpus %>% \n",
    "                  tokens(., remove_punct = TRUE, remove_symbols = TRUE, remove_numbers = TRUE, remove_separators = TRUE)  %>% \n",
    "                  tokens_remove(., pattern = stopwords(\"it\"), padding = TRUE) %>% \n",
    "                  tokens_remove(., pattern = db_additional_stopwords) %>% \n",
    "                  tokens_remove(., pattern = procedural_stopwords) %>% \n",
    "                  quanteda:::tokens_group(x = ., groups = 'party')"
   ]
  },
  {
   "cell_type": "markdown",
   "id": "c3b36c9d",
   "metadata": {},
   "source": [
    "# Wrapper function <a class=\"anchor\" id=\"chapter4\"></a>"
   ]
  },
  {
   "cell_type": "code",
   "execution_count": 26,
   "id": "6e457982",
   "metadata": {},
   "outputs": [],
   "source": [
    "dict_analysis <- function(tokens, data, dictionary) {\n",
    "        \n",
    "  # Applying Rooduijn and Pauwels' dictionary to the speeches dataset\n",
    "  \n",
    "  if (data == \"speeches\" & dictionary == \"Rooduijn_Pauwels\") {\n",
    "    \n",
    "  my_dfm <- tokens_lookup(x = tokens, dictionary = rp_dictionary) %>% \n",
    "            dfm(.)  %>% \n",
    "            convert(., to = \"data.frame\") %>% \n",
    "            mutate(year = docvars(tokens)$year,\n",
    "                   party = docvars(tokens)$gruppoP_recoded,\n",
    "                   total_toks = ntoken(tokens),\n",
    "                   perc_of_populist_toks = anti_elitism / total_toks,\n",
    "                   standardized_perc_of_populist_toks = as.double(scale(perc_of_populist_toks))) %>% \n",
    "            relocate(doc_id, year, party, anti_elitism, total_toks, perc_of_populist_toks, \n",
    "                     standardized_perc_of_populist_toks) %>% \n",
    "            as_tibble()\n",
    "\n",
    "  }\n",
    "    \n",
    "  # Applying Decadri and Boussalis' dictionary to the speeches dataset\n",
    "  \n",
    "  if (data == 'speeches' & dictionary == \"Decadri_Boussalis\") {\n",
    "        \n",
    "    my_dfm <- tokens_lookup(x = tokens, dictionary = db_dictionary) %>% \n",
    "              dfm(.) %>% \n",
    "              convert(., to = \"data.frame\") %>% \n",
    "              mutate(year = docvars(tokens)$year,\n",
    "                     party = docvars(tokens)$gruppoP_recoded,\n",
    "                     populist_toks = anti_elitism + people_centrism,\n",
    "                     total_toks = ntoken(tokens),\n",
    "                     perc_of_populist_toks = populist_toks / total_toks,\n",
    "                     standardized_perc_of_populist_toks = as.double(scale(perc_of_populist_toks))) %>% \n",
    "              relocate(doc_id, year, party, anti_elitism, people_centrism, populist_toks,\n",
    "                       total_toks, perc_of_populist_toks, standardized_perc_of_populist_toks) %>% \n",
    "              as_tibble()\n",
    "    \n",
    "  }\n",
    "    \n",
    "  # Applying Grundl's dictionary\n",
    "    \n",
    "  if (data == \"speeches\" & dictionary == \"Grundl\") {\n",
    "      \n",
    "      my_dfm <- tokens_lookup(x = tokens, dictionary = g_dictionary) %>% \n",
    "                dfm(.) %>% \n",
    "                convert(., to = \"data.frame\") %>% \n",
    "                mutate(year = docvars(tokens)$year,\n",
    "                       party = docvars(tokens)$gruppoP_recoded,\n",
    "                       total_toks = ntoken(tokens),\n",
    "                       perc_of_populist_toks = populism / total_toks,\n",
    "                       standardized_perc_of_populist_toks = as.double(scale(perc_of_populist_toks))) %>% \n",
    "               relocate(doc_id, year, party, populism, total_toks, perc_of_populist_toks, \n",
    "                        standardized_perc_of_populist_toks) %>% \n",
    "               as_tibble()\n",
    "      \n",
    "  }\n",
    "    \n",
    "  if (data == \"manifesto\" & dictionary == \"Grundl\") {\n",
    "      \n",
    "      my_dfm <- tokens_lookup(x = tokens, dictionary = g_dictionary) %>% \n",
    "                dfm(.)  %>% \n",
    "                convert(., to = \"data.frame\")  %>% \n",
    "                rename(party = doc_id) %>% \n",
    "                mutate(party = case_when(\n",
    "                                           party == '32630' ~ 'FDI-CDN', \n",
    "                                           party == '32610' ~ 'FI',\n",
    "                                           party == '32720' ~ 'LN',\n",
    "                                           party == '32956' ~ 'M5S',\n",
    "                                           party == '32061' ~ 'PdL',\n",
    "                                           party == '32460' ~ 'SC',\n",
    "                                           party == '32450' ~ 'CD',\n",
    "                                           party == '32530' ~ 'UDC',\n",
    "                                           party == '32230' ~ 'SEL',\n",
    "                                           party == '32440' ~ 'PD'),\n",
    "                       total_toks = ntoken(tokens),\n",
    "                       perc_of_populist_toks = populism / total_toks,\n",
    "                       standardized_perc_of_populist_toks = as.double(scale(perc_of_populist_toks))) %>% \n",
    "               arrange(desc(perc_of_populist_toks)) %>% \n",
    "               as_tibble()\n",
    "  }\n",
    "    \n",
    "  # Applying Decadri and Boussalis' dictionary\n",
    "    \n",
    "  if (data == \"manifesto\" & dictionary == \"Decadri_Boussalis\") {\n",
    "      \n",
    "      my_dfm <- tokens_lookup(x = tokens, dictionary = db_dictionary) %>% \n",
    "                dfm(.) %>% \n",
    "                convert(., to = \"data.frame\") %>% \n",
    "                rename(party = doc_id) %>% \n",
    "                mutate(party = case_when(\n",
    "                                           party == '32630' ~ 'FDI-CDN', \n",
    "                                           party == '32610' ~ 'FI',\n",
    "                                           party == '32720' ~ 'LN',\n",
    "                                           party == '32956' ~ 'M5S',\n",
    "                                           party == '32061' ~ 'PdL',\n",
    "                                           party == '32460' ~ 'SC',\n",
    "                                           party == '32450' ~ 'CD',\n",
    "                                           party == '32530' ~ 'UDC',\n",
    "                                           party == '32230' ~ 'SEL',\n",
    "                                           party == '32440' ~ 'PD'),\n",
    "                       total_toks = ntoken(tokens),\n",
    "                       populist_toks = anti_elitism + people_centrism,\n",
    "                       perc_of_populist_toks = populist_toks / total_toks,\n",
    "                       standardized_perc_of_populist_toks = as.double(scale(perc_of_populist_toks))) %>% \n",
    "                arrange(desc(perc_of_populist_toks)) %>% \n",
    "                as_tibble()\n",
    "  }\n",
    "    \n",
    "  # Applying Decadri and Boussalis' dictionary combined with Grundl's dictionary\n",
    "    \n",
    "  if (data == \"manifesto\" & dictionary == \"Decadri_Boussalis_Grundl\") {\n",
    "      \n",
    "      my_dfm <- tokens_lookup(x = tokens, dictionary = dbg_dictionary) %>% \n",
    "                dfm(.) %>% \n",
    "                convert(., to = \"data.frame\") %>% \n",
    "                rename(party = doc_id) %>% \n",
    "                mutate(party = case_when(\n",
    "                                           party == '32630' ~ 'FDI-CDN', \n",
    "                                           party == '32610' ~ 'FI',\n",
    "                                           party == '32720' ~ 'LN',\n",
    "                                           party == '32956' ~ 'M5S',\n",
    "                                           party == '32061' ~ 'PdL',\n",
    "                                           party == '32460' ~ 'SC',\n",
    "                                           party == '32450' ~ 'CD',\n",
    "                                           party == '32530' ~ 'UDC',\n",
    "                                           party == '32230' ~ 'SEL',\n",
    "                                           party == '32440' ~ 'PD'),\n",
    "                       perc_of_populist_toks = (people + common_will + elite) / ntoken(manifesto_toks),\n",
    "                       standardized_perc_of_populist_toks = as.double(scale(perc_of_populist_toks))) %>% \n",
    "                arrange(desc(perc_of_populist_toks)) %>% \n",
    "                as_tibble()\n",
    "  }\n",
    "    \n",
    "  \n",
    "  return(my_dfm)\n",
    "    \n",
    "  \n",
    "}\n"
   ]
  },
  {
   "cell_type": "markdown",
   "id": "a6760812",
   "metadata": {},
   "source": [
    "# Rooduijn & Pauwels (speeches dataset) <a class=\"anchor\" id=\"chapter5\"></a>"
   ]
  },
  {
   "cell_type": "markdown",
   "id": "f8e27357",
   "metadata": {},
   "source": [
    "Let's run the dictionary analysis by using Roodujin and Pauwels' dictionary"
   ]
  },
  {
   "cell_type": "code",
   "execution_count": 27,
   "id": "7d7bda9d",
   "metadata": {},
   "outputs": [],
   "source": [
    "df_rp <- dict_analysis(tokens = speeches_toks, data = \"speeches\", dictionary = \"Rooduijn_Pauwels\")"
   ]
  },
  {
   "cell_type": "markdown",
   "id": "c6169b4c",
   "metadata": {},
   "source": [
    "The first rows of the dataframe"
   ]
  },
  {
   "cell_type": "code",
   "execution_count": 28,
   "id": "6d32e225",
   "metadata": {},
   "outputs": [
    {
     "data": {
      "text/html": [
       "<table class=\"dataframe\">\n",
       "<caption>A tibble: 6 × 7</caption>\n",
       "<thead>\n",
       "\t<tr><th scope=col>doc_id</th><th scope=col>year</th><th scope=col>party</th><th scope=col>anti_elitism</th><th scope=col>total_toks</th><th scope=col>perc_of_populist_toks</th><th scope=col>standardized_perc_of_populist_toks</th></tr>\n",
       "\t<tr><th scope=col>&lt;chr&gt;</th><th scope=col>&lt;int&gt;</th><th scope=col>&lt;chr&gt;</th><th scope=col>&lt;dbl&gt;</th><th scope=col>&lt;int&gt;</th><th scope=col>&lt;dbl&gt;</th><th scope=col>&lt;dbl&gt;</th></tr>\n",
       "</thead>\n",
       "<tbody>\n",
       "\t<tr><td>1994.AN</td><td>1994</td><td>AN</td><td>245</td><td>206560</td><td>0.0011860960</td><td> 0.4594892</td></tr>\n",
       "\t<tr><td>1995.AN</td><td>1995</td><td>AN</td><td>508</td><td>350039</td><td>0.0014512669</td><td> 1.0630664</td></tr>\n",
       "\t<tr><td>1996.AN</td><td>1996</td><td>AN</td><td>229</td><td>272610</td><td>0.0008400279</td><td>-0.3282251</td></tr>\n",
       "\t<tr><td>1997.AN</td><td>1997</td><td>AN</td><td>414</td><td>381823</td><td>0.0010842720</td><td> 0.2277192</td></tr>\n",
       "\t<tr><td>1998.AN</td><td>1998</td><td>AN</td><td>370</td><td>373426</td><td>0.0009908255</td><td> 0.0150178</td></tr>\n",
       "\t<tr><td>1999.AN</td><td>1999</td><td>AN</td><td>472</td><td>399795</td><td>0.0011806051</td><td> 0.4469907</td></tr>\n",
       "</tbody>\n",
       "</table>\n"
      ],
      "text/latex": [
       "A tibble: 6 × 7\n",
       "\\begin{tabular}{lllllll}\n",
       " doc\\_id & year & party & anti\\_elitism & total\\_toks & perc\\_of\\_populist\\_toks & standardized\\_perc\\_of\\_populist\\_toks\\\\\n",
       " <chr> & <int> & <chr> & <dbl> & <int> & <dbl> & <dbl>\\\\\n",
       "\\hline\n",
       "\t 1994.AN & 1994 & AN & 245 & 206560 & 0.0011860960 &  0.4594892\\\\\n",
       "\t 1995.AN & 1995 & AN & 508 & 350039 & 0.0014512669 &  1.0630664\\\\\n",
       "\t 1996.AN & 1996 & AN & 229 & 272610 & 0.0008400279 & -0.3282251\\\\\n",
       "\t 1997.AN & 1997 & AN & 414 & 381823 & 0.0010842720 &  0.2277192\\\\\n",
       "\t 1998.AN & 1998 & AN & 370 & 373426 & 0.0009908255 &  0.0150178\\\\\n",
       "\t 1999.AN & 1999 & AN & 472 & 399795 & 0.0011806051 &  0.4469907\\\\\n",
       "\\end{tabular}\n"
      ],
      "text/markdown": [
       "\n",
       "A tibble: 6 × 7\n",
       "\n",
       "| doc_id &lt;chr&gt; | year &lt;int&gt; | party &lt;chr&gt; | anti_elitism &lt;dbl&gt; | total_toks &lt;int&gt; | perc_of_populist_toks &lt;dbl&gt; | standardized_perc_of_populist_toks &lt;dbl&gt; |\n",
       "|---|---|---|---|---|---|---|\n",
       "| 1994.AN | 1994 | AN | 245 | 206560 | 0.0011860960 |  0.4594892 |\n",
       "| 1995.AN | 1995 | AN | 508 | 350039 | 0.0014512669 |  1.0630664 |\n",
       "| 1996.AN | 1996 | AN | 229 | 272610 | 0.0008400279 | -0.3282251 |\n",
       "| 1997.AN | 1997 | AN | 414 | 381823 | 0.0010842720 |  0.2277192 |\n",
       "| 1998.AN | 1998 | AN | 370 | 373426 | 0.0009908255 |  0.0150178 |\n",
       "| 1999.AN | 1999 | AN | 472 | 399795 | 0.0011806051 |  0.4469907 |\n",
       "\n"
      ],
      "text/plain": [
       "  doc_id  year party anti_elitism total_toks perc_of_populist_toks\n",
       "1 1994.AN 1994 AN    245          206560     0.0011860960         \n",
       "2 1995.AN 1995 AN    508          350039     0.0014512669         \n",
       "3 1996.AN 1996 AN    229          272610     0.0008400279         \n",
       "4 1997.AN 1997 AN    414          381823     0.0010842720         \n",
       "5 1998.AN 1998 AN    370          373426     0.0009908255         \n",
       "6 1999.AN 1999 AN    472          399795     0.0011806051         \n",
       "  standardized_perc_of_populist_toks\n",
       "1  0.4594892                        \n",
       "2  1.0630664                        \n",
       "3 -0.3282251                        \n",
       "4  0.2277192                        \n",
       "5  0.0150178                        \n",
       "6  0.4469907                        "
      ]
     },
     "metadata": {},
     "output_type": "display_data"
    }
   ],
   "source": [
    "head(df_rp)"
   ]
  },
  {
   "cell_type": "markdown",
   "id": "71d1d808",
   "metadata": {},
   "source": [
    "## Construct validity <a class=\"anchor\" id=\"subparagraph1\"></a>"
   ]
  },
  {
   "cell_type": "markdown",
   "id": "59d90442",
   "metadata": {},
   "source": [
    "Rooduijn and Pauwels' dictionary captures the \"anti-elitism\" component of populism, but not the \"people-centrism\" one. As a result, from a construct validity standpoint, it is only partially valid. The authors motivated the decision to leave out the \"people-centrism\" dimension by pointing out that the \"people\" is often referenced to by words such as \"us\", \"we\" and \"our\" which are also used to reference entities other than the people (such as political parties). The inclusion of these words in the dictionary, they argue, would result in a large number of false positives."
   ]
  },
  {
   "cell_type": "markdown",
   "id": "228e602e",
   "metadata": {},
   "source": [
    "## Face validity <a class=\"anchor\" id=\"subparagraph2\"></a>"
   ]
  },
  {
   "cell_type": "markdown",
   "id": "e8db85be",
   "metadata": {},
   "source": [
    "A populist dictionary has face validity if the allegedly populist parties are indeed populist. In the Italian case, we would expect populist values to be higher for parties that the literature deems populist (i.e. Five Star Movement, Lega Nord, Forza Italia and Il Popolo delle Libertà)."
   ]
  },
  {
   "cell_type": "markdown",
   "id": "80e4bc09",
   "metadata": {},
   "source": [
    "The following are the 20 party-year combinations with the highest populist score in the 1994-2021 period. Consistently with our expectations, we find populist parties such as FDI (2013, 2014, 2017), FI-PDL (2019), and LEGA (1995). However, we also find mainstream parties such as SI-SEL-POS-LU (2016, 2018), IV (2018), PD (2018, 2019). These results could be interpreted as evidence of either populist contagion of mainstream parties or lack of face validity. The absence of M5S among the most populist parties makes me lean towards the latter."
   ]
  },
  {
   "cell_type": "code",
   "execution_count": 29,
   "id": "7bd34007",
   "metadata": {},
   "outputs": [
    {
     "data": {
      "text/html": [
       "<table class=\"dataframe\">\n",
       "<caption>A tibble: 20 × 7</caption>\n",
       "<thead>\n",
       "\t<tr><th scope=col>doc_id</th><th scope=col>year</th><th scope=col>party</th><th scope=col>anti_elitism</th><th scope=col>total_toks</th><th scope=col>perc_of_populist_toks</th><th scope=col>standardized_perc_of_populist_toks</th></tr>\n",
       "\t<tr><th scope=col>&lt;chr&gt;</th><th scope=col>&lt;int&gt;</th><th scope=col>&lt;chr&gt;</th><th scope=col>&lt;dbl&gt;</th><th scope=col>&lt;int&gt;</th><th scope=col>&lt;dbl&gt;</th><th scope=col>&lt;dbl&gt;</th></tr>\n",
       "</thead>\n",
       "<tbody>\n",
       "\t<tr><td>1996.FLD                                                                                                                                                         </td><td>1996</td><td>FLD                                                                                                                                                         </td><td> 11</td><td>  2894</td><td>0.003800968</td><td>6.411414</td></tr>\n",
       "\t<tr><td>1996.PPI                                                                                                                                                         </td><td>1996</td><td>PPI                                                                                                                                                         </td><td> 34</td><td>  9296</td><td>0.003657487</td><td>6.084826</td></tr>\n",
       "\t<tr><td>2018.SI-SEL-POS-LU                                                                                                                                               </td><td>2018</td><td>SI-SEL-POS-LU                                                                                                                                               </td><td>  7</td><td>  2189</td><td>0.003197807</td><td>5.038511</td></tr>\n",
       "\t<tr><td>1995.FLD                                                                                                                                                         </td><td>1995</td><td>FLD                                                                                                                                                         </td><td>120</td><td> 57421</td><td>0.002089828</td><td>2.516548</td></tr>\n",
       "\t<tr><td>2000.DEM-U                                                                                                                                                       </td><td>2000</td><td>DEM-U                                                                                                                                                       </td><td>108</td><td> 52222</td><td>0.002068094</td><td>2.467077</td></tr>\n",
       "\t<tr><td>2016.SI-SEL-POS-LU                                                                                                                                               </td><td>2016</td><td>SI-SEL-POS-LU                                                                                                                                               </td><td>173</td><td> 84377</td><td>0.002050322</td><td>2.426625</td></tr>\n",
       "\t<tr><td>2014.FDI                                                                                                                                                         </td><td>2014</td><td>FDI                                                                                                                                                         </td><td> 99</td><td> 51695</td><td>0.001915079</td><td>2.118787</td></tr>\n",
       "\t<tr><td>2019.FI-PDL                                                                                                                                                      </td><td>2019</td><td>FI-PDL                                                                                                                                                      </td><td>949</td><td>533560</td><td>0.001778619</td><td>1.808180</td></tr>\n",
       "\t<tr><td>1995.DEMO                                                                                                                                                        </td><td>1995</td><td>DEMO                                                                                                                                                        </td><td> 85</td><td> 49325</td><td>0.001723264</td><td>1.682182</td></tr>\n",
       "\t<tr><td>1996.PROGR-F                                                                                                                                                     </td><td>1996</td><td>PROGR-F                                                                                                                                                     </td><td> 46</td><td> 26734</td><td>0.001720655</td><td>1.676244</td></tr>\n",
       "\t<tr><td>2018.PD-ULIVO-DS                                                                                                                                                 </td><td>2018</td><td>PD-ULIVO-DS                                                                                                                                                 </td><td>516</td><td>300098</td><td>0.001719438</td><td>1.673474</td></tr>\n",
       "\t<tr><td>2013.FDI                                                                                                                                                         </td><td>2013</td><td>FDI                                                                                                                                                         </td><td> 70</td><td> 41498</td><td>0.001686828</td><td>1.599247</td></tr>\n",
       "\t<tr><td>2011.NOI SUD-LIBERTA' ED AUTONOMIA/POPOLARI D'ITALIA DOMANI-PID/MOVIMENTO DI RESPONSABILITA' NAZIONALE-MRN/AZIONE POPOLARE/ALLEANZA DI CENTRO-ADC/INTESA POPOLARE</td><td>2011</td><td>NOI SUD-LIBERTA' ED AUTONOMIA/POPOLARI D'ITALIA DOMANI-PID/MOVIMENTO DI RESPONSABILITA' NAZIONALE-MRN/AZIONE POPOLARE/ALLEANZA DI CENTRO-ADC/INTESA POPOLARE</td><td> 90</td><td> 54866</td><td>0.001640360</td><td>1.493477</td></tr>\n",
       "\t<tr><td>2018.IV                                                                                                                                                          </td><td>2018</td><td>IV                                                                                                                                                          </td><td> 96</td><td> 58631</td><td>0.001637359</td><td>1.486646</td></tr>\n",
       "\t<tr><td>2019.PD-ULIVO-DS                                                                                                                                                 </td><td>2019</td><td>PD-ULIVO-DS                                                                                                                                                 </td><td>888</td><td>557509</td><td>0.001592799</td><td>1.385220</td></tr>\n",
       "\t<tr><td>2000.RINN/IT                                                                                                                                                     </td><td>2000</td><td>RINN/IT                                                                                                                                                     </td><td> 46</td><td> 28958</td><td>0.001588507</td><td>1.375451</td></tr>\n",
       "\t<tr><td>1996.DEMO                                                                                                                                                        </td><td>1996</td><td>DEMO                                                                                                                                                        </td><td>  4</td><td>  2599</td><td>0.001539053</td><td>1.262885</td></tr>\n",
       "\t<tr><td>2017.FDI                                                                                                                                                         </td><td>2017</td><td>FDI                                                                                                                                                         </td><td> 58</td><td> 38123</td><td>0.001521391</td><td>1.222682</td></tr>\n",
       "\t<tr><td>1995.LEGA                                                                                                                                                        </td><td>1995</td><td>LEGA                                                                                                                                                        </td><td>238</td><td>156792</td><td>0.001517935</td><td>1.214814</td></tr>\n",
       "\t<tr><td>1995.RC                                                                                                                                                          </td><td>1995</td><td>RC                                                                                                                                                          </td><td>445</td><td>303724</td><td>0.001465146</td><td>1.094658</td></tr>\n",
       "</tbody>\n",
       "</table>\n"
      ],
      "text/latex": [
       "A tibble: 20 × 7\n",
       "\\begin{tabular}{lllllll}\n",
       " doc\\_id & year & party & anti\\_elitism & total\\_toks & perc\\_of\\_populist\\_toks & standardized\\_perc\\_of\\_populist\\_toks\\\\\n",
       " <chr> & <int> & <chr> & <dbl> & <int> & <dbl> & <dbl>\\\\\n",
       "\\hline\n",
       "\t 1996.FLD                                                                                                                                                          & 1996 & FLD                                                                                                                                                          &  11 &   2894 & 0.003800968 & 6.411414\\\\\n",
       "\t 1996.PPI                                                                                                                                                          & 1996 & PPI                                                                                                                                                          &  34 &   9296 & 0.003657487 & 6.084826\\\\\n",
       "\t 2018.SI-SEL-POS-LU                                                                                                                                                & 2018 & SI-SEL-POS-LU                                                                                                                                                &   7 &   2189 & 0.003197807 & 5.038511\\\\\n",
       "\t 1995.FLD                                                                                                                                                          & 1995 & FLD                                                                                                                                                          & 120 &  57421 & 0.002089828 & 2.516548\\\\\n",
       "\t 2000.DEM-U                                                                                                                                                        & 2000 & DEM-U                                                                                                                                                        & 108 &  52222 & 0.002068094 & 2.467077\\\\\n",
       "\t 2016.SI-SEL-POS-LU                                                                                                                                                & 2016 & SI-SEL-POS-LU                                                                                                                                                & 173 &  84377 & 0.002050322 & 2.426625\\\\\n",
       "\t 2014.FDI                                                                                                                                                          & 2014 & FDI                                                                                                                                                          &  99 &  51695 & 0.001915079 & 2.118787\\\\\n",
       "\t 2019.FI-PDL                                                                                                                                                       & 2019 & FI-PDL                                                                                                                                                       & 949 & 533560 & 0.001778619 & 1.808180\\\\\n",
       "\t 1995.DEMO                                                                                                                                                         & 1995 & DEMO                                                                                                                                                         &  85 &  49325 & 0.001723264 & 1.682182\\\\\n",
       "\t 1996.PROGR-F                                                                                                                                                      & 1996 & PROGR-F                                                                                                                                                      &  46 &  26734 & 0.001720655 & 1.676244\\\\\n",
       "\t 2018.PD-ULIVO-DS                                                                                                                                                  & 2018 & PD-ULIVO-DS                                                                                                                                                  & 516 & 300098 & 0.001719438 & 1.673474\\\\\n",
       "\t 2013.FDI                                                                                                                                                          & 2013 & FDI                                                                                                                                                          &  70 &  41498 & 0.001686828 & 1.599247\\\\\n",
       "\t 2011.NOI SUD-LIBERTA' ED AUTONOMIA/POPOLARI D'ITALIA DOMANI-PID/MOVIMENTO DI RESPONSABILITA' NAZIONALE-MRN/AZIONE POPOLARE/ALLEANZA DI CENTRO-ADC/INTESA POPOLARE & 2011 & NOI SUD-LIBERTA' ED AUTONOMIA/POPOLARI D'ITALIA DOMANI-PID/MOVIMENTO DI RESPONSABILITA' NAZIONALE-MRN/AZIONE POPOLARE/ALLEANZA DI CENTRO-ADC/INTESA POPOLARE &  90 &  54866 & 0.001640360 & 1.493477\\\\\n",
       "\t 2018.IV                                                                                                                                                           & 2018 & IV                                                                                                                                                           &  96 &  58631 & 0.001637359 & 1.486646\\\\\n",
       "\t 2019.PD-ULIVO-DS                                                                                                                                                  & 2019 & PD-ULIVO-DS                                                                                                                                                  & 888 & 557509 & 0.001592799 & 1.385220\\\\\n",
       "\t 2000.RINN/IT                                                                                                                                                      & 2000 & RINN/IT                                                                                                                                                      &  46 &  28958 & 0.001588507 & 1.375451\\\\\n",
       "\t 1996.DEMO                                                                                                                                                         & 1996 & DEMO                                                                                                                                                         &   4 &   2599 & 0.001539053 & 1.262885\\\\\n",
       "\t 2017.FDI                                                                                                                                                          & 2017 & FDI                                                                                                                                                          &  58 &  38123 & 0.001521391 & 1.222682\\\\\n",
       "\t 1995.LEGA                                                                                                                                                         & 1995 & LEGA                                                                                                                                                         & 238 & 156792 & 0.001517935 & 1.214814\\\\\n",
       "\t 1995.RC                                                                                                                                                           & 1995 & RC                                                                                                                                                           & 445 & 303724 & 0.001465146 & 1.094658\\\\\n",
       "\\end{tabular}\n"
      ],
      "text/markdown": [
       "\n",
       "A tibble: 20 × 7\n",
       "\n",
       "| doc_id &lt;chr&gt; | year &lt;int&gt; | party &lt;chr&gt; | anti_elitism &lt;dbl&gt; | total_toks &lt;int&gt; | perc_of_populist_toks &lt;dbl&gt; | standardized_perc_of_populist_toks &lt;dbl&gt; |\n",
       "|---|---|---|---|---|---|---|\n",
       "| 1996.FLD                                                                                                                                                          | 1996 | FLD                                                                                                                                                          |  11 |   2894 | 0.003800968 | 6.411414 |\n",
       "| 1996.PPI                                                                                                                                                          | 1996 | PPI                                                                                                                                                          |  34 |   9296 | 0.003657487 | 6.084826 |\n",
       "| 2018.SI-SEL-POS-LU                                                                                                                                                | 2018 | SI-SEL-POS-LU                                                                                                                                                |   7 |   2189 | 0.003197807 | 5.038511 |\n",
       "| 1995.FLD                                                                                                                                                          | 1995 | FLD                                                                                                                                                          | 120 |  57421 | 0.002089828 | 2.516548 |\n",
       "| 2000.DEM-U                                                                                                                                                        | 2000 | DEM-U                                                                                                                                                        | 108 |  52222 | 0.002068094 | 2.467077 |\n",
       "| 2016.SI-SEL-POS-LU                                                                                                                                                | 2016 | SI-SEL-POS-LU                                                                                                                                                | 173 |  84377 | 0.002050322 | 2.426625 |\n",
       "| 2014.FDI                                                                                                                                                          | 2014 | FDI                                                                                                                                                          |  99 |  51695 | 0.001915079 | 2.118787 |\n",
       "| 2019.FI-PDL                                                                                                                                                       | 2019 | FI-PDL                                                                                                                                                       | 949 | 533560 | 0.001778619 | 1.808180 |\n",
       "| 1995.DEMO                                                                                                                                                         | 1995 | DEMO                                                                                                                                                         |  85 |  49325 | 0.001723264 | 1.682182 |\n",
       "| 1996.PROGR-F                                                                                                                                                      | 1996 | PROGR-F                                                                                                                                                      |  46 |  26734 | 0.001720655 | 1.676244 |\n",
       "| 2018.PD-ULIVO-DS                                                                                                                                                  | 2018 | PD-ULIVO-DS                                                                                                                                                  | 516 | 300098 | 0.001719438 | 1.673474 |\n",
       "| 2013.FDI                                                                                                                                                          | 2013 | FDI                                                                                                                                                          |  70 |  41498 | 0.001686828 | 1.599247 |\n",
       "| 2011.NOI SUD-LIBERTA' ED AUTONOMIA/POPOLARI D'ITALIA DOMANI-PID/MOVIMENTO DI RESPONSABILITA' NAZIONALE-MRN/AZIONE POPOLARE/ALLEANZA DI CENTRO-ADC/INTESA POPOLARE | 2011 | NOI SUD-LIBERTA' ED AUTONOMIA/POPOLARI D'ITALIA DOMANI-PID/MOVIMENTO DI RESPONSABILITA' NAZIONALE-MRN/AZIONE POPOLARE/ALLEANZA DI CENTRO-ADC/INTESA POPOLARE |  90 |  54866 | 0.001640360 | 1.493477 |\n",
       "| 2018.IV                                                                                                                                                           | 2018 | IV                                                                                                                                                           |  96 |  58631 | 0.001637359 | 1.486646 |\n",
       "| 2019.PD-ULIVO-DS                                                                                                                                                  | 2019 | PD-ULIVO-DS                                                                                                                                                  | 888 | 557509 | 0.001592799 | 1.385220 |\n",
       "| 2000.RINN/IT                                                                                                                                                      | 2000 | RINN/IT                                                                                                                                                      |  46 |  28958 | 0.001588507 | 1.375451 |\n",
       "| 1996.DEMO                                                                                                                                                         | 1996 | DEMO                                                                                                                                                         |   4 |   2599 | 0.001539053 | 1.262885 |\n",
       "| 2017.FDI                                                                                                                                                          | 2017 | FDI                                                                                                                                                          |  58 |  38123 | 0.001521391 | 1.222682 |\n",
       "| 1995.LEGA                                                                                                                                                         | 1995 | LEGA                                                                                                                                                         | 238 | 156792 | 0.001517935 | 1.214814 |\n",
       "| 1995.RC                                                                                                                                                           | 1995 | RC                                                                                                                                                           | 445 | 303724 | 0.001465146 | 1.094658 |\n",
       "\n"
      ],
      "text/plain": [
       "   doc_id                                                                                                                                                           \n",
       "1  1996.FLD                                                                                                                                                         \n",
       "2  1996.PPI                                                                                                                                                         \n",
       "3  2018.SI-SEL-POS-LU                                                                                                                                               \n",
       "4  1995.FLD                                                                                                                                                         \n",
       "5  2000.DEM-U                                                                                                                                                       \n",
       "6  2016.SI-SEL-POS-LU                                                                                                                                               \n",
       "7  2014.FDI                                                                                                                                                         \n",
       "8  2019.FI-PDL                                                                                                                                                      \n",
       "9  1995.DEMO                                                                                                                                                        \n",
       "10 1996.PROGR-F                                                                                                                                                     \n",
       "11 2018.PD-ULIVO-DS                                                                                                                                                 \n",
       "12 2013.FDI                                                                                                                                                         \n",
       "13 2011.NOI SUD-LIBERTA' ED AUTONOMIA/POPOLARI D'ITALIA DOMANI-PID/MOVIMENTO DI RESPONSABILITA' NAZIONALE-MRN/AZIONE POPOLARE/ALLEANZA DI CENTRO-ADC/INTESA POPOLARE\n",
       "14 2018.IV                                                                                                                                                          \n",
       "15 2019.PD-ULIVO-DS                                                                                                                                                 \n",
       "16 2000.RINN/IT                                                                                                                                                     \n",
       "17 1996.DEMO                                                                                                                                                        \n",
       "18 2017.FDI                                                                                                                                                         \n",
       "19 1995.LEGA                                                                                                                                                        \n",
       "20 1995.RC                                                                                                                                                          \n",
       "   year\n",
       "1  1996\n",
       "2  1996\n",
       "3  2018\n",
       "4  1995\n",
       "5  2000\n",
       "6  2016\n",
       "7  2014\n",
       "8  2019\n",
       "9  1995\n",
       "10 1996\n",
       "11 2018\n",
       "12 2013\n",
       "13 2011\n",
       "14 2018\n",
       "15 2019\n",
       "16 2000\n",
       "17 1996\n",
       "18 2017\n",
       "19 1995\n",
       "20 1995\n",
       "   party                                                                                                                                                       \n",
       "1  FLD                                                                                                                                                         \n",
       "2  PPI                                                                                                                                                         \n",
       "3  SI-SEL-POS-LU                                                                                                                                               \n",
       "4  FLD                                                                                                                                                         \n",
       "5  DEM-U                                                                                                                                                       \n",
       "6  SI-SEL-POS-LU                                                                                                                                               \n",
       "7  FDI                                                                                                                                                         \n",
       "8  FI-PDL                                                                                                                                                      \n",
       "9  DEMO                                                                                                                                                        \n",
       "10 PROGR-F                                                                                                                                                     \n",
       "11 PD-ULIVO-DS                                                                                                                                                 \n",
       "12 FDI                                                                                                                                                         \n",
       "13 NOI SUD-LIBERTA' ED AUTONOMIA/POPOLARI D'ITALIA DOMANI-PID/MOVIMENTO DI RESPONSABILITA' NAZIONALE-MRN/AZIONE POPOLARE/ALLEANZA DI CENTRO-ADC/INTESA POPOLARE\n",
       "14 IV                                                                                                                                                          \n",
       "15 PD-ULIVO-DS                                                                                                                                                 \n",
       "16 RINN/IT                                                                                                                                                     \n",
       "17 DEMO                                                                                                                                                        \n",
       "18 FDI                                                                                                                                                         \n",
       "19 LEGA                                                                                                                                                        \n",
       "20 RC                                                                                                                                                          \n",
       "   anti_elitism total_toks perc_of_populist_toks\n",
       "1   11            2894     0.003800968          \n",
       "2   34            9296     0.003657487          \n",
       "3    7            2189     0.003197807          \n",
       "4  120           57421     0.002089828          \n",
       "5  108           52222     0.002068094          \n",
       "6  173           84377     0.002050322          \n",
       "7   99           51695     0.001915079          \n",
       "8  949          533560     0.001778619          \n",
       "9   85           49325     0.001723264          \n",
       "10  46           26734     0.001720655          \n",
       "11 516          300098     0.001719438          \n",
       "12  70           41498     0.001686828          \n",
       "13  90           54866     0.001640360          \n",
       "14  96           58631     0.001637359          \n",
       "15 888          557509     0.001592799          \n",
       "16  46           28958     0.001588507          \n",
       "17   4            2599     0.001539053          \n",
       "18  58           38123     0.001521391          \n",
       "19 238          156792     0.001517935          \n",
       "20 445          303724     0.001465146          \n",
       "   standardized_perc_of_populist_toks\n",
       "1  6.411414                          \n",
       "2  6.084826                          \n",
       "3  5.038511                          \n",
       "4  2.516548                          \n",
       "5  2.467077                          \n",
       "6  2.426625                          \n",
       "7  2.118787                          \n",
       "8  1.808180                          \n",
       "9  1.682182                          \n",
       "10 1.676244                          \n",
       "11 1.673474                          \n",
       "12 1.599247                          \n",
       "13 1.493477                          \n",
       "14 1.486646                          \n",
       "15 1.385220                          \n",
       "16 1.375451                          \n",
       "17 1.262885                          \n",
       "18 1.222682                          \n",
       "19 1.214814                          \n",
       "20 1.094658                          "
      ]
     },
     "metadata": {},
     "output_type": "display_data"
    }
   ],
   "source": [
    "df_rp %>% \n",
    "arrange(desc(standardized_perc_of_populist_toks)) %>% \n",
    "head(20)"
   ]
  },
  {
   "cell_type": "markdown",
   "id": "da288c86",
   "metadata": {},
   "source": [
    "The following are the party-year combinations with the lowest populist scores. Consistenly with our expectations, all parties included in this subset are mainstream. This might interpreted as evidence of face validity in Rooduijn and Pauwels' dictionary."
   ]
  },
  {
   "cell_type": "code",
   "execution_count": 30,
   "id": "a39aa519",
   "metadata": {},
   "outputs": [
    {
     "data": {
      "text/html": [
       "<table class=\"dataframe\">\n",
       "<caption>A tibble: 20 × 7</caption>\n",
       "<thead>\n",
       "\t<tr><th scope=col>doc_id</th><th scope=col>year</th><th scope=col>party</th><th scope=col>anti_elitism</th><th scope=col>total_toks</th><th scope=col>perc_of_populist_toks</th><th scope=col>standardized_perc_of_populist_toks</th></tr>\n",
       "\t<tr><th scope=col>&lt;chr&gt;</th><th scope=col>&lt;int&gt;</th><th scope=col>&lt;chr&gt;</th><th scope=col>&lt;dbl&gt;</th><th scope=col>&lt;int&gt;</th><th scope=col>&lt;dbl&gt;</th><th scope=col>&lt;dbl&gt;</th></tr>\n",
       "</thead>\n",
       "<tbody>\n",
       "\t<tr><td>2018.AP-CPE-NCD-NCI</td><td>2018</td><td>AP-CPE-NCD-NCI</td><td> 0</td><td>  269</td><td>0.0000000000</td><td>-2.240282</td></tr>\n",
       "\t<tr><td>2018.CI            </td><td>2018</td><td>CI            </td><td> 0</td><td>  550</td><td>0.0000000000</td><td>-2.240282</td></tr>\n",
       "\t<tr><td>2008.DCA-NPSI      </td><td>2008</td><td>DCA-NPSI      </td><td> 0</td><td>  269</td><td>0.0000000000</td><td>-2.240282</td></tr>\n",
       "\t<tr><td>2009.DCA-NPSI      </td><td>2009</td><td>DCA-NPSI      </td><td> 0</td><td>   26</td><td>0.0000000000</td><td>-2.240282</td></tr>\n",
       "\t<tr><td>2013.FLPTP         </td><td>2013</td><td>FLPTP         </td><td> 0</td><td>    2</td><td>0.0000000000</td><td>-2.240282</td></tr>\n",
       "\t<tr><td>1994.LIFED         </td><td>1994</td><td>LIFED         </td><td> 0</td><td>  217</td><td>0.0000000000</td><td>-2.240282</td></tr>\n",
       "\t<tr><td>1995.LIFED         </td><td>1995</td><td>LIFED         </td><td> 0</td><td> 1870</td><td>0.0000000000</td><td>-2.240282</td></tr>\n",
       "\t<tr><td>1996.LIFED         </td><td>1996</td><td>LIFED         </td><td> 0</td><td>  979</td><td>0.0000000000</td><td>-2.240282</td></tr>\n",
       "\t<tr><td>2018.MDP-LU        </td><td>2018</td><td>MDP-LU        </td><td> 0</td><td> 1252</td><td>0.0000000000</td><td>-2.240282</td></tr>\n",
       "\t<tr><td>2008.PDCI          </td><td>2008</td><td>PDCI          </td><td> 0</td><td>  770</td><td>0.0000000000</td><td>-2.240282</td></tr>\n",
       "\t<tr><td>2009.SDPSE         </td><td>2009</td><td>SDPSE         </td><td> 0</td><td>   80</td><td>0.0000000000</td><td>-2.240282</td></tr>\n",
       "\t<tr><td>2009.SOCRAD-RNP    </td><td>2009</td><td>SOCRAD-RNP    </td><td> 0</td><td>  582</td><td>0.0000000000</td><td>-2.240282</td></tr>\n",
       "\t<tr><td>2016.DES-CD        </td><td>2016</td><td>DES-CD        </td><td> 1</td><td> 5886</td><td>0.0001698947</td><td>-1.853571</td></tr>\n",
       "\t<tr><td>2014.DES-CD        </td><td>2014</td><td>DES-CD        </td><td> 2</td><td> 9057</td><td>0.0002208237</td><td>-1.737647</td></tr>\n",
       "\t<tr><td>2000.UDEUR         </td><td>2000</td><td>UDEUR         </td><td> 9</td><td>32843</td><td>0.0002740310</td><td>-1.616537</td></tr>\n",
       "\t<tr><td>2001.UDEUR         </td><td>2001</td><td>UDEUR         </td><td> 1</td><td> 3157</td><td>0.0003167564</td><td>-1.519286</td></tr>\n",
       "\t<tr><td>2020.IV            </td><td>2020</td><td>IV            </td><td> 6</td><td>18545</td><td>0.0003235373</td><td>-1.503852</td></tr>\n",
       "\t<tr><td>2006.VERDI         </td><td>2006</td><td>VERDI         </td><td> 8</td><td>20861</td><td>0.0003834907</td><td>-1.367387</td></tr>\n",
       "\t<tr><td>1996.UDEUR         </td><td>1996</td><td>UDEUR         </td><td>12</td><td>29778</td><td>0.0004029821</td><td>-1.323021</td></tr>\n",
       "\t<tr><td>1996.DEM-U         </td><td>1996</td><td>DEM-U         </td><td>12</td><td>29388</td><td>0.0004083299</td><td>-1.310848</td></tr>\n",
       "</tbody>\n",
       "</table>\n"
      ],
      "text/latex": [
       "A tibble: 20 × 7\n",
       "\\begin{tabular}{lllllll}\n",
       " doc\\_id & year & party & anti\\_elitism & total\\_toks & perc\\_of\\_populist\\_toks & standardized\\_perc\\_of\\_populist\\_toks\\\\\n",
       " <chr> & <int> & <chr> & <dbl> & <int> & <dbl> & <dbl>\\\\\n",
       "\\hline\n",
       "\t 2018.AP-CPE-NCD-NCI & 2018 & AP-CPE-NCD-NCI &  0 &   269 & 0.0000000000 & -2.240282\\\\\n",
       "\t 2018.CI             & 2018 & CI             &  0 &   550 & 0.0000000000 & -2.240282\\\\\n",
       "\t 2008.DCA-NPSI       & 2008 & DCA-NPSI       &  0 &   269 & 0.0000000000 & -2.240282\\\\\n",
       "\t 2009.DCA-NPSI       & 2009 & DCA-NPSI       &  0 &    26 & 0.0000000000 & -2.240282\\\\\n",
       "\t 2013.FLPTP          & 2013 & FLPTP          &  0 &     2 & 0.0000000000 & -2.240282\\\\\n",
       "\t 1994.LIFED          & 1994 & LIFED          &  0 &   217 & 0.0000000000 & -2.240282\\\\\n",
       "\t 1995.LIFED          & 1995 & LIFED          &  0 &  1870 & 0.0000000000 & -2.240282\\\\\n",
       "\t 1996.LIFED          & 1996 & LIFED          &  0 &   979 & 0.0000000000 & -2.240282\\\\\n",
       "\t 2018.MDP-LU         & 2018 & MDP-LU         &  0 &  1252 & 0.0000000000 & -2.240282\\\\\n",
       "\t 2008.PDCI           & 2008 & PDCI           &  0 &   770 & 0.0000000000 & -2.240282\\\\\n",
       "\t 2009.SDPSE          & 2009 & SDPSE          &  0 &    80 & 0.0000000000 & -2.240282\\\\\n",
       "\t 2009.SOCRAD-RNP     & 2009 & SOCRAD-RNP     &  0 &   582 & 0.0000000000 & -2.240282\\\\\n",
       "\t 2016.DES-CD         & 2016 & DES-CD         &  1 &  5886 & 0.0001698947 & -1.853571\\\\\n",
       "\t 2014.DES-CD         & 2014 & DES-CD         &  2 &  9057 & 0.0002208237 & -1.737647\\\\\n",
       "\t 2000.UDEUR          & 2000 & UDEUR          &  9 & 32843 & 0.0002740310 & -1.616537\\\\\n",
       "\t 2001.UDEUR          & 2001 & UDEUR          &  1 &  3157 & 0.0003167564 & -1.519286\\\\\n",
       "\t 2020.IV             & 2020 & IV             &  6 & 18545 & 0.0003235373 & -1.503852\\\\\n",
       "\t 2006.VERDI          & 2006 & VERDI          &  8 & 20861 & 0.0003834907 & -1.367387\\\\\n",
       "\t 1996.UDEUR          & 1996 & UDEUR          & 12 & 29778 & 0.0004029821 & -1.323021\\\\\n",
       "\t 1996.DEM-U          & 1996 & DEM-U          & 12 & 29388 & 0.0004083299 & -1.310848\\\\\n",
       "\\end{tabular}\n"
      ],
      "text/markdown": [
       "\n",
       "A tibble: 20 × 7\n",
       "\n",
       "| doc_id &lt;chr&gt; | year &lt;int&gt; | party &lt;chr&gt; | anti_elitism &lt;dbl&gt; | total_toks &lt;int&gt; | perc_of_populist_toks &lt;dbl&gt; | standardized_perc_of_populist_toks &lt;dbl&gt; |\n",
       "|---|---|---|---|---|---|---|\n",
       "| 2018.AP-CPE-NCD-NCI | 2018 | AP-CPE-NCD-NCI |  0 |   269 | 0.0000000000 | -2.240282 |\n",
       "| 2018.CI             | 2018 | CI             |  0 |   550 | 0.0000000000 | -2.240282 |\n",
       "| 2008.DCA-NPSI       | 2008 | DCA-NPSI       |  0 |   269 | 0.0000000000 | -2.240282 |\n",
       "| 2009.DCA-NPSI       | 2009 | DCA-NPSI       |  0 |    26 | 0.0000000000 | -2.240282 |\n",
       "| 2013.FLPTP          | 2013 | FLPTP          |  0 |     2 | 0.0000000000 | -2.240282 |\n",
       "| 1994.LIFED          | 1994 | LIFED          |  0 |   217 | 0.0000000000 | -2.240282 |\n",
       "| 1995.LIFED          | 1995 | LIFED          |  0 |  1870 | 0.0000000000 | -2.240282 |\n",
       "| 1996.LIFED          | 1996 | LIFED          |  0 |   979 | 0.0000000000 | -2.240282 |\n",
       "| 2018.MDP-LU         | 2018 | MDP-LU         |  0 |  1252 | 0.0000000000 | -2.240282 |\n",
       "| 2008.PDCI           | 2008 | PDCI           |  0 |   770 | 0.0000000000 | -2.240282 |\n",
       "| 2009.SDPSE          | 2009 | SDPSE          |  0 |    80 | 0.0000000000 | -2.240282 |\n",
       "| 2009.SOCRAD-RNP     | 2009 | SOCRAD-RNP     |  0 |   582 | 0.0000000000 | -2.240282 |\n",
       "| 2016.DES-CD         | 2016 | DES-CD         |  1 |  5886 | 0.0001698947 | -1.853571 |\n",
       "| 2014.DES-CD         | 2014 | DES-CD         |  2 |  9057 | 0.0002208237 | -1.737647 |\n",
       "| 2000.UDEUR          | 2000 | UDEUR          |  9 | 32843 | 0.0002740310 | -1.616537 |\n",
       "| 2001.UDEUR          | 2001 | UDEUR          |  1 |  3157 | 0.0003167564 | -1.519286 |\n",
       "| 2020.IV             | 2020 | IV             |  6 | 18545 | 0.0003235373 | -1.503852 |\n",
       "| 2006.VERDI          | 2006 | VERDI          |  8 | 20861 | 0.0003834907 | -1.367387 |\n",
       "| 1996.UDEUR          | 1996 | UDEUR          | 12 | 29778 | 0.0004029821 | -1.323021 |\n",
       "| 1996.DEM-U          | 1996 | DEM-U          | 12 | 29388 | 0.0004083299 | -1.310848 |\n",
       "\n"
      ],
      "text/plain": [
       "   doc_id              year party          anti_elitism total_toks\n",
       "1  2018.AP-CPE-NCD-NCI 2018 AP-CPE-NCD-NCI  0             269     \n",
       "2  2018.CI             2018 CI              0             550     \n",
       "3  2008.DCA-NPSI       2008 DCA-NPSI        0             269     \n",
       "4  2009.DCA-NPSI       2009 DCA-NPSI        0              26     \n",
       "5  2013.FLPTP          2013 FLPTP           0               2     \n",
       "6  1994.LIFED          1994 LIFED           0             217     \n",
       "7  1995.LIFED          1995 LIFED           0            1870     \n",
       "8  1996.LIFED          1996 LIFED           0             979     \n",
       "9  2018.MDP-LU         2018 MDP-LU          0            1252     \n",
       "10 2008.PDCI           2008 PDCI            0             770     \n",
       "11 2009.SDPSE          2009 SDPSE           0              80     \n",
       "12 2009.SOCRAD-RNP     2009 SOCRAD-RNP      0             582     \n",
       "13 2016.DES-CD         2016 DES-CD          1            5886     \n",
       "14 2014.DES-CD         2014 DES-CD          2            9057     \n",
       "15 2000.UDEUR          2000 UDEUR           9           32843     \n",
       "16 2001.UDEUR          2001 UDEUR           1            3157     \n",
       "17 2020.IV             2020 IV              6           18545     \n",
       "18 2006.VERDI          2006 VERDI           8           20861     \n",
       "19 1996.UDEUR          1996 UDEUR          12           29778     \n",
       "20 1996.DEM-U          1996 DEM-U          12           29388     \n",
       "   perc_of_populist_toks standardized_perc_of_populist_toks\n",
       "1  0.0000000000          -2.240282                         \n",
       "2  0.0000000000          -2.240282                         \n",
       "3  0.0000000000          -2.240282                         \n",
       "4  0.0000000000          -2.240282                         \n",
       "5  0.0000000000          -2.240282                         \n",
       "6  0.0000000000          -2.240282                         \n",
       "7  0.0000000000          -2.240282                         \n",
       "8  0.0000000000          -2.240282                         \n",
       "9  0.0000000000          -2.240282                         \n",
       "10 0.0000000000          -2.240282                         \n",
       "11 0.0000000000          -2.240282                         \n",
       "12 0.0000000000          -2.240282                         \n",
       "13 0.0001698947          -1.853571                         \n",
       "14 0.0002208237          -1.737647                         \n",
       "15 0.0002740310          -1.616537                         \n",
       "16 0.0003167564          -1.519286                         \n",
       "17 0.0003235373          -1.503852                         \n",
       "18 0.0003834907          -1.367387                         \n",
       "19 0.0004029821          -1.323021                         \n",
       "20 0.0004083299          -1.310848                         "
      ]
     },
     "metadata": {},
     "output_type": "display_data"
    }
   ],
   "source": [
    "df_rp %>% \n",
    "arrange(desc(standardized_perc_of_populist_toks)) %>% \n",
    "tail(20) %>% \n",
    "arrange(standardized_perc_of_populist_toks)"
   ]
  },
  {
   "cell_type": "markdown",
   "id": "8420a909",
   "metadata": {},
   "source": [
    "## External validity <a class=\"anchor\" id=\"subparagraph3\"></a>"
   ]
  },
  {
   "cell_type": "markdown",
   "id": "92406334",
   "metadata": {},
   "source": [
    "### Chapel Hill Expert Survey <a class=\"anchor\" id=\"subparagraph4\"></a>"
   ]
  },
  {
   "cell_type": "markdown",
   "id": "1361dc17",
   "metadata": {},
   "source": [
    "As Rooduijn and Pauwels' dictionary only captures the anti-elite dimension of populism, the external validity will be carried out against the anti-elite salience variable from the CHES dataset, which has been introduced in 2014."
   ]
  },
  {
   "cell_type": "markdown",
   "id": "8eb8add7",
   "metadata": {},
   "source": [
    "The countrycode for Italy is 8. The following is a list of all Italian parties in the CHES dataset in the 2014-2019 time period."
   ]
  },
  {
   "cell_type": "code",
   "execution_count": 31,
   "id": "d41b4bd4",
   "metadata": {},
   "outputs": [
    {
     "data": {
      "text/html": [
       "<table class=\"dataframe\">\n",
       "<caption>A tibble: 15 × 1</caption>\n",
       "<thead>\n",
       "\t<tr><th scope=col>party</th></tr>\n",
       "\t<tr><th scope=col>&lt;chr&gt;</th></tr>\n",
       "</thead>\n",
       "<tbody>\n",
       "\t<tr><td>UDC</td></tr>\n",
       "\t<tr><td>SC </td></tr>\n",
       "\t<tr><td>VdA</td></tr>\n",
       "\t<tr><td>PD </td></tr>\n",
       "\t<tr><td>FI </td></tr>\n",
       "\t<tr><td>LN </td></tr>\n",
       "\t<tr><td>FdI</td></tr>\n",
       "\t<tr><td>SEL</td></tr>\n",
       "\t<tr><td>M5S</td></tr>\n",
       "\t<tr><td>CD </td></tr>\n",
       "\t<tr><td>SVP</td></tr>\n",
       "\t<tr><td>RC </td></tr>\n",
       "\t<tr><td>NCD</td></tr>\n",
       "\t<tr><td>RI </td></tr>\n",
       "\t<tr><td>SI </td></tr>\n",
       "</tbody>\n",
       "</table>\n"
      ],
      "text/latex": [
       "A tibble: 15 × 1\n",
       "\\begin{tabular}{l}\n",
       " party\\\\\n",
       " <chr>\\\\\n",
       "\\hline\n",
       "\t UDC\\\\\n",
       "\t SC \\\\\n",
       "\t VdA\\\\\n",
       "\t PD \\\\\n",
       "\t FI \\\\\n",
       "\t LN \\\\\n",
       "\t FdI\\\\\n",
       "\t SEL\\\\\n",
       "\t M5S\\\\\n",
       "\t CD \\\\\n",
       "\t SVP\\\\\n",
       "\t RC \\\\\n",
       "\t NCD\\\\\n",
       "\t RI \\\\\n",
       "\t SI \\\\\n",
       "\\end{tabular}\n"
      ],
      "text/markdown": [
       "\n",
       "A tibble: 15 × 1\n",
       "\n",
       "| party &lt;chr&gt; |\n",
       "|---|\n",
       "| UDC |\n",
       "| SC  |\n",
       "| VdA |\n",
       "| PD  |\n",
       "| FI  |\n",
       "| LN  |\n",
       "| FdI |\n",
       "| SEL |\n",
       "| M5S |\n",
       "| CD  |\n",
       "| SVP |\n",
       "| RC  |\n",
       "| NCD |\n",
       "| RI  |\n",
       "| SI  |\n",
       "\n"
      ],
      "text/plain": [
       "   party\n",
       "1  UDC  \n",
       "2  SC   \n",
       "3  VdA  \n",
       "4  PD   \n",
       "5  FI   \n",
       "6  LN   \n",
       "7  FdI  \n",
       "8  SEL  \n",
       "9  M5S  \n",
       "10 CD   \n",
       "11 SVP  \n",
       "12 RC   \n",
       "13 NCD  \n",
       "14 RI   \n",
       "15 SI   "
      ]
     },
     "metadata": {},
     "output_type": "display_data"
    }
   ],
   "source": [
    "ches %>% filter(country == 8 & year >= 2014 & year <= 2019) %>% distinct(party)"
   ]
  },
  {
   "cell_type": "markdown",
   "id": "eeb56a83",
   "metadata": {},
   "source": [
    "While these are the parties included in our dataset in the same timeframe"
   ]
  },
  {
   "cell_type": "code",
   "execution_count": 32,
   "id": "a6bd8ff7",
   "metadata": {},
   "outputs": [
    {
     "data": {
      "text/html": [
       "<table class=\"dataframe\">\n",
       "<caption>A tibble: 14 × 1</caption>\n",
       "<thead>\n",
       "\t<tr><th scope=col>party</th></tr>\n",
       "\t<tr><th scope=col>&lt;chr&gt;</th></tr>\n",
       "</thead>\n",
       "<tbody>\n",
       "\t<tr><td>AP-CPE-NCD-NCI</td></tr>\n",
       "\t<tr><td>CI            </td></tr>\n",
       "\t<tr><td>DES-CD        </td></tr>\n",
       "\t<tr><td>FDI           </td></tr>\n",
       "\t<tr><td>FI-PDL        </td></tr>\n",
       "\t<tr><td>IV            </td></tr>\n",
       "\t<tr><td>LEGA          </td></tr>\n",
       "\t<tr><td>LEU           </td></tr>\n",
       "\t<tr><td>M5S           </td></tr>\n",
       "\t<tr><td>MDP-LU        </td></tr>\n",
       "\t<tr><td>MISTO         </td></tr>\n",
       "\t<tr><td>NCI-SCPI-MAIE </td></tr>\n",
       "\t<tr><td>PD-ULIVO-DS   </td></tr>\n",
       "\t<tr><td>SI-SEL-POS-LU </td></tr>\n",
       "</tbody>\n",
       "</table>\n"
      ],
      "text/latex": [
       "A tibble: 14 × 1\n",
       "\\begin{tabular}{l}\n",
       " party\\\\\n",
       " <chr>\\\\\n",
       "\\hline\n",
       "\t AP-CPE-NCD-NCI\\\\\n",
       "\t CI            \\\\\n",
       "\t DES-CD        \\\\\n",
       "\t FDI           \\\\\n",
       "\t FI-PDL        \\\\\n",
       "\t IV            \\\\\n",
       "\t LEGA          \\\\\n",
       "\t LEU           \\\\\n",
       "\t M5S           \\\\\n",
       "\t MDP-LU        \\\\\n",
       "\t MISTO         \\\\\n",
       "\t NCI-SCPI-MAIE \\\\\n",
       "\t PD-ULIVO-DS   \\\\\n",
       "\t SI-SEL-POS-LU \\\\\n",
       "\\end{tabular}\n"
      ],
      "text/markdown": [
       "\n",
       "A tibble: 14 × 1\n",
       "\n",
       "| party &lt;chr&gt; |\n",
       "|---|\n",
       "| AP-CPE-NCD-NCI |\n",
       "| CI             |\n",
       "| DES-CD         |\n",
       "| FDI            |\n",
       "| FI-PDL         |\n",
       "| IV             |\n",
       "| LEGA           |\n",
       "| LEU            |\n",
       "| M5S            |\n",
       "| MDP-LU         |\n",
       "| MISTO          |\n",
       "| NCI-SCPI-MAIE  |\n",
       "| PD-ULIVO-DS    |\n",
       "| SI-SEL-POS-LU  |\n",
       "\n"
      ],
      "text/plain": [
       "   party         \n",
       "1  AP-CPE-NCD-NCI\n",
       "2  CI            \n",
       "3  DES-CD        \n",
       "4  FDI           \n",
       "5  FI-PDL        \n",
       "6  IV            \n",
       "7  LEGA          \n",
       "8  LEU           \n",
       "9  M5S           \n",
       "10 MDP-LU        \n",
       "11 MISTO         \n",
       "12 NCI-SCPI-MAIE \n",
       "13 PD-ULIVO-DS   \n",
       "14 SI-SEL-POS-LU "
      ]
     },
     "metadata": {},
     "output_type": "display_data"
    }
   ],
   "source": [
    "df_rp %>% filter(year >= 2014 & year <= 2019) %>% distinct(party)"
   ]
  },
  {
   "cell_type": "markdown",
   "id": "34446948",
   "metadata": {},
   "source": [
    "Let's now compare how R&P' dictionary and the CHES dataset ranked party-year combinations by populism in 2014 and 2019. We'll only keep parties that are present in both datasets."
   ]
  },
  {
   "cell_type": "markdown",
   "id": "a946e688",
   "metadata": {},
   "source": [
    "The difference between the two rankings is stark. PD (2019) ranks among the most populist party-year combinations according to the dictionary analysis while the opposite is true in the CHES dataset. Moreover, Lega (2019) and M5S (2019), two of the most populist party-year combinations according to CHES, are only slightly populist according to R&P' dictionary."
   ]
  },
  {
   "cell_type": "code",
   "execution_count": 33,
   "id": "7aedc856",
   "metadata": {},
   "outputs": [
    {
     "data": {
      "text/html": [
       "<table class=\"dataframe\">\n",
       "<caption>A tibble: 17 × 7</caption>\n",
       "<thead>\n",
       "\t<tr><th scope=col>doc_id</th><th scope=col>year</th><th scope=col>party</th><th scope=col>anti_elitism</th><th scope=col>total_toks</th><th scope=col>perc_of_populist_toks</th><th scope=col>standardized_perc_of_populist_toks</th></tr>\n",
       "\t<tr><th scope=col>&lt;chr&gt;</th><th scope=col>&lt;int&gt;</th><th scope=col>&lt;chr&gt;</th><th scope=col>&lt;dbl&gt;</th><th scope=col>&lt;int&gt;</th><th scope=col>&lt;dbl&gt;</th><th scope=col>&lt;dbl&gt;</th></tr>\n",
       "</thead>\n",
       "<tbody>\n",
       "\t<tr><td>2014.FDI           </td><td>2014</td><td>FDI           </td><td> 99</td><td> 51695</td><td>0.0019150788</td><td> 2.11878706</td></tr>\n",
       "\t<tr><td>2019.FI-PDL        </td><td>2019</td><td>FI-PDL        </td><td>949</td><td>533560</td><td>0.0017786191</td><td> 1.80817979</td></tr>\n",
       "\t<tr><td>2019.PD-ULIVO-DS   </td><td>2019</td><td>PD-ULIVO-DS   </td><td>888</td><td>557509</td><td>0.0015927994</td><td> 1.38522027</td></tr>\n",
       "\t<tr><td>2014.MDP-LU        </td><td>2014</td><td>MDP-LU        </td><td>148</td><td>101300</td><td>0.0014610069</td><td> 1.08523651</td></tr>\n",
       "\t<tr><td>2019.FDI           </td><td>2019</td><td>FDI           </td><td>368</td><td>262423</td><td>0.0014023161</td><td> 0.95164553</td></tr>\n",
       "\t<tr><td>2014.AP-CPE-NCD-NCI</td><td>2014</td><td>AP-CPE-NCD-NCI</td><td>136</td><td>101160</td><td>0.0013444049</td><td> 0.81982906</td></tr>\n",
       "\t<tr><td>2019.LEU           </td><td>2019</td><td>LEU           </td><td> 71</td><td> 53261</td><td>0.0013330580</td><td> 0.79400135</td></tr>\n",
       "\t<tr><td>2014.LEGA          </td><td>2014</td><td>LEGA          </td><td>164</td><td>148505</td><td>0.0011043399</td><td> 0.27339735</td></tr>\n",
       "\t<tr><td>2014.M5S           </td><td>2014</td><td>M5S           </td><td>561</td><td>552684</td><td>0.0010150466</td><td> 0.07014940</td></tr>\n",
       "\t<tr><td>2019.LEGA          </td><td>2019</td><td>LEGA          </td><td>216</td><td>214370</td><td>0.0010076037</td><td> 0.05320801</td></tr>\n",
       "\t<tr><td>2019.M5S           </td><td>2019</td><td>M5S           </td><td>503</td><td>509145</td><td>0.0009879307</td><td> 0.00842883</td></tr>\n",
       "\t<tr><td>2014.CI            </td><td>2014</td><td>CI            </td><td>139</td><td>154407</td><td>0.0009002183</td><td>-0.19122081</td></tr>\n",
       "\t<tr><td>2014.SI-SEL-POS-LU </td><td>2014</td><td>SI-SEL-POS-LU </td><td>111</td><td>131756</td><td>0.0008424664</td><td>-0.32267462</td></tr>\n",
       "\t<tr><td>2014.PD-ULIVO-DS   </td><td>2014</td><td>PD-ULIVO-DS   </td><td>491</td><td>599522</td><td>0.0008189858</td><td>-0.37612072</td></tr>\n",
       "\t<tr><td>2014.FI-PDL        </td><td>2014</td><td>FI-PDL        </td><td>215</td><td>289856</td><td>0.0007417476</td><td>-0.55192888</td></tr>\n",
       "\t<tr><td>2014.NCI-SCPI-MAIE </td><td>2014</td><td>NCI-SCPI-MAIE </td><td> 68</td><td>106038</td><td>0.0006412795</td><td>-0.78061257</td></tr>\n",
       "\t<tr><td>2014.DES-CD        </td><td>2014</td><td>DES-CD        </td><td>  2</td><td>  9057</td><td>0.0002208237</td><td>-1.73764686</td></tr>\n",
       "</tbody>\n",
       "</table>\n"
      ],
      "text/latex": [
       "A tibble: 17 × 7\n",
       "\\begin{tabular}{lllllll}\n",
       " doc\\_id & year & party & anti\\_elitism & total\\_toks & perc\\_of\\_populist\\_toks & standardized\\_perc\\_of\\_populist\\_toks\\\\\n",
       " <chr> & <int> & <chr> & <dbl> & <int> & <dbl> & <dbl>\\\\\n",
       "\\hline\n",
       "\t 2014.FDI            & 2014 & FDI            &  99 &  51695 & 0.0019150788 &  2.11878706\\\\\n",
       "\t 2019.FI-PDL         & 2019 & FI-PDL         & 949 & 533560 & 0.0017786191 &  1.80817979\\\\\n",
       "\t 2019.PD-ULIVO-DS    & 2019 & PD-ULIVO-DS    & 888 & 557509 & 0.0015927994 &  1.38522027\\\\\n",
       "\t 2014.MDP-LU         & 2014 & MDP-LU         & 148 & 101300 & 0.0014610069 &  1.08523651\\\\\n",
       "\t 2019.FDI            & 2019 & FDI            & 368 & 262423 & 0.0014023161 &  0.95164553\\\\\n",
       "\t 2014.AP-CPE-NCD-NCI & 2014 & AP-CPE-NCD-NCI & 136 & 101160 & 0.0013444049 &  0.81982906\\\\\n",
       "\t 2019.LEU            & 2019 & LEU            &  71 &  53261 & 0.0013330580 &  0.79400135\\\\\n",
       "\t 2014.LEGA           & 2014 & LEGA           & 164 & 148505 & 0.0011043399 &  0.27339735\\\\\n",
       "\t 2014.M5S            & 2014 & M5S            & 561 & 552684 & 0.0010150466 &  0.07014940\\\\\n",
       "\t 2019.LEGA           & 2019 & LEGA           & 216 & 214370 & 0.0010076037 &  0.05320801\\\\\n",
       "\t 2019.M5S            & 2019 & M5S            & 503 & 509145 & 0.0009879307 &  0.00842883\\\\\n",
       "\t 2014.CI             & 2014 & CI             & 139 & 154407 & 0.0009002183 & -0.19122081\\\\\n",
       "\t 2014.SI-SEL-POS-LU  & 2014 & SI-SEL-POS-LU  & 111 & 131756 & 0.0008424664 & -0.32267462\\\\\n",
       "\t 2014.PD-ULIVO-DS    & 2014 & PD-ULIVO-DS    & 491 & 599522 & 0.0008189858 & -0.37612072\\\\\n",
       "\t 2014.FI-PDL         & 2014 & FI-PDL         & 215 & 289856 & 0.0007417476 & -0.55192888\\\\\n",
       "\t 2014.NCI-SCPI-MAIE  & 2014 & NCI-SCPI-MAIE  &  68 & 106038 & 0.0006412795 & -0.78061257\\\\\n",
       "\t 2014.DES-CD         & 2014 & DES-CD         &   2 &   9057 & 0.0002208237 & -1.73764686\\\\\n",
       "\\end{tabular}\n"
      ],
      "text/markdown": [
       "\n",
       "A tibble: 17 × 7\n",
       "\n",
       "| doc_id &lt;chr&gt; | year &lt;int&gt; | party &lt;chr&gt; | anti_elitism &lt;dbl&gt; | total_toks &lt;int&gt; | perc_of_populist_toks &lt;dbl&gt; | standardized_perc_of_populist_toks &lt;dbl&gt; |\n",
       "|---|---|---|---|---|---|---|\n",
       "| 2014.FDI            | 2014 | FDI            |  99 |  51695 | 0.0019150788 |  2.11878706 |\n",
       "| 2019.FI-PDL         | 2019 | FI-PDL         | 949 | 533560 | 0.0017786191 |  1.80817979 |\n",
       "| 2019.PD-ULIVO-DS    | 2019 | PD-ULIVO-DS    | 888 | 557509 | 0.0015927994 |  1.38522027 |\n",
       "| 2014.MDP-LU         | 2014 | MDP-LU         | 148 | 101300 | 0.0014610069 |  1.08523651 |\n",
       "| 2019.FDI            | 2019 | FDI            | 368 | 262423 | 0.0014023161 |  0.95164553 |\n",
       "| 2014.AP-CPE-NCD-NCI | 2014 | AP-CPE-NCD-NCI | 136 | 101160 | 0.0013444049 |  0.81982906 |\n",
       "| 2019.LEU            | 2019 | LEU            |  71 |  53261 | 0.0013330580 |  0.79400135 |\n",
       "| 2014.LEGA           | 2014 | LEGA           | 164 | 148505 | 0.0011043399 |  0.27339735 |\n",
       "| 2014.M5S            | 2014 | M5S            | 561 | 552684 | 0.0010150466 |  0.07014940 |\n",
       "| 2019.LEGA           | 2019 | LEGA           | 216 | 214370 | 0.0010076037 |  0.05320801 |\n",
       "| 2019.M5S            | 2019 | M5S            | 503 | 509145 | 0.0009879307 |  0.00842883 |\n",
       "| 2014.CI             | 2014 | CI             | 139 | 154407 | 0.0009002183 | -0.19122081 |\n",
       "| 2014.SI-SEL-POS-LU  | 2014 | SI-SEL-POS-LU  | 111 | 131756 | 0.0008424664 | -0.32267462 |\n",
       "| 2014.PD-ULIVO-DS    | 2014 | PD-ULIVO-DS    | 491 | 599522 | 0.0008189858 | -0.37612072 |\n",
       "| 2014.FI-PDL         | 2014 | FI-PDL         | 215 | 289856 | 0.0007417476 | -0.55192888 |\n",
       "| 2014.NCI-SCPI-MAIE  | 2014 | NCI-SCPI-MAIE  |  68 | 106038 | 0.0006412795 | -0.78061257 |\n",
       "| 2014.DES-CD         | 2014 | DES-CD         |   2 |   9057 | 0.0002208237 | -1.73764686 |\n",
       "\n"
      ],
      "text/plain": [
       "   doc_id              year party          anti_elitism total_toks\n",
       "1  2014.FDI            2014 FDI             99           51695    \n",
       "2  2019.FI-PDL         2019 FI-PDL         949          533560    \n",
       "3  2019.PD-ULIVO-DS    2019 PD-ULIVO-DS    888          557509    \n",
       "4  2014.MDP-LU         2014 MDP-LU         148          101300    \n",
       "5  2019.FDI            2019 FDI            368          262423    \n",
       "6  2014.AP-CPE-NCD-NCI 2014 AP-CPE-NCD-NCI 136          101160    \n",
       "7  2019.LEU            2019 LEU             71           53261    \n",
       "8  2014.LEGA           2014 LEGA           164          148505    \n",
       "9  2014.M5S            2014 M5S            561          552684    \n",
       "10 2019.LEGA           2019 LEGA           216          214370    \n",
       "11 2019.M5S            2019 M5S            503          509145    \n",
       "12 2014.CI             2014 CI             139          154407    \n",
       "13 2014.SI-SEL-POS-LU  2014 SI-SEL-POS-LU  111          131756    \n",
       "14 2014.PD-ULIVO-DS    2014 PD-ULIVO-DS    491          599522    \n",
       "15 2014.FI-PDL         2014 FI-PDL         215          289856    \n",
       "16 2014.NCI-SCPI-MAIE  2014 NCI-SCPI-MAIE   68          106038    \n",
       "17 2014.DES-CD         2014 DES-CD           2            9057    \n",
       "   perc_of_populist_toks standardized_perc_of_populist_toks\n",
       "1  0.0019150788           2.11878706                       \n",
       "2  0.0017786191           1.80817979                       \n",
       "3  0.0015927994           1.38522027                       \n",
       "4  0.0014610069           1.08523651                       \n",
       "5  0.0014023161           0.95164553                       \n",
       "6  0.0013444049           0.81982906                       \n",
       "7  0.0013330580           0.79400135                       \n",
       "8  0.0011043399           0.27339735                       \n",
       "9  0.0010150466           0.07014940                       \n",
       "10 0.0010076037           0.05320801                       \n",
       "11 0.0009879307           0.00842883                       \n",
       "12 0.0009002183          -0.19122081                       \n",
       "13 0.0008424664          -0.32267462                       \n",
       "14 0.0008189858          -0.37612072                       \n",
       "15 0.0007417476          -0.55192888                       \n",
       "16 0.0006412795          -0.78061257                       \n",
       "17 0.0002208237          -1.73764686                       "
      ]
     },
     "metadata": {},
     "output_type": "display_data"
    }
   ],
   "source": [
    "df_rp %>% \n",
    "filter((year == 2014 | year == 2019) & party != \"MISTO\" & party != \"IV\") %>% \n",
    "arrange(desc(standardized_perc_of_populist_toks))"
   ]
  },
  {
   "cell_type": "code",
   "execution_count": 34,
   "id": "4b763747",
   "metadata": {},
   "outputs": [
    {
     "data": {
      "text/html": [
       "<table class=\"dataframe\">\n",
       "<caption>A grouped_df: 17 × 3</caption>\n",
       "<thead>\n",
       "\t<tr><th scope=col>party</th><th scope=col>year</th><th scope=col>mean_anti_elite_salience</th></tr>\n",
       "\t<tr><th scope=col>&lt;chr&gt;</th><th scope=col>&lt;dbl&gt;</th><th scope=col>&lt;dbl&gt;</th></tr>\n",
       "</thead>\n",
       "<tbody>\n",
       "\t<tr><td>M5S</td><td>2014</td><td>10.000000</td></tr>\n",
       "\t<tr><td>RC </td><td>2014</td><td> 9.333333</td></tr>\n",
       "\t<tr><td>M5S</td><td>2019</td><td> 8.888889</td></tr>\n",
       "\t<tr><td>LN </td><td>2014</td><td> 8.800000</td></tr>\n",
       "\t<tr><td>LN </td><td>2019</td><td> 8.333333</td></tr>\n",
       "\t<tr><td>FdI</td><td>2019</td><td> 8.000000</td></tr>\n",
       "\t<tr><td>SEL</td><td>2014</td><td> 6.800000</td></tr>\n",
       "\t<tr><td>FdI</td><td>2014</td><td> 6.250000</td></tr>\n",
       "\t<tr><td>PD </td><td>2014</td><td> 4.400000</td></tr>\n",
       "\t<tr><td>FI </td><td>2019</td><td> 4.176471</td></tr>\n",
       "\t<tr><td>FI </td><td>2014</td><td> 4.000000</td></tr>\n",
       "\t<tr><td>SI </td><td>2019</td><td> 3.785714</td></tr>\n",
       "\t<tr><td>CD </td><td>2014</td><td> 3.333333</td></tr>\n",
       "\t<tr><td>NCD</td><td>2014</td><td> 2.200000</td></tr>\n",
       "\t<tr><td>PD </td><td>2019</td><td> 1.882353</td></tr>\n",
       "\t<tr><td>UDC</td><td>2014</td><td> 1.500000</td></tr>\n",
       "\t<tr><td>SC </td><td>2014</td><td> 1.000000</td></tr>\n",
       "</tbody>\n",
       "</table>\n"
      ],
      "text/latex": [
       "A grouped\\_df: 17 × 3\n",
       "\\begin{tabular}{lll}\n",
       " party & year & mean\\_anti\\_elite\\_salience\\\\\n",
       " <chr> & <dbl> & <dbl>\\\\\n",
       "\\hline\n",
       "\t M5S & 2014 & 10.000000\\\\\n",
       "\t RC  & 2014 &  9.333333\\\\\n",
       "\t M5S & 2019 &  8.888889\\\\\n",
       "\t LN  & 2014 &  8.800000\\\\\n",
       "\t LN  & 2019 &  8.333333\\\\\n",
       "\t FdI & 2019 &  8.000000\\\\\n",
       "\t SEL & 2014 &  6.800000\\\\\n",
       "\t FdI & 2014 &  6.250000\\\\\n",
       "\t PD  & 2014 &  4.400000\\\\\n",
       "\t FI  & 2019 &  4.176471\\\\\n",
       "\t FI  & 2014 &  4.000000\\\\\n",
       "\t SI  & 2019 &  3.785714\\\\\n",
       "\t CD  & 2014 &  3.333333\\\\\n",
       "\t NCD & 2014 &  2.200000\\\\\n",
       "\t PD  & 2019 &  1.882353\\\\\n",
       "\t UDC & 2014 &  1.500000\\\\\n",
       "\t SC  & 2014 &  1.000000\\\\\n",
       "\\end{tabular}\n"
      ],
      "text/markdown": [
       "\n",
       "A grouped_df: 17 × 3\n",
       "\n",
       "| party &lt;chr&gt; | year &lt;dbl&gt; | mean_anti_elite_salience &lt;dbl&gt; |\n",
       "|---|---|---|\n",
       "| M5S | 2014 | 10.000000 |\n",
       "| RC  | 2014 |  9.333333 |\n",
       "| M5S | 2019 |  8.888889 |\n",
       "| LN  | 2014 |  8.800000 |\n",
       "| LN  | 2019 |  8.333333 |\n",
       "| FdI | 2019 |  8.000000 |\n",
       "| SEL | 2014 |  6.800000 |\n",
       "| FdI | 2014 |  6.250000 |\n",
       "| PD  | 2014 |  4.400000 |\n",
       "| FI  | 2019 |  4.176471 |\n",
       "| FI  | 2014 |  4.000000 |\n",
       "| SI  | 2019 |  3.785714 |\n",
       "| CD  | 2014 |  3.333333 |\n",
       "| NCD | 2014 |  2.200000 |\n",
       "| PD  | 2019 |  1.882353 |\n",
       "| UDC | 2014 |  1.500000 |\n",
       "| SC  | 2014 |  1.000000 |\n",
       "\n"
      ],
      "text/plain": [
       "   party year mean_anti_elite_salience\n",
       "1  M5S   2014 10.000000               \n",
       "2  RC    2014  9.333333               \n",
       "3  M5S   2019  8.888889               \n",
       "4  LN    2014  8.800000               \n",
       "5  LN    2019  8.333333               \n",
       "6  FdI   2019  8.000000               \n",
       "7  SEL   2014  6.800000               \n",
       "8  FdI   2014  6.250000               \n",
       "9  PD    2014  4.400000               \n",
       "10 FI    2019  4.176471               \n",
       "11 FI    2014  4.000000               \n",
       "12 SI    2019  3.785714               \n",
       "13 CD    2014  3.333333               \n",
       "14 NCD   2014  2.200000               \n",
       "15 PD    2019  1.882353               \n",
       "16 UDC   2014  1.500000               \n",
       "17 SC    2014  1.000000               "
      ]
     },
     "metadata": {},
     "output_type": "display_data"
    }
   ],
   "source": [
    "to_drop <- c('VdA', 'SVP', 'RI')\n",
    "\n",
    "ches %>% \n",
    "filter(country == 8 & year >= 2014 & year <= 2019 & (!party %in% to_drop))  %>% \n",
    "group_by(party, year) %>% \n",
    "summarize(mean_anti_elite_salience = mean(antielite_salience), .groups = \"keep\") %>% \n",
    "arrange(desc(mean_anti_elite_salience))"
   ]
  },
  {
   "cell_type": "markdown",
   "id": "daad9c2e",
   "metadata": {},
   "source": [
    "### The PopuList <a class=\"anchor\" id=\"subparagraph5\"></a>"
   ]
  },
  {
   "cell_type": "markdown",
   "id": "9525acc6",
   "metadata": {},
   "source": [
    "All the Italian parties in the PopuList dataset"
   ]
  },
  {
   "cell_type": "code",
   "execution_count": 35,
   "id": "ab5d1c41",
   "metadata": {},
   "outputs": [
    {
     "data": {
      "text/html": [
       "<table class=\"dataframe\">\n",
       "<caption>A tibble: 13 × 1</caption>\n",
       "<thead>\n",
       "\t<tr><th scope=col>party_name</th></tr>\n",
       "\t<tr><th scope=col>&lt;chr&gt;</th></tr>\n",
       "</thead>\n",
       "<tbody>\n",
       "\t<tr><td>Fiamma Tricolore                          </td></tr>\n",
       "\t<tr><td>Forza Italia – Il Popolo della Libertà    </td></tr>\n",
       "\t<tr><td>Fratelli d'Italia – Centrodestra Nazionale</td></tr>\n",
       "\t<tr><td>Il Popolo della Libertà                   </td></tr>\n",
       "\t<tr><td>Lega (Nord)                               </td></tr>\n",
       "\t<tr><td>Lega d'Azione Meridionale                 </td></tr>\n",
       "\t<tr><td>Liga Veneta                               </td></tr>\n",
       "\t<tr><td>Movimento 5 Stelle                        </td></tr>\n",
       "\t<tr><td>Movimento Sociale Italiano                </td></tr>\n",
       "\t<tr><td>Partito dei Comunisti Italiani            </td></tr>\n",
       "\t<tr><td>Partito della Rifondazione Comunista      </td></tr>\n",
       "\t<tr><td>Rivoluzione Civile                        </td></tr>\n",
       "\t<tr><td>Sinistra                                  </td></tr>\n",
       "</tbody>\n",
       "</table>\n"
      ],
      "text/latex": [
       "A tibble: 13 × 1\n",
       "\\begin{tabular}{l}\n",
       " party\\_name\\\\\n",
       " <chr>\\\\\n",
       "\\hline\n",
       "\t Fiamma Tricolore                          \\\\\n",
       "\t Forza Italia – Il Popolo della Libertà    \\\\\n",
       "\t Fratelli d'Italia – Centrodestra Nazionale\\\\\n",
       "\t Il Popolo della Libertà                   \\\\\n",
       "\t Lega (Nord)                               \\\\\n",
       "\t Lega d'Azione Meridionale                 \\\\\n",
       "\t Liga Veneta                               \\\\\n",
       "\t Movimento 5 Stelle                        \\\\\n",
       "\t Movimento Sociale Italiano                \\\\\n",
       "\t Partito dei Comunisti Italiani            \\\\\n",
       "\t Partito della Rifondazione Comunista      \\\\\n",
       "\t Rivoluzione Civile                        \\\\\n",
       "\t Sinistra                                  \\\\\n",
       "\\end{tabular}\n"
      ],
      "text/markdown": [
       "\n",
       "A tibble: 13 × 1\n",
       "\n",
       "| party_name &lt;chr&gt; |\n",
       "|---|\n",
       "| Fiamma Tricolore                           |\n",
       "| Forza Italia – Il Popolo della Libertà     |\n",
       "| Fratelli d'Italia – Centrodestra Nazionale |\n",
       "| Il Popolo della Libertà                    |\n",
       "| Lega (Nord)                                |\n",
       "| Lega d'Azione Meridionale                  |\n",
       "| Liga Veneta                                |\n",
       "| Movimento 5 Stelle                         |\n",
       "| Movimento Sociale Italiano                 |\n",
       "| Partito dei Comunisti Italiani             |\n",
       "| Partito della Rifondazione Comunista       |\n",
       "| Rivoluzione Civile                         |\n",
       "| Sinistra                                   |\n",
       "\n"
      ],
      "text/plain": [
       "   party_name                                \n",
       "1  Fiamma Tricolore                          \n",
       "2  Forza Italia – Il Popolo della Libertà    \n",
       "3  Fratelli d'Italia – Centrodestra Nazionale\n",
       "4  Il Popolo della Libertà                   \n",
       "5  Lega (Nord)                               \n",
       "6  Lega d'Azione Meridionale                 \n",
       "7  Liga Veneta                               \n",
       "8  Movimento 5 Stelle                        \n",
       "9  Movimento Sociale Italiano                \n",
       "10 Partito dei Comunisti Italiani            \n",
       "11 Partito della Rifondazione Comunista      \n",
       "12 Rivoluzione Civile                        \n",
       "13 Sinistra                                  "
      ]
     },
     "metadata": {},
     "output_type": "display_data"
    }
   ],
   "source": [
    "populist %>% filter(country_name == \"Italy\") %>% distinct(party_name)"
   ]
  },
  {
   "cell_type": "markdown",
   "id": "f529e150",
   "metadata": {},
   "source": [
    "Let's compare the populism scores between PopuList and R&D' dictionary by focusing on parties that are present in both datasets."
   ]
  },
  {
   "cell_type": "markdown",
   "id": "ad4845bf",
   "metadata": {},
   "source": [
    "According to the dictionary analysis, FI-PDL, FDI, Lega and M5S have higher populism scores compared to most parties. These parties are all coded as populist in the PopuList dataset. However, the dictionary analysis also assigned high populism scores to left-wing parties such as SI-SEL-POS-LU (2016-2018) and RC (1995, 1999) which are have been labeled as not-populist in the PopuList dataset. The two measures are thus only partially consistent."
   ]
  },
  {
   "cell_type": "code",
   "execution_count": 36,
   "id": "3a1951d4",
   "metadata": {},
   "outputs": [
    {
     "data": {
      "text/html": [
       "<table class=\"dataframe\">\n",
       "<caption>A tibble: 20 × 7</caption>\n",
       "<thead>\n",
       "\t<tr><th scope=col>doc_id</th><th scope=col>year</th><th scope=col>party</th><th scope=col>anti_elitism</th><th scope=col>total_toks</th><th scope=col>perc_of_populist_toks</th><th scope=col>standardized_perc_of_populist_toks</th></tr>\n",
       "\t<tr><th scope=col>&lt;chr&gt;</th><th scope=col>&lt;int&gt;</th><th scope=col>&lt;chr&gt;</th><th scope=col>&lt;dbl&gt;</th><th scope=col>&lt;int&gt;</th><th scope=col>&lt;dbl&gt;</th><th scope=col>&lt;dbl&gt;</th></tr>\n",
       "</thead>\n",
       "<tbody>\n",
       "\t<tr><td>2018.SI-SEL-POS-LU</td><td>2018</td><td>SI-SEL-POS-LU</td><td>  7</td><td>  2189</td><td>0.003197807</td><td>5.0385110</td></tr>\n",
       "\t<tr><td>2016.SI-SEL-POS-LU</td><td>2016</td><td>SI-SEL-POS-LU</td><td>173</td><td> 84377</td><td>0.002050322</td><td>2.4266247</td></tr>\n",
       "\t<tr><td>2014.FDI          </td><td>2014</td><td>FDI          </td><td> 99</td><td> 51695</td><td>0.001915079</td><td>2.1187871</td></tr>\n",
       "\t<tr><td>2019.FI-PDL       </td><td>2019</td><td>FI-PDL       </td><td>949</td><td>533560</td><td>0.001778619</td><td>1.8081798</td></tr>\n",
       "\t<tr><td>2013.FDI          </td><td>2013</td><td>FDI          </td><td> 70</td><td> 41498</td><td>0.001686828</td><td>1.5992472</td></tr>\n",
       "\t<tr><td>2017.FDI          </td><td>2017</td><td>FDI          </td><td> 58</td><td> 38123</td><td>0.001521391</td><td>1.2226824</td></tr>\n",
       "\t<tr><td>1995.LEGA         </td><td>1995</td><td>LEGA         </td><td>238</td><td>156792</td><td>0.001517935</td><td>1.2148143</td></tr>\n",
       "\t<tr><td>1995.RC           </td><td>1995</td><td>RC           </td><td>445</td><td>303724</td><td>0.001465146</td><td>1.0946578</td></tr>\n",
       "\t<tr><td>2018.FDI          </td><td>2018</td><td>FDI          </td><td>194</td><td>135424</td><td>0.001432538</td><td>1.0204356</td></tr>\n",
       "\t<tr><td>2000.LEGA         </td><td>2000</td><td>LEGA         </td><td>420</td><td>293739</td><td>0.001429841</td><td>1.0142967</td></tr>\n",
       "\t<tr><td>2019.FDI          </td><td>2019</td><td>FDI          </td><td>368</td><td>262423</td><td>0.001402316</td><td>0.9516455</td></tr>\n",
       "\t<tr><td>1995.FI-PDL       </td><td>1995</td><td>FI-PDL       </td><td>434</td><td>315582</td><td>0.001375237</td><td>0.8900082</td></tr>\n",
       "\t<tr><td>2005.RC           </td><td>2005</td><td>RC           </td><td> 72</td><td> 53397</td><td>0.001348390</td><td>0.8289007</td></tr>\n",
       "\t<tr><td>2015.FDI          </td><td>2015</td><td>FDI          </td><td> 45</td><td> 33883</td><td>0.001328100</td><td>0.7827153</td></tr>\n",
       "\t<tr><td>2015.M5S          </td><td>2015</td><td>M5S          </td><td>701</td><td>527990</td><td>0.001327677</td><td>0.7817525</td></tr>\n",
       "\t<tr><td>1998.FI-PDL       </td><td>1998</td><td>FI-PDL       </td><td>432</td><td>327070</td><td>0.001320818</td><td>0.7661414</td></tr>\n",
       "\t<tr><td>2016.M5S          </td><td>2016</td><td>M5S          </td><td>484</td><td>382482</td><td>0.001265419</td><td>0.6400428</td></tr>\n",
       "\t<tr><td>2016.FDI          </td><td>2016</td><td>FDI          </td><td> 38</td><td> 31071</td><td>0.001223005</td><td>0.5435016</td></tr>\n",
       "\t<tr><td>2006.LEGA         </td><td>2006</td><td>LEGA         </td><td> 94</td><td> 77125</td><td>0.001218801</td><td>0.5339309</td></tr>\n",
       "\t<tr><td>2015.SI-SEL-POS-LU</td><td>2015</td><td>SI-SEL-POS-LU</td><td>129</td><td>107081</td><td>0.001204696</td><td>0.5018250</td></tr>\n",
       "</tbody>\n",
       "</table>\n"
      ],
      "text/latex": [
       "A tibble: 20 × 7\n",
       "\\begin{tabular}{lllllll}\n",
       " doc\\_id & year & party & anti\\_elitism & total\\_toks & perc\\_of\\_populist\\_toks & standardized\\_perc\\_of\\_populist\\_toks\\\\\n",
       " <chr> & <int> & <chr> & <dbl> & <int> & <dbl> & <dbl>\\\\\n",
       "\\hline\n",
       "\t 2018.SI-SEL-POS-LU & 2018 & SI-SEL-POS-LU &   7 &   2189 & 0.003197807 & 5.0385110\\\\\n",
       "\t 2016.SI-SEL-POS-LU & 2016 & SI-SEL-POS-LU & 173 &  84377 & 0.002050322 & 2.4266247\\\\\n",
       "\t 2014.FDI           & 2014 & FDI           &  99 &  51695 & 0.001915079 & 2.1187871\\\\\n",
       "\t 2019.FI-PDL        & 2019 & FI-PDL        & 949 & 533560 & 0.001778619 & 1.8081798\\\\\n",
       "\t 2013.FDI           & 2013 & FDI           &  70 &  41498 & 0.001686828 & 1.5992472\\\\\n",
       "\t 2017.FDI           & 2017 & FDI           &  58 &  38123 & 0.001521391 & 1.2226824\\\\\n",
       "\t 1995.LEGA          & 1995 & LEGA          & 238 & 156792 & 0.001517935 & 1.2148143\\\\\n",
       "\t 1995.RC            & 1995 & RC            & 445 & 303724 & 0.001465146 & 1.0946578\\\\\n",
       "\t 2018.FDI           & 2018 & FDI           & 194 & 135424 & 0.001432538 & 1.0204356\\\\\n",
       "\t 2000.LEGA          & 2000 & LEGA          & 420 & 293739 & 0.001429841 & 1.0142967\\\\\n",
       "\t 2019.FDI           & 2019 & FDI           & 368 & 262423 & 0.001402316 & 0.9516455\\\\\n",
       "\t 1995.FI-PDL        & 1995 & FI-PDL        & 434 & 315582 & 0.001375237 & 0.8900082\\\\\n",
       "\t 2005.RC            & 2005 & RC            &  72 &  53397 & 0.001348390 & 0.8289007\\\\\n",
       "\t 2015.FDI           & 2015 & FDI           &  45 &  33883 & 0.001328100 & 0.7827153\\\\\n",
       "\t 2015.M5S           & 2015 & M5S           & 701 & 527990 & 0.001327677 & 0.7817525\\\\\n",
       "\t 1998.FI-PDL        & 1998 & FI-PDL        & 432 & 327070 & 0.001320818 & 0.7661414\\\\\n",
       "\t 2016.M5S           & 2016 & M5S           & 484 & 382482 & 0.001265419 & 0.6400428\\\\\n",
       "\t 2016.FDI           & 2016 & FDI           &  38 &  31071 & 0.001223005 & 0.5435016\\\\\n",
       "\t 2006.LEGA          & 2006 & LEGA          &  94 &  77125 & 0.001218801 & 0.5339309\\\\\n",
       "\t 2015.SI-SEL-POS-LU & 2015 & SI-SEL-POS-LU & 129 & 107081 & 0.001204696 & 0.5018250\\\\\n",
       "\\end{tabular}\n"
      ],
      "text/markdown": [
       "\n",
       "A tibble: 20 × 7\n",
       "\n",
       "| doc_id &lt;chr&gt; | year &lt;int&gt; | party &lt;chr&gt; | anti_elitism &lt;dbl&gt; | total_toks &lt;int&gt; | perc_of_populist_toks &lt;dbl&gt; | standardized_perc_of_populist_toks &lt;dbl&gt; |\n",
       "|---|---|---|---|---|---|---|\n",
       "| 2018.SI-SEL-POS-LU | 2018 | SI-SEL-POS-LU |   7 |   2189 | 0.003197807 | 5.0385110 |\n",
       "| 2016.SI-SEL-POS-LU | 2016 | SI-SEL-POS-LU | 173 |  84377 | 0.002050322 | 2.4266247 |\n",
       "| 2014.FDI           | 2014 | FDI           |  99 |  51695 | 0.001915079 | 2.1187871 |\n",
       "| 2019.FI-PDL        | 2019 | FI-PDL        | 949 | 533560 | 0.001778619 | 1.8081798 |\n",
       "| 2013.FDI           | 2013 | FDI           |  70 |  41498 | 0.001686828 | 1.5992472 |\n",
       "| 2017.FDI           | 2017 | FDI           |  58 |  38123 | 0.001521391 | 1.2226824 |\n",
       "| 1995.LEGA          | 1995 | LEGA          | 238 | 156792 | 0.001517935 | 1.2148143 |\n",
       "| 1995.RC            | 1995 | RC            | 445 | 303724 | 0.001465146 | 1.0946578 |\n",
       "| 2018.FDI           | 2018 | FDI           | 194 | 135424 | 0.001432538 | 1.0204356 |\n",
       "| 2000.LEGA          | 2000 | LEGA          | 420 | 293739 | 0.001429841 | 1.0142967 |\n",
       "| 2019.FDI           | 2019 | FDI           | 368 | 262423 | 0.001402316 | 0.9516455 |\n",
       "| 1995.FI-PDL        | 1995 | FI-PDL        | 434 | 315582 | 0.001375237 | 0.8900082 |\n",
       "| 2005.RC            | 2005 | RC            |  72 |  53397 | 0.001348390 | 0.8289007 |\n",
       "| 2015.FDI           | 2015 | FDI           |  45 |  33883 | 0.001328100 | 0.7827153 |\n",
       "| 2015.M5S           | 2015 | M5S           | 701 | 527990 | 0.001327677 | 0.7817525 |\n",
       "| 1998.FI-PDL        | 1998 | FI-PDL        | 432 | 327070 | 0.001320818 | 0.7661414 |\n",
       "| 2016.M5S           | 2016 | M5S           | 484 | 382482 | 0.001265419 | 0.6400428 |\n",
       "| 2016.FDI           | 2016 | FDI           |  38 |  31071 | 0.001223005 | 0.5435016 |\n",
       "| 2006.LEGA          | 2006 | LEGA          |  94 |  77125 | 0.001218801 | 0.5339309 |\n",
       "| 2015.SI-SEL-POS-LU | 2015 | SI-SEL-POS-LU | 129 | 107081 | 0.001204696 | 0.5018250 |\n",
       "\n"
      ],
      "text/plain": [
       "   doc_id             year party         anti_elitism total_toks\n",
       "1  2018.SI-SEL-POS-LU 2018 SI-SEL-POS-LU   7            2189    \n",
       "2  2016.SI-SEL-POS-LU 2016 SI-SEL-POS-LU 173           84377    \n",
       "3  2014.FDI           2014 FDI            99           51695    \n",
       "4  2019.FI-PDL        2019 FI-PDL        949          533560    \n",
       "5  2013.FDI           2013 FDI            70           41498    \n",
       "6  2017.FDI           2017 FDI            58           38123    \n",
       "7  1995.LEGA          1995 LEGA          238          156792    \n",
       "8  1995.RC            1995 RC            445          303724    \n",
       "9  2018.FDI           2018 FDI           194          135424    \n",
       "10 2000.LEGA          2000 LEGA          420          293739    \n",
       "11 2019.FDI           2019 FDI           368          262423    \n",
       "12 1995.FI-PDL        1995 FI-PDL        434          315582    \n",
       "13 2005.RC            2005 RC             72           53397    \n",
       "14 2015.FDI           2015 FDI            45           33883    \n",
       "15 2015.M5S           2015 M5S           701          527990    \n",
       "16 1998.FI-PDL        1998 FI-PDL        432          327070    \n",
       "17 2016.M5S           2016 M5S           484          382482    \n",
       "18 2016.FDI           2016 FDI            38           31071    \n",
       "19 2006.LEGA          2006 LEGA           94           77125    \n",
       "20 2015.SI-SEL-POS-LU 2015 SI-SEL-POS-LU 129          107081    \n",
       "   perc_of_populist_toks standardized_perc_of_populist_toks\n",
       "1  0.003197807           5.0385110                         \n",
       "2  0.002050322           2.4266247                         \n",
       "3  0.001915079           2.1187871                         \n",
       "4  0.001778619           1.8081798                         \n",
       "5  0.001686828           1.5992472                         \n",
       "6  0.001521391           1.2226824                         \n",
       "7  0.001517935           1.2148143                         \n",
       "8  0.001465146           1.0946578                         \n",
       "9  0.001432538           1.0204356                         \n",
       "10 0.001429841           1.0142967                         \n",
       "11 0.001402316           0.9516455                         \n",
       "12 0.001375237           0.8900082                         \n",
       "13 0.001348390           0.8289007                         \n",
       "14 0.001328100           0.7827153                         \n",
       "15 0.001327677           0.7817525                         \n",
       "16 0.001320818           0.7661414                         \n",
       "17 0.001265419           0.6400428                         \n",
       "18 0.001223005           0.5435016                         \n",
       "19 0.001218801           0.5339309                         \n",
       "20 0.001204696           0.5018250                         "
      ]
     },
     "metadata": {},
     "output_type": "display_data"
    }
   ],
   "source": [
    "to_keep <- c(\"F-ITA\", \"FI\", \"PDL\", \"FI-PDL\", \"FDI-AN\", \"FDI\", \"LEGA-N\", \"LEGA-NORD-P\", \"LNA\", \"LEGA\", \"LNP\", \"M5S\", \n",
    "             \"RC-PROGR\", \"COMUNISTA\", \"RC\", \"COM/IT/\", \"RC-SE\", \"SI-SEL-POS-LU\")\n",
    "\n",
    "df_rp %>% \n",
    "filter(party %in% to_keep) %>% \n",
    "arrange(desc(perc_of_populist_toks)) %>% \n",
    "head(20)"
   ]
  },
  {
   "cell_type": "code",
   "execution_count": 37,
   "id": "42b2cc58",
   "metadata": {},
   "outputs": [
    {
     "data": {
      "text/html": [
       "<table class=\"dataframe\">\n",
       "<caption>A tibble: 10 × 2</caption>\n",
       "<thead>\n",
       "\t<tr><th scope=col>party_name</th><th scope=col>populist</th></tr>\n",
       "\t<tr><th scope=col>&lt;chr&gt;</th><th scope=col>&lt;dbl&gt;</th></tr>\n",
       "</thead>\n",
       "<tbody>\n",
       "\t<tr><td>Forza Italia – Il Popolo della Libertà    </td><td>1</td></tr>\n",
       "\t<tr><td>Fratelli d'Italia – Centrodestra Nazionale</td><td>1</td></tr>\n",
       "\t<tr><td>Il Popolo della Libertà                   </td><td>1</td></tr>\n",
       "\t<tr><td>Lega (Nord)                               </td><td>1</td></tr>\n",
       "\t<tr><td>Liga Veneta                               </td><td>1</td></tr>\n",
       "\t<tr><td>Movimento 5 Stelle                        </td><td>1</td></tr>\n",
       "\t<tr><td>Partito dei Comunisti Italiani            </td><td>0</td></tr>\n",
       "\t<tr><td>Partito della Rifondazione Comunista      </td><td>0</td></tr>\n",
       "\t<tr><td>Rivoluzione Civile                        </td><td>0</td></tr>\n",
       "\t<tr><td>Sinistra                                  </td><td>0</td></tr>\n",
       "</tbody>\n",
       "</table>\n"
      ],
      "text/latex": [
       "A tibble: 10 × 2\n",
       "\\begin{tabular}{ll}\n",
       " party\\_name & populist\\\\\n",
       " <chr> & <dbl>\\\\\n",
       "\\hline\n",
       "\t Forza Italia – Il Popolo della Libertà     & 1\\\\\n",
       "\t Fratelli d'Italia – Centrodestra Nazionale & 1\\\\\n",
       "\t Il Popolo della Libertà                    & 1\\\\\n",
       "\t Lega (Nord)                                & 1\\\\\n",
       "\t Liga Veneta                                & 1\\\\\n",
       "\t Movimento 5 Stelle                         & 1\\\\\n",
       "\t Partito dei Comunisti Italiani             & 0\\\\\n",
       "\t Partito della Rifondazione Comunista       & 0\\\\\n",
       "\t Rivoluzione Civile                         & 0\\\\\n",
       "\t Sinistra                                   & 0\\\\\n",
       "\\end{tabular}\n"
      ],
      "text/markdown": [
       "\n",
       "A tibble: 10 × 2\n",
       "\n",
       "| party_name &lt;chr&gt; | populist &lt;dbl&gt; |\n",
       "|---|---|\n",
       "| Forza Italia – Il Popolo della Libertà     | 1 |\n",
       "| Fratelli d'Italia – Centrodestra Nazionale | 1 |\n",
       "| Il Popolo della Libertà                    | 1 |\n",
       "| Lega (Nord)                                | 1 |\n",
       "| Liga Veneta                                | 1 |\n",
       "| Movimento 5 Stelle                         | 1 |\n",
       "| Partito dei Comunisti Italiani             | 0 |\n",
       "| Partito della Rifondazione Comunista       | 0 |\n",
       "| Rivoluzione Civile                         | 0 |\n",
       "| Sinistra                                   | 0 |\n",
       "\n"
      ],
      "text/plain": [
       "   party_name                                 populist\n",
       "1  Forza Italia – Il Popolo della Libertà     1       \n",
       "2  Fratelli d'Italia – Centrodestra Nazionale 1       \n",
       "3  Il Popolo della Libertà                    1       \n",
       "4  Lega (Nord)                                1       \n",
       "5  Liga Veneta                                1       \n",
       "6  Movimento 5 Stelle                         1       \n",
       "7  Partito dei Comunisti Italiani             0       \n",
       "8  Partito della Rifondazione Comunista       0       \n",
       "9  Rivoluzione Civile                         0       \n",
       "10 Sinistra                                   0       "
      ]
     },
     "metadata": {},
     "output_type": "display_data"
    }
   ],
   "source": [
    "to_drop <- c(\"Fiamma Tricolore\", \"Lega d'Azione Meridionale\", \"Movimento Sociale Italiano\")\n",
    "\n",
    "populist %>% \n",
    "filter(country_name == \"Italy\" & (!party_name %in% to_drop)) %>% \n",
    "select(party_name, populist) %>% \n",
    "arrange(desc(populist))"
   ]
  },
  {
   "cell_type": "markdown",
   "id": "355b21fa",
   "metadata": {},
   "source": [
    "# Decadri & Boussalis (speeches dataset) <a class=\"anchor\" id=\"chapter6\"></a>"
   ]
  },
  {
   "cell_type": "markdown",
   "id": "943b47f4",
   "metadata": {},
   "source": [
    "Let's run the dictionary analysis with Decadri and Boussalis' dictionary"
   ]
  },
  {
   "cell_type": "code",
   "execution_count": 38,
   "id": "d65486cc",
   "metadata": {},
   "outputs": [],
   "source": [
    "df_db <- dict_analysis(tokens = speeches_toks, data = \"speeches\", dictionary = \"Decadri_Boussalis\")"
   ]
  },
  {
   "cell_type": "markdown",
   "id": "3987c56e",
   "metadata": {},
   "source": [
    "The first rows of the dataframe"
   ]
  },
  {
   "cell_type": "code",
   "execution_count": 39,
   "id": "445fe714",
   "metadata": {},
   "outputs": [
    {
     "data": {
      "text/html": [
       "<table class=\"dataframe\">\n",
       "<caption>A tibble: 6 × 9</caption>\n",
       "<thead>\n",
       "\t<tr><th scope=col>doc_id</th><th scope=col>year</th><th scope=col>party</th><th scope=col>anti_elitism</th><th scope=col>people_centrism</th><th scope=col>populist_toks</th><th scope=col>total_toks</th><th scope=col>perc_of_populist_toks</th><th scope=col>standardized_perc_of_populist_toks</th></tr>\n",
       "\t<tr><th scope=col>&lt;chr&gt;</th><th scope=col>&lt;int&gt;</th><th scope=col>&lt;chr&gt;</th><th scope=col>&lt;dbl&gt;</th><th scope=col>&lt;dbl&gt;</th><th scope=col>&lt;dbl&gt;</th><th scope=col>&lt;int&gt;</th><th scope=col>&lt;dbl&gt;</th><th scope=col>&lt;dbl&gt;</th></tr>\n",
       "</thead>\n",
       "<tbody>\n",
       "\t<tr><td>1994.AN</td><td>1994</td><td>AN</td><td>168</td><td> 475</td><td> 643</td><td>206560</td><td>0.003112897</td><td>-0.1588571</td></tr>\n",
       "\t<tr><td>1995.AN</td><td>1995</td><td>AN</td><td>285</td><td>1024</td><td>1309</td><td>350039</td><td>0.003739583</td><td> 0.2282317</td></tr>\n",
       "\t<tr><td>1996.AN</td><td>1996</td><td>AN</td><td>150</td><td> 476</td><td> 626</td><td>272610</td><td>0.002296321</td><td>-0.6632362</td></tr>\n",
       "\t<tr><td>1997.AN</td><td>1997</td><td>AN</td><td>279</td><td> 660</td><td> 939</td><td>381823</td><td>0.002459255</td><td>-0.5625959</td></tr>\n",
       "\t<tr><td>1998.AN</td><td>1998</td><td>AN</td><td>223</td><td> 745</td><td> 968</td><td>373426</td><td>0.002592214</td><td>-0.4804704</td></tr>\n",
       "\t<tr><td>1999.AN</td><td>1999</td><td>AN</td><td>311</td><td> 824</td><td>1135</td><td>399795</td><td>0.002838955</td><td>-0.3280643</td></tr>\n",
       "</tbody>\n",
       "</table>\n"
      ],
      "text/latex": [
       "A tibble: 6 × 9\n",
       "\\begin{tabular}{lllllllll}\n",
       " doc\\_id & year & party & anti\\_elitism & people\\_centrism & populist\\_toks & total\\_toks & perc\\_of\\_populist\\_toks & standardized\\_perc\\_of\\_populist\\_toks\\\\\n",
       " <chr> & <int> & <chr> & <dbl> & <dbl> & <dbl> & <int> & <dbl> & <dbl>\\\\\n",
       "\\hline\n",
       "\t 1994.AN & 1994 & AN & 168 &  475 &  643 & 206560 & 0.003112897 & -0.1588571\\\\\n",
       "\t 1995.AN & 1995 & AN & 285 & 1024 & 1309 & 350039 & 0.003739583 &  0.2282317\\\\\n",
       "\t 1996.AN & 1996 & AN & 150 &  476 &  626 & 272610 & 0.002296321 & -0.6632362\\\\\n",
       "\t 1997.AN & 1997 & AN & 279 &  660 &  939 & 381823 & 0.002459255 & -0.5625959\\\\\n",
       "\t 1998.AN & 1998 & AN & 223 &  745 &  968 & 373426 & 0.002592214 & -0.4804704\\\\\n",
       "\t 1999.AN & 1999 & AN & 311 &  824 & 1135 & 399795 & 0.002838955 & -0.3280643\\\\\n",
       "\\end{tabular}\n"
      ],
      "text/markdown": [
       "\n",
       "A tibble: 6 × 9\n",
       "\n",
       "| doc_id &lt;chr&gt; | year &lt;int&gt; | party &lt;chr&gt; | anti_elitism &lt;dbl&gt; | people_centrism &lt;dbl&gt; | populist_toks &lt;dbl&gt; | total_toks &lt;int&gt; | perc_of_populist_toks &lt;dbl&gt; | standardized_perc_of_populist_toks &lt;dbl&gt; |\n",
       "|---|---|---|---|---|---|---|---|---|\n",
       "| 1994.AN | 1994 | AN | 168 |  475 |  643 | 206560 | 0.003112897 | -0.1588571 |\n",
       "| 1995.AN | 1995 | AN | 285 | 1024 | 1309 | 350039 | 0.003739583 |  0.2282317 |\n",
       "| 1996.AN | 1996 | AN | 150 |  476 |  626 | 272610 | 0.002296321 | -0.6632362 |\n",
       "| 1997.AN | 1997 | AN | 279 |  660 |  939 | 381823 | 0.002459255 | -0.5625959 |\n",
       "| 1998.AN | 1998 | AN | 223 |  745 |  968 | 373426 | 0.002592214 | -0.4804704 |\n",
       "| 1999.AN | 1999 | AN | 311 |  824 | 1135 | 399795 | 0.002838955 | -0.3280643 |\n",
       "\n"
      ],
      "text/plain": [
       "  doc_id  year party anti_elitism people_centrism populist_toks total_toks\n",
       "1 1994.AN 1994 AN    168           475             643          206560    \n",
       "2 1995.AN 1995 AN    285          1024            1309          350039    \n",
       "3 1996.AN 1996 AN    150           476             626          272610    \n",
       "4 1997.AN 1997 AN    279           660             939          381823    \n",
       "5 1998.AN 1998 AN    223           745             968          373426    \n",
       "6 1999.AN 1999 AN    311           824            1135          399795    \n",
       "  perc_of_populist_toks standardized_perc_of_populist_toks\n",
       "1 0.003112897           -0.1588571                        \n",
       "2 0.003739583            0.2282317                        \n",
       "3 0.002296321           -0.6632362                        \n",
       "4 0.002459255           -0.5625959                        \n",
       "5 0.002592214           -0.4804704                        \n",
       "6 0.002838955           -0.3280643                        "
      ]
     },
     "metadata": {},
     "output_type": "display_data"
    }
   ],
   "source": [
    "head(df_db)"
   ]
  },
  {
   "cell_type": "markdown",
   "id": "b3dfbd7f",
   "metadata": {},
   "source": [
    "## Construct validity <a class=\"anchor\" id=\"subparagraph6\"></a>"
   ]
  },
  {
   "cell_type": "markdown",
   "id": "bf9d2829",
   "metadata": {},
   "source": [
    "Decadri and Boussalis' dictionary catpures both the \"anti-elitism\" and \"people-centrism\" dimenions of populist ideology and it thus constitutes an improvement over Rooduijn and Pauwels' dictionary in terms of construct validity."
   ]
  },
  {
   "cell_type": "markdown",
   "id": "61596e70",
   "metadata": {},
   "source": [
    "## Face validity <a class=\"anchor\" id=\"subparagraph7\"></a>"
   ]
  },
  {
   "cell_type": "markdown",
   "id": "3c724441",
   "metadata": {},
   "source": [
    "To assess the face validity of Decadri and Boussalis' dictionary we'll have a look at the mean % of populist tokens (both anti-establishment and people-centrism) grouped by party and year."
   ]
  },
  {
   "cell_type": "markdown",
   "id": "14b4e08c",
   "metadata": {},
   "source": [
    "As it was the case for R&P' dictionary, both mainstream (UDEUR, FLPTP, PPI, DEMO) and populist (Lega, M5S, FDI-AN) party-year combinations received high populist scores."
   ]
  },
  {
   "cell_type": "code",
   "execution_count": 40,
   "id": "7cf5ed26",
   "metadata": {},
   "outputs": [
    {
     "data": {
      "text/html": [
       "<table class=\"dataframe\">\n",
       "<caption>A tibble: 20 × 9</caption>\n",
       "<thead>\n",
       "\t<tr><th scope=col>doc_id</th><th scope=col>year</th><th scope=col>party</th><th scope=col>anti_elitism</th><th scope=col>people_centrism</th><th scope=col>populist_toks</th><th scope=col>total_toks</th><th scope=col>perc_of_populist_toks</th><th scope=col>standardized_perc_of_populist_toks</th></tr>\n",
       "\t<tr><th scope=col>&lt;chr&gt;</th><th scope=col>&lt;int&gt;</th><th scope=col>&lt;chr&gt;</th><th scope=col>&lt;dbl&gt;</th><th scope=col>&lt;dbl&gt;</th><th scope=col>&lt;dbl&gt;</th><th scope=col>&lt;int&gt;</th><th scope=col>&lt;dbl&gt;</th><th scope=col>&lt;dbl&gt;</th></tr>\n",
       "</thead>\n",
       "<tbody>\n",
       "\t<tr><td>2009.SOCRAD-RNP                                                                                                                                                  </td><td>2009</td><td>SOCRAD-RNP                                                                                                                                                  </td><td>  0</td><td>  10</td><td>  10</td><td>   582</td><td>0.017182131</td><td>8.531364</td></tr>\n",
       "\t<tr><td>2008.UDEUR                                                                                                                                                       </td><td>2008</td><td>UDEUR                                                                                                                                                       </td><td>  2</td><td>  33</td><td>  35</td><td>  2338</td><td>0.014970060</td><td>7.165022</td></tr>\n",
       "\t<tr><td>2008.DCA-NPSI                                                                                                                                                    </td><td>2008</td><td>DCA-NPSI                                                                                                                                                    </td><td>  0</td><td>   3</td><td>   3</td><td>   269</td><td>0.011152416</td><td>4.806957</td></tr>\n",
       "\t<tr><td>1996.PPI                                                                                                                                                         </td><td>1996</td><td>PPI                                                                                                                                                         </td><td> 22</td><td>  72</td><td>  94</td><td>  9296</td><td>0.010111876</td><td>4.164241</td></tr>\n",
       "\t<tr><td>1996.FLD                                                                                                                                                         </td><td>1996</td><td>FLD                                                                                                                                                         </td><td>  8</td><td>  13</td><td>  21</td><td>  2894</td><td>0.007256393</td><td>2.400479</td></tr>\n",
       "\t<tr><td>2008.FLPTP                                                                                                                                                       </td><td>2008</td><td>FLPTP                                                                                                                                                       </td><td>  9</td><td> 142</td><td> 151</td><td> 23058</td><td>0.006548703</td><td>1.963356</td></tr>\n",
       "\t<tr><td>2008.SDPSE                                                                                                                                                       </td><td>2008</td><td>SDPSE                                                                                                                                                       </td><td>  4</td><td>  34</td><td>  38</td><td>  6108</td><td>0.006221349</td><td>1.761158</td></tr>\n",
       "\t<tr><td>2008.LEGA                                                                                                                                                        </td><td>2008</td><td>LEGA                                                                                                                                                        </td><td> 41</td><td> 498</td><td> 539</td><td> 94856</td><td>0.005682297</td><td>1.428199</td></tr>\n",
       "\t<tr><td>2015.LEGA                                                                                                                                                        </td><td>2015</td><td>LEGA                                                                                                                                                        </td><td> 80</td><td> 617</td><td> 697</td><td>122917</td><td>0.005670493</td><td>1.420907</td></tr>\n",
       "\t<tr><td>2014.FDI                                                                                                                                                         </td><td>2014</td><td>FDI                                                                                                                                                         </td><td> 82</td><td> 209</td><td> 291</td><td> 51695</td><td>0.005629171</td><td>1.395384</td></tr>\n",
       "\t<tr><td>1994.DEMO                                                                                                                                                        </td><td>1994</td><td>DEMO                                                                                                                                                        </td><td> 26</td><td> 183</td><td> 209</td><td> 38521</td><td>0.005425612</td><td>1.269650</td></tr>\n",
       "\t<tr><td>2017.LEGA                                                                                                                                                        </td><td>2017</td><td>LEGA                                                                                                                                                        </td><td> 72</td><td> 483</td><td> 555</td><td>103023</td><td>0.005387147</td><td>1.245891</td></tr>\n",
       "\t<tr><td>2007.UDEUR                                                                                                                                                       </td><td>2007</td><td>UDEUR                                                                                                                                                       </td><td> 20</td><td> 145</td><td> 165</td><td> 30698</td><td>0.005374943</td><td>1.238353</td></tr>\n",
       "\t<tr><td>2009.FLPTP                                                                                                                                                       </td><td>2009</td><td>FLPTP                                                                                                                                                       </td><td> 10</td><td> 156</td><td> 166</td><td> 31021</td><td>0.005351214</td><td>1.223696</td></tr>\n",
       "\t<tr><td>2006.UDEUR                                                                                                                                                       </td><td>2006</td><td>UDEUR                                                                                                                                                       </td><td> 16</td><td>  96</td><td> 112</td><td> 21052</td><td>0.005320160</td><td>1.204515</td></tr>\n",
       "\t<tr><td>2015.M5S                                                                                                                                                         </td><td>2015</td><td>M5S                                                                                                                                                         </td><td>449</td><td>2332</td><td>2781</td><td>527990</td><td>0.005267145</td><td>1.171769</td></tr>\n",
       "\t<tr><td>2010.NOI SUD-LIBERTA' ED AUTONOMIA/POPOLARI D'ITALIA DOMANI-PID/MOVIMENTO DI RESPONSABILITA' NAZIONALE-MRN/AZIONE POPOLARE/ALLEANZA DI CENTRO-ADC/INTESA POPOLARE</td><td>2010</td><td>NOI SUD-LIBERTA' ED AUTONOMIA/POPOLARI D'ITALIA DOMANI-PID/MOVIMENTO DI RESPONSABILITA' NAZIONALE-MRN/AZIONE POPOLARE/ALLEANZA DI CENTRO-ADC/INTESA POPOLARE</td><td> 12</td><td> 177</td><td> 189</td><td> 36295</td><td>0.005207329</td><td>1.134822</td></tr>\n",
       "\t<tr><td>2015.FI-PDL                                                                                                                                                      </td><td>2015</td><td>FI-PDL                                                                                                                                                      </td><td>177</td><td>1181</td><td>1358</td><td>263332</td><td>0.005156988</td><td>1.103728</td></tr>\n",
       "\t<tr><td>1994.PPI                                                                                                                                                         </td><td>1994</td><td>PPI                                                                                                                                                         </td><td> 65</td><td> 412</td><td> 477</td><td> 93286</td><td>0.005113307</td><td>1.076747</td></tr>\n",
       "\t<tr><td>2015.AP-CPE-NCD-NCI                                                                                                                                              </td><td>2015</td><td>AP-CPE-NCD-NCI                                                                                                                                              </td><td> 85</td><td> 409</td><td> 494</td><td> 96847</td><td>0.005100829</td><td>1.069040</td></tr>\n",
       "</tbody>\n",
       "</table>\n"
      ],
      "text/latex": [
       "A tibble: 20 × 9\n",
       "\\begin{tabular}{lllllllll}\n",
       " doc\\_id & year & party & anti\\_elitism & people\\_centrism & populist\\_toks & total\\_toks & perc\\_of\\_populist\\_toks & standardized\\_perc\\_of\\_populist\\_toks\\\\\n",
       " <chr> & <int> & <chr> & <dbl> & <dbl> & <dbl> & <int> & <dbl> & <dbl>\\\\\n",
       "\\hline\n",
       "\t 2009.SOCRAD-RNP                                                                                                                                                   & 2009 & SOCRAD-RNP                                                                                                                                                   &   0 &   10 &   10 &    582 & 0.017182131 & 8.531364\\\\\n",
       "\t 2008.UDEUR                                                                                                                                                        & 2008 & UDEUR                                                                                                                                                        &   2 &   33 &   35 &   2338 & 0.014970060 & 7.165022\\\\\n",
       "\t 2008.DCA-NPSI                                                                                                                                                     & 2008 & DCA-NPSI                                                                                                                                                     &   0 &    3 &    3 &    269 & 0.011152416 & 4.806957\\\\\n",
       "\t 1996.PPI                                                                                                                                                          & 1996 & PPI                                                                                                                                                          &  22 &   72 &   94 &   9296 & 0.010111876 & 4.164241\\\\\n",
       "\t 1996.FLD                                                                                                                                                          & 1996 & FLD                                                                                                                                                          &   8 &   13 &   21 &   2894 & 0.007256393 & 2.400479\\\\\n",
       "\t 2008.FLPTP                                                                                                                                                        & 2008 & FLPTP                                                                                                                                                        &   9 &  142 &  151 &  23058 & 0.006548703 & 1.963356\\\\\n",
       "\t 2008.SDPSE                                                                                                                                                        & 2008 & SDPSE                                                                                                                                                        &   4 &   34 &   38 &   6108 & 0.006221349 & 1.761158\\\\\n",
       "\t 2008.LEGA                                                                                                                                                         & 2008 & LEGA                                                                                                                                                         &  41 &  498 &  539 &  94856 & 0.005682297 & 1.428199\\\\\n",
       "\t 2015.LEGA                                                                                                                                                         & 2015 & LEGA                                                                                                                                                         &  80 &  617 &  697 & 122917 & 0.005670493 & 1.420907\\\\\n",
       "\t 2014.FDI                                                                                                                                                          & 2014 & FDI                                                                                                                                                          &  82 &  209 &  291 &  51695 & 0.005629171 & 1.395384\\\\\n",
       "\t 1994.DEMO                                                                                                                                                         & 1994 & DEMO                                                                                                                                                         &  26 &  183 &  209 &  38521 & 0.005425612 & 1.269650\\\\\n",
       "\t 2017.LEGA                                                                                                                                                         & 2017 & LEGA                                                                                                                                                         &  72 &  483 &  555 & 103023 & 0.005387147 & 1.245891\\\\\n",
       "\t 2007.UDEUR                                                                                                                                                        & 2007 & UDEUR                                                                                                                                                        &  20 &  145 &  165 &  30698 & 0.005374943 & 1.238353\\\\\n",
       "\t 2009.FLPTP                                                                                                                                                        & 2009 & FLPTP                                                                                                                                                        &  10 &  156 &  166 &  31021 & 0.005351214 & 1.223696\\\\\n",
       "\t 2006.UDEUR                                                                                                                                                        & 2006 & UDEUR                                                                                                                                                        &  16 &   96 &  112 &  21052 & 0.005320160 & 1.204515\\\\\n",
       "\t 2015.M5S                                                                                                                                                          & 2015 & M5S                                                                                                                                                          & 449 & 2332 & 2781 & 527990 & 0.005267145 & 1.171769\\\\\n",
       "\t 2010.NOI SUD-LIBERTA' ED AUTONOMIA/POPOLARI D'ITALIA DOMANI-PID/MOVIMENTO DI RESPONSABILITA' NAZIONALE-MRN/AZIONE POPOLARE/ALLEANZA DI CENTRO-ADC/INTESA POPOLARE & 2010 & NOI SUD-LIBERTA' ED AUTONOMIA/POPOLARI D'ITALIA DOMANI-PID/MOVIMENTO DI RESPONSABILITA' NAZIONALE-MRN/AZIONE POPOLARE/ALLEANZA DI CENTRO-ADC/INTESA POPOLARE &  12 &  177 &  189 &  36295 & 0.005207329 & 1.134822\\\\\n",
       "\t 2015.FI-PDL                                                                                                                                                       & 2015 & FI-PDL                                                                                                                                                       & 177 & 1181 & 1358 & 263332 & 0.005156988 & 1.103728\\\\\n",
       "\t 1994.PPI                                                                                                                                                          & 1994 & PPI                                                                                                                                                          &  65 &  412 &  477 &  93286 & 0.005113307 & 1.076747\\\\\n",
       "\t 2015.AP-CPE-NCD-NCI                                                                                                                                               & 2015 & AP-CPE-NCD-NCI                                                                                                                                               &  85 &  409 &  494 &  96847 & 0.005100829 & 1.069040\\\\\n",
       "\\end{tabular}\n"
      ],
      "text/markdown": [
       "\n",
       "A tibble: 20 × 9\n",
       "\n",
       "| doc_id &lt;chr&gt; | year &lt;int&gt; | party &lt;chr&gt; | anti_elitism &lt;dbl&gt; | people_centrism &lt;dbl&gt; | populist_toks &lt;dbl&gt; | total_toks &lt;int&gt; | perc_of_populist_toks &lt;dbl&gt; | standardized_perc_of_populist_toks &lt;dbl&gt; |\n",
       "|---|---|---|---|---|---|---|---|---|\n",
       "| 2009.SOCRAD-RNP                                                                                                                                                   | 2009 | SOCRAD-RNP                                                                                                                                                   |   0 |   10 |   10 |    582 | 0.017182131 | 8.531364 |\n",
       "| 2008.UDEUR                                                                                                                                                        | 2008 | UDEUR                                                                                                                                                        |   2 |   33 |   35 |   2338 | 0.014970060 | 7.165022 |\n",
       "| 2008.DCA-NPSI                                                                                                                                                     | 2008 | DCA-NPSI                                                                                                                                                     |   0 |    3 |    3 |    269 | 0.011152416 | 4.806957 |\n",
       "| 1996.PPI                                                                                                                                                          | 1996 | PPI                                                                                                                                                          |  22 |   72 |   94 |   9296 | 0.010111876 | 4.164241 |\n",
       "| 1996.FLD                                                                                                                                                          | 1996 | FLD                                                                                                                                                          |   8 |   13 |   21 |   2894 | 0.007256393 | 2.400479 |\n",
       "| 2008.FLPTP                                                                                                                                                        | 2008 | FLPTP                                                                                                                                                        |   9 |  142 |  151 |  23058 | 0.006548703 | 1.963356 |\n",
       "| 2008.SDPSE                                                                                                                                                        | 2008 | SDPSE                                                                                                                                                        |   4 |   34 |   38 |   6108 | 0.006221349 | 1.761158 |\n",
       "| 2008.LEGA                                                                                                                                                         | 2008 | LEGA                                                                                                                                                         |  41 |  498 |  539 |  94856 | 0.005682297 | 1.428199 |\n",
       "| 2015.LEGA                                                                                                                                                         | 2015 | LEGA                                                                                                                                                         |  80 |  617 |  697 | 122917 | 0.005670493 | 1.420907 |\n",
       "| 2014.FDI                                                                                                                                                          | 2014 | FDI                                                                                                                                                          |  82 |  209 |  291 |  51695 | 0.005629171 | 1.395384 |\n",
       "| 1994.DEMO                                                                                                                                                         | 1994 | DEMO                                                                                                                                                         |  26 |  183 |  209 |  38521 | 0.005425612 | 1.269650 |\n",
       "| 2017.LEGA                                                                                                                                                         | 2017 | LEGA                                                                                                                                                         |  72 |  483 |  555 | 103023 | 0.005387147 | 1.245891 |\n",
       "| 2007.UDEUR                                                                                                                                                        | 2007 | UDEUR                                                                                                                                                        |  20 |  145 |  165 |  30698 | 0.005374943 | 1.238353 |\n",
       "| 2009.FLPTP                                                                                                                                                        | 2009 | FLPTP                                                                                                                                                        |  10 |  156 |  166 |  31021 | 0.005351214 | 1.223696 |\n",
       "| 2006.UDEUR                                                                                                                                                        | 2006 | UDEUR                                                                                                                                                        |  16 |   96 |  112 |  21052 | 0.005320160 | 1.204515 |\n",
       "| 2015.M5S                                                                                                                                                          | 2015 | M5S                                                                                                                                                          | 449 | 2332 | 2781 | 527990 | 0.005267145 | 1.171769 |\n",
       "| 2010.NOI SUD-LIBERTA' ED AUTONOMIA/POPOLARI D'ITALIA DOMANI-PID/MOVIMENTO DI RESPONSABILITA' NAZIONALE-MRN/AZIONE POPOLARE/ALLEANZA DI CENTRO-ADC/INTESA POPOLARE | 2010 | NOI SUD-LIBERTA' ED AUTONOMIA/POPOLARI D'ITALIA DOMANI-PID/MOVIMENTO DI RESPONSABILITA' NAZIONALE-MRN/AZIONE POPOLARE/ALLEANZA DI CENTRO-ADC/INTESA POPOLARE |  12 |  177 |  189 |  36295 | 0.005207329 | 1.134822 |\n",
       "| 2015.FI-PDL                                                                                                                                                       | 2015 | FI-PDL                                                                                                                                                       | 177 | 1181 | 1358 | 263332 | 0.005156988 | 1.103728 |\n",
       "| 1994.PPI                                                                                                                                                          | 1994 | PPI                                                                                                                                                          |  65 |  412 |  477 |  93286 | 0.005113307 | 1.076747 |\n",
       "| 2015.AP-CPE-NCD-NCI                                                                                                                                               | 2015 | AP-CPE-NCD-NCI                                                                                                                                               |  85 |  409 |  494 |  96847 | 0.005100829 | 1.069040 |\n",
       "\n"
      ],
      "text/plain": [
       "   doc_id                                                                                                                                                           \n",
       "1  2009.SOCRAD-RNP                                                                                                                                                  \n",
       "2  2008.UDEUR                                                                                                                                                       \n",
       "3  2008.DCA-NPSI                                                                                                                                                    \n",
       "4  1996.PPI                                                                                                                                                         \n",
       "5  1996.FLD                                                                                                                                                         \n",
       "6  2008.FLPTP                                                                                                                                                       \n",
       "7  2008.SDPSE                                                                                                                                                       \n",
       "8  2008.LEGA                                                                                                                                                        \n",
       "9  2015.LEGA                                                                                                                                                        \n",
       "10 2014.FDI                                                                                                                                                         \n",
       "11 1994.DEMO                                                                                                                                                        \n",
       "12 2017.LEGA                                                                                                                                                        \n",
       "13 2007.UDEUR                                                                                                                                                       \n",
       "14 2009.FLPTP                                                                                                                                                       \n",
       "15 2006.UDEUR                                                                                                                                                       \n",
       "16 2015.M5S                                                                                                                                                         \n",
       "17 2010.NOI SUD-LIBERTA' ED AUTONOMIA/POPOLARI D'ITALIA DOMANI-PID/MOVIMENTO DI RESPONSABILITA' NAZIONALE-MRN/AZIONE POPOLARE/ALLEANZA DI CENTRO-ADC/INTESA POPOLARE\n",
       "18 2015.FI-PDL                                                                                                                                                      \n",
       "19 1994.PPI                                                                                                                                                         \n",
       "20 2015.AP-CPE-NCD-NCI                                                                                                                                              \n",
       "   year\n",
       "1  2009\n",
       "2  2008\n",
       "3  2008\n",
       "4  1996\n",
       "5  1996\n",
       "6  2008\n",
       "7  2008\n",
       "8  2008\n",
       "9  2015\n",
       "10 2014\n",
       "11 1994\n",
       "12 2017\n",
       "13 2007\n",
       "14 2009\n",
       "15 2006\n",
       "16 2015\n",
       "17 2010\n",
       "18 2015\n",
       "19 1994\n",
       "20 2015\n",
       "   party                                                                                                                                                       \n",
       "1  SOCRAD-RNP                                                                                                                                                  \n",
       "2  UDEUR                                                                                                                                                       \n",
       "3  DCA-NPSI                                                                                                                                                    \n",
       "4  PPI                                                                                                                                                         \n",
       "5  FLD                                                                                                                                                         \n",
       "6  FLPTP                                                                                                                                                       \n",
       "7  SDPSE                                                                                                                                                       \n",
       "8  LEGA                                                                                                                                                        \n",
       "9  LEGA                                                                                                                                                        \n",
       "10 FDI                                                                                                                                                         \n",
       "11 DEMO                                                                                                                                                        \n",
       "12 LEGA                                                                                                                                                        \n",
       "13 UDEUR                                                                                                                                                       \n",
       "14 FLPTP                                                                                                                                                       \n",
       "15 UDEUR                                                                                                                                                       \n",
       "16 M5S                                                                                                                                                         \n",
       "17 NOI SUD-LIBERTA' ED AUTONOMIA/POPOLARI D'ITALIA DOMANI-PID/MOVIMENTO DI RESPONSABILITA' NAZIONALE-MRN/AZIONE POPOLARE/ALLEANZA DI CENTRO-ADC/INTESA POPOLARE\n",
       "18 FI-PDL                                                                                                                                                      \n",
       "19 PPI                                                                                                                                                         \n",
       "20 AP-CPE-NCD-NCI                                                                                                                                              \n",
       "   anti_elitism people_centrism populist_toks total_toks perc_of_populist_toks\n",
       "1    0            10              10             582     0.017182131          \n",
       "2    2            33              35            2338     0.014970060          \n",
       "3    0             3               3             269     0.011152416          \n",
       "4   22            72              94            9296     0.010111876          \n",
       "5    8            13              21            2894     0.007256393          \n",
       "6    9           142             151           23058     0.006548703          \n",
       "7    4            34              38            6108     0.006221349          \n",
       "8   41           498             539           94856     0.005682297          \n",
       "9   80           617             697          122917     0.005670493          \n",
       "10  82           209             291           51695     0.005629171          \n",
       "11  26           183             209           38521     0.005425612          \n",
       "12  72           483             555          103023     0.005387147          \n",
       "13  20           145             165           30698     0.005374943          \n",
       "14  10           156             166           31021     0.005351214          \n",
       "15  16            96             112           21052     0.005320160          \n",
       "16 449          2332            2781          527990     0.005267145          \n",
       "17  12           177             189           36295     0.005207329          \n",
       "18 177          1181            1358          263332     0.005156988          \n",
       "19  65           412             477           93286     0.005113307          \n",
       "20  85           409             494           96847     0.005100829          \n",
       "   standardized_perc_of_populist_toks\n",
       "1  8.531364                          \n",
       "2  7.165022                          \n",
       "3  4.806957                          \n",
       "4  4.164241                          \n",
       "5  2.400479                          \n",
       "6  1.963356                          \n",
       "7  1.761158                          \n",
       "8  1.428199                          \n",
       "9  1.420907                          \n",
       "10 1.395384                          \n",
       "11 1.269650                          \n",
       "12 1.245891                          \n",
       "13 1.238353                          \n",
       "14 1.223696                          \n",
       "15 1.204515                          \n",
       "16 1.171769                          \n",
       "17 1.134822                          \n",
       "18 1.103728                          \n",
       "19 1.076747                          \n",
       "20 1.069040                          "
      ]
     },
     "metadata": {},
     "output_type": "display_data"
    }
   ],
   "source": [
    "df_db %>% \n",
    "arrange(desc(standardized_perc_of_populist_toks)) %>% \n",
    "head(20)"
   ]
  },
  {
   "cell_type": "markdown",
   "id": "d7b7c00e",
   "metadata": {},
   "source": [
    "Similarly, when we look at the party-year combinations with the lowest populist scores we find both mainstream and populist parties. This seems to suggest that D&B' dictionary lacks face validity."
   ]
  },
  {
   "cell_type": "code",
   "execution_count": 41,
   "id": "266d5a5c",
   "metadata": {},
   "outputs": [
    {
     "data": {
      "text/html": [
       "<table class=\"dataframe\">\n",
       "<caption>A tibble: 20 × 9</caption>\n",
       "<thead>\n",
       "\t<tr><th scope=col>doc_id</th><th scope=col>year</th><th scope=col>party</th><th scope=col>anti_elitism</th><th scope=col>people_centrism</th><th scope=col>populist_toks</th><th scope=col>total_toks</th><th scope=col>perc_of_populist_toks</th><th scope=col>standardized_perc_of_populist_toks</th></tr>\n",
       "\t<tr><th scope=col>&lt;chr&gt;</th><th scope=col>&lt;int&gt;</th><th scope=col>&lt;chr&gt;</th><th scope=col>&lt;dbl&gt;</th><th scope=col>&lt;dbl&gt;</th><th scope=col>&lt;dbl&gt;</th><th scope=col>&lt;int&gt;</th><th scope=col>&lt;dbl&gt;</th><th scope=col>&lt;dbl&gt;</th></tr>\n",
       "</thead>\n",
       "<tbody>\n",
       "\t<tr><td>2018.CI         </td><td>2018</td><td>CI         </td><td>  0</td><td>  0</td><td>  0</td><td>   550</td><td>0.0000000000</td><td>-2.0816173</td></tr>\n",
       "\t<tr><td>2009.DCA-NPSI   </td><td>2009</td><td>DCA-NPSI   </td><td>  0</td><td>  0</td><td>  0</td><td>    26</td><td>0.0000000000</td><td>-2.0816173</td></tr>\n",
       "\t<tr><td>2013.FLPTP      </td><td>2013</td><td>FLPTP      </td><td>  0</td><td>  0</td><td>  0</td><td>     2</td><td>0.0000000000</td><td>-2.0816173</td></tr>\n",
       "\t<tr><td>1994.LIFED      </td><td>1994</td><td>LIFED      </td><td>  0</td><td>  0</td><td>  0</td><td>   217</td><td>0.0000000000</td><td>-2.0816173</td></tr>\n",
       "\t<tr><td>1996.LIFED      </td><td>1996</td><td>LIFED      </td><td>  0</td><td>  0</td><td>  0</td><td>   979</td><td>0.0000000000</td><td>-2.0816173</td></tr>\n",
       "\t<tr><td>2008.PDCI       </td><td>2008</td><td>PDCI       </td><td>  0</td><td>  0</td><td>  0</td><td>   770</td><td>0.0000000000</td><td>-2.0816173</td></tr>\n",
       "\t<tr><td>2009.SDPSE      </td><td>2009</td><td>SDPSE      </td><td>  0</td><td>  0</td><td>  0</td><td>    80</td><td>0.0000000000</td><td>-2.0816173</td></tr>\n",
       "\t<tr><td>2016.DES-CD     </td><td>2016</td><td>DES-CD     </td><td>  1</td><td>  3</td><td>  4</td><td>  5886</td><td>0.0006795787</td><td>-1.6618582</td></tr>\n",
       "\t<tr><td>1996.UDEUR      </td><td>1996</td><td>UDEUR      </td><td> 10</td><td> 13</td><td> 23</td><td> 29778</td><td>0.0007723823</td><td>-1.6045356</td></tr>\n",
       "\t<tr><td>2001.UDR        </td><td>2001</td><td>UDR        </td><td>  2</td><td>  2</td><td>  4</td><td>  4213</td><td>0.0009494422</td><td>-1.4951701</td></tr>\n",
       "\t<tr><td>2014.DES-CD     </td><td>2014</td><td>DES-CD     </td><td>  1</td><td> 10</td><td> 11</td><td>  9057</td><td>0.0012145302</td><td>-1.3314317</td></tr>\n",
       "\t<tr><td>1997.UDEUR      </td><td>1997</td><td>UDEUR      </td><td> 15</td><td> 32</td><td> 47</td><td> 33556</td><td>0.0014006437</td><td>-1.2164740</td></tr>\n",
       "\t<tr><td>2008.SOCRAD-RNP </td><td>2008</td><td>SOCRAD-RNP </td><td>  0</td><td>  5</td><td>  5</td><td>  3183</td><td>0.0015708451</td><td>-1.1113447</td></tr>\n",
       "\t<tr><td>1995.LIFED      </td><td>1995</td><td>LIFED      </td><td>  0</td><td>  3</td><td>  3</td><td>  1870</td><td>0.0016042781</td><td>-1.0906940</td></tr>\n",
       "\t<tr><td>2020.LEU        </td><td>2020</td><td>LEU        </td><td>  9</td><td>  9</td><td> 18</td><td> 10470</td><td>0.0017191977</td><td>-1.0197110</td></tr>\n",
       "\t<tr><td>2009.RC         </td><td>2009</td><td>RC         </td><td>  1</td><td>  1</td><td>  2</td><td>  1154</td><td>0.0017331023</td><td>-1.0111225</td></tr>\n",
       "\t<tr><td>2002.FI-PDL     </td><td>2002</td><td>FI-PDL     </td><td>117</td><td>457</td><td>574</td><td>327438</td><td>0.0017530036</td><td>-0.9988299</td></tr>\n",
       "\t<tr><td>2000.UDEUR      </td><td>2000</td><td>UDEUR      </td><td>  6</td><td> 53</td><td> 59</td><td> 32843</td><td>0.0017964254</td><td>-0.9720093</td></tr>\n",
       "\t<tr><td>1996.PD-ULIVO-DS</td><td>1996</td><td>PD-ULIVO-DS</td><td>117</td><td>551</td><td>668</td><td>369702</td><td>0.0018068607</td><td>-0.9655637</td></tr>\n",
       "\t<tr><td>2002.AN         </td><td>2002</td><td>AN         </td><td>102</td><td>267</td><td>369</td><td>199124</td><td>0.0018531167</td><td>-0.9369925</td></tr>\n",
       "</tbody>\n",
       "</table>\n"
      ],
      "text/latex": [
       "A tibble: 20 × 9\n",
       "\\begin{tabular}{lllllllll}\n",
       " doc\\_id & year & party & anti\\_elitism & people\\_centrism & populist\\_toks & total\\_toks & perc\\_of\\_populist\\_toks & standardized\\_perc\\_of\\_populist\\_toks\\\\\n",
       " <chr> & <int> & <chr> & <dbl> & <dbl> & <dbl> & <int> & <dbl> & <dbl>\\\\\n",
       "\\hline\n",
       "\t 2018.CI          & 2018 & CI          &   0 &   0 &   0 &    550 & 0.0000000000 & -2.0816173\\\\\n",
       "\t 2009.DCA-NPSI    & 2009 & DCA-NPSI    &   0 &   0 &   0 &     26 & 0.0000000000 & -2.0816173\\\\\n",
       "\t 2013.FLPTP       & 2013 & FLPTP       &   0 &   0 &   0 &      2 & 0.0000000000 & -2.0816173\\\\\n",
       "\t 1994.LIFED       & 1994 & LIFED       &   0 &   0 &   0 &    217 & 0.0000000000 & -2.0816173\\\\\n",
       "\t 1996.LIFED       & 1996 & LIFED       &   0 &   0 &   0 &    979 & 0.0000000000 & -2.0816173\\\\\n",
       "\t 2008.PDCI        & 2008 & PDCI        &   0 &   0 &   0 &    770 & 0.0000000000 & -2.0816173\\\\\n",
       "\t 2009.SDPSE       & 2009 & SDPSE       &   0 &   0 &   0 &     80 & 0.0000000000 & -2.0816173\\\\\n",
       "\t 2016.DES-CD      & 2016 & DES-CD      &   1 &   3 &   4 &   5886 & 0.0006795787 & -1.6618582\\\\\n",
       "\t 1996.UDEUR       & 1996 & UDEUR       &  10 &  13 &  23 &  29778 & 0.0007723823 & -1.6045356\\\\\n",
       "\t 2001.UDR         & 2001 & UDR         &   2 &   2 &   4 &   4213 & 0.0009494422 & -1.4951701\\\\\n",
       "\t 2014.DES-CD      & 2014 & DES-CD      &   1 &  10 &  11 &   9057 & 0.0012145302 & -1.3314317\\\\\n",
       "\t 1997.UDEUR       & 1997 & UDEUR       &  15 &  32 &  47 &  33556 & 0.0014006437 & -1.2164740\\\\\n",
       "\t 2008.SOCRAD-RNP  & 2008 & SOCRAD-RNP  &   0 &   5 &   5 &   3183 & 0.0015708451 & -1.1113447\\\\\n",
       "\t 1995.LIFED       & 1995 & LIFED       &   0 &   3 &   3 &   1870 & 0.0016042781 & -1.0906940\\\\\n",
       "\t 2020.LEU         & 2020 & LEU         &   9 &   9 &  18 &  10470 & 0.0017191977 & -1.0197110\\\\\n",
       "\t 2009.RC          & 2009 & RC          &   1 &   1 &   2 &   1154 & 0.0017331023 & -1.0111225\\\\\n",
       "\t 2002.FI-PDL      & 2002 & FI-PDL      & 117 & 457 & 574 & 327438 & 0.0017530036 & -0.9988299\\\\\n",
       "\t 2000.UDEUR       & 2000 & UDEUR       &   6 &  53 &  59 &  32843 & 0.0017964254 & -0.9720093\\\\\n",
       "\t 1996.PD-ULIVO-DS & 1996 & PD-ULIVO-DS & 117 & 551 & 668 & 369702 & 0.0018068607 & -0.9655637\\\\\n",
       "\t 2002.AN          & 2002 & AN          & 102 & 267 & 369 & 199124 & 0.0018531167 & -0.9369925\\\\\n",
       "\\end{tabular}\n"
      ],
      "text/markdown": [
       "\n",
       "A tibble: 20 × 9\n",
       "\n",
       "| doc_id &lt;chr&gt; | year &lt;int&gt; | party &lt;chr&gt; | anti_elitism &lt;dbl&gt; | people_centrism &lt;dbl&gt; | populist_toks &lt;dbl&gt; | total_toks &lt;int&gt; | perc_of_populist_toks &lt;dbl&gt; | standardized_perc_of_populist_toks &lt;dbl&gt; |\n",
       "|---|---|---|---|---|---|---|---|---|\n",
       "| 2018.CI          | 2018 | CI          |   0 |   0 |   0 |    550 | 0.0000000000 | -2.0816173 |\n",
       "| 2009.DCA-NPSI    | 2009 | DCA-NPSI    |   0 |   0 |   0 |     26 | 0.0000000000 | -2.0816173 |\n",
       "| 2013.FLPTP       | 2013 | FLPTP       |   0 |   0 |   0 |      2 | 0.0000000000 | -2.0816173 |\n",
       "| 1994.LIFED       | 1994 | LIFED       |   0 |   0 |   0 |    217 | 0.0000000000 | -2.0816173 |\n",
       "| 1996.LIFED       | 1996 | LIFED       |   0 |   0 |   0 |    979 | 0.0000000000 | -2.0816173 |\n",
       "| 2008.PDCI        | 2008 | PDCI        |   0 |   0 |   0 |    770 | 0.0000000000 | -2.0816173 |\n",
       "| 2009.SDPSE       | 2009 | SDPSE       |   0 |   0 |   0 |     80 | 0.0000000000 | -2.0816173 |\n",
       "| 2016.DES-CD      | 2016 | DES-CD      |   1 |   3 |   4 |   5886 | 0.0006795787 | -1.6618582 |\n",
       "| 1996.UDEUR       | 1996 | UDEUR       |  10 |  13 |  23 |  29778 | 0.0007723823 | -1.6045356 |\n",
       "| 2001.UDR         | 2001 | UDR         |   2 |   2 |   4 |   4213 | 0.0009494422 | -1.4951701 |\n",
       "| 2014.DES-CD      | 2014 | DES-CD      |   1 |  10 |  11 |   9057 | 0.0012145302 | -1.3314317 |\n",
       "| 1997.UDEUR       | 1997 | UDEUR       |  15 |  32 |  47 |  33556 | 0.0014006437 | -1.2164740 |\n",
       "| 2008.SOCRAD-RNP  | 2008 | SOCRAD-RNP  |   0 |   5 |   5 |   3183 | 0.0015708451 | -1.1113447 |\n",
       "| 1995.LIFED       | 1995 | LIFED       |   0 |   3 |   3 |   1870 | 0.0016042781 | -1.0906940 |\n",
       "| 2020.LEU         | 2020 | LEU         |   9 |   9 |  18 |  10470 | 0.0017191977 | -1.0197110 |\n",
       "| 2009.RC          | 2009 | RC          |   1 |   1 |   2 |   1154 | 0.0017331023 | -1.0111225 |\n",
       "| 2002.FI-PDL      | 2002 | FI-PDL      | 117 | 457 | 574 | 327438 | 0.0017530036 | -0.9988299 |\n",
       "| 2000.UDEUR       | 2000 | UDEUR       |   6 |  53 |  59 |  32843 | 0.0017964254 | -0.9720093 |\n",
       "| 1996.PD-ULIVO-DS | 1996 | PD-ULIVO-DS | 117 | 551 | 668 | 369702 | 0.0018068607 | -0.9655637 |\n",
       "| 2002.AN          | 2002 | AN          | 102 | 267 | 369 | 199124 | 0.0018531167 | -0.9369925 |\n",
       "\n"
      ],
      "text/plain": [
       "   doc_id           year party       anti_elitism people_centrism populist_toks\n",
       "1  2018.CI          2018 CI            0            0               0          \n",
       "2  2009.DCA-NPSI    2009 DCA-NPSI      0            0               0          \n",
       "3  2013.FLPTP       2013 FLPTP         0            0               0          \n",
       "4  1994.LIFED       1994 LIFED         0            0               0          \n",
       "5  1996.LIFED       1996 LIFED         0            0               0          \n",
       "6  2008.PDCI        2008 PDCI          0            0               0          \n",
       "7  2009.SDPSE       2009 SDPSE         0            0               0          \n",
       "8  2016.DES-CD      2016 DES-CD        1            3               4          \n",
       "9  1996.UDEUR       1996 UDEUR        10           13              23          \n",
       "10 2001.UDR         2001 UDR           2            2               4          \n",
       "11 2014.DES-CD      2014 DES-CD        1           10              11          \n",
       "12 1997.UDEUR       1997 UDEUR        15           32              47          \n",
       "13 2008.SOCRAD-RNP  2008 SOCRAD-RNP    0            5               5          \n",
       "14 1995.LIFED       1995 LIFED         0            3               3          \n",
       "15 2020.LEU         2020 LEU           9            9              18          \n",
       "16 2009.RC          2009 RC            1            1               2          \n",
       "17 2002.FI-PDL      2002 FI-PDL      117          457             574          \n",
       "18 2000.UDEUR       2000 UDEUR         6           53              59          \n",
       "19 1996.PD-ULIVO-DS 1996 PD-ULIVO-DS 117          551             668          \n",
       "20 2002.AN          2002 AN          102          267             369          \n",
       "   total_toks perc_of_populist_toks standardized_perc_of_populist_toks\n",
       "1     550     0.0000000000          -2.0816173                        \n",
       "2      26     0.0000000000          -2.0816173                        \n",
       "3       2     0.0000000000          -2.0816173                        \n",
       "4     217     0.0000000000          -2.0816173                        \n",
       "5     979     0.0000000000          -2.0816173                        \n",
       "6     770     0.0000000000          -2.0816173                        \n",
       "7      80     0.0000000000          -2.0816173                        \n",
       "8    5886     0.0006795787          -1.6618582                        \n",
       "9   29778     0.0007723823          -1.6045356                        \n",
       "10   4213     0.0009494422          -1.4951701                        \n",
       "11   9057     0.0012145302          -1.3314317                        \n",
       "12  33556     0.0014006437          -1.2164740                        \n",
       "13   3183     0.0015708451          -1.1113447                        \n",
       "14   1870     0.0016042781          -1.0906940                        \n",
       "15  10470     0.0017191977          -1.0197110                        \n",
       "16   1154     0.0017331023          -1.0111225                        \n",
       "17 327438     0.0017530036          -0.9988299                        \n",
       "18  32843     0.0017964254          -0.9720093                        \n",
       "19 369702     0.0018068607          -0.9655637                        \n",
       "20 199124     0.0018531167          -0.9369925                        "
      ]
     },
     "metadata": {},
     "output_type": "display_data"
    }
   ],
   "source": [
    "df_db %>% \n",
    "arrange(desc(standardized_perc_of_populist_toks)) %>% \n",
    "tail(20) %>% \n",
    "arrange(standardized_perc_of_populist_toks)"
   ]
  },
  {
   "cell_type": "markdown",
   "id": "a748431b",
   "metadata": {},
   "source": [
    "## External validity <a class=\"anchor\" id=\"subparagraph8\"></a>"
   ]
  },
  {
   "cell_type": "markdown",
   "id": "f0f9b7b1",
   "metadata": {},
   "source": [
    "### Chapel Hill Expert Survey <a class=\"anchor\" id=\"subparagraph9\"></a>"
   ]
  },
  {
   "cell_type": "markdown",
   "id": "b5afba4a",
   "metadata": {},
   "source": [
    "As Decadri and Boussalis' dictionary captures both dimensions of populism we will validate it against a combination of two different variables from the CHES dataset, i.e. \"anti-élite salience\" and \"people_vs_élite\". We'll use the former as a proxy for the anti-establishment component and the latter as a proxy for the people-centrist one. The \"people_vs_élite\" variable has been introduced in the 2019 edition of the dataset, so we'll only work with observations from that year."
   ]
  },
  {
   "cell_type": "markdown",
   "id": "cebb74b2",
   "metadata": {},
   "source": [
    "The following are the Italian parties in the CHES dataset for the year 2019"
   ]
  },
  {
   "cell_type": "code",
   "execution_count": 42,
   "id": "f64f598f",
   "metadata": {},
   "outputs": [
    {
     "data": {
      "text/html": [
       "<table class=\"dataframe\">\n",
       "<caption>A tibble: 8 × 3</caption>\n",
       "<thead>\n",
       "\t<tr><th scope=col>party</th><th scope=col>antielite_salience</th><th scope=col>people_vs_elite</th></tr>\n",
       "\t<tr><th scope=col>&lt;chr&gt;</th><th scope=col>&lt;dbl&gt;</th><th scope=col>&lt;dbl&gt;</th></tr>\n",
       "</thead>\n",
       "<tbody>\n",
       "\t<tr><td>RI </td><td>2.200000</td><td>3.357143</td></tr>\n",
       "\t<tr><td>M5S</td><td>8.888889</td><td>9.529411</td></tr>\n",
       "\t<tr><td>SI </td><td>3.785714</td><td>2.666667</td></tr>\n",
       "\t<tr><td>FdI</td><td>8.000000</td><td>6.625000</td></tr>\n",
       "\t<tr><td>PD </td><td>1.882353</td><td>2.062500</td></tr>\n",
       "\t<tr><td>LN </td><td>8.333333</td><td>6.937500</td></tr>\n",
       "\t<tr><td>SVP</td><td>2.166667</td><td>1.400000</td></tr>\n",
       "\t<tr><td>FI </td><td>4.176471</td><td>4.066667</td></tr>\n",
       "</tbody>\n",
       "</table>\n"
      ],
      "text/latex": [
       "A tibble: 8 × 3\n",
       "\\begin{tabular}{lll}\n",
       " party & antielite\\_salience & people\\_vs\\_elite\\\\\n",
       " <chr> & <dbl> & <dbl>\\\\\n",
       "\\hline\n",
       "\t RI  & 2.200000 & 3.357143\\\\\n",
       "\t M5S & 8.888889 & 9.529411\\\\\n",
       "\t SI  & 3.785714 & 2.666667\\\\\n",
       "\t FdI & 8.000000 & 6.625000\\\\\n",
       "\t PD  & 1.882353 & 2.062500\\\\\n",
       "\t LN  & 8.333333 & 6.937500\\\\\n",
       "\t SVP & 2.166667 & 1.400000\\\\\n",
       "\t FI  & 4.176471 & 4.066667\\\\\n",
       "\\end{tabular}\n"
      ],
      "text/markdown": [
       "\n",
       "A tibble: 8 × 3\n",
       "\n",
       "| party &lt;chr&gt; | antielite_salience &lt;dbl&gt; | people_vs_elite &lt;dbl&gt; |\n",
       "|---|---|---|\n",
       "| RI  | 2.200000 | 3.357143 |\n",
       "| M5S | 8.888889 | 9.529411 |\n",
       "| SI  | 3.785714 | 2.666667 |\n",
       "| FdI | 8.000000 | 6.625000 |\n",
       "| PD  | 1.882353 | 2.062500 |\n",
       "| LN  | 8.333333 | 6.937500 |\n",
       "| SVP | 2.166667 | 1.400000 |\n",
       "| FI  | 4.176471 | 4.066667 |\n",
       "\n"
      ],
      "text/plain": [
       "  party antielite_salience people_vs_elite\n",
       "1 RI    2.200000           3.357143       \n",
       "2 M5S   8.888889           9.529411       \n",
       "3 SI    3.785714           2.666667       \n",
       "4 FdI   8.000000           6.625000       \n",
       "5 PD    1.882353           2.062500       \n",
       "6 LN    8.333333           6.937500       \n",
       "7 SVP   2.166667           1.400000       \n",
       "8 FI    4.176471           4.066667       "
      ]
     },
     "metadata": {},
     "output_type": "display_data"
    }
   ],
   "source": [
    "ches %>% filter(country == 8 & year == 2019) %>% select(party, antielite_salience, people_vs_elite)"
   ]
  },
  {
   "cell_type": "markdown",
   "id": "e221ad30",
   "metadata": {},
   "source": [
    "The parties in our dataset in the same year"
   ]
  },
  {
   "cell_type": "code",
   "execution_count": 43,
   "id": "caaff511",
   "metadata": {},
   "outputs": [
    {
     "data": {
      "text/html": [
       "<table class=\"dataframe\">\n",
       "<caption>A tibble: 8 × 1</caption>\n",
       "<thead>\n",
       "\t<tr><th scope=col>party</th></tr>\n",
       "\t<tr><th scope=col>&lt;chr&gt;</th></tr>\n",
       "</thead>\n",
       "<tbody>\n",
       "\t<tr><td>FDI        </td></tr>\n",
       "\t<tr><td>FI-PDL     </td></tr>\n",
       "\t<tr><td>IV         </td></tr>\n",
       "\t<tr><td>LEGA       </td></tr>\n",
       "\t<tr><td>LEU        </td></tr>\n",
       "\t<tr><td>M5S        </td></tr>\n",
       "\t<tr><td>MISTO      </td></tr>\n",
       "\t<tr><td>PD-ULIVO-DS</td></tr>\n",
       "</tbody>\n",
       "</table>\n"
      ],
      "text/latex": [
       "A tibble: 8 × 1\n",
       "\\begin{tabular}{l}\n",
       " party\\\\\n",
       " <chr>\\\\\n",
       "\\hline\n",
       "\t FDI        \\\\\n",
       "\t FI-PDL     \\\\\n",
       "\t IV         \\\\\n",
       "\t LEGA       \\\\\n",
       "\t LEU        \\\\\n",
       "\t M5S        \\\\\n",
       "\t MISTO      \\\\\n",
       "\t PD-ULIVO-DS\\\\\n",
       "\\end{tabular}\n"
      ],
      "text/markdown": [
       "\n",
       "A tibble: 8 × 1\n",
       "\n",
       "| party &lt;chr&gt; |\n",
       "|---|\n",
       "| FDI         |\n",
       "| FI-PDL      |\n",
       "| IV          |\n",
       "| LEGA        |\n",
       "| LEU         |\n",
       "| M5S         |\n",
       "| MISTO       |\n",
       "| PD-ULIVO-DS |\n",
       "\n"
      ],
      "text/plain": [
       "  party      \n",
       "1 FDI        \n",
       "2 FI-PDL     \n",
       "3 IV         \n",
       "4 LEGA       \n",
       "5 LEU        \n",
       "6 M5S        \n",
       "7 MISTO      \n",
       "8 PD-ULIVO-DS"
      ]
     },
     "metadata": {},
     "output_type": "display_data"
    }
   ],
   "source": [
    "df_db %>% filter(year == 2019) %>% distinct(party)"
   ]
  },
  {
   "cell_type": "markdown",
   "id": "2b0713d1",
   "metadata": {},
   "source": [
    "Let's compute the average populist value for each party in the CHES dataset by summing the people vs elite and the anti-elite salience variables and then taking the mean. \"Radicali Italiani\" and \"Südtiroler Volkspartei\" are not in our dataset so we'll drop them from CHES."
   ]
  },
  {
   "cell_type": "code",
   "execution_count": 44,
   "id": "95c26a3b",
   "metadata": {},
   "outputs": [
    {
     "data": {
      "text/html": [
       "<table class=\"dataframe\">\n",
       "<caption>A tibble: 6 × 2</caption>\n",
       "<thead>\n",
       "\t<tr><th scope=col>party</th><th scope=col>mean_populism</th></tr>\n",
       "\t<tr><th scope=col>&lt;chr&gt;</th><th scope=col>&lt;dbl&gt;</th></tr>\n",
       "</thead>\n",
       "<tbody>\n",
       "\t<tr><td>M5S</td><td>18.418301</td></tr>\n",
       "\t<tr><td>LN </td><td>15.270833</td></tr>\n",
       "\t<tr><td>FdI</td><td>14.625000</td></tr>\n",
       "\t<tr><td>FI </td><td> 8.243137</td></tr>\n",
       "\t<tr><td>SI </td><td> 6.452381</td></tr>\n",
       "\t<tr><td>PD </td><td> 3.944853</td></tr>\n",
       "</tbody>\n",
       "</table>\n"
      ],
      "text/latex": [
       "A tibble: 6 × 2\n",
       "\\begin{tabular}{ll}\n",
       " party & mean\\_populism\\\\\n",
       " <chr> & <dbl>\\\\\n",
       "\\hline\n",
       "\t M5S & 18.418301\\\\\n",
       "\t LN  & 15.270833\\\\\n",
       "\t FdI & 14.625000\\\\\n",
       "\t FI  &  8.243137\\\\\n",
       "\t SI  &  6.452381\\\\\n",
       "\t PD  &  3.944853\\\\\n",
       "\\end{tabular}\n"
      ],
      "text/markdown": [
       "\n",
       "A tibble: 6 × 2\n",
       "\n",
       "| party &lt;chr&gt; | mean_populism &lt;dbl&gt; |\n",
       "|---|---|\n",
       "| M5S | 18.418301 |\n",
       "| LN  | 15.270833 |\n",
       "| FdI | 14.625000 |\n",
       "| FI  |  8.243137 |\n",
       "| SI  |  6.452381 |\n",
       "| PD  |  3.944853 |\n",
       "\n"
      ],
      "text/plain": [
       "  party mean_populism\n",
       "1 M5S   18.418301    \n",
       "2 LN    15.270833    \n",
       "3 FdI   14.625000    \n",
       "4 FI     8.243137    \n",
       "5 SI     6.452381    \n",
       "6 PD     3.944853    "
      ]
     },
     "metadata": {},
     "output_type": "display_data"
    }
   ],
   "source": [
    "to_drop <- c(\"RI\", \"SVP\")\n",
    "\n",
    "ches %>% \n",
    "filter(country == 8 & year == 2019 & (!party %in% to_drop)) %>% \n",
    "group_by(party) %>% \n",
    "summarize(mean_populism = mean(people_vs_elite + antielite_salience)) %>% \n",
    "arrange(desc(mean_populism))"
   ]
  },
  {
   "cell_type": "markdown",
   "id": "bf48cbdf",
   "metadata": {},
   "source": [
    "The two rankings are rather different. According to CHES, M5S and Lega rank as the two most populist parties, whereas in the results of the dictionary analysis they turned out to be the least populist ones."
   ]
  },
  {
   "cell_type": "code",
   "execution_count": 45,
   "id": "9af92c62",
   "metadata": {},
   "outputs": [
    {
     "data": {
      "text/html": [
       "<table class=\"dataframe\">\n",
       "<caption>A tibble: 6 × 9</caption>\n",
       "<thead>\n",
       "\t<tr><th scope=col>doc_id</th><th scope=col>year</th><th scope=col>party</th><th scope=col>anti_elitism</th><th scope=col>people_centrism</th><th scope=col>populist_toks</th><th scope=col>total_toks</th><th scope=col>perc_of_populist_toks</th><th scope=col>standardized_perc_of_populist_toks</th></tr>\n",
       "\t<tr><th scope=col>&lt;chr&gt;</th><th scope=col>&lt;int&gt;</th><th scope=col>&lt;chr&gt;</th><th scope=col>&lt;dbl&gt;</th><th scope=col>&lt;dbl&gt;</th><th scope=col>&lt;dbl&gt;</th><th scope=col>&lt;int&gt;</th><th scope=col>&lt;dbl&gt;</th><th scope=col>&lt;dbl&gt;</th></tr>\n",
       "</thead>\n",
       "<tbody>\n",
       "\t<tr><td>2019.FI-PDL     </td><td>2019</td><td>FI-PDL     </td><td>383</td><td>2108</td><td>2491</td><td>533560</td><td>0.004668641</td><td>0.80208780</td></tr>\n",
       "\t<tr><td>2019.FDI        </td><td>2019</td><td>FDI        </td><td>226</td><td> 823</td><td>1049</td><td>262423</td><td>0.003997363</td><td>0.38745595</td></tr>\n",
       "\t<tr><td>2019.PD-ULIVO-DS</td><td>2019</td><td>PD-ULIVO-DS</td><td>512</td><td>1638</td><td>2150</td><td>557509</td><td>0.003856440</td><td>0.30041124</td></tr>\n",
       "\t<tr><td>2019.LEU        </td><td>2019</td><td>LEU        </td><td> 38</td><td> 160</td><td> 198</td><td> 53261</td><td>0.003717542</td><td>0.21461730</td></tr>\n",
       "\t<tr><td>2019.LEGA       </td><td>2019</td><td>LEGA       </td><td>144</td><td> 603</td><td> 747</td><td>214370</td><td>0.003484629</td><td>0.07075293</td></tr>\n",
       "\t<tr><td>2019.M5S        </td><td>2019</td><td>M5S        </td><td>204</td><td>1547</td><td>1751</td><td>509145</td><td>0.003439099</td><td>0.04262986</td></tr>\n",
       "</tbody>\n",
       "</table>\n"
      ],
      "text/latex": [
       "A tibble: 6 × 9\n",
       "\\begin{tabular}{lllllllll}\n",
       " doc\\_id & year & party & anti\\_elitism & people\\_centrism & populist\\_toks & total\\_toks & perc\\_of\\_populist\\_toks & standardized\\_perc\\_of\\_populist\\_toks\\\\\n",
       " <chr> & <int> & <chr> & <dbl> & <dbl> & <dbl> & <int> & <dbl> & <dbl>\\\\\n",
       "\\hline\n",
       "\t 2019.FI-PDL      & 2019 & FI-PDL      & 383 & 2108 & 2491 & 533560 & 0.004668641 & 0.80208780\\\\\n",
       "\t 2019.FDI         & 2019 & FDI         & 226 &  823 & 1049 & 262423 & 0.003997363 & 0.38745595\\\\\n",
       "\t 2019.PD-ULIVO-DS & 2019 & PD-ULIVO-DS & 512 & 1638 & 2150 & 557509 & 0.003856440 & 0.30041124\\\\\n",
       "\t 2019.LEU         & 2019 & LEU         &  38 &  160 &  198 &  53261 & 0.003717542 & 0.21461730\\\\\n",
       "\t 2019.LEGA        & 2019 & LEGA        & 144 &  603 &  747 & 214370 & 0.003484629 & 0.07075293\\\\\n",
       "\t 2019.M5S         & 2019 & M5S         & 204 & 1547 & 1751 & 509145 & 0.003439099 & 0.04262986\\\\\n",
       "\\end{tabular}\n"
      ],
      "text/markdown": [
       "\n",
       "A tibble: 6 × 9\n",
       "\n",
       "| doc_id &lt;chr&gt; | year &lt;int&gt; | party &lt;chr&gt; | anti_elitism &lt;dbl&gt; | people_centrism &lt;dbl&gt; | populist_toks &lt;dbl&gt; | total_toks &lt;int&gt; | perc_of_populist_toks &lt;dbl&gt; | standardized_perc_of_populist_toks &lt;dbl&gt; |\n",
       "|---|---|---|---|---|---|---|---|---|\n",
       "| 2019.FI-PDL      | 2019 | FI-PDL      | 383 | 2108 | 2491 | 533560 | 0.004668641 | 0.80208780 |\n",
       "| 2019.FDI         | 2019 | FDI         | 226 |  823 | 1049 | 262423 | 0.003997363 | 0.38745595 |\n",
       "| 2019.PD-ULIVO-DS | 2019 | PD-ULIVO-DS | 512 | 1638 | 2150 | 557509 | 0.003856440 | 0.30041124 |\n",
       "| 2019.LEU         | 2019 | LEU         |  38 |  160 |  198 |  53261 | 0.003717542 | 0.21461730 |\n",
       "| 2019.LEGA        | 2019 | LEGA        | 144 |  603 |  747 | 214370 | 0.003484629 | 0.07075293 |\n",
       "| 2019.M5S         | 2019 | M5S         | 204 | 1547 | 1751 | 509145 | 0.003439099 | 0.04262986 |\n",
       "\n"
      ],
      "text/plain": [
       "  doc_id           year party       anti_elitism people_centrism populist_toks\n",
       "1 2019.FI-PDL      2019 FI-PDL      383          2108            2491         \n",
       "2 2019.FDI         2019 FDI         226           823            1049         \n",
       "3 2019.PD-ULIVO-DS 2019 PD-ULIVO-DS 512          1638            2150         \n",
       "4 2019.LEU         2019 LEU          38           160             198         \n",
       "5 2019.LEGA        2019 LEGA        144           603             747         \n",
       "6 2019.M5S         2019 M5S         204          1547            1751         \n",
       "  total_toks perc_of_populist_toks standardized_perc_of_populist_toks\n",
       "1 533560     0.004668641           0.80208780                        \n",
       "2 262423     0.003997363           0.38745595                        \n",
       "3 557509     0.003856440           0.30041124                        \n",
       "4  53261     0.003717542           0.21461730                        \n",
       "5 214370     0.003484629           0.07075293                        \n",
       "6 509145     0.003439099           0.04262986                        "
      ]
     },
     "metadata": {},
     "output_type": "display_data"
    }
   ],
   "source": [
    "to_drop <- c(\"IV\", \"MISTO\")\n",
    "\n",
    "df_db %>% \n",
    "filter(year == 2019 & (! party %in% to_drop)) %>% \n",
    "arrange(desc(perc_of_populist_toks))"
   ]
  },
  {
   "cell_type": "markdown",
   "id": "264877c8",
   "metadata": {},
   "source": [
    "### The PopuList <a class=\"anchor\" id=\"subparagraph10\"></a>"
   ]
  },
  {
   "cell_type": "markdown",
   "id": "64339dc4",
   "metadata": {},
   "source": [
    "Let's now compare D&B' dictionary with the PopuList dataset."
   ]
  },
  {
   "cell_type": "markdown",
   "id": "245d655d",
   "metadata": {},
   "source": [
    "Lega, FdI, FI/PdL and M5S rank among the most populist parties according to Decadri and Boussalis's dictionary. These parties have all been coded as populist by PopuList. The two measures can thus be considered to be similar."
   ]
  },
  {
   "cell_type": "code",
   "execution_count": 46,
   "id": "12c83263",
   "metadata": {},
   "outputs": [
    {
     "data": {
      "text/html": [
       "<table class=\"dataframe\">\n",
       "<caption>A tibble: 13 × 2</caption>\n",
       "<thead>\n",
       "\t<tr><th scope=col>party_name</th><th scope=col>populist</th></tr>\n",
       "\t<tr><th scope=col>&lt;chr&gt;</th><th scope=col>&lt;dbl&gt;</th></tr>\n",
       "</thead>\n",
       "<tbody>\n",
       "\t<tr><td>Forza Italia – Il Popolo della Libertà    </td><td>1</td></tr>\n",
       "\t<tr><td>Fratelli d'Italia – Centrodestra Nazionale</td><td>1</td></tr>\n",
       "\t<tr><td>Il Popolo della Libertà                   </td><td>1</td></tr>\n",
       "\t<tr><td>Lega (Nord)                               </td><td>1</td></tr>\n",
       "\t<tr><td>Lega d'Azione Meridionale                 </td><td>1</td></tr>\n",
       "\t<tr><td>Liga Veneta                               </td><td>1</td></tr>\n",
       "\t<tr><td>Movimento 5 Stelle                        </td><td>1</td></tr>\n",
       "\t<tr><td>Fiamma Tricolore                          </td><td>0</td></tr>\n",
       "\t<tr><td>Movimento Sociale Italiano                </td><td>0</td></tr>\n",
       "\t<tr><td>Partito dei Comunisti Italiani            </td><td>0</td></tr>\n",
       "\t<tr><td>Partito della Rifondazione Comunista      </td><td>0</td></tr>\n",
       "\t<tr><td>Rivoluzione Civile                        </td><td>0</td></tr>\n",
       "\t<tr><td>Sinistra                                  </td><td>0</td></tr>\n",
       "</tbody>\n",
       "</table>\n"
      ],
      "text/latex": [
       "A tibble: 13 × 2\n",
       "\\begin{tabular}{ll}\n",
       " party\\_name & populist\\\\\n",
       " <chr> & <dbl>\\\\\n",
       "\\hline\n",
       "\t Forza Italia – Il Popolo della Libertà     & 1\\\\\n",
       "\t Fratelli d'Italia – Centrodestra Nazionale & 1\\\\\n",
       "\t Il Popolo della Libertà                    & 1\\\\\n",
       "\t Lega (Nord)                                & 1\\\\\n",
       "\t Lega d'Azione Meridionale                  & 1\\\\\n",
       "\t Liga Veneta                                & 1\\\\\n",
       "\t Movimento 5 Stelle                         & 1\\\\\n",
       "\t Fiamma Tricolore                           & 0\\\\\n",
       "\t Movimento Sociale Italiano                 & 0\\\\\n",
       "\t Partito dei Comunisti Italiani             & 0\\\\\n",
       "\t Partito della Rifondazione Comunista       & 0\\\\\n",
       "\t Rivoluzione Civile                         & 0\\\\\n",
       "\t Sinistra                                   & 0\\\\\n",
       "\\end{tabular}\n"
      ],
      "text/markdown": [
       "\n",
       "A tibble: 13 × 2\n",
       "\n",
       "| party_name &lt;chr&gt; | populist &lt;dbl&gt; |\n",
       "|---|---|\n",
       "| Forza Italia – Il Popolo della Libertà     | 1 |\n",
       "| Fratelli d'Italia – Centrodestra Nazionale | 1 |\n",
       "| Il Popolo della Libertà                    | 1 |\n",
       "| Lega (Nord)                                | 1 |\n",
       "| Lega d'Azione Meridionale                  | 1 |\n",
       "| Liga Veneta                                | 1 |\n",
       "| Movimento 5 Stelle                         | 1 |\n",
       "| Fiamma Tricolore                           | 0 |\n",
       "| Movimento Sociale Italiano                 | 0 |\n",
       "| Partito dei Comunisti Italiani             | 0 |\n",
       "| Partito della Rifondazione Comunista       | 0 |\n",
       "| Rivoluzione Civile                         | 0 |\n",
       "| Sinistra                                   | 0 |\n",
       "\n"
      ],
      "text/plain": [
       "   party_name                                 populist\n",
       "1  Forza Italia – Il Popolo della Libertà     1       \n",
       "2  Fratelli d'Italia – Centrodestra Nazionale 1       \n",
       "3  Il Popolo della Libertà                    1       \n",
       "4  Lega (Nord)                                1       \n",
       "5  Lega d'Azione Meridionale                  1       \n",
       "6  Liga Veneta                                1       \n",
       "7  Movimento 5 Stelle                         1       \n",
       "8  Fiamma Tricolore                           0       \n",
       "9  Movimento Sociale Italiano                 0       \n",
       "10 Partito dei Comunisti Italiani             0       \n",
       "11 Partito della Rifondazione Comunista       0       \n",
       "12 Rivoluzione Civile                         0       \n",
       "13 Sinistra                                   0       "
      ]
     },
     "metadata": {},
     "output_type": "display_data"
    }
   ],
   "source": [
    "populist %>% \n",
    "filter(country_name == \"Italy\") %>%\n",
    "select(party_name, populist) %>% \n",
    "arrange(desc(populist))"
   ]
  },
  {
   "cell_type": "code",
   "execution_count": 47,
   "id": "23041de8",
   "metadata": {},
   "outputs": [
    {
     "data": {
      "text/html": [
       "<table class=\"dataframe\">\n",
       "<caption>A tibble: 20 × 9</caption>\n",
       "<thead>\n",
       "\t<tr><th scope=col>doc_id</th><th scope=col>year</th><th scope=col>party</th><th scope=col>anti_elitism</th><th scope=col>people_centrism</th><th scope=col>populist_toks</th><th scope=col>total_toks</th><th scope=col>perc_of_populist_toks</th><th scope=col>standardized_perc_of_populist_toks</th></tr>\n",
       "\t<tr><th scope=col>&lt;chr&gt;</th><th scope=col>&lt;int&gt;</th><th scope=col>&lt;chr&gt;</th><th scope=col>&lt;dbl&gt;</th><th scope=col>&lt;dbl&gt;</th><th scope=col>&lt;dbl&gt;</th><th scope=col>&lt;int&gt;</th><th scope=col>&lt;dbl&gt;</th><th scope=col>&lt;dbl&gt;</th></tr>\n",
       "</thead>\n",
       "<tbody>\n",
       "\t<tr><td>2008.LEGA         </td><td>2008</td><td>LEGA         </td><td> 41</td><td> 498</td><td> 539</td><td> 94856</td><td>0.005682297</td><td>1.4281986</td></tr>\n",
       "\t<tr><td>2015.LEGA         </td><td>2015</td><td>LEGA         </td><td> 80</td><td> 617</td><td> 697</td><td>122917</td><td>0.005670493</td><td>1.4209074</td></tr>\n",
       "\t<tr><td>2014.FDI          </td><td>2014</td><td>FDI          </td><td> 82</td><td> 209</td><td> 291</td><td> 51695</td><td>0.005629171</td><td>1.3953838</td></tr>\n",
       "\t<tr><td>2017.LEGA         </td><td>2017</td><td>LEGA         </td><td> 72</td><td> 483</td><td> 555</td><td>103023</td><td>0.005387147</td><td>1.2458912</td></tr>\n",
       "\t<tr><td>2015.M5S          </td><td>2015</td><td>M5S          </td><td>449</td><td>2332</td><td>2781</td><td>527990</td><td>0.005267145</td><td>1.1717693</td></tr>\n",
       "\t<tr><td>2015.FI-PDL       </td><td>2015</td><td>FI-PDL       </td><td>177</td><td>1181</td><td>1358</td><td>263332</td><td>0.005156988</td><td>1.1037280</td></tr>\n",
       "\t<tr><td>2000.LEGA         </td><td>2000</td><td>LEGA         </td><td>279</td><td>1158</td><td>1437</td><td>293739</td><td>0.004892098</td><td>0.9401119</td></tr>\n",
       "\t<tr><td>2014.LEGA         </td><td>2014</td><td>LEGA         </td><td>122</td><td> 603</td><td> 725</td><td>148505</td><td>0.004881991</td><td>0.9338687</td></tr>\n",
       "\t<tr><td>2006.LEGA         </td><td>2006</td><td>LEGA         </td><td> 50</td><td> 322</td><td> 372</td><td> 77125</td><td>0.004823339</td><td>0.8976409</td></tr>\n",
       "\t<tr><td>2017.FDI          </td><td>2017</td><td>FDI          </td><td> 46</td><td> 137</td><td> 183</td><td> 38123</td><td>0.004800252</td><td>0.8833807</td></tr>\n",
       "\t<tr><td>2019.FI-PDL       </td><td>2019</td><td>FI-PDL       </td><td>383</td><td>2108</td><td>2491</td><td>533560</td><td>0.004668641</td><td>0.8020878</td></tr>\n",
       "\t<tr><td>2005.RC           </td><td>2005</td><td>RC           </td><td> 41</td><td> 206</td><td> 247</td><td> 53397</td><td>0.004625728</td><td>0.7755816</td></tr>\n",
       "\t<tr><td>2016.LEGA         </td><td>2016</td><td>LEGA         </td><td> 34</td><td> 349</td><td> 383</td><td> 83485</td><td>0.004587650</td><td>0.7520620</td></tr>\n",
       "\t<tr><td>2013.M5S          </td><td>2013</td><td>M5S          </td><td>280</td><td>1434</td><td>1714</td><td>377216</td><td>0.004543816</td><td>0.7249864</td></tr>\n",
       "\t<tr><td>2009.LEGA         </td><td>2009</td><td>LEGA         </td><td> 89</td><td> 569</td><td> 658</td><td>146788</td><td>0.004482655</td><td>0.6872091</td></tr>\n",
       "\t<tr><td>2015.SI-SEL-POS-LU</td><td>2015</td><td>SI-SEL-POS-LU</td><td> 90</td><td> 388</td><td> 478</td><td>107081</td><td>0.004463910</td><td>0.6756309</td></tr>\n",
       "\t<tr><td>2013.FDI          </td><td>2013</td><td>FDI          </td><td> 48</td><td> 135</td><td> 183</td><td> 41498</td><td>0.004409851</td><td>0.6422397</td></tr>\n",
       "\t<tr><td>2003.LEGA         </td><td>2003</td><td>LEGA         </td><td> 73</td><td> 564</td><td> 637</td><td>144815</td><td>0.004398716</td><td>0.6353616</td></tr>\n",
       "\t<tr><td>2017.M5S          </td><td>2017</td><td>M5S          </td><td>276</td><td>1411</td><td>1687</td><td>397446</td><td>0.004244602</td><td>0.5401693</td></tr>\n",
       "\t<tr><td>2016.SI-SEL-POS-LU</td><td>2016</td><td>SI-SEL-POS-LU</td><td> 65</td><td> 293</td><td> 358</td><td> 84377</td><td>0.004242862</td><td>0.5390949</td></tr>\n",
       "</tbody>\n",
       "</table>\n"
      ],
      "text/latex": [
       "A tibble: 20 × 9\n",
       "\\begin{tabular}{lllllllll}\n",
       " doc\\_id & year & party & anti\\_elitism & people\\_centrism & populist\\_toks & total\\_toks & perc\\_of\\_populist\\_toks & standardized\\_perc\\_of\\_populist\\_toks\\\\\n",
       " <chr> & <int> & <chr> & <dbl> & <dbl> & <dbl> & <int> & <dbl> & <dbl>\\\\\n",
       "\\hline\n",
       "\t 2008.LEGA          & 2008 & LEGA          &  41 &  498 &  539 &  94856 & 0.005682297 & 1.4281986\\\\\n",
       "\t 2015.LEGA          & 2015 & LEGA          &  80 &  617 &  697 & 122917 & 0.005670493 & 1.4209074\\\\\n",
       "\t 2014.FDI           & 2014 & FDI           &  82 &  209 &  291 &  51695 & 0.005629171 & 1.3953838\\\\\n",
       "\t 2017.LEGA          & 2017 & LEGA          &  72 &  483 &  555 & 103023 & 0.005387147 & 1.2458912\\\\\n",
       "\t 2015.M5S           & 2015 & M5S           & 449 & 2332 & 2781 & 527990 & 0.005267145 & 1.1717693\\\\\n",
       "\t 2015.FI-PDL        & 2015 & FI-PDL        & 177 & 1181 & 1358 & 263332 & 0.005156988 & 1.1037280\\\\\n",
       "\t 2000.LEGA          & 2000 & LEGA          & 279 & 1158 & 1437 & 293739 & 0.004892098 & 0.9401119\\\\\n",
       "\t 2014.LEGA          & 2014 & LEGA          & 122 &  603 &  725 & 148505 & 0.004881991 & 0.9338687\\\\\n",
       "\t 2006.LEGA          & 2006 & LEGA          &  50 &  322 &  372 &  77125 & 0.004823339 & 0.8976409\\\\\n",
       "\t 2017.FDI           & 2017 & FDI           &  46 &  137 &  183 &  38123 & 0.004800252 & 0.8833807\\\\\n",
       "\t 2019.FI-PDL        & 2019 & FI-PDL        & 383 & 2108 & 2491 & 533560 & 0.004668641 & 0.8020878\\\\\n",
       "\t 2005.RC            & 2005 & RC            &  41 &  206 &  247 &  53397 & 0.004625728 & 0.7755816\\\\\n",
       "\t 2016.LEGA          & 2016 & LEGA          &  34 &  349 &  383 &  83485 & 0.004587650 & 0.7520620\\\\\n",
       "\t 2013.M5S           & 2013 & M5S           & 280 & 1434 & 1714 & 377216 & 0.004543816 & 0.7249864\\\\\n",
       "\t 2009.LEGA          & 2009 & LEGA          &  89 &  569 &  658 & 146788 & 0.004482655 & 0.6872091\\\\\n",
       "\t 2015.SI-SEL-POS-LU & 2015 & SI-SEL-POS-LU &  90 &  388 &  478 & 107081 & 0.004463910 & 0.6756309\\\\\n",
       "\t 2013.FDI           & 2013 & FDI           &  48 &  135 &  183 &  41498 & 0.004409851 & 0.6422397\\\\\n",
       "\t 2003.LEGA          & 2003 & LEGA          &  73 &  564 &  637 & 144815 & 0.004398716 & 0.6353616\\\\\n",
       "\t 2017.M5S           & 2017 & M5S           & 276 & 1411 & 1687 & 397446 & 0.004244602 & 0.5401693\\\\\n",
       "\t 2016.SI-SEL-POS-LU & 2016 & SI-SEL-POS-LU &  65 &  293 &  358 &  84377 & 0.004242862 & 0.5390949\\\\\n",
       "\\end{tabular}\n"
      ],
      "text/markdown": [
       "\n",
       "A tibble: 20 × 9\n",
       "\n",
       "| doc_id &lt;chr&gt; | year &lt;int&gt; | party &lt;chr&gt; | anti_elitism &lt;dbl&gt; | people_centrism &lt;dbl&gt; | populist_toks &lt;dbl&gt; | total_toks &lt;int&gt; | perc_of_populist_toks &lt;dbl&gt; | standardized_perc_of_populist_toks &lt;dbl&gt; |\n",
       "|---|---|---|---|---|---|---|---|---|\n",
       "| 2008.LEGA          | 2008 | LEGA          |  41 |  498 |  539 |  94856 | 0.005682297 | 1.4281986 |\n",
       "| 2015.LEGA          | 2015 | LEGA          |  80 |  617 |  697 | 122917 | 0.005670493 | 1.4209074 |\n",
       "| 2014.FDI           | 2014 | FDI           |  82 |  209 |  291 |  51695 | 0.005629171 | 1.3953838 |\n",
       "| 2017.LEGA          | 2017 | LEGA          |  72 |  483 |  555 | 103023 | 0.005387147 | 1.2458912 |\n",
       "| 2015.M5S           | 2015 | M5S           | 449 | 2332 | 2781 | 527990 | 0.005267145 | 1.1717693 |\n",
       "| 2015.FI-PDL        | 2015 | FI-PDL        | 177 | 1181 | 1358 | 263332 | 0.005156988 | 1.1037280 |\n",
       "| 2000.LEGA          | 2000 | LEGA          | 279 | 1158 | 1437 | 293739 | 0.004892098 | 0.9401119 |\n",
       "| 2014.LEGA          | 2014 | LEGA          | 122 |  603 |  725 | 148505 | 0.004881991 | 0.9338687 |\n",
       "| 2006.LEGA          | 2006 | LEGA          |  50 |  322 |  372 |  77125 | 0.004823339 | 0.8976409 |\n",
       "| 2017.FDI           | 2017 | FDI           |  46 |  137 |  183 |  38123 | 0.004800252 | 0.8833807 |\n",
       "| 2019.FI-PDL        | 2019 | FI-PDL        | 383 | 2108 | 2491 | 533560 | 0.004668641 | 0.8020878 |\n",
       "| 2005.RC            | 2005 | RC            |  41 |  206 |  247 |  53397 | 0.004625728 | 0.7755816 |\n",
       "| 2016.LEGA          | 2016 | LEGA          |  34 |  349 |  383 |  83485 | 0.004587650 | 0.7520620 |\n",
       "| 2013.M5S           | 2013 | M5S           | 280 | 1434 | 1714 | 377216 | 0.004543816 | 0.7249864 |\n",
       "| 2009.LEGA          | 2009 | LEGA          |  89 |  569 |  658 | 146788 | 0.004482655 | 0.6872091 |\n",
       "| 2015.SI-SEL-POS-LU | 2015 | SI-SEL-POS-LU |  90 |  388 |  478 | 107081 | 0.004463910 | 0.6756309 |\n",
       "| 2013.FDI           | 2013 | FDI           |  48 |  135 |  183 |  41498 | 0.004409851 | 0.6422397 |\n",
       "| 2003.LEGA          | 2003 | LEGA          |  73 |  564 |  637 | 144815 | 0.004398716 | 0.6353616 |\n",
       "| 2017.M5S           | 2017 | M5S           | 276 | 1411 | 1687 | 397446 | 0.004244602 | 0.5401693 |\n",
       "| 2016.SI-SEL-POS-LU | 2016 | SI-SEL-POS-LU |  65 |  293 |  358 |  84377 | 0.004242862 | 0.5390949 |\n",
       "\n"
      ],
      "text/plain": [
       "   doc_id             year party         anti_elitism people_centrism\n",
       "1  2008.LEGA          2008 LEGA           41           498           \n",
       "2  2015.LEGA          2015 LEGA           80           617           \n",
       "3  2014.FDI           2014 FDI            82           209           \n",
       "4  2017.LEGA          2017 LEGA           72           483           \n",
       "5  2015.M5S           2015 M5S           449          2332           \n",
       "6  2015.FI-PDL        2015 FI-PDL        177          1181           \n",
       "7  2000.LEGA          2000 LEGA          279          1158           \n",
       "8  2014.LEGA          2014 LEGA          122           603           \n",
       "9  2006.LEGA          2006 LEGA           50           322           \n",
       "10 2017.FDI           2017 FDI            46           137           \n",
       "11 2019.FI-PDL        2019 FI-PDL        383          2108           \n",
       "12 2005.RC            2005 RC             41           206           \n",
       "13 2016.LEGA          2016 LEGA           34           349           \n",
       "14 2013.M5S           2013 M5S           280          1434           \n",
       "15 2009.LEGA          2009 LEGA           89           569           \n",
       "16 2015.SI-SEL-POS-LU 2015 SI-SEL-POS-LU  90           388           \n",
       "17 2013.FDI           2013 FDI            48           135           \n",
       "18 2003.LEGA          2003 LEGA           73           564           \n",
       "19 2017.M5S           2017 M5S           276          1411           \n",
       "20 2016.SI-SEL-POS-LU 2016 SI-SEL-POS-LU  65           293           \n",
       "   populist_toks total_toks perc_of_populist_toks\n",
       "1   539           94856     0.005682297          \n",
       "2   697          122917     0.005670493          \n",
       "3   291           51695     0.005629171          \n",
       "4   555          103023     0.005387147          \n",
       "5  2781          527990     0.005267145          \n",
       "6  1358          263332     0.005156988          \n",
       "7  1437          293739     0.004892098          \n",
       "8   725          148505     0.004881991          \n",
       "9   372           77125     0.004823339          \n",
       "10  183           38123     0.004800252          \n",
       "11 2491          533560     0.004668641          \n",
       "12  247           53397     0.004625728          \n",
       "13  383           83485     0.004587650          \n",
       "14 1714          377216     0.004543816          \n",
       "15  658          146788     0.004482655          \n",
       "16  478          107081     0.004463910          \n",
       "17  183           41498     0.004409851          \n",
       "18  637          144815     0.004398716          \n",
       "19 1687          397446     0.004244602          \n",
       "20  358           84377     0.004242862          \n",
       "   standardized_perc_of_populist_toks\n",
       "1  1.4281986                         \n",
       "2  1.4209074                         \n",
       "3  1.3953838                         \n",
       "4  1.2458912                         \n",
       "5  1.1717693                         \n",
       "6  1.1037280                         \n",
       "7  0.9401119                         \n",
       "8  0.9338687                         \n",
       "9  0.8976409                         \n",
       "10 0.8833807                         \n",
       "11 0.8020878                         \n",
       "12 0.7755816                         \n",
       "13 0.7520620                         \n",
       "14 0.7249864                         \n",
       "15 0.6872091                         \n",
       "16 0.6756309                         \n",
       "17 0.6422397                         \n",
       "18 0.6353616                         \n",
       "19 0.5401693                         \n",
       "20 0.5390949                         "
      ]
     },
     "metadata": {},
     "output_type": "display_data"
    }
   ],
   "source": [
    "to_keep <- c(\"FI-PDL\", \"FDI\", \"LEGA\", \"M5S\", \"RC-PROGR\", \"RC\", \"COM/IT/\", \"RC-SE\", \"SI-SEL-POS-LU\")\n",
    "\n",
    "df_db %>% \n",
    "filter(party %in% to_keep) %>% \n",
    "arrange(desc(perc_of_populist_toks)) %>% \n",
    "head(20)"
   ]
  },
  {
   "cell_type": "markdown",
   "id": "745f72d7",
   "metadata": {},
   "source": [
    "# Grundl (Manifesto project) <a class=\"anchor\" id=\"chapter7\"></a>"
   ]
  },
  {
   "cell_type": "markdown",
   "id": "df9c79b5",
   "metadata": {},
   "source": [
    "Running the dictionary analysis on the Manifesto Project dataset with Grundl's dictionary"
   ]
  },
  {
   "cell_type": "code",
   "execution_count": 48,
   "id": "d66297ca",
   "metadata": {},
   "outputs": [
    {
     "data": {
      "text/html": [
       "<table class=\"dataframe\">\n",
       "<caption>A tibble: 10 × 5</caption>\n",
       "<thead>\n",
       "\t<tr><th scope=col>party</th><th scope=col>populism</th><th scope=col>total_toks</th><th scope=col>perc_of_populist_toks</th><th scope=col>standardized_perc_of_populist_toks</th></tr>\n",
       "\t<tr><th scope=col>&lt;chr&gt;</th><th scope=col>&lt;dbl&gt;</th><th scope=col>&lt;int&gt;</th><th scope=col>&lt;dbl&gt;</th><th scope=col>&lt;dbl&gt;</th></tr>\n",
       "</thead>\n",
       "<tbody>\n",
       "\t<tr><td>FDI-CDN</td><td> 46</td><td> 13480</td><td>0.003412463</td><td> 1.41739125</td></tr>\n",
       "\t<tr><td>SC     </td><td> 27</td><td>  8385</td><td>0.003220036</td><td> 0.93933809</td></tr>\n",
       "\t<tr><td>FI     </td><td> 94</td><td> 29483</td><td>0.003188278</td><td> 0.86044115</td></tr>\n",
       "\t<tr><td>LN     </td><td>305</td><td> 97142</td><td>0.003139734</td><td> 0.73984066</td></tr>\n",
       "\t<tr><td>UDC    </td><td> 25</td><td>  8738</td><td>0.002861067</td><td> 0.04753895</td></tr>\n",
       "\t<tr><td>PD     </td><td> 86</td><td> 31632</td><td>0.002718766</td><td>-0.30598370</td></tr>\n",
       "\t<tr><td>CD     </td><td> 42</td><td> 15853</td><td>0.002649341</td><td>-0.47845852</td></tr>\n",
       "\t<tr><td>M5S    </td><td>454</td><td>172008</td><td>0.002639412</td><td>-0.50312472</td></tr>\n",
       "\t<tr><td>SEL    </td><td> 41</td><td> 16357</td><td>0.002506572</td><td>-0.83314361</td></tr>\n",
       "\t<tr><td>PdL    </td><td> 14</td><td>  6719</td><td>0.002083643</td><td>-1.88383957</td></tr>\n",
       "</tbody>\n",
       "</table>\n"
      ],
      "text/latex": [
       "A tibble: 10 × 5\n",
       "\\begin{tabular}{lllll}\n",
       " party & populism & total\\_toks & perc\\_of\\_populist\\_toks & standardized\\_perc\\_of\\_populist\\_toks\\\\\n",
       " <chr> & <dbl> & <int> & <dbl> & <dbl>\\\\\n",
       "\\hline\n",
       "\t FDI-CDN &  46 &  13480 & 0.003412463 &  1.41739125\\\\\n",
       "\t SC      &  27 &   8385 & 0.003220036 &  0.93933809\\\\\n",
       "\t FI      &  94 &  29483 & 0.003188278 &  0.86044115\\\\\n",
       "\t LN      & 305 &  97142 & 0.003139734 &  0.73984066\\\\\n",
       "\t UDC     &  25 &   8738 & 0.002861067 &  0.04753895\\\\\n",
       "\t PD      &  86 &  31632 & 0.002718766 & -0.30598370\\\\\n",
       "\t CD      &  42 &  15853 & 0.002649341 & -0.47845852\\\\\n",
       "\t M5S     & 454 & 172008 & 0.002639412 & -0.50312472\\\\\n",
       "\t SEL     &  41 &  16357 & 0.002506572 & -0.83314361\\\\\n",
       "\t PdL     &  14 &   6719 & 0.002083643 & -1.88383957\\\\\n",
       "\\end{tabular}\n"
      ],
      "text/markdown": [
       "\n",
       "A tibble: 10 × 5\n",
       "\n",
       "| party &lt;chr&gt; | populism &lt;dbl&gt; | total_toks &lt;int&gt; | perc_of_populist_toks &lt;dbl&gt; | standardized_perc_of_populist_toks &lt;dbl&gt; |\n",
       "|---|---|---|---|---|\n",
       "| FDI-CDN |  46 |  13480 | 0.003412463 |  1.41739125 |\n",
       "| SC      |  27 |   8385 | 0.003220036 |  0.93933809 |\n",
       "| FI      |  94 |  29483 | 0.003188278 |  0.86044115 |\n",
       "| LN      | 305 |  97142 | 0.003139734 |  0.73984066 |\n",
       "| UDC     |  25 |   8738 | 0.002861067 |  0.04753895 |\n",
       "| PD      |  86 |  31632 | 0.002718766 | -0.30598370 |\n",
       "| CD      |  42 |  15853 | 0.002649341 | -0.47845852 |\n",
       "| M5S     | 454 | 172008 | 0.002639412 | -0.50312472 |\n",
       "| SEL     |  41 |  16357 | 0.002506572 | -0.83314361 |\n",
       "| PdL     |  14 |   6719 | 0.002083643 | -1.88383957 |\n",
       "\n"
      ],
      "text/plain": [
       "   party   populism total_toks perc_of_populist_toks\n",
       "1  FDI-CDN  46       13480     0.003412463          \n",
       "2  SC       27        8385     0.003220036          \n",
       "3  FI       94       29483     0.003188278          \n",
       "4  LN      305       97142     0.003139734          \n",
       "5  UDC      25        8738     0.002861067          \n",
       "6  PD       86       31632     0.002718766          \n",
       "7  CD       42       15853     0.002649341          \n",
       "8  M5S     454      172008     0.002639412          \n",
       "9  SEL      41       16357     0.002506572          \n",
       "10 PdL      14        6719     0.002083643          \n",
       "   standardized_perc_of_populist_toks\n",
       "1   1.41739125                       \n",
       "2   0.93933809                       \n",
       "3   0.86044115                       \n",
       "4   0.73984066                       \n",
       "5   0.04753895                       \n",
       "6  -0.30598370                       \n",
       "7  -0.47845852                       \n",
       "8  -0.50312472                       \n",
       "9  -0.83314361                       \n",
       "10 -1.88383957                       "
      ]
     },
     "metadata": {},
     "output_type": "display_data"
    }
   ],
   "source": [
    "dict_analysis(tokens = manifesto_toks, data = \"manifesto\", dictionary = \"Grundl\")"
   ]
  },
  {
   "cell_type": "markdown",
   "id": "f4df0ba5",
   "metadata": {},
   "source": [
    "# Grundl (speeches dataset)"
   ]
  },
  {
   "cell_type": "markdown",
   "id": "b052c7ca",
   "metadata": {},
   "source": [
    "Run a dictionary analsis on the texts dataset with the integral Italian translation of Grundl's dictionary"
   ]
  },
  {
   "cell_type": "code",
   "execution_count": 49,
   "id": "05f1add6",
   "metadata": {},
   "outputs": [],
   "source": [
    "df_g <- dict_analysis(tokens = speeches_toks, data = \"speeches\", dictionary = \"Grundl\")"
   ]
  },
  {
   "cell_type": "markdown",
   "id": "2a23b617",
   "metadata": {},
   "source": [
    "Let's have a look at the first rows in the output"
   ]
  },
  {
   "cell_type": "code",
   "execution_count": 50,
   "id": "b1db599b",
   "metadata": {},
   "outputs": [
    {
     "data": {
      "text/html": [
       "<table class=\"dataframe\">\n",
       "<caption>A tibble: 6 × 7</caption>\n",
       "<thead>\n",
       "\t<tr><th scope=col>doc_id</th><th scope=col>year</th><th scope=col>party</th><th scope=col>populism</th><th scope=col>total_toks</th><th scope=col>perc_of_populist_toks</th><th scope=col>standardized_perc_of_populist_toks</th></tr>\n",
       "\t<tr><th scope=col>&lt;chr&gt;</th><th scope=col>&lt;int&gt;</th><th scope=col>&lt;chr&gt;</th><th scope=col>&lt;dbl&gt;</th><th scope=col>&lt;int&gt;</th><th scope=col>&lt;dbl&gt;</th><th scope=col>&lt;dbl&gt;</th></tr>\n",
       "</thead>\n",
       "<tbody>\n",
       "\t<tr><td>1994.AN</td><td>1994</td><td>AN</td><td> 673</td><td>206560</td><td>0.003258133</td><td> 0.0004470741</td></tr>\n",
       "\t<tr><td>1995.AN</td><td>1995</td><td>AN</td><td>1209</td><td>350039</td><td>0.003453901</td><td> 0.1474989718</td></tr>\n",
       "\t<tr><td>1996.AN</td><td>1996</td><td>AN</td><td> 812</td><td>272610</td><td>0.002978614</td><td>-0.2095151905</td></tr>\n",
       "\t<tr><td>1997.AN</td><td>1997</td><td>AN</td><td>1264</td><td>381823</td><td>0.003310434</td><td> 0.0397333901</td></tr>\n",
       "\t<tr><td>1998.AN</td><td>1998</td><td>AN</td><td>1302</td><td>373426</td><td>0.003486635</td><td> 0.1720870783</td></tr>\n",
       "\t<tr><td>1999.AN</td><td>1999</td><td>AN</td><td>1368</td><td>399795</td><td>0.003421754</td><td> 0.1233514285</td></tr>\n",
       "</tbody>\n",
       "</table>\n"
      ],
      "text/latex": [
       "A tibble: 6 × 7\n",
       "\\begin{tabular}{lllllll}\n",
       " doc\\_id & year & party & populism & total\\_toks & perc\\_of\\_populist\\_toks & standardized\\_perc\\_of\\_populist\\_toks\\\\\n",
       " <chr> & <int> & <chr> & <dbl> & <int> & <dbl> & <dbl>\\\\\n",
       "\\hline\n",
       "\t 1994.AN & 1994 & AN &  673 & 206560 & 0.003258133 &  0.0004470741\\\\\n",
       "\t 1995.AN & 1995 & AN & 1209 & 350039 & 0.003453901 &  0.1474989718\\\\\n",
       "\t 1996.AN & 1996 & AN &  812 & 272610 & 0.002978614 & -0.2095151905\\\\\n",
       "\t 1997.AN & 1997 & AN & 1264 & 381823 & 0.003310434 &  0.0397333901\\\\\n",
       "\t 1998.AN & 1998 & AN & 1302 & 373426 & 0.003486635 &  0.1720870783\\\\\n",
       "\t 1999.AN & 1999 & AN & 1368 & 399795 & 0.003421754 &  0.1233514285\\\\\n",
       "\\end{tabular}\n"
      ],
      "text/markdown": [
       "\n",
       "A tibble: 6 × 7\n",
       "\n",
       "| doc_id &lt;chr&gt; | year &lt;int&gt; | party &lt;chr&gt; | populism &lt;dbl&gt; | total_toks &lt;int&gt; | perc_of_populist_toks &lt;dbl&gt; | standardized_perc_of_populist_toks &lt;dbl&gt; |\n",
       "|---|---|---|---|---|---|---|\n",
       "| 1994.AN | 1994 | AN |  673 | 206560 | 0.003258133 |  0.0004470741 |\n",
       "| 1995.AN | 1995 | AN | 1209 | 350039 | 0.003453901 |  0.1474989718 |\n",
       "| 1996.AN | 1996 | AN |  812 | 272610 | 0.002978614 | -0.2095151905 |\n",
       "| 1997.AN | 1997 | AN | 1264 | 381823 | 0.003310434 |  0.0397333901 |\n",
       "| 1998.AN | 1998 | AN | 1302 | 373426 | 0.003486635 |  0.1720870783 |\n",
       "| 1999.AN | 1999 | AN | 1368 | 399795 | 0.003421754 |  0.1233514285 |\n",
       "\n"
      ],
      "text/plain": [
       "  doc_id  year party populism total_toks perc_of_populist_toks\n",
       "1 1994.AN 1994 AN     673     206560     0.003258133          \n",
       "2 1995.AN 1995 AN    1209     350039     0.003453901          \n",
       "3 1996.AN 1996 AN     812     272610     0.002978614          \n",
       "4 1997.AN 1997 AN    1264     381823     0.003310434          \n",
       "5 1998.AN 1998 AN    1302     373426     0.003486635          \n",
       "6 1999.AN 1999 AN    1368     399795     0.003421754          \n",
       "  standardized_perc_of_populist_toks\n",
       "1  0.0004470741                     \n",
       "2  0.1474989718                     \n",
       "3 -0.2095151905                     \n",
       "4  0.0397333901                     \n",
       "5  0.1720870783                     \n",
       "6  0.1233514285                     "
      ]
     },
     "metadata": {},
     "output_type": "display_data"
    }
   ],
   "source": [
    "head(df_g)"
   ]
  },
  {
   "cell_type": "markdown",
   "id": "63469de1",
   "metadata": {},
   "source": [
    "## Face validity"
   ]
  },
  {
   "cell_type": "markdown",
   "id": "803b2840",
   "metadata": {},
   "source": [
    "The following are the year-party combinations with the highest populist scores according to Grundl's dictionary. We find many parties usually labeled as populist such as LEGA and M5S together with more mainstream parties such as UDEUR and MARGH-U."
   ]
  },
  {
   "cell_type": "code",
   "execution_count": 51,
   "id": "ab3e7639",
   "metadata": {},
   "outputs": [
    {
     "data": {
      "text/html": [
       "<table class=\"dataframe\">\n",
       "<caption>A tibble: 20 × 7</caption>\n",
       "<thead>\n",
       "\t<tr><th scope=col>doc_id</th><th scope=col>year</th><th scope=col>party</th><th scope=col>populism</th><th scope=col>total_toks</th><th scope=col>perc_of_populist_toks</th><th scope=col>standardized_perc_of_populist_toks</th></tr>\n",
       "\t<tr><th scope=col>&lt;chr&gt;</th><th scope=col>&lt;int&gt;</th><th scope=col>&lt;chr&gt;</th><th scope=col>&lt;dbl&gt;</th><th scope=col>&lt;int&gt;</th><th scope=col>&lt;dbl&gt;</th><th scope=col>&lt;dbl&gt;</th></tr>\n",
       "</thead>\n",
       "<tbody>\n",
       "\t<tr><td>2000.UDEUR      </td><td>2000</td><td>UDEUR      </td><td> 564</td><td> 32843</td><td>0.017172609</td><td>10.4523802</td></tr>\n",
       "\t<tr><td>1998.UDEUR      </td><td>1998</td><td>UDEUR      </td><td> 284</td><td> 26436</td><td>0.010742926</td><td> 5.6226895</td></tr>\n",
       "\t<tr><td>2008.UDEUR      </td><td>2008</td><td>UDEUR      </td><td>  19</td><td>  2338</td><td>0.008126604</td><td> 3.6574249</td></tr>\n",
       "\t<tr><td>1996.UDEUR      </td><td>1996</td><td>UDEUR      </td><td> 239</td><td> 29778</td><td>0.008026060</td><td> 3.5819005</td></tr>\n",
       "\t<tr><td>2009.SOCRAD-RNP </td><td>2009</td><td>SOCRAD-RNP </td><td>   4</td><td>   582</td><td>0.006872852</td><td> 2.7156626</td></tr>\n",
       "\t<tr><td>2006.DCA-NPSI   </td><td>2006</td><td>DCA-NPSI   </td><td>  92</td><td> 15518</td><td>0.005928599</td><td> 2.0063818</td></tr>\n",
       "\t<tr><td>2004.RC         </td><td>2004</td><td>RC         </td><td> 426</td><td> 85224</td><td>0.004998592</td><td> 1.3078020</td></tr>\n",
       "\t<tr><td>2015.MDP-LU     </td><td>2015</td><td>MDP-LU     </td><td> 459</td><td> 92420</td><td>0.004966457</td><td> 1.2836640</td></tr>\n",
       "\t<tr><td>2001.MARGH-U    </td><td>2001</td><td>MARGH-U    </td><td> 718</td><td>149544</td><td>0.004801263</td><td> 1.1595769</td></tr>\n",
       "\t<tr><td>2000.LEGA       </td><td>2000</td><td>LEGA       </td><td>1382</td><td>293739</td><td>0.004704857</td><td> 1.0871614</td></tr>\n",
       "\t<tr><td>2013.LEGA       </td><td>2013</td><td>LEGA       </td><td> 549</td><td>117234</td><td>0.004682942</td><td> 1.0706997</td></tr>\n",
       "\t<tr><td>2005.RC         </td><td>2005</td><td>RC         </td><td> 249</td><td> 53397</td><td>0.004663183</td><td> 1.0558580</td></tr>\n",
       "\t<tr><td>2014.LEGA       </td><td>2014</td><td>LEGA       </td><td> 690</td><td>148505</td><td>0.004646308</td><td> 1.0431821</td></tr>\n",
       "\t<tr><td>2007.LEGA       </td><td>2007</td><td>LEGA       </td><td> 561</td><td>123611</td><td>0.004538431</td><td> 0.9621496</td></tr>\n",
       "\t<tr><td>1998.UDC-CCD-CDU</td><td>1998</td><td>UDC-CCD-CDU</td><td> 160</td><td> 35278</td><td>0.004535405</td><td> 0.9598762</td></tr>\n",
       "\t<tr><td>2002.RC         </td><td>2002</td><td>RC         </td><td> 365</td><td> 80873</td><td>0.004513249</td><td> 0.9432341</td></tr>\n",
       "\t<tr><td>2015.M5S        </td><td>2015</td><td>M5S        </td><td>2307</td><td>527990</td><td>0.004369401</td><td> 0.8351818</td></tr>\n",
       "\t<tr><td>2009.RC         </td><td>2009</td><td>RC         </td><td>   5</td><td>  1154</td><td>0.004332756</td><td> 0.8076555</td></tr>\n",
       "\t<tr><td>2006.LEGA       </td><td>2006</td><td>LEGA       </td><td> 332</td><td> 77125</td><td>0.004304700</td><td> 0.7865814</td></tr>\n",
       "\t<tr><td>2004.MISTO      </td><td>2004</td><td>MISTO      </td><td>1155</td><td>269461</td><td>0.004286335</td><td> 0.7727860</td></tr>\n",
       "</tbody>\n",
       "</table>\n"
      ],
      "text/latex": [
       "A tibble: 20 × 7\n",
       "\\begin{tabular}{lllllll}\n",
       " doc\\_id & year & party & populism & total\\_toks & perc\\_of\\_populist\\_toks & standardized\\_perc\\_of\\_populist\\_toks\\\\\n",
       " <chr> & <int> & <chr> & <dbl> & <int> & <dbl> & <dbl>\\\\\n",
       "\\hline\n",
       "\t 2000.UDEUR       & 2000 & UDEUR       &  564 &  32843 & 0.017172609 & 10.4523802\\\\\n",
       "\t 1998.UDEUR       & 1998 & UDEUR       &  284 &  26436 & 0.010742926 &  5.6226895\\\\\n",
       "\t 2008.UDEUR       & 2008 & UDEUR       &   19 &   2338 & 0.008126604 &  3.6574249\\\\\n",
       "\t 1996.UDEUR       & 1996 & UDEUR       &  239 &  29778 & 0.008026060 &  3.5819005\\\\\n",
       "\t 2009.SOCRAD-RNP  & 2009 & SOCRAD-RNP  &    4 &    582 & 0.006872852 &  2.7156626\\\\\n",
       "\t 2006.DCA-NPSI    & 2006 & DCA-NPSI    &   92 &  15518 & 0.005928599 &  2.0063818\\\\\n",
       "\t 2004.RC          & 2004 & RC          &  426 &  85224 & 0.004998592 &  1.3078020\\\\\n",
       "\t 2015.MDP-LU      & 2015 & MDP-LU      &  459 &  92420 & 0.004966457 &  1.2836640\\\\\n",
       "\t 2001.MARGH-U     & 2001 & MARGH-U     &  718 & 149544 & 0.004801263 &  1.1595769\\\\\n",
       "\t 2000.LEGA        & 2000 & LEGA        & 1382 & 293739 & 0.004704857 &  1.0871614\\\\\n",
       "\t 2013.LEGA        & 2013 & LEGA        &  549 & 117234 & 0.004682942 &  1.0706997\\\\\n",
       "\t 2005.RC          & 2005 & RC          &  249 &  53397 & 0.004663183 &  1.0558580\\\\\n",
       "\t 2014.LEGA        & 2014 & LEGA        &  690 & 148505 & 0.004646308 &  1.0431821\\\\\n",
       "\t 2007.LEGA        & 2007 & LEGA        &  561 & 123611 & 0.004538431 &  0.9621496\\\\\n",
       "\t 1998.UDC-CCD-CDU & 1998 & UDC-CCD-CDU &  160 &  35278 & 0.004535405 &  0.9598762\\\\\n",
       "\t 2002.RC          & 2002 & RC          &  365 &  80873 & 0.004513249 &  0.9432341\\\\\n",
       "\t 2015.M5S         & 2015 & M5S         & 2307 & 527990 & 0.004369401 &  0.8351818\\\\\n",
       "\t 2009.RC          & 2009 & RC          &    5 &   1154 & 0.004332756 &  0.8076555\\\\\n",
       "\t 2006.LEGA        & 2006 & LEGA        &  332 &  77125 & 0.004304700 &  0.7865814\\\\\n",
       "\t 2004.MISTO       & 2004 & MISTO       & 1155 & 269461 & 0.004286335 &  0.7727860\\\\\n",
       "\\end{tabular}\n"
      ],
      "text/markdown": [
       "\n",
       "A tibble: 20 × 7\n",
       "\n",
       "| doc_id &lt;chr&gt; | year &lt;int&gt; | party &lt;chr&gt; | populism &lt;dbl&gt; | total_toks &lt;int&gt; | perc_of_populist_toks &lt;dbl&gt; | standardized_perc_of_populist_toks &lt;dbl&gt; |\n",
       "|---|---|---|---|---|---|---|\n",
       "| 2000.UDEUR       | 2000 | UDEUR       |  564 |  32843 | 0.017172609 | 10.4523802 |\n",
       "| 1998.UDEUR       | 1998 | UDEUR       |  284 |  26436 | 0.010742926 |  5.6226895 |\n",
       "| 2008.UDEUR       | 2008 | UDEUR       |   19 |   2338 | 0.008126604 |  3.6574249 |\n",
       "| 1996.UDEUR       | 1996 | UDEUR       |  239 |  29778 | 0.008026060 |  3.5819005 |\n",
       "| 2009.SOCRAD-RNP  | 2009 | SOCRAD-RNP  |    4 |    582 | 0.006872852 |  2.7156626 |\n",
       "| 2006.DCA-NPSI    | 2006 | DCA-NPSI    |   92 |  15518 | 0.005928599 |  2.0063818 |\n",
       "| 2004.RC          | 2004 | RC          |  426 |  85224 | 0.004998592 |  1.3078020 |\n",
       "| 2015.MDP-LU      | 2015 | MDP-LU      |  459 |  92420 | 0.004966457 |  1.2836640 |\n",
       "| 2001.MARGH-U     | 2001 | MARGH-U     |  718 | 149544 | 0.004801263 |  1.1595769 |\n",
       "| 2000.LEGA        | 2000 | LEGA        | 1382 | 293739 | 0.004704857 |  1.0871614 |\n",
       "| 2013.LEGA        | 2013 | LEGA        |  549 | 117234 | 0.004682942 |  1.0706997 |\n",
       "| 2005.RC          | 2005 | RC          |  249 |  53397 | 0.004663183 |  1.0558580 |\n",
       "| 2014.LEGA        | 2014 | LEGA        |  690 | 148505 | 0.004646308 |  1.0431821 |\n",
       "| 2007.LEGA        | 2007 | LEGA        |  561 | 123611 | 0.004538431 |  0.9621496 |\n",
       "| 1998.UDC-CCD-CDU | 1998 | UDC-CCD-CDU |  160 |  35278 | 0.004535405 |  0.9598762 |\n",
       "| 2002.RC          | 2002 | RC          |  365 |  80873 | 0.004513249 |  0.9432341 |\n",
       "| 2015.M5S         | 2015 | M5S         | 2307 | 527990 | 0.004369401 |  0.8351818 |\n",
       "| 2009.RC          | 2009 | RC          |    5 |   1154 | 0.004332756 |  0.8076555 |\n",
       "| 2006.LEGA        | 2006 | LEGA        |  332 |  77125 | 0.004304700 |  0.7865814 |\n",
       "| 2004.MISTO       | 2004 | MISTO       | 1155 | 269461 | 0.004286335 |  0.7727860 |\n",
       "\n"
      ],
      "text/plain": [
       "   doc_id           year party       populism total_toks perc_of_populist_toks\n",
       "1  2000.UDEUR       2000 UDEUR        564      32843     0.017172609          \n",
       "2  1998.UDEUR       1998 UDEUR        284      26436     0.010742926          \n",
       "3  2008.UDEUR       2008 UDEUR         19       2338     0.008126604          \n",
       "4  1996.UDEUR       1996 UDEUR        239      29778     0.008026060          \n",
       "5  2009.SOCRAD-RNP  2009 SOCRAD-RNP     4        582     0.006872852          \n",
       "6  2006.DCA-NPSI    2006 DCA-NPSI      92      15518     0.005928599          \n",
       "7  2004.RC          2004 RC           426      85224     0.004998592          \n",
       "8  2015.MDP-LU      2015 MDP-LU       459      92420     0.004966457          \n",
       "9  2001.MARGH-U     2001 MARGH-U      718     149544     0.004801263          \n",
       "10 2000.LEGA        2000 LEGA        1382     293739     0.004704857          \n",
       "11 2013.LEGA        2013 LEGA         549     117234     0.004682942          \n",
       "12 2005.RC          2005 RC           249      53397     0.004663183          \n",
       "13 2014.LEGA        2014 LEGA         690     148505     0.004646308          \n",
       "14 2007.LEGA        2007 LEGA         561     123611     0.004538431          \n",
       "15 1998.UDC-CCD-CDU 1998 UDC-CCD-CDU  160      35278     0.004535405          \n",
       "16 2002.RC          2002 RC           365      80873     0.004513249          \n",
       "17 2015.M5S         2015 M5S         2307     527990     0.004369401          \n",
       "18 2009.RC          2009 RC             5       1154     0.004332756          \n",
       "19 2006.LEGA        2006 LEGA         332      77125     0.004304700          \n",
       "20 2004.MISTO       2004 MISTO       1155     269461     0.004286335          \n",
       "   standardized_perc_of_populist_toks\n",
       "1  10.4523802                        \n",
       "2   5.6226895                        \n",
       "3   3.6574249                        \n",
       "4   3.5819005                        \n",
       "5   2.7156626                        \n",
       "6   2.0063818                        \n",
       "7   1.3078020                        \n",
       "8   1.2836640                        \n",
       "9   1.1595769                        \n",
       "10  1.0871614                        \n",
       "11  1.0706997                        \n",
       "12  1.0558580                        \n",
       "13  1.0431821                        \n",
       "14  0.9621496                        \n",
       "15  0.9598762                        \n",
       "16  0.9432341                        \n",
       "17  0.8351818                        \n",
       "18  0.8076555                        \n",
       "19  0.7865814                        \n",
       "20  0.7727860                        "
      ]
     },
     "metadata": {},
     "output_type": "display_data"
    }
   ],
   "source": [
    "df_g %>% \n",
    "arrange(desc(standardized_perc_of_populist_toks)) %>% \n",
    "head(20)"
   ]
  },
  {
   "cell_type": "markdown",
   "id": "7146a82a",
   "metadata": {},
   "source": [
    "Consistenly with our expecations, we do not find any populist party among the 20 year-party combinations with the lowest populist scores."
   ]
  },
  {
   "cell_type": "code",
   "execution_count": 52,
   "id": "a70626aa",
   "metadata": {},
   "outputs": [
    {
     "data": {
      "text/html": [
       "<table class=\"dataframe\">\n",
       "<caption>A tibble: 20 × 7</caption>\n",
       "<thead>\n",
       "\t<tr><th scope=col>doc_id</th><th scope=col>year</th><th scope=col>party</th><th scope=col>populism</th><th scope=col>total_toks</th><th scope=col>perc_of_populist_toks</th><th scope=col>standardized_perc_of_populist_toks</th></tr>\n",
       "\t<tr><th scope=col>&lt;chr&gt;</th><th scope=col>&lt;int&gt;</th><th scope=col>&lt;chr&gt;</th><th scope=col>&lt;dbl&gt;</th><th scope=col>&lt;int&gt;</th><th scope=col>&lt;dbl&gt;</th><th scope=col>&lt;dbl&gt;</th></tr>\n",
       "</thead>\n",
       "<tbody>\n",
       "\t<tr><td>1995.UDC-CCD-CDU   </td><td>1995</td><td>UDC-CCD-CDU   </td><td>121</td><td> 61154</td><td>0.001978611</td><td>-0.9606726</td></tr>\n",
       "\t<tr><td>1996.MISTO         </td><td>1996</td><td>MISTO         </td><td>304</td><td>165861</td><td>0.001832860</td><td>-1.0701545</td></tr>\n",
       "\t<tr><td>2018.SI-SEL-POS-LU </td><td>2018</td><td>SI-SEL-POS-LU </td><td>  4</td><td>  2189</td><td>0.001827318</td><td>-1.0743171</td></tr>\n",
       "\t<tr><td>1996.PD-ULIVO-DS   </td><td>1996</td><td>PD-ULIVO-DS   </td><td>667</td><td>369702</td><td>0.001804156</td><td>-1.0917159</td></tr>\n",
       "\t<tr><td>2007.VERDI         </td><td>2007</td><td>VERDI         </td><td> 47</td><td> 26682</td><td>0.001761487</td><td>-1.1237667</td></tr>\n",
       "\t<tr><td>1996.UDR           </td><td>1996</td><td>UDR           </td><td> 31</td><td> 17691</td><td>0.001752303</td><td>-1.1306650</td></tr>\n",
       "\t<tr><td>1996.DEM-U         </td><td>1996</td><td>DEM-U         </td><td> 51</td><td> 29388</td><td>0.001735402</td><td>-1.1433605</td></tr>\n",
       "\t<tr><td>2013.DES-CD        </td><td>2013</td><td>DES-CD        </td><td> 20</td><td> 11802</td><td>0.001694628</td><td>-1.1739882</td></tr>\n",
       "\t<tr><td>1995.LIFED         </td><td>1995</td><td>LIFED         </td><td>  3</td><td>  1870</td><td>0.001604278</td><td>-1.2418551</td></tr>\n",
       "\t<tr><td>2008.SDPSE         </td><td>2008</td><td>SDPSE         </td><td>  9</td><td>  6108</td><td>0.001473477</td><td>-1.3401067</td></tr>\n",
       "\t<tr><td>2014.DES-CD        </td><td>2014</td><td>DES-CD        </td><td> 13</td><td>  9057</td><td>0.001435354</td><td>-1.3687434</td></tr>\n",
       "\t<tr><td>2001.UDR           </td><td>2001</td><td>UDR           </td><td>  6</td><td>  4213</td><td>0.001424163</td><td>-1.3771493</td></tr>\n",
       "\t<tr><td>2018.AP-CPE-NCD-NCI</td><td>2018</td><td>AP-CPE-NCD-NCI</td><td>  0</td><td>   269</td><td>0.000000000</td><td>-2.4469172</td></tr>\n",
       "\t<tr><td>2018.CI            </td><td>2018</td><td>CI            </td><td>  0</td><td>   550</td><td>0.000000000</td><td>-2.4469172</td></tr>\n",
       "\t<tr><td>2008.DCA-NPSI      </td><td>2008</td><td>DCA-NPSI      </td><td>  0</td><td>   269</td><td>0.000000000</td><td>-2.4469172</td></tr>\n",
       "\t<tr><td>2009.DCA-NPSI      </td><td>2009</td><td>DCA-NPSI      </td><td>  0</td><td>    26</td><td>0.000000000</td><td>-2.4469172</td></tr>\n",
       "\t<tr><td>2013.FLPTP         </td><td>2013</td><td>FLPTP         </td><td>  0</td><td>     2</td><td>0.000000000</td><td>-2.4469172</td></tr>\n",
       "\t<tr><td>1994.LIFED         </td><td>1994</td><td>LIFED         </td><td>  0</td><td>   217</td><td>0.000000000</td><td>-2.4469172</td></tr>\n",
       "\t<tr><td>1996.LIFED         </td><td>1996</td><td>LIFED         </td><td>  0</td><td>   979</td><td>0.000000000</td><td>-2.4469172</td></tr>\n",
       "\t<tr><td>2009.SDPSE         </td><td>2009</td><td>SDPSE         </td><td>  0</td><td>    80</td><td>0.000000000</td><td>-2.4469172</td></tr>\n",
       "</tbody>\n",
       "</table>\n"
      ],
      "text/latex": [
       "A tibble: 20 × 7\n",
       "\\begin{tabular}{lllllll}\n",
       " doc\\_id & year & party & populism & total\\_toks & perc\\_of\\_populist\\_toks & standardized\\_perc\\_of\\_populist\\_toks\\\\\n",
       " <chr> & <int> & <chr> & <dbl> & <int> & <dbl> & <dbl>\\\\\n",
       "\\hline\n",
       "\t 1995.UDC-CCD-CDU    & 1995 & UDC-CCD-CDU    & 121 &  61154 & 0.001978611 & -0.9606726\\\\\n",
       "\t 1996.MISTO          & 1996 & MISTO          & 304 & 165861 & 0.001832860 & -1.0701545\\\\\n",
       "\t 2018.SI-SEL-POS-LU  & 2018 & SI-SEL-POS-LU  &   4 &   2189 & 0.001827318 & -1.0743171\\\\\n",
       "\t 1996.PD-ULIVO-DS    & 1996 & PD-ULIVO-DS    & 667 & 369702 & 0.001804156 & -1.0917159\\\\\n",
       "\t 2007.VERDI          & 2007 & VERDI          &  47 &  26682 & 0.001761487 & -1.1237667\\\\\n",
       "\t 1996.UDR            & 1996 & UDR            &  31 &  17691 & 0.001752303 & -1.1306650\\\\\n",
       "\t 1996.DEM-U          & 1996 & DEM-U          &  51 &  29388 & 0.001735402 & -1.1433605\\\\\n",
       "\t 2013.DES-CD         & 2013 & DES-CD         &  20 &  11802 & 0.001694628 & -1.1739882\\\\\n",
       "\t 1995.LIFED          & 1995 & LIFED          &   3 &   1870 & 0.001604278 & -1.2418551\\\\\n",
       "\t 2008.SDPSE          & 2008 & SDPSE          &   9 &   6108 & 0.001473477 & -1.3401067\\\\\n",
       "\t 2014.DES-CD         & 2014 & DES-CD         &  13 &   9057 & 0.001435354 & -1.3687434\\\\\n",
       "\t 2001.UDR            & 2001 & UDR            &   6 &   4213 & 0.001424163 & -1.3771493\\\\\n",
       "\t 2018.AP-CPE-NCD-NCI & 2018 & AP-CPE-NCD-NCI &   0 &    269 & 0.000000000 & -2.4469172\\\\\n",
       "\t 2018.CI             & 2018 & CI             &   0 &    550 & 0.000000000 & -2.4469172\\\\\n",
       "\t 2008.DCA-NPSI       & 2008 & DCA-NPSI       &   0 &    269 & 0.000000000 & -2.4469172\\\\\n",
       "\t 2009.DCA-NPSI       & 2009 & DCA-NPSI       &   0 &     26 & 0.000000000 & -2.4469172\\\\\n",
       "\t 2013.FLPTP          & 2013 & FLPTP          &   0 &      2 & 0.000000000 & -2.4469172\\\\\n",
       "\t 1994.LIFED          & 1994 & LIFED          &   0 &    217 & 0.000000000 & -2.4469172\\\\\n",
       "\t 1996.LIFED          & 1996 & LIFED          &   0 &    979 & 0.000000000 & -2.4469172\\\\\n",
       "\t 2009.SDPSE          & 2009 & SDPSE          &   0 &     80 & 0.000000000 & -2.4469172\\\\\n",
       "\\end{tabular}\n"
      ],
      "text/markdown": [
       "\n",
       "A tibble: 20 × 7\n",
       "\n",
       "| doc_id &lt;chr&gt; | year &lt;int&gt; | party &lt;chr&gt; | populism &lt;dbl&gt; | total_toks &lt;int&gt; | perc_of_populist_toks &lt;dbl&gt; | standardized_perc_of_populist_toks &lt;dbl&gt; |\n",
       "|---|---|---|---|---|---|---|\n",
       "| 1995.UDC-CCD-CDU    | 1995 | UDC-CCD-CDU    | 121 |  61154 | 0.001978611 | -0.9606726 |\n",
       "| 1996.MISTO          | 1996 | MISTO          | 304 | 165861 | 0.001832860 | -1.0701545 |\n",
       "| 2018.SI-SEL-POS-LU  | 2018 | SI-SEL-POS-LU  |   4 |   2189 | 0.001827318 | -1.0743171 |\n",
       "| 1996.PD-ULIVO-DS    | 1996 | PD-ULIVO-DS    | 667 | 369702 | 0.001804156 | -1.0917159 |\n",
       "| 2007.VERDI          | 2007 | VERDI          |  47 |  26682 | 0.001761487 | -1.1237667 |\n",
       "| 1996.UDR            | 1996 | UDR            |  31 |  17691 | 0.001752303 | -1.1306650 |\n",
       "| 1996.DEM-U          | 1996 | DEM-U          |  51 |  29388 | 0.001735402 | -1.1433605 |\n",
       "| 2013.DES-CD         | 2013 | DES-CD         |  20 |  11802 | 0.001694628 | -1.1739882 |\n",
       "| 1995.LIFED          | 1995 | LIFED          |   3 |   1870 | 0.001604278 | -1.2418551 |\n",
       "| 2008.SDPSE          | 2008 | SDPSE          |   9 |   6108 | 0.001473477 | -1.3401067 |\n",
       "| 2014.DES-CD         | 2014 | DES-CD         |  13 |   9057 | 0.001435354 | -1.3687434 |\n",
       "| 2001.UDR            | 2001 | UDR            |   6 |   4213 | 0.001424163 | -1.3771493 |\n",
       "| 2018.AP-CPE-NCD-NCI | 2018 | AP-CPE-NCD-NCI |   0 |    269 | 0.000000000 | -2.4469172 |\n",
       "| 2018.CI             | 2018 | CI             |   0 |    550 | 0.000000000 | -2.4469172 |\n",
       "| 2008.DCA-NPSI       | 2008 | DCA-NPSI       |   0 |    269 | 0.000000000 | -2.4469172 |\n",
       "| 2009.DCA-NPSI       | 2009 | DCA-NPSI       |   0 |     26 | 0.000000000 | -2.4469172 |\n",
       "| 2013.FLPTP          | 2013 | FLPTP          |   0 |      2 | 0.000000000 | -2.4469172 |\n",
       "| 1994.LIFED          | 1994 | LIFED          |   0 |    217 | 0.000000000 | -2.4469172 |\n",
       "| 1996.LIFED          | 1996 | LIFED          |   0 |    979 | 0.000000000 | -2.4469172 |\n",
       "| 2009.SDPSE          | 2009 | SDPSE          |   0 |     80 | 0.000000000 | -2.4469172 |\n",
       "\n"
      ],
      "text/plain": [
       "   doc_id              year party          populism total_toks\n",
       "1  1995.UDC-CCD-CDU    1995 UDC-CCD-CDU    121       61154    \n",
       "2  1996.MISTO          1996 MISTO          304      165861    \n",
       "3  2018.SI-SEL-POS-LU  2018 SI-SEL-POS-LU    4        2189    \n",
       "4  1996.PD-ULIVO-DS    1996 PD-ULIVO-DS    667      369702    \n",
       "5  2007.VERDI          2007 VERDI           47       26682    \n",
       "6  1996.UDR            1996 UDR             31       17691    \n",
       "7  1996.DEM-U          1996 DEM-U           51       29388    \n",
       "8  2013.DES-CD         2013 DES-CD          20       11802    \n",
       "9  1995.LIFED          1995 LIFED            3        1870    \n",
       "10 2008.SDPSE          2008 SDPSE            9        6108    \n",
       "11 2014.DES-CD         2014 DES-CD          13        9057    \n",
       "12 2001.UDR            2001 UDR              6        4213    \n",
       "13 2018.AP-CPE-NCD-NCI 2018 AP-CPE-NCD-NCI   0         269    \n",
       "14 2018.CI             2018 CI               0         550    \n",
       "15 2008.DCA-NPSI       2008 DCA-NPSI         0         269    \n",
       "16 2009.DCA-NPSI       2009 DCA-NPSI         0          26    \n",
       "17 2013.FLPTP          2013 FLPTP            0           2    \n",
       "18 1994.LIFED          1994 LIFED            0         217    \n",
       "19 1996.LIFED          1996 LIFED            0         979    \n",
       "20 2009.SDPSE          2009 SDPSE            0          80    \n",
       "   perc_of_populist_toks standardized_perc_of_populist_toks\n",
       "1  0.001978611           -0.9606726                        \n",
       "2  0.001832860           -1.0701545                        \n",
       "3  0.001827318           -1.0743171                        \n",
       "4  0.001804156           -1.0917159                        \n",
       "5  0.001761487           -1.1237667                        \n",
       "6  0.001752303           -1.1306650                        \n",
       "7  0.001735402           -1.1433605                        \n",
       "8  0.001694628           -1.1739882                        \n",
       "9  0.001604278           -1.2418551                        \n",
       "10 0.001473477           -1.3401067                        \n",
       "11 0.001435354           -1.3687434                        \n",
       "12 0.001424163           -1.3771493                        \n",
       "13 0.000000000           -2.4469172                        \n",
       "14 0.000000000           -2.4469172                        \n",
       "15 0.000000000           -2.4469172                        \n",
       "16 0.000000000           -2.4469172                        \n",
       "17 0.000000000           -2.4469172                        \n",
       "18 0.000000000           -2.4469172                        \n",
       "19 0.000000000           -2.4469172                        \n",
       "20 0.000000000           -2.4469172                        "
      ]
     },
     "metadata": {},
     "output_type": "display_data"
    }
   ],
   "source": [
    "df_g %>% \n",
    "arrange(desc(standardized_perc_of_populist_toks)) %>% \n",
    "tail(20)"
   ]
  },
  {
   "cell_type": "markdown",
   "id": "79145bd2",
   "metadata": {},
   "source": [
    "## External validity"
   ]
  },
  {
   "cell_type": "markdown",
   "id": "49f0f26f",
   "metadata": {},
   "source": [
    "### CHES dataset"
   ]
  },
  {
   "cell_type": "markdown",
   "id": "d1822ffa",
   "metadata": {},
   "source": [
    "Like Decadri and Boussalis' dictionary, Grundl's captures both dimensions of populism. We will thus validate it against the \"anti-élite salience\" and \"people_vs_élite\" variables from the CHES dataset. The \"people_vs_élite\" variable has been introduced in the 2019 edition of the dataset, so we'll only work with observations from that year."
   ]
  },
  {
   "cell_type": "markdown",
   "id": "35853092",
   "metadata": {},
   "source": [
    "Let's compute the average populist value for each party in the CHES dataset by summing the people vs elite and the anti-elite salience variables and then taking the mean. \"Radicali Italiani\" and \"Südtiroler Volkspartei\" are not in our dataset so we'll drop them from CHES."
   ]
  },
  {
   "cell_type": "code",
   "execution_count": 53,
   "id": "56efa43d",
   "metadata": {},
   "outputs": [
    {
     "data": {
      "text/html": [
       "<table class=\"dataframe\">\n",
       "<caption>A tibble: 6 × 2</caption>\n",
       "<thead>\n",
       "\t<tr><th scope=col>party</th><th scope=col>mean_populism</th></tr>\n",
       "\t<tr><th scope=col>&lt;chr&gt;</th><th scope=col>&lt;dbl&gt;</th></tr>\n",
       "</thead>\n",
       "<tbody>\n",
       "\t<tr><td>M5S</td><td>18.418301</td></tr>\n",
       "\t<tr><td>LN </td><td>15.270833</td></tr>\n",
       "\t<tr><td>FdI</td><td>14.625000</td></tr>\n",
       "\t<tr><td>FI </td><td> 8.243137</td></tr>\n",
       "\t<tr><td>SI </td><td> 6.452381</td></tr>\n",
       "\t<tr><td>PD </td><td> 3.944853</td></tr>\n",
       "</tbody>\n",
       "</table>\n"
      ],
      "text/latex": [
       "A tibble: 6 × 2\n",
       "\\begin{tabular}{ll}\n",
       " party & mean\\_populism\\\\\n",
       " <chr> & <dbl>\\\\\n",
       "\\hline\n",
       "\t M5S & 18.418301\\\\\n",
       "\t LN  & 15.270833\\\\\n",
       "\t FdI & 14.625000\\\\\n",
       "\t FI  &  8.243137\\\\\n",
       "\t SI  &  6.452381\\\\\n",
       "\t PD  &  3.944853\\\\\n",
       "\\end{tabular}\n"
      ],
      "text/markdown": [
       "\n",
       "A tibble: 6 × 2\n",
       "\n",
       "| party &lt;chr&gt; | mean_populism &lt;dbl&gt; |\n",
       "|---|---|\n",
       "| M5S | 18.418301 |\n",
       "| LN  | 15.270833 |\n",
       "| FdI | 14.625000 |\n",
       "| FI  |  8.243137 |\n",
       "| SI  |  6.452381 |\n",
       "| PD  |  3.944853 |\n",
       "\n"
      ],
      "text/plain": [
       "  party mean_populism\n",
       "1 M5S   18.418301    \n",
       "2 LN    15.270833    \n",
       "3 FdI   14.625000    \n",
       "4 FI     8.243137    \n",
       "5 SI     6.452381    \n",
       "6 PD     3.944853    "
      ]
     },
     "metadata": {},
     "output_type": "display_data"
    }
   ],
   "source": [
    "to_drop <- c(\"RI\", \"SVP\")\n",
    "\n",
    "ches %>% \n",
    "filter(country == 8 & year == 2019 & (!party %in% to_drop)) %>% \n",
    "group_by(party) %>% \n",
    "summarize(mean_populism = mean(people_vs_elite + antielite_salience)) %>% \n",
    "arrange(desc(mean_populism))"
   ]
  },
  {
   "cell_type": "markdown",
   "id": "86b737fb",
   "metadata": {},
   "source": [
    "The two rankings are rather different. According to CHES, M5S and Lega rank as the two most populist parties, whereas in the results of the dictionary analysis they turned out to be the least populist ones."
   ]
  },
  {
   "cell_type": "code",
   "execution_count": 54,
   "id": "42d66c48",
   "metadata": {},
   "outputs": [
    {
     "data": {
      "text/html": [
       "<table class=\"dataframe\">\n",
       "<caption>A tibble: 6 × 7</caption>\n",
       "<thead>\n",
       "\t<tr><th scope=col>doc_id</th><th scope=col>year</th><th scope=col>party</th><th scope=col>populism</th><th scope=col>total_toks</th><th scope=col>perc_of_populist_toks</th><th scope=col>standardized_perc_of_populist_toks</th></tr>\n",
       "\t<tr><th scope=col>&lt;chr&gt;</th><th scope=col>&lt;int&gt;</th><th scope=col>&lt;chr&gt;</th><th scope=col>&lt;dbl&gt;</th><th scope=col>&lt;int&gt;</th><th scope=col>&lt;dbl&gt;</th><th scope=col>&lt;dbl&gt;</th></tr>\n",
       "</thead>\n",
       "<tbody>\n",
       "\t<tr><td>2019.PD-ULIVO-DS</td><td>2019</td><td>PD-ULIVO-DS</td><td>2334</td><td>557509</td><td>0.004186480</td><td> 0.69777935</td></tr>\n",
       "\t<tr><td>2019.FI-PDL     </td><td>2019</td><td>FI-PDL     </td><td>2222</td><td>533560</td><td>0.004164480</td><td> 0.68125438</td></tr>\n",
       "\t<tr><td>2019.FDI        </td><td>2019</td><td>FDI        </td><td>1031</td><td>262423</td><td>0.003928771</td><td> 0.50420060</td></tr>\n",
       "\t<tr><td>2019.LEU        </td><td>2019</td><td>LEU        </td><td> 188</td><td> 53261</td><td>0.003529787</td><td> 0.20450147</td></tr>\n",
       "\t<tr><td>2019.LEGA       </td><td>2019</td><td>LEGA       </td><td> 706</td><td>214370</td><td>0.003293371</td><td> 0.02691632</td></tr>\n",
       "\t<tr><td>2019.M5S        </td><td>2019</td><td>M5S        </td><td>1587</td><td>509145</td><td>0.003116990</td><td>-0.10557323</td></tr>\n",
       "</tbody>\n",
       "</table>\n"
      ],
      "text/latex": [
       "A tibble: 6 × 7\n",
       "\\begin{tabular}{lllllll}\n",
       " doc\\_id & year & party & populism & total\\_toks & perc\\_of\\_populist\\_toks & standardized\\_perc\\_of\\_populist\\_toks\\\\\n",
       " <chr> & <int> & <chr> & <dbl> & <int> & <dbl> & <dbl>\\\\\n",
       "\\hline\n",
       "\t 2019.PD-ULIVO-DS & 2019 & PD-ULIVO-DS & 2334 & 557509 & 0.004186480 &  0.69777935\\\\\n",
       "\t 2019.FI-PDL      & 2019 & FI-PDL      & 2222 & 533560 & 0.004164480 &  0.68125438\\\\\n",
       "\t 2019.FDI         & 2019 & FDI         & 1031 & 262423 & 0.003928771 &  0.50420060\\\\\n",
       "\t 2019.LEU         & 2019 & LEU         &  188 &  53261 & 0.003529787 &  0.20450147\\\\\n",
       "\t 2019.LEGA        & 2019 & LEGA        &  706 & 214370 & 0.003293371 &  0.02691632\\\\\n",
       "\t 2019.M5S         & 2019 & M5S         & 1587 & 509145 & 0.003116990 & -0.10557323\\\\\n",
       "\\end{tabular}\n"
      ],
      "text/markdown": [
       "\n",
       "A tibble: 6 × 7\n",
       "\n",
       "| doc_id &lt;chr&gt; | year &lt;int&gt; | party &lt;chr&gt; | populism &lt;dbl&gt; | total_toks &lt;int&gt; | perc_of_populist_toks &lt;dbl&gt; | standardized_perc_of_populist_toks &lt;dbl&gt; |\n",
       "|---|---|---|---|---|---|---|\n",
       "| 2019.PD-ULIVO-DS | 2019 | PD-ULIVO-DS | 2334 | 557509 | 0.004186480 |  0.69777935 |\n",
       "| 2019.FI-PDL      | 2019 | FI-PDL      | 2222 | 533560 | 0.004164480 |  0.68125438 |\n",
       "| 2019.FDI         | 2019 | FDI         | 1031 | 262423 | 0.003928771 |  0.50420060 |\n",
       "| 2019.LEU         | 2019 | LEU         |  188 |  53261 | 0.003529787 |  0.20450147 |\n",
       "| 2019.LEGA        | 2019 | LEGA        |  706 | 214370 | 0.003293371 |  0.02691632 |\n",
       "| 2019.M5S         | 2019 | M5S         | 1587 | 509145 | 0.003116990 | -0.10557323 |\n",
       "\n"
      ],
      "text/plain": [
       "  doc_id           year party       populism total_toks perc_of_populist_toks\n",
       "1 2019.PD-ULIVO-DS 2019 PD-ULIVO-DS 2334     557509     0.004186480          \n",
       "2 2019.FI-PDL      2019 FI-PDL      2222     533560     0.004164480          \n",
       "3 2019.FDI         2019 FDI         1031     262423     0.003928771          \n",
       "4 2019.LEU         2019 LEU          188      53261     0.003529787          \n",
       "5 2019.LEGA        2019 LEGA         706     214370     0.003293371          \n",
       "6 2019.M5S         2019 M5S         1587     509145     0.003116990          \n",
       "  standardized_perc_of_populist_toks\n",
       "1  0.69777935                       \n",
       "2  0.68125438                       \n",
       "3  0.50420060                       \n",
       "4  0.20450147                       \n",
       "5  0.02691632                       \n",
       "6 -0.10557323                       "
      ]
     },
     "metadata": {},
     "output_type": "display_data"
    }
   ],
   "source": [
    "to_drop <- c(\"IV\", \"MISTO\")\n",
    "\n",
    "df_g %>% \n",
    "filter(year == 2019 & (! party %in% to_drop)) %>% \n",
    "arrange(desc(perc_of_populist_toks))"
   ]
  },
  {
   "cell_type": "markdown",
   "id": "9ec62c81",
   "metadata": {},
   "source": [
    "### The PopuList"
   ]
  },
  {
   "cell_type": "markdown",
   "id": "85865843",
   "metadata": {},
   "source": [
    "Lega, M5S, FI-PDL and FDI rank among the most populist parties according to Grundl's dictionary. All these parties are labeled as populist in the PopuList dataset. However, Grundl's dictionary also assigns high populist scores to parties such as RC and SI-SEL-POS-LU which have been coded as non-populist by the PopuList. The two measures can thus be considered to be mostly similar."
   ]
  },
  {
   "cell_type": "code",
   "execution_count": 55,
   "id": "48eb6924",
   "metadata": {},
   "outputs": [
    {
     "data": {
      "text/html": [
       "<table class=\"dataframe\">\n",
       "<caption>A tibble: 13 × 2</caption>\n",
       "<thead>\n",
       "\t<tr><th scope=col>party_name</th><th scope=col>populist</th></tr>\n",
       "\t<tr><th scope=col>&lt;chr&gt;</th><th scope=col>&lt;dbl&gt;</th></tr>\n",
       "</thead>\n",
       "<tbody>\n",
       "\t<tr><td>Forza Italia – Il Popolo della Libertà    </td><td>1</td></tr>\n",
       "\t<tr><td>Fratelli d'Italia – Centrodestra Nazionale</td><td>1</td></tr>\n",
       "\t<tr><td>Il Popolo della Libertà                   </td><td>1</td></tr>\n",
       "\t<tr><td>Lega (Nord)                               </td><td>1</td></tr>\n",
       "\t<tr><td>Lega d'Azione Meridionale                 </td><td>1</td></tr>\n",
       "\t<tr><td>Liga Veneta                               </td><td>1</td></tr>\n",
       "\t<tr><td>Movimento 5 Stelle                        </td><td>1</td></tr>\n",
       "\t<tr><td>Fiamma Tricolore                          </td><td>0</td></tr>\n",
       "\t<tr><td>Movimento Sociale Italiano                </td><td>0</td></tr>\n",
       "\t<tr><td>Partito dei Comunisti Italiani            </td><td>0</td></tr>\n",
       "\t<tr><td>Partito della Rifondazione Comunista      </td><td>0</td></tr>\n",
       "\t<tr><td>Rivoluzione Civile                        </td><td>0</td></tr>\n",
       "\t<tr><td>Sinistra                                  </td><td>0</td></tr>\n",
       "</tbody>\n",
       "</table>\n"
      ],
      "text/latex": [
       "A tibble: 13 × 2\n",
       "\\begin{tabular}{ll}\n",
       " party\\_name & populist\\\\\n",
       " <chr> & <dbl>\\\\\n",
       "\\hline\n",
       "\t Forza Italia – Il Popolo della Libertà     & 1\\\\\n",
       "\t Fratelli d'Italia – Centrodestra Nazionale & 1\\\\\n",
       "\t Il Popolo della Libertà                    & 1\\\\\n",
       "\t Lega (Nord)                                & 1\\\\\n",
       "\t Lega d'Azione Meridionale                  & 1\\\\\n",
       "\t Liga Veneta                                & 1\\\\\n",
       "\t Movimento 5 Stelle                         & 1\\\\\n",
       "\t Fiamma Tricolore                           & 0\\\\\n",
       "\t Movimento Sociale Italiano                 & 0\\\\\n",
       "\t Partito dei Comunisti Italiani             & 0\\\\\n",
       "\t Partito della Rifondazione Comunista       & 0\\\\\n",
       "\t Rivoluzione Civile                         & 0\\\\\n",
       "\t Sinistra                                   & 0\\\\\n",
       "\\end{tabular}\n"
      ],
      "text/markdown": [
       "\n",
       "A tibble: 13 × 2\n",
       "\n",
       "| party_name &lt;chr&gt; | populist &lt;dbl&gt; |\n",
       "|---|---|\n",
       "| Forza Italia – Il Popolo della Libertà     | 1 |\n",
       "| Fratelli d'Italia – Centrodestra Nazionale | 1 |\n",
       "| Il Popolo della Libertà                    | 1 |\n",
       "| Lega (Nord)                                | 1 |\n",
       "| Lega d'Azione Meridionale                  | 1 |\n",
       "| Liga Veneta                                | 1 |\n",
       "| Movimento 5 Stelle                         | 1 |\n",
       "| Fiamma Tricolore                           | 0 |\n",
       "| Movimento Sociale Italiano                 | 0 |\n",
       "| Partito dei Comunisti Italiani             | 0 |\n",
       "| Partito della Rifondazione Comunista       | 0 |\n",
       "| Rivoluzione Civile                         | 0 |\n",
       "| Sinistra                                   | 0 |\n",
       "\n"
      ],
      "text/plain": [
       "   party_name                                 populist\n",
       "1  Forza Italia – Il Popolo della Libertà     1       \n",
       "2  Fratelli d'Italia – Centrodestra Nazionale 1       \n",
       "3  Il Popolo della Libertà                    1       \n",
       "4  Lega (Nord)                                1       \n",
       "5  Lega d'Azione Meridionale                  1       \n",
       "6  Liga Veneta                                1       \n",
       "7  Movimento 5 Stelle                         1       \n",
       "8  Fiamma Tricolore                           0       \n",
       "9  Movimento Sociale Italiano                 0       \n",
       "10 Partito dei Comunisti Italiani             0       \n",
       "11 Partito della Rifondazione Comunista       0       \n",
       "12 Rivoluzione Civile                         0       \n",
       "13 Sinistra                                   0       "
      ]
     },
     "metadata": {},
     "output_type": "display_data"
    }
   ],
   "source": [
    "populist %>% \n",
    "filter(country_name == \"Italy\") %>%\n",
    "select(party_name, populist) %>% \n",
    "arrange(desc(populist))"
   ]
  },
  {
   "cell_type": "code",
   "execution_count": 56,
   "id": "2d87d7df",
   "metadata": {},
   "outputs": [
    {
     "data": {
      "text/html": [
       "<table class=\"dataframe\">\n",
       "<caption>A tibble: 20 × 7</caption>\n",
       "<thead>\n",
       "\t<tr><th scope=col>doc_id</th><th scope=col>year</th><th scope=col>party</th><th scope=col>populism</th><th scope=col>total_toks</th><th scope=col>perc_of_populist_toks</th><th scope=col>standardized_perc_of_populist_toks</th></tr>\n",
       "\t<tr><th scope=col>&lt;chr&gt;</th><th scope=col>&lt;int&gt;</th><th scope=col>&lt;chr&gt;</th><th scope=col>&lt;dbl&gt;</th><th scope=col>&lt;int&gt;</th><th scope=col>&lt;dbl&gt;</th><th scope=col>&lt;dbl&gt;</th></tr>\n",
       "</thead>\n",
       "<tbody>\n",
       "\t<tr><td>2004.RC           </td><td>2004</td><td>RC           </td><td> 426</td><td> 85224</td><td>0.004998592</td><td>1.3078020</td></tr>\n",
       "\t<tr><td>2000.LEGA         </td><td>2000</td><td>LEGA         </td><td>1382</td><td>293739</td><td>0.004704857</td><td>1.0871614</td></tr>\n",
       "\t<tr><td>2013.LEGA         </td><td>2013</td><td>LEGA         </td><td> 549</td><td>117234</td><td>0.004682942</td><td>1.0706997</td></tr>\n",
       "\t<tr><td>2005.RC           </td><td>2005</td><td>RC           </td><td> 249</td><td> 53397</td><td>0.004663183</td><td>1.0558580</td></tr>\n",
       "\t<tr><td>2014.LEGA         </td><td>2014</td><td>LEGA         </td><td> 690</td><td>148505</td><td>0.004646308</td><td>1.0431821</td></tr>\n",
       "\t<tr><td>2007.LEGA         </td><td>2007</td><td>LEGA         </td><td> 561</td><td>123611</td><td>0.004538431</td><td>0.9621496</td></tr>\n",
       "\t<tr><td>2002.RC           </td><td>2002</td><td>RC           </td><td> 365</td><td> 80873</td><td>0.004513249</td><td>0.9432341</td></tr>\n",
       "\t<tr><td>2015.M5S          </td><td>2015</td><td>M5S          </td><td>2307</td><td>527990</td><td>0.004369401</td><td>0.8351818</td></tr>\n",
       "\t<tr><td>2009.RC           </td><td>2009</td><td>RC           </td><td>   5</td><td>  1154</td><td>0.004332756</td><td>0.8076555</td></tr>\n",
       "\t<tr><td>2006.LEGA         </td><td>2006</td><td>LEGA         </td><td> 332</td><td> 77125</td><td>0.004304700</td><td>0.7865814</td></tr>\n",
       "\t<tr><td>2006.FI-PDL       </td><td>2006</td><td>FI-PDL       </td><td>1446</td><td>340503</td><td>0.004246659</td><td>0.7429832</td></tr>\n",
       "\t<tr><td>2014.FDI          </td><td>2014</td><td>FDI          </td><td> 217</td><td> 51695</td><td>0.004197698</td><td>0.7062062</td></tr>\n",
       "\t<tr><td>2019.FI-PDL       </td><td>2019</td><td>FI-PDL       </td><td>2222</td><td>533560</td><td>0.004164480</td><td>0.6812544</td></tr>\n",
       "\t<tr><td>1999.LEGA         </td><td>1999</td><td>LEGA         </td><td>1101</td><td>268145</td><td>0.004105987</td><td>0.6373173</td></tr>\n",
       "\t<tr><td>1994.RC           </td><td>1994</td><td>RC           </td><td> 803</td><td>196226</td><td>0.004092220</td><td>0.6269760</td></tr>\n",
       "\t<tr><td>2017.FDI          </td><td>2017</td><td>FDI          </td><td> 156</td><td> 38123</td><td>0.004092018</td><td>0.6268240</td></tr>\n",
       "\t<tr><td>2016.SI-SEL-POS-LU</td><td>2016</td><td>SI-SEL-POS-LU</td><td> 344</td><td> 84377</td><td>0.004076940</td><td>0.6154985</td></tr>\n",
       "\t<tr><td>2015.SI-SEL-POS-LU</td><td>2015</td><td>SI-SEL-POS-LU</td><td> 434</td><td>107081</td><td>0.004053007</td><td>0.5975205</td></tr>\n",
       "\t<tr><td>1998.LEGA         </td><td>1998</td><td>LEGA         </td><td> 872</td><td>215189</td><td>0.004052252</td><td>0.5969534</td></tr>\n",
       "\t<tr><td>2018.FDI          </td><td>2018</td><td>FDI          </td><td> 544</td><td>135424</td><td>0.004017013</td><td>0.5704839</td></tr>\n",
       "</tbody>\n",
       "</table>\n"
      ],
      "text/latex": [
       "A tibble: 20 × 7\n",
       "\\begin{tabular}{lllllll}\n",
       " doc\\_id & year & party & populism & total\\_toks & perc\\_of\\_populist\\_toks & standardized\\_perc\\_of\\_populist\\_toks\\\\\n",
       " <chr> & <int> & <chr> & <dbl> & <int> & <dbl> & <dbl>\\\\\n",
       "\\hline\n",
       "\t 2004.RC            & 2004 & RC            &  426 &  85224 & 0.004998592 & 1.3078020\\\\\n",
       "\t 2000.LEGA          & 2000 & LEGA          & 1382 & 293739 & 0.004704857 & 1.0871614\\\\\n",
       "\t 2013.LEGA          & 2013 & LEGA          &  549 & 117234 & 0.004682942 & 1.0706997\\\\\n",
       "\t 2005.RC            & 2005 & RC            &  249 &  53397 & 0.004663183 & 1.0558580\\\\\n",
       "\t 2014.LEGA          & 2014 & LEGA          &  690 & 148505 & 0.004646308 & 1.0431821\\\\\n",
       "\t 2007.LEGA          & 2007 & LEGA          &  561 & 123611 & 0.004538431 & 0.9621496\\\\\n",
       "\t 2002.RC            & 2002 & RC            &  365 &  80873 & 0.004513249 & 0.9432341\\\\\n",
       "\t 2015.M5S           & 2015 & M5S           & 2307 & 527990 & 0.004369401 & 0.8351818\\\\\n",
       "\t 2009.RC            & 2009 & RC            &    5 &   1154 & 0.004332756 & 0.8076555\\\\\n",
       "\t 2006.LEGA          & 2006 & LEGA          &  332 &  77125 & 0.004304700 & 0.7865814\\\\\n",
       "\t 2006.FI-PDL        & 2006 & FI-PDL        & 1446 & 340503 & 0.004246659 & 0.7429832\\\\\n",
       "\t 2014.FDI           & 2014 & FDI           &  217 &  51695 & 0.004197698 & 0.7062062\\\\\n",
       "\t 2019.FI-PDL        & 2019 & FI-PDL        & 2222 & 533560 & 0.004164480 & 0.6812544\\\\\n",
       "\t 1999.LEGA          & 1999 & LEGA          & 1101 & 268145 & 0.004105987 & 0.6373173\\\\\n",
       "\t 1994.RC            & 1994 & RC            &  803 & 196226 & 0.004092220 & 0.6269760\\\\\n",
       "\t 2017.FDI           & 2017 & FDI           &  156 &  38123 & 0.004092018 & 0.6268240\\\\\n",
       "\t 2016.SI-SEL-POS-LU & 2016 & SI-SEL-POS-LU &  344 &  84377 & 0.004076940 & 0.6154985\\\\\n",
       "\t 2015.SI-SEL-POS-LU & 2015 & SI-SEL-POS-LU &  434 & 107081 & 0.004053007 & 0.5975205\\\\\n",
       "\t 1998.LEGA          & 1998 & LEGA          &  872 & 215189 & 0.004052252 & 0.5969534\\\\\n",
       "\t 2018.FDI           & 2018 & FDI           &  544 & 135424 & 0.004017013 & 0.5704839\\\\\n",
       "\\end{tabular}\n"
      ],
      "text/markdown": [
       "\n",
       "A tibble: 20 × 7\n",
       "\n",
       "| doc_id &lt;chr&gt; | year &lt;int&gt; | party &lt;chr&gt; | populism &lt;dbl&gt; | total_toks &lt;int&gt; | perc_of_populist_toks &lt;dbl&gt; | standardized_perc_of_populist_toks &lt;dbl&gt; |\n",
       "|---|---|---|---|---|---|---|\n",
       "| 2004.RC            | 2004 | RC            |  426 |  85224 | 0.004998592 | 1.3078020 |\n",
       "| 2000.LEGA          | 2000 | LEGA          | 1382 | 293739 | 0.004704857 | 1.0871614 |\n",
       "| 2013.LEGA          | 2013 | LEGA          |  549 | 117234 | 0.004682942 | 1.0706997 |\n",
       "| 2005.RC            | 2005 | RC            |  249 |  53397 | 0.004663183 | 1.0558580 |\n",
       "| 2014.LEGA          | 2014 | LEGA          |  690 | 148505 | 0.004646308 | 1.0431821 |\n",
       "| 2007.LEGA          | 2007 | LEGA          |  561 | 123611 | 0.004538431 | 0.9621496 |\n",
       "| 2002.RC            | 2002 | RC            |  365 |  80873 | 0.004513249 | 0.9432341 |\n",
       "| 2015.M5S           | 2015 | M5S           | 2307 | 527990 | 0.004369401 | 0.8351818 |\n",
       "| 2009.RC            | 2009 | RC            |    5 |   1154 | 0.004332756 | 0.8076555 |\n",
       "| 2006.LEGA          | 2006 | LEGA          |  332 |  77125 | 0.004304700 | 0.7865814 |\n",
       "| 2006.FI-PDL        | 2006 | FI-PDL        | 1446 | 340503 | 0.004246659 | 0.7429832 |\n",
       "| 2014.FDI           | 2014 | FDI           |  217 |  51695 | 0.004197698 | 0.7062062 |\n",
       "| 2019.FI-PDL        | 2019 | FI-PDL        | 2222 | 533560 | 0.004164480 | 0.6812544 |\n",
       "| 1999.LEGA          | 1999 | LEGA          | 1101 | 268145 | 0.004105987 | 0.6373173 |\n",
       "| 1994.RC            | 1994 | RC            |  803 | 196226 | 0.004092220 | 0.6269760 |\n",
       "| 2017.FDI           | 2017 | FDI           |  156 |  38123 | 0.004092018 | 0.6268240 |\n",
       "| 2016.SI-SEL-POS-LU | 2016 | SI-SEL-POS-LU |  344 |  84377 | 0.004076940 | 0.6154985 |\n",
       "| 2015.SI-SEL-POS-LU | 2015 | SI-SEL-POS-LU |  434 | 107081 | 0.004053007 | 0.5975205 |\n",
       "| 1998.LEGA          | 1998 | LEGA          |  872 | 215189 | 0.004052252 | 0.5969534 |\n",
       "| 2018.FDI           | 2018 | FDI           |  544 | 135424 | 0.004017013 | 0.5704839 |\n",
       "\n"
      ],
      "text/plain": [
       "   doc_id             year party         populism total_toks\n",
       "1  2004.RC            2004 RC             426      85224    \n",
       "2  2000.LEGA          2000 LEGA          1382     293739    \n",
       "3  2013.LEGA          2013 LEGA           549     117234    \n",
       "4  2005.RC            2005 RC             249      53397    \n",
       "5  2014.LEGA          2014 LEGA           690     148505    \n",
       "6  2007.LEGA          2007 LEGA           561     123611    \n",
       "7  2002.RC            2002 RC             365      80873    \n",
       "8  2015.M5S           2015 M5S           2307     527990    \n",
       "9  2009.RC            2009 RC               5       1154    \n",
       "10 2006.LEGA          2006 LEGA           332      77125    \n",
       "11 2006.FI-PDL        2006 FI-PDL        1446     340503    \n",
       "12 2014.FDI           2014 FDI            217      51695    \n",
       "13 2019.FI-PDL        2019 FI-PDL        2222     533560    \n",
       "14 1999.LEGA          1999 LEGA          1101     268145    \n",
       "15 1994.RC            1994 RC             803     196226    \n",
       "16 2017.FDI           2017 FDI            156      38123    \n",
       "17 2016.SI-SEL-POS-LU 2016 SI-SEL-POS-LU  344      84377    \n",
       "18 2015.SI-SEL-POS-LU 2015 SI-SEL-POS-LU  434     107081    \n",
       "19 1998.LEGA          1998 LEGA           872     215189    \n",
       "20 2018.FDI           2018 FDI            544     135424    \n",
       "   perc_of_populist_toks standardized_perc_of_populist_toks\n",
       "1  0.004998592           1.3078020                         \n",
       "2  0.004704857           1.0871614                         \n",
       "3  0.004682942           1.0706997                         \n",
       "4  0.004663183           1.0558580                         \n",
       "5  0.004646308           1.0431821                         \n",
       "6  0.004538431           0.9621496                         \n",
       "7  0.004513249           0.9432341                         \n",
       "8  0.004369401           0.8351818                         \n",
       "9  0.004332756           0.8076555                         \n",
       "10 0.004304700           0.7865814                         \n",
       "11 0.004246659           0.7429832                         \n",
       "12 0.004197698           0.7062062                         \n",
       "13 0.004164480           0.6812544                         \n",
       "14 0.004105987           0.6373173                         \n",
       "15 0.004092220           0.6269760                         \n",
       "16 0.004092018           0.6268240                         \n",
       "17 0.004076940           0.6154985                         \n",
       "18 0.004053007           0.5975205                         \n",
       "19 0.004052252           0.5969534                         \n",
       "20 0.004017013           0.5704839                         "
      ]
     },
     "metadata": {},
     "output_type": "display_data"
    }
   ],
   "source": [
    "to_keep <- c(\"FI-PDL\", \"FDI\", \"LEGA\", \"M5S\", \"RC-PROGR\", \"RC\", \"COM/IT/\", \"RC-SE\", \"SI-SEL-POS-LU\")\n",
    "\n",
    "df_g %>% \n",
    "filter(party %in% to_keep) %>% \n",
    "arrange(desc(perc_of_populist_toks)) %>% \n",
    "head(20)"
   ]
  },
  {
   "cell_type": "markdown",
   "id": "895a7765",
   "metadata": {},
   "source": [
    "# Decadri and Boussalis (Manifesto Project) <a class=\"anchor\" id=\"chapter8\"></a>"
   ]
  },
  {
   "cell_type": "markdown",
   "id": "1247818b",
   "metadata": {},
   "source": [
    "Running the dictionary analysis on the Manifesto Project dataset with Decadri and Boussalis' dictionary"
   ]
  },
  {
   "cell_type": "code",
   "execution_count": 57,
   "id": "5fa56082",
   "metadata": {},
   "outputs": [
    {
     "data": {
      "text/html": [
       "<table class=\"dataframe\">\n",
       "<caption>A tibble: 10 × 7</caption>\n",
       "<thead>\n",
       "\t<tr><th scope=col>party</th><th scope=col>anti_elitism</th><th scope=col>people_centrism</th><th scope=col>total_toks</th><th scope=col>populist_toks</th><th scope=col>perc_of_populist_toks</th><th scope=col>standardized_perc_of_populist_toks</th></tr>\n",
       "\t<tr><th scope=col>&lt;chr&gt;</th><th scope=col>&lt;dbl&gt;</th><th scope=col>&lt;dbl&gt;</th><th scope=col>&lt;int&gt;</th><th scope=col>&lt;dbl&gt;</th><th scope=col>&lt;dbl&gt;</th><th scope=col>&lt;dbl&gt;</th></tr>\n",
       "</thead>\n",
       "<tbody>\n",
       "\t<tr><td>UDC    </td><td> 4</td><td> 51</td><td>  8738</td><td> 55</td><td>0.006294347</td><td> 2.0371665</td></tr>\n",
       "\t<tr><td>FI     </td><td> 5</td><td>139</td><td> 29483</td><td>144</td><td>0.004884171</td><td> 0.8311817</td></tr>\n",
       "\t<tr><td>FDI-CDN</td><td> 6</td><td> 57</td><td> 13480</td><td> 63</td><td>0.004673591</td><td> 0.6510933</td></tr>\n",
       "\t<tr><td>LN     </td><td>20</td><td>398</td><td> 97142</td><td>418</td><td>0.004302979</td><td> 0.3341459</td></tr>\n",
       "\t<tr><td>PdL    </td><td> 1</td><td> 24</td><td>  6719</td><td> 25</td><td>0.003720792</td><td>-0.1637417</td></tr>\n",
       "\t<tr><td>SC     </td><td> 2</td><td> 27</td><td>  8385</td><td> 29</td><td>0.003458557</td><td>-0.3880054</td></tr>\n",
       "\t<tr><td>M5S    </td><td>28</td><td>563</td><td>172008</td><td>591</td><td>0.003435887</td><td>-0.4073930</td></tr>\n",
       "\t<tr><td>SEL    </td><td> 7</td><td> 48</td><td> 16357</td><td> 55</td><td>0.003362475</td><td>-0.4701750</td></tr>\n",
       "\t<tr><td>PD     </td><td> 4</td><td> 84</td><td> 31632</td><td> 88</td><td>0.002781993</td><td>-0.9666040</td></tr>\n",
       "\t<tr><td>CD     </td><td> 1</td><td> 34</td><td> 15853</td><td> 35</td><td>0.002207784</td><td>-1.4576684</td></tr>\n",
       "</tbody>\n",
       "</table>\n"
      ],
      "text/latex": [
       "A tibble: 10 × 7\n",
       "\\begin{tabular}{lllllll}\n",
       " party & anti\\_elitism & people\\_centrism & total\\_toks & populist\\_toks & perc\\_of\\_populist\\_toks & standardized\\_perc\\_of\\_populist\\_toks\\\\\n",
       " <chr> & <dbl> & <dbl> & <int> & <dbl> & <dbl> & <dbl>\\\\\n",
       "\\hline\n",
       "\t UDC     &  4 &  51 &   8738 &  55 & 0.006294347 &  2.0371665\\\\\n",
       "\t FI      &  5 & 139 &  29483 & 144 & 0.004884171 &  0.8311817\\\\\n",
       "\t FDI-CDN &  6 &  57 &  13480 &  63 & 0.004673591 &  0.6510933\\\\\n",
       "\t LN      & 20 & 398 &  97142 & 418 & 0.004302979 &  0.3341459\\\\\n",
       "\t PdL     &  1 &  24 &   6719 &  25 & 0.003720792 & -0.1637417\\\\\n",
       "\t SC      &  2 &  27 &   8385 &  29 & 0.003458557 & -0.3880054\\\\\n",
       "\t M5S     & 28 & 563 & 172008 & 591 & 0.003435887 & -0.4073930\\\\\n",
       "\t SEL     &  7 &  48 &  16357 &  55 & 0.003362475 & -0.4701750\\\\\n",
       "\t PD      &  4 &  84 &  31632 &  88 & 0.002781993 & -0.9666040\\\\\n",
       "\t CD      &  1 &  34 &  15853 &  35 & 0.002207784 & -1.4576684\\\\\n",
       "\\end{tabular}\n"
      ],
      "text/markdown": [
       "\n",
       "A tibble: 10 × 7\n",
       "\n",
       "| party &lt;chr&gt; | anti_elitism &lt;dbl&gt; | people_centrism &lt;dbl&gt; | total_toks &lt;int&gt; | populist_toks &lt;dbl&gt; | perc_of_populist_toks &lt;dbl&gt; | standardized_perc_of_populist_toks &lt;dbl&gt; |\n",
       "|---|---|---|---|---|---|---|\n",
       "| UDC     |  4 |  51 |   8738 |  55 | 0.006294347 |  2.0371665 |\n",
       "| FI      |  5 | 139 |  29483 | 144 | 0.004884171 |  0.8311817 |\n",
       "| FDI-CDN |  6 |  57 |  13480 |  63 | 0.004673591 |  0.6510933 |\n",
       "| LN      | 20 | 398 |  97142 | 418 | 0.004302979 |  0.3341459 |\n",
       "| PdL     |  1 |  24 |   6719 |  25 | 0.003720792 | -0.1637417 |\n",
       "| SC      |  2 |  27 |   8385 |  29 | 0.003458557 | -0.3880054 |\n",
       "| M5S     | 28 | 563 | 172008 | 591 | 0.003435887 | -0.4073930 |\n",
       "| SEL     |  7 |  48 |  16357 |  55 | 0.003362475 | -0.4701750 |\n",
       "| PD      |  4 |  84 |  31632 |  88 | 0.002781993 | -0.9666040 |\n",
       "| CD      |  1 |  34 |  15853 |  35 | 0.002207784 | -1.4576684 |\n",
       "\n"
      ],
      "text/plain": [
       "   party   anti_elitism people_centrism total_toks populist_toks\n",
       "1  UDC      4            51               8738      55          \n",
       "2  FI       5           139              29483     144          \n",
       "3  FDI-CDN  6            57              13480      63          \n",
       "4  LN      20           398              97142     418          \n",
       "5  PdL      1            24               6719      25          \n",
       "6  SC       2            27               8385      29          \n",
       "7  M5S     28           563             172008     591          \n",
       "8  SEL      7            48              16357      55          \n",
       "9  PD       4            84              31632      88          \n",
       "10 CD       1            34              15853      35          \n",
       "   perc_of_populist_toks standardized_perc_of_populist_toks\n",
       "1  0.006294347            2.0371665                        \n",
       "2  0.004884171            0.8311817                        \n",
       "3  0.004673591            0.6510933                        \n",
       "4  0.004302979            0.3341459                        \n",
       "5  0.003720792           -0.1637417                        \n",
       "6  0.003458557           -0.3880054                        \n",
       "7  0.003435887           -0.4073930                        \n",
       "8  0.003362475           -0.4701750                        \n",
       "9  0.002781993           -0.9666040                        \n",
       "10 0.002207784           -1.4576684                        "
      ]
     },
     "metadata": {},
     "output_type": "display_data"
    }
   ],
   "source": [
    "dict_analysis(tokens = manifesto_toks, data = \"manifesto\", dictionary = \"Decadri_Boussalis\")"
   ]
  },
  {
   "cell_type": "markdown",
   "id": "67702d79",
   "metadata": {},
   "source": [
    "# Decadri and Boussalis + Grundl (Manifesto Project) <a class=\"anchor\" id=\"chapter9\"></a>"
   ]
  },
  {
   "cell_type": "code",
   "execution_count": 58,
   "id": "97940227",
   "metadata": {},
   "outputs": [
    {
     "data": {
      "text/html": [
       "<table class=\"dataframe\">\n",
       "<caption>A tibble: 10 × 6</caption>\n",
       "<thead>\n",
       "\t<tr><th scope=col>party</th><th scope=col>people</th><th scope=col>common_will</th><th scope=col>elite</th><th scope=col>perc_of_populist_toks</th><th scope=col>standardized_perc_of_populist_toks</th></tr>\n",
       "\t<tr><th scope=col>&lt;chr&gt;</th><th scope=col>&lt;dbl&gt;</th><th scope=col>&lt;dbl&gt;</th><th scope=col>&lt;dbl&gt;</th><th scope=col>&lt;dbl&gt;</th><th scope=col>&lt;dbl&gt;</th></tr>\n",
       "</thead>\n",
       "<tbody>\n",
       "\t<tr><td>UDC    </td><td> 39</td><td> 1</td><td> 6</td><td>0.005264363</td><td> 1.58512818</td></tr>\n",
       "\t<tr><td>FI     </td><td>136</td><td> 0</td><td>13</td><td>0.005053760</td><td> 1.32532924</td></tr>\n",
       "\t<tr><td>FDI-CDN</td><td> 49</td><td> 0</td><td>10</td><td>0.004376855</td><td> 0.49030101</td></tr>\n",
       "\t<tr><td>LN     </td><td>379</td><td>12</td><td>33</td><td>0.004364744</td><td> 0.47536189</td></tr>\n",
       "\t<tr><td>SC     </td><td> 27</td><td> 0</td><td> 7</td><td>0.004054860</td><td> 0.09308926</td></tr>\n",
       "\t<tr><td>SEL    </td><td> 47</td><td> 2</td><td>14</td><td>0.003851562</td><td>-0.15769835</td></tr>\n",
       "\t<tr><td>M5S    </td><td>538</td><td>37</td><td>58</td><td>0.003680061</td><td>-0.36926102</td></tr>\n",
       "\t<tr><td>PdL    </td><td> 21</td><td> 0</td><td> 1</td><td>0.003274297</td><td>-0.86981105</td></tr>\n",
       "\t<tr><td>PD     </td><td> 82</td><td> 5</td><td> 9</td><td>0.003034901</td><td>-1.16512851</td></tr>\n",
       "\t<tr><td>CD     </td><td> 33</td><td> 1</td><td>11</td><td>0.002838579</td><td>-1.40731064</td></tr>\n",
       "</tbody>\n",
       "</table>\n"
      ],
      "text/latex": [
       "A tibble: 10 × 6\n",
       "\\begin{tabular}{llllll}\n",
       " party & people & common\\_will & elite & perc\\_of\\_populist\\_toks & standardized\\_perc\\_of\\_populist\\_toks\\\\\n",
       " <chr> & <dbl> & <dbl> & <dbl> & <dbl> & <dbl>\\\\\n",
       "\\hline\n",
       "\t UDC     &  39 &  1 &  6 & 0.005264363 &  1.58512818\\\\\n",
       "\t FI      & 136 &  0 & 13 & 0.005053760 &  1.32532924\\\\\n",
       "\t FDI-CDN &  49 &  0 & 10 & 0.004376855 &  0.49030101\\\\\n",
       "\t LN      & 379 & 12 & 33 & 0.004364744 &  0.47536189\\\\\n",
       "\t SC      &  27 &  0 &  7 & 0.004054860 &  0.09308926\\\\\n",
       "\t SEL     &  47 &  2 & 14 & 0.003851562 & -0.15769835\\\\\n",
       "\t M5S     & 538 & 37 & 58 & 0.003680061 & -0.36926102\\\\\n",
       "\t PdL     &  21 &  0 &  1 & 0.003274297 & -0.86981105\\\\\n",
       "\t PD      &  82 &  5 &  9 & 0.003034901 & -1.16512851\\\\\n",
       "\t CD      &  33 &  1 & 11 & 0.002838579 & -1.40731064\\\\\n",
       "\\end{tabular}\n"
      ],
      "text/markdown": [
       "\n",
       "A tibble: 10 × 6\n",
       "\n",
       "| party &lt;chr&gt; | people &lt;dbl&gt; | common_will &lt;dbl&gt; | elite &lt;dbl&gt; | perc_of_populist_toks &lt;dbl&gt; | standardized_perc_of_populist_toks &lt;dbl&gt; |\n",
       "|---|---|---|---|---|---|\n",
       "| UDC     |  39 |  1 |  6 | 0.005264363 |  1.58512818 |\n",
       "| FI      | 136 |  0 | 13 | 0.005053760 |  1.32532924 |\n",
       "| FDI-CDN |  49 |  0 | 10 | 0.004376855 |  0.49030101 |\n",
       "| LN      | 379 | 12 | 33 | 0.004364744 |  0.47536189 |\n",
       "| SC      |  27 |  0 |  7 | 0.004054860 |  0.09308926 |\n",
       "| SEL     |  47 |  2 | 14 | 0.003851562 | -0.15769835 |\n",
       "| M5S     | 538 | 37 | 58 | 0.003680061 | -0.36926102 |\n",
       "| PdL     |  21 |  0 |  1 | 0.003274297 | -0.86981105 |\n",
       "| PD      |  82 |  5 |  9 | 0.003034901 | -1.16512851 |\n",
       "| CD      |  33 |  1 | 11 | 0.002838579 | -1.40731064 |\n",
       "\n"
      ],
      "text/plain": [
       "   party   people common_will elite perc_of_populist_toks\n",
       "1  UDC      39     1           6    0.005264363          \n",
       "2  FI      136     0          13    0.005053760          \n",
       "3  FDI-CDN  49     0          10    0.004376855          \n",
       "4  LN      379    12          33    0.004364744          \n",
       "5  SC       27     0           7    0.004054860          \n",
       "6  SEL      47     2          14    0.003851562          \n",
       "7  M5S     538    37          58    0.003680061          \n",
       "8  PdL      21     0           1    0.003274297          \n",
       "9  PD       82     5           9    0.003034901          \n",
       "10 CD       33     1          11    0.002838579          \n",
       "   standardized_perc_of_populist_toks\n",
       "1   1.58512818                       \n",
       "2   1.32532924                       \n",
       "3   0.49030101                       \n",
       "4   0.47536189                       \n",
       "5   0.09308926                       \n",
       "6  -0.15769835                       \n",
       "7  -0.36926102                       \n",
       "8  -0.86981105                       \n",
       "9  -1.16512851                       \n",
       "10 -1.40731064                       "
      ]
     },
     "metadata": {},
     "output_type": "display_data"
    }
   ],
   "source": [
    "dict_analysis(tokens = manifesto_toks, data = \"manifesto\", dictionary = \"Decadri_Boussalis_Grundl\")"
   ]
  },
  {
   "cell_type": "markdown",
   "id": "830b4f14",
   "metadata": {},
   "source": [
    "# Keywords in context <a class=\"anchor\" id=\"chapter10\"></a>"
   ]
  },
  {
   "cell_type": "markdown",
   "id": "81f2b894",
   "metadata": {},
   "source": [
    "puzza sotto il naso"
   ]
  },
  {
   "cell_type": "code",
   "execution_count": 59,
   "id": "5b452e91",
   "metadata": {},
   "outputs": [
    {
     "data": {
      "text/html": [
       "<table class=\"dataframe\">\n",
       "<caption>A kwic: 0 × 7</caption>\n",
       "<thead>\n",
       "\t<tr><th scope=col>docname</th><th scope=col>from</th><th scope=col>to</th><th scope=col>pre</th><th scope=col>keyword</th><th scope=col>post</th><th scope=col>pattern</th></tr>\n",
       "\t<tr><th scope=col>&lt;chr&gt;</th><th scope=col>&lt;int&gt;</th><th scope=col>&lt;int&gt;</th><th scope=col>&lt;chr&gt;</th><th scope=col>&lt;chr&gt;</th><th scope=col>&lt;chr&gt;</th><th scope=col>&lt;fct&gt;</th></tr>\n",
       "</thead>\n",
       "<tbody>\n",
       "</tbody>\n",
       "</table>\n"
      ],
      "text/latex": [
       "A kwic: 0 × 7\n",
       "\\begin{tabular}{lllllll}\n",
       " docname & from & to & pre & keyword & post & pattern\\\\\n",
       " <chr> & <int> & <int> & <chr> & <chr> & <chr> & <fct>\\\\\n",
       "\\hline\n",
       "\\end{tabular}\n"
      ],
      "text/markdown": [
       "\n",
       "A kwic: 0 × 7\n",
       "\n",
       "| docname &lt;chr&gt; | from &lt;int&gt; | to &lt;int&gt; | pre &lt;chr&gt; | keyword &lt;chr&gt; | post &lt;chr&gt; | pattern &lt;fct&gt; |\n",
       "|---|---|---|---|---|---|---|\n",
       "\n"
      ],
      "text/plain": [
       "     docname from to pre keyword post pattern"
      ]
     },
     "metadata": {},
     "output_type": "display_data"
    }
   ],
   "source": [
    "kwic(x = manifesto_toks, pattern = phrase(\"puzza sotto il naso\"))"
   ]
  },
  {
   "cell_type": "markdown",
   "id": "4556d232",
   "metadata": {},
   "source": [
    "senso di superiorita"
   ]
  },
  {
   "cell_type": "code",
   "execution_count": 60,
   "id": "9a412edc",
   "metadata": {},
   "outputs": [
    {
     "data": {
      "text/html": [
       "<table class=\"dataframe\">\n",
       "<caption>A kwic: 0 × 7</caption>\n",
       "<thead>\n",
       "\t<tr><th scope=col>docname</th><th scope=col>from</th><th scope=col>to</th><th scope=col>pre</th><th scope=col>keyword</th><th scope=col>post</th><th scope=col>pattern</th></tr>\n",
       "\t<tr><th scope=col>&lt;chr&gt;</th><th scope=col>&lt;int&gt;</th><th scope=col>&lt;int&gt;</th><th scope=col>&lt;chr&gt;</th><th scope=col>&lt;chr&gt;</th><th scope=col>&lt;chr&gt;</th><th scope=col>&lt;fct&gt;</th></tr>\n",
       "</thead>\n",
       "<tbody>\n",
       "</tbody>\n",
       "</table>\n"
      ],
      "text/latex": [
       "A kwic: 0 × 7\n",
       "\\begin{tabular}{lllllll}\n",
       " docname & from & to & pre & keyword & post & pattern\\\\\n",
       " <chr> & <int> & <int> & <chr> & <chr> & <chr> & <fct>\\\\\n",
       "\\hline\n",
       "\\end{tabular}\n"
      ],
      "text/markdown": [
       "\n",
       "A kwic: 0 × 7\n",
       "\n",
       "| docname &lt;chr&gt; | from &lt;int&gt; | to &lt;int&gt; | pre &lt;chr&gt; | keyword &lt;chr&gt; | post &lt;chr&gt; | pattern &lt;fct&gt; |\n",
       "|---|---|---|---|---|---|---|\n",
       "\n"
      ],
      "text/plain": [
       "     docname from to pre keyword post pattern"
      ]
     },
     "metadata": {},
     "output_type": "display_data"
    }
   ],
   "source": [
    "kwic(x = manifesto_toks, pattern = phrase(\"senso di superiorita\"))"
   ]
  },
  {
   "cell_type": "markdown",
   "id": "e485457d",
   "metadata": {},
   "source": [
    "pezz? gross?"
   ]
  },
  {
   "cell_type": "code",
   "execution_count": 61,
   "id": "5ab7c26d",
   "metadata": {},
   "outputs": [
    {
     "data": {
      "text/html": [
       "<table class=\"dataframe\">\n",
       "<caption>A kwic: 0 × 7</caption>\n",
       "<thead>\n",
       "\t<tr><th scope=col>docname</th><th scope=col>from</th><th scope=col>to</th><th scope=col>pre</th><th scope=col>keyword</th><th scope=col>post</th><th scope=col>pattern</th></tr>\n",
       "\t<tr><th scope=col>&lt;chr&gt;</th><th scope=col>&lt;int&gt;</th><th scope=col>&lt;int&gt;</th><th scope=col>&lt;chr&gt;</th><th scope=col>&lt;chr&gt;</th><th scope=col>&lt;chr&gt;</th><th scope=col>&lt;fct&gt;</th></tr>\n",
       "</thead>\n",
       "<tbody>\n",
       "</tbody>\n",
       "</table>\n"
      ],
      "text/latex": [
       "A kwic: 0 × 7\n",
       "\\begin{tabular}{lllllll}\n",
       " docname & from & to & pre & keyword & post & pattern\\\\\n",
       " <chr> & <int> & <int> & <chr> & <chr> & <chr> & <fct>\\\\\n",
       "\\hline\n",
       "\\end{tabular}\n"
      ],
      "text/markdown": [
       "\n",
       "A kwic: 0 × 7\n",
       "\n",
       "| docname &lt;chr&gt; | from &lt;int&gt; | to &lt;int&gt; | pre &lt;chr&gt; | keyword &lt;chr&gt; | post &lt;chr&gt; | pattern &lt;fct&gt; |\n",
       "|---|---|---|---|---|---|---|\n",
       "\n"
      ],
      "text/plain": [
       "     docname from to pre keyword post pattern"
      ]
     },
     "metadata": {},
     "output_type": "display_data"
    }
   ],
   "source": [
    "kwic(x = manifesto_toks, pattern = phrase(\"pezz? gross?\"))"
   ]
  },
  {
   "cell_type": "markdown",
   "id": "1dc953ac",
   "metadata": {},
   "source": [
    "uomo della strada"
   ]
  },
  {
   "cell_type": "code",
   "execution_count": 62,
   "id": "cfa0feed",
   "metadata": {},
   "outputs": [
    {
     "data": {
      "text/html": [
       "<table class=\"dataframe\">\n",
       "<caption>A kwic: 0 × 7</caption>\n",
       "<thead>\n",
       "\t<tr><th scope=col>docname</th><th scope=col>from</th><th scope=col>to</th><th scope=col>pre</th><th scope=col>keyword</th><th scope=col>post</th><th scope=col>pattern</th></tr>\n",
       "\t<tr><th scope=col>&lt;chr&gt;</th><th scope=col>&lt;int&gt;</th><th scope=col>&lt;int&gt;</th><th scope=col>&lt;chr&gt;</th><th scope=col>&lt;chr&gt;</th><th scope=col>&lt;chr&gt;</th><th scope=col>&lt;fct&gt;</th></tr>\n",
       "</thead>\n",
       "<tbody>\n",
       "</tbody>\n",
       "</table>\n"
      ],
      "text/latex": [
       "A kwic: 0 × 7\n",
       "\\begin{tabular}{lllllll}\n",
       " docname & from & to & pre & keyword & post & pattern\\\\\n",
       " <chr> & <int> & <int> & <chr> & <chr> & <chr> & <fct>\\\\\n",
       "\\hline\n",
       "\\end{tabular}\n"
      ],
      "text/markdown": [
       "\n",
       "A kwic: 0 × 7\n",
       "\n",
       "| docname &lt;chr&gt; | from &lt;int&gt; | to &lt;int&gt; | pre &lt;chr&gt; | keyword &lt;chr&gt; | post &lt;chr&gt; | pattern &lt;fct&gt; |\n",
       "|---|---|---|---|---|---|---|\n",
       "\n"
      ],
      "text/plain": [
       "     docname from to pre keyword post pattern"
      ]
     },
     "metadata": {},
     "output_type": "display_data"
    }
   ],
   "source": [
    "kwic(x = manifesto_toks, pattern = phrase(\"uomo della strada\"))"
   ]
  },
  {
   "cell_type": "markdown",
   "id": "88c2a66d",
   "metadata": {},
   "source": [
    "democrazia diretta"
   ]
  },
  {
   "cell_type": "code",
   "execution_count": 63,
   "id": "a8f1d715",
   "metadata": {},
   "outputs": [
    {
     "data": {
      "text/html": [
       "<table class=\"dataframe\">\n",
       "<caption>A kwic: 5 × 7</caption>\n",
       "<thead>\n",
       "\t<tr><th></th><th scope=col>docname</th><th scope=col>from</th><th scope=col>to</th><th scope=col>pre</th><th scope=col>keyword</th><th scope=col>post</th><th scope=col>pattern</th></tr>\n",
       "\t<tr><th></th><th scope=col>&lt;chr&gt;</th><th scope=col>&lt;int&gt;</th><th scope=col>&lt;int&gt;</th><th scope=col>&lt;chr&gt;</th><th scope=col>&lt;chr&gt;</th><th scope=col>&lt;chr&gt;</th><th scope=col>&lt;fct&gt;</th></tr>\n",
       "</thead>\n",
       "<tbody>\n",
       "\t<tr><th scope=row>1</th><td>32720</td><td>70876</td><td>70877</td><td> rafforzamento istituti                           </td><td>democrazia diretta</td><td>concepiti correttivo possibili        </td><td>democrazia diretta</td></tr>\n",
       "\t<tr><th scope=row>2</th><td>32956</td><td> 2700</td><td> 2701</td><td>mirano stravolgerla semplificazione partecipazione</td><td>democrazia diretta</td><td>miglioramento rapporto cittadini      </td><td>democrazia diretta</td></tr>\n",
       "\t<tr><th scope=row>3</th><td>32956</td><td> 2935</td><td> 2936</td><td>referendum popolare crediamo                      </td><td>democrazia diretta</td><td> referendum popolare davvero esprimere</td><td>democrazia diretta</td></tr>\n",
       "\t<tr><th scope=row>4</th><td>32956</td><td> 3623</td><td> 3624</td><td>referendum propositivi quórum                     </td><td>democrazia diretta</td><td> rivoluzionaria concezione            </td><td>democrazia diretta</td></tr>\n",
       "\t<tr><th scope=row>5</th><td>32956</td><td> 5703</td><td> 5704</td><td>riferimento tramite ricorso                       </td><td>democrazia diretta</td><td> seguito adeguato                     </td><td>democrazia diretta</td></tr>\n",
       "</tbody>\n",
       "</table>\n"
      ],
      "text/latex": [
       "A kwic: 5 × 7\n",
       "\\begin{tabular}{r|lllllll}\n",
       "  & docname & from & to & pre & keyword & post & pattern\\\\\n",
       "  & <chr> & <int> & <int> & <chr> & <chr> & <chr> & <fct>\\\\\n",
       "\\hline\n",
       "\t1 & 32720 & 70876 & 70877 &  rafforzamento istituti                            & democrazia diretta & concepiti correttivo possibili         & democrazia diretta\\\\\n",
       "\t2 & 32956 &  2700 &  2701 & mirano stravolgerla semplificazione partecipazione & democrazia diretta & miglioramento rapporto cittadini       & democrazia diretta\\\\\n",
       "\t3 & 32956 &  2935 &  2936 & referendum popolare crediamo                       & democrazia diretta &  referendum popolare davvero esprimere & democrazia diretta\\\\\n",
       "\t4 & 32956 &  3623 &  3624 & referendum propositivi quórum                      & democrazia diretta &  rivoluzionaria concezione             & democrazia diretta\\\\\n",
       "\t5 & 32956 &  5703 &  5704 & riferimento tramite ricorso                        & democrazia diretta &  seguito adeguato                      & democrazia diretta\\\\\n",
       "\\end{tabular}\n"
      ],
      "text/markdown": [
       "\n",
       "A kwic: 5 × 7\n",
       "\n",
       "| <!--/--> | docname &lt;chr&gt; | from &lt;int&gt; | to &lt;int&gt; | pre &lt;chr&gt; | keyword &lt;chr&gt; | post &lt;chr&gt; | pattern &lt;fct&gt; |\n",
       "|---|---|---|---|---|---|---|---|\n",
       "| 1 | 32720 | 70876 | 70877 |  rafforzamento istituti                            | democrazia diretta | concepiti correttivo possibili         | democrazia diretta |\n",
       "| 2 | 32956 |  2700 |  2701 | mirano stravolgerla semplificazione partecipazione | democrazia diretta | miglioramento rapporto cittadini       | democrazia diretta |\n",
       "| 3 | 32956 |  2935 |  2936 | referendum popolare crediamo                       | democrazia diretta |  referendum popolare davvero esprimere | democrazia diretta |\n",
       "| 4 | 32956 |  3623 |  3624 | referendum propositivi quórum                      | democrazia diretta |  rivoluzionaria concezione             | democrazia diretta |\n",
       "| 5 | 32956 |  5703 |  5704 | riferimento tramite ricorso                        | democrazia diretta |  seguito adeguato                      | democrazia diretta |\n",
       "\n"
      ],
      "text/plain": [
       "  docname from  to    pre                                               \n",
       "1 32720   70876 70877  rafforzamento istituti                           \n",
       "2 32956    2700  2701 mirano stravolgerla semplificazione partecipazione\n",
       "3 32956    2935  2936 referendum popolare crediamo                      \n",
       "4 32956    3623  3624 referendum propositivi quórum                     \n",
       "5 32956    5703  5704 riferimento tramite ricorso                       \n",
       "  keyword            post                                   pattern           \n",
       "1 democrazia diretta concepiti correttivo possibili         democrazia diretta\n",
       "2 democrazia diretta miglioramento rapporto cittadini       democrazia diretta\n",
       "3 democrazia diretta  referendum popolare davvero esprimere democrazia diretta\n",
       "4 democrazia diretta  rivoluzionaria concezione             democrazia diretta\n",
       "5 democrazia diretta  seguito adeguato                      democrazia diretta"
      ]
     },
     "metadata": {},
     "output_type": "display_data"
    }
   ],
   "source": [
    "kwic(x = manifesto_toks, pattern = phrase(\"democrazia diretta\"))"
   ]
  },
  {
   "cell_type": "markdown",
   "id": "df47d67b",
   "metadata": {},
   "source": [
    "italiano medio"
   ]
  },
  {
   "cell_type": "code",
   "execution_count": 64,
   "id": "bd49f2f2",
   "metadata": {},
   "outputs": [
    {
     "data": {
      "text/html": [
       "<table class=\"dataframe\">\n",
       "<caption>A kwic: 0 × 7</caption>\n",
       "<thead>\n",
       "\t<tr><th scope=col>docname</th><th scope=col>from</th><th scope=col>to</th><th scope=col>pre</th><th scope=col>keyword</th><th scope=col>post</th><th scope=col>pattern</th></tr>\n",
       "\t<tr><th scope=col>&lt;chr&gt;</th><th scope=col>&lt;int&gt;</th><th scope=col>&lt;int&gt;</th><th scope=col>&lt;chr&gt;</th><th scope=col>&lt;chr&gt;</th><th scope=col>&lt;chr&gt;</th><th scope=col>&lt;fct&gt;</th></tr>\n",
       "</thead>\n",
       "<tbody>\n",
       "</tbody>\n",
       "</table>\n"
      ],
      "text/latex": [
       "A kwic: 0 × 7\n",
       "\\begin{tabular}{lllllll}\n",
       " docname & from & to & pre & keyword & post & pattern\\\\\n",
       " <chr> & <int> & <int> & <chr> & <chr> & <chr> & <fct>\\\\\n",
       "\\hline\n",
       "\\end{tabular}\n"
      ],
      "text/markdown": [
       "\n",
       "A kwic: 0 × 7\n",
       "\n",
       "| docname &lt;chr&gt; | from &lt;int&gt; | to &lt;int&gt; | pre &lt;chr&gt; | keyword &lt;chr&gt; | post &lt;chr&gt; | pattern &lt;fct&gt; |\n",
       "|---|---|---|---|---|---|---|\n",
       "\n"
      ],
      "text/plain": [
       "     docname from to pre keyword post pattern"
      ]
     },
     "metadata": {},
     "output_type": "display_data"
    }
   ],
   "source": [
    "kwic(x = manifesto_toks, pattern = phrase(\"italiano medio\"))"
   ]
  },
  {
   "cell_type": "markdown",
   "id": "14f8e202",
   "metadata": {},
   "source": [
    "uomo medio"
   ]
  },
  {
   "cell_type": "code",
   "execution_count": 65,
   "id": "f2af5a4e",
   "metadata": {},
   "outputs": [
    {
     "data": {
      "text/html": [
       "<table class=\"dataframe\">\n",
       "<caption>A kwic: 0 × 7</caption>\n",
       "<thead>\n",
       "\t<tr><th scope=col>docname</th><th scope=col>from</th><th scope=col>to</th><th scope=col>pre</th><th scope=col>keyword</th><th scope=col>post</th><th scope=col>pattern</th></tr>\n",
       "\t<tr><th scope=col>&lt;chr&gt;</th><th scope=col>&lt;int&gt;</th><th scope=col>&lt;int&gt;</th><th scope=col>&lt;chr&gt;</th><th scope=col>&lt;chr&gt;</th><th scope=col>&lt;chr&gt;</th><th scope=col>&lt;fct&gt;</th></tr>\n",
       "</thead>\n",
       "<tbody>\n",
       "</tbody>\n",
       "</table>\n"
      ],
      "text/latex": [
       "A kwic: 0 × 7\n",
       "\\begin{tabular}{lllllll}\n",
       " docname & from & to & pre & keyword & post & pattern\\\\\n",
       " <chr> & <int> & <int> & <chr> & <chr> & <chr> & <fct>\\\\\n",
       "\\hline\n",
       "\\end{tabular}\n"
      ],
      "text/markdown": [
       "\n",
       "A kwic: 0 × 7\n",
       "\n",
       "| docname &lt;chr&gt; | from &lt;int&gt; | to &lt;int&gt; | pre &lt;chr&gt; | keyword &lt;chr&gt; | post &lt;chr&gt; | pattern &lt;fct&gt; |\n",
       "|---|---|---|---|---|---|---|\n",
       "\n"
      ],
      "text/plain": [
       "     docname from to pre keyword post pattern"
      ]
     },
     "metadata": {},
     "output_type": "display_data"
    }
   ],
   "source": [
    "kwic(x = manifesto_toks, pattern = phrase(\"uomo medio\"))"
   ]
  },
  {
   "cell_type": "markdown",
   "id": "864939a9",
   "metadata": {},
   "source": [
    "torre d avorio"
   ]
  },
  {
   "cell_type": "code",
   "execution_count": 66,
   "id": "bce93dd9",
   "metadata": {},
   "outputs": [
    {
     "data": {
      "text/html": [
       "<table class=\"dataframe\">\n",
       "<caption>A kwic: 0 × 7</caption>\n",
       "<thead>\n",
       "\t<tr><th scope=col>docname</th><th scope=col>from</th><th scope=col>to</th><th scope=col>pre</th><th scope=col>keyword</th><th scope=col>post</th><th scope=col>pattern</th></tr>\n",
       "\t<tr><th scope=col>&lt;chr&gt;</th><th scope=col>&lt;int&gt;</th><th scope=col>&lt;int&gt;</th><th scope=col>&lt;chr&gt;</th><th scope=col>&lt;chr&gt;</th><th scope=col>&lt;chr&gt;</th><th scope=col>&lt;fct&gt;</th></tr>\n",
       "</thead>\n",
       "<tbody>\n",
       "</tbody>\n",
       "</table>\n"
      ],
      "text/latex": [
       "A kwic: 0 × 7\n",
       "\\begin{tabular}{lllllll}\n",
       " docname & from & to & pre & keyword & post & pattern\\\\\n",
       " <chr> & <int> & <int> & <chr> & <chr> & <chr> & <fct>\\\\\n",
       "\\hline\n",
       "\\end{tabular}\n"
      ],
      "text/markdown": [
       "\n",
       "A kwic: 0 × 7\n",
       "\n",
       "| docname &lt;chr&gt; | from &lt;int&gt; | to &lt;int&gt; | pre &lt;chr&gt; | keyword &lt;chr&gt; | post &lt;chr&gt; | pattern &lt;fct&gt; |\n",
       "|---|---|---|---|---|---|---|\n",
       "\n"
      ],
      "text/plain": [
       "     docname from to pre keyword post pattern"
      ]
     },
     "metadata": {},
     "output_type": "display_data"
    }
   ],
   "source": [
    "kwic(x = manifesto_toks, pattern = phrase(\"torre d avorio\"))"
   ]
  },
  {
   "cell_type": "markdown",
   "id": "125de001",
   "metadata": {},
   "source": [
    "solit? partit"
   ]
  },
  {
   "cell_type": "code",
   "execution_count": 67,
   "id": "62b676c8",
   "metadata": {},
   "outputs": [
    {
     "data": {
      "text/html": [
       "<table class=\"dataframe\">\n",
       "<caption>A kwic: 0 × 7</caption>\n",
       "<thead>\n",
       "\t<tr><th scope=col>docname</th><th scope=col>from</th><th scope=col>to</th><th scope=col>pre</th><th scope=col>keyword</th><th scope=col>post</th><th scope=col>pattern</th></tr>\n",
       "\t<tr><th scope=col>&lt;chr&gt;</th><th scope=col>&lt;int&gt;</th><th scope=col>&lt;int&gt;</th><th scope=col>&lt;chr&gt;</th><th scope=col>&lt;chr&gt;</th><th scope=col>&lt;chr&gt;</th><th scope=col>&lt;fct&gt;</th></tr>\n",
       "</thead>\n",
       "<tbody>\n",
       "</tbody>\n",
       "</table>\n"
      ],
      "text/latex": [
       "A kwic: 0 × 7\n",
       "\\begin{tabular}{lllllll}\n",
       " docname & from & to & pre & keyword & post & pattern\\\\\n",
       " <chr> & <int> & <int> & <chr> & <chr> & <chr> & <fct>\\\\\n",
       "\\hline\n",
       "\\end{tabular}\n"
      ],
      "text/markdown": [
       "\n",
       "A kwic: 0 × 7\n",
       "\n",
       "| docname &lt;chr&gt; | from &lt;int&gt; | to &lt;int&gt; | pre &lt;chr&gt; | keyword &lt;chr&gt; | post &lt;chr&gt; | pattern &lt;fct&gt; |\n",
       "|---|---|---|---|---|---|---|\n",
       "\n"
      ],
      "text/plain": [
       "     docname from to pre keyword post pattern"
      ]
     },
     "metadata": {},
     "output_type": "display_data"
    }
   ],
   "source": [
    "kwic(x = manifesto_toks, pattern = phrase(\"solit? partit\"))"
   ]
  },
  {
   "cell_type": "markdown",
   "id": "2abe6f62",
   "metadata": {},
   "source": [
    "vecch? partit?"
   ]
  },
  {
   "cell_type": "code",
   "execution_count": 68,
   "id": "17477a2f",
   "metadata": {},
   "outputs": [
    {
     "data": {
      "text/html": [
       "<table class=\"dataframe\">\n",
       "<caption>A kwic: 5 × 7</caption>\n",
       "<thead>\n",
       "\t<tr><th></th><th scope=col>docname</th><th scope=col>from</th><th scope=col>to</th><th scope=col>pre</th><th scope=col>keyword</th><th scope=col>post</th><th scope=col>pattern</th></tr>\n",
       "\t<tr><th></th><th scope=col>&lt;chr&gt;</th><th scope=col>&lt;int&gt;</th><th scope=col>&lt;int&gt;</th><th scope=col>&lt;chr&gt;</th><th scope=col>&lt;chr&gt;</th><th scope=col>&lt;chr&gt;</th><th scope=col>&lt;fct&gt;</th></tr>\n",
       "</thead>\n",
       "<tbody>\n",
       "\t<tr><th scope=row>1</th><td>32530</td><td> 1555</td><td> 1556</td><td> giudizio           </td><td>vecchi partiti</td><td>neanche disinvolti protagonisti</td><td>vecch? partit?</td></tr>\n",
       "\t<tr><th scope=row>2</th><td>32530</td><td> 1711</td><td> 1712</td><td> pensiero politico  </td><td>vecchi partiti</td><td>tramontati partiti necessari   </td><td>vecch? partit?</td></tr>\n",
       "\t<tr><th scope=row>3</th><td>32720</td><td>36941</td><td>36942</td><td>battaglia referendum</td><td>vecchi partiti</td><td> voluti minimamente            </td><td>vecch? partit?</td></tr>\n",
       "\t<tr><th scope=row>4</th><td>32956</td><td> 3111</td><td> 3112</td><td> tentativi fermati  </td><td>vecchi partiti</td><td> rinviato l'approvazione       </td><td>vecch? partit?</td></tr>\n",
       "\t<tr><th scope=row>5</th><td>32956</td><td> 3564</td><td> 3565</td><td> rappresentanti     </td><td>vecchi partiti</td><td>parla rimuovere Fiscal         </td><td>vecch? partit?</td></tr>\n",
       "</tbody>\n",
       "</table>\n"
      ],
      "text/latex": [
       "A kwic: 5 × 7\n",
       "\\begin{tabular}{r|lllllll}\n",
       "  & docname & from & to & pre & keyword & post & pattern\\\\\n",
       "  & <chr> & <int> & <int> & <chr> & <chr> & <chr> & <fct>\\\\\n",
       "\\hline\n",
       "\t1 & 32530 &  1555 &  1556 &  giudizio            & vecchi partiti & neanche disinvolti protagonisti & vecch? partit?\\\\\n",
       "\t2 & 32530 &  1711 &  1712 &  pensiero politico   & vecchi partiti & tramontati partiti necessari    & vecch? partit?\\\\\n",
       "\t3 & 32720 & 36941 & 36942 & battaglia referendum & vecchi partiti &  voluti minimamente             & vecch? partit?\\\\\n",
       "\t4 & 32956 &  3111 &  3112 &  tentativi fermati   & vecchi partiti &  rinviato l'approvazione        & vecch? partit?\\\\\n",
       "\t5 & 32956 &  3564 &  3565 &  rappresentanti      & vecchi partiti & parla rimuovere Fiscal          & vecch? partit?\\\\\n",
       "\\end{tabular}\n"
      ],
      "text/markdown": [
       "\n",
       "A kwic: 5 × 7\n",
       "\n",
       "| <!--/--> | docname &lt;chr&gt; | from &lt;int&gt; | to &lt;int&gt; | pre &lt;chr&gt; | keyword &lt;chr&gt; | post &lt;chr&gt; | pattern &lt;fct&gt; |\n",
       "|---|---|---|---|---|---|---|---|\n",
       "| 1 | 32530 |  1555 |  1556 |  giudizio            | vecchi partiti | neanche disinvolti protagonisti | vecch? partit? |\n",
       "| 2 | 32530 |  1711 |  1712 |  pensiero politico   | vecchi partiti | tramontati partiti necessari    | vecch? partit? |\n",
       "| 3 | 32720 | 36941 | 36942 | battaglia referendum | vecchi partiti |  voluti minimamente             | vecch? partit? |\n",
       "| 4 | 32956 |  3111 |  3112 |  tentativi fermati   | vecchi partiti |  rinviato l'approvazione        | vecch? partit? |\n",
       "| 5 | 32956 |  3564 |  3565 |  rappresentanti      | vecchi partiti | parla rimuovere Fiscal          | vecch? partit? |\n",
       "\n"
      ],
      "text/plain": [
       "  docname from  to    pre                  keyword       \n",
       "1 32530    1555  1556  giudizio            vecchi partiti\n",
       "2 32530    1711  1712  pensiero politico   vecchi partiti\n",
       "3 32720   36941 36942 battaglia referendum vecchi partiti\n",
       "4 32956    3111  3112  tentativi fermati   vecchi partiti\n",
       "5 32956    3564  3565  rappresentanti      vecchi partiti\n",
       "  post                            pattern       \n",
       "1 neanche disinvolti protagonisti vecch? partit?\n",
       "2 tramontati partiti necessari    vecch? partit?\n",
       "3  voluti minimamente             vecch? partit?\n",
       "4  rinviato l'approvazione        vecch? partit?\n",
       "5 parla rimuovere Fiscal          vecch? partit?"
      ]
     },
     "metadata": {},
     "output_type": "display_data"
    }
   ],
   "source": [
    "kwic(x = manifesto_toks, pattern = phrase(\"vecch? partit?\"))"
   ]
  },
  {
   "cell_type": "markdown",
   "id": "58ba8634",
   "metadata": {},
   "source": [
    "uomini onesti"
   ]
  },
  {
   "cell_type": "code",
   "execution_count": 69,
   "id": "7985c396",
   "metadata": {},
   "outputs": [
    {
     "data": {
      "text/html": [
       "<table class=\"dataframe\">\n",
       "<caption>A kwic: 0 × 7</caption>\n",
       "<thead>\n",
       "\t<tr><th scope=col>docname</th><th scope=col>from</th><th scope=col>to</th><th scope=col>pre</th><th scope=col>keyword</th><th scope=col>post</th><th scope=col>pattern</th></tr>\n",
       "\t<tr><th scope=col>&lt;chr&gt;</th><th scope=col>&lt;int&gt;</th><th scope=col>&lt;int&gt;</th><th scope=col>&lt;chr&gt;</th><th scope=col>&lt;chr&gt;</th><th scope=col>&lt;chr&gt;</th><th scope=col>&lt;fct&gt;</th></tr>\n",
       "</thead>\n",
       "<tbody>\n",
       "</tbody>\n",
       "</table>\n"
      ],
      "text/latex": [
       "A kwic: 0 × 7\n",
       "\\begin{tabular}{lllllll}\n",
       " docname & from & to & pre & keyword & post & pattern\\\\\n",
       " <chr> & <int> & <int> & <chr> & <chr> & <chr> & <fct>\\\\\n",
       "\\hline\n",
       "\\end{tabular}\n"
      ],
      "text/markdown": [
       "\n",
       "A kwic: 0 × 7\n",
       "\n",
       "| docname &lt;chr&gt; | from &lt;int&gt; | to &lt;int&gt; | pre &lt;chr&gt; | keyword &lt;chr&gt; | post &lt;chr&gt; | pattern &lt;fct&gt; |\n",
       "|---|---|---|---|---|---|---|\n",
       "\n"
      ],
      "text/plain": [
       "     docname from to pre keyword post pattern"
      ]
     },
     "metadata": {},
     "output_type": "display_data"
    }
   ],
   "source": [
    "kwic(x = manifesto_toks, pattern = phrase(\"uomini onesti\"))"
   ]
  },
  {
   "cell_type": "markdown",
   "id": "7e11881e",
   "metadata": {},
   "source": [
    "senso comune"
   ]
  },
  {
   "cell_type": "code",
   "execution_count": 70,
   "id": "e37fe66f",
   "metadata": {},
   "outputs": [
    {
     "data": {
      "text/html": [
       "<table class=\"dataframe\">\n",
       "<caption>A kwic: 4 × 7</caption>\n",
       "<thead>\n",
       "\t<tr><th></th><th scope=col>docname</th><th scope=col>from</th><th scope=col>to</th><th scope=col>pre</th><th scope=col>keyword</th><th scope=col>post</th><th scope=col>pattern</th></tr>\n",
       "\t<tr><th></th><th scope=col>&lt;chr&gt;</th><th scope=col>&lt;int&gt;</th><th scope=col>&lt;int&gt;</th><th scope=col>&lt;chr&gt;</th><th scope=col>&lt;chr&gt;</th><th scope=col>&lt;chr&gt;</th><th scope=col>&lt;fct&gt;</th></tr>\n",
       "</thead>\n",
       "<tbody>\n",
       "\t<tr><th scope=row>1</th><td>32530</td><td> 7107</td><td> 7108</td><td> separano       </td><td>senso comune</td><td>idee opposte            </td><td>senso comune</td></tr>\n",
       "\t<tr><th scope=row>2</th><td>32956</td><td>35436</td><td>35437</td><td> scriveva parole</td><td>senso comune</td><td> insegna l'acqua        </td><td>senso comune</td></tr>\n",
       "\t<tr><th scope=row>3</th><td>32956</td><td>35460</td><td>35461</td><td>sete mondo      </td><td>senso comune</td><td> comune sensi           </td><td>senso comune</td></tr>\n",
       "\t<tr><th scope=row>4</th><td>32956</td><td>47727</td><td>47728</td><td>comprare entrato</td><td>senso comune</td><td>l'idea buona prestazione</td><td>senso comune</td></tr>\n",
       "</tbody>\n",
       "</table>\n"
      ],
      "text/latex": [
       "A kwic: 4 × 7\n",
       "\\begin{tabular}{r|lllllll}\n",
       "  & docname & from & to & pre & keyword & post & pattern\\\\\n",
       "  & <chr> & <int> & <int> & <chr> & <chr> & <chr> & <fct>\\\\\n",
       "\\hline\n",
       "\t1 & 32530 &  7107 &  7108 &  separano        & senso comune & idee opposte             & senso comune\\\\\n",
       "\t2 & 32956 & 35436 & 35437 &  scriveva parole & senso comune &  insegna l'acqua         & senso comune\\\\\n",
       "\t3 & 32956 & 35460 & 35461 & sete mondo       & senso comune &  comune sensi            & senso comune\\\\\n",
       "\t4 & 32956 & 47727 & 47728 & comprare entrato & senso comune & l'idea buona prestazione & senso comune\\\\\n",
       "\\end{tabular}\n"
      ],
      "text/markdown": [
       "\n",
       "A kwic: 4 × 7\n",
       "\n",
       "| <!--/--> | docname &lt;chr&gt; | from &lt;int&gt; | to &lt;int&gt; | pre &lt;chr&gt; | keyword &lt;chr&gt; | post &lt;chr&gt; | pattern &lt;fct&gt; |\n",
       "|---|---|---|---|---|---|---|---|\n",
       "| 1 | 32530 |  7107 |  7108 |  separano        | senso comune | idee opposte             | senso comune |\n",
       "| 2 | 32956 | 35436 | 35437 |  scriveva parole | senso comune |  insegna l'acqua         | senso comune |\n",
       "| 3 | 32956 | 35460 | 35461 | sete mondo       | senso comune |  comune sensi            | senso comune |\n",
       "| 4 | 32956 | 47727 | 47728 | comprare entrato | senso comune | l'idea buona prestazione | senso comune |\n",
       "\n"
      ],
      "text/plain": [
       "  docname from  to    pre              keyword      post                    \n",
       "1 32530    7107  7108  separano        senso comune idee opposte            \n",
       "2 32956   35436 35437  scriveva parole senso comune  insegna l'acqua        \n",
       "3 32956   35460 35461 sete mondo       senso comune  comune sensi           \n",
       "4 32956   47727 47728 comprare entrato senso comune l'idea buona prestazione\n",
       "  pattern     \n",
       "1 senso comune\n",
       "2 senso comune\n",
       "3 senso comune\n",
       "4 senso comune"
      ]
     },
     "metadata": {},
     "output_type": "display_data"
    }
   ],
   "source": [
    "kwic(x = manifesto_toks, pattern = phrase(\"senso comune\"))"
   ]
  },
  {
   "cell_type": "markdown",
   "id": "2f9e9a51",
   "metadata": {},
   "source": [
    "attaccat? all? poltron?"
   ]
  },
  {
   "cell_type": "code",
   "execution_count": 71,
   "id": "0f990136",
   "metadata": {},
   "outputs": [
    {
     "data": {
      "text/html": [
       "<table class=\"dataframe\">\n",
       "<caption>A kwic: 0 × 7</caption>\n",
       "<thead>\n",
       "\t<tr><th scope=col>docname</th><th scope=col>from</th><th scope=col>to</th><th scope=col>pre</th><th scope=col>keyword</th><th scope=col>post</th><th scope=col>pattern</th></tr>\n",
       "\t<tr><th scope=col>&lt;chr&gt;</th><th scope=col>&lt;int&gt;</th><th scope=col>&lt;int&gt;</th><th scope=col>&lt;chr&gt;</th><th scope=col>&lt;chr&gt;</th><th scope=col>&lt;chr&gt;</th><th scope=col>&lt;fct&gt;</th></tr>\n",
       "</thead>\n",
       "<tbody>\n",
       "</tbody>\n",
       "</table>\n"
      ],
      "text/latex": [
       "A kwic: 0 × 7\n",
       "\\begin{tabular}{lllllll}\n",
       " docname & from & to & pre & keyword & post & pattern\\\\\n",
       " <chr> & <int> & <int> & <chr> & <chr> & <chr> & <fct>\\\\\n",
       "\\hline\n",
       "\\end{tabular}\n"
      ],
      "text/markdown": [
       "\n",
       "A kwic: 0 × 7\n",
       "\n",
       "| docname &lt;chr&gt; | from &lt;int&gt; | to &lt;int&gt; | pre &lt;chr&gt; | keyword &lt;chr&gt; | post &lt;chr&gt; | pattern &lt;fct&gt; |\n",
       "|---|---|---|---|---|---|---|\n",
       "\n"
      ],
      "text/plain": [
       "     docname from to pre keyword post pattern"
      ]
     },
     "metadata": {},
     "output_type": "display_data"
    }
   ],
   "source": [
    "kwic(x = manifesto_toks, pattern = phrase(\"attaccat? all? poltron?\"))"
   ]
  },
  {
   "cell_type": "markdown",
   "id": "39e16c67",
   "metadata": {},
   "source": [
    "assetat? di potere"
   ]
  },
  {
   "cell_type": "code",
   "execution_count": 72,
   "id": "d20b83e5",
   "metadata": {},
   "outputs": [
    {
     "data": {
      "text/html": [
       "<table class=\"dataframe\">\n",
       "<caption>A kwic: 0 × 7</caption>\n",
       "<thead>\n",
       "\t<tr><th scope=col>docname</th><th scope=col>from</th><th scope=col>to</th><th scope=col>pre</th><th scope=col>keyword</th><th scope=col>post</th><th scope=col>pattern</th></tr>\n",
       "\t<tr><th scope=col>&lt;chr&gt;</th><th scope=col>&lt;int&gt;</th><th scope=col>&lt;int&gt;</th><th scope=col>&lt;chr&gt;</th><th scope=col>&lt;chr&gt;</th><th scope=col>&lt;chr&gt;</th><th scope=col>&lt;fct&gt;</th></tr>\n",
       "</thead>\n",
       "<tbody>\n",
       "</tbody>\n",
       "</table>\n"
      ],
      "text/latex": [
       "A kwic: 0 × 7\n",
       "\\begin{tabular}{lllllll}\n",
       " docname & from & to & pre & keyword & post & pattern\\\\\n",
       " <chr> & <int> & <int> & <chr> & <chr> & <chr> & <fct>\\\\\n",
       "\\hline\n",
       "\\end{tabular}\n"
      ],
      "text/markdown": [
       "\n",
       "A kwic: 0 × 7\n",
       "\n",
       "| docname &lt;chr&gt; | from &lt;int&gt; | to &lt;int&gt; | pre &lt;chr&gt; | keyword &lt;chr&gt; | post &lt;chr&gt; | pattern &lt;fct&gt; |\n",
       "|---|---|---|---|---|---|---|\n",
       "\n"
      ],
      "text/plain": [
       "     docname from to pre keyword post pattern"
      ]
     },
     "metadata": {},
     "output_type": "display_data"
    }
   ],
   "source": [
    "kwic(x = manifesto_toks, pattern = phrase(\"assetat? di potere\"))"
   ]
  },
  {
   "cell_type": "markdown",
   "id": "6e11a045",
   "metadata": {},
   "source": [
    "comun? mortal?"
   ]
  },
  {
   "cell_type": "code",
   "execution_count": 73,
   "id": "103048cb",
   "metadata": {},
   "outputs": [
    {
     "data": {
      "text/html": [
       "<table class=\"dataframe\">\n",
       "<caption>A kwic: 0 × 7</caption>\n",
       "<thead>\n",
       "\t<tr><th scope=col>docname</th><th scope=col>from</th><th scope=col>to</th><th scope=col>pre</th><th scope=col>keyword</th><th scope=col>post</th><th scope=col>pattern</th></tr>\n",
       "\t<tr><th scope=col>&lt;chr&gt;</th><th scope=col>&lt;int&gt;</th><th scope=col>&lt;int&gt;</th><th scope=col>&lt;chr&gt;</th><th scope=col>&lt;chr&gt;</th><th scope=col>&lt;chr&gt;</th><th scope=col>&lt;fct&gt;</th></tr>\n",
       "</thead>\n",
       "<tbody>\n",
       "</tbody>\n",
       "</table>\n"
      ],
      "text/latex": [
       "A kwic: 0 × 7\n",
       "\\begin{tabular}{lllllll}\n",
       " docname & from & to & pre & keyword & post & pattern\\\\\n",
       " <chr> & <int> & <int> & <chr> & <chr> & <chr> & <fct>\\\\\n",
       "\\hline\n",
       "\\end{tabular}\n"
      ],
      "text/markdown": [
       "\n",
       "A kwic: 0 × 7\n",
       "\n",
       "| docname &lt;chr&gt; | from &lt;int&gt; | to &lt;int&gt; | pre &lt;chr&gt; | keyword &lt;chr&gt; | post &lt;chr&gt; | pattern &lt;fct&gt; |\n",
       "|---|---|---|---|---|---|---|\n",
       "\n"
      ],
      "text/plain": [
       "     docname from to pre keyword post pattern"
      ]
     },
     "metadata": {},
     "output_type": "display_data"
    }
   ],
   "source": [
    "kwic(x = manifesto_toks, pattern = phrase(\"comun? mortal?\"))"
   ]
  },
  {
   "cell_type": "markdown",
   "id": "6a581aff",
   "metadata": {},
   "source": [
    "bugie dei partiti"
   ]
  },
  {
   "cell_type": "code",
   "execution_count": 74,
   "id": "6d0ea1e4",
   "metadata": {},
   "outputs": [
    {
     "data": {
      "text/html": [
       "<table class=\"dataframe\">\n",
       "<caption>A kwic: 0 × 7</caption>\n",
       "<thead>\n",
       "\t<tr><th scope=col>docname</th><th scope=col>from</th><th scope=col>to</th><th scope=col>pre</th><th scope=col>keyword</th><th scope=col>post</th><th scope=col>pattern</th></tr>\n",
       "\t<tr><th scope=col>&lt;chr&gt;</th><th scope=col>&lt;int&gt;</th><th scope=col>&lt;int&gt;</th><th scope=col>&lt;chr&gt;</th><th scope=col>&lt;chr&gt;</th><th scope=col>&lt;chr&gt;</th><th scope=col>&lt;fct&gt;</th></tr>\n",
       "</thead>\n",
       "<tbody>\n",
       "</tbody>\n",
       "</table>\n"
      ],
      "text/latex": [
       "A kwic: 0 × 7\n",
       "\\begin{tabular}{lllllll}\n",
       " docname & from & to & pre & keyword & post & pattern\\\\\n",
       " <chr> & <int> & <int> & <chr> & <chr> & <chr> & <fct>\\\\\n",
       "\\hline\n",
       "\\end{tabular}\n"
      ],
      "text/markdown": [
       "\n",
       "A kwic: 0 × 7\n",
       "\n",
       "| docname &lt;chr&gt; | from &lt;int&gt; | to &lt;int&gt; | pre &lt;chr&gt; | keyword &lt;chr&gt; | post &lt;chr&gt; | pattern &lt;fct&gt; |\n",
       "|---|---|---|---|---|---|---|\n",
       "\n"
      ],
      "text/plain": [
       "     docname from to pre keyword post pattern"
      ]
     },
     "metadata": {},
     "output_type": "display_data"
    }
   ],
   "source": [
    "kwic(x = manifesto_toks, pattern = phrase(\"bugie dei partiti\"))"
   ]
  },
  {
   "cell_type": "markdown",
   "id": "40a41721",
   "metadata": {},
   "source": [
    "falsita dei partiti"
   ]
  },
  {
   "cell_type": "code",
   "execution_count": 75,
   "id": "cdc1f13e",
   "metadata": {},
   "outputs": [
    {
     "data": {
      "text/html": [
       "<table class=\"dataframe\">\n",
       "<caption>A kwic: 0 × 7</caption>\n",
       "<thead>\n",
       "\t<tr><th scope=col>docname</th><th scope=col>from</th><th scope=col>to</th><th scope=col>pre</th><th scope=col>keyword</th><th scope=col>post</th><th scope=col>pattern</th></tr>\n",
       "\t<tr><th scope=col>&lt;chr&gt;</th><th scope=col>&lt;int&gt;</th><th scope=col>&lt;int&gt;</th><th scope=col>&lt;chr&gt;</th><th scope=col>&lt;chr&gt;</th><th scope=col>&lt;chr&gt;</th><th scope=col>&lt;fct&gt;</th></tr>\n",
       "</thead>\n",
       "<tbody>\n",
       "</tbody>\n",
       "</table>\n"
      ],
      "text/latex": [
       "A kwic: 0 × 7\n",
       "\\begin{tabular}{lllllll}\n",
       " docname & from & to & pre & keyword & post & pattern\\\\\n",
       " <chr> & <int> & <int> & <chr> & <chr> & <chr> & <fct>\\\\\n",
       "\\hline\n",
       "\\end{tabular}\n"
      ],
      "text/markdown": [
       "\n",
       "A kwic: 0 × 7\n",
       "\n",
       "| docname &lt;chr&gt; | from &lt;int&gt; | to &lt;int&gt; | pre &lt;chr&gt; | keyword &lt;chr&gt; | post &lt;chr&gt; | pattern &lt;fct&gt; |\n",
       "|---|---|---|---|---|---|---|\n",
       "\n"
      ],
      "text/plain": [
       "     docname from to pre keyword post pattern"
      ]
     },
     "metadata": {},
     "output_type": "display_data"
    }
   ],
   "source": [
    "kwic(x = manifesto_toks, pattern = phrase(\"falsita dei partiti\"))"
   ]
  },
  {
   "cell_type": "markdown",
   "id": "6d341283",
   "metadata": {},
   "source": [
    "senza valori"
   ]
  },
  {
   "cell_type": "code",
   "execution_count": 76,
   "id": "836344b4",
   "metadata": {},
   "outputs": [
    {
     "data": {
      "text/html": [
       "<table class=\"dataframe\">\n",
       "<caption>A kwic: 0 × 7</caption>\n",
       "<thead>\n",
       "\t<tr><th scope=col>docname</th><th scope=col>from</th><th scope=col>to</th><th scope=col>pre</th><th scope=col>keyword</th><th scope=col>post</th><th scope=col>pattern</th></tr>\n",
       "\t<tr><th scope=col>&lt;chr&gt;</th><th scope=col>&lt;int&gt;</th><th scope=col>&lt;int&gt;</th><th scope=col>&lt;chr&gt;</th><th scope=col>&lt;chr&gt;</th><th scope=col>&lt;chr&gt;</th><th scope=col>&lt;fct&gt;</th></tr>\n",
       "</thead>\n",
       "<tbody>\n",
       "</tbody>\n",
       "</table>\n"
      ],
      "text/latex": [
       "A kwic: 0 × 7\n",
       "\\begin{tabular}{lllllll}\n",
       " docname & from & to & pre & keyword & post & pattern\\\\\n",
       " <chr> & <int> & <int> & <chr> & <chr> & <chr> & <fct>\\\\\n",
       "\\hline\n",
       "\\end{tabular}\n"
      ],
      "text/markdown": [
       "\n",
       "A kwic: 0 × 7\n",
       "\n",
       "| docname &lt;chr&gt; | from &lt;int&gt; | to &lt;int&gt; | pre &lt;chr&gt; | keyword &lt;chr&gt; | post &lt;chr&gt; | pattern &lt;fct&gt; |\n",
       "|---|---|---|---|---|---|---|\n",
       "\n"
      ],
      "text/plain": [
       "     docname from to pre keyword post pattern"
      ]
     },
     "metadata": {},
     "output_type": "display_data"
    }
   ],
   "source": [
    "kwic(x = manifesto_toks, pattern = phrase(\"senza valori\"))"
   ]
  },
  {
   "cell_type": "markdown",
   "id": "47290ccc",
   "metadata": {},
   "source": [
    "pseudo-partit?"
   ]
  },
  {
   "cell_type": "code",
   "execution_count": 77,
   "id": "636ff3da",
   "metadata": {},
   "outputs": [
    {
     "data": {
      "text/html": [
       "<table class=\"dataframe\">\n",
       "<caption>A kwic: 0 × 7</caption>\n",
       "<thead>\n",
       "\t<tr><th scope=col>docname</th><th scope=col>from</th><th scope=col>to</th><th scope=col>pre</th><th scope=col>keyword</th><th scope=col>post</th><th scope=col>pattern</th></tr>\n",
       "\t<tr><th scope=col>&lt;chr&gt;</th><th scope=col>&lt;int&gt;</th><th scope=col>&lt;int&gt;</th><th scope=col>&lt;chr&gt;</th><th scope=col>&lt;chr&gt;</th><th scope=col>&lt;chr&gt;</th><th scope=col>&lt;fct&gt;</th></tr>\n",
       "</thead>\n",
       "<tbody>\n",
       "</tbody>\n",
       "</table>\n"
      ],
      "text/latex": [
       "A kwic: 0 × 7\n",
       "\\begin{tabular}{lllllll}\n",
       " docname & from & to & pre & keyword & post & pattern\\\\\n",
       " <chr> & <int> & <int> & <chr> & <chr> & <chr> & <fct>\\\\\n",
       "\\hline\n",
       "\\end{tabular}\n"
      ],
      "text/markdown": [
       "\n",
       "A kwic: 0 × 7\n",
       "\n",
       "| docname &lt;chr&gt; | from &lt;int&gt; | to &lt;int&gt; | pre &lt;chr&gt; | keyword &lt;chr&gt; | post &lt;chr&gt; | pattern &lt;fct&gt; |\n",
       "|---|---|---|---|---|---|---|\n",
       "\n"
      ],
      "text/plain": [
       "     docname from to pre keyword post pattern"
      ]
     },
     "metadata": {},
     "output_type": "display_data"
    }
   ],
   "source": [
    "kwic(x = manifesto_toks, pattern = phrase(\"pseudo-partit?\"))"
   ]
  },
  {
   "cell_type": "markdown",
   "id": "2a07d959",
   "metadata": {},
   "source": [
    "sistema-partito"
   ]
  },
  {
   "cell_type": "code",
   "execution_count": 78,
   "id": "be7eae43",
   "metadata": {},
   "outputs": [
    {
     "data": {
      "text/html": [
       "<table class=\"dataframe\">\n",
       "<caption>A kwic: 0 × 7</caption>\n",
       "<thead>\n",
       "\t<tr><th scope=col>docname</th><th scope=col>from</th><th scope=col>to</th><th scope=col>pre</th><th scope=col>keyword</th><th scope=col>post</th><th scope=col>pattern</th></tr>\n",
       "\t<tr><th scope=col>&lt;chr&gt;</th><th scope=col>&lt;int&gt;</th><th scope=col>&lt;int&gt;</th><th scope=col>&lt;chr&gt;</th><th scope=col>&lt;chr&gt;</th><th scope=col>&lt;chr&gt;</th><th scope=col>&lt;fct&gt;</th></tr>\n",
       "</thead>\n",
       "<tbody>\n",
       "</tbody>\n",
       "</table>\n"
      ],
      "text/latex": [
       "A kwic: 0 × 7\n",
       "\\begin{tabular}{lllllll}\n",
       " docname & from & to & pre & keyword & post & pattern\\\\\n",
       " <chr> & <int> & <int> & <chr> & <chr> & <chr> & <fct>\\\\\n",
       "\\hline\n",
       "\\end{tabular}\n"
      ],
      "text/markdown": [
       "\n",
       "A kwic: 0 × 7\n",
       "\n",
       "| docname &lt;chr&gt; | from &lt;int&gt; | to &lt;int&gt; | pre &lt;chr&gt; | keyword &lt;chr&gt; | post &lt;chr&gt; | pattern &lt;fct&gt; |\n",
       "|---|---|---|---|---|---|---|\n",
       "\n"
      ],
      "text/plain": [
       "     docname from to pre keyword post pattern"
      ]
     },
     "metadata": {},
     "output_type": "display_data"
    }
   ],
   "source": [
    "kwic(x = manifesto_toks, pattern = phrase(\"sistema-partito\"))"
   ]
  },
  {
   "cell_type": "markdown",
   "id": "c16c50bc",
   "metadata": {},
   "source": [
    "non democratic*"
   ]
  },
  {
   "cell_type": "code",
   "execution_count": 79,
   "id": "3fed5587",
   "metadata": {},
   "outputs": [
    {
     "data": {
      "text/html": [
       "<table class=\"dataframe\">\n",
       "<caption>A kwic: 0 × 7</caption>\n",
       "<thead>\n",
       "\t<tr><th scope=col>docname</th><th scope=col>from</th><th scope=col>to</th><th scope=col>pre</th><th scope=col>keyword</th><th scope=col>post</th><th scope=col>pattern</th></tr>\n",
       "\t<tr><th scope=col>&lt;chr&gt;</th><th scope=col>&lt;int&gt;</th><th scope=col>&lt;int&gt;</th><th scope=col>&lt;chr&gt;</th><th scope=col>&lt;chr&gt;</th><th scope=col>&lt;chr&gt;</th><th scope=col>&lt;fct&gt;</th></tr>\n",
       "</thead>\n",
       "<tbody>\n",
       "</tbody>\n",
       "</table>\n"
      ],
      "text/latex": [
       "A kwic: 0 × 7\n",
       "\\begin{tabular}{lllllll}\n",
       " docname & from & to & pre & keyword & post & pattern\\\\\n",
       " <chr> & <int> & <int> & <chr> & <chr> & <chr> & <fct>\\\\\n",
       "\\hline\n",
       "\\end{tabular}\n"
      ],
      "text/markdown": [
       "\n",
       "A kwic: 0 × 7\n",
       "\n",
       "| docname &lt;chr&gt; | from &lt;int&gt; | to &lt;int&gt; | pre &lt;chr&gt; | keyword &lt;chr&gt; | post &lt;chr&gt; | pattern &lt;fct&gt; |\n",
       "|---|---|---|---|---|---|---|\n",
       "\n"
      ],
      "text/plain": [
       "     docname from to pre keyword post pattern"
      ]
     },
     "metadata": {},
     "output_type": "display_data"
    }
   ],
   "source": [
    "kwic(x = manifesto_toks, pattern = phrase(\"non democratic*\"))"
   ]
  },
  {
   "cell_type": "markdown",
   "id": "29a81ca4",
   "metadata": {},
   "source": [
    "prendere in giro"
   ]
  },
  {
   "cell_type": "code",
   "execution_count": 80,
   "id": "72182408",
   "metadata": {},
   "outputs": [
    {
     "data": {
      "text/html": [
       "<table class=\"dataframe\">\n",
       "<caption>A kwic: 0 × 7</caption>\n",
       "<thead>\n",
       "\t<tr><th scope=col>docname</th><th scope=col>from</th><th scope=col>to</th><th scope=col>pre</th><th scope=col>keyword</th><th scope=col>post</th><th scope=col>pattern</th></tr>\n",
       "\t<tr><th scope=col>&lt;chr&gt;</th><th scope=col>&lt;int&gt;</th><th scope=col>&lt;int&gt;</th><th scope=col>&lt;chr&gt;</th><th scope=col>&lt;chr&gt;</th><th scope=col>&lt;chr&gt;</th><th scope=col>&lt;fct&gt;</th></tr>\n",
       "</thead>\n",
       "<tbody>\n",
       "</tbody>\n",
       "</table>\n"
      ],
      "text/latex": [
       "A kwic: 0 × 7\n",
       "\\begin{tabular}{lllllll}\n",
       " docname & from & to & pre & keyword & post & pattern\\\\\n",
       " <chr> & <int> & <int> & <chr> & <chr> & <chr> & <fct>\\\\\n",
       "\\hline\n",
       "\\end{tabular}\n"
      ],
      "text/markdown": [
       "\n",
       "A kwic: 0 × 7\n",
       "\n",
       "| docname &lt;chr&gt; | from &lt;int&gt; | to &lt;int&gt; | pre &lt;chr&gt; | keyword &lt;chr&gt; | post &lt;chr&gt; | pattern &lt;fct&gt; |\n",
       "|---|---|---|---|---|---|---|\n",
       "\n"
      ],
      "text/plain": [
       "     docname from to pre keyword post pattern"
      ]
     },
     "metadata": {},
     "output_type": "display_data"
    }
   ],
   "source": [
    "kwic(x = manifesto_toks, pattern = phrase(\"prendere in giro\"))"
   ]
  },
  {
   "cell_type": "markdown",
   "id": "fefd6b17",
   "metadata": {},
   "source": [
    "dittatur* di partito"
   ]
  },
  {
   "cell_type": "code",
   "execution_count": 81,
   "id": "9bde9c9f",
   "metadata": {},
   "outputs": [
    {
     "data": {
      "text/html": [
       "<table class=\"dataframe\">\n",
       "<caption>A kwic: 0 × 7</caption>\n",
       "<thead>\n",
       "\t<tr><th scope=col>docname</th><th scope=col>from</th><th scope=col>to</th><th scope=col>pre</th><th scope=col>keyword</th><th scope=col>post</th><th scope=col>pattern</th></tr>\n",
       "\t<tr><th scope=col>&lt;chr&gt;</th><th scope=col>&lt;int&gt;</th><th scope=col>&lt;int&gt;</th><th scope=col>&lt;chr&gt;</th><th scope=col>&lt;chr&gt;</th><th scope=col>&lt;chr&gt;</th><th scope=col>&lt;fct&gt;</th></tr>\n",
       "</thead>\n",
       "<tbody>\n",
       "</tbody>\n",
       "</table>\n"
      ],
      "text/latex": [
       "A kwic: 0 × 7\n",
       "\\begin{tabular}{lllllll}\n",
       " docname & from & to & pre & keyword & post & pattern\\\\\n",
       " <chr> & <int> & <int> & <chr> & <chr> & <chr> & <fct>\\\\\n",
       "\\hline\n",
       "\\end{tabular}\n"
      ],
      "text/markdown": [
       "\n",
       "A kwic: 0 × 7\n",
       "\n",
       "| docname &lt;chr&gt; | from &lt;int&gt; | to &lt;int&gt; | pre &lt;chr&gt; | keyword &lt;chr&gt; | post &lt;chr&gt; | pattern &lt;fct&gt; |\n",
       "|---|---|---|---|---|---|---|\n",
       "\n"
      ],
      "text/plain": [
       "     docname from to pre keyword post pattern"
      ]
     },
     "metadata": {},
     "output_type": "display_data"
    }
   ],
   "source": [
    "kwic(x = manifesto_toks, pattern = phrase(\"dittatur* di partito\"))"
   ]
  },
  {
   "cell_type": "markdown",
   "id": "b9bac05c",
   "metadata": {},
   "source": [
    "teatr* politico"
   ]
  },
  {
   "cell_type": "code",
   "execution_count": 82,
   "id": "9f04780e",
   "metadata": {},
   "outputs": [
    {
     "data": {
      "text/html": [
       "<table class=\"dataframe\">\n",
       "<caption>A kwic: 0 × 7</caption>\n",
       "<thead>\n",
       "\t<tr><th scope=col>docname</th><th scope=col>from</th><th scope=col>to</th><th scope=col>pre</th><th scope=col>keyword</th><th scope=col>post</th><th scope=col>pattern</th></tr>\n",
       "\t<tr><th scope=col>&lt;chr&gt;</th><th scope=col>&lt;int&gt;</th><th scope=col>&lt;int&gt;</th><th scope=col>&lt;chr&gt;</th><th scope=col>&lt;chr&gt;</th><th scope=col>&lt;chr&gt;</th><th scope=col>&lt;fct&gt;</th></tr>\n",
       "</thead>\n",
       "<tbody>\n",
       "</tbody>\n",
       "</table>\n"
      ],
      "text/latex": [
       "A kwic: 0 × 7\n",
       "\\begin{tabular}{lllllll}\n",
       " docname & from & to & pre & keyword & post & pattern\\\\\n",
       " <chr> & <int> & <int> & <chr> & <chr> & <chr> & <fct>\\\\\n",
       "\\hline\n",
       "\\end{tabular}\n"
      ],
      "text/markdown": [
       "\n",
       "A kwic: 0 × 7\n",
       "\n",
       "| docname &lt;chr&gt; | from &lt;int&gt; | to &lt;int&gt; | pre &lt;chr&gt; | keyword &lt;chr&gt; | post &lt;chr&gt; | pattern &lt;fct&gt; |\n",
       "|---|---|---|---|---|---|---|\n",
       "\n"
      ],
      "text/plain": [
       "     docname from to pre keyword post pattern"
      ]
     },
     "metadata": {},
     "output_type": "display_data"
    }
   ],
   "source": [
    "kwic(x = manifesto_toks, pattern = phrase(\"teatr* politico\"))"
   ]
  },
  {
   "cell_type": "markdown",
   "id": "048b2fc4",
   "metadata": {},
   "source": [
    "cosiddett? giornalist?"
   ]
  },
  {
   "cell_type": "code",
   "execution_count": 83,
   "id": "53b49438",
   "metadata": {},
   "outputs": [
    {
     "data": {
      "text/html": [
       "<table class=\"dataframe\">\n",
       "<caption>A kwic: 0 × 7</caption>\n",
       "<thead>\n",
       "\t<tr><th scope=col>docname</th><th scope=col>from</th><th scope=col>to</th><th scope=col>pre</th><th scope=col>keyword</th><th scope=col>post</th><th scope=col>pattern</th></tr>\n",
       "\t<tr><th scope=col>&lt;chr&gt;</th><th scope=col>&lt;int&gt;</th><th scope=col>&lt;int&gt;</th><th scope=col>&lt;chr&gt;</th><th scope=col>&lt;chr&gt;</th><th scope=col>&lt;chr&gt;</th><th scope=col>&lt;fct&gt;</th></tr>\n",
       "</thead>\n",
       "<tbody>\n",
       "</tbody>\n",
       "</table>\n"
      ],
      "text/latex": [
       "A kwic: 0 × 7\n",
       "\\begin{tabular}{lllllll}\n",
       " docname & from & to & pre & keyword & post & pattern\\\\\n",
       " <chr> & <int> & <int> & <chr> & <chr> & <chr> & <fct>\\\\\n",
       "\\hline\n",
       "\\end{tabular}\n"
      ],
      "text/markdown": [
       "\n",
       "A kwic: 0 × 7\n",
       "\n",
       "| docname &lt;chr&gt; | from &lt;int&gt; | to &lt;int&gt; | pre &lt;chr&gt; | keyword &lt;chr&gt; | post &lt;chr&gt; | pattern &lt;fct&gt; |\n",
       "|---|---|---|---|---|---|---|\n",
       "\n"
      ],
      "text/plain": [
       "     docname from to pre keyword post pattern"
      ]
     },
     "metadata": {},
     "output_type": "display_data"
    }
   ],
   "source": [
    "kwic(x = manifesto_toks, pattern = phrase(\"cosiddett? giornalist?\"))"
   ]
  },
  {
   "cell_type": "markdown",
   "id": "018b6e44",
   "metadata": {},
   "source": [
    "cosiddetti media\n"
   ]
  },
  {
   "cell_type": "code",
   "execution_count": 84,
   "id": "3e4adaff",
   "metadata": {},
   "outputs": [
    {
     "data": {
      "text/html": [
       "<table class=\"dataframe\">\n",
       "<caption>A kwic: 0 × 7</caption>\n",
       "<thead>\n",
       "\t<tr><th scope=col>docname</th><th scope=col>from</th><th scope=col>to</th><th scope=col>pre</th><th scope=col>keyword</th><th scope=col>post</th><th scope=col>pattern</th></tr>\n",
       "\t<tr><th scope=col>&lt;chr&gt;</th><th scope=col>&lt;int&gt;</th><th scope=col>&lt;int&gt;</th><th scope=col>&lt;chr&gt;</th><th scope=col>&lt;chr&gt;</th><th scope=col>&lt;chr&gt;</th><th scope=col>&lt;fct&gt;</th></tr>\n",
       "</thead>\n",
       "<tbody>\n",
       "</tbody>\n",
       "</table>\n"
      ],
      "text/latex": [
       "A kwic: 0 × 7\n",
       "\\begin{tabular}{lllllll}\n",
       " docname & from & to & pre & keyword & post & pattern\\\\\n",
       " <chr> & <int> & <int> & <chr> & <chr> & <chr> & <fct>\\\\\n",
       "\\hline\n",
       "\\end{tabular}\n"
      ],
      "text/markdown": [
       "\n",
       "A kwic: 0 × 7\n",
       "\n",
       "| docname &lt;chr&gt; | from &lt;int&gt; | to &lt;int&gt; | pre &lt;chr&gt; | keyword &lt;chr&gt; | post &lt;chr&gt; | pattern &lt;fct&gt; |\n",
       "|---|---|---|---|---|---|---|\n",
       "\n"
      ],
      "text/plain": [
       "     docname from to pre keyword post pattern"
      ]
     },
     "metadata": {},
     "output_type": "display_data"
    }
   ],
   "source": [
    "kwic(x = manifesto_toks, pattern = phrase(\"cosiddetti media\"))"
   ]
  },
  {
   "cell_type": "markdown",
   "id": "1ce8e2ea",
   "metadata": {},
   "source": [
    "# Test"
   ]
  },
  {
   "cell_type": "markdown",
   "id": "3310b539",
   "metadata": {},
   "source": [
    "Noi avevamo eliminato queste parole SOLO dalle press releases di UDC, SC & CD. Dati i risultati che ottieni, proverei a fare la stessa cosa e vedere se migliora la situazione.Cioè, nel tuo caso, toglierei queste parole dai Manifesti di questi  3 partiti. \n",
    "Rifai solo questa piccola parte per vedere come vengono D&B & D&B + Grundl, il resto è okay.\n",
    "\n",
    "\"costituente popolare\",\"partito popolare europeo\", \n",
    " \"area popolare\", \"partito popolare\",\"moderata e popolare\",\n",
    " \"riformatrice e popolare\",\"popolare e liberal\",\"popolare liberal\",\n",
    "  \"cattolica popolare\",\"cattolico popolare\",\n",
    "  \"cattolicesimo popolare\",\"costituente liberale e popolare\",\n",
    " \"centro popolare europeo”\n"
   ]
  },
  {
   "cell_type": "markdown",
   "id": "2873db67",
   "metadata": {},
   "source": [
    "m  <- read_csv(\"data/MPDataset_MPDS2021a.csv\")"
   ]
  },
  {
   "cell_type": "markdown",
   "id": "d667f64d",
   "metadata": {},
   "source": [
    "party_codes <- c(32061, 32230, 32440, 32460, 32530, 32610, 32630, 32720, 32956, 32450)\n",
    "\n",
    "m_ita <- m %>% \n",
    "filter(countryname == \"Italy\" & party %in% party_codes)"
   ]
  },
  {
   "cell_type": "markdown",
   "id": "72fada63",
   "metadata": {},
   "source": [
    "m_ita"
   ]
  },
  {
   "cell_type": "markdown",
   "id": "f90d7f1e",
   "metadata": {},
   "source": [
    "togliere  <- c(\"costituente popolare\",\"partito popolare europeo\", \"area popolare\", \"partito popolare\",\n",
    "               \"moderata e popolare\", \"riformatrice e popolare\",\"popolare e liberal\", \"popolare liberal\",\n",
    "               \"cattolica popolare\", \"cattolico popolare\", \"cattolicesimo popolare\",\n",
    "               \"costituente liberale e popolare\", \"centro popolare europeo\")\n",
    "\n",
    "togliere <- str_c(togliere, collapse = \"|\")\n",
    "\n",
    "centrist_parties <- c(\"Civic Choice\", \"Union of the Center\", \"Democratic Centre\")\n",
    "\n",
    "for (i in 1:3) {\n",
    "    \n",
    "    text <- mp_corpus(countryname == \"Italy\" & partyname %in% centrist_parties)[[i]][[1]]['text']\n",
    "    \n",
    "    changed_text <- str_replace_all(string = text, pattern = togliere, replacement = \"\")\n",
    "    \n",
    "    mp_corpus(countryname == \"Italy\" & partyname %in% centrist_parties)[[i]][[1]]['text']  <- changed_text  \n",
    "    \n",
    "}"
   ]
  },
  {
   "cell_type": "markdown",
   "id": "d6202424",
   "metadata": {},
   "source": [
    "Build a character vector with all the phrases to replace"
   ]
  },
  {
   "cell_type": "markdown",
   "id": "94d235e2",
   "metadata": {},
   "source": [
    "togliere  <- c(\"costituente popolare\",\"partito popolare europeo\", \"area popolare\", \"partito popolare\",\n",
    "               \"moderata e popolare\", \"riformatrice e popolare\",\"popolare e liberal\", \"popolare liberal\",\n",
    "               \"cattolica popolare\", \"cattolico popolare\", \"cattolicesimo popolare\",\n",
    "               \"costituente liberale e popolare\", \"centro popolare europeo\")"
   ]
  },
  {
   "cell_type": "markdown",
   "id": "89cac834",
   "metadata": {},
   "source": [
    "Collapse the vector into a single atomic string with each phrase being separated by \"|\""
   ]
  },
  {
   "cell_type": "markdown",
   "id": "d38cf89f",
   "metadata": {},
   "source": [
    "togliere <- str_c(togliere, collapse = \"|\")"
   ]
  },
  {
   "cell_type": "markdown",
   "id": "bb036773",
   "metadata": {},
   "source": [
    "Extract the manifestos of those three centrist parties out of the corpus (if we call the corpus directly inside the loop it'll throw an error for some reason...)"
   ]
  },
  {
   "cell_type": "markdown",
   "id": "3ba8dd0d",
   "metadata": {},
   "source": [
    "centrist_parties <- c(\"Civic Choice\", \"Union of the Center\", \"Democratic Centre\")\n",
    "\n",
    "centrist_corpus <- mp_corpus(countryname == \"Italy\" & partyname %in% centrist_parties)"
   ]
  },
  {
   "cell_type": "markdown",
   "id": "51928e56",
   "metadata": {},
   "source": [
    "For every manifesto inside the subset of centrist parties replace every instance of those phrases with an empty string."
   ]
  },
  {
   "cell_type": "markdown",
   "id": "99a8c911",
   "metadata": {},
   "source": [
    "for (i in 1:3) {\n",
    "    \n",
    "    text <- centrist_corpus[[i]][[1]]['text']\n",
    "    \n",
    "    changed_text <- str_replace_all(string = text, pattern = togliere, replacement = \"\")\n",
    "    \n",
    "    centrist_corpus[[i]][[1]]['text']  <- changed_text  \n",
    "    \n",
    "}"
   ]
  },
  {
   "cell_type": "markdown",
   "id": "74a6b166",
   "metadata": {},
   "source": [
    "mp_corpus(countryname == \"Italy\" & partyname %in% centrist_parties) <- centrist_corpus"
   ]
  },
  {
   "cell_type": "markdown",
   "id": "0f8e8c04",
   "metadata": {},
   "source": [
    "centrist_parties <- c(32450, 32460, 32530) # CD, SC, UdC"
   ]
  },
  {
   "cell_type": "markdown",
   "id": "530cf936",
   "metadata": {},
   "source": [
    "corpus_subset(manifesto_corpus, party %in% centrist_parties) %>% \n",
    "str_replace_all(string = ., pattern = togliere, replacement = \"\")"
   ]
  },
  {
   "cell_type": "markdown",
   "id": "508b1036",
   "metadata": {},
   "source": [
    "# Final dictionary analysis"
   ]
  },
  {
   "cell_type": "markdown",
   "id": "d631670e",
   "metadata": {},
   "source": [
    "## Individual-level analysis"
   ]
  },
  {
   "cell_type": "markdown",
   "id": "3d05884a",
   "metadata": {},
   "source": [
    "Create the corpus, tokenize it, remove all stopwords and group the tokens by the 'year' and 'gruppoP_recoded' variables (just like we did in step 3.1)"
   ]
  },
  {
   "cell_type": "code",
   "execution_count": 85,
   "id": "b39fdbbe",
   "metadata": {},
   "outputs": [],
   "source": [
    "final_corpus <- corpus(texts, text_field = \"textclean\")\n",
    "\n",
    "final_toks <- tokens(final_corpus, remove_punct = TRUE, remove_symbols = TRUE, remove_numbers = TRUE, remove_separators = TRUE)  %>% \n",
    "              tokens_remove(., pattern = stopwords(\"it\"), padding = TRUE) %>% \n",
    "              tokens_remove(., pattern = db_additional_stopwords) %>% \n",
    "              tokens_remove(., pattern = procedural_stopwords)"
   ]
  },
  {
   "cell_type": "markdown",
   "id": "2d96984f",
   "metadata": {},
   "source": [
    "Apply the dictionary and import all the needed variables"
   ]
  },
  {
   "cell_type": "code",
   "execution_count": 86,
   "id": "d7ede51d",
   "metadata": {},
   "outputs": [],
   "source": [
    "df <- tokens_lookup(x = final_toks, dictionary = dbg_dictionary) %>% \n",
    "dfm() %>% \n",
    "convert(., to = \"data.frame\") %>% \n",
    "mutate(gruppoP_recoded = docvars(final_toks)$gruppoP_recoded,\n",
    "       legislature = docvars(final_toks)$legislature,\n",
    "       year = docvars(final_toks)$year,\n",
    "       gov_member = docvars(final_toks)$Gov_memb,\n",
    "       external_support = docvars(final_toks)$External_sup,\n",
    "       classic_left_right = docvars(final_toks)$left_right,\n",
    "       ratio_left_right = docvars(final_toks)$ratio_leftright,\n",
    "       logit_left_right = docvars(final_toks)$logit_left_right,\n",
    "       classic_economic = docvars(final_toks)$classic_economic,\n",
    "       ratio_economic = docvars(final_toks)$ratio_economic,\n",
    "       logit_economic = docvars(final_toks)$logit_economic,\n",
    "       classic_gal_tan = docvars(final_toks)$classic_gal_tan,\n",
    "       ratio_gal_tan = docvars(final_toks)$ratio_gal_tan,\n",
    "       logit_gal_tan = docvars(final_toks)$logit_gal_tan,\n",
    "       classic_economic_gal_tan = docvars(final_toks)$classic_economic_gal_tan,\n",
    "       ratio_economic_gal_tan = docvars(final_toks)$ratio_economic_gal_tan,\n",
    "       logit_economic_gal_tan = docvars(final_toks)$logit_economic_gal_tan,\n",
    "       perc_of_populist_toks = (people + common_will + elite) / ntoken(final_toks),\n",
    "       standardized_perc_of_populist_toks = as.double(scale(perc_of_populist_toks)))"
   ]
  },
  {
   "cell_type": "markdown",
   "id": "9160a2cd",
   "metadata": {},
   "source": [
    "Having a look at the first rows of the dataframe"
   ]
  },
  {
   "cell_type": "code",
   "execution_count": 87,
   "id": "6f6cad55",
   "metadata": {},
   "outputs": [
    {
     "data": {
      "text/html": [
       "<table class=\"dataframe\">\n",
       "<caption>A data.frame: 6 × 23</caption>\n",
       "<thead>\n",
       "\t<tr><th></th><th scope=col>doc_id</th><th scope=col>people</th><th scope=col>common_will</th><th scope=col>elite</th><th scope=col>gruppoP_recoded</th><th scope=col>legislature</th><th scope=col>year</th><th scope=col>gov_member</th><th scope=col>external_support</th><th scope=col>classic_left_right</th><th scope=col>⋯</th><th scope=col>ratio_economic</th><th scope=col>logit_economic</th><th scope=col>classic_gal_tan</th><th scope=col>ratio_gal_tan</th><th scope=col>logit_gal_tan</th><th scope=col>classic_economic_gal_tan</th><th scope=col>ratio_economic_gal_tan</th><th scope=col>logit_economic_gal_tan</th><th scope=col>perc_of_populist_toks</th><th scope=col>standardized_perc_of_populist_toks</th></tr>\n",
       "\t<tr><th></th><th scope=col>&lt;chr&gt;</th><th scope=col>&lt;dbl&gt;</th><th scope=col>&lt;dbl&gt;</th><th scope=col>&lt;dbl&gt;</th><th scope=col>&lt;chr&gt;</th><th scope=col>&lt;dbl&gt;</th><th scope=col>&lt;int&gt;</th><th scope=col>&lt;dbl&gt;</th><th scope=col>&lt;dbl&gt;</th><th scope=col>&lt;dbl&gt;</th><th scope=col>⋯</th><th scope=col>&lt;dbl&gt;</th><th scope=col>&lt;dbl&gt;</th><th scope=col>&lt;dbl&gt;</th><th scope=col>&lt;dbl&gt;</th><th scope=col>&lt;dbl&gt;</th><th scope=col>&lt;dbl&gt;</th><th scope=col>&lt;dbl&gt;</th><th scope=col>&lt;dbl&gt;</th><th scope=col>&lt;dbl&gt;</th><th scope=col>&lt;dbl&gt;</th></tr>\n",
       "</thead>\n",
       "<tbody>\n",
       "\t<tr><th scope=row>1</th><td>text1</td><td>0</td><td>0</td><td>0</td><td>DC </td><td>1</td><td>1948</td><td>1</td><td>0</td><td> 31.91</td><td>⋯</td><td>-0.2187500</td><td>-0.3920421</td><td>0.00</td><td>NaN</td><td>0.000000</td><td>0.00</td><td>NaN</td><td>0.000000</td><td>0.00000000</td><td>-0.2740916</td></tr>\n",
       "\t<tr><th scope=row>2</th><td>text2</td><td>0</td><td>1</td><td>0</td><td>PCI</td><td>1</td><td>1948</td><td>0</td><td>0</td><td>-46.06</td><td>⋯</td><td>-0.8968504</td><td>-2.6090130</td><td>0.00</td><td>NaN</td><td>0.000000</td><td>0.00</td><td>NaN</td><td>0.000000</td><td>0.01333333</td><td> 1.3243371</td></tr>\n",
       "\t<tr><th scope=row>3</th><td>text3</td><td>1</td><td>0</td><td>0</td><td>PCI</td><td>1</td><td>1948</td><td>0</td><td>0</td><td>-46.06</td><td>⋯</td><td>-0.8968504</td><td>-2.6090130</td><td>0.00</td><td>NaN</td><td>0.000000</td><td>0.00</td><td>NaN</td><td>0.000000</td><td>0.02272727</td><td> 2.4505028</td></tr>\n",
       "\t<tr><th scope=row>4</th><td>text4</td><td>0</td><td>0</td><td>0</td><td>PCI</td><td>1</td><td>1948</td><td>0</td><td>0</td><td>-46.06</td><td>⋯</td><td>-0.8968504</td><td>-2.6090130</td><td>0.00</td><td>NaN</td><td>0.000000</td><td>0.00</td><td>NaN</td><td>0.000000</td><td>0.00000000</td><td>-0.2740916</td></tr>\n",
       "\t<tr><th scope=row>5</th><td>text5</td><td>0</td><td>0</td><td>0</td><td>PSI</td><td>1</td><td>1948</td><td>0</td><td>0</td><td>-46.01</td><td>⋯</td><td>-1.0000000</td><td>-3.0445224</td><td>1.27</td><td>  1</td><td>1.264127</td><td>1.27</td><td>  1</td><td>1.264127</td><td>0.00000000</td><td>-0.2740916</td></tr>\n",
       "\t<tr><th scope=row>6</th><td>text6</td><td>1</td><td>0</td><td>0</td><td>PCI</td><td>1</td><td>1948</td><td>0</td><td>0</td><td>-46.06</td><td>⋯</td><td>-0.8968504</td><td>-2.6090130</td><td>0.00</td><td>NaN</td><td>0.000000</td><td>0.00</td><td>NaN</td><td>0.000000</td><td>0.02380952</td><td> 2.5802454</td></tr>\n",
       "</tbody>\n",
       "</table>\n"
      ],
      "text/latex": [
       "A data.frame: 6 × 23\n",
       "\\begin{tabular}{r|lllllllllllllllllllll}\n",
       "  & doc\\_id & people & common\\_will & elite & gruppoP\\_recoded & legislature & year & gov\\_member & external\\_support & classic\\_left\\_right & ⋯ & ratio\\_economic & logit\\_economic & classic\\_gal\\_tan & ratio\\_gal\\_tan & logit\\_gal\\_tan & classic\\_economic\\_gal\\_tan & ratio\\_economic\\_gal\\_tan & logit\\_economic\\_gal\\_tan & perc\\_of\\_populist\\_toks & standardized\\_perc\\_of\\_populist\\_toks\\\\\n",
       "  & <chr> & <dbl> & <dbl> & <dbl> & <chr> & <dbl> & <int> & <dbl> & <dbl> & <dbl> & ⋯ & <dbl> & <dbl> & <dbl> & <dbl> & <dbl> & <dbl> & <dbl> & <dbl> & <dbl> & <dbl>\\\\\n",
       "\\hline\n",
       "\t1 & text1 & 0 & 0 & 0 & DC  & 1 & 1948 & 1 & 0 &  31.91 & ⋯ & -0.2187500 & -0.3920421 & 0.00 & NaN & 0.000000 & 0.00 & NaN & 0.000000 & 0.00000000 & -0.2740916\\\\\n",
       "\t2 & text2 & 0 & 1 & 0 & PCI & 1 & 1948 & 0 & 0 & -46.06 & ⋯ & -0.8968504 & -2.6090130 & 0.00 & NaN & 0.000000 & 0.00 & NaN & 0.000000 & 0.01333333 &  1.3243371\\\\\n",
       "\t3 & text3 & 1 & 0 & 0 & PCI & 1 & 1948 & 0 & 0 & -46.06 & ⋯ & -0.8968504 & -2.6090130 & 0.00 & NaN & 0.000000 & 0.00 & NaN & 0.000000 & 0.02272727 &  2.4505028\\\\\n",
       "\t4 & text4 & 0 & 0 & 0 & PCI & 1 & 1948 & 0 & 0 & -46.06 & ⋯ & -0.8968504 & -2.6090130 & 0.00 & NaN & 0.000000 & 0.00 & NaN & 0.000000 & 0.00000000 & -0.2740916\\\\\n",
       "\t5 & text5 & 0 & 0 & 0 & PSI & 1 & 1948 & 0 & 0 & -46.01 & ⋯ & -1.0000000 & -3.0445224 & 1.27 &   1 & 1.264127 & 1.27 &   1 & 1.264127 & 0.00000000 & -0.2740916\\\\\n",
       "\t6 & text6 & 1 & 0 & 0 & PCI & 1 & 1948 & 0 & 0 & -46.06 & ⋯ & -0.8968504 & -2.6090130 & 0.00 & NaN & 0.000000 & 0.00 & NaN & 0.000000 & 0.02380952 &  2.5802454\\\\\n",
       "\\end{tabular}\n"
      ],
      "text/markdown": [
       "\n",
       "A data.frame: 6 × 23\n",
       "\n",
       "| <!--/--> | doc_id &lt;chr&gt; | people &lt;dbl&gt; | common_will &lt;dbl&gt; | elite &lt;dbl&gt; | gruppoP_recoded &lt;chr&gt; | legislature &lt;dbl&gt; | year &lt;int&gt; | gov_member &lt;dbl&gt; | external_support &lt;dbl&gt; | classic_left_right &lt;dbl&gt; | ⋯ ⋯ | ratio_economic &lt;dbl&gt; | logit_economic &lt;dbl&gt; | classic_gal_tan &lt;dbl&gt; | ratio_gal_tan &lt;dbl&gt; | logit_gal_tan &lt;dbl&gt; | classic_economic_gal_tan &lt;dbl&gt; | ratio_economic_gal_tan &lt;dbl&gt; | logit_economic_gal_tan &lt;dbl&gt; | perc_of_populist_toks &lt;dbl&gt; | standardized_perc_of_populist_toks &lt;dbl&gt; |\n",
       "|---|---|---|---|---|---|---|---|---|---|---|---|---|---|---|---|---|---|---|---|---|---|\n",
       "| 1 | text1 | 0 | 0 | 0 | DC  | 1 | 1948 | 1 | 0 |  31.91 | ⋯ | -0.2187500 | -0.3920421 | 0.00 | NaN | 0.000000 | 0.00 | NaN | 0.000000 | 0.00000000 | -0.2740916 |\n",
       "| 2 | text2 | 0 | 1 | 0 | PCI | 1 | 1948 | 0 | 0 | -46.06 | ⋯ | -0.8968504 | -2.6090130 | 0.00 | NaN | 0.000000 | 0.00 | NaN | 0.000000 | 0.01333333 |  1.3243371 |\n",
       "| 3 | text3 | 1 | 0 | 0 | PCI | 1 | 1948 | 0 | 0 | -46.06 | ⋯ | -0.8968504 | -2.6090130 | 0.00 | NaN | 0.000000 | 0.00 | NaN | 0.000000 | 0.02272727 |  2.4505028 |\n",
       "| 4 | text4 | 0 | 0 | 0 | PCI | 1 | 1948 | 0 | 0 | -46.06 | ⋯ | -0.8968504 | -2.6090130 | 0.00 | NaN | 0.000000 | 0.00 | NaN | 0.000000 | 0.00000000 | -0.2740916 |\n",
       "| 5 | text5 | 0 | 0 | 0 | PSI | 1 | 1948 | 0 | 0 | -46.01 | ⋯ | -1.0000000 | -3.0445224 | 1.27 |   1 | 1.264127 | 1.27 |   1 | 1.264127 | 0.00000000 | -0.2740916 |\n",
       "| 6 | text6 | 1 | 0 | 0 | PCI | 1 | 1948 | 0 | 0 | -46.06 | ⋯ | -0.8968504 | -2.6090130 | 0.00 | NaN | 0.000000 | 0.00 | NaN | 0.000000 | 0.02380952 |  2.5802454 |\n",
       "\n"
      ],
      "text/plain": [
       "  doc_id people common_will elite gruppoP_recoded legislature year gov_member\n",
       "1 text1  0      0           0     DC              1           1948 1         \n",
       "2 text2  0      1           0     PCI             1           1948 0         \n",
       "3 text3  1      0           0     PCI             1           1948 0         \n",
       "4 text4  0      0           0     PCI             1           1948 0         \n",
       "5 text5  0      0           0     PSI             1           1948 0         \n",
       "6 text6  1      0           0     PCI             1           1948 0         \n",
       "  external_support classic_left_right <U+22EF>        ratio_economic logit_economic\n",
       "1 0                 31.91             <U+22EF> -0.2187500     -0.3920421    \n",
       "2 0                -46.06             <U+22EF> -0.8968504     -2.6090130    \n",
       "3 0                -46.06             <U+22EF> -0.8968504     -2.6090130    \n",
       "4 0                -46.06             <U+22EF> -0.8968504     -2.6090130    \n",
       "5 0                -46.01             <U+22EF> -1.0000000     -3.0445224    \n",
       "6 0                -46.06             <U+22EF> -0.8968504     -2.6090130    \n",
       "  classic_gal_tan ratio_gal_tan logit_gal_tan classic_economic_gal_tan\n",
       "1 0.00            NaN           0.000000      0.00                    \n",
       "2 0.00            NaN           0.000000      0.00                    \n",
       "3 0.00            NaN           0.000000      0.00                    \n",
       "4 0.00            NaN           0.000000      0.00                    \n",
       "5 1.27              1           1.264127      1.27                    \n",
       "6 0.00            NaN           0.000000      0.00                    \n",
       "  ratio_economic_gal_tan logit_economic_gal_tan perc_of_populist_toks\n",
       "1 NaN                    0.000000               0.00000000           \n",
       "2 NaN                    0.000000               0.01333333           \n",
       "3 NaN                    0.000000               0.02272727           \n",
       "4 NaN                    0.000000               0.00000000           \n",
       "5   1                    1.264127               0.00000000           \n",
       "6 NaN                    0.000000               0.02380952           \n",
       "  standardized_perc_of_populist_toks\n",
       "1 -0.2740916                        \n",
       "2  1.3243371                        \n",
       "3  2.4505028                        \n",
       "4 -0.2740916                        \n",
       "5 -0.2740916                        \n",
       "6  2.5802454                        "
      ]
     },
     "metadata": {},
     "output_type": "display_data"
    }
   ],
   "source": [
    "head(df)"
   ]
  },
  {
   "cell_type": "markdown",
   "id": "b3435257",
   "metadata": {},
   "source": [
    "Save the dataframe as a csv file"
   ]
  },
  {
   "cell_type": "code",
   "execution_count": 88,
   "id": "72c6b054",
   "metadata": {},
   "outputs": [],
   "source": [
    "write_csv(df, \"individual_results.csv\")"
   ]
  },
  {
   "cell_type": "markdown",
   "id": "c0e3853f",
   "metadata": {},
   "source": [
    "## Grouped analysis"
   ]
  },
  {
   "cell_type": "markdown",
   "id": "0a34f603",
   "metadata": {},
   "source": [
    "This time we'll run the analysis after grouping the tokens by party and year"
   ]
  },
  {
   "cell_type": "code",
   "execution_count": 91,
   "id": "17e12f41",
   "metadata": {},
   "outputs": [],
   "source": [
    "final_grouped_toks <- final_toks %>% \n",
    "                      quanteda:::tokens_group(x = ., groups = c('year', 'gruppoP_recoded'))\n",
    "\n",
    "df2 <- tokens_lookup(x = final_grouped_toks, dictionary = dbg_dictionary) %>% \n",
    "                     dfm() %>% \n",
    "                     convert(., to = \"data.frame\") %>% \n",
    "                     mutate(gruppoP_recoded = docvars(final_grouped_toks)$gruppoP_recoded,\n",
    "                             legislature = docvars(final_grouped_toks)$legislature,\n",
    "                             year = docvars(final_grouped_toks)$year,\n",
    "                             gov_member = docvars(final_grouped_toks)$Gov_memb,\n",
    "                             external_support = docvars(final_grouped_toks)$External_sup,\n",
    "                             classic_left_right = docvars(final_grouped_toks)$left_right,\n",
    "                             ratio_left_right = docvars(final_grouped_toks)$ratio_leftright,\n",
    "                             logit_left_right = docvars(final_grouped_toks)$logit_left_right,\n",
    "                             classic_economic = docvars(final_grouped_toks)$classic_economic,\n",
    "                             ratio_economic = docvars(final_grouped_toks)$ratio_economic,\n",
    "                             logit_economic = docvars(final_grouped_toks)$logit_economic,\n",
    "                             classic_gal_tan = docvars(final_grouped_toks)$classic_gal_tan,\n",
    "                             ratio_gal_tan = docvars(final_grouped_toks)$ratio_gal_tan,\n",
    "                             logit_gal_tan = docvars(final_grouped_toks)$logit_gal_tan,\n",
    "                             classic_economic_gal_tan = docvars(final_grouped_toks)$classic_economic_gal_tan,\n",
    "                             ratio_economic_gal_tan = docvars(final_grouped_toks)$ratio_economic_gal_tan,\n",
    "                             logit_economic_gal_tan = docvars(final_grouped_toks)$logit_economic_gal_tan,\n",
    "                             perc_of_populist_toks = (people + common_will + elite) / ntoken(final_grouped_toks),\n",
    "                             standardized_perc_of_populist_toks = as.double(scale(perc_of_populist_toks)))"
   ]
  },
  {
   "cell_type": "markdown",
   "id": "3ee02d1c",
   "metadata": {},
   "source": [
    "Save it"
   ]
  },
  {
   "cell_type": "code",
   "execution_count": 93,
   "id": "1ba304c5",
   "metadata": {},
   "outputs": [],
   "source": [
    "write_csv(df2, \"individual_results.csv\")"
   ]
  }
 ],
 "metadata": {
  "kernelspec": {
   "display_name": "R",
   "language": "R",
   "name": "ir"
  },
  "language_info": {
   "codemirror_mode": "r",
   "file_extension": ".r",
   "mimetype": "text/x-r-source",
   "name": "R",
   "pygments_lexer": "r",
   "version": "4.1.0"
  },
  "toc": {
   "base_numbering": 1,
   "nav_menu": {},
   "number_sections": true,
   "sideBar": true,
   "skip_h1_title": false,
   "title_cell": "Table of Contents",
   "title_sidebar": "Contents",
   "toc_cell": false,
   "toc_position": {
    "height": "calc(100% - 180px)",
    "left": "10px",
    "top": "150px",
    "width": "303.797px"
   },
   "toc_section_display": true,
   "toc_window_display": true
  }
 },
 "nbformat": 4,
 "nbformat_minor": 5
}
