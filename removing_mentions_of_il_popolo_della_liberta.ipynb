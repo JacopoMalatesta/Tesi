{
 "cells": [
  {
   "cell_type": "markdown",
   "id": "10139fb6",
   "metadata": {},
   "source": [
    "# Libraries"
   ]
  },
  {
   "cell_type": "code",
   "execution_count": 1,
   "id": "3c02dde3",
   "metadata": {},
   "outputs": [],
   "source": [
    "suppressWarnings(suppressPackageStartupMessages(library(tidyverse)))\n",
    "suppressWarnings(suppressPackageStartupMessages(library(quanteda)))"
   ]
  },
  {
   "cell_type": "markdown",
   "id": "f10abf5c",
   "metadata": {},
   "source": [
    "# Data"
   ]
  },
  {
   "cell_type": "markdown",
   "id": "374ba936",
   "metadata": {},
   "source": [
    "## Dataset"
   ]
  },
  {
   "cell_type": "code",
   "execution_count": 2,
   "id": "a212e721",
   "metadata": {},
   "outputs": [],
   "source": [
    "texts <- readRDS(\"data/joined_texts.rds\")\n",
    "\n",
    "texts <- texts %>% mutate(legislatura = as.integer(legislatura))"
   ]
  },
  {
   "cell_type": "markdown",
   "id": "2a5da2f9",
   "metadata": {},
   "source": [
    "## Stopwords"
   ]
  },
  {
   "cell_type": "code",
   "execution_count": 3,
   "id": "5f9f3bc9",
   "metadata": {},
   "outputs": [],
   "source": [
    "db_additional_stopwords  <- suppressMessages(read_csv(\"data/it_stopwords_new_list.csv\")) %>% \n",
    "                            pull(stopwords)\n",
    "\n",
    "procedural_stopwords <- suppressMessages(read_csv(\"data/it_stopwords_procedural.csv\")) %>% \n",
    "                        pull(it_stopwords_procedural)"
   ]
  },
  {
   "cell_type": "markdown",
   "id": "65323bea",
   "metadata": {},
   "source": [
    "## Dictionary"
   ]
  },
  {
   "cell_type": "code",
   "execution_count": 4,
   "id": "39b1ca93",
   "metadata": {},
   "outputs": [],
   "source": [
    "dictionaries <- readxl::read_xlsx(\"data/gruendl_terms_final.xlsx\", sheet = 1)\n",
    "\n",
    "people <- dictionaries %>% \n",
    "filter(!is.na(Decadri_Boussalis_Grundl_People)) %>% \n",
    "mutate(Decadri_Boussalis_Grundl_People = str_split(Decadri_Boussalis_Grundl_People, ', ')) %>% \n",
    "unnest(cols = c(Decadri_Boussalis_Grundl_People)) %>% \n",
    "distinct(Decadri_Boussalis_Grundl_People) %>% \n",
    "pull(Decadri_Boussalis_Grundl_People)\n",
    "\n",
    "common_will <- dictionaries %>% \n",
    "filter(!is.na(Decadri_Boussalis_Grundl_Common_Will)) %>% \n",
    "mutate(Decadri_Boussalis_Grundl_Common_Will = str_split(Decadri_Boussalis_Grundl_Common_Will, ', ')) %>% \n",
    "unnest(cols = c(Decadri_Boussalis_Grundl_Common_Will)) %>% \n",
    "distinct(Decadri_Boussalis_Grundl_Common_Will) %>% \n",
    "pull(Decadri_Boussalis_Grundl_Common_Will)\n",
    "\n",
    "elite <- dictionaries %>% \n",
    "filter(!is.na(Decadri_Boussalis_Grundl_Elite)) %>% \n",
    "mutate(Decadri_Boussalis_Grundl_Elite = str_split(Decadri_Boussalis_Grundl_Elite, ', ')) %>% \n",
    "unnest(cols = c(Decadri_Boussalis_Grundl_Elite)) %>% \n",
    "distinct(Decadri_Boussalis_Grundl_Elite) %>% \n",
    "pull(Decadri_Boussalis_Grundl_Elite)\n",
    "\n",
    "dbg_dictionary <- dictionary(list(people = people, common_will = common_will, elite = elite))"
   ]
  },
  {
   "cell_type": "markdown",
   "id": "bed61234",
   "metadata": {},
   "source": [
    "# Pre-processing"
   ]
  },
  {
   "cell_type": "code",
   "execution_count": 5,
   "id": "379fcd98",
   "metadata": {},
   "outputs": [],
   "source": [
    "final_corpus <- corpus(texts, text_field = \"textclean\")"
   ]
  },
  {
   "cell_type": "code",
   "execution_count": 6,
   "id": "62c44ae5",
   "metadata": {},
   "outputs": [],
   "source": [
    "final_toks <- tokens(final_corpus, remove_punct = TRUE, remove_symbols = TRUE, remove_numbers = TRUE, remove_separators = TRUE)  %>% \n",
    "              tokens_remove(., pattern = stopwords(\"it\"), padding = TRUE) %>% \n",
    "              tokens_remove(., pattern = db_additional_stopwords) %>% \n",
    "              tokens_remove(., pattern = procedural_stopwords) %>% \n",
    "              tokens_remove(., pattern = c(\"popolo dell* libert*\", \"popolo della libertà\", \"popolo della liberta\"))"
   ]
  },
  {
   "cell_type": "markdown",
   "id": "743b2390",
   "metadata": {},
   "source": [
    "# Dictionary analysis"
   ]
  },
  {
   "cell_type": "code",
   "execution_count": 7,
   "id": "75c2b0e3",
   "metadata": {},
   "outputs": [],
   "source": [
    "no_pdl <- tokens_lookup(x = final_toks, dictionary = dbg_dictionary) %>% \n",
    "dfm() %>% \n",
    "convert(., to = \"data.frame\") %>% \n",
    "mutate(gruppoP_recoded = docvars(final_toks)$gruppoP_recoded,\n",
    "       legislature = docvars(final_toks)$legislature,\n",
    "       year = docvars(final_toks)$year,\n",
    "       gov_member = docvars(final_toks)$Gov_memb,\n",
    "       external_support = docvars(final_toks)$External_sup,\n",
    "       classic_left_right = docvars(final_toks)$left_right,\n",
    "       ratio_left_right = docvars(final_toks)$ratio_leftright,\n",
    "       logit_left_right = docvars(final_toks)$logit_left_right,\n",
    "       classic_economic = docvars(final_toks)$classic_economic,\n",
    "       ratio_economic = docvars(final_toks)$ratio_economic,\n",
    "       logit_economic = docvars(final_toks)$logit_economic,\n",
    "       classic_gal_tan = docvars(final_toks)$classic_gal_tan,\n",
    "       ratio_gal_tan = docvars(final_toks)$ratio_gal_tan,\n",
    "       logit_gal_tan = docvars(final_toks)$logit_gal_tan,\n",
    "       classic_economic_gal_tan = docvars(final_toks)$classic_economic_gal_tan,\n",
    "       ratio_economic_gal_tan = docvars(final_toks)$ratio_economic_gal_tan,\n",
    "       logit_economic_gal_tan = docvars(final_toks)$logit_economic_gal_tan,\n",
    "       perc_of_populist_toks = (people + common_will + elite) / ntoken(final_toks),\n",
    "       standardized_perc_of_populist_toks = as.double(scale(perc_of_populist_toks)))"
   ]
  },
  {
   "cell_type": "markdown",
   "id": "4e892782",
   "metadata": {},
   "source": [
    "Save the dataframe as a csv"
   ]
  },
  {
   "cell_type": "code",
   "execution_count": 8,
   "id": "1f241039",
   "metadata": {},
   "outputs": [],
   "source": [
    "write_csv(no_pdl, \"no_pdl.csv\")"
   ]
  }
 ],
 "metadata": {
  "kernelspec": {
   "display_name": "R",
   "language": "R",
   "name": "ir"
  },
  "language_info": {
   "codemirror_mode": "r",
   "file_extension": ".r",
   "mimetype": "text/x-r-source",
   "name": "R",
   "pygments_lexer": "r",
   "version": "4.1.0"
  },
  "toc": {
   "base_numbering": 1,
   "nav_menu": {},
   "number_sections": true,
   "sideBar": true,
   "skip_h1_title": false,
   "title_cell": "Table of Contents",
   "title_sidebar": "Contents",
   "toc_cell": false,
   "toc_position": {},
   "toc_section_display": true,
   "toc_window_display": false
  }
 },
 "nbformat": 4,
 "nbformat_minor": 5
}
