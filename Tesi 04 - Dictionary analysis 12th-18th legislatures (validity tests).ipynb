{
 "cells": [
  {
   "cell_type": "markdown",
   "id": "2b297cf5",
   "metadata": {},
   "source": [
    "# Table of contents\n",
    "1. [Working directory, packages and data](#chapter1)\n",
    "2. [Data cleaning](#chapter2)\n",
    "3. [Wrapper function](#chapter3)\n",
    "4. [Rooduijn & Pauwels](#chapter4)\n",
    "   1. [Construct validity](#subparagraph1)\n",
    "   2. [Face validity](#subparagraph2)\n",
    "   3. [External validity](#subparagraph3)\n",
    "       1. [CHES](#subparagraph4)\n",
    "       2. [PopuList](#subparagraph5)\n",
    "5. [Decadri & Boussalis](#chapter5)\n",
    "   1. [Construct validity](#subparagraph6)\n",
    "   2. [Face validity](#subparagraph7)\n",
    "   3. [External validity](#subparagraph8)\n",
    "       1. [CHES](#subparagraph9)\n",
    "       2. [PopuList](#subparagraph10)"
   ]
  },
  {
   "cell_type": "markdown",
   "id": "f9964aef",
   "metadata": {},
   "source": [
    "# Working directory, packages and data <a class=\"anchor\" id=\"chapter1\"></a>"
   ]
  },
  {
   "cell_type": "markdown",
   "id": "1591cf50",
   "metadata": {},
   "source": [
    "Setting the working directory"
   ]
  },
  {
   "cell_type": "code",
   "execution_count": 1,
   "id": "a5723b80",
   "metadata": {},
   "outputs": [],
   "source": [
    "setwd('C:/Users/jacop/OneDrive/Desktop/Tesi/data/')"
   ]
  },
  {
   "cell_type": "markdown",
   "id": "d72f5b4e",
   "metadata": {},
   "source": [
    "Loading the libraries"
   ]
  },
  {
   "cell_type": "code",
   "execution_count": 2,
   "id": "7764a05d",
   "metadata": {},
   "outputs": [],
   "source": [
    "suppressWarnings(suppressPackageStartupMessages(library(dtplyr)))\n",
    "suppressWarnings(suppressPackageStartupMessages(library(tidyverse)))\n",
    "suppressWarnings(suppressPackageStartupMessages(library(data.table)))\n",
    "suppressWarnings(suppressPackageStartupMessages(library(quanteda)))"
   ]
  },
  {
   "cell_type": "markdown",
   "id": "bdb26e96",
   "metadata": {},
   "source": [
    "Loading the data"
   ]
  },
  {
   "cell_type": "code",
   "execution_count": 3,
   "id": "42a68795",
   "metadata": {},
   "outputs": [],
   "source": [
    "load(\"parliamentary_groups2.rds\")"
   ]
  },
  {
   "cell_type": "markdown",
   "id": "ab8533c2",
   "metadata": {},
   "source": [
    "Creating a lazy data.table out of our dataframe so that we can use dtplyr on it"
   ]
  },
  {
   "cell_type": "code",
   "execution_count": 4,
   "id": "1e71182d",
   "metadata": {},
   "outputs": [],
   "source": [
    "texts <- lazy_dt(Texts)"
   ]
  },
  {
   "cell_type": "markdown",
   "id": "c8ff7c69",
   "metadata": {},
   "source": [
    "# Data cleaning <a class=\"anchor\" id=\"chapter2\"></a>"
   ]
  },
  {
   "cell_type": "markdown",
   "id": "76b8e782",
   "metadata": {},
   "source": [
    "Casting the \"legislatura\" variable as numeric"
   ]
  },
  {
   "cell_type": "code",
   "execution_count": 5,
   "id": "c6c8ffb5",
   "metadata": {},
   "outputs": [],
   "source": [
    "texts <- texts %>% mutate(legislatura = as.integer(legislatura)) %>% as_tibble()"
   ]
  },
  {
   "cell_type": "markdown",
   "id": "f65ede49",
   "metadata": {},
   "source": [
    "Filtering the dataset by focusing on the last seven legislatures"
   ]
  },
  {
   "cell_type": "code",
   "execution_count": 6,
   "id": "ddb3767d",
   "metadata": {},
   "outputs": [],
   "source": [
    "texts <- texts %>% filter(legislatura >= 12) %>% as_tibble()"
   ]
  },
  {
   "cell_type": "markdown",
   "id": "c42fb870",
   "metadata": {},
   "source": [
    "# Wrapper function <a class=\"anchor\" id=\"chapter3\"></a>"
   ]
  },
  {
   "cell_type": "markdown",
   "id": "87b2a352",
   "metadata": {},
   "source": [
    "We'll run the dictionary analyses with a wrapper function. We'll use the \"dictionary\" argument to specify which dictionary we'll use each time. In particular:\n",
    "\n",
    "- no stemming will be applied;\n",
    "- all stopwords will be removed (both Quantedas' and Decadri & Boussalis' additional ones);\n",
    "- all rows from the dataset will be included."
   ]
  },
  {
   "cell_type": "code",
   "execution_count": 93,
   "id": "ad1fbb80",
   "metadata": {},
   "outputs": [],
   "source": [
    "dict_analysis <- function(data, \n",
    "                          dictionary) {\n",
    "        \n",
    "    # Creating the corpus\n",
    "    \n",
    "    my_corpus <- corpus(data, \n",
    "                        text_field = \"textclean\")\n",
    "       \n",
    "    # Tokenizing the corpus\n",
    "    \n",
    "    toks <- tokens(my_corpus, \n",
    "                   remove_punct = TRUE, \n",
    "                   remove_symbols = TRUE, \n",
    "                   remove_numbers = TRUE, \n",
    "                   remove_separators = TRUE\n",
    "                   )\n",
    "    \n",
    "    # Removing the Quanteda-provided stopwords\n",
    "    \n",
    "    cleaned_toks <- tokens_remove(toks, pattern = stopwords(\"it\"))\n",
    "    \n",
    "    # Removing the additional stopwords provided by Decadri and Boussalis\n",
    "    \n",
    "    decadri_boussalis_additional_stopwords  <- suppressMessages(read_csv(\"it_stopwords_new_list.csv\")) %>% \n",
    "                                               pull(stopwords)\n",
    "        \n",
    "    cleaned_toks <- tokens_remove(cleaned_toks, pattern = decadri_boussalis_additional_stopwords)\n",
    "           \n",
    "    # Building the dfm\n",
    "    \n",
    "    my_dfm <- dfm(cleaned_toks)\n",
    "    \n",
    "    # Building Rooduijn & Pauwels' dictionary\n",
    "    \n",
    "    anti_elitism <- c(\"elit*\", \"consens*\", \"antidemocratic*\", \"referend*\", \"corrot*\", \"propagand*\", \"politici*\",\n",
    "                      \"ingann*\", \"tradi*\", \"vergogn*\", \"scandal*\", \"verita\", \"disonest*\", \"partitocrazia\",\n",
    "                      \"menzogn*\", \"mentir*\")\n",
    "    \n",
    "    roduijn_and_pauwels_dictionary <- dictionary(list(anti_elitism = anti_elitism))\n",
    "           \n",
    "    # Building Decadri and Boussalis' dictionary\n",
    "    \n",
    "    anti_elitism <- c(\"antidemocratic*\", \"casta\", \"consens*\", \"corrot*\", \"disonest*\", \"elit*\", \"establishment\", \"ingann*\", \n",
    "                      \"mentir*\", \"menzogn*\", \"partitocrazia\", \"propagand*\", \"scandal*\", \"tradim*\", \"tradir*\", \"tradit*\", \n",
    "                      \"vergogn*\", \"verita\")\n",
    "\n",
    "    people_centrism  <- c(\"abitant*\", \"cittadin*\", \"consumator*\", \"contribuent*\", \"elettor*\", \"gente\", \"popol*\")\n",
    "\n",
    "    decadri_and_boussalis_dictionary <- dictionary(list(anti_elitism = anti_elitism, \n",
    "                                                        people_centrism = people_centrism))\n",
    "        \n",
    "    # Applying the dictionary to the dfm\n",
    "    \n",
    "    if (dictionary == \"Decadri_Boussalis\") {\n",
    "        \n",
    "        my_dict_lookup <- convert(dfm_lookup(my_dfm, dictionary = decadri_and_boussalis_dictionary), \n",
    "                                  to = \"data.frame\") \n",
    "        \n",
    "        } else if (dictionary == \"Rooduijn_Pauwels\") {\n",
    "        \n",
    "        my_dict_lookup <- convert(dfm_lookup(my_dfm, dictionary = roduijn_and_pauwels_dictionary), \n",
    "                                  to = \"data.frame\") \n",
    "        } else {\n",
    "        print(\"Invalid dictionary selected\")\n",
    "        break \n",
    "        }\n",
    "    \n",
    "    # Extracting the total number of cleaned tokens in each document \n",
    "    \n",
    "    doc_length <- map_int(cleaned_toks, ~ length(.))\n",
    "    \n",
    "    # Storing the vector with the total number of cleaned tokens inside a tibble along with each document's id and group cluster\n",
    "\n",
    "    tbl <- tibble(doc_id = names(cleaned_toks), \n",
    "                  n_of_cleaned_toks = doc_length, \n",
    "                  group_cluster = docvars(my_corpus) %>% pull(group_cluster2),\n",
    "                  party = docvars(my_corpus) %>% pull(gruppoP),\n",
    "                  year = docvars(my_corpus) %>% pull(year))\n",
    "    \n",
    "    if (dictionary == \"Decadri_Boussalis\") {\n",
    "\n",
    "        my_dict_lookup <- my_dict_lookup %>% \n",
    "                          mutate(populist_toks = anti_elitism + people_centrism) %>%  # Summing the anti elitism and the people centrism dimensions\n",
    "                          left_join(tbl, by = \"doc_id\") %>% # Joining the tbl with the total number of clean tokens to the dictionary lookup\n",
    "                          mutate(perc_of_populist_toks = populist_toks / n_of_cleaned_toks) %>% # Computing the proportion of populist tokens over all cleaned tokens\n",
    "                          mutate(standardized_perc_of_populist_toks = as.double(scale(perc_of_populist_toks))) %>% # Standardizing the %\n",
    "                          mutate(perc_of_populist_toks = replace_na(perc_of_populist_toks, 0)) %>% # Filling NAs with zeroes\n",
    "                          relocate(doc_id, year, party, group_cluster, anti_elitism, people_centrism, populist_toks, # Reordering the columns\n",
    "                                   n_of_cleaned_toks, perc_of_populist_toks, standardized_perc_of_populist_toks)\n",
    "    \n",
    "        return(my_dict_lookup)\n",
    "        \n",
    "        } else if (dictionary == \"Rooduijn_Pauwels\") {\n",
    "        \n",
    "         my_dict_lookup <- my_dict_lookup %>% \n",
    "                          left_join(tbl, by = \"doc_id\") %>% # Joining the tbl with the total number of clean tokens to the dictionary lookup\n",
    "                          mutate(perc_of_populist_toks = anti_elitism / n_of_cleaned_toks) %>% # Computing the proportion of populist tokens over all cleaned tokens\n",
    "                          mutate(standardized_perc_of_populist_toks = as.double(scale(perc_of_populist_toks))) %>% # Standardizing the %\n",
    "                          mutate(perc_of_populist_toks = replace_na(perc_of_populist_toks, 0)) %>% # Filling NAs with zeroes\n",
    "                          relocate(doc_id, year, party, group_cluster, anti_elitism,  # Reordering the columns\n",
    "                                   n_of_cleaned_toks, perc_of_populist_toks, standardized_perc_of_populist_toks)\n",
    "        \n",
    "        return(my_dict_lookup)\n",
    "    }\n",
    "            \n",
    "}"
   ]
  },
  {
   "cell_type": "markdown",
   "id": "8b3fbf6c",
   "metadata": {},
   "source": [
    "# Rooduijn & Pauwels <a class=\"anchor\" id=\"chapter4\"></a>"
   ]
  },
  {
   "cell_type": "markdown",
   "id": "193ae1b7",
   "metadata": {},
   "source": [
    "Let's run the dictionary analysis by using Roodujin and Pauwels' dictionary"
   ]
  },
  {
   "cell_type": "code",
   "execution_count": 8,
   "id": "66fd2f1d",
   "metadata": {},
   "outputs": [],
   "source": [
    "df_rp <- dict_analysis(data = texts, dictionary = \"Rooduijn_Pauwels\")"
   ]
  },
  {
   "cell_type": "markdown",
   "id": "32088a32",
   "metadata": {},
   "source": [
    "Let's save the results as an .Rdata file"
   ]
  },
  {
   "cell_type": "code",
   "execution_count": 10,
   "id": "7aca2bd1",
   "metadata": {},
   "outputs": [],
   "source": [
    "save(df_rp, file=\"C:/Users/jacop/OneDrive/Desktop/Tesi/data/df_rp.RData\")"
   ]
  },
  {
   "cell_type": "markdown",
   "id": "50f55aa3",
   "metadata": {},
   "source": [
    "The first rows of the dataframe"
   ]
  },
  {
   "cell_type": "code",
   "execution_count": 9,
   "id": "c2888b99",
   "metadata": {},
   "outputs": [
    {
     "data": {
      "text/html": [
       "<table class=\"dataframe\">\n",
       "<caption>A data.frame: 6 × 8</caption>\n",
       "<thead>\n",
       "\t<tr><th></th><th scope=col>doc_id</th><th scope=col>year</th><th scope=col>party</th><th scope=col>group_cluster</th><th scope=col>anti_elitism</th><th scope=col>n_of_cleaned_toks</th><th scope=col>perc_of_populist_toks</th><th scope=col>standardized_perc_of_populist_toks</th></tr>\n",
       "\t<tr><th></th><th scope=col>&lt;chr&gt;</th><th scope=col>&lt;int&gt;</th><th scope=col>&lt;chr&gt;</th><th scope=col>&lt;chr&gt;</th><th scope=col>&lt;dbl&gt;</th><th scope=col>&lt;int&gt;</th><th scope=col>&lt;dbl&gt;</th><th scope=col>&lt;dbl&gt;</th></tr>\n",
       "</thead>\n",
       "<tbody>\n",
       "\t<tr><th scope=row>1</th><td>text1</td><td>1994</td><td>F-ITA   </td><td>Conservative             </td><td>0</td><td> 9</td><td>0</td><td>-0.1631127</td></tr>\n",
       "\t<tr><th scope=row>2</th><td>text2</td><td>1994</td><td>PROGR-F </td><td>CommunistSocialDemocratic</td><td>0</td><td> 4</td><td>0</td><td>-0.1631127</td></tr>\n",
       "\t<tr><th scope=row>3</th><td>text3</td><td>1994</td><td>LEGA-N  </td><td>EthnicRegional           </td><td>0</td><td>26</td><td>0</td><td>-0.1631127</td></tr>\n",
       "\t<tr><th scope=row>4</th><td>text4</td><td>1994</td><td>RC-PROGR</td><td>Agrarian                 </td><td>0</td><td> 4</td><td>0</td><td>-0.1631127</td></tr>\n",
       "\t<tr><th scope=row>5</th><td>text5</td><td>1994</td><td>PROGR-F </td><td>CommunistSocialDemocratic</td><td>0</td><td> 4</td><td>0</td><td>-0.1631127</td></tr>\n",
       "\t<tr><th scope=row>6</th><td>text6</td><td>1994</td><td>PPI     </td><td>Christian Democratic     </td><td>0</td><td> 3</td><td>0</td><td>-0.1631127</td></tr>\n",
       "</tbody>\n",
       "</table>\n"
      ],
      "text/latex": [
       "A data.frame: 6 × 8\n",
       "\\begin{tabular}{r|llllllll}\n",
       "  & doc\\_id & year & party & group\\_cluster & anti\\_elitism & n\\_of\\_cleaned\\_toks & perc\\_of\\_populist\\_toks & standardized\\_perc\\_of\\_populist\\_toks\\\\\n",
       "  & <chr> & <int> & <chr> & <chr> & <dbl> & <int> & <dbl> & <dbl>\\\\\n",
       "\\hline\n",
       "\t1 & text1 & 1994 & F-ITA    & Conservative              & 0 &  9 & 0 & -0.1631127\\\\\n",
       "\t2 & text2 & 1994 & PROGR-F  & CommunistSocialDemocratic & 0 &  4 & 0 & -0.1631127\\\\\n",
       "\t3 & text3 & 1994 & LEGA-N   & EthnicRegional            & 0 & 26 & 0 & -0.1631127\\\\\n",
       "\t4 & text4 & 1994 & RC-PROGR & Agrarian                  & 0 &  4 & 0 & -0.1631127\\\\\n",
       "\t5 & text5 & 1994 & PROGR-F  & CommunistSocialDemocratic & 0 &  4 & 0 & -0.1631127\\\\\n",
       "\t6 & text6 & 1994 & PPI      & Christian Democratic      & 0 &  3 & 0 & -0.1631127\\\\\n",
       "\\end{tabular}\n"
      ],
      "text/markdown": [
       "\n",
       "A data.frame: 6 × 8\n",
       "\n",
       "| <!--/--> | doc_id &lt;chr&gt; | year &lt;int&gt; | party &lt;chr&gt; | group_cluster &lt;chr&gt; | anti_elitism &lt;dbl&gt; | n_of_cleaned_toks &lt;int&gt; | perc_of_populist_toks &lt;dbl&gt; | standardized_perc_of_populist_toks &lt;dbl&gt; |\n",
       "|---|---|---|---|---|---|---|---|---|\n",
       "| 1 | text1 | 1994 | F-ITA    | Conservative              | 0 |  9 | 0 | -0.1631127 |\n",
       "| 2 | text2 | 1994 | PROGR-F  | CommunistSocialDemocratic | 0 |  4 | 0 | -0.1631127 |\n",
       "| 3 | text3 | 1994 | LEGA-N   | EthnicRegional            | 0 | 26 | 0 | -0.1631127 |\n",
       "| 4 | text4 | 1994 | RC-PROGR | Agrarian                  | 0 |  4 | 0 | -0.1631127 |\n",
       "| 5 | text5 | 1994 | PROGR-F  | CommunistSocialDemocratic | 0 |  4 | 0 | -0.1631127 |\n",
       "| 6 | text6 | 1994 | PPI      | Christian Democratic      | 0 |  3 | 0 | -0.1631127 |\n",
       "\n"
      ],
      "text/plain": [
       "  doc_id year party    group_cluster             anti_elitism n_of_cleaned_toks\n",
       "1 text1  1994 F-ITA    Conservative              0             9               \n",
       "2 text2  1994 PROGR-F  CommunistSocialDemocratic 0             4               \n",
       "3 text3  1994 LEGA-N   EthnicRegional            0            26               \n",
       "4 text4  1994 RC-PROGR Agrarian                  0             4               \n",
       "5 text5  1994 PROGR-F  CommunistSocialDemocratic 0             4               \n",
       "6 text6  1994 PPI      Christian Democratic      0             3               \n",
       "  perc_of_populist_toks standardized_perc_of_populist_toks\n",
       "1 0                     -0.1631127                        \n",
       "2 0                     -0.1631127                        \n",
       "3 0                     -0.1631127                        \n",
       "4 0                     -0.1631127                        \n",
       "5 0                     -0.1631127                        \n",
       "6 0                     -0.1631127                        "
      ]
     },
     "metadata": {},
     "output_type": "display_data"
    }
   ],
   "source": [
    "head(df_rp) "
   ]
  },
  {
   "cell_type": "markdown",
   "id": "457935ee",
   "metadata": {},
   "source": [
    "## Construct validity <a class=\"anchor\" id=\"subparagraph1\"></a>"
   ]
  },
  {
   "cell_type": "markdown",
   "id": "0283c6a2",
   "metadata": {},
   "source": [
    "Rooduijn and Pauwels' dictionary captures the \"anti-elitism\" component of populism, but not the \"people-centrism\" one. As a result, from a construct validity standpoint, it is only partially valid. The authors motivated the decision to leave out the \"people-centrism\" dimension by pointing out that the \"people\" is often referenced to by words such as \"us\", \"we\" and \"our\" which are also used to reference entities other than the people (such as political parties). The inclusion of these words in the dictionary, they argue, would result in a large number of false positives."
   ]
  },
  {
   "cell_type": "markdown",
   "id": "dd79486d",
   "metadata": {},
   "source": [
    "## Face validity <a class=\"anchor\" id=\"subparagraph2\"></a>"
   ]
  },
  {
   "cell_type": "markdown",
   "id": "9fc4ad73",
   "metadata": {},
   "source": [
    "A populist dictionary has face validity if the allegedly populist parties are indeed populist. In the Italian case, we would expect populist values to be higher for parties that the literature deems populist (i.e. Five Star Movement, Lega Nord, Forza Italia and Il Popolo delle Libertà)."
   ]
  },
  {
   "cell_type": "markdown",
   "id": "0fd988d7",
   "metadata": {},
   "source": [
    "Let's first run an Analysis Of Variance (ANOVA) by using the % of populist tokens as our dependent variable and the group cluster as our predictor. \n",
    "\n",
    "The results indicate that the differences in the % of populist tokens between the group clusters are statistically significant."
   ]
  },
  {
   "cell_type": "code",
   "execution_count": 11,
   "id": "b35911d6",
   "metadata": {},
   "outputs": [
    {
     "data": {
      "text/plain": [
       "                  Df Sum Sq   Mean Sq F value Pr(>F)    \n",
       "group_cluster     11  0.009 0.0008159   10.77 <2e-16 ***\n",
       "Residuals     297661 22.560 0.0000758                   \n",
       "---\n",
       "Signif. codes:  0 '***' 0.001 '**' 0.01 '*' 0.05 '.' 0.1 ' ' 1"
      ]
     },
     "metadata": {},
     "output_type": "display_data"
    }
   ],
   "source": [
    "load(\"df_rp.RData\")\n",
    "\n",
    "anova_rp <- aov(perc_of_populist_toks ~ group_cluster, data = df_rp)\n",
    "\n",
    "summary(anova_rp)"
   ]
  },
  {
   "cell_type": "markdown",
   "id": "2b27ec90",
   "metadata": {},
   "source": [
    "We can assess how Rooduijn and Pauwels' dictionary fares in terms of face validity by grouping the results of the dictionary analysis by cluster and computing the average % of populist tokens (both standardized and unstandardized). \n",
    "\n",
    "The following are the results for the 1994-2021 period. Consistenly with our expectations and with the literature consensus, M5S and Lega Nord ('EthnicRegional') rank among the most populist clusters. However, the standardized % of populist tokens for Forza Italia and Il Popolo delle Libertà (the \"Conservative\" cluster) turned out to be negative. Interestingly, left-wing clusters such as the \"Agrarian\" cluster and \"Italia dei Valori\" received strong populist scores."
   ]
  },
  {
   "cell_type": "code",
   "execution_count": 12,
   "id": "6c04bba4",
   "metadata": {},
   "outputs": [
    {
     "data": {
      "text/html": [
       "<table class=\"dataframe\">\n",
       "<caption>A tibble: 12 × 3</caption>\n",
       "<thead>\n",
       "\t<tr><th scope=col>group_cluster</th><th scope=col>mean_perc_of_populist_toks</th><th scope=col>mean_standardized_perc_of_populist_toks</th></tr>\n",
       "\t<tr><th scope=col>&lt;chr&gt;</th><th scope=col>&lt;dbl&gt;</th><th scope=col>&lt;dbl&gt;</th></tr>\n",
       "</thead>\n",
       "<tbody>\n",
       "\t<tr><td>M5S                      </td><td>0.0018443707</td><td> 0.048776717</td></tr>\n",
       "\t<tr><td>Agrarian                 </td><td>0.0018252508</td><td> 0.046528893</td></tr>\n",
       "\t<tr><td>IdV                      </td><td>0.0016374709</td><td> 0.024924353</td></tr>\n",
       "\t<tr><td>EthnicRegional           </td><td>0.0016032646</td><td> 0.021070849</td></tr>\n",
       "\t<tr><td>FarRight                 </td><td>0.0015502313</td><td> 0.014960523</td></tr>\n",
       "\t<tr><td>Liberal                  </td><td>0.0014360122</td><td> 0.001790075</td></tr>\n",
       "\t<tr><td>Conservative             </td><td>0.0013935367</td><td>-0.003057208</td></tr>\n",
       "\t<tr><td>Misto                    </td><td>0.0013683535</td><td>-0.005969932</td></tr>\n",
       "\t<tr><td>CommunistSocialDemocratic</td><td>0.0013249569</td><td>-0.010940262</td></tr>\n",
       "\t<tr><td>Christian Democratic     </td><td>0.0011804321</td><td>-0.027552272</td></tr>\n",
       "\t<tr><td>Green                    </td><td>0.0010709654</td><td>-0.040129642</td></tr>\n",
       "\t<tr><td>Radical                  </td><td>0.0009817056</td><td>-0.050379691</td></tr>\n",
       "</tbody>\n",
       "</table>\n"
      ],
      "text/latex": [
       "A tibble: 12 × 3\n",
       "\\begin{tabular}{lll}\n",
       " group\\_cluster & mean\\_perc\\_of\\_populist\\_toks & mean\\_standardized\\_perc\\_of\\_populist\\_toks\\\\\n",
       " <chr> & <dbl> & <dbl>\\\\\n",
       "\\hline\n",
       "\t M5S                       & 0.0018443707 &  0.048776717\\\\\n",
       "\t Agrarian                  & 0.0018252508 &  0.046528893\\\\\n",
       "\t IdV                       & 0.0016374709 &  0.024924353\\\\\n",
       "\t EthnicRegional            & 0.0016032646 &  0.021070849\\\\\n",
       "\t FarRight                  & 0.0015502313 &  0.014960523\\\\\n",
       "\t Liberal                   & 0.0014360122 &  0.001790075\\\\\n",
       "\t Conservative              & 0.0013935367 & -0.003057208\\\\\n",
       "\t Misto                     & 0.0013683535 & -0.005969932\\\\\n",
       "\t CommunistSocialDemocratic & 0.0013249569 & -0.010940262\\\\\n",
       "\t Christian Democratic      & 0.0011804321 & -0.027552272\\\\\n",
       "\t Green                     & 0.0010709654 & -0.040129642\\\\\n",
       "\t Radical                   & 0.0009817056 & -0.050379691\\\\\n",
       "\\end{tabular}\n"
      ],
      "text/markdown": [
       "\n",
       "A tibble: 12 × 3\n",
       "\n",
       "| group_cluster &lt;chr&gt; | mean_perc_of_populist_toks &lt;dbl&gt; | mean_standardized_perc_of_populist_toks &lt;dbl&gt; |\n",
       "|---|---|---|\n",
       "| M5S                       | 0.0018443707 |  0.048776717 |\n",
       "| Agrarian                  | 0.0018252508 |  0.046528893 |\n",
       "| IdV                       | 0.0016374709 |  0.024924353 |\n",
       "| EthnicRegional            | 0.0016032646 |  0.021070849 |\n",
       "| FarRight                  | 0.0015502313 |  0.014960523 |\n",
       "| Liberal                   | 0.0014360122 |  0.001790075 |\n",
       "| Conservative              | 0.0013935367 | -0.003057208 |\n",
       "| Misto                     | 0.0013683535 | -0.005969932 |\n",
       "| CommunistSocialDemocratic | 0.0013249569 | -0.010940262 |\n",
       "| Christian Democratic      | 0.0011804321 | -0.027552272 |\n",
       "| Green                     | 0.0010709654 | -0.040129642 |\n",
       "| Radical                   | 0.0009817056 | -0.050379691 |\n",
       "\n"
      ],
      "text/plain": [
       "   group_cluster             mean_perc_of_populist_toks\n",
       "1  M5S                       0.0018443707              \n",
       "2  Agrarian                  0.0018252508              \n",
       "3  IdV                       0.0016374709              \n",
       "4  EthnicRegional            0.0016032646              \n",
       "5  FarRight                  0.0015502313              \n",
       "6  Liberal                   0.0014360122              \n",
       "7  Conservative              0.0013935367              \n",
       "8  Misto                     0.0013683535              \n",
       "9  CommunistSocialDemocratic 0.0013249569              \n",
       "10 Christian Democratic      0.0011804321              \n",
       "11 Green                     0.0010709654              \n",
       "12 Radical                   0.0009817056              \n",
       "   mean_standardized_perc_of_populist_toks\n",
       "1   0.048776717                           \n",
       "2   0.046528893                           \n",
       "3   0.024924353                           \n",
       "4   0.021070849                           \n",
       "5   0.014960523                           \n",
       "6   0.001790075                           \n",
       "7  -0.003057208                           \n",
       "8  -0.005969932                           \n",
       "9  -0.010940262                           \n",
       "10 -0.027552272                           \n",
       "11 -0.040129642                           \n",
       "12 -0.050379691                           "
      ]
     },
     "metadata": {},
     "output_type": "display_data"
    }
   ],
   "source": [
    "df_rp %>% \n",
    "group_by(group_cluster) %>% \n",
    "summarize(mean_perc_of_populist_toks = mean(perc_of_populist_toks, na.rm = TRUE),\n",
    "          mean_standardized_perc_of_populist_toks = mean(standardized_perc_of_populist_toks, na.rm = TRUE)) %>% \n",
    "arrange(desc(mean_standardized_perc_of_populist_toks))"
   ]
  },
  {
   "cell_type": "markdown",
   "id": "cc09e0cd",
   "metadata": {},
   "source": [
    "## External validity <a class=\"anchor\" id=\"subparagraph3\"></a>"
   ]
  },
  {
   "cell_type": "markdown",
   "id": "122db0bd",
   "metadata": {},
   "source": [
    "### Chapel Hill Expert Survey <a class=\"anchor\" id=\"subparagraph4\"></a>"
   ]
  },
  {
   "cell_type": "markdown",
   "id": "d5bb0e14",
   "metadata": {},
   "source": [
    "As Rooduijn and Pauwels' dictionary only captures the anti-elite dimension of populism, the external validity will be carried out against the anti-elite salience variable from the CHES dataset, which has been introduced in 2014."
   ]
  },
  {
   "cell_type": "markdown",
   "id": "e567f081",
   "metadata": {},
   "source": [
    "Let's load the CHES dataset"
   ]
  },
  {
   "cell_type": "code",
   "execution_count": 13,
   "id": "d0c2dbee",
   "metadata": {},
   "outputs": [],
   "source": [
    "ches <- read_csv(\"1999-2019_CHES_dataset_means(v2).csv\", show_col_types = FALSE)"
   ]
  },
  {
   "cell_type": "markdown",
   "id": "41c49bad",
   "metadata": {},
   "source": [
    "The countrycode for Italy is 8. The following is a list of all Italian parties in the CHES dataset in the 2014-2019 time period."
   ]
  },
  {
   "cell_type": "code",
   "execution_count": 17,
   "id": "87fa45d2",
   "metadata": {},
   "outputs": [
    {
     "data": {
      "text/html": [
       "<table class=\"dataframe\">\n",
       "<caption>A tibble: 15 × 1</caption>\n",
       "<thead>\n",
       "\t<tr><th scope=col>party</th></tr>\n",
       "\t<tr><th scope=col>&lt;chr&gt;</th></tr>\n",
       "</thead>\n",
       "<tbody>\n",
       "\t<tr><td>UDC</td></tr>\n",
       "\t<tr><td>SC </td></tr>\n",
       "\t<tr><td>VdA</td></tr>\n",
       "\t<tr><td>PD </td></tr>\n",
       "\t<tr><td>FI </td></tr>\n",
       "\t<tr><td>LN </td></tr>\n",
       "\t<tr><td>FdI</td></tr>\n",
       "\t<tr><td>SEL</td></tr>\n",
       "\t<tr><td>M5S</td></tr>\n",
       "\t<tr><td>CD </td></tr>\n",
       "\t<tr><td>SVP</td></tr>\n",
       "\t<tr><td>RC </td></tr>\n",
       "\t<tr><td>NCD</td></tr>\n",
       "\t<tr><td>RI </td></tr>\n",
       "\t<tr><td>SI </td></tr>\n",
       "</tbody>\n",
       "</table>\n"
      ],
      "text/latex": [
       "A tibble: 15 × 1\n",
       "\\begin{tabular}{l}\n",
       " party\\\\\n",
       " <chr>\\\\\n",
       "\\hline\n",
       "\t UDC\\\\\n",
       "\t SC \\\\\n",
       "\t VdA\\\\\n",
       "\t PD \\\\\n",
       "\t FI \\\\\n",
       "\t LN \\\\\n",
       "\t FdI\\\\\n",
       "\t SEL\\\\\n",
       "\t M5S\\\\\n",
       "\t CD \\\\\n",
       "\t SVP\\\\\n",
       "\t RC \\\\\n",
       "\t NCD\\\\\n",
       "\t RI \\\\\n",
       "\t SI \\\\\n",
       "\\end{tabular}\n"
      ],
      "text/markdown": [
       "\n",
       "A tibble: 15 × 1\n",
       "\n",
       "| party &lt;chr&gt; |\n",
       "|---|\n",
       "| UDC |\n",
       "| SC  |\n",
       "| VdA |\n",
       "| PD  |\n",
       "| FI  |\n",
       "| LN  |\n",
       "| FdI |\n",
       "| SEL |\n",
       "| M5S |\n",
       "| CD  |\n",
       "| SVP |\n",
       "| RC  |\n",
       "| NCD |\n",
       "| RI  |\n",
       "| SI  |\n",
       "\n"
      ],
      "text/plain": [
       "   party\n",
       "1  UDC  \n",
       "2  SC   \n",
       "3  VdA  \n",
       "4  PD   \n",
       "5  FI   \n",
       "6  LN   \n",
       "7  FdI  \n",
       "8  SEL  \n",
       "9  M5S  \n",
       "10 CD   \n",
       "11 SVP  \n",
       "12 RC   \n",
       "13 NCD  \n",
       "14 RI   \n",
       "15 SI   "
      ]
     },
     "metadata": {},
     "output_type": "display_data"
    }
   ],
   "source": [
    "ches %>% filter(country == 8 & year >= 2014 & year <= 2019) %>% distinct(party)"
   ]
  },
  {
   "cell_type": "markdown",
   "id": "4e9c5edd",
   "metadata": {},
   "source": [
    "While these are the parties included in our dataset in the same timeframe"
   ]
  },
  {
   "cell_type": "code",
   "execution_count": 16,
   "id": "0e1129cf",
   "metadata": {},
   "outputs": [
    {
     "data": {
      "text/html": [
       "<table class=\"dataframe\">\n",
       "<caption>A data.frame: 17 × 1</caption>\n",
       "<thead>\n",
       "\t<tr><th scope=col>party</th></tr>\n",
       "\t<tr><th scope=col>&lt;chr&gt;</th></tr>\n",
       "</thead>\n",
       "<tbody>\n",
       "\t<tr><td>CI            </td></tr>\n",
       "\t<tr><td>PD            </td></tr>\n",
       "\t<tr><td>FI-PDL        </td></tr>\n",
       "\t<tr><td>M5S           </td></tr>\n",
       "\t<tr><td>MDP-LU        </td></tr>\n",
       "\t<tr><td>NCI-SCPI-MAIE </td></tr>\n",
       "\t<tr><td>MISTO         </td></tr>\n",
       "\t<tr><td>SI-SEL-POS-LU </td></tr>\n",
       "\t<tr><td>AP-CPE-NCD-NCI</td></tr>\n",
       "\t<tr><td>LNA           </td></tr>\n",
       "\t<tr><td>FDI-AN        </td></tr>\n",
       "\t<tr><td>DES-CD        </td></tr>\n",
       "\t<tr><td>LEGA          </td></tr>\n",
       "\t<tr><td>IV            </td></tr>\n",
       "\t<tr><td>FI            </td></tr>\n",
       "\t<tr><td>FDI           </td></tr>\n",
       "\t<tr><td>LEU           </td></tr>\n",
       "</tbody>\n",
       "</table>\n"
      ],
      "text/latex": [
       "A data.frame: 17 × 1\n",
       "\\begin{tabular}{l}\n",
       " party\\\\\n",
       " <chr>\\\\\n",
       "\\hline\n",
       "\t CI            \\\\\n",
       "\t PD            \\\\\n",
       "\t FI-PDL        \\\\\n",
       "\t M5S           \\\\\n",
       "\t MDP-LU        \\\\\n",
       "\t NCI-SCPI-MAIE \\\\\n",
       "\t MISTO         \\\\\n",
       "\t SI-SEL-POS-LU \\\\\n",
       "\t AP-CPE-NCD-NCI\\\\\n",
       "\t LNA           \\\\\n",
       "\t FDI-AN        \\\\\n",
       "\t DES-CD        \\\\\n",
       "\t LEGA          \\\\\n",
       "\t IV            \\\\\n",
       "\t FI            \\\\\n",
       "\t FDI           \\\\\n",
       "\t LEU           \\\\\n",
       "\\end{tabular}\n"
      ],
      "text/markdown": [
       "\n",
       "A data.frame: 17 × 1\n",
       "\n",
       "| party &lt;chr&gt; |\n",
       "|---|\n",
       "| CI             |\n",
       "| PD             |\n",
       "| FI-PDL         |\n",
       "| M5S            |\n",
       "| MDP-LU         |\n",
       "| NCI-SCPI-MAIE  |\n",
       "| MISTO          |\n",
       "| SI-SEL-POS-LU  |\n",
       "| AP-CPE-NCD-NCI |\n",
       "| LNA            |\n",
       "| FDI-AN         |\n",
       "| DES-CD         |\n",
       "| LEGA           |\n",
       "| IV             |\n",
       "| FI             |\n",
       "| FDI            |\n",
       "| LEU            |\n",
       "\n"
      ],
      "text/plain": [
       "   party         \n",
       "1  CI            \n",
       "2  PD            \n",
       "3  FI-PDL        \n",
       "4  M5S           \n",
       "5  MDP-LU        \n",
       "6  NCI-SCPI-MAIE \n",
       "7  MISTO         \n",
       "8  SI-SEL-POS-LU \n",
       "9  AP-CPE-NCD-NCI\n",
       "10 LNA           \n",
       "11 FDI-AN        \n",
       "12 DES-CD        \n",
       "13 LEGA          \n",
       "14 IV            \n",
       "15 FI            \n",
       "16 FDI           \n",
       "17 LEU           "
      ]
     },
     "metadata": {},
     "output_type": "display_data"
    }
   ],
   "source": [
    "df_rp %>% filter(year >= 2014 & year <= 2019) %>% distinct(party)"
   ]
  },
  {
   "cell_type": "markdown",
   "id": "dc13c2e4",
   "metadata": {},
   "source": [
    "'Vallée d'Aoste', 'Südtiroler Volkspartei' and 'Radicali Italiani' are not part of our dataset, so let's drop them from the CHES dataset."
   ]
  },
  {
   "cell_type": "code",
   "execution_count": 23,
   "id": "7ac73337",
   "metadata": {},
   "outputs": [],
   "source": [
    "to_drop <- c('VdA', 'SVP', 'RI')\n",
    "\n",
    "ches <- ches %>% \n",
    "        filter(country == 8 & year >= 2014 & year <= 2019 & (!party %in% to_drop)) "
   ]
  },
  {
   "cell_type": "markdown",
   "id": "2cf8666e",
   "metadata": {},
   "source": [
    "Creating a new column in the CHES dataset called 'group_cluster' that matches the 'group_cluster2' column in the dataset"
   ]
  },
  {
   "cell_type": "code",
   "execution_count": 27,
   "id": "471c4c4a",
   "metadata": {},
   "outputs": [],
   "source": [
    "ches <- ches %>%\n",
    "mutate(group_cluster = case_when(\n",
    "party == 'UDC' ~ \"Christian Democratic\",\n",
    "party == 'SC' ~ \"Liberal\",\n",
    "party == 'PD' ~ \"CommunistSocialDemocratic\",\n",
    "party == 'FI' ~ \"Conservative\",\n",
    "party == 'LN' ~ \"EthnicRegional\",\n",
    "party == 'FdI'~ \"FarRight\",\n",
    "party == 'SEL'~ \"Agrarian\",\n",
    "party == 'M5S'~ \"M5S\",\n",
    "party == 'CD' ~ \"Christian Democratic\",\n",
    "party == 'RC' ~ \"Agrarian\",\n",
    "party == 'NCD'~ \"Christian Democratic\",\n",
    "party == 'SI' ~ \"Agrarian\"))"
   ]
  },
  {
   "cell_type": "markdown",
   "id": "fd9581cc",
   "metadata": {},
   "source": [
    "Let's now have a look at the average % of populist tokens for each cluster during the 2014-2019 timeframe (i.e. the CHES timeframe). We'll drop the \"Mixed group\" and \"Italia Viva\" as these two parliamentary groups are absent from the CHES dataset."
   ]
  },
  {
   "cell_type": "markdown",
   "id": "cc232fd8",
   "metadata": {},
   "source": [
    "The results of the dictionary analysis for the 2014-2019 timeframe are surprisingly different from the ones for the 1994-2021 timeframe. Firstly, all clusters turned out to be populist. Secondly, the FarRight, the Conservative and the Agrarian clusters are now the three leaders in the use of anti-establishment language. Thirdly, and most importantly, M5S and Lega now rank among the least populist clusters. These results (especially the third one) are unexpected and call into question the face validity of Rooduijn and Pauwels' dictionary."
   ]
  },
  {
   "cell_type": "code",
   "execution_count": 32,
   "id": "a63af7d1",
   "metadata": {},
   "outputs": [
    {
     "data": {
      "text/html": [
       "<table class=\"dataframe\">\n",
       "<caption>A tibble: 8 × 3</caption>\n",
       "<thead>\n",
       "\t<tr><th scope=col>group_cluster</th><th scope=col>mean_perc_of_populist_toks</th><th scope=col>mean_standardized_perc_of_populist_toks</th></tr>\n",
       "\t<tr><th scope=col>&lt;chr&gt;</th><th scope=col>&lt;dbl&gt;</th><th scope=col>&lt;dbl&gt;</th></tr>\n",
       "</thead>\n",
       "<tbody>\n",
       "\t<tr><td>FarRight                 </td><td>0.002502754</td><td>0.12428809</td></tr>\n",
       "\t<tr><td>Conservative             </td><td>0.002205361</td><td>0.09035805</td></tr>\n",
       "\t<tr><td>Agrarian                 </td><td>0.002199634</td><td>0.08947969</td></tr>\n",
       "\t<tr><td>Christian Democratic     </td><td>0.001941371</td><td>0.05982241</td></tr>\n",
       "\t<tr><td>CommunistSocialDemocratic</td><td>0.001906417</td><td>0.05587810</td></tr>\n",
       "\t<tr><td>M5S                      </td><td>0.001880763</td><td>0.05297550</td></tr>\n",
       "\t<tr><td>EthnicRegional           </td><td>0.001817698</td><td>0.04591648</td></tr>\n",
       "\t<tr><td>Liberal                  </td><td>0.001611024</td><td>0.02188732</td></tr>\n",
       "</tbody>\n",
       "</table>\n"
      ],
      "text/latex": [
       "A tibble: 8 × 3\n",
       "\\begin{tabular}{lll}\n",
       " group\\_cluster & mean\\_perc\\_of\\_populist\\_toks & mean\\_standardized\\_perc\\_of\\_populist\\_toks\\\\\n",
       " <chr> & <dbl> & <dbl>\\\\\n",
       "\\hline\n",
       "\t FarRight                  & 0.002502754 & 0.12428809\\\\\n",
       "\t Conservative              & 0.002205361 & 0.09035805\\\\\n",
       "\t Agrarian                  & 0.002199634 & 0.08947969\\\\\n",
       "\t Christian Democratic      & 0.001941371 & 0.05982241\\\\\n",
       "\t CommunistSocialDemocratic & 0.001906417 & 0.05587810\\\\\n",
       "\t M5S                       & 0.001880763 & 0.05297550\\\\\n",
       "\t EthnicRegional            & 0.001817698 & 0.04591648\\\\\n",
       "\t Liberal                   & 0.001611024 & 0.02188732\\\\\n",
       "\\end{tabular}\n"
      ],
      "text/markdown": [
       "\n",
       "A tibble: 8 × 3\n",
       "\n",
       "| group_cluster &lt;chr&gt; | mean_perc_of_populist_toks &lt;dbl&gt; | mean_standardized_perc_of_populist_toks &lt;dbl&gt; |\n",
       "|---|---|---|\n",
       "| FarRight                  | 0.002502754 | 0.12428809 |\n",
       "| Conservative              | 0.002205361 | 0.09035805 |\n",
       "| Agrarian                  | 0.002199634 | 0.08947969 |\n",
       "| Christian Democratic      | 0.001941371 | 0.05982241 |\n",
       "| CommunistSocialDemocratic | 0.001906417 | 0.05587810 |\n",
       "| M5S                       | 0.001880763 | 0.05297550 |\n",
       "| EthnicRegional            | 0.001817698 | 0.04591648 |\n",
       "| Liberal                   | 0.001611024 | 0.02188732 |\n",
       "\n"
      ],
      "text/plain": [
       "  group_cluster             mean_perc_of_populist_toks\n",
       "1 FarRight                  0.002502754               \n",
       "2 Conservative              0.002205361               \n",
       "3 Agrarian                  0.002199634               \n",
       "4 Christian Democratic      0.001941371               \n",
       "5 CommunistSocialDemocratic 0.001906417               \n",
       "6 M5S                       0.001880763               \n",
       "7 EthnicRegional            0.001817698               \n",
       "8 Liberal                   0.001611024               \n",
       "  mean_standardized_perc_of_populist_toks\n",
       "1 0.12428809                             \n",
       "2 0.09035805                             \n",
       "3 0.08947969                             \n",
       "4 0.05982241                             \n",
       "5 0.05587810                             \n",
       "6 0.05297550                             \n",
       "7 0.04591648                             \n",
       "8 0.02188732                             "
      ]
     },
     "metadata": {},
     "output_type": "display_data"
    }
   ],
   "source": [
    "rp_corr <- df_rp %>% \n",
    "filter(year >= 2014 & year <= 2019 & group_cluster != \"Misto\" & party != \"Misto\" & party != \"IV\") %>% \n",
    "group_by(group_cluster) %>% \n",
    "summarize(mean_perc_of_populist_toks = mean(perc_of_populist_toks),\n",
    "          mean_standardized_perc_of_populist_toks = mean(standardized_perc_of_populist_toks, na.rm = TRUE)) %>% \n",
    "arrange(desc(mean_perc_of_populist_toks))\n",
    "\n",
    "rp_corr"
   ]
  },
  {
   "cell_type": "markdown",
   "id": "4d83c336",
   "metadata": {},
   "source": [
    "Here's the average anti-elite salience grouped by group clusters. The difference with Rooduijn and Pauwels' dictionary is stark. Here M5S and Lega rank among the most populist while the Christian Democratic are the second to least populist."
   ]
  },
  {
   "cell_type": "code",
   "execution_count": 33,
   "id": "852a03f1",
   "metadata": {},
   "outputs": [
    {
     "data": {
      "text/html": [
       "<table class=\"dataframe\">\n",
       "<caption>A tibble: 8 × 2</caption>\n",
       "<thead>\n",
       "\t<tr><th scope=col>group_cluster</th><th scope=col>mean_anti_elite_salience</th></tr>\n",
       "\t<tr><th scope=col>&lt;chr&gt;</th><th scope=col>&lt;dbl&gt;</th></tr>\n",
       "</thead>\n",
       "<tbody>\n",
       "\t<tr><td>M5S                      </td><td>9.444445</td></tr>\n",
       "\t<tr><td>EthnicRegional           </td><td>8.566667</td></tr>\n",
       "\t<tr><td>FarRight                 </td><td>7.125000</td></tr>\n",
       "\t<tr><td>Agrarian                 </td><td>6.639683</td></tr>\n",
       "\t<tr><td>Conservative             </td><td>4.088235</td></tr>\n",
       "\t<tr><td>CommunistSocialDemocratic</td><td>3.141176</td></tr>\n",
       "\t<tr><td>Christian Democratic     </td><td>2.344444</td></tr>\n",
       "\t<tr><td>Liberal                  </td><td>1.000000</td></tr>\n",
       "</tbody>\n",
       "</table>\n"
      ],
      "text/latex": [
       "A tibble: 8 × 2\n",
       "\\begin{tabular}{ll}\n",
       " group\\_cluster & mean\\_anti\\_elite\\_salience\\\\\n",
       " <chr> & <dbl>\\\\\n",
       "\\hline\n",
       "\t M5S                       & 9.444445\\\\\n",
       "\t EthnicRegional            & 8.566667\\\\\n",
       "\t FarRight                  & 7.125000\\\\\n",
       "\t Agrarian                  & 6.639683\\\\\n",
       "\t Conservative              & 4.088235\\\\\n",
       "\t CommunistSocialDemocratic & 3.141176\\\\\n",
       "\t Christian Democratic      & 2.344444\\\\\n",
       "\t Liberal                   & 1.000000\\\\\n",
       "\\end{tabular}\n"
      ],
      "text/markdown": [
       "\n",
       "A tibble: 8 × 2\n",
       "\n",
       "| group_cluster &lt;chr&gt; | mean_anti_elite_salience &lt;dbl&gt; |\n",
       "|---|---|\n",
       "| M5S                       | 9.444445 |\n",
       "| EthnicRegional            | 8.566667 |\n",
       "| FarRight                  | 7.125000 |\n",
       "| Agrarian                  | 6.639683 |\n",
       "| Conservative              | 4.088235 |\n",
       "| CommunistSocialDemocratic | 3.141176 |\n",
       "| Christian Democratic      | 2.344444 |\n",
       "| Liberal                   | 1.000000 |\n",
       "\n"
      ],
      "text/plain": [
       "  group_cluster             mean_anti_elite_salience\n",
       "1 M5S                       9.444445                \n",
       "2 EthnicRegional            8.566667                \n",
       "3 FarRight                  7.125000                \n",
       "4 Agrarian                  6.639683                \n",
       "5 Conservative              4.088235                \n",
       "6 CommunistSocialDemocratic 3.141176                \n",
       "7 Christian Democratic      2.344444                \n",
       "8 Liberal                   1.000000                "
      ]
     },
     "metadata": {},
     "output_type": "display_data"
    }
   ],
   "source": [
    "ches_corr <- ches %>% \n",
    "group_by(group_cluster) %>% \n",
    "summarize(mean_anti_elite_salience = mean(antielite_salience)) %>% \n",
    "arrange(desc(mean_anti_elite_salience))\n",
    "\n",
    "ches_corr"
   ]
  },
  {
   "cell_type": "markdown",
   "id": "e910bdc5",
   "metadata": {},
   "source": [
    "Let's join the average anti-elite salience from the CHES dataset to the Rooduijn and Pauwels' data."
   ]
  },
  {
   "cell_type": "code",
   "execution_count": 34,
   "id": "e8a86b32",
   "metadata": {},
   "outputs": [
    {
     "data": {
      "text/html": [
       "<table class=\"dataframe\">\n",
       "<caption>A tibble: 8 × 4</caption>\n",
       "<thead>\n",
       "\t<tr><th scope=col>group_cluster</th><th scope=col>mean_perc_of_populist_toks</th><th scope=col>mean_standardized_perc_of_populist_toks</th><th scope=col>mean_anti_elite_salience</th></tr>\n",
       "\t<tr><th scope=col>&lt;chr&gt;</th><th scope=col>&lt;dbl&gt;</th><th scope=col>&lt;dbl&gt;</th><th scope=col>&lt;dbl&gt;</th></tr>\n",
       "</thead>\n",
       "<tbody>\n",
       "\t<tr><td>FarRight                 </td><td>0.002502754</td><td>0.12428809</td><td>7.125000</td></tr>\n",
       "\t<tr><td>Conservative             </td><td>0.002205361</td><td>0.09035805</td><td>4.088235</td></tr>\n",
       "\t<tr><td>Agrarian                 </td><td>0.002199634</td><td>0.08947969</td><td>6.639683</td></tr>\n",
       "\t<tr><td>Christian Democratic     </td><td>0.001941371</td><td>0.05982241</td><td>2.344444</td></tr>\n",
       "\t<tr><td>CommunistSocialDemocratic</td><td>0.001906417</td><td>0.05587810</td><td>3.141176</td></tr>\n",
       "\t<tr><td>M5S                      </td><td>0.001880763</td><td>0.05297550</td><td>9.444445</td></tr>\n",
       "\t<tr><td>EthnicRegional           </td><td>0.001817698</td><td>0.04591648</td><td>8.566667</td></tr>\n",
       "\t<tr><td>Liberal                  </td><td>0.001611024</td><td>0.02188732</td><td>1.000000</td></tr>\n",
       "</tbody>\n",
       "</table>\n"
      ],
      "text/latex": [
       "A tibble: 8 × 4\n",
       "\\begin{tabular}{llll}\n",
       " group\\_cluster & mean\\_perc\\_of\\_populist\\_toks & mean\\_standardized\\_perc\\_of\\_populist\\_toks & mean\\_anti\\_elite\\_salience\\\\\n",
       " <chr> & <dbl> & <dbl> & <dbl>\\\\\n",
       "\\hline\n",
       "\t FarRight                  & 0.002502754 & 0.12428809 & 7.125000\\\\\n",
       "\t Conservative              & 0.002205361 & 0.09035805 & 4.088235\\\\\n",
       "\t Agrarian                  & 0.002199634 & 0.08947969 & 6.639683\\\\\n",
       "\t Christian Democratic      & 0.001941371 & 0.05982241 & 2.344444\\\\\n",
       "\t CommunistSocialDemocratic & 0.001906417 & 0.05587810 & 3.141176\\\\\n",
       "\t M5S                       & 0.001880763 & 0.05297550 & 9.444445\\\\\n",
       "\t EthnicRegional            & 0.001817698 & 0.04591648 & 8.566667\\\\\n",
       "\t Liberal                   & 0.001611024 & 0.02188732 & 1.000000\\\\\n",
       "\\end{tabular}\n"
      ],
      "text/markdown": [
       "\n",
       "A tibble: 8 × 4\n",
       "\n",
       "| group_cluster &lt;chr&gt; | mean_perc_of_populist_toks &lt;dbl&gt; | mean_standardized_perc_of_populist_toks &lt;dbl&gt; | mean_anti_elite_salience &lt;dbl&gt; |\n",
       "|---|---|---|---|\n",
       "| FarRight                  | 0.002502754 | 0.12428809 | 7.125000 |\n",
       "| Conservative              | 0.002205361 | 0.09035805 | 4.088235 |\n",
       "| Agrarian                  | 0.002199634 | 0.08947969 | 6.639683 |\n",
       "| Christian Democratic      | 0.001941371 | 0.05982241 | 2.344444 |\n",
       "| CommunistSocialDemocratic | 0.001906417 | 0.05587810 | 3.141176 |\n",
       "| M5S                       | 0.001880763 | 0.05297550 | 9.444445 |\n",
       "| EthnicRegional            | 0.001817698 | 0.04591648 | 8.566667 |\n",
       "| Liberal                   | 0.001611024 | 0.02188732 | 1.000000 |\n",
       "\n"
      ],
      "text/plain": [
       "  group_cluster             mean_perc_of_populist_toks\n",
       "1 FarRight                  0.002502754               \n",
       "2 Conservative              0.002205361               \n",
       "3 Agrarian                  0.002199634               \n",
       "4 Christian Democratic      0.001941371               \n",
       "5 CommunistSocialDemocratic 0.001906417               \n",
       "6 M5S                       0.001880763               \n",
       "7 EthnicRegional            0.001817698               \n",
       "8 Liberal                   0.001611024               \n",
       "  mean_standardized_perc_of_populist_toks mean_anti_elite_salience\n",
       "1 0.12428809                              7.125000                \n",
       "2 0.09035805                              4.088235                \n",
       "3 0.08947969                              6.639683                \n",
       "4 0.05982241                              2.344444                \n",
       "5 0.05587810                              3.141176                \n",
       "6 0.05297550                              9.444445                \n",
       "7 0.04591648                              8.566667                \n",
       "8 0.02188732                              1.000000                "
      ]
     },
     "metadata": {},
     "output_type": "display_data"
    }
   ],
   "source": [
    "ches_rp <- rp_corr %>% \n",
    "inner_join(ches_corr, by = \"group_cluster\")\n",
    "\n",
    "ches_rp"
   ]
  },
  {
   "cell_type": "markdown",
   "id": "76459561",
   "metadata": {},
   "source": [
    "The correlation between the % of populist tokens as calculated with Rooduijn and Pauwels' dictionary and the CHES anti-élite salience variable is not statistically different from zero: the large p-value prevents us from rejecting the null hypothesis. "
   ]
  },
  {
   "cell_type": "code",
   "execution_count": 35,
   "id": "ca977d29",
   "metadata": {},
   "outputs": [
    {
     "data": {
      "text/plain": [
       "\n",
       "\tPearson's product-moment correlation\n",
       "\n",
       "data:  ches_rp$mean_perc_of_populist_toks and ches_rp$mean_anti_elite_salience\n",
       "t = 0.81322, df = 6, p-value = 0.4472\n",
       "alternative hypothesis: true correlation is not equal to 0\n",
       "95 percent confidence interval:\n",
       " -0.5007769  0.8344771\n",
       "sample estimates:\n",
       "      cor \n",
       "0.3150841 \n"
      ]
     },
     "metadata": {},
     "output_type": "display_data"
    }
   ],
   "source": [
    "cor.test(x = ches_rp$mean_perc_of_populist_toks, \n",
    "         y = ches_rp$mean_anti_elite_salience)"
   ]
  },
  {
   "cell_type": "markdown",
   "id": "9c039c86",
   "metadata": {},
   "source": [
    "### The PopuList <a class=\"anchor\" id=\"subparagraph5\"></a>"
   ]
  },
  {
   "cell_type": "markdown",
   "id": "c3f79a78",
   "metadata": {},
   "source": [
    "Reading the PopuList dataset"
   ]
  },
  {
   "cell_type": "code",
   "execution_count": 36,
   "id": "622ad006",
   "metadata": {},
   "outputs": [],
   "source": [
    "populist <- readxl::read_xlsx(\"populist-version-2-20200626.xlsx\")"
   ]
  },
  {
   "cell_type": "markdown",
   "id": "874e0515",
   "metadata": {},
   "source": [
    "All the Italian parties in the PopuList dataset"
   ]
  },
  {
   "cell_type": "code",
   "execution_count": 37,
   "id": "846e36bc",
   "metadata": {},
   "outputs": [
    {
     "data": {
      "text/html": [
       "<table class=\"dataframe\">\n",
       "<caption>A tibble: 13 × 1</caption>\n",
       "<thead>\n",
       "\t<tr><th scope=col>party_name</th></tr>\n",
       "\t<tr><th scope=col>&lt;chr&gt;</th></tr>\n",
       "</thead>\n",
       "<tbody>\n",
       "\t<tr><td>Fiamma Tricolore                          </td></tr>\n",
       "\t<tr><td>Forza Italia – Il Popolo della Libertà    </td></tr>\n",
       "\t<tr><td>Fratelli d'Italia – Centrodestra Nazionale</td></tr>\n",
       "\t<tr><td>Il Popolo della Libertà                   </td></tr>\n",
       "\t<tr><td>Lega (Nord)                               </td></tr>\n",
       "\t<tr><td>Lega d'Azione Meridionale                 </td></tr>\n",
       "\t<tr><td>Liga Veneta                               </td></tr>\n",
       "\t<tr><td>Movimento 5 Stelle                        </td></tr>\n",
       "\t<tr><td>Movimento Sociale Italiano                </td></tr>\n",
       "\t<tr><td>Partito dei Comunisti Italiani            </td></tr>\n",
       "\t<tr><td>Partito della Rifondazione Comunista      </td></tr>\n",
       "\t<tr><td>Rivoluzione Civile                        </td></tr>\n",
       "\t<tr><td>Sinistra                                  </td></tr>\n",
       "</tbody>\n",
       "</table>\n"
      ],
      "text/latex": [
       "A tibble: 13 × 1\n",
       "\\begin{tabular}{l}\n",
       " party\\_name\\\\\n",
       " <chr>\\\\\n",
       "\\hline\n",
       "\t Fiamma Tricolore                          \\\\\n",
       "\t Forza Italia – Il Popolo della Libertà    \\\\\n",
       "\t Fratelli d'Italia – Centrodestra Nazionale\\\\\n",
       "\t Il Popolo della Libertà                   \\\\\n",
       "\t Lega (Nord)                               \\\\\n",
       "\t Lega d'Azione Meridionale                 \\\\\n",
       "\t Liga Veneta                               \\\\\n",
       "\t Movimento 5 Stelle                        \\\\\n",
       "\t Movimento Sociale Italiano                \\\\\n",
       "\t Partito dei Comunisti Italiani            \\\\\n",
       "\t Partito della Rifondazione Comunista      \\\\\n",
       "\t Rivoluzione Civile                        \\\\\n",
       "\t Sinistra                                  \\\\\n",
       "\\end{tabular}\n"
      ],
      "text/markdown": [
       "\n",
       "A tibble: 13 × 1\n",
       "\n",
       "| party_name &lt;chr&gt; |\n",
       "|---|\n",
       "| Fiamma Tricolore                           |\n",
       "| Forza Italia – Il Popolo della Libertà     |\n",
       "| Fratelli d'Italia – Centrodestra Nazionale |\n",
       "| Il Popolo della Libertà                    |\n",
       "| Lega (Nord)                                |\n",
       "| Lega d'Azione Meridionale                  |\n",
       "| Liga Veneta                                |\n",
       "| Movimento 5 Stelle                         |\n",
       "| Movimento Sociale Italiano                 |\n",
       "| Partito dei Comunisti Italiani             |\n",
       "| Partito della Rifondazione Comunista       |\n",
       "| Rivoluzione Civile                         |\n",
       "| Sinistra                                   |\n",
       "\n"
      ],
      "text/plain": [
       "   party_name                                \n",
       "1  Fiamma Tricolore                          \n",
       "2  Forza Italia – Il Popolo della Libertà    \n",
       "3  Fratelli d'Italia – Centrodestra Nazionale\n",
       "4  Il Popolo della Libertà                   \n",
       "5  Lega (Nord)                               \n",
       "6  Lega d'Azione Meridionale                 \n",
       "7  Liga Veneta                               \n",
       "8  Movimento 5 Stelle                        \n",
       "9  Movimento Sociale Italiano                \n",
       "10 Partito dei Comunisti Italiani            \n",
       "11 Partito della Rifondazione Comunista      \n",
       "12 Rivoluzione Civile                        \n",
       "13 Sinistra                                  "
      ]
     },
     "metadata": {},
     "output_type": "display_data"
    }
   ],
   "source": [
    "populist %>% filter(country_name == \"Italy\") %>% distinct(party_name)"
   ]
  },
  {
   "cell_type": "markdown",
   "id": "6b868af2",
   "metadata": {},
   "source": [
    "The parties in our dataset (grouped by cluster)"
   ]
  },
  {
   "cell_type": "code",
   "execution_count": 41,
   "id": "900469d5",
   "metadata": {
    "scrolled": true
   },
   "outputs": [
    {
     "data": {
      "text/html": [
       "<table class=\"dataframe\">\n",
       "<caption>A grouped_df: 55 × 2</caption>\n",
       "<thead>\n",
       "\t<tr><th scope=col>group_cluster</th><th scope=col>party</th></tr>\n",
       "\t<tr><th scope=col>&lt;chr&gt;</th><th scope=col>&lt;chr&gt;</th></tr>\n",
       "</thead>\n",
       "<tbody>\n",
       "\t<tr><td>Agrarian                 </td><td>RC-PROGR                                                                                                                                                    </td></tr>\n",
       "\t<tr><td>Agrarian                 </td><td>COMUNISTA                                                                                                                                                   </td></tr>\n",
       "\t<tr><td>Agrarian                 </td><td>RC                                                                                                                                                          </td></tr>\n",
       "\t<tr><td>Agrarian                 </td><td>COM/IT/                                                                                                                                                     </td></tr>\n",
       "\t<tr><td>Agrarian                 </td><td>RC-SE                                                                                                                                                       </td></tr>\n",
       "\t<tr><td>Agrarian                 </td><td>SI-SEL-POS-LU                                                                                                                                               </td></tr>\n",
       "\t<tr><td>Christian Democratic     </td><td>PPI                                                                                                                                                         </td></tr>\n",
       "\t<tr><td>Christian Democratic     </td><td>DEMO                                                                                                                                                        </td></tr>\n",
       "\t<tr><td>Christian Democratic     </td><td>CCD                                                                                                                                                         </td></tr>\n",
       "\t<tr><td>Christian Democratic     </td><td>UDEUR                                                                                                                                                       </td></tr>\n",
       "\t<tr><td>Christian Democratic     </td><td>DEM-U                                                                                                                                                       </td></tr>\n",
       "\t<tr><td>Christian Democratic     </td><td>PD-ULIVO                                                                                                                                                    </td></tr>\n",
       "\t<tr><td>Christian Democratic     </td><td>UDR                                                                                                                                                         </td></tr>\n",
       "\t<tr><td>Christian Democratic     </td><td>MARGH-U                                                                                                                                                     </td></tr>\n",
       "\t<tr><td>Christian Democratic     </td><td>CCD-CDU                                                                                                                                                     </td></tr>\n",
       "\t<tr><td>Christian Democratic     </td><td>UNIONE DEI DEMOCRATICI CRISTIANI E DEI DEMOCRATICI DI CENTRO                                                                                                </td></tr>\n",
       "\t<tr><td>Christian Democratic     </td><td>POP-UDEUR                                                                                                                                                   </td></tr>\n",
       "\t<tr><td>Christian Democratic     </td><td>DCA-NPSI                                                                                                                                                    </td></tr>\n",
       "\t<tr><td>Christian Democratic     </td><td>NOI SUD-LIBERTA' ED AUTONOMIA/POPOLARI D'ITALIA DOMANI-PID/MOVIMENTO DI RESPONSABILITA' NAZIONALE-MRN/AZIONE POPOLARE/ALLEANZA DI CENTRO-ADC/INTESA POPOLARE</td></tr>\n",
       "\t<tr><td>Christian Democratic     </td><td>UDCPTP                                                                                                                                                      </td></tr>\n",
       "\t<tr><td>Christian Democratic     </td><td>AP-CPE-NCD-NCI                                                                                                                                              </td></tr>\n",
       "\t<tr><td>Christian Democratic     </td><td>DES-CD                                                                                                                                                      </td></tr>\n",
       "\t<tr><td>Christian Democratic     </td><td>IV                                                                                                                                                          </td></tr>\n",
       "\t<tr><td>CommunistSocialDemocratic</td><td>PROGR-F                                                                                                                                                     </td></tr>\n",
       "\t<tr><td>CommunistSocialDemocratic</td><td>DS-ULIVO                                                                                                                                                    </td></tr>\n",
       "\t<tr><td>CommunistSocialDemocratic</td><td>DS-U                                                                                                                                                        </td></tr>\n",
       "\t<tr><td>CommunistSocialDemocratic</td><td>PD-U                                                                                                                                                        </td></tr>\n",
       "\t<tr><td>CommunistSocialDemocratic</td><td>SDPSE                                                                                                                                                       </td></tr>\n",
       "\t<tr><td>CommunistSocialDemocratic</td><td>PD                                                                                                                                                          </td></tr>\n",
       "\t<tr><td>CommunistSocialDemocratic</td><td>MDP-LU                                                                                                                                                      </td></tr>\n",
       "\t<tr><td>CommunistSocialDemocratic</td><td>LEU                                                                                                                                                         </td></tr>\n",
       "\t<tr><td>Conservative             </td><td>F-ITA                                                                                                                                                       </td></tr>\n",
       "\t<tr><td>Conservative             </td><td>FI                                                                                                                                                          </td></tr>\n",
       "\t<tr><td>Conservative             </td><td>PDL                                                                                                                                                         </td></tr>\n",
       "\t<tr><td>Conservative             </td><td>FI-PDL                                                                                                                                                      </td></tr>\n",
       "\t<tr><td>EthnicRegional           </td><td>LEGA-N                                                                                                                                                      </td></tr>\n",
       "\t<tr><td>EthnicRegional           </td><td>FLD                                                                                                                                                         </td></tr>\n",
       "\t<tr><td>EthnicRegional           </td><td>LIFED                                                                                                                                                       </td></tr>\n",
       "\t<tr><td>EthnicRegional           </td><td>LEGA-NORD-P                                                                                                                                                 </td></tr>\n",
       "\t<tr><td>EthnicRegional           </td><td>LNFP                                                                                                                                                        </td></tr>\n",
       "\t<tr><td>EthnicRegional           </td><td>LNP                                                                                                                                                         </td></tr>\n",
       "\t<tr><td>EthnicRegional           </td><td>LNA                                                                                                                                                         </td></tr>\n",
       "\t<tr><td>EthnicRegional           </td><td>LEGA                                                                                                                                                        </td></tr>\n",
       "\t<tr><td>FarRight                 </td><td>AN                                                                                                                                                          </td></tr>\n",
       "\t<tr><td>FarRight                 </td><td>FLPTP                                                                                                                                                       </td></tr>\n",
       "\t<tr><td>FarRight                 </td><td>FDI-AN                                                                                                                                                      </td></tr>\n",
       "\t<tr><td>FarRight                 </td><td>FDI                                                                                                                                                         </td></tr>\n",
       "\t<tr><td>Green                    </td><td>VERDI                                                                                                                                                       </td></tr>\n",
       "\t<tr><td>IdV                      </td><td>IDV                                                                                                                                                         </td></tr>\n",
       "\t<tr><td>Liberal                  </td><td>RINN/IT                                                                                                                                                     </td></tr>\n",
       "\t<tr><td>Liberal                  </td><td>CI                                                                                                                                                          </td></tr>\n",
       "\t<tr><td>Liberal                  </td><td>NCI-SCPI-MAIE                                                                                                                                               </td></tr>\n",
       "\t<tr><td>M5S                      </td><td>M5S                                                                                                                                                         </td></tr>\n",
       "\t<tr><td>Misto                    </td><td>MISTO                                                                                                                                                       </td></tr>\n",
       "\t<tr><td>Radical                  </td><td>SOCRAD-RNP                                                                                                                                                  </td></tr>\n",
       "</tbody>\n",
       "</table>\n"
      ],
      "text/latex": [
       "A grouped\\_df: 55 × 2\n",
       "\\begin{tabular}{ll}\n",
       " group\\_cluster & party\\\\\n",
       " <chr> & <chr>\\\\\n",
       "\\hline\n",
       "\t Agrarian                  & RC-PROGR                                                                                                                                                    \\\\\n",
       "\t Agrarian                  & COMUNISTA                                                                                                                                                   \\\\\n",
       "\t Agrarian                  & RC                                                                                                                                                          \\\\\n",
       "\t Agrarian                  & COM/IT/                                                                                                                                                     \\\\\n",
       "\t Agrarian                  & RC-SE                                                                                                                                                       \\\\\n",
       "\t Agrarian                  & SI-SEL-POS-LU                                                                                                                                               \\\\\n",
       "\t Christian Democratic      & PPI                                                                                                                                                         \\\\\n",
       "\t Christian Democratic      & DEMO                                                                                                                                                        \\\\\n",
       "\t Christian Democratic      & CCD                                                                                                                                                         \\\\\n",
       "\t Christian Democratic      & UDEUR                                                                                                                                                       \\\\\n",
       "\t Christian Democratic      & DEM-U                                                                                                                                                       \\\\\n",
       "\t Christian Democratic      & PD-ULIVO                                                                                                                                                    \\\\\n",
       "\t Christian Democratic      & UDR                                                                                                                                                         \\\\\n",
       "\t Christian Democratic      & MARGH-U                                                                                                                                                     \\\\\n",
       "\t Christian Democratic      & CCD-CDU                                                                                                                                                     \\\\\n",
       "\t Christian Democratic      & UNIONE DEI DEMOCRATICI CRISTIANI E DEI DEMOCRATICI DI CENTRO                                                                                                \\\\\n",
       "\t Christian Democratic      & POP-UDEUR                                                                                                                                                   \\\\\n",
       "\t Christian Democratic      & DCA-NPSI                                                                                                                                                    \\\\\n",
       "\t Christian Democratic      & NOI SUD-LIBERTA' ED AUTONOMIA/POPOLARI D'ITALIA DOMANI-PID/MOVIMENTO DI RESPONSABILITA' NAZIONALE-MRN/AZIONE POPOLARE/ALLEANZA DI CENTRO-ADC/INTESA POPOLARE\\\\\n",
       "\t Christian Democratic      & UDCPTP                                                                                                                                                      \\\\\n",
       "\t Christian Democratic      & AP-CPE-NCD-NCI                                                                                                                                              \\\\\n",
       "\t Christian Democratic      & DES-CD                                                                                                                                                      \\\\\n",
       "\t Christian Democratic      & IV                                                                                                                                                          \\\\\n",
       "\t CommunistSocialDemocratic & PROGR-F                                                                                                                                                     \\\\\n",
       "\t CommunistSocialDemocratic & DS-ULIVO                                                                                                                                                    \\\\\n",
       "\t CommunistSocialDemocratic & DS-U                                                                                                                                                        \\\\\n",
       "\t CommunistSocialDemocratic & PD-U                                                                                                                                                        \\\\\n",
       "\t CommunistSocialDemocratic & SDPSE                                                                                                                                                       \\\\\n",
       "\t CommunistSocialDemocratic & PD                                                                                                                                                          \\\\\n",
       "\t CommunistSocialDemocratic & MDP-LU                                                                                                                                                      \\\\\n",
       "\t CommunistSocialDemocratic & LEU                                                                                                                                                         \\\\\n",
       "\t Conservative              & F-ITA                                                                                                                                                       \\\\\n",
       "\t Conservative              & FI                                                                                                                                                          \\\\\n",
       "\t Conservative              & PDL                                                                                                                                                         \\\\\n",
       "\t Conservative              & FI-PDL                                                                                                                                                      \\\\\n",
       "\t EthnicRegional            & LEGA-N                                                                                                                                                      \\\\\n",
       "\t EthnicRegional            & FLD                                                                                                                                                         \\\\\n",
       "\t EthnicRegional            & LIFED                                                                                                                                                       \\\\\n",
       "\t EthnicRegional            & LEGA-NORD-P                                                                                                                                                 \\\\\n",
       "\t EthnicRegional            & LNFP                                                                                                                                                        \\\\\n",
       "\t EthnicRegional            & LNP                                                                                                                                                         \\\\\n",
       "\t EthnicRegional            & LNA                                                                                                                                                         \\\\\n",
       "\t EthnicRegional            & LEGA                                                                                                                                                        \\\\\n",
       "\t FarRight                  & AN                                                                                                                                                          \\\\\n",
       "\t FarRight                  & FLPTP                                                                                                                                                       \\\\\n",
       "\t FarRight                  & FDI-AN                                                                                                                                                      \\\\\n",
       "\t FarRight                  & FDI                                                                                                                                                         \\\\\n",
       "\t Green                     & VERDI                                                                                                                                                       \\\\\n",
       "\t IdV                       & IDV                                                                                                                                                         \\\\\n",
       "\t Liberal                   & RINN/IT                                                                                                                                                     \\\\\n",
       "\t Liberal                   & CI                                                                                                                                                          \\\\\n",
       "\t Liberal                   & NCI-SCPI-MAIE                                                                                                                                               \\\\\n",
       "\t M5S                       & M5S                                                                                                                                                         \\\\\n",
       "\t Misto                     & MISTO                                                                                                                                                       \\\\\n",
       "\t Radical                   & SOCRAD-RNP                                                                                                                                                  \\\\\n",
       "\\end{tabular}\n"
      ],
      "text/markdown": [
       "\n",
       "A grouped_df: 55 × 2\n",
       "\n",
       "| group_cluster &lt;chr&gt; | party &lt;chr&gt; |\n",
       "|---|---|\n",
       "| Agrarian                  | RC-PROGR                                                                                                                                                     |\n",
       "| Agrarian                  | COMUNISTA                                                                                                                                                    |\n",
       "| Agrarian                  | RC                                                                                                                                                           |\n",
       "| Agrarian                  | COM/IT/                                                                                                                                                      |\n",
       "| Agrarian                  | RC-SE                                                                                                                                                        |\n",
       "| Agrarian                  | SI-SEL-POS-LU                                                                                                                                                |\n",
       "| Christian Democratic      | PPI                                                                                                                                                          |\n",
       "| Christian Democratic      | DEMO                                                                                                                                                         |\n",
       "| Christian Democratic      | CCD                                                                                                                                                          |\n",
       "| Christian Democratic      | UDEUR                                                                                                                                                        |\n",
       "| Christian Democratic      | DEM-U                                                                                                                                                        |\n",
       "| Christian Democratic      | PD-ULIVO                                                                                                                                                     |\n",
       "| Christian Democratic      | UDR                                                                                                                                                          |\n",
       "| Christian Democratic      | MARGH-U                                                                                                                                                      |\n",
       "| Christian Democratic      | CCD-CDU                                                                                                                                                      |\n",
       "| Christian Democratic      | UNIONE DEI DEMOCRATICI CRISTIANI E DEI DEMOCRATICI DI CENTRO                                                                                                 |\n",
       "| Christian Democratic      | POP-UDEUR                                                                                                                                                    |\n",
       "| Christian Democratic      | DCA-NPSI                                                                                                                                                     |\n",
       "| Christian Democratic      | NOI SUD-LIBERTA' ED AUTONOMIA/POPOLARI D'ITALIA DOMANI-PID/MOVIMENTO DI RESPONSABILITA' NAZIONALE-MRN/AZIONE POPOLARE/ALLEANZA DI CENTRO-ADC/INTESA POPOLARE |\n",
       "| Christian Democratic      | UDCPTP                                                                                                                                                       |\n",
       "| Christian Democratic      | AP-CPE-NCD-NCI                                                                                                                                               |\n",
       "| Christian Democratic      | DES-CD                                                                                                                                                       |\n",
       "| Christian Democratic      | IV                                                                                                                                                           |\n",
       "| CommunistSocialDemocratic | PROGR-F                                                                                                                                                      |\n",
       "| CommunistSocialDemocratic | DS-ULIVO                                                                                                                                                     |\n",
       "| CommunistSocialDemocratic | DS-U                                                                                                                                                         |\n",
       "| CommunistSocialDemocratic | PD-U                                                                                                                                                         |\n",
       "| CommunistSocialDemocratic | SDPSE                                                                                                                                                        |\n",
       "| CommunistSocialDemocratic | PD                                                                                                                                                           |\n",
       "| CommunistSocialDemocratic | MDP-LU                                                                                                                                                       |\n",
       "| CommunistSocialDemocratic | LEU                                                                                                                                                          |\n",
       "| Conservative              | F-ITA                                                                                                                                                        |\n",
       "| Conservative              | FI                                                                                                                                                           |\n",
       "| Conservative              | PDL                                                                                                                                                          |\n",
       "| Conservative              | FI-PDL                                                                                                                                                       |\n",
       "| EthnicRegional            | LEGA-N                                                                                                                                                       |\n",
       "| EthnicRegional            | FLD                                                                                                                                                          |\n",
       "| EthnicRegional            | LIFED                                                                                                                                                        |\n",
       "| EthnicRegional            | LEGA-NORD-P                                                                                                                                                  |\n",
       "| EthnicRegional            | LNFP                                                                                                                                                         |\n",
       "| EthnicRegional            | LNP                                                                                                                                                          |\n",
       "| EthnicRegional            | LNA                                                                                                                                                          |\n",
       "| EthnicRegional            | LEGA                                                                                                                                                         |\n",
       "| FarRight                  | AN                                                                                                                                                           |\n",
       "| FarRight                  | FLPTP                                                                                                                                                        |\n",
       "| FarRight                  | FDI-AN                                                                                                                                                       |\n",
       "| FarRight                  | FDI                                                                                                                                                          |\n",
       "| Green                     | VERDI                                                                                                                                                        |\n",
       "| IdV                       | IDV                                                                                                                                                          |\n",
       "| Liberal                   | RINN/IT                                                                                                                                                      |\n",
       "| Liberal                   | CI                                                                                                                                                           |\n",
       "| Liberal                   | NCI-SCPI-MAIE                                                                                                                                                |\n",
       "| M5S                       | M5S                                                                                                                                                          |\n",
       "| Misto                     | MISTO                                                                                                                                                        |\n",
       "| Radical                   | SOCRAD-RNP                                                                                                                                                   |\n",
       "\n"
      ],
      "text/plain": [
       "   group_cluster            \n",
       "1  Agrarian                 \n",
       "2  Agrarian                 \n",
       "3  Agrarian                 \n",
       "4  Agrarian                 \n",
       "5  Agrarian                 \n",
       "6  Agrarian                 \n",
       "7  Christian Democratic     \n",
       "8  Christian Democratic     \n",
       "9  Christian Democratic     \n",
       "10 Christian Democratic     \n",
       "11 Christian Democratic     \n",
       "12 Christian Democratic     \n",
       "13 Christian Democratic     \n",
       "14 Christian Democratic     \n",
       "15 Christian Democratic     \n",
       "16 Christian Democratic     \n",
       "17 Christian Democratic     \n",
       "18 Christian Democratic     \n",
       "19 Christian Democratic     \n",
       "20 Christian Democratic     \n",
       "21 Christian Democratic     \n",
       "22 Christian Democratic     \n",
       "23 Christian Democratic     \n",
       "24 CommunistSocialDemocratic\n",
       "25 CommunistSocialDemocratic\n",
       "26 CommunistSocialDemocratic\n",
       "27 CommunistSocialDemocratic\n",
       "28 CommunistSocialDemocratic\n",
       "29 CommunistSocialDemocratic\n",
       "30 CommunistSocialDemocratic\n",
       "31 CommunistSocialDemocratic\n",
       "32 Conservative             \n",
       "33 Conservative             \n",
       "34 Conservative             \n",
       "35 Conservative             \n",
       "36 EthnicRegional           \n",
       "37 EthnicRegional           \n",
       "38 EthnicRegional           \n",
       "39 EthnicRegional           \n",
       "40 EthnicRegional           \n",
       "41 EthnicRegional           \n",
       "42 EthnicRegional           \n",
       "43 EthnicRegional           \n",
       "44 FarRight                 \n",
       "45 FarRight                 \n",
       "46 FarRight                 \n",
       "47 FarRight                 \n",
       "48 Green                    \n",
       "49 IdV                      \n",
       "50 Liberal                  \n",
       "51 Liberal                  \n",
       "52 Liberal                  \n",
       "53 M5S                      \n",
       "54 Misto                    \n",
       "55 Radical                  \n",
       "   party                                                                                                                                                       \n",
       "1  RC-PROGR                                                                                                                                                    \n",
       "2  COMUNISTA                                                                                                                                                   \n",
       "3  RC                                                                                                                                                          \n",
       "4  COM/IT/                                                                                                                                                     \n",
       "5  RC-SE                                                                                                                                                       \n",
       "6  SI-SEL-POS-LU                                                                                                                                               \n",
       "7  PPI                                                                                                                                                         \n",
       "8  DEMO                                                                                                                                                        \n",
       "9  CCD                                                                                                                                                         \n",
       "10 UDEUR                                                                                                                                                       \n",
       "11 DEM-U                                                                                                                                                       \n",
       "12 PD-ULIVO                                                                                                                                                    \n",
       "13 UDR                                                                                                                                                         \n",
       "14 MARGH-U                                                                                                                                                     \n",
       "15 CCD-CDU                                                                                                                                                     \n",
       "16 UNIONE DEI DEMOCRATICI CRISTIANI E DEI DEMOCRATICI DI CENTRO                                                                                                \n",
       "17 POP-UDEUR                                                                                                                                                   \n",
       "18 DCA-NPSI                                                                                                                                                    \n",
       "19 NOI SUD-LIBERTA' ED AUTONOMIA/POPOLARI D'ITALIA DOMANI-PID/MOVIMENTO DI RESPONSABILITA' NAZIONALE-MRN/AZIONE POPOLARE/ALLEANZA DI CENTRO-ADC/INTESA POPOLARE\n",
       "20 UDCPTP                                                                                                                                                      \n",
       "21 AP-CPE-NCD-NCI                                                                                                                                              \n",
       "22 DES-CD                                                                                                                                                      \n",
       "23 IV                                                                                                                                                          \n",
       "24 PROGR-F                                                                                                                                                     \n",
       "25 DS-ULIVO                                                                                                                                                    \n",
       "26 DS-U                                                                                                                                                        \n",
       "27 PD-U                                                                                                                                                        \n",
       "28 SDPSE                                                                                                                                                       \n",
       "29 PD                                                                                                                                                          \n",
       "30 MDP-LU                                                                                                                                                      \n",
       "31 LEU                                                                                                                                                         \n",
       "32 F-ITA                                                                                                                                                       \n",
       "33 FI                                                                                                                                                          \n",
       "34 PDL                                                                                                                                                         \n",
       "35 FI-PDL                                                                                                                                                      \n",
       "36 LEGA-N                                                                                                                                                      \n",
       "37 FLD                                                                                                                                                         \n",
       "38 LIFED                                                                                                                                                       \n",
       "39 LEGA-NORD-P                                                                                                                                                 \n",
       "40 LNFP                                                                                                                                                        \n",
       "41 LNP                                                                                                                                                         \n",
       "42 LNA                                                                                                                                                         \n",
       "43 LEGA                                                                                                                                                        \n",
       "44 AN                                                                                                                                                          \n",
       "45 FLPTP                                                                                                                                                       \n",
       "46 FDI-AN                                                                                                                                                      \n",
       "47 FDI                                                                                                                                                         \n",
       "48 VERDI                                                                                                                                                       \n",
       "49 IDV                                                                                                                                                         \n",
       "50 RINN/IT                                                                                                                                                     \n",
       "51 CI                                                                                                                                                          \n",
       "52 NCI-SCPI-MAIE                                                                                                                                               \n",
       "53 M5S                                                                                                                                                         \n",
       "54 MISTO                                                                                                                                                       \n",
       "55 SOCRAD-RNP                                                                                                                                                  "
      ]
     },
     "metadata": {},
     "output_type": "display_data"
    }
   ],
   "source": [
    "df_rp %>% group_by(group_cluster) %>% distinct(party) %>% arrange(group_cluster) %>% select(group_cluster, party)"
   ]
  },
  {
   "cell_type": "markdown",
   "id": "59081c92",
   "metadata": {},
   "source": [
    "\"Fiamma tricolore\", \"Lega d'Azione Meridionale\", \"Movimento Sociale Italiano\" are not in our dataset. So let's drop them from the PopuList dataset."
   ]
  },
  {
   "cell_type": "code",
   "execution_count": 42,
   "id": "606f3312",
   "metadata": {},
   "outputs": [],
   "source": [
    "to_drop <- c(\"Fiamma Tricolore\", \"Lega d'Azione Meridionale\", \"Movimento Sociale Italiano\")\n",
    "\n",
    "populist <- populist %>% \n",
    "filter(country_name == \"Italy\" & (!party_name %in% to_drop))"
   ]
  },
  {
   "cell_type": "markdown",
   "id": "d7ec0e3f",
   "metadata": {},
   "source": [
    "Create a new variable called 'group_cluster' whose values match the ones of the group_cluster variable in our dataset"
   ]
  },
  {
   "cell_type": "code",
   "execution_count": 43,
   "id": "a7ff186a",
   "metadata": {},
   "outputs": [],
   "source": [
    "populist <- populist %>% \n",
    "mutate(group_cluster = case_when(\n",
    "party_name == \"Forza Italia – Il Popolo della Libertà\" ~ \"Conservative\",\n",
    "party_name == \"Fratelli d'Italia – Centrodestra Nazionale\" ~ \"FarRight\",\n",
    "party_name == \"Il Popolo della Libertà\" ~ \"Conservative\",\n",
    "party_name == \"Lega (Nord)\" ~ \"EthnicRegional\",\n",
    "party_name == \"Liga Veneta\" ~ \"EthnicRegional\",\n",
    "party_name == \"Movimento 5 Stelle\" ~ \"M5S\",\n",
    "party_name == \"Partito dei Comunisti Italiani\" ~ \"Agrarian\",\n",
    "party_name == \"Partito della Rifondazione Comunista\" ~ \"Agrarian\",\n",
    "party_name == \"Rivoluzione Civile\" ~ \"Agrarian\",\n",
    "party_name == \"Sinistra\" ~ \"Agrarian\"\n",
    ")) "
   ]
  },
  {
   "cell_type": "markdown",
   "id": "57b5af01",
   "metadata": {},
   "source": [
    "Let's compute the mean populism score for each cluster in the PopuList dataset. Due to the small number of parties in the dataset, we ended up with only 5 clusters. However, we can see that all populist parties have a score of 1."
   ]
  },
  {
   "cell_type": "code",
   "execution_count": 44,
   "id": "419ae790",
   "metadata": {},
   "outputs": [
    {
     "data": {
      "text/html": [
       "<table class=\"dataframe\">\n",
       "<caption>A tibble: 5 × 2</caption>\n",
       "<thead>\n",
       "\t<tr><th scope=col>group_cluster</th><th scope=col>mean_populist</th></tr>\n",
       "\t<tr><th scope=col>&lt;chr&gt;</th><th scope=col>&lt;dbl&gt;</th></tr>\n",
       "</thead>\n",
       "<tbody>\n",
       "\t<tr><td>Conservative  </td><td>1</td></tr>\n",
       "\t<tr><td>EthnicRegional</td><td>1</td></tr>\n",
       "\t<tr><td>FarRight      </td><td>1</td></tr>\n",
       "\t<tr><td>M5S           </td><td>1</td></tr>\n",
       "\t<tr><td>Agrarian      </td><td>0</td></tr>\n",
       "</tbody>\n",
       "</table>\n"
      ],
      "text/latex": [
       "A tibble: 5 × 2\n",
       "\\begin{tabular}{ll}\n",
       " group\\_cluster & mean\\_populist\\\\\n",
       " <chr> & <dbl>\\\\\n",
       "\\hline\n",
       "\t Conservative   & 1\\\\\n",
       "\t EthnicRegional & 1\\\\\n",
       "\t FarRight       & 1\\\\\n",
       "\t M5S            & 1\\\\\n",
       "\t Agrarian       & 0\\\\\n",
       "\\end{tabular}\n"
      ],
      "text/markdown": [
       "\n",
       "A tibble: 5 × 2\n",
       "\n",
       "| group_cluster &lt;chr&gt; | mean_populist &lt;dbl&gt; |\n",
       "|---|---|\n",
       "| Conservative   | 1 |\n",
       "| EthnicRegional | 1 |\n",
       "| FarRight       | 1 |\n",
       "| M5S            | 1 |\n",
       "| Agrarian       | 0 |\n",
       "\n"
      ],
      "text/plain": [
       "  group_cluster  mean_populist\n",
       "1 Conservative   1            \n",
       "2 EthnicRegional 1            \n",
       "3 FarRight       1            \n",
       "4 M5S            1            \n",
       "5 Agrarian       0            "
      ]
     },
     "metadata": {},
     "output_type": "display_data"
    }
   ],
   "source": [
    "populist_corr <- populist %>% \n",
    "group_by(group_cluster) %>% \n",
    "summarize(mean_populist = mean(populist)) %>% \n",
    "arrange(desc(mean_populist))\n",
    "\n",
    "populist_corr"
   ]
  },
  {
   "cell_type": "markdown",
   "id": "5a0c2907",
   "metadata": {},
   "source": [
    "Let's join the mean populism score from the PopuList dataset to the results we got from the dictionary analysis (which we've filtered to keep only those parties appearing in both our dataset and in the PopuList dataset). The missing values in the mean_populist variable will be filled with zeros: this makes sense given that these are all mainstream clusters."
   ]
  },
  {
   "cell_type": "code",
   "execution_count": 51,
   "id": "39c69431",
   "metadata": {},
   "outputs": [
    {
     "data": {
      "text/html": [
       "<table class=\"dataframe\">\n",
       "<caption>A tibble: 5 × 3</caption>\n",
       "<thead>\n",
       "\t<tr><th scope=col>group_cluster</th><th scope=col>mean_perc_of_populist_toks</th><th scope=col>mean_populist</th></tr>\n",
       "\t<tr><th scope=col>&lt;chr&gt;</th><th scope=col>&lt;dbl&gt;</th><th scope=col>&lt;dbl&gt;</th></tr>\n",
       "</thead>\n",
       "<tbody>\n",
       "\t<tr><td>FarRight      </td><td>0.002508086</td><td>1</td></tr>\n",
       "\t<tr><td>M5S           </td><td>0.001844371</td><td>1</td></tr>\n",
       "\t<tr><td>Agrarian      </td><td>0.001825251</td><td>0</td></tr>\n",
       "\t<tr><td>EthnicRegional</td><td>0.001730049</td><td>1</td></tr>\n",
       "\t<tr><td>Conservative  </td><td>0.001393537</td><td>1</td></tr>\n",
       "</tbody>\n",
       "</table>\n"
      ],
      "text/latex": [
       "A tibble: 5 × 3\n",
       "\\begin{tabular}{lll}\n",
       " group\\_cluster & mean\\_perc\\_of\\_populist\\_toks & mean\\_populist\\\\\n",
       " <chr> & <dbl> & <dbl>\\\\\n",
       "\\hline\n",
       "\t FarRight       & 0.002508086 & 1\\\\\n",
       "\t M5S            & 0.001844371 & 1\\\\\n",
       "\t Agrarian       & 0.001825251 & 0\\\\\n",
       "\t EthnicRegional & 0.001730049 & 1\\\\\n",
       "\t Conservative   & 0.001393537 & 1\\\\\n",
       "\\end{tabular}\n"
      ],
      "text/markdown": [
       "\n",
       "A tibble: 5 × 3\n",
       "\n",
       "| group_cluster &lt;chr&gt; | mean_perc_of_populist_toks &lt;dbl&gt; | mean_populist &lt;dbl&gt; |\n",
       "|---|---|---|\n",
       "| FarRight       | 0.002508086 | 1 |\n",
       "| M5S            | 0.001844371 | 1 |\n",
       "| Agrarian       | 0.001825251 | 0 |\n",
       "| EthnicRegional | 0.001730049 | 1 |\n",
       "| Conservative   | 0.001393537 | 1 |\n",
       "\n"
      ],
      "text/plain": [
       "  group_cluster  mean_perc_of_populist_toks mean_populist\n",
       "1 FarRight       0.002508086                1            \n",
       "2 M5S            0.001844371                1            \n",
       "3 Agrarian       0.001825251                0            \n",
       "4 EthnicRegional 0.001730049                1            \n",
       "5 Conservative   0.001393537                1            "
      ]
     },
     "metadata": {},
     "output_type": "display_data"
    }
   ],
   "source": [
    "to_keep <- c(\"F-ITA\", \"FI\", \"PDL\", \"FI-PDL\", \"FDI-AN\", \"FDI\", \"LEGA-N\", \"LEGA-NORD-P\", \"LNA\", \"LEGA\", \"LNP\", \"M5S\", \n",
    "             \"RC-PROGR\", \"COMUNISTA\", \"RC\", \"COM/IT/\", \"RC-SE\", \"SI-SEL-POS-LU\")\n",
    "\n",
    "populist_rp <- df_rp %>% \n",
    "filter(party %in% to_keep) %>% \n",
    "group_by(group_cluster) %>% \n",
    "summarize(mean_perc_of_populist_toks = mean(perc_of_populist_toks)) %>% \n",
    "left_join(populist_corr, by = \"group_cluster\") %>% \n",
    "mutate(mean_populist = replace_na(mean_populist, replace = 0)) %>% \n",
    "arrange(desc(mean_perc_of_populist_toks))\n",
    "\n",
    "populist_rp"
   ]
  },
  {
   "cell_type": "markdown",
   "id": "9fe7b0f4",
   "metadata": {},
   "source": [
    "The correlation with the PopuList score is very close to zero. Based on this result and the one we got with the CHES dataset, we can conclude that Rooduijn and Pauwels' dictionary lacks external validity."
   ]
  },
  {
   "cell_type": "code",
   "execution_count": 52,
   "id": "7bd2e358",
   "metadata": {},
   "outputs": [
    {
     "data": {
      "text/plain": [
       "\n",
       "\tPearson's product-moment correlation\n",
       "\n",
       "data:  populist_rp$mean_perc_of_populist_toks and populist_rp$mean_populist\n",
       "t = 0.083803, df = 3, p-value = 0.9385\n",
       "alternative hypothesis: true correlation is not equal to 0\n",
       "95 percent confidence interval:\n",
       " -0.8710799  0.8925380\n",
       "sample estimates:\n",
       "       cor \n",
       "0.04832688 \n"
      ]
     },
     "metadata": {},
     "output_type": "display_data"
    }
   ],
   "source": [
    "cor.test(x = populist_rp$mean_perc_of_populist_toks,\n",
    "         y = populist_rp$mean_populist)"
   ]
  },
  {
   "cell_type": "markdown",
   "id": "9cfc07fe",
   "metadata": {},
   "source": [
    "# Decadri & Boussalis <a class=\"anchor\" id=\"chapter5\"></a>"
   ]
  },
  {
   "cell_type": "markdown",
   "id": "9a8e102c",
   "metadata": {},
   "source": [
    "Let's run the dictionary analysis with Decadri and Boussalis' dictionary"
   ]
  },
  {
   "cell_type": "code",
   "execution_count": 53,
   "id": "4d07d9cf",
   "metadata": {},
   "outputs": [],
   "source": [
    "df_db <- dict_analysis(data = texts, dictionary = \"Decadri_Boussalis\")"
   ]
  },
  {
   "cell_type": "markdown",
   "id": "887e2a91",
   "metadata": {},
   "source": [
    "Let's save the output as an .Rdata file"
   ]
  },
  {
   "cell_type": "code",
   "execution_count": 54,
   "id": "156a2dbf",
   "metadata": {},
   "outputs": [],
   "source": [
    "save(df_db, file=\"C:/Users/jacop/OneDrive/Desktop/Tesi/data/df_db.RData\")"
   ]
  },
  {
   "cell_type": "markdown",
   "id": "e86b9d66",
   "metadata": {},
   "source": [
    "The first rows of the dataframe"
   ]
  },
  {
   "cell_type": "code",
   "execution_count": 55,
   "id": "b344b91c",
   "metadata": {},
   "outputs": [
    {
     "data": {
      "text/html": [
       "<table class=\"dataframe\">\n",
       "<caption>A data.frame: 6 × 10</caption>\n",
       "<thead>\n",
       "\t<tr><th></th><th scope=col>doc_id</th><th scope=col>year</th><th scope=col>party</th><th scope=col>group_cluster</th><th scope=col>anti_elitism</th><th scope=col>people_centrism</th><th scope=col>populist_toks</th><th scope=col>n_of_cleaned_toks</th><th scope=col>perc_of_populist_toks</th><th scope=col>standardized_perc_of_populist_toks</th></tr>\n",
       "\t<tr><th></th><th scope=col>&lt;chr&gt;</th><th scope=col>&lt;int&gt;</th><th scope=col>&lt;chr&gt;</th><th scope=col>&lt;chr&gt;</th><th scope=col>&lt;dbl&gt;</th><th scope=col>&lt;dbl&gt;</th><th scope=col>&lt;dbl&gt;</th><th scope=col>&lt;int&gt;</th><th scope=col>&lt;dbl&gt;</th><th scope=col>&lt;dbl&gt;</th></tr>\n",
       "</thead>\n",
       "<tbody>\n",
       "\t<tr><th scope=row>1</th><td>text1</td><td>1994</td><td>F-ITA   </td><td>Conservative             </td><td>0</td><td>0</td><td>0</td><td> 9</td><td>0</td><td>-0.3053681</td></tr>\n",
       "\t<tr><th scope=row>2</th><td>text2</td><td>1994</td><td>PROGR-F </td><td>CommunistSocialDemocratic</td><td>0</td><td>0</td><td>0</td><td> 4</td><td>0</td><td>-0.3053681</td></tr>\n",
       "\t<tr><th scope=row>3</th><td>text3</td><td>1994</td><td>LEGA-N  </td><td>EthnicRegional           </td><td>0</td><td>0</td><td>0</td><td>26</td><td>0</td><td>-0.3053681</td></tr>\n",
       "\t<tr><th scope=row>4</th><td>text4</td><td>1994</td><td>RC-PROGR</td><td>Agrarian                 </td><td>0</td><td>0</td><td>0</td><td> 4</td><td>0</td><td>-0.3053681</td></tr>\n",
       "\t<tr><th scope=row>5</th><td>text5</td><td>1994</td><td>PROGR-F </td><td>CommunistSocialDemocratic</td><td>0</td><td>0</td><td>0</td><td> 4</td><td>0</td><td>-0.3053681</td></tr>\n",
       "\t<tr><th scope=row>6</th><td>text6</td><td>1994</td><td>PPI     </td><td>Christian Democratic     </td><td>0</td><td>0</td><td>0</td><td> 3</td><td>0</td><td>-0.3053681</td></tr>\n",
       "</tbody>\n",
       "</table>\n"
      ],
      "text/latex": [
       "A data.frame: 6 × 10\n",
       "\\begin{tabular}{r|llllllllll}\n",
       "  & doc\\_id & year & party & group\\_cluster & anti\\_elitism & people\\_centrism & populist\\_toks & n\\_of\\_cleaned\\_toks & perc\\_of\\_populist\\_toks & standardized\\_perc\\_of\\_populist\\_toks\\\\\n",
       "  & <chr> & <int> & <chr> & <chr> & <dbl> & <dbl> & <dbl> & <int> & <dbl> & <dbl>\\\\\n",
       "\\hline\n",
       "\t1 & text1 & 1994 & F-ITA    & Conservative              & 0 & 0 & 0 &  9 & 0 & -0.3053681\\\\\n",
       "\t2 & text2 & 1994 & PROGR-F  & CommunistSocialDemocratic & 0 & 0 & 0 &  4 & 0 & -0.3053681\\\\\n",
       "\t3 & text3 & 1994 & LEGA-N   & EthnicRegional            & 0 & 0 & 0 & 26 & 0 & -0.3053681\\\\\n",
       "\t4 & text4 & 1994 & RC-PROGR & Agrarian                  & 0 & 0 & 0 &  4 & 0 & -0.3053681\\\\\n",
       "\t5 & text5 & 1994 & PROGR-F  & CommunistSocialDemocratic & 0 & 0 & 0 &  4 & 0 & -0.3053681\\\\\n",
       "\t6 & text6 & 1994 & PPI      & Christian Democratic      & 0 & 0 & 0 &  3 & 0 & -0.3053681\\\\\n",
       "\\end{tabular}\n"
      ],
      "text/markdown": [
       "\n",
       "A data.frame: 6 × 10\n",
       "\n",
       "| <!--/--> | doc_id &lt;chr&gt; | year &lt;int&gt; | party &lt;chr&gt; | group_cluster &lt;chr&gt; | anti_elitism &lt;dbl&gt; | people_centrism &lt;dbl&gt; | populist_toks &lt;dbl&gt; | n_of_cleaned_toks &lt;int&gt; | perc_of_populist_toks &lt;dbl&gt; | standardized_perc_of_populist_toks &lt;dbl&gt; |\n",
       "|---|---|---|---|---|---|---|---|---|---|---|\n",
       "| 1 | text1 | 1994 | F-ITA    | Conservative              | 0 | 0 | 0 |  9 | 0 | -0.3053681 |\n",
       "| 2 | text2 | 1994 | PROGR-F  | CommunistSocialDemocratic | 0 | 0 | 0 |  4 | 0 | -0.3053681 |\n",
       "| 3 | text3 | 1994 | LEGA-N   | EthnicRegional            | 0 | 0 | 0 | 26 | 0 | -0.3053681 |\n",
       "| 4 | text4 | 1994 | RC-PROGR | Agrarian                  | 0 | 0 | 0 |  4 | 0 | -0.3053681 |\n",
       "| 5 | text5 | 1994 | PROGR-F  | CommunistSocialDemocratic | 0 | 0 | 0 |  4 | 0 | -0.3053681 |\n",
       "| 6 | text6 | 1994 | PPI      | Christian Democratic      | 0 | 0 | 0 |  3 | 0 | -0.3053681 |\n",
       "\n"
      ],
      "text/plain": [
       "  doc_id year party    group_cluster             anti_elitism people_centrism\n",
       "1 text1  1994 F-ITA    Conservative              0            0              \n",
       "2 text2  1994 PROGR-F  CommunistSocialDemocratic 0            0              \n",
       "3 text3  1994 LEGA-N   EthnicRegional            0            0              \n",
       "4 text4  1994 RC-PROGR Agrarian                  0            0              \n",
       "5 text5  1994 PROGR-F  CommunistSocialDemocratic 0            0              \n",
       "6 text6  1994 PPI      Christian Democratic      0            0              \n",
       "  populist_toks n_of_cleaned_toks perc_of_populist_toks\n",
       "1 0              9                0                    \n",
       "2 0              4                0                    \n",
       "3 0             26                0                    \n",
       "4 0              4                0                    \n",
       "5 0              4                0                    \n",
       "6 0              3                0                    \n",
       "  standardized_perc_of_populist_toks\n",
       "1 -0.3053681                        \n",
       "2 -0.3053681                        \n",
       "3 -0.3053681                        \n",
       "4 -0.3053681                        \n",
       "5 -0.3053681                        \n",
       "6 -0.3053681                        "
      ]
     },
     "metadata": {},
     "output_type": "display_data"
    }
   ],
   "source": [
    "head(df_db)"
   ]
  },
  {
   "cell_type": "markdown",
   "id": "6267ff49",
   "metadata": {},
   "source": [
    "## Construct validity <a class=\"anchor\" id=\"subparagraph6\"></a>"
   ]
  },
  {
   "cell_type": "markdown",
   "id": "23fe6eea",
   "metadata": {},
   "source": [
    "Decadri and Boussalis' dictionary catpures both the \"anti-elitism\" and \"people-centrism\" dimenions of populist ideology and it thus constitutes an improvement over Rooduijn and Pauwels' dictionary in terms of construct validity."
   ]
  },
  {
   "cell_type": "markdown",
   "id": "cde55dcc",
   "metadata": {},
   "source": [
    "## Face validity <a class=\"anchor\" id=\"subparagraph7\"></a>"
   ]
  },
  {
   "cell_type": "markdown",
   "id": "e4cf4daf",
   "metadata": {},
   "source": [
    "Let's run an Analysis Of Variance (ANOVA) as we did before. Again, the difference in the % of populist tokens between the clusters is statistically significant."
   ]
  },
  {
   "cell_type": "code",
   "execution_count": 56,
   "id": "0e884200",
   "metadata": {},
   "outputs": [
    {
     "data": {
      "text/plain": [
       "                  Df Sum Sq  Mean Sq F value Pr(>F)    \n",
       "group_cluster     11   0.14 0.012888   60.74 <2e-16 ***\n",
       "Residuals     297661  63.15 0.000212                   \n",
       "---\n",
       "Signif. codes:  0 '***' 0.001 '**' 0.01 '*' 0.05 '.' 0.1 ' ' 1"
      ]
     },
     "metadata": {},
     "output_type": "display_data"
    }
   ],
   "source": [
    "load(\"df_db.RData\")\n",
    "\n",
    "anova_db <- aov(perc_of_populist_toks ~ group_cluster, data = df_db)\n",
    "\n",
    "summary(anova_db)"
   ]
  },
  {
   "cell_type": "markdown",
   "id": "69610854",
   "metadata": {},
   "source": [
    "To assess the face validity of Decadri and Boussalis' dictionary we'll have a look at the mean % of populist tokens (both anti-establishment and people-centrism) grouped by cluster.\n",
    "\n",
    "Consistently with our expectations, M5S and Lega rank among the most populist clusters. However, the language used by the \"Conservative\" (Forza Italia and Il Popolo delle Libertà) and the \"FarRight\" (Fratelli d'Italia, Alleanza Nazionale) clusters turned out to be less populist than the average. "
   ]
  },
  {
   "cell_type": "code",
   "execution_count": 57,
   "id": "c4bc35bd",
   "metadata": {},
   "outputs": [
    {
     "data": {
      "text/html": [
       "<table class=\"dataframe\">\n",
       "<caption>A tibble: 12 × 3</caption>\n",
       "<thead>\n",
       "\t<tr><th scope=col>group_cluster</th><th scope=col>mean_perc_of_populist_toks</th><th scope=col>mean_standardized_perc_of_populist_toks</th></tr>\n",
       "\t<tr><th scope=col>&lt;chr&gt;</th><th scope=col>&lt;dbl&gt;</th><th scope=col>&lt;dbl&gt;</th></tr>\n",
       "</thead>\n",
       "<tbody>\n",
       "\t<tr><td>M5S                      </td><td>0.006765723</td><td> 0.158780035</td></tr>\n",
       "\t<tr><td>IdV                      </td><td>0.005684100</td><td> 0.084405945</td></tr>\n",
       "\t<tr><td>EthnicRegional           </td><td>0.005521892</td><td> 0.073436166</td></tr>\n",
       "\t<tr><td>Liberal                  </td><td>0.004949603</td><td> 0.034039489</td></tr>\n",
       "\t<tr><td>Agrarian                 </td><td>0.004719057</td><td> 0.018293719</td></tr>\n",
       "\t<tr><td>Conservative             </td><td>0.004385874</td><td>-0.004559934</td></tr>\n",
       "\t<tr><td>Misto                    </td><td>0.004282996</td><td>-0.011653767</td></tr>\n",
       "\t<tr><td>Christian Democratic     </td><td>0.004256468</td><td>-0.013475787</td></tr>\n",
       "\t<tr><td>Green                    </td><td>0.004173576</td><td>-0.019174781</td></tr>\n",
       "\t<tr><td>FarRight                 </td><td>0.004090657</td><td>-0.024775337</td></tr>\n",
       "\t<tr><td>CommunistSocialDemocratic</td><td>0.003906236</td><td>-0.037467285</td></tr>\n",
       "\t<tr><td>Radical                  </td><td>0.003128886</td><td>-0.090811979</td></tr>\n",
       "</tbody>\n",
       "</table>\n"
      ],
      "text/latex": [
       "A tibble: 12 × 3\n",
       "\\begin{tabular}{lll}\n",
       " group\\_cluster & mean\\_perc\\_of\\_populist\\_toks & mean\\_standardized\\_perc\\_of\\_populist\\_toks\\\\\n",
       " <chr> & <dbl> & <dbl>\\\\\n",
       "\\hline\n",
       "\t M5S                       & 0.006765723 &  0.158780035\\\\\n",
       "\t IdV                       & 0.005684100 &  0.084405945\\\\\n",
       "\t EthnicRegional            & 0.005521892 &  0.073436166\\\\\n",
       "\t Liberal                   & 0.004949603 &  0.034039489\\\\\n",
       "\t Agrarian                  & 0.004719057 &  0.018293719\\\\\n",
       "\t Conservative              & 0.004385874 & -0.004559934\\\\\n",
       "\t Misto                     & 0.004282996 & -0.011653767\\\\\n",
       "\t Christian Democratic      & 0.004256468 & -0.013475787\\\\\n",
       "\t Green                     & 0.004173576 & -0.019174781\\\\\n",
       "\t FarRight                  & 0.004090657 & -0.024775337\\\\\n",
       "\t CommunistSocialDemocratic & 0.003906236 & -0.037467285\\\\\n",
       "\t Radical                   & 0.003128886 & -0.090811979\\\\\n",
       "\\end{tabular}\n"
      ],
      "text/markdown": [
       "\n",
       "A tibble: 12 × 3\n",
       "\n",
       "| group_cluster &lt;chr&gt; | mean_perc_of_populist_toks &lt;dbl&gt; | mean_standardized_perc_of_populist_toks &lt;dbl&gt; |\n",
       "|---|---|---|\n",
       "| M5S                       | 0.006765723 |  0.158780035 |\n",
       "| IdV                       | 0.005684100 |  0.084405945 |\n",
       "| EthnicRegional            | 0.005521892 |  0.073436166 |\n",
       "| Liberal                   | 0.004949603 |  0.034039489 |\n",
       "| Agrarian                  | 0.004719057 |  0.018293719 |\n",
       "| Conservative              | 0.004385874 | -0.004559934 |\n",
       "| Misto                     | 0.004282996 | -0.011653767 |\n",
       "| Christian Democratic      | 0.004256468 | -0.013475787 |\n",
       "| Green                     | 0.004173576 | -0.019174781 |\n",
       "| FarRight                  | 0.004090657 | -0.024775337 |\n",
       "| CommunistSocialDemocratic | 0.003906236 | -0.037467285 |\n",
       "| Radical                   | 0.003128886 | -0.090811979 |\n",
       "\n"
      ],
      "text/plain": [
       "   group_cluster             mean_perc_of_populist_toks\n",
       "1  M5S                       0.006765723               \n",
       "2  IdV                       0.005684100               \n",
       "3  EthnicRegional            0.005521892               \n",
       "4  Liberal                   0.004949603               \n",
       "5  Agrarian                  0.004719057               \n",
       "6  Conservative              0.004385874               \n",
       "7  Misto                     0.004282996               \n",
       "8  Christian Democratic      0.004256468               \n",
       "9  Green                     0.004173576               \n",
       "10 FarRight                  0.004090657               \n",
       "11 CommunistSocialDemocratic 0.003906236               \n",
       "12 Radical                   0.003128886               \n",
       "   mean_standardized_perc_of_populist_toks\n",
       "1   0.158780035                           \n",
       "2   0.084405945                           \n",
       "3   0.073436166                           \n",
       "4   0.034039489                           \n",
       "5   0.018293719                           \n",
       "6  -0.004559934                           \n",
       "7  -0.011653767                           \n",
       "8  -0.013475787                           \n",
       "9  -0.019174781                           \n",
       "10 -0.024775337                           \n",
       "11 -0.037467285                           \n",
       "12 -0.090811979                           "
      ]
     },
     "metadata": {},
     "output_type": "display_data"
    }
   ],
   "source": [
    "df_db %>% \n",
    "group_by(group_cluster) %>% \n",
    "summarize(mean_perc_of_populist_toks = mean(perc_of_populist_toks, na.rm = TRUE),\n",
    "          mean_standardized_perc_of_populist_toks = mean(standardized_perc_of_populist_toks, na.rm = TRUE)) %>% \n",
    "arrange(desc(mean_standardized_perc_of_populist_toks))"
   ]
  },
  {
   "cell_type": "markdown",
   "id": "59fc390e",
   "metadata": {},
   "source": [
    "## External validity <a class=\"anchor\" id=\"subparagraph8\"></a>"
   ]
  },
  {
   "cell_type": "markdown",
   "id": "8c2a0463",
   "metadata": {},
   "source": [
    "### Chapel Hill Expert Survey <a class=\"anchor\" id=\"subparagraph9\"></a>"
   ]
  },
  {
   "cell_type": "markdown",
   "id": "6f9da0f3",
   "metadata": {},
   "source": [
    "As Decadri and Boussalis' dictionary captures both dimensions of populism we will validate it against a combination of two different variables from the CHES dataset, i.e. \"anti-élite salience\" and \"people_vs_élite\". We'll use the former as a proxy for the anti-establishment component and the latter as a proxy for the people-centrist one. The \"people_vs_élite\" variable has been introduced in the 2019 edition of the dataset, so we'll only work with observations from this year."
   ]
  },
  {
   "cell_type": "code",
   "execution_count": 64,
   "id": "e31b9eed",
   "metadata": {},
   "outputs": [],
   "source": [
    "ches <- read_csv(\"1999-2019_CHES_dataset_means(v2).csv\", show_col_types = FALSE)"
   ]
  },
  {
   "cell_type": "markdown",
   "id": "26be46cc",
   "metadata": {},
   "source": [
    "The following are the Italian parties in the CHES dataset for the year 2019"
   ]
  },
  {
   "cell_type": "code",
   "execution_count": 65,
   "id": "0046f2c4",
   "metadata": {},
   "outputs": [
    {
     "data": {
      "text/html": [
       "<table class=\"dataframe\">\n",
       "<caption>A tibble: 8 × 3</caption>\n",
       "<thead>\n",
       "\t<tr><th scope=col>party</th><th scope=col>antielite_salience</th><th scope=col>people_vs_elite</th></tr>\n",
       "\t<tr><th scope=col>&lt;chr&gt;</th><th scope=col>&lt;dbl&gt;</th><th scope=col>&lt;dbl&gt;</th></tr>\n",
       "</thead>\n",
       "<tbody>\n",
       "\t<tr><td>RI </td><td>2.200000</td><td>3.357143</td></tr>\n",
       "\t<tr><td>M5S</td><td>8.888889</td><td>9.529411</td></tr>\n",
       "\t<tr><td>SI </td><td>3.785714</td><td>2.666667</td></tr>\n",
       "\t<tr><td>FdI</td><td>8.000000</td><td>6.625000</td></tr>\n",
       "\t<tr><td>PD </td><td>1.882353</td><td>2.062500</td></tr>\n",
       "\t<tr><td>LN </td><td>8.333333</td><td>6.937500</td></tr>\n",
       "\t<tr><td>SVP</td><td>2.166667</td><td>1.400000</td></tr>\n",
       "\t<tr><td>FI </td><td>4.176471</td><td>4.066667</td></tr>\n",
       "</tbody>\n",
       "</table>\n"
      ],
      "text/latex": [
       "A tibble: 8 × 3\n",
       "\\begin{tabular}{lll}\n",
       " party & antielite\\_salience & people\\_vs\\_elite\\\\\n",
       " <chr> & <dbl> & <dbl>\\\\\n",
       "\\hline\n",
       "\t RI  & 2.200000 & 3.357143\\\\\n",
       "\t M5S & 8.888889 & 9.529411\\\\\n",
       "\t SI  & 3.785714 & 2.666667\\\\\n",
       "\t FdI & 8.000000 & 6.625000\\\\\n",
       "\t PD  & 1.882353 & 2.062500\\\\\n",
       "\t LN  & 8.333333 & 6.937500\\\\\n",
       "\t SVP & 2.166667 & 1.400000\\\\\n",
       "\t FI  & 4.176471 & 4.066667\\\\\n",
       "\\end{tabular}\n"
      ],
      "text/markdown": [
       "\n",
       "A tibble: 8 × 3\n",
       "\n",
       "| party &lt;chr&gt; | antielite_salience &lt;dbl&gt; | people_vs_elite &lt;dbl&gt; |\n",
       "|---|---|---|\n",
       "| RI  | 2.200000 | 3.357143 |\n",
       "| M5S | 8.888889 | 9.529411 |\n",
       "| SI  | 3.785714 | 2.666667 |\n",
       "| FdI | 8.000000 | 6.625000 |\n",
       "| PD  | 1.882353 | 2.062500 |\n",
       "| LN  | 8.333333 | 6.937500 |\n",
       "| SVP | 2.166667 | 1.400000 |\n",
       "| FI  | 4.176471 | 4.066667 |\n",
       "\n"
      ],
      "text/plain": [
       "  party antielite_salience people_vs_elite\n",
       "1 RI    2.200000           3.357143       \n",
       "2 M5S   8.888889           9.529411       \n",
       "3 SI    3.785714           2.666667       \n",
       "4 FdI   8.000000           6.625000       \n",
       "5 PD    1.882353           2.062500       \n",
       "6 LN    8.333333           6.937500       \n",
       "7 SVP   2.166667           1.400000       \n",
       "8 FI    4.176471           4.066667       "
      ]
     },
     "metadata": {},
     "output_type": "display_data"
    }
   ],
   "source": [
    "ches %>% filter(country == 8 & year == 2019) %>% select(party, antielite_salience, people_vs_elite)"
   ]
  },
  {
   "cell_type": "markdown",
   "id": "2d837ffe",
   "metadata": {},
   "source": [
    "The parties in our dataset in the same year"
   ]
  },
  {
   "cell_type": "code",
   "execution_count": 61,
   "id": "ee250e3a",
   "metadata": {},
   "outputs": [
    {
     "data": {
      "text/html": [
       "<table class=\"dataframe\">\n",
       "<caption>A data.frame: 8 × 1</caption>\n",
       "<thead>\n",
       "\t<tr><th scope=col>party</th></tr>\n",
       "\t<tr><th scope=col>&lt;chr&gt;</th></tr>\n",
       "</thead>\n",
       "<tbody>\n",
       "\t<tr><td>M5S  </td></tr>\n",
       "\t<tr><td>LEGA </td></tr>\n",
       "\t<tr><td>PD   </td></tr>\n",
       "\t<tr><td>IV   </td></tr>\n",
       "\t<tr><td>FI   </td></tr>\n",
       "\t<tr><td>FDI  </td></tr>\n",
       "\t<tr><td>MISTO</td></tr>\n",
       "\t<tr><td>LEU  </td></tr>\n",
       "</tbody>\n",
       "</table>\n"
      ],
      "text/latex": [
       "A data.frame: 8 × 1\n",
       "\\begin{tabular}{l}\n",
       " party\\\\\n",
       " <chr>\\\\\n",
       "\\hline\n",
       "\t M5S  \\\\\n",
       "\t LEGA \\\\\n",
       "\t PD   \\\\\n",
       "\t IV   \\\\\n",
       "\t FI   \\\\\n",
       "\t FDI  \\\\\n",
       "\t MISTO\\\\\n",
       "\t LEU  \\\\\n",
       "\\end{tabular}\n"
      ],
      "text/markdown": [
       "\n",
       "A data.frame: 8 × 1\n",
       "\n",
       "| party &lt;chr&gt; |\n",
       "|---|\n",
       "| M5S   |\n",
       "| LEGA  |\n",
       "| PD    |\n",
       "| IV    |\n",
       "| FI    |\n",
       "| FDI   |\n",
       "| MISTO |\n",
       "| LEU   |\n",
       "\n"
      ],
      "text/plain": [
       "  party\n",
       "1 M5S  \n",
       "2 LEGA \n",
       "3 PD   \n",
       "4 IV   \n",
       "5 FI   \n",
       "6 FDI  \n",
       "7 MISTO\n",
       "8 LEU  "
      ]
     },
     "metadata": {},
     "output_type": "display_data"
    }
   ],
   "source": [
    "df_db %>% filter(year == 2019) %>% distinct(party)"
   ]
  },
  {
   "cell_type": "markdown",
   "id": "59ac71a8",
   "metadata": {},
   "source": [
    "\"Radicali Italiani\" and \"Südtiroler Volkspartei\" are not in our dataset so we'll drop them from CHES"
   ]
  },
  {
   "cell_type": "code",
   "execution_count": 68,
   "id": "8b7de64a",
   "metadata": {},
   "outputs": [],
   "source": [
    "to_drop <- c(\"RI\", \"SVP\")\n",
    "\n",
    "ches <- ches %>% \n",
    "filter(country == 8 & year == 2019 & (!party %in% to_drop))"
   ]
  },
  {
   "cell_type": "markdown",
   "id": "77dbf850",
   "metadata": {},
   "source": [
    "Let's create another group_cluster variable"
   ]
  },
  {
   "cell_type": "code",
   "execution_count": 74,
   "id": "6799bfaa",
   "metadata": {},
   "outputs": [],
   "source": [
    "ches <- ches %>% \n",
    "mutate(group_cluster = case_when(\n",
    "party == \"M5S\" ~ \"M5S\",\n",
    "party == \"LN\" ~ \"EthnicRegional\",\n",
    "party == \"PD\" ~ \"CommunistSocialDemocratic\",\n",
    "party == \"FI\" ~ \"Conservative\",\n",
    "party == \"FdI\" ~ \"FarRight\",\n",
    "party == \"SI\" ~ \"Agrarian\"))"
   ]
  },
  {
   "cell_type": "markdown",
   "id": "c504f0ed",
   "metadata": {},
   "source": [
    "Let's compute the average populist value for each cluster in the CHES dataset by summing the people vs elite and the anti-elite salience variables and then taking the mean"
   ]
  },
  {
   "cell_type": "code",
   "execution_count": 78,
   "id": "04e1cba1",
   "metadata": {},
   "outputs": [
    {
     "data": {
      "text/html": [
       "<table class=\"dataframe\">\n",
       "<caption>A tibble: 6 × 2</caption>\n",
       "<thead>\n",
       "\t<tr><th scope=col>group_cluster</th><th scope=col>mean_populism</th></tr>\n",
       "\t<tr><th scope=col>&lt;chr&gt;</th><th scope=col>&lt;dbl&gt;</th></tr>\n",
       "</thead>\n",
       "<tbody>\n",
       "\t<tr><td>M5S                      </td><td>18.418301</td></tr>\n",
       "\t<tr><td>EthnicRegional           </td><td>15.270833</td></tr>\n",
       "\t<tr><td>FarRight                 </td><td>14.625000</td></tr>\n",
       "\t<tr><td>Conservative             </td><td> 8.243137</td></tr>\n",
       "\t<tr><td>Agrarian                 </td><td> 6.452381</td></tr>\n",
       "\t<tr><td>CommunistSocialDemocratic</td><td> 3.944853</td></tr>\n",
       "</tbody>\n",
       "</table>\n"
      ],
      "text/latex": [
       "A tibble: 6 × 2\n",
       "\\begin{tabular}{ll}\n",
       " group\\_cluster & mean\\_populism\\\\\n",
       " <chr> & <dbl>\\\\\n",
       "\\hline\n",
       "\t M5S                       & 18.418301\\\\\n",
       "\t EthnicRegional            & 15.270833\\\\\n",
       "\t FarRight                  & 14.625000\\\\\n",
       "\t Conservative              &  8.243137\\\\\n",
       "\t Agrarian                  &  6.452381\\\\\n",
       "\t CommunistSocialDemocratic &  3.944853\\\\\n",
       "\\end{tabular}\n"
      ],
      "text/markdown": [
       "\n",
       "A tibble: 6 × 2\n",
       "\n",
       "| group_cluster &lt;chr&gt; | mean_populism &lt;dbl&gt; |\n",
       "|---|---|\n",
       "| M5S                       | 18.418301 |\n",
       "| EthnicRegional            | 15.270833 |\n",
       "| FarRight                  | 14.625000 |\n",
       "| Conservative              |  8.243137 |\n",
       "| Agrarian                  |  6.452381 |\n",
       "| CommunistSocialDemocratic |  3.944853 |\n",
       "\n"
      ],
      "text/plain": [
       "  group_cluster             mean_populism\n",
       "1 M5S                       18.418301    \n",
       "2 EthnicRegional            15.270833    \n",
       "3 FarRight                  14.625000    \n",
       "4 Conservative               8.243137    \n",
       "5 Agrarian                   6.452381    \n",
       "6 CommunistSocialDemocratic  3.944853    "
      ]
     },
     "metadata": {},
     "output_type": "display_data"
    }
   ],
   "source": [
    "ches_corr <- ches %>% \n",
    "group_by(group_cluster) %>% \n",
    "summarize(mean_populism = mean(people_vs_elite + antielite_salience)) %>% \n",
    "arrange(desc(mean_populism))\n",
    "\n",
    "ches_corr"
   ]
  },
  {
   "cell_type": "markdown",
   "id": "d5ad3d27",
   "metadata": {},
   "source": [
    "Similarly to what we saw for Rooduijn and Pauwels', when we zoom in on the recent legislatures the face validity is compromised. Here, PD got a higher % of populist tokens compared with la Lega and M5S. "
   ]
  },
  {
   "cell_type": "code",
   "execution_count": 89,
   "id": "fda2f374",
   "metadata": {},
   "outputs": [
    {
     "data": {
      "text/html": [
       "<table class=\"dataframe\">\n",
       "<caption>A tibble: 5 × 2</caption>\n",
       "<thead>\n",
       "\t<tr><th scope=col>group_cluster</th><th scope=col>mean_perc_of_populist_toks</th></tr>\n",
       "\t<tr><th scope=col>&lt;chr&gt;</th><th scope=col>&lt;dbl&gt;</th></tr>\n",
       "</thead>\n",
       "<tbody>\n",
       "\t<tr><td>Conservative             </td><td>0.007566963</td></tr>\n",
       "\t<tr><td>FarRight                 </td><td>0.006830518</td></tr>\n",
       "\t<tr><td>CommunistSocialDemocratic</td><td>0.006006262</td></tr>\n",
       "\t<tr><td>EthnicRegional           </td><td>0.004312354</td></tr>\n",
       "\t<tr><td>M5S                      </td><td>0.004217489</td></tr>\n",
       "</tbody>\n",
       "</table>\n"
      ],
      "text/latex": [
       "A tibble: 5 × 2\n",
       "\\begin{tabular}{ll}\n",
       " group\\_cluster & mean\\_perc\\_of\\_populist\\_toks\\\\\n",
       " <chr> & <dbl>\\\\\n",
       "\\hline\n",
       "\t Conservative              & 0.007566963\\\\\n",
       "\t FarRight                  & 0.006830518\\\\\n",
       "\t CommunistSocialDemocratic & 0.006006262\\\\\n",
       "\t EthnicRegional            & 0.004312354\\\\\n",
       "\t M5S                       & 0.004217489\\\\\n",
       "\\end{tabular}\n"
      ],
      "text/markdown": [
       "\n",
       "A tibble: 5 × 2\n",
       "\n",
       "| group_cluster &lt;chr&gt; | mean_perc_of_populist_toks &lt;dbl&gt; |\n",
       "|---|---|\n",
       "| Conservative              | 0.007566963 |\n",
       "| FarRight                  | 0.006830518 |\n",
       "| CommunistSocialDemocratic | 0.006006262 |\n",
       "| EthnicRegional            | 0.004312354 |\n",
       "| M5S                       | 0.004217489 |\n",
       "\n"
      ],
      "text/plain": [
       "  group_cluster             mean_perc_of_populist_toks\n",
       "1 Conservative              0.007566963               \n",
       "2 FarRight                  0.006830518               \n",
       "3 CommunistSocialDemocratic 0.006006262               \n",
       "4 EthnicRegional            0.004312354               \n",
       "5 M5S                       0.004217489               "
      ]
     },
     "metadata": {},
     "output_type": "display_data"
    }
   ],
   "source": [
    "to_drop <- c(\"IV\", \"MISTO\")\n",
    "\n",
    "df_db %>% \n",
    "filter(year == 2019 & (! party %in% to_drop)) %>% \n",
    "group_by(group_cluster) %>% \n",
    "summarize(mean_perc_of_populist_toks = mean(perc_of_populist_toks)) %>% \n",
    "arrange(desc(mean_perc_of_populist_toks))"
   ]
  },
  {
   "cell_type": "code",
   "execution_count": 84,
   "id": "2eec99e4",
   "metadata": {},
   "outputs": [
    {
     "data": {
      "text/html": [
       "<table class=\"dataframe\">\n",
       "<caption>A tibble: 5 × 3</caption>\n",
       "<thead>\n",
       "\t<tr><th scope=col>group_cluster</th><th scope=col>mean_perc_of_populist_toks</th><th scope=col>mean_populism</th></tr>\n",
       "\t<tr><th scope=col>&lt;chr&gt;</th><th scope=col>&lt;dbl&gt;</th><th scope=col>&lt;dbl&gt;</th></tr>\n",
       "</thead>\n",
       "<tbody>\n",
       "\t<tr><td>CommunistSocialDemocratic</td><td>0.006006262</td><td> 3.944853</td></tr>\n",
       "\t<tr><td>Conservative             </td><td>0.007566963</td><td> 8.243137</td></tr>\n",
       "\t<tr><td>EthnicRegional           </td><td>0.004312354</td><td>15.270833</td></tr>\n",
       "\t<tr><td>FarRight                 </td><td>0.006830518</td><td>14.625000</td></tr>\n",
       "\t<tr><td>M5S                      </td><td>0.004217489</td><td>18.418301</td></tr>\n",
       "</tbody>\n",
       "</table>\n"
      ],
      "text/latex": [
       "A tibble: 5 × 3\n",
       "\\begin{tabular}{lll}\n",
       " group\\_cluster & mean\\_perc\\_of\\_populist\\_toks & mean\\_populism\\\\\n",
       " <chr> & <dbl> & <dbl>\\\\\n",
       "\\hline\n",
       "\t CommunistSocialDemocratic & 0.006006262 &  3.944853\\\\\n",
       "\t Conservative              & 0.007566963 &  8.243137\\\\\n",
       "\t EthnicRegional            & 0.004312354 & 15.270833\\\\\n",
       "\t FarRight                  & 0.006830518 & 14.625000\\\\\n",
       "\t M5S                       & 0.004217489 & 18.418301\\\\\n",
       "\\end{tabular}\n"
      ],
      "text/markdown": [
       "\n",
       "A tibble: 5 × 3\n",
       "\n",
       "| group_cluster &lt;chr&gt; | mean_perc_of_populist_toks &lt;dbl&gt; | mean_populism &lt;dbl&gt; |\n",
       "|---|---|---|\n",
       "| CommunistSocialDemocratic | 0.006006262 |  3.944853 |\n",
       "| Conservative              | 0.007566963 |  8.243137 |\n",
       "| EthnicRegional            | 0.004312354 | 15.270833 |\n",
       "| FarRight                  | 0.006830518 | 14.625000 |\n",
       "| M5S                       | 0.004217489 | 18.418301 |\n",
       "\n"
      ],
      "text/plain": [
       "  group_cluster             mean_perc_of_populist_toks mean_populism\n",
       "1 CommunistSocialDemocratic 0.006006262                 3.944853    \n",
       "2 Conservative              0.007566963                 8.243137    \n",
       "3 EthnicRegional            0.004312354                15.270833    \n",
       "4 FarRight                  0.006830518                14.625000    \n",
       "5 M5S                       0.004217489                18.418301    "
      ]
     },
     "metadata": {},
     "output_type": "display_data"
    }
   ],
   "source": [
    "to_drop <- c(\"IV\", \"MISTO\")\n",
    "\n",
    "ches_db <- df_db %>% \n",
    "filter(year == 2019 & (! party %in% to_drop)) %>% \n",
    "group_by(group_cluster) %>% \n",
    "summarize(mean_perc_of_populist_toks = mean(perc_of_populist_toks)) %>% \n",
    "inner_join(ches_corr, by = \"group_cluster\")\n",
    "\n",
    "ches_db"
   ]
  },
  {
   "cell_type": "markdown",
   "id": "290bda19",
   "metadata": {},
   "source": [
    "The p-value is too large for us to reject the null hypothesis. "
   ]
  },
  {
   "cell_type": "code",
   "execution_count": 85,
   "id": "688c648e",
   "metadata": {},
   "outputs": [
    {
     "data": {
      "text/plain": [
       "\n",
       "\tPearson's product-moment correlation\n",
       "\n",
       "data:  ches_db$mean_perc_of_populist_toks and ches_db$mean_populism\n",
       "t = -1.2567, df = 3, p-value = 0.2978\n",
       "alternative hypothesis: true correlation is not equal to 0\n",
       "95 percent confidence interval:\n",
       " -0.9679910  0.6121996\n",
       "sample estimates:\n",
       "      cor \n",
       "-0.587259 \n"
      ]
     },
     "metadata": {},
     "output_type": "display_data"
    }
   ],
   "source": [
    "cor.test(x = ches_db$mean_perc_of_populist_toks, \n",
    "         y = ches_db$mean_populism)"
   ]
  },
  {
   "cell_type": "markdown",
   "id": "9f147c68",
   "metadata": {},
   "source": [
    "### The PopuList <a class=\"anchor\" id=\"subparagraph10\"></a>"
   ]
  },
  {
   "cell_type": "markdown",
   "id": "90964cdd",
   "metadata": {},
   "source": [
    "Let's join the mean populism score from the PopuList dataset to the dictionary analysis results "
   ]
  },
  {
   "cell_type": "code",
   "execution_count": 90,
   "id": "b849037d",
   "metadata": {},
   "outputs": [
    {
     "data": {
      "text/html": [
       "<table class=\"dataframe\">\n",
       "<caption>A tibble: 11 × 3</caption>\n",
       "<thead>\n",
       "\t<tr><th scope=col>group_cluster</th><th scope=col>mean_perc_of_populist_toks</th><th scope=col>mean_populist</th></tr>\n",
       "\t<tr><th scope=col>&lt;chr&gt;</th><th scope=col>&lt;dbl&gt;</th><th scope=col>&lt;dbl&gt;</th></tr>\n",
       "</thead>\n",
       "<tbody>\n",
       "\t<tr><td>M5S                      </td><td>0.006765723</td><td>1</td></tr>\n",
       "\t<tr><td>IdV                      </td><td>0.005684100</td><td>0</td></tr>\n",
       "\t<tr><td>EthnicRegional           </td><td>0.005521892</td><td>1</td></tr>\n",
       "\t<tr><td>Liberal                  </td><td>0.004949603</td><td>0</td></tr>\n",
       "\t<tr><td>Agrarian                 </td><td>0.004719057</td><td>0</td></tr>\n",
       "\t<tr><td>Conservative             </td><td>0.004385874</td><td>1</td></tr>\n",
       "\t<tr><td>Christian Democratic     </td><td>0.004256468</td><td>0</td></tr>\n",
       "\t<tr><td>Green                    </td><td>0.004173576</td><td>0</td></tr>\n",
       "\t<tr><td>FarRight                 </td><td>0.004090657</td><td>1</td></tr>\n",
       "\t<tr><td>CommunistSocialDemocratic</td><td>0.003906236</td><td>0</td></tr>\n",
       "\t<tr><td>Radical                  </td><td>0.003128886</td><td>0</td></tr>\n",
       "</tbody>\n",
       "</table>\n"
      ],
      "text/latex": [
       "A tibble: 11 × 3\n",
       "\\begin{tabular}{lll}\n",
       " group\\_cluster & mean\\_perc\\_of\\_populist\\_toks & mean\\_populist\\\\\n",
       " <chr> & <dbl> & <dbl>\\\\\n",
       "\\hline\n",
       "\t M5S                       & 0.006765723 & 1\\\\\n",
       "\t IdV                       & 0.005684100 & 0\\\\\n",
       "\t EthnicRegional            & 0.005521892 & 1\\\\\n",
       "\t Liberal                   & 0.004949603 & 0\\\\\n",
       "\t Agrarian                  & 0.004719057 & 0\\\\\n",
       "\t Conservative              & 0.004385874 & 1\\\\\n",
       "\t Christian Democratic      & 0.004256468 & 0\\\\\n",
       "\t Green                     & 0.004173576 & 0\\\\\n",
       "\t FarRight                  & 0.004090657 & 1\\\\\n",
       "\t CommunistSocialDemocratic & 0.003906236 & 0\\\\\n",
       "\t Radical                   & 0.003128886 & 0\\\\\n",
       "\\end{tabular}\n"
      ],
      "text/markdown": [
       "\n",
       "A tibble: 11 × 3\n",
       "\n",
       "| group_cluster &lt;chr&gt; | mean_perc_of_populist_toks &lt;dbl&gt; | mean_populist &lt;dbl&gt; |\n",
       "|---|---|---|\n",
       "| M5S                       | 0.006765723 | 1 |\n",
       "| IdV                       | 0.005684100 | 0 |\n",
       "| EthnicRegional            | 0.005521892 | 1 |\n",
       "| Liberal                   | 0.004949603 | 0 |\n",
       "| Agrarian                  | 0.004719057 | 0 |\n",
       "| Conservative              | 0.004385874 | 1 |\n",
       "| Christian Democratic      | 0.004256468 | 0 |\n",
       "| Green                     | 0.004173576 | 0 |\n",
       "| FarRight                  | 0.004090657 | 1 |\n",
       "| CommunistSocialDemocratic | 0.003906236 | 0 |\n",
       "| Radical                   | 0.003128886 | 0 |\n",
       "\n"
      ],
      "text/plain": [
       "   group_cluster             mean_perc_of_populist_toks mean_populist\n",
       "1  M5S                       0.006765723                1            \n",
       "2  IdV                       0.005684100                0            \n",
       "3  EthnicRegional            0.005521892                1            \n",
       "4  Liberal                   0.004949603                0            \n",
       "5  Agrarian                  0.004719057                0            \n",
       "6  Conservative              0.004385874                1            \n",
       "7  Christian Democratic      0.004256468                0            \n",
       "8  Green                     0.004173576                0            \n",
       "9  FarRight                  0.004090657                1            \n",
       "10 CommunistSocialDemocratic 0.003906236                0            \n",
       "11 Radical                   0.003128886                0            "
      ]
     },
     "metadata": {},
     "output_type": "display_data"
    }
   ],
   "source": [
    "populist_db <- df_db %>% \n",
    "filter(group_cluster != 'Misto') %>% \n",
    "group_by(group_cluster) %>% \n",
    "summarize(mean_perc_of_populist_toks = mean(perc_of_populist_toks)) %>% \n",
    "left_join(populist_corr, by = \"group_cluster\") %>% \n",
    "mutate(mean_populist = replace_na(mean_populist, replace = 0)) %>% \n",
    "arrange(desc(mean_perc_of_populist_toks))\n",
    "\n",
    "populist_db"
   ]
  },
  {
   "cell_type": "markdown",
   "id": "e4e94c75",
   "metadata": {},
   "source": [
    "The relationship between the mean % of populist tokens as calculated with Decadri and Boussalis' dictionary and the mean populist score from the PopuList dataset is somewhat strong. However, based on the the P-value we can't reject the null hypothesis."
   ]
  },
  {
   "cell_type": "code",
   "execution_count": 91,
   "id": "5e3d8fbc",
   "metadata": {},
   "outputs": [
    {
     "data": {
      "text/plain": [
       "\n",
       "\tPearson's product-moment correlation\n",
       "\n",
       "data:  populist_db$mean_perc_of_populist_toks and populist_db$mean_populist\n",
       "t = 1.2996, df = 9, p-value = 0.226\n",
       "alternative hypothesis: true correlation is not equal to 0\n",
       "95 percent confidence interval:\n",
       " -0.2657295  0.8053455\n",
       "sample estimates:\n",
       "      cor \n",
       "0.3975105 \n"
      ]
     },
     "metadata": {},
     "output_type": "display_data"
    }
   ],
   "source": [
    "cor.test(x = populist_db$mean_perc_of_populist_toks,\n",
    "         y = populist_db$mean_populist)"
   ]
  }
 ],
 "metadata": {
  "kernelspec": {
   "display_name": "R",
   "language": "R",
   "name": "ir"
  },
  "language_info": {
   "codemirror_mode": "r",
   "file_extension": ".r",
   "mimetype": "text/x-r-source",
   "name": "R",
   "pygments_lexer": "r",
   "version": "4.1.0"
  },
  "toc": {
   "base_numbering": 1,
   "nav_menu": {},
   "number_sections": true,
   "sideBar": true,
   "skip_h1_title": false,
   "title_cell": "Table of Contents",
   "title_sidebar": "Contents",
   "toc_cell": false,
   "toc_position": {
    "height": "calc(100% - 180px)",
    "left": "10px",
    "top": "150px",
    "width": "303.825px"
   },
   "toc_section_display": true,
   "toc_window_display": true
  }
 },
 "nbformat": 4,
 "nbformat_minor": 5
}
