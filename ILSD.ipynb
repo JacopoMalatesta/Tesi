{
 "cells": [
  {
   "cell_type": "markdown",
   "id": "cfab4ad8",
   "metadata": {},
   "source": [
    "# Libraries"
   ]
  },
  {
   "cell_type": "code",
   "execution_count": 1,
   "id": "516839c4",
   "metadata": {},
   "outputs": [],
   "source": [
    "suppressWarnings(suppressPackageStartupMessages(library(tidyverse)))\n",
    "suppressWarnings(suppressPackageStartupMessages(library(haven)))\n",
    "suppressWarnings(suppressPackageStartupMessages(library(bbplot)))"
   ]
  },
  {
   "cell_type": "markdown",
   "id": "00f8222f",
   "metadata": {},
   "source": [
    "# Creating new scales in the ILSD dataset"
   ]
  },
  {
   "cell_type": "markdown",
   "id": "36a3146b",
   "metadata": {},
   "source": [
    "Load the ILSD dataset"
   ]
  },
  {
   "cell_type": "code",
   "execution_count": 2,
   "id": "e43d2166",
   "metadata": {},
   "outputs": [],
   "source": [
    "ilsd <- read_dta(\"data/ilsd jun2018 (con scale).dta\")"
   ]
  },
  {
   "cell_type": "markdown",
   "id": "0f2ffb72",
   "metadata": {},
   "source": [
    "Let's create:\n",
    "- the logit left right scale\n",
    "- the \"classic\" economic scale\n",
    "- the economic ratio\n",
    "- the logit economic scale\n",
    "- the \"classic\" gal/tan scale\n",
    "- the gal/tan ratio\n",
    "- the logit gal/tan scale\n",
    "- the \"classic\" economic gal/tan\n",
    "- the economic gal/tan ratio\n",
    "- the logit economic gal/tan scale\n",
    "- a dummy equal to zero when all variables used to create the gal/tan variables are equal to zero"
   ]
  },
  {
   "cell_type": "code",
   "execution_count": 3,
   "id": "2f382778",
   "metadata": {},
   "outputs": [],
   "source": [
    "ilsd <- ilsd %>% \n",
    "mutate(right = per101 + per104 + per110 + per107 + per401 + per402 + per406 + per410 + per414 + per416 + per601 + per603 + per605 + per609 + per608 + per202,\n",
    "       left = per102 + per103 + per105 + per106 + per108 + per109 + per403 + per404 + per405 + per408 + per409 + per411 + per412 + per413 + per415 + per417 + per602 + per604 + per606 + per607 + per610 + per611 + per201,\n",
    "       logit_left_right = log(right + .5) - log(left + .5),\n",
    "       economic_right = per401 + per402 + per406 + per410 + per414 + per416,\n",
    "       economic_left = per403 + per404 + per405 + per407 + per408 + per409 + per411 + per412 + per413 + per415 + per417,\n",
    "       classic_economic = economic_right - economic_left,\n",
    "       ratio_economic = classic_economic / (economic_right + economic_left),\n",
    "       logit_economic = log(economic_right + .5) - log(economic_left + .5),\n",
    "       classic_gal_tan = ((per108 + per608) - (per107 + per607)),\n",
    "       ratio_gal_tan = classic_gal_tan / (per107 + per108 + per607 + per608),\n",
    "       logit_gal_tan = log((per108 + per608) + .5) - log((per107 + per607) + .5),\n",
    "       economic_gal_tan_left = per107 + per405 + per607,\n",
    "       economic_gal_tan_right = per108 + per406 + per608,\n",
    "       classic_economic_gal_tan = (economic_gal_tan_right - economic_gal_tan_left),\n",
    "       ratio_economic_gal_tan = classic_economic_gal_tan / (economic_gal_tan_left + economic_gal_tan_right),\n",
    "       logit_economic_gal_tan = log(economic_gal_tan_right + .5) - log(economic_gal_tan_left + .5),\n",
    "       gal_tan_controllo = if_else((per107 == 0 & per108 == 0 & per405 == 0 & per406 == 0 & per607 == 0 & per608 == 0), 1, 0))"
   ]
  },
  {
   "cell_type": "markdown",
   "id": "2c41bcba",
   "metadata": {},
   "source": [
    "The speeches with a null value in the ratio_gal_tan variable have a score equal to zero for all variables used to calculate it (i.e. per107, per108, per607, per608)"
   ]
  },
  {
   "cell_type": "code",
   "execution_count": 4,
   "id": "51c85806",
   "metadata": {},
   "outputs": [
    {
     "data": {
      "text/html": [
       "<table class=\"dataframe\">\n",
       "<caption>A tibble: 173 × 7</caption>\n",
       "<thead>\n",
       "\t<tr><th scope=col>per107</th><th scope=col>per108</th><th scope=col>per607</th><th scope=col>per608</th><th scope=col>classic_gal_tan</th><th scope=col>ratio_gal_tan</th><th scope=col>logit_gal_tan</th></tr>\n",
       "\t<tr><th scope=col>&lt;dbl&gt;</th><th scope=col>&lt;dbl&gt;</th><th scope=col>&lt;dbl&gt;</th><th scope=col>&lt;dbl&gt;</th><th scope=col>&lt;dbl&gt;</th><th scope=col>&lt;dbl&gt;</th><th scope=col>&lt;dbl&gt;</th></tr>\n",
       "</thead>\n",
       "<tbody>\n",
       "\t<tr><td>0</td><td>0</td><td>0</td><td>0</td><td>0</td><td>NaN</td><td>0</td></tr>\n",
       "\t<tr><td>0</td><td>0</td><td>0</td><td>0</td><td>0</td><td>NaN</td><td>0</td></tr>\n",
       "\t<tr><td>0</td><td>0</td><td>0</td><td>0</td><td>0</td><td>NaN</td><td>0</td></tr>\n",
       "\t<tr><td>0</td><td>0</td><td>0</td><td>0</td><td>0</td><td>NaN</td><td>0</td></tr>\n",
       "\t<tr><td>0</td><td>0</td><td>0</td><td>0</td><td>0</td><td>NaN</td><td>0</td></tr>\n",
       "\t<tr><td>0</td><td>0</td><td>0</td><td>0</td><td>0</td><td>NaN</td><td>0</td></tr>\n",
       "\t<tr><td>0</td><td>0</td><td>0</td><td>0</td><td>0</td><td>NaN</td><td>0</td></tr>\n",
       "\t<tr><td>0</td><td>0</td><td>0</td><td>0</td><td>0</td><td>NaN</td><td>0</td></tr>\n",
       "\t<tr><td>0</td><td>0</td><td>0</td><td>0</td><td>0</td><td>NaN</td><td>0</td></tr>\n",
       "\t<tr><td>0</td><td>0</td><td>0</td><td>0</td><td>0</td><td>NaN</td><td>0</td></tr>\n",
       "\t<tr><td>0</td><td>0</td><td>0</td><td>0</td><td>0</td><td>NaN</td><td>0</td></tr>\n",
       "\t<tr><td>0</td><td>0</td><td>0</td><td>0</td><td>0</td><td>NaN</td><td>0</td></tr>\n",
       "\t<tr><td>0</td><td>0</td><td>0</td><td>0</td><td>0</td><td>NaN</td><td>0</td></tr>\n",
       "\t<tr><td>0</td><td>0</td><td>0</td><td>0</td><td>0</td><td>NaN</td><td>0</td></tr>\n",
       "\t<tr><td>0</td><td>0</td><td>0</td><td>0</td><td>0</td><td>NaN</td><td>0</td></tr>\n",
       "\t<tr><td>0</td><td>0</td><td>0</td><td>0</td><td>0</td><td>NaN</td><td>0</td></tr>\n",
       "\t<tr><td>0</td><td>0</td><td>0</td><td>0</td><td>0</td><td>NaN</td><td>0</td></tr>\n",
       "\t<tr><td>0</td><td>0</td><td>0</td><td>0</td><td>0</td><td>NaN</td><td>0</td></tr>\n",
       "\t<tr><td>0</td><td>0</td><td>0</td><td>0</td><td>0</td><td>NaN</td><td>0</td></tr>\n",
       "\t<tr><td>0</td><td>0</td><td>0</td><td>0</td><td>0</td><td>NaN</td><td>0</td></tr>\n",
       "\t<tr><td>0</td><td>0</td><td>0</td><td>0</td><td>0</td><td>NaN</td><td>0</td></tr>\n",
       "\t<tr><td>0</td><td>0</td><td>0</td><td>0</td><td>0</td><td>NaN</td><td>0</td></tr>\n",
       "\t<tr><td>0</td><td>0</td><td>0</td><td>0</td><td>0</td><td>NaN</td><td>0</td></tr>\n",
       "\t<tr><td>0</td><td>0</td><td>0</td><td>0</td><td>0</td><td>NaN</td><td>0</td></tr>\n",
       "\t<tr><td>0</td><td>0</td><td>0</td><td>0</td><td>0</td><td>NaN</td><td>0</td></tr>\n",
       "\t<tr><td>0</td><td>0</td><td>0</td><td>0</td><td>0</td><td>NaN</td><td>0</td></tr>\n",
       "\t<tr><td>0</td><td>0</td><td>0</td><td>0</td><td>0</td><td>NaN</td><td>0</td></tr>\n",
       "\t<tr><td>0</td><td>0</td><td>0</td><td>0</td><td>0</td><td>NaN</td><td>0</td></tr>\n",
       "\t<tr><td>0</td><td>0</td><td>0</td><td>0</td><td>0</td><td>NaN</td><td>0</td></tr>\n",
       "\t<tr><td>0</td><td>0</td><td>0</td><td>0</td><td>0</td><td>NaN</td><td>0</td></tr>\n",
       "\t<tr><td>⋮</td><td>⋮</td><td>⋮</td><td>⋮</td><td>⋮</td><td>⋮</td><td>⋮</td></tr>\n",
       "\t<tr><td>0</td><td>0</td><td>0</td><td>0</td><td>0</td><td>NaN</td><td>0</td></tr>\n",
       "\t<tr><td>0</td><td>0</td><td>0</td><td>0</td><td>0</td><td>NaN</td><td>0</td></tr>\n",
       "\t<tr><td>0</td><td>0</td><td>0</td><td>0</td><td>0</td><td>NaN</td><td>0</td></tr>\n",
       "\t<tr><td>0</td><td>0</td><td>0</td><td>0</td><td>0</td><td>NaN</td><td>0</td></tr>\n",
       "\t<tr><td>0</td><td>0</td><td>0</td><td>0</td><td>0</td><td>NaN</td><td>0</td></tr>\n",
       "\t<tr><td>0</td><td>0</td><td>0</td><td>0</td><td>0</td><td>NaN</td><td>0</td></tr>\n",
       "\t<tr><td>0</td><td>0</td><td>0</td><td>0</td><td>0</td><td>NaN</td><td>0</td></tr>\n",
       "\t<tr><td>0</td><td>0</td><td>0</td><td>0</td><td>0</td><td>NaN</td><td>0</td></tr>\n",
       "\t<tr><td>0</td><td>0</td><td>0</td><td>0</td><td>0</td><td>NaN</td><td>0</td></tr>\n",
       "\t<tr><td>0</td><td>0</td><td>0</td><td>0</td><td>0</td><td>NaN</td><td>0</td></tr>\n",
       "\t<tr><td>0</td><td>0</td><td>0</td><td>0</td><td>0</td><td>NaN</td><td>0</td></tr>\n",
       "\t<tr><td>0</td><td>0</td><td>0</td><td>0</td><td>0</td><td>NaN</td><td>0</td></tr>\n",
       "\t<tr><td>0</td><td>0</td><td>0</td><td>0</td><td>0</td><td>NaN</td><td>0</td></tr>\n",
       "\t<tr><td>0</td><td>0</td><td>0</td><td>0</td><td>0</td><td>NaN</td><td>0</td></tr>\n",
       "\t<tr><td>0</td><td>0</td><td>0</td><td>0</td><td>0</td><td>NaN</td><td>0</td></tr>\n",
       "\t<tr><td>0</td><td>0</td><td>0</td><td>0</td><td>0</td><td>NaN</td><td>0</td></tr>\n",
       "\t<tr><td>0</td><td>0</td><td>0</td><td>0</td><td>0</td><td>NaN</td><td>0</td></tr>\n",
       "\t<tr><td>0</td><td>0</td><td>0</td><td>0</td><td>0</td><td>NaN</td><td>0</td></tr>\n",
       "\t<tr><td>0</td><td>0</td><td>0</td><td>0</td><td>0</td><td>NaN</td><td>0</td></tr>\n",
       "\t<tr><td>0</td><td>0</td><td>0</td><td>0</td><td>0</td><td>NaN</td><td>0</td></tr>\n",
       "\t<tr><td>0</td><td>0</td><td>0</td><td>0</td><td>0</td><td>NaN</td><td>0</td></tr>\n",
       "\t<tr><td>0</td><td>0</td><td>0</td><td>0</td><td>0</td><td>NaN</td><td>0</td></tr>\n",
       "\t<tr><td>0</td><td>0</td><td>0</td><td>0</td><td>0</td><td>NaN</td><td>0</td></tr>\n",
       "\t<tr><td>0</td><td>0</td><td>0</td><td>0</td><td>0</td><td>NaN</td><td>0</td></tr>\n",
       "\t<tr><td>0</td><td>0</td><td>0</td><td>0</td><td>0</td><td>NaN</td><td>0</td></tr>\n",
       "\t<tr><td>0</td><td>0</td><td>0</td><td>0</td><td>0</td><td>NaN</td><td>0</td></tr>\n",
       "\t<tr><td>0</td><td>0</td><td>0</td><td>0</td><td>0</td><td>NaN</td><td>0</td></tr>\n",
       "\t<tr><td>0</td><td>0</td><td>0</td><td>0</td><td>0</td><td>NaN</td><td>0</td></tr>\n",
       "\t<tr><td>0</td><td>0</td><td>0</td><td>0</td><td>0</td><td>NaN</td><td>0</td></tr>\n",
       "\t<tr><td>0</td><td>0</td><td>0</td><td>0</td><td>0</td><td>NaN</td><td>0</td></tr>\n",
       "</tbody>\n",
       "</table>\n"
      ],
      "text/latex": [
       "A tibble: 173 × 7\n",
       "\\begin{tabular}{lllllll}\n",
       " per107 & per108 & per607 & per608 & classic\\_gal\\_tan & ratio\\_gal\\_tan & logit\\_gal\\_tan\\\\\n",
       " <dbl> & <dbl> & <dbl> & <dbl> & <dbl> & <dbl> & <dbl>\\\\\n",
       "\\hline\n",
       "\t 0 & 0 & 0 & 0 & 0 & NaN & 0\\\\\n",
       "\t 0 & 0 & 0 & 0 & 0 & NaN & 0\\\\\n",
       "\t 0 & 0 & 0 & 0 & 0 & NaN & 0\\\\\n",
       "\t 0 & 0 & 0 & 0 & 0 & NaN & 0\\\\\n",
       "\t 0 & 0 & 0 & 0 & 0 & NaN & 0\\\\\n",
       "\t 0 & 0 & 0 & 0 & 0 & NaN & 0\\\\\n",
       "\t 0 & 0 & 0 & 0 & 0 & NaN & 0\\\\\n",
       "\t 0 & 0 & 0 & 0 & 0 & NaN & 0\\\\\n",
       "\t 0 & 0 & 0 & 0 & 0 & NaN & 0\\\\\n",
       "\t 0 & 0 & 0 & 0 & 0 & NaN & 0\\\\\n",
       "\t 0 & 0 & 0 & 0 & 0 & NaN & 0\\\\\n",
       "\t 0 & 0 & 0 & 0 & 0 & NaN & 0\\\\\n",
       "\t 0 & 0 & 0 & 0 & 0 & NaN & 0\\\\\n",
       "\t 0 & 0 & 0 & 0 & 0 & NaN & 0\\\\\n",
       "\t 0 & 0 & 0 & 0 & 0 & NaN & 0\\\\\n",
       "\t 0 & 0 & 0 & 0 & 0 & NaN & 0\\\\\n",
       "\t 0 & 0 & 0 & 0 & 0 & NaN & 0\\\\\n",
       "\t 0 & 0 & 0 & 0 & 0 & NaN & 0\\\\\n",
       "\t 0 & 0 & 0 & 0 & 0 & NaN & 0\\\\\n",
       "\t 0 & 0 & 0 & 0 & 0 & NaN & 0\\\\\n",
       "\t 0 & 0 & 0 & 0 & 0 & NaN & 0\\\\\n",
       "\t 0 & 0 & 0 & 0 & 0 & NaN & 0\\\\\n",
       "\t 0 & 0 & 0 & 0 & 0 & NaN & 0\\\\\n",
       "\t 0 & 0 & 0 & 0 & 0 & NaN & 0\\\\\n",
       "\t 0 & 0 & 0 & 0 & 0 & NaN & 0\\\\\n",
       "\t 0 & 0 & 0 & 0 & 0 & NaN & 0\\\\\n",
       "\t 0 & 0 & 0 & 0 & 0 & NaN & 0\\\\\n",
       "\t 0 & 0 & 0 & 0 & 0 & NaN & 0\\\\\n",
       "\t 0 & 0 & 0 & 0 & 0 & NaN & 0\\\\\n",
       "\t 0 & 0 & 0 & 0 & 0 & NaN & 0\\\\\n",
       "\t ⋮ & ⋮ & ⋮ & ⋮ & ⋮ & ⋮ & ⋮\\\\\n",
       "\t 0 & 0 & 0 & 0 & 0 & NaN & 0\\\\\n",
       "\t 0 & 0 & 0 & 0 & 0 & NaN & 0\\\\\n",
       "\t 0 & 0 & 0 & 0 & 0 & NaN & 0\\\\\n",
       "\t 0 & 0 & 0 & 0 & 0 & NaN & 0\\\\\n",
       "\t 0 & 0 & 0 & 0 & 0 & NaN & 0\\\\\n",
       "\t 0 & 0 & 0 & 0 & 0 & NaN & 0\\\\\n",
       "\t 0 & 0 & 0 & 0 & 0 & NaN & 0\\\\\n",
       "\t 0 & 0 & 0 & 0 & 0 & NaN & 0\\\\\n",
       "\t 0 & 0 & 0 & 0 & 0 & NaN & 0\\\\\n",
       "\t 0 & 0 & 0 & 0 & 0 & NaN & 0\\\\\n",
       "\t 0 & 0 & 0 & 0 & 0 & NaN & 0\\\\\n",
       "\t 0 & 0 & 0 & 0 & 0 & NaN & 0\\\\\n",
       "\t 0 & 0 & 0 & 0 & 0 & NaN & 0\\\\\n",
       "\t 0 & 0 & 0 & 0 & 0 & NaN & 0\\\\\n",
       "\t 0 & 0 & 0 & 0 & 0 & NaN & 0\\\\\n",
       "\t 0 & 0 & 0 & 0 & 0 & NaN & 0\\\\\n",
       "\t 0 & 0 & 0 & 0 & 0 & NaN & 0\\\\\n",
       "\t 0 & 0 & 0 & 0 & 0 & NaN & 0\\\\\n",
       "\t 0 & 0 & 0 & 0 & 0 & NaN & 0\\\\\n",
       "\t 0 & 0 & 0 & 0 & 0 & NaN & 0\\\\\n",
       "\t 0 & 0 & 0 & 0 & 0 & NaN & 0\\\\\n",
       "\t 0 & 0 & 0 & 0 & 0 & NaN & 0\\\\\n",
       "\t 0 & 0 & 0 & 0 & 0 & NaN & 0\\\\\n",
       "\t 0 & 0 & 0 & 0 & 0 & NaN & 0\\\\\n",
       "\t 0 & 0 & 0 & 0 & 0 & NaN & 0\\\\\n",
       "\t 0 & 0 & 0 & 0 & 0 & NaN & 0\\\\\n",
       "\t 0 & 0 & 0 & 0 & 0 & NaN & 0\\\\\n",
       "\t 0 & 0 & 0 & 0 & 0 & NaN & 0\\\\\n",
       "\t 0 & 0 & 0 & 0 & 0 & NaN & 0\\\\\n",
       "\t 0 & 0 & 0 & 0 & 0 & NaN & 0\\\\\n",
       "\\end{tabular}\n"
      ],
      "text/markdown": [
       "\n",
       "A tibble: 173 × 7\n",
       "\n",
       "| per107 &lt;dbl&gt; | per108 &lt;dbl&gt; | per607 &lt;dbl&gt; | per608 &lt;dbl&gt; | classic_gal_tan &lt;dbl&gt; | ratio_gal_tan &lt;dbl&gt; | logit_gal_tan &lt;dbl&gt; |\n",
       "|---|---|---|---|---|---|---|\n",
       "| 0 | 0 | 0 | 0 | 0 | NaN | 0 |\n",
       "| 0 | 0 | 0 | 0 | 0 | NaN | 0 |\n",
       "| 0 | 0 | 0 | 0 | 0 | NaN | 0 |\n",
       "| 0 | 0 | 0 | 0 | 0 | NaN | 0 |\n",
       "| 0 | 0 | 0 | 0 | 0 | NaN | 0 |\n",
       "| 0 | 0 | 0 | 0 | 0 | NaN | 0 |\n",
       "| 0 | 0 | 0 | 0 | 0 | NaN | 0 |\n",
       "| 0 | 0 | 0 | 0 | 0 | NaN | 0 |\n",
       "| 0 | 0 | 0 | 0 | 0 | NaN | 0 |\n",
       "| 0 | 0 | 0 | 0 | 0 | NaN | 0 |\n",
       "| 0 | 0 | 0 | 0 | 0 | NaN | 0 |\n",
       "| 0 | 0 | 0 | 0 | 0 | NaN | 0 |\n",
       "| 0 | 0 | 0 | 0 | 0 | NaN | 0 |\n",
       "| 0 | 0 | 0 | 0 | 0 | NaN | 0 |\n",
       "| 0 | 0 | 0 | 0 | 0 | NaN | 0 |\n",
       "| 0 | 0 | 0 | 0 | 0 | NaN | 0 |\n",
       "| 0 | 0 | 0 | 0 | 0 | NaN | 0 |\n",
       "| 0 | 0 | 0 | 0 | 0 | NaN | 0 |\n",
       "| 0 | 0 | 0 | 0 | 0 | NaN | 0 |\n",
       "| 0 | 0 | 0 | 0 | 0 | NaN | 0 |\n",
       "| 0 | 0 | 0 | 0 | 0 | NaN | 0 |\n",
       "| 0 | 0 | 0 | 0 | 0 | NaN | 0 |\n",
       "| 0 | 0 | 0 | 0 | 0 | NaN | 0 |\n",
       "| 0 | 0 | 0 | 0 | 0 | NaN | 0 |\n",
       "| 0 | 0 | 0 | 0 | 0 | NaN | 0 |\n",
       "| 0 | 0 | 0 | 0 | 0 | NaN | 0 |\n",
       "| 0 | 0 | 0 | 0 | 0 | NaN | 0 |\n",
       "| 0 | 0 | 0 | 0 | 0 | NaN | 0 |\n",
       "| 0 | 0 | 0 | 0 | 0 | NaN | 0 |\n",
       "| 0 | 0 | 0 | 0 | 0 | NaN | 0 |\n",
       "| ⋮ | ⋮ | ⋮ | ⋮ | ⋮ | ⋮ | ⋮ |\n",
       "| 0 | 0 | 0 | 0 | 0 | NaN | 0 |\n",
       "| 0 | 0 | 0 | 0 | 0 | NaN | 0 |\n",
       "| 0 | 0 | 0 | 0 | 0 | NaN | 0 |\n",
       "| 0 | 0 | 0 | 0 | 0 | NaN | 0 |\n",
       "| 0 | 0 | 0 | 0 | 0 | NaN | 0 |\n",
       "| 0 | 0 | 0 | 0 | 0 | NaN | 0 |\n",
       "| 0 | 0 | 0 | 0 | 0 | NaN | 0 |\n",
       "| 0 | 0 | 0 | 0 | 0 | NaN | 0 |\n",
       "| 0 | 0 | 0 | 0 | 0 | NaN | 0 |\n",
       "| 0 | 0 | 0 | 0 | 0 | NaN | 0 |\n",
       "| 0 | 0 | 0 | 0 | 0 | NaN | 0 |\n",
       "| 0 | 0 | 0 | 0 | 0 | NaN | 0 |\n",
       "| 0 | 0 | 0 | 0 | 0 | NaN | 0 |\n",
       "| 0 | 0 | 0 | 0 | 0 | NaN | 0 |\n",
       "| 0 | 0 | 0 | 0 | 0 | NaN | 0 |\n",
       "| 0 | 0 | 0 | 0 | 0 | NaN | 0 |\n",
       "| 0 | 0 | 0 | 0 | 0 | NaN | 0 |\n",
       "| 0 | 0 | 0 | 0 | 0 | NaN | 0 |\n",
       "| 0 | 0 | 0 | 0 | 0 | NaN | 0 |\n",
       "| 0 | 0 | 0 | 0 | 0 | NaN | 0 |\n",
       "| 0 | 0 | 0 | 0 | 0 | NaN | 0 |\n",
       "| 0 | 0 | 0 | 0 | 0 | NaN | 0 |\n",
       "| 0 | 0 | 0 | 0 | 0 | NaN | 0 |\n",
       "| 0 | 0 | 0 | 0 | 0 | NaN | 0 |\n",
       "| 0 | 0 | 0 | 0 | 0 | NaN | 0 |\n",
       "| 0 | 0 | 0 | 0 | 0 | NaN | 0 |\n",
       "| 0 | 0 | 0 | 0 | 0 | NaN | 0 |\n",
       "| 0 | 0 | 0 | 0 | 0 | NaN | 0 |\n",
       "| 0 | 0 | 0 | 0 | 0 | NaN | 0 |\n",
       "| 0 | 0 | 0 | 0 | 0 | NaN | 0 |\n",
       "\n"
      ],
      "text/plain": [
       "    per107 per108 per607 per608 classic_gal_tan ratio_gal_tan logit_gal_tan\n",
       "1   0      0      0      0      0               NaN           0            \n",
       "2   0      0      0      0      0               NaN           0            \n",
       "3   0      0      0      0      0               NaN           0            \n",
       "4   0      0      0      0      0               NaN           0            \n",
       "5   0      0      0      0      0               NaN           0            \n",
       "6   0      0      0      0      0               NaN           0            \n",
       "7   0      0      0      0      0               NaN           0            \n",
       "8   0      0      0      0      0               NaN           0            \n",
       "9   0      0      0      0      0               NaN           0            \n",
       "10  0      0      0      0      0               NaN           0            \n",
       "11  0      0      0      0      0               NaN           0            \n",
       "12  0      0      0      0      0               NaN           0            \n",
       "13  0      0      0      0      0               NaN           0            \n",
       "14  0      0      0      0      0               NaN           0            \n",
       "15  0      0      0      0      0               NaN           0            \n",
       "16  0      0      0      0      0               NaN           0            \n",
       "17  0      0      0      0      0               NaN           0            \n",
       "18  0      0      0      0      0               NaN           0            \n",
       "19  0      0      0      0      0               NaN           0            \n",
       "20  0      0      0      0      0               NaN           0            \n",
       "21  0      0      0      0      0               NaN           0            \n",
       "22  0      0      0      0      0               NaN           0            \n",
       "23  0      0      0      0      0               NaN           0            \n",
       "24  0      0      0      0      0               NaN           0            \n",
       "25  0      0      0      0      0               NaN           0            \n",
       "26  0      0      0      0      0               NaN           0            \n",
       "27  0      0      0      0      0               NaN           0            \n",
       "28  0      0      0      0      0               NaN           0            \n",
       "29  0      0      0      0      0               NaN           0            \n",
       "30  0      0      0      0      0               NaN           0            \n",
       "<U+22EE>   <U+22EE> <U+22EE> <U+22EE> <U+22EE> <U+22EE>        <U+22EE>      <U+22EE>     \n",
       "144 0      0      0      0      0               NaN           0            \n",
       "145 0      0      0      0      0               NaN           0            \n",
       "146 0      0      0      0      0               NaN           0            \n",
       "147 0      0      0      0      0               NaN           0            \n",
       "148 0      0      0      0      0               NaN           0            \n",
       "149 0      0      0      0      0               NaN           0            \n",
       "150 0      0      0      0      0               NaN           0            \n",
       "151 0      0      0      0      0               NaN           0            \n",
       "152 0      0      0      0      0               NaN           0            \n",
       "153 0      0      0      0      0               NaN           0            \n",
       "154 0      0      0      0      0               NaN           0            \n",
       "155 0      0      0      0      0               NaN           0            \n",
       "156 0      0      0      0      0               NaN           0            \n",
       "157 0      0      0      0      0               NaN           0            \n",
       "158 0      0      0      0      0               NaN           0            \n",
       "159 0      0      0      0      0               NaN           0            \n",
       "160 0      0      0      0      0               NaN           0            \n",
       "161 0      0      0      0      0               NaN           0            \n",
       "162 0      0      0      0      0               NaN           0            \n",
       "163 0      0      0      0      0               NaN           0            \n",
       "164 0      0      0      0      0               NaN           0            \n",
       "165 0      0      0      0      0               NaN           0            \n",
       "166 0      0      0      0      0               NaN           0            \n",
       "167 0      0      0      0      0               NaN           0            \n",
       "168 0      0      0      0      0               NaN           0            \n",
       "169 0      0      0      0      0               NaN           0            \n",
       "170 0      0      0      0      0               NaN           0            \n",
       "171 0      0      0      0      0               NaN           0            \n",
       "172 0      0      0      0      0               NaN           0            \n",
       "173 0      0      0      0      0               NaN           0            "
      ]
     },
     "metadata": {},
     "output_type": "display_data"
    },
    {
     "data": {
      "text/html": [
       "<table class=\"dataframe\">\n",
       "<caption>A tibble: 173 × 7</caption>\n",
       "<thead>\n",
       "\t<tr><th scope=col>per107</th><th scope=col>per108</th><th scope=col>per607</th><th scope=col>per608</th><th scope=col>classic_gal_tan</th><th scope=col>ratio_gal_tan</th><th scope=col>logit_gal_tan</th></tr>\n",
       "\t<tr><th scope=col>&lt;dbl&gt;</th><th scope=col>&lt;dbl&gt;</th><th scope=col>&lt;dbl&gt;</th><th scope=col>&lt;dbl&gt;</th><th scope=col>&lt;dbl&gt;</th><th scope=col>&lt;dbl&gt;</th><th scope=col>&lt;dbl&gt;</th></tr>\n",
       "</thead>\n",
       "<tbody>\n",
       "\t<tr><td>0</td><td>0</td><td>0</td><td>0</td><td>0</td><td>NaN</td><td>0</td></tr>\n",
       "\t<tr><td>0</td><td>0</td><td>0</td><td>0</td><td>0</td><td>NaN</td><td>0</td></tr>\n",
       "\t<tr><td>0</td><td>0</td><td>0</td><td>0</td><td>0</td><td>NaN</td><td>0</td></tr>\n",
       "\t<tr><td>0</td><td>0</td><td>0</td><td>0</td><td>0</td><td>NaN</td><td>0</td></tr>\n",
       "\t<tr><td>0</td><td>0</td><td>0</td><td>0</td><td>0</td><td>NaN</td><td>0</td></tr>\n",
       "\t<tr><td>0</td><td>0</td><td>0</td><td>0</td><td>0</td><td>NaN</td><td>0</td></tr>\n",
       "\t<tr><td>0</td><td>0</td><td>0</td><td>0</td><td>0</td><td>NaN</td><td>0</td></tr>\n",
       "\t<tr><td>0</td><td>0</td><td>0</td><td>0</td><td>0</td><td>NaN</td><td>0</td></tr>\n",
       "\t<tr><td>0</td><td>0</td><td>0</td><td>0</td><td>0</td><td>NaN</td><td>0</td></tr>\n",
       "\t<tr><td>0</td><td>0</td><td>0</td><td>0</td><td>0</td><td>NaN</td><td>0</td></tr>\n",
       "\t<tr><td>0</td><td>0</td><td>0</td><td>0</td><td>0</td><td>NaN</td><td>0</td></tr>\n",
       "\t<tr><td>0</td><td>0</td><td>0</td><td>0</td><td>0</td><td>NaN</td><td>0</td></tr>\n",
       "\t<tr><td>0</td><td>0</td><td>0</td><td>0</td><td>0</td><td>NaN</td><td>0</td></tr>\n",
       "\t<tr><td>0</td><td>0</td><td>0</td><td>0</td><td>0</td><td>NaN</td><td>0</td></tr>\n",
       "\t<tr><td>0</td><td>0</td><td>0</td><td>0</td><td>0</td><td>NaN</td><td>0</td></tr>\n",
       "\t<tr><td>0</td><td>0</td><td>0</td><td>0</td><td>0</td><td>NaN</td><td>0</td></tr>\n",
       "\t<tr><td>0</td><td>0</td><td>0</td><td>0</td><td>0</td><td>NaN</td><td>0</td></tr>\n",
       "\t<tr><td>0</td><td>0</td><td>0</td><td>0</td><td>0</td><td>NaN</td><td>0</td></tr>\n",
       "\t<tr><td>0</td><td>0</td><td>0</td><td>0</td><td>0</td><td>NaN</td><td>0</td></tr>\n",
       "\t<tr><td>0</td><td>0</td><td>0</td><td>0</td><td>0</td><td>NaN</td><td>0</td></tr>\n",
       "\t<tr><td>0</td><td>0</td><td>0</td><td>0</td><td>0</td><td>NaN</td><td>0</td></tr>\n",
       "\t<tr><td>0</td><td>0</td><td>0</td><td>0</td><td>0</td><td>NaN</td><td>0</td></tr>\n",
       "\t<tr><td>0</td><td>0</td><td>0</td><td>0</td><td>0</td><td>NaN</td><td>0</td></tr>\n",
       "\t<tr><td>0</td><td>0</td><td>0</td><td>0</td><td>0</td><td>NaN</td><td>0</td></tr>\n",
       "\t<tr><td>0</td><td>0</td><td>0</td><td>0</td><td>0</td><td>NaN</td><td>0</td></tr>\n",
       "\t<tr><td>0</td><td>0</td><td>0</td><td>0</td><td>0</td><td>NaN</td><td>0</td></tr>\n",
       "\t<tr><td>0</td><td>0</td><td>0</td><td>0</td><td>0</td><td>NaN</td><td>0</td></tr>\n",
       "\t<tr><td>0</td><td>0</td><td>0</td><td>0</td><td>0</td><td>NaN</td><td>0</td></tr>\n",
       "\t<tr><td>0</td><td>0</td><td>0</td><td>0</td><td>0</td><td>NaN</td><td>0</td></tr>\n",
       "\t<tr><td>0</td><td>0</td><td>0</td><td>0</td><td>0</td><td>NaN</td><td>0</td></tr>\n",
       "\t<tr><td>⋮</td><td>⋮</td><td>⋮</td><td>⋮</td><td>⋮</td><td>⋮</td><td>⋮</td></tr>\n",
       "\t<tr><td>0</td><td>0</td><td>0</td><td>0</td><td>0</td><td>NaN</td><td>0</td></tr>\n",
       "\t<tr><td>0</td><td>0</td><td>0</td><td>0</td><td>0</td><td>NaN</td><td>0</td></tr>\n",
       "\t<tr><td>0</td><td>0</td><td>0</td><td>0</td><td>0</td><td>NaN</td><td>0</td></tr>\n",
       "\t<tr><td>0</td><td>0</td><td>0</td><td>0</td><td>0</td><td>NaN</td><td>0</td></tr>\n",
       "\t<tr><td>0</td><td>0</td><td>0</td><td>0</td><td>0</td><td>NaN</td><td>0</td></tr>\n",
       "\t<tr><td>0</td><td>0</td><td>0</td><td>0</td><td>0</td><td>NaN</td><td>0</td></tr>\n",
       "\t<tr><td>0</td><td>0</td><td>0</td><td>0</td><td>0</td><td>NaN</td><td>0</td></tr>\n",
       "\t<tr><td>0</td><td>0</td><td>0</td><td>0</td><td>0</td><td>NaN</td><td>0</td></tr>\n",
       "\t<tr><td>0</td><td>0</td><td>0</td><td>0</td><td>0</td><td>NaN</td><td>0</td></tr>\n",
       "\t<tr><td>0</td><td>0</td><td>0</td><td>0</td><td>0</td><td>NaN</td><td>0</td></tr>\n",
       "\t<tr><td>0</td><td>0</td><td>0</td><td>0</td><td>0</td><td>NaN</td><td>0</td></tr>\n",
       "\t<tr><td>0</td><td>0</td><td>0</td><td>0</td><td>0</td><td>NaN</td><td>0</td></tr>\n",
       "\t<tr><td>0</td><td>0</td><td>0</td><td>0</td><td>0</td><td>NaN</td><td>0</td></tr>\n",
       "\t<tr><td>0</td><td>0</td><td>0</td><td>0</td><td>0</td><td>NaN</td><td>0</td></tr>\n",
       "\t<tr><td>0</td><td>0</td><td>0</td><td>0</td><td>0</td><td>NaN</td><td>0</td></tr>\n",
       "\t<tr><td>0</td><td>0</td><td>0</td><td>0</td><td>0</td><td>NaN</td><td>0</td></tr>\n",
       "\t<tr><td>0</td><td>0</td><td>0</td><td>0</td><td>0</td><td>NaN</td><td>0</td></tr>\n",
       "\t<tr><td>0</td><td>0</td><td>0</td><td>0</td><td>0</td><td>NaN</td><td>0</td></tr>\n",
       "\t<tr><td>0</td><td>0</td><td>0</td><td>0</td><td>0</td><td>NaN</td><td>0</td></tr>\n",
       "\t<tr><td>0</td><td>0</td><td>0</td><td>0</td><td>0</td><td>NaN</td><td>0</td></tr>\n",
       "\t<tr><td>0</td><td>0</td><td>0</td><td>0</td><td>0</td><td>NaN</td><td>0</td></tr>\n",
       "\t<tr><td>0</td><td>0</td><td>0</td><td>0</td><td>0</td><td>NaN</td><td>0</td></tr>\n",
       "\t<tr><td>0</td><td>0</td><td>0</td><td>0</td><td>0</td><td>NaN</td><td>0</td></tr>\n",
       "\t<tr><td>0</td><td>0</td><td>0</td><td>0</td><td>0</td><td>NaN</td><td>0</td></tr>\n",
       "\t<tr><td>0</td><td>0</td><td>0</td><td>0</td><td>0</td><td>NaN</td><td>0</td></tr>\n",
       "\t<tr><td>0</td><td>0</td><td>0</td><td>0</td><td>0</td><td>NaN</td><td>0</td></tr>\n",
       "\t<tr><td>0</td><td>0</td><td>0</td><td>0</td><td>0</td><td>NaN</td><td>0</td></tr>\n",
       "\t<tr><td>0</td><td>0</td><td>0</td><td>0</td><td>0</td><td>NaN</td><td>0</td></tr>\n",
       "\t<tr><td>0</td><td>0</td><td>0</td><td>0</td><td>0</td><td>NaN</td><td>0</td></tr>\n",
       "\t<tr><td>0</td><td>0</td><td>0</td><td>0</td><td>0</td><td>NaN</td><td>0</td></tr>\n",
       "</tbody>\n",
       "</table>\n"
      ],
      "text/latex": [
       "A tibble: 173 × 7\n",
       "\\begin{tabular}{lllllll}\n",
       " per107 & per108 & per607 & per608 & classic\\_gal\\_tan & ratio\\_gal\\_tan & logit\\_gal\\_tan\\\\\n",
       " <dbl> & <dbl> & <dbl> & <dbl> & <dbl> & <dbl> & <dbl>\\\\\n",
       "\\hline\n",
       "\t 0 & 0 & 0 & 0 & 0 & NaN & 0\\\\\n",
       "\t 0 & 0 & 0 & 0 & 0 & NaN & 0\\\\\n",
       "\t 0 & 0 & 0 & 0 & 0 & NaN & 0\\\\\n",
       "\t 0 & 0 & 0 & 0 & 0 & NaN & 0\\\\\n",
       "\t 0 & 0 & 0 & 0 & 0 & NaN & 0\\\\\n",
       "\t 0 & 0 & 0 & 0 & 0 & NaN & 0\\\\\n",
       "\t 0 & 0 & 0 & 0 & 0 & NaN & 0\\\\\n",
       "\t 0 & 0 & 0 & 0 & 0 & NaN & 0\\\\\n",
       "\t 0 & 0 & 0 & 0 & 0 & NaN & 0\\\\\n",
       "\t 0 & 0 & 0 & 0 & 0 & NaN & 0\\\\\n",
       "\t 0 & 0 & 0 & 0 & 0 & NaN & 0\\\\\n",
       "\t 0 & 0 & 0 & 0 & 0 & NaN & 0\\\\\n",
       "\t 0 & 0 & 0 & 0 & 0 & NaN & 0\\\\\n",
       "\t 0 & 0 & 0 & 0 & 0 & NaN & 0\\\\\n",
       "\t 0 & 0 & 0 & 0 & 0 & NaN & 0\\\\\n",
       "\t 0 & 0 & 0 & 0 & 0 & NaN & 0\\\\\n",
       "\t 0 & 0 & 0 & 0 & 0 & NaN & 0\\\\\n",
       "\t 0 & 0 & 0 & 0 & 0 & NaN & 0\\\\\n",
       "\t 0 & 0 & 0 & 0 & 0 & NaN & 0\\\\\n",
       "\t 0 & 0 & 0 & 0 & 0 & NaN & 0\\\\\n",
       "\t 0 & 0 & 0 & 0 & 0 & NaN & 0\\\\\n",
       "\t 0 & 0 & 0 & 0 & 0 & NaN & 0\\\\\n",
       "\t 0 & 0 & 0 & 0 & 0 & NaN & 0\\\\\n",
       "\t 0 & 0 & 0 & 0 & 0 & NaN & 0\\\\\n",
       "\t 0 & 0 & 0 & 0 & 0 & NaN & 0\\\\\n",
       "\t 0 & 0 & 0 & 0 & 0 & NaN & 0\\\\\n",
       "\t 0 & 0 & 0 & 0 & 0 & NaN & 0\\\\\n",
       "\t 0 & 0 & 0 & 0 & 0 & NaN & 0\\\\\n",
       "\t 0 & 0 & 0 & 0 & 0 & NaN & 0\\\\\n",
       "\t 0 & 0 & 0 & 0 & 0 & NaN & 0\\\\\n",
       "\t ⋮ & ⋮ & ⋮ & ⋮ & ⋮ & ⋮ & ⋮\\\\\n",
       "\t 0 & 0 & 0 & 0 & 0 & NaN & 0\\\\\n",
       "\t 0 & 0 & 0 & 0 & 0 & NaN & 0\\\\\n",
       "\t 0 & 0 & 0 & 0 & 0 & NaN & 0\\\\\n",
       "\t 0 & 0 & 0 & 0 & 0 & NaN & 0\\\\\n",
       "\t 0 & 0 & 0 & 0 & 0 & NaN & 0\\\\\n",
       "\t 0 & 0 & 0 & 0 & 0 & NaN & 0\\\\\n",
       "\t 0 & 0 & 0 & 0 & 0 & NaN & 0\\\\\n",
       "\t 0 & 0 & 0 & 0 & 0 & NaN & 0\\\\\n",
       "\t 0 & 0 & 0 & 0 & 0 & NaN & 0\\\\\n",
       "\t 0 & 0 & 0 & 0 & 0 & NaN & 0\\\\\n",
       "\t 0 & 0 & 0 & 0 & 0 & NaN & 0\\\\\n",
       "\t 0 & 0 & 0 & 0 & 0 & NaN & 0\\\\\n",
       "\t 0 & 0 & 0 & 0 & 0 & NaN & 0\\\\\n",
       "\t 0 & 0 & 0 & 0 & 0 & NaN & 0\\\\\n",
       "\t 0 & 0 & 0 & 0 & 0 & NaN & 0\\\\\n",
       "\t 0 & 0 & 0 & 0 & 0 & NaN & 0\\\\\n",
       "\t 0 & 0 & 0 & 0 & 0 & NaN & 0\\\\\n",
       "\t 0 & 0 & 0 & 0 & 0 & NaN & 0\\\\\n",
       "\t 0 & 0 & 0 & 0 & 0 & NaN & 0\\\\\n",
       "\t 0 & 0 & 0 & 0 & 0 & NaN & 0\\\\\n",
       "\t 0 & 0 & 0 & 0 & 0 & NaN & 0\\\\\n",
       "\t 0 & 0 & 0 & 0 & 0 & NaN & 0\\\\\n",
       "\t 0 & 0 & 0 & 0 & 0 & NaN & 0\\\\\n",
       "\t 0 & 0 & 0 & 0 & 0 & NaN & 0\\\\\n",
       "\t 0 & 0 & 0 & 0 & 0 & NaN & 0\\\\\n",
       "\t 0 & 0 & 0 & 0 & 0 & NaN & 0\\\\\n",
       "\t 0 & 0 & 0 & 0 & 0 & NaN & 0\\\\\n",
       "\t 0 & 0 & 0 & 0 & 0 & NaN & 0\\\\\n",
       "\t 0 & 0 & 0 & 0 & 0 & NaN & 0\\\\\n",
       "\t 0 & 0 & 0 & 0 & 0 & NaN & 0\\\\\n",
       "\\end{tabular}\n"
      ],
      "text/markdown": [
       "\n",
       "A tibble: 173 × 7\n",
       "\n",
       "| per107 &lt;dbl&gt; | per108 &lt;dbl&gt; | per607 &lt;dbl&gt; | per608 &lt;dbl&gt; | classic_gal_tan &lt;dbl&gt; | ratio_gal_tan &lt;dbl&gt; | logit_gal_tan &lt;dbl&gt; |\n",
       "|---|---|---|---|---|---|---|\n",
       "| 0 | 0 | 0 | 0 | 0 | NaN | 0 |\n",
       "| 0 | 0 | 0 | 0 | 0 | NaN | 0 |\n",
       "| 0 | 0 | 0 | 0 | 0 | NaN | 0 |\n",
       "| 0 | 0 | 0 | 0 | 0 | NaN | 0 |\n",
       "| 0 | 0 | 0 | 0 | 0 | NaN | 0 |\n",
       "| 0 | 0 | 0 | 0 | 0 | NaN | 0 |\n",
       "| 0 | 0 | 0 | 0 | 0 | NaN | 0 |\n",
       "| 0 | 0 | 0 | 0 | 0 | NaN | 0 |\n",
       "| 0 | 0 | 0 | 0 | 0 | NaN | 0 |\n",
       "| 0 | 0 | 0 | 0 | 0 | NaN | 0 |\n",
       "| 0 | 0 | 0 | 0 | 0 | NaN | 0 |\n",
       "| 0 | 0 | 0 | 0 | 0 | NaN | 0 |\n",
       "| 0 | 0 | 0 | 0 | 0 | NaN | 0 |\n",
       "| 0 | 0 | 0 | 0 | 0 | NaN | 0 |\n",
       "| 0 | 0 | 0 | 0 | 0 | NaN | 0 |\n",
       "| 0 | 0 | 0 | 0 | 0 | NaN | 0 |\n",
       "| 0 | 0 | 0 | 0 | 0 | NaN | 0 |\n",
       "| 0 | 0 | 0 | 0 | 0 | NaN | 0 |\n",
       "| 0 | 0 | 0 | 0 | 0 | NaN | 0 |\n",
       "| 0 | 0 | 0 | 0 | 0 | NaN | 0 |\n",
       "| 0 | 0 | 0 | 0 | 0 | NaN | 0 |\n",
       "| 0 | 0 | 0 | 0 | 0 | NaN | 0 |\n",
       "| 0 | 0 | 0 | 0 | 0 | NaN | 0 |\n",
       "| 0 | 0 | 0 | 0 | 0 | NaN | 0 |\n",
       "| 0 | 0 | 0 | 0 | 0 | NaN | 0 |\n",
       "| 0 | 0 | 0 | 0 | 0 | NaN | 0 |\n",
       "| 0 | 0 | 0 | 0 | 0 | NaN | 0 |\n",
       "| 0 | 0 | 0 | 0 | 0 | NaN | 0 |\n",
       "| 0 | 0 | 0 | 0 | 0 | NaN | 0 |\n",
       "| 0 | 0 | 0 | 0 | 0 | NaN | 0 |\n",
       "| ⋮ | ⋮ | ⋮ | ⋮ | ⋮ | ⋮ | ⋮ |\n",
       "| 0 | 0 | 0 | 0 | 0 | NaN | 0 |\n",
       "| 0 | 0 | 0 | 0 | 0 | NaN | 0 |\n",
       "| 0 | 0 | 0 | 0 | 0 | NaN | 0 |\n",
       "| 0 | 0 | 0 | 0 | 0 | NaN | 0 |\n",
       "| 0 | 0 | 0 | 0 | 0 | NaN | 0 |\n",
       "| 0 | 0 | 0 | 0 | 0 | NaN | 0 |\n",
       "| 0 | 0 | 0 | 0 | 0 | NaN | 0 |\n",
       "| 0 | 0 | 0 | 0 | 0 | NaN | 0 |\n",
       "| 0 | 0 | 0 | 0 | 0 | NaN | 0 |\n",
       "| 0 | 0 | 0 | 0 | 0 | NaN | 0 |\n",
       "| 0 | 0 | 0 | 0 | 0 | NaN | 0 |\n",
       "| 0 | 0 | 0 | 0 | 0 | NaN | 0 |\n",
       "| 0 | 0 | 0 | 0 | 0 | NaN | 0 |\n",
       "| 0 | 0 | 0 | 0 | 0 | NaN | 0 |\n",
       "| 0 | 0 | 0 | 0 | 0 | NaN | 0 |\n",
       "| 0 | 0 | 0 | 0 | 0 | NaN | 0 |\n",
       "| 0 | 0 | 0 | 0 | 0 | NaN | 0 |\n",
       "| 0 | 0 | 0 | 0 | 0 | NaN | 0 |\n",
       "| 0 | 0 | 0 | 0 | 0 | NaN | 0 |\n",
       "| 0 | 0 | 0 | 0 | 0 | NaN | 0 |\n",
       "| 0 | 0 | 0 | 0 | 0 | NaN | 0 |\n",
       "| 0 | 0 | 0 | 0 | 0 | NaN | 0 |\n",
       "| 0 | 0 | 0 | 0 | 0 | NaN | 0 |\n",
       "| 0 | 0 | 0 | 0 | 0 | NaN | 0 |\n",
       "| 0 | 0 | 0 | 0 | 0 | NaN | 0 |\n",
       "| 0 | 0 | 0 | 0 | 0 | NaN | 0 |\n",
       "| 0 | 0 | 0 | 0 | 0 | NaN | 0 |\n",
       "| 0 | 0 | 0 | 0 | 0 | NaN | 0 |\n",
       "| 0 | 0 | 0 | 0 | 0 | NaN | 0 |\n",
       "| 0 | 0 | 0 | 0 | 0 | NaN | 0 |\n",
       "\n"
      ],
      "text/plain": [
       "    per107 per108 per607 per608 classic_gal_tan ratio_gal_tan logit_gal_tan\n",
       "1   0      0      0      0      0               NaN           0            \n",
       "2   0      0      0      0      0               NaN           0            \n",
       "3   0      0      0      0      0               NaN           0            \n",
       "4   0      0      0      0      0               NaN           0            \n",
       "5   0      0      0      0      0               NaN           0            \n",
       "6   0      0      0      0      0               NaN           0            \n",
       "7   0      0      0      0      0               NaN           0            \n",
       "8   0      0      0      0      0               NaN           0            \n",
       "9   0      0      0      0      0               NaN           0            \n",
       "10  0      0      0      0      0               NaN           0            \n",
       "11  0      0      0      0      0               NaN           0            \n",
       "12  0      0      0      0      0               NaN           0            \n",
       "13  0      0      0      0      0               NaN           0            \n",
       "14  0      0      0      0      0               NaN           0            \n",
       "15  0      0      0      0      0               NaN           0            \n",
       "16  0      0      0      0      0               NaN           0            \n",
       "17  0      0      0      0      0               NaN           0            \n",
       "18  0      0      0      0      0               NaN           0            \n",
       "19  0      0      0      0      0               NaN           0            \n",
       "20  0      0      0      0      0               NaN           0            \n",
       "21  0      0      0      0      0               NaN           0            \n",
       "22  0      0      0      0      0               NaN           0            \n",
       "23  0      0      0      0      0               NaN           0            \n",
       "24  0      0      0      0      0               NaN           0            \n",
       "25  0      0      0      0      0               NaN           0            \n",
       "26  0      0      0      0      0               NaN           0            \n",
       "27  0      0      0      0      0               NaN           0            \n",
       "28  0      0      0      0      0               NaN           0            \n",
       "29  0      0      0      0      0               NaN           0            \n",
       "30  0      0      0      0      0               NaN           0            \n",
       "<U+22EE>   <U+22EE> <U+22EE> <U+22EE> <U+22EE> <U+22EE>        <U+22EE>      <U+22EE>     \n",
       "144 0      0      0      0      0               NaN           0            \n",
       "145 0      0      0      0      0               NaN           0            \n",
       "146 0      0      0      0      0               NaN           0            \n",
       "147 0      0      0      0      0               NaN           0            \n",
       "148 0      0      0      0      0               NaN           0            \n",
       "149 0      0      0      0      0               NaN           0            \n",
       "150 0      0      0      0      0               NaN           0            \n",
       "151 0      0      0      0      0               NaN           0            \n",
       "152 0      0      0      0      0               NaN           0            \n",
       "153 0      0      0      0      0               NaN           0            \n",
       "154 0      0      0      0      0               NaN           0            \n",
       "155 0      0      0      0      0               NaN           0            \n",
       "156 0      0      0      0      0               NaN           0            \n",
       "157 0      0      0      0      0               NaN           0            \n",
       "158 0      0      0      0      0               NaN           0            \n",
       "159 0      0      0      0      0               NaN           0            \n",
       "160 0      0      0      0      0               NaN           0            \n",
       "161 0      0      0      0      0               NaN           0            \n",
       "162 0      0      0      0      0               NaN           0            \n",
       "163 0      0      0      0      0               NaN           0            \n",
       "164 0      0      0      0      0               NaN           0            \n",
       "165 0      0      0      0      0               NaN           0            \n",
       "166 0      0      0      0      0               NaN           0            \n",
       "167 0      0      0      0      0               NaN           0            \n",
       "168 0      0      0      0      0               NaN           0            \n",
       "169 0      0      0      0      0               NaN           0            \n",
       "170 0      0      0      0      0               NaN           0            \n",
       "171 0      0      0      0      0               NaN           0            \n",
       "172 0      0      0      0      0               NaN           0            \n",
       "173 0      0      0      0      0               NaN           0            "
      ]
     },
     "metadata": {},
     "output_type": "display_data"
    }
   ],
   "source": [
    "ilsd %>% \n",
    "filter(is.na(ratio_gal_tan)) %>% \n",
    "select(per107, per108, per607, per608, classic_gal_tan, ratio_gal_tan, logit_gal_tan)"
   ]
  },
  {
   "cell_type": "markdown",
   "id": "97234f2b",
   "metadata": {},
   "source": [
    "By adding dimension 405 and dimension 406 to the computation of the GAL-TAN scale the number of NAs in the \"ratio\" version of the scale went down from 173 to 159"
   ]
  },
  {
   "cell_type": "code",
   "execution_count": 5,
   "id": "98093cec",
   "metadata": {},
   "outputs": [
    {
     "data": {
      "text/html": [
       "173"
      ],
      "text/latex": [
       "173"
      ],
      "text/markdown": [
       "173"
      ],
      "text/plain": [
       "[1] 173"
      ]
     },
     "metadata": {},
     "output_type": "display_data"
    },
    {
     "data": {
      "text/html": [
       "173"
      ],
      "text/latex": [
       "173"
      ],
      "text/markdown": [
       "173"
      ],
      "text/plain": [
       "[1] 173"
      ]
     },
     "metadata": {},
     "output_type": "display_data"
    }
   ],
   "source": [
    "sum(is.na(ilsd$ratio_gal_tan))"
   ]
  },
  {
   "cell_type": "code",
   "execution_count": 6,
   "id": "eda7411b",
   "metadata": {},
   "outputs": [
    {
     "data": {
      "text/html": [
       "159"
      ],
      "text/latex": [
       "159"
      ],
      "text/markdown": [
       "159"
      ],
      "text/plain": [
       "[1] 159"
      ]
     },
     "metadata": {},
     "output_type": "display_data"
    },
    {
     "data": {
      "text/html": [
       "159"
      ],
      "text/latex": [
       "159"
      ],
      "text/markdown": [
       "159"
      ],
      "text/plain": [
       "[1] 159"
      ]
     },
     "metadata": {},
     "output_type": "display_data"
    }
   ],
   "source": [
    "sum(is.na(ilsd$ratio_economic_gal_tan))"
   ]
  },
  {
   "cell_type": "markdown",
   "id": "90202f0d",
   "metadata": {},
   "source": [
    "## Distributions of the newly created scales"
   ]
  },
  {
   "cell_type": "markdown",
   "id": "94639766",
   "metadata": {},
   "source": [
    "### Logit left-right scale"
   ]
  },
  {
   "cell_type": "code",
   "execution_count": 7,
   "id": "0a0643db",
   "metadata": {},
   "outputs": [
    {
     "name": "stderr",
     "output_type": "stream",
     "text": [
      "`stat_bin()` using `bins = 30`. Pick better value with `binwidth`.\n",
      "\n",
      "`stat_bin()` using `bins = 30`. Pick better value with `binwidth`.\n",
      "\n",
      "Warning message in grid.Call(C_stringMetric, as.graphicsAnnot(x$label)):\n",
      "\"font family not found in Windows font database\"\n",
      "Warning message in grid.Call(C_stringMetric, as.graphicsAnnot(x$label)):\n",
      "\"font family not found in Windows font database\"\n",
      "Warning message in grid.Call(C_stringMetric, as.graphicsAnnot(x$label)):\n",
      "\"font family not found in Windows font database\"\n",
      "Warning message in grid.Call(C_stringMetric, as.graphicsAnnot(x$label)):\n",
      "\"font family not found in Windows font database\"\n",
      "Warning message in grid.Call(C_textBounds, as.graphicsAnnot(x$label), x$x, x$y, :\n",
      "\"font family not found in Windows font database\"\n",
      "Warning message in grid.Call(C_textBounds, as.graphicsAnnot(x$label), x$x, x$y, :\n",
      "\"font family not found in Windows font database\"\n",
      "Warning message in grid.Call(C_textBounds, as.graphicsAnnot(x$label), x$x, x$y, :\n",
      "\"font family not found in Windows font database\"\n",
      "Warning message in grid.Call(C_textBounds, as.graphicsAnnot(x$label), x$x, x$y, :\n",
      "\"font family not found in Windows font database\"\n",
      "Warning message in grid.Call(C_textBounds, as.graphicsAnnot(x$label), x$x, x$y, :\n",
      "\"font family not found in Windows font database\"\n",
      "Warning message in grid.Call(C_textBounds, as.graphicsAnnot(x$label), x$x, x$y, :\n",
      "\"font family not found in Windows font database\"\n",
      "Warning message in grid.Call(C_textBounds, as.graphicsAnnot(x$label), x$x, x$y, :\n",
      "\"font family not found in Windows font database\"\n",
      "Warning message in grid.Call(C_textBounds, as.graphicsAnnot(x$label), x$x, x$y, :\n",
      "\"font family not found in Windows font database\"\n",
      "Warning message in grid.Call(C_textBounds, as.graphicsAnnot(x$label), x$x, x$y, :\n",
      "\"font family not found in Windows font database\"\n",
      "Warning message in grid.Call(C_textBounds, as.graphicsAnnot(x$label), x$x, x$y, :\n",
      "\"font family not found in Windows font database\"\n",
      "Warning message in grid.Call(C_textBounds, as.graphicsAnnot(x$label), x$x, x$y, :\n",
      "\"font family not found in Windows font database\"\n",
      "Warning message in grid.Call(C_textBounds, as.graphicsAnnot(x$label), x$x, x$y, :\n",
      "\"font family not found in Windows font database\"\n"
     ]
    },
    {
     "data": {
      "image/png": "[encoded data removed]",
      "text/plain": [
       "plot without title"
      ]
     },
     "metadata": {
      "image/png": {
       "height": 420,
       "width": 420
      }
     },
     "output_type": "display_data"
    },
    {
     "data": {
      "image/png": "[encoded data removed]",
      "text/plain": [
       "plot without title"
      ]
     },
     "metadata": {
      "image/png": {
       "height": 420,
       "width": 420
      }
     },
     "output_type": "display_data"
    }
   ],
   "source": [
    "ilsd %>% \n",
    "ggplot(aes(logit_left_right)) +\n",
    "geom_histogram(fill = \"dark blue\") +\n",
    "bbc_style() +\n",
    "labs(title = \"Frequency distribution for the logit left-right scale\") +\n",
    "theme(plot.title = element_text(size = 20))"
   ]
  },
  {
   "cell_type": "code",
   "execution_count": 8,
   "id": "70d51772",
   "metadata": {},
   "outputs": [
    {
     "name": "stderr",
     "output_type": "stream",
     "text": [
      "Warning message in grid.Call(C_stringMetric, as.graphicsAnnot(x$label)):\n",
      "\"font family not found in Windows font database\"\n",
      "Warning message in grid.Call(C_stringMetric, as.graphicsAnnot(x$label)):\n",
      "\"font family not found in Windows font database\"\n",
      "Warning message in grid.Call(C_stringMetric, as.graphicsAnnot(x$label)):\n",
      "\"font family not found in Windows font database\"\n",
      "Warning message in grid.Call(C_stringMetric, as.graphicsAnnot(x$label)):\n",
      "\"font family not found in Windows font database\"\n",
      "Warning message in grid.Call(C_textBounds, as.graphicsAnnot(x$label), x$x, x$y, :\n",
      "\"font family not found in Windows font database\"\n",
      "Warning message in grid.Call(C_textBounds, as.graphicsAnnot(x$label), x$x, x$y, :\n",
      "\"font family not found in Windows font database\"\n",
      "Warning message in grid.Call(C_textBounds, as.graphicsAnnot(x$label), x$x, x$y, :\n",
      "\"font family not found in Windows font database\"\n",
      "Warning message in grid.Call(C_textBounds, as.graphicsAnnot(x$label), x$x, x$y, :\n",
      "\"font family not found in Windows font database\"\n",
      "Warning message in grid.Call(C_textBounds, as.graphicsAnnot(x$label), x$x, x$y, :\n",
      "\"font family not found in Windows font database\"\n",
      "Warning message in grid.Call(C_textBounds, as.graphicsAnnot(x$label), x$x, x$y, :\n",
      "\"font family not found in Windows font database\"\n",
      "Warning message in grid.Call(C_textBounds, as.graphicsAnnot(x$label), x$x, x$y, :\n",
      "\"font family not found in Windows font database\"\n",
      "Warning message in grid.Call(C_textBounds, as.graphicsAnnot(x$label), x$x, x$y, :\n",
      "\"font family not found in Windows font database\"\n",
      "Warning message in grid.Call(C_textBounds, as.graphicsAnnot(x$label), x$x, x$y, :\n",
      "\"font family not found in Windows font database\"\n",
      "Warning message in grid.Call(C_textBounds, as.graphicsAnnot(x$label), x$x, x$y, :\n",
      "\"font family not found in Windows font database\"\n",
      "Warning message in grid.Call(C_textBounds, as.graphicsAnnot(x$label), x$x, x$y, :\n",
      "\"font family not found in Windows font database\"\n",
      "Warning message in grid.Call(C_textBounds, as.graphicsAnnot(x$label), x$x, x$y, :\n",
      "\"font family not found in Windows font database\"\n",
      "Warning message in grid.Call(C_textBounds, as.graphicsAnnot(x$label), x$x, x$y, :\n",
      "\"font family not found in Windows font database\"\n",
      "Warning message in grid.Call(C_textBounds, as.graphicsAnnot(x$label), x$x, x$y, :\n",
      "\"font family not found in Windows font database\"\n"
     ]
    },
    {
     "data": {
      "image/png": "[encoded data removed]",
      "text/plain": [
       "plot without title"
      ]
     },
     "metadata": {
      "image/png": {
       "height": 420,
       "width": 420
      }
     },
     "output_type": "display_data"
    },
    {
     "data": {
      "image/png": "[encoded data removed]",
      "text/plain": [
       "plot without title"
      ]
     },
     "metadata": {
      "image/png": {
       "height": 420,
       "width": 420
      }
     },
     "output_type": "display_data"
    }
   ],
   "source": [
    "ilsd %>% \n",
    "group_by(PARTY) %>% \n",
    "summarize(avg_logit_left_right = mean(logit_left_right)) %>% \n",
    "arrange(desc(avg_logit_left_right)) %>% \n",
    "ggplot(aes(x = fct_reorder(PARTY, avg_logit_left_right), y = avg_logit_left_right, fill = avg_logit_left_right)) +\n",
    "geom_col() +\n",
    "coord_flip() +\n",
    "bbc_style() +\n",
    "scale_fill_gradient(low = \"light blue\", high = \"dark blue\") +\n",
    "labs(title = \"Parties by logit left-right scale\") +\n",
    "theme(plot.title = element_text(size = 20),\n",
    "      axis.title.x = element_blank(),\n",
    "      axis.title.y = element_blank(),\n",
    "      axis.text.x = element_text(size = 9),\n",
    "      axis.text.y = element_text(size = 7),\n",
    "      legend.position = \"none\")"
   ]
  },
  {
   "cell_type": "markdown",
   "id": "e24faa80",
   "metadata": {},
   "source": [
    "### Logit by economic left-right scale"
   ]
  },
  {
   "cell_type": "code",
   "execution_count": 9,
   "id": "633a5b22",
   "metadata": {},
   "outputs": [
    {
     "name": "stderr",
     "output_type": "stream",
     "text": [
      "`stat_bin()` using `bins = 30`. Pick better value with `binwidth`.\n",
      "\n",
      "`stat_bin()` using `bins = 30`. Pick better value with `binwidth`.\n",
      "\n",
      "Warning message in grid.Call(C_textBounds, as.graphicsAnnot(x$label), x$x, x$y, :\n",
      "\"font family not found in Windows font database\"\n",
      "Warning message in grid.Call(C_textBounds, as.graphicsAnnot(x$label), x$x, x$y, :\n",
      "\"font family not found in Windows font database\"\n",
      "Warning message in grid.Call(C_textBounds, as.graphicsAnnot(x$label), x$x, x$y, :\n",
      "\"font family not found in Windows font database\"\n",
      "Warning message in grid.Call(C_textBounds, as.graphicsAnnot(x$label), x$x, x$y, :\n",
      "\"font family not found in Windows font database\"\n",
      "Warning message in grid.Call(C_textBounds, as.graphicsAnnot(x$label), x$x, x$y, :\n",
      "\"font family not found in Windows font database\"\n",
      "Warning message in grid.Call(C_textBounds, as.graphicsAnnot(x$label), x$x, x$y, :\n",
      "\"font family not found in Windows font database\"\n",
      "Warning message in grid.Call(C_textBounds, as.graphicsAnnot(x$label), x$x, x$y, :\n",
      "\"font family not found in Windows font database\"\n",
      "Warning message in grid.Call(C_textBounds, as.graphicsAnnot(x$label), x$x, x$y, :\n",
      "\"font family not found in Windows font database\"\n",
      "Warning message in grid.Call(C_textBounds, as.graphicsAnnot(x$label), x$x, x$y, :\n",
      "\"font family not found in Windows font database\"\n",
      "Warning message in grid.Call(C_textBounds, as.graphicsAnnot(x$label), x$x, x$y, :\n",
      "\"font family not found in Windows font database\"\n",
      "Warning message in grid.Call(C_textBounds, as.graphicsAnnot(x$label), x$x, x$y, :\n",
      "\"font family not found in Windows font database\"\n",
      "Warning message in grid.Call(C_textBounds, as.graphicsAnnot(x$label), x$x, x$y, :\n",
      "\"font family not found in Windows font database\"\n"
     ]
    },
    {
     "data": {
      "image/png": "[encoded data removed]",
      "text/plain": [
       "plot without title"
      ]
     },
     "metadata": {
      "image/png": {
       "height": 420,
       "width": 420
      }
     },
     "output_type": "display_data"
    },
    {
     "data": {
      "image/png": "[encoded data removed]",
      "text/plain": [
       "plot without title"
      ]
     },
     "metadata": {
      "image/png": {
       "height": 420,
       "width": 420
      }
     },
     "output_type": "display_data"
    }
   ],
   "source": [
    "ilsd %>% \n",
    "ggplot(aes(logit_left_right)) +\n",
    "geom_histogram(fill = \"dark green\") +\n",
    "bbc_style() +\n",
    "labs(title = \"Frequency distribution for the logit \\neconomic left-right scale\") +\n",
    "theme(plot.title = element_text(size = 20))"
   ]
  },
  {
   "cell_type": "code",
   "execution_count": 10,
   "id": "83567112",
   "metadata": {},
   "outputs": [
    {
     "name": "stderr",
     "output_type": "stream",
     "text": [
      "Warning message in grid.Call(C_textBounds, as.graphicsAnnot(x$label), x$x, x$y, :\n",
      "\"font family not found in Windows font database\"\n",
      "Warning message in grid.Call(C_textBounds, as.graphicsAnnot(x$label), x$x, x$y, :\n",
      "\"font family not found in Windows font database\"\n",
      "Warning message in grid.Call(C_textBounds, as.graphicsAnnot(x$label), x$x, x$y, :\n",
      "\"font family not found in Windows font database\"\n",
      "Warning message in grid.Call(C_textBounds, as.graphicsAnnot(x$label), x$x, x$y, :\n",
      "\"font family not found in Windows font database\"\n",
      "Warning message in grid.Call(C_textBounds, as.graphicsAnnot(x$label), x$x, x$y, :\n",
      "\"font family not found in Windows font database\"\n",
      "Warning message in grid.Call(C_textBounds, as.graphicsAnnot(x$label), x$x, x$y, :\n",
      "\"font family not found in Windows font database\"\n",
      "Warning message in grid.Call(C_textBounds, as.graphicsAnnot(x$label), x$x, x$y, :\n",
      "\"font family not found in Windows font database\"\n",
      "Warning message in grid.Call(C_textBounds, as.graphicsAnnot(x$label), x$x, x$y, :\n",
      "\"font family not found in Windows font database\"\n",
      "Warning message in grid.Call(C_textBounds, as.graphicsAnnot(x$label), x$x, x$y, :\n",
      "\"font family not found in Windows font database\"\n",
      "Warning message in grid.Call(C_textBounds, as.graphicsAnnot(x$label), x$x, x$y, :\n",
      "\"font family not found in Windows font database\"\n",
      "Warning message in grid.Call(C_textBounds, as.graphicsAnnot(x$label), x$x, x$y, :\n",
      "\"font family not found in Windows font database\"\n",
      "Warning message in grid.Call(C_textBounds, as.graphicsAnnot(x$label), x$x, x$y, :\n",
      "\"font family not found in Windows font database\"\n",
      "Warning message in grid.Call(C_textBounds, as.graphicsAnnot(x$label), x$x, x$y, :\n",
      "\"font family not found in Windows font database\"\n",
      "Warning message in grid.Call(C_textBounds, as.graphicsAnnot(x$label), x$x, x$y, :\n",
      "\"font family not found in Windows font database\"\n",
      "Warning message in grid.Call(C_textBounds, as.graphicsAnnot(x$label), x$x, x$y, :\n",
      "\"font family not found in Windows font database\"\n",
      "Warning message in grid.Call(C_textBounds, as.graphicsAnnot(x$label), x$x, x$y, :\n",
      "\"font family not found in Windows font database\"\n"
     ]
    },
    {
     "data": {
      "image/png": "[encoded data removed]",
      "text/plain": [
       "plot without title"
      ]
     },
     "metadata": {
      "image/png": {
       "height": 420,
       "width": 420
      }
     },
     "output_type": "display_data"
    },
    {
     "data": {
      "image/png": "[encoded data removed]",
      "text/plain": [
       "plot without title"
      ]
     },
     "metadata": {
      "image/png": {
       "height": 420,
       "width": 420
      }
     },
     "output_type": "display_data"
    }
   ],
   "source": [
    "ilsd %>% \n",
    "group_by(PARTY) %>% \n",
    "summarize(avg_logit_economic = mean(logit_economic)) %>% \n",
    "arrange(desc(avg_logit_economic)) %>% \n",
    "ggplot(aes(x = fct_reorder(PARTY, avg_logit_economic), y = avg_logit_economic, fill = avg_logit_economic)) +\n",
    "geom_col() +\n",
    "coord_flip() +\n",
    "bbc_style() +\n",
    "scale_fill_gradient(low = \"light green\", high = \"dark green\") +\n",
    "labs(title = \"Parties by logit economic scale\") +\n",
    "theme(plot.title = element_text(size = 20),\n",
    "      axis.title.x = element_blank(),\n",
    "      axis.title.y = element_blank(),\n",
    "      axis.text.x = element_text(size = 9),\n",
    "      axis.text.y = element_text(size = 7),\n",
    "      legend.position = \"none\") "
   ]
  },
  {
   "cell_type": "markdown",
   "id": "5624a90c",
   "metadata": {},
   "source": [
    "### Logit GAL/TAN scale"
   ]
  },
  {
   "cell_type": "code",
   "execution_count": 11,
   "id": "c8ee94ae",
   "metadata": {},
   "outputs": [
    {
     "name": "stderr",
     "output_type": "stream",
     "text": [
      "`stat_bin()` using `bins = 30`. Pick better value with `binwidth`.\n",
      "\n",
      "`stat_bin()` using `bins = 30`. Pick better value with `binwidth`.\n",
      "\n",
      "Warning message in grid.Call(C_textBounds, as.graphicsAnnot(x$label), x$x, x$y, :\n",
      "\"font family not found in Windows font database\"\n",
      "Warning message in grid.Call(C_textBounds, as.graphicsAnnot(x$label), x$x, x$y, :\n",
      "\"font family not found in Windows font database\"\n",
      "Warning message in grid.Call(C_textBounds, as.graphicsAnnot(x$label), x$x, x$y, :\n",
      "\"font family not found in Windows font database\"\n",
      "Warning message in grid.Call(C_textBounds, as.graphicsAnnot(x$label), x$x, x$y, :\n",
      "\"font family not found in Windows font database\"\n",
      "Warning message in grid.Call(C_textBounds, as.graphicsAnnot(x$label), x$x, x$y, :\n",
      "\"font family not found in Windows font database\"\n",
      "Warning message in grid.Call(C_textBounds, as.graphicsAnnot(x$label), x$x, x$y, :\n",
      "\"font family not found in Windows font database\"\n",
      "Warning message in grid.Call(C_textBounds, as.graphicsAnnot(x$label), x$x, x$y, :\n",
      "\"font family not found in Windows font database\"\n",
      "Warning message in grid.Call(C_textBounds, as.graphicsAnnot(x$label), x$x, x$y, :\n",
      "\"font family not found in Windows font database\"\n",
      "Warning message in grid.Call(C_textBounds, as.graphicsAnnot(x$label), x$x, x$y, :\n",
      "\"font family not found in Windows font database\"\n",
      "Warning message in grid.Call(C_textBounds, as.graphicsAnnot(x$label), x$x, x$y, :\n",
      "\"font family not found in Windows font database\"\n",
      "Warning message in grid.Call(C_textBounds, as.graphicsAnnot(x$label), x$x, x$y, :\n",
      "\"font family not found in Windows font database\"\n",
      "Warning message in grid.Call(C_textBounds, as.graphicsAnnot(x$label), x$x, x$y, :\n",
      "\"font family not found in Windows font database\"\n"
     ]
    },
    {
     "data": {
      "image/png": "[encoded data removed]",
      "text/plain": [
       "plot without title"
      ]
     },
     "metadata": {
      "image/png": {
       "height": 420,
       "width": 420
      }
     },
     "output_type": "display_data"
    },
    {
     "data": {
      "image/png": "[encoded data removed]",
      "text/plain": [
       "plot without title"
      ]
     },
     "metadata": {
      "image/png": {
       "height": 420,
       "width": 420
      }
     },
     "output_type": "display_data"
    }
   ],
   "source": [
    "ilsd %>% \n",
    "ggplot(aes(logit_left_right)) +\n",
    "geom_histogram(fill = \"dark red\") +\n",
    "bbc_style() +\n",
    "labs(title = \"Frequency distribution for the logit GAL-TAN scale\") +\n",
    "theme(plot.title = element_text(size = 20))"
   ]
  },
  {
   "cell_type": "code",
   "execution_count": 12,
   "id": "ad1cda90",
   "metadata": {},
   "outputs": [
    {
     "name": "stderr",
     "output_type": "stream",
     "text": [
      "Warning message in grid.Call(C_textBounds, as.graphicsAnnot(x$label), x$x, x$y, :\n",
      "\"font family not found in Windows font database\"\n",
      "Warning message in grid.Call(C_textBounds, as.graphicsAnnot(x$label), x$x, x$y, :\n",
      "\"font family not found in Windows font database\"\n",
      "Warning message in grid.Call(C_textBounds, as.graphicsAnnot(x$label), x$x, x$y, :\n",
      "\"font family not found in Windows font database\"\n",
      "Warning message in grid.Call(C_textBounds, as.graphicsAnnot(x$label), x$x, x$y, :\n",
      "\"font family not found in Windows font database\"\n",
      "Warning message in grid.Call(C_textBounds, as.graphicsAnnot(x$label), x$x, x$y, :\n",
      "\"font family not found in Windows font database\"\n",
      "Warning message in grid.Call(C_textBounds, as.graphicsAnnot(x$label), x$x, x$y, :\n",
      "\"font family not found in Windows font database\"\n",
      "Warning message in grid.Call(C_textBounds, as.graphicsAnnot(x$label), x$x, x$y, :\n",
      "\"font family not found in Windows font database\"\n",
      "Warning message in grid.Call(C_textBounds, as.graphicsAnnot(x$label), x$x, x$y, :\n",
      "\"font family not found in Windows font database\"\n",
      "Warning message in grid.Call(C_textBounds, as.graphicsAnnot(x$label), x$x, x$y, :\n",
      "\"font family not found in Windows font database\"\n",
      "Warning message in grid.Call(C_textBounds, as.graphicsAnnot(x$label), x$x, x$y, :\n",
      "\"font family not found in Windows font database\"\n",
      "Warning message in grid.Call(C_textBounds, as.graphicsAnnot(x$label), x$x, x$y, :\n",
      "\"font family not found in Windows font database\"\n",
      "Warning message in grid.Call(C_textBounds, as.graphicsAnnot(x$label), x$x, x$y, :\n",
      "\"font family not found in Windows font database\"\n",
      "Warning message in grid.Call(C_textBounds, as.graphicsAnnot(x$label), x$x, x$y, :\n",
      "\"font family not found in Windows font database\"\n",
      "Warning message in grid.Call(C_textBounds, as.graphicsAnnot(x$label), x$x, x$y, :\n",
      "\"font family not found in Windows font database\"\n",
      "Warning message in grid.Call(C_textBounds, as.graphicsAnnot(x$label), x$x, x$y, :\n",
      "\"font family not found in Windows font database\"\n",
      "Warning message in grid.Call(C_textBounds, as.graphicsAnnot(x$label), x$x, x$y, :\n",
      "\"font family not found in Windows font database\"\n"
     ]
    },
    {
     "data": {
      "image/png": "[encoded data removed]",
      "text/plain": [
       "plot without title"
      ]
     },
     "metadata": {
      "image/png": {
       "height": 420,
       "width": 420
      }
     },
     "output_type": "display_data"
    },
    {
     "data": {
      "image/png": "[encoded data removed]",
      "text/plain": [
       "plot without title"
      ]
     },
     "metadata": {
      "image/png": {
       "height": 420,
       "width": 420
      }
     },
     "output_type": "display_data"
    }
   ],
   "source": [
    "ilsd %>% \n",
    "group_by(PARTY) %>% \n",
    "summarize(avg_logit_gal_tan = mean(logit_gal_tan)) %>% \n",
    "arrange(desc(avg_logit_gal_tan)) %>% \n",
    "ggplot(aes(x = fct_reorder(PARTY, avg_logit_gal_tan), y = avg_logit_gal_tan, fill = avg_logit_gal_tan)) +\n",
    "geom_col() +\n",
    "coord_flip() +\n",
    "bbc_style() +\n",
    "scale_fill_gradient(low = \"pink\", high = \"dark red\") +\n",
    "labs(title = \"Parties by logit GAL/TAN scale\") +\n",
    "theme(plot.title = element_text(size = 20),\n",
    "      axis.title.x = element_blank(),\n",
    "      axis.title.y = element_blank(),\n",
    "      axis.text.x = element_text(size = 9),\n",
    "      axis.text.y = element_text(size = 7),\n",
    "      legend.position = \"none\") "
   ]
  },
  {
   "cell_type": "markdown",
   "id": "db7d6ade",
   "metadata": {},
   "source": [
    "### Logit economic GAL/TAN scale"
   ]
  },
  {
   "cell_type": "code",
   "execution_count": 13,
   "id": "4d70b58d",
   "metadata": {},
   "outputs": [
    {
     "name": "stderr",
     "output_type": "stream",
     "text": [
      "`stat_bin()` using `bins = 30`. Pick better value with `binwidth`.\n",
      "\n",
      "`stat_bin()` using `bins = 30`. Pick better value with `binwidth`.\n",
      "\n",
      "Warning message in grid.Call(C_textBounds, as.graphicsAnnot(x$label), x$x, x$y, :\n",
      "\"font family not found in Windows font database\"\n",
      "Warning message in grid.Call(C_textBounds, as.graphicsAnnot(x$label), x$x, x$y, :\n",
      "\"font family not found in Windows font database\"\n",
      "Warning message in grid.Call(C_textBounds, as.graphicsAnnot(x$label), x$x, x$y, :\n",
      "\"font family not found in Windows font database\"\n",
      "Warning message in grid.Call(C_textBounds, as.graphicsAnnot(x$label), x$x, x$y, :\n",
      "\"font family not found in Windows font database\"\n",
      "Warning message in grid.Call(C_textBounds, as.graphicsAnnot(x$label), x$x, x$y, :\n",
      "\"font family not found in Windows font database\"\n",
      "Warning message in grid.Call(C_textBounds, as.graphicsAnnot(x$label), x$x, x$y, :\n",
      "\"font family not found in Windows font database\"\n",
      "Warning message in grid.Call(C_textBounds, as.graphicsAnnot(x$label), x$x, x$y, :\n",
      "\"font family not found in Windows font database\"\n",
      "Warning message in grid.Call(C_textBounds, as.graphicsAnnot(x$label), x$x, x$y, :\n",
      "\"font family not found in Windows font database\"\n",
      "Warning message in grid.Call(C_textBounds, as.graphicsAnnot(x$label), x$x, x$y, :\n",
      "\"font family not found in Windows font database\"\n",
      "Warning message in grid.Call(C_textBounds, as.graphicsAnnot(x$label), x$x, x$y, :\n",
      "\"font family not found in Windows font database\"\n",
      "Warning message in grid.Call(C_textBounds, as.graphicsAnnot(x$label), x$x, x$y, :\n",
      "\"font family not found in Windows font database\"\n",
      "Warning message in grid.Call(C_textBounds, as.graphicsAnnot(x$label), x$x, x$y, :\n",
      "\"font family not found in Windows font database\"\n"
     ]
    },
    {
     "data": {
      "image/png": "[encoded data removed]",
      "text/plain": [
       "plot without title"
      ]
     },
     "metadata": {
      "image/png": {
       "height": 420,
       "width": 420
      }
     },
     "output_type": "display_data"
    },
    {
     "data": {
      "image/png": "[encoded data removed]",
      "text/plain": [
       "plot without title"
      ]
     },
     "metadata": {
      "image/png": {
       "height": 420,
       "width": 420
      }
     },
     "output_type": "display_data"
    }
   ],
   "source": [
    "ilsd %>% \n",
    "ggplot(aes(logit_left_right)) +\n",
    "geom_histogram(fill = \"dark grey\") +\n",
    "bbc_style() +\n",
    "labs(title = \"Frequency distribution for the logit economic GAL-TAN scale\") +\n",
    "theme(plot.title = element_text(size = 18))"
   ]
  },
  {
   "cell_type": "code",
   "execution_count": 14,
   "id": "50539a52",
   "metadata": {},
   "outputs": [
    {
     "name": "stderr",
     "output_type": "stream",
     "text": [
      "Warning message in grid.Call(C_textBounds, as.graphicsAnnot(x$label), x$x, x$y, :\n",
      "\"font family not found in Windows font database\"\n",
      "Warning message in grid.Call(C_textBounds, as.graphicsAnnot(x$label), x$x, x$y, :\n",
      "\"font family not found in Windows font database\"\n",
      "Warning message in grid.Call(C_textBounds, as.graphicsAnnot(x$label), x$x, x$y, :\n",
      "\"font family not found in Windows font database\"\n",
      "Warning message in grid.Call(C_textBounds, as.graphicsAnnot(x$label), x$x, x$y, :\n",
      "\"font family not found in Windows font database\"\n",
      "Warning message in grid.Call(C_textBounds, as.graphicsAnnot(x$label), x$x, x$y, :\n",
      "\"font family not found in Windows font database\"\n",
      "Warning message in grid.Call(C_textBounds, as.graphicsAnnot(x$label), x$x, x$y, :\n",
      "\"font family not found in Windows font database\"\n",
      "Warning message in grid.Call(C_textBounds, as.graphicsAnnot(x$label), x$x, x$y, :\n",
      "\"font family not found in Windows font database\"\n",
      "Warning message in grid.Call(C_textBounds, as.graphicsAnnot(x$label), x$x, x$y, :\n",
      "\"font family not found in Windows font database\"\n",
      "Warning message in grid.Call(C_textBounds, as.graphicsAnnot(x$label), x$x, x$y, :\n",
      "\"font family not found in Windows font database\"\n",
      "Warning message in grid.Call(C_textBounds, as.graphicsAnnot(x$label), x$x, x$y, :\n",
      "\"font family not found in Windows font database\"\n",
      "Warning message in grid.Call(C_textBounds, as.graphicsAnnot(x$label), x$x, x$y, :\n",
      "\"font family not found in Windows font database\"\n",
      "Warning message in grid.Call(C_textBounds, as.graphicsAnnot(x$label), x$x, x$y, :\n",
      "\"font family not found in Windows font database\"\n",
      "Warning message in grid.Call(C_textBounds, as.graphicsAnnot(x$label), x$x, x$y, :\n",
      "\"font family not found in Windows font database\"\n",
      "Warning message in grid.Call(C_textBounds, as.graphicsAnnot(x$label), x$x, x$y, :\n",
      "\"font family not found in Windows font database\"\n",
      "Warning message in grid.Call(C_textBounds, as.graphicsAnnot(x$label), x$x, x$y, :\n",
      "\"font family not found in Windows font database\"\n",
      "Warning message in grid.Call(C_textBounds, as.graphicsAnnot(x$label), x$x, x$y, :\n",
      "\"font family not found in Windows font database\"\n"
     ]
    },
    {
     "data": {
      "image/png": "[encoded data removed]",
      "text/plain": [
       "plot without title"
      ]
     },
     "metadata": {
      "image/png": {
       "height": 420,
       "width": 420
      }
     },
     "output_type": "display_data"
    },
    {
     "data": {
      "image/png": "[encoded data removed]",
      "text/plain": [
       "plot without title"
      ]
     },
     "metadata": {
      "image/png": {
       "height": 420,
       "width": 420
      }
     },
     "output_type": "display_data"
    }
   ],
   "source": [
    "ilsd %>% \n",
    "group_by(PARTY) %>% \n",
    "summarize(avg_logit_gal_tan = mean(logit_gal_tan)) %>% \n",
    "arrange(desc(avg_logit_gal_tan)) %>% \n",
    "ggplot(aes(x = fct_reorder(PARTY, avg_logit_gal_tan), y = avg_logit_gal_tan, fill = avg_logit_gal_tan)) +\n",
    "geom_col() +\n",
    "coord_flip() +\n",
    "bbc_style() +\n",
    "scale_fill_gradient(low = \"light gray\", high = \"black\") +\n",
    "labs(title = \"Parties by logit economic GAL/TAN scale\") +\n",
    "theme(plot.title = element_text(size = 20),\n",
    "      axis.title.x = element_blank(),\n",
    "      axis.title.y = element_blank(),\n",
    "      axis.text.x = element_text(size = 9),\n",
    "      axis.text.y = element_text(size = 7),\n",
    "      legend.position = \"none\") "
   ]
  },
  {
   "cell_type": "markdown",
   "id": "5fb1406b",
   "metadata": {},
   "source": [
    "# Joining the ILSD dataset to the speeches dataset"
   ]
  },
  {
   "cell_type": "markdown",
   "id": "59877250",
   "metadata": {},
   "source": [
    "Load the speeches dataset"
   ]
  },
  {
   "cell_type": "code",
   "execution_count": 15,
   "id": "14977ef8",
   "metadata": {},
   "outputs": [],
   "source": [
    "load(\"data/parliamentary_groups2.rds\")\n",
    "texts <- Texts %>% as_tibble()"
   ]
  },
  {
   "cell_type": "markdown",
   "id": "d8ebaab7",
   "metadata": {},
   "source": [
    "The ILSD dataset includes the Constituent Assembly which is coded as Legislature n. 1. Let's subtract one from the \"Legislature\" column"
   ]
  },
  {
   "cell_type": "code",
   "execution_count": 16,
   "id": "49e3df67",
   "metadata": {},
   "outputs": [],
   "source": [
    "ilsd <- ilsd %>% \n",
    "mutate(Legislature_RECODED = Legislature - 1)"
   ]
  },
  {
   "cell_type": "markdown",
   "id": "8ade9675",
   "metadata": {},
   "source": [
    "The following tibble shows all the parties in the ILSD dataset, their full name (as reported in the codebook), the corresponding party label in the speeches dataset and the legislatures they appear in."
   ]
  },
  {
   "cell_type": "code",
   "execution_count": 19,
   "id": "60523f9d",
   "metadata": {},
   "outputs": [
    {
     "data": {
      "text/html": [
       "<table class=\"dataframe\">\n",
       "<caption>A tibble: 6 × 1</caption>\n",
       "<thead>\n",
       "\t<tr><th scope=col>Legislature_RECODED</th></tr>\n",
       "\t<tr><th scope=col>&lt;dbl&gt;</th></tr>\n",
       "</thead>\n",
       "<tbody>\n",
       "\t<tr><td>10</td></tr>\n",
       "\t<tr><td>11</td></tr>\n",
       "\t<tr><td>12</td></tr>\n",
       "\t<tr><td>13</td></tr>\n",
       "\t<tr><td>14</td></tr>\n",
       "\t<tr><td>15</td></tr>\n",
       "</tbody>\n",
       "</table>\n"
      ],
      "text/latex": [
       "A tibble: 6 × 1\n",
       "\\begin{tabular}{l}\n",
       " Legislature\\_RECODED\\\\\n",
       " <dbl>\\\\\n",
       "\\hline\n",
       "\t 10\\\\\n",
       "\t 11\\\\\n",
       "\t 12\\\\\n",
       "\t 13\\\\\n",
       "\t 14\\\\\n",
       "\t 15\\\\\n",
       "\\end{tabular}\n"
      ],
      "text/markdown": [
       "\n",
       "A tibble: 6 × 1\n",
       "\n",
       "| Legislature_RECODED &lt;dbl&gt; |\n",
       "|---|\n",
       "| 10 |\n",
       "| 11 |\n",
       "| 12 |\n",
       "| 13 |\n",
       "| 14 |\n",
       "| 15 |\n",
       "\n"
      ],
      "text/plain": [
       "  Legislature_RECODED\n",
       "1 10                 \n",
       "2 11                 \n",
       "3 12                 \n",
       "4 13                 \n",
       "5 14                 \n",
       "6 15                 "
      ]
     },
     "metadata": {},
     "output_type": "display_data"
    },
    {
     "data": {
      "text/html": [
       "<table class=\"dataframe\">\n",
       "<caption>A tibble: 6 × 1</caption>\n",
       "<thead>\n",
       "\t<tr><th scope=col>Legislature_RECODED</th></tr>\n",
       "\t<tr><th scope=col>&lt;dbl&gt;</th></tr>\n",
       "</thead>\n",
       "<tbody>\n",
       "\t<tr><td>10</td></tr>\n",
       "\t<tr><td>11</td></tr>\n",
       "\t<tr><td>12</td></tr>\n",
       "\t<tr><td>13</td></tr>\n",
       "\t<tr><td>14</td></tr>\n",
       "\t<tr><td>15</td></tr>\n",
       "</tbody>\n",
       "</table>\n"
      ],
      "text/latex": [
       "A tibble: 6 × 1\n",
       "\\begin{tabular}{l}\n",
       " Legislature\\_RECODED\\\\\n",
       " <dbl>\\\\\n",
       "\\hline\n",
       "\t 10\\\\\n",
       "\t 11\\\\\n",
       "\t 12\\\\\n",
       "\t 13\\\\\n",
       "\t 14\\\\\n",
       "\t 15\\\\\n",
       "\\end{tabular}\n"
      ],
      "text/markdown": [
       "\n",
       "A tibble: 6 × 1\n",
       "\n",
       "| Legislature_RECODED &lt;dbl&gt; |\n",
       "|---|\n",
       "| 10 |\n",
       "| 11 |\n",
       "| 12 |\n",
       "| 13 |\n",
       "| 14 |\n",
       "| 15 |\n",
       "\n"
      ],
      "text/plain": [
       "  Legislature_RECODED\n",
       "1 10                 \n",
       "2 11                 \n",
       "3 12                 \n",
       "4 13                 \n",
       "5 14                 \n",
       "6 15                 "
      ]
     },
     "metadata": {},
     "output_type": "display_data"
    }
   ],
   "source": [
    "ilsd %>% filter(PARTY == \"VER\") %>% distinct(Legislature_RECODED)"
   ]
  },
  {
   "cell_type": "code",
   "execution_count": 21,
   "id": "deef2469",
   "metadata": {
    "scrolled": true
   },
   "outputs": [],
   "source": [
    "parties <- tribble(\n",
    "~party, ~full_name, ~gruppoP, ~gruppoP_recoded, ~legislatures, ~notes,\n",
    "\"AD\", \"Alleanza Democratica\", \"PROGR-F\", \"PROGR-F\", \"12\", \"In coalition with 'Alleanza dei Progressisti (PROGR-F)'\",\n",
    "\"ALA\", \"Alleanza Liberalpopolare - Autonomie\", NA, NA, \"17\", \"Part of the Mixed Group; in 2016 it became part of 'NCI-SCPI-MAIE'\",\n",
    "\"ALP\", \"Alternativa Libera-Possibile\", \"SI-SEL-POS-LU\", \"SI-SEL-POS-LU\", \"17\", \"\",\n",
    "\"AN\", \"Alleanza Nazionale\", \"AN\", \"AN\", \"12-15\", \"\",\n",
    "\"API\", \"Alleanza per l'Italia\", \"UDCPTP\", \"UDCPTP\", \"16\", \"\",\n",
    "\"AUTSVP\", \"Sudtiroler Volkspartei\", NA, NA, \"18\", \"Part of Per le autonomie\",\n",
    "\"BNL\", \"Blocco Nazionale della Libertà\", NA, NA , \"0\", \"Our dataset does not include the Constituent Assembly\",\n",
    "\"CCD\", \"Centro Cristiano Democratico\", \"CCD; CCD-CDU\", \"UDC\", \"12-14\", \"\",\n",
    "\"CD\", \"Centro Democratico\", \"DES-CD\", \"DES-CD\", \"17\", \"\",\n",
    "\"CDU\",\"Cristiani Democratici Uniti\", \"CCD\", \"UDC\" , \"13\", \"\",\n",
    "\"CGM5SLN\", \"SintesiContrattoGovM5SLN\", NA, NA, \"18\", \"\",\n",
    "\"CR\", \"Conservatori e Riformisti\", NA, NA, \"17\", \"Part of FI, then it exited it and it was disbanded in 2017\",\n",
    "\"DC\", \"Democrazia Cristiana\", \"DC; DC-PPI\", \"DC\", \"0-11\", \"\",\n",
    "\"DEM\", \"I Democratici\", \"DEM-U\", \"DEM-U\", \"13\", \"\",\n",
    "\"DL\", \"Democrazia è Libertà/La Margherita\", \"MARGH-U\", \"MARGH-U\", \"14\", \"\",\n",
    "\"DP\", \"Democrazia Proletaria\", \"DP; DP-COM\", \"DP\", \"7-10\", \"\",\n",
    "\"DS\", \"Democratici di Sinistra\", \"DS-ULIVO; DS-U\", \"PD-ULIVO\", \"13-14\", \"\",\n",
    "\"FDI\", \"Fratelli d'Italia\", \"FDI-AN; FDI\", \"FDI\", \"17-18\", \"\",\n",
    "\"FELD\", \"Federalisti\", \"FLD\", \"FLD\", \"12\", \"\",\n",
    "\"FI\", \"Forza Italia\", \"F-ITA; FI-PDL; FI\", \"FI-PDL\", \"12-18\", \"\",\n",
    "\"FLI\", \"Futuro e Libertà per l’Italia\", \"FLPTP\", \"FLPTP\", \"16\", \"\",\n",
    "\"FUQ\", \"Fronte dell'Uomo Qualunque\", NA, NA, \"0\", \"Our dataset does not include the Constituent Assembly\",\n",
    "\"GAL\", \"Grandi Autonomie e Libertà\", NA, NA, \"17\", \"Can't be found in texts; in 2017 it became part of the UDC\",\n",
    "\"IDV\", \"Italia dei Valori\", \"IDV\", \"IDV\", \"15-16\", \"\",\n",
    "\"LEGA\", \"LEGA\", \"LNP\", \"LEGA\", \"16\", \"\",\n",
    "\"LEU\", \"Liberi e Uguali\" , \"LEU\", \"LEU\" , \"18\", \"\",\n",
    "\"LN\", \"Lega Nord\", \"LEGA; LEGA-N; LEGA-NORD-P; LNA; LNP; LNFP\", \"LEGA\", \"10-18\", \"\",\n",
    "\"LV\", \"Liga Veneta\", NA, NA, \"9\", \"Today it's part of Lega, but it is absent in texts for the 9th legislature\",\n",
    "\"M5S\", \"Movimento 5 stelle\", \"M5S\", \"M5S\", \"17-18\", \"\",\n",
    "\"MPA\", \"Movimento per le Autonomie\", NA, NA, \"16\", \"Part of the right-wing government coalition\",\n",
    "\"MSI\", \"Movimento Sociale Italiano\", \"MSI-DN; MSI\", \"MSI\", \"1-11\", \"\",\n",
    "\"NCD\", \"Nuovo Centro Destra\", \"AP-CPE-NCD-NCI\", \"AP-CPE-NCD-NCI\", \"17\", \"\",\n",
    "\"NPSI\", \"Nuovo Partito Socialista Italiano\", NA, NA, \"14\", \"texts includes DCA-NPSI. However, there's no match for the 14th legislature\",\n",
    "\"NS\", \"Noi Sud\", \"NOI SUD-LIBERTA\\' ED AUTONOMIA/POPOLARI D\\'ITALIA DOMANI-PID/MOVIMENTO DI RESPONSABILITA\\' NAZIONALE-MRN/AZIONE POPOLARE/ALLEANZA DI CENTRO-ADC/INTESA POPOLARE\", \"NOI SUD-LIBERTA\\' ED AUTONOMIA/POPOLARI D\\'ITALIA DOMANI-PID/MOVIMENTO DI RESPONSABILITA\\' NAZIONALE-MRN/AZIONE POPOLARE/ALLEANZA DI CENTRO-ADC/INTESA POPOLARE\", \"16\", \"\",\n",
    "\"PAT\", \"Patto Segni\", NA, NA, \"12\", \"Absent in texts\",\n",
    "\"PCI\", \"Partito Comunista Italiano\", \"PCI\", \"PCI\", \"0-10\", \"\",\n",
    "\"PD\", \"Partito Democratico\", \"PD-U; PD\", \"PD-ULIVO\", \"15-18\", \"\",\n",
    "\"PDCI\", \"Partito dei Comunisti Italiani\", \"COM/IT/\", \"COM/IT/\", \"13-15\", \"\",\n",
    "\"PDIUM\", \"Partito Democratico Italiano di Unità Monarchica\", \"PDIUM\", \"PDIUM\", \"3-5\", \"\",\n",
    "\"PDL\", \"Popolo Delle Libertà\", \"PDL; FI-PDL\", \"FI-PDL\", \"16-17\", \"\",\n",
    "\"PDS\", \"Partito Democratico della Sinistra\", \"PDS\", \"PDS\", \"10-13\", \"\",\n",
    "\"PI\", \"Per l'Italia\", \"DES-CD\", \"DES-CD\", \"17\", \"\",\n",
    "\"PLI\", \"Partito Liberale Italiano\", \"PLI\", \"PLI\", \"0-11\", \"\",\n",
    "\"PMP\", \"Partito Monarchico Popolare\", \"PMP\", \"PMP\", \"2-3\", \"\",\n",
    "\"PNM\", \"Partito Nazionale Monarchico\", \"PNM\", \"PNM\", \"1-3\", \"\",\n",
    "\"PPI\", \"Partito Popolare Italiano\", \"PPI\", \"PPI\", \"12-13\", \"\",\n",
    "\"PR\", \"Partito Radicale\", \"RADICALE\", \"RADICALE\", \"7-11\", \"\",\n",
    "\"PRI\", \"Partito Repubblicano Italiano\", \"PRI\", \"PRI\", \"0-11\", \"\",\n",
    "\"PSDI\", \"Partito Socialista Democratico Italiano\", \"PSI-PSDI; PSI\", \"PSDI\", \"0-11\", \"\",\n",
    "\"PSI\", \"Partito Socialista Italiano\", \"PSI-PSDI; PSI\", \"PSI\", \"0-12\", \"\",\n",
    "\"PSIUP\", \"Partito Socialista di Unità Proletaria\", \"PSIUP\", \"PSIUP\", \"4-5\", \"\",\n",
    "\"PSU\", \"Partito Socialista Unitario\", NA, NA, \"5\", \"The codebook refers to this party as 'Partito Socialista Unitario, but in fact it's probably 'Partito Socialista Unificato'. Anyway, it's not in texts. However, it could refer to both PSI and PSDI\",\n",
    "\"PT\", \"Popolo e Territorio\", \"NOI SUD-LIBERTA' ED AUTONOMIA/POPOLARI D'ITALIA DOMANI-PID/MOVIMENTO DI RESPONSABILITA' NAZIONALE-MRN/AZIONE POPOLARE/ALLEANZA DI CENTRO-ADC/INTESA POPOLARE\", \"NOI SUD-LIBERTA' ED AUTONOMIA/POPOLARI D'ITALIA DOMANI-PID/MOVIMENTO DI RESPONSABILITA' NAZIONALE-MRN/AZIONE POPOLARE/ALLEANZA DI CENTRO-ADC/INTESA POPOLARE\", \"16\", \"\",\n",
    "\"RC\", \"Rifondazione Comunista\", \"RC-PROGR; RC-SE; RC\", \"RC\", \"11-15\", \"\",\n",
    "\"RETE\", \"La Rete\", \"RETE\", \"RETE\", \"11-12\", \"\",\n",
    "\"RI\", \"Rinnovamento Italiano\",  \"RINN/IT\", \"RINN/IT\", \"13\", \"\", \n",
    "\"RNP\", \"Rosa Nel Pugno\", \"SOCRAD-RNP\", \"SOCRAD-RNP\", \"15\", \"\",\n",
    "\"SC\", \"Scelta Civica\", \"NCI-SCPI-MAIE\", \"NCI-SCPI-MAIE\", \"17\", \"\", \n",
    "\"SD\", \"Sinistra Democratica\", \"COM/IT/; RC-SE\", NA, \"15\", \"Mostly MPs from DS who did not join PD. It unified several left-wing parties\",\n",
    "\"SDI\", \"Socialisti Democratici Italiani\", NA, NA, \"13-14\", \"It was the direct continuation of the Italian Socialists\",\n",
    "\"SEL\", \"Sinistra Ecologia e Libertà\", \"SI-SEL-POS-LU\", \"SI-SEL-POS-LU\", \"17\", \"\",\n",
    "\"UDC\", \"Unione dei Democratici Cristiani\", \"UNIONE DEI DEMOCRATICI CRISTIANI E DEI DEMOCRATICI DI CENTRO; CCD; CCD-CDU; UDCPTP\", \"UDC\", \"14-17\", \"\",\n",
    "\"UDEUR\", \"Unione Democratici per l'Europa\", \"UDEUR\", \"UDEUR\", \"13-15\", \"\", \n",
    "\"UDR\", \"Unione Democratica per la Repubblica\", \"UDR\", \"UDR\", \"13\", \"\",\n",
    "\"ULIVO\", \"Ulivo\", \"PD-U\", \"PD-ULIVO\", \"15\", \"\",\n",
    "\"VER\", \"Verdi\", \"VERDE; VERDI\", \"VERDI\", \"10-15\", \"\")\n",
    "\n",
    "writexl::write_xlsx(x = parties, \"data/ilsd_parties.xlsx\")"
   ]
  },
  {
   "cell_type": "markdown",
   "id": "f6f990c5",
   "metadata": {},
   "source": [
    "Recode the 'gruppoP' variable in the speeches dataset by grouping together labels belonging to the same party. This will simplify the merging of the two datasets"
   ]
  },
  {
   "cell_type": "code",
   "execution_count": 22,
   "id": "0a759291",
   "metadata": {},
   "outputs": [],
   "source": [
    "texts <- texts %>% \n",
    "mutate(gruppoP_recoded = case_when(\n",
    "gruppoP %in% c('CCD', 'CCD-CDU', 'UNIONE DEI DEMOCRATICI CRISTIANI E DEI DEMOCRATICI DI CENTRO', 'UDCPTP')  ~ 'UDC',\n",
    "gruppoP == 'COMUNISTA' ~ 'RC',\n",
    "gruppoP == 'DC-PPI' ~ 'DC',\n",
    "gruppoP == 'DP-COM' ~ 'DP',\n",
    "gruppoP == 'FDI-AN' ~ 'FDI',\n",
    "gruppoP %in% c('F-ITA', 'FI', 'PDL') ~ 'FI-PDL',\n",
    "gruppoP == 'GC-PDS' ~ \"PDS\",\n",
    "gruppoP %in% c('LEGA-N', 'LEGA-NORD-P', 'LNA', 'LNFP', 'LNP') ~ 'LEGA',\n",
    "gruppoP == 'MSI-DN' ~ \"MSI\",\n",
    "gruppoP %in% c('DS-U', 'PD-U', 'PD-ULIVO', 'PD', 'DS-ULIVO') ~ 'PD-ULIVO',\n",
    "gruppoP == 'PDUP-DP' ~ 'DP',\n",
    "gruppoP == 'POP-UDEUR' ~ 'UDEUR',\n",
    "gruppoP == 'PSI-PSDI' ~ \"PSI\",\n",
    "gruppoP %in% c('RC-PROGR', 'RC-SE') ~ 'RC',\n",
    "gruppoP == 'SI' ~ 'SI-SEL-POS-LU',\n",
    "gruppoP == 'VERDE' ~ 'VERDI',\n",
    "TRUE ~ gruppoP))"
   ]
  },
  {
   "cell_type": "markdown",
   "id": "92a866b1",
   "metadata": {},
   "source": [
    "The following are the parties in the ILSD dataset that I couldn't identify in the speeches dataset"
   ]
  },
  {
   "cell_type": "code",
   "execution_count": 24,
   "id": "77d47199",
   "metadata": {},
   "outputs": [
    {
     "data": {
      "text/html": [
       "<table class=\"dataframe\">\n",
       "<caption>A tibble: 13 × 6</caption>\n",
       "<thead>\n",
       "\t<tr><th scope=col>party</th><th scope=col>full_name</th><th scope=col>gruppoP</th><th scope=col>gruppoP_recoded</th><th scope=col>legislatures</th><th scope=col>notes</th></tr>\n",
       "\t<tr><th scope=col>&lt;chr&gt;</th><th scope=col>&lt;chr&gt;</th><th scope=col>&lt;chr&gt;</th><th scope=col>&lt;chr&gt;</th><th scope=col>&lt;chr&gt;</th><th scope=col>&lt;chr&gt;</th></tr>\n",
       "</thead>\n",
       "<tbody>\n",
       "\t<tr><td>ALA    </td><td>Alleanza Liberalpopolare - Autonomie</td><td>NA</td><td>NA</td><td>17   </td><td>Part of the Mixed Group; in 2016 it became part of 'NCI-SCPI-MAIE'                                                                                                                                  </td></tr>\n",
       "\t<tr><td>AUTSVP </td><td>Sudtiroler Volkspartei              </td><td>NA</td><td>NA</td><td>18   </td><td>Part of Per le autonomie                                                                                                                                                                            </td></tr>\n",
       "\t<tr><td>BNL    </td><td>Blocco Nazionale della Libertà      </td><td>NA</td><td>NA</td><td>0    </td><td>Our dataset does not include the Constituent Assembly                                                                                                                                               </td></tr>\n",
       "\t<tr><td>CGM5SLN</td><td>SintesiContrattoGovM5SLN            </td><td>NA</td><td>NA</td><td>18   </td><td>                                                                                                                                                                                                    </td></tr>\n",
       "\t<tr><td>CR     </td><td>Conservatori e Riformisti           </td><td>NA</td><td>NA</td><td>17   </td><td>Part of FI, then it exited it and it was disbanded in 2017                                                                                                                                          </td></tr>\n",
       "\t<tr><td>FUQ    </td><td>Fronte dell'Uomo Qualunque          </td><td>NA</td><td>NA</td><td>0    </td><td>Our dataset does not include the Constituent Assembly                                                                                                                                               </td></tr>\n",
       "\t<tr><td>GAL    </td><td>Grandi Autonomie e Libertà          </td><td>NA</td><td>NA</td><td>17   </td><td>Can't be found in texts; in 2017 it became part of the UDC                                                                                                                                          </td></tr>\n",
       "\t<tr><td>LV     </td><td>Liga Veneta                         </td><td>NA</td><td>NA</td><td>9    </td><td>Today it's part of Lega, but it is absent in texts for the 9th legislature                                                                                                                          </td></tr>\n",
       "\t<tr><td>MPA    </td><td>Movimento per le Autonomie          </td><td>NA</td><td>NA</td><td>16   </td><td>Part of the right-wing government coalition                                                                                                                                                         </td></tr>\n",
       "\t<tr><td>NPSI   </td><td>Nuovo Partito Socialista Italiano   </td><td>NA</td><td>NA</td><td>14   </td><td>texts includes DCA-NPSI. However, there's no match for the 14th legislature                                                                                                                         </td></tr>\n",
       "\t<tr><td>PAT    </td><td>Patto Segni                         </td><td>NA</td><td>NA</td><td>12   </td><td>Absent in texts                                                                                                                                                                                     </td></tr>\n",
       "\t<tr><td>PSU    </td><td>Partito Socialista Unitario         </td><td>NA</td><td>NA</td><td>5    </td><td>The codebook refers to this party as 'Partito Socialista Unitario, but in fact it's probably 'Partito Socialista Unificato'. Anyway, it's not in texts. However, it could refer to both PSI and PSDI</td></tr>\n",
       "\t<tr><td>SDI    </td><td>Socialisti Democratici Italiani     </td><td>NA</td><td>NA</td><td>13-14</td><td>It was the direct continuation of the Italian Socialists                                                                                                                                            </td></tr>\n",
       "</tbody>\n",
       "</table>\n"
      ],
      "text/latex": [
       "A tibble: 13 × 6\n",
       "\\begin{tabular}{llllll}\n",
       " party & full\\_name & gruppoP & gruppoP\\_recoded & legislatures & notes\\\\\n",
       " <chr> & <chr> & <chr> & <chr> & <chr> & <chr>\\\\\n",
       "\\hline\n",
       "\t ALA     & Alleanza Liberalpopolare - Autonomie & NA & NA & 17    & Part of the Mixed Group; in 2016 it became part of 'NCI-SCPI-MAIE'                                                                                                                                  \\\\\n",
       "\t AUTSVP  & Sudtiroler Volkspartei               & NA & NA & 18    & Part of Per le autonomie                                                                                                                                                                            \\\\\n",
       "\t BNL     & Blocco Nazionale della Libertà       & NA & NA & 0     & Our dataset does not include the Constituent Assembly                                                                                                                                               \\\\\n",
       "\t CGM5SLN & SintesiContrattoGovM5SLN             & NA & NA & 18    &                                                                                                                                                                                                     \\\\\n",
       "\t CR      & Conservatori e Riformisti            & NA & NA & 17    & Part of FI, then it exited it and it was disbanded in 2017                                                                                                                                          \\\\\n",
       "\t FUQ     & Fronte dell'Uomo Qualunque           & NA & NA & 0     & Our dataset does not include the Constituent Assembly                                                                                                                                               \\\\\n",
       "\t GAL     & Grandi Autonomie e Libertà           & NA & NA & 17    & Can't be found in texts; in 2017 it became part of the UDC                                                                                                                                          \\\\\n",
       "\t LV      & Liga Veneta                          & NA & NA & 9     & Today it's part of Lega, but it is absent in texts for the 9th legislature                                                                                                                          \\\\\n",
       "\t MPA     & Movimento per le Autonomie           & NA & NA & 16    & Part of the right-wing government coalition                                                                                                                                                         \\\\\n",
       "\t NPSI    & Nuovo Partito Socialista Italiano    & NA & NA & 14    & texts includes DCA-NPSI. However, there's no match for the 14th legislature                                                                                                                         \\\\\n",
       "\t PAT     & Patto Segni                          & NA & NA & 12    & Absent in texts                                                                                                                                                                                     \\\\\n",
       "\t PSU     & Partito Socialista Unitario          & NA & NA & 5     & The codebook refers to this party as 'Partito Socialista Unitario, but in fact it's probably 'Partito Socialista Unificato'. Anyway, it's not in texts. However, it could refer to both PSI and PSDI\\\\\n",
       "\t SDI     & Socialisti Democratici Italiani      & NA & NA & 13-14 & It was the direct continuation of the Italian Socialists                                                                                                                                            \\\\\n",
       "\\end{tabular}\n"
      ],
      "text/markdown": [
       "\n",
       "A tibble: 13 × 6\n",
       "\n",
       "| party &lt;chr&gt; | full_name &lt;chr&gt; | gruppoP &lt;chr&gt; | gruppoP_recoded &lt;chr&gt; | legislatures &lt;chr&gt; | notes &lt;chr&gt; |\n",
       "|---|---|---|---|---|---|\n",
       "| ALA     | Alleanza Liberalpopolare - Autonomie | NA | NA | 17    | Part of the Mixed Group; in 2016 it became part of 'NCI-SCPI-MAIE'                                                                                                                                   |\n",
       "| AUTSVP  | Sudtiroler Volkspartei               | NA | NA | 18    | Part of Per le autonomie                                                                                                                                                                             |\n",
       "| BNL     | Blocco Nazionale della Libertà       | NA | NA | 0     | Our dataset does not include the Constituent Assembly                                                                                                                                                |\n",
       "| CGM5SLN | SintesiContrattoGovM5SLN             | NA | NA | 18    | <!----> |\n",
       "| CR      | Conservatori e Riformisti            | NA | NA | 17    | Part of FI, then it exited it and it was disbanded in 2017                                                                                                                                           |\n",
       "| FUQ     | Fronte dell'Uomo Qualunque           | NA | NA | 0     | Our dataset does not include the Constituent Assembly                                                                                                                                                |\n",
       "| GAL     | Grandi Autonomie e Libertà           | NA | NA | 17    | Can't be found in texts; in 2017 it became part of the UDC                                                                                                                                           |\n",
       "| LV      | Liga Veneta                          | NA | NA | 9     | Today it's part of Lega, but it is absent in texts for the 9th legislature                                                                                                                           |\n",
       "| MPA     | Movimento per le Autonomie           | NA | NA | 16    | Part of the right-wing government coalition                                                                                                                                                          |\n",
       "| NPSI    | Nuovo Partito Socialista Italiano    | NA | NA | 14    | texts includes DCA-NPSI. However, there's no match for the 14th legislature                                                                                                                          |\n",
       "| PAT     | Patto Segni                          | NA | NA | 12    | Absent in texts                                                                                                                                                                                      |\n",
       "| PSU     | Partito Socialista Unitario          | NA | NA | 5     | The codebook refers to this party as 'Partito Socialista Unitario, but in fact it's probably 'Partito Socialista Unificato'. Anyway, it's not in texts. However, it could refer to both PSI and PSDI |\n",
       "| SDI     | Socialisti Democratici Italiani      | NA | NA | 13-14 | It was the direct continuation of the Italian Socialists                                                                                                                                             |\n",
       "\n"
      ],
      "text/plain": [
       "   party   full_name                            gruppoP gruppoP_recoded\n",
       "1  ALA     Alleanza Liberalpopolare - Autonomie NA      NA             \n",
       "2  AUTSVP  Sudtiroler Volkspartei               NA      NA             \n",
       "3  BNL     Blocco Nazionale della Libertà       NA      NA             \n",
       "4  CGM5SLN SintesiContrattoGovM5SLN             NA      NA             \n",
       "5  CR      Conservatori e Riformisti            NA      NA             \n",
       "6  FUQ     Fronte dell'Uomo Qualunque           NA      NA             \n",
       "7  GAL     Grandi Autonomie e Libertà           NA      NA             \n",
       "8  LV      Liga Veneta                          NA      NA             \n",
       "9  MPA     Movimento per le Autonomie           NA      NA             \n",
       "10 NPSI    Nuovo Partito Socialista Italiano    NA      NA             \n",
       "11 PAT     Patto Segni                          NA      NA             \n",
       "12 PSU     Partito Socialista Unitario          NA      NA             \n",
       "13 SDI     Socialisti Democratici Italiani      NA      NA             \n",
       "   legislatures\n",
       "1  17          \n",
       "2  18          \n",
       "3  0           \n",
       "4  18          \n",
       "5  17          \n",
       "6  0           \n",
       "7  17          \n",
       "8  9           \n",
       "9  16          \n",
       "10 14          \n",
       "11 12          \n",
       "12 5           \n",
       "13 13-14       \n",
       "   notes                                                                                                                                                                                               \n",
       "1  Part of the Mixed Group; in 2016 it became part of 'NCI-SCPI-MAIE'                                                                                                                                  \n",
       "2  Part of Per le autonomie                                                                                                                                                                            \n",
       "3  Our dataset does not include the Constituent Assembly                                                                                                                                               \n",
       "4                                                                                                                                                                                                      \n",
       "5  Part of FI, then it exited it and it was disbanded in 2017                                                                                                                                          \n",
       "6  Our dataset does not include the Constituent Assembly                                                                                                                                               \n",
       "7  Can't be found in texts; in 2017 it became part of the UDC                                                                                                                                          \n",
       "8  Today it's part of Lega, but it is absent in texts for the 9th legislature                                                                                                                          \n",
       "9  Part of the right-wing government coalition                                                                                                                                                         \n",
       "10 texts includes DCA-NPSI. However, there's no match for the 14th legislature                                                                                                                         \n",
       "11 Absent in texts                                                                                                                                                                                     \n",
       "12 The codebook refers to this party as 'Partito Socialista Unitario, but in fact it's probably 'Partito Socialista Unificato'. Anyway, it's not in texts. However, it could refer to both PSI and PSDI\n",
       "13 It was the direct continuation of the Italian Socialists                                                                                                                                            "
      ]
     },
     "metadata": {},
     "output_type": "display_data"
    },
    {
     "data": {
      "text/html": [
       "<table class=\"dataframe\">\n",
       "<caption>A tibble: 13 × 6</caption>\n",
       "<thead>\n",
       "\t<tr><th scope=col>party</th><th scope=col>full_name</th><th scope=col>gruppoP</th><th scope=col>gruppoP_recoded</th><th scope=col>legislatures</th><th scope=col>notes</th></tr>\n",
       "\t<tr><th scope=col>&lt;chr&gt;</th><th scope=col>&lt;chr&gt;</th><th scope=col>&lt;chr&gt;</th><th scope=col>&lt;chr&gt;</th><th scope=col>&lt;chr&gt;</th><th scope=col>&lt;chr&gt;</th></tr>\n",
       "</thead>\n",
       "<tbody>\n",
       "\t<tr><td>ALA    </td><td>Alleanza Liberalpopolare - Autonomie</td><td>NA</td><td>NA</td><td>17   </td><td>Part of the Mixed Group; in 2016 it became part of 'NCI-SCPI-MAIE'                                                                                                                                  </td></tr>\n",
       "\t<tr><td>AUTSVP </td><td>Sudtiroler Volkspartei              </td><td>NA</td><td>NA</td><td>18   </td><td>Part of Per le autonomie                                                                                                                                                                            </td></tr>\n",
       "\t<tr><td>BNL    </td><td>Blocco Nazionale della Libertà      </td><td>NA</td><td>NA</td><td>0    </td><td>Our dataset does not include the Constituent Assembly                                                                                                                                               </td></tr>\n",
       "\t<tr><td>CGM5SLN</td><td>SintesiContrattoGovM5SLN            </td><td>NA</td><td>NA</td><td>18   </td><td>                                                                                                                                                                                                    </td></tr>\n",
       "\t<tr><td>CR     </td><td>Conservatori e Riformisti           </td><td>NA</td><td>NA</td><td>17   </td><td>Part of FI, then it exited it and it was disbanded in 2017                                                                                                                                          </td></tr>\n",
       "\t<tr><td>FUQ    </td><td>Fronte dell'Uomo Qualunque          </td><td>NA</td><td>NA</td><td>0    </td><td>Our dataset does not include the Constituent Assembly                                                                                                                                               </td></tr>\n",
       "\t<tr><td>GAL    </td><td>Grandi Autonomie e Libertà          </td><td>NA</td><td>NA</td><td>17   </td><td>Can't be found in texts; in 2017 it became part of the UDC                                                                                                                                          </td></tr>\n",
       "\t<tr><td>LV     </td><td>Liga Veneta                         </td><td>NA</td><td>NA</td><td>9    </td><td>Today it's part of Lega, but it is absent in texts for the 9th legislature                                                                                                                          </td></tr>\n",
       "\t<tr><td>MPA    </td><td>Movimento per le Autonomie          </td><td>NA</td><td>NA</td><td>16   </td><td>Part of the right-wing government coalition                                                                                                                                                         </td></tr>\n",
       "\t<tr><td>NPSI   </td><td>Nuovo Partito Socialista Italiano   </td><td>NA</td><td>NA</td><td>14   </td><td>texts includes DCA-NPSI. However, there's no match for the 14th legislature                                                                                                                         </td></tr>\n",
       "\t<tr><td>PAT    </td><td>Patto Segni                         </td><td>NA</td><td>NA</td><td>12   </td><td>Absent in texts                                                                                                                                                                                     </td></tr>\n",
       "\t<tr><td>PSU    </td><td>Partito Socialista Unitario         </td><td>NA</td><td>NA</td><td>5    </td><td>The codebook refers to this party as 'Partito Socialista Unitario, but in fact it's probably 'Partito Socialista Unificato'. Anyway, it's not in texts. However, it could refer to both PSI and PSDI</td></tr>\n",
       "\t<tr><td>SDI    </td><td>Socialisti Democratici Italiani     </td><td>NA</td><td>NA</td><td>13-14</td><td>It was the direct continuation of the Italian Socialists                                                                                                                                            </td></tr>\n",
       "</tbody>\n",
       "</table>\n"
      ],
      "text/latex": [
       "A tibble: 13 × 6\n",
       "\\begin{tabular}{llllll}\n",
       " party & full\\_name & gruppoP & gruppoP\\_recoded & legislatures & notes\\\\\n",
       " <chr> & <chr> & <chr> & <chr> & <chr> & <chr>\\\\\n",
       "\\hline\n",
       "\t ALA     & Alleanza Liberalpopolare - Autonomie & NA & NA & 17    & Part of the Mixed Group; in 2016 it became part of 'NCI-SCPI-MAIE'                                                                                                                                  \\\\\n",
       "\t AUTSVP  & Sudtiroler Volkspartei               & NA & NA & 18    & Part of Per le autonomie                                                                                                                                                                            \\\\\n",
       "\t BNL     & Blocco Nazionale della Libertà       & NA & NA & 0     & Our dataset does not include the Constituent Assembly                                                                                                                                               \\\\\n",
       "\t CGM5SLN & SintesiContrattoGovM5SLN             & NA & NA & 18    &                                                                                                                                                                                                     \\\\\n",
       "\t CR      & Conservatori e Riformisti            & NA & NA & 17    & Part of FI, then it exited it and it was disbanded in 2017                                                                                                                                          \\\\\n",
       "\t FUQ     & Fronte dell'Uomo Qualunque           & NA & NA & 0     & Our dataset does not include the Constituent Assembly                                                                                                                                               \\\\\n",
       "\t GAL     & Grandi Autonomie e Libertà           & NA & NA & 17    & Can't be found in texts; in 2017 it became part of the UDC                                                                                                                                          \\\\\n",
       "\t LV      & Liga Veneta                          & NA & NA & 9     & Today it's part of Lega, but it is absent in texts for the 9th legislature                                                                                                                          \\\\\n",
       "\t MPA     & Movimento per le Autonomie           & NA & NA & 16    & Part of the right-wing government coalition                                                                                                                                                         \\\\\n",
       "\t NPSI    & Nuovo Partito Socialista Italiano    & NA & NA & 14    & texts includes DCA-NPSI. However, there's no match for the 14th legislature                                                                                                                         \\\\\n",
       "\t PAT     & Patto Segni                          & NA & NA & 12    & Absent in texts                                                                                                                                                                                     \\\\\n",
       "\t PSU     & Partito Socialista Unitario          & NA & NA & 5     & The codebook refers to this party as 'Partito Socialista Unitario, but in fact it's probably 'Partito Socialista Unificato'. Anyway, it's not in texts. However, it could refer to both PSI and PSDI\\\\\n",
       "\t SDI     & Socialisti Democratici Italiani      & NA & NA & 13-14 & It was the direct continuation of the Italian Socialists                                                                                                                                            \\\\\n",
       "\\end{tabular}\n"
      ],
      "text/markdown": [
       "\n",
       "A tibble: 13 × 6\n",
       "\n",
       "| party &lt;chr&gt; | full_name &lt;chr&gt; | gruppoP &lt;chr&gt; | gruppoP_recoded &lt;chr&gt; | legislatures &lt;chr&gt; | notes &lt;chr&gt; |\n",
       "|---|---|---|---|---|---|\n",
       "| ALA     | Alleanza Liberalpopolare - Autonomie | NA | NA | 17    | Part of the Mixed Group; in 2016 it became part of 'NCI-SCPI-MAIE'                                                                                                                                   |\n",
       "| AUTSVP  | Sudtiroler Volkspartei               | NA | NA | 18    | Part of Per le autonomie                                                                                                                                                                             |\n",
       "| BNL     | Blocco Nazionale della Libertà       | NA | NA | 0     | Our dataset does not include the Constituent Assembly                                                                                                                                                |\n",
       "| CGM5SLN | SintesiContrattoGovM5SLN             | NA | NA | 18    | <!----> |\n",
       "| CR      | Conservatori e Riformisti            | NA | NA | 17    | Part of FI, then it exited it and it was disbanded in 2017                                                                                                                                           |\n",
       "| FUQ     | Fronte dell'Uomo Qualunque           | NA | NA | 0     | Our dataset does not include the Constituent Assembly                                                                                                                                                |\n",
       "| GAL     | Grandi Autonomie e Libertà           | NA | NA | 17    | Can't be found in texts; in 2017 it became part of the UDC                                                                                                                                           |\n",
       "| LV      | Liga Veneta                          | NA | NA | 9     | Today it's part of Lega, but it is absent in texts for the 9th legislature                                                                                                                           |\n",
       "| MPA     | Movimento per le Autonomie           | NA | NA | 16    | Part of the right-wing government coalition                                                                                                                                                          |\n",
       "| NPSI    | Nuovo Partito Socialista Italiano    | NA | NA | 14    | texts includes DCA-NPSI. However, there's no match for the 14th legislature                                                                                                                          |\n",
       "| PAT     | Patto Segni                          | NA | NA | 12    | Absent in texts                                                                                                                                                                                      |\n",
       "| PSU     | Partito Socialista Unitario          | NA | NA | 5     | The codebook refers to this party as 'Partito Socialista Unitario, but in fact it's probably 'Partito Socialista Unificato'. Anyway, it's not in texts. However, it could refer to both PSI and PSDI |\n",
       "| SDI     | Socialisti Democratici Italiani      | NA | NA | 13-14 | It was the direct continuation of the Italian Socialists                                                                                                                                             |\n",
       "\n"
      ],
      "text/plain": [
       "   party   full_name                            gruppoP gruppoP_recoded\n",
       "1  ALA     Alleanza Liberalpopolare - Autonomie NA      NA             \n",
       "2  AUTSVP  Sudtiroler Volkspartei               NA      NA             \n",
       "3  BNL     Blocco Nazionale della Libertà       NA      NA             \n",
       "4  CGM5SLN SintesiContrattoGovM5SLN             NA      NA             \n",
       "5  CR      Conservatori e Riformisti            NA      NA             \n",
       "6  FUQ     Fronte dell'Uomo Qualunque           NA      NA             \n",
       "7  GAL     Grandi Autonomie e Libertà           NA      NA             \n",
       "8  LV      Liga Veneta                          NA      NA             \n",
       "9  MPA     Movimento per le Autonomie           NA      NA             \n",
       "10 NPSI    Nuovo Partito Socialista Italiano    NA      NA             \n",
       "11 PAT     Patto Segni                          NA      NA             \n",
       "12 PSU     Partito Socialista Unitario          NA      NA             \n",
       "13 SDI     Socialisti Democratici Italiani      NA      NA             \n",
       "   legislatures\n",
       "1  17          \n",
       "2  18          \n",
       "3  0           \n",
       "4  18          \n",
       "5  17          \n",
       "6  0           \n",
       "7  17          \n",
       "8  9           \n",
       "9  16          \n",
       "10 14          \n",
       "11 12          \n",
       "12 5           \n",
       "13 13-14       \n",
       "   notes                                                                                                                                                                                               \n",
       "1  Part of the Mixed Group; in 2016 it became part of 'NCI-SCPI-MAIE'                                                                                                                                  \n",
       "2  Part of Per le autonomie                                                                                                                                                                            \n",
       "3  Our dataset does not include the Constituent Assembly                                                                                                                                               \n",
       "4                                                                                                                                                                                                      \n",
       "5  Part of FI, then it exited it and it was disbanded in 2017                                                                                                                                          \n",
       "6  Our dataset does not include the Constituent Assembly                                                                                                                                               \n",
       "7  Can't be found in texts; in 2017 it became part of the UDC                                                                                                                                          \n",
       "8  Today it's part of Lega, but it is absent in texts for the 9th legislature                                                                                                                          \n",
       "9  Part of the right-wing government coalition                                                                                                                                                         \n",
       "10 texts includes DCA-NPSI. However, there's no match for the 14th legislature                                                                                                                         \n",
       "11 Absent in texts                                                                                                                                                                                     \n",
       "12 The codebook refers to this party as 'Partito Socialista Unitario, but in fact it's probably 'Partito Socialista Unificato'. Anyway, it's not in texts. However, it could refer to both PSI and PSDI\n",
       "13 It was the direct continuation of the Italian Socialists                                                                                                                                            "
      ]
     },
     "metadata": {},
     "output_type": "display_data"
    }
   ],
   "source": [
    "parties %>% \n",
    "filter(is.na(gruppoP))"
   ]
  },
  {
   "cell_type": "markdown",
   "id": "3d8e96c1",
   "metadata": {},
   "source": [
    "Recode the 'PARTY' variable from the ILSD dataset to make the party labels identical to the ones in the speeches dataset"
   ]
  },
  {
   "cell_type": "code",
   "execution_count": 25,
   "id": "c9d4b13e",
   "metadata": {},
   "outputs": [],
   "source": [
    "ilsd <- ilsd %>% \n",
    "mutate(PARTY_RECODED = case_when(\n",
    "PARTY == \"AD\" ~ \"PROGR-F\",\n",
    "PARTY == \"ALP\" ~ 'SI-SEL-POS-LU',\n",
    "PARTY == \"API\" ~ \"UDCPTP\",\n",
    "PARTY == \"CCD\" ~ 'UDC',\n",
    "PARTY == \"CD\" ~ \"DES-CD\",\n",
    "PARTY == \"CDU\" ~ \"UDC\",\n",
    "PARTY == \"DEM\" ~ \"DEM-U\",\n",
    "PARTY == \"DL\" ~ \"MARGH-U\",\n",
    "PARTY == \"DS\" ~ \"PD-ULIVO\",\n",
    "PARTY == \"FELD\" ~ \"FLD\",\n",
    "PARTY == \"FI\" ~ \"FI-PDL\",\n",
    "PARTY == \"FLI\" ~ \"FLPTP\",\n",
    "PARTY == \"LN\" ~ \"LEGA\",\n",
    "PARTY == \"NCD\" ~ \"AP-CPE-NCD-NCI\",\n",
    "PARTY == \"NS\" ~ \"NOI SUD-LIBERTA' ED AUTONOMIA/POPOLARI D'ITALIA DOMANI-PID/MOVIMENTO DI RESPONSABILITA' NAZIONALE-MRN/AZIONE POPOLARE/ALLEANZA DI CENTRO-ADC/INTESA POPOLARE\",\n",
    "PARTY == \"PD\" ~ \"PD-ULIVO\",\n",
    "PARTY == \"PDCI\" ~ \"COM/IT/\",\n",
    "PARTY == \"PDL\" ~ \"FI-PDL\",\n",
    "PARTY == \"PI\" ~ \"DES-CD\",\n",
    "PARTY == \"PR\" ~ \"RADICALE\",\n",
    "PARTY == \"PT\" ~ \"NOI SUD-LIBERTA' ED AUTONOMIA/POPOLARI D'ITALIA DOMANI-PID/MOVIMENTO DI RESPONSABILITA' NAZIONALE-MRN/AZIONE POPOLARE/ALLEANZA DI CENTRO-ADC/INTESA POPOLARE\",\n",
    "PARTY == \"RI\" ~ \"RINN/IT\",\n",
    "PARTY == \"RNP\" ~ \"SOCRAD-RNP\",\n",
    "PARTY == \"SC\" ~ \"NCI-SCPI-MAIE\",\n",
    "PARTY == \"SD\" ~ \"RC\",\n",
    "PARTY == \"SEL\" ~ \"SI-SEL-POS-LU\",\n",
    "PARTY == \"ULIVO\" ~ \"PD-ULIVO\",\n",
    "PARTY == \"VER\" ~ \"VERDI\",\n",
    "TRUE ~ PARTY\n",
    ")) "
   ]
  },
  {
   "cell_type": "markdown",
   "id": "72280171",
   "metadata": {},
   "source": [
    "Extract the year from the 'Edate' variable with a regex"
   ]
  },
  {
   "cell_type": "code",
   "execution_count": 26,
   "id": "0b3caa36",
   "metadata": {},
   "outputs": [],
   "source": [
    "ilsd <- ilsd %>% \n",
    "mutate(Year = as.integer(str_extract(string = Edate, pattern = \"\\\\d{4}\")))"
   ]
  },
  {
   "cell_type": "markdown",
   "id": "c10a1c42",
   "metadata": {},
   "source": [
    "Parties often have more than one row for each party-legislature-year combination. Let's compute the mean for each of the variables we want to merge in the speeches dataset."
   ]
  },
  {
   "cell_type": "code",
   "execution_count": 27,
   "id": "f879f7e2",
   "metadata": {},
   "outputs": [],
   "source": [
    "ilsd <- ilsd %>% \n",
    "group_by(PARTY_RECODED, Legislature_RECODED, Year) %>% \n",
    "mutate(\n",
    "    across(.cols = c(\"left_right\", \"ratio_leftright\", \"logit_left_right\", \"classic_economic\", \"ratio_economic\", \n",
    "                     \"logit_economic\", \"classic_gal_tan\", \"ratio_gal_tan\", \"logit_gal_tan\", \"classic_economic_gal_tan\", \n",
    "                     \"ratio_economic_gal_tan\", \"logit_economic_gal_tan\", \"gal_tan_controllo\"),\n",
    "           .fns = ~ mean(., na.rm = TRUE)))"
   ]
  },
  {
   "cell_type": "markdown",
   "id": "b4b514e0",
   "metadata": {},
   "source": [
    "Left join the ILSD dataset to our speeches dataset"
   ]
  },
  {
   "cell_type": "code",
   "execution_count": 28,
   "id": "a104d43c",
   "metadata": {},
   "outputs": [],
   "source": [
    "texts <- texts %>% \n",
    "left_join(ilsd, by = c(\"gruppoP_recoded\" = \"PARTY_RECODED\", \"legislature\" = \"Legislature_RECODED\", \"year\" = \"Year\"))"
   ]
  },
  {
   "cell_type": "markdown",
   "id": "05c190af",
   "metadata": {},
   "source": [
    "The ILSD dataset contains fewer years compared to 'texts'. This generated a large number of null values in the joined dataset. "
   ]
  },
  {
   "cell_type": "code",
   "execution_count": 29,
   "id": "57c99c43",
   "metadata": {},
   "outputs": [
    {
     "data": {
      "text/html": [
       "<table class=\"dataframe\">\n",
       "<caption>A tibble: 1 × 13</caption>\n",
       "<thead>\n",
       "\t<tr><th scope=col>left_right</th><th scope=col>ratio_leftright</th><th scope=col>logit_left_right</th><th scope=col>classic_economic</th><th scope=col>ratio_economic</th><th scope=col>logit_economic</th><th scope=col>classic_gal_tan</th><th scope=col>ratio_gal_tan</th><th scope=col>logit_gal_tan</th><th scope=col>classic_economic_gal_tan</th><th scope=col>ratio_economic_gal_tan</th><th scope=col>logit_economic_gal_tan</th><th scope=col>gal_tan_controllo</th></tr>\n",
       "\t<tr><th scope=col>&lt;dbl&gt;</th><th scope=col>&lt;dbl&gt;</th><th scope=col>&lt;dbl&gt;</th><th scope=col>&lt;dbl&gt;</th><th scope=col>&lt;dbl&gt;</th><th scope=col>&lt;dbl&gt;</th><th scope=col>&lt;dbl&gt;</th><th scope=col>&lt;dbl&gt;</th><th scope=col>&lt;dbl&gt;</th><th scope=col>&lt;dbl&gt;</th><th scope=col>&lt;dbl&gt;</th><th scope=col>&lt;dbl&gt;</th><th scope=col>&lt;dbl&gt;</th></tr>\n",
       "</thead>\n",
       "<tbody>\n",
       "\t<tr><td>0.3702111</td><td>0.3702111</td><td>0.3702111</td><td>0.3702111</td><td>0.3752827</td><td>0.3702111</td><td>0.3702111</td><td>0.4698747</td><td>0.3702111</td><td>0.3702111</td><td>0.4527542</td><td>0.3702111</td><td>0.3702111</td></tr>\n",
       "</tbody>\n",
       "</table>\n"
      ],
      "text/latex": [
       "A tibble: 1 × 13\n",
       "\\begin{tabular}{lllllllllllll}\n",
       " left\\_right & ratio\\_leftright & logit\\_left\\_right & classic\\_economic & ratio\\_economic & logit\\_economic & classic\\_gal\\_tan & ratio\\_gal\\_tan & logit\\_gal\\_tan & classic\\_economic\\_gal\\_tan & ratio\\_economic\\_gal\\_tan & logit\\_economic\\_gal\\_tan & gal\\_tan\\_controllo\\\\\n",
       " <dbl> & <dbl> & <dbl> & <dbl> & <dbl> & <dbl> & <dbl> & <dbl> & <dbl> & <dbl> & <dbl> & <dbl> & <dbl>\\\\\n",
       "\\hline\n",
       "\t 0.3702111 & 0.3702111 & 0.3702111 & 0.3702111 & 0.3752827 & 0.3702111 & 0.3702111 & 0.4698747 & 0.3702111 & 0.3702111 & 0.4527542 & 0.3702111 & 0.3702111\\\\\n",
       "\\end{tabular}\n"
      ],
      "text/markdown": [
       "\n",
       "A tibble: 1 × 13\n",
       "\n",
       "| left_right &lt;dbl&gt; | ratio_leftright &lt;dbl&gt; | logit_left_right &lt;dbl&gt; | classic_economic &lt;dbl&gt; | ratio_economic &lt;dbl&gt; | logit_economic &lt;dbl&gt; | classic_gal_tan &lt;dbl&gt; | ratio_gal_tan &lt;dbl&gt; | logit_gal_tan &lt;dbl&gt; | classic_economic_gal_tan &lt;dbl&gt; | ratio_economic_gal_tan &lt;dbl&gt; | logit_economic_gal_tan &lt;dbl&gt; | gal_tan_controllo &lt;dbl&gt; |\n",
       "|---|---|---|---|---|---|---|---|---|---|---|---|---|\n",
       "| 0.3702111 | 0.3702111 | 0.3702111 | 0.3702111 | 0.3752827 | 0.3702111 | 0.3702111 | 0.4698747 | 0.3702111 | 0.3702111 | 0.4527542 | 0.3702111 | 0.3702111 |\n",
       "\n"
      ],
      "text/plain": [
       "  left_right ratio_leftright logit_left_right classic_economic ratio_economic\n",
       "1 0.3702111  0.3702111       0.3702111        0.3702111        0.3752827     \n",
       "  logit_economic classic_gal_tan ratio_gal_tan logit_gal_tan\n",
       "1 0.3702111      0.3702111       0.4698747     0.3702111    \n",
       "  classic_economic_gal_tan ratio_economic_gal_tan logit_economic_gal_tan\n",
       "1 0.3702111                0.4527542              0.3702111             \n",
       "  gal_tan_controllo\n",
       "1 0.3702111        "
      ]
     },
     "metadata": {},
     "output_type": "display_data"
    },
    {
     "data": {
      "text/html": [
       "<table class=\"dataframe\">\n",
       "<caption>A tibble: 1 × 13</caption>\n",
       "<thead>\n",
       "\t<tr><th scope=col>left_right</th><th scope=col>ratio_leftright</th><th scope=col>logit_left_right</th><th scope=col>classic_economic</th><th scope=col>ratio_economic</th><th scope=col>logit_economic</th><th scope=col>classic_gal_tan</th><th scope=col>ratio_gal_tan</th><th scope=col>logit_gal_tan</th><th scope=col>classic_economic_gal_tan</th><th scope=col>ratio_economic_gal_tan</th><th scope=col>logit_economic_gal_tan</th><th scope=col>gal_tan_controllo</th></tr>\n",
       "\t<tr><th scope=col>&lt;dbl&gt;</th><th scope=col>&lt;dbl&gt;</th><th scope=col>&lt;dbl&gt;</th><th scope=col>&lt;dbl&gt;</th><th scope=col>&lt;dbl&gt;</th><th scope=col>&lt;dbl&gt;</th><th scope=col>&lt;dbl&gt;</th><th scope=col>&lt;dbl&gt;</th><th scope=col>&lt;dbl&gt;</th><th scope=col>&lt;dbl&gt;</th><th scope=col>&lt;dbl&gt;</th><th scope=col>&lt;dbl&gt;</th><th scope=col>&lt;dbl&gt;</th></tr>\n",
       "</thead>\n",
       "<tbody>\n",
       "\t<tr><td>0.3702111</td><td>0.3702111</td><td>0.3702111</td><td>0.3702111</td><td>0.3752827</td><td>0.3702111</td><td>0.3702111</td><td>0.4698747</td><td>0.3702111</td><td>0.3702111</td><td>0.4527542</td><td>0.3702111</td><td>0.3702111</td></tr>\n",
       "</tbody>\n",
       "</table>\n"
      ],
      "text/latex": [
       "A tibble: 1 × 13\n",
       "\\begin{tabular}{lllllllllllll}\n",
       " left\\_right & ratio\\_leftright & logit\\_left\\_right & classic\\_economic & ratio\\_economic & logit\\_economic & classic\\_gal\\_tan & ratio\\_gal\\_tan & logit\\_gal\\_tan & classic\\_economic\\_gal\\_tan & ratio\\_economic\\_gal\\_tan & logit\\_economic\\_gal\\_tan & gal\\_tan\\_controllo\\\\\n",
       " <dbl> & <dbl> & <dbl> & <dbl> & <dbl> & <dbl> & <dbl> & <dbl> & <dbl> & <dbl> & <dbl> & <dbl> & <dbl>\\\\\n",
       "\\hline\n",
       "\t 0.3702111 & 0.3702111 & 0.3702111 & 0.3702111 & 0.3752827 & 0.3702111 & 0.3702111 & 0.4698747 & 0.3702111 & 0.3702111 & 0.4527542 & 0.3702111 & 0.3702111\\\\\n",
       "\\end{tabular}\n"
      ],
      "text/markdown": [
       "\n",
       "A tibble: 1 × 13\n",
       "\n",
       "| left_right &lt;dbl&gt; | ratio_leftright &lt;dbl&gt; | logit_left_right &lt;dbl&gt; | classic_economic &lt;dbl&gt; | ratio_economic &lt;dbl&gt; | logit_economic &lt;dbl&gt; | classic_gal_tan &lt;dbl&gt; | ratio_gal_tan &lt;dbl&gt; | logit_gal_tan &lt;dbl&gt; | classic_economic_gal_tan &lt;dbl&gt; | ratio_economic_gal_tan &lt;dbl&gt; | logit_economic_gal_tan &lt;dbl&gt; | gal_tan_controllo &lt;dbl&gt; |\n",
       "|---|---|---|---|---|---|---|---|---|---|---|---|---|\n",
       "| 0.3702111 | 0.3702111 | 0.3702111 | 0.3702111 | 0.3752827 | 0.3702111 | 0.3702111 | 0.4698747 | 0.3702111 | 0.3702111 | 0.4527542 | 0.3702111 | 0.3702111 |\n",
       "\n"
      ],
      "text/plain": [
       "  left_right ratio_leftright logit_left_right classic_economic ratio_economic\n",
       "1 0.3702111  0.3702111       0.3702111        0.3702111        0.3752827     \n",
       "  logit_economic classic_gal_tan ratio_gal_tan logit_gal_tan\n",
       "1 0.3702111      0.3702111       0.4698747     0.3702111    \n",
       "  classic_economic_gal_tan ratio_economic_gal_tan logit_economic_gal_tan\n",
       "1 0.3702111                0.4527542              0.3702111             \n",
       "  gal_tan_controllo\n",
       "1 0.3702111        "
      ]
     },
     "metadata": {},
     "output_type": "display_data"
    }
   ],
   "source": [
    "map_dfr(texts, ~ sum(is.na(.)) / length(.)) %>% \n",
    "select(left_right, ratio_leftright, logit_left_right, classic_economic, ratio_economic, logit_economic, classic_gal_tan,\n",
    "      ratio_gal_tan, logit_gal_tan, classic_economic_gal_tan, ratio_economic_gal_tan, logit_economic_gal_tan, gal_tan_controllo)"
   ]
  },
  {
   "cell_type": "markdown",
   "id": "456b9133",
   "metadata": {},
   "source": [
    "Let's fill those values by using the previous year as reference."
   ]
  },
  {
   "cell_type": "code",
   "execution_count": 30,
   "id": "4613e04b",
   "metadata": {},
   "outputs": [],
   "source": [
    "texts <- texts %>% \n",
    "arrange(year) %>% \n",
    "group_by(gruppoP_recoded, legislature) %>% \n",
    "fill_(fill_cols = c(\"left_right\", \"ratio_leftright\", \"logit_left_right\", \"classic_economic\", \"ratio_economic\", \n",
    "                    \"logit_economic\", \"classic_gal_tan\", \"ratio_gal_tan\", \"logit_gal_tan\", \"classic_economic_gal_tan\", \n",
    "                    \"ratio_economic_gal_tan\", \"logit_economic_gal_tan\", \"gal_tan_controllo\"),\n",
    "       .direction = \"down\")"
   ]
  },
  {
   "cell_type": "markdown",
   "id": "9062570c",
   "metadata": {},
   "source": [
    "The % of null values went down from 37% to 9%"
   ]
  },
  {
   "cell_type": "code",
   "execution_count": 31,
   "id": "26f5f180",
   "metadata": {},
   "outputs": [
    {
     "data": {
      "text/html": [
       "<table class=\"dataframe\">\n",
       "<caption>A tibble: 1 × 13</caption>\n",
       "<thead>\n",
       "\t<tr><th scope=col>left_right</th><th scope=col>ratio_leftright</th><th scope=col>logit_left_right</th><th scope=col>classic_economic</th><th scope=col>ratio_economic</th><th scope=col>logit_economic</th><th scope=col>classic_gal_tan</th><th scope=col>ratio_gal_tan</th><th scope=col>logit_gal_tan</th><th scope=col>classic_economic_gal_tan</th><th scope=col>ratio_economic_gal_tan</th><th scope=col>logit_economic_gal_tan</th><th scope=col>gal_tan_controllo</th></tr>\n",
       "\t<tr><th scope=col>&lt;dbl&gt;</th><th scope=col>&lt;dbl&gt;</th><th scope=col>&lt;dbl&gt;</th><th scope=col>&lt;dbl&gt;</th><th scope=col>&lt;dbl&gt;</th><th scope=col>&lt;dbl&gt;</th><th scope=col>&lt;dbl&gt;</th><th scope=col>&lt;dbl&gt;</th><th scope=col>&lt;dbl&gt;</th><th scope=col>&lt;dbl&gt;</th><th scope=col>&lt;dbl&gt;</th><th scope=col>&lt;dbl&gt;</th><th scope=col>&lt;dbl&gt;</th></tr>\n",
       "</thead>\n",
       "<tbody>\n",
       "\t<tr><td>0.09363047</td><td>0.09363047</td><td>0.09363047</td><td>0.09363047</td><td>0.09900068</td><td>0.09363047</td><td>0.09363047</td><td>0.20596</td><td>0.09363047</td><td>0.09363047</td><td>0.1828721</td><td>0.09363047</td><td>0.09363047</td></tr>\n",
       "</tbody>\n",
       "</table>\n"
      ],
      "text/latex": [
       "A tibble: 1 × 13\n",
       "\\begin{tabular}{lllllllllllll}\n",
       " left\\_right & ratio\\_leftright & logit\\_left\\_right & classic\\_economic & ratio\\_economic & logit\\_economic & classic\\_gal\\_tan & ratio\\_gal\\_tan & logit\\_gal\\_tan & classic\\_economic\\_gal\\_tan & ratio\\_economic\\_gal\\_tan & logit\\_economic\\_gal\\_tan & gal\\_tan\\_controllo\\\\\n",
       " <dbl> & <dbl> & <dbl> & <dbl> & <dbl> & <dbl> & <dbl> & <dbl> & <dbl> & <dbl> & <dbl> & <dbl> & <dbl>\\\\\n",
       "\\hline\n",
       "\t 0.09363047 & 0.09363047 & 0.09363047 & 0.09363047 & 0.09900068 & 0.09363047 & 0.09363047 & 0.20596 & 0.09363047 & 0.09363047 & 0.1828721 & 0.09363047 & 0.09363047\\\\\n",
       "\\end{tabular}\n"
      ],
      "text/markdown": [
       "\n",
       "A tibble: 1 × 13\n",
       "\n",
       "| left_right &lt;dbl&gt; | ratio_leftright &lt;dbl&gt; | logit_left_right &lt;dbl&gt; | classic_economic &lt;dbl&gt; | ratio_economic &lt;dbl&gt; | logit_economic &lt;dbl&gt; | classic_gal_tan &lt;dbl&gt; | ratio_gal_tan &lt;dbl&gt; | logit_gal_tan &lt;dbl&gt; | classic_economic_gal_tan &lt;dbl&gt; | ratio_economic_gal_tan &lt;dbl&gt; | logit_economic_gal_tan &lt;dbl&gt; | gal_tan_controllo &lt;dbl&gt; |\n",
       "|---|---|---|---|---|---|---|---|---|---|---|---|---|\n",
       "| 0.09363047 | 0.09363047 | 0.09363047 | 0.09363047 | 0.09900068 | 0.09363047 | 0.09363047 | 0.20596 | 0.09363047 | 0.09363047 | 0.1828721 | 0.09363047 | 0.09363047 |\n",
       "\n"
      ],
      "text/plain": [
       "  left_right ratio_leftright logit_left_right classic_economic ratio_economic\n",
       "1 0.09363047 0.09363047      0.09363047       0.09363047       0.09900068    \n",
       "  logit_economic classic_gal_tan ratio_gal_tan logit_gal_tan\n",
       "1 0.09363047     0.09363047      0.20596       0.09363047   \n",
       "  classic_economic_gal_tan ratio_economic_gal_tan logit_economic_gal_tan\n",
       "1 0.09363047               0.1828721              0.09363047            \n",
       "  gal_tan_controllo\n",
       "1 0.09363047       "
      ]
     },
     "metadata": {},
     "output_type": "display_data"
    },
    {
     "data": {
      "text/html": [
       "<table class=\"dataframe\">\n",
       "<caption>A tibble: 1 × 13</caption>\n",
       "<thead>\n",
       "\t<tr><th scope=col>left_right</th><th scope=col>ratio_leftright</th><th scope=col>logit_left_right</th><th scope=col>classic_economic</th><th scope=col>ratio_economic</th><th scope=col>logit_economic</th><th scope=col>classic_gal_tan</th><th scope=col>ratio_gal_tan</th><th scope=col>logit_gal_tan</th><th scope=col>classic_economic_gal_tan</th><th scope=col>ratio_economic_gal_tan</th><th scope=col>logit_economic_gal_tan</th><th scope=col>gal_tan_controllo</th></tr>\n",
       "\t<tr><th scope=col>&lt;dbl&gt;</th><th scope=col>&lt;dbl&gt;</th><th scope=col>&lt;dbl&gt;</th><th scope=col>&lt;dbl&gt;</th><th scope=col>&lt;dbl&gt;</th><th scope=col>&lt;dbl&gt;</th><th scope=col>&lt;dbl&gt;</th><th scope=col>&lt;dbl&gt;</th><th scope=col>&lt;dbl&gt;</th><th scope=col>&lt;dbl&gt;</th><th scope=col>&lt;dbl&gt;</th><th scope=col>&lt;dbl&gt;</th><th scope=col>&lt;dbl&gt;</th></tr>\n",
       "</thead>\n",
       "<tbody>\n",
       "\t<tr><td>0.09363047</td><td>0.09363047</td><td>0.09363047</td><td>0.09363047</td><td>0.09900068</td><td>0.09363047</td><td>0.09363047</td><td>0.20596</td><td>0.09363047</td><td>0.09363047</td><td>0.1828721</td><td>0.09363047</td><td>0.09363047</td></tr>\n",
       "</tbody>\n",
       "</table>\n"
      ],
      "text/latex": [
       "A tibble: 1 × 13\n",
       "\\begin{tabular}{lllllllllllll}\n",
       " left\\_right & ratio\\_leftright & logit\\_left\\_right & classic\\_economic & ratio\\_economic & logit\\_economic & classic\\_gal\\_tan & ratio\\_gal\\_tan & logit\\_gal\\_tan & classic\\_economic\\_gal\\_tan & ratio\\_economic\\_gal\\_tan & logit\\_economic\\_gal\\_tan & gal\\_tan\\_controllo\\\\\n",
       " <dbl> & <dbl> & <dbl> & <dbl> & <dbl> & <dbl> & <dbl> & <dbl> & <dbl> & <dbl> & <dbl> & <dbl> & <dbl>\\\\\n",
       "\\hline\n",
       "\t 0.09363047 & 0.09363047 & 0.09363047 & 0.09363047 & 0.09900068 & 0.09363047 & 0.09363047 & 0.20596 & 0.09363047 & 0.09363047 & 0.1828721 & 0.09363047 & 0.09363047\\\\\n",
       "\\end{tabular}\n"
      ],
      "text/markdown": [
       "\n",
       "A tibble: 1 × 13\n",
       "\n",
       "| left_right &lt;dbl&gt; | ratio_leftright &lt;dbl&gt; | logit_left_right &lt;dbl&gt; | classic_economic &lt;dbl&gt; | ratio_economic &lt;dbl&gt; | logit_economic &lt;dbl&gt; | classic_gal_tan &lt;dbl&gt; | ratio_gal_tan &lt;dbl&gt; | logit_gal_tan &lt;dbl&gt; | classic_economic_gal_tan &lt;dbl&gt; | ratio_economic_gal_tan &lt;dbl&gt; | logit_economic_gal_tan &lt;dbl&gt; | gal_tan_controllo &lt;dbl&gt; |\n",
       "|---|---|---|---|---|---|---|---|---|---|---|---|---|\n",
       "| 0.09363047 | 0.09363047 | 0.09363047 | 0.09363047 | 0.09900068 | 0.09363047 | 0.09363047 | 0.20596 | 0.09363047 | 0.09363047 | 0.1828721 | 0.09363047 | 0.09363047 |\n",
       "\n"
      ],
      "text/plain": [
       "  left_right ratio_leftright logit_left_right classic_economic ratio_economic\n",
       "1 0.09363047 0.09363047      0.09363047       0.09363047       0.09900068    \n",
       "  logit_economic classic_gal_tan ratio_gal_tan logit_gal_tan\n",
       "1 0.09363047     0.09363047      0.20596       0.09363047   \n",
       "  classic_economic_gal_tan ratio_economic_gal_tan logit_economic_gal_tan\n",
       "1 0.09363047               0.1828721              0.09363047            \n",
       "  gal_tan_controllo\n",
       "1 0.09363047       "
      ]
     },
     "metadata": {},
     "output_type": "display_data"
    }
   ],
   "source": [
    "map_dfr(texts, ~ sum(is.na(.)) / length(.)) %>% \n",
    "select(left_right, ratio_leftright, logit_left_right, classic_economic, ratio_economic, logit_economic, classic_gal_tan,\n",
    "      ratio_gal_tan, logit_gal_tan, classic_economic_gal_tan, ratio_economic_gal_tan, logit_economic_gal_tan, gal_tan_controllo)"
   ]
  },
  {
   "cell_type": "markdown",
   "id": "dd005a55",
   "metadata": {},
   "source": [
    "Saving the joined and transformed dataset as an .rds file"
   ]
  },
  {
   "cell_type": "code",
   "execution_count": 32,
   "id": "07902310",
   "metadata": {},
   "outputs": [],
   "source": [
    "saveRDS(texts, file = \"data/joined_texts.rds\")"
   ]
  }
 ],
 "metadata": {
  "kernelspec": {
   "display_name": "R",
   "language": "R",
   "name": "ir"
  },
  "language_info": {
   "codemirror_mode": "r",
   "file_extension": ".r",
   "mimetype": "text/x-r-source",
   "name": "R",
   "pygments_lexer": "r",
   "version": "4.1.0"
  },
  "toc": {
   "base_numbering": 1,
   "nav_menu": {},
   "number_sections": true,
   "sideBar": true,
   "skip_h1_title": false,
   "title_cell": "Table of Contents",
   "title_sidebar": "Contents",
   "toc_cell": false,
   "toc_position": {
    "height": "calc(100% - 180px)",
    "left": "10px",
    "top": "150px",
    "width": "303.837px"
   },
   "toc_section_display": true,
   "toc_window_display": true
  }
 },
 "nbformat": 4,
 "nbformat_minor": 5
}
