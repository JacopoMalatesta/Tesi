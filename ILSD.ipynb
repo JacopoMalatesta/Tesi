{
 "cells": [
  {
   "cell_type": "markdown",
   "id": "cfab4ad8",
   "metadata": {},
   "source": [
    "# Libraries"
   ]
  },
  {
   "cell_type": "code",
   "execution_count": 1,
   "id": "516839c4",
   "metadata": {},
   "outputs": [],
   "source": [
    "suppressWarnings(suppressPackageStartupMessages(library(tidyverse)))\n",
    "suppressWarnings(suppressPackageStartupMessages(library(haven)))\n",
    "suppressWarnings(suppressPackageStartupMessages(library(bbplot)))"
   ]
  },
  {
   "cell_type": "markdown",
   "id": "00f8222f",
   "metadata": {},
   "source": [
    "# Creating new scales in the ILSD dataset"
   ]
  },
  {
   "cell_type": "markdown",
   "id": "36a3146b",
   "metadata": {},
   "source": [
    "Load the ILSD dataset"
   ]
  },
  {
   "cell_type": "code",
   "execution_count": 2,
   "id": "e43d2166",
   "metadata": {},
   "outputs": [],
   "source": [
    "ilsd <- read_dta(\"data/ilsd jun2018 (con scale).dta\")"
   ]
  },
  {
   "cell_type": "markdown",
   "id": "0f2ffb72",
   "metadata": {},
   "source": [
    "Let's create:\n",
    "- the logit left right scale\n",
    "- the \"classic\" economic scale\n",
    "- the economic ratio\n",
    "- the logit economic scale\n",
    "- the \"classic\" gal/tan scale\n",
    "- the gal/tan ratio\n",
    "- the logit gal/tan scale\n",
    "- the \"classic\" economic gal/tan\n",
    "- the economic gal/tan ratio\n",
    "- the logit economic gal/tan scale\n",
    "- a dummy equal to zero when all variables used to create the gal/tan variables are equal to zero"
   ]
  },
  {
   "cell_type": "code",
   "execution_count": 3,
   "id": "2f382778",
   "metadata": {},
   "outputs": [],
   "source": [
    "ilsd <- ilsd %>% \n",
    "mutate(right = per101 + per104 + per110 + per107 + per401 + per402 + per406 + per410 + per414 + per416 + per601 + per603 + per605 + per609 + per608 + per202,\n",
    "       left = per102 + per103 + per105 + per106 + per108 + per109 + per403 + per404 + per405 + per408 + per409 + per411 + per412 + per413 + per415 + per417 + per602 + per604 + per606 + per607 + per610 + per611 + per201,\n",
    "       logit_left_right = log(right + .5) - log(left + .5),\n",
    "       economic_right = per401 + per402 + per406 + per410 + per414 + per416,\n",
    "       economic_left = per403 + per404 + per405 + per407 + per408 + per409 + per411 + per412 + per413 + per415 + per417,\n",
    "       classic_economic = economic_right - economic_left,\n",
    "       ratio_economic = classic_economic / (economic_right + economic_left),\n",
    "       logit_economic = log(economic_right + .5) - log(economic_left + .5),\n",
    "       classic_gal_tan = ((per108 + per608) - (per107 + per607)),\n",
    "       ratio_gal_tan = classic_gal_tan / (per107 + per108 + per607 + per608),\n",
    "       logit_gal_tan = log((per108 + per608) + .5) - log((per107 + per607) + .5),\n",
    "       economic_gal_tan_left = per107 + per405 + per607,\n",
    "       economic_gal_tan_right = per108 + per406 + per608,\n",
    "       classic_economic_gal_tan = (economic_gal_tan_right - economic_gal_tan_left),\n",
    "       ratio_economic_gal_tan = classic_economic_gal_tan / (economic_gal_tan_left + economic_gal_tan_right),\n",
    "       logit_economic_gal_tan = log(economic_gal_tan_right + .5) - log(economic_gal_tan_left + .5),\n",
    "       gal_tan_controllo = if_else((per107 == 0 & per108 == 0 & per405 == 0 & per406 == 0 & per607 == 0 & per608 == 0), 1, 0))"
   ]
  },
  {
   "cell_type": "markdown",
   "id": "2c41bcba",
   "metadata": {},
   "source": [
    "The speeches with a null value in the ratio_gal_tan variable have a score equal to zero for all variables used to calculate it (i.e. per107, per108, per607, per608)"
   ]
  },
  {
   "cell_type": "code",
   "execution_count": 4,
   "id": "51c85806",
   "metadata": {},
   "outputs": [
    {
     "data": {
      "text/html": [
       "<table class=\"dataframe\">\n",
       "<caption>A tibble: 173 × 7</caption>\n",
       "<thead>\n",
       "\t<tr><th scope=col>per107</th><th scope=col>per108</th><th scope=col>per607</th><th scope=col>per608</th><th scope=col>classic_gal_tan</th><th scope=col>ratio_gal_tan</th><th scope=col>logit_gal_tan</th></tr>\n",
       "\t<tr><th scope=col>&lt;dbl&gt;</th><th scope=col>&lt;dbl&gt;</th><th scope=col>&lt;dbl&gt;</th><th scope=col>&lt;dbl&gt;</th><th scope=col>&lt;dbl&gt;</th><th scope=col>&lt;dbl&gt;</th><th scope=col>&lt;dbl&gt;</th></tr>\n",
       "</thead>\n",
       "<tbody>\n",
       "\t<tr><td>0</td><td>0</td><td>0</td><td>0</td><td>0</td><td>NaN</td><td>0</td></tr>\n",
       "\t<tr><td>0</td><td>0</td><td>0</td><td>0</td><td>0</td><td>NaN</td><td>0</td></tr>\n",
       "\t<tr><td>0</td><td>0</td><td>0</td><td>0</td><td>0</td><td>NaN</td><td>0</td></tr>\n",
       "\t<tr><td>0</td><td>0</td><td>0</td><td>0</td><td>0</td><td>NaN</td><td>0</td></tr>\n",
       "\t<tr><td>0</td><td>0</td><td>0</td><td>0</td><td>0</td><td>NaN</td><td>0</td></tr>\n",
       "\t<tr><td>0</td><td>0</td><td>0</td><td>0</td><td>0</td><td>NaN</td><td>0</td></tr>\n",
       "\t<tr><td>0</td><td>0</td><td>0</td><td>0</td><td>0</td><td>NaN</td><td>0</td></tr>\n",
       "\t<tr><td>0</td><td>0</td><td>0</td><td>0</td><td>0</td><td>NaN</td><td>0</td></tr>\n",
       "\t<tr><td>0</td><td>0</td><td>0</td><td>0</td><td>0</td><td>NaN</td><td>0</td></tr>\n",
       "\t<tr><td>0</td><td>0</td><td>0</td><td>0</td><td>0</td><td>NaN</td><td>0</td></tr>\n",
       "\t<tr><td>0</td><td>0</td><td>0</td><td>0</td><td>0</td><td>NaN</td><td>0</td></tr>\n",
       "\t<tr><td>0</td><td>0</td><td>0</td><td>0</td><td>0</td><td>NaN</td><td>0</td></tr>\n",
       "\t<tr><td>0</td><td>0</td><td>0</td><td>0</td><td>0</td><td>NaN</td><td>0</td></tr>\n",
       "\t<tr><td>0</td><td>0</td><td>0</td><td>0</td><td>0</td><td>NaN</td><td>0</td></tr>\n",
       "\t<tr><td>0</td><td>0</td><td>0</td><td>0</td><td>0</td><td>NaN</td><td>0</td></tr>\n",
       "\t<tr><td>0</td><td>0</td><td>0</td><td>0</td><td>0</td><td>NaN</td><td>0</td></tr>\n",
       "\t<tr><td>0</td><td>0</td><td>0</td><td>0</td><td>0</td><td>NaN</td><td>0</td></tr>\n",
       "\t<tr><td>0</td><td>0</td><td>0</td><td>0</td><td>0</td><td>NaN</td><td>0</td></tr>\n",
       "\t<tr><td>0</td><td>0</td><td>0</td><td>0</td><td>0</td><td>NaN</td><td>0</td></tr>\n",
       "\t<tr><td>0</td><td>0</td><td>0</td><td>0</td><td>0</td><td>NaN</td><td>0</td></tr>\n",
       "\t<tr><td>0</td><td>0</td><td>0</td><td>0</td><td>0</td><td>NaN</td><td>0</td></tr>\n",
       "\t<tr><td>0</td><td>0</td><td>0</td><td>0</td><td>0</td><td>NaN</td><td>0</td></tr>\n",
       "\t<tr><td>0</td><td>0</td><td>0</td><td>0</td><td>0</td><td>NaN</td><td>0</td></tr>\n",
       "\t<tr><td>0</td><td>0</td><td>0</td><td>0</td><td>0</td><td>NaN</td><td>0</td></tr>\n",
       "\t<tr><td>0</td><td>0</td><td>0</td><td>0</td><td>0</td><td>NaN</td><td>0</td></tr>\n",
       "\t<tr><td>0</td><td>0</td><td>0</td><td>0</td><td>0</td><td>NaN</td><td>0</td></tr>\n",
       "\t<tr><td>0</td><td>0</td><td>0</td><td>0</td><td>0</td><td>NaN</td><td>0</td></tr>\n",
       "\t<tr><td>0</td><td>0</td><td>0</td><td>0</td><td>0</td><td>NaN</td><td>0</td></tr>\n",
       "\t<tr><td>0</td><td>0</td><td>0</td><td>0</td><td>0</td><td>NaN</td><td>0</td></tr>\n",
       "\t<tr><td>0</td><td>0</td><td>0</td><td>0</td><td>0</td><td>NaN</td><td>0</td></tr>\n",
       "\t<tr><td>⋮</td><td>⋮</td><td>⋮</td><td>⋮</td><td>⋮</td><td>⋮</td><td>⋮</td></tr>\n",
       "\t<tr><td>0</td><td>0</td><td>0</td><td>0</td><td>0</td><td>NaN</td><td>0</td></tr>\n",
       "\t<tr><td>0</td><td>0</td><td>0</td><td>0</td><td>0</td><td>NaN</td><td>0</td></tr>\n",
       "\t<tr><td>0</td><td>0</td><td>0</td><td>0</td><td>0</td><td>NaN</td><td>0</td></tr>\n",
       "\t<tr><td>0</td><td>0</td><td>0</td><td>0</td><td>0</td><td>NaN</td><td>0</td></tr>\n",
       "\t<tr><td>0</td><td>0</td><td>0</td><td>0</td><td>0</td><td>NaN</td><td>0</td></tr>\n",
       "\t<tr><td>0</td><td>0</td><td>0</td><td>0</td><td>0</td><td>NaN</td><td>0</td></tr>\n",
       "\t<tr><td>0</td><td>0</td><td>0</td><td>0</td><td>0</td><td>NaN</td><td>0</td></tr>\n",
       "\t<tr><td>0</td><td>0</td><td>0</td><td>0</td><td>0</td><td>NaN</td><td>0</td></tr>\n",
       "\t<tr><td>0</td><td>0</td><td>0</td><td>0</td><td>0</td><td>NaN</td><td>0</td></tr>\n",
       "\t<tr><td>0</td><td>0</td><td>0</td><td>0</td><td>0</td><td>NaN</td><td>0</td></tr>\n",
       "\t<tr><td>0</td><td>0</td><td>0</td><td>0</td><td>0</td><td>NaN</td><td>0</td></tr>\n",
       "\t<tr><td>0</td><td>0</td><td>0</td><td>0</td><td>0</td><td>NaN</td><td>0</td></tr>\n",
       "\t<tr><td>0</td><td>0</td><td>0</td><td>0</td><td>0</td><td>NaN</td><td>0</td></tr>\n",
       "\t<tr><td>0</td><td>0</td><td>0</td><td>0</td><td>0</td><td>NaN</td><td>0</td></tr>\n",
       "\t<tr><td>0</td><td>0</td><td>0</td><td>0</td><td>0</td><td>NaN</td><td>0</td></tr>\n",
       "\t<tr><td>0</td><td>0</td><td>0</td><td>0</td><td>0</td><td>NaN</td><td>0</td></tr>\n",
       "\t<tr><td>0</td><td>0</td><td>0</td><td>0</td><td>0</td><td>NaN</td><td>0</td></tr>\n",
       "\t<tr><td>0</td><td>0</td><td>0</td><td>0</td><td>0</td><td>NaN</td><td>0</td></tr>\n",
       "\t<tr><td>0</td><td>0</td><td>0</td><td>0</td><td>0</td><td>NaN</td><td>0</td></tr>\n",
       "\t<tr><td>0</td><td>0</td><td>0</td><td>0</td><td>0</td><td>NaN</td><td>0</td></tr>\n",
       "\t<tr><td>0</td><td>0</td><td>0</td><td>0</td><td>0</td><td>NaN</td><td>0</td></tr>\n",
       "\t<tr><td>0</td><td>0</td><td>0</td><td>0</td><td>0</td><td>NaN</td><td>0</td></tr>\n",
       "\t<tr><td>0</td><td>0</td><td>0</td><td>0</td><td>0</td><td>NaN</td><td>0</td></tr>\n",
       "\t<tr><td>0</td><td>0</td><td>0</td><td>0</td><td>0</td><td>NaN</td><td>0</td></tr>\n",
       "\t<tr><td>0</td><td>0</td><td>0</td><td>0</td><td>0</td><td>NaN</td><td>0</td></tr>\n",
       "\t<tr><td>0</td><td>0</td><td>0</td><td>0</td><td>0</td><td>NaN</td><td>0</td></tr>\n",
       "\t<tr><td>0</td><td>0</td><td>0</td><td>0</td><td>0</td><td>NaN</td><td>0</td></tr>\n",
       "\t<tr><td>0</td><td>0</td><td>0</td><td>0</td><td>0</td><td>NaN</td><td>0</td></tr>\n",
       "\t<tr><td>0</td><td>0</td><td>0</td><td>0</td><td>0</td><td>NaN</td><td>0</td></tr>\n",
       "\t<tr><td>0</td><td>0</td><td>0</td><td>0</td><td>0</td><td>NaN</td><td>0</td></tr>\n",
       "</tbody>\n",
       "</table>\n"
      ],
      "text/latex": [
       "A tibble: 173 × 7\n",
       "\\begin{tabular}{lllllll}\n",
       " per107 & per108 & per607 & per608 & classic\\_gal\\_tan & ratio\\_gal\\_tan & logit\\_gal\\_tan\\\\\n",
       " <dbl> & <dbl> & <dbl> & <dbl> & <dbl> & <dbl> & <dbl>\\\\\n",
       "\\hline\n",
       "\t 0 & 0 & 0 & 0 & 0 & NaN & 0\\\\\n",
       "\t 0 & 0 & 0 & 0 & 0 & NaN & 0\\\\\n",
       "\t 0 & 0 & 0 & 0 & 0 & NaN & 0\\\\\n",
       "\t 0 & 0 & 0 & 0 & 0 & NaN & 0\\\\\n",
       "\t 0 & 0 & 0 & 0 & 0 & NaN & 0\\\\\n",
       "\t 0 & 0 & 0 & 0 & 0 & NaN & 0\\\\\n",
       "\t 0 & 0 & 0 & 0 & 0 & NaN & 0\\\\\n",
       "\t 0 & 0 & 0 & 0 & 0 & NaN & 0\\\\\n",
       "\t 0 & 0 & 0 & 0 & 0 & NaN & 0\\\\\n",
       "\t 0 & 0 & 0 & 0 & 0 & NaN & 0\\\\\n",
       "\t 0 & 0 & 0 & 0 & 0 & NaN & 0\\\\\n",
       "\t 0 & 0 & 0 & 0 & 0 & NaN & 0\\\\\n",
       "\t 0 & 0 & 0 & 0 & 0 & NaN & 0\\\\\n",
       "\t 0 & 0 & 0 & 0 & 0 & NaN & 0\\\\\n",
       "\t 0 & 0 & 0 & 0 & 0 & NaN & 0\\\\\n",
       "\t 0 & 0 & 0 & 0 & 0 & NaN & 0\\\\\n",
       "\t 0 & 0 & 0 & 0 & 0 & NaN & 0\\\\\n",
       "\t 0 & 0 & 0 & 0 & 0 & NaN & 0\\\\\n",
       "\t 0 & 0 & 0 & 0 & 0 & NaN & 0\\\\\n",
       "\t 0 & 0 & 0 & 0 & 0 & NaN & 0\\\\\n",
       "\t 0 & 0 & 0 & 0 & 0 & NaN & 0\\\\\n",
       "\t 0 & 0 & 0 & 0 & 0 & NaN & 0\\\\\n",
       "\t 0 & 0 & 0 & 0 & 0 & NaN & 0\\\\\n",
       "\t 0 & 0 & 0 & 0 & 0 & NaN & 0\\\\\n",
       "\t 0 & 0 & 0 & 0 & 0 & NaN & 0\\\\\n",
       "\t 0 & 0 & 0 & 0 & 0 & NaN & 0\\\\\n",
       "\t 0 & 0 & 0 & 0 & 0 & NaN & 0\\\\\n",
       "\t 0 & 0 & 0 & 0 & 0 & NaN & 0\\\\\n",
       "\t 0 & 0 & 0 & 0 & 0 & NaN & 0\\\\\n",
       "\t 0 & 0 & 0 & 0 & 0 & NaN & 0\\\\\n",
       "\t ⋮ & ⋮ & ⋮ & ⋮ & ⋮ & ⋮ & ⋮\\\\\n",
       "\t 0 & 0 & 0 & 0 & 0 & NaN & 0\\\\\n",
       "\t 0 & 0 & 0 & 0 & 0 & NaN & 0\\\\\n",
       "\t 0 & 0 & 0 & 0 & 0 & NaN & 0\\\\\n",
       "\t 0 & 0 & 0 & 0 & 0 & NaN & 0\\\\\n",
       "\t 0 & 0 & 0 & 0 & 0 & NaN & 0\\\\\n",
       "\t 0 & 0 & 0 & 0 & 0 & NaN & 0\\\\\n",
       "\t 0 & 0 & 0 & 0 & 0 & NaN & 0\\\\\n",
       "\t 0 & 0 & 0 & 0 & 0 & NaN & 0\\\\\n",
       "\t 0 & 0 & 0 & 0 & 0 & NaN & 0\\\\\n",
       "\t 0 & 0 & 0 & 0 & 0 & NaN & 0\\\\\n",
       "\t 0 & 0 & 0 & 0 & 0 & NaN & 0\\\\\n",
       "\t 0 & 0 & 0 & 0 & 0 & NaN & 0\\\\\n",
       "\t 0 & 0 & 0 & 0 & 0 & NaN & 0\\\\\n",
       "\t 0 & 0 & 0 & 0 & 0 & NaN & 0\\\\\n",
       "\t 0 & 0 & 0 & 0 & 0 & NaN & 0\\\\\n",
       "\t 0 & 0 & 0 & 0 & 0 & NaN & 0\\\\\n",
       "\t 0 & 0 & 0 & 0 & 0 & NaN & 0\\\\\n",
       "\t 0 & 0 & 0 & 0 & 0 & NaN & 0\\\\\n",
       "\t 0 & 0 & 0 & 0 & 0 & NaN & 0\\\\\n",
       "\t 0 & 0 & 0 & 0 & 0 & NaN & 0\\\\\n",
       "\t 0 & 0 & 0 & 0 & 0 & NaN & 0\\\\\n",
       "\t 0 & 0 & 0 & 0 & 0 & NaN & 0\\\\\n",
       "\t 0 & 0 & 0 & 0 & 0 & NaN & 0\\\\\n",
       "\t 0 & 0 & 0 & 0 & 0 & NaN & 0\\\\\n",
       "\t 0 & 0 & 0 & 0 & 0 & NaN & 0\\\\\n",
       "\t 0 & 0 & 0 & 0 & 0 & NaN & 0\\\\\n",
       "\t 0 & 0 & 0 & 0 & 0 & NaN & 0\\\\\n",
       "\t 0 & 0 & 0 & 0 & 0 & NaN & 0\\\\\n",
       "\t 0 & 0 & 0 & 0 & 0 & NaN & 0\\\\\n",
       "\t 0 & 0 & 0 & 0 & 0 & NaN & 0\\\\\n",
       "\\end{tabular}\n"
      ],
      "text/markdown": [
       "\n",
       "A tibble: 173 × 7\n",
       "\n",
       "| per107 &lt;dbl&gt; | per108 &lt;dbl&gt; | per607 &lt;dbl&gt; | per608 &lt;dbl&gt; | classic_gal_tan &lt;dbl&gt; | ratio_gal_tan &lt;dbl&gt; | logit_gal_tan &lt;dbl&gt; |\n",
       "|---|---|---|---|---|---|---|\n",
       "| 0 | 0 | 0 | 0 | 0 | NaN | 0 |\n",
       "| 0 | 0 | 0 | 0 | 0 | NaN | 0 |\n",
       "| 0 | 0 | 0 | 0 | 0 | NaN | 0 |\n",
       "| 0 | 0 | 0 | 0 | 0 | NaN | 0 |\n",
       "| 0 | 0 | 0 | 0 | 0 | NaN | 0 |\n",
       "| 0 | 0 | 0 | 0 | 0 | NaN | 0 |\n",
       "| 0 | 0 | 0 | 0 | 0 | NaN | 0 |\n",
       "| 0 | 0 | 0 | 0 | 0 | NaN | 0 |\n",
       "| 0 | 0 | 0 | 0 | 0 | NaN | 0 |\n",
       "| 0 | 0 | 0 | 0 | 0 | NaN | 0 |\n",
       "| 0 | 0 | 0 | 0 | 0 | NaN | 0 |\n",
       "| 0 | 0 | 0 | 0 | 0 | NaN | 0 |\n",
       "| 0 | 0 | 0 | 0 | 0 | NaN | 0 |\n",
       "| 0 | 0 | 0 | 0 | 0 | NaN | 0 |\n",
       "| 0 | 0 | 0 | 0 | 0 | NaN | 0 |\n",
       "| 0 | 0 | 0 | 0 | 0 | NaN | 0 |\n",
       "| 0 | 0 | 0 | 0 | 0 | NaN | 0 |\n",
       "| 0 | 0 | 0 | 0 | 0 | NaN | 0 |\n",
       "| 0 | 0 | 0 | 0 | 0 | NaN | 0 |\n",
       "| 0 | 0 | 0 | 0 | 0 | NaN | 0 |\n",
       "| 0 | 0 | 0 | 0 | 0 | NaN | 0 |\n",
       "| 0 | 0 | 0 | 0 | 0 | NaN | 0 |\n",
       "| 0 | 0 | 0 | 0 | 0 | NaN | 0 |\n",
       "| 0 | 0 | 0 | 0 | 0 | NaN | 0 |\n",
       "| 0 | 0 | 0 | 0 | 0 | NaN | 0 |\n",
       "| 0 | 0 | 0 | 0 | 0 | NaN | 0 |\n",
       "| 0 | 0 | 0 | 0 | 0 | NaN | 0 |\n",
       "| 0 | 0 | 0 | 0 | 0 | NaN | 0 |\n",
       "| 0 | 0 | 0 | 0 | 0 | NaN | 0 |\n",
       "| 0 | 0 | 0 | 0 | 0 | NaN | 0 |\n",
       "| ⋮ | ⋮ | ⋮ | ⋮ | ⋮ | ⋮ | ⋮ |\n",
       "| 0 | 0 | 0 | 0 | 0 | NaN | 0 |\n",
       "| 0 | 0 | 0 | 0 | 0 | NaN | 0 |\n",
       "| 0 | 0 | 0 | 0 | 0 | NaN | 0 |\n",
       "| 0 | 0 | 0 | 0 | 0 | NaN | 0 |\n",
       "| 0 | 0 | 0 | 0 | 0 | NaN | 0 |\n",
       "| 0 | 0 | 0 | 0 | 0 | NaN | 0 |\n",
       "| 0 | 0 | 0 | 0 | 0 | NaN | 0 |\n",
       "| 0 | 0 | 0 | 0 | 0 | NaN | 0 |\n",
       "| 0 | 0 | 0 | 0 | 0 | NaN | 0 |\n",
       "| 0 | 0 | 0 | 0 | 0 | NaN | 0 |\n",
       "| 0 | 0 | 0 | 0 | 0 | NaN | 0 |\n",
       "| 0 | 0 | 0 | 0 | 0 | NaN | 0 |\n",
       "| 0 | 0 | 0 | 0 | 0 | NaN | 0 |\n",
       "| 0 | 0 | 0 | 0 | 0 | NaN | 0 |\n",
       "| 0 | 0 | 0 | 0 | 0 | NaN | 0 |\n",
       "| 0 | 0 | 0 | 0 | 0 | NaN | 0 |\n",
       "| 0 | 0 | 0 | 0 | 0 | NaN | 0 |\n",
       "| 0 | 0 | 0 | 0 | 0 | NaN | 0 |\n",
       "| 0 | 0 | 0 | 0 | 0 | NaN | 0 |\n",
       "| 0 | 0 | 0 | 0 | 0 | NaN | 0 |\n",
       "| 0 | 0 | 0 | 0 | 0 | NaN | 0 |\n",
       "| 0 | 0 | 0 | 0 | 0 | NaN | 0 |\n",
       "| 0 | 0 | 0 | 0 | 0 | NaN | 0 |\n",
       "| 0 | 0 | 0 | 0 | 0 | NaN | 0 |\n",
       "| 0 | 0 | 0 | 0 | 0 | NaN | 0 |\n",
       "| 0 | 0 | 0 | 0 | 0 | NaN | 0 |\n",
       "| 0 | 0 | 0 | 0 | 0 | NaN | 0 |\n",
       "| 0 | 0 | 0 | 0 | 0 | NaN | 0 |\n",
       "| 0 | 0 | 0 | 0 | 0 | NaN | 0 |\n",
       "| 0 | 0 | 0 | 0 | 0 | NaN | 0 |\n",
       "\n"
      ],
      "text/plain": [
       "    per107 per108 per607 per608 classic_gal_tan ratio_gal_tan logit_gal_tan\n",
       "1   0      0      0      0      0               NaN           0            \n",
       "2   0      0      0      0      0               NaN           0            \n",
       "3   0      0      0      0      0               NaN           0            \n",
       "4   0      0      0      0      0               NaN           0            \n",
       "5   0      0      0      0      0               NaN           0            \n",
       "6   0      0      0      0      0               NaN           0            \n",
       "7   0      0      0      0      0               NaN           0            \n",
       "8   0      0      0      0      0               NaN           0            \n",
       "9   0      0      0      0      0               NaN           0            \n",
       "10  0      0      0      0      0               NaN           0            \n",
       "11  0      0      0      0      0               NaN           0            \n",
       "12  0      0      0      0      0               NaN           0            \n",
       "13  0      0      0      0      0               NaN           0            \n",
       "14  0      0      0      0      0               NaN           0            \n",
       "15  0      0      0      0      0               NaN           0            \n",
       "16  0      0      0      0      0               NaN           0            \n",
       "17  0      0      0      0      0               NaN           0            \n",
       "18  0      0      0      0      0               NaN           0            \n",
       "19  0      0      0      0      0               NaN           0            \n",
       "20  0      0      0      0      0               NaN           0            \n",
       "21  0      0      0      0      0               NaN           0            \n",
       "22  0      0      0      0      0               NaN           0            \n",
       "23  0      0      0      0      0               NaN           0            \n",
       "24  0      0      0      0      0               NaN           0            \n",
       "25  0      0      0      0      0               NaN           0            \n",
       "26  0      0      0      0      0               NaN           0            \n",
       "27  0      0      0      0      0               NaN           0            \n",
       "28  0      0      0      0      0               NaN           0            \n",
       "29  0      0      0      0      0               NaN           0            \n",
       "30  0      0      0      0      0               NaN           0            \n",
       "<U+22EE>   <U+22EE> <U+22EE> <U+22EE> <U+22EE> <U+22EE>        <U+22EE>      <U+22EE>     \n",
       "144 0      0      0      0      0               NaN           0            \n",
       "145 0      0      0      0      0               NaN           0            \n",
       "146 0      0      0      0      0               NaN           0            \n",
       "147 0      0      0      0      0               NaN           0            \n",
       "148 0      0      0      0      0               NaN           0            \n",
       "149 0      0      0      0      0               NaN           0            \n",
       "150 0      0      0      0      0               NaN           0            \n",
       "151 0      0      0      0      0               NaN           0            \n",
       "152 0      0      0      0      0               NaN           0            \n",
       "153 0      0      0      0      0               NaN           0            \n",
       "154 0      0      0      0      0               NaN           0            \n",
       "155 0      0      0      0      0               NaN           0            \n",
       "156 0      0      0      0      0               NaN           0            \n",
       "157 0      0      0      0      0               NaN           0            \n",
       "158 0      0      0      0      0               NaN           0            \n",
       "159 0      0      0      0      0               NaN           0            \n",
       "160 0      0      0      0      0               NaN           0            \n",
       "161 0      0      0      0      0               NaN           0            \n",
       "162 0      0      0      0      0               NaN           0            \n",
       "163 0      0      0      0      0               NaN           0            \n",
       "164 0      0      0      0      0               NaN           0            \n",
       "165 0      0      0      0      0               NaN           0            \n",
       "166 0      0      0      0      0               NaN           0            \n",
       "167 0      0      0      0      0               NaN           0            \n",
       "168 0      0      0      0      0               NaN           0            \n",
       "169 0      0      0      0      0               NaN           0            \n",
       "170 0      0      0      0      0               NaN           0            \n",
       "171 0      0      0      0      0               NaN           0            \n",
       "172 0      0      0      0      0               NaN           0            \n",
       "173 0      0      0      0      0               NaN           0            "
      ]
     },
     "metadata": {},
     "output_type": "display_data"
    }
   ],
   "source": [
    "ilsd %>% \n",
    "filter(is.na(ratio_gal_tan)) %>% \n",
    "select(per107, per108, per607, per608, classic_gal_tan, ratio_gal_tan, logit_gal_tan)"
   ]
  },
  {
   "cell_type": "markdown",
   "id": "97234f2b",
   "metadata": {},
   "source": [
    "By adding dimension 405 and dimension 406 to the computation of the GAL-TAN scale the number of NAs in the \"ratio\" version of the scale went down from 173 to 159"
   ]
  },
  {
   "cell_type": "code",
   "execution_count": 5,
   "id": "98093cec",
   "metadata": {},
   "outputs": [
    {
     "data": {
      "text/html": [
       "173"
      ],
      "text/latex": [
       "173"
      ],
      "text/markdown": [
       "173"
      ],
      "text/plain": [
       "[1] 173"
      ]
     },
     "metadata": {},
     "output_type": "display_data"
    }
   ],
   "source": [
    "sum(is.na(ilsd$ratio_gal_tan))"
   ]
  },
  {
   "cell_type": "code",
   "execution_count": 6,
   "id": "eda7411b",
   "metadata": {},
   "outputs": [
    {
     "data": {
      "text/html": [
       "159"
      ],
      "text/latex": [
       "159"
      ],
      "text/markdown": [
       "159"
      ],
      "text/plain": [
       "[1] 159"
      ]
     },
     "metadata": {},
     "output_type": "display_data"
    }
   ],
   "source": [
    "sum(is.na(ilsd$ratio_economic_gal_tan))"
   ]
  },
  {
   "cell_type": "markdown",
   "id": "90202f0d",
   "metadata": {},
   "source": [
    "## Distributions of the newly created scales"
   ]
  },
  {
   "cell_type": "markdown",
   "id": "94639766",
   "metadata": {},
   "source": [
    "### Logit left-right scale"
   ]
  },
  {
   "cell_type": "code",
   "execution_count": 7,
   "id": "0a0643db",
   "metadata": {},
   "outputs": [
    {
     "name": "stderr",
     "output_type": "stream",
     "text": [
      "`stat_bin()` using `bins = 30`. Pick better value with `binwidth`.\n",
      "\n",
      "Warning message in grid.Call(C_stringMetric, as.graphicsAnnot(x$label)):\n",
      "\"font family not found in Windows font database\"\n",
      "Warning message in grid.Call(C_stringMetric, as.graphicsAnnot(x$label)):\n",
      "\"font family not found in Windows font database\"\n",
      "Warning message in grid.Call(C_textBounds, as.graphicsAnnot(x$label), x$x, x$y, :\n",
      "\"font family not found in Windows font database\"\n",
      "Warning message in grid.Call(C_textBounds, as.graphicsAnnot(x$label), x$x, x$y, :\n",
      "\"font family not found in Windows font database\"\n",
      "Warning message in grid.Call(C_textBounds, as.graphicsAnnot(x$label), x$x, x$y, :\n",
      "\"font family not found in Windows font database\"\n",
      "Warning message in grid.Call(C_textBounds, as.graphicsAnnot(x$label), x$x, x$y, :\n",
      "\"font family not found in Windows font database\"\n",
      "Warning message in grid.Call(C_textBounds, as.graphicsAnnot(x$label), x$x, x$y, :\n",
      "\"font family not found in Windows font database\"\n",
      "Warning message in grid.Call(C_textBounds, as.graphicsAnnot(x$label), x$x, x$y, :\n",
      "\"font family not found in Windows font database\"\n"
     ]
    },
    {
     "data": {
      "image/png": "[encoded data removed]",
      "text/plain": [
       "plot without title"
      ]
     },
     "metadata": {
      "image/png": {
       "height": 420,
       "width": 420
      }
     },
     "output_type": "display_data"
    }
   ],
   "source": [
    "ilsd %>% \n",
    "ggplot(aes(logit_left_right)) +\n",
    "geom_histogram(fill = \"dark blue\") +\n",
    "bbc_style() +\n",
    "labs(title = \"Frequency distribution for the logit left-right scale\") +\n",
    "theme(plot.title = element_text(size = 20))"
   ]
  },
  {
   "cell_type": "code",
   "execution_count": 8,
   "id": "70d51772",
   "metadata": {},
   "outputs": [
    {
     "name": "stderr",
     "output_type": "stream",
     "text": [
      "Warning message in grid.Call(C_stringMetric, as.graphicsAnnot(x$label)):\n",
      "\"font family not found in Windows font database\"\n",
      "Warning message in grid.Call(C_stringMetric, as.graphicsAnnot(x$label)):\n",
      "\"font family not found in Windows font database\"\n",
      "Warning message in grid.Call(C_textBounds, as.graphicsAnnot(x$label), x$x, x$y, :\n",
      "\"font family not found in Windows font database\"\n",
      "Warning message in grid.Call(C_textBounds, as.graphicsAnnot(x$label), x$x, x$y, :\n",
      "\"font family not found in Windows font database\"\n",
      "Warning message in grid.Call(C_textBounds, as.graphicsAnnot(x$label), x$x, x$y, :\n",
      "\"font family not found in Windows font database\"\n",
      "Warning message in grid.Call(C_textBounds, as.graphicsAnnot(x$label), x$x, x$y, :\n",
      "\"font family not found in Windows font database\"\n",
      "Warning message in grid.Call(C_textBounds, as.graphicsAnnot(x$label), x$x, x$y, :\n",
      "\"font family not found in Windows font database\"\n",
      "Warning message in grid.Call(C_textBounds, as.graphicsAnnot(x$label), x$x, x$y, :\n",
      "\"font family not found in Windows font database\"\n",
      "Warning message in grid.Call(C_textBounds, as.graphicsAnnot(x$label), x$x, x$y, :\n",
      "\"font family not found in Windows font database\"\n"
     ]
    },
    {
     "data": {
      "image/png": "[encoded data removed]",
      "text/plain": [
       "plot without title"
      ]
     },
     "metadata": {
      "image/png": {
       "height": 420,
       "width": 420
      }
     },
     "output_type": "display_data"
    }
   ],
   "source": [
    "ilsd %>% \n",
    "group_by(PARTY) %>% \n",
    "summarize(avg_logit_left_right = mean(logit_left_right)) %>% \n",
    "arrange(desc(avg_logit_left_right)) %>% \n",
    "ggplot(aes(x = fct_reorder(PARTY, avg_logit_left_right), y = avg_logit_left_right, fill = avg_logit_left_right)) +\n",
    "geom_col() +\n",
    "coord_flip() +\n",
    "bbc_style() +\n",
    "scale_fill_gradient(low = \"light blue\", high = \"dark blue\") +\n",
    "labs(title = \"Parties by logit left-right scale\") +\n",
    "theme(plot.title = element_text(size = 20),\n",
    "      axis.title.x = element_blank(),\n",
    "      axis.title.y = element_blank(),\n",
    "      axis.text.x = element_text(size = 9),\n",
    "      axis.text.y = element_text(size = 7),\n",
    "      legend.position = \"none\")"
   ]
  },
  {
   "cell_type": "markdown",
   "id": "e24faa80",
   "metadata": {},
   "source": [
    "### Logit by economic left-right scale"
   ]
  },
  {
   "cell_type": "code",
   "execution_count": 9,
   "id": "633a5b22",
   "metadata": {},
   "outputs": [
    {
     "name": "stderr",
     "output_type": "stream",
     "text": [
      "`stat_bin()` using `bins = 30`. Pick better value with `binwidth`.\n",
      "\n",
      "Warning message in grid.Call(C_textBounds, as.graphicsAnnot(x$label), x$x, x$y, :\n",
      "\"font family not found in Windows font database\"\n",
      "Warning message in grid.Call(C_textBounds, as.graphicsAnnot(x$label), x$x, x$y, :\n",
      "\"font family not found in Windows font database\"\n",
      "Warning message in grid.Call(C_textBounds, as.graphicsAnnot(x$label), x$x, x$y, :\n",
      "\"font family not found in Windows font database\"\n",
      "Warning message in grid.Call(C_textBounds, as.graphicsAnnot(x$label), x$x, x$y, :\n",
      "\"font family not found in Windows font database\"\n",
      "Warning message in grid.Call(C_textBounds, as.graphicsAnnot(x$label), x$x, x$y, :\n",
      "\"font family not found in Windows font database\"\n",
      "Warning message in grid.Call(C_textBounds, as.graphicsAnnot(x$label), x$x, x$y, :\n",
      "\"font family not found in Windows font database\"\n"
     ]
    },
    {
     "data": {
      "image/png": "[encoded data removed]",
      "text/plain": [
       "plot without title"
      ]
     },
     "metadata": {
      "image/png": {
       "height": 420,
       "width": 420
      }
     },
     "output_type": "display_data"
    }
   ],
   "source": [
    "ilsd %>% \n",
    "ggplot(aes(logit_left_right)) +\n",
    "geom_histogram(fill = \"dark green\") +\n",
    "bbc_style() +\n",
    "labs(title = \"Frequency distribution for the logit \\neconomic left-right scale\") +\n",
    "theme(plot.title = element_text(size = 20))"
   ]
  },
  {
   "cell_type": "code",
   "execution_count": 10,
   "id": "83567112",
   "metadata": {},
   "outputs": [
    {
     "name": "stderr",
     "output_type": "stream",
     "text": [
      "Warning message in grid.Call(C_textBounds, as.graphicsAnnot(x$label), x$x, x$y, :\n",
      "\"font family not found in Windows font database\"\n",
      "Warning message in grid.Call(C_textBounds, as.graphicsAnnot(x$label), x$x, x$y, :\n",
      "\"font family not found in Windows font database\"\n",
      "Warning message in grid.Call(C_textBounds, as.graphicsAnnot(x$label), x$x, x$y, :\n",
      "\"font family not found in Windows font database\"\n",
      "Warning message in grid.Call(C_textBounds, as.graphicsAnnot(x$label), x$x, x$y, :\n",
      "\"font family not found in Windows font database\"\n",
      "Warning message in grid.Call(C_textBounds, as.graphicsAnnot(x$label), x$x, x$y, :\n",
      "\"font family not found in Windows font database\"\n",
      "Warning message in grid.Call(C_textBounds, as.graphicsAnnot(x$label), x$x, x$y, :\n",
      "\"font family not found in Windows font database\"\n",
      "Warning message in grid.Call(C_textBounds, as.graphicsAnnot(x$label), x$x, x$y, :\n",
      "\"font family not found in Windows font database\"\n",
      "Warning message in grid.Call(C_textBounds, as.graphicsAnnot(x$label), x$x, x$y, :\n",
      "\"font family not found in Windows font database\"\n"
     ]
    },
    {
     "data": {
      "image/png": "[encoded data removed]",
      "text/plain": [
       "plot without title"
      ]
     },
     "metadata": {
      "image/png": {
       "height": 420,
       "width": 420
      }
     },
     "output_type": "display_data"
    }
   ],
   "source": [
    "ilsd %>% \n",
    "group_by(PARTY) %>% \n",
    "summarize(avg_logit_economic = mean(logit_economic)) %>% \n",
    "arrange(desc(avg_logit_economic)) %>% \n",
    "ggplot(aes(x = fct_reorder(PARTY, avg_logit_economic), y = avg_logit_economic, fill = avg_logit_economic)) +\n",
    "geom_col() +\n",
    "coord_flip() +\n",
    "bbc_style() +\n",
    "scale_fill_gradient(low = \"light green\", high = \"dark green\") +\n",
    "labs(title = \"Parties by logit economic scale\") +\n",
    "theme(plot.title = element_text(size = 20),\n",
    "      axis.title.x = element_blank(),\n",
    "      axis.title.y = element_blank(),\n",
    "      axis.text.x = element_text(size = 9),\n",
    "      axis.text.y = element_text(size = 7),\n",
    "      legend.position = \"none\") "
   ]
  },
  {
   "cell_type": "markdown",
   "id": "5624a90c",
   "metadata": {},
   "source": [
    "### Logit GAL/TAN scale"
   ]
  },
  {
   "cell_type": "code",
   "execution_count": 11,
   "id": "c8ee94ae",
   "metadata": {},
   "outputs": [
    {
     "name": "stderr",
     "output_type": "stream",
     "text": [
      "`stat_bin()` using `bins = 30`. Pick better value with `binwidth`.\n",
      "\n",
      "Warning message in grid.Call(C_textBounds, as.graphicsAnnot(x$label), x$x, x$y, :\n",
      "\"font family not found in Windows font database\"\n",
      "Warning message in grid.Call(C_textBounds, as.graphicsAnnot(x$label), x$x, x$y, :\n",
      "\"font family not found in Windows font database\"\n",
      "Warning message in grid.Call(C_textBounds, as.graphicsAnnot(x$label), x$x, x$y, :\n",
      "\"font family not found in Windows font database\"\n",
      "Warning message in grid.Call(C_textBounds, as.graphicsAnnot(x$label), x$x, x$y, :\n",
      "\"font family not found in Windows font database\"\n",
      "Warning message in grid.Call(C_textBounds, as.graphicsAnnot(x$label), x$x, x$y, :\n",
      "\"font family not found in Windows font database\"\n",
      "Warning message in grid.Call(C_textBounds, as.graphicsAnnot(x$label), x$x, x$y, :\n",
      "\"font family not found in Windows font database\"\n"
     ]
    },
    {
     "data": {
      "image/png": "[encoded data removed]",
      "text/plain": [
       "plot without title"
      ]
     },
     "metadata": {
      "image/png": {
       "height": 420,
       "width": 420
      }
     },
     "output_type": "display_data"
    }
   ],
   "source": [
    "ilsd %>% \n",
    "ggplot(aes(logit_left_right)) +\n",
    "geom_histogram(fill = \"dark red\") +\n",
    "bbc_style() +\n",
    "labs(title = \"Frequency distribution for the logit GAL-TAN scale\") +\n",
    "theme(plot.title = element_text(size = 20))"
   ]
  },
  {
   "cell_type": "code",
   "execution_count": 12,
   "id": "ad1cda90",
   "metadata": {},
   "outputs": [
    {
     "name": "stderr",
     "output_type": "stream",
     "text": [
      "Warning message in grid.Call(C_textBounds, as.graphicsAnnot(x$label), x$x, x$y, :\n",
      "\"font family not found in Windows font database\"\n",
      "Warning message in grid.Call(C_textBounds, as.graphicsAnnot(x$label), x$x, x$y, :\n",
      "\"font family not found in Windows font database\"\n",
      "Warning message in grid.Call(C_textBounds, as.graphicsAnnot(x$label), x$x, x$y, :\n",
      "\"font family not found in Windows font database\"\n",
      "Warning message in grid.Call(C_textBounds, as.graphicsAnnot(x$label), x$x, x$y, :\n",
      "\"font family not found in Windows font database\"\n",
      "Warning message in grid.Call(C_textBounds, as.graphicsAnnot(x$label), x$x, x$y, :\n",
      "\"font family not found in Windows font database\"\n",
      "Warning message in grid.Call(C_textBounds, as.graphicsAnnot(x$label), x$x, x$y, :\n",
      "\"font family not found in Windows font database\"\n",
      "Warning message in grid.Call(C_textBounds, as.graphicsAnnot(x$label), x$x, x$y, :\n",
      "\"font family not found in Windows font database\"\n",
      "Warning message in grid.Call(C_textBounds, as.graphicsAnnot(x$label), x$x, x$y, :\n",
      "\"font family not found in Windows font database\"\n"
     ]
    },
    {
     "data": {
      "image/png": "[encoded data removed]",
      "text/plain": [
       "plot without title"
      ]
     },
     "metadata": {
      "image/png": {
       "height": 420,
       "width": 420
      }
     },
     "output_type": "display_data"
    }
   ],
   "source": [
    "ilsd %>% \n",
    "group_by(PARTY) %>% \n",
    "summarize(avg_logit_gal_tan = mean(logit_gal_tan)) %>% \n",
    "arrange(desc(avg_logit_gal_tan)) %>% \n",
    "ggplot(aes(x = fct_reorder(PARTY, avg_logit_gal_tan), y = avg_logit_gal_tan, fill = avg_logit_gal_tan)) +\n",
    "geom_col() +\n",
    "coord_flip() +\n",
    "bbc_style() +\n",
    "scale_fill_gradient(low = \"pink\", high = \"dark red\") +\n",
    "labs(title = \"Parties by logit GAL/TAN scale\") +\n",
    "theme(plot.title = element_text(size = 20),\n",
    "      axis.title.x = element_blank(),\n",
    "      axis.title.y = element_blank(),\n",
    "      axis.text.x = element_text(size = 9),\n",
    "      axis.text.y = element_text(size = 7),\n",
    "      legend.position = \"none\") "
   ]
  },
  {
   "cell_type": "markdown",
   "id": "db7d6ade",
   "metadata": {},
   "source": [
    "### Logit economic GAL/TAN scale"
   ]
  },
  {
   "cell_type": "code",
   "execution_count": 13,
   "id": "4d70b58d",
   "metadata": {},
   "outputs": [
    {
     "name": "stderr",
     "output_type": "stream",
     "text": [
      "`stat_bin()` using `bins = 30`. Pick better value with `binwidth`.\n",
      "\n",
      "Warning message in grid.Call(C_textBounds, as.graphicsAnnot(x$label), x$x, x$y, :\n",
      "\"font family not found in Windows font database\"\n",
      "Warning message in grid.Call(C_textBounds, as.graphicsAnnot(x$label), x$x, x$y, :\n",
      "\"font family not found in Windows font database\"\n",
      "Warning message in grid.Call(C_textBounds, as.graphicsAnnot(x$label), x$x, x$y, :\n",
      "\"font family not found in Windows font database\"\n",
      "Warning message in grid.Call(C_textBounds, as.graphicsAnnot(x$label), x$x, x$y, :\n",
      "\"font family not found in Windows font database\"\n",
      "Warning message in grid.Call(C_textBounds, as.graphicsAnnot(x$label), x$x, x$y, :\n",
      "\"font family not found in Windows font database\"\n",
      "Warning message in grid.Call(C_textBounds, as.graphicsAnnot(x$label), x$x, x$y, :\n",
      "\"font family not found in Windows font database\"\n"
     ]
    },
    {
     "data": {
      "image/png": "[encoded data removed]",
      "text/plain": [
       "plot without title"
      ]
     },
     "metadata": {
      "image/png": {
       "height": 420,
       "width": 420
      }
     },
     "output_type": "display_data"
    }
   ],
   "source": [
    "ilsd %>% \n",
    "ggplot(aes(logit_left_right)) +\n",
    "geom_histogram(fill = \"dark grey\") +\n",
    "bbc_style() +\n",
    "labs(title = \"Frequency distribution for the logit economic GAL-TAN scale\") +\n",
    "theme(plot.title = element_text(size = 18))"
   ]
  },
  {
   "cell_type": "code",
   "execution_count": 14,
   "id": "50539a52",
   "metadata": {},
   "outputs": [
    {
     "name": "stderr",
     "output_type": "stream",
     "text": [
      "Warning message in grid.Call(C_textBounds, as.graphicsAnnot(x$label), x$x, x$y, :\n",
      "\"font family not found in Windows font database\"\n",
      "Warning message in grid.Call(C_textBounds, as.graphicsAnnot(x$label), x$x, x$y, :\n",
      "\"font family not found in Windows font database\"\n",
      "Warning message in grid.Call(C_textBounds, as.graphicsAnnot(x$label), x$x, x$y, :\n",
      "\"font family not found in Windows font database\"\n",
      "Warning message in grid.Call(C_textBounds, as.graphicsAnnot(x$label), x$x, x$y, :\n",
      "\"font family not found in Windows font database\"\n",
      "Warning message in grid.Call(C_textBounds, as.graphicsAnnot(x$label), x$x, x$y, :\n",
      "\"font family not found in Windows font database\"\n",
      "Warning message in grid.Call(C_textBounds, as.graphicsAnnot(x$label), x$x, x$y, :\n",
      "\"font family not found in Windows font database\"\n",
      "Warning message in grid.Call(C_textBounds, as.graphicsAnnot(x$label), x$x, x$y, :\n",
      "\"font family not found in Windows font database\"\n",
      "Warning message in grid.Call(C_textBounds, as.graphicsAnnot(x$label), x$x, x$y, :\n",
      "\"font family not found in Windows font database\"\n"
     ]
    },
    {
     "data": {
      "image/png": "[encoded data removed]",
      "text/plain": [
       "plot without title"
      ]
     },
     "metadata": {
      "image/png": {
       "height": 420,
       "width": 420
      }
     },
     "output_type": "display_data"
    }
   ],
   "source": [
    "ilsd %>% \n",
    "group_by(PARTY) %>% \n",
    "summarize(avg_logit_gal_tan = mean(logit_gal_tan)) %>% \n",
    "arrange(desc(avg_logit_gal_tan)) %>% \n",
    "ggplot(aes(x = fct_reorder(PARTY, avg_logit_gal_tan), y = avg_logit_gal_tan, fill = avg_logit_gal_tan)) +\n",
    "geom_col() +\n",
    "coord_flip() +\n",
    "bbc_style() +\n",
    "scale_fill_gradient(low = \"light gray\", high = \"black\") +\n",
    "labs(title = \"Parties by logit economic GAL/TAN scale\") +\n",
    "theme(plot.title = element_text(size = 20),\n",
    "      axis.title.x = element_blank(),\n",
    "      axis.title.y = element_blank(),\n",
    "      axis.text.x = element_text(size = 9),\n",
    "      axis.text.y = element_text(size = 7),\n",
    "      legend.position = \"none\") "
   ]
  },
  {
   "cell_type": "markdown",
   "id": "5fb1406b",
   "metadata": {},
   "source": [
    "# Joining the ILSD dataset to the speeches dataset"
   ]
  },
  {
   "cell_type": "markdown",
   "id": "59877250",
   "metadata": {},
   "source": [
    "Load the speeches dataset"
   ]
  },
  {
   "cell_type": "code",
   "execution_count": 15,
   "id": "14977ef8",
   "metadata": {},
   "outputs": [],
   "source": [
    "load(\"data/parliamentary_groups2.rds\")\n",
    "texts <- Texts %>% as_tibble()"
   ]
  },
  {
   "cell_type": "markdown",
   "id": "d8ebaab7",
   "metadata": {},
   "source": [
    "The ILSD dataset includes the Constituent Assembly which is coded as Legislature n. 1. Let's subtract one from the \"Legislature\" column"
   ]
  },
  {
   "cell_type": "code",
   "execution_count": 16,
   "id": "49e3df67",
   "metadata": {},
   "outputs": [],
   "source": [
    "ilsd <- ilsd %>% \n",
    "mutate(Legislature_RECODED = Legislature - 1)"
   ]
  },
  {
   "cell_type": "markdown",
   "id": "8ade9675",
   "metadata": {},
   "source": [
    "The following tibble shows all the parties in the ILSD dataset, their full name (as reported in the codebook), the corresponding party label in the speeches dataset and the legislatures they appear in."
   ]
  },
  {
   "cell_type": "code",
   "execution_count": 17,
   "id": "deef2469",
   "metadata": {
    "scrolled": true
   },
   "outputs": [],
   "source": [
    "parties <- tribble(\n",
    "~party, ~full_name, ~gruppoP, ~gruppoP_recoded, ~legislatures, ~notes,\n",
    "\"AD\", \"Alleanza Democratica\", NA, NA, \"12\", \"In coalition with 'Alleanza dei Progressisti (PROGR-F)'\",\n",
    "\"ALA\", \"Alleanza Liberalpopolare - Autonomie\", NA, NA, \"17\", \"Part of the Mixed Group; in 2016 it became part of 'NCI-SCPI-MAIE'\",\n",
    "\"ALP\", \"Alternativa Libera-Possibile\", \"SI-SEL-POS-LU\", \"SI-SEL-POS-LU\", \"17\", \"\",\n",
    "\"AN\", \"Alleanza Nazionale\", \"AN\", \"AN\", \"12-15\", \"\",\n",
    "\"API\", \"Alleanza per l'Italia\", \"UDCPTP\", \"UDCPTP\", \"16\", \"\",\n",
    "\"AUTSVP\", \"Sudtiroler Volkspartei\", NA, NA, \"18\", \"Part of 'Minoranze linguistiche (Gruppo misto)'\",\n",
    "\"BNL\", \"Blocco Nazionale della Libertà\", NA, NA , \"0\", \"Our dataset does not include the Constituent Assembly\",\n",
    "\"CCD\", \"Centro Cristiano Democratico\", \"CCD; CCD-CDU\", \"UDC\", \"12-14\", \"\",\n",
    "\"CD\", \"Centro Democratico\", \"DES-CD\", \"DES-CD\", \"17\", \"\",\n",
    "\"CDU\",\"Cristiani Democratici Uniti\", \"CCD\", \"UDC\" , \"13\", \"\",\n",
    "\"CGM5SLN\", \"SintesiContrattoGovM5SLN\", NA, NA, \"18\", \"\",\n",
    "\"CR\", \"Conservatori e Riformisti\", NA, NA, \"17\", \"Part of FI, then it exited it and it was disbanded in 2017\",\n",
    "\"DC\", \"Democrazia Cristiana\", \"DC; DC-PPI\", \"DC\", \"0-11\", \"\",\n",
    "\"DEM\", \"I Democratici\", \"DEM-U\", \"DEM-U\", \"13\", \"\",\n",
    "\"DL\", \"Democrazia è Libertà/La Margherita\", \"MARGH-U\", \"MARGH-U\", \"14\", \"\",\n",
    "\"DP\", \"Democrazia Proletaria\", \"DP; DP-COM\", \"DP\", \"7-10\", \"\",\n",
    "\"DS\", \"Democratici di Sinistra\", \"DS-ULIVO; DS-U\", \"PD-ULIVO\", \"13-14\", \"\",\n",
    "\"FDI\", \"Fratelli d'Italia\", \"FDI-AN; FDI\", \"FDI\", \"17-18\", \"\",\n",
    "\"FELD\", \"Federalisti\", \"FLD\", \"FLD\", \"12\", \"\",\n",
    "\"FI\", \"Forza Italia\", \"F-ITA; FI-PDL; FI\", \"FI-PDL\", \"12-18\", \"\",\n",
    "\"FLI\", \"Futuro e Libertà per l’Italia\", \"FLPTP\", \"FLPTP\", \"16\", \"\",\n",
    "\"FUQ\", \"Fronte dell'Uomo Qualunque\", NA, NA, \"0\", \"Our dataset does not include the Constituent Assembly\",\n",
    "\"GAL\", \"Grandi Autonomie e Libertà\", NA, NA, \"17\", \"Can't be found in texts; in 2017 it became part of the UDC\",\n",
    "\"IDV\", \"Italia dei Valori\", \"IDV\", \"IDV\", \"15-16\", \"\",\n",
    "\"LEGA\", \"LEGA\", \"LNP\", \"LEGA\", \"16\", \"\",\n",
    "\"LEU\", \"Liberi e Uguali\" , \"LEU\", \"LEU\" , \"18\", \"\",\n",
    "\"LN\", \"Lega Nord\", \"LEGA; LEGA-N; LEGA-NORD-P; LNA; LNP; LNFP\", \"LEGA\", \"10-18\", \"\",\n",
    "\"LV\", \"Liga Veneta\", NA, NA, \"9\", \"Today it's part of Lega, but it is absent in texts for the 9th legislature\",\n",
    "\"M5S\", \"Movimento 5 stelle\", \"M5S\", \"M5S\", \"17-18\", \"\",\n",
    "\"MPA\", \"Movimento per le Autonomie\", NA, NA, \"16\", \"Part of the right-wing government coalition\",\n",
    "\"MSI\", \"Movimento Sociale Italiano\", \"MSI-DN; MSI\", \"MSI\", \"1-11\", \"\",\n",
    "\"NCD\", \"Nuovo Centro Destra\", \"AP-CPE-NCD-NCI\", \"AP-CPE-NCD-NCI\", \"17\", \"\",\n",
    "\"NPSI\", \"Nuovo Partito Socialista Italiano\", NA, NA, \"14\", \"texts includes DCA-NPSI. However, there's no match for the 14th legislature\",\n",
    "\"NS\", \"Noi Sud\", \"NOI SUD-LIBERTA\\' ED AUTONOMIA/POPOLARI D\\'ITALIA DOMANI-PID/MOVIMENTO DI RESPONSABILITA\\' NAZIONALE-MRN/AZIONE POPOLARE/ALLEANZA DI CENTRO-ADC/INTESA POPOLARE\", \"NOI SUD-LIBERTA\\' ED AUTONOMIA/POPOLARI D\\'ITALIA DOMANI-PID/MOVIMENTO DI RESPONSABILITA\\' NAZIONALE-MRN/AZIONE POPOLARE/ALLEANZA DI CENTRO-ADC/INTESA POPOLARE\", \"16\", \"\",\n",
    "\"PAT\", \"Patto Segni\", NA, NA, \"12\", \"Absent in texts\",\n",
    "\"PCI\", \"Partito Comunista Italiano\", \"PCI\", \"PCI\", \"0-10\", \"\",\n",
    "\"PD\", \"Partito Democratico\", \"PD-U; PD\", \"PD-ULIVO\", \"15-18\", \"\",\n",
    "\"PDCI\", \"Partito dei Comunisti Italiani\", \"COM/IT/\", \"COM/IT/\", \"13-15\", \"\",\n",
    "\"PDIUM\", \"Partito Democratico Italiano di Unità Monarchica\", \"PDIUM\", \"PDIUM\", \"3-5\", \"\",\n",
    "\"PDL\", \"Popolo Delle Libertà\", \"PDL; FI-PDL\", \"FI-PDL\", \"16-17\", \"\",\n",
    "\"PDS\", \"Partito Democratico della Sinistra\", \"PDS\", \"PDS\", \"10-13\", \"\",\n",
    "\"PI\", \"Per l'Italia\", \"DES-CD\", \"DES-CD\", \"17\", \"\",\n",
    "\"PLI\", \"Partito Liberale Italiano\", \"PLI\", \"PLI\", \"0-11\", \"\",\n",
    "\"PMP\", \"Partito Monarchico Popolare\", \"PMP\", \"PMP\", \"2-3\", \"\",\n",
    "\"PNM\", \"Partito Nazionale Monarchico\", \"PNM\", \"PNM\", \"1-3\", \"\",\n",
    "\"PPI\", \"Partito Popolare Italiano\", \"PPI\", \"PPI\", \"12-13\", \"\",\n",
    "\"PR\", \"Partito Radicale\", \"RADICALE\", \"RADICALE\", \"7-11\", \"\",\n",
    "\"PRI\", \"Partito Repubblicano Italiano\", \"PRI\", \"PRI\", \"0-11\", \"\",\n",
    "\"PSDI\", \"Partito Socialista Democratico Italiano\", \"PSI-PSDI; PSI\", \"PSDI\", \"0-11\", \"\",\n",
    "\"PSI\", \"Partito Socialista Italiano\", \"PSI-PSDI; PSI\", \"PSI\", \"0-12\", \"\",\n",
    "\"PSIUP\", \"Partito Socialista di Unità Proletaria\", \"PSIUP\", \"PSIUP\", \"4-5\", \"\",\n",
    "\"PSU\", \"Partito Socialista Unitario\", NA, NA, \"5\", \"The codebook refers to this party as 'Partito Socialista Unitario, but in fact it's probably 'Partito Socialista Unificato'. Anyway, it's not in texts. However, it could refer to both PSI and PSDI\",\n",
    "\"PT\", \"Popolo e Territorio\", \"NOI SUD-LIBERTA' ED AUTONOMIA/POPOLARI D'ITALIA DOMANI-PID/MOVIMENTO DI RESPONSABILITA' NAZIONALE-MRN/AZIONE POPOLARE/ALLEANZA DI CENTRO-ADC/INTESA POPOLARE\", \"NOI SUD-LIBERTA' ED AUTONOMIA/POPOLARI D'ITALIA DOMANI-PID/MOVIMENTO DI RESPONSABILITA' NAZIONALE-MRN/AZIONE POPOLARE/ALLEANZA DI CENTRO-ADC/INTESA POPOLARE\", \"16\", \"\",\n",
    "\"RC\", \"Rifondazione Comunista\", \"RC-PROGR; RC-SE; RC\", \"RC\", \"11-15\", \"\",\n",
    "\"RETE\", \"La Rete\", \"RETE\", \"RETE\", \"11-12\", \"\",\n",
    "\"RI\", \"Rinnovamento Italiano\",  \"RINN/IT\", \"RINN/IT\", \"13\", \"\", \n",
    "\"RNP\", \"Rosa Nel Pugno\", \"SOCRAD-RNP\", \"SOCRAD-RNP\", \"15\", \"\",\n",
    "\"SC\", \"Scelta Civica\", \"NCI-SCPI-MAIE\", \"NCI-SCPI-MAIE\", \"17\", \"\", \n",
    "\"SD\", \"Sinistra Democratica\", \"SDPSE\", \"SDPSE\", \"15\", \"Mostly MPs from DS who did not join PD. It unified several left-wing parties\",\n",
    "\"SDI\", \"Socialisti Democratici Italiani\", NA, NA, \"13-14\", \"It was the direct continuation of the Italian Socialists\",\n",
    "\"SEL\", \"Sinistra Ecologia e Libertà\", \"SI-SEL-POS-LU\", \"SI-SEL-POS-LU\", \"17\", \"\",\n",
    "\"UDC\", \"Unione dei Democratici Cristiani\", \"UNIONE DEI DEMOCRATICI CRISTIANI E DEI DEMOCRATICI DI CENTRO; CCD; CCD-CDU; UDCPTP\", \"UDC\", \"14-17\", \"\",\n",
    "\"UDEUR\", \"Unione Democratici per l'Europa\", \"UDEUR\", \"UDEUR\", \"13-15\", \"\", \n",
    "\"UDR\", \"Unione Democratica per la Repubblica\", \"UDR\", \"UDR\", \"13\", \"\",\n",
    "\"ULIVO\", \"Ulivo\", \"PD-U\", \"PD-ULIVO\", \"15\", \"\",\n",
    "\"VER\", \"Verdi\", \"VERDE; VERDI\", \"VERDI\", \"10-15\", \"\")\n",
    "\n",
    "writexl::write_xlsx(x = parties, \"data/ilsd_parties.xlsx\")"
   ]
  },
  {
   "cell_type": "markdown",
   "id": "f00ef3a2",
   "metadata": {},
   "source": [
    "## Recoding"
   ]
  },
  {
   "cell_type": "markdown",
   "id": "f6f990c5",
   "metadata": {},
   "source": [
    "Recode the 'gruppoP' variable in the speeches dataset by grouping together labels belonging to the same party. This will simplify the merging of the two datasets"
   ]
  },
  {
   "cell_type": "code",
   "execution_count": 18,
   "id": "0a759291",
   "metadata": {},
   "outputs": [],
   "source": [
    "texts <- texts %>% \n",
    "mutate(gruppoP_recoded = case_when(\n",
    "gruppoP %in% c('CCD', 'CCD-CDU', 'UNIONE DEI DEMOCRATICI CRISTIANI E DEI DEMOCRATICI DI CENTRO', 'UDCPTP')  ~ 'UDC',\n",
    "gruppoP == 'COMUNISTA' ~ 'RC',\n",
    "gruppoP == 'DC-PPI' ~ 'DC',\n",
    "gruppoP %in% c('DP-COM', 'PDUP-DP') ~ 'DP',\n",
    "gruppoP == \"FED/EUR/\" ~ 'RADICALE',\n",
    "gruppoP == 'FDI-AN' ~ 'FDI',\n",
    "gruppoP %in% c('F-ITA', 'FI', 'PDL') ~ 'FI-PDL',\n",
    "gruppoP == 'GC-PDS' ~ \"PDS\",\n",
    "gruppoP %in% c('LEGA-N', 'LEGA-NORD-P', 'LNA', 'LNFP', 'LNP') ~ 'LEGA',\n",
    "gruppoP == 'MSI-DN' ~ \"MSI\",\n",
    "gruppoP %in% c('DS-U', 'PD-U', 'PD-ULIVO', 'PD', 'DS-ULIVO') ~ 'PD-ULIVO-DS',\n",
    "gruppoP == 'PDI' ~ 'PDIUM',\n",
    "gruppoP == 'POP-UDEUR' ~ 'UDEUR',\n",
    "gruppoP == 'PSI-PSDI' ~ \"PSI\",\n",
    "gruppoP %in% c('RC-PROGR', 'RC-SE') ~ 'RC',\n",
    "gruppoP == 'VERDE' ~ 'VERDI',\n",
    "TRUE ~ gruppoP))"
   ]
  },
  {
   "cell_type": "markdown",
   "id": "92a866b1",
   "metadata": {},
   "source": [
    "The following are the parties in the ILSD dataset that I couldn't identify in the speeches dataset"
   ]
  },
  {
   "cell_type": "code",
   "execution_count": 19,
   "id": "77d47199",
   "metadata": {},
   "outputs": [
    {
     "data": {
      "text/html": [
       "<table class=\"dataframe\">\n",
       "<caption>A tibble: 14 × 6</caption>\n",
       "<thead>\n",
       "\t<tr><th scope=col>party</th><th scope=col>full_name</th><th scope=col>gruppoP</th><th scope=col>gruppoP_recoded</th><th scope=col>legislatures</th><th scope=col>notes</th></tr>\n",
       "\t<tr><th scope=col>&lt;chr&gt;</th><th scope=col>&lt;chr&gt;</th><th scope=col>&lt;chr&gt;</th><th scope=col>&lt;chr&gt;</th><th scope=col>&lt;chr&gt;</th><th scope=col>&lt;chr&gt;</th></tr>\n",
       "</thead>\n",
       "<tbody>\n",
       "\t<tr><td>AD     </td><td>Alleanza Democratica                </td><td>NA</td><td>NA</td><td>12   </td><td>In coalition with 'Alleanza dei Progressisti (PROGR-F)'                                                                                                                                             </td></tr>\n",
       "\t<tr><td>ALA    </td><td>Alleanza Liberalpopolare - Autonomie</td><td>NA</td><td>NA</td><td>17   </td><td>Part of the Mixed Group; in 2016 it became part of 'NCI-SCPI-MAIE'                                                                                                                                  </td></tr>\n",
       "\t<tr><td>AUTSVP </td><td>Sudtiroler Volkspartei              </td><td>NA</td><td>NA</td><td>18   </td><td>Part of 'Minoranze linguistiche (Gruppo misto)'                                                                                                                                                     </td></tr>\n",
       "\t<tr><td>BNL    </td><td>Blocco Nazionale della Libertà      </td><td>NA</td><td>NA</td><td>0    </td><td>Our dataset does not include the Constituent Assembly                                                                                                                                               </td></tr>\n",
       "\t<tr><td>CGM5SLN</td><td>SintesiContrattoGovM5SLN            </td><td>NA</td><td>NA</td><td>18   </td><td>                                                                                                                                                                                                    </td></tr>\n",
       "\t<tr><td>CR     </td><td>Conservatori e Riformisti           </td><td>NA</td><td>NA</td><td>17   </td><td>Part of FI, then it exited it and it was disbanded in 2017                                                                                                                                          </td></tr>\n",
       "\t<tr><td>FUQ    </td><td>Fronte dell'Uomo Qualunque          </td><td>NA</td><td>NA</td><td>0    </td><td>Our dataset does not include the Constituent Assembly                                                                                                                                               </td></tr>\n",
       "\t<tr><td>GAL    </td><td>Grandi Autonomie e Libertà          </td><td>NA</td><td>NA</td><td>17   </td><td>Can't be found in texts; in 2017 it became part of the UDC                                                                                                                                          </td></tr>\n",
       "\t<tr><td>LV     </td><td>Liga Veneta                         </td><td>NA</td><td>NA</td><td>9    </td><td>Today it's part of Lega, but it is absent in texts for the 9th legislature                                                                                                                          </td></tr>\n",
       "\t<tr><td>MPA    </td><td>Movimento per le Autonomie          </td><td>NA</td><td>NA</td><td>16   </td><td>Part of the right-wing government coalition                                                                                                                                                         </td></tr>\n",
       "\t<tr><td>NPSI   </td><td>Nuovo Partito Socialista Italiano   </td><td>NA</td><td>NA</td><td>14   </td><td>texts includes DCA-NPSI. However, there's no match for the 14th legislature                                                                                                                         </td></tr>\n",
       "\t<tr><td>PAT    </td><td>Patto Segni                         </td><td>NA</td><td>NA</td><td>12   </td><td>Absent in texts                                                                                                                                                                                     </td></tr>\n",
       "\t<tr><td>PSU    </td><td>Partito Socialista Unitario         </td><td>NA</td><td>NA</td><td>5    </td><td>The codebook refers to this party as 'Partito Socialista Unitario, but in fact it's probably 'Partito Socialista Unificato'. Anyway, it's not in texts. However, it could refer to both PSI and PSDI</td></tr>\n",
       "\t<tr><td>SDI    </td><td>Socialisti Democratici Italiani     </td><td>NA</td><td>NA</td><td>13-14</td><td>It was the direct continuation of the Italian Socialists                                                                                                                                            </td></tr>\n",
       "</tbody>\n",
       "</table>\n"
      ],
      "text/latex": [
       "A tibble: 14 × 6\n",
       "\\begin{tabular}{llllll}\n",
       " party & full\\_name & gruppoP & gruppoP\\_recoded & legislatures & notes\\\\\n",
       " <chr> & <chr> & <chr> & <chr> & <chr> & <chr>\\\\\n",
       "\\hline\n",
       "\t AD      & Alleanza Democratica                 & NA & NA & 12    & In coalition with 'Alleanza dei Progressisti (PROGR-F)'                                                                                                                                             \\\\\n",
       "\t ALA     & Alleanza Liberalpopolare - Autonomie & NA & NA & 17    & Part of the Mixed Group; in 2016 it became part of 'NCI-SCPI-MAIE'                                                                                                                                  \\\\\n",
       "\t AUTSVP  & Sudtiroler Volkspartei               & NA & NA & 18    & Part of 'Minoranze linguistiche (Gruppo misto)'                                                                                                                                                     \\\\\n",
       "\t BNL     & Blocco Nazionale della Libertà       & NA & NA & 0     & Our dataset does not include the Constituent Assembly                                                                                                                                               \\\\\n",
       "\t CGM5SLN & SintesiContrattoGovM5SLN             & NA & NA & 18    &                                                                                                                                                                                                     \\\\\n",
       "\t CR      & Conservatori e Riformisti            & NA & NA & 17    & Part of FI, then it exited it and it was disbanded in 2017                                                                                                                                          \\\\\n",
       "\t FUQ     & Fronte dell'Uomo Qualunque           & NA & NA & 0     & Our dataset does not include the Constituent Assembly                                                                                                                                               \\\\\n",
       "\t GAL     & Grandi Autonomie e Libertà           & NA & NA & 17    & Can't be found in texts; in 2017 it became part of the UDC                                                                                                                                          \\\\\n",
       "\t LV      & Liga Veneta                          & NA & NA & 9     & Today it's part of Lega, but it is absent in texts for the 9th legislature                                                                                                                          \\\\\n",
       "\t MPA     & Movimento per le Autonomie           & NA & NA & 16    & Part of the right-wing government coalition                                                                                                                                                         \\\\\n",
       "\t NPSI    & Nuovo Partito Socialista Italiano    & NA & NA & 14    & texts includes DCA-NPSI. However, there's no match for the 14th legislature                                                                                                                         \\\\\n",
       "\t PAT     & Patto Segni                          & NA & NA & 12    & Absent in texts                                                                                                                                                                                     \\\\\n",
       "\t PSU     & Partito Socialista Unitario          & NA & NA & 5     & The codebook refers to this party as 'Partito Socialista Unitario, but in fact it's probably 'Partito Socialista Unificato'. Anyway, it's not in texts. However, it could refer to both PSI and PSDI\\\\\n",
       "\t SDI     & Socialisti Democratici Italiani      & NA & NA & 13-14 & It was the direct continuation of the Italian Socialists                                                                                                                                            \\\\\n",
       "\\end{tabular}\n"
      ],
      "text/markdown": [
       "\n",
       "A tibble: 14 × 6\n",
       "\n",
       "| party &lt;chr&gt; | full_name &lt;chr&gt; | gruppoP &lt;chr&gt; | gruppoP_recoded &lt;chr&gt; | legislatures &lt;chr&gt; | notes &lt;chr&gt; |\n",
       "|---|---|---|---|---|---|\n",
       "| AD      | Alleanza Democratica                 | NA | NA | 12    | In coalition with 'Alleanza dei Progressisti (PROGR-F)'                                                                                                                                              |\n",
       "| ALA     | Alleanza Liberalpopolare - Autonomie | NA | NA | 17    | Part of the Mixed Group; in 2016 it became part of 'NCI-SCPI-MAIE'                                                                                                                                   |\n",
       "| AUTSVP  | Sudtiroler Volkspartei               | NA | NA | 18    | Part of 'Minoranze linguistiche (Gruppo misto)'                                                                                                                                                      |\n",
       "| BNL     | Blocco Nazionale della Libertà       | NA | NA | 0     | Our dataset does not include the Constituent Assembly                                                                                                                                                |\n",
       "| CGM5SLN | SintesiContrattoGovM5SLN             | NA | NA | 18    | <!----> |\n",
       "| CR      | Conservatori e Riformisti            | NA | NA | 17    | Part of FI, then it exited it and it was disbanded in 2017                                                                                                                                           |\n",
       "| FUQ     | Fronte dell'Uomo Qualunque           | NA | NA | 0     | Our dataset does not include the Constituent Assembly                                                                                                                                                |\n",
       "| GAL     | Grandi Autonomie e Libertà           | NA | NA | 17    | Can't be found in texts; in 2017 it became part of the UDC                                                                                                                                           |\n",
       "| LV      | Liga Veneta                          | NA | NA | 9     | Today it's part of Lega, but it is absent in texts for the 9th legislature                                                                                                                           |\n",
       "| MPA     | Movimento per le Autonomie           | NA | NA | 16    | Part of the right-wing government coalition                                                                                                                                                          |\n",
       "| NPSI    | Nuovo Partito Socialista Italiano    | NA | NA | 14    | texts includes DCA-NPSI. However, there's no match for the 14th legislature                                                                                                                          |\n",
       "| PAT     | Patto Segni                          | NA | NA | 12    | Absent in texts                                                                                                                                                                                      |\n",
       "| PSU     | Partito Socialista Unitario          | NA | NA | 5     | The codebook refers to this party as 'Partito Socialista Unitario, but in fact it's probably 'Partito Socialista Unificato'. Anyway, it's not in texts. However, it could refer to both PSI and PSDI |\n",
       "| SDI     | Socialisti Democratici Italiani      | NA | NA | 13-14 | It was the direct continuation of the Italian Socialists                                                                                                                                             |\n",
       "\n"
      ],
      "text/plain": [
       "   party   full_name                            gruppoP gruppoP_recoded\n",
       "1  AD      Alleanza Democratica                 NA      NA             \n",
       "2  ALA     Alleanza Liberalpopolare - Autonomie NA      NA             \n",
       "3  AUTSVP  Sudtiroler Volkspartei               NA      NA             \n",
       "4  BNL     Blocco Nazionale della Libertà       NA      NA             \n",
       "5  CGM5SLN SintesiContrattoGovM5SLN             NA      NA             \n",
       "6  CR      Conservatori e Riformisti            NA      NA             \n",
       "7  FUQ     Fronte dell'Uomo Qualunque           NA      NA             \n",
       "8  GAL     Grandi Autonomie e Libertà           NA      NA             \n",
       "9  LV      Liga Veneta                          NA      NA             \n",
       "10 MPA     Movimento per le Autonomie           NA      NA             \n",
       "11 NPSI    Nuovo Partito Socialista Italiano    NA      NA             \n",
       "12 PAT     Patto Segni                          NA      NA             \n",
       "13 PSU     Partito Socialista Unitario          NA      NA             \n",
       "14 SDI     Socialisti Democratici Italiani      NA      NA             \n",
       "   legislatures\n",
       "1  12          \n",
       "2  17          \n",
       "3  18          \n",
       "4  0           \n",
       "5  18          \n",
       "6  17          \n",
       "7  0           \n",
       "8  17          \n",
       "9  9           \n",
       "10 16          \n",
       "11 14          \n",
       "12 12          \n",
       "13 5           \n",
       "14 13-14       \n",
       "   notes                                                                                                                                                                                               \n",
       "1  In coalition with 'Alleanza dei Progressisti (PROGR-F)'                                                                                                                                             \n",
       "2  Part of the Mixed Group; in 2016 it became part of 'NCI-SCPI-MAIE'                                                                                                                                  \n",
       "3  Part of 'Minoranze linguistiche (Gruppo misto)'                                                                                                                                                     \n",
       "4  Our dataset does not include the Constituent Assembly                                                                                                                                               \n",
       "5                                                                                                                                                                                                      \n",
       "6  Part of FI, then it exited it and it was disbanded in 2017                                                                                                                                          \n",
       "7  Our dataset does not include the Constituent Assembly                                                                                                                                               \n",
       "8  Can't be found in texts; in 2017 it became part of the UDC                                                                                                                                          \n",
       "9  Today it's part of Lega, but it is absent in texts for the 9th legislature                                                                                                                          \n",
       "10 Part of the right-wing government coalition                                                                                                                                                         \n",
       "11 texts includes DCA-NPSI. However, there's no match for the 14th legislature                                                                                                                         \n",
       "12 Absent in texts                                                                                                                                                                                     \n",
       "13 The codebook refers to this party as 'Partito Socialista Unitario, but in fact it's probably 'Partito Socialista Unificato'. Anyway, it's not in texts. However, it could refer to both PSI and PSDI\n",
       "14 It was the direct continuation of the Italian Socialists                                                                                                                                            "
      ]
     },
     "metadata": {},
     "output_type": "display_data"
    }
   ],
   "source": [
    "parties %>% \n",
    "filter(is.na(gruppoP))"
   ]
  },
  {
   "cell_type": "markdown",
   "id": "3d8e96c1",
   "metadata": {},
   "source": [
    "Recode the 'PARTY' variable from the ILSD dataset to make the party labels identical to the ones in the speeches dataset"
   ]
  },
  {
   "cell_type": "code",
   "execution_count": 20,
   "id": "c9d4b13e",
   "metadata": {},
   "outputs": [],
   "source": [
    "ilsd <- ilsd %>% \n",
    "mutate(PARTY_RECODED = case_when(\n",
    "PARTY == \"ALP\" ~ 'SI-SEL-POS-LU',\n",
    "PARTY == \"API\" ~ \"UDCPTP\", # ?????\n",
    "PARTY == \"CCD\" ~ 'UDC', # ?????\n",
    "PARTY == \"CD\" ~ \"DES-CD\",\n",
    "PARTY == \"CDU\" ~ \"UDC\",\n",
    "PARTY == \"DEM\" ~ \"DEM-U\",\n",
    "PARTY == \"DL\" ~ \"MARGH-U\",\n",
    "PARTY == \"DS\" ~ \"PD-ULIVO-DS\",\n",
    "PARTY == \"FELD\" ~ \"FLD\",\n",
    "PARTY == \"FI\" ~ \"FI-PDL\",\n",
    "PARTY == \"FLI\" ~ \"FLPTP\",\n",
    "PARTY == \"LN\" ~ \"LEGA\",\n",
    "PARTY == \"NCD\" ~ \"AP-CPE-NCD-NCI\",\n",
    "PARTY == \"NS\" ~ \"NOI SUD-LIBERTA' ED AUTONOMIA/POPOLARI D'ITALIA DOMANI-PID/MOVIMENTO DI RESPONSABILITA' NAZIONALE-MRN/AZIONE POPOLARE/ALLEANZA DI CENTRO-ADC/INTESA POPOLARE\",\n",
    "PARTY == \"PD\" ~ \"PD-ULIVO-DS\",\n",
    "PARTY == \"PDCI\" ~ \"COM/IT/\",\n",
    "PARTY == \"PDL\" ~ \"FI-PDL\",\n",
    "PARTY == \"PI\" ~ \"DES-CD\",\n",
    "PARTY == \"PR\" ~ \"RADICALE\",\n",
    "PARTY == \"RI\" ~ \"RINN/IT\",\n",
    "PARTY == \"RNP\" ~ \"SOCRAD-RNP\",\n",
    "PARTY == \"SC\" ~ \"NCI-SCPI-MAIE\",\n",
    "PARTY == \"SD\" ~ \"SDPSE\",\n",
    "PARTY == \"SEL\" ~ \"SI-SEL-POS-LU\",\n",
    "PARTY == \"ULIVO\" ~ \"PD-ULIVO-DS\",\n",
    "PARTY == \"VER\" ~ \"VERDI\",\n",
    "TRUE ~ PARTY\n",
    ")) "
   ]
  },
  {
   "cell_type": "markdown",
   "id": "c825d0f5",
   "metadata": {},
   "source": [
    "## Join"
   ]
  },
  {
   "cell_type": "markdown",
   "id": "72280171",
   "metadata": {},
   "source": [
    "Extract the year from the 'Edate' variable with a regex"
   ]
  },
  {
   "cell_type": "code",
   "execution_count": 21,
   "id": "0b3caa36",
   "metadata": {},
   "outputs": [],
   "source": [
    "ilsd <- ilsd %>% \n",
    "mutate(Year = as.integer(str_extract(string = Edate, pattern = \"\\\\d{4}\")))"
   ]
  },
  {
   "cell_type": "markdown",
   "id": "c10a1c42",
   "metadata": {},
   "source": [
    "Parties often have more than one row for each party-legislature-year combination. Let's compute the mean for each of the variables we want to merge in the speeches dataset."
   ]
  },
  {
   "cell_type": "code",
   "execution_count": 22,
   "id": "f879f7e2",
   "metadata": {},
   "outputs": [],
   "source": [
    "ilsd <- ilsd %>% \n",
    "group_by(PARTY_RECODED, Legislature_RECODED, Year) %>% \n",
    "mutate(\n",
    "    across(.cols = c(\"left_right\", \"ratio_leftright\", \"logit_left_right\", \"classic_economic\", \"ratio_economic\", \n",
    "                     \"logit_economic\", \"classic_gal_tan\", \"ratio_gal_tan\", \"logit_gal_tan\", \"classic_economic_gal_tan\", \n",
    "                     \"ratio_economic_gal_tan\", \"logit_economic_gal_tan\", \"gal_tan_controllo\"),\n",
    "           .fns = ~ mean(., na.rm = TRUE)))"
   ]
  },
  {
   "cell_type": "code",
   "execution_count": 23,
   "id": "f860f4b8",
   "metadata": {},
   "outputs": [
    {
     "data": {
      "text/html": [
       "761"
      ],
      "text/latex": [
       "761"
      ],
      "text/markdown": [
       "761"
      ],
      "text/plain": [
       "[1] 761"
      ]
     },
     "metadata": {},
     "output_type": "display_data"
    }
   ],
   "source": [
    "nrow(ilsd)"
   ]
  },
  {
   "cell_type": "markdown",
   "id": "faf634e4",
   "metadata": {},
   "source": [
    "Let's filter the ILSD dataset to keep only unique combinations of party, legislature and year. If we don't do this, the left join with the texts dataset will output more rows than we have in the left dataset."
   ]
  },
  {
   "cell_type": "code",
   "execution_count": 24,
   "id": "a3be3bcd",
   "metadata": {},
   "outputs": [],
   "source": [
    "ilsd <- distinct(ilsd, PARTY_RECODED, Legislature_RECODED, Year, .keep_all = TRUE)"
   ]
  },
  {
   "cell_type": "markdown",
   "id": "6a0f6899",
   "metadata": {},
   "source": [
    "Now we only have 612 rows"
   ]
  },
  {
   "cell_type": "code",
   "execution_count": 25,
   "id": "36c61f30",
   "metadata": {},
   "outputs": [
    {
     "data": {
      "text/html": [
       "612"
      ],
      "text/latex": [
       "612"
      ],
      "text/markdown": [
       "612"
      ],
      "text/plain": [
       "[1] 612"
      ]
     },
     "metadata": {},
     "output_type": "display_data"
    }
   ],
   "source": [
    "nrow(ilsd)"
   ]
  },
  {
   "cell_type": "markdown",
   "id": "b4b514e0",
   "metadata": {},
   "source": [
    "Left join the ILSD dataset to our speeches dataset"
   ]
  },
  {
   "cell_type": "code",
   "execution_count": 26,
   "id": "a104d43c",
   "metadata": {},
   "outputs": [],
   "source": [
    "joined_texts <- texts %>% \n",
    "left_join(ilsd, by = c(\"gruppoP_recoded\" = \"PARTY_RECODED\", \"legislature\" = \"Legislature_RECODED\", \"year\" = \"Year\"))"
   ]
  },
  {
   "cell_type": "markdown",
   "id": "712bb506",
   "metadata": {},
   "source": [
    "The joined dataset has the same number of rows as the previous dataset"
   ]
  },
  {
   "cell_type": "code",
   "execution_count": 27,
   "id": "415dab83",
   "metadata": {},
   "outputs": [
    {
     "data": {
      "text/html": [
       "TRUE"
      ],
      "text/latex": [
       "TRUE"
      ],
      "text/markdown": [
       "TRUE"
      ],
      "text/plain": [
       "[1] TRUE"
      ]
     },
     "metadata": {},
     "output_type": "display_data"
    }
   ],
   "source": [
    "nrow(texts) == nrow(joined_texts)"
   ]
  },
  {
   "cell_type": "markdown",
   "id": "05c190af",
   "metadata": {},
   "source": [
    "The ILSD dataset contains fewer years compared to 'texts'. This generated a large number of null values in the joined dataset. "
   ]
  },
  {
   "cell_type": "code",
   "execution_count": 28,
   "id": "57c99c43",
   "metadata": {},
   "outputs": [
    {
     "data": {
      "text/html": [
       "<table class=\"dataframe\">\n",
       "<caption>A tibble: 1 × 13</caption>\n",
       "<thead>\n",
       "\t<tr><th scope=col>left_right</th><th scope=col>ratio_leftright</th><th scope=col>logit_left_right</th><th scope=col>classic_economic</th><th scope=col>ratio_economic</th><th scope=col>logit_economic</th><th scope=col>classic_gal_tan</th><th scope=col>ratio_gal_tan</th><th scope=col>logit_gal_tan</th><th scope=col>classic_economic_gal_tan</th><th scope=col>ratio_economic_gal_tan</th><th scope=col>logit_economic_gal_tan</th><th scope=col>gal_tan_controllo</th></tr>\n",
       "\t<tr><th scope=col>&lt;dbl&gt;</th><th scope=col>&lt;dbl&gt;</th><th scope=col>&lt;dbl&gt;</th><th scope=col>&lt;dbl&gt;</th><th scope=col>&lt;dbl&gt;</th><th scope=col>&lt;dbl&gt;</th><th scope=col>&lt;dbl&gt;</th><th scope=col>&lt;dbl&gt;</th><th scope=col>&lt;dbl&gt;</th><th scope=col>&lt;dbl&gt;</th><th scope=col>&lt;dbl&gt;</th><th scope=col>&lt;dbl&gt;</th><th scope=col>&lt;dbl&gt;</th></tr>\n",
       "</thead>\n",
       "<tbody>\n",
       "\t<tr><td>0.4226138</td><td>0.4226138</td><td>0.4226138</td><td>0.4226138</td><td>0.428388</td><td>0.4226138</td><td>0.4226138</td><td>0.5252461</td><td>0.4226138</td><td>0.4226138</td><td>0.5094612</td><td>0.4226138</td><td>0.4226138</td></tr>\n",
       "</tbody>\n",
       "</table>\n"
      ],
      "text/latex": [
       "A tibble: 1 × 13\n",
       "\\begin{tabular}{lllllllllllll}\n",
       " left\\_right & ratio\\_leftright & logit\\_left\\_right & classic\\_economic & ratio\\_economic & logit\\_economic & classic\\_gal\\_tan & ratio\\_gal\\_tan & logit\\_gal\\_tan & classic\\_economic\\_gal\\_tan & ratio\\_economic\\_gal\\_tan & logit\\_economic\\_gal\\_tan & gal\\_tan\\_controllo\\\\\n",
       " <dbl> & <dbl> & <dbl> & <dbl> & <dbl> & <dbl> & <dbl> & <dbl> & <dbl> & <dbl> & <dbl> & <dbl> & <dbl>\\\\\n",
       "\\hline\n",
       "\t 0.4226138 & 0.4226138 & 0.4226138 & 0.4226138 & 0.428388 & 0.4226138 & 0.4226138 & 0.5252461 & 0.4226138 & 0.4226138 & 0.5094612 & 0.4226138 & 0.4226138\\\\\n",
       "\\end{tabular}\n"
      ],
      "text/markdown": [
       "\n",
       "A tibble: 1 × 13\n",
       "\n",
       "| left_right &lt;dbl&gt; | ratio_leftright &lt;dbl&gt; | logit_left_right &lt;dbl&gt; | classic_economic &lt;dbl&gt; | ratio_economic &lt;dbl&gt; | logit_economic &lt;dbl&gt; | classic_gal_tan &lt;dbl&gt; | ratio_gal_tan &lt;dbl&gt; | logit_gal_tan &lt;dbl&gt; | classic_economic_gal_tan &lt;dbl&gt; | ratio_economic_gal_tan &lt;dbl&gt; | logit_economic_gal_tan &lt;dbl&gt; | gal_tan_controllo &lt;dbl&gt; |\n",
       "|---|---|---|---|---|---|---|---|---|---|---|---|---|\n",
       "| 0.4226138 | 0.4226138 | 0.4226138 | 0.4226138 | 0.428388 | 0.4226138 | 0.4226138 | 0.5252461 | 0.4226138 | 0.4226138 | 0.5094612 | 0.4226138 | 0.4226138 |\n",
       "\n"
      ],
      "text/plain": [
       "  left_right ratio_leftright logit_left_right classic_economic ratio_economic\n",
       "1 0.4226138  0.4226138       0.4226138        0.4226138        0.428388      \n",
       "  logit_economic classic_gal_tan ratio_gal_tan logit_gal_tan\n",
       "1 0.4226138      0.4226138       0.5252461     0.4226138    \n",
       "  classic_economic_gal_tan ratio_economic_gal_tan logit_economic_gal_tan\n",
       "1 0.4226138                0.5094612              0.4226138             \n",
       "  gal_tan_controllo\n",
       "1 0.4226138        "
      ]
     },
     "metadata": {},
     "output_type": "display_data"
    }
   ],
   "source": [
    "map_dfr(joined_texts, ~ sum(is.na(.)) / length(.)) %>% \n",
    "select(left_right, ratio_leftright, logit_left_right, classic_economic, ratio_economic, logit_economic, classic_gal_tan,\n",
    "      ratio_gal_tan, logit_gal_tan, classic_economic_gal_tan, ratio_economic_gal_tan, logit_economic_gal_tan, gal_tan_controllo)"
   ]
  },
  {
   "cell_type": "markdown",
   "id": "456b9133",
   "metadata": {},
   "source": [
    "Let's fill those values by using the previous year as reference."
   ]
  },
  {
   "cell_type": "code",
   "execution_count": 29,
   "id": "4613e04b",
   "metadata": {},
   "outputs": [],
   "source": [
    "joined_texts <- joined_texts %>% \n",
    "arrange(year) %>% \n",
    "group_by(gruppoP_recoded, legislature) %>% \n",
    "fill_(fill_cols = c(\"left_right\", \"ratio_leftright\", \"logit_left_right\", \"classic_economic\", \"ratio_economic\", \n",
    "                    \"logit_economic\", \"classic_gal_tan\", \"ratio_gal_tan\", \"logit_gal_tan\", \"classic_economic_gal_tan\", \n",
    "                    \"ratio_economic_gal_tan\", \"logit_economic_gal_tan\", \"gal_tan_controllo\"),\n",
    "       .direction = \"down\")"
   ]
  },
  {
   "cell_type": "markdown",
   "id": "9062570c",
   "metadata": {},
   "source": [
    "The % of null values went down from 41.8% to 10.2%"
   ]
  },
  {
   "cell_type": "code",
   "execution_count": 30,
   "id": "26f5f180",
   "metadata": {},
   "outputs": [
    {
     "data": {
      "text/html": [
       "<table class=\"dataframe\">\n",
       "<caption>A tibble: 1 × 13</caption>\n",
       "<thead>\n",
       "\t<tr><th scope=col>left_right</th><th scope=col>ratio_leftright</th><th scope=col>logit_left_right</th><th scope=col>classic_economic</th><th scope=col>ratio_economic</th><th scope=col>logit_economic</th><th scope=col>classic_gal_tan</th><th scope=col>ratio_gal_tan</th><th scope=col>logit_gal_tan</th><th scope=col>classic_economic_gal_tan</th><th scope=col>ratio_economic_gal_tan</th><th scope=col>logit_economic_gal_tan</th><th scope=col>gal_tan_controllo</th></tr>\n",
       "\t<tr><th scope=col>&lt;dbl&gt;</th><th scope=col>&lt;dbl&gt;</th><th scope=col>&lt;dbl&gt;</th><th scope=col>&lt;dbl&gt;</th><th scope=col>&lt;dbl&gt;</th><th scope=col>&lt;dbl&gt;</th><th scope=col>&lt;dbl&gt;</th><th scope=col>&lt;dbl&gt;</th><th scope=col>&lt;dbl&gt;</th><th scope=col>&lt;dbl&gt;</th><th scope=col>&lt;dbl&gt;</th><th scope=col>&lt;dbl&gt;</th><th scope=col>&lt;dbl&gt;</th></tr>\n",
       "</thead>\n",
       "<tbody>\n",
       "\t<tr><td>0.1062707</td><td>0.1062707</td><td>0.1062707</td><td>0.1062707</td><td>0.1123849</td><td>0.1062707</td><td>0.1062707</td><td>0.2239698</td><td>0.1062707</td><td>0.1062707</td><td>0.2013907</td><td>0.1062707</td><td>0.1062707</td></tr>\n",
       "</tbody>\n",
       "</table>\n"
      ],
      "text/latex": [
       "A tibble: 1 × 13\n",
       "\\begin{tabular}{lllllllllllll}\n",
       " left\\_right & ratio\\_leftright & logit\\_left\\_right & classic\\_economic & ratio\\_economic & logit\\_economic & classic\\_gal\\_tan & ratio\\_gal\\_tan & logit\\_gal\\_tan & classic\\_economic\\_gal\\_tan & ratio\\_economic\\_gal\\_tan & logit\\_economic\\_gal\\_tan & gal\\_tan\\_controllo\\\\\n",
       " <dbl> & <dbl> & <dbl> & <dbl> & <dbl> & <dbl> & <dbl> & <dbl> & <dbl> & <dbl> & <dbl> & <dbl> & <dbl>\\\\\n",
       "\\hline\n",
       "\t 0.1062707 & 0.1062707 & 0.1062707 & 0.1062707 & 0.1123849 & 0.1062707 & 0.1062707 & 0.2239698 & 0.1062707 & 0.1062707 & 0.2013907 & 0.1062707 & 0.1062707\\\\\n",
       "\\end{tabular}\n"
      ],
      "text/markdown": [
       "\n",
       "A tibble: 1 × 13\n",
       "\n",
       "| left_right &lt;dbl&gt; | ratio_leftright &lt;dbl&gt; | logit_left_right &lt;dbl&gt; | classic_economic &lt;dbl&gt; | ratio_economic &lt;dbl&gt; | logit_economic &lt;dbl&gt; | classic_gal_tan &lt;dbl&gt; | ratio_gal_tan &lt;dbl&gt; | logit_gal_tan &lt;dbl&gt; | classic_economic_gal_tan &lt;dbl&gt; | ratio_economic_gal_tan &lt;dbl&gt; | logit_economic_gal_tan &lt;dbl&gt; | gal_tan_controllo &lt;dbl&gt; |\n",
       "|---|---|---|---|---|---|---|---|---|---|---|---|---|\n",
       "| 0.1062707 | 0.1062707 | 0.1062707 | 0.1062707 | 0.1123849 | 0.1062707 | 0.1062707 | 0.2239698 | 0.1062707 | 0.1062707 | 0.2013907 | 0.1062707 | 0.1062707 |\n",
       "\n"
      ],
      "text/plain": [
       "  left_right ratio_leftright logit_left_right classic_economic ratio_economic\n",
       "1 0.1062707  0.1062707       0.1062707        0.1062707        0.1123849     \n",
       "  logit_economic classic_gal_tan ratio_gal_tan logit_gal_tan\n",
       "1 0.1062707      0.1062707       0.2239698     0.1062707    \n",
       "  classic_economic_gal_tan ratio_economic_gal_tan logit_economic_gal_tan\n",
       "1 0.1062707                0.2013907              0.1062707             \n",
       "  gal_tan_controllo\n",
       "1 0.1062707        "
      ]
     },
     "metadata": {},
     "output_type": "display_data"
    }
   ],
   "source": [
    "map_dfr(joined_texts, ~ sum(is.na(.)) / length(.)) %>% \n",
    "select(left_right, ratio_leftright, logit_left_right, classic_economic, ratio_economic, logit_economic, classic_gal_tan,\n",
    "      ratio_gal_tan, logit_gal_tan, classic_economic_gal_tan, ratio_economic_gal_tan, logit_economic_gal_tan, gal_tan_controllo)"
   ]
  },
  {
   "cell_type": "markdown",
   "id": "1b01aabf",
   "metadata": {},
   "source": [
    "# Filling the NULL values"
   ]
  },
  {
   "cell_type": "code",
   "execution_count": 31,
   "id": "c73c6168",
   "metadata": {},
   "outputs": [
    {
     "data": {
      "text/html": [
       "<table class=\"dataframe\">\n",
       "<caption>A grouped_df: 46 × 2</caption>\n",
       "<thead>\n",
       "\t<tr><th scope=col>legislature</th><th scope=col>gruppoP_recoded</th></tr>\n",
       "\t<tr><th scope=col>&lt;dbl&gt;</th><th scope=col>&lt;chr&gt;</th></tr>\n",
       "</thead>\n",
       "<tbody>\n",
       "\t<tr><td> 1</td><td>MISTO                                                                                                                                                       </td></tr>\n",
       "\t<tr><td> 1</td><td>US                                                                                                                                                          </td></tr>\n",
       "\t<tr><td> 1</td><td>PSU                                                                                                                                                         </td></tr>\n",
       "\t<tr><td> 2</td><td>MISTO                                                                                                                                                       </td></tr>\n",
       "\t<tr><td> 2</td><td>PMP                                                                                                                                                         </td></tr>\n",
       "\t<tr><td> 3</td><td>PDIUM                                                                                                                                                       </td></tr>\n",
       "\t<tr><td> 3</td><td>MISTO                                                                                                                                                       </td></tr>\n",
       "\t<tr><td> 4</td><td>PSIUP                                                                                                                                                       </td></tr>\n",
       "\t<tr><td> 4</td><td>MISTO                                                                                                                                                       </td></tr>\n",
       "\t<tr><td> 5</td><td>MISTO                                                                                                                                                       </td></tr>\n",
       "\t<tr><td> 5</td><td>PSI                                                                                                                                                         </td></tr>\n",
       "\t<tr><td> 5</td><td>PSDI                                                                                                                                                        </td></tr>\n",
       "\t<tr><td> 6</td><td>MISTO                                                                                                                                                       </td></tr>\n",
       "\t<tr><td> 7</td><td>MISTO                                                                                                                                                       </td></tr>\n",
       "\t<tr><td> 7</td><td>CD-DN                                                                                                                                                       </td></tr>\n",
       "\t<tr><td> 8</td><td>MISTO                                                                                                                                                       </td></tr>\n",
       "\t<tr><td> 8</td><td>PDUP                                                                                                                                                        </td></tr>\n",
       "\t<tr><td> 9</td><td>MISTO                                                                                                                                                       </td></tr>\n",
       "\t<tr><td> 9</td><td>SI                                                                                                                                                          </td></tr>\n",
       "\t<tr><td>10</td><td>SIN/IND/                                                                                                                                                    </td></tr>\n",
       "\t<tr><td>10</td><td>MISTO                                                                                                                                                       </td></tr>\n",
       "\t<tr><td>10</td><td>PDS                                                                                                                                                         </td></tr>\n",
       "\t<tr><td>11</td><td>MISTO                                                                                                                                                       </td></tr>\n",
       "\t<tr><td>11</td><td>UDC                                                                                                                                                         </td></tr>\n",
       "\t<tr><td>12</td><td>PROGR-F                                                                                                                                                     </td></tr>\n",
       "\t<tr><td>12</td><td>DEMO                                                                                                                                                        </td></tr>\n",
       "\t<tr><td>12</td><td>MISTO                                                                                                                                                       </td></tr>\n",
       "\t<tr><td>12</td><td>FLD                                                                                                                                                         </td></tr>\n",
       "\t<tr><td>12</td><td>LIFED                                                                                                                                                       </td></tr>\n",
       "\t<tr><td>13</td><td>PD-ULIVO-DS                                                                                                                                                 </td></tr>\n",
       "\t<tr><td>13</td><td>UDEUR                                                                                                                                                       </td></tr>\n",
       "\t<tr><td>13</td><td>MISTO                                                                                                                                                       </td></tr>\n",
       "\t<tr><td>13</td><td>UDR                                                                                                                                                         </td></tr>\n",
       "\t<tr><td>13</td><td>DEM-U                                                                                                                                                       </td></tr>\n",
       "\t<tr><td>14</td><td>MISTO                                                                                                                                                       </td></tr>\n",
       "\t<tr><td>15</td><td>SDPSE                                                                                                                                                       </td></tr>\n",
       "\t<tr><td>15</td><td>MISTO                                                                                                                                                       </td></tr>\n",
       "\t<tr><td>15</td><td>DCA-NPSI                                                                                                                                                    </td></tr>\n",
       "\t<tr><td>16</td><td>FLPTP                                                                                                                                                       </td></tr>\n",
       "\t<tr><td>16</td><td>NOI SUD-LIBERTA' ED AUTONOMIA/POPOLARI D'ITALIA DOMANI-PID/MOVIMENTO DI RESPONSABILITA' NAZIONALE-MRN/AZIONE POPOLARE/ALLEANZA DI CENTRO-ADC/INTESA POPOLARE</td></tr>\n",
       "\t<tr><td>16</td><td>MISTO                                                                                                                                                       </td></tr>\n",
       "\t<tr><td>17</td><td>MDP-LU                                                                                                                                                      </td></tr>\n",
       "\t<tr><td>17</td><td>MISTO                                                                                                                                                       </td></tr>\n",
       "\t<tr><td>17</td><td>CI                                                                                                                                                          </td></tr>\n",
       "\t<tr><td>18</td><td>MISTO                                                                                                                                                       </td></tr>\n",
       "\t<tr><td>18</td><td>IV                                                                                                                                                          </td></tr>\n",
       "</tbody>\n",
       "</table>\n"
      ],
      "text/latex": [
       "A grouped\\_df: 46 × 2\n",
       "\\begin{tabular}{ll}\n",
       " legislature & gruppoP\\_recoded\\\\\n",
       " <dbl> & <chr>\\\\\n",
       "\\hline\n",
       "\t  1 & MISTO                                                                                                                                                       \\\\\n",
       "\t  1 & US                                                                                                                                                          \\\\\n",
       "\t  1 & PSU                                                                                                                                                         \\\\\n",
       "\t  2 & MISTO                                                                                                                                                       \\\\\n",
       "\t  2 & PMP                                                                                                                                                         \\\\\n",
       "\t  3 & PDIUM                                                                                                                                                       \\\\\n",
       "\t  3 & MISTO                                                                                                                                                       \\\\\n",
       "\t  4 & PSIUP                                                                                                                                                       \\\\\n",
       "\t  4 & MISTO                                                                                                                                                       \\\\\n",
       "\t  5 & MISTO                                                                                                                                                       \\\\\n",
       "\t  5 & PSI                                                                                                                                                         \\\\\n",
       "\t  5 & PSDI                                                                                                                                                        \\\\\n",
       "\t  6 & MISTO                                                                                                                                                       \\\\\n",
       "\t  7 & MISTO                                                                                                                                                       \\\\\n",
       "\t  7 & CD-DN                                                                                                                                                       \\\\\n",
       "\t  8 & MISTO                                                                                                                                                       \\\\\n",
       "\t  8 & PDUP                                                                                                                                                        \\\\\n",
       "\t  9 & MISTO                                                                                                                                                       \\\\\n",
       "\t  9 & SI                                                                                                                                                          \\\\\n",
       "\t 10 & SIN/IND/                                                                                                                                                    \\\\\n",
       "\t 10 & MISTO                                                                                                                                                       \\\\\n",
       "\t 10 & PDS                                                                                                                                                         \\\\\n",
       "\t 11 & MISTO                                                                                                                                                       \\\\\n",
       "\t 11 & UDC                                                                                                                                                         \\\\\n",
       "\t 12 & PROGR-F                                                                                                                                                     \\\\\n",
       "\t 12 & DEMO                                                                                                                                                        \\\\\n",
       "\t 12 & MISTO                                                                                                                                                       \\\\\n",
       "\t 12 & FLD                                                                                                                                                         \\\\\n",
       "\t 12 & LIFED                                                                                                                                                       \\\\\n",
       "\t 13 & PD-ULIVO-DS                                                                                                                                                 \\\\\n",
       "\t 13 & UDEUR                                                                                                                                                       \\\\\n",
       "\t 13 & MISTO                                                                                                                                                       \\\\\n",
       "\t 13 & UDR                                                                                                                                                         \\\\\n",
       "\t 13 & DEM-U                                                                                                                                                       \\\\\n",
       "\t 14 & MISTO                                                                                                                                                       \\\\\n",
       "\t 15 & SDPSE                                                                                                                                                       \\\\\n",
       "\t 15 & MISTO                                                                                                                                                       \\\\\n",
       "\t 15 & DCA-NPSI                                                                                                                                                    \\\\\n",
       "\t 16 & FLPTP                                                                                                                                                       \\\\\n",
       "\t 16 & NOI SUD-LIBERTA' ED AUTONOMIA/POPOLARI D'ITALIA DOMANI-PID/MOVIMENTO DI RESPONSABILITA' NAZIONALE-MRN/AZIONE POPOLARE/ALLEANZA DI CENTRO-ADC/INTESA POPOLARE\\\\\n",
       "\t 16 & MISTO                                                                                                                                                       \\\\\n",
       "\t 17 & MDP-LU                                                                                                                                                      \\\\\n",
       "\t 17 & MISTO                                                                                                                                                       \\\\\n",
       "\t 17 & CI                                                                                                                                                          \\\\\n",
       "\t 18 & MISTO                                                                                                                                                       \\\\\n",
       "\t 18 & IV                                                                                                                                                          \\\\\n",
       "\\end{tabular}\n"
      ],
      "text/markdown": [
       "\n",
       "A grouped_df: 46 × 2\n",
       "\n",
       "| legislature &lt;dbl&gt; | gruppoP_recoded &lt;chr&gt; |\n",
       "|---|---|\n",
       "|  1 | MISTO                                                                                                                                                        |\n",
       "|  1 | US                                                                                                                                                           |\n",
       "|  1 | PSU                                                                                                                                                          |\n",
       "|  2 | MISTO                                                                                                                                                        |\n",
       "|  2 | PMP                                                                                                                                                          |\n",
       "|  3 | PDIUM                                                                                                                                                        |\n",
       "|  3 | MISTO                                                                                                                                                        |\n",
       "|  4 | PSIUP                                                                                                                                                        |\n",
       "|  4 | MISTO                                                                                                                                                        |\n",
       "|  5 | MISTO                                                                                                                                                        |\n",
       "|  5 | PSI                                                                                                                                                          |\n",
       "|  5 | PSDI                                                                                                                                                         |\n",
       "|  6 | MISTO                                                                                                                                                        |\n",
       "|  7 | MISTO                                                                                                                                                        |\n",
       "|  7 | CD-DN                                                                                                                                                        |\n",
       "|  8 | MISTO                                                                                                                                                        |\n",
       "|  8 | PDUP                                                                                                                                                         |\n",
       "|  9 | MISTO                                                                                                                                                        |\n",
       "|  9 | SI                                                                                                                                                           |\n",
       "| 10 | SIN/IND/                                                                                                                                                     |\n",
       "| 10 | MISTO                                                                                                                                                        |\n",
       "| 10 | PDS                                                                                                                                                          |\n",
       "| 11 | MISTO                                                                                                                                                        |\n",
       "| 11 | UDC                                                                                                                                                          |\n",
       "| 12 | PROGR-F                                                                                                                                                      |\n",
       "| 12 | DEMO                                                                                                                                                         |\n",
       "| 12 | MISTO                                                                                                                                                        |\n",
       "| 12 | FLD                                                                                                                                                          |\n",
       "| 12 | LIFED                                                                                                                                                        |\n",
       "| 13 | PD-ULIVO-DS                                                                                                                                                  |\n",
       "| 13 | UDEUR                                                                                                                                                        |\n",
       "| 13 | MISTO                                                                                                                                                        |\n",
       "| 13 | UDR                                                                                                                                                          |\n",
       "| 13 | DEM-U                                                                                                                                                        |\n",
       "| 14 | MISTO                                                                                                                                                        |\n",
       "| 15 | SDPSE                                                                                                                                                        |\n",
       "| 15 | MISTO                                                                                                                                                        |\n",
       "| 15 | DCA-NPSI                                                                                                                                                     |\n",
       "| 16 | FLPTP                                                                                                                                                        |\n",
       "| 16 | NOI SUD-LIBERTA' ED AUTONOMIA/POPOLARI D'ITALIA DOMANI-PID/MOVIMENTO DI RESPONSABILITA' NAZIONALE-MRN/AZIONE POPOLARE/ALLEANZA DI CENTRO-ADC/INTESA POPOLARE |\n",
       "| 16 | MISTO                                                                                                                                                        |\n",
       "| 17 | MDP-LU                                                                                                                                                       |\n",
       "| 17 | MISTO                                                                                                                                                        |\n",
       "| 17 | CI                                                                                                                                                           |\n",
       "| 18 | MISTO                                                                                                                                                        |\n",
       "| 18 | IV                                                                                                                                                           |\n",
       "\n"
      ],
      "text/plain": [
       "   legislature\n",
       "1   1         \n",
       "2   1         \n",
       "3   1         \n",
       "4   2         \n",
       "5   2         \n",
       "6   3         \n",
       "7   3         \n",
       "8   4         \n",
       "9   4         \n",
       "10  5         \n",
       "11  5         \n",
       "12  5         \n",
       "13  6         \n",
       "14  7         \n",
       "15  7         \n",
       "16  8         \n",
       "17  8         \n",
       "18  9         \n",
       "19  9         \n",
       "20 10         \n",
       "21 10         \n",
       "22 10         \n",
       "23 11         \n",
       "24 11         \n",
       "25 12         \n",
       "26 12         \n",
       "27 12         \n",
       "28 12         \n",
       "29 12         \n",
       "30 13         \n",
       "31 13         \n",
       "32 13         \n",
       "33 13         \n",
       "34 13         \n",
       "35 14         \n",
       "36 15         \n",
       "37 15         \n",
       "38 15         \n",
       "39 16         \n",
       "40 16         \n",
       "41 16         \n",
       "42 17         \n",
       "43 17         \n",
       "44 17         \n",
       "45 18         \n",
       "46 18         \n",
       "   gruppoP_recoded                                                                                                                                             \n",
       "1  MISTO                                                                                                                                                       \n",
       "2  US                                                                                                                                                          \n",
       "3  PSU                                                                                                                                                         \n",
       "4  MISTO                                                                                                                                                       \n",
       "5  PMP                                                                                                                                                         \n",
       "6  PDIUM                                                                                                                                                       \n",
       "7  MISTO                                                                                                                                                       \n",
       "8  PSIUP                                                                                                                                                       \n",
       "9  MISTO                                                                                                                                                       \n",
       "10 MISTO                                                                                                                                                       \n",
       "11 PSI                                                                                                                                                         \n",
       "12 PSDI                                                                                                                                                        \n",
       "13 MISTO                                                                                                                                                       \n",
       "14 MISTO                                                                                                                                                       \n",
       "15 CD-DN                                                                                                                                                       \n",
       "16 MISTO                                                                                                                                                       \n",
       "17 PDUP                                                                                                                                                        \n",
       "18 MISTO                                                                                                                                                       \n",
       "19 SI                                                                                                                                                          \n",
       "20 SIN/IND/                                                                                                                                                    \n",
       "21 MISTO                                                                                                                                                       \n",
       "22 PDS                                                                                                                                                         \n",
       "23 MISTO                                                                                                                                                       \n",
       "24 UDC                                                                                                                                                         \n",
       "25 PROGR-F                                                                                                                                                     \n",
       "26 DEMO                                                                                                                                                        \n",
       "27 MISTO                                                                                                                                                       \n",
       "28 FLD                                                                                                                                                         \n",
       "29 LIFED                                                                                                                                                       \n",
       "30 PD-ULIVO-DS                                                                                                                                                 \n",
       "31 UDEUR                                                                                                                                                       \n",
       "32 MISTO                                                                                                                                                       \n",
       "33 UDR                                                                                                                                                         \n",
       "34 DEM-U                                                                                                                                                       \n",
       "35 MISTO                                                                                                                                                       \n",
       "36 SDPSE                                                                                                                                                       \n",
       "37 MISTO                                                                                                                                                       \n",
       "38 DCA-NPSI                                                                                                                                                    \n",
       "39 FLPTP                                                                                                                                                       \n",
       "40 NOI SUD-LIBERTA' ED AUTONOMIA/POPOLARI D'ITALIA DOMANI-PID/MOVIMENTO DI RESPONSABILITA' NAZIONALE-MRN/AZIONE POPOLARE/ALLEANZA DI CENTRO-ADC/INTESA POPOLARE\n",
       "41 MISTO                                                                                                                                                       \n",
       "42 MDP-LU                                                                                                                                                      \n",
       "43 MISTO                                                                                                                                                       \n",
       "44 CI                                                                                                                                                          \n",
       "45 MISTO                                                                                                                                                       \n",
       "46 IV                                                                                                                                                          "
      ]
     },
     "metadata": {},
     "output_type": "display_data"
    }
   ],
   "source": [
    "joined_texts %>% \n",
    "filter(is.na(left_right)) %>% \n",
    "distinct(gruppoP_recoded)"
   ]
  },
  {
   "cell_type": "code",
   "execution_count": 32,
   "id": "be9d6144",
   "metadata": {},
   "outputs": [
    {
     "data": {
      "text/html": [
       "<table class=\"dataframe\">\n",
       "<caption>A tibble: 27 × 4</caption>\n",
       "<thead>\n",
       "\t<tr><th scope=col>legislatura</th><th scope=col>gruppoP_recoded</th><th scope=col>nome_completo</th><th scope=col>nota</th></tr>\n",
       "\t<tr><th scope=col>&lt;dbl&gt;</th><th scope=col>&lt;chr&gt;</th><th scope=col>&lt;chr&gt;</th><th scope=col>&lt;chr&gt;</th></tr>\n",
       "</thead>\n",
       "<tbody>\n",
       "\t<tr><td> 1</td><td>US                                                                                                                                                          </td><td>Unità Socialista                                                       </td><td>Nacque da una scissione del Partito Socialista Italiano                                                                                                      </td></tr>\n",
       "\t<tr><td> 1</td><td>PSU                                                                                                                                                         </td><td>Partito Socialista Unitario                                            </td><td>Nato da fusione tra Movimento Socialista Autonomista, l'Unione dei Socialisti e la corrente di sinistra uscita dal Partito Socialista dei Lavoratori Italiani</td></tr>\n",
       "\t<tr><td> 2</td><td>PMP                                                                                                                                                         </td><td>Partito Monarchico Popolare                                            </td><td>Valori nulli per 1953 e 1954                                                                                                                                 </td></tr>\n",
       "\t<tr><td> 3</td><td>PDIUM                                                                                                                                                       </td><td>Partito Democratico Italiano di Unità Monarchica                       </td><td>Valori nulli per 1958 e 1959                                                                                                                                 </td></tr>\n",
       "\t<tr><td> 4</td><td>PSIUP                                                                                                                                                       </td><td>Partito Socialista Italiano di Unità Proletaria                        </td><td>Valori nulli per 1963                                                                                                                                        </td></tr>\n",
       "\t<tr><td> 5</td><td>PSI                                                                                                                                                         </td><td>Partito Socialista Italiano                                            </td><td>Valori nulli per il 1968                                                                                                                                     </td></tr>\n",
       "\t<tr><td> 5</td><td>PSDI                                                                                                                                                        </td><td>Partito Socialista Democratico Italiano                                </td><td>Valori nulli per il 1968                                                                                                                                     </td></tr>\n",
       "\t<tr><td> 7</td><td>CD-DN                                                                                                                                                       </td><td>Democrazia Nazionale - Costituente di Destra                           </td><td>nato nel febbraio 1977 dall'omonima corrente moderata del MSI-DN, e durato sino allo scioglimento nel 1979                                                   </td></tr>\n",
       "\t<tr><td> 8</td><td>PDUP                                                                                                                                                        </td><td>Partito di Unità Proletaria per il Comunismo                           </td><td>Coalizzato con DP                                                                                                                                            </td></tr>\n",
       "\t<tr><td> 9</td><td>SI                                                                                                                                                          </td><td>Sinistra Indipendente                                                  </td><td>candidati contigui al PCI a partire dal 1967-68 fino al suo scioglimento, ma per provenienza e idee erano esterni alla struttura del partito                 </td></tr>\n",
       "\t<tr><td>10</td><td>SIN/IND/                                                                                                                                                    </td><td>Sinistra Indipendente                                                  </td><td>candidati contigui al PCI a partire dal 1967-68 fino al suo scioglimento, ma per provenienza e idee erano esterni alla struttura del partito                 </td></tr>\n",
       "\t<tr><td>10</td><td>PDS                                                                                                                                                         </td><td>Partito Democratico della Sinistra                                     </td><td>Valori nulli per 1987, 1988, 1989, 1990                                                                                                                      </td></tr>\n",
       "\t<tr><td>11</td><td>UDC                                                                                                                                                         </td><td>Centro Cristiano Democratico                                           </td><td>Fondato da esponenti moderati della DC                                                                                                                       </td></tr>\n",
       "\t<tr><td>12</td><td>DEMO                                                                                                                                                        </td><td>Patto dei Democratici                                                  </td><td>lista elettorale costituitasi in vista delle elezioni regionali del 1995 da Alleanza Democratica, Patto Segni e Socialisti Italiani                          </td></tr>\n",
       "\t<tr><td>12</td><td>FLD                                                                                                                                                         </td><td>Federalisti e Liberaldemocratici                                       </td><td>In texts è presente solo nel 1994, in ILSD solo nel 1995                                                                                                     </td></tr>\n",
       "\t<tr><td>12</td><td>LIFED                                                                                                                                                       </td><td>Lega Italiana Federalista                                              </td><td>Il partito fu fondato il 13 febbraio 1995 da alcuni esponenti della Lega Nord                                                                                </td></tr>\n",
       "\t<tr><td>13</td><td>PD-ULIVO                                                                                                                                                    </td><td>PDS - L'Ulivo / Democratici di Sinistra - L'Ulivo                      </td><td>Valori nulli per 1996 e 1997. Usare valori PDS del 1996?                                                                                                     </td></tr>\n",
       "\t<tr><td>13</td><td>UDEUR                                                                                                                                                       </td><td>Popolari UDEUR                                                         </td><td>Nato nel 1999; valori nulli per 1996, 1997 e 1998                                                                                                            </td></tr>\n",
       "\t<tr><td>13</td><td>UDR                                                                                                                                                         </td><td>Unione Democratica per la Repubblica                                   </td><td>Fondata nel 1998 da elementi proveniente da CDU, CDR e PSDI; valori nulli per 1996 e 1997                                                                    </td></tr>\n",
       "\t<tr><td>13</td><td>DEM-U                                                                                                                                                       </td><td>I Democratici - L'Ulivo                                                </td><td>Valori nulli per 1996, 1997 e 1998                                                                                                                           </td></tr>\n",
       "\t<tr><td>15</td><td>SDPSE                                                                                                                                                       </td><td>Sinistra Democratica Per il Socialismo Europeo                         </td><td>Valori nulli per 2006 e 2007                                                                                                                                 </td></tr>\n",
       "\t<tr><td>15</td><td>DCA-NPSI                                                                                                                                                    </td><td>Democrazia Cristiana per le Autonomie-Nuovo Partito Socialista Italiano</td><td>Assente in ILSD per ragioni non identificate                                                                                                                 </td></tr>\n",
       "\t<tr><td>16</td><td>FLPTP                                                                                                                                                       </td><td>Futuro e Libertà Per il Terzo Polo                                     </td><td>In ILSD c'è Unione di Centro Per il Terzo Polo                                                                                                               </td></tr>\n",
       "\t<tr><td>16</td><td>NOI SUD-LIBERTA' ED AUTONOMIA/POPOLARI D'ITALIA DOMANI-PID/MOVIMENTO DI RESPONSABILITA' NAZIONALE-MRN/AZIONE POPOLARE/ALLEANZA DI CENTRO-ADC/INTESA POPOLARE</td><td>                                                                       </td><td>Valori nulli per 2008 e 2009                                                                                                                                 </td></tr>\n",
       "\t<tr><td>17</td><td>MDP-LU                                                                                                                                                      </td><td>ARTICOLO 1-MOVIMENTO DEMOCRATICO E PROGRESSISTA                        </td><td>Assente in ILSD; ci sono però Alternativa Libera-Possibile e SEL                                                                                             </td></tr>\n",
       "\t<tr><td>17</td><td>CI                                                                                                                                                          </td><td>Civici e Innovatori                                                    </td><td>fino al 2016 noto come Scelta Civica per l'Italia                                                                                                            </td></tr>\n",
       "\t<tr><td>18</td><td>IV                                                                                                                                                          </td><td>                                                                       </td><td>Assente in ILSD                                                                                                                                              </td></tr>\n",
       "</tbody>\n",
       "</table>\n"
      ],
      "text/latex": [
       "A tibble: 27 × 4\n",
       "\\begin{tabular}{llll}\n",
       " legislatura & gruppoP\\_recoded & nome\\_completo & nota\\\\\n",
       " <dbl> & <chr> & <chr> & <chr>\\\\\n",
       "\\hline\n",
       "\t  1 & US                                                                                                                                                           & Unità Socialista                                                        & Nacque da una scissione del Partito Socialista Italiano                                                                                                      \\\\\n",
       "\t  1 & PSU                                                                                                                                                          & Partito Socialista Unitario                                             & Nato da fusione tra Movimento Socialista Autonomista, l'Unione dei Socialisti e la corrente di sinistra uscita dal Partito Socialista dei Lavoratori Italiani\\\\\n",
       "\t  2 & PMP                                                                                                                                                          & Partito Monarchico Popolare                                             & Valori nulli per 1953 e 1954                                                                                                                                 \\\\\n",
       "\t  3 & PDIUM                                                                                                                                                        & Partito Democratico Italiano di Unità Monarchica                        & Valori nulli per 1958 e 1959                                                                                                                                 \\\\\n",
       "\t  4 & PSIUP                                                                                                                                                        & Partito Socialista Italiano di Unità Proletaria                         & Valori nulli per 1963                                                                                                                                        \\\\\n",
       "\t  5 & PSI                                                                                                                                                          & Partito Socialista Italiano                                             & Valori nulli per il 1968                                                                                                                                     \\\\\n",
       "\t  5 & PSDI                                                                                                                                                         & Partito Socialista Democratico Italiano                                 & Valori nulli per il 1968                                                                                                                                     \\\\\n",
       "\t  7 & CD-DN                                                                                                                                                        & Democrazia Nazionale - Costituente di Destra                            & nato nel febbraio 1977 dall'omonima corrente moderata del MSI-DN, e durato sino allo scioglimento nel 1979                                                   \\\\\n",
       "\t  8 & PDUP                                                                                                                                                         & Partito di Unità Proletaria per il Comunismo                            & Coalizzato con DP                                                                                                                                            \\\\\n",
       "\t  9 & SI                                                                                                                                                           & Sinistra Indipendente                                                   & candidati contigui al PCI a partire dal 1967-68 fino al suo scioglimento, ma per provenienza e idee erano esterni alla struttura del partito                 \\\\\n",
       "\t 10 & SIN/IND/                                                                                                                                                     & Sinistra Indipendente                                                   & candidati contigui al PCI a partire dal 1967-68 fino al suo scioglimento, ma per provenienza e idee erano esterni alla struttura del partito                 \\\\\n",
       "\t 10 & PDS                                                                                                                                                          & Partito Democratico della Sinistra                                      & Valori nulli per 1987, 1988, 1989, 1990                                                                                                                      \\\\\n",
       "\t 11 & UDC                                                                                                                                                          & Centro Cristiano Democratico                                            & Fondato da esponenti moderati della DC                                                                                                                       \\\\\n",
       "\t 12 & DEMO                                                                                                                                                         & Patto dei Democratici                                                   & lista elettorale costituitasi in vista delle elezioni regionali del 1995 da Alleanza Democratica, Patto Segni e Socialisti Italiani                          \\\\\n",
       "\t 12 & FLD                                                                                                                                                          & Federalisti e Liberaldemocratici                                        & In texts è presente solo nel 1994, in ILSD solo nel 1995                                                                                                     \\\\\n",
       "\t 12 & LIFED                                                                                                                                                        & Lega Italiana Federalista                                               & Il partito fu fondato il 13 febbraio 1995 da alcuni esponenti della Lega Nord                                                                                \\\\\n",
       "\t 13 & PD-ULIVO                                                                                                                                                     & PDS - L'Ulivo / Democratici di Sinistra - L'Ulivo                       & Valori nulli per 1996 e 1997. Usare valori PDS del 1996?                                                                                                     \\\\\n",
       "\t 13 & UDEUR                                                                                                                                                        & Popolari UDEUR                                                          & Nato nel 1999; valori nulli per 1996, 1997 e 1998                                                                                                            \\\\\n",
       "\t 13 & UDR                                                                                                                                                          & Unione Democratica per la Repubblica                                    & Fondata nel 1998 da elementi proveniente da CDU, CDR e PSDI; valori nulli per 1996 e 1997                                                                    \\\\\n",
       "\t 13 & DEM-U                                                                                                                                                        & I Democratici - L'Ulivo                                                 & Valori nulli per 1996, 1997 e 1998                                                                                                                           \\\\\n",
       "\t 15 & SDPSE                                                                                                                                                        & Sinistra Democratica Per il Socialismo Europeo                          & Valori nulli per 2006 e 2007                                                                                                                                 \\\\\n",
       "\t 15 & DCA-NPSI                                                                                                                                                     & Democrazia Cristiana per le Autonomie-Nuovo Partito Socialista Italiano & Assente in ILSD per ragioni non identificate                                                                                                                 \\\\\n",
       "\t 16 & FLPTP                                                                                                                                                        & Futuro e Libertà Per il Terzo Polo                                      & In ILSD c'è Unione di Centro Per il Terzo Polo                                                                                                               \\\\\n",
       "\t 16 & NOI SUD-LIBERTA' ED AUTONOMIA/POPOLARI D'ITALIA DOMANI-PID/MOVIMENTO DI RESPONSABILITA' NAZIONALE-MRN/AZIONE POPOLARE/ALLEANZA DI CENTRO-ADC/INTESA POPOLARE &                                                                         & Valori nulli per 2008 e 2009                                                                                                                                 \\\\\n",
       "\t 17 & MDP-LU                                                                                                                                                       & ARTICOLO 1-MOVIMENTO DEMOCRATICO E PROGRESSISTA                         & Assente in ILSD; ci sono però Alternativa Libera-Possibile e SEL                                                                                             \\\\\n",
       "\t 17 & CI                                                                                                                                                           & Civici e Innovatori                                                     & fino al 2016 noto come Scelta Civica per l'Italia                                                                                                            \\\\\n",
       "\t 18 & IV                                                                                                                                                           &                                                                         & Assente in ILSD                                                                                                                                              \\\\\n",
       "\\end{tabular}\n"
      ],
      "text/markdown": [
       "\n",
       "A tibble: 27 × 4\n",
       "\n",
       "| legislatura &lt;dbl&gt; | gruppoP_recoded &lt;chr&gt; | nome_completo &lt;chr&gt; | nota &lt;chr&gt; |\n",
       "|---|---|---|---|\n",
       "|  1 | US                                                                                                                                                           | Unità Socialista                                                        | Nacque da una scissione del Partito Socialista Italiano                                                                                                       |\n",
       "|  1 | PSU                                                                                                                                                          | Partito Socialista Unitario                                             | Nato da fusione tra Movimento Socialista Autonomista, l'Unione dei Socialisti e la corrente di sinistra uscita dal Partito Socialista dei Lavoratori Italiani |\n",
       "|  2 | PMP                                                                                                                                                          | Partito Monarchico Popolare                                             | Valori nulli per 1953 e 1954                                                                                                                                  |\n",
       "|  3 | PDIUM                                                                                                                                                        | Partito Democratico Italiano di Unità Monarchica                        | Valori nulli per 1958 e 1959                                                                                                                                  |\n",
       "|  4 | PSIUP                                                                                                                                                        | Partito Socialista Italiano di Unità Proletaria                         | Valori nulli per 1963                                                                                                                                         |\n",
       "|  5 | PSI                                                                                                                                                          | Partito Socialista Italiano                                             | Valori nulli per il 1968                                                                                                                                      |\n",
       "|  5 | PSDI                                                                                                                                                         | Partito Socialista Democratico Italiano                                 | Valori nulli per il 1968                                                                                                                                      |\n",
       "|  7 | CD-DN                                                                                                                                                        | Democrazia Nazionale - Costituente di Destra                            | nato nel febbraio 1977 dall'omonima corrente moderata del MSI-DN, e durato sino allo scioglimento nel 1979                                                    |\n",
       "|  8 | PDUP                                                                                                                                                         | Partito di Unità Proletaria per il Comunismo                            | Coalizzato con DP                                                                                                                                             |\n",
       "|  9 | SI                                                                                                                                                           | Sinistra Indipendente                                                   | candidati contigui al PCI a partire dal 1967-68 fino al suo scioglimento, ma per provenienza e idee erano esterni alla struttura del partito                  |\n",
       "| 10 | SIN/IND/                                                                                                                                                     | Sinistra Indipendente                                                   | candidati contigui al PCI a partire dal 1967-68 fino al suo scioglimento, ma per provenienza e idee erano esterni alla struttura del partito                  |\n",
       "| 10 | PDS                                                                                                                                                          | Partito Democratico della Sinistra                                      | Valori nulli per 1987, 1988, 1989, 1990                                                                                                                       |\n",
       "| 11 | UDC                                                                                                                                                          | Centro Cristiano Democratico                                            | Fondato da esponenti moderati della DC                                                                                                                        |\n",
       "| 12 | DEMO                                                                                                                                                         | Patto dei Democratici                                                   | lista elettorale costituitasi in vista delle elezioni regionali del 1995 da Alleanza Democratica, Patto Segni e Socialisti Italiani                           |\n",
       "| 12 | FLD                                                                                                                                                          | Federalisti e Liberaldemocratici                                        | In texts è presente solo nel 1994, in ILSD solo nel 1995                                                                                                      |\n",
       "| 12 | LIFED                                                                                                                                                        | Lega Italiana Federalista                                               | Il partito fu fondato il 13 febbraio 1995 da alcuni esponenti della Lega Nord                                                                                 |\n",
       "| 13 | PD-ULIVO                                                                                                                                                     | PDS - L'Ulivo / Democratici di Sinistra - L'Ulivo                       | Valori nulli per 1996 e 1997. Usare valori PDS del 1996?                                                                                                      |\n",
       "| 13 | UDEUR                                                                                                                                                        | Popolari UDEUR                                                          | Nato nel 1999; valori nulli per 1996, 1997 e 1998                                                                                                             |\n",
       "| 13 | UDR                                                                                                                                                          | Unione Democratica per la Repubblica                                    | Fondata nel 1998 da elementi proveniente da CDU, CDR e PSDI; valori nulli per 1996 e 1997                                                                     |\n",
       "| 13 | DEM-U                                                                                                                                                        | I Democratici - L'Ulivo                                                 | Valori nulli per 1996, 1997 e 1998                                                                                                                            |\n",
       "| 15 | SDPSE                                                                                                                                                        | Sinistra Democratica Per il Socialismo Europeo                          | Valori nulli per 2006 e 2007                                                                                                                                  |\n",
       "| 15 | DCA-NPSI                                                                                                                                                     | Democrazia Cristiana per le Autonomie-Nuovo Partito Socialista Italiano | Assente in ILSD per ragioni non identificate                                                                                                                  |\n",
       "| 16 | FLPTP                                                                                                                                                        | Futuro e Libertà Per il Terzo Polo                                      | In ILSD c'è Unione di Centro Per il Terzo Polo                                                                                                                |\n",
       "| 16 | NOI SUD-LIBERTA' ED AUTONOMIA/POPOLARI D'ITALIA DOMANI-PID/MOVIMENTO DI RESPONSABILITA' NAZIONALE-MRN/AZIONE POPOLARE/ALLEANZA DI CENTRO-ADC/INTESA POPOLARE | <!----> | Valori nulli per 2008 e 2009                                                                                                                                  |\n",
       "| 17 | MDP-LU                                                                                                                                                       | ARTICOLO 1-MOVIMENTO DEMOCRATICO E PROGRESSISTA                         | Assente in ILSD; ci sono però Alternativa Libera-Possibile e SEL                                                                                              |\n",
       "| 17 | CI                                                                                                                                                           | Civici e Innovatori                                                     | fino al 2016 noto come Scelta Civica per l'Italia                                                                                                             |\n",
       "| 18 | IV                                                                                                                                                           | <!----> | Assente in ILSD                                                                                                                                               |\n",
       "\n"
      ],
      "text/plain": [
       "   legislatura\n",
       "1   1         \n",
       "2   1         \n",
       "3   2         \n",
       "4   3         \n",
       "5   4         \n",
       "6   5         \n",
       "7   5         \n",
       "8   7         \n",
       "9   8         \n",
       "10  9         \n",
       "11 10         \n",
       "12 10         \n",
       "13 11         \n",
       "14 12         \n",
       "15 12         \n",
       "16 12         \n",
       "17 13         \n",
       "18 13         \n",
       "19 13         \n",
       "20 13         \n",
       "21 15         \n",
       "22 15         \n",
       "23 16         \n",
       "24 16         \n",
       "25 17         \n",
       "26 17         \n",
       "27 18         \n",
       "   gruppoP_recoded                                                                                                                                             \n",
       "1  US                                                                                                                                                          \n",
       "2  PSU                                                                                                                                                         \n",
       "3  PMP                                                                                                                                                         \n",
       "4  PDIUM                                                                                                                                                       \n",
       "5  PSIUP                                                                                                                                                       \n",
       "6  PSI                                                                                                                                                         \n",
       "7  PSDI                                                                                                                                                        \n",
       "8  CD-DN                                                                                                                                                       \n",
       "9  PDUP                                                                                                                                                        \n",
       "10 SI                                                                                                                                                          \n",
       "11 SIN/IND/                                                                                                                                                    \n",
       "12 PDS                                                                                                                                                         \n",
       "13 UDC                                                                                                                                                         \n",
       "14 DEMO                                                                                                                                                        \n",
       "15 FLD                                                                                                                                                         \n",
       "16 LIFED                                                                                                                                                       \n",
       "17 PD-ULIVO                                                                                                                                                    \n",
       "18 UDEUR                                                                                                                                                       \n",
       "19 UDR                                                                                                                                                         \n",
       "20 DEM-U                                                                                                                                                       \n",
       "21 SDPSE                                                                                                                                                       \n",
       "22 DCA-NPSI                                                                                                                                                    \n",
       "23 FLPTP                                                                                                                                                       \n",
       "24 NOI SUD-LIBERTA' ED AUTONOMIA/POPOLARI D'ITALIA DOMANI-PID/MOVIMENTO DI RESPONSABILITA' NAZIONALE-MRN/AZIONE POPOLARE/ALLEANZA DI CENTRO-ADC/INTESA POPOLARE\n",
       "25 MDP-LU                                                                                                                                                      \n",
       "26 CI                                                                                                                                                          \n",
       "27 IV                                                                                                                                                          \n",
       "   nome_completo                                                          \n",
       "1  Unità Socialista                                                       \n",
       "2  Partito Socialista Unitario                                            \n",
       "3  Partito Monarchico Popolare                                            \n",
       "4  Partito Democratico Italiano di Unità Monarchica                       \n",
       "5  Partito Socialista Italiano di Unità Proletaria                        \n",
       "6  Partito Socialista Italiano                                            \n",
       "7  Partito Socialista Democratico Italiano                                \n",
       "8  Democrazia Nazionale - Costituente di Destra                           \n",
       "9  Partito di Unità Proletaria per il Comunismo                           \n",
       "10 Sinistra Indipendente                                                  \n",
       "11 Sinistra Indipendente                                                  \n",
       "12 Partito Democratico della Sinistra                                     \n",
       "13 Centro Cristiano Democratico                                           \n",
       "14 Patto dei Democratici                                                  \n",
       "15 Federalisti e Liberaldemocratici                                       \n",
       "16 Lega Italiana Federalista                                              \n",
       "17 PDS - L'Ulivo / Democratici di Sinistra - L'Ulivo                      \n",
       "18 Popolari UDEUR                                                         \n",
       "19 Unione Democratica per la Repubblica                                   \n",
       "20 I Democratici - L'Ulivo                                                \n",
       "21 Sinistra Democratica Per il Socialismo Europeo                         \n",
       "22 Democrazia Cristiana per le Autonomie-Nuovo Partito Socialista Italiano\n",
       "23 Futuro e Libertà Per il Terzo Polo                                     \n",
       "24                                                                        \n",
       "25 ARTICOLO 1-MOVIMENTO DEMOCRATICO E PROGRESSISTA                        \n",
       "26 Civici e Innovatori                                                    \n",
       "27                                                                        \n",
       "   nota                                                                                                                                                         \n",
       "1  Nacque da una scissione del Partito Socialista Italiano                                                                                                      \n",
       "2  Nato da fusione tra Movimento Socialista Autonomista, l'Unione dei Socialisti e la corrente di sinistra uscita dal Partito Socialista dei Lavoratori Italiani\n",
       "3  Valori nulli per 1953 e 1954                                                                                                                                 \n",
       "4  Valori nulli per 1958 e 1959                                                                                                                                 \n",
       "5  Valori nulli per 1963                                                                                                                                        \n",
       "6  Valori nulli per il 1968                                                                                                                                     \n",
       "7  Valori nulli per il 1968                                                                                                                                     \n",
       "8  nato nel febbraio 1977 dall'omonima corrente moderata del MSI-DN, e durato sino allo scioglimento nel 1979                                                   \n",
       "9  Coalizzato con DP                                                                                                                                            \n",
       "10 candidati contigui al PCI a partire dal 1967-68 fino al suo scioglimento, ma per provenienza e idee erano esterni alla struttura del partito                 \n",
       "11 candidati contigui al PCI a partire dal 1967-68 fino al suo scioglimento, ma per provenienza e idee erano esterni alla struttura del partito                 \n",
       "12 Valori nulli per 1987, 1988, 1989, 1990                                                                                                                      \n",
       "13 Fondato da esponenti moderati della DC                                                                                                                       \n",
       "14 lista elettorale costituitasi in vista delle elezioni regionali del 1995 da Alleanza Democratica, Patto Segni e Socialisti Italiani                          \n",
       "15 In texts è presente solo nel 1994, in ILSD solo nel 1995                                                                                                     \n",
       "16 Il partito fu fondato il 13 febbraio 1995 da alcuni esponenti della Lega Nord                                                                                \n",
       "17 Valori nulli per 1996 e 1997. Usare valori PDS del 1996?                                                                                                     \n",
       "18 Nato nel 1999; valori nulli per 1996, 1997 e 1998                                                                                                            \n",
       "19 Fondata nel 1998 da elementi proveniente da CDU, CDR e PSDI; valori nulli per 1996 e 1997                                                                    \n",
       "20 Valori nulli per 1996, 1997 e 1998                                                                                                                           \n",
       "21 Valori nulli per 2006 e 2007                                                                                                                                 \n",
       "22 Assente in ILSD per ragioni non identificate                                                                                                                 \n",
       "23 In ILSD c'è Unione di Centro Per il Terzo Polo                                                                                                               \n",
       "24 Valori nulli per 2008 e 2009                                                                                                                                 \n",
       "25 Assente in ILSD; ci sono però Alternativa Libera-Possibile e SEL                                                                                             \n",
       "26 fino al 2016 noto come Scelta Civica per l'Italia                                                                                                            \n",
       "27 Assente in ILSD                                                                                                                                              "
      ]
     },
     "metadata": {},
     "output_type": "display_data"
    }
   ],
   "source": [
    "tribble(~legislatura, ~gruppoP_recoded, ~nome_completo, ~nota,\n",
    "        1, \"MISTO\", \"\", \"\",\n",
    "        1, \"US\", \"Unità Socialista\", \"Nacque da una scissione del Partito Socialista Italiano\",\n",
    "        1, \"PSU\", \"Partito Socialista Unitario\", \"Nato da fusione tra Movimento Socialista Autonomista, l'Unione dei Socialisti e la corrente di sinistra uscita dal Partito Socialista dei Lavoratori Italiani\",\n",
    "        2, \"MISTO\", \"\", \"\",\n",
    "        2, \"PMP\", \"Partito Monarchico Popolare\", \"Valori nulli per 1953 e 1954\",\n",
    "        3, \"PDIUM\", \"Partito Democratico Italiano di Unità Monarchica\", \"Valori nulli per 1958 e 1959\",\n",
    "        3, \"MISTO\", \"\", \"\",\n",
    "        4, \"PSIUP\", \"Partito Socialista Italiano di Unità Proletaria\", \"Valori nulli per 1963\",\n",
    "        4, \"MISTO\", \"\", \"\",\n",
    "        5, \"MISTO\", \"\", \"\",\n",
    "        5, \"PSI\", \"Partito Socialista Italiano\", \"Valori nulli per il 1968\",\n",
    "        5, \"PSDI\", \"Partito Socialista Democratico Italiano\", \"Valori nulli per il 1968\",\n",
    "        6, \"MISTO\", \"\", \"\",\n",
    "        7, \"MISTO\", \"\", \"\",\n",
    "        7, \"CD-DN\", \"Democrazia Nazionale - Costituente di Destra\", \"nato nel febbraio 1977 dall'omonima corrente moderata del MSI-DN, e durato sino allo scioglimento nel 1979\",\n",
    "        8, \"MISTO\", \"\", \"\", \n",
    "        8, \"PDUP\", \"Partito di Unità Proletaria per il Comunismo\", \"Coalizzato con DP\",\n",
    "        9, \"MISTO\", \"\", \"\",\n",
    "        9, \"SI\", \"Sinistra Indipendente\", \"candidati contigui al PCI a partire dal 1967-68 fino al suo scioglimento, ma per provenienza e idee erano esterni alla struttura del partito\",\n",
    "        10, \"SIN/IND/\", \"Sinistra Indipendente\", \"candidati contigui al PCI a partire dal 1967-68 fino al suo scioglimento, ma per provenienza e idee erano esterni alla struttura del partito\",\n",
    "        10, \"MISTO\", \"\", \"\",\n",
    "        10, \"PDS\", \"Partito Democratico della Sinistra\", \"Valori nulli per 1987, 1988, 1989, 1990\",\n",
    "        11, \"MISTO\", \"\", \"\",\n",
    "        11, \"UDC\", \"Centro Cristiano Democratico\", \"Fondato da esponenti moderati della DC\",\n",
    "        12, \"DEMO\", \"Patto dei Democratici\", \"lista elettorale costituitasi in vista delle elezioni regionali del 1995 da Alleanza Democratica, Patto Segni e Socialisti Italiani\",\n",
    "        12, \"MISTO\", \"\", \"\",\n",
    "        12, \"FLD\", \"Federalisti e Liberaldemocratici\", \"In texts è presente solo nel 1994, in ILSD solo nel 1995\",\n",
    "        12, \"LIFED\", \"Lega Italiana Federalista\", \"Il partito fu fondato il 13 febbraio 1995 da alcuni esponenti della Lega Nord\",\n",
    "        13, \"PD-ULIVO\", \"PDS - L'Ulivo / Democratici di Sinistra - L'Ulivo\", \"Valori nulli per 1996 e 1997. Usare valori PDS del 1996?\",\n",
    "        13, \"UDEUR\", \"Popolari UDEUR\", \"Nato nel 1999; valori nulli per 1996, 1997 e 1998\",\n",
    "        13, \"MISTO\", \"\", \"\",\n",
    "        13, \"UDR\", \"Unione Democratica per la Repubblica\", \"Fondata nel 1998 da elementi proveniente da CDU, CDR e PSDI; valori nulli per 1996 e 1997\",\n",
    "        13, \"DEM-U\", \"I Democratici - L'Ulivo\", \"Valori nulli per 1996, 1997 e 1998\",\n",
    "        14, \"MISTO\", \"\", \"\",\n",
    "        15, \"SDPSE\", \"Sinistra Democratica Per il Socialismo Europeo\", \"Valori nulli per 2006 e 2007\",\n",
    "        15, \"MISTO\", \"\", \"\",\n",
    "        15, \"DCA-NPSI\", \"Democrazia Cristiana per le Autonomie-Nuovo Partito Socialista Italiano\", \"Assente in ILSD per ragioni non identificate\",\n",
    "        16, \"FLPTP\", \"Futuro e Libertà Per il Terzo Polo\", \"In ILSD c'è Unione di Centro Per il Terzo Polo\",\n",
    "        16, \"NOI SUD-LIBERTA' ED AUTONOMIA/POPOLARI D'ITALIA DOMANI-PID/MOVIMENTO DI RESPONSABILITA' NAZIONALE-MRN/AZIONE POPOLARE/ALLEANZA DI CENTRO-ADC/INTESA POPOLARE\", \"\", \"Valori nulli per 2008 e 2009\",\n",
    "        16, \"MISTO\", \"\", \"\",\n",
    "        17, \"MDP-LU\", \"ARTICOLO 1-MOVIMENTO DEMOCRATICO E PROGRESSISTA\", \"Assente in ILSD; ci sono però Alternativa Libera-Possibile e SEL\",\n",
    "        17, \"MISTO\", \"\", \"\",\n",
    "        17, \"CI\", \"Civici e Innovatori\", \"fino al 2016 noto come Scelta Civica per l'Italia\",\n",
    "        18, \"MISTO\", \"\", \"\",      \n",
    "        18, \"IV\", \"\", \"Assente in ILSD\"\n",
    "        \n",
    "       ) %>% \n",
    "filter(gruppoP_recoded != \"MISTO\")"
   ]
  },
  {
   "cell_type": "markdown",
   "id": "e183fee1",
   "metadata": {},
   "source": [
    "## Unità Socialista (US) and Partito Socialista Unitario (PSU)"
   ]
  },
  {
   "cell_type": "markdown",
   "id": "074f8111",
   "metadata": {},
   "source": [
    "\"Unità Socialista\" was born out of an agreement between PSDI (then \"Partito Socialista dei Lavoratori Italiani\") and \"Unione dei Socialisti\". The latter splintered from PSI. \n",
    "\n",
    "\"Partito Socialista Unitario\" was founded in 1949 as a result of the merging of three parties: Movimento Socialista Autonomista, Unione dei Socialisti and PSDI (then \"Partito Socialista dei Lavoratori Italiani\"). \n",
    "\n",
    "Movimento Socialista Autonomista is not available in ILSD. I am thus filling the null values for both US and PSU with the average between PSDI and PSI. "
   ]
  },
  {
   "cell_type": "code",
   "execution_count": 33,
   "id": "44ef40a5",
   "metadata": {},
   "outputs": [
    {
     "data": {
      "text/html": [
       "<table class=\"dataframe\">\n",
       "<caption>A tibble: 4 × 13</caption>\n",
       "<thead>\n",
       "\t<tr><th scope=col>Year</th><th scope=col>left_right</th><th scope=col>ratio_leftright</th><th scope=col>logit_left_right</th><th scope=col>classic_economic</th><th scope=col>ratio_economic</th><th scope=col>logit_economic</th><th scope=col>classic_gal_tan</th><th scope=col>ratio_gal_tan</th><th scope=col>logit_gal_tan</th><th scope=col>classic_economic_gal_tan</th><th scope=col>ratio_economic_gal_tan</th><th scope=col>logit_economic_gal_tan</th></tr>\n",
       "\t<tr><th scope=col>&lt;int&gt;</th><th scope=col>&lt;dbl&gt;</th><th scope=col>&lt;dbl&gt;</th><th scope=col>&lt;dbl&gt;</th><th scope=col>&lt;dbl&gt;</th><th scope=col>&lt;dbl&gt;</th><th scope=col>&lt;dbl&gt;</th><th scope=col>&lt;dbl&gt;</th><th scope=col>&lt;dbl&gt;</th><th scope=col>&lt;dbl&gt;</th><th scope=col>&lt;dbl&gt;</th><th scope=col>&lt;dbl&gt;</th><th scope=col>&lt;dbl&gt;</th></tr>\n",
       "</thead>\n",
       "<tbody>\n",
       "\t<tr><td>1948</td><td>-31.98393</td><td>-2.899208</td><td>-2.899208</td><td>-14.01744</td><td>-0.9098242</td><td>-2.577971</td><td> 0.48207</td><td>  0</td><td> 0.3934124</td><td> 0.48207</td><td>  0</td><td> 0.3934124</td></tr>\n",
       "\t<tr><td>1949</td><td>-31.98393</td><td>-2.899208</td><td>-2.899208</td><td>-14.01744</td><td>-0.9098242</td><td>-2.577971</td><td> 0.48207</td><td>  0</td><td> 0.3934124</td><td> 0.48207</td><td>  0</td><td> 0.3934124</td></tr>\n",
       "\t<tr><td>1950</td><td>-24.45500</td><td>-2.585112</td><td>-2.585112</td><td>-13.48500</td><td>-0.8469818</td><td>-2.413050</td><td>-0.07500</td><td>NaN</td><td>-0.1311821</td><td>-0.07500</td><td>NaN</td><td>-0.1311821</td></tr>\n",
       "\t<tr><td>1951</td><td>-25.60750</td><td>-2.243195</td><td>-2.243195</td><td>-15.92500</td><td>-0.9035449</td><td>-2.740863</td><td>-0.30000</td><td> -1</td><td>-0.4237901</td><td>-0.30000</td><td> -1</td><td>-0.4237901</td></tr>\n",
       "</tbody>\n",
       "</table>\n"
      ],
      "text/latex": [
       "A tibble: 4 × 13\n",
       "\\begin{tabular}{lllllllllllll}\n",
       " Year & left\\_right & ratio\\_leftright & logit\\_left\\_right & classic\\_economic & ratio\\_economic & logit\\_economic & classic\\_gal\\_tan & ratio\\_gal\\_tan & logit\\_gal\\_tan & classic\\_economic\\_gal\\_tan & ratio\\_economic\\_gal\\_tan & logit\\_economic\\_gal\\_tan\\\\\n",
       " <int> & <dbl> & <dbl> & <dbl> & <dbl> & <dbl> & <dbl> & <dbl> & <dbl> & <dbl> & <dbl> & <dbl> & <dbl>\\\\\n",
       "\\hline\n",
       "\t 1948 & -31.98393 & -2.899208 & -2.899208 & -14.01744 & -0.9098242 & -2.577971 &  0.48207 &   0 &  0.3934124 &  0.48207 &   0 &  0.3934124\\\\\n",
       "\t 1949 & -31.98393 & -2.899208 & -2.899208 & -14.01744 & -0.9098242 & -2.577971 &  0.48207 &   0 &  0.3934124 &  0.48207 &   0 &  0.3934124\\\\\n",
       "\t 1950 & -24.45500 & -2.585112 & -2.585112 & -13.48500 & -0.8469818 & -2.413050 & -0.07500 & NaN & -0.1311821 & -0.07500 & NaN & -0.1311821\\\\\n",
       "\t 1951 & -25.60750 & -2.243195 & -2.243195 & -15.92500 & -0.9035449 & -2.740863 & -0.30000 &  -1 & -0.4237901 & -0.30000 &  -1 & -0.4237901\\\\\n",
       "\\end{tabular}\n"
      ],
      "text/markdown": [
       "\n",
       "A tibble: 4 × 13\n",
       "\n",
       "| Year &lt;int&gt; | left_right &lt;dbl&gt; | ratio_leftright &lt;dbl&gt; | logit_left_right &lt;dbl&gt; | classic_economic &lt;dbl&gt; | ratio_economic &lt;dbl&gt; | logit_economic &lt;dbl&gt; | classic_gal_tan &lt;dbl&gt; | ratio_gal_tan &lt;dbl&gt; | logit_gal_tan &lt;dbl&gt; | classic_economic_gal_tan &lt;dbl&gt; | ratio_economic_gal_tan &lt;dbl&gt; | logit_economic_gal_tan &lt;dbl&gt; |\n",
       "|---|---|---|---|---|---|---|---|---|---|---|---|---|\n",
       "| 1948 | -31.98393 | -2.899208 | -2.899208 | -14.01744 | -0.9098242 | -2.577971 |  0.48207 |   0 |  0.3934124 |  0.48207 |   0 |  0.3934124 |\n",
       "| 1949 | -31.98393 | -2.899208 | -2.899208 | -14.01744 | -0.9098242 | -2.577971 |  0.48207 |   0 |  0.3934124 |  0.48207 |   0 |  0.3934124 |\n",
       "| 1950 | -24.45500 | -2.585112 | -2.585112 | -13.48500 | -0.8469818 | -2.413050 | -0.07500 | NaN | -0.1311821 | -0.07500 | NaN | -0.1311821 |\n",
       "| 1951 | -25.60750 | -2.243195 | -2.243195 | -15.92500 | -0.9035449 | -2.740863 | -0.30000 |  -1 | -0.4237901 | -0.30000 |  -1 | -0.4237901 |\n",
       "\n"
      ],
      "text/plain": [
       "  Year left_right ratio_leftright logit_left_right classic_economic\n",
       "1 1948 -31.98393  -2.899208       -2.899208        -14.01744       \n",
       "2 1949 -31.98393  -2.899208       -2.899208        -14.01744       \n",
       "3 1950 -24.45500  -2.585112       -2.585112        -13.48500       \n",
       "4 1951 -25.60750  -2.243195       -2.243195        -15.92500       \n",
       "  ratio_economic logit_economic classic_gal_tan ratio_gal_tan logit_gal_tan\n",
       "1 -0.9098242     -2.577971       0.48207          0            0.3934124   \n",
       "2 -0.9098242     -2.577971       0.48207          0            0.3934124   \n",
       "3 -0.8469818     -2.413050      -0.07500        NaN           -0.1311821   \n",
       "4 -0.9035449     -2.740863      -0.30000         -1           -0.4237901   \n",
       "  classic_economic_gal_tan ratio_economic_gal_tan logit_economic_gal_tan\n",
       "1  0.48207                   0                     0.3934124            \n",
       "2  0.48207                   0                     0.3934124            \n",
       "3 -0.07500                 NaN                    -0.1311821            \n",
       "4 -0.30000                  -1                    -0.4237901            "
      ]
     },
     "metadata": {},
     "output_type": "display_data"
    }
   ],
   "source": [
    "ilsd %>% \n",
    "filter(Legislature_RECODED == 1 & (PARTY_RECODED == \"PSI\" | PARTY_RECODED == \"PSDI\")) %>% \n",
    "group_by(Year) %>% \n",
    "summarize(left_right = mean(left_right),\n",
    "          ratio_leftright = mean(logit_left_right),\n",
    "          logit_left_right = mean(logit_left_right),\n",
    "         classic_economic = mean(classic_economic),\n",
    "         ratio_economic = mean(ratio_economic),\n",
    "         logit_economic = mean(logit_economic),\n",
    "         classic_gal_tan = mean(classic_gal_tan),\n",
    "         ratio_gal_tan = mean(ratio_gal_tan),\n",
    "         logit_gal_tan = mean(logit_gal_tan),\n",
    "         classic_economic_gal_tan = mean(classic_economic_gal_tan),\n",
    "         ratio_economic_gal_tan = mean(ratio_economic_gal_tan),\n",
    "         logit_economic_gal_tan = mean(logit_economic_gal_tan))"
   ]
  },
  {
   "cell_type": "code",
   "execution_count": 34,
   "id": "b4ed1141",
   "metadata": {
    "scrolled": false
   },
   "outputs": [],
   "source": [
    "joined_texts <- joined_texts %>% \n",
    "mutate(left_right = case_when(\n",
    "gruppoP_recoded %in% c('US', 'PSU') & legislature == 1 & year == 1948 ~ -31.98393,\n",
    "gruppoP_recoded %in% c('US', 'PSU') & legislature == 1 & year == 1950 ~ -24.45500,\n",
    "gruppoP_recoded %in% c('US', 'PSU') & legislature == 1 & year == 1951 ~ -25.60750,\n",
    "TRUE ~ left_right),\n",
    "      ratio_leftright = case_when(\n",
    "gruppoP_recoded %in% c('US', 'PSU') & legislature == 1 & year == 1948 ~ -2.899208,\n",
    "gruppoP_recoded %in% c('US', 'PSU') & legislature == 1 & year == 1950 ~ -2.585112,\n",
    "gruppoP_recoded %in% c('US', 'PSU') & legislature == 1 & year == 1951 ~ -2.243195,\n",
    "TRUE ~ ratio_leftright),\n",
    "      logit_left_right = case_when(\n",
    "gruppoP_recoded %in% c('US', 'PSU') & legislature == 1 & year == 1948 ~ -2.899208,\n",
    "gruppoP_recoded %in% c('US', 'PSU') & legislature == 1 & year == 1950 ~ -2.585112,\n",
    "gruppoP_recoded %in% c('US', 'PSU') & legislature == 1 & year == 1951 ~ -2.243195,\n",
    "TRUE ~ logit_left_right),\n",
    "      classic_economic = case_when(\n",
    "gruppoP_recoded %in% c('US', 'PSU') & legislature == 1 & year == 1948 ~ -14.01744,\n",
    "gruppoP_recoded %in% c('US', 'PSU') & legislature == 1 & year == 1950 ~ -13.48500,\n",
    "gruppoP_recoded %in% c('US', 'PSU') & legislature == 1 & year == 1951 ~ -15.92500,\n",
    "TRUE ~ classic_economic),\n",
    "      ratio_economic = case_when(\n",
    "gruppoP_recoded %in% c('US', 'PSU') & legislature == 1 & year == 1948 ~ -0.9098242,\n",
    "gruppoP_recoded %in% c('US', 'PSU') & legislature == 1 & year == 1950 ~ -0.8469818,\n",
    "gruppoP_recoded %in% c('US', 'PSU') & legislature == 1 & year == 1951 ~ -0.9035449,\n",
    "TRUE ~ ratio_economic),\n",
    "      logit_economic = case_when(\n",
    "gruppoP_recoded %in% c('US', 'PSU') & legislature == 1 & year == 1948 ~ -2.577971,\n",
    "gruppoP_recoded %in% c('US', 'PSU') & legislature == 1 & year == 1950 ~ -2.413050,\n",
    "gruppoP_recoded %in% c('US', 'PSU') & legislature == 1 & year == 1951 ~ -2.740863,\n",
    "TRUE ~ logit_economic),\n",
    "      classic_gal_tan = case_when(\n",
    "gruppoP_recoded %in% c('US', 'PSU') & legislature == 1 & year == 1948 ~ 0.48207,\n",
    "gruppoP_recoded %in% c('US', 'PSU') & legislature == 1 & year == 1950 ~ -0.07500,\n",
    "gruppoP_recoded %in% c('US', 'PSU') & legislature == 1 & year == 1951 ~ -0.30000,\n",
    "TRUE ~ classic_gal_tan),\n",
    "      ratio_gal_tan = case_when(\n",
    "gruppoP_recoded %in% c('US', 'PSU') & legislature == 1 & year == 1948 ~ 0,\n",
    "gruppoP_recoded %in% c('US', 'PSU') & legislature == 1 & year == 1951 ~ -1,\n",
    "TRUE ~ ratio_gal_tan),\n",
    "      logit_gal_tan = case_when(\n",
    "gruppoP_recoded %in% c('US', 'PSU') & legislature == 1 & year == 1948 ~ 0.3934124,\n",
    "gruppoP_recoded %in% c('US', 'PSU') & legislature == 1 & year == 1950 ~ -0.1311821,\n",
    "gruppoP_recoded %in% c('US', 'PSU') & legislature == 1 & year == 1951 ~ -0.4237901,\n",
    "TRUE ~ logit_gal_tan),\n",
    "       classic_economic_gal_tan = case_when(\n",
    "gruppoP_recoded %in% c('US', 'PSU') & legislature == 1 & year == 1948 ~ 0.48207,\n",
    "gruppoP_recoded %in% c('US', 'PSU') & legislature == 1 & year == 1950 ~ -0.07500,\n",
    "gruppoP_recoded %in% c('US', 'PSU') & legislature == 1 & year == 1951 ~ -0.30000,\n",
    "TRUE ~ classic_economic_gal_tan),\n",
    "       ratio_economic_gal_tan = case_when(\n",
    "gruppoP_recoded %in% c('US', 'PSU') & legislature == 1 & year == 1948 ~ 0,\n",
    "gruppoP_recoded %in% c('US', 'PSU') & legislature == 1 & year == 1951 ~ -1,\n",
    "TRUE ~ ratio_economic_gal_tan),\n",
    "       logit_economic_gal_tan = case_when(\n",
    "gruppoP_recoded %in% c('US', 'PSU') & legislature == 1 & year == 1948 ~ 0.3934124,\n",
    "gruppoP_recoded %in% c('US', 'PSU') & legislature == 1 & year == 1950 ~ -0.1311821,\n",
    "gruppoP_recoded %in% c('US', 'PSU') & legislature == 1 & year == 1951 ~ -0.4237901,\n",
    "TRUE ~ logit_economic_gal_tan)) "
   ]
  },
  {
   "cell_type": "markdown",
   "id": "cd270544",
   "metadata": {},
   "source": [
    "## Partito Monarchico Popolare (PMP)"
   ]
  },
  {
   "cell_type": "markdown",
   "id": "5e0bb66a",
   "metadata": {},
   "source": [
    "It was founded in 1954 by a split from Partito Nazionale Monarchico. I am thus filling the null values for PMP with values for PNM"
   ]
  },
  {
   "cell_type": "code",
   "execution_count": 35,
   "id": "8296a95f",
   "metadata": {},
   "outputs": [
    {
     "name": "stderr",
     "output_type": "stream",
     "text": [
      "Adding missing grouping variables: `PARTY_RECODED`, `Legislature_RECODED`, `Year`\n",
      "\n"
     ]
    },
    {
     "data": {
      "text/html": [
       "<table class=\"dataframe\">\n",
       "<caption>A grouped_df: 2 × 15</caption>\n",
       "<thead>\n",
       "\t<tr><th scope=col>PARTY_RECODED</th><th scope=col>Legislature_RECODED</th><th scope=col>Year</th><th scope=col>left_right</th><th scope=col>ratio_leftright</th><th scope=col>logit_left_right</th><th scope=col>classic_economic</th><th scope=col>ratio_economic</th><th scope=col>logit_economic</th><th scope=col>classic_gal_tan</th><th scope=col>ratio_gal_tan</th><th scope=col>logit_gal_tan</th><th scope=col>classic_economic_gal_tan</th><th scope=col>ratio_economic_gal_tan</th><th scope=col>logit_economic_gal_tan</th></tr>\n",
       "\t<tr><th scope=col>&lt;chr&gt;</th><th scope=col>&lt;dbl&gt;</th><th scope=col>&lt;int&gt;</th><th scope=col>&lt;dbl&gt;</th><th scope=col>&lt;dbl&gt;</th><th scope=col>&lt;dbl&gt;</th><th scope=col>&lt;dbl&gt;</th><th scope=col>&lt;dbl&gt;</th><th scope=col>&lt;dbl&gt;</th><th scope=col>&lt;dbl&gt;</th><th scope=col>&lt;dbl&gt;</th><th scope=col>&lt;dbl&gt;</th><th scope=col>&lt;dbl&gt;</th><th scope=col>&lt;dbl&gt;</th><th scope=col>&lt;dbl&gt;</th></tr>\n",
       "</thead>\n",
       "<tbody>\n",
       "\t<tr><td>PNM</td><td>2</td><td>1953</td><td> 6.178276</td><td>0.1603617</td><td>0.3151961</td><td>-0.09371656</td><td>-0.02436869</td><td>-0.04303556</td><td>-0.9362835</td><td>-0.6</td><td>-0.8278213</td><td>-0.9362835</td><td>-0.6000000</td><td>-0.82782131</td></tr>\n",
       "\t<tr><td>PNM</td><td>2</td><td>1954</td><td>12.906653</td><td>0.3385695</td><td>0.7013311</td><td>-5.97460102</td><td>-0.57692307</td><td>-1.65142326</td><td>-0.4273504</td><td>-1.0</td><td>-0.4983639</td><td> 0.1424501</td><td> 0.1428571</td><td> 0.09543616</td></tr>\n",
       "</tbody>\n",
       "</table>\n"
      ],
      "text/latex": [
       "A grouped\\_df: 2 × 15\n",
       "\\begin{tabular}{lllllllllllllll}\n",
       " PARTY\\_RECODED & Legislature\\_RECODED & Year & left\\_right & ratio\\_leftright & logit\\_left\\_right & classic\\_economic & ratio\\_economic & logit\\_economic & classic\\_gal\\_tan & ratio\\_gal\\_tan & logit\\_gal\\_tan & classic\\_economic\\_gal\\_tan & ratio\\_economic\\_gal\\_tan & logit\\_economic\\_gal\\_tan\\\\\n",
       " <chr> & <dbl> & <int> & <dbl> & <dbl> & <dbl> & <dbl> & <dbl> & <dbl> & <dbl> & <dbl> & <dbl> & <dbl> & <dbl> & <dbl>\\\\\n",
       "\\hline\n",
       "\t PNM & 2 & 1953 &  6.178276 & 0.1603617 & 0.3151961 & -0.09371656 & -0.02436869 & -0.04303556 & -0.9362835 & -0.6 & -0.8278213 & -0.9362835 & -0.6000000 & -0.82782131\\\\\n",
       "\t PNM & 2 & 1954 & 12.906653 & 0.3385695 & 0.7013311 & -5.97460102 & -0.57692307 & -1.65142326 & -0.4273504 & -1.0 & -0.4983639 &  0.1424501 &  0.1428571 &  0.09543616\\\\\n",
       "\\end{tabular}\n"
      ],
      "text/markdown": [
       "\n",
       "A grouped_df: 2 × 15\n",
       "\n",
       "| PARTY_RECODED &lt;chr&gt; | Legislature_RECODED &lt;dbl&gt; | Year &lt;int&gt; | left_right &lt;dbl&gt; | ratio_leftright &lt;dbl&gt; | logit_left_right &lt;dbl&gt; | classic_economic &lt;dbl&gt; | ratio_economic &lt;dbl&gt; | logit_economic &lt;dbl&gt; | classic_gal_tan &lt;dbl&gt; | ratio_gal_tan &lt;dbl&gt; | logit_gal_tan &lt;dbl&gt; | classic_economic_gal_tan &lt;dbl&gt; | ratio_economic_gal_tan &lt;dbl&gt; | logit_economic_gal_tan &lt;dbl&gt; |\n",
       "|---|---|---|---|---|---|---|---|---|---|---|---|---|---|---|\n",
       "| PNM | 2 | 1953 |  6.178276 | 0.1603617 | 0.3151961 | -0.09371656 | -0.02436869 | -0.04303556 | -0.9362835 | -0.6 | -0.8278213 | -0.9362835 | -0.6000000 | -0.82782131 |\n",
       "| PNM | 2 | 1954 | 12.906653 | 0.3385695 | 0.7013311 | -5.97460102 | -0.57692307 | -1.65142326 | -0.4273504 | -1.0 | -0.4983639 |  0.1424501 |  0.1428571 |  0.09543616 |\n",
       "\n"
      ],
      "text/plain": [
       "  PARTY_RECODED Legislature_RECODED Year left_right ratio_leftright\n",
       "1 PNM           2                   1953  6.178276  0.1603617      \n",
       "2 PNM           2                   1954 12.906653  0.3385695      \n",
       "  logit_left_right classic_economic ratio_economic logit_economic\n",
       "1 0.3151961        -0.09371656      -0.02436869    -0.04303556   \n",
       "2 0.7013311        -5.97460102      -0.57692307    -1.65142326   \n",
       "  classic_gal_tan ratio_gal_tan logit_gal_tan classic_economic_gal_tan\n",
       "1 -0.9362835      -0.6          -0.8278213    -0.9362835              \n",
       "2 -0.4273504      -1.0          -0.4983639     0.1424501              \n",
       "  ratio_economic_gal_tan logit_economic_gal_tan\n",
       "1 -0.6000000             -0.82782131           \n",
       "2  0.1428571              0.09543616           "
      ]
     },
     "metadata": {},
     "output_type": "display_data"
    }
   ],
   "source": [
    "ilsd %>% \n",
    "filter(Legislature_RECODED == 2 & PARTY_RECODED == \"PNM\" & Year %in% c(1953, 1954)) %>% \n",
    "select(left_right, ratio_leftright, logit_left_right, classic_economic, ratio_economic, logit_economic, \n",
    "      classic_gal_tan, ratio_gal_tan, logit_gal_tan, classic_economic_gal_tan, ratio_economic_gal_tan, logit_economic_gal_tan)"
   ]
  },
  {
   "cell_type": "code",
   "execution_count": 36,
   "id": "e3aff7a1",
   "metadata": {},
   "outputs": [],
   "source": [
    "joined_texts <- joined_texts %>% \n",
    "mutate(left_right = case_when(\n",
    "gruppoP_recoded == \"PMP\" & legislature == 2 & year == 1953 ~ 6.178276,\n",
    "gruppoP_recoded == \"PMP\" & legislature == 2 & year == 1954 ~ 12.906653,\n",
    "TRUE ~ left_right),\n",
    "      ratio_leftright = case_when(\n",
    "gruppoP_recoded == \"PMP\" & legislature == 2 & year == 1953 ~ 0.1603617,\n",
    "gruppoP_recoded == \"PMP\" & legislature == 2 & year == 1954 ~ 0.3385695,\n",
    "TRUE ~ ratio_leftright),\n",
    "       logit_left_right = case_when(\n",
    "gruppoP_recoded == \"PMP\" & legislature == 2 & year == 1953 ~ 0.3151961,\n",
    "gruppoP_recoded == \"PMP\" & legislature == 2 & year == 1954 ~ 0.7013311,\n",
    "TRUE ~ logit_left_right),\n",
    "       classic_economic = case_when(\n",
    "gruppoP_recoded == \"PMP\" & legislature == 2 & year == 1953 ~ -0.09371656,\n",
    "gruppoP_recoded == \"PMP\" & legislature == 2 & year == 1954 ~ -5.97460102,\n",
    "TRUE ~ classic_economic),\n",
    "       ratio_economic = case_when(\n",
    "gruppoP_recoded == \"PMP\" & legislature == 2 & year == 1953 ~ -0.02436869,\n",
    "gruppoP_recoded == \"PMP\" & legislature == 2 & year == 1954 ~ -0.57692307,\n",
    "TRUE ~ ratio_economic),\n",
    "       logit_economic = case_when(\n",
    "gruppoP_recoded == \"PMP\" & legislature == 2 & year == 1953 ~ -0.04303556, \n",
    "gruppoP_recoded == \"PMP\" & legislature == 2 & year == 1954 ~ -1.65142326,\n",
    "TRUE ~ logit_economic),\n",
    "       classic_gal_tan = case_when(\n",
    "gruppoP_recoded == \"PMP\" & legislature == 2 & year == 1953 ~ -0.9362835,\n",
    "gruppoP_recoded == \"PMP\" & legislature == 2 & year == 1954 ~ -0.4273504,\n",
    "TRUE ~ classic_gal_tan),\n",
    "       ratio_gal_tan = case_when(\n",
    "gruppoP_recoded == \"PMP\" & legislature == 2 & year == 1953 ~ -0.6,\n",
    "gruppoP_recoded == \"PMP\" & legislature == 2 & year == 1954 ~ -1.0,\n",
    "TRUE ~ ratio_gal_tan),\n",
    "       logit_gal_tan = case_when(\n",
    "gruppoP_recoded == \"PMP\" & legislature == 2 & year == 1953 ~ -0.8278213,\n",
    "gruppoP_recoded == \"PMP\" & legislature == 2 & year == 1954 ~ -0.4983639,\n",
    "TRUE ~ logit_gal_tan),\n",
    "       classic_economic_gal_tan = case_when(\n",
    "gruppoP_recoded == \"PMP\" & legislature == 2 & year == 1953 ~ -0.9362835,\n",
    "gruppoP_recoded == \"PMP\" & legislature == 2 & year == 1954 ~ 0.1424501,\n",
    "TRUE ~ classic_economic_gal_tan),\n",
    "       ratio_economic_gal_tan = case_when(\n",
    "gruppoP_recoded == \"PMP\" & legislature == 2 & year == 1953 ~ -0.6000000,\n",
    "gruppoP_recoded == \"PMP\" & legislature == 2 & year == 1954 ~ 0.1428571,\n",
    "TRUE ~ ratio_economic_gal_tan),\n",
    "       logit_economic_gal_tan = case_when(\n",
    "gruppoP_recoded == \"PMP\" & legislature == 2 & year == 1953 ~ -0.82782131,\n",
    "gruppoP_recoded == \"PMP\" & legislature == 2 & year == 1954 ~ 0.09543616,\n",
    "TRUE ~ logit_economic_gal_tan))"
   ]
  },
  {
   "cell_type": "markdown",
   "id": "4c41f803",
   "metadata": {},
   "source": [
    "## Partito Democratico Italiano di Unità Monarchica (PDIUM)"
   ]
  },
  {
   "cell_type": "markdown",
   "id": "8cbc8787",
   "metadata": {},
   "source": [
    "It was founded in 1959 as a result of the merging between Partito Nazionale Monarchico (PNM) and Partito Monarchico Popolare (PMP). I'll thus take the average of those two parties and use it to fill the NAs."
   ]
  },
  {
   "cell_type": "code",
   "execution_count": 37,
   "id": "feef0f5b",
   "metadata": {},
   "outputs": [
    {
     "data": {
      "text/html": [
       "<table class=\"dataframe\">\n",
       "<caption>A tibble: 2 × 13</caption>\n",
       "<thead>\n",
       "\t<tr><th scope=col>Year</th><th scope=col>left_right</th><th scope=col>ratio_leftright</th><th scope=col>logit_left_right</th><th scope=col>classic_economic</th><th scope=col>ratio_economic</th><th scope=col>logit_economic</th><th scope=col>classic_gal_tan</th><th scope=col>ratio_gal_tan</th><th scope=col>logit_gal_tan</th><th scope=col>classic_economic_gal_tan</th><th scope=col>ratio_economic_gal_tan</th><th scope=col>logit_economic_gal_tan</th></tr>\n",
       "\t<tr><th scope=col>&lt;int&gt;</th><th scope=col>&lt;dbl&gt;</th><th scope=col>&lt;dbl&gt;</th><th scope=col>&lt;dbl&gt;</th><th scope=col>&lt;dbl&gt;</th><th scope=col>&lt;dbl&gt;</th><th scope=col>&lt;dbl&gt;</th><th scope=col>&lt;dbl&gt;</th><th scope=col>&lt;dbl&gt;</th><th scope=col>&lt;dbl&gt;</th><th scope=col>&lt;dbl&gt;</th><th scope=col>&lt;dbl&gt;</th><th scope=col>&lt;dbl&gt;</th></tr>\n",
       "</thead>\n",
       "<tbody>\n",
       "\t<tr><td>1958</td><td>16.075050</td><td>0.8142263</td><td>0.8142263</td><td>18.0120900</td><td>0.55125044</td><td>1.35203540</td><td>-3.488119</td><td>-1</td><td>-1.9676145</td><td>-3.488119</td><td>-1</td><td>-1.9676145</td></tr>\n",
       "\t<tr><td>1959</td><td> 2.450408</td><td>0.1127485</td><td>0.1127485</td><td>-0.7208499</td><td>0.02636363</td><td>0.04431227</td><td>-0.735303</td><td>-1</td><td>-0.8847821</td><td>-0.735303</td><td>-1</td><td>-0.8847821</td></tr>\n",
       "</tbody>\n",
       "</table>\n"
      ],
      "text/latex": [
       "A tibble: 2 × 13\n",
       "\\begin{tabular}{lllllllllllll}\n",
       " Year & left\\_right & ratio\\_leftright & logit\\_left\\_right & classic\\_economic & ratio\\_economic & logit\\_economic & classic\\_gal\\_tan & ratio\\_gal\\_tan & logit\\_gal\\_tan & classic\\_economic\\_gal\\_tan & ratio\\_economic\\_gal\\_tan & logit\\_economic\\_gal\\_tan\\\\\n",
       " <int> & <dbl> & <dbl> & <dbl> & <dbl> & <dbl> & <dbl> & <dbl> & <dbl> & <dbl> & <dbl> & <dbl> & <dbl>\\\\\n",
       "\\hline\n",
       "\t 1958 & 16.075050 & 0.8142263 & 0.8142263 & 18.0120900 & 0.55125044 & 1.35203540 & -3.488119 & -1 & -1.9676145 & -3.488119 & -1 & -1.9676145\\\\\n",
       "\t 1959 &  2.450408 & 0.1127485 & 0.1127485 & -0.7208499 & 0.02636363 & 0.04431227 & -0.735303 & -1 & -0.8847821 & -0.735303 & -1 & -0.8847821\\\\\n",
       "\\end{tabular}\n"
      ],
      "text/markdown": [
       "\n",
       "A tibble: 2 × 13\n",
       "\n",
       "| Year &lt;int&gt; | left_right &lt;dbl&gt; | ratio_leftright &lt;dbl&gt; | logit_left_right &lt;dbl&gt; | classic_economic &lt;dbl&gt; | ratio_economic &lt;dbl&gt; | logit_economic &lt;dbl&gt; | classic_gal_tan &lt;dbl&gt; | ratio_gal_tan &lt;dbl&gt; | logit_gal_tan &lt;dbl&gt; | classic_economic_gal_tan &lt;dbl&gt; | ratio_economic_gal_tan &lt;dbl&gt; | logit_economic_gal_tan &lt;dbl&gt; |\n",
       "|---|---|---|---|---|---|---|---|---|---|---|---|---|\n",
       "| 1958 | 16.075050 | 0.8142263 | 0.8142263 | 18.0120900 | 0.55125044 | 1.35203540 | -3.488119 | -1 | -1.9676145 | -3.488119 | -1 | -1.9676145 |\n",
       "| 1959 |  2.450408 | 0.1127485 | 0.1127485 | -0.7208499 | 0.02636363 | 0.04431227 | -0.735303 | -1 | -0.8847821 | -0.735303 | -1 | -0.8847821 |\n",
       "\n"
      ],
      "text/plain": [
       "  Year left_right ratio_leftright logit_left_right classic_economic\n",
       "1 1958 16.075050  0.8142263       0.8142263        18.0120900      \n",
       "2 1959  2.450408  0.1127485       0.1127485        -0.7208499      \n",
       "  ratio_economic logit_economic classic_gal_tan ratio_gal_tan logit_gal_tan\n",
       "1 0.55125044     1.35203540     -3.488119       -1            -1.9676145   \n",
       "2 0.02636363     0.04431227     -0.735303       -1            -0.8847821   \n",
       "  classic_economic_gal_tan ratio_economic_gal_tan logit_economic_gal_tan\n",
       "1 -3.488119                -1                     -1.9676145            \n",
       "2 -0.735303                -1                     -0.8847821            "
      ]
     },
     "metadata": {},
     "output_type": "display_data"
    }
   ],
   "source": [
    "ilsd %>% \n",
    "filter(Legislature_RECODED == 3 & (PARTY_RECODED == \"PNM\" | PARTY_RECODED == \"PMP\")) %>% \n",
    "group_by(Year) %>% \n",
    "summarize(left_right = mean(left_right),\n",
    "          ratio_leftright = mean(logit_left_right),\n",
    "          logit_left_right = mean(logit_left_right),\n",
    "         classic_economic = mean(classic_economic),\n",
    "         ratio_economic = mean(ratio_economic),\n",
    "         logit_economic = mean(logit_economic),\n",
    "         classic_gal_tan = mean(classic_gal_tan),\n",
    "         ratio_gal_tan = mean(ratio_gal_tan),\n",
    "         logit_gal_tan = mean(logit_gal_tan),\n",
    "         classic_economic_gal_tan = mean(classic_economic_gal_tan),\n",
    "         ratio_economic_gal_tan = mean(ratio_economic_gal_tan),\n",
    "         logit_economic_gal_tan = mean(logit_economic_gal_tan))"
   ]
  },
  {
   "cell_type": "code",
   "execution_count": 38,
   "id": "c2e2537f",
   "metadata": {},
   "outputs": [],
   "source": [
    "joined_texts <- joined_texts %>% \n",
    "mutate(left_right = case_when(\n",
    "gruppoP_recoded == \"PDIUM\" & legislature == 3 & year == 1958 ~ 16.075050,\n",
    "gruppoP_recoded == \"PDIUM\" & legislature == 3 & year == 1959 ~ 2.450408,\n",
    "TRUE ~ left_right),\n",
    "      ratio_leftright = case_when(\n",
    "gruppoP_recoded == \"PDIUM\" & legislature == 3 & year == 1958 ~ 0.8142263,\n",
    "gruppoP_recoded == \"PDIUM\" & legislature == 3 & year == 1959 ~ 0.1127485,\n",
    "TRUE ~ ratio_leftright),\n",
    "       logit_left_right = case_when(\n",
    "gruppoP_recoded == \"PDIUM\" & legislature == 3 & year == 1958 ~ 0.8142263,\n",
    "gruppoP_recoded == \"PDIUM\" & legislature == 3 & year == 1959 ~ 0.1127485,\n",
    "TRUE ~ logit_left_right),\n",
    "       classic_economic = case_when(\n",
    "gruppoP_recoded == \"PDIUM\" & legislature == 3 & year == 1958 ~ 18.0120900,\n",
    "gruppoP_recoded == \"PDIUM\" & legislature == 3 & year == 1959 ~ -0.7208499,\n",
    "TRUE ~ classic_economic),\n",
    "       ratio_economic = case_when(\n",
    "gruppoP_recoded == \"PDIUM\" & legislature == 3 & year == 1958 ~ 0.55125044,\n",
    "gruppoP_recoded == \"PDIUM\" & legislature == 3 & year == 1959 ~ 0.02636363,\n",
    "TRUE ~ ratio_economic),\n",
    "       logit_economic = case_when(\n",
    "gruppoP_recoded == \"PDIUM\" & legislature == 3 & year == 1958 ~ 1.35203540, \n",
    "gruppoP_recoded == \"PDIUM\" & legislature == 3 & year == 1959 ~ 0.04431227,\n",
    "TRUE ~ logit_economic),\n",
    "       classic_gal_tan = case_when(\n",
    "gruppoP_recoded == \"PDIUM\" & legislature == 3 & year == 1958 ~ -3.488119,\n",
    "gruppoP_recoded == \"PDIUM\" & legislature == 3 & year == 1959 ~ -0.735303,\n",
    "TRUE ~ classic_gal_tan),\n",
    "       ratio_gal_tan = case_when(\n",
    "gruppoP_recoded == \"PDIUM\" & legislature == 3 & year == 1958 ~ -1,\n",
    "gruppoP_recoded == \"PDIUM\" & legislature == 3 & year == 1959 ~ -1,\n",
    "TRUE ~ ratio_gal_tan),\n",
    "       logit_gal_tan = case_when(\n",
    "gruppoP_recoded == \"PDIUM\" & legislature == 3 & year == 1958 ~ -1.9676145,\n",
    "gruppoP_recoded == \"PDIUM\" & legislature == 3 & year == 1959 ~ -0.8847821,\n",
    "TRUE ~ logit_gal_tan),\n",
    "       classic_economic_gal_tan = case_when(\n",
    "gruppoP_recoded == \"PDIUM\" & legislature == 3 & year == 1958 ~ -3.488119,\n",
    "gruppoP_recoded == \"PDIUM\" & legislature == 3 & year == 1959 ~ -0.735303,\n",
    "TRUE ~ classic_economic_gal_tan),\n",
    "       ratio_economic_gal_tan = case_when(\n",
    "gruppoP_recoded == \"PDIUM\" & legislature == 3 & year == 1958 ~ -1,\n",
    "gruppoP_recoded == \"PDIUM\" & legislature == 3 & year == 1959 ~ -1,\n",
    "TRUE ~ ratio_economic_gal_tan),\n",
    "       logit_economic_gal_tan = case_when(\n",
    "gruppoP_recoded == \"PDIUM\" & legislature == 3 & year == 1958 ~ -1.9676145,\n",
    "gruppoP_recoded == \"PDIUM\" & legislature == 3 & year == 1959 ~ -0.8847821,\n",
    "TRUE ~ logit_economic_gal_tan))"
   ]
  },
  {
   "cell_type": "markdown",
   "id": "c7bb8a22",
   "metadata": {},
   "source": [
    "## Partito Socialista Italiano di Unità Proletaria"
   ]
  },
  {
   "cell_type": "markdown",
   "id": "055acb75",
   "metadata": {},
   "source": [
    "It was founded in 1964 by a split from Partito Socialista Italiano. I'll use the values from PSI to fill the NAs."
   ]
  },
  {
   "cell_type": "code",
   "execution_count": 39,
   "id": "1fad5691",
   "metadata": {},
   "outputs": [
    {
     "name": "stderr",
     "output_type": "stream",
     "text": [
      "Adding missing grouping variables: `PARTY_RECODED`, `Legislature_RECODED`, `Year`\n",
      "\n"
     ]
    },
    {
     "data": {
      "text/html": [
       "<table class=\"dataframe\">\n",
       "<caption>A grouped_df: 1 × 15</caption>\n",
       "<thead>\n",
       "\t<tr><th scope=col>PARTY_RECODED</th><th scope=col>Legislature_RECODED</th><th scope=col>Year</th><th scope=col>left_right</th><th scope=col>ratio_leftright</th><th scope=col>logit_left_right</th><th scope=col>classic_economic</th><th scope=col>ratio_economic</th><th scope=col>logit_economic</th><th scope=col>classic_gal_tan</th><th scope=col>ratio_gal_tan</th><th scope=col>logit_gal_tan</th><th scope=col>classic_economic_gal_tan</th><th scope=col>ratio_economic_gal_tan</th><th scope=col>logit_economic_gal_tan</th></tr>\n",
       "\t<tr><th scope=col>&lt;chr&gt;</th><th scope=col>&lt;dbl&gt;</th><th scope=col>&lt;int&gt;</th><th scope=col>&lt;dbl&gt;</th><th scope=col>&lt;dbl&gt;</th><th scope=col>&lt;dbl&gt;</th><th scope=col>&lt;dbl&gt;</th><th scope=col>&lt;dbl&gt;</th><th scope=col>&lt;dbl&gt;</th><th scope=col>&lt;dbl&gt;</th><th scope=col>&lt;dbl&gt;</th><th scope=col>&lt;dbl&gt;</th><th scope=col>&lt;dbl&gt;</th><th scope=col>&lt;dbl&gt;</th><th scope=col>&lt;dbl&gt;</th></tr>\n",
       "</thead>\n",
       "<tbody>\n",
       "\t<tr><td>PSI</td><td>4</td><td>1963</td><td>-35.595</td><td>-0.7446428</td><td>-1.87759</td><td>-24.17</td><td>-0.9420962</td><td>-3.059421</td><td>-0.28</td><td>-0.5090909</td><td>-0.2732718</td><td>-0.28</td><td>-0.5090909</td><td>-0.2732718</td></tr>\n",
       "</tbody>\n",
       "</table>\n"
      ],
      "text/latex": [
       "A grouped\\_df: 1 × 15\n",
       "\\begin{tabular}{lllllllllllllll}\n",
       " PARTY\\_RECODED & Legislature\\_RECODED & Year & left\\_right & ratio\\_leftright & logit\\_left\\_right & classic\\_economic & ratio\\_economic & logit\\_economic & classic\\_gal\\_tan & ratio\\_gal\\_tan & logit\\_gal\\_tan & classic\\_economic\\_gal\\_tan & ratio\\_economic\\_gal\\_tan & logit\\_economic\\_gal\\_tan\\\\\n",
       " <chr> & <dbl> & <int> & <dbl> & <dbl> & <dbl> & <dbl> & <dbl> & <dbl> & <dbl> & <dbl> & <dbl> & <dbl> & <dbl> & <dbl>\\\\\n",
       "\\hline\n",
       "\t PSI & 4 & 1963 & -35.595 & -0.7446428 & -1.87759 & -24.17 & -0.9420962 & -3.059421 & -0.28 & -0.5090909 & -0.2732718 & -0.28 & -0.5090909 & -0.2732718\\\\\n",
       "\\end{tabular}\n"
      ],
      "text/markdown": [
       "\n",
       "A grouped_df: 1 × 15\n",
       "\n",
       "| PARTY_RECODED &lt;chr&gt; | Legislature_RECODED &lt;dbl&gt; | Year &lt;int&gt; | left_right &lt;dbl&gt; | ratio_leftright &lt;dbl&gt; | logit_left_right &lt;dbl&gt; | classic_economic &lt;dbl&gt; | ratio_economic &lt;dbl&gt; | logit_economic &lt;dbl&gt; | classic_gal_tan &lt;dbl&gt; | ratio_gal_tan &lt;dbl&gt; | logit_gal_tan &lt;dbl&gt; | classic_economic_gal_tan &lt;dbl&gt; | ratio_economic_gal_tan &lt;dbl&gt; | logit_economic_gal_tan &lt;dbl&gt; |\n",
       "|---|---|---|---|---|---|---|---|---|---|---|---|---|---|---|\n",
       "| PSI | 4 | 1963 | -35.595 | -0.7446428 | -1.87759 | -24.17 | -0.9420962 | -3.059421 | -0.28 | -0.5090909 | -0.2732718 | -0.28 | -0.5090909 | -0.2732718 |\n",
       "\n"
      ],
      "text/plain": [
       "  PARTY_RECODED Legislature_RECODED Year left_right ratio_leftright\n",
       "1 PSI           4                   1963 -35.595    -0.7446428     \n",
       "  logit_left_right classic_economic ratio_economic logit_economic\n",
       "1 -1.87759         -24.17           -0.9420962     -3.059421     \n",
       "  classic_gal_tan ratio_gal_tan logit_gal_tan classic_economic_gal_tan\n",
       "1 -0.28           -0.5090909    -0.2732718    -0.28                   \n",
       "  ratio_economic_gal_tan logit_economic_gal_tan\n",
       "1 -0.5090909             -0.2732718            "
      ]
     },
     "metadata": {},
     "output_type": "display_data"
    }
   ],
   "source": [
    "ilsd %>% \n",
    "filter(Legislature_RECODED == 4 & Year == 1963 & PARTY_RECODED == \"PSI\") %>% \n",
    "select(left_right, ratio_leftright, logit_left_right, classic_economic, ratio_economic, logit_economic, \n",
    "      classic_gal_tan, ratio_gal_tan, logit_gal_tan, classic_economic_gal_tan, ratio_economic_gal_tan, logit_economic_gal_tan)"
   ]
  },
  {
   "cell_type": "code",
   "execution_count": 40,
   "id": "fd90d63e",
   "metadata": {},
   "outputs": [],
   "source": [
    "joined_texts <- joined_texts %>% \n",
    "mutate(left_right = case_when(\n",
    "gruppoP_recoded == \"PSIUP\" & legislature == 4 & year == 1963 ~ -35.595,\n",
    "TRUE ~ left_right),\n",
    "      ratio_leftright = case_when(\n",
    "gruppoP_recoded == \"PSIUP\" & legislature == 4 & year == 1963 ~ -0.7446428,\n",
    "TRUE ~ ratio_leftright),\n",
    "       logit_left_right = case_when(\n",
    "gruppoP_recoded == \"PSIUP\" & legislature == 4 & year == 1963 ~ -1.87759,\n",
    "TRUE ~ logit_left_right),\n",
    "       classic_economic = case_when(\n",
    "gruppoP_recoded == \"PSIUP\" & legislature == 4 & year == 1963 ~ -24.17,\n",
    "TRUE ~ classic_economic),\n",
    "       ratio_economic = case_when(\n",
    "gruppoP_recoded == \"PSIUP\" & legislature == 4 & year == 1963 ~ -0.9420962,\n",
    "TRUE ~ ratio_economic),\n",
    "       logit_economic = case_when(\n",
    "gruppoP_recoded == \"PSIUP\" & legislature == 4 & year == 1963 ~ -3.059421, \n",
    "TRUE ~ logit_economic),\n",
    "       classic_gal_tan = case_when(\n",
    "gruppoP_recoded == \"PSIUP\" & legislature == 4 & year == 1963 ~ -0.28,\n",
    "TRUE ~ classic_gal_tan),\n",
    "       ratio_gal_tan = case_when(\n",
    "gruppoP_recoded == \"PSIUP\" & legislature == 4 & year == 1963 ~ -0.5090909,\n",
    "TRUE ~ ratio_gal_tan),\n",
    "       logit_gal_tan = case_when(\n",
    "gruppoP_recoded == \"PSIUP\" & legislature == 4 & year == 1963 ~ -0.2732718,\n",
    "TRUE ~ logit_gal_tan),\n",
    "       classic_economic_gal_tan = case_when(\n",
    "gruppoP_recoded == \"PSIUP\" & legislature == 4 & year == 1963 ~ -0.28,\n",
    "TRUE ~ classic_economic_gal_tan),\n",
    "       ratio_economic_gal_tan = case_when(\n",
    "gruppoP_recoded == \"PSIUP\" & legislature == 4 & year == 1963 ~ -0.5090909,\n",
    "TRUE ~ ratio_economic_gal_tan),\n",
    "       logit_economic_gal_tan = case_when(\n",
    "gruppoP_recoded == \"PSIUP\" & legislature == 4 & year == 1963 ~ -0.2732718,\n",
    "TRUE ~ logit_economic_gal_tan))"
   ]
  },
  {
   "cell_type": "markdown",
   "id": "37095efe",
   "metadata": {},
   "source": [
    "## Partito Socialista Italiano - Partito Socialista Democratico Italiano"
   ]
  },
  {
   "cell_type": "markdown",
   "id": "c432979e",
   "metadata": {},
   "source": [
    "In 1968 PSI and PSDI were both part of Partito Socialista Unificato"
   ]
  },
  {
   "cell_type": "code",
   "execution_count": 41,
   "id": "8a615a37",
   "metadata": {},
   "outputs": [
    {
     "name": "stderr",
     "output_type": "stream",
     "text": [
      "Adding missing grouping variables: `PARTY_RECODED`, `Legislature_RECODED`, `Year`\n",
      "\n"
     ]
    },
    {
     "data": {
      "text/html": [
       "<table class=\"dataframe\">\n",
       "<caption>A grouped_df: 1 × 15</caption>\n",
       "<thead>\n",
       "\t<tr><th scope=col>PARTY_RECODED</th><th scope=col>Legislature_RECODED</th><th scope=col>Year</th><th scope=col>left_right</th><th scope=col>ratio_leftright</th><th scope=col>logit_left_right</th><th scope=col>classic_economic</th><th scope=col>ratio_economic</th><th scope=col>logit_economic</th><th scope=col>classic_gal_tan</th><th scope=col>ratio_gal_tan</th><th scope=col>logit_gal_tan</th><th scope=col>classic_economic_gal_tan</th><th scope=col>ratio_economic_gal_tan</th><th scope=col>logit_economic_gal_tan</th></tr>\n",
       "\t<tr><th scope=col>&lt;chr&gt;</th><th scope=col>&lt;dbl&gt;</th><th scope=col>&lt;int&gt;</th><th scope=col>&lt;dbl&gt;</th><th scope=col>&lt;dbl&gt;</th><th scope=col>&lt;dbl&gt;</th><th scope=col>&lt;dbl&gt;</th><th scope=col>&lt;dbl&gt;</th><th scope=col>&lt;dbl&gt;</th><th scope=col>&lt;dbl&gt;</th><th scope=col>&lt;dbl&gt;</th><th scope=col>&lt;dbl&gt;</th><th scope=col>&lt;dbl&gt;</th><th scope=col>&lt;dbl&gt;</th><th scope=col>&lt;dbl&gt;</th></tr>\n",
       "</thead>\n",
       "<tbody>\n",
       "\t<tr><td>PSU</td><td>5</td><td>1968</td><td>-21.075</td><td>-0.430095</td><td>-0.9760826</td><td>-19.955</td><td>-0.9149279</td><td>-2.710567</td><td>-4.25</td><td>-1</td><td>-2.095158</td><td>-4.25</td><td>-1</td><td>-2.095158</td></tr>\n",
       "</tbody>\n",
       "</table>\n"
      ],
      "text/latex": [
       "A grouped\\_df: 1 × 15\n",
       "\\begin{tabular}{lllllllllllllll}\n",
       " PARTY\\_RECODED & Legislature\\_RECODED & Year & left\\_right & ratio\\_leftright & logit\\_left\\_right & classic\\_economic & ratio\\_economic & logit\\_economic & classic\\_gal\\_tan & ratio\\_gal\\_tan & logit\\_gal\\_tan & classic\\_economic\\_gal\\_tan & ratio\\_economic\\_gal\\_tan & logit\\_economic\\_gal\\_tan\\\\\n",
       " <chr> & <dbl> & <int> & <dbl> & <dbl> & <dbl> & <dbl> & <dbl> & <dbl> & <dbl> & <dbl> & <dbl> & <dbl> & <dbl> & <dbl>\\\\\n",
       "\\hline\n",
       "\t PSU & 5 & 1968 & -21.075 & -0.430095 & -0.9760826 & -19.955 & -0.9149279 & -2.710567 & -4.25 & -1 & -2.095158 & -4.25 & -1 & -2.095158\\\\\n",
       "\\end{tabular}\n"
      ],
      "text/markdown": [
       "\n",
       "A grouped_df: 1 × 15\n",
       "\n",
       "| PARTY_RECODED &lt;chr&gt; | Legislature_RECODED &lt;dbl&gt; | Year &lt;int&gt; | left_right &lt;dbl&gt; | ratio_leftright &lt;dbl&gt; | logit_left_right &lt;dbl&gt; | classic_economic &lt;dbl&gt; | ratio_economic &lt;dbl&gt; | logit_economic &lt;dbl&gt; | classic_gal_tan &lt;dbl&gt; | ratio_gal_tan &lt;dbl&gt; | logit_gal_tan &lt;dbl&gt; | classic_economic_gal_tan &lt;dbl&gt; | ratio_economic_gal_tan &lt;dbl&gt; | logit_economic_gal_tan &lt;dbl&gt; |\n",
       "|---|---|---|---|---|---|---|---|---|---|---|---|---|---|---|\n",
       "| PSU | 5 | 1968 | -21.075 | -0.430095 | -0.9760826 | -19.955 | -0.9149279 | -2.710567 | -4.25 | -1 | -2.095158 | -4.25 | -1 | -2.095158 |\n",
       "\n"
      ],
      "text/plain": [
       "  PARTY_RECODED Legislature_RECODED Year left_right ratio_leftright\n",
       "1 PSU           5                   1968 -21.075    -0.430095      \n",
       "  logit_left_right classic_economic ratio_economic logit_economic\n",
       "1 -0.9760826       -19.955          -0.9149279     -2.710567     \n",
       "  classic_gal_tan ratio_gal_tan logit_gal_tan classic_economic_gal_tan\n",
       "1 -4.25           -1            -2.095158     -4.25                   \n",
       "  ratio_economic_gal_tan logit_economic_gal_tan\n",
       "1 -1                     -2.095158             "
      ]
     },
     "metadata": {},
     "output_type": "display_data"
    }
   ],
   "source": [
    "ilsd %>% \n",
    "filter(Legislature_RECODED == 5 & PARTY_RECODED == 'PSU' & Year == 1968) %>% \n",
    "select(left_right, ratio_leftright, logit_left_right, classic_economic, ratio_economic, logit_economic, \n",
    "      classic_gal_tan, ratio_gal_tan, logit_gal_tan, classic_economic_gal_tan, ratio_economic_gal_tan, logit_economic_gal_tan)"
   ]
  },
  {
   "cell_type": "code",
   "execution_count": 42,
   "id": "e449bdd0",
   "metadata": {},
   "outputs": [],
   "source": [
    "joined_texts <- joined_texts %>% \n",
    "mutate(left_right = case_when(\n",
    "gruppoP_recoded %in% c('PSI', 'PSDI') & legislature == 5 & year == 1968 ~ -21.075,\n",
    "TRUE ~ left_right),\n",
    "      ratio_leftright = case_when(\n",
    "gruppoP_recoded %in% c('PSI', 'PSDI') & legislature == 5 & year == 1968 ~ -0.430095,\n",
    "TRUE ~ ratio_leftright),\n",
    "       logit_left_right = case_when(\n",
    "gruppoP_recoded %in% c('PSI', 'PSDI') & legislature == 5 & year == 1968 ~ -0.9760826,\n",
    "TRUE ~ logit_left_right),\n",
    "       classic_economic = case_when(\n",
    "gruppoP_recoded %in% c('PSI', 'PSDI') & legislature == 5 & year == 1968 ~ -19.955,\n",
    "TRUE ~ classic_economic),\n",
    "       ratio_economic = case_when(\n",
    "gruppoP_recoded %in% c('PSI', 'PSDI') & legislature == 5 & year == 1968 ~ -0.9149279,\n",
    "TRUE ~ ratio_economic),\n",
    "       logit_economic = case_when(\n",
    "gruppoP_recoded %in% c('PSI', 'PSDI') & legislature == 5 & year == 1968 ~ -2.710567, \n",
    "TRUE ~ logit_economic),\n",
    "       classic_gal_tan = case_when(\n",
    "gruppoP_recoded %in% c('PSI', 'PSDI') & legislature == 5 & year == 1968 ~ -4.25,\n",
    "TRUE ~ classic_gal_tan),\n",
    "       ratio_gal_tan = case_when(\n",
    "gruppoP_recoded %in% c('PSI', 'PSDI') & legislature == 5 & year == 1968 ~ -1,\n",
    "TRUE ~ ratio_gal_tan),\n",
    "       logit_gal_tan = case_when(\n",
    "gruppoP_recoded %in% c('PSI', 'PSDI') & legislature == 5 & year == 1968 ~ -2.095158,\n",
    "TRUE ~ logit_gal_tan),\n",
    "       classic_economic_gal_tan = case_when(\n",
    "gruppoP_recoded %in% c('PSI', 'PSDI') & legislature == 5 & year == 1968 ~ -4.25,\n",
    "TRUE ~ classic_economic_gal_tan),\n",
    "       ratio_economic_gal_tan = case_when(\n",
    "gruppoP_recoded %in% c('PSI', 'PSDI') & legislature == 5 & year == 1968 ~ -1,\n",
    "TRUE ~ ratio_economic_gal_tan),\n",
    "       logit_economic_gal_tan = case_when(\n",
    "gruppoP_recoded %in% c('PSI', 'PSDI') & legislature == 5 & year == 1968 ~ -2.095158,\n",
    "TRUE ~ logit_economic_gal_tan))"
   ]
  },
  {
   "cell_type": "markdown",
   "id": "f471a544",
   "metadata": {},
   "source": [
    "## Democrazia Nazionale - Costituente di Destra (CD-DN)"
   ]
  },
  {
   "cell_type": "markdown",
   "id": "e11c6f4f",
   "metadata": {},
   "source": [
    "It was a spin-off of the Italian Social Movement"
   ]
  },
  {
   "cell_type": "code",
   "execution_count": 43,
   "id": "bfffd02c",
   "metadata": {},
   "outputs": [
    {
     "data": {
      "text/html": [
       "<table class=\"dataframe\">\n",
       "<caption>A grouped_df: 3 × 15</caption>\n",
       "<thead>\n",
       "\t<tr><th scope=col>Legislature_RECODED</th><th scope=col>PARTY_RECODED</th><th scope=col>Year</th><th scope=col>left_right</th><th scope=col>ratio_leftright</th><th scope=col>logit_left_right</th><th scope=col>classic_economic</th><th scope=col>ratio_economic</th><th scope=col>logit_economic</th><th scope=col>classic_gal_tan</th><th scope=col>ratio_gal_tan</th><th scope=col>logit_gal_tan</th><th scope=col>classic_economic_gal_tan</th><th scope=col>ratio_economic_gal_tan</th><th scope=col>logit_economic_gal_tan</th></tr>\n",
       "\t<tr><th scope=col>&lt;dbl&gt;</th><th scope=col>&lt;chr&gt;</th><th scope=col>&lt;int&gt;</th><th scope=col>&lt;dbl&gt;</th><th scope=col>&lt;dbl&gt;</th><th scope=col>&lt;dbl&gt;</th><th scope=col>&lt;dbl&gt;</th><th scope=col>&lt;dbl&gt;</th><th scope=col>&lt;dbl&gt;</th><th scope=col>&lt;dbl&gt;</th><th scope=col>&lt;dbl&gt;</th><th scope=col>&lt;dbl&gt;</th><th scope=col>&lt;dbl&gt;</th><th scope=col>&lt;dbl&gt;</th><th scope=col>&lt;dbl&gt;</th></tr>\n",
       "</thead>\n",
       "<tbody>\n",
       "\t<tr><td>7</td><td>MSI</td><td>1976</td><td>10.73986</td><td>0.2586207</td><td>0.5162467</td><td>0.3579952</td><td>0.4285714</td><td>0.3951808</td><td>-0.8353222</td><td> -1</td><td>-0.9823198</td><td>-0.8353222</td><td> -1</td><td>-0.9823198</td></tr>\n",
       "\t<tr><td>7</td><td>MSI</td><td>1978</td><td>55.87906</td><td>0.9896504</td><td>4.2702242</td><td>1.1687500</td><td>1.0000000</td><td>1.2052221</td><td> 0.0000000</td><td>NaN</td><td> 0.0000000</td><td> 0.0000000</td><td>NaN</td><td> 0.0000000</td></tr>\n",
       "\t<tr><td>7</td><td>MSI</td><td>1979</td><td>23.28817</td><td>0.8315191</td><td>2.2131744</td><td>4.0537131</td><td>0.5693994</td><td>1.0966668</td><td>-0.3324468</td><td> -1</td><td>-0.5097612</td><td>-0.3324468</td><td> -1</td><td>-0.5097612</td></tr>\n",
       "</tbody>\n",
       "</table>\n"
      ],
      "text/latex": [
       "A grouped\\_df: 3 × 15\n",
       "\\begin{tabular}{lllllllllllllll}\n",
       " Legislature\\_RECODED & PARTY\\_RECODED & Year & left\\_right & ratio\\_leftright & logit\\_left\\_right & classic\\_economic & ratio\\_economic & logit\\_economic & classic\\_gal\\_tan & ratio\\_gal\\_tan & logit\\_gal\\_tan & classic\\_economic\\_gal\\_tan & ratio\\_economic\\_gal\\_tan & logit\\_economic\\_gal\\_tan\\\\\n",
       " <dbl> & <chr> & <int> & <dbl> & <dbl> & <dbl> & <dbl> & <dbl> & <dbl> & <dbl> & <dbl> & <dbl> & <dbl> & <dbl> & <dbl>\\\\\n",
       "\\hline\n",
       "\t 7 & MSI & 1976 & 10.73986 & 0.2586207 & 0.5162467 & 0.3579952 & 0.4285714 & 0.3951808 & -0.8353222 &  -1 & -0.9823198 & -0.8353222 &  -1 & -0.9823198\\\\\n",
       "\t 7 & MSI & 1978 & 55.87906 & 0.9896504 & 4.2702242 & 1.1687500 & 1.0000000 & 1.2052221 &  0.0000000 & NaN &  0.0000000 &  0.0000000 & NaN &  0.0000000\\\\\n",
       "\t 7 & MSI & 1979 & 23.28817 & 0.8315191 & 2.2131744 & 4.0537131 & 0.5693994 & 1.0966668 & -0.3324468 &  -1 & -0.5097612 & -0.3324468 &  -1 & -0.5097612\\\\\n",
       "\\end{tabular}\n"
      ],
      "text/markdown": [
       "\n",
       "A grouped_df: 3 × 15\n",
       "\n",
       "| Legislature_RECODED &lt;dbl&gt; | PARTY_RECODED &lt;chr&gt; | Year &lt;int&gt; | left_right &lt;dbl&gt; | ratio_leftright &lt;dbl&gt; | logit_left_right &lt;dbl&gt; | classic_economic &lt;dbl&gt; | ratio_economic &lt;dbl&gt; | logit_economic &lt;dbl&gt; | classic_gal_tan &lt;dbl&gt; | ratio_gal_tan &lt;dbl&gt; | logit_gal_tan &lt;dbl&gt; | classic_economic_gal_tan &lt;dbl&gt; | ratio_economic_gal_tan &lt;dbl&gt; | logit_economic_gal_tan &lt;dbl&gt; |\n",
       "|---|---|---|---|---|---|---|---|---|---|---|---|---|---|---|\n",
       "| 7 | MSI | 1976 | 10.73986 | 0.2586207 | 0.5162467 | 0.3579952 | 0.4285714 | 0.3951808 | -0.8353222 |  -1 | -0.9823198 | -0.8353222 |  -1 | -0.9823198 |\n",
       "| 7 | MSI | 1978 | 55.87906 | 0.9896504 | 4.2702242 | 1.1687500 | 1.0000000 | 1.2052221 |  0.0000000 | NaN |  0.0000000 |  0.0000000 | NaN |  0.0000000 |\n",
       "| 7 | MSI | 1979 | 23.28817 | 0.8315191 | 2.2131744 | 4.0537131 | 0.5693994 | 1.0966668 | -0.3324468 |  -1 | -0.5097612 | -0.3324468 |  -1 | -0.5097612 |\n",
       "\n"
      ],
      "text/plain": [
       "  Legislature_RECODED PARTY_RECODED Year left_right ratio_leftright\n",
       "1 7                   MSI           1976 10.73986   0.2586207      \n",
       "2 7                   MSI           1978 55.87906   0.9896504      \n",
       "3 7                   MSI           1979 23.28817   0.8315191      \n",
       "  logit_left_right classic_economic ratio_economic logit_economic\n",
       "1 0.5162467        0.3579952        0.4285714      0.3951808     \n",
       "2 4.2702242        1.1687500        1.0000000      1.2052221     \n",
       "3 2.2131744        4.0537131        0.5693994      1.0966668     \n",
       "  classic_gal_tan ratio_gal_tan logit_gal_tan classic_economic_gal_tan\n",
       "1 -0.8353222       -1           -0.9823198    -0.8353222              \n",
       "2  0.0000000      NaN            0.0000000     0.0000000              \n",
       "3 -0.3324468       -1           -0.5097612    -0.3324468              \n",
       "  ratio_economic_gal_tan logit_economic_gal_tan\n",
       "1  -1                    -0.9823198            \n",
       "2 NaN                     0.0000000            \n",
       "3  -1                    -0.5097612            "
      ]
     },
     "metadata": {},
     "output_type": "display_data"
    }
   ],
   "source": [
    "ilsd %>% \n",
    "filter(Legislature_RECODED == 7 & PARTY_RECODED == 'MSI') %>% \n",
    "select(Legislature_RECODED, PARTY_RECODED, Year, left_right, ratio_leftright, logit_left_right, classic_economic, \n",
    "       ratio_economic, logit_economic, classic_gal_tan, ratio_gal_tan, logit_gal_tan, classic_economic_gal_tan, \n",
    "       ratio_economic_gal_tan, logit_economic_gal_tan)\n"
   ]
  },
  {
   "cell_type": "code",
   "execution_count": 44,
   "id": "9b57c189",
   "metadata": {},
   "outputs": [],
   "source": [
    "joined_texts <- joined_texts %>% \n",
    "mutate(left_right = case_when(\n",
    "gruppoP_recoded == \"CD-DN\" & legislature == 7 & year == 1976 ~ 10.73986,\n",
    "gruppoP_recoded == \"CD-DN\" & legislature == 7 & year == 1978 ~ 55.87906,\n",
    "gruppoP_recoded == \"CD-DN\" & legislature == 7 & year == 1979 ~ 23.28817,\n",
    "TRUE ~ left_right),\n",
    "      ratio_leftright = case_when(\n",
    "gruppoP_recoded == \"CD-DN\" & legislature == 7 & year == 1976 ~ 0.2586207,\n",
    "gruppoP_recoded == \"CD-DN\" & legislature == 7 & year == 1978 ~ 0.9896504,\n",
    "gruppoP_recoded == \"CD-DN\" & legislature == 7 & year == 1979 ~ 0.8315191,\n",
    "TRUE ~ ratio_leftright),\n",
    "      logit_left_right = case_when(\n",
    "gruppoP_recoded == \"CD-DN\" & legislature == 7 & year == 1976 ~ 0.5162467,\n",
    "gruppoP_recoded == \"CD-DN\" & legislature == 7 & year == 1978 ~ 4.2702242,\n",
    "gruppoP_recoded == \"CD-DN\" & legislature == 7 & year == 1979 ~ 2.2131744,\n",
    "TRUE ~ logit_left_right),\n",
    "      classic_economic = case_when(\n",
    "gruppoP_recoded == \"CD-DN\" & legislature == 7 & year == 1976 ~ 0.3579952,\n",
    "gruppoP_recoded == \"CD-DN\" & legislature == 7 & year == 1978 ~ 1.1687500,\n",
    "gruppoP_recoded == \"CD-DN\" & legislature == 7 & year == 1979 ~ 4.0537131,\n",
    "TRUE ~ classic_economic),\n",
    "      ratio_economic = case_when(\n",
    "gruppoP_recoded == \"CD-DN\" & legislature == 7 & year == 1976 ~ 0.4285714,\n",
    "gruppoP_recoded == \"CD-DN\" & legislature == 7 & year == 1978 ~ 1.0000000,\n",
    "gruppoP_recoded == \"CD-DN\" & legislature == 7 & year == 1979 ~ 0.5693994,\n",
    "TRUE ~ ratio_economic),\n",
    "      logit_economic = case_when(\n",
    "gruppoP_recoded == \"CD-DN\" & legislature == 7 & year == 1976 ~ 0.3951808,\n",
    "gruppoP_recoded == \"CD-DN\" & legislature == 7 & year == 1978 ~ 1.2052221,\n",
    "gruppoP_recoded == \"CD-DN\" & legislature == 7 & year == 1979 ~ 1.0966668,\n",
    "TRUE ~ logit_economic),\n",
    "      classic_gal_tan = case_when(\n",
    "gruppoP_recoded == \"CD-DN\" & legislature == 7 & year == 1976 ~ -0.8353222,\n",
    "gruppoP_recoded == \"CD-DN\" & legislature == 7 & year == 1978 ~ 0.0000000,\n",
    "gruppoP_recoded == \"CD-DN\" & legislature == 7 & year == 1979 ~ -0.3324468,\n",
    "TRUE ~ classic_gal_tan),\n",
    "      ratio_gal_tan = case_when(\n",
    "gruppoP_recoded == \"CD-DN\" & legislature == 7 & year == 1976 ~ -1,\n",
    "gruppoP_recoded == \"CD-DN\" & legislature == 7 & year == 1979 ~ -1,\n",
    "TRUE ~ ratio_gal_tan),\n",
    "      logit_gal_tan = case_when(\n",
    "gruppoP_recoded == \"CD-DN\" & legislature == 7 & year == 1976 ~ -0.9823198,\n",
    "gruppoP_recoded == \"CD-DN\" & legislature == 7 & year == 1978 ~ 0.0000000,\n",
    "gruppoP_recoded == \"CD-DN\" & legislature == 7 & year == 1979 ~ -0.5097612,\n",
    "TRUE ~ logit_gal_tan),\n",
    "       classic_economic_gal_tan = case_when(\n",
    "gruppoP_recoded == \"CD-DN\" & legislature == 7 & year == 1976 ~ -0.8353222,\n",
    "gruppoP_recoded == \"CD-DN\" & legislature == 7 & year == 1978 ~ 0.0000000,\n",
    "gruppoP_recoded == \"CD-DN\" & legislature == 7 & year == 1979 ~ -0.3324468,\n",
    "TRUE ~ classic_economic_gal_tan),\n",
    "       ratio_economic_gal_tan = case_when(\n",
    "gruppoP_recoded == \"CD-DN\" & legislature == 7 & year == 1976 ~ -1,\n",
    "gruppoP_recoded == \"CD-DN\" & legislature == 7 & year == 1979 ~ -1,\n",
    "TRUE ~ ratio_economic_gal_tan),\n",
    "       logit_economic_gal_tan = case_when(\n",
    "gruppoP_recoded == \"CD-DN\" & legislature == 7 & year == 1976 ~ -0.9823198,\n",
    "gruppoP_recoded == \"CD-DN\" & legislature == 7 & year == 1978 ~ 0.0000000,\n",
    "gruppoP_recoded == \"CD-DN\" & legislature == 7 & year == 1979 ~ -0.5097612,\n",
    "TRUE ~ logit_economic_gal_tan)) "
   ]
  },
  {
   "cell_type": "markdown",
   "id": "55d6cfc0",
   "metadata": {},
   "source": [
    "## Partito di Unità Proletaria per il Comunismo (PdUP)"
   ]
  },
  {
   "cell_type": "markdown",
   "id": "68936a82",
   "metadata": {},
   "source": [
    "It was founded in 1974 with the merge between \"Partito di Unità Proletaria\" and \"Il Manifesto\" group. Neither of those two parties are in ILSD in the 8th legislature, so I'll fill the null values with the values pertaining to Democrazia Proletaria (DP), which PdUP was in coalition with."
   ]
  },
  {
   "cell_type": "code",
   "execution_count": 45,
   "id": "bd6b0508",
   "metadata": {},
   "outputs": [
    {
     "data": {
      "text/html": [
       "<table class=\"dataframe\">\n",
       "<caption>A grouped_df: 4 × 15</caption>\n",
       "<thead>\n",
       "\t<tr><th scope=col>Legislature_RECODED</th><th scope=col>PARTY_RECODED</th><th scope=col>Year</th><th scope=col>left_right</th><th scope=col>ratio_leftright</th><th scope=col>logit_left_right</th><th scope=col>classic_economic</th><th scope=col>ratio_economic</th><th scope=col>logit_economic</th><th scope=col>classic_gal_tan</th><th scope=col>ratio_gal_tan</th><th scope=col>logit_gal_tan</th><th scope=col>classic_economic_gal_tan</th><th scope=col>ratio_economic_gal_tan</th><th scope=col>logit_economic_gal_tan</th></tr>\n",
       "\t<tr><th scope=col>&lt;dbl&gt;</th><th scope=col>&lt;chr&gt;</th><th scope=col>&lt;int&gt;</th><th scope=col>&lt;dbl&gt;</th><th scope=col>&lt;dbl&gt;</th><th scope=col>&lt;dbl&gt;</th><th scope=col>&lt;dbl&gt;</th><th scope=col>&lt;dbl&gt;</th><th scope=col>&lt;dbl&gt;</th><th scope=col>&lt;dbl&gt;</th><th scope=col>&lt;dbl&gt;</th><th scope=col>&lt;dbl&gt;</th><th scope=col>&lt;dbl&gt;</th><th scope=col>&lt;dbl&gt;</th><th scope=col>&lt;dbl&gt;</th></tr>\n",
       "</thead>\n",
       "<tbody>\n",
       "\t<tr><td>8</td><td>DP</td><td>1979</td><td>-41.420</td><td>-0.8716330</td><td>-2.539048</td><td>-29.79</td><td>-1.0000000</td><td>-4.103965</td><td> 0.000</td><td>NaN</td><td> 0.0000000</td><td> 0.000</td><td>       NaN</td><td> 0.0000000</td></tr>\n",
       "\t<tr><td>8</td><td>DP</td><td>1980</td><td>-29.035</td><td>-0.7395584</td><td>-2.095848</td><td>-23.14</td><td>-0.8963370</td><td>-2.647445</td><td>-0.315</td><td> -1</td><td>-0.4076824</td><td>-0.315</td><td>-1.0000000</td><td>-0.4076824</td></tr>\n",
       "\t<tr><td>8</td><td>DP</td><td>1981</td><td>-20.260</td><td>-0.4877227</td><td>-1.036266</td><td>-15.24</td><td>-0.7912773</td><td>-1.956103</td><td>-5.420</td><td> -1</td><td>-2.4714836</td><td>-5.420</td><td>-1.0000000</td><td>-2.4714836</td></tr>\n",
       "\t<tr><td>8</td><td>DP</td><td>1982</td><td>-22.310</td><td>-0.5803005</td><td>-1.349249</td><td>-18.91</td><td>-0.6588462</td><td>-1.860461</td><td>-0.770</td><td> -1</td><td>-0.8771326</td><td>-1.485</td><td>-0.8565737</td><td>-1.1686617</td></tr>\n",
       "</tbody>\n",
       "</table>\n"
      ],
      "text/latex": [
       "A grouped\\_df: 4 × 15\n",
       "\\begin{tabular}{lllllllllllllll}\n",
       " Legislature\\_RECODED & PARTY\\_RECODED & Year & left\\_right & ratio\\_leftright & logit\\_left\\_right & classic\\_economic & ratio\\_economic & logit\\_economic & classic\\_gal\\_tan & ratio\\_gal\\_tan & logit\\_gal\\_tan & classic\\_economic\\_gal\\_tan & ratio\\_economic\\_gal\\_tan & logit\\_economic\\_gal\\_tan\\\\\n",
       " <dbl> & <chr> & <int> & <dbl> & <dbl> & <dbl> & <dbl> & <dbl> & <dbl> & <dbl> & <dbl> & <dbl> & <dbl> & <dbl> & <dbl>\\\\\n",
       "\\hline\n",
       "\t 8 & DP & 1979 & -41.420 & -0.8716330 & -2.539048 & -29.79 & -1.0000000 & -4.103965 &  0.000 & NaN &  0.0000000 &  0.000 &        NaN &  0.0000000\\\\\n",
       "\t 8 & DP & 1980 & -29.035 & -0.7395584 & -2.095848 & -23.14 & -0.8963370 & -2.647445 & -0.315 &  -1 & -0.4076824 & -0.315 & -1.0000000 & -0.4076824\\\\\n",
       "\t 8 & DP & 1981 & -20.260 & -0.4877227 & -1.036266 & -15.24 & -0.7912773 & -1.956103 & -5.420 &  -1 & -2.4714836 & -5.420 & -1.0000000 & -2.4714836\\\\\n",
       "\t 8 & DP & 1982 & -22.310 & -0.5803005 & -1.349249 & -18.91 & -0.6588462 & -1.860461 & -0.770 &  -1 & -0.8771326 & -1.485 & -0.8565737 & -1.1686617\\\\\n",
       "\\end{tabular}\n"
      ],
      "text/markdown": [
       "\n",
       "A grouped_df: 4 × 15\n",
       "\n",
       "| Legislature_RECODED &lt;dbl&gt; | PARTY_RECODED &lt;chr&gt; | Year &lt;int&gt; | left_right &lt;dbl&gt; | ratio_leftright &lt;dbl&gt; | logit_left_right &lt;dbl&gt; | classic_economic &lt;dbl&gt; | ratio_economic &lt;dbl&gt; | logit_economic &lt;dbl&gt; | classic_gal_tan &lt;dbl&gt; | ratio_gal_tan &lt;dbl&gt; | logit_gal_tan &lt;dbl&gt; | classic_economic_gal_tan &lt;dbl&gt; | ratio_economic_gal_tan &lt;dbl&gt; | logit_economic_gal_tan &lt;dbl&gt; |\n",
       "|---|---|---|---|---|---|---|---|---|---|---|---|---|---|---|\n",
       "| 8 | DP | 1979 | -41.420 | -0.8716330 | -2.539048 | -29.79 | -1.0000000 | -4.103965 |  0.000 | NaN |  0.0000000 |  0.000 |        NaN |  0.0000000 |\n",
       "| 8 | DP | 1980 | -29.035 | -0.7395584 | -2.095848 | -23.14 | -0.8963370 | -2.647445 | -0.315 |  -1 | -0.4076824 | -0.315 | -1.0000000 | -0.4076824 |\n",
       "| 8 | DP | 1981 | -20.260 | -0.4877227 | -1.036266 | -15.24 | -0.7912773 | -1.956103 | -5.420 |  -1 | -2.4714836 | -5.420 | -1.0000000 | -2.4714836 |\n",
       "| 8 | DP | 1982 | -22.310 | -0.5803005 | -1.349249 | -18.91 | -0.6588462 | -1.860461 | -0.770 |  -1 | -0.8771326 | -1.485 | -0.8565737 | -1.1686617 |\n",
       "\n"
      ],
      "text/plain": [
       "  Legislature_RECODED PARTY_RECODED Year left_right ratio_leftright\n",
       "1 8                   DP            1979 -41.420    -0.8716330     \n",
       "2 8                   DP            1980 -29.035    -0.7395584     \n",
       "3 8                   DP            1981 -20.260    -0.4877227     \n",
       "4 8                   DP            1982 -22.310    -0.5803005     \n",
       "  logit_left_right classic_economic ratio_economic logit_economic\n",
       "1 -2.539048        -29.79           -1.0000000     -4.103965     \n",
       "2 -2.095848        -23.14           -0.8963370     -2.647445     \n",
       "3 -1.036266        -15.24           -0.7912773     -1.956103     \n",
       "4 -1.349249        -18.91           -0.6588462     -1.860461     \n",
       "  classic_gal_tan ratio_gal_tan logit_gal_tan classic_economic_gal_tan\n",
       "1  0.000          NaN            0.0000000     0.000                  \n",
       "2 -0.315           -1           -0.4076824    -0.315                  \n",
       "3 -5.420           -1           -2.4714836    -5.420                  \n",
       "4 -0.770           -1           -0.8771326    -1.485                  \n",
       "  ratio_economic_gal_tan logit_economic_gal_tan\n",
       "1        NaN              0.0000000            \n",
       "2 -1.0000000             -0.4076824            \n",
       "3 -1.0000000             -2.4714836            \n",
       "4 -0.8565737             -1.1686617            "
      ]
     },
     "metadata": {},
     "output_type": "display_data"
    }
   ],
   "source": [
    "ilsd %>% \n",
    "filter(Legislature_RECODED == 8 & PARTY_RECODED == \"DP\") %>% \n",
    "select(Legislature_RECODED, PARTY_RECODED, Year, left_right, ratio_leftright, logit_left_right, classic_economic, \n",
    "       ratio_economic, logit_economic, classic_gal_tan, ratio_gal_tan, logit_gal_tan, classic_economic_gal_tan, \n",
    "       ratio_economic_gal_tan, logit_economic_gal_tan)"
   ]
  },
  {
   "cell_type": "code",
   "execution_count": 46,
   "id": "33b6c158",
   "metadata": {},
   "outputs": [],
   "source": [
    "joined_texts <- joined_texts %>% \n",
    "mutate(left_right = case_when(\n",
    "gruppoP_recoded == \"PDUP\" & legislature == 8 & year == 1979 ~ -41.420,\n",
    "gruppoP_recoded == \"PDUP\" & legislature == 8 & year == 1980 ~ -29.035,\n",
    "gruppoP_recoded == \"PDUP\" & legislature == 8 & year == 1981 ~ -20.260,\n",
    "gruppoP_recoded == \"PDUP\" & legislature == 8 & year == 1982 ~ -22.310,\n",
    "TRUE ~ left_right),\n",
    "      ratio_leftright = case_when(\n",
    "gruppoP_recoded == \"PDUP\" & legislature == 8 & year == 1979 ~ -0.8716330,\n",
    "gruppoP_recoded == \"PDUP\" & legislature == 8 & year == 1980 ~ -0.7395584,\n",
    "gruppoP_recoded == \"PDUP\" & legislature == 8 & year == 1981 ~ -0.4877227,\n",
    "gruppoP_recoded == \"PDUP\" & legislature == 8 & year == 1982 ~ -0.5803005,\n",
    "TRUE ~ ratio_leftright),\n",
    "      logit_left_right = case_when(\n",
    "gruppoP_recoded == \"PDUP\" & legislature == 8 & year == 1979 ~ -2.539048,\n",
    "gruppoP_recoded == \"PDUP\" & legislature == 8 & year == 1980 ~ -2.095848,\n",
    "gruppoP_recoded == \"PDUP\" & legislature == 8 & year == 1981 ~ -1.036266,\n",
    "gruppoP_recoded == \"PDUP\" & legislature == 8 & year == 1982 ~ -1.349249,\n",
    "TRUE ~ logit_left_right),\n",
    "      classic_economic = case_when(\n",
    "gruppoP_recoded == \"PDUP\" & legislature == 8 & year == 1979 ~ -29.79,\n",
    "gruppoP_recoded == \"PDUP\" & legislature == 8 & year == 1980 ~ -23.14,\n",
    "gruppoP_recoded == \"PDUP\" & legislature == 8 & year == 1981 ~ -15.24,\n",
    "gruppoP_recoded == \"PDUP\" & legislature == 8 & year == 1982 ~ -18.91,\n",
    "TRUE ~ classic_economic),\n",
    "      ratio_economic = case_when(\n",
    "gruppoP_recoded == \"PDUP\" & legislature == 8 & year == 1979 ~ -1.0000000,\n",
    "gruppoP_recoded == \"PDUP\" & legislature == 8 & year == 1980 ~ -0.8963370,\n",
    "gruppoP_recoded == \"PDUP\" & legislature == 8 & year == 1981 ~ -0.7912773,\n",
    "gruppoP_recoded == \"PDUP\" & legislature == 8 & year == 1982 ~ -0.6588462,\n",
    "TRUE ~ ratio_economic),\n",
    "      logit_economic = case_when(\n",
    "gruppoP_recoded == \"PDUP\" & legislature == 8 & year == 1979 ~ -4.103965,\n",
    "gruppoP_recoded == \"PDUP\" & legislature == 8 & year == 1980 ~ -2.647445,\n",
    "gruppoP_recoded == \"PDUP\" & legislature == 8 & year == 1981 ~ -1.956103,\n",
    "gruppoP_recoded == \"PDUP\" & legislature == 8 & year == 1982 ~ -1.860461,\n",
    "TRUE ~ logit_economic),\n",
    "      classic_gal_tan = case_when(\n",
    "gruppoP_recoded == \"PDUP\" & legislature == 8 & year == 1979 ~ 0.000,\n",
    "gruppoP_recoded == \"PDUP\" & legislature == 8 & year == 1980 ~ -0.315,\n",
    "gruppoP_recoded == \"PDUP\" & legislature == 8 & year == 1981 ~ -5.420,\n",
    "gruppoP_recoded == \"PDUP\" & legislature == 8 & year == 1982 ~ -0.770,\n",
    "TRUE ~ classic_gal_tan),\n",
    "      ratio_gal_tan = case_when(\n",
    "gruppoP_recoded == \"PDUP\" & legislature == 8 & year == 1980 ~ -1,\n",
    "gruppoP_recoded == \"PDUP\" & legislature == 8 & year == 1981 ~ -1,\n",
    "gruppoP_recoded == \"PDUP\" & legislature == 8 & year == 1982 ~ -1,\n",
    "TRUE ~ ratio_gal_tan),\n",
    "      logit_gal_tan = case_when(\n",
    "gruppoP_recoded == \"PDUP\" & legislature == 8 & year == 1979 ~ 0.0000000,\n",
    "gruppoP_recoded == \"PDUP\" & legislature == 8 & year == 1980 ~ -0.4076824,\n",
    "gruppoP_recoded == \"PDUP\" & legislature == 8 & year == 1981 ~ -2.4714836,\n",
    "gruppoP_recoded == \"PDUP\" & legislature == 8 & year == 1982 ~ -0.8771326,\n",
    "TRUE ~ logit_gal_tan),\n",
    "       classic_economic_gal_tan = case_when(\n",
    "gruppoP_recoded == \"PDUP\" & legislature == 8 & year == 1979 ~ 0.000,\n",
    "gruppoP_recoded == \"PDUP\" & legislature == 8 & year == 1980 ~ -0.315,\n",
    "gruppoP_recoded == \"PDUP\" & legislature == 8 & year == 1981 ~ -5.420,\n",
    "gruppoP_recoded == \"PDUP\" & legislature == 8 & year == 1982 ~ -1.485,\n",
    "TRUE ~ classic_economic_gal_tan),\n",
    "       ratio_economic_gal_tan = case_when(\n",
    "gruppoP_recoded == \"PDUP\" & legislature == 8 & year == 1979 ~ -1.0000000,\n",
    "gruppoP_recoded == \"PDUP\" & legislature == 8 & year == 1981 ~ -1.0000000,\n",
    "gruppoP_recoded == \"PDUP\" & legislature == 8 & year == 1982 ~ -0.8565737,\n",
    "TRUE ~ ratio_economic_gal_tan),\n",
    "       logit_economic_gal_tan = case_when(\n",
    "gruppoP_recoded == \"PDUP\" & legislature == 8 & year == 1979 ~ 0.0000000,\n",
    "gruppoP_recoded == \"PDUP\" & legislature == 8 & year == 1980 ~ -0.4076824,\n",
    "gruppoP_recoded == \"PDUP\" & legislature == 8 & year == 1981 ~ -2.4714836,\n",
    "gruppoP_recoded == \"PDUP\" & legislature == 8 & year == 1982 ~ -1.1686617,\n",
    "TRUE ~ logit_economic_gal_tan)) "
   ]
  },
  {
   "cell_type": "markdown",
   "id": "23f53c35",
   "metadata": {},
   "source": [
    "## Sinistra Indipendente (SI) (ninth legislature)"
   ]
  },
  {
   "cell_type": "markdown",
   "id": "f5d99e82",
   "metadata": {},
   "source": [
    "The Independent Left was created by the Italian Communist Party with the goal to reinforce its leadership over the Italian left after the passage of the Italian Socialist Party to an alliance with the centrist Italian Christian Democracy. The values pertaining to PCI will be used to fill the NA values for SI."
   ]
  },
  {
   "cell_type": "code",
   "execution_count": 47,
   "id": "5bd0443d",
   "metadata": {},
   "outputs": [
    {
     "data": {
      "text/html": [
       "<table class=\"dataframe\">\n",
       "<caption>A grouped_df: 3 × 15</caption>\n",
       "<thead>\n",
       "\t<tr><th scope=col>Legislature_RECODED</th><th scope=col>PARTY_RECODED</th><th scope=col>Year</th><th scope=col>left_right</th><th scope=col>ratio_leftright</th><th scope=col>logit_left_right</th><th scope=col>classic_economic</th><th scope=col>ratio_economic</th><th scope=col>logit_economic</th><th scope=col>classic_gal_tan</th><th scope=col>ratio_gal_tan</th><th scope=col>logit_gal_tan</th><th scope=col>classic_economic_gal_tan</th><th scope=col>ratio_economic_gal_tan</th><th scope=col>logit_economic_gal_tan</th></tr>\n",
       "\t<tr><th scope=col>&lt;dbl&gt;</th><th scope=col>&lt;chr&gt;</th><th scope=col>&lt;int&gt;</th><th scope=col>&lt;dbl&gt;</th><th scope=col>&lt;dbl&gt;</th><th scope=col>&lt;dbl&gt;</th><th scope=col>&lt;dbl&gt;</th><th scope=col>&lt;dbl&gt;</th><th scope=col>&lt;dbl&gt;</th><th scope=col>&lt;dbl&gt;</th><th scope=col>&lt;dbl&gt;</th><th scope=col>&lt;dbl&gt;</th><th scope=col>&lt;dbl&gt;</th><th scope=col>&lt;dbl&gt;</th><th scope=col>&lt;dbl&gt;</th></tr>\n",
       "</thead>\n",
       "<tbody>\n",
       "\t<tr><td>9</td><td>PCI</td><td>1983</td><td>-26.17944</td><td>-0.6308939</td><td>-1.437221</td><td>-16.44706</td><td>-0.7288902</td><td>-1.726618</td><td>-2.911066</td><td>-1</td><td>-1.9201721</td><td>-2.911066</td><td>-1</td><td>-1.9201721</td></tr>\n",
       "\t<tr><td>9</td><td>PCI</td><td>1986</td><td>-17.53310</td><td>-0.5499507</td><td>-1.189282</td><td>-11.80513</td><td>-0.6850729</td><td>-1.541955</td><td>-0.197665</td><td>-1</td><td>-0.3331309</td><td>-0.197665</td><td>-1</td><td>-0.3331309</td></tr>\n",
       "\t<tr><td>9</td><td>PCI</td><td>1987</td><td>-17.83554</td><td>-0.6542756</td><td>-1.486563</td><td>-14.19994</td><td>-1.0000000</td><td>-3.380991</td><td>-2.736114</td><td>-1</td><td>-1.8675205</td><td>-2.736114</td><td>-1</td><td>-1.8675205</td></tr>\n",
       "</tbody>\n",
       "</table>\n"
      ],
      "text/latex": [
       "A grouped\\_df: 3 × 15\n",
       "\\begin{tabular}{lllllllllllllll}\n",
       " Legislature\\_RECODED & PARTY\\_RECODED & Year & left\\_right & ratio\\_leftright & logit\\_left\\_right & classic\\_economic & ratio\\_economic & logit\\_economic & classic\\_gal\\_tan & ratio\\_gal\\_tan & logit\\_gal\\_tan & classic\\_economic\\_gal\\_tan & ratio\\_economic\\_gal\\_tan & logit\\_economic\\_gal\\_tan\\\\\n",
       " <dbl> & <chr> & <int> & <dbl> & <dbl> & <dbl> & <dbl> & <dbl> & <dbl> & <dbl> & <dbl> & <dbl> & <dbl> & <dbl> & <dbl>\\\\\n",
       "\\hline\n",
       "\t 9 & PCI & 1983 & -26.17944 & -0.6308939 & -1.437221 & -16.44706 & -0.7288902 & -1.726618 & -2.911066 & -1 & -1.9201721 & -2.911066 & -1 & -1.9201721\\\\\n",
       "\t 9 & PCI & 1986 & -17.53310 & -0.5499507 & -1.189282 & -11.80513 & -0.6850729 & -1.541955 & -0.197665 & -1 & -0.3331309 & -0.197665 & -1 & -0.3331309\\\\\n",
       "\t 9 & PCI & 1987 & -17.83554 & -0.6542756 & -1.486563 & -14.19994 & -1.0000000 & -3.380991 & -2.736114 & -1 & -1.8675205 & -2.736114 & -1 & -1.8675205\\\\\n",
       "\\end{tabular}\n"
      ],
      "text/markdown": [
       "\n",
       "A grouped_df: 3 × 15\n",
       "\n",
       "| Legislature_RECODED &lt;dbl&gt; | PARTY_RECODED &lt;chr&gt; | Year &lt;int&gt; | left_right &lt;dbl&gt; | ratio_leftright &lt;dbl&gt; | logit_left_right &lt;dbl&gt; | classic_economic &lt;dbl&gt; | ratio_economic &lt;dbl&gt; | logit_economic &lt;dbl&gt; | classic_gal_tan &lt;dbl&gt; | ratio_gal_tan &lt;dbl&gt; | logit_gal_tan &lt;dbl&gt; | classic_economic_gal_tan &lt;dbl&gt; | ratio_economic_gal_tan &lt;dbl&gt; | logit_economic_gal_tan &lt;dbl&gt; |\n",
       "|---|---|---|---|---|---|---|---|---|---|---|---|---|---|---|\n",
       "| 9 | PCI | 1983 | -26.17944 | -0.6308939 | -1.437221 | -16.44706 | -0.7288902 | -1.726618 | -2.911066 | -1 | -1.9201721 | -2.911066 | -1 | -1.9201721 |\n",
       "| 9 | PCI | 1986 | -17.53310 | -0.5499507 | -1.189282 | -11.80513 | -0.6850729 | -1.541955 | -0.197665 | -1 | -0.3331309 | -0.197665 | -1 | -0.3331309 |\n",
       "| 9 | PCI | 1987 | -17.83554 | -0.6542756 | -1.486563 | -14.19994 | -1.0000000 | -3.380991 | -2.736114 | -1 | -1.8675205 | -2.736114 | -1 | -1.8675205 |\n",
       "\n"
      ],
      "text/plain": [
       "  Legislature_RECODED PARTY_RECODED Year left_right ratio_leftright\n",
       "1 9                   PCI           1983 -26.17944  -0.6308939     \n",
       "2 9                   PCI           1986 -17.53310  -0.5499507     \n",
       "3 9                   PCI           1987 -17.83554  -0.6542756     \n",
       "  logit_left_right classic_economic ratio_economic logit_economic\n",
       "1 -1.437221        -16.44706        -0.7288902     -1.726618     \n",
       "2 -1.189282        -11.80513        -0.6850729     -1.541955     \n",
       "3 -1.486563        -14.19994        -1.0000000     -3.380991     \n",
       "  classic_gal_tan ratio_gal_tan logit_gal_tan classic_economic_gal_tan\n",
       "1 -2.911066       -1            -1.9201721    -2.911066               \n",
       "2 -0.197665       -1            -0.3331309    -0.197665               \n",
       "3 -2.736114       -1            -1.8675205    -2.736114               \n",
       "  ratio_economic_gal_tan logit_economic_gal_tan\n",
       "1 -1                     -1.9201721            \n",
       "2 -1                     -0.3331309            \n",
       "3 -1                     -1.8675205            "
      ]
     },
     "metadata": {},
     "output_type": "display_data"
    }
   ],
   "source": [
    "ilsd %>% \n",
    "filter(Legislature_RECODED == 9 & PARTY_RECODED == \"PCI\") %>% \n",
    "select(Legislature_RECODED, PARTY_RECODED, Year, left_right, ratio_leftright, logit_left_right, classic_economic, \n",
    "       ratio_economic, logit_economic, classic_gal_tan, ratio_gal_tan, logit_gal_tan, classic_economic_gal_tan, \n",
    "       ratio_economic_gal_tan, logit_economic_gal_tan)"
   ]
  },
  {
   "cell_type": "code",
   "execution_count": 48,
   "id": "4ecb2635",
   "metadata": {},
   "outputs": [],
   "source": [
    "joined_texts <- joined_texts %>% \n",
    "mutate(left_right = case_when(\n",
    "gruppoP_recoded == \"SI\" & legislature == 9 & year == 1983 ~ -26.17944,\n",
    "gruppoP_recoded == \"SI\" & legislature == 9 & year == 1986 ~ -17.53310,\n",
    "gruppoP_recoded == \"SI\" & legislature == 9 & year == 1987 ~ -17.83554,\n",
    "TRUE ~ left_right),\n",
    "      ratio_leftright = case_when(\n",
    "gruppoP_recoded == \"SI\" & legislature == 9 & year == 1983 ~ -0.6308939,\n",
    "gruppoP_recoded == \"SI\" & legislature == 9 & year == 1986 ~ -0.5499507,\n",
    "gruppoP_recoded == \"SI\" & legislature == 9 & year == 1987 ~ -0.6542756,\n",
    "TRUE ~ ratio_leftright),\n",
    "      logit_left_right = case_when(\n",
    "gruppoP_recoded == \"SI\" & legislature == 9 & year == 1983 ~ -1.437221,\n",
    "gruppoP_recoded == \"SI\" & legislature == 9 & year == 1986 ~ -1.189282,\n",
    "gruppoP_recoded == \"SI\" & legislature == 9 & year == 1987 ~ -1.486563,\n",
    "TRUE ~ logit_left_right),\n",
    "      classic_economic = case_when(\n",
    "gruppoP_recoded == \"SI\" & legislature == 9 & year == 1983 ~ -16.44706,\n",
    "gruppoP_recoded == \"SI\" & legislature == 9 & year == 1986 ~ -11.80513,\n",
    "gruppoP_recoded == \"SI\" & legislature == 9 & year == 1987 ~ -14.19994,\n",
    "TRUE ~ classic_economic),\n",
    "      ratio_economic = case_when(\n",
    "gruppoP_recoded == \"SI\" & legislature == 9 & year == 1983 ~ -0.7288902,\n",
    "gruppoP_recoded == \"SI\" & legislature == 9 & year == 1986 ~ -0.6850729,\n",
    "gruppoP_recoded == \"SI\" & legislature == 9 & year == 1987 ~ -1.0000000,\n",
    "TRUE ~ ratio_economic),\n",
    "      logit_economic = case_when(\n",
    "gruppoP_recoded == \"SI\" & legislature == 9 & year == 1983 ~ -1.726618,\n",
    "gruppoP_recoded == \"SI\" & legislature == 9 & year == 1986 ~ -1.541955,\n",
    "gruppoP_recoded == \"SI\" & legislature == 9 & year == 1987 ~ -3.380991,\n",
    "TRUE ~ logit_economic),\n",
    "      classic_gal_tan = case_when(\n",
    "gruppoP_recoded == \"SI\" & legislature == 9 & year == 1983 ~ -2.911066,\n",
    "gruppoP_recoded == \"SI\" & legislature == 9 & year == 1986 ~ -0.197665,\n",
    "gruppoP_recoded == \"SI\" & legislature == 9 & year == 1987 ~ -2.736114,\n",
    "TRUE ~ classic_gal_tan),\n",
    "      ratio_gal_tan = case_when(\n",
    "gruppoP_recoded == \"SI\" & legislature == 9 & year == 1983 ~ -1,\n",
    "gruppoP_recoded == \"SI\" & legislature == 9 & year == 1986 ~ -1,\n",
    "gruppoP_recoded == \"SI\" & legislature == 9 & year == 1987 ~ -1,\n",
    "TRUE ~ ratio_gal_tan),\n",
    "      logit_gal_tan = case_when(\n",
    "gruppoP_recoded == \"SI\" & legislature == 9 & year == 1983 ~ -1.9201721,\n",
    "gruppoP_recoded == \"SI\" & legislature == 9 & year == 1986 ~ -0.3331309,\n",
    "gruppoP_recoded == \"SI\" & legislature == 9 & year == 1987 ~ -1.8675205,\n",
    "TRUE ~ logit_gal_tan),\n",
    "       classic_economic_gal_tan = case_when(\n",
    "gruppoP_recoded == \"SI\" & legislature == 9 & year == 1983 ~ -2.911066,\n",
    "gruppoP_recoded == \"SI\" & legislature == 9 & year == 1986 ~ -0.197665,\n",
    "gruppoP_recoded == \"SI\" & legislature == 9 & year == 1987 ~ -2.736114,\n",
    "TRUE ~ classic_economic_gal_tan),\n",
    "       ratio_economic_gal_tan = case_when(\n",
    "gruppoP_recoded == \"SI\" & legislature == 9 & year == 1983 ~ -1,\n",
    "gruppoP_recoded == \"SI\" & legislature == 9 & year == 1986 ~ -1,\n",
    "gruppoP_recoded == \"SI\" & legislature == 9 & year == 1987 ~ -1,\n",
    "TRUE ~ ratio_economic_gal_tan),\n",
    "       logit_economic_gal_tan = case_when(\n",
    "gruppoP_recoded == \"SI\" & legislature == 9 & year == 1983 ~ -1.9201721,\n",
    "gruppoP_recoded == \"SI\" & legislature == 9 & year == 1986 ~ -0.3331309,\n",
    "gruppoP_recoded == \"SI\" & legislature == 9 & year == 1987 ~ -1.8675205,\n",
    "TRUE ~ logit_economic_gal_tan)) "
   ]
  },
  {
   "cell_type": "markdown",
   "id": "4885a3ce",
   "metadata": {},
   "source": [
    "## Sinistra Indipendente (SIN/IND/) (tenth legislature) "
   ]
  },
  {
   "cell_type": "markdown",
   "id": "833d4d9b",
   "metadata": {},
   "source": [
    "The Independent Left was created by the Italian Communist Party. The values pertaining to PCI will be used to fill the NA values for SI."
   ]
  },
  {
   "cell_type": "code",
   "execution_count": 49,
   "id": "30915466",
   "metadata": {},
   "outputs": [
    {
     "data": {
      "text/html": [
       "<table class=\"dataframe\">\n",
       "<caption>A grouped_df: 3 × 15</caption>\n",
       "<thead>\n",
       "\t<tr><th scope=col>Legislature_RECODED</th><th scope=col>PARTY_RECODED</th><th scope=col>Year</th><th scope=col>left_right</th><th scope=col>ratio_leftright</th><th scope=col>logit_left_right</th><th scope=col>classic_economic</th><th scope=col>ratio_economic</th><th scope=col>logit_economic</th><th scope=col>classic_gal_tan</th><th scope=col>ratio_gal_tan</th><th scope=col>logit_gal_tan</th><th scope=col>classic_economic_gal_tan</th><th scope=col>ratio_economic_gal_tan</th><th scope=col>logit_economic_gal_tan</th></tr>\n",
       "\t<tr><th scope=col>&lt;dbl&gt;</th><th scope=col>&lt;chr&gt;</th><th scope=col>&lt;int&gt;</th><th scope=col>&lt;dbl&gt;</th><th scope=col>&lt;dbl&gt;</th><th scope=col>&lt;dbl&gt;</th><th scope=col>&lt;dbl&gt;</th><th scope=col>&lt;dbl&gt;</th><th scope=col>&lt;dbl&gt;</th><th scope=col>&lt;dbl&gt;</th><th scope=col>&lt;dbl&gt;</th><th scope=col>&lt;dbl&gt;</th><th scope=col>&lt;dbl&gt;</th><th scope=col>&lt;dbl&gt;</th><th scope=col>&lt;dbl&gt;</th></tr>\n",
       "</thead>\n",
       "<tbody>\n",
       "\t<tr><td>10</td><td>PCI</td><td>1987</td><td>-32.973785</td><td>-0.7027305</td><td>-1.6885495</td><td>-18.069944</td><td>-0.8357102</td><td>-2.190400</td><td>-0.1333333</td><td>-1</td><td>-0.2363888</td><td>-0.1333333</td><td>-1.0000000</td><td>-0.2363888</td></tr>\n",
       "\t<tr><td>10</td><td>PCI</td><td>1988</td><td> -7.032656</td><td>-0.2811525</td><td>-0.5544711</td><td> -3.094237</td><td>-0.9084395</td><td>-1.743499</td><td>-0.1932203</td><td>-1</td><td>-0.3267398</td><td>-0.1932203</td><td>-1.0000000</td><td>-0.3267398</td></tr>\n",
       "\t<tr><td>10</td><td>PCI</td><td>1989</td><td> -3.702825</td><td>-0.1540813</td><td>-0.2980383</td><td> -7.299153</td><td>-0.8076959</td><td>-1.845620</td><td>-2.0819774</td><td>-1</td><td>-1.6417027</td><td>-2.0469491</td><td>-0.9669077</td><td>-1.5739913</td></tr>\n",
       "</tbody>\n",
       "</table>\n"
      ],
      "text/latex": [
       "A grouped\\_df: 3 × 15\n",
       "\\begin{tabular}{lllllllllllllll}\n",
       " Legislature\\_RECODED & PARTY\\_RECODED & Year & left\\_right & ratio\\_leftright & logit\\_left\\_right & classic\\_economic & ratio\\_economic & logit\\_economic & classic\\_gal\\_tan & ratio\\_gal\\_tan & logit\\_gal\\_tan & classic\\_economic\\_gal\\_tan & ratio\\_economic\\_gal\\_tan & logit\\_economic\\_gal\\_tan\\\\\n",
       " <dbl> & <chr> & <int> & <dbl> & <dbl> & <dbl> & <dbl> & <dbl> & <dbl> & <dbl> & <dbl> & <dbl> & <dbl> & <dbl> & <dbl>\\\\\n",
       "\\hline\n",
       "\t 10 & PCI & 1987 & -32.973785 & -0.7027305 & -1.6885495 & -18.069944 & -0.8357102 & -2.190400 & -0.1333333 & -1 & -0.2363888 & -0.1333333 & -1.0000000 & -0.2363888\\\\\n",
       "\t 10 & PCI & 1988 &  -7.032656 & -0.2811525 & -0.5544711 &  -3.094237 & -0.9084395 & -1.743499 & -0.1932203 & -1 & -0.3267398 & -0.1932203 & -1.0000000 & -0.3267398\\\\\n",
       "\t 10 & PCI & 1989 &  -3.702825 & -0.1540813 & -0.2980383 &  -7.299153 & -0.8076959 & -1.845620 & -2.0819774 & -1 & -1.6417027 & -2.0469491 & -0.9669077 & -1.5739913\\\\\n",
       "\\end{tabular}\n"
      ],
      "text/markdown": [
       "\n",
       "A grouped_df: 3 × 15\n",
       "\n",
       "| Legislature_RECODED &lt;dbl&gt; | PARTY_RECODED &lt;chr&gt; | Year &lt;int&gt; | left_right &lt;dbl&gt; | ratio_leftright &lt;dbl&gt; | logit_left_right &lt;dbl&gt; | classic_economic &lt;dbl&gt; | ratio_economic &lt;dbl&gt; | logit_economic &lt;dbl&gt; | classic_gal_tan &lt;dbl&gt; | ratio_gal_tan &lt;dbl&gt; | logit_gal_tan &lt;dbl&gt; | classic_economic_gal_tan &lt;dbl&gt; | ratio_economic_gal_tan &lt;dbl&gt; | logit_economic_gal_tan &lt;dbl&gt; |\n",
       "|---|---|---|---|---|---|---|---|---|---|---|---|---|---|---|\n",
       "| 10 | PCI | 1987 | -32.973785 | -0.7027305 | -1.6885495 | -18.069944 | -0.8357102 | -2.190400 | -0.1333333 | -1 | -0.2363888 | -0.1333333 | -1.0000000 | -0.2363888 |\n",
       "| 10 | PCI | 1988 |  -7.032656 | -0.2811525 | -0.5544711 |  -3.094237 | -0.9084395 | -1.743499 | -0.1932203 | -1 | -0.3267398 | -0.1932203 | -1.0000000 | -0.3267398 |\n",
       "| 10 | PCI | 1989 |  -3.702825 | -0.1540813 | -0.2980383 |  -7.299153 | -0.8076959 | -1.845620 | -2.0819774 | -1 | -1.6417027 | -2.0469491 | -0.9669077 | -1.5739913 |\n",
       "\n"
      ],
      "text/plain": [
       "  Legislature_RECODED PARTY_RECODED Year left_right ratio_leftright\n",
       "1 10                  PCI           1987 -32.973785 -0.7027305     \n",
       "2 10                  PCI           1988  -7.032656 -0.2811525     \n",
       "3 10                  PCI           1989  -3.702825 -0.1540813     \n",
       "  logit_left_right classic_economic ratio_economic logit_economic\n",
       "1 -1.6885495       -18.069944       -0.8357102     -2.190400     \n",
       "2 -0.5544711        -3.094237       -0.9084395     -1.743499     \n",
       "3 -0.2980383        -7.299153       -0.8076959     -1.845620     \n",
       "  classic_gal_tan ratio_gal_tan logit_gal_tan classic_economic_gal_tan\n",
       "1 -0.1333333      -1            -0.2363888    -0.1333333              \n",
       "2 -0.1932203      -1            -0.3267398    -0.1932203              \n",
       "3 -2.0819774      -1            -1.6417027    -2.0469491              \n",
       "  ratio_economic_gal_tan logit_economic_gal_tan\n",
       "1 -1.0000000             -0.2363888            \n",
       "2 -1.0000000             -0.3267398            \n",
       "3 -0.9669077             -1.5739913            "
      ]
     },
     "metadata": {},
     "output_type": "display_data"
    }
   ],
   "source": [
    "ilsd %>% \n",
    "filter(Legislature_RECODED == 10 & PARTY_RECODED == \"PCI\") %>% \n",
    "select(Legislature_RECODED, PARTY_RECODED, Year, left_right, ratio_leftright, logit_left_right, classic_economic, \n",
    "       ratio_economic, logit_economic, classic_gal_tan, ratio_gal_tan, logit_gal_tan, classic_economic_gal_tan, \n",
    "       ratio_economic_gal_tan, logit_economic_gal_tan)"
   ]
  },
  {
   "cell_type": "code",
   "execution_count": 50,
   "id": "69a51f09",
   "metadata": {},
   "outputs": [],
   "source": [
    "joined_texts <- joined_texts %>% \n",
    "mutate(left_right = case_when(\n",
    "gruppoP_recoded == \"SIN/IND/\" & legislature == 10 & year == 1987 ~ -32.973785,\n",
    "gruppoP_recoded == \"SIN/IND/\" & legislature == 10 & year == 1988 ~ -7.032656,\n",
    "gruppoP_recoded == \"SIN/IND/\" & legislature == 10 & year == 1989 ~ -3.702825,\n",
    "TRUE ~ left_right),\n",
    "      ratio_leftright = case_when(\n",
    "gruppoP_recoded == \"SIN/IND/\" & legislature == 10 & year == 1987 ~ -0.7027305,\n",
    "gruppoP_recoded == \"SIN/IND/\" & legislature == 10 & year == 1988 ~ -0.2811525,\n",
    "gruppoP_recoded == \"SIN/IND/\" & legislature == 10 & year == 1989 ~ -0.1540813,\n",
    "TRUE ~ ratio_leftright),\n",
    "      logit_left_right = case_when(\n",
    "gruppoP_recoded == \"SIN/IND/\" & legislature == 10 & year == 1987 ~ -1.6885495,\n",
    "gruppoP_recoded == \"SIN/IND/\" & legislature == 10 & year == 1988 ~ -0.5544711,\n",
    "gruppoP_recoded == \"SIN/IND/\" & legislature == 10 & year == 1989 ~ -0.2980383,\n",
    "TRUE ~ logit_left_right),\n",
    "      classic_economic = case_when(\n",
    "gruppoP_recoded == \"SIN/IND/\" & legislature == 10 & year == 1987 ~ -18.069944,\n",
    "gruppoP_recoded == \"SIN/IND/\" & legislature == 10 & year == 1988 ~ -3.094237,\n",
    "gruppoP_recoded == \"SIN/IND/\" & legislature == 10 & year == 1989 ~ -7.299153,\n",
    "TRUE ~ classic_economic),\n",
    "      ratio_economic = case_when(\n",
    "gruppoP_recoded == \"SIN/IND/\" & legislature == 10 & year == 1987 ~ -0.8357102,\n",
    "gruppoP_recoded == \"SIN/IND/\" & legislature == 10 & year == 1988 ~ -0.9084395,\n",
    "gruppoP_recoded == \"SIN/IND/\" & legislature == 10 & year == 1989 ~ -0.8076959,\n",
    "TRUE ~ ratio_economic),\n",
    "      logit_economic = case_when(\n",
    "gruppoP_recoded == \"SIN/IND/\" & legislature == 10 & year == 1987 ~ -2.190400,\n",
    "gruppoP_recoded == \"SIN/IND/\" & legislature == 10 & year == 1988 ~ -1.743499,\n",
    "gruppoP_recoded == \"SIN/IND/\" & legislature == 10 & year == 1989 ~ -1.845620,\n",
    "TRUE ~ logit_economic),\n",
    "      classic_gal_tan = case_when(\n",
    "gruppoP_recoded == \"SIN/IND/\" & legislature == 10 & year == 1987 ~ -0.1333333,\n",
    "gruppoP_recoded == \"SIN/IND/\" & legislature == 10 & year == 1988 ~ -0.1932203,\n",
    "gruppoP_recoded == \"SIN/IND/\" & legislature == 10 & year == 1989 ~ -2.0819774,\n",
    "TRUE ~ classic_gal_tan),\n",
    "      ratio_gal_tan = case_when(\n",
    "gruppoP_recoded == \"SIN/IND/\" & legislature == 10 & year == 1987 ~ -1,\n",
    "gruppoP_recoded == \"SIN/IND/\" & legislature == 10 & year == 1988 ~ -1,\n",
    "gruppoP_recoded == \"SIN/IND/\" & legislature == 10 & year == 1989 ~ -1,\n",
    "TRUE ~ ratio_gal_tan),\n",
    "      logit_gal_tan = case_when(\n",
    "gruppoP_recoded == \"SIN/IND/\" & legislature == 10 & year == 1987 ~ -0.2363888,\n",
    "gruppoP_recoded == \"SIN/IND/\" & legislature == 10 & year == 1988 ~ -0.3267398,\n",
    "gruppoP_recoded == \"SIN/IND/\" & legislature == 10 & year == 1989 ~ -1.6417027,\n",
    "TRUE ~ logit_gal_tan),\n",
    "       classic_economic_gal_tan = case_when(\n",
    "gruppoP_recoded == \"SIN/IND/\" & legislature == 10 & year == 1987 ~ -0.1333333,\n",
    "gruppoP_recoded == \"SIN/IND/\" & legislature == 10 & year == 1988 ~ -0.1932203,\n",
    "gruppoP_recoded == \"SIN/IND/\" & legislature == 10 & year == 1989 ~ -2.0469491,\n",
    "TRUE ~ classic_economic_gal_tan),\n",
    "       ratio_economic_gal_tan = case_when(\n",
    "gruppoP_recoded == \"SIN/IND/\" & legislature == 10 & year == 1987 ~ -1.0000000,\n",
    "gruppoP_recoded == \"SIN/IND/\" & legislature == 10 & year == 1988 ~ -1.0000000,\n",
    "gruppoP_recoded == \"SIN/IND/\" & legislature == 10 & year == 1989 ~ -0.9669077,\n",
    "TRUE ~ ratio_economic_gal_tan),\n",
    "       logit_economic_gal_tan = case_when(\n",
    "gruppoP_recoded == \"SIN/IND/\" & legislature == 10 & year == 1987 ~ -0.2363888,\n",
    "gruppoP_recoded == \"SIN/IND/\" & legislature == 10 & year == 1988 ~ -0.3267398,\n",
    "gruppoP_recoded == \"SIN/IND/\" & legislature == 10 & year == 1989 ~ -1.5739913,\n",
    "TRUE ~ logit_economic_gal_tan)) "
   ]
  },
  {
   "cell_type": "markdown",
   "id": "c96c1420",
   "metadata": {},
   "source": [
    "## PDS"
   ]
  },
  {
   "cell_type": "markdown",
   "id": "555627a6",
   "metadata": {},
   "source": [
    "It was founded in February 1991 as the post-communist evolution of PCI"
   ]
  },
  {
   "cell_type": "code",
   "execution_count": 51,
   "id": "3ada8b89",
   "metadata": {},
   "outputs": [
    {
     "data": {
      "text/html": [
       "<table class=\"dataframe\">\n",
       "<caption>A grouped_df: 3 × 15</caption>\n",
       "<thead>\n",
       "\t<tr><th scope=col>Legislature_RECODED</th><th scope=col>PARTY_RECODED</th><th scope=col>Year</th><th scope=col>left_right</th><th scope=col>ratio_leftright</th><th scope=col>logit_left_right</th><th scope=col>classic_economic</th><th scope=col>ratio_economic</th><th scope=col>logit_economic</th><th scope=col>classic_gal_tan</th><th scope=col>ratio_gal_tan</th><th scope=col>logit_gal_tan</th><th scope=col>classic_economic_gal_tan</th><th scope=col>ratio_economic_gal_tan</th><th scope=col>logit_economic_gal_tan</th></tr>\n",
       "\t<tr><th scope=col>&lt;dbl&gt;</th><th scope=col>&lt;chr&gt;</th><th scope=col>&lt;int&gt;</th><th scope=col>&lt;dbl&gt;</th><th scope=col>&lt;dbl&gt;</th><th scope=col>&lt;dbl&gt;</th><th scope=col>&lt;dbl&gt;</th><th scope=col>&lt;dbl&gt;</th><th scope=col>&lt;dbl&gt;</th><th scope=col>&lt;dbl&gt;</th><th scope=col>&lt;dbl&gt;</th><th scope=col>&lt;dbl&gt;</th><th scope=col>&lt;dbl&gt;</th><th scope=col>&lt;dbl&gt;</th><th scope=col>&lt;dbl&gt;</th></tr>\n",
       "</thead>\n",
       "<tbody>\n",
       "\t<tr><td>10</td><td>PCI</td><td>1987</td><td>-32.973785</td><td>-0.7027305</td><td>-1.6885495</td><td>-18.069944</td><td>-0.8357102</td><td>-2.190400</td><td>-0.1333333</td><td>-1</td><td>-0.2363888</td><td>-0.1333333</td><td>-1.0000000</td><td>-0.2363888</td></tr>\n",
       "\t<tr><td>10</td><td>PCI</td><td>1988</td><td> -7.032656</td><td>-0.2811525</td><td>-0.5544711</td><td> -3.094237</td><td>-0.9084395</td><td>-1.743499</td><td>-0.1932203</td><td>-1</td><td>-0.3267398</td><td>-0.1932203</td><td>-1.0000000</td><td>-0.3267398</td></tr>\n",
       "\t<tr><td>10</td><td>PCI</td><td>1989</td><td> -3.702825</td><td>-0.1540813</td><td>-0.2980383</td><td> -7.299153</td><td>-0.8076959</td><td>-1.845620</td><td>-2.0819774</td><td>-1</td><td>-1.6417027</td><td>-2.0469491</td><td>-0.9669077</td><td>-1.5739913</td></tr>\n",
       "</tbody>\n",
       "</table>\n"
      ],
      "text/latex": [
       "A grouped\\_df: 3 × 15\n",
       "\\begin{tabular}{lllllllllllllll}\n",
       " Legislature\\_RECODED & PARTY\\_RECODED & Year & left\\_right & ratio\\_leftright & logit\\_left\\_right & classic\\_economic & ratio\\_economic & logit\\_economic & classic\\_gal\\_tan & ratio\\_gal\\_tan & logit\\_gal\\_tan & classic\\_economic\\_gal\\_tan & ratio\\_economic\\_gal\\_tan & logit\\_economic\\_gal\\_tan\\\\\n",
       " <dbl> & <chr> & <int> & <dbl> & <dbl> & <dbl> & <dbl> & <dbl> & <dbl> & <dbl> & <dbl> & <dbl> & <dbl> & <dbl> & <dbl>\\\\\n",
       "\\hline\n",
       "\t 10 & PCI & 1987 & -32.973785 & -0.7027305 & -1.6885495 & -18.069944 & -0.8357102 & -2.190400 & -0.1333333 & -1 & -0.2363888 & -0.1333333 & -1.0000000 & -0.2363888\\\\\n",
       "\t 10 & PCI & 1988 &  -7.032656 & -0.2811525 & -0.5544711 &  -3.094237 & -0.9084395 & -1.743499 & -0.1932203 & -1 & -0.3267398 & -0.1932203 & -1.0000000 & -0.3267398\\\\\n",
       "\t 10 & PCI & 1989 &  -3.702825 & -0.1540813 & -0.2980383 &  -7.299153 & -0.8076959 & -1.845620 & -2.0819774 & -1 & -1.6417027 & -2.0469491 & -0.9669077 & -1.5739913\\\\\n",
       "\\end{tabular}\n"
      ],
      "text/markdown": [
       "\n",
       "A grouped_df: 3 × 15\n",
       "\n",
       "| Legislature_RECODED &lt;dbl&gt; | PARTY_RECODED &lt;chr&gt; | Year &lt;int&gt; | left_right &lt;dbl&gt; | ratio_leftright &lt;dbl&gt; | logit_left_right &lt;dbl&gt; | classic_economic &lt;dbl&gt; | ratio_economic &lt;dbl&gt; | logit_economic &lt;dbl&gt; | classic_gal_tan &lt;dbl&gt; | ratio_gal_tan &lt;dbl&gt; | logit_gal_tan &lt;dbl&gt; | classic_economic_gal_tan &lt;dbl&gt; | ratio_economic_gal_tan &lt;dbl&gt; | logit_economic_gal_tan &lt;dbl&gt; |\n",
       "|---|---|---|---|---|---|---|---|---|---|---|---|---|---|---|\n",
       "| 10 | PCI | 1987 | -32.973785 | -0.7027305 | -1.6885495 | -18.069944 | -0.8357102 | -2.190400 | -0.1333333 | -1 | -0.2363888 | -0.1333333 | -1.0000000 | -0.2363888 |\n",
       "| 10 | PCI | 1988 |  -7.032656 | -0.2811525 | -0.5544711 |  -3.094237 | -0.9084395 | -1.743499 | -0.1932203 | -1 | -0.3267398 | -0.1932203 | -1.0000000 | -0.3267398 |\n",
       "| 10 | PCI | 1989 |  -3.702825 | -0.1540813 | -0.2980383 |  -7.299153 | -0.8076959 | -1.845620 | -2.0819774 | -1 | -1.6417027 | -2.0469491 | -0.9669077 | -1.5739913 |\n",
       "\n"
      ],
      "text/plain": [
       "  Legislature_RECODED PARTY_RECODED Year left_right ratio_leftright\n",
       "1 10                  PCI           1987 -32.973785 -0.7027305     \n",
       "2 10                  PCI           1988  -7.032656 -0.2811525     \n",
       "3 10                  PCI           1989  -3.702825 -0.1540813     \n",
       "  logit_left_right classic_economic ratio_economic logit_economic\n",
       "1 -1.6885495       -18.069944       -0.8357102     -2.190400     \n",
       "2 -0.5544711        -3.094237       -0.9084395     -1.743499     \n",
       "3 -0.2980383        -7.299153       -0.8076959     -1.845620     \n",
       "  classic_gal_tan ratio_gal_tan logit_gal_tan classic_economic_gal_tan\n",
       "1 -0.1333333      -1            -0.2363888    -0.1333333              \n",
       "2 -0.1932203      -1            -0.3267398    -0.1932203              \n",
       "3 -2.0819774      -1            -1.6417027    -2.0469491              \n",
       "  ratio_economic_gal_tan logit_economic_gal_tan\n",
       "1 -1.0000000             -0.2363888            \n",
       "2 -1.0000000             -0.3267398            \n",
       "3 -0.9669077             -1.5739913            "
      ]
     },
     "metadata": {},
     "output_type": "display_data"
    }
   ],
   "source": [
    "ilsd %>% \n",
    "filter(Legislature_RECODED == 10 & PARTY_RECODED == \"PCI\") %>% \n",
    "select(Legislature_RECODED, PARTY_RECODED, Year, left_right, ratio_leftright, logit_left_right, classic_economic, \n",
    "       ratio_economic, logit_economic, classic_gal_tan, ratio_gal_tan, logit_gal_tan, classic_economic_gal_tan, \n",
    "       ratio_economic_gal_tan, logit_economic_gal_tan)"
   ]
  },
  {
   "cell_type": "code",
   "execution_count": 52,
   "id": "2ca771dd",
   "metadata": {},
   "outputs": [],
   "source": [
    "joined_texts <- joined_texts %>% \n",
    "mutate(left_right = case_when(\n",
    "gruppoP_recoded == \"PDS\" & legislature == 10 & year == 1987 ~ -32.973785,\n",
    "gruppoP_recoded == \"PDS\" & legislature == 10 & year == 1988 ~ -7.032656,\n",
    "gruppoP_recoded == \"PDS\" & legislature == 10 & year == 1989 ~ -3.702825,\n",
    "TRUE ~ left_right),\n",
    "      ratio_leftright = case_when(\n",
    "gruppoP_recoded == \"PDS\" & legislature == 10 & year == 1987 ~ -0.7027305,\n",
    "gruppoP_recoded == \"PDS\" & legislature == 10 & year == 1988 ~ -0.2811525,\n",
    "gruppoP_recoded == \"PDS\" & legislature == 10 & year == 1989 ~ -0.1540813,\n",
    "TRUE ~ ratio_leftright),\n",
    "      logit_left_right = case_when(\n",
    "gruppoP_recoded == \"PDS\" & legislature == 10 & year == 1987 ~ -1.6885495,\n",
    "gruppoP_recoded == \"PDS\" & legislature == 10 & year == 1988 ~ -0.5544711,\n",
    "gruppoP_recoded == \"PDS\" & legislature == 10 & year == 1989 ~ -0.2980383,\n",
    "TRUE ~ logit_left_right),\n",
    "      classic_economic = case_when(\n",
    "gruppoP_recoded == \"PDS\" & legislature == 10 & year == 1987 ~ -18.069944,\n",
    "gruppoP_recoded == \"PDS\" & legislature == 10 & year == 1988 ~ -3.094237,\n",
    "gruppoP_recoded == \"PDS\" & legislature == 10 & year == 1989 ~ -7.299153,\n",
    "TRUE ~ classic_economic),\n",
    "      ratio_economic = case_when(\n",
    "gruppoP_recoded == \"PDS\" & legislature == 10 & year == 1987 ~ -0.8357102,\n",
    "gruppoP_recoded == \"PDS\" & legislature == 10 & year == 1988 ~ -0.9084395,\n",
    "gruppoP_recoded == \"PDS\" & legislature == 10 & year == 1989 ~ -0.8076959,\n",
    "TRUE ~ ratio_economic),\n",
    "      logit_economic = case_when(\n",
    "gruppoP_recoded == \"PDS\" & legislature == 10 & year == 1987 ~ -2.190400,\n",
    "gruppoP_recoded == \"PDS\" & legislature == 10 & year == 1988 ~ -1.743499,\n",
    "gruppoP_recoded == \"PDS\" & legislature == 10 & year == 1989 ~ -1.845620,\n",
    "TRUE ~ logit_economic),\n",
    "      classic_gal_tan = case_when(\n",
    "gruppoP_recoded == \"PDS\" & legislature == 10 & year == 1987 ~ -0.1333333,\n",
    "gruppoP_recoded == \"PDS\" & legislature == 10 & year == 1988 ~ -0.1932203,\n",
    "gruppoP_recoded == \"PDS\" & legislature == 10 & year == 1989 ~ -2.0819774,\n",
    "TRUE ~ classic_gal_tan),\n",
    "      ratio_gal_tan = case_when(\n",
    "gruppoP_recoded == \"PDS\" & legislature == 10 & year == 1987 ~ -1,\n",
    "gruppoP_recoded == \"PDS\" & legislature == 10 & year == 1988 ~ -1,\n",
    "gruppoP_recoded == \"PDS\" & legislature == 10 & year == 1989 ~ -1,\n",
    "TRUE ~ ratio_gal_tan),\n",
    "      logit_gal_tan = case_when(\n",
    "gruppoP_recoded == \"PDS\" & legislature == 10 & year == 1987 ~ -0.2363888,\n",
    "gruppoP_recoded == \"PDS\" & legislature == 10 & year == 1988 ~ -0.3267398,\n",
    "gruppoP_recoded == \"PDS\" & legislature == 10 & year == 1989 ~ -1.6417027,\n",
    "TRUE ~ logit_gal_tan),\n",
    "       classic_economic_gal_tan = case_when(\n",
    "gruppoP_recoded == \"PDS\" & legislature == 10 & year == 1987 ~ -0.1333333,\n",
    "gruppoP_recoded == \"PDS\" & legislature == 10 & year == 1988 ~ -0.1932203,\n",
    "gruppoP_recoded == \"PDS\" & legislature == 10 & year == 1989 ~ -2.0469491,\n",
    "TRUE ~ classic_economic_gal_tan),\n",
    "       ratio_economic_gal_tan = case_when(\n",
    "gruppoP_recoded == \"PDS\" & legislature == 10 & year == 1987 ~ -1.0000000,\n",
    "gruppoP_recoded == \"PDS\" & legislature == 10 & year == 1988 ~ -1.0000000,\n",
    "gruppoP_recoded == \"PDS\" & legislature == 10 & year == 1989 ~ -0.9669077,\n",
    "TRUE ~ ratio_economic_gal_tan),\n",
    "       logit_economic_gal_tan = case_when(\n",
    "gruppoP_recoded == \"PDS\" & legislature == 10 & year == 1987 ~ -0.2363888,\n",
    "gruppoP_recoded == \"PDS\" & legislature == 10 & year == 1988 ~ -0.3267398,\n",
    "gruppoP_recoded == \"PDS\" & legislature == 10 & year == 1989 ~ -1.5739913,\n",
    "TRUE ~ logit_economic_gal_tan)) "
   ]
  },
  {
   "cell_type": "markdown",
   "id": "77c5cc87",
   "metadata": {},
   "source": [
    "## Centro Cristiano Democratico (CCD recoded as UDC)"
   ]
  },
  {
   "cell_type": "markdown",
   "id": "e0023724",
   "metadata": {},
   "source": [
    "It was founded in January 1994 by members of Democrazia Cristiana"
   ]
  },
  {
   "cell_type": "code",
   "execution_count": 53,
   "id": "d7a8cff3",
   "metadata": {},
   "outputs": [
    {
     "data": {
      "text/html": [
       "<table class=\"dataframe\">\n",
       "<caption>A grouped_df: 2 × 15</caption>\n",
       "<thead>\n",
       "\t<tr><th scope=col>Legislature_RECODED</th><th scope=col>PARTY_RECODED</th><th scope=col>Year</th><th scope=col>left_right</th><th scope=col>ratio_leftright</th><th scope=col>logit_left_right</th><th scope=col>classic_economic</th><th scope=col>ratio_economic</th><th scope=col>logit_economic</th><th scope=col>classic_gal_tan</th><th scope=col>ratio_gal_tan</th><th scope=col>logit_gal_tan</th><th scope=col>classic_economic_gal_tan</th><th scope=col>ratio_economic_gal_tan</th><th scope=col>logit_economic_gal_tan</th></tr>\n",
       "\t<tr><th scope=col>&lt;dbl&gt;</th><th scope=col>&lt;chr&gt;</th><th scope=col>&lt;int&gt;</th><th scope=col>&lt;dbl&gt;</th><th scope=col>&lt;dbl&gt;</th><th scope=col>&lt;dbl&gt;</th><th scope=col>&lt;dbl&gt;</th><th scope=col>&lt;dbl&gt;</th><th scope=col>&lt;dbl&gt;</th><th scope=col>&lt;dbl&gt;</th><th scope=col>&lt;dbl&gt;</th><th scope=col>&lt;dbl&gt;</th><th scope=col>&lt;dbl&gt;</th><th scope=col>&lt;dbl&gt;</th><th scope=col>&lt;dbl&gt;</th></tr>\n",
       "</thead>\n",
       "<tbody>\n",
       "\t<tr><td>11</td><td>DC</td><td>1992</td><td>11.36</td><td>0.4344168</td><td>0.8915411</td><td>-1.48</td><td>-0.3583535</td><td>-0.5938565</td><td>-5.50</td><td>-1</td><td>-2.484907</td><td>-5.50</td><td>-1</td><td>-2.484907</td></tr>\n",
       "\t<tr><td>11</td><td>DC</td><td>1993</td><td> 3.98</td><td>0.1529593</td><td>0.2967554</td><td>-3.50</td><td>-0.4768392</td><td>-0.8945689</td><td>-0.93</td><td>-1</td><td>-1.050822</td><td>-0.93</td><td>-1</td><td>-1.050822</td></tr>\n",
       "</tbody>\n",
       "</table>\n"
      ],
      "text/latex": [
       "A grouped\\_df: 2 × 15\n",
       "\\begin{tabular}{lllllllllllllll}\n",
       " Legislature\\_RECODED & PARTY\\_RECODED & Year & left\\_right & ratio\\_leftright & logit\\_left\\_right & classic\\_economic & ratio\\_economic & logit\\_economic & classic\\_gal\\_tan & ratio\\_gal\\_tan & logit\\_gal\\_tan & classic\\_economic\\_gal\\_tan & ratio\\_economic\\_gal\\_tan & logit\\_economic\\_gal\\_tan\\\\\n",
       " <dbl> & <chr> & <int> & <dbl> & <dbl> & <dbl> & <dbl> & <dbl> & <dbl> & <dbl> & <dbl> & <dbl> & <dbl> & <dbl> & <dbl>\\\\\n",
       "\\hline\n",
       "\t 11 & DC & 1992 & 11.36 & 0.4344168 & 0.8915411 & -1.48 & -0.3583535 & -0.5938565 & -5.50 & -1 & -2.484907 & -5.50 & -1 & -2.484907\\\\\n",
       "\t 11 & DC & 1993 &  3.98 & 0.1529593 & 0.2967554 & -3.50 & -0.4768392 & -0.8945689 & -0.93 & -1 & -1.050822 & -0.93 & -1 & -1.050822\\\\\n",
       "\\end{tabular}\n"
      ],
      "text/markdown": [
       "\n",
       "A grouped_df: 2 × 15\n",
       "\n",
       "| Legislature_RECODED &lt;dbl&gt; | PARTY_RECODED &lt;chr&gt; | Year &lt;int&gt; | left_right &lt;dbl&gt; | ratio_leftright &lt;dbl&gt; | logit_left_right &lt;dbl&gt; | classic_economic &lt;dbl&gt; | ratio_economic &lt;dbl&gt; | logit_economic &lt;dbl&gt; | classic_gal_tan &lt;dbl&gt; | ratio_gal_tan &lt;dbl&gt; | logit_gal_tan &lt;dbl&gt; | classic_economic_gal_tan &lt;dbl&gt; | ratio_economic_gal_tan &lt;dbl&gt; | logit_economic_gal_tan &lt;dbl&gt; |\n",
       "|---|---|---|---|---|---|---|---|---|---|---|---|---|---|---|\n",
       "| 11 | DC | 1992 | 11.36 | 0.4344168 | 0.8915411 | -1.48 | -0.3583535 | -0.5938565 | -5.50 | -1 | -2.484907 | -5.50 | -1 | -2.484907 |\n",
       "| 11 | DC | 1993 |  3.98 | 0.1529593 | 0.2967554 | -3.50 | -0.4768392 | -0.8945689 | -0.93 | -1 | -1.050822 | -0.93 | -1 | -1.050822 |\n",
       "\n"
      ],
      "text/plain": [
       "  Legislature_RECODED PARTY_RECODED Year left_right ratio_leftright\n",
       "1 11                  DC            1992 11.36      0.4344168      \n",
       "2 11                  DC            1993  3.98      0.1529593      \n",
       "  logit_left_right classic_economic ratio_economic logit_economic\n",
       "1 0.8915411        -1.48            -0.3583535     -0.5938565    \n",
       "2 0.2967554        -3.50            -0.4768392     -0.8945689    \n",
       "  classic_gal_tan ratio_gal_tan logit_gal_tan classic_economic_gal_tan\n",
       "1 -5.50           -1            -2.484907     -5.50                   \n",
       "2 -0.93           -1            -1.050822     -0.93                   \n",
       "  ratio_economic_gal_tan logit_economic_gal_tan\n",
       "1 -1                     -2.484907             \n",
       "2 -1                     -1.050822             "
      ]
     },
     "metadata": {},
     "output_type": "display_data"
    }
   ],
   "source": [
    "ilsd %>% \n",
    "filter(Legislature_RECODED == 11 & PARTY_RECODED == \"DC\") %>% \n",
    "select(Legislature_RECODED, PARTY_RECODED, Year, left_right, ratio_leftright, logit_left_right, classic_economic, \n",
    "       ratio_economic, logit_economic, classic_gal_tan, ratio_gal_tan, logit_gal_tan, classic_economic_gal_tan, \n",
    "       ratio_economic_gal_tan, logit_economic_gal_tan)\n"
   ]
  },
  {
   "cell_type": "code",
   "execution_count": 54,
   "id": "f2614225",
   "metadata": {},
   "outputs": [],
   "source": [
    "joined_texts <- joined_texts %>% \n",
    "mutate(left_right = case_when(\n",
    "gruppoP_recoded == \"UDC\" & legislature == 11 & year == 1992 ~ 11.36,\n",
    "gruppoP_recoded == \"UDC\" & legislature == 11 & year == 1993 ~ 3.98,\n",
    "TRUE ~ left_right),\n",
    "      ratio_leftright = case_when(\n",
    "gruppoP_recoded == \"UDC\" & legislature == 11 & year == 1992 ~ 0.4344168,\n",
    "gruppoP_recoded == \"UDC\" & legislature == 11 & year == 1993 ~ 0.1529593,\n",
    "TRUE ~ ratio_leftright),\n",
    "       logit_left_right = case_when(\n",
    "gruppoP_recoded == \"UDC\" & legislature == 11 & year == 1992 ~ 0.8915411,\n",
    "gruppoP_recoded == \"UDC\" & legislature == 11 & year == 1993 ~ 0.2967554,\n",
    "TRUE ~ logit_left_right),\n",
    "       classic_economic = case_when(\n",
    "gruppoP_recoded == \"UDC\" & legislature == 11 & year == 1992 ~ -1.48,\n",
    "gruppoP_recoded == \"UDC\" & legislature == 11 & year == 1993 ~ -3.50,\n",
    "TRUE ~ classic_economic),\n",
    "       ratio_economic = case_when(\n",
    "gruppoP_recoded == \"UDC\" & legislature == 11 & year == 1992 ~ -0.3583535,\n",
    "gruppoP_recoded == \"UDC\" & legislature == 11 & year == 1993 ~ -0.4768392,\n",
    "TRUE ~ ratio_economic),\n",
    "       logit_economic = case_when(\n",
    "gruppoP_recoded == \"UDC\" & legislature == 11 & year == 1992 ~ -0.5938565, \n",
    "gruppoP_recoded == \"UDC\" & legislature == 11 & year == 1993 ~ -0.8945689,\n",
    "TRUE ~ logit_economic),\n",
    "       classic_gal_tan = case_when(\n",
    "gruppoP_recoded == \"UDC\" & legislature == 11 & year == 1992 ~ -5.50,\n",
    "gruppoP_recoded == \"UDC\" & legislature == 11 & year == 1993 ~ -0.93,\n",
    "TRUE ~ classic_gal_tan),\n",
    "       ratio_gal_tan = case_when(\n",
    "gruppoP_recoded == \"UDC\" & legislature == 11 & year == 1992 ~ -1,\n",
    "gruppoP_recoded == \"UDC\" & legislature == 11 & year == 1993 ~ -1,\n",
    "TRUE ~ ratio_gal_tan),\n",
    "       logit_gal_tan = case_when(\n",
    "gruppoP_recoded == \"UDC\" & legislature == 11 & year == 1992 ~ -2.484907,\n",
    "gruppoP_recoded == \"UDC\" & legislature == 11 & year == 1993 ~ -1.050822,\n",
    "TRUE ~ logit_gal_tan),\n",
    "       classic_economic_gal_tan = case_when(\n",
    "gruppoP_recoded == \"UDC\" & legislature == 11 & year == 1992 ~ -5.50,\n",
    "gruppoP_recoded == \"UDC\" & legislature == 11 & year == 1993 ~ -0.93,\n",
    "TRUE ~ classic_economic_gal_tan),\n",
    "       ratio_economic_gal_tan = case_when(\n",
    "gruppoP_recoded == \"UDC\" & legislature == 11 & year == 1992 ~ -1,\n",
    "gruppoP_recoded == \"UDC\" & legislature == 11 & year == 1993 ~ -1,\n",
    "TRUE ~ ratio_economic_gal_tan),\n",
    "       logit_economic_gal_tan = case_when(\n",
    "gruppoP_recoded == \"UDC\" & legislature == 11 & year == 1992 ~ -2.484907,\n",
    "gruppoP_recoded == \"UDC\" & legislature == 11 & year == 1993 ~ -1.050822,\n",
    "TRUE ~ logit_economic_gal_tan))"
   ]
  },
  {
   "cell_type": "markdown",
   "id": "65d48360",
   "metadata": {},
   "source": [
    "## Patto dei Democratici (DEMO)"
   ]
  },
  {
   "cell_type": "markdown",
   "id": "0ead758b",
   "metadata": {},
   "source": [
    "\"Il Patto dei Democratici\" consisted of Socialisti Italiani (PSI), Patto Segni (PAT) and Alleanza Democratica (AD). The missing values for DEMO will be replaced by the mean of those three parties."
   ]
  },
  {
   "cell_type": "code",
   "execution_count": 55,
   "id": "19ad22eb",
   "metadata": {},
   "outputs": [
    {
     "data": {
      "text/html": [
       "<table class=\"dataframe\">\n",
       "<caption>A tibble: 2 × 13</caption>\n",
       "<thead>\n",
       "\t<tr><th scope=col>Year</th><th scope=col>left_right</th><th scope=col>ratio_leftright</th><th scope=col>logit_left_right</th><th scope=col>classic_economic</th><th scope=col>ratio_economic</th><th scope=col>logit_economic</th><th scope=col>classic_gal_tan</th><th scope=col>ratio_gal_tan</th><th scope=col>logit_gal_tan</th><th scope=col>classic_economic_gal_tan</th><th scope=col>ratio_economic_gal_tan</th><th scope=col>logit_economic_gal_tan</th></tr>\n",
       "\t<tr><th scope=col>&lt;int&gt;</th><th scope=col>&lt;dbl&gt;</th><th scope=col>&lt;dbl&gt;</th><th scope=col>&lt;dbl&gt;</th><th scope=col>&lt;dbl&gt;</th><th scope=col>&lt;dbl&gt;</th><th scope=col>&lt;dbl&gt;</th><th scope=col>&lt;dbl&gt;</th><th scope=col>&lt;dbl&gt;</th><th scope=col>&lt;dbl&gt;</th><th scope=col>&lt;dbl&gt;</th><th scope=col>&lt;dbl&gt;</th><th scope=col>&lt;dbl&gt;</th></tr>\n",
       "</thead>\n",
       "<tbody>\n",
       "\t<tr><td>1994</td><td>-3.193333</td><td>-0.2556950</td><td>-0.2556950</td><td>-4.750000</td><td>-0.2473399</td><td>-0.5081133</td><td>-2.356667</td><td> -1</td><td>-1.362913</td><td>-2.356667</td><td> -1</td><td>-1.362913</td></tr>\n",
       "\t<tr><td>1995</td><td>-2.426666</td><td>-0.3549939</td><td>-0.3549939</td><td>-6.943333</td><td>-0.3174291</td><td>-0.8556488</td><td>-1.953333</td><td>NaN</td><td>-1.283666</td><td>-1.953333</td><td>NaN</td><td>-1.283666</td></tr>\n",
       "</tbody>\n",
       "</table>\n"
      ],
      "text/latex": [
       "A tibble: 2 × 13\n",
       "\\begin{tabular}{lllllllllllll}\n",
       " Year & left\\_right & ratio\\_leftright & logit\\_left\\_right & classic\\_economic & ratio\\_economic & logit\\_economic & classic\\_gal\\_tan & ratio\\_gal\\_tan & logit\\_gal\\_tan & classic\\_economic\\_gal\\_tan & ratio\\_economic\\_gal\\_tan & logit\\_economic\\_gal\\_tan\\\\\n",
       " <int> & <dbl> & <dbl> & <dbl> & <dbl> & <dbl> & <dbl> & <dbl> & <dbl> & <dbl> & <dbl> & <dbl> & <dbl>\\\\\n",
       "\\hline\n",
       "\t 1994 & -3.193333 & -0.2556950 & -0.2556950 & -4.750000 & -0.2473399 & -0.5081133 & -2.356667 &  -1 & -1.362913 & -2.356667 &  -1 & -1.362913\\\\\n",
       "\t 1995 & -2.426666 & -0.3549939 & -0.3549939 & -6.943333 & -0.3174291 & -0.8556488 & -1.953333 & NaN & -1.283666 & -1.953333 & NaN & -1.283666\\\\\n",
       "\\end{tabular}\n"
      ],
      "text/markdown": [
       "\n",
       "A tibble: 2 × 13\n",
       "\n",
       "| Year &lt;int&gt; | left_right &lt;dbl&gt; | ratio_leftright &lt;dbl&gt; | logit_left_right &lt;dbl&gt; | classic_economic &lt;dbl&gt; | ratio_economic &lt;dbl&gt; | logit_economic &lt;dbl&gt; | classic_gal_tan &lt;dbl&gt; | ratio_gal_tan &lt;dbl&gt; | logit_gal_tan &lt;dbl&gt; | classic_economic_gal_tan &lt;dbl&gt; | ratio_economic_gal_tan &lt;dbl&gt; | logit_economic_gal_tan &lt;dbl&gt; |\n",
       "|---|---|---|---|---|---|---|---|---|---|---|---|---|\n",
       "| 1994 | -3.193333 | -0.2556950 | -0.2556950 | -4.750000 | -0.2473399 | -0.5081133 | -2.356667 |  -1 | -1.362913 | -2.356667 |  -1 | -1.362913 |\n",
       "| 1995 | -2.426666 | -0.3549939 | -0.3549939 | -6.943333 | -0.3174291 | -0.8556488 | -1.953333 | NaN | -1.283666 | -1.953333 | NaN | -1.283666 |\n",
       "\n"
      ],
      "text/plain": [
       "  Year left_right ratio_leftright logit_left_right classic_economic\n",
       "1 1994 -3.193333  -0.2556950      -0.2556950       -4.750000       \n",
       "2 1995 -2.426666  -0.3549939      -0.3549939       -6.943333       \n",
       "  ratio_economic logit_economic classic_gal_tan ratio_gal_tan logit_gal_tan\n",
       "1 -0.2473399     -0.5081133     -2.356667        -1           -1.362913    \n",
       "2 -0.3174291     -0.8556488     -1.953333       NaN           -1.283666    \n",
       "  classic_economic_gal_tan ratio_economic_gal_tan logit_economic_gal_tan\n",
       "1 -2.356667                 -1                    -1.362913             \n",
       "2 -1.953333                NaN                    -1.283666             "
      ]
     },
     "metadata": {},
     "output_type": "display_data"
    }
   ],
   "source": [
    "ilsd %>% \n",
    "filter(Legislature_RECODED == 12 & PARTY %in% c('PSI', 'PAT', 'AD')) %>% \n",
    "group_by(Year) %>% \n",
    "summarize(left_right = mean(left_right),\n",
    "          ratio_leftright = mean(logit_left_right),\n",
    "          logit_left_right = mean(logit_left_right),\n",
    "         classic_economic = mean(classic_economic),\n",
    "         ratio_economic = mean(ratio_economic),\n",
    "         logit_economic = mean(logit_economic),\n",
    "         classic_gal_tan = mean(classic_gal_tan),\n",
    "         ratio_gal_tan = mean(ratio_gal_tan),\n",
    "         logit_gal_tan = mean(logit_gal_tan),\n",
    "         classic_economic_gal_tan = mean(classic_economic_gal_tan),\n",
    "         ratio_economic_gal_tan = mean(ratio_economic_gal_tan),\n",
    "         logit_economic_gal_tan = mean(logit_economic_gal_tan))\n"
   ]
  },
  {
   "cell_type": "code",
   "execution_count": 56,
   "id": "7e5e5c93",
   "metadata": {},
   "outputs": [],
   "source": [
    "joined_texts <- joined_texts %>% \n",
    "mutate(left_right = case_when(\n",
    "gruppoP_recoded == \"DEMO\" & legislature == 12 & year == 1994 ~ -3.193333,\n",
    "gruppoP_recoded == \"DEMO\" & legislature == 12 & year == 1995 ~ -2.426666,\n",
    "TRUE ~ left_right),\n",
    "      ratio_leftright = case_when(\n",
    "gruppoP_recoded == \"DEMO\" & legislature == 12 & year == 1994 ~ -0.2556950,\n",
    "gruppoP_recoded == \"DEMO\" & legislature == 12 & year == 1995 ~ -0.3549939,\n",
    "TRUE ~ ratio_leftright),\n",
    "       logit_left_right = case_when(\n",
    "gruppoP_recoded == \"DEMO\" & legislature == 12 & year == 1994 ~ -0.2556950,\n",
    "gruppoP_recoded == \"DEMO\" & legislature == 12 & year == 1995 ~ -0.3549939,\n",
    "TRUE ~ logit_left_right),\n",
    "       classic_economic = case_when(\n",
    "gruppoP_recoded == \"DEMO\" & legislature == 12 & year == 1994 ~ -4.750000,\n",
    "gruppoP_recoded == \"DEMO\" & legislature == 12 & year == 1995 ~ -6.943333,\n",
    "TRUE ~ classic_economic),\n",
    "       ratio_economic = case_when(\n",
    "gruppoP_recoded == \"DEMO\" & legislature == 12 & year == 1994 ~ -0.2473399,\n",
    "gruppoP_recoded == \"DEMO\" & legislature == 12 & year == 1995 ~ -0.3174291,\n",
    "TRUE ~ ratio_economic),\n",
    "       logit_economic = case_when(\n",
    "gruppoP_recoded == \"DEMO\" & legislature == 12 & year == 1994 ~ -0.5081133, \n",
    "gruppoP_recoded == \"DEMO\" & legislature == 12 & year == 1995 ~ -0.8556488,\n",
    "TRUE ~ logit_economic),\n",
    "       classic_gal_tan = case_when(\n",
    "gruppoP_recoded == \"DEMO\" & legislature == 12 & year == 1994 ~ -2.356667,\n",
    "gruppoP_recoded == \"DEMO\" & legislature == 12 & year == 1995 ~ -1.953333,\n",
    "TRUE ~ classic_gal_tan),\n",
    "       ratio_gal_tan = case_when(\n",
    "gruppoP_recoded == \"DEMO\" & legislature == 12 & year == 1994 ~ -1,\n",
    "TRUE ~ ratio_gal_tan),\n",
    "       logit_gal_tan = case_when(\n",
    "gruppoP_recoded == \"DEMO\" & legislature == 12 & year == 1994 ~ -1.362913,\n",
    "gruppoP_recoded == \"DEMO\" & legislature == 12 & year == 1995 ~ -1.283666,\n",
    "TRUE ~ logit_gal_tan),\n",
    "       classic_economic_gal_tan = case_when(\n",
    "gruppoP_recoded == \"DEMO\" & legislature == 12 & year == 1994 ~ -2.356667,\n",
    "gruppoP_recoded == \"DEMO\" & legislature == 12 & year == 1995 ~ -1.953333,\n",
    "TRUE ~ classic_economic_gal_tan),\n",
    "       ratio_economic_gal_tan = case_when(\n",
    "gruppoP_recoded == \"DEMO\" & legislature == 12 & year == 1994 ~ -1,\n",
    "TRUE ~ ratio_economic_gal_tan),\n",
    "       logit_economic_gal_tan = case_when(\n",
    "gruppoP_recoded == \"DEMO\" & legislature == 12 & year == 1994 ~ -1.362913,\n",
    "gruppoP_recoded == \"DEMO\" & legislature == 12 & year == 1995 ~ -1.283666,\n",
    "TRUE ~ logit_economic_gal_tan))"
   ]
  },
  {
   "cell_type": "markdown",
   "id": "0a4d88eb",
   "metadata": {},
   "source": [
    "## Federalisti e Liberaldemocratici (FLD)"
   ]
  },
  {
   "cell_type": "markdown",
   "id": "20c38e6b",
   "metadata": {},
   "source": [
    "FLD is present in texts in 1994, 1995 and 1996, while ILSD only has data on this party in 1995. Members of FLD previously belonged to Lega Nord, Patto Segni, Forza Italia and Lega d'Azione Meridionale. To fill in the missing values for  1994, we'll take the mean of Lega Nord, Patto Segni and Forza Italia (Lega d'Azione Meridionale is not part of ILSD)."
   ]
  },
  {
   "cell_type": "code",
   "execution_count": 57,
   "id": "dfd9bce8",
   "metadata": {},
   "outputs": [
    {
     "data": {
      "text/html": [
       "<table class=\"dataframe\">\n",
       "<caption>A tibble: 1 × 13</caption>\n",
       "<thead>\n",
       "\t<tr><th scope=col>Year</th><th scope=col>left_right</th><th scope=col>ratio_leftright</th><th scope=col>logit_left_right</th><th scope=col>classic_economic</th><th scope=col>ratio_economic</th><th scope=col>logit_economic</th><th scope=col>classic_gal_tan</th><th scope=col>ratio_gal_tan</th><th scope=col>logit_gal_tan</th><th scope=col>classic_economic_gal_tan</th><th scope=col>ratio_economic_gal_tan</th><th scope=col>logit_economic_gal_tan</th></tr>\n",
       "\t<tr><th scope=col>&lt;int&gt;</th><th scope=col>&lt;dbl&gt;</th><th scope=col>&lt;dbl&gt;</th><th scope=col>&lt;dbl&gt;</th><th scope=col>&lt;dbl&gt;</th><th scope=col>&lt;dbl&gt;</th><th scope=col>&lt;dbl&gt;</th><th scope=col>&lt;dbl&gt;</th><th scope=col>&lt;dbl&gt;</th><th scope=col>&lt;dbl&gt;</th><th scope=col>&lt;dbl&gt;</th><th scope=col>&lt;dbl&gt;</th><th scope=col>&lt;dbl&gt;</th></tr>\n",
       "</thead>\n",
       "<tbody>\n",
       "\t<tr><td>1994</td><td>15.97</td><td>0.8792168</td><td>0.8792168</td><td>4.32</td><td>0.1793768</td><td>0.4837237</td><td>-6.663333</td><td>-0.8787879</td><td>-2.284952</td><td>-6.663333</td><td>-0.8787879</td><td>-2.284952</td></tr>\n",
       "</tbody>\n",
       "</table>\n"
      ],
      "text/latex": [
       "A tibble: 1 × 13\n",
       "\\begin{tabular}{lllllllllllll}\n",
       " Year & left\\_right & ratio\\_leftright & logit\\_left\\_right & classic\\_economic & ratio\\_economic & logit\\_economic & classic\\_gal\\_tan & ratio\\_gal\\_tan & logit\\_gal\\_tan & classic\\_economic\\_gal\\_tan & ratio\\_economic\\_gal\\_tan & logit\\_economic\\_gal\\_tan\\\\\n",
       " <int> & <dbl> & <dbl> & <dbl> & <dbl> & <dbl> & <dbl> & <dbl> & <dbl> & <dbl> & <dbl> & <dbl> & <dbl>\\\\\n",
       "\\hline\n",
       "\t 1994 & 15.97 & 0.8792168 & 0.8792168 & 4.32 & 0.1793768 & 0.4837237 & -6.663333 & -0.8787879 & -2.284952 & -6.663333 & -0.8787879 & -2.284952\\\\\n",
       "\\end{tabular}\n"
      ],
      "text/markdown": [
       "\n",
       "A tibble: 1 × 13\n",
       "\n",
       "| Year &lt;int&gt; | left_right &lt;dbl&gt; | ratio_leftright &lt;dbl&gt; | logit_left_right &lt;dbl&gt; | classic_economic &lt;dbl&gt; | ratio_economic &lt;dbl&gt; | logit_economic &lt;dbl&gt; | classic_gal_tan &lt;dbl&gt; | ratio_gal_tan &lt;dbl&gt; | logit_gal_tan &lt;dbl&gt; | classic_economic_gal_tan &lt;dbl&gt; | ratio_economic_gal_tan &lt;dbl&gt; | logit_economic_gal_tan &lt;dbl&gt; |\n",
       "|---|---|---|---|---|---|---|---|---|---|---|---|---|\n",
       "| 1994 | 15.97 | 0.8792168 | 0.8792168 | 4.32 | 0.1793768 | 0.4837237 | -6.663333 | -0.8787879 | -2.284952 | -6.663333 | -0.8787879 | -2.284952 |\n",
       "\n"
      ],
      "text/plain": [
       "  Year left_right ratio_leftright logit_left_right classic_economic\n",
       "1 1994 15.97      0.8792168       0.8792168        4.32            \n",
       "  ratio_economic logit_economic classic_gal_tan ratio_gal_tan logit_gal_tan\n",
       "1 0.1793768      0.4837237      -6.663333       -0.8787879    -2.284952    \n",
       "  classic_economic_gal_tan ratio_economic_gal_tan logit_economic_gal_tan\n",
       "1 -6.663333                -0.8787879             -2.284952             "
      ]
     },
     "metadata": {},
     "output_type": "display_data"
    }
   ],
   "source": [
    "ilsd %>% \n",
    "filter(Legislature_RECODED == 12 & Year == 1994 & PARTY_RECODED %in% c(\"PAT\", \"LEGA\", \"FI-PDL\")) %>% \n",
    "group_by(Year) %>% \n",
    "summarize(left_right = mean(left_right),\n",
    "         ratio_leftright = mean(logit_left_right),\n",
    "         logit_left_right = mean(logit_left_right),\n",
    "         classic_economic = mean(classic_economic),\n",
    "         ratio_economic = mean(ratio_economic),\n",
    "         logit_economic = mean(logit_economic),\n",
    "         classic_gal_tan = mean(classic_gal_tan),\n",
    "         ratio_gal_tan = mean(ratio_gal_tan),\n",
    "         logit_gal_tan = mean(logit_gal_tan),\n",
    "         classic_economic_gal_tan = mean(classic_economic_gal_tan),\n",
    "         ratio_economic_gal_tan = mean(ratio_economic_gal_tan),\n",
    "         logit_economic_gal_tan = mean(logit_economic_gal_tan))"
   ]
  },
  {
   "cell_type": "code",
   "execution_count": 58,
   "id": "17ca9669",
   "metadata": {},
   "outputs": [],
   "source": [
    "joined_texts <- joined_texts %>% \n",
    "mutate(left_right = case_when(\n",
    "gruppoP_recoded == \"FLD\" & legislature == 12 & year == 1994 ~ 15.97,\n",
    "TRUE ~ left_right),\n",
    "      ratio_leftright = case_when(\n",
    "gruppoP_recoded == \"FLD\" & legislature == 12 & year == 1994 ~ 0.8792168,\n",
    "TRUE ~ ratio_leftright),\n",
    "       logit_left_right = case_when(\n",
    "gruppoP_recoded == \"FLD\" & legislature == 12 & year == 1994 ~ 0.8792168,\n",
    "TRUE ~ logit_left_right),\n",
    "       classic_economic = case_when(\n",
    "gruppoP_recoded == \"FLD\" & legislature == 12 & year == 1994 ~ 4.32,\n",
    "TRUE ~ classic_economic),\n",
    "       ratio_economic = case_when(\n",
    "gruppoP_recoded == \"FLD\" & legislature == 12 & year == 1994 ~ 0.1793768,\n",
    "TRUE ~ ratio_economic),\n",
    "       logit_economic = case_when(\n",
    "gruppoP_recoded == \"FLD\" & legislature == 12 & year == 1994 ~ 0.4837237, \n",
    "TRUE ~ logit_economic),\n",
    "       classic_gal_tan = case_when(\n",
    "gruppoP_recoded == \"FLD\" & legislature == 12 & year == 1994 ~ -6.663333,\n",
    "TRUE ~ classic_gal_tan),\n",
    "       ratio_gal_tan = case_when(\n",
    "gruppoP_recoded == \"FLD\" & legislature == 12 & year == 1994 ~ -0.8787879,\n",
    "TRUE ~ ratio_gal_tan),\n",
    "       logit_gal_tan = case_when(\n",
    "gruppoP_recoded == \"FLD\" & legislature == 12 & year == 1994 ~ -2.284952,\n",
    "TRUE ~ logit_gal_tan),\n",
    "       classic_economic_gal_tan = case_when(\n",
    "gruppoP_recoded == \"FLD\" & legislature == 12 & year == 1994 ~ -6.663333,\n",
    "TRUE ~ classic_economic_gal_tan),\n",
    "       ratio_economic_gal_tan = case_when(\n",
    "gruppoP_recoded == \"FLD\" & legislature == 12 & year == 1994 ~ -0.8787879,\n",
    "TRUE ~ ratio_economic_gal_tan),\n",
    "       logit_economic_gal_tan = case_when(\n",
    "gruppoP_recoded == \"FLD\" & legislature == 12 & year == 1994 ~ -2.284952,\n",
    "TRUE ~ logit_economic_gal_tan))"
   ]
  },
  {
   "cell_type": "markdown",
   "id": "38ac0d33",
   "metadata": {},
   "source": [
    "## Progressisti - Federativo (PROGR-F)"
   ]
  },
  {
   "cell_type": "markdown",
   "id": "48ae1964",
   "metadata": {},
   "source": [
    "To fill the null values for PROGR-F we'll use the values for PDS."
   ]
  },
  {
   "cell_type": "code",
   "execution_count": 59,
   "id": "e4e4ff85",
   "metadata": {},
   "outputs": [
    {
     "data": {
      "text/html": [
       "<table class=\"dataframe\">\n",
       "<caption>A grouped_df: 2 × 15</caption>\n",
       "<thead>\n",
       "\t<tr><th scope=col>Legislature_RECODED</th><th scope=col>PARTY_RECODED</th><th scope=col>Year</th><th scope=col>left_right</th><th scope=col>ratio_leftright</th><th scope=col>logit_left_right</th><th scope=col>classic_economic</th><th scope=col>ratio_economic</th><th scope=col>logit_economic</th><th scope=col>classic_gal_tan</th><th scope=col>ratio_gal_tan</th><th scope=col>logit_gal_tan</th><th scope=col>classic_economic_gal_tan</th><th scope=col>ratio_economic_gal_tan</th><th scope=col>logit_economic_gal_tan</th></tr>\n",
       "\t<tr><th scope=col>&lt;dbl&gt;</th><th scope=col>&lt;chr&gt;</th><th scope=col>&lt;int&gt;</th><th scope=col>&lt;dbl&gt;</th><th scope=col>&lt;dbl&gt;</th><th scope=col>&lt;dbl&gt;</th><th scope=col>&lt;dbl&gt;</th><th scope=col>&lt;dbl&gt;</th><th scope=col>&lt;dbl&gt;</th><th scope=col>&lt;dbl&gt;</th><th scope=col>&lt;dbl&gt;</th><th scope=col>&lt;dbl&gt;</th><th scope=col>&lt;dbl&gt;</th><th scope=col>&lt;dbl&gt;</th><th scope=col>&lt;dbl&gt;</th></tr>\n",
       "</thead>\n",
       "<tbody>\n",
       "\t<tr><td>12</td><td>PDS</td><td>1994</td><td>-12.430000</td><td>-0.4564818</td><td>-0.9452349</td><td>-15.68</td><td>-0.7678746</td><td>-1.866158</td><td>-0.89</td><td> -1</td><td>-1.022451</td><td>-0.89</td><td> -1</td><td>-1.022451</td></tr>\n",
       "\t<tr><td>12</td><td>PDS</td><td>1995</td><td> -1.890001</td><td>-0.0551503</td><td>-0.1072760</td><td> -8.57</td><td>-0.6005606</td><td>-1.269257</td><td> 0.00</td><td>NaN</td><td> 0.000000</td><td> 0.00</td><td>NaN</td><td> 0.000000</td></tr>\n",
       "</tbody>\n",
       "</table>\n"
      ],
      "text/latex": [
       "A grouped\\_df: 2 × 15\n",
       "\\begin{tabular}{lllllllllllllll}\n",
       " Legislature\\_RECODED & PARTY\\_RECODED & Year & left\\_right & ratio\\_leftright & logit\\_left\\_right & classic\\_economic & ratio\\_economic & logit\\_economic & classic\\_gal\\_tan & ratio\\_gal\\_tan & logit\\_gal\\_tan & classic\\_economic\\_gal\\_tan & ratio\\_economic\\_gal\\_tan & logit\\_economic\\_gal\\_tan\\\\\n",
       " <dbl> & <chr> & <int> & <dbl> & <dbl> & <dbl> & <dbl> & <dbl> & <dbl> & <dbl> & <dbl> & <dbl> & <dbl> & <dbl> & <dbl>\\\\\n",
       "\\hline\n",
       "\t 12 & PDS & 1994 & -12.430000 & -0.4564818 & -0.9452349 & -15.68 & -0.7678746 & -1.866158 & -0.89 &  -1 & -1.022451 & -0.89 &  -1 & -1.022451\\\\\n",
       "\t 12 & PDS & 1995 &  -1.890001 & -0.0551503 & -0.1072760 &  -8.57 & -0.6005606 & -1.269257 &  0.00 & NaN &  0.000000 &  0.00 & NaN &  0.000000\\\\\n",
       "\\end{tabular}\n"
      ],
      "text/markdown": [
       "\n",
       "A grouped_df: 2 × 15\n",
       "\n",
       "| Legislature_RECODED &lt;dbl&gt; | PARTY_RECODED &lt;chr&gt; | Year &lt;int&gt; | left_right &lt;dbl&gt; | ratio_leftright &lt;dbl&gt; | logit_left_right &lt;dbl&gt; | classic_economic &lt;dbl&gt; | ratio_economic &lt;dbl&gt; | logit_economic &lt;dbl&gt; | classic_gal_tan &lt;dbl&gt; | ratio_gal_tan &lt;dbl&gt; | logit_gal_tan &lt;dbl&gt; | classic_economic_gal_tan &lt;dbl&gt; | ratio_economic_gal_tan &lt;dbl&gt; | logit_economic_gal_tan &lt;dbl&gt; |\n",
       "|---|---|---|---|---|---|---|---|---|---|---|---|---|---|---|\n",
       "| 12 | PDS | 1994 | -12.430000 | -0.4564818 | -0.9452349 | -15.68 | -0.7678746 | -1.866158 | -0.89 |  -1 | -1.022451 | -0.89 |  -1 | -1.022451 |\n",
       "| 12 | PDS | 1995 |  -1.890001 | -0.0551503 | -0.1072760 |  -8.57 | -0.6005606 | -1.269257 |  0.00 | NaN |  0.000000 |  0.00 | NaN |  0.000000 |\n",
       "\n"
      ],
      "text/plain": [
       "  Legislature_RECODED PARTY_RECODED Year left_right ratio_leftright\n",
       "1 12                  PDS           1994 -12.430000 -0.4564818     \n",
       "2 12                  PDS           1995  -1.890001 -0.0551503     \n",
       "  logit_left_right classic_economic ratio_economic logit_economic\n",
       "1 -0.9452349       -15.68           -0.7678746     -1.866158     \n",
       "2 -0.1072760        -8.57           -0.6005606     -1.269257     \n",
       "  classic_gal_tan ratio_gal_tan logit_gal_tan classic_economic_gal_tan\n",
       "1 -0.89            -1           -1.022451     -0.89                   \n",
       "2  0.00           NaN            0.000000      0.00                   \n",
       "  ratio_economic_gal_tan logit_economic_gal_tan\n",
       "1  -1                    -1.022451             \n",
       "2 NaN                     0.000000             "
      ]
     },
     "metadata": {},
     "output_type": "display_data"
    }
   ],
   "source": [
    "ilsd %>% \n",
    "filter(Legislature_RECODED == 12 & PARTY == \"PDS\") %>% \n",
    "select(Legislature_RECODED, PARTY_RECODED, Year, left_right, ratio_leftright, logit_left_right, classic_economic, \n",
    "       ratio_economic, logit_economic, classic_gal_tan, ratio_gal_tan, logit_gal_tan, classic_economic_gal_tan, \n",
    "       ratio_economic_gal_tan, logit_economic_gal_tan)"
   ]
  },
  {
   "cell_type": "code",
   "execution_count": 60,
   "id": "4a6b97aa",
   "metadata": {},
   "outputs": [],
   "source": [
    "joined_texts <- joined_texts %>% \n",
    "mutate(left_right = case_when(\n",
    "gruppoP_recoded == \"PROGR-F\" & legislature == 12 & year == 1994 ~ -12.430000,\n",
    "gruppoP_recoded == \"PROGR-F\" & legislature == 12 & year == 1995 ~ -1.890001,\n",
    "TRUE ~ left_right),\n",
    "      ratio_leftright = case_when(\n",
    "gruppoP_recoded == \"PROGR-F\" & legislature == 12 & year == 1994 ~ -0.4564818,\n",
    "gruppoP_recoded == \"PROGR-F\" & legislature == 12 & year == 1995 ~ -0.0551503,\n",
    "TRUE ~ ratio_leftright),\n",
    "       logit_left_right = case_when(\n",
    "gruppoP_recoded == \"PROGR-F\" & legislature == 12 & year == 1994 ~ -0.9452349,\n",
    "gruppoP_recoded == \"PROGR-F\" & legislature == 12 & year == 1995 ~ -0.1072760,\n",
    "TRUE ~ logit_left_right),\n",
    "       classic_economic = case_when(\n",
    "gruppoP_recoded == \"PROGR-F\" & legislature == 12 & year == 1994 ~ -15.68,\n",
    "gruppoP_recoded == \"PROGR-F\" & legislature == 12 & year == 1995 ~ -8.57,\n",
    "TRUE ~ classic_economic),\n",
    "       ratio_economic = case_when(\n",
    "gruppoP_recoded == \"PROGR-F\" & legislature == 12 & year == 1994 ~ -0.7678746,\n",
    "gruppoP_recoded == \"PROGR-F\" & legislature == 12 & year == 1995 ~ -0.6005606,\n",
    "TRUE ~ ratio_economic),\n",
    "       logit_economic = case_when(\n",
    "gruppoP_recoded == \"PROGR-F\" & legislature == 12 & year == 1994 ~ -1.866158, \n",
    "gruppoP_recoded == \"PROGR-F\" & legislature == 12 & year == 1995 ~ -1.269257,\n",
    "TRUE ~ logit_economic),\n",
    "       classic_gal_tan = case_when(\n",
    "gruppoP_recoded == \"PROGR-F\" & legislature == 12 & year == 1994 ~ -0.89,\n",
    "gruppoP_recoded == \"PROGR-F\" & legislature == 12 & year == 1995 ~ 0.00,\n",
    "TRUE ~ classic_gal_tan),\n",
    "       ratio_gal_tan = case_when(\n",
    "gruppoP_recoded == \"PROGR-F\" & legislature == 12 & year == 1994 ~ -1,\n",
    "TRUE ~ ratio_gal_tan),\n",
    "       logit_gal_tan = case_when(\n",
    "gruppoP_recoded == \"PROGR-F\" & legislature == 12 & year == 1994 ~ -1.022451,\n",
    "gruppoP_recoded == \"PROGR-F\" & legislature == 12 & year == 1995 ~ 0.000000,\n",
    "TRUE ~ logit_gal_tan),\n",
    "       classic_economic_gal_tan = case_when(\n",
    "gruppoP_recoded == \"PROGR-F\" & legislature == 12 & year == 1994 ~ -0.89,\n",
    "gruppoP_recoded == \"PROGR-F\" & legislature == 12 & year == 1995 ~ 0.00,\n",
    "TRUE ~ classic_economic_gal_tan),\n",
    "       ratio_economic_gal_tan = case_when(\n",
    "gruppoP_recoded == \"PROGR-F\" & legislature == 12 & year == 1994 ~ -1,\n",
    "TRUE ~ ratio_economic_gal_tan),\n",
    "       logit_economic_gal_tan = case_when(\n",
    "gruppoP_recoded == \"PROGR-F\" & legislature == 12 & year == 1994 ~ -1.022451,\n",
    "gruppoP_recoded == \"PROGR-F\" & legislature == 12 & year == 1995 ~ 0.000000,\n",
    "TRUE ~ logit_economic_gal_tan))"
   ]
  },
  {
   "cell_type": "markdown",
   "id": "4665dea9",
   "metadata": {},
   "source": [
    "## Lega Italiana Federalista (LIFED)"
   ]
  },
  {
   "cell_type": "markdown",
   "id": "e0d5268b",
   "metadata": {},
   "source": [
    "It was founded in 1995 as a split from Lega Nord."
   ]
  },
  {
   "cell_type": "code",
   "execution_count": 61,
   "id": "f7b241bd",
   "metadata": {},
   "outputs": [
    {
     "data": {
      "text/html": [
       "<table class=\"dataframe\">\n",
       "<caption>A grouped_df: 2 × 15</caption>\n",
       "<thead>\n",
       "\t<tr><th scope=col>Legislature_RECODED</th><th scope=col>PARTY_RECODED</th><th scope=col>Year</th><th scope=col>left_right</th><th scope=col>ratio_leftright</th><th scope=col>logit_left_right</th><th scope=col>classic_economic</th><th scope=col>ratio_economic</th><th scope=col>logit_economic</th><th scope=col>classic_gal_tan</th><th scope=col>ratio_gal_tan</th><th scope=col>logit_gal_tan</th><th scope=col>classic_economic_gal_tan</th><th scope=col>ratio_economic_gal_tan</th><th scope=col>logit_economic_gal_tan</th></tr>\n",
       "\t<tr><th scope=col>&lt;dbl&gt;</th><th scope=col>&lt;chr&gt;</th><th scope=col>&lt;int&gt;</th><th scope=col>&lt;dbl&gt;</th><th scope=col>&lt;dbl&gt;</th><th scope=col>&lt;dbl&gt;</th><th scope=col>&lt;dbl&gt;</th><th scope=col>&lt;dbl&gt;</th><th scope=col>&lt;dbl&gt;</th><th scope=col>&lt;dbl&gt;</th><th scope=col>&lt;dbl&gt;</th><th scope=col>&lt;dbl&gt;</th><th scope=col>&lt;dbl&gt;</th><th scope=col>&lt;dbl&gt;</th><th scope=col>&lt;dbl&gt;</th></tr>\n",
       "</thead>\n",
       "<tbody>\n",
       "\t<tr><td>12</td><td>LEGA</td><td>1994</td><td>13.380000</td><td>0.2820405</td><td>0.5671661</td><td>-0.79</td><td>-0.03605659</td><td>-0.06899287</td><td>-11.34</td><td> -1</td><td>-3.164631</td><td>-11.34</td><td> -1</td><td>-3.164631</td></tr>\n",
       "\t<tr><td>12</td><td>LEGA</td><td>1995</td><td> 4.779999</td><td>0.1294691</td><td>0.2534579</td><td> 5.37</td><td> 0.20044791</td><td> 0.39139087</td><td>  0.00</td><td>NaN</td><td> 0.000000</td><td>  0.00</td><td>NaN</td><td> 0.000000</td></tr>\n",
       "</tbody>\n",
       "</table>\n"
      ],
      "text/latex": [
       "A grouped\\_df: 2 × 15\n",
       "\\begin{tabular}{lllllllllllllll}\n",
       " Legislature\\_RECODED & PARTY\\_RECODED & Year & left\\_right & ratio\\_leftright & logit\\_left\\_right & classic\\_economic & ratio\\_economic & logit\\_economic & classic\\_gal\\_tan & ratio\\_gal\\_tan & logit\\_gal\\_tan & classic\\_economic\\_gal\\_tan & ratio\\_economic\\_gal\\_tan & logit\\_economic\\_gal\\_tan\\\\\n",
       " <dbl> & <chr> & <int> & <dbl> & <dbl> & <dbl> & <dbl> & <dbl> & <dbl> & <dbl> & <dbl> & <dbl> & <dbl> & <dbl> & <dbl>\\\\\n",
       "\\hline\n",
       "\t 12 & LEGA & 1994 & 13.380000 & 0.2820405 & 0.5671661 & -0.79 & -0.03605659 & -0.06899287 & -11.34 &  -1 & -3.164631 & -11.34 &  -1 & -3.164631\\\\\n",
       "\t 12 & LEGA & 1995 &  4.779999 & 0.1294691 & 0.2534579 &  5.37 &  0.20044791 &  0.39139087 &   0.00 & NaN &  0.000000 &   0.00 & NaN &  0.000000\\\\\n",
       "\\end{tabular}\n"
      ],
      "text/markdown": [
       "\n",
       "A grouped_df: 2 × 15\n",
       "\n",
       "| Legislature_RECODED &lt;dbl&gt; | PARTY_RECODED &lt;chr&gt; | Year &lt;int&gt; | left_right &lt;dbl&gt; | ratio_leftright &lt;dbl&gt; | logit_left_right &lt;dbl&gt; | classic_economic &lt;dbl&gt; | ratio_economic &lt;dbl&gt; | logit_economic &lt;dbl&gt; | classic_gal_tan &lt;dbl&gt; | ratio_gal_tan &lt;dbl&gt; | logit_gal_tan &lt;dbl&gt; | classic_economic_gal_tan &lt;dbl&gt; | ratio_economic_gal_tan &lt;dbl&gt; | logit_economic_gal_tan &lt;dbl&gt; |\n",
       "|---|---|---|---|---|---|---|---|---|---|---|---|---|---|---|\n",
       "| 12 | LEGA | 1994 | 13.380000 | 0.2820405 | 0.5671661 | -0.79 | -0.03605659 | -0.06899287 | -11.34 |  -1 | -3.164631 | -11.34 |  -1 | -3.164631 |\n",
       "| 12 | LEGA | 1995 |  4.779999 | 0.1294691 | 0.2534579 |  5.37 |  0.20044791 |  0.39139087 |   0.00 | NaN |  0.000000 |   0.00 | NaN |  0.000000 |\n",
       "\n"
      ],
      "text/plain": [
       "  Legislature_RECODED PARTY_RECODED Year left_right ratio_leftright\n",
       "1 12                  LEGA          1994 13.380000  0.2820405      \n",
       "2 12                  LEGA          1995  4.779999  0.1294691      \n",
       "  logit_left_right classic_economic ratio_economic logit_economic\n",
       "1 0.5671661        -0.79            -0.03605659    -0.06899287   \n",
       "2 0.2534579         5.37             0.20044791     0.39139087   \n",
       "  classic_gal_tan ratio_gal_tan logit_gal_tan classic_economic_gal_tan\n",
       "1 -11.34           -1           -3.164631     -11.34                  \n",
       "2   0.00          NaN            0.000000       0.00                  \n",
       "  ratio_economic_gal_tan logit_economic_gal_tan\n",
       "1  -1                    -3.164631             \n",
       "2 NaN                     0.000000             "
      ]
     },
     "metadata": {},
     "output_type": "display_data"
    }
   ],
   "source": [
    "ilsd %>% \n",
    "filter(Legislature_RECODED == 12 & PARTY_RECODED == \"LEGA\") %>% \n",
    "select(Legislature_RECODED, PARTY_RECODED, Year, left_right, ratio_leftright, logit_left_right, classic_economic, \n",
    "       ratio_economic, logit_economic, classic_gal_tan, ratio_gal_tan, logit_gal_tan, classic_economic_gal_tan, \n",
    "       ratio_economic_gal_tan, logit_economic_gal_tan)"
   ]
  },
  {
   "cell_type": "code",
   "execution_count": 62,
   "id": "db9b5c9a",
   "metadata": {},
   "outputs": [],
   "source": [
    "joined_texts <- joined_texts %>% \n",
    "mutate(left_right = case_when(\n",
    "gruppoP_recoded == \"LIFED\" & legislature == 12 & year == 1994 ~ 13.380000,\n",
    "gruppoP_recoded == \"LIFED\" & legislature == 12 & year == 1995 ~ 4.779999,\n",
    "TRUE ~ left_right),\n",
    "      ratio_leftright = case_when(\n",
    "gruppoP_recoded == \"LIFED\" & legislature == 12 & year == 1994 ~ 0.2820405,\n",
    "gruppoP_recoded == \"LIFED\" & legislature == 12 & year == 1995 ~ 0.1294691,\n",
    "TRUE ~ ratio_leftright),\n",
    "       logit_left_right = case_when(\n",
    "gruppoP_recoded == \"LIFED\" & legislature == 12 & year == 1994 ~ 0.5671661,\n",
    "gruppoP_recoded == \"LIFED\" & legislature == 12 & year == 1995 ~ 0.2534579,\n",
    "TRUE ~ logit_left_right),\n",
    "       classic_economic = case_when(\n",
    "gruppoP_recoded == \"LIFED\" & legislature == 12 & year == 1994 ~ -0.79,\n",
    "gruppoP_recoded == \"LIFED\" & legislature == 12 & year == 1995 ~ 5.37,\n",
    "TRUE ~ classic_economic),\n",
    "       ratio_economic = case_when(\n",
    "gruppoP_recoded == \"LIFED\" & legislature == 12 & year == 1994 ~ -0.03605659,\n",
    "gruppoP_recoded == \"LIFED\" & legislature == 12 & year == 1995 ~ 0.20044791,\n",
    "TRUE ~ ratio_economic),\n",
    "       logit_economic = case_when(\n",
    "gruppoP_recoded == \"LIFED\" & legislature == 12 & year == 1994 ~ -0.06899287, \n",
    "gruppoP_recoded == \"LIFED\" & legislature == 12 & year == 1995 ~ 0.39139087,\n",
    "TRUE ~ logit_economic),\n",
    "       classic_gal_tan = case_when(\n",
    "gruppoP_recoded == \"LIFED\" & legislature == 12 & year == 1994 ~ -11.34,\n",
    "gruppoP_recoded == \"LIFED\" & legislature == 12 & year == 1995 ~ 0.00,\n",
    "TRUE ~ classic_gal_tan),\n",
    "       ratio_gal_tan = case_when(\n",
    "gruppoP_recoded == \"LIFED\" & legislature == 12 & year == 1994 ~ -1,\n",
    "TRUE ~ ratio_gal_tan),\n",
    "       logit_gal_tan = case_when(\n",
    "gruppoP_recoded == \"LIFED\" & legislature == 12 & year == 1994 ~ -3.164631,\n",
    "gruppoP_recoded == \"LIFED\" & legislature == 12 & year == 1995 ~ 0.000000,\n",
    "TRUE ~ logit_gal_tan),\n",
    "       classic_economic_gal_tan = case_when(\n",
    "gruppoP_recoded == \"LIFED\" & legislature == 12 & year == 1994 ~ -11.34,\n",
    "gruppoP_recoded == \"LIFED\" & legislature == 12 & year == 1995 ~ 0.00,\n",
    "TRUE ~ classic_economic_gal_tan),\n",
    "       ratio_economic_gal_tan = case_when(\n",
    "gruppoP_recoded == \"LIFED\" & legislature == 12 & year == 1994 ~ -1,\n",
    "TRUE ~ ratio_economic_gal_tan),\n",
    "       logit_economic_gal_tan = case_when(\n",
    "gruppoP_recoded == \"LIFED\" & legislature == 12 & year == 1994 ~ -3.164631,\n",
    "gruppoP_recoded == \"LIFED\" & legislature == 12 & year == 1995 ~ 0.000000,\n",
    "TRUE ~ logit_economic_gal_tan))"
   ]
  },
  {
   "cell_type": "markdown",
   "id": "24c899cb",
   "metadata": {},
   "source": [
    "## PD-ULIVO-DS"
   ]
  },
  {
   "cell_type": "markdown",
   "id": "4c0380b9",
   "metadata": {},
   "source": [
    "The values for PD-ULIVO-DS in 1996 and 1997 are null. We are going to fill them by using e the values for PDS"
   ]
  },
  {
   "cell_type": "code",
   "execution_count": 63,
   "id": "8b1a8344",
   "metadata": {},
   "outputs": [
    {
     "data": {
      "text/html": [
       "<table class=\"dataframe\">\n",
       "<caption>A grouped_df: 1 × 15</caption>\n",
       "<thead>\n",
       "\t<tr><th scope=col>Legislature_RECODED</th><th scope=col>PARTY_RECODED</th><th scope=col>Year</th><th scope=col>left_right</th><th scope=col>ratio_leftright</th><th scope=col>logit_left_right</th><th scope=col>classic_economic</th><th scope=col>ratio_economic</th><th scope=col>logit_economic</th><th scope=col>classic_gal_tan</th><th scope=col>ratio_gal_tan</th><th scope=col>logit_gal_tan</th><th scope=col>classic_economic_gal_tan</th><th scope=col>ratio_economic_gal_tan</th><th scope=col>logit_economic_gal_tan</th></tr>\n",
       "\t<tr><th scope=col>&lt;dbl&gt;</th><th scope=col>&lt;chr&gt;</th><th scope=col>&lt;int&gt;</th><th scope=col>&lt;dbl&gt;</th><th scope=col>&lt;dbl&gt;</th><th scope=col>&lt;dbl&gt;</th><th scope=col>&lt;dbl&gt;</th><th scope=col>&lt;dbl&gt;</th><th scope=col>&lt;dbl&gt;</th><th scope=col>&lt;dbl&gt;</th><th scope=col>&lt;dbl&gt;</th><th scope=col>&lt;dbl&gt;</th><th scope=col>&lt;dbl&gt;</th><th scope=col>&lt;dbl&gt;</th><th scope=col>&lt;dbl&gt;</th></tr>\n",
       "</thead>\n",
       "<tbody>\n",
       "\t<tr><td>13</td><td>PDS</td><td>1996</td><td>-15.82</td><td>-0.3947106</td><td>-0.8120733</td><td>-16.16</td><td>-0.5998515</td><td>-1.320057</td><td>-3.71</td><td>-0.9160494</td><td>-1.877526</td><td>-3.71</td><td>-0.9160494</td><td>-1.877526</td></tr>\n",
       "</tbody>\n",
       "</table>\n"
      ],
      "text/latex": [
       "A grouped\\_df: 1 × 15\n",
       "\\begin{tabular}{lllllllllllllll}\n",
       " Legislature\\_RECODED & PARTY\\_RECODED & Year & left\\_right & ratio\\_leftright & logit\\_left\\_right & classic\\_economic & ratio\\_economic & logit\\_economic & classic\\_gal\\_tan & ratio\\_gal\\_tan & logit\\_gal\\_tan & classic\\_economic\\_gal\\_tan & ratio\\_economic\\_gal\\_tan & logit\\_economic\\_gal\\_tan\\\\\n",
       " <dbl> & <chr> & <int> & <dbl> & <dbl> & <dbl> & <dbl> & <dbl> & <dbl> & <dbl> & <dbl> & <dbl> & <dbl> & <dbl> & <dbl>\\\\\n",
       "\\hline\n",
       "\t 13 & PDS & 1996 & -15.82 & -0.3947106 & -0.8120733 & -16.16 & -0.5998515 & -1.320057 & -3.71 & -0.9160494 & -1.877526 & -3.71 & -0.9160494 & -1.877526\\\\\n",
       "\\end{tabular}\n"
      ],
      "text/markdown": [
       "\n",
       "A grouped_df: 1 × 15\n",
       "\n",
       "| Legislature_RECODED &lt;dbl&gt; | PARTY_RECODED &lt;chr&gt; | Year &lt;int&gt; | left_right &lt;dbl&gt; | ratio_leftright &lt;dbl&gt; | logit_left_right &lt;dbl&gt; | classic_economic &lt;dbl&gt; | ratio_economic &lt;dbl&gt; | logit_economic &lt;dbl&gt; | classic_gal_tan &lt;dbl&gt; | ratio_gal_tan &lt;dbl&gt; | logit_gal_tan &lt;dbl&gt; | classic_economic_gal_tan &lt;dbl&gt; | ratio_economic_gal_tan &lt;dbl&gt; | logit_economic_gal_tan &lt;dbl&gt; |\n",
       "|---|---|---|---|---|---|---|---|---|---|---|---|---|---|---|\n",
       "| 13 | PDS | 1996 | -15.82 | -0.3947106 | -0.8120733 | -16.16 | -0.5998515 | -1.320057 | -3.71 | -0.9160494 | -1.877526 | -3.71 | -0.9160494 | -1.877526 |\n",
       "\n"
      ],
      "text/plain": [
       "  Legislature_RECODED PARTY_RECODED Year left_right ratio_leftright\n",
       "1 13                  PDS           1996 -15.82     -0.3947106     \n",
       "  logit_left_right classic_economic ratio_economic logit_economic\n",
       "1 -0.8120733       -16.16           -0.5998515     -1.320057     \n",
       "  classic_gal_tan ratio_gal_tan logit_gal_tan classic_economic_gal_tan\n",
       "1 -3.71           -0.9160494    -1.877526     -3.71                   \n",
       "  ratio_economic_gal_tan logit_economic_gal_tan\n",
       "1 -0.9160494             -1.877526             "
      ]
     },
     "metadata": {},
     "output_type": "display_data"
    }
   ],
   "source": [
    "ilsd %>% \n",
    "filter(Legislature_RECODED == 13 & Year == 1996 & PARTY_RECODED == \"PDS\") %>% \n",
    "select(Legislature_RECODED, PARTY_RECODED, Year, left_right, ratio_leftright, logit_left_right, classic_economic, \n",
    "       ratio_economic, logit_economic, classic_gal_tan, ratio_gal_tan, logit_gal_tan, classic_economic_gal_tan, \n",
    "       ratio_economic_gal_tan, logit_economic_gal_tan)"
   ]
  },
  {
   "cell_type": "code",
   "execution_count": 64,
   "id": "05f9a9eb",
   "metadata": {},
   "outputs": [],
   "source": [
    "joined_texts <- joined_texts %>% \n",
    "mutate(left_right = case_when(\n",
    "gruppoP_recoded == \"PD-ULIVO-DS\" & legislature == 13 & year == 1996 ~ -15.82,\n",
    "TRUE ~ left_right),\n",
    "      ratio_leftright = case_when(\n",
    "gruppoP_recoded == \"PD-ULIVO-DS\" & legislature == 13 & year == 1996 ~ -0.3947106,\n",
    "TRUE ~ ratio_leftright),\n",
    "       logit_left_right = case_when(\n",
    "gruppoP_recoded == \"PD-ULIVO-DS\" & legislature == 13 & year == 1996 ~ -0.8120733,\n",
    "TRUE ~ logit_left_right),\n",
    "       classic_economic = case_when(\n",
    "gruppoP_recoded == \"PD-ULIVO-DS\" & legislature == 13 & year == 1996 ~ -16.16,\n",
    "TRUE ~ classic_economic),\n",
    "       ratio_economic = case_when(\n",
    "gruppoP_recoded == \"PD-ULIVO-DS\" & legislature == 13 & year == 1996 ~ -0.5998515,\n",
    "TRUE ~ ratio_economic),\n",
    "       logit_economic = case_when(\n",
    "gruppoP_recoded == \"PD-ULIVO-DS\" & legislature == 13 & year == 1996 ~ -1.320057, \n",
    "TRUE ~ logit_economic),\n",
    "       classic_gal_tan = case_when(\n",
    "gruppoP_recoded == \"PD-ULIVO-DS\" & legislature == 13 & year == 1996 ~ -3.71,\n",
    "TRUE ~ classic_gal_tan),\n",
    "       ratio_gal_tan = case_when(\n",
    "gruppoP_recoded == \"PD-ULIVO-DS\" & legislature == 13 & year == 1996 ~ -0.9160494,\n",
    "TRUE ~ ratio_gal_tan),\n",
    "       logit_gal_tan = case_when(\n",
    "gruppoP_recoded == \"PD-ULIVO-DS\" & legislature == 13 & year == 1996 ~ -1.877526,\n",
    "TRUE ~ logit_gal_tan),\n",
    "       classic_economic_gal_tan = case_when(\n",
    "gruppoP_recoded == \"PD-ULIVO-DS\" & legislature == 13 & year == 1996 ~ -3.71,\n",
    "TRUE ~ classic_economic_gal_tan),\n",
    "       ratio_economic_gal_tan = case_when(\n",
    "gruppoP_recoded == \"PD-ULIVO-DS\" & legislature == 13 & year == 1996 ~ -0.9160494,\n",
    "TRUE ~ ratio_economic_gal_tan),\n",
    "       logit_economic_gal_tan = case_when(\n",
    "gruppoP_recoded == \"PD-ULIVO-DS\" & legislature == 13 & year == 1996 ~ -1.877526,\n",
    "TRUE ~ logit_economic_gal_tan))"
   ]
  },
  {
   "cell_type": "markdown",
   "id": "1f3db612",
   "metadata": {},
   "source": [
    "## Unione Democratica per la Repubblica (UDR) and Unione Democratici per l'Europa (UDEUR)"
   ]
  },
  {
   "cell_type": "markdown",
   "id": "3c6c9332",
   "metadata": {},
   "source": [
    "UDR was founded as a federation that included Cristiani Democratici Uniti, Cristiano Democratici per la Repubblica and Socialdemocrazia Liberale Europea. Both CDU and CDR were part of CCD. SOLE is not included in ILSD. The null values for UDR will thus be filled with values for CCD. \n",
    "\n",
    "UDEUR was founded in 1999 after UDR was disbanded. The null values in 1996 and 1997 will be replaced with values from CCD (the same values used to replace the null in UDR), while the null values in 1998 will be replaced with values from UDR."
   ]
  },
  {
   "cell_type": "code",
   "execution_count": 65,
   "id": "eacd2553",
   "metadata": {},
   "outputs": [
    {
     "data": {
      "text/html": [
       "<table class=\"dataframe\">\n",
       "<caption>A grouped_df: 1 × 15</caption>\n",
       "<thead>\n",
       "\t<tr><th scope=col>Legislature_RECODED</th><th scope=col>PARTY_RECODED</th><th scope=col>Year</th><th scope=col>left_right</th><th scope=col>ratio_leftright</th><th scope=col>logit_left_right</th><th scope=col>classic_economic</th><th scope=col>ratio_economic</th><th scope=col>logit_economic</th><th scope=col>classic_gal_tan</th><th scope=col>ratio_gal_tan</th><th scope=col>logit_gal_tan</th><th scope=col>classic_economic_gal_tan</th><th scope=col>ratio_economic_gal_tan</th><th scope=col>logit_economic_gal_tan</th></tr>\n",
       "\t<tr><th scope=col>&lt;dbl&gt;</th><th scope=col>&lt;chr&gt;</th><th scope=col>&lt;int&gt;</th><th scope=col>&lt;dbl&gt;</th><th scope=col>&lt;dbl&gt;</th><th scope=col>&lt;dbl&gt;</th><th scope=col>&lt;dbl&gt;</th><th scope=col>&lt;dbl&gt;</th><th scope=col>&lt;dbl&gt;</th><th scope=col>&lt;dbl&gt;</th><th scope=col>&lt;dbl&gt;</th><th scope=col>&lt;dbl&gt;</th><th scope=col>&lt;dbl&gt;</th><th scope=col>&lt;dbl&gt;</th><th scope=col>&lt;dbl&gt;</th></tr>\n",
       "</thead>\n",
       "<tbody>\n",
       "\t<tr><td>13</td><td>UDC</td><td>1996</td><td>13.29</td><td>0.4282952</td><td>0.8830882</td><td>4.1</td><td>0.3010279</td><td>0.5763143</td><td>-2.85</td><td>-1</td><td>-1.902108</td><td>-2.85</td><td>-1</td><td>-1.902108</td></tr>\n",
       "</tbody>\n",
       "</table>\n"
      ],
      "text/latex": [
       "A grouped\\_df: 1 × 15\n",
       "\\begin{tabular}{lllllllllllllll}\n",
       " Legislature\\_RECODED & PARTY\\_RECODED & Year & left\\_right & ratio\\_leftright & logit\\_left\\_right & classic\\_economic & ratio\\_economic & logit\\_economic & classic\\_gal\\_tan & ratio\\_gal\\_tan & logit\\_gal\\_tan & classic\\_economic\\_gal\\_tan & ratio\\_economic\\_gal\\_tan & logit\\_economic\\_gal\\_tan\\\\\n",
       " <dbl> & <chr> & <int> & <dbl> & <dbl> & <dbl> & <dbl> & <dbl> & <dbl> & <dbl> & <dbl> & <dbl> & <dbl> & <dbl> & <dbl>\\\\\n",
       "\\hline\n",
       "\t 13 & UDC & 1996 & 13.29 & 0.4282952 & 0.8830882 & 4.1 & 0.3010279 & 0.5763143 & -2.85 & -1 & -1.902108 & -2.85 & -1 & -1.902108\\\\\n",
       "\\end{tabular}\n"
      ],
      "text/markdown": [
       "\n",
       "A grouped_df: 1 × 15\n",
       "\n",
       "| Legislature_RECODED &lt;dbl&gt; | PARTY_RECODED &lt;chr&gt; | Year &lt;int&gt; | left_right &lt;dbl&gt; | ratio_leftright &lt;dbl&gt; | logit_left_right &lt;dbl&gt; | classic_economic &lt;dbl&gt; | ratio_economic &lt;dbl&gt; | logit_economic &lt;dbl&gt; | classic_gal_tan &lt;dbl&gt; | ratio_gal_tan &lt;dbl&gt; | logit_gal_tan &lt;dbl&gt; | classic_economic_gal_tan &lt;dbl&gt; | ratio_economic_gal_tan &lt;dbl&gt; | logit_economic_gal_tan &lt;dbl&gt; |\n",
       "|---|---|---|---|---|---|---|---|---|---|---|---|---|---|---|\n",
       "| 13 | UDC | 1996 | 13.29 | 0.4282952 | 0.8830882 | 4.1 | 0.3010279 | 0.5763143 | -2.85 | -1 | -1.902108 | -2.85 | -1 | -1.902108 |\n",
       "\n"
      ],
      "text/plain": [
       "  Legislature_RECODED PARTY_RECODED Year left_right ratio_leftright\n",
       "1 13                  UDC           1996 13.29      0.4282952      \n",
       "  logit_left_right classic_economic ratio_economic logit_economic\n",
       "1 0.8830882        4.1              0.3010279      0.5763143     \n",
       "  classic_gal_tan ratio_gal_tan logit_gal_tan classic_economic_gal_tan\n",
       "1 -2.85           -1            -1.902108     -2.85                   \n",
       "  ratio_economic_gal_tan logit_economic_gal_tan\n",
       "1 -1                     -1.902108             "
      ]
     },
     "metadata": {},
     "output_type": "display_data"
    }
   ],
   "source": [
    "ilsd %>% \n",
    "filter(Legislature_RECODED == 13 & Year == 1996 & PARTY == \"CCD\") %>% \n",
    "select(Legislature_RECODED, PARTY_RECODED, Year, left_right, ratio_leftright, logit_left_right, classic_economic, \n",
    "       ratio_economic, logit_economic, classic_gal_tan, ratio_gal_tan, logit_gal_tan, classic_economic_gal_tan, \n",
    "       ratio_economic_gal_tan, logit_economic_gal_tan)"
   ]
  },
  {
   "cell_type": "code",
   "execution_count": 66,
   "id": "0e233697",
   "metadata": {},
   "outputs": [],
   "source": [
    "joined_texts <- joined_texts %>% \n",
    "mutate(left_right = case_when(\n",
    "gruppoP_recoded %in% c('UDR', 'UDEUR') & legislature == 13 & year == 1996 ~ 13.29,\n",
    "TRUE ~ left_right),\n",
    "      ratio_leftright = case_when(\n",
    "gruppoP_recoded %in% c('UDR', 'UDEUR') & legislature == 13 & year == 1996 ~ 0.4282952,\n",
    "TRUE ~ ratio_leftright),\n",
    "       logit_left_right = case_when(\n",
    "gruppoP_recoded %in% c('UDR', 'UDEUR') & legislature == 13 & year == 1996 ~ 0.8830882,\n",
    "TRUE ~ logit_left_right),\n",
    "       classic_economic = case_when(\n",
    "gruppoP_recoded %in% c('UDR', 'UDEUR') & legislature == 13 & year == 1996 ~ 4.1,\n",
    "TRUE ~ classic_economic),\n",
    "       ratio_economic = case_when(\n",
    "gruppoP_recoded %in% c('UDR', 'UDEUR') & legislature == 13 & year == 1996 ~ 0.3010279,\n",
    "TRUE ~ ratio_economic),\n",
    "       logit_economic = case_when(\n",
    "gruppoP_recoded %in% c('UDR', 'UDEUR') & legislature == 13 & year == 1996 ~ 0.5763143, \n",
    "TRUE ~ logit_economic),\n",
    "       classic_gal_tan = case_when(\n",
    "gruppoP_recoded %in% c('UDR', 'UDEUR') & legislature == 13 & year == 1996 ~ -2.85,\n",
    "TRUE ~ classic_gal_tan),\n",
    "       ratio_gal_tan = case_when(\n",
    "gruppoP_recoded %in% c('UDR', 'UDEUR') & legislature == 13 & year == 1996 ~ -1,\n",
    "TRUE ~ ratio_gal_tan),\n",
    "       logit_gal_tan = case_when(\n",
    "gruppoP_recoded %in% c('UDR', 'UDEUR') & legislature == 13 & year == 1996 ~ -1.902108,\n",
    "TRUE ~ logit_gal_tan),\n",
    "       classic_economic_gal_tan = case_when(\n",
    "gruppoP_recoded %in% c('UDR', 'UDEUR') & legislature == 13 & year == 1996 ~ -2.85,\n",
    "TRUE ~ classic_economic_gal_tan),\n",
    "       ratio_economic_gal_tan = case_when(\n",
    "gruppoP_recoded %in% c('UDR', 'UDEUR') & legislature == 13 & year == 1996 ~ -1,\n",
    "TRUE ~ ratio_economic_gal_tan),\n",
    "       logit_economic_gal_tan = case_when(\n",
    "gruppoP_recoded %in% c('UDR', 'UDEUR') & legislature == 13 & year == 1996 ~ -1.902108,\n",
    "TRUE ~ logit_economic_gal_tan))"
   ]
  },
  {
   "cell_type": "markdown",
   "id": "799690ef",
   "metadata": {},
   "source": [
    "Fill the null values for UDEUR in 1998"
   ]
  },
  {
   "cell_type": "code",
   "execution_count": 67,
   "id": "47d2e43f",
   "metadata": {},
   "outputs": [
    {
     "data": {
      "text/html": [
       "<table class=\"dataframe\">\n",
       "<caption>A grouped_df: 1 × 15</caption>\n",
       "<thead>\n",
       "\t<tr><th scope=col>Legislature_RECODED</th><th scope=col>PARTY_RECODED</th><th scope=col>Year</th><th scope=col>left_right</th><th scope=col>ratio_leftright</th><th scope=col>logit_left_right</th><th scope=col>classic_economic</th><th scope=col>ratio_economic</th><th scope=col>logit_economic</th><th scope=col>classic_gal_tan</th><th scope=col>ratio_gal_tan</th><th scope=col>logit_gal_tan</th><th scope=col>classic_economic_gal_tan</th><th scope=col>ratio_economic_gal_tan</th><th scope=col>logit_economic_gal_tan</th></tr>\n",
       "\t<tr><th scope=col>&lt;dbl&gt;</th><th scope=col>&lt;chr&gt;</th><th scope=col>&lt;int&gt;</th><th scope=col>&lt;dbl&gt;</th><th scope=col>&lt;dbl&gt;</th><th scope=col>&lt;dbl&gt;</th><th scope=col>&lt;dbl&gt;</th><th scope=col>&lt;dbl&gt;</th><th scope=col>&lt;dbl&gt;</th><th scope=col>&lt;dbl&gt;</th><th scope=col>&lt;dbl&gt;</th><th scope=col>&lt;dbl&gt;</th><th scope=col>&lt;dbl&gt;</th><th scope=col>&lt;dbl&gt;</th><th scope=col>&lt;dbl&gt;</th></tr>\n",
       "</thead>\n",
       "<tbody>\n",
       "\t<tr><td>13</td><td>UDR</td><td>1998</td><td>14.76</td><td>0.5303502</td><td>1.131542</td><td>0.07499996</td><td>-0.0009718222</td><td>0.006135036</td><td>-8.005</td><td>-1</td><td>-2.438876</td><td>-8.005</td><td>-1</td><td>-2.438876</td></tr>\n",
       "</tbody>\n",
       "</table>\n"
      ],
      "text/latex": [
       "A grouped\\_df: 1 × 15\n",
       "\\begin{tabular}{lllllllllllllll}\n",
       " Legislature\\_RECODED & PARTY\\_RECODED & Year & left\\_right & ratio\\_leftright & logit\\_left\\_right & classic\\_economic & ratio\\_economic & logit\\_economic & classic\\_gal\\_tan & ratio\\_gal\\_tan & logit\\_gal\\_tan & classic\\_economic\\_gal\\_tan & ratio\\_economic\\_gal\\_tan & logit\\_economic\\_gal\\_tan\\\\\n",
       " <dbl> & <chr> & <int> & <dbl> & <dbl> & <dbl> & <dbl> & <dbl> & <dbl> & <dbl> & <dbl> & <dbl> & <dbl> & <dbl> & <dbl>\\\\\n",
       "\\hline\n",
       "\t 13 & UDR & 1998 & 14.76 & 0.5303502 & 1.131542 & 0.07499996 & -0.0009718222 & 0.006135036 & -8.005 & -1 & -2.438876 & -8.005 & -1 & -2.438876\\\\\n",
       "\\end{tabular}\n"
      ],
      "text/markdown": [
       "\n",
       "A grouped_df: 1 × 15\n",
       "\n",
       "| Legislature_RECODED &lt;dbl&gt; | PARTY_RECODED &lt;chr&gt; | Year &lt;int&gt; | left_right &lt;dbl&gt; | ratio_leftright &lt;dbl&gt; | logit_left_right &lt;dbl&gt; | classic_economic &lt;dbl&gt; | ratio_economic &lt;dbl&gt; | logit_economic &lt;dbl&gt; | classic_gal_tan &lt;dbl&gt; | ratio_gal_tan &lt;dbl&gt; | logit_gal_tan &lt;dbl&gt; | classic_economic_gal_tan &lt;dbl&gt; | ratio_economic_gal_tan &lt;dbl&gt; | logit_economic_gal_tan &lt;dbl&gt; |\n",
       "|---|---|---|---|---|---|---|---|---|---|---|---|---|---|---|\n",
       "| 13 | UDR | 1998 | 14.76 | 0.5303502 | 1.131542 | 0.07499996 | -0.0009718222 | 0.006135036 | -8.005 | -1 | -2.438876 | -8.005 | -1 | -2.438876 |\n",
       "\n"
      ],
      "text/plain": [
       "  Legislature_RECODED PARTY_RECODED Year left_right ratio_leftright\n",
       "1 13                  UDR           1998 14.76      0.5303502      \n",
       "  logit_left_right classic_economic ratio_economic logit_economic\n",
       "1 1.131542         0.07499996       -0.0009718222  0.006135036   \n",
       "  classic_gal_tan ratio_gal_tan logit_gal_tan classic_economic_gal_tan\n",
       "1 -8.005          -1            -2.438876     -8.005                  \n",
       "  ratio_economic_gal_tan logit_economic_gal_tan\n",
       "1 -1                     -2.438876             "
      ]
     },
     "metadata": {},
     "output_type": "display_data"
    }
   ],
   "source": [
    "ilsd %>% \n",
    "filter(Legislature_RECODED == 13 & Year == 1998 & PARTY == \"UDR\") %>% \n",
    "select(Legislature_RECODED, PARTY_RECODED, Year, left_right, ratio_leftright, logit_left_right, classic_economic, \n",
    "       ratio_economic, logit_economic, classic_gal_tan, ratio_gal_tan, logit_gal_tan, classic_economic_gal_tan, \n",
    "       ratio_economic_gal_tan, logit_economic_gal_tan)"
   ]
  },
  {
   "cell_type": "code",
   "execution_count": 68,
   "id": "4611ca73",
   "metadata": {},
   "outputs": [],
   "source": [
    "joined_texts <- joined_texts %>% \n",
    "mutate(left_right = case_when(\n",
    "gruppoP_recoded == 'UDEUR' & legislature == 13 & year == 1998 ~ 14.76,\n",
    "TRUE ~ left_right),\n",
    "      ratio_leftright = case_when(\n",
    "gruppoP_recoded == 'UDEUR' & legislature == 13 & year == 1998 ~ 0.5303502,\n",
    "TRUE ~ ratio_leftright),\n",
    "       logit_left_right = case_when(\n",
    "gruppoP_recoded == 'UDEUR' & legislature == 13 & year == 1998 ~ 1.131542,\n",
    "TRUE ~ logit_left_right),\n",
    "       classic_economic = case_when(\n",
    "gruppoP_recoded == 'UDEUR' & legislature == 13 & year == 1998 ~ 0.07499996,\n",
    "TRUE ~ classic_economic),\n",
    "       ratio_economic = case_when(\n",
    "gruppoP_recoded == 'UDEUR' & legislature == 13 & year == 1998 ~ -0.0009718222,\n",
    "TRUE ~ ratio_economic),\n",
    "       logit_economic = case_when(\n",
    "gruppoP_recoded == 'UDEUR' & legislature == 13 & year == 1998 ~ 0.006135036, \n",
    "TRUE ~ logit_economic),\n",
    "       classic_gal_tan = case_when(\n",
    "gruppoP_recoded == 'UDEUR' & legislature == 13 & year == 1998 ~ -8.005,\n",
    "TRUE ~ classic_gal_tan),\n",
    "       ratio_gal_tan = case_when(\n",
    "gruppoP_recoded == 'UDEUR' & legislature == 13 & year == 1998 ~ -1,\n",
    "TRUE ~ ratio_gal_tan),\n",
    "       logit_gal_tan = case_when(\n",
    "gruppoP_recoded == 'UDEUR' & legislature == 13 & year == 1998 ~ -2.438876,\n",
    "TRUE ~ logit_gal_tan),\n",
    "       classic_economic_gal_tan = case_when(\n",
    "gruppoP_recoded == 'UDEUR' & legislature == 13 & year == 1998 ~ -8.005,\n",
    "TRUE ~ classic_economic_gal_tan),\n",
    "       ratio_economic_gal_tan = case_when(\n",
    "gruppoP_recoded == 'UDEUR' & legislature == 13 & year == 1998 ~ -1,\n",
    "TRUE ~ ratio_economic_gal_tan),\n",
    "       logit_economic_gal_tan = case_when(\n",
    "gruppoP_recoded == 'UDEUR' & legislature == 13 & year == 1998 ~ -2.438876,\n",
    "TRUE ~ logit_economic_gal_tan))"
   ]
  },
  {
   "cell_type": "markdown",
   "id": "5d9efc09",
   "metadata": {},
   "source": [
    "## I Democratici (DEM-U)"
   ]
  },
  {
   "cell_type": "markdown",
   "id": "5249c70b",
   "metadata": {},
   "source": [
    "It was founded in 1999 by members of the following five parties: ULIVO, Italia dei Valori, la Rete, Movimento per l'Ulivo and Unione Democratica. None of these parties are present in ILSD with the exception of L'Ulivo/PDS. The null values in 1996 and 1997 will be replaced with values from PDS, while null values in 1998 will be replaced with values form DS."
   ]
  },
  {
   "cell_type": "markdown",
   "id": "c9506e4d",
   "metadata": {},
   "source": [
    "Fill the null values in 1996"
   ]
  },
  {
   "cell_type": "code",
   "execution_count": 69,
   "id": "f40a741e",
   "metadata": {},
   "outputs": [
    {
     "data": {
      "text/html": [
       "<table class=\"dataframe\">\n",
       "<caption>A grouped_df: 1 × 15</caption>\n",
       "<thead>\n",
       "\t<tr><th scope=col>Legislature_RECODED</th><th scope=col>PARTY_RECODED</th><th scope=col>Year</th><th scope=col>left_right</th><th scope=col>ratio_leftright</th><th scope=col>logit_left_right</th><th scope=col>classic_economic</th><th scope=col>ratio_economic</th><th scope=col>logit_economic</th><th scope=col>classic_gal_tan</th><th scope=col>ratio_gal_tan</th><th scope=col>logit_gal_tan</th><th scope=col>classic_economic_gal_tan</th><th scope=col>ratio_economic_gal_tan</th><th scope=col>logit_economic_gal_tan</th></tr>\n",
       "\t<tr><th scope=col>&lt;dbl&gt;</th><th scope=col>&lt;chr&gt;</th><th scope=col>&lt;int&gt;</th><th scope=col>&lt;dbl&gt;</th><th scope=col>&lt;dbl&gt;</th><th scope=col>&lt;dbl&gt;</th><th scope=col>&lt;dbl&gt;</th><th scope=col>&lt;dbl&gt;</th><th scope=col>&lt;dbl&gt;</th><th scope=col>&lt;dbl&gt;</th><th scope=col>&lt;dbl&gt;</th><th scope=col>&lt;dbl&gt;</th><th scope=col>&lt;dbl&gt;</th><th scope=col>&lt;dbl&gt;</th><th scope=col>&lt;dbl&gt;</th></tr>\n",
       "</thead>\n",
       "<tbody>\n",
       "\t<tr><td>13</td><td>PDS</td><td>1996</td><td>-15.82</td><td>-0.3947106</td><td>-0.8120733</td><td>-16.16</td><td>-0.5998515</td><td>-1.320057</td><td>-3.71</td><td>-0.9160494</td><td>-1.877526</td><td>-3.71</td><td>-0.9160494</td><td>-1.877526</td></tr>\n",
       "</tbody>\n",
       "</table>\n"
      ],
      "text/latex": [
       "A grouped\\_df: 1 × 15\n",
       "\\begin{tabular}{lllllllllllllll}\n",
       " Legislature\\_RECODED & PARTY\\_RECODED & Year & left\\_right & ratio\\_leftright & logit\\_left\\_right & classic\\_economic & ratio\\_economic & logit\\_economic & classic\\_gal\\_tan & ratio\\_gal\\_tan & logit\\_gal\\_tan & classic\\_economic\\_gal\\_tan & ratio\\_economic\\_gal\\_tan & logit\\_economic\\_gal\\_tan\\\\\n",
       " <dbl> & <chr> & <int> & <dbl> & <dbl> & <dbl> & <dbl> & <dbl> & <dbl> & <dbl> & <dbl> & <dbl> & <dbl> & <dbl> & <dbl>\\\\\n",
       "\\hline\n",
       "\t 13 & PDS & 1996 & -15.82 & -0.3947106 & -0.8120733 & -16.16 & -0.5998515 & -1.320057 & -3.71 & -0.9160494 & -1.877526 & -3.71 & -0.9160494 & -1.877526\\\\\n",
       "\\end{tabular}\n"
      ],
      "text/markdown": [
       "\n",
       "A grouped_df: 1 × 15\n",
       "\n",
       "| Legislature_RECODED &lt;dbl&gt; | PARTY_RECODED &lt;chr&gt; | Year &lt;int&gt; | left_right &lt;dbl&gt; | ratio_leftright &lt;dbl&gt; | logit_left_right &lt;dbl&gt; | classic_economic &lt;dbl&gt; | ratio_economic &lt;dbl&gt; | logit_economic &lt;dbl&gt; | classic_gal_tan &lt;dbl&gt; | ratio_gal_tan &lt;dbl&gt; | logit_gal_tan &lt;dbl&gt; | classic_economic_gal_tan &lt;dbl&gt; | ratio_economic_gal_tan &lt;dbl&gt; | logit_economic_gal_tan &lt;dbl&gt; |\n",
       "|---|---|---|---|---|---|---|---|---|---|---|---|---|---|---|\n",
       "| 13 | PDS | 1996 | -15.82 | -0.3947106 | -0.8120733 | -16.16 | -0.5998515 | -1.320057 | -3.71 | -0.9160494 | -1.877526 | -3.71 | -0.9160494 | -1.877526 |\n",
       "\n"
      ],
      "text/plain": [
       "  Legislature_RECODED PARTY_RECODED Year left_right ratio_leftright\n",
       "1 13                  PDS           1996 -15.82     -0.3947106     \n",
       "  logit_left_right classic_economic ratio_economic logit_economic\n",
       "1 -0.8120733       -16.16           -0.5998515     -1.320057     \n",
       "  classic_gal_tan ratio_gal_tan logit_gal_tan classic_economic_gal_tan\n",
       "1 -3.71           -0.9160494    -1.877526     -3.71                   \n",
       "  ratio_economic_gal_tan logit_economic_gal_tan\n",
       "1 -0.9160494             -1.877526             "
      ]
     },
     "metadata": {},
     "output_type": "display_data"
    }
   ],
   "source": [
    "ilsd %>% \n",
    "filter(Legislature_RECODED == 13 & Year == 1996 & PARTY == 'PDS') %>% \n",
    "select(Legislature_RECODED, PARTY_RECODED, Year, left_right, ratio_leftright, logit_left_right, classic_economic, \n",
    "       ratio_economic, logit_economic, classic_gal_tan, ratio_gal_tan, logit_gal_tan, classic_economic_gal_tan, \n",
    "       ratio_economic_gal_tan, logit_economic_gal_tan)"
   ]
  },
  {
   "cell_type": "code",
   "execution_count": 70,
   "id": "72af0158",
   "metadata": {},
   "outputs": [],
   "source": [
    "joined_texts <- joined_texts %>% \n",
    "mutate(left_right = case_when(\n",
    "gruppoP_recoded == 'DEM-U' & legislature == 13 & year == 1996 ~ -15.82,\n",
    "TRUE ~ left_right),\n",
    "      ratio_leftright = case_when(\n",
    "gruppoP_recoded == 'DEM-U' & legislature == 13 & year == 1996 ~ -0.3947106,\n",
    "TRUE ~ ratio_leftright),\n",
    "       logit_left_right = case_when(\n",
    "gruppoP_recoded == 'DEM-U' & legislature == 13 & year == 1996 ~ -0.8120733,\n",
    "TRUE ~ logit_left_right),\n",
    "       classic_economic = case_when(\n",
    "gruppoP_recoded == 'DEM-U' & legislature == 13 & year == 1996 ~ -16.16,\n",
    "TRUE ~ classic_economic),\n",
    "       ratio_economic = case_when(\n",
    "gruppoP_recoded == 'DEM-U' & legislature == 13 & year == 1996 ~ -0.5998515,\n",
    "TRUE ~ ratio_economic),\n",
    "       logit_economic = case_when(\n",
    "gruppoP_recoded == 'DEM-U' & legislature == 13 & year == 1996 ~ -1.320057, \n",
    "TRUE ~ logit_economic),\n",
    "       classic_gal_tan = case_when(\n",
    "gruppoP_recoded == 'DEM-U' & legislature == 13 & year == 1996 ~ -3.71,\n",
    "TRUE ~ classic_gal_tan),\n",
    "       ratio_gal_tan = case_when(\n",
    "gruppoP_recoded == 'DEM-U' & legislature == 13 & year == 1996 ~ -0.9160494,\n",
    "TRUE ~ ratio_gal_tan),\n",
    "       logit_gal_tan = case_when(\n",
    "gruppoP_recoded == 'DEM-U' & legislature == 13 & year == 1996 ~ -1.877526,\n",
    "TRUE ~ logit_gal_tan),\n",
    "       classic_economic_gal_tan = case_when(\n",
    "gruppoP_recoded == 'DEM-U' & legislature == 13 & year == 1996 ~ -3.71,\n",
    "TRUE ~ classic_economic_gal_tan),\n",
    "       ratio_economic_gal_tan = case_when(\n",
    "gruppoP_recoded == 'DEM-U' & legislature == 13 & year == 1996 ~ -0.9160494,\n",
    "TRUE ~ ratio_economic_gal_tan),\n",
    "       logit_economic_gal_tan = case_when(\n",
    "gruppoP_recoded == 'DEM-U' & legislature == 13 & year == 1996 ~ -1.877526,\n",
    "TRUE ~ logit_economic_gal_tan))"
   ]
  },
  {
   "cell_type": "markdown",
   "id": "dc7701fa",
   "metadata": {},
   "source": [
    "Fill the null values in 1998"
   ]
  },
  {
   "cell_type": "code",
   "execution_count": 71,
   "id": "38494de9",
   "metadata": {},
   "outputs": [
    {
     "data": {
      "text/html": [
       "<table class=\"dataframe\">\n",
       "<caption>A grouped_df: 1 × 15</caption>\n",
       "<thead>\n",
       "\t<tr><th scope=col>Legislature_RECODED</th><th scope=col>PARTY_RECODED</th><th scope=col>Year</th><th scope=col>left_right</th><th scope=col>ratio_leftright</th><th scope=col>logit_left_right</th><th scope=col>classic_economic</th><th scope=col>ratio_economic</th><th scope=col>logit_economic</th><th scope=col>classic_gal_tan</th><th scope=col>ratio_gal_tan</th><th scope=col>logit_gal_tan</th><th scope=col>classic_economic_gal_tan</th><th scope=col>ratio_economic_gal_tan</th><th scope=col>logit_economic_gal_tan</th></tr>\n",
       "\t<tr><th scope=col>&lt;dbl&gt;</th><th scope=col>&lt;chr&gt;</th><th scope=col>&lt;int&gt;</th><th scope=col>&lt;dbl&gt;</th><th scope=col>&lt;dbl&gt;</th><th scope=col>&lt;dbl&gt;</th><th scope=col>&lt;dbl&gt;</th><th scope=col>&lt;dbl&gt;</th><th scope=col>&lt;dbl&gt;</th><th scope=col>&lt;dbl&gt;</th><th scope=col>&lt;dbl&gt;</th><th scope=col>&lt;dbl&gt;</th><th scope=col>&lt;dbl&gt;</th><th scope=col>&lt;dbl&gt;</th><th scope=col>&lt;dbl&gt;</th></tr>\n",
       "</thead>\n",
       "<tbody>\n",
       "\t<tr><td>13</td><td>PD-ULIVO-DS</td><td>1998</td><td>3.16</td><td>0.01986045</td><td>0.04337</td><td>-10.215</td><td>-0.6535243</td><td>-1.54235</td><td>-5.505</td><td>-1</td><td>-2.401466</td><td>-5.505</td><td>-1</td><td>-2.401466</td></tr>\n",
       "</tbody>\n",
       "</table>\n"
      ],
      "text/latex": [
       "A grouped\\_df: 1 × 15\n",
       "\\begin{tabular}{lllllllllllllll}\n",
       " Legislature\\_RECODED & PARTY\\_RECODED & Year & left\\_right & ratio\\_leftright & logit\\_left\\_right & classic\\_economic & ratio\\_economic & logit\\_economic & classic\\_gal\\_tan & ratio\\_gal\\_tan & logit\\_gal\\_tan & classic\\_economic\\_gal\\_tan & ratio\\_economic\\_gal\\_tan & logit\\_economic\\_gal\\_tan\\\\\n",
       " <dbl> & <chr> & <int> & <dbl> & <dbl> & <dbl> & <dbl> & <dbl> & <dbl> & <dbl> & <dbl> & <dbl> & <dbl> & <dbl> & <dbl>\\\\\n",
       "\\hline\n",
       "\t 13 & PD-ULIVO-DS & 1998 & 3.16 & 0.01986045 & 0.04337 & -10.215 & -0.6535243 & -1.54235 & -5.505 & -1 & -2.401466 & -5.505 & -1 & -2.401466\\\\\n",
       "\\end{tabular}\n"
      ],
      "text/markdown": [
       "\n",
       "A grouped_df: 1 × 15\n",
       "\n",
       "| Legislature_RECODED &lt;dbl&gt; | PARTY_RECODED &lt;chr&gt; | Year &lt;int&gt; | left_right &lt;dbl&gt; | ratio_leftright &lt;dbl&gt; | logit_left_right &lt;dbl&gt; | classic_economic &lt;dbl&gt; | ratio_economic &lt;dbl&gt; | logit_economic &lt;dbl&gt; | classic_gal_tan &lt;dbl&gt; | ratio_gal_tan &lt;dbl&gt; | logit_gal_tan &lt;dbl&gt; | classic_economic_gal_tan &lt;dbl&gt; | ratio_economic_gal_tan &lt;dbl&gt; | logit_economic_gal_tan &lt;dbl&gt; |\n",
       "|---|---|---|---|---|---|---|---|---|---|---|---|---|---|---|\n",
       "| 13 | PD-ULIVO-DS | 1998 | 3.16 | 0.01986045 | 0.04337 | -10.215 | -0.6535243 | -1.54235 | -5.505 | -1 | -2.401466 | -5.505 | -1 | -2.401466 |\n",
       "\n"
      ],
      "text/plain": [
       "  Legislature_RECODED PARTY_RECODED Year left_right ratio_leftright\n",
       "1 13                  PD-ULIVO-DS   1998 3.16       0.01986045     \n",
       "  logit_left_right classic_economic ratio_economic logit_economic\n",
       "1 0.04337          -10.215          -0.6535243     -1.54235      \n",
       "  classic_gal_tan ratio_gal_tan logit_gal_tan classic_economic_gal_tan\n",
       "1 -5.505          -1            -2.401466     -5.505                  \n",
       "  ratio_economic_gal_tan logit_economic_gal_tan\n",
       "1 -1                     -2.401466             "
      ]
     },
     "metadata": {},
     "output_type": "display_data"
    }
   ],
   "source": [
    "ilsd %>% \n",
    "filter(Legislature_RECODED == 13 & Year == 1998 & PARTY == 'DS') %>% \n",
    "select(Legislature_RECODED, PARTY_RECODED, Year, left_right, ratio_leftright, logit_left_right, classic_economic, \n",
    "       ratio_economic, logit_economic, classic_gal_tan, ratio_gal_tan, logit_gal_tan, classic_economic_gal_tan, \n",
    "       ratio_economic_gal_tan, logit_economic_gal_tan)"
   ]
  },
  {
   "cell_type": "code",
   "execution_count": 72,
   "id": "4bcdcdb5",
   "metadata": {},
   "outputs": [],
   "source": [
    "joined_texts <- joined_texts %>% \n",
    "mutate(left_right = case_when(\n",
    "gruppoP_recoded == 'DEM-U' & legislature == 13 & year == 1998 ~ 3.16,\n",
    "TRUE ~ left_right),\n",
    "      ratio_leftright = case_when(\n",
    "gruppoP_recoded == 'DEM-U' & legislature == 13 & year == 1998 ~ 0.01986045,\n",
    "TRUE ~ ratio_leftright),\n",
    "       logit_left_right = case_when(\n",
    "gruppoP_recoded == 'DEM-U' & legislature == 13 & year == 1998 ~ 0.04337,\n",
    "TRUE ~ logit_left_right),\n",
    "       classic_economic = case_when(\n",
    "gruppoP_recoded == 'DEM-U' & legislature == 13 & year == 1998 ~ -10.215,\n",
    "TRUE ~ classic_economic),\n",
    "       ratio_economic = case_when(\n",
    "gruppoP_recoded == 'DEM-U' & legislature == 13 & year == 1998 ~ -0.6535243,\n",
    "TRUE ~ ratio_economic),\n",
    "       logit_economic = case_when(\n",
    "gruppoP_recoded == 'DEM-U' & legislature == 13 & year == 1998 ~ -1.54235, \n",
    "TRUE ~ logit_economic),\n",
    "       classic_gal_tan = case_when(\n",
    "gruppoP_recoded == 'DEM-U' & legislature == 13 & year == 1998 ~ -5.505,\n",
    "TRUE ~ classic_gal_tan),\n",
    "       ratio_gal_tan = case_when(\n",
    "gruppoP_recoded == 'DEM-U' & legislature == 13 & year == 1998 ~ -1,\n",
    "TRUE ~ ratio_gal_tan),\n",
    "       logit_gal_tan = case_when(\n",
    "gruppoP_recoded == 'DEM-U' & legislature == 13 & year == 1998 ~ -2.401466,\n",
    "TRUE ~ logit_gal_tan),\n",
    "       classic_economic_gal_tan = case_when(\n",
    "gruppoP_recoded == 'DEM-U' & legislature == 13 & year == 1998 ~ -5.505,\n",
    "TRUE ~ classic_economic_gal_tan),\n",
    "       ratio_economic_gal_tan = case_when(\n",
    "gruppoP_recoded == 'DEM-U' & legislature == 13 & year == 1998 ~ -1,\n",
    "TRUE ~ ratio_economic_gal_tan),\n",
    "       logit_economic_gal_tan = case_when(\n",
    "gruppoP_recoded == 'DEM-U' & legislature == 13 & year == 1998 ~ -2.401466,\n",
    "TRUE ~ logit_economic_gal_tan))"
   ]
  },
  {
   "cell_type": "markdown",
   "id": "d7d4292d",
   "metadata": {},
   "source": [
    "## Sinistra Democratica Per il Socialismo Europeo (SDPSE)"
   ]
  },
  {
   "cell_type": "markdown",
   "id": "48bf730c",
   "metadata": {},
   "source": [
    "SDPSE was founded in 2007 by splinters from DS/ULIVO. The null values will be replaced with values from ULIVO."
   ]
  },
  {
   "cell_type": "code",
   "execution_count": 73,
   "id": "27e4b9ce",
   "metadata": {},
   "outputs": [
    {
     "data": {
      "text/html": [
       "<table class=\"dataframe\">\n",
       "<caption>A grouped_df: 1 × 15</caption>\n",
       "<thead>\n",
       "\t<tr><th scope=col>Legislature_RECODED</th><th scope=col>PARTY_RECODED</th><th scope=col>Year</th><th scope=col>left_right</th><th scope=col>ratio_leftright</th><th scope=col>logit_left_right</th><th scope=col>classic_economic</th><th scope=col>ratio_economic</th><th scope=col>logit_economic</th><th scope=col>classic_gal_tan</th><th scope=col>ratio_gal_tan</th><th scope=col>logit_gal_tan</th><th scope=col>classic_economic_gal_tan</th><th scope=col>ratio_economic_gal_tan</th><th scope=col>logit_economic_gal_tan</th></tr>\n",
       "\t<tr><th scope=col>&lt;dbl&gt;</th><th scope=col>&lt;chr&gt;</th><th scope=col>&lt;int&gt;</th><th scope=col>&lt;dbl&gt;</th><th scope=col>&lt;dbl&gt;</th><th scope=col>&lt;dbl&gt;</th><th scope=col>&lt;dbl&gt;</th><th scope=col>&lt;dbl&gt;</th><th scope=col>&lt;dbl&gt;</th><th scope=col>&lt;dbl&gt;</th><th scope=col>&lt;dbl&gt;</th><th scope=col>&lt;dbl&gt;</th><th scope=col>&lt;dbl&gt;</th><th scope=col>&lt;dbl&gt;</th><th scope=col>&lt;dbl&gt;</th></tr>\n",
       "</thead>\n",
       "<tbody>\n",
       "\t<tr><td>15</td><td>PD-ULIVO-DS</td><td>2006</td><td>-0.1900002</td><td>-0.005338584</td><td>-0.01038545</td><td>-7.3</td><td>-0.584</td><td>-1.210404</td><td>-11.81</td><td>-1</td><td>-3.203559</td><td>-11.81</td><td>-1</td><td>-3.203559</td></tr>\n",
       "</tbody>\n",
       "</table>\n"
      ],
      "text/latex": [
       "A grouped\\_df: 1 × 15\n",
       "\\begin{tabular}{lllllllllllllll}\n",
       " Legislature\\_RECODED & PARTY\\_RECODED & Year & left\\_right & ratio\\_leftright & logit\\_left\\_right & classic\\_economic & ratio\\_economic & logit\\_economic & classic\\_gal\\_tan & ratio\\_gal\\_tan & logit\\_gal\\_tan & classic\\_economic\\_gal\\_tan & ratio\\_economic\\_gal\\_tan & logit\\_economic\\_gal\\_tan\\\\\n",
       " <dbl> & <chr> & <int> & <dbl> & <dbl> & <dbl> & <dbl> & <dbl> & <dbl> & <dbl> & <dbl> & <dbl> & <dbl> & <dbl> & <dbl>\\\\\n",
       "\\hline\n",
       "\t 15 & PD-ULIVO-DS & 2006 & -0.1900002 & -0.005338584 & -0.01038545 & -7.3 & -0.584 & -1.210404 & -11.81 & -1 & -3.203559 & -11.81 & -1 & -3.203559\\\\\n",
       "\\end{tabular}\n"
      ],
      "text/markdown": [
       "\n",
       "A grouped_df: 1 × 15\n",
       "\n",
       "| Legislature_RECODED &lt;dbl&gt; | PARTY_RECODED &lt;chr&gt; | Year &lt;int&gt; | left_right &lt;dbl&gt; | ratio_leftright &lt;dbl&gt; | logit_left_right &lt;dbl&gt; | classic_economic &lt;dbl&gt; | ratio_economic &lt;dbl&gt; | logit_economic &lt;dbl&gt; | classic_gal_tan &lt;dbl&gt; | ratio_gal_tan &lt;dbl&gt; | logit_gal_tan &lt;dbl&gt; | classic_economic_gal_tan &lt;dbl&gt; | ratio_economic_gal_tan &lt;dbl&gt; | logit_economic_gal_tan &lt;dbl&gt; |\n",
       "|---|---|---|---|---|---|---|---|---|---|---|---|---|---|---|\n",
       "| 15 | PD-ULIVO-DS | 2006 | -0.1900002 | -0.005338584 | -0.01038545 | -7.3 | -0.584 | -1.210404 | -11.81 | -1 | -3.203559 | -11.81 | -1 | -3.203559 |\n",
       "\n"
      ],
      "text/plain": [
       "  Legislature_RECODED PARTY_RECODED Year left_right ratio_leftright\n",
       "1 15                  PD-ULIVO-DS   2006 -0.1900002 -0.005338584   \n",
       "  logit_left_right classic_economic ratio_economic logit_economic\n",
       "1 -0.01038545      -7.3             -0.584         -1.210404     \n",
       "  classic_gal_tan ratio_gal_tan logit_gal_tan classic_economic_gal_tan\n",
       "1 -11.81          -1            -3.203559     -11.81                  \n",
       "  ratio_economic_gal_tan logit_economic_gal_tan\n",
       "1 -1                     -3.203559             "
      ]
     },
     "metadata": {},
     "output_type": "display_data"
    }
   ],
   "source": [
    "ilsd %>% \n",
    "filter(Legislature_RECODED == 15 & Year == 2006 & PARTY == \"ULIVO\") %>% \n",
    "select(Legislature_RECODED, PARTY_RECODED, Year, left_right, ratio_leftright, logit_left_right, classic_economic, \n",
    "       ratio_economic, logit_economic, classic_gal_tan, ratio_gal_tan, logit_gal_tan, classic_economic_gal_tan, \n",
    "       ratio_economic_gal_tan, logit_economic_gal_tan)"
   ]
  },
  {
   "cell_type": "code",
   "execution_count": 74,
   "id": "afe84a84",
   "metadata": {},
   "outputs": [],
   "source": [
    "joined_texts <- joined_texts %>% \n",
    "mutate(left_right = case_when(\n",
    "gruppoP_recoded == 'SDPSE' & legislature == 15 & year == 2006 ~ -0.1900002,\n",
    "TRUE ~ left_right),\n",
    "      ratio_leftright = case_when(\n",
    "gruppoP_recoded == 'SDPSE' & legislature == 15 & year == 2006 ~ -0.005338584,\n",
    "TRUE ~ ratio_leftright),\n",
    "       logit_left_right = case_when(\n",
    "gruppoP_recoded == 'SDPSE' & legislature == 15 & year == 2006 ~ -0.01038545,\n",
    "TRUE ~ logit_left_right),\n",
    "       classic_economic = case_when(\n",
    "gruppoP_recoded == 'SDPSE' & legislature == 15 & year == 2006 ~ -7.3,\n",
    "TRUE ~ classic_economic),\n",
    "       ratio_economic = case_when(\n",
    "gruppoP_recoded == 'SDPSE' & legislature == 15 & year == 2006 ~ -0.584,\n",
    "TRUE ~ ratio_economic),\n",
    "       logit_economic = case_when(\n",
    "gruppoP_recoded == 'SDPSE' & legislature == 15 & year == 2006 ~ -1.210404, \n",
    "TRUE ~ logit_economic),\n",
    "       classic_gal_tan = case_when(\n",
    "gruppoP_recoded == 'SDPSE' & legislature == 15 & year == 2006 ~ -11.81,\n",
    "TRUE ~ classic_gal_tan),\n",
    "       ratio_gal_tan = case_when(\n",
    "gruppoP_recoded == 'SDPSE' & legislature == 15 & year == 2006 ~ -1,\n",
    "TRUE ~ ratio_gal_tan),\n",
    "       logit_gal_tan = case_when(\n",
    "gruppoP_recoded == 'SDPSE' & legislature == 15 & year == 2006 ~ -3.203559,\n",
    "TRUE ~ logit_gal_tan),\n",
    "       classic_economic_gal_tan = case_when(\n",
    "gruppoP_recoded == 'SDPSE' & legislature == 15 & year == 2006 ~ -11.81,\n",
    "TRUE ~ classic_economic_gal_tan),\n",
    "       ratio_economic_gal_tan = case_when(\n",
    "gruppoP_recoded == 'SDPSE' & legislature == 15 & year == 2006 ~ -1,\n",
    "TRUE ~ ratio_economic_gal_tan),\n",
    "       logit_economic_gal_tan = case_when(\n",
    "gruppoP_recoded == 'SDPSE' & legislature == 15 & year == 2006 ~ -3.203559,\n",
    "TRUE ~ logit_economic_gal_tan))"
   ]
  },
  {
   "cell_type": "markdown",
   "id": "bb6bb5f5",
   "metadata": {},
   "source": [
    "## Democrazia Cristiana Per le Autonomie- Nuovo PSI (DCA-NPSI)"
   ]
  },
  {
   "cell_type": "markdown",
   "id": "6d205e51",
   "metadata": {},
   "source": [
    "Originally affiliated with UDC. "
   ]
  },
  {
   "cell_type": "code",
   "execution_count": 95,
   "id": "99888a69",
   "metadata": {},
   "outputs": [
    {
     "data": {
      "text/html": [
       "<table class=\"dataframe\">\n",
       "<caption>A grouped_df: 2 × 15</caption>\n",
       "<thead>\n",
       "\t<tr><th scope=col>Legislature_RECODED</th><th scope=col>PARTY_RECODED</th><th scope=col>Year</th><th scope=col>left_right</th><th scope=col>ratio_leftright</th><th scope=col>logit_left_right</th><th scope=col>classic_economic</th><th scope=col>ratio_economic</th><th scope=col>logit_economic</th><th scope=col>classic_gal_tan</th><th scope=col>ratio_gal_tan</th><th scope=col>logit_gal_tan</th><th scope=col>classic_economic_gal_tan</th><th scope=col>ratio_economic_gal_tan</th><th scope=col>logit_economic_gal_tan</th></tr>\n",
       "\t<tr><th scope=col>&lt;dbl&gt;</th><th scope=col>&lt;chr&gt;</th><th scope=col>&lt;int&gt;</th><th scope=col>&lt;dbl&gt;</th><th scope=col>&lt;dbl&gt;</th><th scope=col>&lt;dbl&gt;</th><th scope=col>&lt;dbl&gt;</th><th scope=col>&lt;dbl&gt;</th><th scope=col>&lt;dbl&gt;</th><th scope=col>&lt;dbl&gt;</th><th scope=col>&lt;dbl&gt;</th><th scope=col>&lt;dbl&gt;</th><th scope=col>&lt;dbl&gt;</th><th scope=col>&lt;dbl&gt;</th><th scope=col>&lt;dbl&gt;</th></tr>\n",
       "</thead>\n",
       "<tbody>\n",
       "\t<tr><td>15</td><td>UDC</td><td>2006</td><td>16.48</td><td>0.4993939</td><td>1.058234</td><td>0.3099999</td><td>0.01993569</td><td>0.03746661</td><td>4.45</td><td>0.7793345</td><td>1.596971</td><td>4.45</td><td>0.7793345</td><td>1.596971</td></tr>\n",
       "\t<tr><td>15</td><td>UDC</td><td>2008</td><td>13.78</td><td>1.0000000</td><td>3.352007</td><td>1.7200000</td><td>1.00000000</td><td>1.49065439</td><td>0.00</td><td>      NaN</td><td>0.000000</td><td>0.00</td><td>      NaN</td><td>0.000000</td></tr>\n",
       "</tbody>\n",
       "</table>\n"
      ],
      "text/latex": [
       "A grouped\\_df: 2 × 15\n",
       "\\begin{tabular}{lllllllllllllll}\n",
       " Legislature\\_RECODED & PARTY\\_RECODED & Year & left\\_right & ratio\\_leftright & logit\\_left\\_right & classic\\_economic & ratio\\_economic & logit\\_economic & classic\\_gal\\_tan & ratio\\_gal\\_tan & logit\\_gal\\_tan & classic\\_economic\\_gal\\_tan & ratio\\_economic\\_gal\\_tan & logit\\_economic\\_gal\\_tan\\\\\n",
       " <dbl> & <chr> & <int> & <dbl> & <dbl> & <dbl> & <dbl> & <dbl> & <dbl> & <dbl> & <dbl> & <dbl> & <dbl> & <dbl> & <dbl>\\\\\n",
       "\\hline\n",
       "\t 15 & UDC & 2006 & 16.48 & 0.4993939 & 1.058234 & 0.3099999 & 0.01993569 & 0.03746661 & 4.45 & 0.7793345 & 1.596971 & 4.45 & 0.7793345 & 1.596971\\\\\n",
       "\t 15 & UDC & 2008 & 13.78 & 1.0000000 & 3.352007 & 1.7200000 & 1.00000000 & 1.49065439 & 0.00 &       NaN & 0.000000 & 0.00 &       NaN & 0.000000\\\\\n",
       "\\end{tabular}\n"
      ],
      "text/markdown": [
       "\n",
       "A grouped_df: 2 × 15\n",
       "\n",
       "| Legislature_RECODED &lt;dbl&gt; | PARTY_RECODED &lt;chr&gt; | Year &lt;int&gt; | left_right &lt;dbl&gt; | ratio_leftright &lt;dbl&gt; | logit_left_right &lt;dbl&gt; | classic_economic &lt;dbl&gt; | ratio_economic &lt;dbl&gt; | logit_economic &lt;dbl&gt; | classic_gal_tan &lt;dbl&gt; | ratio_gal_tan &lt;dbl&gt; | logit_gal_tan &lt;dbl&gt; | classic_economic_gal_tan &lt;dbl&gt; | ratio_economic_gal_tan &lt;dbl&gt; | logit_economic_gal_tan &lt;dbl&gt; |\n",
       "|---|---|---|---|---|---|---|---|---|---|---|---|---|---|---|\n",
       "| 15 | UDC | 2006 | 16.48 | 0.4993939 | 1.058234 | 0.3099999 | 0.01993569 | 0.03746661 | 4.45 | 0.7793345 | 1.596971 | 4.45 | 0.7793345 | 1.596971 |\n",
       "| 15 | UDC | 2008 | 13.78 | 1.0000000 | 3.352007 | 1.7200000 | 1.00000000 | 1.49065439 | 0.00 |       NaN | 0.000000 | 0.00 |       NaN | 0.000000 |\n",
       "\n"
      ],
      "text/plain": [
       "  Legislature_RECODED PARTY_RECODED Year left_right ratio_leftright\n",
       "1 15                  UDC           2006 16.48      0.4993939      \n",
       "2 15                  UDC           2008 13.78      1.0000000      \n",
       "  logit_left_right classic_economic ratio_economic logit_economic\n",
       "1 1.058234         0.3099999        0.01993569     0.03746661    \n",
       "2 3.352007         1.7200000        1.00000000     1.49065439    \n",
       "  classic_gal_tan ratio_gal_tan logit_gal_tan classic_economic_gal_tan\n",
       "1 4.45            0.7793345     1.596971      4.45                    \n",
       "2 0.00                  NaN     0.000000      0.00                    \n",
       "  ratio_economic_gal_tan logit_economic_gal_tan\n",
       "1 0.7793345              1.596971              \n",
       "2       NaN              0.000000              "
      ]
     },
     "metadata": {},
     "output_type": "display_data"
    }
   ],
   "source": [
    "ilsd %>% \n",
    "filter(Legislature_RECODED == 15 & PARTY == \"UDC\") %>% \n",
    "select(Legislature_RECODED, PARTY_RECODED, Year, left_right, ratio_leftright, logit_left_right, classic_economic, \n",
    "       ratio_economic, logit_economic, classic_gal_tan, ratio_gal_tan, logit_gal_tan, classic_economic_gal_tan, \n",
    "       ratio_economic_gal_tan, logit_economic_gal_tan)"
   ]
  },
  {
   "cell_type": "code",
   "execution_count": 96,
   "id": "794b6f65",
   "metadata": {},
   "outputs": [],
   "source": [
    "joined_texts <- joined_texts %>% \n",
    "mutate(left_right = case_when(\n",
    "gruppoP_recoded == \"DCA-NPSI\" & legislature == 15 & year == 2006 ~ 16.48,\n",
    "gruppoP_recoded == \"DCA-NPSI\" & legislature == 15 & year == 2008 ~ 13.78,\n",
    "TRUE ~ left_right),\n",
    "      ratio_leftright = case_when(\n",
    "gruppoP_recoded == \"DCA-NPSI\" & legislature == 15 & year == 2006 ~ 0.4993939,\n",
    "gruppoP_recoded == \"DCA-NPSI\" & legislature == 15 & year == 2008 ~ 1.0000000,\n",
    "TRUE ~ ratio_leftright),\n",
    "       logit_left_right = case_when(\n",
    "gruppoP_recoded == \"DCA-NPSI\" & legislature == 15 & year == 2006 ~ 1.058234,\n",
    "gruppoP_recoded == \"DCA-NPSI\" & legislature == 15 & year == 2008 ~ 3.352007,\n",
    "TRUE ~ logit_left_right),\n",
    "       classic_economic = case_when(\n",
    "gruppoP_recoded == \"DCA-NPSI\" & legislature == 15 & year == 2006 ~ 0.3099999,\n",
    "gruppoP_recoded == \"DCA-NPSI\" & legislature == 15 & year == 2008 ~ 1.7200000,\n",
    "TRUE ~ classic_economic),\n",
    "       ratio_economic = case_when(\n",
    "gruppoP_recoded == \"DCA-NPSI\" & legislature == 15 & year == 2006 ~ 0.01993569,\n",
    "gruppoP_recoded == \"DCA-NPSI\" & legislature == 15 & year == 2008 ~ 1.00000000,\n",
    "TRUE ~ ratio_economic),\n",
    "       logit_economic = case_when(\n",
    "gruppoP_recoded == \"DCA-NPSI\" & legislature == 15 & year == 2006 ~ 0.03746661, \n",
    "gruppoP_recoded == \"DCA-NPSI\" & legislature == 15 & year == 2008 ~ 1.49065439,\n",
    "TRUE ~ logit_economic),\n",
    "       classic_gal_tan = case_when(\n",
    "gruppoP_recoded == \"DCA-NPSI\" & legislature == 15 & year == 2006 ~ 4.45,\n",
    "gruppoP_recoded == \"DCA-NPSI\" & legislature == 15 & year == 2008 ~ 0.00,\n",
    "TRUE ~ classic_gal_tan),\n",
    "       ratio_gal_tan = case_when(\n",
    "gruppoP_recoded == \"DCA-NPSI\" & legislature == 15 & year == 2006 ~ 0.7793345,\n",
    "TRUE ~ ratio_gal_tan),\n",
    "       logit_gal_tan = case_when(\n",
    "gruppoP_recoded == \"DCA-NPSI\" & legislature == 15 & year == 2006 ~ 1.596971,\n",
    "gruppoP_recoded == \"DCA-NPSI\" & legislature == 15 & year == 2008 ~ 0.000000,\n",
    "TRUE ~ logit_gal_tan),\n",
    "       classic_economic_gal_tan = case_when(\n",
    "gruppoP_recoded == \"DCA-NPSI\" & legislature == 15 & year == 2006 ~ 4.45,\n",
    "gruppoP_recoded == \"DCA-NPSI\" & legislature == 15 & year == 2008 ~ 0.00,\n",
    "TRUE ~ classic_economic_gal_tan),\n",
    "       ratio_economic_gal_tan = case_when(\n",
    "gruppoP_recoded == \"DCA-NPSI\" & legislature == 15 & year == 2006 ~ 0.7793345,\n",
    "TRUE ~ ratio_economic_gal_tan),\n",
    "       logit_economic_gal_tan = case_when(\n",
    "gruppoP_recoded == \"DCA-NPSI\" & legislature == 15 & year == 2006 ~ 1.596971,\n",
    "gruppoP_recoded == \"DCA-NPSI\" & legislature == 15 & year == 2008 ~ 0.000000,\n",
    "TRUE ~ logit_economic_gal_tan))"
   ]
  },
  {
   "cell_type": "markdown",
   "id": "2356367e",
   "metadata": {},
   "source": [
    "## Futuro e Libertà Per il Terzo Polo (FLPTP)"
   ]
  },
  {
   "cell_type": "markdown",
   "id": "aae96a2b",
   "metadata": {},
   "source": [
    "It was founded in 2010 by a split from Popolo delle Libertà"
   ]
  },
  {
   "cell_type": "code",
   "execution_count": 77,
   "id": "01693584",
   "metadata": {},
   "outputs": [
    {
     "data": {
      "text/html": [
       "<table class=\"dataframe\">\n",
       "<caption>A grouped_df: 1 × 15</caption>\n",
       "<thead>\n",
       "\t<tr><th scope=col>Legislature_RECODED</th><th scope=col>PARTY_RECODED</th><th scope=col>Year</th><th scope=col>left_right</th><th scope=col>ratio_leftright</th><th scope=col>logit_left_right</th><th scope=col>classic_economic</th><th scope=col>ratio_economic</th><th scope=col>logit_economic</th><th scope=col>classic_gal_tan</th><th scope=col>ratio_gal_tan</th><th scope=col>logit_gal_tan</th><th scope=col>classic_economic_gal_tan</th><th scope=col>ratio_economic_gal_tan</th><th scope=col>logit_economic_gal_tan</th></tr>\n",
       "\t<tr><th scope=col>&lt;dbl&gt;</th><th scope=col>&lt;chr&gt;</th><th scope=col>&lt;int&gt;</th><th scope=col>&lt;dbl&gt;</th><th scope=col>&lt;dbl&gt;</th><th scope=col>&lt;dbl&gt;</th><th scope=col>&lt;dbl&gt;</th><th scope=col>&lt;dbl&gt;</th><th scope=col>&lt;dbl&gt;</th><th scope=col>&lt;dbl&gt;</th><th scope=col>&lt;dbl&gt;</th><th scope=col>&lt;dbl&gt;</th><th scope=col>&lt;dbl&gt;</th><th scope=col>&lt;dbl&gt;</th><th scope=col>&lt;dbl&gt;</th></tr>\n",
       "</thead>\n",
       "<tbody>\n",
       "\t<tr><td>16</td><td>FI-PDL</td><td>2008</td><td>21.74</td><td>0.5872501</td><td>1.300399</td><td>8.46</td><td>0.7513321</td><td>1.696098</td><td>-1.82</td><td>-0.5321637</td><td>-0.8754687</td><td>-1.82</td><td>-0.5321637</td><td>-0.8754687</td></tr>\n",
       "</tbody>\n",
       "</table>\n"
      ],
      "text/latex": [
       "A grouped\\_df: 1 × 15\n",
       "\\begin{tabular}{lllllllllllllll}\n",
       " Legislature\\_RECODED & PARTY\\_RECODED & Year & left\\_right & ratio\\_leftright & logit\\_left\\_right & classic\\_economic & ratio\\_economic & logit\\_economic & classic\\_gal\\_tan & ratio\\_gal\\_tan & logit\\_gal\\_tan & classic\\_economic\\_gal\\_tan & ratio\\_economic\\_gal\\_tan & logit\\_economic\\_gal\\_tan\\\\\n",
       " <dbl> & <chr> & <int> & <dbl> & <dbl> & <dbl> & <dbl> & <dbl> & <dbl> & <dbl> & <dbl> & <dbl> & <dbl> & <dbl> & <dbl>\\\\\n",
       "\\hline\n",
       "\t 16 & FI-PDL & 2008 & 21.74 & 0.5872501 & 1.300399 & 8.46 & 0.7513321 & 1.696098 & -1.82 & -0.5321637 & -0.8754687 & -1.82 & -0.5321637 & -0.8754687\\\\\n",
       "\\end{tabular}\n"
      ],
      "text/markdown": [
       "\n",
       "A grouped_df: 1 × 15\n",
       "\n",
       "| Legislature_RECODED &lt;dbl&gt; | PARTY_RECODED &lt;chr&gt; | Year &lt;int&gt; | left_right &lt;dbl&gt; | ratio_leftright &lt;dbl&gt; | logit_left_right &lt;dbl&gt; | classic_economic &lt;dbl&gt; | ratio_economic &lt;dbl&gt; | logit_economic &lt;dbl&gt; | classic_gal_tan &lt;dbl&gt; | ratio_gal_tan &lt;dbl&gt; | logit_gal_tan &lt;dbl&gt; | classic_economic_gal_tan &lt;dbl&gt; | ratio_economic_gal_tan &lt;dbl&gt; | logit_economic_gal_tan &lt;dbl&gt; |\n",
       "|---|---|---|---|---|---|---|---|---|---|---|---|---|---|---|\n",
       "| 16 | FI-PDL | 2008 | 21.74 | 0.5872501 | 1.300399 | 8.46 | 0.7513321 | 1.696098 | -1.82 | -0.5321637 | -0.8754687 | -1.82 | -0.5321637 | -0.8754687 |\n",
       "\n"
      ],
      "text/plain": [
       "  Legislature_RECODED PARTY_RECODED Year left_right ratio_leftright\n",
       "1 16                  FI-PDL        2008 21.74      0.5872501      \n",
       "  logit_left_right classic_economic ratio_economic logit_economic\n",
       "1 1.300399         8.46             0.7513321      1.696098      \n",
       "  classic_gal_tan ratio_gal_tan logit_gal_tan classic_economic_gal_tan\n",
       "1 -1.82           -0.5321637    -0.8754687    -1.82                   \n",
       "  ratio_economic_gal_tan logit_economic_gal_tan\n",
       "1 -0.5321637             -0.8754687            "
      ]
     },
     "metadata": {},
     "output_type": "display_data"
    }
   ],
   "source": [
    "ilsd %>% \n",
    "filter(Legislature_RECODED == 16 & Year == 2008 & PARTY_RECODED == \"FI-PDL\") %>% \n",
    "select(Legislature_RECODED, PARTY_RECODED, Year, left_right, ratio_leftright, logit_left_right, classic_economic, \n",
    "       ratio_economic, logit_economic, classic_gal_tan, ratio_gal_tan, logit_gal_tan, classic_economic_gal_tan, \n",
    "       ratio_economic_gal_tan, logit_economic_gal_tan)"
   ]
  },
  {
   "cell_type": "code",
   "execution_count": 78,
   "id": "1d3e64c2",
   "metadata": {},
   "outputs": [],
   "source": [
    "joined_texts <- joined_texts %>% \n",
    "mutate(left_right = case_when(\n",
    "gruppoP_recoded == 'FLPTP' & legislature == 16 & year == 2008 ~ 21.74,\n",
    "TRUE ~ left_right),\n",
    "      ratio_leftright = case_when(\n",
    "gruppoP_recoded == 'FLPTP' & legislature == 16 & year == 2008 ~ 0.5872501,\n",
    "TRUE ~ ratio_leftright),\n",
    "       logit_left_right = case_when(\n",
    "gruppoP_recoded == 'FLPTP' & legislature == 16 & year == 2008 ~ 1.300399,\n",
    "TRUE ~ logit_left_right),\n",
    "       classic_economic = case_when(\n",
    "gruppoP_recoded == 'FLPTP' & legislature == 16 & year == 2008 ~ 8.46,\n",
    "TRUE ~ classic_economic),\n",
    "       ratio_economic = case_when(\n",
    "gruppoP_recoded == 'FLPTP' & legislature == 16 & year == 2008 ~ 0.7513321,\n",
    "TRUE ~ ratio_economic),\n",
    "       logit_economic = case_when(\n",
    "gruppoP_recoded == 'FLPTP' & legislature == 16 & year == 2008 ~ 1.696098, \n",
    "TRUE ~ logit_economic),\n",
    "       classic_gal_tan = case_when(\n",
    "gruppoP_recoded == 'FLPTP' & legislature == 16 & year == 2008 ~ -1.82,\n",
    "TRUE ~ classic_gal_tan),\n",
    "       ratio_gal_tan = case_when(\n",
    "gruppoP_recoded == 'FLPTP' & legislature == 16 & year == 2008 ~ -0.5321637,\n",
    "TRUE ~ ratio_gal_tan),\n",
    "       logit_gal_tan = case_when(\n",
    "gruppoP_recoded == 'FLPTP' & legislature == 16 & year == 2008 ~ -0.8754687,\n",
    "TRUE ~ logit_gal_tan),\n",
    "       classic_economic_gal_tan = case_when(\n",
    "gruppoP_recoded == 'FLPTP' & legislature == 16 & year == 2008 ~ -1.82,\n",
    "TRUE ~ classic_economic_gal_tan),\n",
    "       ratio_economic_gal_tan = case_when(\n",
    "gruppoP_recoded == 'FLPTP' & legislature == 16 & year == 2008 ~ -0.5321637,\n",
    "TRUE ~ ratio_economic_gal_tan),\n",
    "       logit_economic_gal_tan = case_when(\n",
    "gruppoP_recoded == 'FLPTP' & legislature == 16 & year == 2008 ~ -0.8754687,\n",
    "TRUE ~ logit_economic_gal_tan))"
   ]
  },
  {
   "cell_type": "markdown",
   "id": "cc864120",
   "metadata": {},
   "source": [
    "## NOI SUD-LIBERTA' ED AUTONOMIA/POPOLARI D'ITALIA DOMANI-PID/MOVIMENTO DI RESPONSABILITA' NAZIONALE-MRN/AZIONE POPOLARE/ALLEANZA DI CENTRO-ADC/INTESA POPOLARE\t"
   ]
  },
  {
   "cell_type": "markdown",
   "id": "0a6e5494",
   "metadata": {},
   "source": [
    "It was founded in 2010 by a split from Movimento per le auotonomie. The null values in 2008 will be replaced with the values from MPA"
   ]
  },
  {
   "cell_type": "code",
   "execution_count": 79,
   "id": "5834b812",
   "metadata": {},
   "outputs": [
    {
     "data": {
      "text/html": [
       "<table class=\"dataframe\">\n",
       "<caption>A grouped_df: 1 × 15</caption>\n",
       "<thead>\n",
       "\t<tr><th scope=col>Legislature_RECODED</th><th scope=col>PARTY_RECODED</th><th scope=col>Year</th><th scope=col>left_right</th><th scope=col>ratio_leftright</th><th scope=col>logit_left_right</th><th scope=col>classic_economic</th><th scope=col>ratio_economic</th><th scope=col>logit_economic</th><th scope=col>classic_gal_tan</th><th scope=col>ratio_gal_tan</th><th scope=col>logit_gal_tan</th><th scope=col>classic_economic_gal_tan</th><th scope=col>ratio_economic_gal_tan</th><th scope=col>logit_economic_gal_tan</th></tr>\n",
       "\t<tr><th scope=col>&lt;dbl&gt;</th><th scope=col>&lt;chr&gt;</th><th scope=col>&lt;int&gt;</th><th scope=col>&lt;dbl&gt;</th><th scope=col>&lt;dbl&gt;</th><th scope=col>&lt;dbl&gt;</th><th scope=col>&lt;dbl&gt;</th><th scope=col>&lt;dbl&gt;</th><th scope=col>&lt;dbl&gt;</th><th scope=col>&lt;dbl&gt;</th><th scope=col>&lt;dbl&gt;</th><th scope=col>&lt;dbl&gt;</th><th scope=col>&lt;dbl&gt;</th><th scope=col>&lt;dbl&gt;</th><th scope=col>&lt;dbl&gt;</th></tr>\n",
       "</thead>\n",
       "<tbody>\n",
       "\t<tr><td>16</td><td>MPA</td><td>2008</td><td>7.76</td><td>0.2827988</td><td>0.5598921</td><td>1.42</td><td>0.07759564</td><td>0.1474167</td><td>-2.81</td><td>-1</td><td>-1.890095</td><td>-2.81</td><td>-1</td><td>-1.890095</td></tr>\n",
       "</tbody>\n",
       "</table>\n"
      ],
      "text/latex": [
       "A grouped\\_df: 1 × 15\n",
       "\\begin{tabular}{lllllllllllllll}\n",
       " Legislature\\_RECODED & PARTY\\_RECODED & Year & left\\_right & ratio\\_leftright & logit\\_left\\_right & classic\\_economic & ratio\\_economic & logit\\_economic & classic\\_gal\\_tan & ratio\\_gal\\_tan & logit\\_gal\\_tan & classic\\_economic\\_gal\\_tan & ratio\\_economic\\_gal\\_tan & logit\\_economic\\_gal\\_tan\\\\\n",
       " <dbl> & <chr> & <int> & <dbl> & <dbl> & <dbl> & <dbl> & <dbl> & <dbl> & <dbl> & <dbl> & <dbl> & <dbl> & <dbl> & <dbl>\\\\\n",
       "\\hline\n",
       "\t 16 & MPA & 2008 & 7.76 & 0.2827988 & 0.5598921 & 1.42 & 0.07759564 & 0.1474167 & -2.81 & -1 & -1.890095 & -2.81 & -1 & -1.890095\\\\\n",
       "\\end{tabular}\n"
      ],
      "text/markdown": [
       "\n",
       "A grouped_df: 1 × 15\n",
       "\n",
       "| Legislature_RECODED &lt;dbl&gt; | PARTY_RECODED &lt;chr&gt; | Year &lt;int&gt; | left_right &lt;dbl&gt; | ratio_leftright &lt;dbl&gt; | logit_left_right &lt;dbl&gt; | classic_economic &lt;dbl&gt; | ratio_economic &lt;dbl&gt; | logit_economic &lt;dbl&gt; | classic_gal_tan &lt;dbl&gt; | ratio_gal_tan &lt;dbl&gt; | logit_gal_tan &lt;dbl&gt; | classic_economic_gal_tan &lt;dbl&gt; | ratio_economic_gal_tan &lt;dbl&gt; | logit_economic_gal_tan &lt;dbl&gt; |\n",
       "|---|---|---|---|---|---|---|---|---|---|---|---|---|---|---|\n",
       "| 16 | MPA | 2008 | 7.76 | 0.2827988 | 0.5598921 | 1.42 | 0.07759564 | 0.1474167 | -2.81 | -1 | -1.890095 | -2.81 | -1 | -1.890095 |\n",
       "\n"
      ],
      "text/plain": [
       "  Legislature_RECODED PARTY_RECODED Year left_right ratio_leftright\n",
       "1 16                  MPA           2008 7.76       0.2827988      \n",
       "  logit_left_right classic_economic ratio_economic logit_economic\n",
       "1 0.5598921        1.42             0.07759564     0.1474167     \n",
       "  classic_gal_tan ratio_gal_tan logit_gal_tan classic_economic_gal_tan\n",
       "1 -2.81           -1            -1.890095     -2.81                   \n",
       "  ratio_economic_gal_tan logit_economic_gal_tan\n",
       "1 -1                     -1.890095             "
      ]
     },
     "metadata": {},
     "output_type": "display_data"
    }
   ],
   "source": [
    "ilsd %>% \n",
    "filter(Legislature_RECODED == 16 & Year == 2008 & PARTY == \"MPA\") %>% \n",
    "select(Legislature_RECODED, PARTY_RECODED, Year, left_right, ratio_leftright, logit_left_right, classic_economic, \n",
    "       ratio_economic, logit_economic, classic_gal_tan, ratio_gal_tan, logit_gal_tan, classic_economic_gal_tan, \n",
    "       ratio_economic_gal_tan, logit_economic_gal_tan)"
   ]
  },
  {
   "cell_type": "code",
   "execution_count": 80,
   "id": "424565a5",
   "metadata": {},
   "outputs": [],
   "source": [
    "joined_texts <- joined_texts %>% \n",
    "mutate(left_right = case_when(\n",
    "gruppoP_recoded == \"NOI SUD-LIBERTA' ED AUTONOMIA/POPOLARI D'ITALIA DOMANI-PID/MOVIMENTO DI RESPONSABILITA' NAZIONALE-MRN/AZIONE POPOLARE/ALLEANZA DI CENTRO-ADC/INTESA POPOLARE\" & legislature == 16 & year == 2008 ~ 7.76,\n",
    "TRUE ~ left_right),\n",
    "      ratio_leftright = case_when(\n",
    "gruppoP_recoded == \"NOI SUD-LIBERTA' ED AUTONOMIA/POPOLARI D'ITALIA DOMANI-PID/MOVIMENTO DI RESPONSABILITA' NAZIONALE-MRN/AZIONE POPOLARE/ALLEANZA DI CENTRO-ADC/INTESA POPOLARE\" & legislature == 16 & year == 2008 ~ 0.2827988,\n",
    "TRUE ~ ratio_leftright),\n",
    "       logit_left_right = case_when(\n",
    "gruppoP_recoded == \"NOI SUD-LIBERTA' ED AUTONOMIA/POPOLARI D'ITALIA DOMANI-PID/MOVIMENTO DI RESPONSABILITA' NAZIONALE-MRN/AZIONE POPOLARE/ALLEANZA DI CENTRO-ADC/INTESA POPOLARE\" & legislature == 16 & year == 2008 ~ 0.5598921,\n",
    "TRUE ~ logit_left_right),\n",
    "       classic_economic = case_when(\n",
    "gruppoP_recoded == \"NOI SUD-LIBERTA' ED AUTONOMIA/POPOLARI D'ITALIA DOMANI-PID/MOVIMENTO DI RESPONSABILITA' NAZIONALE-MRN/AZIONE POPOLARE/ALLEANZA DI CENTRO-ADC/INTESA POPOLARE\" & legislature == 16 & year == 2008 ~ 1.42,\n",
    "TRUE ~ classic_economic),\n",
    "       ratio_economic = case_when(\n",
    "gruppoP_recoded == \"NOI SUD-LIBERTA' ED AUTONOMIA/POPOLARI D'ITALIA DOMANI-PID/MOVIMENTO DI RESPONSABILITA' NAZIONALE-MRN/AZIONE POPOLARE/ALLEANZA DI CENTRO-ADC/INTESA POPOLARE\" & legislature == 16 & year == 2008 ~ 0.07759564,\n",
    "TRUE ~ ratio_economic),\n",
    "       logit_economic = case_when(\n",
    "gruppoP_recoded == \"NOI SUD-LIBERTA' ED AUTONOMIA/POPOLARI D'ITALIA DOMANI-PID/MOVIMENTO DI RESPONSABILITA' NAZIONALE-MRN/AZIONE POPOLARE/ALLEANZA DI CENTRO-ADC/INTESA POPOLARE\" & legislature == 16 & year == 2008 ~ 0.1474167, \n",
    "TRUE ~ logit_economic),\n",
    "       classic_gal_tan = case_when(\n",
    "gruppoP_recoded == \"NOI SUD-LIBERTA' ED AUTONOMIA/POPOLARI D'ITALIA DOMANI-PID/MOVIMENTO DI RESPONSABILITA' NAZIONALE-MRN/AZIONE POPOLARE/ALLEANZA DI CENTRO-ADC/INTESA POPOLARE\" & legislature == 16 & year == 2008 ~ -2.81,\n",
    "TRUE ~ classic_gal_tan),\n",
    "       ratio_gal_tan = case_when(\n",
    "gruppoP_recoded == \"NOI SUD-LIBERTA' ED AUTONOMIA/POPOLARI D'ITALIA DOMANI-PID/MOVIMENTO DI RESPONSABILITA' NAZIONALE-MRN/AZIONE POPOLARE/ALLEANZA DI CENTRO-ADC/INTESA POPOLARE\" & legislature == 16 & year == 2008 ~ -1,\n",
    "TRUE ~ ratio_gal_tan),\n",
    "       logit_gal_tan = case_when(\n",
    "gruppoP_recoded == \"NOI SUD-LIBERTA' ED AUTONOMIA/POPOLARI D'ITALIA DOMANI-PID/MOVIMENTO DI RESPONSABILITA' NAZIONALE-MRN/AZIONE POPOLARE/ALLEANZA DI CENTRO-ADC/INTESA POPOLARE\" & legislature == 16 & year == 2008 ~ -1.890095,\n",
    "TRUE ~ logit_gal_tan),\n",
    "       classic_economic_gal_tan = case_when(\n",
    "gruppoP_recoded == \"NOI SUD-LIBERTA' ED AUTONOMIA/POPOLARI D'ITALIA DOMANI-PID/MOVIMENTO DI RESPONSABILITA' NAZIONALE-MRN/AZIONE POPOLARE/ALLEANZA DI CENTRO-ADC/INTESA POPOLARE\" & legislature == 16 & year == 2008 ~ -2.81,\n",
    "TRUE ~ classic_economic_gal_tan),\n",
    "       ratio_economic_gal_tan = case_when(\n",
    "gruppoP_recoded == \"NOI SUD-LIBERTA' ED AUTONOMIA/POPOLARI D'ITALIA DOMANI-PID/MOVIMENTO DI RESPONSABILITA' NAZIONALE-MRN/AZIONE POPOLARE/ALLEANZA DI CENTRO-ADC/INTESA POPOLARE\" & legislature == 16 & year == 2008 ~ -1,\n",
    "TRUE ~ ratio_economic_gal_tan),\n",
    "       logit_economic_gal_tan = case_when(\n",
    "gruppoP_recoded == \"NOI SUD-LIBERTA' ED AUTONOMIA/POPOLARI D'ITALIA DOMANI-PID/MOVIMENTO DI RESPONSABILITA' NAZIONALE-MRN/AZIONE POPOLARE/ALLEANZA DI CENTRO-ADC/INTESA POPOLARE\" & legislature == 16 & year == 2008 ~ -1.890095,\n",
    "TRUE ~ logit_economic_gal_tan))"
   ]
  },
  {
   "cell_type": "markdown",
   "id": "4768fe46",
   "metadata": {},
   "source": [
    "## ARTICOLO 1-MOVIMENTO DEMOCRATICO E PROGRESSISTA-LIBERI E UGUALI (MDP-LU)"
   ]
  },
  {
   "cell_type": "markdown",
   "id": "f92a1898",
   "metadata": {},
   "source": [
    "It was founded in 2017 by a split from PD and a split from SI-SEL-POS-LU. The null values for this party will be replaced with the mean of those two parties."
   ]
  },
  {
   "cell_type": "code",
   "execution_count": 81,
   "id": "1e717e28",
   "metadata": {},
   "outputs": [
    {
     "data": {
      "text/html": [
       "<table class=\"dataframe\">\n",
       "<caption>A tibble: 3 × 13</caption>\n",
       "<thead>\n",
       "\t<tr><th scope=col>Year</th><th scope=col>left_right</th><th scope=col>ratio_leftright</th><th scope=col>logit_left_right</th><th scope=col>classic_economic</th><th scope=col>ratio_economic</th><th scope=col>logit_economic</th><th scope=col>classic_gal_tan</th><th scope=col>ratio_gal_tan</th><th scope=col>logit_gal_tan</th><th scope=col>classic_economic_gal_tan</th><th scope=col>ratio_economic_gal_tan</th><th scope=col>logit_economic_gal_tan</th></tr>\n",
       "\t<tr><th scope=col>&lt;int&gt;</th><th scope=col>&lt;dbl&gt;</th><th scope=col>&lt;dbl&gt;</th><th scope=col>&lt;dbl&gt;</th><th scope=col>&lt;dbl&gt;</th><th scope=col>&lt;dbl&gt;</th><th scope=col>&lt;dbl&gt;</th><th scope=col>&lt;dbl&gt;</th><th scope=col>&lt;dbl&gt;</th><th scope=col>&lt;dbl&gt;</th><th scope=col>&lt;dbl&gt;</th><th scope=col>&lt;dbl&gt;</th><th scope=col>&lt;dbl&gt;</th></tr>\n",
       "</thead>\n",
       "<tbody>\n",
       "\t<tr><td>2013</td><td>-21.64439</td><td>-1.104227</td><td>-1.104227</td><td>-19.056212</td><td>-0.5358288</td><td>-1.902942</td><td>-1.9383180</td><td>-0.5352941</td><td>-0.82120503</td><td>-1.6093706</td><td>-0.4686275</td><td>-0.55472906</td></tr>\n",
       "\t<tr><td>2014</td><td>-16.20470</td><td>-1.152655</td><td>-1.152655</td><td>-14.590125</td><td>-0.6785539</td><td>-1.869514</td><td>-1.8041480</td><td>-0.7093023</td><td>-0.63946857</td><td>-1.7585276</td><td>-0.6881720</td><td>-0.59988311</td></tr>\n",
       "\t<tr><td>2016</td><td>-14.95555</td><td>-1.415719</td><td>-1.415719</td><td> -8.301418</td><td>-0.5106952</td><td>-1.360002</td><td>-0.1288377</td><td> 0.2500000</td><td>-0.08108178</td><td>-0.1288377</td><td> 0.2500000</td><td>-0.08108178</td></tr>\n",
       "</tbody>\n",
       "</table>\n"
      ],
      "text/latex": [
       "A tibble: 3 × 13\n",
       "\\begin{tabular}{lllllllllllll}\n",
       " Year & left\\_right & ratio\\_leftright & logit\\_left\\_right & classic\\_economic & ratio\\_economic & logit\\_economic & classic\\_gal\\_tan & ratio\\_gal\\_tan & logit\\_gal\\_tan & classic\\_economic\\_gal\\_tan & ratio\\_economic\\_gal\\_tan & logit\\_economic\\_gal\\_tan\\\\\n",
       " <int> & <dbl> & <dbl> & <dbl> & <dbl> & <dbl> & <dbl> & <dbl> & <dbl> & <dbl> & <dbl> & <dbl> & <dbl>\\\\\n",
       "\\hline\n",
       "\t 2013 & -21.64439 & -1.104227 & -1.104227 & -19.056212 & -0.5358288 & -1.902942 & -1.9383180 & -0.5352941 & -0.82120503 & -1.6093706 & -0.4686275 & -0.55472906\\\\\n",
       "\t 2014 & -16.20470 & -1.152655 & -1.152655 & -14.590125 & -0.6785539 & -1.869514 & -1.8041480 & -0.7093023 & -0.63946857 & -1.7585276 & -0.6881720 & -0.59988311\\\\\n",
       "\t 2016 & -14.95555 & -1.415719 & -1.415719 &  -8.301418 & -0.5106952 & -1.360002 & -0.1288377 &  0.2500000 & -0.08108178 & -0.1288377 &  0.2500000 & -0.08108178\\\\\n",
       "\\end{tabular}\n"
      ],
      "text/markdown": [
       "\n",
       "A tibble: 3 × 13\n",
       "\n",
       "| Year &lt;int&gt; | left_right &lt;dbl&gt; | ratio_leftright &lt;dbl&gt; | logit_left_right &lt;dbl&gt; | classic_economic &lt;dbl&gt; | ratio_economic &lt;dbl&gt; | logit_economic &lt;dbl&gt; | classic_gal_tan &lt;dbl&gt; | ratio_gal_tan &lt;dbl&gt; | logit_gal_tan &lt;dbl&gt; | classic_economic_gal_tan &lt;dbl&gt; | ratio_economic_gal_tan &lt;dbl&gt; | logit_economic_gal_tan &lt;dbl&gt; |\n",
       "|---|---|---|---|---|---|---|---|---|---|---|---|---|\n",
       "| 2013 | -21.64439 | -1.104227 | -1.104227 | -19.056212 | -0.5358288 | -1.902942 | -1.9383180 | -0.5352941 | -0.82120503 | -1.6093706 | -0.4686275 | -0.55472906 |\n",
       "| 2014 | -16.20470 | -1.152655 | -1.152655 | -14.590125 | -0.6785539 | -1.869514 | -1.8041480 | -0.7093023 | -0.63946857 | -1.7585276 | -0.6881720 | -0.59988311 |\n",
       "| 2016 | -14.95555 | -1.415719 | -1.415719 |  -8.301418 | -0.5106952 | -1.360002 | -0.1288377 |  0.2500000 | -0.08108178 | -0.1288377 |  0.2500000 | -0.08108178 |\n",
       "\n"
      ],
      "text/plain": [
       "  Year left_right ratio_leftright logit_left_right classic_economic\n",
       "1 2013 -21.64439  -1.104227       -1.104227        -19.056212      \n",
       "2 2014 -16.20470  -1.152655       -1.152655        -14.590125      \n",
       "3 2016 -14.95555  -1.415719       -1.415719         -8.301418      \n",
       "  ratio_economic logit_economic classic_gal_tan ratio_gal_tan logit_gal_tan\n",
       "1 -0.5358288     -1.902942      -1.9383180      -0.5352941    -0.82120503  \n",
       "2 -0.6785539     -1.869514      -1.8041480      -0.7093023    -0.63946857  \n",
       "3 -0.5106952     -1.360002      -0.1288377       0.2500000    -0.08108178  \n",
       "  classic_economic_gal_tan ratio_economic_gal_tan logit_economic_gal_tan\n",
       "1 -1.6093706               -0.4686275             -0.55472906           \n",
       "2 -1.7585276               -0.6881720             -0.59988311           \n",
       "3 -0.1288377                0.2500000             -0.08108178           "
      ]
     },
     "metadata": {},
     "output_type": "display_data"
    }
   ],
   "source": [
    "ilsd %>% \n",
    "filter(Legislature_RECODED == 17 & PARTY %in% c('PD', 'SEL')) %>% \n",
    "group_by(Year) %>% \n",
    "summarize(left_right = mean(left_right),\n",
    "          ratio_leftright = mean(logit_left_right),\n",
    "          logit_left_right = mean(logit_left_right),\n",
    "         classic_economic = mean(classic_economic),\n",
    "         ratio_economic = mean(ratio_economic),\n",
    "         logit_economic = mean(logit_economic),\n",
    "         classic_gal_tan = mean(classic_gal_tan),\n",
    "         ratio_gal_tan = mean(ratio_gal_tan),\n",
    "         logit_gal_tan = mean(logit_gal_tan),\n",
    "         classic_economic_gal_tan = mean(classic_economic_gal_tan),\n",
    "         ratio_economic_gal_tan = mean(ratio_economic_gal_tan),\n",
    "         logit_economic_gal_tan = mean(logit_economic_gal_tan))"
   ]
  },
  {
   "cell_type": "code",
   "execution_count": 82,
   "id": "1fd46dd8",
   "metadata": {
    "scrolled": false
   },
   "outputs": [],
   "source": [
    "joined_texts <- joined_texts %>% \n",
    "mutate(left_right = case_when(\n",
    "gruppoP_recoded == 'MDP-LU' & legislature == 17 & year == 2013 ~ -21.64439,\n",
    "gruppoP_recoded == 'MDP-LU' & legislature == 17 & year == 2014 ~ -16.20470,\n",
    "gruppoP_recoded == 'MDP-LU' & legislature == 17 & year == 2016 ~ -14.95555,\n",
    "TRUE ~ left_right),\n",
    "      ratio_leftright = case_when(\n",
    "gruppoP_recoded == 'MDP-LU' & legislature == 17 & year == 2013 ~ -1.104227,\n",
    "gruppoP_recoded == 'MDP-LU' & legislature == 17 & year == 2014 ~ -1.152655,\n",
    "gruppoP_recoded == 'MDP-LU' & legislature == 17 & year == 2016 ~ -1.415719,\n",
    "TRUE ~ ratio_leftright),\n",
    "      logit_left_right = case_when(\n",
    "gruppoP_recoded == 'MDP-LU' & legislature == 17 & year == 2013 ~ -1.104227,\n",
    "gruppoP_recoded == 'MDP-LU' & legislature == 17 & year == 2014 ~ -1.152655,\n",
    "gruppoP_recoded == 'MDP-LU' & legislature == 17 & year == 2016 ~ -1.415719,\n",
    "TRUE ~ logit_left_right),\n",
    "      classic_economic = case_when(\n",
    "gruppoP_recoded == 'MDP-LU' & legislature == 17 & year == 2013 ~ -19.056212,\n",
    "gruppoP_recoded == 'MDP-LU' & legislature == 17 & year == 2014 ~ -14.590125,\n",
    "gruppoP_recoded == 'MDP-LU' & legislature == 17 & year == 2016 ~ -8.301418,\n",
    "TRUE ~ classic_economic),\n",
    "      ratio_economic = case_when(\n",
    "gruppoP_recoded == 'MDP-LU' & legislature == 17 & year == 2013 ~ -0.5358288,\n",
    "gruppoP_recoded == 'MDP-LU' & legislature == 17 & year == 2014 ~ -0.6785539,\n",
    "gruppoP_recoded == 'MDP-LU' & legislature == 17 & year == 2016 ~ -0.5106952,\n",
    "TRUE ~ ratio_economic),\n",
    "      logit_economic = case_when(\n",
    "gruppoP_recoded == 'MDP-LU' & legislature == 17 & year == 2013 ~ -1.902942,\n",
    "gruppoP_recoded == 'MDP-LU' & legislature == 17 & year == 2014 ~ -1.869514,\n",
    "gruppoP_recoded == 'MDP-LU' & legislature == 17 & year == 2016 ~ -1.360002,\n",
    "TRUE ~ logit_economic),\n",
    "      classic_gal_tan = case_when(\n",
    "gruppoP_recoded == 'MDP-LU' & legislature == 17 & year == 2013 ~ -1.9383180,\n",
    "gruppoP_recoded == 'MDP-LU' & legislature == 17 & year == 2014 ~ -1.8041480,\n",
    "gruppoP_recoded == 'MDP-LU' & legislature == 17 & year == 2016 ~ -0.1288377,\n",
    "TRUE ~ classic_gal_tan),\n",
    "      ratio_gal_tan = case_when(\n",
    "gruppoP_recoded == 'MDP-LU' & legislature == 17 & year == 2013 ~ -0.5352941,\n",
    "gruppoP_recoded == 'MDP-LU' & legislature == 17 & year == 2014 ~ -0.7093023,\n",
    "gruppoP_recoded == 'MDP-LU' & legislature == 17 & year == 2016 ~ 0.2500000,\n",
    "TRUE ~ ratio_gal_tan),\n",
    "      logit_gal_tan = case_when(\n",
    "gruppoP_recoded == 'MDP-LU' & legislature == 17 & year == 2013 ~ -0.82120503,\n",
    "gruppoP_recoded == 'MDP-LU' & legislature == 17 & year == 2014 ~ -0.63946857,\n",
    "gruppoP_recoded == 'MDP-LU' & legislature == 17 & year == 2016 ~ -0.08108178,\n",
    "TRUE ~ logit_gal_tan),\n",
    "       classic_economic_gal_tan = case_when(\n",
    "gruppoP_recoded == 'MDP-LU' & legislature == 17 & year == 2013 ~ -1.6093706,\n",
    "gruppoP_recoded == 'MDP-LU' & legislature == 17 & year == 2014 ~ -1.7585276,\n",
    "gruppoP_recoded == 'MDP-LU' & legislature == 17 & year == 2016 ~ -0.1288377,\n",
    "TRUE ~ classic_economic_gal_tan),\n",
    "       ratio_economic_gal_tan = case_when(\n",
    "gruppoP_recoded == 'MDP-LU' & legislature == 17 & year == 2013 ~ -0.4686275,\n",
    "gruppoP_recoded == 'MDP-LU' & legislature == 17 & year == 2014 ~ -0.6881720,\n",
    "gruppoP_recoded == 'MDP-LU' & legislature == 17 & year == 2016 ~ 0.2500000,\n",
    "TRUE ~ ratio_economic_gal_tan),\n",
    "       logit_economic_gal_tan = case_when(\n",
    "gruppoP_recoded == 'MDP-LU' & legislature == 17 & year == 2013 ~ -0.55472906,\n",
    "gruppoP_recoded == 'MDP-LU' & legislature == 17 & year == 2014 ~ -0.59988311,\n",
    "gruppoP_recoded == 'MDP-LU' & legislature == 17 & year == 2016 ~ -0.08108178,\n",
    "TRUE ~ logit_economic_gal_tan)) "
   ]
  },
  {
   "cell_type": "markdown",
   "id": "633fb300",
   "metadata": {},
   "source": [
    "## Civici e Innovatori"
   ]
  },
  {
   "cell_type": "markdown",
   "id": "e3d1c4b9",
   "metadata": {},
   "source": [
    "It was originally named \"Scelta Civica per l'Italia\". In 2016 it changed its name to \"Civici e Innovatori\""
   ]
  },
  {
   "cell_type": "code",
   "execution_count": 83,
   "id": "0ebe32d9",
   "metadata": {},
   "outputs": [
    {
     "data": {
      "text/html": [
       "<table class=\"dataframe\">\n",
       "<caption>A grouped_df: 3 × 15</caption>\n",
       "<thead>\n",
       "\t<tr><th scope=col>Legislature_RECODED</th><th scope=col>PARTY_RECODED</th><th scope=col>Year</th><th scope=col>left_right</th><th scope=col>ratio_leftright</th><th scope=col>logit_left_right</th><th scope=col>classic_economic</th><th scope=col>ratio_economic</th><th scope=col>logit_economic</th><th scope=col>classic_gal_tan</th><th scope=col>ratio_gal_tan</th><th scope=col>logit_gal_tan</th><th scope=col>classic_economic_gal_tan</th><th scope=col>ratio_economic_gal_tan</th><th scope=col>logit_economic_gal_tan</th></tr>\n",
       "\t<tr><th scope=col>&lt;dbl&gt;</th><th scope=col>&lt;chr&gt;</th><th scope=col>&lt;int&gt;</th><th scope=col>&lt;dbl&gt;</th><th scope=col>&lt;dbl&gt;</th><th scope=col>&lt;dbl&gt;</th><th scope=col>&lt;dbl&gt;</th><th scope=col>&lt;dbl&gt;</th><th scope=col>&lt;dbl&gt;</th><th scope=col>&lt;dbl&gt;</th><th scope=col>&lt;dbl&gt;</th><th scope=col>&lt;dbl&gt;</th><th scope=col>&lt;dbl&gt;</th><th scope=col>&lt;dbl&gt;</th><th scope=col>&lt;dbl&gt;</th></tr>\n",
       "</thead>\n",
       "<tbody>\n",
       "\t<tr><td>17</td><td>NCI-SCPI-MAIE</td><td>2013</td><td>25.336577</td><td>0.61775710</td><td>1.5171773</td><td> 6.233084</td><td>0.3267974</td><td>0.7681459</td><td>-5.233575</td><td>-0.9047619</td><td>-1.899488</td><td>-5.233575</td><td>-0.9047619</td><td>-1.899488</td></tr>\n",
       "\t<tr><td>17</td><td>NCI-SCPI-MAIE</td><td>2014</td><td>25.271738</td><td>0.68888891</td><td>1.6236965</td><td>21.195652</td><td>0.7222222</td><td>1.7284342</td><td>-2.445652</td><td>-1.0000000</td><td>-1.773477</td><td>-1.902174</td><td>-0.6363637</td><td>-1.037771</td></tr>\n",
       "\t<tr><td>17</td><td>NCI-SCPI-MAIE</td><td>2016</td><td> 4.242424</td><td>0.09589041</td><td>0.1880945</td><td> 6.060606</td><td>0.2272727</td><td>0.4453329</td><td> 4.848485</td><td> 0.8000000</td><td> 1.683350</td><td> 4.848485</td><td> 0.8000000</td><td> 1.683350</td></tr>\n",
       "</tbody>\n",
       "</table>\n"
      ],
      "text/latex": [
       "A grouped\\_df: 3 × 15\n",
       "\\begin{tabular}{lllllllllllllll}\n",
       " Legislature\\_RECODED & PARTY\\_RECODED & Year & left\\_right & ratio\\_leftright & logit\\_left\\_right & classic\\_economic & ratio\\_economic & logit\\_economic & classic\\_gal\\_tan & ratio\\_gal\\_tan & logit\\_gal\\_tan & classic\\_economic\\_gal\\_tan & ratio\\_economic\\_gal\\_tan & logit\\_economic\\_gal\\_tan\\\\\n",
       " <dbl> & <chr> & <int> & <dbl> & <dbl> & <dbl> & <dbl> & <dbl> & <dbl> & <dbl> & <dbl> & <dbl> & <dbl> & <dbl> & <dbl>\\\\\n",
       "\\hline\n",
       "\t 17 & NCI-SCPI-MAIE & 2013 & 25.336577 & 0.61775710 & 1.5171773 &  6.233084 & 0.3267974 & 0.7681459 & -5.233575 & -0.9047619 & -1.899488 & -5.233575 & -0.9047619 & -1.899488\\\\\n",
       "\t 17 & NCI-SCPI-MAIE & 2014 & 25.271738 & 0.68888891 & 1.6236965 & 21.195652 & 0.7222222 & 1.7284342 & -2.445652 & -1.0000000 & -1.773477 & -1.902174 & -0.6363637 & -1.037771\\\\\n",
       "\t 17 & NCI-SCPI-MAIE & 2016 &  4.242424 & 0.09589041 & 0.1880945 &  6.060606 & 0.2272727 & 0.4453329 &  4.848485 &  0.8000000 &  1.683350 &  4.848485 &  0.8000000 &  1.683350\\\\\n",
       "\\end{tabular}\n"
      ],
      "text/markdown": [
       "\n",
       "A grouped_df: 3 × 15\n",
       "\n",
       "| Legislature_RECODED &lt;dbl&gt; | PARTY_RECODED &lt;chr&gt; | Year &lt;int&gt; | left_right &lt;dbl&gt; | ratio_leftright &lt;dbl&gt; | logit_left_right &lt;dbl&gt; | classic_economic &lt;dbl&gt; | ratio_economic &lt;dbl&gt; | logit_economic &lt;dbl&gt; | classic_gal_tan &lt;dbl&gt; | ratio_gal_tan &lt;dbl&gt; | logit_gal_tan &lt;dbl&gt; | classic_economic_gal_tan &lt;dbl&gt; | ratio_economic_gal_tan &lt;dbl&gt; | logit_economic_gal_tan &lt;dbl&gt; |\n",
       "|---|---|---|---|---|---|---|---|---|---|---|---|---|---|---|\n",
       "| 17 | NCI-SCPI-MAIE | 2013 | 25.336577 | 0.61775710 | 1.5171773 |  6.233084 | 0.3267974 | 0.7681459 | -5.233575 | -0.9047619 | -1.899488 | -5.233575 | -0.9047619 | -1.899488 |\n",
       "| 17 | NCI-SCPI-MAIE | 2014 | 25.271738 | 0.68888891 | 1.6236965 | 21.195652 | 0.7222222 | 1.7284342 | -2.445652 | -1.0000000 | -1.773477 | -1.902174 | -0.6363637 | -1.037771 |\n",
       "| 17 | NCI-SCPI-MAIE | 2016 |  4.242424 | 0.09589041 | 0.1880945 |  6.060606 | 0.2272727 | 0.4453329 |  4.848485 |  0.8000000 |  1.683350 |  4.848485 |  0.8000000 |  1.683350 |\n",
       "\n"
      ],
      "text/plain": [
       "  Legislature_RECODED PARTY_RECODED Year left_right ratio_leftright\n",
       "1 17                  NCI-SCPI-MAIE 2013 25.336577  0.61775710     \n",
       "2 17                  NCI-SCPI-MAIE 2014 25.271738  0.68888891     \n",
       "3 17                  NCI-SCPI-MAIE 2016  4.242424  0.09589041     \n",
       "  logit_left_right classic_economic ratio_economic logit_economic\n",
       "1 1.5171773         6.233084        0.3267974      0.7681459     \n",
       "2 1.6236965        21.195652        0.7222222      1.7284342     \n",
       "3 0.1880945         6.060606        0.2272727      0.4453329     \n",
       "  classic_gal_tan ratio_gal_tan logit_gal_tan classic_economic_gal_tan\n",
       "1 -5.233575       -0.9047619    -1.899488     -5.233575               \n",
       "2 -2.445652       -1.0000000    -1.773477     -1.902174               \n",
       "3  4.848485        0.8000000     1.683350      4.848485               \n",
       "  ratio_economic_gal_tan logit_economic_gal_tan\n",
       "1 -0.9047619             -1.899488             \n",
       "2 -0.6363637             -1.037771             \n",
       "3  0.8000000              1.683350             "
      ]
     },
     "metadata": {},
     "output_type": "display_data"
    }
   ],
   "source": [
    "ilsd %>% \n",
    "filter(Legislature_RECODED == 17 & PARTY == \"SC\") %>% \n",
    "select(Legislature_RECODED, PARTY_RECODED, Year, left_right, ratio_leftright, logit_left_right, classic_economic, \n",
    "       ratio_economic, logit_economic, classic_gal_tan, ratio_gal_tan, logit_gal_tan, classic_economic_gal_tan, \n",
    "       ratio_economic_gal_tan, logit_economic_gal_tan)\n"
   ]
  },
  {
   "cell_type": "code",
   "execution_count": 84,
   "id": "a506cb3c",
   "metadata": {
    "scrolled": false
   },
   "outputs": [],
   "source": [
    "joined_texts <- joined_texts %>% \n",
    "mutate(left_right = case_when(\n",
    "gruppoP_recoded == 'CI' & legislature == 17 & year == 2013 ~ 25.336577,\n",
    "gruppoP_recoded == 'CI' & legislature == 17 & year == 2014 ~ 25.271738,\n",
    "gruppoP_recoded == 'CI' & legislature == 17 & year == 2016 ~ 4.242424,\n",
    "TRUE ~ left_right),\n",
    "      ratio_leftright = case_when(\n",
    "gruppoP_recoded == 'CI' & legislature == 17 & year == 2013 ~ 0.61775710,\n",
    "gruppoP_recoded == 'CI' & legislature == 17 & year == 2014 ~ 0.68888891,\n",
    "gruppoP_recoded == 'CI' & legislature == 17 & year == 2016 ~ 0.09589041,\n",
    "TRUE ~ ratio_leftright),\n",
    "      logit_left_right = case_when(\n",
    "gruppoP_recoded == 'CI' & legislature == 17 & year == 2013 ~ 1.5171773,\n",
    "gruppoP_recoded == 'CI' & legislature == 17 & year == 2014 ~ 1.6236965,\n",
    "gruppoP_recoded == 'CI' & legislature == 17 & year == 2016 ~ 0.1880945,\n",
    "TRUE ~ logit_left_right),\n",
    "      classic_economic = case_when(\n",
    "gruppoP_recoded == 'CI' & legislature == 17 & year == 2013 ~ 6.233084,\n",
    "gruppoP_recoded == 'CI' & legislature == 17 & year == 2014 ~ 21.195652,\n",
    "gruppoP_recoded == 'CI' & legislature == 17 & year == 2016 ~ 6.060606,\n",
    "TRUE ~ classic_economic),\n",
    "      ratio_economic = case_when(\n",
    "gruppoP_recoded == 'CI' & legislature == 17 & year == 2013 ~ 0.3267974,\n",
    "gruppoP_recoded == 'CI' & legislature == 17 & year == 2014 ~ 0.7222222,\n",
    "gruppoP_recoded == 'CI' & legislature == 17 & year == 2016 ~ 0.2272727,\n",
    "TRUE ~ ratio_economic),\n",
    "      logit_economic = case_when(\n",
    "gruppoP_recoded == 'CI' & legislature == 17 & year == 2013 ~ 0.7681459,\n",
    "gruppoP_recoded == 'CI' & legislature == 17 & year == 2014 ~ 1.7284342,\n",
    "gruppoP_recoded == 'CI' & legislature == 17 & year == 2016 ~ 0.4453329,\n",
    "TRUE ~ logit_economic),\n",
    "      classic_gal_tan = case_when(\n",
    "gruppoP_recoded == 'CI' & legislature == 17 & year == 2013 ~ -5.233575,\n",
    "gruppoP_recoded == 'CI' & legislature == 17 & year == 2014 ~ -2.445652,\n",
    "gruppoP_recoded == 'CI' & legislature == 17 & year == 2016 ~ 4.848485,\n",
    "TRUE ~ classic_gal_tan),\n",
    "      ratio_gal_tan = case_when(\n",
    "gruppoP_recoded == 'CI' & legislature == 17 & year == 2013 ~ -0.9047619,\n",
    "gruppoP_recoded == 'CI' & legislature == 17 & year == 2014 ~ -1.0000000,\n",
    "gruppoP_recoded == 'CI' & legislature == 17 & year == 2016 ~ 0.8000000,\n",
    "TRUE ~ ratio_gal_tan),\n",
    "      logit_gal_tan = case_when(\n",
    "gruppoP_recoded == 'CI' & legislature == 17 & year == 2013 ~ -1.899488,\n",
    "gruppoP_recoded == 'CI' & legislature == 17 & year == 2014 ~ -1.773477,\n",
    "gruppoP_recoded == 'CI' & legislature == 17 & year == 2016 ~ 1.683350,\n",
    "TRUE ~ logit_gal_tan),\n",
    "       classic_economic_gal_tan = case_when(\n",
    "gruppoP_recoded == 'CI' & legislature == 17 & year == 2013 ~ -5.233575,\n",
    "gruppoP_recoded == 'CI' & legislature == 17 & year == 2014 ~ -1.902174,\n",
    "gruppoP_recoded == 'CI' & legislature == 17 & year == 2016 ~ 4.848485,\n",
    "TRUE ~ classic_economic_gal_tan),\n",
    "       ratio_economic_gal_tan = case_when(\n",
    "gruppoP_recoded == 'CI' & legislature == 17 & year == 2013 ~ -0.9047619,\n",
    "gruppoP_recoded == 'CI' & legislature == 17 & year == 2014 ~ -0.6363637,\n",
    "gruppoP_recoded == 'CI' & legislature == 17 & year == 2016 ~ 0.8000000,\n",
    "TRUE ~ ratio_economic_gal_tan),\n",
    "       logit_economic_gal_tan = case_when(\n",
    "gruppoP_recoded == 'CI' & legislature == 17 & year == 2013 ~ -1.899488,\n",
    "gruppoP_recoded == 'CI' & legislature == 17 & year == 2014 ~ -1.037771,\n",
    "gruppoP_recoded == 'CI' & legislature == 17 & year == 2016 ~ 1.683350,\n",
    "TRUE ~ logit_economic_gal_tan)) "
   ]
  },
  {
   "cell_type": "markdown",
   "id": "969a3ba4",
   "metadata": {},
   "source": [
    "## Italia Viva (IV)"
   ]
  },
  {
   "cell_type": "code",
   "execution_count": 90,
   "id": "da8408f3",
   "metadata": {},
   "outputs": [
    {
     "data": {
      "text/html": [
       "<table class=\"dataframe\">\n",
       "<caption>A grouped_df: 1 × 15</caption>\n",
       "<thead>\n",
       "\t<tr><th scope=col>Legislature_RECODED</th><th scope=col>PARTY_RECODED</th><th scope=col>Year</th><th scope=col>left_right</th><th scope=col>ratio_leftright</th><th scope=col>logit_left_right</th><th scope=col>classic_economic</th><th scope=col>ratio_economic</th><th scope=col>logit_economic</th><th scope=col>classic_gal_tan</th><th scope=col>ratio_gal_tan</th><th scope=col>logit_gal_tan</th><th scope=col>classic_economic_gal_tan</th><th scope=col>ratio_economic_gal_tan</th><th scope=col>logit_economic_gal_tan</th></tr>\n",
       "\t<tr><th scope=col>&lt;dbl&gt;</th><th scope=col>&lt;chr&gt;</th><th scope=col>&lt;int&gt;</th><th scope=col>&lt;dbl&gt;</th><th scope=col>&lt;dbl&gt;</th><th scope=col>&lt;dbl&gt;</th><th scope=col>&lt;dbl&gt;</th><th scope=col>&lt;dbl&gt;</th><th scope=col>&lt;dbl&gt;</th><th scope=col>&lt;dbl&gt;</th><th scope=col>&lt;dbl&gt;</th><th scope=col>&lt;dbl&gt;</th><th scope=col>&lt;dbl&gt;</th><th scope=col>&lt;dbl&gt;</th><th scope=col>&lt;dbl&gt;</th></tr>\n",
       "</thead>\n",
       "<tbody>\n",
       "\t<tr><td>18</td><td>PD-ULIVO-DS</td><td>2018</td><td>-9.815951</td><td>-0.2580645</td><td>-0.5139281</td><td>1.840491</td><td>0.2</td><td>0.3647858</td><td>-7.361963</td><td>-0.8571429</td><td>-2.029669</td><td>-7.361963</td><td>-0.8571429</td><td>-2.029669</td></tr>\n",
       "</tbody>\n",
       "</table>\n"
      ],
      "text/latex": [
       "A grouped\\_df: 1 × 15\n",
       "\\begin{tabular}{lllllllllllllll}\n",
       " Legislature\\_RECODED & PARTY\\_RECODED & Year & left\\_right & ratio\\_leftright & logit\\_left\\_right & classic\\_economic & ratio\\_economic & logit\\_economic & classic\\_gal\\_tan & ratio\\_gal\\_tan & logit\\_gal\\_tan & classic\\_economic\\_gal\\_tan & ratio\\_economic\\_gal\\_tan & logit\\_economic\\_gal\\_tan\\\\\n",
       " <dbl> & <chr> & <int> & <dbl> & <dbl> & <dbl> & <dbl> & <dbl> & <dbl> & <dbl> & <dbl> & <dbl> & <dbl> & <dbl> & <dbl>\\\\\n",
       "\\hline\n",
       "\t 18 & PD-ULIVO-DS & 2018 & -9.815951 & -0.2580645 & -0.5139281 & 1.840491 & 0.2 & 0.3647858 & -7.361963 & -0.8571429 & -2.029669 & -7.361963 & -0.8571429 & -2.029669\\\\\n",
       "\\end{tabular}\n"
      ],
      "text/markdown": [
       "\n",
       "A grouped_df: 1 × 15\n",
       "\n",
       "| Legislature_RECODED &lt;dbl&gt; | PARTY_RECODED &lt;chr&gt; | Year &lt;int&gt; | left_right &lt;dbl&gt; | ratio_leftright &lt;dbl&gt; | logit_left_right &lt;dbl&gt; | classic_economic &lt;dbl&gt; | ratio_economic &lt;dbl&gt; | logit_economic &lt;dbl&gt; | classic_gal_tan &lt;dbl&gt; | ratio_gal_tan &lt;dbl&gt; | logit_gal_tan &lt;dbl&gt; | classic_economic_gal_tan &lt;dbl&gt; | ratio_economic_gal_tan &lt;dbl&gt; | logit_economic_gal_tan &lt;dbl&gt; |\n",
       "|---|---|---|---|---|---|---|---|---|---|---|---|---|---|---|\n",
       "| 18 | PD-ULIVO-DS | 2018 | -9.815951 | -0.2580645 | -0.5139281 | 1.840491 | 0.2 | 0.3647858 | -7.361963 | -0.8571429 | -2.029669 | -7.361963 | -0.8571429 | -2.029669 |\n",
       "\n"
      ],
      "text/plain": [
       "  Legislature_RECODED PARTY_RECODED Year left_right ratio_leftright\n",
       "1 18                  PD-ULIVO-DS   2018 -9.815951  -0.2580645     \n",
       "  logit_left_right classic_economic ratio_economic logit_economic\n",
       "1 -0.5139281       1.840491         0.2            0.3647858     \n",
       "  classic_gal_tan ratio_gal_tan logit_gal_tan classic_economic_gal_tan\n",
       "1 -7.361963       -0.8571429    -2.029669     -7.361963               \n",
       "  ratio_economic_gal_tan logit_economic_gal_tan\n",
       "1 -0.8571429             -2.029669             "
      ]
     },
     "metadata": {},
     "output_type": "display_data"
    }
   ],
   "source": [
    "ilsd %>% \n",
    "filter(Legislature_RECODED == 18 & PARTY == \"PD\") %>% \n",
    "select(Legislature_RECODED, PARTY_RECODED, Year, left_right, ratio_leftright, logit_left_right, classic_economic, \n",
    "       ratio_economic, logit_economic, classic_gal_tan, ratio_gal_tan, logit_gal_tan, classic_economic_gal_tan, \n",
    "       ratio_economic_gal_tan, logit_economic_gal_tan)"
   ]
  },
  {
   "cell_type": "code",
   "execution_count": 91,
   "id": "afab64af",
   "metadata": {},
   "outputs": [],
   "source": [
    "joined_texts <- joined_texts %>% \n",
    "mutate(left_right = case_when(\n",
    "gruppoP_recoded == 'IV' & legislature == 18 & year == 2018 ~ -9.815951,\n",
    "TRUE ~ left_right),\n",
    "      ratio_leftright = case_when(\n",
    "gruppoP_recoded == 'IV' & legislature == 18 & year == 2018 ~ -0.2580645,\n",
    "TRUE ~ ratio_leftright),\n",
    "       logit_left_right = case_when(\n",
    "gruppoP_recoded == 'IV' & legislature == 18 & year == 2018 ~ -0.5139281,\n",
    "TRUE ~ logit_left_right),\n",
    "       classic_economic = case_when(\n",
    "gruppoP_recoded == 'IV' & legislature == 18 & year == 2018 ~ 1.840491,\n",
    "TRUE ~ classic_economic),\n",
    "       ratio_economic = case_when(\n",
    "gruppoP_recoded == 'IV' & legislature == 18 & year == 2018 ~ 0.2,\n",
    "TRUE ~ ratio_economic),\n",
    "       logit_economic = case_when(\n",
    "gruppoP_recoded == 'IV' & legislature == 18 & year == 2018 ~ 0.3647858, \n",
    "TRUE ~ logit_economic),\n",
    "       classic_gal_tan = case_when(\n",
    "gruppoP_recoded == 'IV' & legislature == 18 & year == 2018 ~ -7.361963,\n",
    "TRUE ~ classic_gal_tan),\n",
    "       ratio_gal_tan = case_when(\n",
    "gruppoP_recoded == 'IV' & legislature == 18 & year == 2018 ~ -0.8571429,\n",
    "TRUE ~ ratio_gal_tan),\n",
    "       logit_gal_tan = case_when(\n",
    "gruppoP_recoded == 'IV' & legislature == 18 & year == 2018 ~ -2.029669,\n",
    "TRUE ~ logit_gal_tan),\n",
    "       classic_economic_gal_tan = case_when(\n",
    "gruppoP_recoded == 'IV' & legislature == 18 & year == 2018 ~ -7.361963,\n",
    "TRUE ~ classic_economic_gal_tan),\n",
    "       ratio_economic_gal_tan = case_when(\n",
    "gruppoP_recoded == 'IV' & legislature == 18 & year == 2018 ~ -0.8571429,\n",
    "TRUE ~ ratio_economic_gal_tan),\n",
    "       logit_economic_gal_tan = case_when(\n",
    "gruppoP_recoded == 'IV' & legislature == 18 & year == 2018 ~ -2.029669,\n",
    "TRUE ~ logit_economic_gal_tan))"
   ]
  },
  {
   "cell_type": "markdown",
   "id": "bbb17f19",
   "metadata": {},
   "source": [
    "## Filling down the remaining null values"
   ]
  },
  {
   "cell_type": "markdown",
   "id": "f7765cc3",
   "metadata": {},
   "source": [
    "Filling down the remaining values"
   ]
  },
  {
   "cell_type": "code",
   "execution_count": 97,
   "id": "45424995",
   "metadata": {},
   "outputs": [],
   "source": [
    "joined_texts <- joined_texts %>% \n",
    "arrange(year) %>% \n",
    "group_by(gruppoP_recoded, legislature) %>% \n",
    "fill_(fill_cols = c(\"left_right\", \"ratio_leftright\", \"logit_left_right\", \"classic_economic\", \"ratio_economic\", \n",
    "                    \"logit_economic\", \"classic_gal_tan\", \"ratio_gal_tan\", \"logit_gal_tan\", \"classic_economic_gal_tan\", \n",
    "                    \"ratio_economic_gal_tan\", \"logit_economic_gal_tan\"),\n",
    "       .direction = \"down\")"
   ]
  },
  {
   "cell_type": "markdown",
   "id": "0e33c31a",
   "metadata": {},
   "source": [
    "## Evaluating the final results"
   ]
  },
  {
   "cell_type": "markdown",
   "id": "35004a3f",
   "metadata": {},
   "source": [
    "The percentage of null values in now a little less than 7%"
   ]
  },
  {
   "cell_type": "code",
   "execution_count": 98,
   "id": "c7d2e77b",
   "metadata": {},
   "outputs": [
    {
     "data": {
      "text/html": [
       "<table class=\"dataframe\">\n",
       "<caption>A tibble: 1 × 13</caption>\n",
       "<thead>\n",
       "\t<tr><th scope=col>left_right</th><th scope=col>ratio_leftright</th><th scope=col>logit_left_right</th><th scope=col>classic_economic</th><th scope=col>ratio_economic</th><th scope=col>logit_economic</th><th scope=col>classic_gal_tan</th><th scope=col>ratio_gal_tan</th><th scope=col>logit_gal_tan</th><th scope=col>classic_economic_gal_tan</th><th scope=col>ratio_economic_gal_tan</th><th scope=col>logit_economic_gal_tan</th><th scope=col>gal_tan_controllo</th></tr>\n",
       "\t<tr><th scope=col>&lt;dbl&gt;</th><th scope=col>&lt;dbl&gt;</th><th scope=col>&lt;dbl&gt;</th><th scope=col>&lt;dbl&gt;</th><th scope=col>&lt;dbl&gt;</th><th scope=col>&lt;dbl&gt;</th><th scope=col>&lt;dbl&gt;</th><th scope=col>&lt;dbl&gt;</th><th scope=col>&lt;dbl&gt;</th><th scope=col>&lt;dbl&gt;</th><th scope=col>&lt;dbl&gt;</th><th scope=col>&lt;dbl&gt;</th><th scope=col>&lt;dbl&gt;</th></tr>\n",
       "</thead>\n",
       "<tbody>\n",
       "\t<tr><td>0.06902958</td><td>0.06902958</td><td>0.06902958</td><td>0.06902958</td><td>0.07514379</td><td>0.06902958</td><td>0.06902958</td><td>0.1869164</td><td>0.06902958</td><td>0.06902958</td><td>0.1641496</td><td>0.06902958</td><td>0.1062707</td></tr>\n",
       "</tbody>\n",
       "</table>\n"
      ],
      "text/latex": [
       "A tibble: 1 × 13\n",
       "\\begin{tabular}{lllllllllllll}\n",
       " left\\_right & ratio\\_leftright & logit\\_left\\_right & classic\\_economic & ratio\\_economic & logit\\_economic & classic\\_gal\\_tan & ratio\\_gal\\_tan & logit\\_gal\\_tan & classic\\_economic\\_gal\\_tan & ratio\\_economic\\_gal\\_tan & logit\\_economic\\_gal\\_tan & gal\\_tan\\_controllo\\\\\n",
       " <dbl> & <dbl> & <dbl> & <dbl> & <dbl> & <dbl> & <dbl> & <dbl> & <dbl> & <dbl> & <dbl> & <dbl> & <dbl>\\\\\n",
       "\\hline\n",
       "\t 0.06902958 & 0.06902958 & 0.06902958 & 0.06902958 & 0.07514379 & 0.06902958 & 0.06902958 & 0.1869164 & 0.06902958 & 0.06902958 & 0.1641496 & 0.06902958 & 0.1062707\\\\\n",
       "\\end{tabular}\n"
      ],
      "text/markdown": [
       "\n",
       "A tibble: 1 × 13\n",
       "\n",
       "| left_right &lt;dbl&gt; | ratio_leftright &lt;dbl&gt; | logit_left_right &lt;dbl&gt; | classic_economic &lt;dbl&gt; | ratio_economic &lt;dbl&gt; | logit_economic &lt;dbl&gt; | classic_gal_tan &lt;dbl&gt; | ratio_gal_tan &lt;dbl&gt; | logit_gal_tan &lt;dbl&gt; | classic_economic_gal_tan &lt;dbl&gt; | ratio_economic_gal_tan &lt;dbl&gt; | logit_economic_gal_tan &lt;dbl&gt; | gal_tan_controllo &lt;dbl&gt; |\n",
       "|---|---|---|---|---|---|---|---|---|---|---|---|---|\n",
       "| 0.06902958 | 0.06902958 | 0.06902958 | 0.06902958 | 0.07514379 | 0.06902958 | 0.06902958 | 0.1869164 | 0.06902958 | 0.06902958 | 0.1641496 | 0.06902958 | 0.1062707 |\n",
       "\n"
      ],
      "text/plain": [
       "  left_right ratio_leftright logit_left_right classic_economic ratio_economic\n",
       "1 0.06902958 0.06902958      0.06902958       0.06902958       0.07514379    \n",
       "  logit_economic classic_gal_tan ratio_gal_tan logit_gal_tan\n",
       "1 0.06902958     0.06902958      0.1869164     0.06902958   \n",
       "  classic_economic_gal_tan ratio_economic_gal_tan logit_economic_gal_tan\n",
       "1 0.06902958               0.1641496              0.06902958            \n",
       "  gal_tan_controllo\n",
       "1 0.1062707        "
      ]
     },
     "metadata": {},
     "output_type": "display_data"
    }
   ],
   "source": [
    "map_dfr(joined_texts, ~ sum(is.na(.)) / length(.)) %>% \n",
    "select(left_right, ratio_leftright, logit_left_right, classic_economic, ratio_economic, logit_economic, classic_gal_tan,\n",
    "      ratio_gal_tan, logit_gal_tan, classic_economic_gal_tan, ratio_economic_gal_tan, logit_economic_gal_tan, gal_tan_controllo)"
   ]
  },
  {
   "cell_type": "markdown",
   "id": "0e8d7ea9",
   "metadata": {},
   "source": [
    "The remaining null values all belong to the various mixed groups"
   ]
  },
  {
   "cell_type": "code",
   "execution_count": 99,
   "id": "61d5f34c",
   "metadata": {},
   "outputs": [
    {
     "data": {
      "text/html": [
       "<table class=\"dataframe\">\n",
       "<caption>A grouped_df: 18 × 2</caption>\n",
       "<thead>\n",
       "\t<tr><th scope=col>legislature</th><th scope=col>gruppoP_recoded</th></tr>\n",
       "\t<tr><th scope=col>&lt;dbl&gt;</th><th scope=col>&lt;chr&gt;</th></tr>\n",
       "</thead>\n",
       "<tbody>\n",
       "\t<tr><td> 1</td><td>MISTO</td></tr>\n",
       "\t<tr><td> 2</td><td>MISTO</td></tr>\n",
       "\t<tr><td> 3</td><td>MISTO</td></tr>\n",
       "\t<tr><td> 4</td><td>MISTO</td></tr>\n",
       "\t<tr><td> 5</td><td>MISTO</td></tr>\n",
       "\t<tr><td> 6</td><td>MISTO</td></tr>\n",
       "\t<tr><td> 7</td><td>MISTO</td></tr>\n",
       "\t<tr><td> 8</td><td>MISTO</td></tr>\n",
       "\t<tr><td> 9</td><td>MISTO</td></tr>\n",
       "\t<tr><td>10</td><td>MISTO</td></tr>\n",
       "\t<tr><td>11</td><td>MISTO</td></tr>\n",
       "\t<tr><td>12</td><td>MISTO</td></tr>\n",
       "\t<tr><td>13</td><td>MISTO</td></tr>\n",
       "\t<tr><td>14</td><td>MISTO</td></tr>\n",
       "\t<tr><td>15</td><td>MISTO</td></tr>\n",
       "\t<tr><td>16</td><td>MISTO</td></tr>\n",
       "\t<tr><td>17</td><td>MISTO</td></tr>\n",
       "\t<tr><td>18</td><td>MISTO</td></tr>\n",
       "</tbody>\n",
       "</table>\n"
      ],
      "text/latex": [
       "A grouped\\_df: 18 × 2\n",
       "\\begin{tabular}{ll}\n",
       " legislature & gruppoP\\_recoded\\\\\n",
       " <dbl> & <chr>\\\\\n",
       "\\hline\n",
       "\t  1 & MISTO\\\\\n",
       "\t  2 & MISTO\\\\\n",
       "\t  3 & MISTO\\\\\n",
       "\t  4 & MISTO\\\\\n",
       "\t  5 & MISTO\\\\\n",
       "\t  6 & MISTO\\\\\n",
       "\t  7 & MISTO\\\\\n",
       "\t  8 & MISTO\\\\\n",
       "\t  9 & MISTO\\\\\n",
       "\t 10 & MISTO\\\\\n",
       "\t 11 & MISTO\\\\\n",
       "\t 12 & MISTO\\\\\n",
       "\t 13 & MISTO\\\\\n",
       "\t 14 & MISTO\\\\\n",
       "\t 15 & MISTO\\\\\n",
       "\t 16 & MISTO\\\\\n",
       "\t 17 & MISTO\\\\\n",
       "\t 18 & MISTO\\\\\n",
       "\\end{tabular}\n"
      ],
      "text/markdown": [
       "\n",
       "A grouped_df: 18 × 2\n",
       "\n",
       "| legislature &lt;dbl&gt; | gruppoP_recoded &lt;chr&gt; |\n",
       "|---|---|\n",
       "|  1 | MISTO |\n",
       "|  2 | MISTO |\n",
       "|  3 | MISTO |\n",
       "|  4 | MISTO |\n",
       "|  5 | MISTO |\n",
       "|  6 | MISTO |\n",
       "|  7 | MISTO |\n",
       "|  8 | MISTO |\n",
       "|  9 | MISTO |\n",
       "| 10 | MISTO |\n",
       "| 11 | MISTO |\n",
       "| 12 | MISTO |\n",
       "| 13 | MISTO |\n",
       "| 14 | MISTO |\n",
       "| 15 | MISTO |\n",
       "| 16 | MISTO |\n",
       "| 17 | MISTO |\n",
       "| 18 | MISTO |\n",
       "\n"
      ],
      "text/plain": [
       "   legislature gruppoP_recoded\n",
       "1   1          MISTO          \n",
       "2   2          MISTO          \n",
       "3   3          MISTO          \n",
       "4   4          MISTO          \n",
       "5   5          MISTO          \n",
       "6   6          MISTO          \n",
       "7   7          MISTO          \n",
       "8   8          MISTO          \n",
       "9   9          MISTO          \n",
       "10 10          MISTO          \n",
       "11 11          MISTO          \n",
       "12 12          MISTO          \n",
       "13 13          MISTO          \n",
       "14 14          MISTO          \n",
       "15 15          MISTO          \n",
       "16 16          MISTO          \n",
       "17 17          MISTO          \n",
       "18 18          MISTO          "
      ]
     },
     "metadata": {},
     "output_type": "display_data"
    }
   ],
   "source": [
    "joined_texts %>% \n",
    "filter(is.na(left_right)) %>% \n",
    "distinct(legislature)"
   ]
  },
  {
   "cell_type": "markdown",
   "id": "9a89d0ac",
   "metadata": {},
   "source": [
    "Saving the joined and transformed dataset as an .rds file"
   ]
  },
  {
   "cell_type": "code",
   "execution_count": null,
   "id": "13c9104e",
   "metadata": {},
   "outputs": [],
   "source": [
    "saveRDS(joined_texts, file = \"data/joined_texts.rds\")"
   ]
  }
 ],
 "metadata": {
  "kernelspec": {
   "display_name": "R",
   "language": "R",
   "name": "ir"
  },
  "language_info": {
   "codemirror_mode": "r",
   "file_extension": ".r",
   "mimetype": "text/x-r-source",
   "name": "R",
   "pygments_lexer": "r",
   "version": "4.1.0"
  },
  "toc": {
   "base_numbering": 1,
   "nav_menu": {},
   "number_sections": true,
   "sideBar": true,
   "skip_h1_title": false,
   "title_cell": "Table of Contents",
   "title_sidebar": "Contents",
   "toc_cell": false,
   "toc_position": {
    "height": "calc(100% - 180px)",
    "left": "10px",
    "top": "150px",
    "width": "303.828px"
   },
   "toc_section_display": true,
   "toc_window_display": true
  }
 },
 "nbformat": 4,
 "nbformat_minor": 5
}
